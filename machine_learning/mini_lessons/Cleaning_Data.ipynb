{
  "nbformat": 4,
  "nbformat_minor": 0,
  "metadata": {
    "colab": {
      "name": "Cleaning Data.ipynb",
      "provenance": [],
      "collapsed_sections": [],
      "authorship_tag": "ABX9TyMNXoAnKaP9cJLnFYnr9mZL",
      "include_colab_link": true
    },
    "kernelspec": {
      "name": "python3",
      "display_name": "Python 3"
    }
  },
  "cells": [
    {
      "cell_type": "markdown",
      "metadata": {
        "id": "view-in-github",
        "colab_type": "text"
      },
      "source": [
        "<a href=\"https://colab.research.google.com/github/krmiddlebrook/intro_to_deep_learning/blob/master/machine_learning/mini_lessons/Cleaning_Data.ipynb\" target=\"_parent\"><img src=\"https://colab.research.google.com/assets/colab-badge.svg\" alt=\"Open In Colab\"/></a>"
      ]
    },
    {
      "cell_type": "markdown",
      "metadata": {
        "id": "6xxkQDdDMzTG",
        "colab_type": "text"
      },
      "source": [
        "# Cleaning Data: preparing data for machine learning models\n",
        "One of the most important skills in data science and machine learning is being able to clean a dataset. This skill enables you to prepare and use data in machine learning models and statistical analysis. In this lesson, we focus on learning the foundations of this skill by cleaning a dataset with various column types (i.e., numerical, categorical, string, date, unique identifier). Specifically, we clean the [Google Play Store dataset](https://www.kaggle.com/lava18/google-play-store-apps) so it can be used later in a machine learning model. \n",
        "\n",
        "Here is the roadmap for this lesson:\n",
        "1. Loading the [Google Play Store dataset](https://www.kaggle.com/lava18/google-play-store-apps)\n",
        "2. Exploring the dataset\n",
        "3. Cleaning the data\n",
        "  - Applying a function to each row of a specific column\n",
        "  - Filtering data \n",
        "  - Manipulating strings in a specific column with Pandas\n",
        "  - Converting column types\n",
        "  - Replacing or removing NaNs and dropping duplicate data\n",
        "  - Making categorical data useable in models by applying \"one-hot encoding\"\n",
        "  - Combining data\n",
        "  - Dropping columns\n",
        "4. Saving the cleaned dataframe to a csv file\n",
        "\n",
        "*Note, please run this notebook on the Google Chrome browser so you can download your cleaned dataset easily.*"
      ]
    },
    {
      "cell_type": "code",
      "metadata": {
        "id": "AZMnj15tYZ2m",
        "colab_type": "code",
        "colab": {}
      },
      "source": [
        "# load the necessary libraries\n",
        "import pandas as pd\n",
        "import numpy as np"
      ],
      "execution_count": null,
      "outputs": []
    },
    {
      "cell_type": "markdown",
      "metadata": {
        "id": "INU5kcq_SprF",
        "colab_type": "text"
      },
      "source": [
        "## 1. Loading the Google Play Store dataset\n",
        "The [Google Play Store dataset](https://www.kaggle.com/lava18/google-play-store-apps) is a web scraped dataset containing data for 10k Play Store apps for analysing the Android market. The dataset has several different column types, and some preprocessing is necessary to make it useable in a machine learning model. \n",
        "\n",
        "In this step we focus on loading the data. Specifically, we 1) download the data from Kaggle, 2) upload it to our notebook, and 3) load it into a Pandas dataframe. \n",
        "\n",
        "For step 1, we navigate to the Google Play Store dataset on Kaggle [Google Play Store dataset](https://www.kaggle.com/lava18/google-play-store-apps), and download the \"googleplaystore.csv\" file locally to our computer. \n",
        "\n",
        "For step 2, we upload the \"googleplaystore.csv\" file to our Google Colab notebook. First, click on the folder icon on the left side of the notebook (under the <> icon). Then, select \"Upload\", navigate to the \"googleplaystore.csv\" file on your local machine and select it. This process will make the data file accessible in your notebook. \n",
        "\n",
        "Finally, load the data into a Pandas dataframe by run the code in the below cell."
      ]
    },
    {
      "cell_type": "code",
      "metadata": {
        "id": "Xh5DQn2PMrF_",
        "colab_type": "code",
        "colab": {}
      },
      "source": [
        "# get this notebook's file path for the \"googleplaystore.csv\" file by clicking\n",
        "# on the three vertical dots that appear when you scroll over the file.    \n",
        "data_url = '/content/googleplaystore.csv' # this path may be different for you\n",
        "\n",
        "df = pd.read_csv(data_url) # load the data into a pandas dataframe"
      ],
      "execution_count": null,
      "outputs": []
    },
    {
      "cell_type": "markdown",
      "metadata": {
        "id": "BH8327YkVx6Q",
        "colab_type": "text"
      },
      "source": [
        "# 2. Exploring the dataset\n",
        "Once you've loaded the dataset into a Pandas dataframe, you want to spend some time exploring the data to get a sense of what it looks like. "
      ]
    },
    {
      "cell_type": "code",
      "metadata": {
        "id": "gIeUEpWDZCPh",
        "colab_type": "code",
        "colab": {
          "base_uri": "https://localhost:8080/",
          "height": 204
        },
        "outputId": "70fe1092-6aa5-4aeb-bbf0-4000eb532c81"
      },
      "source": [
        "# look at the first 5 rows of data\n",
        "df.head()"
      ],
      "execution_count": null,
      "outputs": [
        {
          "output_type": "execute_result",
          "data": {
            "text/html": [
              "<div>\n",
              "<style scoped>\n",
              "    .dataframe tbody tr th:only-of-type {\n",
              "        vertical-align: middle;\n",
              "    }\n",
              "\n",
              "    .dataframe tbody tr th {\n",
              "        vertical-align: top;\n",
              "    }\n",
              "\n",
              "    .dataframe thead th {\n",
              "        text-align: right;\n",
              "    }\n",
              "</style>\n",
              "<table border=\"1\" class=\"dataframe\">\n",
              "  <thead>\n",
              "    <tr style=\"text-align: right;\">\n",
              "      <th></th>\n",
              "      <th>App</th>\n",
              "      <th>Category</th>\n",
              "      <th>Rating</th>\n",
              "      <th>Reviews</th>\n",
              "      <th>Size</th>\n",
              "      <th>Installs</th>\n",
              "      <th>Type</th>\n",
              "      <th>Price</th>\n",
              "      <th>Content Rating</th>\n",
              "      <th>Genres</th>\n",
              "      <th>Last Updated</th>\n",
              "      <th>Current Ver</th>\n",
              "      <th>Android Ver</th>\n",
              "    </tr>\n",
              "  </thead>\n",
              "  <tbody>\n",
              "    <tr>\n",
              "      <th>0</th>\n",
              "      <td>Photo Editor &amp; Candy Camera &amp; Grid &amp; ScrapBook</td>\n",
              "      <td>ART_AND_DESIGN</td>\n",
              "      <td>4.1</td>\n",
              "      <td>159</td>\n",
              "      <td>19M</td>\n",
              "      <td>10,000+</td>\n",
              "      <td>Free</td>\n",
              "      <td>0</td>\n",
              "      <td>Everyone</td>\n",
              "      <td>Art &amp; Design</td>\n",
              "      <td>January 7, 2018</td>\n",
              "      <td>1.0.0</td>\n",
              "      <td>4.0.3 and up</td>\n",
              "    </tr>\n",
              "    <tr>\n",
              "      <th>1</th>\n",
              "      <td>Coloring book moana</td>\n",
              "      <td>ART_AND_DESIGN</td>\n",
              "      <td>3.9</td>\n",
              "      <td>967</td>\n",
              "      <td>14M</td>\n",
              "      <td>500,000+</td>\n",
              "      <td>Free</td>\n",
              "      <td>0</td>\n",
              "      <td>Everyone</td>\n",
              "      <td>Art &amp; Design;Pretend Play</td>\n",
              "      <td>January 15, 2018</td>\n",
              "      <td>2.0.0</td>\n",
              "      <td>4.0.3 and up</td>\n",
              "    </tr>\n",
              "    <tr>\n",
              "      <th>2</th>\n",
              "      <td>U Launcher Lite – FREE Live Cool Themes, Hide ...</td>\n",
              "      <td>ART_AND_DESIGN</td>\n",
              "      <td>4.7</td>\n",
              "      <td>87510</td>\n",
              "      <td>8.7M</td>\n",
              "      <td>5,000,000+</td>\n",
              "      <td>Free</td>\n",
              "      <td>0</td>\n",
              "      <td>Everyone</td>\n",
              "      <td>Art &amp; Design</td>\n",
              "      <td>August 1, 2018</td>\n",
              "      <td>1.2.4</td>\n",
              "      <td>4.0.3 and up</td>\n",
              "    </tr>\n",
              "    <tr>\n",
              "      <th>3</th>\n",
              "      <td>Sketch - Draw &amp; Paint</td>\n",
              "      <td>ART_AND_DESIGN</td>\n",
              "      <td>4.5</td>\n",
              "      <td>215644</td>\n",
              "      <td>25M</td>\n",
              "      <td>50,000,000+</td>\n",
              "      <td>Free</td>\n",
              "      <td>0</td>\n",
              "      <td>Teen</td>\n",
              "      <td>Art &amp; Design</td>\n",
              "      <td>June 8, 2018</td>\n",
              "      <td>Varies with device</td>\n",
              "      <td>4.2 and up</td>\n",
              "    </tr>\n",
              "    <tr>\n",
              "      <th>4</th>\n",
              "      <td>Pixel Draw - Number Art Coloring Book</td>\n",
              "      <td>ART_AND_DESIGN</td>\n",
              "      <td>4.3</td>\n",
              "      <td>967</td>\n",
              "      <td>2.8M</td>\n",
              "      <td>100,000+</td>\n",
              "      <td>Free</td>\n",
              "      <td>0</td>\n",
              "      <td>Everyone</td>\n",
              "      <td>Art &amp; Design;Creativity</td>\n",
              "      <td>June 20, 2018</td>\n",
              "      <td>1.1</td>\n",
              "      <td>4.4 and up</td>\n",
              "    </tr>\n",
              "  </tbody>\n",
              "</table>\n",
              "</div>"
            ],
            "text/plain": [
              "                                                 App  ...   Android Ver\n",
              "0     Photo Editor & Candy Camera & Grid & ScrapBook  ...  4.0.3 and up\n",
              "1                                Coloring book moana  ...  4.0.3 and up\n",
              "2  U Launcher Lite – FREE Live Cool Themes, Hide ...  ...  4.0.3 and up\n",
              "3                              Sketch - Draw & Paint  ...    4.2 and up\n",
              "4              Pixel Draw - Number Art Coloring Book  ...    4.4 and up\n",
              "\n",
              "[5 rows x 13 columns]"
            ]
          },
          "metadata": {
            "tags": []
          },
          "execution_count": 39
        }
      ]
    },
    {
      "cell_type": "code",
      "metadata": {
        "id": "y_2Zv5n5ZDkH",
        "colab_type": "code",
        "colab": {
          "base_uri": "https://localhost:8080/",
          "height": 377
        },
        "outputId": "f8075cda-0ab8-4e22-d401-3b54bfe54b5d"
      },
      "source": [
        "# check the column types and get basic info\n",
        "df.info()"
      ],
      "execution_count": null,
      "outputs": [
        {
          "output_type": "stream",
          "text": [
            "<class 'pandas.core.frame.DataFrame'>\n",
            "RangeIndex: 10841 entries, 0 to 10840\n",
            "Data columns (total 13 columns):\n",
            " #   Column          Non-Null Count  Dtype  \n",
            "---  ------          --------------  -----  \n",
            " 0   App             10841 non-null  object \n",
            " 1   Category        10841 non-null  object \n",
            " 2   Rating          9367 non-null   float64\n",
            " 3   Reviews         10841 non-null  object \n",
            " 4   Size            10841 non-null  object \n",
            " 5   Installs        10841 non-null  object \n",
            " 6   Type            10840 non-null  object \n",
            " 7   Price           10841 non-null  object \n",
            " 8   Content Rating  10840 non-null  object \n",
            " 9   Genres          10841 non-null  object \n",
            " 10  Last Updated    10841 non-null  object \n",
            " 11  Current Ver     10833 non-null  object \n",
            " 12  Android Ver     10838 non-null  object \n",
            "dtypes: float64(1), object(12)\n",
            "memory usage: 1.1+ MB\n"
          ],
          "name": "stdout"
        }
      ]
    },
    {
      "cell_type": "markdown",
      "metadata": {
        "id": "Sg-N87GQZhVi",
        "colab_type": "text"
      },
      "source": [
        "By viewing the first 5 rows of our data it looks like there are several categorical columns, various numerical columns, and one date column. But, the `info()` function indicates that our dataframe thinks most of the columns contain an object type (i.e., strings or complex objects), and only one numeric column. In the next step we will address this difference.   "
      ]
    },
    {
      "cell_type": "markdown",
      "metadata": {
        "id": "Bji-fu48bOD0",
        "colab_type": "text"
      },
      "source": [
        "## 3. Cleaning the data\n",
        "To make our dataset useful for most machine learning models, we need to convert the columns to the correct data types, remove errors, and one-hot encode the categorical data."
      ]
    },
    {
      "cell_type": "markdown",
      "metadata": {
        "id": "z3nEWbIzdFft",
        "colab_type": "text"
      },
      "source": [
        "#### Applying a function to each row of a specific column\n",
        "We will apply a function to scale and clean the \"Size\" column. There are several ways to do this, here we use the pandas `map` method, which applies our function row-wise to the data in a specific column."
      ]
    },
    {
      "cell_type": "code",
      "metadata": {
        "id": "RWtU148OdVsJ",
        "colab_type": "code",
        "colab": {
          "base_uri": "https://localhost:8080/",
          "height": 377
        },
        "outputId": "8405195b-361e-4f71-9db4-83cb1ab78e50"
      },
      "source": [
        "#scaling and cleaning \"Size\" (of app) column\n",
        "def change_size(size):\n",
        "    if 'M' in size:\n",
        "        x = size[:-1]\n",
        "        x = float(x)*1000000\n",
        "        return(x)\n",
        "    elif 'k' == size[-1:]:\n",
        "        x = size[:-1]\n",
        "        x = float(x)*1000\n",
        "        return(x)\n",
        "    else:\n",
        "        return None\n",
        "\n",
        "df[\"Size\"] = df[\"Size\"].map(change_size)\n",
        "df.info()"
      ],
      "execution_count": null,
      "outputs": [
        {
          "output_type": "stream",
          "text": [
            "<class 'pandas.core.frame.DataFrame'>\n",
            "RangeIndex: 10841 entries, 0 to 10840\n",
            "Data columns (total 13 columns):\n",
            " #   Column          Non-Null Count  Dtype  \n",
            "---  ------          --------------  -----  \n",
            " 0   App             10841 non-null  object \n",
            " 1   Category        10841 non-null  object \n",
            " 2   Rating          9367 non-null   float64\n",
            " 3   Reviews         10841 non-null  object \n",
            " 4   Size            9145 non-null   float64\n",
            " 5   Installs        10841 non-null  object \n",
            " 6   Type            10840 non-null  object \n",
            " 7   Price           10841 non-null  object \n",
            " 8   Content Rating  10840 non-null  object \n",
            " 9   Genres          10841 non-null  object \n",
            " 10  Last Updated    10841 non-null  object \n",
            " 11  Current Ver     10833 non-null  object \n",
            " 12  Android Ver     10838 non-null  object \n",
            "dtypes: float64(2), object(11)\n",
            "memory usage: 1.1+ MB\n"
          ],
          "name": "stdout"
        }
      ]
    },
    {
      "cell_type": "markdown",
      "metadata": {
        "id": "kaAmsSxaeCKC",
        "colab_type": "text"
      },
      "source": [
        "Notice that the Dtype of the Size column as changed from an object to a float64 (i.e., numeric type).  "
      ]
    },
    {
      "cell_type": "markdown",
      "metadata": {
        "id": "okN8DO2VevUZ",
        "colab_type": "text"
      },
      "source": [
        "#### Filtering data\n",
        "After looking at the dataset and trying to convert some columns to numeric types, I realized that there was at least one row with erroneous data. The below code is how I found it and removed it from the dataset. In particular, I filtered the data by looking for rows that did not contain the letter 'M' in the Reviews column. This only removed 1 row (i.e., the erroneous one). The fewer rows we remove from the original dataset the better!   "
      ]
    },
    {
      "cell_type": "code",
      "metadata": {
        "id": "ym1SwK6EfH_X",
        "colab_type": "code",
        "colab": {
          "base_uri": "https://localhost:8080/",
          "height": 89
        },
        "outputId": "0c91ee3b-c91a-49d4-da2b-ef3d15be02c1"
      },
      "source": [
        "# identify the erroneous data and remove it from the dataset\n",
        "\n",
        "# here I use the the \"Reviews\" column to find rows that *do* contain the string 'M'\n",
        "print(df.loc[df.Reviews.str.contains('M'), :])\n",
        "\n",
        "# here I remove those rows from the dataset by *not* including the rows in the \"Reviews\" column that have the string 'M'\n",
        "df = df.loc[~df.Reviews.str.contains('M'), :]"
      ],
      "execution_count": null,
      "outputs": [
        {
          "output_type": "stream",
          "text": [
            "                                           App Category  ...  Current Ver Android Ver\n",
            "10472  Life Made WI-Fi Touchscreen Photo Frame      1.9  ...   4.0 and up         NaN\n",
            "\n",
            "[1 rows x 13 columns]\n"
          ],
          "name": "stdout"
        }
      ]
    },
    {
      "cell_type": "markdown",
      "metadata": {
        "id": "Gl4ke6CNiugk",
        "colab_type": "text"
      },
      "source": [
        "#### Manipulating strings in a specific column with Pandas\n",
        "In this step we use the Pandas column string methods to clean a column with strings. Specifically, we prepare the Installs column to be converted into a numeric column by replacing the ',' and '+' symbols.  "
      ]
    },
    {
      "cell_type": "code",
      "metadata": {
        "id": "ilIALav1jCd0",
        "colab_type": "code",
        "colab": {}
      },
      "source": [
        "# clean and convert the \"Installs\" column to int\n",
        "df['Installs'] = df['Installs'].str.replace(',', '')\n",
        "df['Installs'] = df['Installs'].str.replace('+', '')\n",
        "\n",
        "# remove mislabeled row by filtering for rows that contain more than just numbers\n",
        "df = df.loc[~df['Installs'].str.contains('\\D+'), :].reset_index(drop=True)\n"
      ],
      "execution_count": null,
      "outputs": []
    },
    {
      "cell_type": "markdown",
      "metadata": {
        "id": "JPqGfBwCcL4l",
        "colab_type": "text"
      },
      "source": [
        "#### Converting column types\n",
        "There are several wells to convert the data type of a pandas dataframe column. In this example, we will use the `astype` method to convert the 'Installs' column we just cleaned into an integer type."
      ]
    },
    {
      "cell_type": "code",
      "metadata": {
        "id": "PKVtTBUuZda4",
        "colab_type": "code",
        "colab": {
          "base_uri": "https://localhost:8080/",
          "height": 377
        },
        "outputId": "2d9a4ee4-aee1-44e9-bd51-71598bfd1660"
      },
      "source": [
        "# convert the Installs column to a numeric data type column\n",
        "df['Installs'] = df['Installs'].astype(int)\n",
        "\n",
        "# lets also convert other columns we cleaned to numeric data type columns\n",
        "df['Reviews'] = df['Reviews'].astype('int')\n",
        "\n",
        "df.info()"
      ],
      "execution_count": null,
      "outputs": [
        {
          "output_type": "stream",
          "text": [
            "<class 'pandas.core.frame.DataFrame'>\n",
            "RangeIndex: 10840 entries, 0 to 10839\n",
            "Data columns (total 13 columns):\n",
            " #   Column          Non-Null Count  Dtype  \n",
            "---  ------          --------------  -----  \n",
            " 0   App             10840 non-null  object \n",
            " 1   Category        10840 non-null  object \n",
            " 2   Rating          9366 non-null   float64\n",
            " 3   Reviews         10840 non-null  int64  \n",
            " 4   Size            9145 non-null   float64\n",
            " 5   Installs        10840 non-null  int64  \n",
            " 6   Type            10839 non-null  object \n",
            " 7   Price           10840 non-null  object \n",
            " 8   Content Rating  10840 non-null  object \n",
            " 9   Genres          10840 non-null  object \n",
            " 10  Last Updated    10840 non-null  object \n",
            " 11  Current Ver     10832 non-null  object \n",
            " 12  Android Ver     10838 non-null  object \n",
            "dtypes: float64(2), int64(2), object(9)\n",
            "memory usage: 1.1+ MB\n"
          ],
          "name": "stdout"
        }
      ]
    },
    {
      "cell_type": "markdown",
      "metadata": {
        "id": "_T6E71_yiTPH",
        "colab_type": "text"
      },
      "source": [
        "#### Replacing or removing NaNs and dropping duplicate data\n",
        "In this step we will replace the NaN entries in the numeric columns with the average colum values. In addition, we will remove any rows that contain the same data. "
      ]
    },
    {
      "cell_type": "code",
      "metadata": {
        "id": "yNYYPPN8cz_x",
        "colab_type": "code",
        "colab": {
          "base_uri": "https://localhost:8080/",
          "height": 377
        },
        "outputId": "ad86356e-af30-4d20-fcd9-f6c313f6ac6e"
      },
      "source": [
        "# Note, there are several ways to replace values, here I use the fillna method\n",
        "# create dictionary where the keys are the numeric column names and the values are their average values\n",
        "fillers = {'Rating': df.Rating.mean(), 'Reviews': df.Reviews.mean(), 'Size': df.Size.mean(), 'Installs': df.Installs.mean()}\n",
        "df = df.fillna(value=fillers)\n",
        "df.info()"
      ],
      "execution_count": null,
      "outputs": [
        {
          "output_type": "stream",
          "text": [
            "<class 'pandas.core.frame.DataFrame'>\n",
            "RangeIndex: 10840 entries, 0 to 10839\n",
            "Data columns (total 13 columns):\n",
            " #   Column          Non-Null Count  Dtype  \n",
            "---  ------          --------------  -----  \n",
            " 0   App             10840 non-null  object \n",
            " 1   Category        10840 non-null  object \n",
            " 2   Rating          10840 non-null  float64\n",
            " 3   Reviews         10840 non-null  int64  \n",
            " 4   Size            10840 non-null  float64\n",
            " 5   Installs        10840 non-null  int64  \n",
            " 6   Type            10839 non-null  object \n",
            " 7   Price           10840 non-null  object \n",
            " 8   Content Rating  10840 non-null  object \n",
            " 9   Genres          10840 non-null  object \n",
            " 10  Last Updated    10840 non-null  object \n",
            " 11  Current Ver     10832 non-null  object \n",
            " 12  Android Ver     10838 non-null  object \n",
            "dtypes: float64(2), int64(2), object(9)\n",
            "memory usage: 1.1+ MB\n"
          ],
          "name": "stdout"
        }
      ]
    },
    {
      "cell_type": "markdown",
      "metadata": {
        "id": "oxfxcie0njyF",
        "colab_type": "text"
      },
      "source": [
        "Notice that the Non-Null Count in the numeric column has changes. "
      ]
    },
    {
      "cell_type": "markdown",
      "metadata": {
        "id": "r-fslIfrn2Yx",
        "colab_type": "text"
      },
      "source": [
        "#### Making categorical data useable in models by applying \"one-hot encoding\"\n",
        "In this step we learn how to make categorical variables useable in machine learning models by \"one-hot encoding\" their values. Like previous steps, there are several ways this can be accomplished, here I use the pandas `get_dummies` method. "
      ]
    },
    {
      "cell_type": "code",
      "metadata": {
        "id": "PcD6T2YRmKvi",
        "colab_type": "code",
        "colab": {
          "base_uri": "https://localhost:8080/",
          "height": 224
        },
        "outputId": "9b698d00-d86d-4ecc-fe44-48e508e73815"
      },
      "source": [
        "# converting non-numeric columns to numeric columns using \"one-hot encoding\"\n",
        "catgry = pd.get_dummies(df['Category'],prefix='catg')\n",
        "cr = pd.get_dummies(df['Content Rating'],prefix='cr')\n",
        "\n",
        "catgry.head()"
      ],
      "execution_count": null,
      "outputs": [
        {
          "output_type": "execute_result",
          "data": {
            "text/html": [
              "<div>\n",
              "<style scoped>\n",
              "    .dataframe tbody tr th:only-of-type {\n",
              "        vertical-align: middle;\n",
              "    }\n",
              "\n",
              "    .dataframe tbody tr th {\n",
              "        vertical-align: top;\n",
              "    }\n",
              "\n",
              "    .dataframe thead th {\n",
              "        text-align: right;\n",
              "    }\n",
              "</style>\n",
              "<table border=\"1\" class=\"dataframe\">\n",
              "  <thead>\n",
              "    <tr style=\"text-align: right;\">\n",
              "      <th></th>\n",
              "      <th>catg_ART_AND_DESIGN</th>\n",
              "      <th>catg_AUTO_AND_VEHICLES</th>\n",
              "      <th>catg_BEAUTY</th>\n",
              "      <th>catg_BOOKS_AND_REFERENCE</th>\n",
              "      <th>catg_BUSINESS</th>\n",
              "      <th>catg_COMICS</th>\n",
              "      <th>catg_COMMUNICATION</th>\n",
              "      <th>catg_DATING</th>\n",
              "      <th>catg_EDUCATION</th>\n",
              "      <th>catg_ENTERTAINMENT</th>\n",
              "      <th>catg_EVENTS</th>\n",
              "      <th>catg_FAMILY</th>\n",
              "      <th>catg_FINANCE</th>\n",
              "      <th>catg_FOOD_AND_DRINK</th>\n",
              "      <th>catg_GAME</th>\n",
              "      <th>catg_HEALTH_AND_FITNESS</th>\n",
              "      <th>catg_HOUSE_AND_HOME</th>\n",
              "      <th>catg_LIBRARIES_AND_DEMO</th>\n",
              "      <th>catg_LIFESTYLE</th>\n",
              "      <th>catg_MAPS_AND_NAVIGATION</th>\n",
              "      <th>catg_MEDICAL</th>\n",
              "      <th>catg_NEWS_AND_MAGAZINES</th>\n",
              "      <th>catg_PARENTING</th>\n",
              "      <th>catg_PERSONALIZATION</th>\n",
              "      <th>catg_PHOTOGRAPHY</th>\n",
              "      <th>catg_PRODUCTIVITY</th>\n",
              "      <th>catg_SHOPPING</th>\n",
              "      <th>catg_SOCIAL</th>\n",
              "      <th>catg_SPORTS</th>\n",
              "      <th>catg_TOOLS</th>\n",
              "      <th>catg_TRAVEL_AND_LOCAL</th>\n",
              "      <th>catg_VIDEO_PLAYERS</th>\n",
              "      <th>catg_WEATHER</th>\n",
              "    </tr>\n",
              "  </thead>\n",
              "  <tbody>\n",
              "    <tr>\n",
              "      <th>0</th>\n",
              "      <td>1</td>\n",
              "      <td>0</td>\n",
              "      <td>0</td>\n",
              "      <td>0</td>\n",
              "      <td>0</td>\n",
              "      <td>0</td>\n",
              "      <td>0</td>\n",
              "      <td>0</td>\n",
              "      <td>0</td>\n",
              "      <td>0</td>\n",
              "      <td>0</td>\n",
              "      <td>0</td>\n",
              "      <td>0</td>\n",
              "      <td>0</td>\n",
              "      <td>0</td>\n",
              "      <td>0</td>\n",
              "      <td>0</td>\n",
              "      <td>0</td>\n",
              "      <td>0</td>\n",
              "      <td>0</td>\n",
              "      <td>0</td>\n",
              "      <td>0</td>\n",
              "      <td>0</td>\n",
              "      <td>0</td>\n",
              "      <td>0</td>\n",
              "      <td>0</td>\n",
              "      <td>0</td>\n",
              "      <td>0</td>\n",
              "      <td>0</td>\n",
              "      <td>0</td>\n",
              "      <td>0</td>\n",
              "      <td>0</td>\n",
              "      <td>0</td>\n",
              "    </tr>\n",
              "    <tr>\n",
              "      <th>1</th>\n",
              "      <td>1</td>\n",
              "      <td>0</td>\n",
              "      <td>0</td>\n",
              "      <td>0</td>\n",
              "      <td>0</td>\n",
              "      <td>0</td>\n",
              "      <td>0</td>\n",
              "      <td>0</td>\n",
              "      <td>0</td>\n",
              "      <td>0</td>\n",
              "      <td>0</td>\n",
              "      <td>0</td>\n",
              "      <td>0</td>\n",
              "      <td>0</td>\n",
              "      <td>0</td>\n",
              "      <td>0</td>\n",
              "      <td>0</td>\n",
              "      <td>0</td>\n",
              "      <td>0</td>\n",
              "      <td>0</td>\n",
              "      <td>0</td>\n",
              "      <td>0</td>\n",
              "      <td>0</td>\n",
              "      <td>0</td>\n",
              "      <td>0</td>\n",
              "      <td>0</td>\n",
              "      <td>0</td>\n",
              "      <td>0</td>\n",
              "      <td>0</td>\n",
              "      <td>0</td>\n",
              "      <td>0</td>\n",
              "      <td>0</td>\n",
              "      <td>0</td>\n",
              "    </tr>\n",
              "    <tr>\n",
              "      <th>2</th>\n",
              "      <td>1</td>\n",
              "      <td>0</td>\n",
              "      <td>0</td>\n",
              "      <td>0</td>\n",
              "      <td>0</td>\n",
              "      <td>0</td>\n",
              "      <td>0</td>\n",
              "      <td>0</td>\n",
              "      <td>0</td>\n",
              "      <td>0</td>\n",
              "      <td>0</td>\n",
              "      <td>0</td>\n",
              "      <td>0</td>\n",
              "      <td>0</td>\n",
              "      <td>0</td>\n",
              "      <td>0</td>\n",
              "      <td>0</td>\n",
              "      <td>0</td>\n",
              "      <td>0</td>\n",
              "      <td>0</td>\n",
              "      <td>0</td>\n",
              "      <td>0</td>\n",
              "      <td>0</td>\n",
              "      <td>0</td>\n",
              "      <td>0</td>\n",
              "      <td>0</td>\n",
              "      <td>0</td>\n",
              "      <td>0</td>\n",
              "      <td>0</td>\n",
              "      <td>0</td>\n",
              "      <td>0</td>\n",
              "      <td>0</td>\n",
              "      <td>0</td>\n",
              "    </tr>\n",
              "    <tr>\n",
              "      <th>3</th>\n",
              "      <td>1</td>\n",
              "      <td>0</td>\n",
              "      <td>0</td>\n",
              "      <td>0</td>\n",
              "      <td>0</td>\n",
              "      <td>0</td>\n",
              "      <td>0</td>\n",
              "      <td>0</td>\n",
              "      <td>0</td>\n",
              "      <td>0</td>\n",
              "      <td>0</td>\n",
              "      <td>0</td>\n",
              "      <td>0</td>\n",
              "      <td>0</td>\n",
              "      <td>0</td>\n",
              "      <td>0</td>\n",
              "      <td>0</td>\n",
              "      <td>0</td>\n",
              "      <td>0</td>\n",
              "      <td>0</td>\n",
              "      <td>0</td>\n",
              "      <td>0</td>\n",
              "      <td>0</td>\n",
              "      <td>0</td>\n",
              "      <td>0</td>\n",
              "      <td>0</td>\n",
              "      <td>0</td>\n",
              "      <td>0</td>\n",
              "      <td>0</td>\n",
              "      <td>0</td>\n",
              "      <td>0</td>\n",
              "      <td>0</td>\n",
              "      <td>0</td>\n",
              "    </tr>\n",
              "    <tr>\n",
              "      <th>4</th>\n",
              "      <td>1</td>\n",
              "      <td>0</td>\n",
              "      <td>0</td>\n",
              "      <td>0</td>\n",
              "      <td>0</td>\n",
              "      <td>0</td>\n",
              "      <td>0</td>\n",
              "      <td>0</td>\n",
              "      <td>0</td>\n",
              "      <td>0</td>\n",
              "      <td>0</td>\n",
              "      <td>0</td>\n",
              "      <td>0</td>\n",
              "      <td>0</td>\n",
              "      <td>0</td>\n",
              "      <td>0</td>\n",
              "      <td>0</td>\n",
              "      <td>0</td>\n",
              "      <td>0</td>\n",
              "      <td>0</td>\n",
              "      <td>0</td>\n",
              "      <td>0</td>\n",
              "      <td>0</td>\n",
              "      <td>0</td>\n",
              "      <td>0</td>\n",
              "      <td>0</td>\n",
              "      <td>0</td>\n",
              "      <td>0</td>\n",
              "      <td>0</td>\n",
              "      <td>0</td>\n",
              "      <td>0</td>\n",
              "      <td>0</td>\n",
              "      <td>0</td>\n",
              "    </tr>\n",
              "  </tbody>\n",
              "</table>\n",
              "</div>"
            ],
            "text/plain": [
              "   catg_ART_AND_DESIGN  ...  catg_WEATHER\n",
              "0                    1  ...             0\n",
              "1                    1  ...             0\n",
              "2                    1  ...             0\n",
              "3                    1  ...             0\n",
              "4                    1  ...             0\n",
              "\n",
              "[5 rows x 33 columns]"
            ]
          },
          "metadata": {
            "tags": []
          },
          "execution_count": 46
        }
      ]
    },
    {
      "cell_type": "markdown",
      "metadata": {
        "id": "5-NnPz-ao78f",
        "colab_type": "text"
      },
      "source": [
        "Notice that the columns now represent the category type and the rows represent whether the data belongs to a particular category type. Another way to think of this one-hot encoding process is to consider that each row is converted into a vector that contains mostly 0's with a 1 at the index that corresponds to the category type that the data belongs to. "
      ]
    },
    {
      "cell_type": "markdown",
      "metadata": {
        "id": "z2QkNuPcqNNo",
        "colab_type": "text"
      },
      "source": [
        "#### Combining data\n",
        "Now that we have converted the categorical data into one-hot encoded dataframes, we need to combine them. In particular, we want to combine them with the original dataset. Here I use the Pandas `concat` method.  "
      ]
    },
    {
      "cell_type": "code",
      "metadata": {
        "id": "cJ_N8GE2o5L2",
        "colab_type": "code",
        "colab": {
          "base_uri": "https://localhost:8080/",
          "height": 53
        },
        "outputId": "8966ec61-98ab-4536-cd00-6ff6f6c04c52"
      },
      "source": [
        "print('original dataframe shape', df.shape)\n",
        "\n",
        "# create an array containing the original dataframe and the two one-hot encoded dataframes\n",
        "frames=[df,catgry,cr]\n",
        "# combine them to create a new dataframe\n",
        "df=pd.concat(frames,axis=1)\n",
        "print('combined dataframe shape', df.shape)"
      ],
      "execution_count": null,
      "outputs": [
        {
          "output_type": "stream",
          "text": [
            "original dataframe shape (10840, 13)\n",
            "combined dataframe shape (10840, 52)\n"
          ],
          "name": "stdout"
        }
      ]
    },
    {
      "cell_type": "markdown",
      "metadata": {
        "id": "-hp6IxXmrOhx",
        "colab_type": "text"
      },
      "source": [
        "#### Dropping columns\n",
        "Now that we've combined the data, we need to drop some now unnecessary columns. Here we use the Pandas `drop` method."
      ]
    },
    {
      "cell_type": "code",
      "metadata": {
        "id": "SNFGJCfOrBzp",
        "colab_type": "code",
        "colab": {}
      },
      "source": [
        "df = df.drop(['Category', 'Content Rating'], axis=1)\n"
      ],
      "execution_count": null,
      "outputs": []
    },
    {
      "cell_type": "markdown",
      "metadata": {
        "id": "en8WADYusBoD",
        "colab_type": "text"
      },
      "source": [
        "## 4. Saving the cleaned dataframe to a csv file\n",
        "Now that our data is clean, we should save it so that we can quickly load the cleaned data into a dataframe that can be easily analyzed or passed to a machine learning model. Here we use the Pandas `to_csv` method to write (i.e., save) the dataframe to a csv file."
      ]
    },
    {
      "cell_type": "code",
      "metadata": {
        "id": "b5DGrGRntGfZ",
        "colab_type": "code",
        "colab": {}
      },
      "source": [
        "# save the file on the colab hosting maching (i.e., the remote computer)\n",
        "save_path = './cleaned_googleplaystore.csv'\n",
        "df.to_csv(save_path, index=False)\n",
        "\n",
        "# to download hosted files to your local machine when using colab run this\n",
        "from google.colab import files\n",
        "files.download(save_path) "
      ],
      "execution_count": null,
      "outputs": []
    },
    {
      "cell_type": "code",
      "metadata": {
        "id": "Z5S4748CuFFL",
        "colab_type": "code",
        "colab": {}
      },
      "source": [
        ""
      ],
      "execution_count": null,
      "outputs": []
    }
  ]
}