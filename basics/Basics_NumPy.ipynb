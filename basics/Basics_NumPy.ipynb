{
  "nbformat": 4,
  "nbformat_minor": 0,
  "metadata": {
    "colab": {
      "name": "Basics_NumPy",
      "provenance": [],
      "include_colab_link": true
    },
    "kernelspec": {
      "name": "python3",
      "display_name": "Python 3"
    }
  },
  "cells": [
    {
      "cell_type": "markdown",
      "metadata": {
        "id": "view-in-github",
        "colab_type": "text"
      },
      "source": [
        "<a href=\"https://colab.research.google.com/github/krmiddlebrook/intro_to_deep_learning/blob/master/basics/Basics_NumPy.ipynb\" target=\"_parent\"><img src=\"https://colab.research.google.com/assets/colab-badge.svg\" alt=\"Open In Colab\"/></a>"
      ]
    },
    {
      "cell_type": "markdown",
      "metadata": {
        "id": "_o89PosdXDAf",
        "colab_type": "text"
      },
      "source": [
        "# What is NumPy?\n",
        "\n",
        "[NumPy](https://numpy.org/) is a Python package for scientific computing! What that means is that this package is used to do math with arrays. With numpy, you can create arrays because Python does not have built-in arrays. Python does have lists, but if you remember your data structures, lists take up unnecessary space in memory while arrays sizes are static. Also, NumPy does calculations super fast! That is a plus whenever we do math.\n"
      ]
    },
    {
      "cell_type": "markdown",
      "metadata": {
        "id": "fkT8LOS6TLXd",
        "colab_type": "text"
      },
      "source": [
        "## These are the Basics!"
      ]
    },
    {
      "cell_type": "code",
      "metadata": {
        "id": "pmpGC4ZRWi1I",
        "colab_type": "code",
        "colab": {}
      },
      "source": [
        "# importing NumPy\n",
        "import numpy as np"
      ],
      "execution_count": null,
      "outputs": []
    },
    {
      "cell_type": "code",
      "metadata": {
        "id": "uXWkAHH1sFtJ",
        "colab_type": "code",
        "colab": {
          "base_uri": "https://localhost:8080/",
          "height": 34
        },
        "outputId": "0ac71c8c-8d55-4bbd-e4de-2c72f6ed31bf"
      },
      "source": [
        "# Can convert lists into arrays\n",
        "list_a = [1, 2, 3, 4]\n",
        "\n",
        "a = np.array(list_a)\n",
        "a"
      ],
      "execution_count": null,
      "outputs": [
        {
          "output_type": "execute_result",
          "data": {
            "text/plain": [
              "array([1, 2, 3, 4])"
            ]
          },
          "metadata": {
            "tags": []
          },
          "execution_count": 7
        }
      ]
    },
    {
      "cell_type": "code",
      "metadata": {
        "colab_type": "code",
        "id": "hiCCO5_799Hf",
        "colab": {
          "base_uri": "https://localhost:8080/",
          "height": 34
        },
        "outputId": "ef5aa078-c9ae-4614-f10b-6011d50950b3"
      },
      "source": [
        "# Can convert tuples into arrays\n",
        "tup_a = (1, 2, 3, 4)\n",
        "\n",
        "a = np.array(tup_a)\n",
        "a"
      ],
      "execution_count": null,
      "outputs": [
        {
          "output_type": "execute_result",
          "data": {
            "text/plain": [
              "array([1, 2, 3, 4])"
            ]
          },
          "metadata": {
            "tags": []
          },
          "execution_count": 8
        }
      ]
    },
    {
      "cell_type": "code",
      "metadata": {
        "id": "128w5_VC90vb",
        "colab_type": "code",
        "colab": {
          "base_uri": "https://localhost:8080/",
          "height": 51
        },
        "outputId": "c4ab335d-873e-455a-8bb3-f6d21eeab62f"
      },
      "source": [
        "# You can also create 2-d arrays using numpy\n",
        "\n",
        "list_2d = [[1, 2, 3, 4],\n",
        "           [5, 6, 7, 8]]\n",
        "\n",
        "array_2d = np.array(list_2d)\n",
        "array_2d"
      ],
      "execution_count": null,
      "outputs": [
        {
          "output_type": "execute_result",
          "data": {
            "text/plain": [
              "array([[1, 2, 3, 4],\n",
              "       [5, 6, 7, 8]])"
            ]
          },
          "metadata": {
            "tags": []
          },
          "execution_count": 10
        }
      ]
    },
    {
      "cell_type": "code",
      "metadata": {
        "id": "ZOhz422u-mJY",
        "colab_type": "code",
        "colab": {
          "base_uri": "https://localhost:8080/",
          "height": 68
        },
        "outputId": "dae2ae78-57ee-4342-e555-b0fdbc63b420"
      },
      "source": [
        "# You can see the shape of the arrays\n",
        "\n",
        "print('(r, w) means r rows and w columns')\n",
        "print('Shape of array_2d:', array_2d.shape)\n",
        "print('Shape of a:', a.shape)"
      ],
      "execution_count": null,
      "outputs": [
        {
          "output_type": "stream",
          "text": [
            "(r, w) means r rows and w columns\n",
            "Shape of array_2d: (2, 4)\n",
            "Shape of a: (4,)\n"
          ],
          "name": "stdout"
        }
      ]
    },
    {
      "cell_type": "code",
      "metadata": {
        "id": "fLXyyOXAU3Hb",
        "colab_type": "code",
        "colab": {
          "base_uri": "https://localhost:8080/",
          "height": 153
        },
        "outputId": "3ac5f806-f81e-41ad-f2e7-a1032e406dcd"
      },
      "source": [
        "# You can also select elements from arrays:\n",
        "print('All arrays are zero-indexed\\n')\n",
        "a = np.array([1, 2, 3, 4, 5])\n",
        "\n",
        "b = np.array([[1, 2, 3, 4, 5],\n",
        "             [6, 7, 8, 9, 10]])\n",
        "\n",
        "print('first element of a:', a[0])\n",
        "print('All elements of a except the first:', a[1:])\n",
        "print('All elements of a except the last:', a[:4])\n",
        "\n",
        "print('\\nThird element of first row of b:', b[0][3])\n",
        "print('Second row of b:', b[1])"
      ],
      "execution_count": null,
      "outputs": [
        {
          "output_type": "stream",
          "text": [
            "All arrays are zero-indexed\n",
            "\n",
            "first element of a: 1\n",
            "All elements of a except the first: [2 3 4 5]\n",
            "All elements of a except the last: [1 2 3 4]\n",
            "\n",
            "Third element of first row of b: 4\n",
            "Second row of b: [ 6  7  8  9 10]\n"
          ],
          "name": "stdout"
        }
      ]
    },
    {
      "cell_type": "code",
      "metadata": {
        "id": "ljYKb1udAu4f",
        "colab_type": "code",
        "colab": {
          "base_uri": "https://localhost:8080/",
          "height": 136
        },
        "outputId": "726b7812-9b97-489b-e3ff-aef240decea5"
      },
      "source": [
        "# Mathematical Operations with two arrays of the same size!\n",
        "# Must be the same size\n",
        "\n",
        "a = np.array([1, 2, 3, 4, 5])\n",
        "b = np.array([6, 7, 8, 9, 10])\n",
        "\n",
        "print('THIS IS REALLY IMPORTANT!')\n",
        "print('These are all element wise:\\n')\n",
        "print('Adding a+b:', a+b)\n",
        "print('Subtracting a-b:', a-b) #Pretty cool pattern\n",
        "print('Dividing b/a:', b/a)\n",
        "print(\"Multiplying a*b:\", a*b)"
      ],
      "execution_count": null,
      "outputs": [
        {
          "output_type": "stream",
          "text": [
            "THIS IS REALLY IMPORTANT!\n",
            "These are all element wise:\n",
            "\n",
            "Adding a+b: [ 7  9 11 13 15]\n",
            "Subtracting a-b: [-5 -5 -5 -5 -5]\n",
            "Dividing b/a: [6.         3.5        2.66666667 2.25       2.        ]\n",
            "Multiplying a*b: [ 6 14 24 36 50]\n"
          ],
          "name": "stdout"
        }
      ]
    },
    {
      "cell_type": "code",
      "metadata": {
        "id": "7E1wbKkaCxCB",
        "colab_type": "code",
        "colab": {
          "base_uri": "https://localhost:8080/",
          "height": 85
        },
        "outputId": "3d01ef9e-e680-47f6-a6a3-1ee0e660e765"
      },
      "source": [
        "# Scaler Mathematical Operations which only uses one array\n",
        "\n",
        "a = np.array([1, 2, 3, 4, 5])\n",
        "\n",
        "print('Multiplying 2*a:', 2*a)\n",
        "print('Dividing a/2:', a/2)\n",
        "print('Adding a+2:', a+2)\n",
        "print('Subtracting a-2:', a-2)"
      ],
      "execution_count": null,
      "outputs": [
        {
          "output_type": "stream",
          "text": [
            "Multiplying 2*a: [ 2  4  6  8 10]\n",
            "Dividing a/2: [0.5 1.  1.5 2.  2.5]\n",
            "Adding a+2: [3 4 5 6 7]\n",
            "Subtracting a-2: [-1  0  1  2  3]\n"
          ],
          "name": "stdout"
        }
      ]
    },
    {
      "cell_type": "code",
      "metadata": {
        "id": "7RD_ZUym_tNo",
        "colab_type": "code",
        "colab": {
          "base_uri": "https://localhost:8080/",
          "height": 34
        },
        "outputId": "767e1f6b-cf93-4880-fef9-11cded2be931"
      },
      "source": [
        "# You can copy arrays\n",
        "\n",
        "a = np.array([1, 2, 3, 4, 5])\n",
        "a_copy = a.copy() # This is how you copy\n",
        "print('a_copy:', a_copy)"
      ],
      "execution_count": null,
      "outputs": [
        {
          "output_type": "stream",
          "text": [
            "a_copy: [1 2 3 4 5]\n"
          ],
          "name": "stdout"
        }
      ]
    },
    {
      "cell_type": "code",
      "metadata": {
        "id": "hS5XnPlsNcwL",
        "colab_type": "code",
        "colab": {
          "base_uri": "https://localhost:8080/",
          "height": 527
        },
        "outputId": "bd5b1bfd-10a2-448f-b3c4-bde987f1016b"
      },
      "source": [
        "# Reshaping arrays\n",
        "\n",
        "# a is a 2d array\n",
        "a = np.array([[1, 2, 3, 4, 5],\n",
        "             [6, 7, 8, 9, 10]])\n",
        "print('a:\\n', a)\n",
        "print('Shape of a:', a.shape)\n",
        "\n",
        "# You can flatten the array into a 1d array\n",
        "flat_a = a.reshape(-1)\n",
        "\n",
        "print('\\nFlattening a...')\n",
        "print('Flat a:', flat_a)\n",
        "print('Shape of flat_a:', flat_a.shape)\n",
        "\n",
        "# You can change a 1d array look like a column\n",
        "col_a = flat_a.reshape(-1, 1)# -1 references to the number of elements in the array\n",
        "\n",
        "print('\\nConverting 1d array flat_a to a column...')\n",
        "print('col_a:\\n', col_a)\n",
        "print('Shape of col_a:', col_a.shape)# A column has r rows and 1 column\n",
        "\n",
        "# You can change a 1d array look like a row\n",
        "row_a = flat_a.reshape(1, -1)\n",
        "\n",
        "print('\\nConverting 1d array flat_a to a row...')\n",
        "print('row_a:\\n', row_a)\n",
        "print('Shape of row_a:', row_a.shape)# A row has 1 row and w columns\n",
        "\n",
        "print('-'*50)\n",
        "print('\\nBOTH row_a AND col_a ARE 2-D ARRAYS!!!!!')"
      ],
      "execution_count": null,
      "outputs": [
        {
          "output_type": "stream",
          "text": [
            "a:\n",
            " [[ 1  2  3  4  5]\n",
            " [ 6  7  8  9 10]]\n",
            "Shape of a: (2, 5)\n",
            "\n",
            "Flattening a...\n",
            "Flat a: [ 1  2  3  4  5  6  7  8  9 10]\n",
            "Shape of flat_a: (10,)\n",
            "\n",
            "Converting 1d array flat_a to a column...\n",
            "col_a:\n",
            " [[ 1]\n",
            " [ 2]\n",
            " [ 3]\n",
            " [ 4]\n",
            " [ 5]\n",
            " [ 6]\n",
            " [ 7]\n",
            " [ 8]\n",
            " [ 9]\n",
            " [10]]\n",
            "Shape of col_a: (10, 1)\n",
            "\n",
            "Converting 1d array flat_a to a row...\n",
            "row_a:\n",
            " [[ 1  2  3  4  5  6  7  8  9 10]]\n",
            "Shape of row_a: (1, 10)\n",
            "--------------------------------------------------\n",
            "\n",
            "BOTH row_a AND col_a ARE 2-D ARRAYS!!!!!\n"
          ],
          "name": "stdout"
        }
      ]
    },
    {
      "cell_type": "markdown",
      "metadata": {
        "id": "iOwpdgNiSBvt",
        "colab_type": "text"
      },
      "source": [
        "# Those are the basics!!\n",
        "\n",
        "This NumPy tutorial is good enough for what we will be learning with Data Science and Machine Learning. NumPy is a super fundamental tool for Data Science and I hope that we both master this tool together."
      ]
    },
    {
      "cell_type": "markdown",
      "metadata": {
        "id": "h_ktdAQcSp82",
        "colab_type": "text"
      },
      "source": [
        "# Test out your own numpy arrays below!"
      ]
    },
    {
      "cell_type": "code",
      "metadata": {
        "id": "Ij0EDWFhR4hb",
        "colab_type": "code",
        "colab": {}
      },
      "source": [
        ""
      ],
      "execution_count": null,
      "outputs": []
    }
  ]
}