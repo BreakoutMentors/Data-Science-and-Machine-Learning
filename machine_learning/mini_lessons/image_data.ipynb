{
  "nbformat": 4,
  "nbformat_minor": 0,
  "metadata": {
    "colab": {
      "name": "image-data.ipynb",
      "provenance": [],
      "authorship_tag": "ABX9TyMEBTlc8lZORa2lnfkc3r5R",
      "include_colab_link": true
    },
    "kernelspec": {
      "name": "python3",
      "display_name": "Python 3"
    }
  },
  "cells": [
    {
      "cell_type": "markdown",
      "metadata": {
        "id": "view-in-github",
        "colab_type": "text"
      },
      "source": [
        "<a href=\"https://colab.research.google.com/github/BreakoutMentors/Data-Science-and-Machine-Learning/blob/master/machine_learning/mini_lessons/image_data.ipynb\" target=\"_parent\"><img src=\"https://colab.research.google.com/assets/colab-badge.svg\" alt=\"Open In Colab\"/></a>"
      ]
    },
    {
      "cell_type": "markdown",
      "metadata": {
        "id": "pwNWWpWzwuOI",
        "colab_type": "text"
      },
      "source": [
        "# Processing Image Data\n",
        "Computer vision is a field of machine learning that trains computers to interpret and understand the visual world. It is one of the most popular fields in deep learning (neural networks). In computer vision, it is common to use digital images from cameras and videos to train models to accurately identify and classify objects. \n",
        "\n",
        "Before we can solve computer vision tasks, it is important to understand how to handle  image data. To this end, we will demonstrate how to process (prepare) image data for machine learning models. \n",
        "\n",
        "We will use the `mnist` dataset, which is provided by Tensorflow Datasets--a collection of ready-to-use datasets for machine learning. All datasets are available through the `tf.data.Datasets` API endpoint, enabling us to easily access them. \n",
        "\n",
        "Here is the lesson roadmap:\n",
        "- Getting the dataset\n",
        "- Visualizing the data\n",
        "- Transforming the data\n",
        "- Normalizing the data"
      ]
    },
    {
      "cell_type": "code",
      "metadata": {
        "id": "EXbAivcw2Csr",
        "colab_type": "code",
        "colab": {
          "base_uri": "https://localhost:8080/",
          "height": 73
        },
        "outputId": "29990ba0-d1af-4428-b580-866abfd08bcd"
      },
      "source": [
        "# TensorFlow and tf.keras and TensorFlow datasets\n",
        "import tensorflow as tf\n",
        "from tensorflow import keras\n",
        "import tensorflow_datasets as tfds\n",
        "\n",
        "# Commonly used modules\n",
        "import numpy as np\n",
        "\n",
        "\n",
        "# Images, plots, display, and visualization\n",
        "import matplotlib.pyplot as plt\n",
        "import pandas as pd\n",
        "import seaborn as sns\n",
        "import cv2"
      ],
      "execution_count": 2,
      "outputs": [
        {
          "output_type": "stream",
          "text": [
            "/usr/local/lib/python3.6/dist-packages/statsmodels/tools/_testing.py:19: FutureWarning: pandas.util.testing is deprecated. Use the functions in the public API at pandas.testing instead.\n",
            "  import pandas.util.testing as tm\n"
          ],
          "name": "stderr"
        }
      ]
    },
    {
      "cell_type": "markdown",
      "metadata": {
        "id": "U8tRQe3hz0Xz",
        "colab_type": "text"
      },
      "source": [
        "# Getting the dataset\n",
        "When we want to solve a problem with machine learning methods, the first step is almost always to find a good dataset. As we mentioned above, we will retrieve the `mnist` dataset using the `tf.data.Datasets` Tensorflow API endpoint. \n",
        "\n",
        "The MNIST dataset contains 70k images of handwritten digits (i.e., numbers between 0 and 9). Let's load the dataset into our notebook."
      ]
    },
    {
      "cell_type": "code",
      "metadata": {
        "id": "lNn7bJffwtK8",
        "colab_type": "code",
        "colab": {}
      },
      "source": [
        "# Construct a tf.data.Dataset containing the beans dataset\n",
        "mnist, mnist_info = tfds.load('mnist', split='train', shuffle_files=True, with_info=True)"
      ],
      "execution_count": 0,
      "outputs": []
    },
    {
      "cell_type": "markdown",
      "metadata": {
        "id": "IIRW0TQKRMF2",
        "colab_type": "text"
      },
      "source": [
        "The `with_info` parameter tells Tensorflow to extract the label and features info."
      ]
    },
    {
      "cell_type": "markdown",
      "metadata": {
        "id": "C2fMQh96Qq9M",
        "colab_type": "text"
      },
      "source": [
        "# Visualize the dataset\n",
        "Now that we have the dataset let's visualize some samples.\n",
        "\n",
        "We will use the `show_examples` function to visualize the images. "
      ]
    },
    {
      "cell_type": "code",
      "metadata": {
        "id": "Nkc-9fzo2nHG",
        "colab_type": "code",
        "colab": {
          "base_uri": "https://localhost:8080/",
          "height": 1000
        },
        "outputId": "9a5eb82c-2ac8-48b7-8319-0b6583596634"
      },
      "source": [
        "tfds.show_examples(ds=mnist, ds_info=mnist_info)"
      ],
      "execution_count": 4,
      "outputs": [
        {
          "output_type": "display_data",
          "data": {
            "image/png": "[encoded data removed]",
            "text/plain": [
              "<Figure size 648x648 with 9 Axes>"
            ]
          },
          "metadata": {
            "tags": []
          }
        },
        {
          "output_type": "execute_result",
          "data": {
            "image/png": "[encoded data removed]",
            "text/plain": [
              "<Figure size 648x648 with 9 Axes>"
            ]
          },
          "metadata": {
            "tags": []
          },
          "execution_count": 4
        }
      ]
    },
    {
      "cell_type": "markdown",
      "metadata": {
        "id": "YaTo-0HeRgL3",
        "colab_type": "text"
      },
      "source": [
        "The above images give us a sense of the data, including samples belonging to different classes. "
      ]
    },
    {
      "cell_type": "markdown",
      "metadata": {
        "id": "l7yBnog9R3z1",
        "colab_type": "text"
      },
      "source": [
        "# Transforming the data\n",
        "Before we start transforming data, let's discuss *tensors*--a key part of the machine learning (ML) process, particularly for deep learning methods. \n",
        "\n",
        "As we learned in previous lessons, data, whether it be categorical or numerical in nature, is converted to a numerical representation to make it useful for machine learning models. In deep learning (neural networks), the numerical data is often stored in objects called *tensors*. A tensor is a container that can house data in $N$ dimensions. ML researchers sometimes use the term \"tensor\" and \"matrix\" interchangeably because a matrix is a 2-dimensional tensor. But, tensors are generalizations of matrices to $N$-dimensional space. \n",
        "\n",
        "<figure>\n",
        "  <img src='https://www.kdnuggets.com/wp-content/uploads/scalar-vector-matrix-tensor.jpg' width='75%'>\n",
        "  <figcaption>A scalar, vector ($2 \\times 1$), matrix ($2 \\times 1$), and tensor ($2 \\times 2 \\times 2$) .</figcaption>\n",
        "</figure>\n",
        "\n",
        "\n",
        "\n",
        "\n",
        "\n",
        "We represent these three colors using multi-dimensional arrays (arrays of arrays) called *tensors*. An image is a multi-dimensional array (i.e., matrix) of pixels, and each pixel is represented by a numerical value. For example, a small grayscale image may be composed of a $28 \\times 28 \\times$ matrix (array) of pixels. When images are not in grayscale (i.e., have color), they are defined by a *tensor*. A tensor is like an array of arrays. In machine learning, the subarrays are called \"channels\". \n",
        "\n",
        "\n",
        "It is common to represent a pixel value color values that correspond to a pixel in a given image. For instance, given a small color image of a dog, its tensor might be in the shape $28 \\times 28 \\times 3$. The 3rd tensor dimension (3) represents the number of channels that correspond pixels in a given image.\n",
        "\n",
        "Let's see what shape the mnist digits images are in."
      ]
    },
    {
      "cell_type": "code",
      "metadata": {
        "id": "B5H-RbwYkRvu",
        "colab_type": "code",
        "colab": {
          "base_uri": "https://localhost:8080/",
          "height": 35
        },
        "outputId": "9e5675d5-591c-48c7-a186-eb0380948e24"
      },
      "source": [
        "# a (2 x 2 x 2) tensor\n",
        "my_tensor = np.array([\n",
        "              [[1, 2], [3, 2]],\n",
        "              [[1, 7],[5, 4]]\n",
        "            ])\n",
        "\n",
        "print('my_tensor shape:', my_tensor.shape)"
      ],
      "execution_count": 5,
      "outputs": [
        {
          "output_type": "stream",
          "text": [
            "my_tensor shape: (2, 2, 2)\n"
          ],
          "name": "stdout"
        }
      ]
    },
    {
      "cell_type": "markdown",
      "metadata": {
        "id": "KVDaFLJekQOx",
        "colab_type": "text"
      },
      "source": [
        "Now let's discuss how images are stored in tensors. Computer screens are composed of pixels. Each pixel generates three colors of light (red, green, and blue) and the different colors we see are due to different combinations and intensities of these three primary colors.   \n",
        "\n",
        "<figure>\n",
        "  <img src='https://www.chem.purdue.edu/gchelp/cchem/RGBColors/BlackWhiteGray.gif' width='75%'>\n",
        "  <figcaption>The colors black, white, and gray with a sketch of a pixel from each.</figcaption>\n",
        "</figure>\n",
        "\n",
        "We use tensors to store the pixel intensities for a given image. Colorized pictures have 3 different *channels*. Each channel contains a matrix that represents the intensity values that correspond to the pixels of a particular color (red, green, and blue; RGB for short). For instance, consider a small colorized $28 \\times 28$ pixel image of a dog. Because the dog image is colorize, it has 3 channels, so its tensor shape is $28 \\times 28 \\times 3$.\n",
        "\n",
        "Let's have a look at the shape of the images in the MNIST dataset."
      ]
    },
    {
      "cell_type": "code",
      "metadata": {
        "id": "KSiz9BYuP5A9",
        "colab_type": "code",
        "colab": {
          "base_uri": "https://localhost:8080/",
          "height": 35
        },
        "outputId": "d4cc3a9d-1ffe-47b7-aa6b-63e51ddddfcd"
      },
      "source": [
        "mnist_info.features['image'].shape"
      ],
      "execution_count": 6,
      "outputs": [
        {
          "output_type": "execute_result",
          "data": {
            "text/plain": [
              "(28, 28, 1)"
            ]
          },
          "metadata": {
            "tags": []
          },
          "execution_count": 6
        }
      ]
    },
    {
      "cell_type": "markdown",
      "metadata": {
        "id": "hJQb1gXjXJVf",
        "colab_type": "text"
      },
      "source": [
        "Using the `mnist_info.features` dictionary object, we can retrieve the image shape by  the look at the 'image' key to figure out its dimensions. We see that images are in the tensor shape $28 \\times 28 \\times 1$. The 3rd dimension is only 1 channel rather than 3, this indicates that we are working with grayscale images. By grayscale, we mean the pixels don't have intensities for red, green, and blue channels but rather for one grayscale channel, which describes an image using combinations of various shades of gray. Pixel intensities range between $0$ and $255$, and in our case, they correspond to black $0$ to white $255$.  \n",
        "\n",
        "\n",
        "Now let's reshape the images into $784 \\times 1$ dimensional arrays. We call converting an image into an $n \\times 1$ tensor \"flattening\". "
      ]
    },
    {
      "cell_type": "code",
      "metadata": {
        "id": "biPfqtMUUrvM",
        "colab_type": "code",
        "colab": {
          "base_uri": "https://localhost:8080/",
          "height": 233
        },
        "outputId": "6356f786-caa4-48cd-c10d-a850be8661cf"
      },
      "source": [
        "# get a subset of 5 images from the dataset\n",
        "small_mnist = mnist.take(5)\n",
        "\n",
        "# convert the Dataset to NumPy arrays \n",
        "for sample in tfds.as_numpy(small_mnist):\n",
        "  image, label = sample['image'], sample['label']\n",
        "  print('image shape:', image.shape)\n",
        "\n",
        "print('-'*10)\n",
        "\n",
        "\n",
        "# reshape images (note there are other ways to reshape the data with tensorflow)\n",
        "# this is just one of them\n",
        "reshaped_images, reshaped_labels = [], [] \n",
        "for sample in tfds.as_numpy(small_mnist):\n",
        "  image_flat = sample['image'].reshape(-1, 1)\n",
        "  label = sample['label']\n",
        "  \n",
        "  reshaped_images.append(image_flat)\n",
        "  reshaped_labels.append(label)\n",
        "\n",
        "  print('flattened image shape:', image_flat.shape)\n",
        "\n",
        "# convert python list to numpy array\n",
        "# (num samples, num features, num channels)\n",
        "reshaped_images = np.array(reshaped_images) # a dataset with shape (5, 784, 1) \n",
        "reshaped_labels = np.array(reshaped_labels)\n",
        "\n",
        "print('reshaped small mnist dataset features shape: ', reshaped_images.shape)"
      ],
      "execution_count": 23,
      "outputs": [
        {
          "output_type": "stream",
          "text": [
            "image shape: (28, 28, 1)\n",
            "image shape: (28, 28, 1)\n",
            "image shape: (28, 28, 1)\n",
            "image shape: (28, 28, 1)\n",
            "image shape: (28, 28, 1)\n",
            "----------\n",
            "flattened image shape: (784, 1)\n",
            "flattened image shape: (784, 1)\n",
            "flattened image shape: (784, 1)\n",
            "flattened image shape: (784, 1)\n",
            "flattened image shape: (784, 1)\n",
            "reshaped small mnist dataset features shape:  (5, 784, 1)\n"
          ],
          "name": "stdout"
        }
      ]
    },
    {
      "cell_type": "markdown",
      "metadata": {
        "id": "ifFQTBlODdkw",
        "colab_type": "text"
      },
      "source": [
        "We flattened each image by using the NumPy `reshape` method. Since one shape dimension can be -1, we used $(-1,1)$ as the parameters to `reshape`. In this case, the -1 tells the `reshape` to infer the final tensor shape from the length of the original array and the remaining parameter dimensions. In our example, this means $28 \\times 28$ is flattened to produce $28 \\cdot 28 = 784$ features, and the $1$ in the final parameter dimension indicates that the returned tensor will have shape $784 \\times 1$.\n",
        "\n"
      ]
    },
    {
      "cell_type": "markdown",
      "metadata": {
        "id": "6bApbf2QMNnY",
        "colab_type": "text"
      },
      "source": [
        "# Normalizing the data\n",
        "\n",
        "Another important transformation technique is *normalization*.  We use it to encourage machine learning models to learn generalizable features, which should lead to better results on unseen data. \n",
        "\n",
        "At a high level, normalization makes the data more, well...normal. There are various ways to normalize data. Perhaps the most common normalization approach for image data is to subtract the mean pixel value and divide by the standard deviation (this method is applied to every pixel)."
      ]
    },
    {
      "cell_type": "code",
      "metadata": {
        "id": "UqypdC9Kd_Xy",
        "colab_type": "code",
        "colab": {
          "base_uri": "https://localhost:8080/",
          "height": 53
        },
        "outputId": "429d8a84-e67c-482e-af9d-04f7e23d0e74"
      },
      "source": [
        "# normalize the reshaped images\n",
        "mean = reshaped_images.mean()\n",
        "std = reshaped_images.std()\n",
        "\n",
        "norm_images = reshaped_images.astype('float64')\n",
        "norm_images -= mean\n",
        "norm_images /= std\n",
        "\n",
        "print(f'non-normalized images mean and std: {round(mean, 4)}, {round(std, 4)}')\n",
        "print(f'normalized images mean and std: {round(norm_images.mean(), 4)}, {round(norm_images.std(), 4)}')"
      ],
      "execution_count": 29,
      "outputs": [
        {
          "output_type": "stream",
          "text": [
            "non-normalized images mean and std: 33.9931, 79.5976\n",
            "normalized images mean and std: 0.0, 1.0\n"
          ],
          "name": "stdout"
        }
      ]
    },
    {
      "cell_type": "markdown",
      "metadata": {
        "id": "rQibn2RQL452",
        "colab_type": "text"
      },
      "source": [
        "As we see above, the normalized pixel values are now centered around 0 (i.e., mean = 0) and have a standard deviation of 1."
      ]
    },
    {
      "cell_type": "markdown",
      "metadata": {
        "id": "fQsBVuRfMroF",
        "colab_type": "text"
      },
      "source": [
        "# Summary\n",
        "In this lesson we learned:\n",
        "- TensorFlow Datasets offers many easy to access image datasets.\n",
        "- Images are represented by *tensors*\n",
        "- Tensors can be transformed (reshaped) and normalized easily using NumPy (or any other frameworks that enable tensor operations).   "
      ]
    }
  ]
}