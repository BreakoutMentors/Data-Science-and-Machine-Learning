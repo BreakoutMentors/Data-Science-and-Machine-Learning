{
  "nbformat": 4,
  "nbformat_minor": 0,
  "metadata": {
    "colab": {
      "provenance": []
    },
    "kernelspec": {
      "name": "python3",
      "display_name": "Python 3"
    },
    "language_info": {
      "name": "python"
    }
  },
  "cells": [
    {
      "cell_type": "markdown",
      "source": [
        "# Part 1: What is Google Colab?\n",
        "Google Colaboratory, or \"Colab\" for short, is a product from Google Research. It allows you to write and execute Python code in your browser, with\n",
        "- Zero configuration required\n",
        "- Free access to GPUs\n",
        "- Easy sharing\n",
        "\n",
        "Whether you're a student, a data scientist, or an AI researcher, Colab can make your work easier. You can write your Python scripts in a more interactive and visual way, which is especially useful for data analysis, visualization, and machine learning tasks.\n"
      ],
      "metadata": {
        "id": "w27i7uJ9WLNS"
      }
    },
    {
      "cell_type": "markdown",
      "source": [
        "## How to Run Cells"
      ],
      "metadata": {
        "id": "0km17y24WoA9"
      }
    },
    {
      "cell_type": "markdown",
      "source": [
        "Running cells in Colab is simple. Click on the cell and then click the play button on the left of the code, or use the shortcut 'Shift + Enter'. Try running the cell below!\n"
      ],
      "metadata": {
        "id": "7Kn7F6-JWmMC"
      }
    },
    {
      "cell_type": "code",
      "source": [
        "print(\"Hello, World!\")"
      ],
      "metadata": {
        "id": "gW32_2dWWq17"
      },
      "execution_count": null,
      "outputs": []
    },
    {
      "cell_type": "markdown",
      "source": [
        "Try replacing \"world\" with your name and re-run the cell!"
      ],
      "metadata": {
        "id": "Bg_woX5OWv39"
      }
    },
    {
      "cell_type": "markdown",
      "source": [
        "## How to Add/Remove Cells"
      ],
      "metadata": {
        "id": "8cQWSpKOW-Z-"
      }
    },
    {
      "cell_type": "markdown",
      "source": [
        "Adding new cells or deleting existing ones is straightforward in Colab. For adding new cells, click on the '+ Code' or '+ Text' buttons in the upper left corner.\n",
        "\n",
        "Create a code cell and print your name.\n"
      ],
      "metadata": {
        "id": "r6ykwkAGXBMd"
      }
    },
    {
      "cell_type": "markdown",
      "source": [
        "To delete a cell, click on the cell, then click on the Trash Bin next to three vertical dots in the upper right corner of the cell.\n",
        "\n",
        "Now, delete the cell you just created."
      ],
      "metadata": {
        "id": "ELct41izXZdI"
      }
    },
    {
      "cell_type": "markdown",
      "source": [
        "# Part 2: Python Basics"
      ],
      "metadata": {
        "id": "-73OMj3If4fj"
      }
    },
    {
      "cell_type": "markdown",
      "source": [
        "Before we delve into Gradio, let's review some Python basics, such as variables and methods/functions. Understanding these concepts will make working with Gradio and other libraries much easier."
      ],
      "metadata": {
        "id": "XSy0pDn_f8wL"
      }
    },
    {
      "cell_type": "markdown",
      "source": [
        "## Variables"
      ],
      "metadata": {
        "id": "ppPbMU6SQV-g"
      }
    },
    {
      "cell_type": "markdown",
      "source": [
        "Variables store values that we can use later. For instance, we can store a person's name, age, and favorite color in variables and print them out."
      ],
      "metadata": {
        "id": "67vIyxF_QzHS"
      }
    },
    {
      "cell_type": "code",
      "source": [
        "# Variables are containers that store data values. Here, we'll define and print some basic variables.\n",
        "name = \"Your Name\" # Change to your name\n",
        "age = 100 # Change to your age\n",
        "favorite_color = \"turquoise\" # Change to your favorite color\n",
        "\n",
        "print(f\"{name} is {age} years old and their favorite color is {favorite_color}.\") # Do not change"
      ],
      "metadata": {
        "id": "plQJ_nfFQl2s"
      },
      "execution_count": null,
      "outputs": []
    },
    {
      "cell_type": "markdown",
      "source": [
        "## Tuples\n",
        "\n",
        "Tuples are ordered, immutable collections in Python. Once you create a tuple, you cannot alter its contents - similar to string data types.\n",
        "\n",
        "You can create a tuple by placing a comma-separated sequence of values inside parentheses `()`. Here's an example:"
      ],
      "metadata": {
        "id": "hhK6UozscASR"
      }
    },
    {
      "cell_type": "code",
      "source": [
        "# Creating a tuple and printing its values\n",
        "example_tuple = (1, \"apple\", 3.14)\n",
        "print(example_tuple)"
      ],
      "metadata": {
        "id": "ZxdMVAQmcE1B"
      },
      "execution_count": null,
      "outputs": []
    },
    {
      "cell_type": "markdown",
      "source": [
        "Tuples are commonly used for small collections of values that will not need to change, such as an RGB color:\n",
        "```python\n",
        "red = (255, 0, 0)\n",
        "```"
      ],
      "metadata": {
        "id": "WcshjpkpcPS4"
      }
    },
    {
      "cell_type": "markdown",
      "source": [
        "## Lists\n",
        "\n",
        "Unlike tuples, lists are mutable, meaning their content can change. Lists are ordered collections and are very versatile. They can hold items of any data type and are created by placing a comma-separated sequence of values inside square brackets `[]`.\n"
      ],
      "metadata": {
        "id": "qENkbGHXcd0J"
      }
    },
    {
      "cell_type": "code",
      "source": [
        "# Creating a list and printing its values\n",
        "fruits = [\"apple\", \"banana\", \"cherry\"]\n",
        "print(fruits)\n",
        "\n",
        "# You can add items to a list\n",
        "fruits.append(\"orange\")\n",
        "print(fruits)\n",
        "\n",
        "# And remove items as well\n",
        "fruits.remove(\"apple\")\n",
        "print(fruits)"
      ],
      "metadata": {
        "id": "fhiMTyxPchCv"
      },
      "execution_count": null,
      "outputs": []
    },
    {
      "cell_type": "markdown",
      "source": [
        "## Dictionaries\n",
        "\n",
        "Dictionaries in Python are unordered collections of items. Each item is stored as a key-value pair. You create dictionaries using curly braces `{}`, separating keys from their values with a colon."
      ],
      "metadata": {
        "id": "XGAIZ87PcvkO"
      }
    },
    {
      "cell_type": "code",
      "source": [
        "# Creating a dictionary and printing its values\n",
        "person = {\n",
        "    \"name\": \"John\",\n",
        "    \"age\": 30,\n",
        "    \"city\": \"New York\"\n",
        "}\n",
        "print(person)\n",
        "\n",
        "# Accessing values using their keys\n",
        "print(person[\"name\"])  # Outputs: \"John\"\n",
        "\n",
        "# You can also add new key-value pairs\n",
        "person[\"job\"] = \"Engineer\"\n",
        "print(person)"
      ],
      "metadata": {
        "id": "4FIUSeU5c6uP"
      },
      "execution_count": null,
      "outputs": []
    },
    {
      "cell_type": "markdown",
      "source": [
        "Dictionaries are incredibly versatile and are used in various scenarios in Python. They are especially useful when you want to associate specific keys with values, such as configurations or user profiles.\n"
      ],
      "metadata": {
        "id": "3PguPG-lc92z"
      }
    },
    {
      "cell_type": "markdown",
      "source": [
        "## Methods/Functions\n",
        "Methods (also known as functions) are reusable blocks of code that perform a specific task. They can take in inputs (arguments) and produce output (return values).\n",
        "\n",
        "Here's a simple function that takes a string as input and returns the same string in uppercase."
      ],
      "metadata": {
        "id": "3plvaGIfe6fy"
      }
    },
    {
      "cell_type": "code",
      "source": [
        "# Functions are blocks of reusable code. They allow for modularity and can make code more efficient and easier to manage.\n",
        "def uppercase_text(input_text):\n",
        "    # We can use the string method `.upper` to uppercase our input_text string\n",
        "    return input_text.upper()"
      ],
      "metadata": {
        "id": "meUEdu7oe_sp"
      },
      "execution_count": null,
      "outputs": []
    },
    {
      "cell_type": "markdown",
      "source": [
        "We can test our function by calling it with some input."
      ],
      "metadata": {
        "id": "jHK79Rg-fBgO"
      }
    },
    {
      "cell_type": "code",
      "source": [
        "print(uppercase_text(\"Hello, world!\"))"
      ],
      "metadata": {
        "id": "qcW3NN-dfCiP"
      },
      "execution_count": null,
      "outputs": []
    },
    {
      "cell_type": "markdown",
      "source": [
        "As you can see, the function transformed the input text into uppercase."
      ],
      "metadata": {
        "id": "eiXNUieFfJuo"
      }
    },
    {
      "cell_type": "markdown",
      "source": [
        "## How to accept user input"
      ],
      "metadata": {
        "id": "7oXOFYPZPlYa"
      }
    },
    {
      "cell_type": "markdown",
      "source": [
        "We will be using the `input` method from python. To pass in a prompt, simply call `input` with a string!"
      ],
      "metadata": {
        "id": "SMyzOkBiPtSY"
      }
    },
    {
      "cell_type": "code",
      "source": [
        "# The prompt in this case is \"Enter your name: \"\n",
        "name = input(\"Enter your name: \")\n",
        "# Here we use the input in a print statement\n",
        "print(f\"Hello, {name}!\")"
      ],
      "metadata": {
        "id": "celZlVBWPqDt"
      },
      "execution_count": null,
      "outputs": []
    },
    {
      "cell_type": "markdown",
      "source": [
        "## Classes\n",
        "Classes in Python allow you to create custom types. A class has attributes and methods, defined in a block of code beginning with `class ClassName:`. Here's a basic example:"
      ],
      "metadata": {
        "id": "F3ZtMxYHXhEg"
      }
    },
    {
      "cell_type": "code",
      "source": [
        "# Classes provide a foundation for Object-Oriented Programming in Python. They allow us to create custom objects and methods.\n",
        "class Dog:\n",
        "    # This is the constructor, it is called when the class is created\n",
        "    def __init__(self, name):\n",
        "        # Classes allow us to store variables in a container.\n",
        "        self.name = name\n",
        "\n",
        "    def bark(self):\n",
        "        return f\"{self.name} says Woof!\""
      ],
      "metadata": {
        "id": "a0k1N97fXs6M"
      },
      "execution_count": null,
      "outputs": []
    },
    {
      "cell_type": "markdown",
      "source": [
        "In this Dog class, __init__ is a special method called when an instance of Dog is created. The bark method is an instance method.\n",
        "\n",
        "You create an instance of a class and call its methods like this:"
      ],
      "metadata": {
        "id": "w65K-EZnXjJ-"
      }
    },
    {
      "cell_type": "code",
      "source": [
        "fido = Dog(\"Fido\")\n",
        "print(fido.bark())  # Outputs: \"Fido says Woof!\""
      ],
      "metadata": {
        "id": "ffxts_oEX1f7"
      },
      "execution_count": null,
      "outputs": []
    },
    {
      "cell_type": "markdown",
      "source": [
        "In this case, fido is an instance of the Dog class, and we're calling the instance method bark."
      ],
      "metadata": {
        "id": "WAK6S_YcX3yz"
      }
    },
    {
      "cell_type": "markdown",
      "source": [
        "# Part 2: Introduction to Gradio"
      ],
      "metadata": {
        "id": "FcZm2bWAXzut"
      }
    },
    {
      "cell_type": "markdown",
      "source": [
        "Gradio is an open-source Python library for creating user-friendly interfaces around machine learning models. It simplifies the process of demoing, debugging, and cleaning datasets.\n",
        "\n",
        "Before we dive in, let's install the Gradio library. You can do this by running the cell below.\n"
      ],
      "metadata": {
        "id": "VZ-y41eDX1hm"
      }
    },
    {
      "cell_type": "code",
      "source": [
        "!pip install gradio\n",
        "# Gradio allows for quick prototyping and demonstration of machine learning models through an intuitive UI.\n",
        "import gradio as gr"
      ],
      "metadata": {
        "id": "Op0GIxHzWOF4"
      },
      "execution_count": null,
      "outputs": []
    },
    {
      "cell_type": "markdown",
      "source": [
        "## Gradio Interface Components"
      ],
      "metadata": {
        "id": "x9B1BEKQYVZh"
      }
    },
    {
      "cell_type": "markdown",
      "source": [
        "Gradio offers various interface components like text boxes, sliders, progress bars, and more. Let's explore some of these components."
      ],
      "metadata": {
        "id": "I78zot9dYex4"
      }
    },
    {
      "cell_type": "markdown",
      "source": [
        "### Sketchpad"
      ],
      "metadata": {
        "id": "0L5KzNICX_gV"
      }
    },
    {
      "cell_type": "markdown",
      "source": [
        "The sketchpad component in Gradio allows users to draw or sketch on a canvas. This can be particularly useful when you want to get inputs for models that involve images or drawings, like a digit recognizer or a doodle predictor.\n",
        "\n",
        "To use the sketchpad, you just need to specify \"sketchpad\" as the input component when creating a Gradio interface. Here's an example:\n"
      ],
      "metadata": {
        "id": "ncJHp2cnYDA0"
      }
    },
    {
      "cell_type": "code",
      "source": [
        "# Sketchpad: Useful for drawing or sketching inputs.\n",
        "def process_image(image):\n",
        "    # Just return the image as is\n",
        "    return image\n",
        "\n",
        "demo = gr.Interface(\n",
        "    # Here we are telling the interface what function to use\n",
        "    fn=process_image,\n",
        "    # Type of input we want\n",
        "    inputs=\"sketchpad\",\n",
        "    # Type of output from the `fn` method we defined (image)\n",
        "    outputs=\"image\"\n",
        ")\n",
        "demo.launch()"
      ],
      "metadata": {
        "id": "2dB4HkaWd00u"
      },
      "execution_count": null,
      "outputs": []
    },
    {
      "cell_type": "markdown",
      "source": [
        "#### Gradio Interface Parameters:\n",
        "\n",
        "**1. `fn`:**\n",
        "- Represents the function to be called upon user interaction.\n",
        "- For the provided code, it's `process_image` which returns the input image as-is.\n",
        "\n",
        "**2. `inputs`:**\n",
        "- Defines the type of input component.\n",
        "- Here, it's set to \"sketchpad\", allowing users to draw or sketch images.\n",
        "- Remember, these are the inputs/parameters to our `fn` method.\n",
        "\n",
        "**3. `outputs`:**\n",
        "- Specifies the type of output component.\n",
        "- In this context, it's \"image\", displaying the result of `process_image`."
      ],
      "metadata": {
        "id": "l4C9stGcbhx3"
      }
    },
    {
      "cell_type": "markdown",
      "source": [
        "#### Sketchpad: Your Turn\n",
        "Now, make your own Gradio sketchpad using a method that returns `255 - image`."
      ],
      "metadata": {
        "id": "4P_RvSmwH1iQ"
      }
    },
    {
      "cell_type": "code",
      "source": [
        "def custom_process_image(image):\n",
        "    # TODO: return 255 subtracted by the image\n",
        "    pass # remove pass after you complete the method\n",
        "\n",
        "demo = #TODO\n",
        "\n",
        "demo.launch()"
      ],
      "metadata": {
        "id": "3N4IBr-OIRKf"
      },
      "execution_count": null,
      "outputs": []
    },
    {
      "cell_type": "markdown",
      "source": [
        "### Text boxes"
      ],
      "metadata": {
        "id": "1n-smK_RYg5k"
      }
    },
    {
      "cell_type": "markdown",
      "source": [
        "Text boxes can be used for both input and output. They can be single-line or multi-line. Let's create a Gradio interface that uppercases the input text."
      ],
      "metadata": {
        "id": "4yPZFCJhYiju"
      }
    },
    {
      "cell_type": "code",
      "source": [
        "# Text boxes: Used to get string input from the user.\n",
        "def uppercase_text(input_text):\n",
        "    return input_text.upper()\n",
        "\n",
        "demo = gr.Interface(\n",
        "    fn=uppercase_text,\n",
        "    # We want to input text, so we need to use text\n",
        "    inputs=\"text\",\n",
        "    # We want to output the uppercase of the input so we just output \"text\"\n",
        "    outputs=\"text\"\n",
        ")\n",
        "demo.launch()"
      ],
      "metadata": {
        "id": "k249TC1xYFEp"
      },
      "execution_count": null,
      "outputs": []
    },
    {
      "cell_type": "markdown",
      "source": [
        "#### Text boxes: Your Turn\n",
        "Program a Gradio interface with a textbox as an input and a text output. For the `fn` method, create a new method using `.lower()` to lowercase the input."
      ],
      "metadata": {
        "id": "C6FJAxoQJDlF"
      }
    },
    {
      "cell_type": "code",
      "source": [
        "def lowercase_text(input_text):\n",
        "    # TODO: Convert input text to lowercase\n",
        "    pass # remove pass after you complete the method\n",
        "\n",
        "# TODO: Define your Gradio interface here and then call demo.launch()"
      ],
      "metadata": {
        "id": "hQzZTdBCJfHB"
      },
      "execution_count": null,
      "outputs": []
    },
    {
      "cell_type": "markdown",
      "source": [
        "### Sliders"
      ],
      "metadata": {
        "id": "Piw9YPSmedy7"
      }
    },
    {
      "cell_type": "markdown",
      "source": [
        "Sliders can be used to get numeric input within a defined range. Let's create an interface that squares the input number. We'll need to specify a range of values, so let's just choose 0 for the lower bounds and 25 for the upper.\n"
      ],
      "metadata": {
        "id": "RkrBa2PBegZ5"
      }
    },
    {
      "cell_type": "code",
      "source": [
        "# Sliders: Ideal for numeric inputs within a specific range.\n",
        "def square_number(x):\n",
        "    # Use Python's exponent operator\n",
        "    return x ** 2\n",
        "\n",
        "demo = gr.Interface(\n",
        "    fn=square_number,\n",
        "    # We need to call a method in this case because we specify the lower and upper bounds\n",
        "    inputs=gr.Slider(0, 25, label=\"Square a number\"),\n",
        "    # We are just squaring a number, so our output is also a number\n",
        "    outputs=\"number\"\n",
        ")\n",
        "demo.launch()"
      ],
      "metadata": {
        "id": "PLJF96HNei8O"
      },
      "execution_count": null,
      "outputs": []
    },
    {
      "cell_type": "markdown",
      "source": [
        "#### Your Turn: Sliders\n",
        "Create a slider interface that cubes (x^3) a number. Try out a few upper and lower bounds."
      ],
      "metadata": {
        "id": "yrX43rpLL4OL"
      }
    },
    {
      "cell_type": "code",
      "source": [
        "def cube_number(x):\n",
        "    # TODO\n",
        "    pass # remove pass after you complete the method\n",
        "\n",
        "# TODO: Define your Gradio interface here and then call demo.launch()"
      ],
      "metadata": {
        "id": "EbiQJnkBMAo7"
      },
      "execution_count": null,
      "outputs": []
    },
    {
      "cell_type": "markdown",
      "source": [
        "### Radios\n",
        "Radio buttons allow users to select one option from a set of choices. Let's design an interface that displays the color based on the chosen option. We'll provide choices like Red, Green, Blue, and Yellow. Once a user selects one, the corresponding color will be displayed.\n"
      ],
      "metadata": {
        "id": "RZcQGPb9NWeG"
      }
    },
    {
      "cell_type": "code",
      "source": [
        "# Here we are importing Pillow to create images\n",
        "from PIL import Image\n",
        "\n",
        "\n",
        "# display_color takes in the choice from the `choices` list we pass later.\n",
        "def display_color(color_name):\n",
        "    if color_name is None:\n",
        "        pass\n",
        "    # Here we store the Color string with its corresponding color\n",
        "    # We are creating new 100x100 images with our desired RGB (Red, Green, Blue) values.\n",
        "    color_map = {\n",
        "        \"Red\"    : Image.new('RGB', (100, 100),(255, 0, 0)),\n",
        "        \"Green\"  : Image.new('RGB', (100, 100),(0, 255, 0)),\n",
        "        \"Blue\"   : Image.new('RGB', (100, 100),(0, 0, 255)),\n",
        "        \"Yellow\" : Image.new('RGB', (100, 100),(255, 255, 0)),\n",
        "    }\n",
        "\n",
        "    return color_map[color_name]\n",
        "\n",
        "demo = gr.Interface(\n",
        "    fn=display_color,\n",
        "    inputs=gr.Radio(choices=[\"Red\", \"Green\", \"Blue\", \"Yellow\"], label=\"Choose a Color\"),\n",
        "    outputs=\"image\"\n",
        ")\n",
        "\n",
        "demo.launch()"
      ],
      "metadata": {
        "id": "Ip_RpfKhQ3uB"
      },
      "execution_count": null,
      "outputs": []
    },
    {
      "cell_type": "markdown",
      "source": [
        "#### Radios: Your Turn\n",
        "Radio buttons allow users to select one option from a set of choices. Let's design an interface that displays the shape based on the chosen option. We'll provide choices like Circle, Square, and Triangle. Once a user selects one, the corresponding shape will be displayed as text."
      ],
      "metadata": {
        "id": "pkfXSqZfPirY"
      }
    },
    {
      "cell_type": "code",
      "source": [
        "def display_shape(option):\n",
        "    # We've created a dictionary to map the choices to their output\n",
        "    shapes = {\n",
        "        'Circle': '⚫',\n",
        "        'Square': '▪',\n",
        "        'Triangle': '🔺'\n",
        "    }\n",
        "    # TODO: Return the corresponding shape\n",
        "    pass # Remove pass after you finish the method\n",
        "\n",
        "# TODO: Define your Gradio interface here with a text output and then call demo.launch()"
      ],
      "metadata": {
        "id": "vIAL_rrdORnA"
      },
      "execution_count": null,
      "outputs": []
    },
    {
      "cell_type": "markdown",
      "source": [
        "## Toy Calculator"
      ],
      "metadata": {
        "id": "wuAejO-AdaWp"
      }
    },
    {
      "cell_type": "markdown",
      "source": [
        "Now let's build a simple calculator that can add, subtract, multiply, and divide. If you try to divide by zero, the calculator will show an error. This is because dividing by zero is undefined in mathematics. We also used some more optional formatting options, such as examples, title, and description.\n",
        "\n",
        "`examples` give the user an idea of what inputs they should try.\n",
        "\n",
        "`title` gives the interface a title with the specified text.\n",
        "\n",
        "`description` is helpful when you want to describe what your program does.\n",
        "\n",
        "Note: In this interface, we have multiple inputs passed as a list."
      ],
      "metadata": {
        "id": "M7L96ob8jJ6O"
      }
    },
    {
      "cell_type": "code",
      "source": [
        "# Define the calculator function\n",
        "def calculator(num1, operation, num2):\n",
        "\n",
        "    # Handle different arithmetic operations\n",
        "    if operation == \"add\":\n",
        "        return num1 + num2\n",
        "    elif operation == \"subtract\":\n",
        "        return num1 - num2\n",
        "    elif operation == \"multiply\":\n",
        "        return num1 * num2\n",
        "    elif operation == \"divide\":\n",
        "        # Check for division by zero and raise an error if true\n",
        "        if num2 == 0:\n",
        "            raise gr.Error(\"Cannot divide by zero!\")\n",
        "        return num1 / num2\n",
        "\n",
        "# Create a Gradio interface for the calculator function\n",
        "demo = gr.Interface(\n",
        "    fn=calculator,  # The function to run on user interaction\n",
        "    inputs=[\n",
        "        \"number\",  # Input for num1\n",
        "        gr.Radio([\"add\", \"subtract\", \"multiply\", \"divide\"]),  # Radio buttons for operator\n",
        "        gr.Slider(-100, 100, value=0)  # Slider input for num2\n",
        "    ],\n",
        "    outputs=\"number\",  # Output type is a number\n",
        "    examples=[\n",
        "        [5, \"add\", 3],\n",
        "        [4, \"divide\", 2],\n",
        "        [-4, \"multiply\", 2.5],\n",
        "        [0, \"subtract\", 1.2],\n",
        "    ],  # Predefined examples for the user to test\n",
        "    title=\"Toy Calculator\",  # Title of the interface\n",
        "    description=\"Here's a sample toy calculator. Allows you to calculate things like $2+2=4$\",  # Description of the interface\n",
        ")\n",
        "\n",
        "# Launch the Gradio interface with a concurrency limit\n",
        "demo.launch()"
      ],
      "metadata": {
        "id": "U4kjK9bEX-Gr"
      },
      "execution_count": null,
      "outputs": []
    },
    {
      "cell_type": "markdown",
      "source": [
        "#### Color Calculator: Your Turn\n",
        "Our RGB Calculator allows you to combine two colors using various operations like \"average\", \"multiply\", and \"divide\".\n",
        "\n",
        "- Average finds the mean RGB values of the two input colors.\n",
        "- Multiply multiplies each RGB component of the first color by the corresponding component of the second and then divides the result by 255.\n",
        "- Divide multiplies each RGB component of the first color by 255 and then divides the result by the corresponding component of the second color. If any component of the second color is 0, we replace it with 255 to avoid a divide-by-zero error.\n",
        "\n",
        "First, try out the program as it is. We recommend using [Google](https://g.co/kgs/cJbp5p) to pick the RGB values.\n",
        "\n",
        "#### Next Steps\n",
        "\n",
        "The world of color manipulations is vast, and this is just the beginning! As the next steps:\n",
        "- Extend the Operators: Can you think of other interesting ways to combine colors? Perhaps adding or subtracting them? Dive into the code and introduce your own operators!\n",
        "- Experiment with Inputs: How about changing the slider inputs to another type like `\"number\"` or even try using Gradio's radio option to choose from predefined colors? It could make the tool even more intuitive. Don't forget to change both the `rgb_calculator` parameters but also the `gr.Radio` operator options.\n",
        "    - Hint: If you want to use predefined colors, you'll need to replace all 3 sliders with a single Radio, then refer to the color dictionary we created in the Radios example."
      ],
      "metadata": {
        "id": "xipxDGx4YXdO"
      }
    },
    {
      "cell_type": "code",
      "source": [
        "# A function to clip the RGB values in the tuple to the range [0, 255]\n",
        "# This ensures our RGB values are within values of 0 to 255.\n",
        "def tuple_clip(tup):\n",
        "    return tuple(max(0, min(255, int(val))) for val in tup)\n",
        "\n",
        "def rgb_calculator(r1, g1, b1, operation, r2, g2, b2):\n",
        "    # Create 2 rgb tuples so we can use tuple_clip\n",
        "    rgb1 = (r1, g1, b1)\n",
        "    rgb2 = (r2, g2, b2)\n",
        "\n",
        "    if operation == \"average\":\n",
        "        result_rgb = (\n",
        "            (rgb1[0] + rgb2[0]) // 2, # add them up and take the average\n",
        "            (rgb1[1] + rgb2[1]) // 2,\n",
        "            (rgb1[2] + rgb2[2]) // 2\n",
        "        )\n",
        "    elif operation == \"multiply\":\n",
        "        result_rgb = (\n",
        "            rgb1[0] * rgb2[0] // 255, # multiply them, then divide by 255\n",
        "            rgb1[1] * rgb2[1] // 255,\n",
        "            rgb1[2] * rgb2[2] // 255\n",
        "        )\n",
        "    elif operation == \"divide\":\n",
        "        # Handle zero-division\n",
        "        rgb2 = tuple(255 if val == 0 else val for val in rgb2)\n",
        "        result_rgb = (\n",
        "            rgb1[0] * 255 // rgb2[0], # multiply them, then divide by 255\n",
        "            rgb1[1] * 255 // rgb2[1],\n",
        "            rgb1[2] * 255 // rgb2[2]\n",
        "        )\n",
        "    # TODO: add your own operations here\n",
        "    # elif operation == \"add\":\n",
        "\n",
        "    # Convert the resulting RGB value to an image\n",
        "    color_image = Image.new('RGB', (100, 100), tuple_clip(result_rgb))\n",
        "    return color_image\n",
        "\n",
        "demo = gr.Interface(\n",
        "    fn=rgb_calculator,  # The function to run on user interaction\n",
        "    inputs=[\n",
        "        # Sliders for the first color\n",
        "        gr.Slider(0, 255, label=\"Red1\"),  # Slider input for the first Red value\n",
        "        gr.Slider(0, 255, label=\"Green1\"),  # Slider input for the first Green value\n",
        "        gr.Slider(0, 255, label=\"Blue1\"),  # Slider input for the first Blue value\n",
        "        # Radio for picking the operator\n",
        "        gr.Radio([\"average\", \"multiply\", \"divide\"]),  # Radio buttons for operations\n",
        "        # Sliders for the second color\n",
        "        gr.Slider(0, 255, label=\"Red2\"),  # Slider input for the first Red value\n",
        "        gr.Slider(0, 255, label=\"Green2\"),  # Slider input for the first Green value\n",
        "        gr.Slider(0, 255, label=\"Blue2\"),  # Slider input for the first Blue value\n",
        "    ],\n",
        "    outputs=\"image\",  # Output the result as an image\n",
        "    title=\"RGB Calculator\",  # Title of the interface\n",
        "    description=\"Explore the fascinating world of RGB color mixing with this interactive tool. Blend two colors using operations like 'average', 'multiply', or 'divide'. Dive deeper: introduce new operations or experiment with different input types!\",  # Description of the interface\n",
        ")\n",
        "\n",
        "demo.launch()"
      ],
      "metadata": {
        "id": "jODYEi9Ge1mf"
      },
      "execution_count": null,
      "outputs": []
    },
    {
      "cell_type": "markdown",
      "source": [
        "# Conclusion"
      ],
      "metadata": {
        "id": "ziGvB1CIipRV"
      }
    },
    {
      "cell_type": "markdown",
      "source": [
        "Great job on completing this lesson! You've learned about Google Colab, a tool that lets you write and run Python code in your browser. You've also discovered Gradio, a library that makes it easy to create interactive demos of Python code.\n",
        "\n",
        "You've practiced using different components in Gradio, such as the sketchpad, text boxes, and sliders. You've also created a simple calculator app!"
      ],
      "metadata": {
        "id": "-DZ3GCOsii1h"
      }
    }
  ]
}