{
  "nbformat": 4,
  "nbformat_minor": 0,
  "metadata": {
    "colab": {
      "name": "Single-Variable Linear Regression Challenge 2.ipynb",
      "provenance": [],
      "authorship_tag": "ABX9TyPRhaO1nVCOOpMiedaMQ5es",
      "include_colab_link": true
    },
    "kernelspec": {
      "name": "python3",
      "display_name": "Python 3"
    }
  },
  "cells": [
    {
      "cell_type": "markdown",
      "metadata": {
        "id": "view-in-github",
        "colab_type": "text"
      },
      "source": [
        "<a href=\"https://colab.research.google.com/github/BreakoutMentors/Data-Science-and-Machine-Learning/blob/master/machine_learning/lesson%201%20-%20linear%20regression/challenges/simple-linear-regression-2.ipynb\" target=\"_parent\"><img src=\"https://colab.research.google.com/assets/colab-badge.svg\" alt=\"Open In Colab\"/></a>"
      ]
    },
    {
      "cell_type": "markdown",
      "metadata": {
        "id": "T8m4Xo20Z0Ys",
        "colab_type": "text"
      },
      "source": [
        "# Sinlge-variable linear regression with your own dataset.\n",
        "In this challenge, the goal is to find your own dataset on the web and use it to build a linear model to predict the dataset's label variable (which you choose). \n",
        "\n",
        "\n",
        "Challenge:\n",
        "1. Find a dataset you're interested in. Hint: the dataset should have several\n",
        "numeric columns (at least for your features and labels variables). Here are some places to look for data: [kaggle](https://www.kaggle.com/datasets), [Google Dataset Search](https://datasetsearch.research.google.com/), [awesome-datasets Github](https://github.com/awesomedata/awesome-public-datasets#socialsciences).\n",
        "2. Download the dataset and explore it in this notebook. How many numeric columns are there? What is the y variable (labels)? What other information in the data might be useful? What will be your x variable (features).  \n",
        "3. Prepare the data for the model\n",
        "4. Build the model\n",
        "5. Train the model.\n",
        "6. Evaluate the model.\n",
        "7. Draw conclusions. What does the model tell us?"
      ]
    },
    {
      "cell_type": "code",
      "metadata": {
        "id": "5oFVSriQZzkd",
        "colab_type": "code",
        "colab": {}
      },
      "source": [
        ""
      ],
      "execution_count": 0,
      "outputs": []
    }
  ]
}