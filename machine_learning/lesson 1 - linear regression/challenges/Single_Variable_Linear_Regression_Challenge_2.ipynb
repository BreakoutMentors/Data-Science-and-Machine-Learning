{
  "nbformat": 4,
  "nbformat_minor": 0,
  "metadata": {
    "colab": {
      "name": "Single-Variable Linear Regression Challenge 2.ipynb",
      "provenance": [],
      "authorship_tag": "ABX9TyMA6sEfVxtrK5aRQNkNi95f",
      "include_colab_link": true
    },
    "kernelspec": {
      "name": "python3",
      "display_name": "Python 3"
    }
  },
  "cells": [
    {
      "cell_type": "markdown",
      "metadata": {
        "id": "view-in-github",
        "colab_type": "text"
      },
      "source": [
        "<a href=\"https://colab.research.google.com/github/krmiddlebrook/intro_to_graphing_in_python/blob/master/notebooks/machine_learning/lesson%201%20-%20linear%20regression/challenges/Single_Variable_Linear_Regression_Challenge_2.ipynb\" target=\"_parent\"><img src=\"https://colab.research.google.com/assets/colab-badge.svg\" alt=\"Open In Colab\"/></a>"
      ]
    },
    {
      "cell_type": "markdown",
      "metadata": {
        "id": "T8m4Xo20Z0Ys",
        "colab_type": "text"
      },
      "source": [
        "# Sinlge-Variable Linear Regression Challenge 2.\n",
        "\n",
        "Challenge 2: Single-Variable Linear Regression with your own dataset\n",
        "1. Find a dataset you're interested in. Hint: the dataset should have several\n",
        "numeric columns. Here are some places to look for data: [kaggle](https://www.kaggle.com/datasets), [Google Dataset Search](https://datasetsearch.research.google.com/), [awesome-datasets Github](https://github.com/awesomedata/awesome-public-datasets#socialsciences).\n",
        "2. Download the dataset and explore in this notebook. How many numeric columns are there? What is your y variable? What other information in the data might be useful?\n",
        "3. Plot the correlation matrix heatmap between all numeric columns.\n",
        "4. Add annotations to the correlation heatmap.\n",
        "5. Pick your x variables from the numeric columns.\n",
        "6. Make a multiple linear regression model between the y variable and the\n",
        " x variable.\n",
        "7. What does the model tell us? Write your conclusion.\n",
        "- Hint: If you get stuck see the [single-variable linear regression what makes us happy example](https://colab.research.google.com/github/krmiddlebrook/intro_to_graphing_in_python/blob/master/notebooks/machine_learning/lesson%201%20-%20linear%20regression/examples/simple_linear_regression_what_makes_us_happy.ipynb)\n"
      ]
    },
    {
      "cell_type": "code",
      "metadata": {
        "id": "5oFVSriQZzkd",
        "colab_type": "code",
        "colab": {}
      },
      "source": [
        ""
      ],
      "execution_count": 0,
      "outputs": []
    }
  ]
}