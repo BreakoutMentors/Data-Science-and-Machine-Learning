{
  "nbformat": 4,
  "nbformat_minor": 0,
  "metadata": {
    "colab": {
      "provenance": [],
      "include_colab_link": true
    },
    "kernelspec": {
      "name": "python3",
      "display_name": "Python 3"
    },
    "language_info": {
      "name": "python"
    }
  },
  "cells": [
    {
      "cell_type": "markdown",
      "metadata": {
        "id": "view-in-github",
        "colab_type": "text"
      },
      "source": [
        "<a href=\"https://colab.research.google.com/github/BreakoutMentors/Data-Science-and-Machine-Learning/blob/main/basics/Data_Visualization.ipynb\" target=\"_parent\"><img src=\"https://colab.research.google.com/assets/colab-badge.svg\" alt=\"Open In Colab\"/></a>"
      ]
    },
    {
      "cell_type": "markdown",
      "source": [
        "# Welcome to Data Visualization with Seaborn and Matplotlib\n",
        "Imagine you've got a ton of data and you want to see it in a way that makes sense. Meet Seaborn and Matplotlib, two Python libraries that are kind of like magic wands for your data.\n",
        "\n",
        "Seaborn, which builds on Matplotlib, is like your friendly neighborhood artist. It takes complex data and, with a few lines of code, transforms it into neat, easy-to-understand, and good-looking graphs. No fuss, no stress, just clean and beautiful visuals.\n",
        "\n",
        "Then there's Matplotlib, the older, more powerful cousin. It might be a bit more complex, but it allows you to get down to the nitty-gritty. Want to change the color of a line, the label on an axis, or animate your plot? Matplotlib is your go-to. It's the library that gives you the reins to fully customize your visuals.\n",
        "\n",
        "So, as we go along, we'll get to know these tools better, learn how to make different kinds of plots, and pick up tips and tricks to make your data look as good as possible. Ready to dive in? Let's get started with Seaborn and Matplotlib!"
      ],
      "metadata": {
        "id": "qPexY9LMuFpV"
      }
    },
    {
      "cell_type": "markdown",
      "source": [
        "# Necessary Imports"
      ],
      "metadata": {
        "id": "cxlINW8salwF"
      }
    },
    {
      "cell_type": "code",
      "source": [
        "import pandas as pd\n",
        "import matplotlib.pyplot as plt\n",
        "import seaborn as sns"
      ],
      "metadata": {
        "id": "QZO5Wu1DanyS"
      },
      "execution_count": null,
      "outputs": []
    },
    {
      "cell_type": "markdown",
      "source": [
        "# Load the Datasets"
      ],
      "metadata": {
        "id": "4YJW4vzhaq7y"
      }
    },
    {
      "cell_type": "code",
      "source": [
        "students_url = 'https://raw.githubusercontent.com/BreakoutMentors/Data-Science-and-Machine-Learning/main/datasets/students.csv'\n",
        "athletes_url = 'https://raw.githubusercontent.com/BreakoutMentors/Data-Science-and-Machine-Learning/main/datasets/student_athletes.csv'\n",
        "academics_url = 'https://raw.githubusercontent.com/BreakoutMentors/Data-Science-and-Machine-Learning/main/datasets/student_academics.csv'\n",
        "\n",
        "students = pd.read_csv(students_url, index_col='id')\n",
        "athletes = pd.read_csv(athletes_url, index_col=0)\n",
        "academics = pd.read_csv(academics_url, index_col=0)"
      ],
      "metadata": {
        "id": "XdcOEV98ar_M"
      },
      "execution_count": null,
      "outputs": []
    },
    {
      "cell_type": "code",
      "source": [
        "students"
      ],
      "metadata": {
        "id": "BaBolA00iOXW"
      },
      "execution_count": null,
      "outputs": []
    },
    {
      "cell_type": "code",
      "source": [
        "athletes"
      ],
      "metadata": {
        "id": "PuGx4vzMatV7"
      },
      "execution_count": null,
      "outputs": []
    },
    {
      "cell_type": "code",
      "source": [
        "academics"
      ],
      "metadata": {
        "id": "DP51RmpuiPlW"
      },
      "execution_count": null,
      "outputs": []
    },
    {
      "cell_type": "markdown",
      "source": [
        "# Line Plot"
      ],
      "metadata": {
        "id": "VffSSJAaicD8"
      }
    },
    {
      "cell_type": "markdown",
      "source": [
        "The line plot above visualizes the relationship between an athlete's years of experience and the number of hours they spend training each week. It does this by connecting data points with a line. Line plots are ideal for showing changes in values over time, or in this case, the relationship between two variables."
      ],
      "metadata": {
        "id": "f_p4_oJ9kWVO"
      }
    },
    {
      "cell_type": "code",
      "source": [
        "plt.figure(figsize=(10, 6))\n",
        "sns.lineplot(data=athletes, x='years experience', y='hours training')\n",
        "\n",
        "plt.title('Athletes Years of Experience vs. Hours Training')\n",
        "plt.xlabel('Years of Experience')\n",
        "plt.ylabel('Weekly Hours Training')\n",
        "plt.show()"
      ],
      "metadata": {
        "id": "o3JNIy6IdSAc"
      },
      "execution_count": null,
      "outputs": []
    },
    {
      "cell_type": "markdown",
      "source": [
        "Does there appear to be a relationship?\n",
        "\n",
        "One reason the line looks weird is that there are other variables determining how many hours an athlete trains. For example, older athletes generally train longer than a younger athlete even with the same years of experience."
      ],
      "metadata": {
        "id": "BAfvfpKukexF"
      }
    },
    {
      "cell_type": "markdown",
      "source": [
        "# Scatter Plot"
      ],
      "metadata": {
        "id": "H8YvTV9xd0KP"
      }
    },
    {
      "cell_type": "markdown",
      "source": [
        "In the scatter plot, we are looking at whether there's a relationship between an athlete's years of experience in a sport and their ranking. Each dot represents an individual athlete, with their years of experience and ranking represented on the x and y-axis respectively. Scatter plots are good for spotting correlations between two variables."
      ],
      "metadata": {
        "id": "IPk95n5biLSw"
      }
    },
    {
      "cell_type": "code",
      "source": [
        "plt.figure(figsize=(10, 6))\n",
        "sns.scatterplot(data=athletes, x='years experience', y='ranking', hue='sport')\n",
        "\n",
        "plt.title('Years of Experience vs Ranking')\n",
        "plt.xlabel('Years of Experience')\n",
        "plt.ylabel('Ranking')\n",
        "plt.legend(title='Sport', bbox_to_anchor=(1.05, 1), loc=2) # Formats the legend to be on the right side\n",
        "plt.show()"
      ],
      "metadata": {
        "id": "ZjfLI_eEblfE"
      },
      "execution_count": null,
      "outputs": []
    },
    {
      "cell_type": "markdown",
      "source": [
        "Kinda hard to tell a relationship with all that data! Let's reduce the amount of data we display to make it easier to distinguish whether a relationship exists. Rather than consider all rankings for sports by years experience let's visualize just the mean and standard deviation for sports by years experience. We can do this easily with Seaborn by converting our scatter plot to a lineplot. Seaborn will automatically compute the mean ranking for each years experience sport group. We can add the standard deviation for each group to our plot by specifying the parameters err_style=\"bars\" to use bars and errorbar=(\"se\", 2) to set the range of our standard deviations to 2."
      ],
      "metadata": {
        "id": "no_ICfDnx8QA"
      }
    },
    {
      "cell_type": "code",
      "source": [
        "plt.figure(figsize=(10, 6))\n",
        "sns.lineplot(data=athletes, x='years experience', y='ranking', hue='sport', style='sport', err_style=\"bars\", errorbar=(\"se\", 3))\n",
        "\n",
        "plt.title('Years of Experience vs Ranking')\n",
        "plt.xlabel('Years of Experience')\n",
        "plt.ylabel('Ranking')\n",
        "plt.legend(title='Sport', bbox_to_anchor=(1.05, 1), loc=2) # Formats the legend to be on the right side\n",
        "plt.show()"
      ],
      "metadata": {
        "id": "kokZBKwFx-oa"
      },
      "execution_count": null,
      "outputs": []
    },
    {
      "cell_type": "markdown",
      "source": [
        "Does there appear to be a correlation between years of experience and ranking?\n",
        "\n",
        "What other patterns do you notice? For example, how does the range of values change as the years of experience increases?\n",
        "\n",
        "Do you think it was useful to visualize the data in two forms: scatter and line plots? Are we able to see trends more clearly with one style over the other? For example, which plot makes it easier to see if there is a relationship between years experience and ranking for each sport? Which plot makes it easier to see if the variance (i.e., how spread out the data is) of ranking changes in relation to years of experience?"
      ],
      "metadata": {
        "id": "p8UZeS9MeEk6"
      }
    },
    {
      "cell_type": "markdown",
      "source": [
        "# Bar Plot"
      ],
      "metadata": {
        "id": "dTP6dXVvhcEW"
      }
    },
    {
      "cell_type": "markdown",
      "source": [
        "The bar plot shows the average course score by grade level. It's a great way to compare different categories of data. In this case, we can see which grade levels, on average, score higher or lower on courses."
      ],
      "metadata": {
        "id": "F1BTAMeZm1tk"
      }
    },
    {
      "cell_type": "code",
      "source": [
        "avg_scores_by_grade = academics.groupby('grade level')['course score'].mean().sort_values()\n",
        "plt.figure(figsize=(10, 6))\n",
        "sns.barplot(x=avg_scores_by_grade.index, y=avg_scores_by_grade.values)\n",
        "\n",
        "plt.title('Average Course Score by Grade Level')\n",
        "plt.xlabel('Grade Level')\n",
        "plt.ylabel('Average Course Score')\n",
        "plt.xticks(rotation=90)\n",
        "plt.show()"
      ],
      "metadata": {
        "id": "oUqTa1jwdPCZ"
      },
      "execution_count": null,
      "outputs": []
    },
    {
      "cell_type": "markdown",
      "source": [
        "# Histogram"
      ],
      "metadata": {
        "id": "FQMo6JHRd9ZC"
      }
    },
    {
      "cell_type": "markdown",
      "source": [
        "The histogram provides a visual representation of the distribution of course scores. Each bar represents a range of course scores, and the height of the bar represents the frequency of scores in that range. It helps to understand the shape of the data and identify any outliers or unusual data points."
      ],
      "metadata": {
        "id": "jnBReZaBiIDd"
      }
    },
    {
      "cell_type": "code",
      "source": [
        "plt.figure(figsize=(10, 6))\n",
        "sns.histplot(academics['course score'], bins=5, kde=True)\n",
        "\n",
        "plt.title('Distribution of Course Scores')\n",
        "plt.xlabel('Course Score')\n",
        "plt.ylabel('Frequency')\n",
        "plt.show()"
      ],
      "metadata": {
        "id": "aj8Ekqu-c5_P"
      },
      "execution_count": null,
      "outputs": []
    },
    {
      "cell_type": "markdown",
      "source": [
        "It appears that grades are pretty evenly spread except for 70-72.5 and 97.5-100. Why might this be?\n",
        "\n",
        "Feel free to play around with the parameters and see how things change. What happens when you change bins to 5?"
      ],
      "metadata": {
        "id": "PHbkdOjOcWpQ"
      }
    },
    {
      "cell_type": "markdown",
      "source": [
        "# Box Plot"
      ],
      "metadata": {
        "id": "afOuCmBsluxc"
      }
    },
    {
      "cell_type": "markdown",
      "source": [
        "Box plots are a way of graphically representing the statistical measures of dispersion such as the median, quartiles, and outliers of a dataset. The box plot for course scores based on the sport played can provide insights into which sports tend to have higher or lower course scores, as well as the spread of scores within each sport."
      ],
      "metadata": {
        "id": "97moZiZLlwnb"
      }
    },
    {
      "cell_type": "code",
      "source": [
        "sport_academics = pd.merge(athletes, academics, on='id')\n",
        "plt.figure(figsize=(14, 8))\n",
        "sns.boxplot(data=sport_academics, x='sport', y='course score')\n",
        "plt.title('Course Scores for Different Sports')\n",
        "plt.xlabel('Sport')\n",
        "plt.ylabel('Course Score')\n",
        "plt.xticks(rotation=90)\n",
        "plt.show()"
      ],
      "metadata": {
        "id": "ohtEUqokinmc"
      },
      "execution_count": null,
      "outputs": []
    },
    {
      "cell_type": "markdown",
      "source": [
        "Do you think that the sport a student plays affects the expected course score?"
      ],
      "metadata": {
        "id": "_C822zU_l1Lx"
      }
    },
    {
      "cell_type": "markdown",
      "source": [
        "# Swarm plot"
      ],
      "metadata": {
        "id": "ipswA_4pmvBe"
      }
    },
    {
      "cell_type": "markdown",
      "source": [
        "Swarm plots, like the one displaying the course scores by sport, provide a good visual summary of the data points without any overlap. This plot type is a blend of a scatter plot and a strip plot. It shows the distribution of the data and can help us to visualize both the values and the density of the observations."
      ],
      "metadata": {
        "id": "0nb9nqITrUIg"
      }
    },
    {
      "cell_type": "code",
      "source": [
        "plt.figure(figsize=(10,6))\n",
        "sns.swarmplot(x=\"sport\", y=\"course score\", data=sport_academics.sample(100))\n",
        "plt.title(\"Swarm plot of course scores by sport\")"
      ],
      "metadata": {
        "id": "2yb4tRK9muIt"
      },
      "execution_count": null,
      "outputs": []
    },
    {
      "cell_type": "markdown",
      "source": [
        "Does the sport a student plays seem to significantly affect the distribution of scores?"
      ],
      "metadata": {
        "id": "TnF7TjHerrFX"
      }
    },
    {
      "cell_type": "markdown",
      "source": [
        "# Heatmap"
      ],
      "metadata": {
        "id": "rqBKjkIUfbFT"
      }
    },
    {
      "cell_type": "markdown",
      "source": [
        "A heatmap, like the one showing the correlations between different *numeric features*, is a data visualization technique that shows the magnitude of a phenomenon as colors in two dimensions. The variations in color intensity correlate with the magnitude of the phenomenon. In this case, it's used to depict the correlation between different numeric features in our dataset. A correlation close to 1 or -1 indicates a strong positive or negative relationship, while a correlation close to 0 indicates a weak or no relationship.\n",
        "\n",
        "In pandas, the `corr()` function is used to compute the pairwise correlation of columns in a DataFrame or a Series."
      ],
      "metadata": {
        "id": "zRD7jp6Zf7Bx"
      }
    },
    {
      "cell_type": "code",
      "source": [
        "plt.figure(figsize=(10, 8))\n",
        "sns.heatmap(athletes.corr(), annot=True, cmap='coolwarm') # try some values for cmap ('BuPu', 'Blues, 'coolwarm', 'Greens')\n",
        "plt.title('Correlation heatmap of numeric features')\n",
        "plt.show()"
      ],
      "metadata": {
        "id": "A-8mYy73fFK7"
      },
      "execution_count": null,
      "outputs": []
    },
    {
      "cell_type": "markdown",
      "source": [
        "Which values seem to have the highest correlations?\n",
        "\n",
        "Why do you think that `years of experience` and `ranking` have a correlation of 0.9?\n",
        "\n",
        "What about `ranking` and `hours training` having a correlation of 0.67?\n",
        "\n",
        "Why do you think `id` has such a low correlation to everything else?\n"
      ],
      "metadata": {
        "id": "hCypghV9e_Ec"
      }
    }
  ]
}