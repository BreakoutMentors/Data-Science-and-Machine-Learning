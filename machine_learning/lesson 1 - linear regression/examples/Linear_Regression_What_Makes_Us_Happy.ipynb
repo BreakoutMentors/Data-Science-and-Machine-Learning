{
  "nbformat": 4,
  "nbformat_minor": 0,
  "metadata": {
    "colab": {
      "name": "Linear Regression What Makes Us Happy.ipynb",
      "provenance": [],
      "authorship_tag": "ABX9TyM7acJX4u7UmeJu70eK9JQS",
      "include_colab_link": true
    },
    "kernelspec": {
      "name": "python3",
      "display_name": "Python 3"
    }
  },
  "cells": [
    {
      "cell_type": "markdown",
      "metadata": {
        "id": "view-in-github",
        "colab_type": "text"
      },
      "source": [
        "<a href=\"https://colab.research.google.com/github/krmiddlebrook/intro_to_graphing_in_python/blob/master/notebooks/machine_learning/lesson%201%20-%20linear%20regression/examples/Linear_Regression_What_Makes_Us_Happy.ipynb\" target=\"_parent\"><img src=\"https://colab.research.google.com/assets/colab-badge.svg\" alt=\"Open In Colab\"/></a>"
      ]
    },
    {
      "cell_type": "markdown",
      "metadata": {
        "id": "r5H75AdnZ8KJ",
        "colab_type": "text"
      },
      "source": [
        "# Multiple Linear Regression: What Makes Us Happy?"
      ]
    },
    {
      "cell_type": "markdown",
      "metadata": {
        "id": "zvzapAQFaK3t",
        "colab_type": "text"
      },
      "source": [
        "In our previous [example](https://colab.research.google.com/github/krmiddlebrook/intro_to_graphing_in_python/blob/master/notebooks/machine_learning/lesson%201%20-%20linear%20regression/examples/simple_linear_regression_what_makes_us_happy.ipynb#scrollTo=6QeOZ9rN8b1E), we explored the topic of single-variable linear regression, which attempts to model the relationship between two variables by fitting a linear equation to the observed data. In this simple regression analysis, we have one explanatory variable (i.e., one x variable) and one dependent variable (i.e., y variable). However, what happens if we believe there is more than one explanatory variable that impacts the dependent variable? How would we model this?\n",
        "\n",
        "This is where multiple linear regression can be helpful. In this type of model, we attempt to model the relationship between multiple explanatory variables (i.e., multiple x variables) to a single dependent variable (i.e., y variable). While adding more variables allows us to model more complex \"real-world\" relationships there are also additional steps we must take to make sure our model is sound and robust.\n",
        "\n",
        "In this example, we will build a multiple regression model using the [World Happiness Report dataset](https://www.kaggle.com/unsdsn/world-happiness) to better understand what contributes to world happiness. Just like simple linear regression, we will perform the following steps:\n",
        "\n",
        "1. Explore the dataset\n",
        "2. Visualize the variables and relationships between them (i.e., correlation) to find interesting variables to explore\n",
        "3. Build a model\n",
        "4. Fit the data to the model\n",
        "5. Measure the quality of our model (i.e., how well it fits the data).\n",
        "6. Draw conclusions\n",
        "\n",
        "Since we already covered steps 1 and 2 in the [single-variable linear regression example](https://colab.research.google.com/github/krmiddlebrook/intro_to_graphing_in_python/blob/master/notebooks/machine_learning/lesson%201%20-%20linear%20regression/examples/simple_linear_regression_what_makes_us_happy.ipynb#scrollTo=6QeOZ9rN8b1E),\n",
        "we'll start our analysis by introducing the concepts behind multi-variable linear regression, followed by step 3 and 4: building a multi-variable linear regression model and fitting it to the data. Then we'll perform step 5: measuring how well our model fits the data. Finally, we'll draw conclusions about our model. "
      ]
    },
    {
      "cell_type": "markdown",
      "metadata": {
        "id": "ib1cMSwsmuz1",
        "colab_type": "text"
      },
      "source": [
        "## What is Multiple Linear Regression (i.e., multi-variable linear regression or linear regression)\n",
        "In this section, we will start with a quick intuitive walk-through behind ``Linear Regression ``, then we'll apply these concepts to the World Happiness Report to see what may contribute to our happiness."
      ]
    },
    {
      "cell_type": "markdown",
      "metadata": {
        "id": "YSzaKF_3eweG",
        "colab_type": "text"
      },
      "source": [
        "Recall that single-variable linear regression aims to fit a line to the data (i.e., an x and y variable) using the following formula: \n",
        "$$\n",
        "y = ax + b\n",
        "$$\n",
        "where $a$ is commonly known as the *slope*, and $b$ is commonly known as the *intercept*.\n",
        "![single-variable linear regression](https://i0.wp.com/www.theanalysisfactor.com/wp-content/uploads/2019/06/linear-regression-gpa.png?w=470&ssl=1)\n",
        "\n",
        "In a similar fashion, multiple linear regression aims to fit a line to the data when there are multiple x variables rather than only one. This allows us to model more complex \"real-world\" relationships between the data. In multiple linear regression, we fit a line to the data using the following formula:\n",
        "$$\n",
        "y = a_0 + a_1 x_1 + a_2 x_2 + \\cdots + a_n x_n \n",
        "$$\n",
        "where there are multiple $x$ values (i.e., $x_1$ through $x_n$), $a_0$ is the *intercept*, and $a_1$ through $a_n$ are the coefficients that correspond to the each $x$ variable (e.g., $a_1$ corresponds to $x_1$ and so on). The coefficients are similar to the *slope* we saw in single-variable linear regression. They can be interpreted as the expected change in $y$ corresponding to a unit increase in an $x_i$ (for example $x_2$), when all other x variables stay the same.\n",
        "\n",
        "In general, multi-linear regression has the following benefits:\n",
        "1. Provides better predictive capability than single-variable linear regression. \n",
        "2. Gives a crude estimate of the relative importance of each x variable in the relationship with the y variable.\n",
        "3. More interpretable than complex non-linear models.\n",
        "4. Can be fit quickly.\n",
        "\n",
        "However, multi-linear regression has the following weaknesses:\n",
        "1. Can't easily be visualized like single-variable linear regression\n",
        "2. Assumes there is a linear relationship between explanatory variabels (i.e., the x variables) and the dependent variable (i.e., the y variable).\n",
        "For now, we won't worry too about these weaknesses, instead we'll address these in a future example.\n",
        "\n",
        "While multiple linear regression is not perfect, it is one of the foundations of machine learning. By learning the fundementals of this algorithm, you'll be better prepared to learn and implement more complex machine learning models in the future. \n",
        "\n",
        "In the rest of this example we will:\n",
        "1. load the dataset\n",
        "2. prepare the data for the model\n",
        "3. build a linear regression model\n",
        "4. fit the model to the data\n",
        "5. Observe the model coefficients (i.e., $a_1$ through $a_n$ values)\n",
        "6. Measure the quality of our model using R-squared\n",
        "7. Make some predictions and measure the quality of the model using other metrics \n",
        "8. Draw conclusions\n",
        "\n",
        "Again, our goal is to predict what the \"Happiness Score\" will be in, given a few explanatory variables that we will define below. Afterwards, you will have the tools to apply multiple linear regression on other datasets."
      ]
    },
    {
      "cell_type": "code",
      "metadata": {
        "id": "lehhNxE1fLxn",
        "colab_type": "code",
        "colab": {}
      },
      "source": [
        "# load the python libraries and modules we need\n",
        "%matplotlib inline\n",
        "import matplotlib.pyplot as plt\n",
        "import numpy as np\n",
        "import pandas as pd\n",
        "\n",
        "from sklearn.linear_model import LinearRegression"
      ],
      "execution_count": 0,
      "outputs": []
    },
    {
      "cell_type": "code",
      "metadata": {
        "id": "gHqEvmn1ZYa2",
        "colab_type": "code",
        "outputId": "e47c8a9b-7c9f-4863-91e9-0653ce775980",
        "colab": {
          "base_uri": "https://localhost:8080/",
          "height": 204
        }
      },
      "source": [
        "# 1. load the dataset into a dataframe\n",
        "data_url = 'https://raw.githubusercontent.com/krmiddlebrook/intro_to_graphing_in_python/master/datasets/world-happiness/2019.csv'\n",
        "happy2019 = pd.read_csv(data_url)\n",
        "happy2019.head()"
      ],
      "execution_count": 11,
      "outputs": [
        {
          "output_type": "execute_result",
          "data": {
            "text/html": [
              "<div>\n",
              "<style scoped>\n",
              "    .dataframe tbody tr th:only-of-type {\n",
              "        vertical-align: middle;\n",
              "    }\n",
              "\n",
              "    .dataframe tbody tr th {\n",
              "        vertical-align: top;\n",
              "    }\n",
              "\n",
              "    .dataframe thead th {\n",
              "        text-align: right;\n",
              "    }\n",
              "</style>\n",
              "<table border=\"1\" class=\"dataframe\">\n",
              "  <thead>\n",
              "    <tr style=\"text-align: right;\">\n",
              "      <th></th>\n",
              "      <th>Overall rank</th>\n",
              "      <th>Country or region</th>\n",
              "      <th>Score</th>\n",
              "      <th>GDP per capita</th>\n",
              "      <th>Social support</th>\n",
              "      <th>Healthy life expectancy</th>\n",
              "      <th>Freedom to make life choices</th>\n",
              "      <th>Generosity</th>\n",
              "      <th>Perceptions of corruption</th>\n",
              "    </tr>\n",
              "  </thead>\n",
              "  <tbody>\n",
              "    <tr>\n",
              "      <th>0</th>\n",
              "      <td>1</td>\n",
              "      <td>Finland</td>\n",
              "      <td>7.769</td>\n",
              "      <td>1.340</td>\n",
              "      <td>1.587</td>\n",
              "      <td>0.986</td>\n",
              "      <td>0.596</td>\n",
              "      <td>0.153</td>\n",
              "      <td>0.393</td>\n",
              "    </tr>\n",
              "    <tr>\n",
              "      <th>1</th>\n",
              "      <td>2</td>\n",
              "      <td>Denmark</td>\n",
              "      <td>7.600</td>\n",
              "      <td>1.383</td>\n",
              "      <td>1.573</td>\n",
              "      <td>0.996</td>\n",
              "      <td>0.592</td>\n",
              "      <td>0.252</td>\n",
              "      <td>0.410</td>\n",
              "    </tr>\n",
              "    <tr>\n",
              "      <th>2</th>\n",
              "      <td>3</td>\n",
              "      <td>Norway</td>\n",
              "      <td>7.554</td>\n",
              "      <td>1.488</td>\n",
              "      <td>1.582</td>\n",
              "      <td>1.028</td>\n",
              "      <td>0.603</td>\n",
              "      <td>0.271</td>\n",
              "      <td>0.341</td>\n",
              "    </tr>\n",
              "    <tr>\n",
              "      <th>3</th>\n",
              "      <td>4</td>\n",
              "      <td>Iceland</td>\n",
              "      <td>7.494</td>\n",
              "      <td>1.380</td>\n",
              "      <td>1.624</td>\n",
              "      <td>1.026</td>\n",
              "      <td>0.591</td>\n",
              "      <td>0.354</td>\n",
              "      <td>0.118</td>\n",
              "    </tr>\n",
              "    <tr>\n",
              "      <th>4</th>\n",
              "      <td>5</td>\n",
              "      <td>Netherlands</td>\n",
              "      <td>7.488</td>\n",
              "      <td>1.396</td>\n",
              "      <td>1.522</td>\n",
              "      <td>0.999</td>\n",
              "      <td>0.557</td>\n",
              "      <td>0.322</td>\n",
              "      <td>0.298</td>\n",
              "    </tr>\n",
              "  </tbody>\n",
              "</table>\n",
              "</div>"
            ],
            "text/plain": [
              "   Overall rank Country or region  ...  Generosity  Perceptions of corruption\n",
              "0             1           Finland  ...       0.153                      0.393\n",
              "1             2           Denmark  ...       0.252                      0.410\n",
              "2             3            Norway  ...       0.271                      0.341\n",
              "3             4           Iceland  ...       0.354                      0.118\n",
              "4             5       Netherlands  ...       0.322                      0.298\n",
              "\n",
              "[5 rows x 9 columns]"
            ]
          },
          "metadata": {
            "tags": []
          },
          "execution_count": 11
        }
      ]
    },
    {
      "cell_type": "code",
      "metadata": {
        "id": "ILgFdnBbl6zr",
        "colab_type": "code",
        "outputId": "6e16adde-c0a3-4c26-b659-2d41cd81b7ff",
        "colab": {
          "base_uri": "https://localhost:8080/",
          "height": 34
        }
      },
      "source": [
        "# 2. prepare our data for the model\n",
        "x_cols = ['GDP per capita', 'Social support']\n",
        "y_col = ['Score']\n",
        "X = happy2019.loc[:, x_cols].values\n",
        "y = happy2019.loc[:, y_col].values\n",
        "print('X shape:', X.shape, 'y shape:', y.shape)"
      ],
      "execution_count": 12,
      "outputs": [
        {
          "output_type": "stream",
          "text": [
            "X shape: (156, 2) y shape: (156, 1)\n"
          ],
          "name": "stdout"
        }
      ]
    },
    {
      "cell_type": "code",
      "metadata": {
        "id": "Wc_gJ4RllO5q",
        "colab_type": "code",
        "outputId": "1d5197ee-a0f1-4fee-b5fe-9b0e9aedba78",
        "colab": {
          "base_uri": "https://localhost:8080/",
          "height": 51
        }
      },
      "source": [
        "# 3. initialize (i.e., build) the model\n",
        "model = LinearRegression(fit_intercept=True)\n",
        "\n",
        "# 4. fit the model to the data\n",
        "model.fit(X, y)"
      ],
      "execution_count": 13,
      "outputs": [
        {
          "output_type": "stream",
          "text": [
            "model intercept (i.e., a_0):  2.3297706377318717\n",
            "model coefficients (i.e., a_1,...,a_n):  [1.34647807 1.53751048]\n"
          ],
          "name": "stdout"
        }
      ]
    },
    {
      "cell_type": "markdown",
      "metadata": {
        "id": "exuUBCG_tR7j",
        "colab_type": "text"
      },
      "source": [
        "### Step 5: Observe the model coefficients\n",
        "In the case of multivariable linear regression, the regression model has to find the most optimal coefficients (i.e., the $a_i$ values, including the intercept term $a_0$) for all the x variables. To see what coefficients our regression model has chosen, we can make a dataframe or simply print the values. While printing the values is easier, creating a dataframe keeps our code organized and makes identify the value that corresponds to each coefficient easier."
      ]
    },
    {
      "cell_type": "code",
      "metadata": {
        "id": "kqLOuoimtIGh",
        "colab_type": "code",
        "outputId": "48a49684-7229-4429-a956-ea59570910f3",
        "colab": {
          "base_uri": "https://localhost:8080/",
          "height": 142
        }
      },
      "source": [
        "print('model intercept (i.e., a_0): ', model.intercept_[0])\n",
        "print('model coefficients (i.e., a_1,...,a_n): ', model.coef_[0])\n",
        "\n",
        "coef_values = [model.intercept_[0]] + model.coef_[0].tolist() \n",
        "coef_labels = ['Intercept'] + x_cols\n",
        "coeff_df = pd.DataFrame(coef_values, index=coef_labels, columns=['Coefficient']) \n",
        "coeff_df"
      ],
      "execution_count": 19,
      "outputs": [
        {
          "output_type": "execute_result",
          "data": {
            "text/html": [
              "<div>\n",
              "<style scoped>\n",
              "    .dataframe tbody tr th:only-of-type {\n",
              "        vertical-align: middle;\n",
              "    }\n",
              "\n",
              "    .dataframe tbody tr th {\n",
              "        vertical-align: top;\n",
              "    }\n",
              "\n",
              "    .dataframe thead th {\n",
              "        text-align: right;\n",
              "    }\n",
              "</style>\n",
              "<table border=\"1\" class=\"dataframe\">\n",
              "  <thead>\n",
              "    <tr style=\"text-align: right;\">\n",
              "      <th></th>\n",
              "      <th>Coefficient</th>\n",
              "    </tr>\n",
              "  </thead>\n",
              "  <tbody>\n",
              "    <tr>\n",
              "      <th>Intercept</th>\n",
              "      <td>2.329771</td>\n",
              "    </tr>\n",
              "    <tr>\n",
              "      <th>GDP per capita</th>\n",
              "      <td>1.346478</td>\n",
              "    </tr>\n",
              "    <tr>\n",
              "      <th>Social support</th>\n",
              "      <td>1.537510</td>\n",
              "    </tr>\n",
              "  </tbody>\n",
              "</table>\n",
              "</div>"
            ],
            "text/plain": [
              "                Coefficient\n",
              "Intercept          2.329771\n",
              "GDP per capita     1.346478\n",
              "Social support     1.537510"
            ]
          },
          "metadata": {
            "tags": []
          },
          "execution_count": 19
        }
      ]
    },
    {
      "cell_type": "markdown",
      "metadata": {
        "id": "jkWcbaEruOxw",
        "colab_type": "text"
      },
      "source": [
        "This means that for a unit increase in \"GDP per capita\", there is a 1.3465 unit increase in the \"Happiness Score\", when all other x variables stay the same. Similarly, a unit increase in “Social support“ results in an increase of 1.5375 units in the \"Happiness Score\", when all other x variables stay the same."
      ]
    },
    {
      "cell_type": "markdown",
      "metadata": {
        "id": "Xqp7iWYhjcoj",
        "colab_type": "text"
      },
      "source": [
        "### Step 6: Measuring the quality of the model using R-squared\n",
        "\n",
        "Now that we've build and fit the model, we want to know how well it fits the data. \n",
        "\n",
        "To this end, we will use the R² score of the model (pronounced R-squared), which indicates goodness of fit or how well our data fits the model. The higher the R-squared metric, the better the data fit our model. However, one limitation is that R-squared increases as the number of features increase in our model, so if I keep adding variables even if they're poor choices R-squared will still go up! A more popular metric is the adjusted R-squared which penalizes more complex models (i.e., models with more exploratory variables). However, to keep things simple, we will only calculate the normal R-squared value. You can learn more about R² [here](https://en.wikipedia.org/wiki/Coefficient_of_determination)."
      ]
    },
    {
      "cell_type": "code",
      "metadata": {
        "id": "qfNW-b6TjB9T",
        "colab_type": "code",
        "outputId": "d74be5b7-189b-464e-c8e1-b33fa93a8f4f",
        "colab": {
          "base_uri": "https://localhost:8080/",
          "height": 34
        }
      },
      "source": [
        "# let's see the R-squared value\n",
        "model.score(X,y)"
      ],
      "execution_count": 20,
      "outputs": [
        {
          "output_type": "execute_result",
          "data": {
            "text/plain": [
              "0.7037077314606889"
            ]
          },
          "metadata": {
            "tags": []
          },
          "execution_count": 20
        }
      ]
    },
    {
      "cell_type": "markdown",
      "metadata": {
        "id": "W7-ivt1tGx-L",
        "colab_type": "text"
      },
      "source": [
        "Since the R-squared value is pretty close to 1, we will assume our model fits the data fairly well."
      ]
    },
    {
      "cell_type": "markdown",
      "metadata": {
        "id": "Tz4FR8qKzk-u",
        "colab_type": "text"
      },
      "source": [
        "### Step 7: Make some predictions and measure the quality of the model using other evaluation metrics\n",
        "\n",
        "There are other metrics we can use to measure the quality of our model. Some of the most common evaluation metrics for regression models include: Mean Absolute Error (MAE), Mean Squared Error (MSE), and Root Mean Squared Error (RMSE). A brief explanation of each metric is described below:\n",
        "\n",
        "- Mean Absolute Error (MAE): Is the mean of the absolute value of the errors. This gives an idea of magnitude but no sense of direction (too high or too low).\n",
        "- Mean Squared Error (MSE): Is the mean of the squared errors. MSE is more popular than MAE because MSE \"punishes\" more significant errors.\n",
        "- [Root Mean Squared Error (RMSE)](https://www.youtube.com/watch?v=3NXg44WBZ14): Is the square root of the mean of the squared errors. RMSE is even more favored because it allows us to interpret the output in y-units.\n",
        "\n",
        "In general, a value closer to 0 is what you want for these metrics. We can use Sklearns metrics module to calculate these for us. To apply these metrics, we will first make some predictions using our model, plot a few predictions to get a sense of the data, and then measure the quality of these predictions using the above evaluation metrics.   "
      ]
    },
    {
      "cell_type": "code",
      "metadata": {
        "id": "tYyZ1ExFaELe",
        "colab_type": "code",
        "colab": {
          "base_uri": "https://localhost:8080/",
          "height": 204
        },
        "outputId": "f02fd7fc-bc7d-4ba4-91ba-dcdb116a9e29"
      },
      "source": [
        "# First make predictions using the model\n",
        "preds = model.predict(X)\n",
        "preds = pd.DataFrame(preds, columns=['predicted'])\n",
        "actual = pd.DataFrame(y, columns=['actual'])\n",
        "\n",
        "actual_vs_pred = pd.concat((preds, actual), axis=1)\n",
        "actual_vs_pred.head(5)"
      ],
      "execution_count": 23,
      "outputs": [
        {
          "output_type": "execute_result",
          "data": {
            "text/html": [
              "<div>\n",
              "<style scoped>\n",
              "    .dataframe tbody tr th:only-of-type {\n",
              "        vertical-align: middle;\n",
              "    }\n",
              "\n",
              "    .dataframe tbody tr th {\n",
              "        vertical-align: top;\n",
              "    }\n",
              "\n",
              "    .dataframe thead th {\n",
              "        text-align: right;\n",
              "    }\n",
              "</style>\n",
              "<table border=\"1\" class=\"dataframe\">\n",
              "  <thead>\n",
              "    <tr style=\"text-align: right;\">\n",
              "      <th></th>\n",
              "      <th>predicted</th>\n",
              "      <th>actual</th>\n",
              "    </tr>\n",
              "  </thead>\n",
              "  <tbody>\n",
              "    <tr>\n",
              "      <th>0</th>\n",
              "      <td>6.574080</td>\n",
              "      <td>7.769</td>\n",
              "    </tr>\n",
              "    <tr>\n",
              "      <th>1</th>\n",
              "      <td>6.610454</td>\n",
              "      <td>7.600</td>\n",
              "    </tr>\n",
              "    <tr>\n",
              "      <th>2</th>\n",
              "      <td>6.765672</td>\n",
              "      <td>7.554</td>\n",
              "    </tr>\n",
              "    <tr>\n",
              "      <th>3</th>\n",
              "      <td>6.684827</td>\n",
              "      <td>7.494</td>\n",
              "    </tr>\n",
              "    <tr>\n",
              "      <th>4</th>\n",
              "      <td>6.549545</td>\n",
              "      <td>7.488</td>\n",
              "    </tr>\n",
              "  </tbody>\n",
              "</table>\n",
              "</div>"
            ],
            "text/plain": [
              "   predicted  actual\n",
              "0   6.574080   7.769\n",
              "1   6.610454   7.600\n",
              "2   6.765672   7.554\n",
              "3   6.684827   7.494\n",
              "4   6.549545   7.488"
            ]
          },
          "metadata": {
            "tags": []
          },
          "execution_count": 23
        }
      ]
    },
    {
      "cell_type": "code",
      "metadata": {
        "id": "Uoh9QIqJyM0w",
        "colab_type": "code",
        "outputId": "736ddd56-6126-4d34-d82e-d6b78ccfcfee",
        "colab": {
          "base_uri": "https://localhost:8080/",
          "height": 486
        }
      },
      "source": [
        "# let's plot the difference to get an idea of how close the predictions are\n",
        "actual_vs_pred.loc[:25, :].plot(kind='bar',figsize=(10,8))\n",
        "plt.show()"
      ],
      "execution_count": 25,
      "outputs": [
        {
          "output_type": "display_data",
          "data": {
            "image/png": "[encoded data removed]",
            "text/plain": [
              "<Figure size 720x576 with 1 Axes>"
            ]
          },
          "metadata": {
            "tags": [],
            "needs_background": "light"
          }
        }
      ]
    },
    {
      "cell_type": "markdown",
      "metadata": {
        "id": "7tzbOmeazDTv",
        "colab_type": "text"
      },
      "source": [
        "As we can observe, it looks like our model is making pretty decent predictions for the \"Happiness Score\". Now let's calculate the other evaluation metrics."
      ]
    },
    {
      "cell_type": "code",
      "metadata": {
        "id": "UQ_8vOeszCVR",
        "colab_type": "code",
        "outputId": "822a3d7c-02eb-4f74-e63e-858e9a1a9d12",
        "colab": {
          "base_uri": "https://localhost:8080/",
          "height": 68
        }
      },
      "source": [
        "# calculate the other evaluation metrics  \n",
        "from sklearn import metrics\n",
        "\n",
        "print('Mean Absolute Error:', metrics.mean_absolute_error(actual.values, preds.values))  \n",
        "print('Mean Squared Error:', metrics.mean_squared_error(actual.values, preds.values))  \n",
        "print('Root Mean Squared Error:', np.sqrt(metrics.mean_squared_error(actual.values, preds.values)))"
      ],
      "execution_count": 26,
      "outputs": [
        {
          "output_type": "stream",
          "text": [
            "Mean Absolute Error: 0.48963214998748994\n",
            "Mean Squared Error: 0.3647634280796388\n",
            "Root Mean Squared Error: 0.6039564786304049\n"
          ],
          "name": "stdout"
        }
      ]
    },
    {
      "cell_type": "markdown",
      "metadata": {
        "id": "V3knqQw5M1Kp",
        "colab_type": "text"
      },
      "source": [
        "We can see that most of the evaluation metrics are close to 0. For example, the root mean squared error (RMSE) indicates that the square root of the average squared difference between the true \"Happiness score\" and the predicted \"Happiness Score\" is about 0.6 units."
      ]
    },
    {
      "cell_type": "markdown",
      "metadata": {
        "id": "q559Y23hp2A4",
        "colab_type": "text"
      },
      "source": [
        "### Now you try extending the multiple linear regression model to all the numerical columns in the happiness dataset rather than just the first two."
      ]
    },
    {
      "cell_type": "code",
      "metadata": {
        "id": "DNkK6QijM0wy",
        "colab_type": "code",
        "colab": {}
      },
      "source": [
        ""
      ],
      "execution_count": 0,
      "outputs": []
    }
  ]
}