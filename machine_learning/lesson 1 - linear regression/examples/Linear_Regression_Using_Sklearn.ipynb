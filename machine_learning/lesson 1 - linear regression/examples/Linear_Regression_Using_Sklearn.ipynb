{
  "nbformat": 4,
  "nbformat_minor": 0,
  "metadata": {
    "colab": {
      "name": "Linear Regression Using Sklearn.ipynb",
      "provenance": [],
      "collapsed_sections": [],
      "include_colab_link": true
    },
    "kernelspec": {
      "name": "python3",
      "display_name": "Python 3"
    }
  },
  "cells": [
    {
      "cell_type": "markdown",
      "metadata": {
        "id": "view-in-github",
        "colab_type": "text"
      },
      "source": [
        "<a href=\"https://colab.research.google.com/github/BreakoutMentors/Data-Science-and-Machine-Learning/blob/adam-lesson1-update/machine_learning/lesson%201%20-%20linear%20regression/examples/Linear_Regression_Using_Sklearn.ipynb\" target=\"_parent\"><img src=\"https://colab.research.google.com/assets/colab-badge.svg\" alt=\"Open In Colab\"/></a>"
      ]
    },
    {
      "cell_type": "markdown",
      "metadata": {
        "id": "OsdT6CWpcq64"
      },
      "source": [
        "# Learning Objectives\n",
        "\n",
        "\n",
        "* Understand how regression lines can help us make predictions about data\n",
        "* Understand how the components of slope and y-intercept determine the output of a regression line\n",
        "* Understand how to represent a line as a function.\n",
        "* Use Sklearn to create a Linear Regression model\n",
        "\n"
      ]
    },
    {
      "cell_type": "markdown",
      "metadata": {
        "id": "C9Nm1RZOvgE7"
      },
      "source": [
        "### Import Python Libraries"
      ]
    },
    {
      "cell_type": "code",
      "metadata": {
        "id": "7Z65vkmagshv"
      },
      "source": [
        "from pprint import pprint\n",
        "import sklearn\n",
        "from sklearn.linear_model import LinearRegression\n",
        "import pandas as pd\n",
        "import numpy as np\n",
        "import plotly\n",
        "\n",
        "\n",
        "def trace(data, mode = 'markers', name=\"data\"):\n",
        "    x_values = list(map(lambda point: point['x'],data))\n",
        "    y_values = list(map(lambda point: point['y'],data))\n",
        "    return {'x': x_values, 'y': y_values, 'mode': mode, 'name': name}\n",
        "\n",
        "\n",
        "def trace_values(x_values, y_values, mode = 'markers', name=\"data\", text_values = []):\n",
        "    return {'x': x_values, 'y': y_values, 'mode': mode, 'name': name, 'text': text_values}\n",
        "\n",
        "\n",
        "def m_b_data(m, b, x_values):\n",
        "    \"\"\"\n",
        "    A function that returns a dict with two keys: \n",
        "        1) x, which points to a list of x_values, and\n",
        "        2) y, which points to a list of y_values,\n",
        "    each y value is the expected output of a regression line for the given\n",
        "    m, b, and x values. \n",
        "\n",
        "    Example. Given m=1.5, b=20, x_values=[0, 50, 100] our function should\n",
        "    return:\n",
        "        {'x': [0, 50, 100], 'y': [20.0, 95.0, 170.0]}\n",
        "    \"\"\"\n",
        "    data = {'x': x_values}\n",
        "    y_values = []\n",
        "    for xi in x_values:\n",
        "        # compute yi, the expected y value given the value of m, b, and xi.\n",
        "        # yi = your code here\n",
        "        yi = xi*m + b\n",
        "        # add yi to the y_values list\n",
        "        y_values.append(yi)\n",
        "    \n",
        "    # add the 'y' key pointing to the y_values list to the data dictionary\n",
        "    data['y'] = y_values\n",
        "\n",
        "    # return the data dictionary with the x and y keys and values.\n",
        "    return data\n",
        "\n",
        "\n",
        "def m_b_trace(m, b, x_values, mode = 'lines', name = 'line function'):\n",
        "    \"\"\"\n",
        "    A function that uses our m_b_data function to return a dictionary that \n",
        "    includes keys of 'name' and 'mode' in addition to 'x' and 'y'. The values \n",
        "    of 'mode' and 'name' are provided as arguments. When the mode argument is \n",
        "    not provided, it has a default value of 'lines' and when name is not \n",
        "    provided, it has a default value of 'line function'.\n",
        "\n",
        "    Example. Given m=1.5, b=20, and x_values=[0,50,100] this function returns:\n",
        "        {'mode': 'line', 'name': 'line function', 'x': [0, 50, 100], 'y': [20.0, 95.0, 170.0]}\n",
        "    \"\"\"\n",
        "    data = m_b_data(m, b, x_values)\n",
        "    return {'mode': mode, 'name': name, 'x': data['x'], 'y': data['y']}\n",
        "\n",
        "\n",
        "def layout(x_range = None, y_range = None, options = {}):\n",
        "    layout = {}\n",
        "    if isinstance(x_range, list): layout.update({'xaxis': {'range': x_range}})\n",
        "    if isinstance(y_range, list): layout.update({'yaxis': {'range': y_range}})\n",
        "    layout.update(options)\n",
        "    return layout\n",
        "\n",
        "\n",
        "def plot(traces = [], layout = {}):\n",
        "    if not isinstance(traces, list): raise TypeError('first argument must be a list.  Instead is', traces)\n",
        "    plotly.offline.iplot({'data': traces, 'layout': layout})"
      ],
      "execution_count": 110,
      "outputs": []
    },
    {
      "cell_type": "markdown",
      "metadata": {
        "id": "R--iB8nfdevv"
      },
      "source": [
        "# Single Variable Regression\n",
        "\n",
        "## Making money: predicting movie revenue from movie budget \n",
        "Imagine we are hired as a consultant for a movie executive. The movie executive receives a budget proposal, and wants to know how much money the movie might make. We can help her by building a model of the relationship between the money spent on a movie and money made.\n",
        "\n"
      ]
    },
    {
      "cell_type": "markdown",
      "metadata": {
        "id": "IkMlqoruff8r"
      },
      "source": [
        "### Representing linear regression graphically\n",
        "To predict movie revenue based on a budget, let's draw a single straight line that represents the relationship between how much a movie costs and how much it makes:"
      ]
    },
    {
      "cell_type": "code",
      "metadata": {
        "colab": {
          "base_uri": "https://localhost:8080/",
          "height": 542
        },
        "id": "7f9hoMeOcasE",
        "outputId": "63dd79c5-e7e6-4afe-a5f4-621a3314f89a"
      },
      "source": [
        "movie_budgets = [0, 25, 50, 75] # x\n",
        "movie_revenues = [0, 50, 100, 150] # y\n",
        "regression_trace = trace_values(movie_budgets, movie_revenues, mode='lines', name='estimated revenue')\n",
        "movie_layout = layout(options={'title': 'Movie Budget and Revenue (in millions)'})\n",
        "plot([regression_trace], movie_layout)"
      ],
      "execution_count": 111,
      "outputs": [
        {
          "output_type": "display_data",
          "data": {
            "text/html": [
              "<html>\n",
              "<head><meta charset=\"utf-8\" /></head>\n",
              "<body>\n",
              "    <div>\n",
              "            <script src=\"https://cdnjs.cloudflare.com/ajax/libs/mathjax/2.7.5/MathJax.js?config=TeX-AMS-MML_SVG\"></script><script type=\"text/javascript\">if (window.MathJax) {MathJax.Hub.Config({SVG: {font: \"STIX-Web\"}});}</script>\n",
              "                <script type=\"text/javascript\">window.PlotlyConfig = {MathJaxConfig: 'local'};</script>\n",
              "        <script src=\"https://cdn.plot.ly/plotly-latest.min.js\"></script>    \n",
              "            <div id=\"b7caa48f-2f60-4b15-82a6-bab98ed7014e\" class=\"plotly-graph-div\" style=\"height:525px; width:100%;\"></div>\n",
              "            <script type=\"text/javascript\">\n",
              "                \n",
              "                    window.PLOTLYENV=window.PLOTLYENV || {};\n",
              "                    \n",
              "                if (document.getElementById(\"b7caa48f-2f60-4b15-82a6-bab98ed7014e\")) {\n",
              "                    Plotly.newPlot(\n",
              "                        'b7caa48f-2f60-4b15-82a6-bab98ed7014e',\n",
              "                        [{\"mode\": \"lines\", \"name\": \"estimated revenue\", \"text\": [], \"type\": \"scatter\", \"x\": [0, 25, 50, 75], \"y\": [0, 50, 100, 150]}],\n",
              "                        {\"template\": {\"data\": {\"bar\": [{\"error_x\": {\"color\": \"#2a3f5f\"}, \"error_y\": {\"color\": \"#2a3f5f\"}, \"marker\": {\"line\": {\"color\": \"#E5ECF6\", \"width\": 0.5}}, \"type\": \"bar\"}], \"barpolar\": [{\"marker\": {\"line\": {\"color\": \"#E5ECF6\", \"width\": 0.5}}, \"type\": \"barpolar\"}], \"carpet\": [{\"aaxis\": {\"endlinecolor\": \"#2a3f5f\", \"gridcolor\": \"white\", \"linecolor\": \"white\", \"minorgridcolor\": \"white\", \"startlinecolor\": \"#2a3f5f\"}, \"baxis\": {\"endlinecolor\": \"#2a3f5f\", \"gridcolor\": \"white\", \"linecolor\": \"white\", \"minorgridcolor\": \"white\", \"startlinecolor\": \"#2a3f5f\"}, \"type\": \"carpet\"}], \"choropleth\": [{\"colorbar\": {\"outlinewidth\": 0, \"ticks\": \"\"}, \"type\": \"choropleth\"}], \"contour\": [{\"colorbar\": {\"outlinewidth\": 0, \"ticks\": \"\"}, \"colorscale\": [[0.0, \"#0d0887\"], [0.1111111111111111, \"#46039f\"], [0.2222222222222222, \"#7201a8\"], [0.3333333333333333, \"#9c179e\"], [0.4444444444444444, \"#bd3786\"], [0.5555555555555556, \"#d8576b\"], [0.6666666666666666, \"#ed7953\"], [0.7777777777777778, \"#fb9f3a\"], [0.8888888888888888, \"#fdca26\"], [1.0, \"#f0f921\"]], \"type\": \"contour\"}], \"contourcarpet\": [{\"colorbar\": {\"outlinewidth\": 0, \"ticks\": \"\"}, \"type\": \"contourcarpet\"}], \"heatmap\": [{\"colorbar\": {\"outlinewidth\": 0, \"ticks\": \"\"}, \"colorscale\": [[0.0, \"#0d0887\"], [0.1111111111111111, \"#46039f\"], [0.2222222222222222, \"#7201a8\"], [0.3333333333333333, \"#9c179e\"], [0.4444444444444444, \"#bd3786\"], [0.5555555555555556, \"#d8576b\"], [0.6666666666666666, \"#ed7953\"], [0.7777777777777778, \"#fb9f3a\"], [0.8888888888888888, \"#fdca26\"], [1.0, \"#f0f921\"]], \"type\": \"heatmap\"}], \"heatmapgl\": [{\"colorbar\": {\"outlinewidth\": 0, \"ticks\": \"\"}, \"colorscale\": [[0.0, \"#0d0887\"], [0.1111111111111111, \"#46039f\"], [0.2222222222222222, \"#7201a8\"], [0.3333333333333333, \"#9c179e\"], [0.4444444444444444, \"#bd3786\"], [0.5555555555555556, \"#d8576b\"], [0.6666666666666666, \"#ed7953\"], [0.7777777777777778, \"#fb9f3a\"], [0.8888888888888888, \"#fdca26\"], [1.0, \"#f0f921\"]], \"type\": \"heatmapgl\"}], \"histogram\": [{\"marker\": {\"colorbar\": {\"outlinewidth\": 0, \"ticks\": \"\"}}, \"type\": \"histogram\"}], \"histogram2d\": [{\"colorbar\": {\"outlinewidth\": 0, \"ticks\": \"\"}, \"colorscale\": [[0.0, \"#0d0887\"], [0.1111111111111111, \"#46039f\"], [0.2222222222222222, \"#7201a8\"], [0.3333333333333333, \"#9c179e\"], [0.4444444444444444, \"#bd3786\"], [0.5555555555555556, \"#d8576b\"], [0.6666666666666666, \"#ed7953\"], [0.7777777777777778, \"#fb9f3a\"], [0.8888888888888888, \"#fdca26\"], [1.0, \"#f0f921\"]], \"type\": \"histogram2d\"}], \"histogram2dcontour\": [{\"colorbar\": {\"outlinewidth\": 0, \"ticks\": \"\"}, \"colorscale\": [[0.0, \"#0d0887\"], [0.1111111111111111, \"#46039f\"], [0.2222222222222222, \"#7201a8\"], [0.3333333333333333, \"#9c179e\"], [0.4444444444444444, \"#bd3786\"], [0.5555555555555556, \"#d8576b\"], [0.6666666666666666, \"#ed7953\"], [0.7777777777777778, \"#fb9f3a\"], [0.8888888888888888, \"#fdca26\"], [1.0, \"#f0f921\"]], \"type\": \"histogram2dcontour\"}], \"mesh3d\": [{\"colorbar\": {\"outlinewidth\": 0, \"ticks\": \"\"}, \"type\": \"mesh3d\"}], \"parcoords\": [{\"line\": {\"colorbar\": {\"outlinewidth\": 0, \"ticks\": \"\"}}, \"type\": \"parcoords\"}], \"pie\": [{\"automargin\": true, \"type\": \"pie\"}], \"scatter\": [{\"marker\": {\"colorbar\": {\"outlinewidth\": 0, \"ticks\": \"\"}}, \"type\": \"scatter\"}], \"scatter3d\": [{\"line\": {\"colorbar\": {\"outlinewidth\": 0, \"ticks\": \"\"}}, \"marker\": {\"colorbar\": {\"outlinewidth\": 0, \"ticks\": \"\"}}, \"type\": \"scatter3d\"}], \"scattercarpet\": [{\"marker\": {\"colorbar\": {\"outlinewidth\": 0, \"ticks\": \"\"}}, \"type\": \"scattercarpet\"}], \"scattergeo\": [{\"marker\": {\"colorbar\": {\"outlinewidth\": 0, \"ticks\": \"\"}}, \"type\": \"scattergeo\"}], \"scattergl\": [{\"marker\": {\"colorbar\": {\"outlinewidth\": 0, \"ticks\": \"\"}}, \"type\": \"scattergl\"}], \"scattermapbox\": [{\"marker\": {\"colorbar\": {\"outlinewidth\": 0, \"ticks\": \"\"}}, \"type\": \"scattermapbox\"}], \"scatterpolar\": [{\"marker\": {\"colorbar\": {\"outlinewidth\": 0, \"ticks\": \"\"}}, \"type\": \"scatterpolar\"}], \"scatterpolargl\": [{\"marker\": {\"colorbar\": {\"outlinewidth\": 0, \"ticks\": \"\"}}, \"type\": \"scatterpolargl\"}], \"scatterternary\": [{\"marker\": {\"colorbar\": {\"outlinewidth\": 0, \"ticks\": \"\"}}, \"type\": \"scatterternary\"}], \"surface\": [{\"colorbar\": {\"outlinewidth\": 0, \"ticks\": \"\"}, \"colorscale\": [[0.0, \"#0d0887\"], [0.1111111111111111, \"#46039f\"], [0.2222222222222222, \"#7201a8\"], [0.3333333333333333, \"#9c179e\"], [0.4444444444444444, \"#bd3786\"], [0.5555555555555556, \"#d8576b\"], [0.6666666666666666, \"#ed7953\"], [0.7777777777777778, \"#fb9f3a\"], [0.8888888888888888, \"#fdca26\"], [1.0, \"#f0f921\"]], \"type\": \"surface\"}], \"table\": [{\"cells\": {\"fill\": {\"color\": \"#EBF0F8\"}, \"line\": {\"color\": \"white\"}}, \"header\": {\"fill\": {\"color\": \"#C8D4E3\"}, \"line\": {\"color\": \"white\"}}, \"type\": \"table\"}]}, \"layout\": {\"annotationdefaults\": {\"arrowcolor\": \"#2a3f5f\", \"arrowhead\": 0, \"arrowwidth\": 1}, \"coloraxis\": {\"colorbar\": {\"outlinewidth\": 0, \"ticks\": \"\"}}, \"colorscale\": {\"diverging\": [[0, \"#8e0152\"], [0.1, \"#c51b7d\"], [0.2, \"#de77ae\"], [0.3, \"#f1b6da\"], [0.4, \"#fde0ef\"], [0.5, \"#f7f7f7\"], [0.6, \"#e6f5d0\"], [0.7, \"#b8e186\"], [0.8, \"#7fbc41\"], [0.9, \"#4d9221\"], [1, \"#276419\"]], \"sequential\": [[0.0, \"#0d0887\"], [0.1111111111111111, \"#46039f\"], [0.2222222222222222, \"#7201a8\"], [0.3333333333333333, \"#9c179e\"], [0.4444444444444444, \"#bd3786\"], [0.5555555555555556, \"#d8576b\"], [0.6666666666666666, \"#ed7953\"], [0.7777777777777778, \"#fb9f3a\"], [0.8888888888888888, \"#fdca26\"], [1.0, \"#f0f921\"]], \"sequentialminus\": [[0.0, \"#0d0887\"], [0.1111111111111111, \"#46039f\"], [0.2222222222222222, \"#7201a8\"], [0.3333333333333333, \"#9c179e\"], [0.4444444444444444, \"#bd3786\"], [0.5555555555555556, \"#d8576b\"], [0.6666666666666666, \"#ed7953\"], [0.7777777777777778, \"#fb9f3a\"], [0.8888888888888888, \"#fdca26\"], [1.0, \"#f0f921\"]]}, \"colorway\": [\"#636efa\", \"#EF553B\", \"#00cc96\", \"#ab63fa\", \"#FFA15A\", \"#19d3f3\", \"#FF6692\", \"#B6E880\", \"#FF97FF\", \"#FECB52\"], \"font\": {\"color\": \"#2a3f5f\"}, \"geo\": {\"bgcolor\": \"white\", \"lakecolor\": \"white\", \"landcolor\": \"#E5ECF6\", \"showlakes\": true, \"showland\": true, \"subunitcolor\": \"white\"}, \"hoverlabel\": {\"align\": \"left\"}, \"hovermode\": \"closest\", \"mapbox\": {\"style\": \"light\"}, \"paper_bgcolor\": \"white\", \"plot_bgcolor\": \"#E5ECF6\", \"polar\": {\"angularaxis\": {\"gridcolor\": \"white\", \"linecolor\": \"white\", \"ticks\": \"\"}, \"bgcolor\": \"#E5ECF6\", \"radialaxis\": {\"gridcolor\": \"white\", \"linecolor\": \"white\", \"ticks\": \"\"}}, \"scene\": {\"xaxis\": {\"backgroundcolor\": \"#E5ECF6\", \"gridcolor\": \"white\", \"gridwidth\": 2, \"linecolor\": \"white\", \"showbackground\": true, \"ticks\": \"\", \"zerolinecolor\": \"white\"}, \"yaxis\": {\"backgroundcolor\": \"#E5ECF6\", \"gridcolor\": \"white\", \"gridwidth\": 2, \"linecolor\": \"white\", \"showbackground\": true, \"ticks\": \"\", \"zerolinecolor\": \"white\"}, \"zaxis\": {\"backgroundcolor\": \"#E5ECF6\", \"gridcolor\": \"white\", \"gridwidth\": 2, \"linecolor\": \"white\", \"showbackground\": true, \"ticks\": \"\", \"zerolinecolor\": \"white\"}}, \"shapedefaults\": {\"line\": {\"color\": \"#2a3f5f\"}}, \"ternary\": {\"aaxis\": {\"gridcolor\": \"white\", \"linecolor\": \"white\", \"ticks\": \"\"}, \"baxis\": {\"gridcolor\": \"white\", \"linecolor\": \"white\", \"ticks\": \"\"}, \"bgcolor\": \"#E5ECF6\", \"caxis\": {\"gridcolor\": \"white\", \"linecolor\": \"white\", \"ticks\": \"\"}}, \"title\": {\"x\": 0.05}, \"xaxis\": {\"automargin\": true, \"gridcolor\": \"white\", \"linecolor\": \"white\", \"ticks\": \"\", \"title\": {\"standoff\": 15}, \"zerolinecolor\": \"white\", \"zerolinewidth\": 2}, \"yaxis\": {\"automargin\": true, \"gridcolor\": \"white\", \"linecolor\": \"white\", \"ticks\": \"\", \"title\": {\"standoff\": 15}, \"zerolinecolor\": \"white\", \"zerolinewidth\": 2}}}, \"title\": {\"text\": \"Movie Budget and Revenue (in millions)\"}},\n",
              "                        {\"responsive\": true}\n",
              "                    ).then(function(){\n",
              "                            \n",
              "var gd = document.getElementById('b7caa48f-2f60-4b15-82a6-bab98ed7014e');\n",
              "var x = new MutationObserver(function (mutations, observer) {{\n",
              "        var display = window.getComputedStyle(gd).display;\n",
              "        if (!display || display === 'none') {{\n",
              "            console.log([gd, 'removed!']);\n",
              "            Plotly.purge(gd);\n",
              "            observer.disconnect();\n",
              "        }}\n",
              "}});\n",
              "\n",
              "// Listen for the removal of the full notebook cells\n",
              "var notebookContainer = gd.closest('#notebook-container');\n",
              "if (notebookContainer) {{\n",
              "    x.observe(notebookContainer, {childList: true});\n",
              "}}\n",
              "\n",
              "// Listen for the clearing of the current output cell\n",
              "var outputEl = gd.closest('.output');\n",
              "if (outputEl) {{\n",
              "    x.observe(outputEl, {childList: true});\n",
              "}}\n",
              "\n",
              "                        })\n",
              "                };\n",
              "                \n",
              "            </script>\n",
              "        </div>\n",
              "</body>\n",
              "</html>"
            ]
          },
          "metadata": {
            "tags": []
          }
        }
      ]
    },
    {
      "cell_type": "markdown",
      "metadata": {
        "id": "lTIm3yk6jVFD"
      },
      "source": [
        "By using a line, we can see how much money is earned for any point on this line. All we need to do is look at a given $x$ value, and find the corresponding $y$ value at that point on the line.\n",
        "\n",
        "*   Spend 20 million, and expect to bring in about 40 million.\n",
        "*   Spend 30 million, and expect to bring in 60 million.\n",
        "\n",
        "This approach of modeling a linear relationship (that is drawing a straight line) between an input and an output is called **linear regression**. We call the input ($x$) our *explanatory variable*, and the output ($y$) the *dependent variable*. So here, we are saying budget explains our dependent variable, revenue.\n",
        "\n",
        "\n"
      ]
    },
    {
      "cell_type": "markdown",
      "metadata": {
        "id": "sH3tp81Hk3bH"
      },
      "source": [
        "## Representing linear regression with functions\n",
        "Instead of only representing this line visually, we also would like to represent this line with a **function**. That way, instead of having to *see* how an $x$ value points to a $y$ value along our line, we simply could *feed* this input into our function to calculate the proper output.\n",
        "\n"
      ]
    },
    {
      "cell_type": "markdown",
      "metadata": {
        "id": "LuEZMnU2lPFP"
      },
      "source": [
        "### First guess\n",
        "Let's take an initial (wrong) guess at turning this line into a function.\n",
        "First, we represent the line as a mathematical formula:\n",
        "\n",
        "$y = x$\n",
        "\n",
        "Then, we turn this formula into a function:"
      ]
    },
    {
      "cell_type": "code",
      "metadata": {
        "colab": {
          "base_uri": "https://localhost:8080/"
        },
        "id": "-AJfvCZ5hk1q",
        "outputId": "e3fd1b87-4a06-44bc-fcb1-ac7d403f0758"
      },
      "source": [
        "def f(x):\n",
        "    \"\"\"\n",
        "    A function f(x) = x to compute movie revenue (y) based on movie budget (x).\n",
        "    \"\"\"\n",
        "    return x\n",
        "\n",
        "print(f\"When movie budget is $0, the expected movie revenue is ${f(0)} (in millions).\")\n",
        "print(f\"When movie budget is $25, the expected movie revenue is ${f(25)} (in millions).\")"
      ],
      "execution_count": 112,
      "outputs": [
        {
          "output_type": "stream",
          "text": [
            "When movie budget is $0, the expected movie revenue is $0 (in millions).\n",
            "When movie budget is $25, the expected movie revenue is $25 (in millions).\n"
          ],
          "name": "stdout"
        }
      ]
    },
    {
      "cell_type": "markdown",
      "metadata": {
        "id": "n7UAjFY7m03A"
      },
      "source": [
        "This is pretty nice! We just wrote a function $f(x)$ that automatically calculates the expected revenue ($y$) given a certain movie budget ($x$). This function says that for every value of $x$ that we input to the function, we get back an equal value $y$. So according to the function, if the movie has a budget of 25 million, it will earn 25 million."
      ]
    },
    {
      "cell_type": "markdown",
      "metadata": {
        "id": "4HJIGTuOnM8F"
      },
      "source": [
        "### A better guess: Matching lines to functions\n",
        "Take a look at the line that we drew. Does our line say something different? Yes, it does! It says that spending 25 million brings predicted revenue of 50 million. Therefore, we need to change our function so that it matches our line. In fact, we need a consistent way to turn lines into functions, and vice versa. Let's get to it!\n",
        "\n",
        "**We start** by turning our line into a table below. It shows how our line relates x-values and y-values, or our budgets and revenues in this example.\n",
        "\n",
        "| X (budget) | Y (revenue) |\n",
        "|------------|:-----------:|\n",
        "| 0          |      0      |\n",
        "| 25 million |  50 million |\n",
        "| 50 million | 100 million |\n",
        "| 75 million | 150 million |\n",
        "\n",
        "\n",
        "**Next**, we need an equation that allows us to match this data:\n",
        "\n",
        "* input 0 and get back 0\n",
        "* input 25 million and get back 50 million\n",
        "* and input 50 million and get back 100 million.\n",
        "\n",
        "What equation is that? Well it's $y = 2x$. Take a look to see for yourself.\n",
        "\n",
        "* $0 * 2 = 0$\n",
        "* $25 * 2 = 50$\n",
        "* $50 * 2 = 100$\n",
        "\n",
        "Now, try to see if we can code this function:"
      ]
    },
    {
      "cell_type": "code",
      "metadata": {
        "id": "DguFtG5hndgJ",
        "colab": {
          "base_uri": "https://localhost:8080/"
        },
        "outputId": "76dfd9c6-e0a3-4e83-c282-fbd463504008"
      },
      "source": [
        "def f(x):\n",
        "    \"\"\"\n",
        "    A function f(x) = 2x to compute movie revenue (y) based on movie budget (x).\n",
        "    \"\"\"\n",
        "    # add your code here\n",
        "    # return x\n",
        "    pass\n",
        "\n",
        "print(f\"When movie budget is $0, the expected movie revenue is ${f(0)} (in millions).\") # Output should be $0\n",
        "print(f\"When movie budget is $25, the expected movie revenue is ${f(25)} (in millions).\") # Output should be $50"
      ],
      "execution_count": 113,
      "outputs": [
        {
          "output_type": "stream",
          "text": [
            "When movie budget is $0, the expected movie revenue is $None (in millions).\n",
            "When movie budget is $25, the expected movie revenue is $None (in millions).\n"
          ],
          "name": "stdout"
        }
      ]
    },
    {
      "cell_type": "markdown",
      "metadata": {
        "id": "P19GtYwNqEB1"
      },
      "source": [
        "Progress! We multiplied each $x$ value by 2 so that the output of our function $f(x)$ corresponds to the $y$ value appearing along our graphed line.\n",
        "\n"
      ]
    },
    {
      "cell_type": "markdown",
      "metadata": {
        "id": "FJfVs-zIqqAn"
      },
      "source": [
        "### The Slope Variable\n",
        "By multiplying $x$ by 2, we just altered the **slope** variable. The slope variable changes the inclination of the line in our graph. Slope generally is represented by $m$ like so:\n",
        "\n",
        "$y = mx$\n",
        "\n",
        "We say that a higher value of $m$ means out line is steeper. In our example, this means we expect more money in revenue per dollar spent on movie budget. \n",
        "\n",
        "Let's make sure we understand what all of our variables stand for. Here they are:\n",
        "\n",
        "* $y$: the output value returned by the function, also called the **response variable**, as it responds to values of $x$\n",
        "* $x$: the input variable, also called the **explanatory variable**, as it explains the value of $y$\n",
        "* $m$: the **slope variable**, determines how vertical or horizontal the line will appear\n",
        "\n",
        "Let's adapt these terms to our movie example. The $y$ value is the revenue earned from the movie, which we say is in response to our budget. The explanatory variable of our budget, $x$, represents our budget, and the $m$ corresponds to our value of 2, which describes how much money is earned for each dollar spent. Therefore, with an $m$ of 2, our line says to expect to earn 2 dollars for each dollar spent making the movie. Likewise, an $m$ of 3 suggests we earn 3 dollars for every dollar we spent.\n",
        "\n"
      ]
    },
    {
      "cell_type": "markdown",
      "metadata": {
        "id": "cor1pJF7vKnh"
      },
      "source": [
        "### The y-intercept\n",
        "There is one more thing that we need to learn in order to describe every straight line in a two-dimensional (2-D) world. That is the **y-intercept**.\n",
        "\n",
        "The y-intercept is the $y$ value of the line where it intersects the y-axis.\n",
        "Or, put another way, the y-intercept is the value of $y$ when $x$ equals zero.\n",
        "\n",
        "Let's redraw our initial line for the movie table but with a higher y-intercept:"
      ]
    },
    {
      "cell_type": "code",
      "metadata": {
        "colab": {
          "base_uri": "https://localhost:8080/",
          "height": 542
        },
        "id": "1Fmr4CHJmvEL",
        "outputId": "eac0a28a-c98d-4e30-e7fb-5cf567a36a96"
      },
      "source": [
        "movie_budgets = [0, 25, 50, 75] # our x values\n",
        "movie_revenues = [50, 100, 150, 200] # our y values\n",
        "regression_trace_increased = trace_values(movie_budgets, movie_revenues, mode='lines', name='increased estimated revenue')\n",
        "movie_layout = layout(options={'title': 'Movie Budget and Revenue (in millions)'})\n",
        "plot([regression_trace_increased, regression_trace], movie_layout)"
      ],
      "execution_count": 114,
      "outputs": [
        {
          "output_type": "display_data",
          "data": {
            "text/html": [
              "<html>\n",
              "<head><meta charset=\"utf-8\" /></head>\n",
              "<body>\n",
              "    <div>\n",
              "            <script src=\"https://cdnjs.cloudflare.com/ajax/libs/mathjax/2.7.5/MathJax.js?config=TeX-AMS-MML_SVG\"></script><script type=\"text/javascript\">if (window.MathJax) {MathJax.Hub.Config({SVG: {font: \"STIX-Web\"}});}</script>\n",
              "                <script type=\"text/javascript\">window.PlotlyConfig = {MathJaxConfig: 'local'};</script>\n",
              "        <script src=\"https://cdn.plot.ly/plotly-latest.min.js\"></script>    \n",
              "            <div id=\"f8767238-7dab-495e-89be-a6c336bd39b1\" class=\"plotly-graph-div\" style=\"height:525px; width:100%;\"></div>\n",
              "            <script type=\"text/javascript\">\n",
              "                \n",
              "                    window.PLOTLYENV=window.PLOTLYENV || {};\n",
              "                    \n",
              "                if (document.getElementById(\"f8767238-7dab-495e-89be-a6c336bd39b1\")) {\n",
              "                    Plotly.newPlot(\n",
              "                        'f8767238-7dab-495e-89be-a6c336bd39b1',\n",
              "                        [{\"mode\": \"lines\", \"name\": \"increased estimated revenue\", \"text\": [], \"type\": \"scatter\", \"x\": [0, 25, 50, 75], \"y\": [50, 100, 150, 200]}, {\"mode\": \"lines\", \"name\": \"estimated revenue\", \"text\": [], \"type\": \"scatter\", \"x\": [0, 25, 50, 75], \"y\": [0, 50, 100, 150]}],\n",
              "                        {\"template\": {\"data\": {\"bar\": [{\"error_x\": {\"color\": \"#2a3f5f\"}, \"error_y\": {\"color\": \"#2a3f5f\"}, \"marker\": {\"line\": {\"color\": \"#E5ECF6\", \"width\": 0.5}}, \"type\": \"bar\"}], \"barpolar\": [{\"marker\": {\"line\": {\"color\": \"#E5ECF6\", \"width\": 0.5}}, \"type\": \"barpolar\"}], \"carpet\": [{\"aaxis\": {\"endlinecolor\": \"#2a3f5f\", \"gridcolor\": \"white\", \"linecolor\": \"white\", \"minorgridcolor\": \"white\", \"startlinecolor\": \"#2a3f5f\"}, \"baxis\": {\"endlinecolor\": \"#2a3f5f\", \"gridcolor\": \"white\", \"linecolor\": \"white\", \"minorgridcolor\": \"white\", \"startlinecolor\": \"#2a3f5f\"}, \"type\": \"carpet\"}], \"choropleth\": [{\"colorbar\": {\"outlinewidth\": 0, \"ticks\": \"\"}, \"type\": \"choropleth\"}], \"contour\": [{\"colorbar\": {\"outlinewidth\": 0, \"ticks\": \"\"}, \"colorscale\": [[0.0, \"#0d0887\"], [0.1111111111111111, \"#46039f\"], [0.2222222222222222, \"#7201a8\"], [0.3333333333333333, \"#9c179e\"], [0.4444444444444444, \"#bd3786\"], [0.5555555555555556, \"#d8576b\"], [0.6666666666666666, \"#ed7953\"], [0.7777777777777778, \"#fb9f3a\"], [0.8888888888888888, \"#fdca26\"], [1.0, \"#f0f921\"]], \"type\": \"contour\"}], \"contourcarpet\": [{\"colorbar\": {\"outlinewidth\": 0, \"ticks\": \"\"}, \"type\": \"contourcarpet\"}], \"heatmap\": [{\"colorbar\": {\"outlinewidth\": 0, \"ticks\": \"\"}, \"colorscale\": [[0.0, \"#0d0887\"], [0.1111111111111111, \"#46039f\"], [0.2222222222222222, \"#7201a8\"], [0.3333333333333333, \"#9c179e\"], [0.4444444444444444, \"#bd3786\"], [0.5555555555555556, \"#d8576b\"], [0.6666666666666666, \"#ed7953\"], [0.7777777777777778, \"#fb9f3a\"], [0.8888888888888888, \"#fdca26\"], [1.0, \"#f0f921\"]], \"type\": \"heatmap\"}], \"heatmapgl\": [{\"colorbar\": {\"outlinewidth\": 0, \"ticks\": \"\"}, \"colorscale\": [[0.0, \"#0d0887\"], [0.1111111111111111, \"#46039f\"], [0.2222222222222222, \"#7201a8\"], [0.3333333333333333, \"#9c179e\"], [0.4444444444444444, \"#bd3786\"], [0.5555555555555556, \"#d8576b\"], [0.6666666666666666, \"#ed7953\"], [0.7777777777777778, \"#fb9f3a\"], [0.8888888888888888, \"#fdca26\"], [1.0, \"#f0f921\"]], \"type\": \"heatmapgl\"}], \"histogram\": [{\"marker\": {\"colorbar\": {\"outlinewidth\": 0, \"ticks\": \"\"}}, \"type\": \"histogram\"}], \"histogram2d\": [{\"colorbar\": {\"outlinewidth\": 0, \"ticks\": \"\"}, \"colorscale\": [[0.0, \"#0d0887\"], [0.1111111111111111, \"#46039f\"], [0.2222222222222222, \"#7201a8\"], [0.3333333333333333, \"#9c179e\"], [0.4444444444444444, \"#bd3786\"], [0.5555555555555556, \"#d8576b\"], [0.6666666666666666, \"#ed7953\"], [0.7777777777777778, \"#fb9f3a\"], [0.8888888888888888, \"#fdca26\"], [1.0, \"#f0f921\"]], \"type\": \"histogram2d\"}], \"histogram2dcontour\": [{\"colorbar\": {\"outlinewidth\": 0, \"ticks\": \"\"}, \"colorscale\": [[0.0, \"#0d0887\"], [0.1111111111111111, \"#46039f\"], [0.2222222222222222, \"#7201a8\"], [0.3333333333333333, \"#9c179e\"], [0.4444444444444444, \"#bd3786\"], [0.5555555555555556, \"#d8576b\"], [0.6666666666666666, \"#ed7953\"], [0.7777777777777778, \"#fb9f3a\"], [0.8888888888888888, \"#fdca26\"], [1.0, \"#f0f921\"]], \"type\": \"histogram2dcontour\"}], \"mesh3d\": [{\"colorbar\": {\"outlinewidth\": 0, \"ticks\": \"\"}, \"type\": \"mesh3d\"}], \"parcoords\": [{\"line\": {\"colorbar\": {\"outlinewidth\": 0, \"ticks\": \"\"}}, \"type\": \"parcoords\"}], \"pie\": [{\"automargin\": true, \"type\": \"pie\"}], \"scatter\": [{\"marker\": {\"colorbar\": {\"outlinewidth\": 0, \"ticks\": \"\"}}, \"type\": \"scatter\"}], \"scatter3d\": [{\"line\": {\"colorbar\": {\"outlinewidth\": 0, \"ticks\": \"\"}}, \"marker\": {\"colorbar\": {\"outlinewidth\": 0, \"ticks\": \"\"}}, \"type\": \"scatter3d\"}], \"scattercarpet\": [{\"marker\": {\"colorbar\": {\"outlinewidth\": 0, \"ticks\": \"\"}}, \"type\": \"scattercarpet\"}], \"scattergeo\": [{\"marker\": {\"colorbar\": {\"outlinewidth\": 0, \"ticks\": \"\"}}, \"type\": \"scattergeo\"}], \"scattergl\": [{\"marker\": {\"colorbar\": {\"outlinewidth\": 0, \"ticks\": \"\"}}, \"type\": \"scattergl\"}], \"scattermapbox\": [{\"marker\": {\"colorbar\": {\"outlinewidth\": 0, \"ticks\": \"\"}}, \"type\": \"scattermapbox\"}], \"scatterpolar\": [{\"marker\": {\"colorbar\": {\"outlinewidth\": 0, \"ticks\": \"\"}}, \"type\": \"scatterpolar\"}], \"scatterpolargl\": [{\"marker\": {\"colorbar\": {\"outlinewidth\": 0, \"ticks\": \"\"}}, \"type\": \"scatterpolargl\"}], \"scatterternary\": [{\"marker\": {\"colorbar\": {\"outlinewidth\": 0, \"ticks\": \"\"}}, \"type\": \"scatterternary\"}], \"surface\": [{\"colorbar\": {\"outlinewidth\": 0, \"ticks\": \"\"}, \"colorscale\": [[0.0, \"#0d0887\"], [0.1111111111111111, \"#46039f\"], [0.2222222222222222, \"#7201a8\"], [0.3333333333333333, \"#9c179e\"], [0.4444444444444444, \"#bd3786\"], [0.5555555555555556, \"#d8576b\"], [0.6666666666666666, \"#ed7953\"], [0.7777777777777778, \"#fb9f3a\"], [0.8888888888888888, \"#fdca26\"], [1.0, \"#f0f921\"]], \"type\": \"surface\"}], \"table\": [{\"cells\": {\"fill\": {\"color\": \"#EBF0F8\"}, \"line\": {\"color\": \"white\"}}, \"header\": {\"fill\": {\"color\": \"#C8D4E3\"}, \"line\": {\"color\": \"white\"}}, \"type\": \"table\"}]}, \"layout\": {\"annotationdefaults\": {\"arrowcolor\": \"#2a3f5f\", \"arrowhead\": 0, \"arrowwidth\": 1}, \"coloraxis\": {\"colorbar\": {\"outlinewidth\": 0, \"ticks\": \"\"}}, \"colorscale\": {\"diverging\": [[0, \"#8e0152\"], [0.1, \"#c51b7d\"], [0.2, \"#de77ae\"], [0.3, \"#f1b6da\"], [0.4, \"#fde0ef\"], [0.5, \"#f7f7f7\"], [0.6, \"#e6f5d0\"], [0.7, \"#b8e186\"], [0.8, \"#7fbc41\"], [0.9, \"#4d9221\"], [1, \"#276419\"]], \"sequential\": [[0.0, \"#0d0887\"], [0.1111111111111111, \"#46039f\"], [0.2222222222222222, \"#7201a8\"], [0.3333333333333333, \"#9c179e\"], [0.4444444444444444, \"#bd3786\"], [0.5555555555555556, \"#d8576b\"], [0.6666666666666666, \"#ed7953\"], [0.7777777777777778, \"#fb9f3a\"], [0.8888888888888888, \"#fdca26\"], [1.0, \"#f0f921\"]], \"sequentialminus\": [[0.0, \"#0d0887\"], [0.1111111111111111, \"#46039f\"], [0.2222222222222222, \"#7201a8\"], [0.3333333333333333, \"#9c179e\"], [0.4444444444444444, \"#bd3786\"], [0.5555555555555556, \"#d8576b\"], [0.6666666666666666, \"#ed7953\"], [0.7777777777777778, \"#fb9f3a\"], [0.8888888888888888, \"#fdca26\"], [1.0, \"#f0f921\"]]}, \"colorway\": [\"#636efa\", \"#EF553B\", \"#00cc96\", \"#ab63fa\", \"#FFA15A\", \"#19d3f3\", \"#FF6692\", \"#B6E880\", \"#FF97FF\", \"#FECB52\"], \"font\": {\"color\": \"#2a3f5f\"}, \"geo\": {\"bgcolor\": \"white\", \"lakecolor\": \"white\", \"landcolor\": \"#E5ECF6\", \"showlakes\": true, \"showland\": true, \"subunitcolor\": \"white\"}, \"hoverlabel\": {\"align\": \"left\"}, \"hovermode\": \"closest\", \"mapbox\": {\"style\": \"light\"}, \"paper_bgcolor\": \"white\", \"plot_bgcolor\": \"#E5ECF6\", \"polar\": {\"angularaxis\": {\"gridcolor\": \"white\", \"linecolor\": \"white\", \"ticks\": \"\"}, \"bgcolor\": \"#E5ECF6\", \"radialaxis\": {\"gridcolor\": \"white\", \"linecolor\": \"white\", \"ticks\": \"\"}}, \"scene\": {\"xaxis\": {\"backgroundcolor\": \"#E5ECF6\", \"gridcolor\": \"white\", \"gridwidth\": 2, \"linecolor\": \"white\", \"showbackground\": true, \"ticks\": \"\", \"zerolinecolor\": \"white\"}, \"yaxis\": {\"backgroundcolor\": \"#E5ECF6\", \"gridcolor\": \"white\", \"gridwidth\": 2, \"linecolor\": \"white\", \"showbackground\": true, \"ticks\": \"\", \"zerolinecolor\": \"white\"}, \"zaxis\": {\"backgroundcolor\": \"#E5ECF6\", \"gridcolor\": \"white\", \"gridwidth\": 2, \"linecolor\": \"white\", \"showbackground\": true, \"ticks\": \"\", \"zerolinecolor\": \"white\"}}, \"shapedefaults\": {\"line\": {\"color\": \"#2a3f5f\"}}, \"ternary\": {\"aaxis\": {\"gridcolor\": \"white\", \"linecolor\": \"white\", \"ticks\": \"\"}, \"baxis\": {\"gridcolor\": \"white\", \"linecolor\": \"white\", \"ticks\": \"\"}, \"bgcolor\": \"#E5ECF6\", \"caxis\": {\"gridcolor\": \"white\", \"linecolor\": \"white\", \"ticks\": \"\"}}, \"title\": {\"x\": 0.05}, \"xaxis\": {\"automargin\": true, \"gridcolor\": \"white\", \"linecolor\": \"white\", \"ticks\": \"\", \"title\": {\"standoff\": 15}, \"zerolinecolor\": \"white\", \"zerolinewidth\": 2}, \"yaxis\": {\"automargin\": true, \"gridcolor\": \"white\", \"linecolor\": \"white\", \"ticks\": \"\", \"title\": {\"standoff\": 15}, \"zerolinecolor\": \"white\", \"zerolinewidth\": 2}}}, \"title\": {\"text\": \"Movie Budget and Revenue (in millions)\"}},\n",
              "                        {\"responsive\": true}\n",
              "                    ).then(function(){\n",
              "                            \n",
              "var gd = document.getElementById('f8767238-7dab-495e-89be-a6c336bd39b1');\n",
              "var x = new MutationObserver(function (mutations, observer) {{\n",
              "        var display = window.getComputedStyle(gd).display;\n",
              "        if (!display || display === 'none') {{\n",
              "            console.log([gd, 'removed!']);\n",
              "            Plotly.purge(gd);\n",
              "            observer.disconnect();\n",
              "        }}\n",
              "}});\n",
              "\n",
              "// Listen for the removal of the full notebook cells\n",
              "var notebookContainer = gd.closest('#notebook-container');\n",
              "if (notebookContainer) {{\n",
              "    x.observe(notebookContainer, {childList: true});\n",
              "}}\n",
              "\n",
              "// Listen for the clearing of the current output cell\n",
              "var outputEl = gd.closest('.output');\n",
              "if (outputEl) {{\n",
              "    x.observe(outputEl, {childList: true});\n",
              "}}\n",
              "\n",
              "                        })\n",
              "                };\n",
              "                \n",
              "            </script>\n",
              "        </div>\n",
              "</body>\n",
              "</html>"
            ]
          },
          "metadata": {
            "tags": []
          }
        }
      ]
    },
    {
      "cell_type": "markdown",
      "metadata": {
        "id": "V4dOeCl1ya0Z"
      },
      "source": [
        "What is the y-intercept of the original estimated revenue line? Well, it's the value of $y$ when that line crosses the y-axis. That value is 0. Our second line is parallel to the first but is shifted higher so that the y-intercept increases up to 50 million. Here, for every value of $x$, the corresponding value of $y$ is higher by 50 million!\n",
        "\n",
        "\n",
        "Now, our formula is not $y = 2x$, instead it is:\n",
        "\n",
        "\n",
        "\n",
        "$$ y = 2x + 50 $$\n",
        "\n",
        "\n",
        "It is common to represent the y-intercept of a line by $b$. Now we have all of the information needed to describe any straight line using the formula below:\n",
        "\n",
        "$$y = mx + b $$\n",
        "\n",
        "Once more, in this formula:\n",
        "\n",
        "* $m$ is our *slope* of the line, and\n",
        "* $b$ is our *y-intercept*, the value of $y$ when $x$ equals zero.\n",
        "\n",
        "So thinking about it visually, increasing $m$ makes the line steeper, and increasing $b$ pushes the line higher.\n",
        "\n",
        "In the context of our movies example, we said that the the line with values of $m$ = 2 and $b$ = 50 million describes our line, giving us:\n",
        "\n",
        "$y = 2x + 50 $, (in millions).\n",
        "\n",
        "Let's see if you can translate this into a function $f(x)$. For any input of $x$ our function returns the value of $y$ along that line:"
      ]
    },
    {
      "cell_type": "code",
      "metadata": {
        "id": "mp4Rk_3sw9nG",
        "colab": {
          "base_uri": "https://localhost:8080/"
        },
        "outputId": "d62bc55c-7fe6-4571-a1a4-697e9e2efeb2"
      },
      "source": [
        "def f(x):\n",
        "    \"\"\"\n",
        "    A function f(x) = 2x + 50 million that returns expected movie revenue (y) \n",
        "    based on movie budget (x).\n",
        "    \"\"\"\n",
        "    # add your code here\n",
        "    \n",
        "\n",
        "print(f\"When movie budget is $0, the expected movie revenue is ${f(0)} (in millions).\") # Output should be $50\n",
        "print(f\"When movie budget is $25, the expected movie revenue is ${f(25)} (in millions).\") # Output should be $100"
      ],
      "execution_count": 115,
      "outputs": [
        {
          "output_type": "stream",
          "text": [
            "When movie budget is $0, the expected movie revenue is $None (in millions).\n",
            "When movie budget is $25, the expected movie revenue is $None (in millions).\n"
          ],
          "name": "stdout"
        }
      ]
    },
    {
      "cell_type": "markdown",
      "metadata": {
        "id": "TPLRmc1KTXLE"
      },
      "source": [
        "## How to model a regression line\n",
        "Let's step back for a moment and think about what we've learned so far.\n",
        "\n",
        "First, we saw how to estimate the relationship between an input variable $x$ and an output value $y$. We did so by first drawing a straight line on a graph to represent the relationship between a movie's budget and it's revenue, and manually determined the output for a given input by looking at the y-value of the line at that input point of $x$. \n",
        "\n",
        "We then learned how to represent a line as a mathematical formula, and ultimately a function $f(x)$. We first saw that lines can be described with the formula $y = mx + b $, where $m$ represents the slope of the line, and $b$ represents the value of $y$ when $x$ equals zero. The $b$ variable shifts the line up or down while the $m$ variable tilts the line forwards or backwards. We then translate this formula into a function $f(x)$ that returns an expected value of $y$ for an input value of $x$! \n",
        "\n",
        "So what's missing? Well, we know what the $m$ and $b$ values represent. However, until this point, we've manually computed them, and manually computing numbers in no fun! We prefer to calculate $m$ and $b$ algorithmically (automatically) instead. But how? One way is to use a machine learning algorithm called linear regression to find the \"line of best fit\". It is not the only way to find the best fit line, but its pretty good. "
      ]
    },
    {
      "cell_type": "markdown",
      "metadata": {
        "id": "z115Ub9aRNWy"
      },
      "source": [
        "### The model concept \n",
        "So, how can we mathematically model single linear regression? Well, we know the goal is to find the perfect line (\"line of best fit\"), so we start by defining a **function** (also called a **model**) that describes how predictions will be computed for a line:\n",
        "\n",
        "$$ f(x,m,b)=mx+b $$\n",
        "\n",
        "The line of best fit can then be used to predict (guess) y from x, so in our movies example revenue from budget. "
      ]
    },
    {
      "cell_type": "markdown",
      "metadata": {
        "id": "UQ0BZz4wPio2"
      },
      "source": [
        "The first step we take is to determine what the \"best line\" is exactly. To do so, we define a **loss function** (also called a cost function), which measures how bad a particular choice of m and b are. Values of m and b that seem poor (a line that does not fit the data set) should result in a large value of the loss function, whereas good values of m and b (a line that fits the data set well) should result in small values of the loss function. In other words, the loss function should measure how far the predicted line is from each of the data points, and add this value up for all data points. We can write this as:\n",
        "$$\n",
        "    L(m, b) = \\sum_{i=1}^m (f(x_i, m, b) - y_i)^2 = \\sum_{i=1}^m (mx_i + b-y_i)^2\n",
        "$$\n",
        "\n",
        "where $m$ is the number of examples in our dataset, $x_i$ is the i'th input example, and $y_i$ is the i'th desired output. So, $(f(x_i, m, b) - y_i)^2$ measures how far the i'th prediction is from the i'th desired output. For example, if the prediction $f(x_i)$ is 7, and the correct output $y$ is 10, then we would get $(7 - 10)^2 = 9$. Squaring it is important so that it is always positive. Finally, we just add up all of these individual losses. Since the smallest possible values for the squared terms indicate that the line fits the data as closely as possible, the line of best fit (determined by the choice of $m$ and $b$) occurs exactly at the smallest value of $L(m, b)$. For this reason, the model is also called [least squares regression](https://en.wikipedia.org/wiki/Least_squares)."
      ]
    },
    {
      "cell_type": "markdown",
      "metadata": {
        "id": "gy6j4NJiXpVJ"
      },
      "source": [
        "### Finding the optimal values\n",
        "With our loss function defined as $L(m,b)$, which is smallest exactly when each predicted value $f(x, m, b)$ is as close as possible to the actual data $y$, our goal then is to make the distance between the data points and predicted line as small as possible to produce the \"line of best fit\". We achieve this by finding the \"optimal\" values of $m$ and $b$ that minimize the loss function $L(m,b)$. But what does $L$ actually look like? Well, it's basically a 3D parabola, which looks similar to a rolling hills landscape: \n",
        "\n",
        "\n",
        "![Loss landscape](https://pyimagesearch.com/wp-content/uploads/2019/10/train_val_loss_landscape.png)\n",
        "\n",
        "\n"
      ]
    },
    {
      "cell_type": "markdown",
      "metadata": {
        "id": "_agdzAaTFtBO"
      },
      "source": [
        "The \"we want to get here\" dot marked on the plot of $L$ shows where the desired minimum is. One technique to find this location is called [Ordinary Least Squares](https://en.wikipedia.org/wiki/Ordinary_least_squares#:~:text=In%20statistics%2C%20ordinary%20least%20squares,in%20a%20linear%20regression%20model.&text=Under%20these%20conditions%2C%20the%20method,the%20errors%20have%20finite%20variances.), which is a mathematical way of finding the best $m$ and $b$ using Linear Algebra and Calculus.\n",
        "\n",
        "> For now, we don't worry about the mathematical explanation of how Ordinary Least Squares works, we will be introducing a new way of solving Linear Regression models with an algorithm called gradient descent that is more focused in the realm of Deep Learning.\n",
        "\n",
        "The great thing about Ordinary Least Squares is that there is a great Machine Learning library for Python called [Sklearn](https://scikit-learn.org/stable/index.html) that has implemented many ordinary machine learning models such as Linear Regression. Their library is so helpful and so easy to use that it will be easy to express how fundamentally a ML model works by taking an input $x$ to predict an output $y$.\n"
      ]
    },
    {
      "cell_type": "markdown",
      "metadata": {
        "id": "CwXwObcdLluq"
      },
      "source": [
        "## Coding linear regression\n",
        "Let's quickly review what we did when defining the theory of linear regression:\n",
        "\n",
        "1. Describe the dataset\n",
        "2. Define the model using Sklearn\n",
        "3. Define the loss function\n",
        "4. Train the model\n",
        "5. Use the trained model to make predictions\n",
        "6. Profit!\n",
        "\n",
        "When coding this we will follow the exact same steps!"
      ]
    },
    {
      "cell_type": "markdown",
      "metadata": {
        "id": "HDqCToA3MGB1"
      },
      "source": [
        "### Describing the dataset\n",
        "Remeber that we were hired as a consultant for a movie executive to build a model of to predict the amount of revenue a movie would make given its budget. When we first took the job, our movie revenue and budget dataset was very small. But now it's much bigger. Let's take a look!\n"
      ]
    },
    {
      "cell_type": "code",
      "metadata": {
        "colab": {
          "base_uri": "https://localhost:8080/"
        },
        "id": "KlGM3E9QMEEC",
        "outputId": "f4587d95-d68d-47bf-80d8-1d35c13d45fa"
      },
      "source": [
        "def generate_synthetic_movie_revenue_dataset(n=50, true_m=1.5, true_b=10, random_noise=1.0):\n",
        "    \"\"\"\n",
        "    Generates a synthetic movie revenue vs budget dataset and returns\n",
        "    a dictionary with three key-value pairs:\n",
        "        * `x`: a list of x values\n",
        "        * `y`: a list of y values\n",
        "        * `true_m`: the true slope of our data\n",
        "        * `true_b`: the true y-intercept of our data\n",
        "    \"\"\"\n",
        "    np.random.seed(10)\n",
        "    # generate the list of numbers between 0 and n for x values (budget)\n",
        "    x = np.arange(n)\n",
        "\n",
        "    # generate the list of y values (revenue) corresponding to each x value (budget)\n",
        "    y = []\n",
        "    for xi in x:\n",
        "        noise = np.random.uniform(-random_noise, random_noise)\n",
        "        # the \"true\" function of our data\n",
        "        yi = true_m*xi + true_b + noise\n",
        "        y.append(yi)\n",
        "    y = np.array(y)\n",
        "\n",
        "    return {'x': x, 'y': y, 'true_m': true_m, 'true_b': true_b}\n",
        "\n",
        "pprint(generate_synthetic_movie_revenue_dataset(10, 1.5, 10, 0.5))"
      ],
      "execution_count": 116,
      "outputs": [
        {
          "output_type": "stream",
          "text": [
            "{'true_b': 10,\n",
            " 'true_m': 1.5,\n",
            " 'x': array([0, 1, 2, 3, 4, 5, 6, 7, 8, 9]),\n",
            " 'y': array([10.27132064, 11.02075195, 13.13364823, 14.74880388, 15.99850701,\n",
            "       17.22479665, 18.69806286, 20.76053071, 21.66911084, 23.08833981])}\n"
          ],
          "name": "stdout"
        }
      ]
    },
    {
      "cell_type": "markdown",
      "metadata": {
        "id": "Yu3llM1ETx1F"
      },
      "source": [
        "Now let's visualize it!"
      ]
    },
    {
      "cell_type": "code",
      "metadata": {
        "colab": {
          "base_uri": "https://localhost:8080/",
          "height": 542
        },
        "id": "716co3dlT0eg",
        "outputId": "3253efc3-305e-488f-f6ea-9ca3d1063290"
      },
      "source": [
        "# generate a larger dataset with 1500 movie budget and revenue samples and plot it\n",
        "movies_ds = generate_synthetic_movie_revenue_dataset(100, 1.5, 10, 10) \n",
        "regression_trace = trace_values(movies_ds['x'], movies_ds['y'], mode='markers', name=\"synthetic movie revenue vs budget data\")\n",
        "movies_layout = layout(options={'title': \"A scatter plot of our synthetic movie revenue vs budget data (in millions)\"})\n",
        "plot([regression_trace], movies_layout)"
      ],
      "execution_count": 117,
      "outputs": [
        {
          "output_type": "display_data",
          "data": {
            "text/html": [
              "<html>\n",
              "<head><meta charset=\"utf-8\" /></head>\n",
              "<body>\n",
              "    <div>\n",
              "            <script src=\"https://cdnjs.cloudflare.com/ajax/libs/mathjax/2.7.5/MathJax.js?config=TeX-AMS-MML_SVG\"></script><script type=\"text/javascript\">if (window.MathJax) {MathJax.Hub.Config({SVG: {font: \"STIX-Web\"}});}</script>\n",
              "                <script type=\"text/javascript\">window.PlotlyConfig = {MathJaxConfig: 'local'};</script>\n",
              "        <script src=\"https://cdn.plot.ly/plotly-latest.min.js\"></script>    \n",
              "            <div id=\"046736cd-7c9a-46d7-98a3-fb71ca71483f\" class=\"plotly-graph-div\" style=\"height:525px; width:100%;\"></div>\n",
              "            <script type=\"text/javascript\">\n",
              "                \n",
              "                    window.PLOTLYENV=window.PLOTLYENV || {};\n",
              "                    \n",
              "                if (document.getElementById(\"046736cd-7c9a-46d7-98a3-fb71ca71483f\")) {\n",
              "                    Plotly.newPlot(\n",
              "                        '046736cd-7c9a-46d7-98a3-fb71ca71483f',\n",
              "                        [{\"mode\": \"markers\", \"name\": \"synthetic movie revenue vs budget data\", \"text\": [], \"type\": \"scatter\", \"x\": [0, 1, 2, 3, 4, 5, 6, 7, 8, 9, 10, 11, 12, 13, 14, 15, 16, 17, 18, 19, 20, 21, 22, 23, 24, 25, 26, 27, 28, 29, 30, 31, 32, 33, 34, 35, 36, 37, 38, 39, 40, 41, 42, 43, 44, 45, 46, 47, 48, 49, 50, 51, 52, 53, 54, 55, 56, 57, 58, 59, 60, 61, 62, 63, 64, 65, 66, 67, 68, 69, 70, 71, 72, 73, 74, 75, 76, 77, 78, 79, 80, 81, 82, 83, 84, 85, 86, 87, 88, 89, 90, 91, 92, 93, 94, 95, 96, 97, 98, 99], \"y\": [15.42641286533492, 1.91503898718803, 15.672964698525508, 19.476077650772236, 15.970140246051809, 11.995932910616954, 12.96125729519248, 25.710614243979172, 15.38221673125071, 15.266796283480206, 28.707196367355944, 35.567866923898734, 18.07896532655829, 29.743845267715532, 37.252419233042275, 34.75052133658777, 38.43510634863599, 31.337521363412662, 45.35548245025887, 42.79151566795381, 40.85088736022523, 34.343400952030535, 40.466815201029384, 47.98267230132691, 44.83666348845992, 46.18027986666587, 51.355339569386345, 50.762764851087816, 55.00794363862934, 55.52077906809089, 61.10446393665493, 56.93294304787268, 66.17297761617337, 55.884721779770906, 52.80918698541815, 58.51400113272407, 56.27968723727099, 72.07362652615353, 57.937926387785, 71.02574296622785, 70.95172311838488, 77.88573991340138, 66.97895079357625, 81.63700604915466, 73.03305278864175, 82.59295383059714, 74.91923413759358, 88.17872959122373, 78.51023275664498, 76.80031795438298, 82.85058487893174, 78.369207491173, 94.42211315673856, 82.52304039285127, 88.682288973844, 101.38521424477602, 103.75250949803744, 94.62609094189568, 103.52245687685479, 93.52748268414119, 101.94743296461769, 109.55663520663255, 103.6911589760363, 106.30402725970846, 96.78563534450774, 104.64363517269072, 100.59226180311929, 106.60919836685636, 108.61438623964264, 118.97660592421192, 105.79918417379955, 115.08984356863277, 114.29853743685376, 122.2298228613509, 117.92694300160066, 113.36194712409988, 131.59830349035832, 130.76481174287363, 134.56193285449717, 126.85018287678534, 132.11155128787513, 131.76933254816578, 134.95673295925948, 129.744313222639, 132.01742617881413, 128.0079956410021, 135.06125121302068, 135.34151750807055, 143.1515637732529, 144.81014039776335, 144.502644948301, 142.35595952579018, 139.2850212138965, 159.07638291515286, 147.79415687275727, 152.40097261764907, 163.54161451845363, 154.31547649801334, 153.36545610957901, 158.8959397175076]}],\n",
              "                        {\"template\": {\"data\": {\"bar\": [{\"error_x\": {\"color\": \"#2a3f5f\"}, \"error_y\": {\"color\": \"#2a3f5f\"}, \"marker\": {\"line\": {\"color\": \"#E5ECF6\", \"width\": 0.5}}, \"type\": \"bar\"}], \"barpolar\": [{\"marker\": {\"line\": {\"color\": \"#E5ECF6\", \"width\": 0.5}}, \"type\": \"barpolar\"}], \"carpet\": [{\"aaxis\": {\"endlinecolor\": \"#2a3f5f\", \"gridcolor\": \"white\", \"linecolor\": \"white\", \"minorgridcolor\": \"white\", \"startlinecolor\": \"#2a3f5f\"}, \"baxis\": {\"endlinecolor\": \"#2a3f5f\", \"gridcolor\": \"white\", \"linecolor\": \"white\", \"minorgridcolor\": \"white\", \"startlinecolor\": \"#2a3f5f\"}, \"type\": \"carpet\"}], \"choropleth\": [{\"colorbar\": {\"outlinewidth\": 0, \"ticks\": \"\"}, \"type\": \"choropleth\"}], \"contour\": [{\"colorbar\": {\"outlinewidth\": 0, \"ticks\": \"\"}, \"colorscale\": [[0.0, \"#0d0887\"], [0.1111111111111111, \"#46039f\"], [0.2222222222222222, \"#7201a8\"], [0.3333333333333333, \"#9c179e\"], [0.4444444444444444, \"#bd3786\"], [0.5555555555555556, \"#d8576b\"], [0.6666666666666666, \"#ed7953\"], [0.7777777777777778, \"#fb9f3a\"], [0.8888888888888888, \"#fdca26\"], [1.0, \"#f0f921\"]], \"type\": \"contour\"}], \"contourcarpet\": [{\"colorbar\": {\"outlinewidth\": 0, \"ticks\": \"\"}, \"type\": \"contourcarpet\"}], \"heatmap\": [{\"colorbar\": {\"outlinewidth\": 0, \"ticks\": \"\"}, \"colorscale\": [[0.0, \"#0d0887\"], [0.1111111111111111, \"#46039f\"], [0.2222222222222222, \"#7201a8\"], [0.3333333333333333, \"#9c179e\"], [0.4444444444444444, \"#bd3786\"], [0.5555555555555556, \"#d8576b\"], [0.6666666666666666, \"#ed7953\"], [0.7777777777777778, \"#fb9f3a\"], [0.8888888888888888, \"#fdca26\"], [1.0, \"#f0f921\"]], \"type\": \"heatmap\"}], \"heatmapgl\": [{\"colorbar\": {\"outlinewidth\": 0, \"ticks\": \"\"}, \"colorscale\": [[0.0, \"#0d0887\"], [0.1111111111111111, \"#46039f\"], [0.2222222222222222, \"#7201a8\"], [0.3333333333333333, \"#9c179e\"], [0.4444444444444444, \"#bd3786\"], [0.5555555555555556, \"#d8576b\"], [0.6666666666666666, \"#ed7953\"], [0.7777777777777778, \"#fb9f3a\"], [0.8888888888888888, \"#fdca26\"], [1.0, \"#f0f921\"]], \"type\": \"heatmapgl\"}], \"histogram\": [{\"marker\": {\"colorbar\": {\"outlinewidth\": 0, \"ticks\": \"\"}}, \"type\": \"histogram\"}], \"histogram2d\": [{\"colorbar\": {\"outlinewidth\": 0, \"ticks\": \"\"}, \"colorscale\": [[0.0, \"#0d0887\"], [0.1111111111111111, \"#46039f\"], [0.2222222222222222, \"#7201a8\"], [0.3333333333333333, \"#9c179e\"], [0.4444444444444444, \"#bd3786\"], [0.5555555555555556, \"#d8576b\"], [0.6666666666666666, \"#ed7953\"], [0.7777777777777778, \"#fb9f3a\"], [0.8888888888888888, \"#fdca26\"], [1.0, \"#f0f921\"]], \"type\": \"histogram2d\"}], \"histogram2dcontour\": [{\"colorbar\": {\"outlinewidth\": 0, \"ticks\": \"\"}, \"colorscale\": [[0.0, \"#0d0887\"], [0.1111111111111111, \"#46039f\"], [0.2222222222222222, \"#7201a8\"], [0.3333333333333333, \"#9c179e\"], [0.4444444444444444, \"#bd3786\"], [0.5555555555555556, \"#d8576b\"], [0.6666666666666666, \"#ed7953\"], [0.7777777777777778, \"#fb9f3a\"], [0.8888888888888888, \"#fdca26\"], [1.0, \"#f0f921\"]], \"type\": \"histogram2dcontour\"}], \"mesh3d\": [{\"colorbar\": {\"outlinewidth\": 0, \"ticks\": \"\"}, \"type\": \"mesh3d\"}], \"parcoords\": [{\"line\": {\"colorbar\": {\"outlinewidth\": 0, \"ticks\": \"\"}}, \"type\": \"parcoords\"}], \"pie\": [{\"automargin\": true, \"type\": \"pie\"}], \"scatter\": [{\"marker\": {\"colorbar\": {\"outlinewidth\": 0, \"ticks\": \"\"}}, \"type\": \"scatter\"}], \"scatter3d\": [{\"line\": {\"colorbar\": {\"outlinewidth\": 0, \"ticks\": \"\"}}, \"marker\": {\"colorbar\": {\"outlinewidth\": 0, \"ticks\": \"\"}}, \"type\": \"scatter3d\"}], \"scattercarpet\": [{\"marker\": {\"colorbar\": {\"outlinewidth\": 0, \"ticks\": \"\"}}, \"type\": \"scattercarpet\"}], \"scattergeo\": [{\"marker\": {\"colorbar\": {\"outlinewidth\": 0, \"ticks\": \"\"}}, \"type\": \"scattergeo\"}], \"scattergl\": [{\"marker\": {\"colorbar\": {\"outlinewidth\": 0, \"ticks\": \"\"}}, \"type\": \"scattergl\"}], \"scattermapbox\": [{\"marker\": {\"colorbar\": {\"outlinewidth\": 0, \"ticks\": \"\"}}, \"type\": \"scattermapbox\"}], \"scatterpolar\": [{\"marker\": {\"colorbar\": {\"outlinewidth\": 0, \"ticks\": \"\"}}, \"type\": \"scatterpolar\"}], \"scatterpolargl\": [{\"marker\": {\"colorbar\": {\"outlinewidth\": 0, \"ticks\": \"\"}}, \"type\": \"scatterpolargl\"}], \"scatterternary\": [{\"marker\": {\"colorbar\": {\"outlinewidth\": 0, \"ticks\": \"\"}}, \"type\": \"scatterternary\"}], \"surface\": [{\"colorbar\": {\"outlinewidth\": 0, \"ticks\": \"\"}, \"colorscale\": [[0.0, \"#0d0887\"], [0.1111111111111111, \"#46039f\"], [0.2222222222222222, \"#7201a8\"], [0.3333333333333333, \"#9c179e\"], [0.4444444444444444, \"#bd3786\"], [0.5555555555555556, \"#d8576b\"], [0.6666666666666666, \"#ed7953\"], [0.7777777777777778, \"#fb9f3a\"], [0.8888888888888888, \"#fdca26\"], [1.0, \"#f0f921\"]], \"type\": \"surface\"}], \"table\": [{\"cells\": {\"fill\": {\"color\": \"#EBF0F8\"}, \"line\": {\"color\": \"white\"}}, \"header\": {\"fill\": {\"color\": \"#C8D4E3\"}, \"line\": {\"color\": \"white\"}}, \"type\": \"table\"}]}, \"layout\": {\"annotationdefaults\": {\"arrowcolor\": \"#2a3f5f\", \"arrowhead\": 0, \"arrowwidth\": 1}, \"coloraxis\": {\"colorbar\": {\"outlinewidth\": 0, \"ticks\": \"\"}}, \"colorscale\": {\"diverging\": [[0, \"#8e0152\"], [0.1, \"#c51b7d\"], [0.2, \"#de77ae\"], [0.3, \"#f1b6da\"], [0.4, \"#fde0ef\"], [0.5, \"#f7f7f7\"], [0.6, \"#e6f5d0\"], [0.7, \"#b8e186\"], [0.8, \"#7fbc41\"], [0.9, \"#4d9221\"], [1, \"#276419\"]], \"sequential\": [[0.0, \"#0d0887\"], [0.1111111111111111, \"#46039f\"], [0.2222222222222222, \"#7201a8\"], [0.3333333333333333, \"#9c179e\"], [0.4444444444444444, \"#bd3786\"], [0.5555555555555556, \"#d8576b\"], [0.6666666666666666, \"#ed7953\"], [0.7777777777777778, \"#fb9f3a\"], [0.8888888888888888, \"#fdca26\"], [1.0, \"#f0f921\"]], \"sequentialminus\": [[0.0, \"#0d0887\"], [0.1111111111111111, \"#46039f\"], [0.2222222222222222, \"#7201a8\"], [0.3333333333333333, \"#9c179e\"], [0.4444444444444444, \"#bd3786\"], [0.5555555555555556, \"#d8576b\"], [0.6666666666666666, \"#ed7953\"], [0.7777777777777778, \"#fb9f3a\"], [0.8888888888888888, \"#fdca26\"], [1.0, \"#f0f921\"]]}, \"colorway\": [\"#636efa\", \"#EF553B\", \"#00cc96\", \"#ab63fa\", \"#FFA15A\", \"#19d3f3\", \"#FF6692\", \"#B6E880\", \"#FF97FF\", \"#FECB52\"], \"font\": {\"color\": \"#2a3f5f\"}, \"geo\": {\"bgcolor\": \"white\", \"lakecolor\": \"white\", \"landcolor\": \"#E5ECF6\", \"showlakes\": true, \"showland\": true, \"subunitcolor\": \"white\"}, \"hoverlabel\": {\"align\": \"left\"}, \"hovermode\": \"closest\", \"mapbox\": {\"style\": \"light\"}, \"paper_bgcolor\": \"white\", \"plot_bgcolor\": \"#E5ECF6\", \"polar\": {\"angularaxis\": {\"gridcolor\": \"white\", \"linecolor\": \"white\", \"ticks\": \"\"}, \"bgcolor\": \"#E5ECF6\", \"radialaxis\": {\"gridcolor\": \"white\", \"linecolor\": \"white\", \"ticks\": \"\"}}, \"scene\": {\"xaxis\": {\"backgroundcolor\": \"#E5ECF6\", \"gridcolor\": \"white\", \"gridwidth\": 2, \"linecolor\": \"white\", \"showbackground\": true, \"ticks\": \"\", \"zerolinecolor\": \"white\"}, \"yaxis\": {\"backgroundcolor\": \"#E5ECF6\", \"gridcolor\": \"white\", \"gridwidth\": 2, \"linecolor\": \"white\", \"showbackground\": true, \"ticks\": \"\", \"zerolinecolor\": \"white\"}, \"zaxis\": {\"backgroundcolor\": \"#E5ECF6\", \"gridcolor\": \"white\", \"gridwidth\": 2, \"linecolor\": \"white\", \"showbackground\": true, \"ticks\": \"\", \"zerolinecolor\": \"white\"}}, \"shapedefaults\": {\"line\": {\"color\": \"#2a3f5f\"}}, \"ternary\": {\"aaxis\": {\"gridcolor\": \"white\", \"linecolor\": \"white\", \"ticks\": \"\"}, \"baxis\": {\"gridcolor\": \"white\", \"linecolor\": \"white\", \"ticks\": \"\"}, \"bgcolor\": \"#E5ECF6\", \"caxis\": {\"gridcolor\": \"white\", \"linecolor\": \"white\", \"ticks\": \"\"}}, \"title\": {\"x\": 0.05}, \"xaxis\": {\"automargin\": true, \"gridcolor\": \"white\", \"linecolor\": \"white\", \"ticks\": \"\", \"title\": {\"standoff\": 15}, \"zerolinecolor\": \"white\", \"zerolinewidth\": 2}, \"yaxis\": {\"automargin\": true, \"gridcolor\": \"white\", \"linecolor\": \"white\", \"ticks\": \"\", \"title\": {\"standoff\": 15}, \"zerolinecolor\": \"white\", \"zerolinewidth\": 2}}}, \"title\": {\"text\": \"A scatter plot of our synthetic movie revenue vs budget data (in millions)\"}},\n",
              "                        {\"responsive\": true}\n",
              "                    ).then(function(){\n",
              "                            \n",
              "var gd = document.getElementById('046736cd-7c9a-46d7-98a3-fb71ca71483f');\n",
              "var x = new MutationObserver(function (mutations, observer) {{\n",
              "        var display = window.getComputedStyle(gd).display;\n",
              "        if (!display || display === 'none') {{\n",
              "            console.log([gd, 'removed!']);\n",
              "            Plotly.purge(gd);\n",
              "            observer.disconnect();\n",
              "        }}\n",
              "}});\n",
              "\n",
              "// Listen for the removal of the full notebook cells\n",
              "var notebookContainer = gd.closest('#notebook-container');\n",
              "if (notebookContainer) {{\n",
              "    x.observe(notebookContainer, {childList: true});\n",
              "}}\n",
              "\n",
              "// Listen for the clearing of the current output cell\n",
              "var outputEl = gd.closest('.output');\n",
              "if (outputEl) {{\n",
              "    x.observe(outputEl, {childList: true});\n",
              "}}\n",
              "\n",
              "                        })\n",
              "                };\n",
              "                \n",
              "            </script>\n",
              "        </div>\n",
              "</body>\n",
              "</html>"
            ]
          },
          "metadata": {
            "tags": []
          }
        }
      ]
    },
    {
      "cell_type": "markdown",
      "metadata": {
        "id": "lP6yMtX-W-FL"
      },
      "source": [
        "### Define the model using Sklearn\n",
        "Now we can define our function to model the movies data and predict revenue from budget. For single variable linear regression we used the model $f(x)=mx+b$. Geometrically, this means that the model can only guess lines. Since the movies data is roughly in the shape of a line, our linear model should work work well for this problem. But, in the real-world there are very few problems that linear, so soon we'll look at more complex models. One other limitation of the current model is it only accepts one input variable. But if our data set had both budget and year, for example, perhaps we could more accurately predict revenue. Later, we will discuss a more complex model that can handle multiple input variables.\n",
        "\n",
        "Here is the code to implement our linear model:"
      ]
    },
    {
      "cell_type": "code",
      "metadata": {
        "id": "I5qc1EAkxk4k"
      },
      "source": [
        "model = sklearn.linear_model.LinearRegression()"
      ],
      "execution_count": 118,
      "outputs": []
    },
    {
      "cell_type": "markdown",
      "metadata": {
        "id": "KAlldu10YuvE"
      },
      "source": [
        "### Define the loss function\n",
        "We have the model defined, so now we need to define the loss function. Recall that the loss function is how the model is evaluated (smaller loss values are better), and it is also the function that we need to minimize in terms of $m$ and $b$. Previously we said the loss function was:\n",
        "$$\n",
        "    L(m,b) = \\sum_{i=1}^m (f(x_i,m,b) - y_i)^2 = \\sum_{i=1}^m (mx_i + b-y_i)^2\n",
        "$$\n",
        "\n",
        "However, we normally interpret $f(x)$ and $y$ as vectors (i.e., lists of numbers like \\[0, 3, 6\\] would be vector of 3 numbers. We can rewrite the loss function as:\n",
        "\n",
        "$$\n",
        "    L(m,b) = \\text{sum}((f(x) - y)^2)\n",
        "$$\n",
        "\n",
        "Note that since $f(x)$ and $y$ are vectors, $(f(x) - y)$ is also a vector that just contains every number stored in $f(x)$ minus every corresponding number in $y$. Likewise, $((f(x) - y)^2)$ is also a vector, with every number individually squared.  Then, the $\\mathrm{sum}$ function (which we just made up) adds up every number stored in the vector $((f(x) - y)^2)$. This is the same as the original loss function, but is a vector interpretation of it instead. We can code this directly as a Python function:"
      ]
    },
    {
      "cell_type": "code",
      "metadata": {
        "id": "jZuCmTsWb_mw"
      },
      "source": [
        "def loss(y_predicted, y_target):\n",
        "    return ((y_predicted - y_target)**2).sum()"
      ],
      "execution_count": 119,
      "outputs": []
    },
    {
      "cell_type": "markdown",
      "metadata": {
        "id": "R-4-fJducGud"
      },
      "source": [
        "The `.sum()` function is an operation which adds up all the numbers stored in a vector. With just these two lines of code we have defined our loss function."
      ]
    },
    {
      "cell_type": "markdown",
      "metadata": {
        "id": "zjkEC4wvlKLG"
      },
      "source": [
        "### Putting it all together\n",
        "Now let's use Sklearn to fit a Linear Regression model on our dataset:"
      ]
    },
    {
      "cell_type": "code",
      "metadata": {
        "colab": {
          "base_uri": "https://localhost:8080/"
        },
        "id": "vVrRkoVAp5ud",
        "outputId": "9c33d090-72f3-4901-f49c-439e52e32751"
      },
      "source": [
        "# Initializing the model\n",
        "model = sklearn.linear_model.LinearRegression()\n",
        "\n",
        "# Grabbing the x and y arrays to train the model\n",
        "x = movies_ds['x'].reshape(-1, 1)\n",
        "y = movies_ds['y'].reshape(-1, 1)\n",
        "\n",
        "# Training the model to fit the input to the output\n",
        "model.fit(x, y)\n",
        "\n",
        "# Get predictions and calculate loss\n",
        "predictions = model.predict(x)\n",
        "current_loss = loss(y, predictions)\n",
        "print(\"Loss of Model: {}\".format(current_loss))"
      ],
      "execution_count": 120,
      "outputs": [
        {
          "output_type": "stream",
          "text": [
            "Loss of Model: 3012.6015177737986\n"
          ],
          "name": "stdout"
        }
      ]
    },
    {
      "cell_type": "markdown",
      "metadata": {
        "id": "RztqcuTDyxuF"
      },
      "source": [
        "### Plotting the Line on the data"
      ]
    },
    {
      "cell_type": "code",
      "metadata": {
        "colab": {
          "base_uri": "https://localhost:8080/",
          "height": 576
        },
        "id": "rebzjB8gqipC",
        "outputId": "75b200af-555b-416b-aa89-8fabf520d195"
      },
      "source": [
        "# Grabbing the b and m that gave the line of best fit\n",
        "b = float(model.intercept_) # Has an attribute for the y-intercept\n",
        "m = float(model.coef_) # Has an attribute for the slope\n",
        "print(f\"b = {b}\")\n",
        "print(f\"m = {m}\")\n",
        "est_best_fit_line = m_b_trace(m, b, movies_ds['x'].tolist())\n",
        "est_best_fit_trace = trace_values(est_best_fit_line['x'], est_best_fit_line['y'], mode='lines', name=\"estimated line of best fit\")\n",
        "plot([regression_trace, est_best_fit_trace], movies_layout)"
      ],
      "execution_count": 121,
      "outputs": [
        {
          "output_type": "stream",
          "text": [
            "b = 10.298115908451024\n",
            "m = 1.4880577760392681\n"
          ],
          "name": "stdout"
        },
        {
          "output_type": "display_data",
          "data": {
            "text/html": [
              "<html>\n",
              "<head><meta charset=\"utf-8\" /></head>\n",
              "<body>\n",
              "    <div>\n",
              "            <script src=\"https://cdnjs.cloudflare.com/ajax/libs/mathjax/2.7.5/MathJax.js?config=TeX-AMS-MML_SVG\"></script><script type=\"text/javascript\">if (window.MathJax) {MathJax.Hub.Config({SVG: {font: \"STIX-Web\"}});}</script>\n",
              "                <script type=\"text/javascript\">window.PlotlyConfig = {MathJaxConfig: 'local'};</script>\n",
              "        <script src=\"https://cdn.plot.ly/plotly-latest.min.js\"></script>    \n",
              "            <div id=\"4c111983-5a5a-4f38-a339-24b3476a03ed\" class=\"plotly-graph-div\" style=\"height:525px; width:100%;\"></div>\n",
              "            <script type=\"text/javascript\">\n",
              "                \n",
              "                    window.PLOTLYENV=window.PLOTLYENV || {};\n",
              "                    \n",
              "                if (document.getElementById(\"4c111983-5a5a-4f38-a339-24b3476a03ed\")) {\n",
              "                    Plotly.newPlot(\n",
              "                        '4c111983-5a5a-4f38-a339-24b3476a03ed',\n",
              "                        [{\"mode\": \"markers\", \"name\": \"synthetic movie revenue vs budget data\", \"text\": [], \"type\": \"scatter\", \"x\": [0, 1, 2, 3, 4, 5, 6, 7, 8, 9, 10, 11, 12, 13, 14, 15, 16, 17, 18, 19, 20, 21, 22, 23, 24, 25, 26, 27, 28, 29, 30, 31, 32, 33, 34, 35, 36, 37, 38, 39, 40, 41, 42, 43, 44, 45, 46, 47, 48, 49, 50, 51, 52, 53, 54, 55, 56, 57, 58, 59, 60, 61, 62, 63, 64, 65, 66, 67, 68, 69, 70, 71, 72, 73, 74, 75, 76, 77, 78, 79, 80, 81, 82, 83, 84, 85, 86, 87, 88, 89, 90, 91, 92, 93, 94, 95, 96, 97, 98, 99], \"y\": [15.42641286533492, 1.91503898718803, 15.672964698525508, 19.476077650772236, 15.970140246051809, 11.995932910616954, 12.96125729519248, 25.710614243979172, 15.38221673125071, 15.266796283480206, 28.707196367355944, 35.567866923898734, 18.07896532655829, 29.743845267715532, 37.252419233042275, 34.75052133658777, 38.43510634863599, 31.337521363412662, 45.35548245025887, 42.79151566795381, 40.85088736022523, 34.343400952030535, 40.466815201029384, 47.98267230132691, 44.83666348845992, 46.18027986666587, 51.355339569386345, 50.762764851087816, 55.00794363862934, 55.52077906809089, 61.10446393665493, 56.93294304787268, 66.17297761617337, 55.884721779770906, 52.80918698541815, 58.51400113272407, 56.27968723727099, 72.07362652615353, 57.937926387785, 71.02574296622785, 70.95172311838488, 77.88573991340138, 66.97895079357625, 81.63700604915466, 73.03305278864175, 82.59295383059714, 74.91923413759358, 88.17872959122373, 78.51023275664498, 76.80031795438298, 82.85058487893174, 78.369207491173, 94.42211315673856, 82.52304039285127, 88.682288973844, 101.38521424477602, 103.75250949803744, 94.62609094189568, 103.52245687685479, 93.52748268414119, 101.94743296461769, 109.55663520663255, 103.6911589760363, 106.30402725970846, 96.78563534450774, 104.64363517269072, 100.59226180311929, 106.60919836685636, 108.61438623964264, 118.97660592421192, 105.79918417379955, 115.08984356863277, 114.29853743685376, 122.2298228613509, 117.92694300160066, 113.36194712409988, 131.59830349035832, 130.76481174287363, 134.56193285449717, 126.85018287678534, 132.11155128787513, 131.76933254816578, 134.95673295925948, 129.744313222639, 132.01742617881413, 128.0079956410021, 135.06125121302068, 135.34151750807055, 143.1515637732529, 144.81014039776335, 144.502644948301, 142.35595952579018, 139.2850212138965, 159.07638291515286, 147.79415687275727, 152.40097261764907, 163.54161451845363, 154.31547649801334, 153.36545610957901, 158.8959397175076]}, {\"mode\": \"lines\", \"name\": \"estimated line of best fit\", \"text\": [], \"type\": \"scatter\", \"x\": [0, 1, 2, 3, 4, 5, 6, 7, 8, 9, 10, 11, 12, 13, 14, 15, 16, 17, 18, 19, 20, 21, 22, 23, 24, 25, 26, 27, 28, 29, 30, 31, 32, 33, 34, 35, 36, 37, 38, 39, 40, 41, 42, 43, 44, 45, 46, 47, 48, 49, 50, 51, 52, 53, 54, 55, 56, 57, 58, 59, 60, 61, 62, 63, 64, 65, 66, 67, 68, 69, 70, 71, 72, 73, 74, 75, 76, 77, 78, 79, 80, 81, 82, 83, 84, 85, 86, 87, 88, 89, 90, 91, 92, 93, 94, 95, 96, 97, 98, 99], \"y\": [10.298115908451024, 11.786173684490292, 13.27423146052956, 14.76228923656883, 16.250347012608096, 17.738404788647365, 19.226462564686635, 20.7145203407259, 22.202578116765167, 23.690635892804437, 25.178693668843707, 26.666751444882973, 28.154809220922242, 29.64286699696151, 31.13092477300078, 32.61898254904004, 34.10704032507931, 35.59509810111858, 37.08315587715785, 38.57121365319712, 40.05927142923639, 41.54732920527566, 43.03538698131492, 44.52344475735419, 46.01150253339346, 47.49956030943273, 48.98761808547199, 50.47567586151126, 51.96373363755053, 53.4517914135898, 54.939849189629065, 56.427906965668335, 57.915964741707604, 59.404022517746874, 60.892080293786144, 62.380138069825406, 63.868195845864676, 65.35625362190395, 66.84431139794322, 68.33236917398247, 69.82042695002175, 71.30848472606101, 72.7965425021003, 74.28460027813955, 75.77265805417882, 77.26071583021809, 78.74877360625736, 80.23683138229663, 81.7248891583359, 83.21294693437517, 84.70100471041444, 86.1890624864537, 87.67712026249296, 89.16517803853223, 90.6532358145715, 92.14129359061077, 93.62935136665004, 95.11740914268931, 96.60546691872858, 98.09352469476785, 99.5815824708071, 101.06964024684638, 102.55769802288565, 104.04575579892492, 105.53381357496419, 107.02187135100345, 108.50992912704272, 109.997986903082, 111.48604467912126, 112.97410245516052, 114.46216023119979, 115.95021800723906, 117.43827578327833, 118.9263335593176, 120.41439133535687, 121.90244911139614, 123.39050688743541, 124.87856466347468, 126.36662243951393, 127.8546802155532, 129.34273799159246, 130.83079576763174, 132.31885354367103, 133.80691131971028, 135.29496909574954, 136.78302687178882, 138.2710846478281, 139.75914242386736, 141.24720019990662, 142.7352579759459, 144.22331575198515, 145.71137352802444, 147.1994313040637, 148.68748908010295, 150.17554685614223, 151.6636046321815, 153.15166240822077, 154.63972018426003, 156.1277779602993, 157.61583573633857]}],\n",
              "                        {\"template\": {\"data\": {\"bar\": [{\"error_x\": {\"color\": \"#2a3f5f\"}, \"error_y\": {\"color\": \"#2a3f5f\"}, \"marker\": {\"line\": {\"color\": \"#E5ECF6\", \"width\": 0.5}}, \"type\": \"bar\"}], \"barpolar\": [{\"marker\": {\"line\": {\"color\": \"#E5ECF6\", \"width\": 0.5}}, \"type\": \"barpolar\"}], \"carpet\": [{\"aaxis\": {\"endlinecolor\": \"#2a3f5f\", \"gridcolor\": \"white\", \"linecolor\": \"white\", \"minorgridcolor\": \"white\", \"startlinecolor\": \"#2a3f5f\"}, \"baxis\": {\"endlinecolor\": \"#2a3f5f\", \"gridcolor\": \"white\", \"linecolor\": \"white\", \"minorgridcolor\": \"white\", \"startlinecolor\": \"#2a3f5f\"}, \"type\": \"carpet\"}], \"choropleth\": [{\"colorbar\": {\"outlinewidth\": 0, \"ticks\": \"\"}, \"type\": \"choropleth\"}], \"contour\": [{\"colorbar\": {\"outlinewidth\": 0, \"ticks\": \"\"}, \"colorscale\": [[0.0, \"#0d0887\"], [0.1111111111111111, \"#46039f\"], [0.2222222222222222, \"#7201a8\"], [0.3333333333333333, \"#9c179e\"], [0.4444444444444444, \"#bd3786\"], [0.5555555555555556, \"#d8576b\"], [0.6666666666666666, \"#ed7953\"], [0.7777777777777778, \"#fb9f3a\"], [0.8888888888888888, \"#fdca26\"], [1.0, \"#f0f921\"]], \"type\": \"contour\"}], \"contourcarpet\": [{\"colorbar\": {\"outlinewidth\": 0, \"ticks\": \"\"}, \"type\": \"contourcarpet\"}], \"heatmap\": [{\"colorbar\": {\"outlinewidth\": 0, \"ticks\": \"\"}, \"colorscale\": [[0.0, \"#0d0887\"], [0.1111111111111111, \"#46039f\"], [0.2222222222222222, \"#7201a8\"], [0.3333333333333333, \"#9c179e\"], [0.4444444444444444, \"#bd3786\"], [0.5555555555555556, \"#d8576b\"], [0.6666666666666666, \"#ed7953\"], [0.7777777777777778, \"#fb9f3a\"], [0.8888888888888888, \"#fdca26\"], [1.0, \"#f0f921\"]], \"type\": \"heatmap\"}], \"heatmapgl\": [{\"colorbar\": {\"outlinewidth\": 0, \"ticks\": \"\"}, \"colorscale\": [[0.0, \"#0d0887\"], [0.1111111111111111, \"#46039f\"], [0.2222222222222222, \"#7201a8\"], [0.3333333333333333, \"#9c179e\"], [0.4444444444444444, \"#bd3786\"], [0.5555555555555556, \"#d8576b\"], [0.6666666666666666, \"#ed7953\"], [0.7777777777777778, \"#fb9f3a\"], [0.8888888888888888, \"#fdca26\"], [1.0, \"#f0f921\"]], \"type\": \"heatmapgl\"}], \"histogram\": [{\"marker\": {\"colorbar\": {\"outlinewidth\": 0, \"ticks\": \"\"}}, \"type\": \"histogram\"}], \"histogram2d\": [{\"colorbar\": {\"outlinewidth\": 0, \"ticks\": \"\"}, \"colorscale\": [[0.0, \"#0d0887\"], [0.1111111111111111, \"#46039f\"], [0.2222222222222222, \"#7201a8\"], [0.3333333333333333, \"#9c179e\"], [0.4444444444444444, \"#bd3786\"], [0.5555555555555556, \"#d8576b\"], [0.6666666666666666, \"#ed7953\"], [0.7777777777777778, \"#fb9f3a\"], [0.8888888888888888, \"#fdca26\"], [1.0, \"#f0f921\"]], \"type\": \"histogram2d\"}], \"histogram2dcontour\": [{\"colorbar\": {\"outlinewidth\": 0, \"ticks\": \"\"}, \"colorscale\": [[0.0, \"#0d0887\"], [0.1111111111111111, \"#46039f\"], [0.2222222222222222, \"#7201a8\"], [0.3333333333333333, \"#9c179e\"], [0.4444444444444444, \"#bd3786\"], [0.5555555555555556, \"#d8576b\"], [0.6666666666666666, \"#ed7953\"], [0.7777777777777778, \"#fb9f3a\"], [0.8888888888888888, \"#fdca26\"], [1.0, \"#f0f921\"]], \"type\": \"histogram2dcontour\"}], \"mesh3d\": [{\"colorbar\": {\"outlinewidth\": 0, \"ticks\": \"\"}, \"type\": \"mesh3d\"}], \"parcoords\": [{\"line\": {\"colorbar\": {\"outlinewidth\": 0, \"ticks\": \"\"}}, \"type\": \"parcoords\"}], \"pie\": [{\"automargin\": true, \"type\": \"pie\"}], \"scatter\": [{\"marker\": {\"colorbar\": {\"outlinewidth\": 0, \"ticks\": \"\"}}, \"type\": \"scatter\"}], \"scatter3d\": [{\"line\": {\"colorbar\": {\"outlinewidth\": 0, \"ticks\": \"\"}}, \"marker\": {\"colorbar\": {\"outlinewidth\": 0, \"ticks\": \"\"}}, \"type\": \"scatter3d\"}], \"scattercarpet\": [{\"marker\": {\"colorbar\": {\"outlinewidth\": 0, \"ticks\": \"\"}}, \"type\": \"scattercarpet\"}], \"scattergeo\": [{\"marker\": {\"colorbar\": {\"outlinewidth\": 0, \"ticks\": \"\"}}, \"type\": \"scattergeo\"}], \"scattergl\": [{\"marker\": {\"colorbar\": {\"outlinewidth\": 0, \"ticks\": \"\"}}, \"type\": \"scattergl\"}], \"scattermapbox\": [{\"marker\": {\"colorbar\": {\"outlinewidth\": 0, \"ticks\": \"\"}}, \"type\": \"scattermapbox\"}], \"scatterpolar\": [{\"marker\": {\"colorbar\": {\"outlinewidth\": 0, \"ticks\": \"\"}}, \"type\": \"scatterpolar\"}], \"scatterpolargl\": [{\"marker\": {\"colorbar\": {\"outlinewidth\": 0, \"ticks\": \"\"}}, \"type\": \"scatterpolargl\"}], \"scatterternary\": [{\"marker\": {\"colorbar\": {\"outlinewidth\": 0, \"ticks\": \"\"}}, \"type\": \"scatterternary\"}], \"surface\": [{\"colorbar\": {\"outlinewidth\": 0, \"ticks\": \"\"}, \"colorscale\": [[0.0, \"#0d0887\"], [0.1111111111111111, \"#46039f\"], [0.2222222222222222, \"#7201a8\"], [0.3333333333333333, \"#9c179e\"], [0.4444444444444444, \"#bd3786\"], [0.5555555555555556, \"#d8576b\"], [0.6666666666666666, \"#ed7953\"], [0.7777777777777778, \"#fb9f3a\"], [0.8888888888888888, \"#fdca26\"], [1.0, \"#f0f921\"]], \"type\": \"surface\"}], \"table\": [{\"cells\": {\"fill\": {\"color\": \"#EBF0F8\"}, \"line\": {\"color\": \"white\"}}, \"header\": {\"fill\": {\"color\": \"#C8D4E3\"}, \"line\": {\"color\": \"white\"}}, \"type\": \"table\"}]}, \"layout\": {\"annotationdefaults\": {\"arrowcolor\": \"#2a3f5f\", \"arrowhead\": 0, \"arrowwidth\": 1}, \"coloraxis\": {\"colorbar\": {\"outlinewidth\": 0, \"ticks\": \"\"}}, \"colorscale\": {\"diverging\": [[0, \"#8e0152\"], [0.1, \"#c51b7d\"], [0.2, \"#de77ae\"], [0.3, \"#f1b6da\"], [0.4, \"#fde0ef\"], [0.5, \"#f7f7f7\"], [0.6, \"#e6f5d0\"], [0.7, \"#b8e186\"], [0.8, \"#7fbc41\"], [0.9, \"#4d9221\"], [1, \"#276419\"]], \"sequential\": [[0.0, \"#0d0887\"], [0.1111111111111111, \"#46039f\"], [0.2222222222222222, \"#7201a8\"], [0.3333333333333333, \"#9c179e\"], [0.4444444444444444, \"#bd3786\"], [0.5555555555555556, \"#d8576b\"], [0.6666666666666666, \"#ed7953\"], [0.7777777777777778, \"#fb9f3a\"], [0.8888888888888888, \"#fdca26\"], [1.0, \"#f0f921\"]], \"sequentialminus\": [[0.0, \"#0d0887\"], [0.1111111111111111, \"#46039f\"], [0.2222222222222222, \"#7201a8\"], [0.3333333333333333, \"#9c179e\"], [0.4444444444444444, \"#bd3786\"], [0.5555555555555556, \"#d8576b\"], [0.6666666666666666, \"#ed7953\"], [0.7777777777777778, \"#fb9f3a\"], [0.8888888888888888, \"#fdca26\"], [1.0, \"#f0f921\"]]}, \"colorway\": [\"#636efa\", \"#EF553B\", \"#00cc96\", \"#ab63fa\", \"#FFA15A\", \"#19d3f3\", \"#FF6692\", \"#B6E880\", \"#FF97FF\", \"#FECB52\"], \"font\": {\"color\": \"#2a3f5f\"}, \"geo\": {\"bgcolor\": \"white\", \"lakecolor\": \"white\", \"landcolor\": \"#E5ECF6\", \"showlakes\": true, \"showland\": true, \"subunitcolor\": \"white\"}, \"hoverlabel\": {\"align\": \"left\"}, \"hovermode\": \"closest\", \"mapbox\": {\"style\": \"light\"}, \"paper_bgcolor\": \"white\", \"plot_bgcolor\": \"#E5ECF6\", \"polar\": {\"angularaxis\": {\"gridcolor\": \"white\", \"linecolor\": \"white\", \"ticks\": \"\"}, \"bgcolor\": \"#E5ECF6\", \"radialaxis\": {\"gridcolor\": \"white\", \"linecolor\": \"white\", \"ticks\": \"\"}}, \"scene\": {\"xaxis\": {\"backgroundcolor\": \"#E5ECF6\", \"gridcolor\": \"white\", \"gridwidth\": 2, \"linecolor\": \"white\", \"showbackground\": true, \"ticks\": \"\", \"zerolinecolor\": \"white\"}, \"yaxis\": {\"backgroundcolor\": \"#E5ECF6\", \"gridcolor\": \"white\", \"gridwidth\": 2, \"linecolor\": \"white\", \"showbackground\": true, \"ticks\": \"\", \"zerolinecolor\": \"white\"}, \"zaxis\": {\"backgroundcolor\": \"#E5ECF6\", \"gridcolor\": \"white\", \"gridwidth\": 2, \"linecolor\": \"white\", \"showbackground\": true, \"ticks\": \"\", \"zerolinecolor\": \"white\"}}, \"shapedefaults\": {\"line\": {\"color\": \"#2a3f5f\"}}, \"ternary\": {\"aaxis\": {\"gridcolor\": \"white\", \"linecolor\": \"white\", \"ticks\": \"\"}, \"baxis\": {\"gridcolor\": \"white\", \"linecolor\": \"white\", \"ticks\": \"\"}, \"bgcolor\": \"#E5ECF6\", \"caxis\": {\"gridcolor\": \"white\", \"linecolor\": \"white\", \"ticks\": \"\"}}, \"title\": {\"x\": 0.05}, \"xaxis\": {\"automargin\": true, \"gridcolor\": \"white\", \"linecolor\": \"white\", \"ticks\": \"\", \"title\": {\"standoff\": 15}, \"zerolinecolor\": \"white\", \"zerolinewidth\": 2}, \"yaxis\": {\"automargin\": true, \"gridcolor\": \"white\", \"linecolor\": \"white\", \"ticks\": \"\", \"title\": {\"standoff\": 15}, \"zerolinecolor\": \"white\", \"zerolinewidth\": 2}}}, \"title\": {\"text\": \"A scatter plot of our synthetic movie revenue vs budget data (in millions)\"}},\n",
              "                        {\"responsive\": true}\n",
              "                    ).then(function(){\n",
              "                            \n",
              "var gd = document.getElementById('4c111983-5a5a-4f38-a339-24b3476a03ed');\n",
              "var x = new MutationObserver(function (mutations, observer) {{\n",
              "        var display = window.getComputedStyle(gd).display;\n",
              "        if (!display || display === 'none') {{\n",
              "            console.log([gd, 'removed!']);\n",
              "            Plotly.purge(gd);\n",
              "            observer.disconnect();\n",
              "        }}\n",
              "}});\n",
              "\n",
              "// Listen for the removal of the full notebook cells\n",
              "var notebookContainer = gd.closest('#notebook-container');\n",
              "if (notebookContainer) {{\n",
              "    x.observe(notebookContainer, {childList: true});\n",
              "}}\n",
              "\n",
              "// Listen for the clearing of the current output cell\n",
              "var outputEl = gd.closest('.output');\n",
              "if (outputEl) {{\n",
              "    x.observe(outputEl, {childList: true});\n",
              "}}\n",
              "\n",
              "                        })\n",
              "                };\n",
              "                \n",
              "            </script>\n",
              "        </div>\n",
              "</body>\n",
              "</html>"
            ]
          },
          "metadata": {
            "tags": []
          }
        }
      ]
    },
    {
      "cell_type": "markdown",
      "metadata": {
        "id": "AiQ2a8BuiiMV"
      },
      "source": [
        "This looks pretty good! Recall that our true $m$ was 1.5 and our true $b$ was about 10, and we see that our model learned the values $m$ equal to about 1.488 and $b$ equal to 10.298. We can also inspect the plot and see that the line of best fit is pretty close to our data, although it could probably decrease the y-intercept $b$ value a little."
      ]
    },
    {
      "cell_type": "markdown",
      "metadata": {
        "id": "-ZRhVzBfp6Fo"
      },
      "source": [
        "### Time to make predictions using model.predict()\n",
        "Once we've trained our model, we can use it to predict movie revenue based on movie budget. Let's try it out!"
      ]
    },
    {
      "cell_type": "code",
      "metadata": {
        "colab": {
          "base_uri": "https://localhost:8080/"
        },
        "id": "1Su7QKOKqQtp",
        "outputId": "fe7cdb63-30ee-45be-a1c4-e940e5646c8d"
      },
      "source": [
        "### Using the trained model to make predictions ###\n",
        "print(f\"Predicts revenue when budget is 1 (in millions): ${round(model.predict([[1]]).item(), 2)}\")\n",
        "print(f\"Predicts revenue when budget is 60 (in millions): ${round(model.predict([[60]]).item(), 2)}\")\n"
      ],
      "execution_count": 122,
      "outputs": [
        {
          "output_type": "stream",
          "text": [
            "Predicts revenue when budget is 1 (in millions): $11.79\n",
            "Predicts revenue when budget is 60 (in millions): $99.58\n"
          ],
          "name": "stdout"
        }
      ]
    },
    {
      "cell_type": "markdown",
      "metadata": {
        "id": "EbCfrBOq2Cxf"
      },
      "source": [
        "## Challenge: Single Variable Regression\n",
        "Time to test our knowledge! \n",
        "\n",
        "Imagine that you are the producer for a comedy show at your school. We need you to use your knowledge of linear regression to make predictions as to the success of the show.\n"
      ]
    },
    {
      "cell_type": "markdown",
      "metadata": {
        "id": "yeqiUt2V2c4B"
      },
      "source": [
        "### Working through a linear regression\n",
        "The comedy show is trying to figure out how much money to spend on advertising in the student newspaper. The newspaper tells the show that:\n",
        "\n",
        "* For every two dollars spent on advertising, three students attend the show.\n",
        "* If no money is spent on advertising, 20 friends still attend the show.\n",
        "\n",
        "As the producer of the show, your goal is to write a linear regression function using Sklearn that models the relationship between advertising and attendance expressed by the newspaper.\n",
        "\n",
        "Here's the function that generates our comdey dataset:\n"
      ]
    },
    {
      "cell_type": "code",
      "metadata": {
        "id": "Pum5O_NvtSfV"
      },
      "source": [
        "def generate_synthetic_comedy_dataset(n=50, true_m=1.5, true_b=10, random_noise=1.0):\n",
        "    \"\"\"\n",
        "    Generates a synthetic movie revenue vs budget dataset and returns\n",
        "    a dictionary with three key-value pairs:\n",
        "        * `x`: a list of x values\n",
        "        * `y`: a list of y values\n",
        "        * `true_m`: the true slope of our data\n",
        "        * `true_b`: the true y-intercept of our data\n",
        "    \"\"\"\n",
        "    # generate the list of numbers between 0 and n for x values (budget)\n",
        "    x = np.arange(n)\n",
        "\n",
        "    # generate the list of y values (revenue) corresponding to each x value (budget)\n",
        "    y = []\n",
        "    for xi in x:\n",
        "        noise = np.random.uniform(-random_noise, random_noise)\n",
        "        # the \"true\" function of our data\n",
        "        yi = true_m*xi + true_b + noise\n",
        "        y.append(yi)\n",
        "    y = np.array(y)\n",
        "\n",
        "    return {'x': x, 'y': y, 'true_m': true_m, 'true_b': true_b}\n",
        "\n",
        "comedy_ds = generate_synthetic_movie_revenue_dataset(100, 1.5, 20, 10)"
      ],
      "execution_count": 123,
      "outputs": []
    },
    {
      "cell_type": "markdown",
      "metadata": {
        "id": "NclxdZuIjKNO"
      },
      "source": [
        "As a first step, let's plot the comedy dataset (`comedy_ds`) to see if the data looks approximately linear. If it does, linear regression is probably approriate. "
      ]
    },
    {
      "cell_type": "code",
      "metadata": {
        "id": "E8LYQF2bj4It",
        "colab": {
          "base_uri": "https://localhost:8080/",
          "height": 542
        },
        "outputId": "cee4a3b4-b058-4600-a83c-94a9d44913a6"
      },
      "source": [
        "# generate a larger dataset with 1500 movie budget and revenue samples and plot it\n",
        "regression_trace = trace_values(comedy_ds['x'], comedy_ds['y'], mode='markers', name=\"school comedy show attendance vs budget\")\n",
        "comedy_layout = layout(options={'title': \"School comedy show attendance vs budget\"})\n",
        "plot([regression_trace], comedy_layout)"
      ],
      "execution_count": 124,
      "outputs": [
        {
          "output_type": "display_data",
          "data": {
            "text/html": [
              "<html>\n",
              "<head><meta charset=\"utf-8\" /></head>\n",
              "<body>\n",
              "    <div>\n",
              "            <script src=\"https://cdnjs.cloudflare.com/ajax/libs/mathjax/2.7.5/MathJax.js?config=TeX-AMS-MML_SVG\"></script><script type=\"text/javascript\">if (window.MathJax) {MathJax.Hub.Config({SVG: {font: \"STIX-Web\"}});}</script>\n",
              "                <script type=\"text/javascript\">window.PlotlyConfig = {MathJaxConfig: 'local'};</script>\n",
              "        <script src=\"https://cdn.plot.ly/plotly-latest.min.js\"></script>    \n",
              "            <div id=\"e38ce696-e1f5-4f04-a8dc-7580ba6631ea\" class=\"plotly-graph-div\" style=\"height:525px; width:100%;\"></div>\n",
              "            <script type=\"text/javascript\">\n",
              "                \n",
              "                    window.PLOTLYENV=window.PLOTLYENV || {};\n",
              "                    \n",
              "                if (document.getElementById(\"e38ce696-e1f5-4f04-a8dc-7580ba6631ea\")) {\n",
              "                    Plotly.newPlot(\n",
              "                        'e38ce696-e1f5-4f04-a8dc-7580ba6631ea',\n",
              "                        [{\"mode\": \"markers\", \"name\": \"school comedy show attendance vs budget\", \"text\": [], \"type\": \"scatter\", \"x\": [0, 1, 2, 3, 4, 5, 6, 7, 8, 9, 10, 11, 12, 13, 14, 15, 16, 17, 18, 19, 20, 21, 22, 23, 24, 25, 26, 27, 28, 29, 30, 31, 32, 33, 34, 35, 36, 37, 38, 39, 40, 41, 42, 43, 44, 45, 46, 47, 48, 49, 50, 51, 52, 53, 54, 55, 56, 57, 58, 59, 60, 61, 62, 63, 64, 65, 66, 67, 68, 69, 70, 71, 72, 73, 74, 75, 76, 77, 78, 79, 80, 81, 82, 83, 84, 85, 86, 87, 88, 89, 90, 91, 92, 93, 94, 95, 96, 97, 98, 99], \"y\": [25.426412865334918, 11.91503898718803, 25.672964698525508, 29.476077650772236, 25.97014024605181, 21.995932910616954, 22.961257295192482, 35.71061424397917, 25.382216731250708, 25.266796283480204, 38.70719636735595, 45.567866923898734, 28.07896532655829, 39.74384526771553, 47.252419233042275, 44.75052133658777, 48.43510634863599, 41.33752136341266, 55.35548245025887, 52.79151566795381, 50.85088736022523, 44.343400952030535, 50.466815201029384, 57.98267230132691, 54.83666348845992, 56.18027986666587, 61.355339569386345, 60.762764851087816, 65.00794363862934, 65.52077906809089, 71.10446393665492, 66.93294304787268, 76.17297761617337, 65.8847217797709, 62.80918698541815, 68.51400113272406, 66.27968723727099, 82.07362652615353, 67.937926387785, 81.02574296622785, 80.95172311838488, 87.88573991340138, 76.97895079357625, 91.63700604915466, 83.03305278864175, 92.59295383059714, 84.91923413759358, 98.17872959122373, 88.51023275664498, 86.80031795438298, 92.85058487893174, 88.369207491173, 104.42211315673856, 92.52304039285127, 98.682288973844, 111.38521424477602, 113.75250949803744, 104.62609094189568, 113.52245687685479, 103.52748268414119, 111.94743296461769, 119.55663520663255, 113.6911589760363, 116.30402725970846, 106.78563534450774, 114.64363517269072, 110.59226180311929, 116.60919836685636, 118.61438623964264, 128.97660592421192, 115.79918417379955, 125.08984356863277, 124.29853743685376, 132.2298228613509, 127.92694300160066, 123.36194712409988, 141.59830349035832, 140.76481174287363, 144.56193285449717, 136.85018287678534, 142.11155128787513, 141.76933254816578, 144.95673295925948, 139.744313222639, 142.01742617881413, 138.0079956410021, 145.06125121302068, 145.34151750807055, 153.1515637732529, 154.81014039776335, 154.502644948301, 152.35595952579018, 149.2850212138965, 169.07638291515286, 157.79415687275727, 162.40097261764907, 173.54161451845363, 164.31547649801334, 163.36545610957901, 168.8959397175076]}],\n",
              "                        {\"template\": {\"data\": {\"bar\": [{\"error_x\": {\"color\": \"#2a3f5f\"}, \"error_y\": {\"color\": \"#2a3f5f\"}, \"marker\": {\"line\": {\"color\": \"#E5ECF6\", \"width\": 0.5}}, \"type\": \"bar\"}], \"barpolar\": [{\"marker\": {\"line\": {\"color\": \"#E5ECF6\", \"width\": 0.5}}, \"type\": \"barpolar\"}], \"carpet\": [{\"aaxis\": {\"endlinecolor\": \"#2a3f5f\", \"gridcolor\": \"white\", \"linecolor\": \"white\", \"minorgridcolor\": \"white\", \"startlinecolor\": \"#2a3f5f\"}, \"baxis\": {\"endlinecolor\": \"#2a3f5f\", \"gridcolor\": \"white\", \"linecolor\": \"white\", \"minorgridcolor\": \"white\", \"startlinecolor\": \"#2a3f5f\"}, \"type\": \"carpet\"}], \"choropleth\": [{\"colorbar\": {\"outlinewidth\": 0, \"ticks\": \"\"}, \"type\": \"choropleth\"}], \"contour\": [{\"colorbar\": {\"outlinewidth\": 0, \"ticks\": \"\"}, \"colorscale\": [[0.0, \"#0d0887\"], [0.1111111111111111, \"#46039f\"], [0.2222222222222222, \"#7201a8\"], [0.3333333333333333, \"#9c179e\"], [0.4444444444444444, \"#bd3786\"], [0.5555555555555556, \"#d8576b\"], [0.6666666666666666, \"#ed7953\"], [0.7777777777777778, \"#fb9f3a\"], [0.8888888888888888, \"#fdca26\"], [1.0, \"#f0f921\"]], \"type\": \"contour\"}], \"contourcarpet\": [{\"colorbar\": {\"outlinewidth\": 0, \"ticks\": \"\"}, \"type\": \"contourcarpet\"}], \"heatmap\": [{\"colorbar\": {\"outlinewidth\": 0, \"ticks\": \"\"}, \"colorscale\": [[0.0, \"#0d0887\"], [0.1111111111111111, \"#46039f\"], [0.2222222222222222, \"#7201a8\"], [0.3333333333333333, \"#9c179e\"], [0.4444444444444444, \"#bd3786\"], [0.5555555555555556, \"#d8576b\"], [0.6666666666666666, \"#ed7953\"], [0.7777777777777778, \"#fb9f3a\"], [0.8888888888888888, \"#fdca26\"], [1.0, \"#f0f921\"]], \"type\": \"heatmap\"}], \"heatmapgl\": [{\"colorbar\": {\"outlinewidth\": 0, \"ticks\": \"\"}, \"colorscale\": [[0.0, \"#0d0887\"], [0.1111111111111111, \"#46039f\"], [0.2222222222222222, \"#7201a8\"], [0.3333333333333333, \"#9c179e\"], [0.4444444444444444, \"#bd3786\"], [0.5555555555555556, \"#d8576b\"], [0.6666666666666666, \"#ed7953\"], [0.7777777777777778, \"#fb9f3a\"], [0.8888888888888888, \"#fdca26\"], [1.0, \"#f0f921\"]], \"type\": \"heatmapgl\"}], \"histogram\": [{\"marker\": {\"colorbar\": {\"outlinewidth\": 0, \"ticks\": \"\"}}, \"type\": \"histogram\"}], \"histogram2d\": [{\"colorbar\": {\"outlinewidth\": 0, \"ticks\": \"\"}, \"colorscale\": [[0.0, \"#0d0887\"], [0.1111111111111111, \"#46039f\"], [0.2222222222222222, \"#7201a8\"], [0.3333333333333333, \"#9c179e\"], [0.4444444444444444, \"#bd3786\"], [0.5555555555555556, \"#d8576b\"], [0.6666666666666666, \"#ed7953\"], [0.7777777777777778, \"#fb9f3a\"], [0.8888888888888888, \"#fdca26\"], [1.0, \"#f0f921\"]], \"type\": \"histogram2d\"}], \"histogram2dcontour\": [{\"colorbar\": {\"outlinewidth\": 0, \"ticks\": \"\"}, \"colorscale\": [[0.0, \"#0d0887\"], [0.1111111111111111, \"#46039f\"], [0.2222222222222222, \"#7201a8\"], [0.3333333333333333, \"#9c179e\"], [0.4444444444444444, \"#bd3786\"], [0.5555555555555556, \"#d8576b\"], [0.6666666666666666, \"#ed7953\"], [0.7777777777777778, \"#fb9f3a\"], [0.8888888888888888, \"#fdca26\"], [1.0, \"#f0f921\"]], \"type\": \"histogram2dcontour\"}], \"mesh3d\": [{\"colorbar\": {\"outlinewidth\": 0, \"ticks\": \"\"}, \"type\": \"mesh3d\"}], \"parcoords\": [{\"line\": {\"colorbar\": {\"outlinewidth\": 0, \"ticks\": \"\"}}, \"type\": \"parcoords\"}], \"pie\": [{\"automargin\": true, \"type\": \"pie\"}], \"scatter\": [{\"marker\": {\"colorbar\": {\"outlinewidth\": 0, \"ticks\": \"\"}}, \"type\": \"scatter\"}], \"scatter3d\": [{\"line\": {\"colorbar\": {\"outlinewidth\": 0, \"ticks\": \"\"}}, \"marker\": {\"colorbar\": {\"outlinewidth\": 0, \"ticks\": \"\"}}, \"type\": \"scatter3d\"}], \"scattercarpet\": [{\"marker\": {\"colorbar\": {\"outlinewidth\": 0, \"ticks\": \"\"}}, \"type\": \"scattercarpet\"}], \"scattergeo\": [{\"marker\": {\"colorbar\": {\"outlinewidth\": 0, \"ticks\": \"\"}}, \"type\": \"scattergeo\"}], \"scattergl\": [{\"marker\": {\"colorbar\": {\"outlinewidth\": 0, \"ticks\": \"\"}}, \"type\": \"scattergl\"}], \"scattermapbox\": [{\"marker\": {\"colorbar\": {\"outlinewidth\": 0, \"ticks\": \"\"}}, \"type\": \"scattermapbox\"}], \"scatterpolar\": [{\"marker\": {\"colorbar\": {\"outlinewidth\": 0, \"ticks\": \"\"}}, \"type\": \"scatterpolar\"}], \"scatterpolargl\": [{\"marker\": {\"colorbar\": {\"outlinewidth\": 0, \"ticks\": \"\"}}, \"type\": \"scatterpolargl\"}], \"scatterternary\": [{\"marker\": {\"colorbar\": {\"outlinewidth\": 0, \"ticks\": \"\"}}, \"type\": \"scatterternary\"}], \"surface\": [{\"colorbar\": {\"outlinewidth\": 0, \"ticks\": \"\"}, \"colorscale\": [[0.0, \"#0d0887\"], [0.1111111111111111, \"#46039f\"], [0.2222222222222222, \"#7201a8\"], [0.3333333333333333, \"#9c179e\"], [0.4444444444444444, \"#bd3786\"], [0.5555555555555556, \"#d8576b\"], [0.6666666666666666, \"#ed7953\"], [0.7777777777777778, \"#fb9f3a\"], [0.8888888888888888, \"#fdca26\"], [1.0, \"#f0f921\"]], \"type\": \"surface\"}], \"table\": [{\"cells\": {\"fill\": {\"color\": \"#EBF0F8\"}, \"line\": {\"color\": \"white\"}}, \"header\": {\"fill\": {\"color\": \"#C8D4E3\"}, \"line\": {\"color\": \"white\"}}, \"type\": \"table\"}]}, \"layout\": {\"annotationdefaults\": {\"arrowcolor\": \"#2a3f5f\", \"arrowhead\": 0, \"arrowwidth\": 1}, \"coloraxis\": {\"colorbar\": {\"outlinewidth\": 0, \"ticks\": \"\"}}, \"colorscale\": {\"diverging\": [[0, \"#8e0152\"], [0.1, \"#c51b7d\"], [0.2, \"#de77ae\"], [0.3, \"#f1b6da\"], [0.4, \"#fde0ef\"], [0.5, \"#f7f7f7\"], [0.6, \"#e6f5d0\"], [0.7, \"#b8e186\"], [0.8, \"#7fbc41\"], [0.9, \"#4d9221\"], [1, \"#276419\"]], \"sequential\": [[0.0, \"#0d0887\"], [0.1111111111111111, \"#46039f\"], [0.2222222222222222, \"#7201a8\"], [0.3333333333333333, \"#9c179e\"], [0.4444444444444444, \"#bd3786\"], [0.5555555555555556, \"#d8576b\"], [0.6666666666666666, \"#ed7953\"], [0.7777777777777778, \"#fb9f3a\"], [0.8888888888888888, \"#fdca26\"], [1.0, \"#f0f921\"]], \"sequentialminus\": [[0.0, \"#0d0887\"], [0.1111111111111111, \"#46039f\"], [0.2222222222222222, \"#7201a8\"], [0.3333333333333333, \"#9c179e\"], [0.4444444444444444, \"#bd3786\"], [0.5555555555555556, \"#d8576b\"], [0.6666666666666666, \"#ed7953\"], [0.7777777777777778, \"#fb9f3a\"], [0.8888888888888888, \"#fdca26\"], [1.0, \"#f0f921\"]]}, \"colorway\": [\"#636efa\", \"#EF553B\", \"#00cc96\", \"#ab63fa\", \"#FFA15A\", \"#19d3f3\", \"#FF6692\", \"#B6E880\", \"#FF97FF\", \"#FECB52\"], \"font\": {\"color\": \"#2a3f5f\"}, \"geo\": {\"bgcolor\": \"white\", \"lakecolor\": \"white\", \"landcolor\": \"#E5ECF6\", \"showlakes\": true, \"showland\": true, \"subunitcolor\": \"white\"}, \"hoverlabel\": {\"align\": \"left\"}, \"hovermode\": \"closest\", \"mapbox\": {\"style\": \"light\"}, \"paper_bgcolor\": \"white\", \"plot_bgcolor\": \"#E5ECF6\", \"polar\": {\"angularaxis\": {\"gridcolor\": \"white\", \"linecolor\": \"white\", \"ticks\": \"\"}, \"bgcolor\": \"#E5ECF6\", \"radialaxis\": {\"gridcolor\": \"white\", \"linecolor\": \"white\", \"ticks\": \"\"}}, \"scene\": {\"xaxis\": {\"backgroundcolor\": \"#E5ECF6\", \"gridcolor\": \"white\", \"gridwidth\": 2, \"linecolor\": \"white\", \"showbackground\": true, \"ticks\": \"\", \"zerolinecolor\": \"white\"}, \"yaxis\": {\"backgroundcolor\": \"#E5ECF6\", \"gridcolor\": \"white\", \"gridwidth\": 2, \"linecolor\": \"white\", \"showbackground\": true, \"ticks\": \"\", \"zerolinecolor\": \"white\"}, \"zaxis\": {\"backgroundcolor\": \"#E5ECF6\", \"gridcolor\": \"white\", \"gridwidth\": 2, \"linecolor\": \"white\", \"showbackground\": true, \"ticks\": \"\", \"zerolinecolor\": \"white\"}}, \"shapedefaults\": {\"line\": {\"color\": \"#2a3f5f\"}}, \"ternary\": {\"aaxis\": {\"gridcolor\": \"white\", \"linecolor\": \"white\", \"ticks\": \"\"}, \"baxis\": {\"gridcolor\": \"white\", \"linecolor\": \"white\", \"ticks\": \"\"}, \"bgcolor\": \"#E5ECF6\", \"caxis\": {\"gridcolor\": \"white\", \"linecolor\": \"white\", \"ticks\": \"\"}}, \"title\": {\"x\": 0.05}, \"xaxis\": {\"automargin\": true, \"gridcolor\": \"white\", \"linecolor\": \"white\", \"ticks\": \"\", \"title\": {\"standoff\": 15}, \"zerolinecolor\": \"white\", \"zerolinewidth\": 2}, \"yaxis\": {\"automargin\": true, \"gridcolor\": \"white\", \"linecolor\": \"white\", \"ticks\": \"\", \"title\": {\"standoff\": 15}, \"zerolinecolor\": \"white\", \"zerolinewidth\": 2}}}, \"title\": {\"text\": \"School comedy show attendance vs budget\"}},\n",
              "                        {\"responsive\": true}\n",
              "                    ).then(function(){\n",
              "                            \n",
              "var gd = document.getElementById('e38ce696-e1f5-4f04-a8dc-7580ba6631ea');\n",
              "var x = new MutationObserver(function (mutations, observer) {{\n",
              "        var display = window.getComputedStyle(gd).display;\n",
              "        if (!display || display === 'none') {{\n",
              "            console.log([gd, 'removed!']);\n",
              "            Plotly.purge(gd);\n",
              "            observer.disconnect();\n",
              "        }}\n",
              "}});\n",
              "\n",
              "// Listen for the removal of the full notebook cells\n",
              "var notebookContainer = gd.closest('#notebook-container');\n",
              "if (notebookContainer) {{\n",
              "    x.observe(notebookContainer, {childList: true});\n",
              "}}\n",
              "\n",
              "// Listen for the clearing of the current output cell\n",
              "var outputEl = gd.closest('.output');\n",
              "if (outputEl) {{\n",
              "    x.observe(outputEl, {childList: true});\n",
              "}}\n",
              "\n",
              "                        })\n",
              "                };\n",
              "                \n",
              "            </script>\n",
              "        </div>\n",
              "</body>\n",
              "</html>"
            ]
          },
          "metadata": {
            "tags": []
          }
        }
      ]
    },
    {
      "cell_type": "markdown",
      "metadata": {
        "id": "ykEOxDlEuNWE"
      },
      "source": [
        "It looks like show attendance is a function of budget in our comedy show data! Now, try writing the code to model attendance based on budget!\n",
        "\n",
        "> Hint it's similar to the linear regression code we wrote earlier."
      ]
    },
    {
      "cell_type": "code",
      "metadata": {
        "id": "LkDX69Di1zHL"
      },
      "source": [
        "# Using Sklearn, create a Linear Regression model to predict the attendence\n",
        "\n",
        "# First: Initialize your model\n",
        "\n",
        "# Second: Grab the x and y arrays to train the model\n",
        "\n",
        "# Third: Train the model\n",
        "\n",
        "# Fourth: Grabbing the x and y arrays to train the model using the same loss func.\n",
        "\n",
        "# Fifth: Get m and b to then plot the line\n",
        "b = None\n",
        "m = None\n",
        "print(f\"b = {b}\")\n",
        "print(f\"m = {m}\")\n",
        "est_best_fit_line = m_b_trace(m, b, movies_ds['x'].tolist())\n",
        "est_best_fit_trace = trace_values(est_best_fit_line['x'], est_best_fit_line['y'], mode='lines', name=\"estimated line of best fit\")\n",
        "plot([regression_trace, est_best_fit_trace], movies_layout)"
      ],
      "execution_count": 125,
      "outputs": []
    },
    {
      "cell_type": "markdown",
      "metadata": {
        "id": "DOFM26ufEOnT"
      },
      "source": [
        "# Next: Using Linear Regression with a Deep Learning Approach\n",
        "Since we just used Sklearn to easily make a Linear Regression model, the goal of this was to get introduced the idea of the fundamental ideas of Machine Learning where we create models to predict $y$ from an input $x$. This idea will be repeated for everything we have to teach you here at Breakout Mentors.\n",
        "\n",
        "We have another lesson that contains most of the same information used in this Google Colab, but we will be using another Python library called PyTorch. PyTorch is a library developed by Facebook that allows you to create the best ML/AI models being used today with lots of customization. The lesson will get into the fundamentals of using PyTorch to create ML models that use an algorithm called **gradient descent** to find the best $m$ and $b$. It will be a challenge but it will be worth it, being able to understand how to build Deep Learning models with PyTorch is so valuable!\n"
      ]
    }
  ]
}