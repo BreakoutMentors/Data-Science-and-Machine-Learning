{
  "nbformat": 4,
  "nbformat_minor": 0,
  "metadata": {
    "colab": {
      "name": "Single-Variable Linear Regression Challenge 2.ipynb",
      "provenance": [],
      "authorship_tag": "ABX9TyOllFbDKwSTm6cN9aWRv8pA",
      "include_colab_link": true
    },
    "kernelspec": {
      "name": "python3",
      "display_name": "Python 3"
    }
  },
  "cells": [
    {
      "cell_type": "markdown",
      "metadata": {
        "id": "view-in-github",
        "colab_type": "text"
      },
      "source": [
        "<a href=\"https://colab.research.google.com/github/krmiddlebrook/intro_to_deep_learning/blob/master/machine_learning/lesson%201%20-%20linear%20regression/challenges/simple-linear-regression-2-revisited.ipynb\" target=\"_parent\"><img src=\"https://colab.research.google.com/assets/colab-badge.svg\" alt=\"Open In Colab\"/></a>"
      ]
    },
    {
      "cell_type": "markdown",
      "metadata": {
        "id": "T8m4Xo20Z0Ys",
        "colab_type": "text"
      },
      "source": [
        "# Revisiting sinlge-variable linear regression with your own dataset.\n",
        "In this challenge, the goal is to find your own dataset on the web (can be the same dataset you found before) and use it to reimplement a linear model to predict the dataset's label variable (which you choose). The difference in this challenge is you will use Tensorflow to build your model rather than Sklearn. In other words, you will build and train a single-layer linear (fully-connected) neural network.  \n",
        "\n",
        "\n",
        "Challenge:\n",
        "1. Find a dataset you're interested in (can be the same one you used before). Hint: the dataset should have several\n",
        "numeric columns (at least for your features and labels variables). Here are some places to look for data: [kaggle](https://www.kaggle.com/datasets), [Google Dataset Search](https://datasetsearch.research.google.com/), [awesome-datasets Github](https://github.com/awesomedata/awesome-public-datasets#socialsciences).\n",
        "2. Download the dataset and explore it in this notebook. How many numeric columns are there? What is the y variable (labels)? What other information in the data might be useful? What will be your x variable (features).  \n",
        "3. Prepare the data for the model.\n",
        "4. Build the model.\n",
        "5. Train the model.\n",
        "6. Evaluate the model.\n",
        "7. Draw conclusions. What does the model tell us?"
      ]
    },
    {
      "cell_type": "markdown",
      "metadata": {
        "id": "31UFJIuWgR1Q",
        "colab_type": "text"
      },
      "source": [
        "# 3. Load and prepare the data \n",
        "Once you've found and downloaded the dataset, load it into a pandas dataframe and prepare it for the model. \n",
        "\n",
        "Hints: \n",
        "- define the features ($x$) and labels ($y$) \n",
        "- split the dataset into training and test sets\n",
        "- separate the features and labels in training set and test set"
      ]
    },
    {
      "cell_type": "code",
      "metadata": {
        "id": "5oFVSriQZzkd",
        "colab_type": "code",
        "colab": {}
      },
      "source": [
        "# your code here\n"
      ],
      "execution_count": null,
      "outputs": []
    },
    {
      "cell_type": "markdown",
      "metadata": {
        "id": "LeCMJWKdgheo",
        "colab_type": "text"
      },
      "source": [
        "# 4. Build your model\n",
        "Build a model to model the relationship between the features and labels. The model's function looks something like:\n",
        "$$\n",
        "\\text{y} = w_{\\text{features}} \\cdot \\text{Features} + b.\n",
        "$$\n",
        "\n",
        "Hints:\n",
        "- use the `Sequential` class to define a container for the layers of your model.\n",
        "- use the `layers.Dense` class to define your linear model layer\n",
        "- define your loss function with mean squared error\n",
        "- configure the optimization algorithm with stochastic gradient descent\n",
        "- track the mean absolute error and mean squared error metrics\n",
        "- glue the model, loss function, optimizer, and metrics together  "
      ]
    },
    {
      "cell_type": "code",
      "metadata": {
        "id": "nsuRPmAyggtU",
        "colab_type": "code",
        "colab": {}
      },
      "source": [
        "# your code here\n",
        "model = keras.Sequential([\n",
        "        \n",
        "        ])"
      ],
      "execution_count": null,
      "outputs": []
    },
    {
      "cell_type": "markdown",
      "metadata": {
        "id": "TFFbj4Xog0d8",
        "colab_type": "text"
      },
      "source": [
        "Visualize the mean squared error metric over the training process. Hint: create a line chart with the epoch (x) and the mean squared error (y) variables.  "
      ]
    },
    {
      "cell_type": "code",
      "metadata": {
        "id": "jqXn_tzyg3D0",
        "colab_type": "code",
        "colab": {}
      },
      "source": [
        "# your code here\n"
      ],
      "execution_count": null,
      "outputs": []
    },
    {
      "cell_type": "markdown",
      "metadata": {
        "id": "xi3j05mBg5iq",
        "colab_type": "text"
      },
      "source": [
        "# 4. Evaluate the model\n",
        "Now that the model is trained, it's time to evaluate it using the test dataset, which you did not use when training the model. This gives you a sense of how well the model predicts unseen data, which is the case when you use it in the real world. Make sure to evaluate the model and visualize it's predictions against the true values. \n",
        "\n",
        "Hints: \n",
        "- use the `evaluate` method to test the model\n",
        "- use the `predict` method to make predictions given test features. \n",
        "- visualize the predictions against the real  labels using matplotlib's pyplot API methods like `scatter` and `plot`."
      ]
    },
    {
      "cell_type": "code",
      "metadata": {
        "id": "-oohK7Hxg99j",
        "colab_type": "code",
        "colab": {}
      },
      "source": [
        "# your code here\n"
      ],
      "execution_count": null,
      "outputs": []
    },
    {
      "cell_type": "markdown",
      "metadata": {
        "id": "-Zz3LTZwg__3",
        "colab_type": "text"
      },
      "source": [
        "# 5. Draw conclusions\n",
        "Write up your conclusions about the model. Report the goal, the model design, and the results.   "
      ]
    },
    {
      "cell_type": "markdown",
      "metadata": {
        "id": "AyBDqKp_hB8Q",
        "colab_type": "text"
      },
      "source": [
        ""
      ]
    }
  ]
}