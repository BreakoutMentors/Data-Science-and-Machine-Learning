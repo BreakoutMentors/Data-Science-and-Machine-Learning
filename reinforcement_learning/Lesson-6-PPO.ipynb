{
  "cells": [
    {
      "cell_type": "markdown",
      "metadata": {},
      "source": [
        "> # MAKE SURE YOU RUN ON **GPU**!!!: *Select* **Runtime** -> **Change Runtime Type** -> *Select* **GPU** as your hardware acclerator!"
      ]
    },
    {
      "cell_type": "markdown",
      "metadata": {},
      "source": [
        "> In Lesson 6 Proximal Policy Optimization (PPO), you will learn:\n",
        "    > - What is PPO?\n",
        "    > - How does PPO work?"
      ]
    },
    {
      "cell_type": "code",
      "execution_count": 1,
      "metadata": {
        "colab": {
          "base_uri": "https://localhost:8080/"
        },
        "id": "VDRQkFGJMC0P",
        "outputId": "4c2b3fe9-da7f-4266-dd83-16cf17026737"
      },
      "outputs": [
        {
          "name": "stdout",
          "output_type": "stream",
          "text": [
            "Requirement already satisfied: cmake in /usr/local/lib/python3.10/dist-packages (3.27.1)\n",
            "Collecting swig\n",
            "  Downloading swig-4.1.1-py2.py3-none-manylinux_2_5_x86_64.manylinux1_x86_64.whl (1.8 MB)\n",
            "\u001b[2K     \u001b[90m━━━━━━━━━━━━━━━━━━━━━━━━━━━━━━━━━━━━━━━━\u001b[0m \u001b[32m1.8/1.8 MB\u001b[0m \u001b[31m20.9 MB/s\u001b[0m eta \u001b[36m0:00:00\u001b[0m\n",
            "\u001b[?25hInstalling collected packages: swig\n",
            "Successfully installed swig-4.1.1\n",
            "Collecting gymnasium[Box2D]\n",
            "  Downloading gymnasium-0.29.0-py3-none-any.whl (953 kB)\n",
            "\u001b[2K     \u001b[90m━━━━━━━━━━━━━━━━━━━━━━━━━━━━━━━━━━━━━━\u001b[0m \u001b[32m953.8/953.8 kB\u001b[0m \u001b[31m13.1 MB/s\u001b[0m eta \u001b[36m0:00:00\u001b[0m\n",
            "\u001b[?25hRequirement already satisfied: numpy>=1.21.0 in /usr/local/lib/python3.10/dist-packages (from gymnasium[Box2D]) (1.23.5)\n",
            "Requirement already satisfied: cloudpickle>=1.2.0 in /usr/local/lib/python3.10/dist-packages (from gymnasium[Box2D]) (2.2.1)\n",
            "Requirement already satisfied: typing-extensions>=4.3.0 in /usr/local/lib/python3.10/dist-packages (from gymnasium[Box2D]) (4.7.1)\n",
            "Collecting farama-notifications>=0.0.1 (from gymnasium[Box2D])\n",
            "  Downloading Farama_Notifications-0.0.4-py3-none-any.whl (2.5 kB)\n",
            "Collecting box2d-py==2.3.5 (from gymnasium[Box2D])\n",
            "  Downloading box2d-py-2.3.5.tar.gz (374 kB)\n",
            "\u001b[2K     \u001b[90m━━━━━━━━━━━━━━━━━━━━━━━━━━━━━━━━━━━━━━\u001b[0m \u001b[32m374.4/374.4 kB\u001b[0m \u001b[31m39.4 MB/s\u001b[0m eta \u001b[36m0:00:00\u001b[0m\n",
            "\u001b[?25h  Preparing metadata (setup.py) ... \u001b[?25l\u001b[?25hdone\n",
            "Requirement already satisfied: pygame>=2.1.3 in /usr/local/lib/python3.10/dist-packages (from gymnasium[Box2D]) (2.5.0)\n",
            "Requirement already satisfied: swig==4.* in /usr/local/lib/python3.10/dist-packages (from gymnasium[Box2D]) (4.1.1)\n",
            "Building wheels for collected packages: box2d-py\n",
            "  Building wheel for box2d-py (setup.py) ... \u001b[?25l\u001b[?25hdone\n",
            "  Created wheel for box2d-py: filename=box2d_py-2.3.5-cp310-cp310-linux_x86_64.whl size=2373073 sha256=1a73afa6c3d5e4574e99cf30e292e10f61e8a108de95c7e4509d076208c5663a\n",
            "  Stored in directory: /root/.cache/pip/wheels/db/8f/6a/eaaadf056fba10a98d986f6dce954e6201ba3126926fc5ad9e\n",
            "Successfully built box2d-py\n",
            "Installing collected packages: farama-notifications, box2d-py, gymnasium\n",
            "Successfully installed box2d-py-2.3.5 farama-notifications-0.0.4 gymnasium-0.29.0\n",
            "Collecting rl_zoo3\n",
            "  Downloading rl_zoo3-2.0.0-py3-none-any.whl (76 kB)\n",
            "\u001b[2K     \u001b[90m━━━━━━━━━━━━━━━━━━━━━━━━━━━━━━━━━━━━━━━━\u001b[0m \u001b[32m76.3/76.3 kB\u001b[0m \u001b[31m1.5 MB/s\u001b[0m eta \u001b[36m0:00:00\u001b[0m\n",
            "\u001b[?25hCollecting sb3-contrib>=2.0.0 (from rl_zoo3)\n",
            "  Downloading sb3_contrib-2.0.0-py3-none-any.whl (80 kB)\n",
            "\u001b[2K     \u001b[90m━━━━━━━━━━━━━━━━━━━━━━━━━━━━━━━━━━━━━━━━\u001b[0m \u001b[32m80.3/80.3 kB\u001b[0m \u001b[31m3.9 MB/s\u001b[0m eta \u001b[36m0:00:00\u001b[0m\n",
            "\u001b[?25hCollecting gym==0.26.2 (from rl_zoo3)\n",
            "  Downloading gym-0.26.2.tar.gz (721 kB)\n",
            "\u001b[2K     \u001b[90m━━━━━━━━━━━━━━━━━━━━━━━━━━━━━━━━━━━━━━\u001b[0m \u001b[32m721.7/721.7 kB\u001b[0m \u001b[31m23.3 MB/s\u001b[0m eta \u001b[36m0:00:00\u001b[0m\n",
            "\u001b[?25h  Installing build dependencies ... \u001b[?25l\u001b[?25hdone\n",
            "  Getting requirements to build wheel ... \u001b[?25l\u001b[?25hdone\n",
            "  Preparing metadata (pyproject.toml) ... \u001b[?25l\u001b[?25hdone\n",
            "Collecting huggingface-sb3>=2.2.5 (from rl_zoo3)\n",
            "  Downloading huggingface_sb3-2.2.5-py3-none-any.whl (9.5 kB)\n",
            "Requirement already satisfied: tqdm in /usr/local/lib/python3.10/dist-packages (from rl_zoo3) (4.66.0)\n",
            "Requirement already satisfied: rich in /usr/local/lib/python3.10/dist-packages (from rl_zoo3) (13.5.2)\n",
            "Collecting optuna (from rl_zoo3)\n",
            "  Downloading optuna-3.3.0-py3-none-any.whl (404 kB)\n",
            "\u001b[2K     \u001b[90m━━━━━━━━━━━━━━━━━━━━━━━━━━━━━━━━━━━━━━\u001b[0m \u001b[32m404.2/404.2 kB\u001b[0m \u001b[31m20.6 MB/s\u001b[0m eta \u001b[36m0:00:00\u001b[0m\n",
            "\u001b[?25hRequirement already satisfied: pyyaml>=5.1 in /usr/local/lib/python3.10/dist-packages (from rl_zoo3) (6.0.1)\n",
            "Collecting pytablewriter~=0.64 (from rl_zoo3)\n",
            "  Downloading pytablewriter-0.64.2-py3-none-any.whl (106 kB)\n",
            "\u001b[2K     \u001b[90m━━━━━━━━━━━━━━━━━━━━━━━━━━━━━━━━━━━━━━\u001b[0m \u001b[32m106.6/106.6 kB\u001b[0m \u001b[31m12.7 MB/s\u001b[0m eta \u001b[36m0:00:00\u001b[0m\n",
            "\u001b[?25hRequirement already satisfied: numpy>=1.18.0 in /usr/local/lib/python3.10/dist-packages (from gym==0.26.2->rl_zoo3) (1.23.5)\n",
            "Requirement already satisfied: cloudpickle>=1.2.0 in /usr/local/lib/python3.10/dist-packages (from gym==0.26.2->rl_zoo3) (2.2.1)\n",
            "Requirement already satisfied: gym-notices>=0.0.4 in /usr/local/lib/python3.10/dist-packages (from gym==0.26.2->rl_zoo3) (0.0.8)\n",
            "Collecting huggingface-hub~=0.8 (from huggingface-sb3>=2.2.5->rl_zoo3)\n",
            "  Downloading huggingface_hub-0.16.4-py3-none-any.whl (268 kB)\n",
            "\u001b[2K     \u001b[90m━━━━━━━━━━━━━━━━━━━━━━━━━━━━━━━━━━━━━━\u001b[0m \u001b[32m268.8/268.8 kB\u001b[0m \u001b[31m28.0 MB/s\u001b[0m eta \u001b[36m0:00:00\u001b[0m\n",
            "\u001b[?25hRequirement already satisfied: wasabi in /usr/local/lib/python3.10/dist-packages (from huggingface-sb3>=2.2.5->rl_zoo3) (1.1.2)\n",
            "Requirement already satisfied: setuptools>=38.3.0 in /usr/local/lib/python3.10/dist-packages (from pytablewriter~=0.64->rl_zoo3) (67.7.2)\n",
            "Collecting DataProperty<2,>=0.55.0 (from pytablewriter~=0.64->rl_zoo3)\n",
            "  Downloading DataProperty-1.0.1-py3-none-any.whl (27 kB)\n",
            "Collecting mbstrdecoder<2,>=1.0.0 (from pytablewriter~=0.64->rl_zoo3)\n",
            "  Downloading mbstrdecoder-1.1.3-py3-none-any.whl (7.8 kB)\n",
            "Collecting pathvalidate<3,>=2.3.0 (from pytablewriter~=0.64->rl_zoo3)\n",
            "  Downloading pathvalidate-2.5.2-py3-none-any.whl (20 kB)\n",
            "Collecting tabledata<2,>=1.3.0 (from pytablewriter~=0.64->rl_zoo3)\n",
            "  Downloading tabledata-1.3.1-py3-none-any.whl (11 kB)\n",
            "Collecting tcolorpy<1,>=0.0.5 (from pytablewriter~=0.64->rl_zoo3)\n",
            "  Downloading tcolorpy-0.1.3-py3-none-any.whl (7.9 kB)\n",
            "Collecting typepy[datetime]<2,>=1.2.0 (from pytablewriter~=0.64->rl_zoo3)\n",
            "  Downloading typepy-1.3.1-py3-none-any.whl (31 kB)\n",
            "Collecting stable-baselines3>=2.0.0 (from sb3-contrib>=2.0.0->rl_zoo3)\n",
            "  Downloading stable_baselines3-2.0.0-py3-none-any.whl (178 kB)\n",
            "\u001b[2K     \u001b[90m━━━━━━━━━━━━━━━━━━━━━━━━━━━━━━━━━━━━━━\u001b[0m \u001b[32m178.4/178.4 kB\u001b[0m \u001b[31m19.6 MB/s\u001b[0m eta \u001b[36m0:00:00\u001b[0m\n",
            "\u001b[?25hCollecting alembic>=1.5.0 (from optuna->rl_zoo3)\n",
            "  Downloading alembic-1.11.2-py3-none-any.whl (225 kB)\n",
            "\u001b[2K     \u001b[90m━━━━━━━━━━━━━━━━━━━━━━━━━━━━━━━━━━━━━━\u001b[0m \u001b[32m225.3/225.3 kB\u001b[0m \u001b[31m22.4 MB/s\u001b[0m eta \u001b[36m0:00:00\u001b[0m\n",
            "\u001b[?25hCollecting cmaes>=0.10.0 (from optuna->rl_zoo3)\n",
            "  Downloading cmaes-0.10.0-py3-none-any.whl (29 kB)\n",
            "Collecting colorlog (from optuna->rl_zoo3)\n",
            "  Downloading colorlog-6.7.0-py2.py3-none-any.whl (11 kB)\n",
            "Requirement already satisfied: packaging>=20.0 in /usr/local/lib/python3.10/dist-packages (from optuna->rl_zoo3) (23.1)\n",
            "Requirement already satisfied: sqlalchemy>=1.3.0 in /usr/local/lib/python3.10/dist-packages (from optuna->rl_zoo3) (2.0.19)\n",
            "Requirement already satisfied: markdown-it-py>=2.2.0 in /usr/local/lib/python3.10/dist-packages (from rich->rl_zoo3) (3.0.0)\n",
            "Requirement already satisfied: pygments<3.0.0,>=2.13.0 in /usr/local/lib/python3.10/dist-packages (from rich->rl_zoo3) (2.16.1)\n",
            "Collecting Mako (from alembic>=1.5.0->optuna->rl_zoo3)\n",
            "  Downloading Mako-1.2.4-py3-none-any.whl (78 kB)\n",
            "\u001b[2K     \u001b[90m━━━━━━━━━━━━━━━━━━━━━━━━━━━━━━━━━━━━━━━━\u001b[0m \u001b[32m78.7/78.7 kB\u001b[0m \u001b[31m9.1 MB/s\u001b[0m eta \u001b[36m0:00:00\u001b[0m\n",
            "\u001b[?25hRequirement already satisfied: typing-extensions>=4 in /usr/local/lib/python3.10/dist-packages (from alembic>=1.5.0->optuna->rl_zoo3) (4.7.1)\n",
            "Requirement already satisfied: filelock in /usr/local/lib/python3.10/dist-packages (from huggingface-hub~=0.8->huggingface-sb3>=2.2.5->rl_zoo3) (3.12.2)\n",
            "Requirement already satisfied: fsspec in /usr/local/lib/python3.10/dist-packages (from huggingface-hub~=0.8->huggingface-sb3>=2.2.5->rl_zoo3) (2023.6.0)\n",
            "Requirement already satisfied: requests in /usr/local/lib/python3.10/dist-packages (from huggingface-hub~=0.8->huggingface-sb3>=2.2.5->rl_zoo3) (2.31.0)\n",
            "Requirement already satisfied: mdurl~=0.1 in /usr/local/lib/python3.10/dist-packages (from markdown-it-py>=2.2.0->rich->rl_zoo3) (0.1.2)\n",
            "Requirement already satisfied: chardet<6,>=3.0.4 in /usr/local/lib/python3.10/dist-packages (from mbstrdecoder<2,>=1.0.0->pytablewriter~=0.64->rl_zoo3) (4.0.0)\n",
            "Requirement already satisfied: greenlet!=0.4.17 in /usr/local/lib/python3.10/dist-packages (from sqlalchemy>=1.3.0->optuna->rl_zoo3) (2.0.2)\n",
            "Collecting gymnasium==0.28.1 (from stable-baselines3>=2.0.0->sb3-contrib>=2.0.0->rl_zoo3)\n",
            "  Downloading gymnasium-0.28.1-py3-none-any.whl (925 kB)\n",
            "\u001b[2K     \u001b[90m━━━━━━━━━━━━━━━━━━━━━━━━━━━━━━━━━━━━━━\u001b[0m \u001b[32m925.5/925.5 kB\u001b[0m \u001b[31m50.4 MB/s\u001b[0m eta \u001b[36m0:00:00\u001b[0m\n",
            "\u001b[?25hRequirement already satisfied: torch>=1.11 in /usr/local/lib/python3.10/dist-packages (from stable-baselines3>=2.0.0->sb3-contrib>=2.0.0->rl_zoo3) (2.0.1+cu118)\n",
            "Requirement already satisfied: pandas in /usr/local/lib/python3.10/dist-packages (from stable-baselines3>=2.0.0->sb3-contrib>=2.0.0->rl_zoo3) (1.5.3)\n",
            "Requirement already satisfied: matplotlib in /usr/local/lib/python3.10/dist-packages (from stable-baselines3>=2.0.0->sb3-contrib>=2.0.0->rl_zoo3) (3.7.1)\n",
            "Collecting jax-jumpy>=1.0.0 (from gymnasium==0.28.1->stable-baselines3>=2.0.0->sb3-contrib>=2.0.0->rl_zoo3)\n",
            "  Downloading jax_jumpy-1.0.0-py3-none-any.whl (20 kB)\n",
            "Requirement already satisfied: farama-notifications>=0.0.1 in /usr/local/lib/python3.10/dist-packages (from gymnasium==0.28.1->stable-baselines3>=2.0.0->sb3-contrib>=2.0.0->rl_zoo3) (0.0.4)\n",
            "Requirement already satisfied: python-dateutil<3.0.0,>=2.8.0 in /usr/local/lib/python3.10/dist-packages (from typepy[datetime]<2,>=1.2.0->pytablewriter~=0.64->rl_zoo3) (2.8.2)\n",
            "Requirement already satisfied: pytz>=2018.9 in /usr/local/lib/python3.10/dist-packages (from typepy[datetime]<2,>=1.2.0->pytablewriter~=0.64->rl_zoo3) (2023.3)\n",
            "Requirement already satisfied: six>=1.5 in /usr/local/lib/python3.10/dist-packages (from python-dateutil<3.0.0,>=2.8.0->typepy[datetime]<2,>=1.2.0->pytablewriter~=0.64->rl_zoo3) (1.16.0)\n",
            "Requirement already satisfied: sympy in /usr/local/lib/python3.10/dist-packages (from torch>=1.11->stable-baselines3>=2.0.0->sb3-contrib>=2.0.0->rl_zoo3) (1.12)\n",
            "Requirement already satisfied: networkx in /usr/local/lib/python3.10/dist-packages (from torch>=1.11->stable-baselines3>=2.0.0->sb3-contrib>=2.0.0->rl_zoo3) (3.1)\n",
            "Requirement already satisfied: jinja2 in /usr/local/lib/python3.10/dist-packages (from torch>=1.11->stable-baselines3>=2.0.0->sb3-contrib>=2.0.0->rl_zoo3) (3.1.2)\n",
            "Requirement already satisfied: triton==2.0.0 in /usr/local/lib/python3.10/dist-packages (from torch>=1.11->stable-baselines3>=2.0.0->sb3-contrib>=2.0.0->rl_zoo3) (2.0.0)\n",
            "Requirement already satisfied: cmake in /usr/local/lib/python3.10/dist-packages (from triton==2.0.0->torch>=1.11->stable-baselines3>=2.0.0->sb3-contrib>=2.0.0->rl_zoo3) (3.27.1)\n",
            "Requirement already satisfied: lit in /usr/local/lib/python3.10/dist-packages (from triton==2.0.0->torch>=1.11->stable-baselines3>=2.0.0->sb3-contrib>=2.0.0->rl_zoo3) (16.0.6)\n",
            "Requirement already satisfied: MarkupSafe>=0.9.2 in /usr/local/lib/python3.10/dist-packages (from Mako->alembic>=1.5.0->optuna->rl_zoo3) (2.1.3)\n",
            "Requirement already satisfied: contourpy>=1.0.1 in /usr/local/lib/python3.10/dist-packages (from matplotlib->stable-baselines3>=2.0.0->sb3-contrib>=2.0.0->rl_zoo3) (1.1.0)\n",
            "Requirement already satisfied: cycler>=0.10 in /usr/local/lib/python3.10/dist-packages (from matplotlib->stable-baselines3>=2.0.0->sb3-contrib>=2.0.0->rl_zoo3) (0.11.0)\n",
            "Requirement already satisfied: fonttools>=4.22.0 in /usr/local/lib/python3.10/dist-packages (from matplotlib->stable-baselines3>=2.0.0->sb3-contrib>=2.0.0->rl_zoo3) (4.42.0)\n",
            "Requirement already satisfied: kiwisolver>=1.0.1 in /usr/local/lib/python3.10/dist-packages (from matplotlib->stable-baselines3>=2.0.0->sb3-contrib>=2.0.0->rl_zoo3) (1.4.4)\n",
            "Requirement already satisfied: pillow>=6.2.0 in /usr/local/lib/python3.10/dist-packages (from matplotlib->stable-baselines3>=2.0.0->sb3-contrib>=2.0.0->rl_zoo3) (9.4.0)\n",
            "Requirement already satisfied: pyparsing>=2.3.1 in /usr/local/lib/python3.10/dist-packages (from matplotlib->stable-baselines3>=2.0.0->sb3-contrib>=2.0.0->rl_zoo3) (3.1.1)\n",
            "Requirement already satisfied: charset-normalizer<4,>=2 in /usr/local/lib/python3.10/dist-packages (from requests->huggingface-hub~=0.8->huggingface-sb3>=2.2.5->rl_zoo3) (3.2.0)\n",
            "Requirement already satisfied: idna<4,>=2.5 in /usr/local/lib/python3.10/dist-packages (from requests->huggingface-hub~=0.8->huggingface-sb3>=2.2.5->rl_zoo3) (3.4)\n",
            "Requirement already satisfied: urllib3<3,>=1.21.1 in /usr/local/lib/python3.10/dist-packages (from requests->huggingface-hub~=0.8->huggingface-sb3>=2.2.5->rl_zoo3) (2.0.4)\n",
            "Requirement already satisfied: certifi>=2017.4.17 in /usr/local/lib/python3.10/dist-packages (from requests->huggingface-hub~=0.8->huggingface-sb3>=2.2.5->rl_zoo3) (2023.7.22)\n",
            "Requirement already satisfied: mpmath>=0.19 in /usr/local/lib/python3.10/dist-packages (from sympy->torch>=1.11->stable-baselines3>=2.0.0->sb3-contrib>=2.0.0->rl_zoo3) (1.3.0)\n",
            "Building wheels for collected packages: gym\n",
            "  Building wheel for gym (pyproject.toml) ... \u001b[?25l\u001b[?25hdone\n",
            "  Created wheel for gym: filename=gym-0.26.2-py3-none-any.whl size=827622 sha256=3b6da0e6ba3c54d97fc38c00e0c9c14dc0b07025552f44e4ce9d1b3db7fd15ab\n",
            "  Stored in directory: /root/.cache/pip/wheels/b9/22/6d/3e7b32d98451b4cd9d12417052affbeeeea012955d437da1da\n",
            "Successfully built gym\n",
            "Installing collected packages: tcolorpy, pathvalidate, mbstrdecoder, Mako, jax-jumpy, gym, colorlog, cmaes, typepy, huggingface-hub, gymnasium, alembic, optuna, huggingface-sb3, DataProperty, tabledata, pytablewriter, stable-baselines3, sb3-contrib, rl_zoo3\n",
            "  Attempting uninstall: gym\n",
            "    Found existing installation: gym 0.25.2\n",
            "    Uninstalling gym-0.25.2:\n",
            "      Successfully uninstalled gym-0.25.2\n",
            "  Attempting uninstall: gymnasium\n",
            "    Found existing installation: gymnasium 0.29.0\n",
            "    Uninstalling gymnasium-0.29.0:\n",
            "      Successfully uninstalled gymnasium-0.29.0\n",
            "\u001b[31mERROR: pip's dependency resolver does not currently take into account all the packages that are installed. This behaviour is the source of the following dependency conflicts.\n",
            "dopamine-rl 4.0.6 requires gym<=0.25.2, but you have gym 0.26.2 which is incompatible.\u001b[0m\u001b[31m\n",
            "\u001b[0mSuccessfully installed DataProperty-1.0.1 Mako-1.2.4 alembic-1.11.2 cmaes-0.10.0 colorlog-6.7.0 gym-0.26.2 gymnasium-0.28.1 huggingface-hub-0.16.4 huggingface-sb3-2.2.5 jax-jumpy-1.0.0 mbstrdecoder-1.1.3 optuna-3.3.0 pathvalidate-2.5.2 pytablewriter-0.64.2 rl_zoo3-2.0.0 sb3-contrib-2.0.0 stable-baselines3-2.0.0 tabledata-1.3.1 tcolorpy-0.1.3 typepy-1.3.1\n"
          ]
        }
      ],
      "source": [
        "!pip install cmake swig\n",
        "!pip install gymnasium[Box2D]==0.28.1\n",
        "!pip install rl_zoo3==2.0.0"
      ]
    },
    {
      "cell_type": "markdown",
      "metadata": {
        "id": "4l0FP8v3kc0n"
      },
      "source": [
        "- In the last lesson, we have talk about how **A2C** combined both value-based and policy-based methods to help stabilize the training process.\n",
        "\n",
        "- In this lesson, we will learn an other way to stabilize RL agent training: **PPO**, which stands for Proximal Policy Optimization.\n",
        "\n",
        "- General Idea:  we don't want to update our policy too much by restraining our policy update in a defined range. ($[1-ϵ, 1+ϵ]$)"
      ]
    },
    {
      "cell_type": "markdown",
      "metadata": {
        "id": "mhEPr9tx2DqF"
      },
      "source": [
        "![PPO by Jonathan HUi](https://huggingface.co/datasets/huggingface-deep-rl-course/course-images/resolve/main/en/unit9/cliff.jpg)\n",
        "\n",
        "<!-- - This would be similar to what HuggingFace did for their explanation, which is an adaption of the explanation provided by Jonathan Hui, i.e., HF added this: \"Modified version from RL — Proximal Policy Optimization (PPO) Explained by Jonathan Hui\". [PPO by Jonathan Hui](https://jonathan-hui.medium.com/rl-proximal-policy-optimization-ppo-explained-77f014ec3f12) -->\n",
        "\n",
        "\n",
        "- As presented by this image, we will update our policy carefully in PPO has 2 main benefits:\n",
        "    - Avoid **falling** off the cliff (hurts performance)\n",
        "    - More likely to **converge** (reaching) an optimal solution.\n",
        "    \n",
        "- One way you can picture this is in the *gradient descent*, there is a hyperparameter called **learning rate**, which control how big of a step you will take in updating your parameters. \n",
        "    - Too small step, slow training process\n",
        "    - Too big step, unstable training process\n",
        "\n",
        "\n",
        "So in **PPO**, you are trying to avoid too much deviation on your *new* policy compared to the *old* policy in your policy update. Hence the term \"Proximal Policy\". For specific detail of how this will work see [ Clipped surrogate objective function](https://huggingface.co/learn/deep-rl-course/unit8/clipped-surrogate-objective).\n",
        "\n",
        "\n",
        "\n"
      ]
    },
    {
      "cell_type": "markdown",
      "metadata": {
        "id": "QVqJzHdyYBmR"
      },
      "source": [
        "We will use PPO to train a [Bipedal Walker](https://gymnasium.farama.org/environments/box2d/bipedal_walker/)!!! Though we can use the PPO algorithm inside  [rl-baseline3-zoo](https://github.com/DLR-RM/rl-baselines3-zoo) to train our agent!"
      ]
    },
    {
      "cell_type": "markdown",
      "metadata": {
        "id": "XXgCi8fGX_Cw"
      },
      "source": [
        "![Bipedal Walker](https://gymnasium.farama.org/_images/bipedal_walker.gif)"
      ]
    },
    {
      "cell_type": "markdown",
      "metadata": {
        "id": "p6c6Q4xp6hzK"
      },
      "source": [
        "We are going to train a Bipedal Walker using PPO (1000 steps) and saved it to \"/content/BipedalWalker\" !"
      ]
    },
    {
      "cell_type": "code",
      "execution_count": 2,
      "metadata": {
        "colab": {
          "base_uri": "https://localhost:8080/"
        },
        "id": "NbD_oY4qX86w",
        "outputId": "dc934605-1066-47c9-d80e-3c7c6dd248a8"
      },
      "outputs": [
        {
          "name": "stdout",
          "output_type": "stream",
          "text": [
            "2023-08-11 18:48:51.827879: I tensorflow/core/platform/cpu_feature_guard.cc:182] This TensorFlow binary is optimized to use available CPU instructions in performance-critical operations.\n",
            "To enable the following instructions: AVX2 FMA, in other operations, rebuild TensorFlow with the appropriate compiler flags.\n",
            "2023-08-11 18:48:52.724891: W tensorflow/compiler/tf2tensorrt/utils/py_utils.cc:38] TF-TRT Warning: Could not find TensorRT\n",
            "========== BipedalWalker-v3 ==========\n",
            "Seed: 3523475310\n",
            "Loading hyperparameters from: /usr/local/lib/python3.10/dist-packages/rl_zoo3/hyperparams/ppo.yml\n",
            "Default hyperparameters for environment (ones being tuned will be overridden):\n",
            "OrderedDict([('batch_size', 64),\n",
            "             ('clip_range', 0.18),\n",
            "             ('ent_coef', 0.0),\n",
            "             ('gae_lambda', 0.95),\n",
            "             ('gamma', 0.999),\n",
            "             ('learning_rate', 0.0003),\n",
            "             ('n_envs', 32),\n",
            "             ('n_epochs', 10),\n",
            "             ('n_steps', 2048),\n",
            "             ('n_timesteps', 5000000.0),\n",
            "             ('normalize', True),\n",
            "             ('policy', 'MlpPolicy')])\n",
            "Using 32 environments\n",
            "Overwriting n_timesteps with n=3000\n",
            "Creating test environment\n",
            "Normalization activated: {'gamma': 0.999, 'norm_reward': False, 'training': False}\n",
            "Normalization activated: {'gamma': 0.999}\n",
            "Using cuda device\n",
            "Log path: /content/BipedalWalker/ppo/BipedalWalker-v3_1\n",
            "\u001b[2KEval num_timesteps=24992, episode_reward=-91.76 +/- 0.05\n",
            "\u001b[2KEpisode length: 111.40 +/- 2.58\n",
            "\u001b[2K---------------------------------\n",
            "| eval/              |          |\n",
            "|    mean_ep_length  | 111      |\n",
            "|    mean_reward     | -91.8    |\n",
            "| time/              |          |\n",
            "|    total_timesteps | 24992    |\n",
            "---------------------------------\n",
            "\u001b[2KNew best mean reward!\n",
            "\u001b[2KEval num_timesteps=49984, episode_reward=-92.14 +/- 0.05\n",
            "\u001b[2KEpisode length: 106.40 +/- 1.20\n",
            "\u001b[2K---------------------------------\n",
            "| eval/              |          |\n",
            "|    mean_ep_length  | 106      |\n",
            "|    mean_reward     | -92.1    |\n",
            "| time/              |          |\n",
            "|    total_timesteps | 49984    |\n",
            "---------------------------------\n",
            "\u001b[2K---------------------------------\n",
            "| rollout/           |          |\n",
            "|    ep_len_mean     | 491      |\n",
            "|    ep_rew_mean     | -110     |\n",
            "| time/              |          |\n",
            "|    fps             | 1892     |\n",
            "|    iterations      | 1        |\n",
            "|    time_elapsed    | 34       |\n",
            "|    total_timesteps | 65536    |\n",
            "---------------------------------\n",
            "\u001b[2K\u001b[35m 100%\u001b[0m \u001b[90m━━━━━━━━━━━━━━━━━━━━━━━━━━━━━\u001b[0m \u001b[32m65,536/3,000 \u001b[0m [ \u001b[33m0:00:04\u001b[0m < \u001b[36m0:00:00\u001b[0m , \u001b[31m? it/s\u001b[0m ]\n",
            "\u001b[?25hSaving to /content/BipedalWalker/ppo/BipedalWalker-v3_1\n"
          ]
        }
      ],
      "source": [
        "!python -m rl_zoo3.train --algo ppo --env BipedalWalker-v3 --n-timesteps 1000 --progress -f \"/content/BipedalWalker\""
      ]
    },
    {
      "cell_type": "markdown",
      "metadata": {
        "id": "Di2i5MKm7KkI"
      },
      "source": [
        "Next, we are going to load the parameters of the *best model* and look at how well our agent performs!"
      ]
    },
    {
      "cell_type": "code",
      "execution_count": 3,
      "metadata": {
        "id": "yoazm3o5r1-A"
      },
      "outputs": [],
      "source": [
        "from stable_baselines3 import PPO\n",
        "import gymnasium as gym\n",
        "\n",
        "env = gym.make(\"BipedalWalker-v3\", render_mode='rgb_array')\n",
        "model = PPO(policy=\"MlpPolicy\", env=\"BipedalWalker-v3\")\n",
        "model.set_parameters(load_path_or_dict=\"/content/BipedalWalker/ppo/BipedalWalker-v3_1/best_model.zip\")"
      ]
    },
    {
      "cell_type": "code",
      "execution_count": null,
      "metadata": {
        "id": "PrBpH8qztHY4"
      },
      "outputs": [],
      "source": [
        "from IPython import display\n",
        "import matplotlib\n",
        "import matplotlib.pyplot as plt\n",
        "%matplotlib inline\n",
        "\n",
        "obs = env.reset()[0]\n",
        "img = plt.imshow(env.render())\n",
        "\n",
        "while True:\n",
        "    action, _states = model.predict(obs, deterministic=False)\n",
        "    obs, rewards, dones, info,_ = env.step(action)\n",
        "    img.set_data(env.render()) # just update the data\n",
        "    display.display(plt.gcf())\n",
        "    display.clear_output(wait=True)\n",
        "    if dones:\n",
        "      break\n",
        "\n",
        "env.close()"
      ]
    },
    {
      "cell_type": "markdown",
      "metadata": {
        "id": "93CuPrZh7XGq"
      },
      "source": [
        "Let's compare how well the pre-trained agent from HuggingFace performs!"
      ]
    },
    {
      "cell_type": "code",
      "execution_count": 10,
      "metadata": {
        "colab": {
          "base_uri": "https://localhost:8080/"
        },
        "id": "fQ5uoengwiPn",
        "outputId": "94c7a1c9-6059-47dc-8c2b-14a8656b2ed9"
      },
      "outputs": [
        {
          "name": "stdout",
          "output_type": "stream",
          "text": [
            "2023-08-11 18:54:36.483268: W tensorflow/compiler/tf2tensorrt/utils/py_utils.cc:38] TF-TRT Warning: Could not find TensorRT\n",
            "Downloading from https://huggingface.co/sb3/ppo-BipedalWalker-v3\n",
            "Saving to /content/pre-trained/ppo/BipedalWalker-v3_1\n"
          ]
        }
      ],
      "source": [
        "!python -m rl_zoo3.load_from_hub --algo ppo --env BipedalWalker-v3 -orga sb3 -f \"/content/pre-trained\""
      ]
    },
    {
      "cell_type": "code",
      "execution_count": 16,
      "metadata": {
        "colab": {
          "base_uri": "https://localhost:8080/"
        },
        "id": "PT1I-G9Myh4W",
        "outputId": "a256d1cd-71b0-4be7-fef7-ea8abc5180fd"
      },
      "outputs": [
        {
          "name": "stderr",
          "output_type": "stream",
          "text": [
            "/usr/local/lib/python3.10/dist-packages/stable_baselines3/common/save_util.py:166: UserWarning: Could not deserialize object learning_rate. Consider using `custom_objects` argument to replace this object.\n",
            "Exception: 'bytes' object cannot be interpreted as an integer\n",
            "  warnings.warn(\n",
            "/usr/local/lib/python3.10/dist-packages/stable_baselines3/common/save_util.py:166: UserWarning: Could not deserialize object lr_schedule. Consider using `custom_objects` argument to replace this object.\n",
            "Exception: 'bytes' object cannot be interpreted as an integer\n",
            "  warnings.warn(\n",
            "/usr/local/lib/python3.10/dist-packages/stable_baselines3/common/save_util.py:166: UserWarning: Could not deserialize object clip_range. Consider using `custom_objects` argument to replace this object.\n",
            "Exception: 'bytes' object cannot be interpreted as an integer\n",
            "  warnings.warn(\n"
          ]
        }
      ],
      "source": [
        "env = gym.make(\"BipedalWalker-v3\", render_mode='rgb_array')\n",
        "model = PPO(policy=\"MlpPolicy\", env=\"BipedalWalker-v3\")\n",
        "model.set_parameters(load_path_or_dict=\"/content/pre-trained/ppo/BipedalWalker-v3_1/BipedalWalker-v3.zip\")"
      ]
    },
    {
      "cell_type": "code",
      "execution_count": 17,
      "metadata": {
        "colab": {
          "base_uri": "https://localhost:8080/",
          "height": 396
        },
        "id": "4fXiaEDIy7-a",
        "outputId": "dce6822f-eec8-4e67-ef91-13afbac466b8"
      },
      "outputs": [
        {
          "data": {
            "image/png": "[encoded data removed]",
            "text/plain": [
              "<Figure size 640x480 with 1 Axes>"
            ]
          },
          "metadata": {},
          "output_type": "display_data"
        }
      ],
      "source": [
        "from IPython import display\n",
        "import matplotlib\n",
        "import matplotlib.pyplot as plt\n",
        "%matplotlib inline\n",
        "\n",
        "obs = env.reset()[0]\n",
        "img = plt.imshow(env.render())\n",
        "\n",
        "while True:\n",
        "    action, _states = model.predict(obs, deterministic=False)\n",
        "    obs, rewards, dones, info,_ = env.step(action)\n",
        "    img.set_data(env.render()) # just update the data\n",
        "    display.display(plt.gcf())\n",
        "    display.clear_output(wait=True)\n",
        "    if dones:\n",
        "      break\n",
        "\n",
        "env.close()"
      ]
    },
    {
      "cell_type": "markdown",
      "metadata": {},
      "source": [
        "We can also train and visualize the model using Stable Baseline 3!"
      ]
    },
    {
      "cell_type": "code",
      "execution_count": null,
      "metadata": {},
      "outputs": [],
      "source": [
        "from stable_baselines3 import PPO\n",
        "import gymnasium as gym\n",
        "\n",
        "# Create the BipedalWalker environment\n",
        "env = env = gym.make(\"BipedalWalker-v3\")\n",
        "\n",
        "# Instantiate the agent\n",
        "model = PPO('MlpPolicy', env, verbose=1)\n",
        "\n",
        "# Train the agent for 100 timesteps\n",
        "model.learn(total_timesteps=100)\n",
        "\n",
        "# Save the trained agent\n",
        "model.save(\"PPO-BipedalWalker\")\n",
        "\n",
        "# delete the model from memory\n",
        "del model"
      ]
    },
    {
      "cell_type": "code",
      "execution_count": null,
      "metadata": {},
      "outputs": [],
      "source": [
        "from IPython import display\n",
        "import matplotlib\n",
        "import matplotlib.pyplot as plt\n",
        "%matplotlib inline\n",
        "\n",
        "# load the model\n",
        "model = PPO.load(\"PPO-BipedalWalker\")\n",
        "\n",
        "# Create the BipedalWalker environment\n",
        "env = gym.make(\"BipedalWalker-v3\", render_mode=\"rgb_array\")\n",
        "\n",
        "# reset the environment\n",
        "obs = env.reset()[0]\n",
        "\n",
        "img = plt.imshow(env.render()) # only call this once\n",
        "\n",
        "while True:\n",
        "\n",
        "  img.set_data(env.render()) # just update the data\n",
        "  display.display(plt.gcf())\n",
        "  display.clear_output(wait=True)\n",
        "\n",
        "  action, _states = model.predict(obs)  # predict the action and state using the model\n",
        "  obs, rewards, terminated, info, _ = env.step(action) # take the predicted action\n",
        "\n",
        "  if terminated :\n",
        "    break\n",
        "\n",
        "env.close()"
      ]
    },
    {
      "cell_type": "markdown",
      "metadata": {},
      "source": [
        "### Reference\n",
        "1. [HuggingFace RL Course Unit 8](https://huggingface.co/learn/deep-rl-course/unit8/introduction)\n"
      ]
    }
  ],
  "metadata": {
    "accelerator": "GPU",
    "colab": {
      "gpuType": "T4",
      "provenance": []
    },
    "kernelspec": {
      "display_name": "Python 3",
      "name": "python3"
    },
    "language_info": {
      "name": "python"
    }
  },
  "nbformat": 4,
  "nbformat_minor": 0
}
