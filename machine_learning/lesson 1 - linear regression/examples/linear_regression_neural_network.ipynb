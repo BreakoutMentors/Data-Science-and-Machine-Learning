{
  "nbformat": 4,
  "nbformat_minor": 0,
  "metadata": {
    "kernelspec": {
      "display_name": "Python 3",
      "language": "python",
      "name": "python3"
    },
    "language_info": {
      "codemirror_mode": {
        "name": "ipython",
        "version": 3
      },
      "file_extension": ".py",
      "mimetype": "text/x-python",
      "name": "python",
      "nbconvert_exporter": "python",
      "pygments_lexer": "ipython3",
      "version": "3.8.0"
    },
    "colab": {
      "name": "linear_regression_neural_network.ipynb",
      "provenance": [],
      "collapsed_sections": [],
      "toc_visible": true,
      "include_colab_link": true
    }
  },
  "cells": [
    {
      "cell_type": "markdown",
      "metadata": {
        "id": "view-in-github",
        "colab_type": "text"
      },
      "source": [
        "<a href=\"https://colab.research.google.com/github/BreakoutMentors/Data-Science-and-Machine-Learning/blob/adam-migration-to-pytorch/machine_learning/lesson%201%20-%20linear%20regression/examples/linear_regression_neural_network.ipynb\" target=\"_parent\"><img src=\"https://colab.research.google.com/assets/colab-badge.svg\" alt=\"Open In Colab\"/></a>"
      ]
    },
    {
      "cell_type": "markdown",
      "metadata": {
        "id": "fgtcQi5cPcFU"
      },
      "source": [
        "# Regression\n",
        "<figure>\n",
        "<img src='https://media.makeameme.org/created/brace-yourself-regression-599599.jpg' width='50%' height='50%'></img>\n",
        "</figure>\n",
        "\n",
        "\n",
        "Perhaps the most natural machine learning task to wrap our heads around is *regression*--a set of methods for modeling the relationship between one or more independent variables (i.e., $x$) and a dependent variable (i.e., $y$). Regression problems pop up whenever we want to output a *numeric* value. \n",
        "\n",
        "Most applications of regression fall into one of the following two broad categories:\n",
        "- *inference* - to explain the relationship between the inputs and outputs (most common).\n",
        "- *prediction* - to predict numeric outputs given inputs (most common in machine learning). \n",
        "\n",
        "A few everyday examples of regression include predicting prices (of homes, stocks, etc.), predicting length of stay (for patients in the hospital), and demand forecasting (for retail sales). "
      ]
    },
    {
      "cell_type": "markdown",
      "metadata": {
        "id": "UoeVWX-5j7Gt"
      },
      "source": [
        "## Linear Regression\n",
        "<figure>\n",
        "<img src='https://learningstatisticswithr.com/book/lsr_files/figure-html/regression1a-1.png' width='60%'></img>\n",
        "</figure>\n",
        "\n",
        "\n",
        "*Linear regression* is probably the simplest and most popular regression method. It is called \"linear\" regression because we **assume** that the relationship between the independent variables $x$ and the dependent variable  $y$ is linear--that is, $y$ can be expressed as a *weighted sum* of the elements in $x$, plus some *noise* in the data. In mathematical terms this can be expressed as: $$y = wx + b$$\n",
        "where $w$ represents the learnable *weights* and $b$ the *bias* (i.e., you may recognize it as the *intercept*). The weights determine the influence of each feature on the prediction and the bias tells us what the predicted value would be if all the features $x$ values were 0. Given features of a training dataset  $X$  and corresponding (known) labels  $y$ , the goal of linear regression is to find the weight vector $w$  and the bias term  $b$  that given features of a new data sample from the dataset  $X$, the sample's label will (in expectation) be predicted with the lowest *error*.\n",
        "\n",
        "To motivate the linear regression approach, suppose that we wish to estimate the prices of houses (in dollars) based on their area (in square feet). To actually fit a model for *predicting* house prices, we need to get our hands on a dataset consisting of sales for which we know the sale price and area for each home. In machine learning terminology, the dataset is called a *training dataset* or *training set*, and each row (the data corresponding to one sale) is called a *sample*. The thing we are trying to predict (price) is called a *label* (or *target*). The independent variables (only one in this case--area), upon which the predictions are based, are called *features*. \n",
        "\n",
        "Generally, we will use  $n$  to denote the total number of samples in our dataset. We index a sample by $i$, denoting each sample as  $x^{(i)}=[x^{(i)}_{1}]^{⊤}$  ($x^{(i)}_{1}$ represents the area) and the corresponding label as $y^{(i)}$.\n"
      ]
    },
    {
      "cell_type": "markdown",
      "metadata": {
        "id": "_lV-loKm6kLV"
      },
      "source": [
        "## Linear Model\n"
      ]
    },
    {
      "cell_type": "markdown",
      "metadata": {
        "id": "mM4R7LoM6kJo"
      },
      "source": [
        "To make the above linear regression formula more concrete, let's translate it to our house prices example: \n",
        "$$\\text{price} = w_{\\text{area}}\\cdot{area} + b $$\n",
        "where $w_{\\text{area}}$ is the learnable *weight* and $b$ is the *bias* (or *intercept*).\n",
        "\n",
        "The goal is to choose the weight  $w$  and the bias  $b$  such that on average, the predictions made according to our model *best fit* the true prices observed in the data. \n",
        "\n",
        "Before we can go about searching for the best *parameters*  $w$  and  $b$, we will need two more things: (i) a way to measure the quality of the model; and (ii) a procedure for updating the model parameters to improve its accuracy."
      ]
    },
    {
      "cell_type": "markdown",
      "metadata": {
        "id": "LTuHWKk3loN6"
      },
      "source": [
        "# Loss Function\n",
        "<figure>\n",
        "<img src='https://d2l.ai/_images/fit_linreg.svg\n",
        "' width='60%'></img><figcaption>Calculating loss: measuring the distance between the predicion and real value</figcaption>\n",
        "</figure>\n",
        "\n",
        "\n",
        "Before we build our model, we need to determine a measure of fitness. The *loss function* quantifies the distance between the *true* and *predicted* value of the *target*. The loss will usually be a non-negative number where smaller values are better and perfect predictions incur a loss of  0 . The most popular loss function in regression problems is the *sum of squared errors* (SSE). When our prediction for an example  $i$  is  $\\hat{y}^{(i)}$  and the corresponding true label is  $y^{(i)}$ , the squared error is given by:\n",
        "$$\n",
        "l^{(i)}(\\mathbf{w}, b) = \\frac{1}{2} \\left(\\hat{y}^{(i)} - y^{(i)}\\right)^2.\n",
        "$$\n",
        "\n",
        "The constant  1/2  makes no real difference but makes some future math more convenient, cancelling out when we take the *derivative* of the loss (don't worry if you don't know about derivatives yet). To make things more concrete, consider the example above where we plot a regression problem, the blue line corresponds to the prediction vs true value. \n",
        "\n",
        "To measure the quality of a model on the entire dataset, we simply *average* (or equivalently, sum) the losses on the training set.\n",
        "\n",
        "$$\n",
        "L(\\mathbf{w}, b) =\\frac{1}{n}\\sum_{i=1}^n l^{(i)}(\\mathbf{w}, b) =\\frac{1}{n} \\sum_{i=1}^n \\frac{1}{2}\\left(\\mathbf{w}^\\top \\mathbf{x}^{(i)} + b - y^{(i)}\\right)^2.\n",
        "$$\n",
        "\n",
        "When training the model, we want to find parameters ( $w^{∗}$,$b^{∗}$ ) that minimize the total loss across all training examples:\n",
        "\n",
        "$$\n",
        "\\mathbf{w}^*, b^* = \\operatorname*{argmin}_{\\mathbf{w}, b}\\  L(\\mathbf{w}, b).\n",
        "$$\n",
        "\n",
        "But how do actualy find the best parameters to minimize the total loss? We'll use *gradient descent*--a fundemental concept in modern machine learning, particularly *deep learning*.\n"
      ]
    },
    {
      "cell_type": "markdown",
      "metadata": {
        "id": "pHW5a943sDqk"
      },
      "source": [
        "# Gradient Descent\n",
        "\n",
        "<figure>\n",
        "<img src='https://media0.giphy.com/media/O9rcZVmRcEGqI/source.gif' width='100%'></img><figcaption>Gradient descent: finding the best model parameters</figcaption>\n",
        "</figure>\n",
        "\n",
        "The key technique for optimizing nearly any deep learning model, and we can use for linear models too, consists of *iteratively* reducing the error by updating the parameters in the *direction* that incrementally *lowers* the loss function. This algorithm is called *gradient descent*. In general, we can find acceptable parameter values after many interations of reducing the loss.\n",
        "\n",
        "The most naive application of gradient descent consists of taking the derivative of the true loss, which is an average of the losses computed on every single example in the dataset. In practice, this can be extremely slow. We must pass over the entire dataset before making a single update. Thus, we will often settle for sampling a random *batch* of samples every time we need to compute the update, this method is called *stochastic gradient descent*.\n",
        "\n",
        "\n",
        "At a high level, the *stochastic gradient descent* method consists of feeding a random batch of samples to the model, computing the derivative (gradient) of the average loss with respect to the batch samples and the model's current parameter values. Finally, we update the model parameters by multiplying the gradient by a predetermined value called the *learning rate* $ > 0$ and substract the resulting output from the current parameter values.  \n",
        "\n",
        "Let's summarize the steps of *stochastic gradient descent*: \n",
        "1. We initialize the values of the model parameters, typically with random values.\n",
        "2. We iteratively sample random batches from the data (many times), updating the parameters in the direction of the negative gradient.\n",
        "3. After many iterations, we hope that the estimated model parameters ($\\hat{w}, \\hat{b}$, the \"hat\" symbol denotes estimates) can produce acceptable predictions (close enough to the true values).\n",
        "\n",
        "Linear regression can actually be solved using a simpler method than stochastic gradient descent, but the stochastic gradient descent algorithm is so fundemental to deep learning that we will use it for linear regression too. \n"
      ]
    },
    {
      "cell_type": "markdown",
      "metadata": {
        "id": "OFv_ek5F8b1D"
      },
      "source": [
        "# Linear Regression: What makes us happy?\n",
        "Now let's apply the linear regression method to a real-world problem--predicting life expectancy given features corresponding to a country's education system. To fit a model, the process involves several steps: \n",
        "\n",
        "1. Find a dataset related to our question. \n",
        "2. Explore the dataset - clean the data and visualize it (if possible).\n",
        "3. Prepare data for a *model*.\n",
        "4. Build a model. \n",
        "5. Train the model using an algorithm such as stochastic gradient descent.\n",
        "6. Evaluate the quality of our model.\n",
        "7. Draw conclusions. \n",
        "\n",
        "For step 1, we found a dataset detailing [Life Expentacy(WHO)](https://www.kaggle.com/kumarajarshi/life-expectancy-who) in different countries in the world. The dataset contains information like alcohol intake, BMI, GDP, and schooling . Pretty cool right! Next, we explore the dataset and define our $x$ and $y$ variables. Then, we build a linear regression model. Following, we train the model using stochastic gradient descent. Finally we evaluate the model and draw conclusions."
      ]
    },
    {
      "cell_type": "code",
      "metadata": {
        "id": "6QeOZ9rN8b1E"
      },
      "source": [
        "# import the libraries we be need\n",
        "import pandas as pd\n",
        "import numpy as np\n",
        "import matplotlib\n",
        "import matplotlib.pyplot as plt\n",
        "\n",
        "# PyTorch\n",
        "import torch\n",
        "import torch.nn as nn"
      ],
      "execution_count": 50,
      "outputs": []
    },
    {
      "cell_type": "markdown",
      "metadata": {
        "id": "AA78zSFaOlje"
      },
      "source": [
        "## 1. Explore + Visualize the dataset"
      ]
    },
    {
      "cell_type": "code",
      "metadata": {
        "id": "Kmr-AHsN8b1J",
        "colab": {
          "base_uri": "https://localhost:8080/",
          "height": 221
        },
        "outputId": "eb61a729-511f-425f-dd76-f583f315f841"
      },
      "source": [
        "# load the dataset into a dataframe\n",
        "data_url = 'https://raw.githubusercontent.com/BreakoutMentors/Data-Science-and-Machine-Learning/adam-migration-to-pytorch/datasets/Life%20Expectancy%20Data.csv'\n",
        "df = pd.read_csv(data_url)\n",
        "df.columns = [col_name.strip() for col_name in df.columns] # used to fix weird spaces in the column names\n",
        "df.head() # view the first 5 rows of the data"
      ],
      "execution_count": 51,
      "outputs": [
        {
          "output_type": "execute_result",
          "data": {
            "text/html": [
              "<div>\n",
              "<style scoped>\n",
              "    .dataframe tbody tr th:only-of-type {\n",
              "        vertical-align: middle;\n",
              "    }\n",
              "\n",
              "    .dataframe tbody tr th {\n",
              "        vertical-align: top;\n",
              "    }\n",
              "\n",
              "    .dataframe thead th {\n",
              "        text-align: right;\n",
              "    }\n",
              "</style>\n",
              "<table border=\"1\" class=\"dataframe\">\n",
              "  <thead>\n",
              "    <tr style=\"text-align: right;\">\n",
              "      <th></th>\n",
              "      <th>Country</th>\n",
              "      <th>Year</th>\n",
              "      <th>Status</th>\n",
              "      <th>Life expectancy</th>\n",
              "      <th>Adult Mortality</th>\n",
              "      <th>infant deaths</th>\n",
              "      <th>Alcohol</th>\n",
              "      <th>percentage expenditure</th>\n",
              "      <th>Hepatitis B</th>\n",
              "      <th>Measles</th>\n",
              "      <th>BMI</th>\n",
              "      <th>under-five deaths</th>\n",
              "      <th>Polio</th>\n",
              "      <th>Total expenditure</th>\n",
              "      <th>Diphtheria</th>\n",
              "      <th>HIV/AIDS</th>\n",
              "      <th>GDP</th>\n",
              "      <th>Population</th>\n",
              "      <th>thinness  1-19 years</th>\n",
              "      <th>thinness 5-9 years</th>\n",
              "      <th>Income composition of resources</th>\n",
              "      <th>Schooling</th>\n",
              "    </tr>\n",
              "  </thead>\n",
              "  <tbody>\n",
              "    <tr>\n",
              "      <th>0</th>\n",
              "      <td>Afghanistan</td>\n",
              "      <td>2015</td>\n",
              "      <td>Developing</td>\n",
              "      <td>65.0</td>\n",
              "      <td>263.0</td>\n",
              "      <td>62</td>\n",
              "      <td>0.01</td>\n",
              "      <td>71.279624</td>\n",
              "      <td>65.0</td>\n",
              "      <td>1154</td>\n",
              "      <td>19.1</td>\n",
              "      <td>83</td>\n",
              "      <td>6.0</td>\n",
              "      <td>8.16</td>\n",
              "      <td>65.0</td>\n",
              "      <td>0.1</td>\n",
              "      <td>584.259210</td>\n",
              "      <td>33736494.0</td>\n",
              "      <td>17.2</td>\n",
              "      <td>17.3</td>\n",
              "      <td>0.479</td>\n",
              "      <td>10.1</td>\n",
              "    </tr>\n",
              "    <tr>\n",
              "      <th>1</th>\n",
              "      <td>Afghanistan</td>\n",
              "      <td>2014</td>\n",
              "      <td>Developing</td>\n",
              "      <td>59.9</td>\n",
              "      <td>271.0</td>\n",
              "      <td>64</td>\n",
              "      <td>0.01</td>\n",
              "      <td>73.523582</td>\n",
              "      <td>62.0</td>\n",
              "      <td>492</td>\n",
              "      <td>18.6</td>\n",
              "      <td>86</td>\n",
              "      <td>58.0</td>\n",
              "      <td>8.18</td>\n",
              "      <td>62.0</td>\n",
              "      <td>0.1</td>\n",
              "      <td>612.696514</td>\n",
              "      <td>327582.0</td>\n",
              "      <td>17.5</td>\n",
              "      <td>17.5</td>\n",
              "      <td>0.476</td>\n",
              "      <td>10.0</td>\n",
              "    </tr>\n",
              "    <tr>\n",
              "      <th>2</th>\n",
              "      <td>Afghanistan</td>\n",
              "      <td>2013</td>\n",
              "      <td>Developing</td>\n",
              "      <td>59.9</td>\n",
              "      <td>268.0</td>\n",
              "      <td>66</td>\n",
              "      <td>0.01</td>\n",
              "      <td>73.219243</td>\n",
              "      <td>64.0</td>\n",
              "      <td>430</td>\n",
              "      <td>18.1</td>\n",
              "      <td>89</td>\n",
              "      <td>62.0</td>\n",
              "      <td>8.13</td>\n",
              "      <td>64.0</td>\n",
              "      <td>0.1</td>\n",
              "      <td>631.744976</td>\n",
              "      <td>31731688.0</td>\n",
              "      <td>17.7</td>\n",
              "      <td>17.7</td>\n",
              "      <td>0.470</td>\n",
              "      <td>9.9</td>\n",
              "    </tr>\n",
              "    <tr>\n",
              "      <th>3</th>\n",
              "      <td>Afghanistan</td>\n",
              "      <td>2012</td>\n",
              "      <td>Developing</td>\n",
              "      <td>59.5</td>\n",
              "      <td>272.0</td>\n",
              "      <td>69</td>\n",
              "      <td>0.01</td>\n",
              "      <td>78.184215</td>\n",
              "      <td>67.0</td>\n",
              "      <td>2787</td>\n",
              "      <td>17.6</td>\n",
              "      <td>93</td>\n",
              "      <td>67.0</td>\n",
              "      <td>8.52</td>\n",
              "      <td>67.0</td>\n",
              "      <td>0.1</td>\n",
              "      <td>669.959000</td>\n",
              "      <td>3696958.0</td>\n",
              "      <td>17.9</td>\n",
              "      <td>18.0</td>\n",
              "      <td>0.463</td>\n",
              "      <td>9.8</td>\n",
              "    </tr>\n",
              "    <tr>\n",
              "      <th>4</th>\n",
              "      <td>Afghanistan</td>\n",
              "      <td>2011</td>\n",
              "      <td>Developing</td>\n",
              "      <td>59.2</td>\n",
              "      <td>275.0</td>\n",
              "      <td>71</td>\n",
              "      <td>0.01</td>\n",
              "      <td>7.097109</td>\n",
              "      <td>68.0</td>\n",
              "      <td>3013</td>\n",
              "      <td>17.2</td>\n",
              "      <td>97</td>\n",
              "      <td>68.0</td>\n",
              "      <td>7.87</td>\n",
              "      <td>68.0</td>\n",
              "      <td>0.1</td>\n",
              "      <td>63.537231</td>\n",
              "      <td>2978599.0</td>\n",
              "      <td>18.2</td>\n",
              "      <td>18.2</td>\n",
              "      <td>0.454</td>\n",
              "      <td>9.5</td>\n",
              "    </tr>\n",
              "  </tbody>\n",
              "</table>\n",
              "</div>"
            ],
            "text/plain": [
              "       Country  Year  ... Income composition of resources  Schooling\n",
              "0  Afghanistan  2015  ...                           0.479       10.1\n",
              "1  Afghanistan  2014  ...                           0.476       10.0\n",
              "2  Afghanistan  2013  ...                           0.470        9.9\n",
              "3  Afghanistan  2012  ...                           0.463        9.8\n",
              "4  Afghanistan  2011  ...                           0.454        9.5\n",
              "\n",
              "[5 rows x 22 columns]"
            ]
          },
          "metadata": {
            "tags": []
          },
          "execution_count": 51
        }
      ]
    },
    {
      "cell_type": "code",
      "metadata": {
        "id": "Da2arfDeOvX_",
        "colab": {
          "base_uri": "https://localhost:8080/"
        },
        "outputId": "0c1c3ab9-e864-4cf2-ff36-7a48f13aab5a"
      },
      "source": [
        "# how many rows and columns are in the dataset\n",
        "df.shape # looks like 2938 rows and 22 columns"
      ],
      "execution_count": 52,
      "outputs": [
        {
          "output_type": "execute_result",
          "data": {
            "text/plain": [
              "(2938, 22)"
            ]
          },
          "metadata": {
            "tags": []
          },
          "execution_count": 52
        }
      ]
    },
    {
      "cell_type": "code",
      "metadata": {
        "id": "VQXvyqba3kwQ",
        "colab": {
          "base_uri": "https://localhost:8080/",
          "height": 279
        },
        "outputId": "1e37fd98-3937-4f18-8067-59a11283bb42"
      },
      "source": [
        "# visualize a scatter plot of Schooling and Life expectancy\n",
        "df.plot.scatter(x='Schooling', y='Life expectancy');"
      ],
      "execution_count": 53,
      "outputs": [
        {
          "output_type": "display_data",
          "data": {
            "image/png": "[encoded data removed]",
            "text/plain": [
              "<Figure size 432x288 with 1 Axes>"
            ]
          },
          "metadata": {
            "tags": [],
            "needs_background": "light"
          }
        }
      ]
    },
    {
      "cell_type": "markdown",
      "metadata": {
        "id": "qy1530ik8b1T"
      },
      "source": [
        "The relationship between number of years of schooling and life expectancy seems relatively linear. Let's build a linear model to predict life expectancy using the number of years in schooling feature. Before we do, we need to prepare the training and test dataset our model will use. Especially, we see here that there are data points that have 0 years of schooling that are different from others, these data points are called *outliers*.\n",
        "\n",
        "We will look at these outliers then delete it from the dataframe and any rows with missing values to build the linear model. This process of removing values of the dataset is called *cleaning* the data."
      ]
    },
    {
      "cell_type": "code",
      "metadata": {
        "colab": {
          "base_uri": "https://localhost:8080/"
        },
        "id": "yeTo_tqnUX_7",
        "outputId": "6ad7daac-6169-419a-b332-4a3b1f771596"
      },
      "source": [
        "# Looking at the countries with 0 years of schooling\n",
        "df.loc[df.Schooling == 0.0, 'Country'].value_counts()"
      ],
      "execution_count": 54,
      "outputs": [
        {
          "output_type": "execute_result",
          "data": {
            "text/plain": [
              "South Sudan                         11\n",
              "Antigua and Barbuda                  6\n",
              "Montenegro                           4\n",
              "Turkmenistan                         1\n",
              "Tuvalu                               1\n",
              "Equatorial Guinea                    1\n",
              "Bosnia and Herzegovina               1\n",
              "Timor-Leste                          1\n",
              "Marshall Islands                     1\n",
              "Micronesia (Federated States of)     1\n",
              "Name: Country, dtype: int64"
            ]
          },
          "metadata": {
            "tags": []
          },
          "execution_count": 54
        }
      ]
    },
    {
      "cell_type": "code",
      "metadata": {
        "colab": {
          "base_uri": "https://localhost:8080/",
          "height": 279
        },
        "id": "JgJNWIHBVi2a",
        "outputId": "6f4d7bb6-16bc-474f-abce-357289468f98"
      },
      "source": [
        "# Removing those rows above with 0 years of schooling\n",
        "df = df.loc[df.Schooling > 0.0, :]\n",
        "\n",
        "# Removing rows that have missing values for the columns of schooling and life expectancy\n",
        "df = df.loc[~(df.Schooling.isna() | df['Life expectancy'].isna()), :]\n",
        "# Plotting the same plot again\n",
        "df.plot.scatter(x='Schooling', y='Life expectancy');"
      ],
      "execution_count": 55,
      "outputs": [
        {
          "output_type": "display_data",
          "data": {
            "image/png": "[encoded data removed]",
            "text/plain": [
              "<Figure size 432x288 with 1 Axes>"
            ]
          },
          "metadata": {
            "tags": [],
            "needs_background": "light"
          }
        }
      ]
    },
    {
      "cell_type": "code",
      "metadata": {
        "colab": {
          "base_uri": "https://localhost:8080/"
        },
        "id": "n23oefstcACx",
        "outputId": "eb85b33a-0c7f-461c-92a0-1016a5a17b92"
      },
      "source": [
        "df.info()"
      ],
      "execution_count": 56,
      "outputs": [
        {
          "output_type": "stream",
          "text": [
            "<class 'pandas.core.frame.DataFrame'>\n",
            "Int64Index: 2742 entries, 0 to 2937\n",
            "Data columns (total 22 columns):\n",
            " #   Column                           Non-Null Count  Dtype  \n",
            "---  ------                           --------------  -----  \n",
            " 0   Country                          2742 non-null   object \n",
            " 1   Year                             2742 non-null   int64  \n",
            " 2   Status                           2742 non-null   object \n",
            " 3   Life expectancy                  2742 non-null   float64\n",
            " 4   Adult Mortality                  2742 non-null   float64\n",
            " 5   infant deaths                    2742 non-null   int64  \n",
            " 6   Alcohol                          2569 non-null   float64\n",
            " 7   percentage expenditure           2742 non-null   float64\n",
            " 8   Hepatitis B                      2253 non-null   float64\n",
            " 9   Measles                          2742 non-null   int64  \n",
            " 10  BMI                              2721 non-null   float64\n",
            " 11  under-five deaths                2742 non-null   int64  \n",
            " 12  Polio                            2739 non-null   float64\n",
            " 13  Total expenditure                2567 non-null   float64\n",
            " 14  Diphtheria                       2739 non-null   float64\n",
            " 15  HIV/AIDS                         2742 non-null   float64\n",
            " 16  GDP                              2465 non-null   float64\n",
            " 17  Population                       2265 non-null   float64\n",
            " 18  thinness  1-19 years             2721 non-null   float64\n",
            " 19  thinness 5-9 years               2721 non-null   float64\n",
            " 20  Income composition of resources  2742 non-null   float64\n",
            " 21  Schooling                        2742 non-null   float64\n",
            "dtypes: float64(16), int64(4), object(2)\n",
            "memory usage: 492.7+ KB\n"
          ],
          "name": "stdout"
        }
      ]
    },
    {
      "cell_type": "markdown",
      "metadata": {
        "id": "dEf5NMjYkGCB"
      },
      "source": [
        "## Prepare the Dataset "
      ]
    },
    {
      "cell_type": "code",
      "metadata": {
        "id": "d_zSR0HP9CHq",
        "colab": {
          "base_uri": "https://localhost:8080/"
        },
        "outputId": "d3861968-5281-4e25-b432-fba355d3772e"
      },
      "source": [
        "# define the x and y variables \n",
        "x_col = 'Schooling'\n",
        "y_col = 'Life expectancy'\n",
        "\n",
        "# split the dataset into a training set and a test set.\n",
        "# we will use the test set in the final evaluation of our model.\n",
        "train = df.sample(frac=0.8, random_state=0)\n",
        "test = df.drop(train.index)\n",
        "\n",
        "# Splitting training data into validation data\n",
        "valid = train.sample(frac=0.1, random_state=0)\n",
        "train = train.drop(valid.index) # Deleting rows sampled for validation data\n",
        "\n",
        "# separate the x (features) and y (labels) in the train/valid/test datasets\n",
        "train_features = torch.tensor(train[x_col].values.reshape(-1, 1), dtype=torch.float)\n",
        "test_features = torch.tensor(test[x_col].values.reshape(-1, 1), dtype=torch.float)\n",
        "valid_features = torch.tensor(valid[x_col].values.reshape(-1, 1), dtype=torch.float)\n",
        "\n",
        "train_labels = torch.tensor(train[y_col].values.reshape(-1, 1), dtype=torch.float)\n",
        "test_labels = torch.tensor(test[y_col].values.reshape(-1, 1), dtype=torch.float)\n",
        "valid_labels = torch.tensor(valid[y_col].values.reshape(-1, 1), dtype=torch.float)\n",
        "\n",
        "print('train features shape:', train_features.shape)\n",
        "print('train labels shape:', train_labels.shape)\n",
        "\n",
        "print('validation features shape:', valid_features.shape)\n",
        "print('validation labels shape:', valid_labels.shape)\n",
        "\n",
        "print('test features shape:', test_features.shape)\n",
        "print('test labels shape:', test_labels.shape)\n",
        "\n",
        "print('first 5 test labels:\\n', test_labels[:5])"
      ],
      "execution_count": 57,
      "outputs": [
        {
          "output_type": "stream",
          "text": [
            "train features shape: torch.Size([1975, 1])\n",
            "train labels shape: torch.Size([1975, 1])\n",
            "validation features shape: torch.Size([219, 1])\n",
            "validation labels shape: torch.Size([219, 1])\n",
            "test features shape: torch.Size([548, 1])\n",
            "test labels shape: torch.Size([548, 1])\n",
            "first 5 test labels:\n",
            " tensor([[65.0000],\n",
            "        [59.5000],\n",
            "        [58.1000],\n",
            "        [76.2000],\n",
            "        [75.9000]])\n"
          ],
          "name": "stdout"
        }
      ]
    },
    {
      "cell_type": "markdown",
      "metadata": {
        "id": "q5fnwk72hSBj"
      },
      "source": [
        "The above code returns a training, validation, and test datasets. The Schooling variable represents the  *features* data and the Life expectancy variable represents the *labels*. There are three datasets--a *training dataset*, a *validation dataset* and a *test dataset*. The `train_features` and `train_labels` arrays represent the features and labels of the training dataset, each containing 1978 rows and 1 column. The `valid_features` and `valid_labels` arrays represent the features and labels of the validation dataset, each containing 220 rows and 1 column.  The `test_features` and `test_labels` arrays represent the features and labels of the test dataset, each containing 549 rows and 1 column.  \n",
        "\n",
        "Now that we have the *features* and *labels* separated, we are ready to build our model!"
      ]
    },
    {
      "cell_type": "markdown",
      "metadata": {
        "id": "_Qod9zI2I4iw"
      },
      "source": [
        "## 2. Building a model\n",
        "\n",
        "Before we model the relationship between Schooling and Life expectancy, let's write what we know about single-variable linear regression. In short, single-variable linear regression tries to find a function that best fits our data (i.e., between an $x$ and $y$ variable). It is defined by the following formula: \n",
        "$$\n",
        "y = wx + b\n",
        "$$\n",
        "\n",
        "We can translate this function to our problem to model the relationship between Schooling ($x$) and Life expectancy ($y$) as follows:\n",
        "\n",
        "$$ \n",
        "\\text{Life Expectancy} = w_{\\text{Schooling}} \\cdot \\text{Schooling} + b\n",
        "$$"
      ]
    },
    {
      "cell_type": "markdown",
      "metadata": {
        "id": "YlaNcYLMJz9n"
      },
      "source": [
        "Coding linear regression from scratch can be tedious: we'd need to manually define the parameters (weights and bias), compute gradients, and update the parameters. Fortunately, there are amazing open source libraries we can use to make this process a bit easier.\n",
        "\n",
        "We'll be using [PyTorch](https://pytorch.org/), a Deep Learning library to build and evaluate our linear regression model in the form of neural network. We will create our own `LR_Model` class to define a container for the *layers* of our model. There are two sections to the class, the constructor and the forward method. The constructor is used define the layers, we use using `nn.Linear` class to define those layers. The `forward` method is used to take your input and then you pass that input through your layers to return an output. We don't really need to use this model structure for linear regression (as you saw last lesson). Nonetheless, nearly every model we build in this series will be similar to this lesson so we will use it from here on out.\n"
      ]
    },
    {
      "cell_type": "code",
      "metadata": {
        "id": "jNFNhNUAtBhi",
        "colab": {
          "base_uri": "https://localhost:8080/"
        },
        "outputId": "ae411239-8605-4150-c874-ce7c98b64e16"
      },
      "source": [
        "# build the linear model \n",
        "class LR_Model(nn.Module):\n",
        "    # Defining Constructor\n",
        "    def __init__(self):\n",
        "        super(LR_Model, self).__init__()\n",
        "\n",
        "        # Defining Layers\n",
        "        self.fc1 = nn.Linear(1, 1)\n",
        "\n",
        "    def forward(self, x):\n",
        "        return self.fc1(x)\n",
        "\n",
        "# Initializing model\n",
        "model = LR_Model()\n",
        "\n",
        "print('Model Summary')\n",
        "print(model)"
      ],
      "execution_count": 58,
      "outputs": [
        {
          "output_type": "stream",
          "text": [
            "Model Summary\n",
            "LR_Model(\n",
            "  (fc1): Linear(in_features=1, out_features=1, bias=True)\n",
            ")\n"
          ],
          "name": "stdout"
        }
      ]
    },
    {
      "cell_type": "markdown",
      "metadata": {
        "id": "J4JD6_eLv3IX"
      },
      "source": [
        "<!-- TODO: fix figure to one node -->\n",
        "<figure>\n",
        "<img src='https://d2l.ai/_images/singleneuron.svg' width='50%'></img><figcaption>Linear Regression: a single-layer neural network</figcaption>\n",
        "</figure>\n",
        "\n",
        "The model we defined above is a linear model, we could also call it a single-layer *fully-connected* neural network. We defined it using the [`torch.nn.Linear`](https://pytorch.org/docs/stable/generated/torch.nn.Linear.html#torch.nn.Linear) class. Note that we passed two arguments into the `torch.nn.Linear` class. The first one specifies the input feature dimension, which is 1 (GDP per capita), and the second one is the output feature dimension, which is a single scalar and therefore 1. "
      ]
    },
    {
      "cell_type": "markdown",
      "metadata": {
        "id": "lrLfbaRI5Dbk"
      },
      "source": [
        "### Loss Function\n",
        "\n",
        "After defining the model, we need to configure the *loss function*. We will use the mean squared loss, which returns the averaged loss over samples. Here we use PyTorch built-in Mean Squared Error loss function defined as the class [torch.nn.MSELoss](https://pytorch.org/docs/stable/generated/torch.nn.MSELoss.html#torch.nn.MSELoss)."
      ]
    },
    {
      "cell_type": "code",
      "metadata": {
        "id": "JyPXRk6j1ErK"
      },
      "source": [
        "loss_fn = nn.MSELoss()"
      ],
      "execution_count": 59,
      "outputs": []
    },
    {
      "cell_type": "markdown",
      "metadata": {
        "id": "ZrT8n3sg2jMf"
      },
      "source": [
        "### Optimization Algorithm\n",
        "Now that we have a loss function, we need to define an *opimization algorithm*. Specifically, we will use *stochastic gradient descent* to optimize our model. In other words, we use *stochastic gradient descent* to update the model parameters. We also define the *learning rate* as 0.01. We use [`torch.optim.SGD`](https://pytorch.org/docs/stable/optim.html#torch.optim.SGD) class to be used as the optimizer."
      ]
    },
    {
      "cell_type": "code",
      "metadata": {
        "id": "4k1zwXU53RX9"
      },
      "source": [
        "optimizer = torch.optim.SGD(model.parameters(), lr=0.001)"
      ],
      "execution_count": 60,
      "outputs": []
    },
    {
      "cell_type": "markdown",
      "metadata": {
        "id": "B9EvNw5L5m66"
      },
      "source": [
        "## 4. Train the model\n",
        "Now that we have a model, it's time to train it. We will train the model for 100 *epochs* (i.e., iterations), and record the training losses for every epoch."
      ]
    },
    {
      "cell_type": "code",
      "metadata": {
        "id": "LL64Vo7K6eNS",
        "colab": {
          "base_uri": "https://localhost:8080/"
        },
        "outputId": "de532b22-01a0-4c9d-eeea-1ce6876c8d6e"
      },
      "source": [
        "epochs = 100\n",
        "train_losses = []\n",
        "valid_losses = []\n",
        "for epoch in range(1, epochs+1):\n",
        "\n",
        "    ###################\n",
        "    # train the model #\n",
        "    ###################\n",
        "\n",
        "    # Setting model to train mode\n",
        "    model.train()\n",
        "    \n",
        "    # Setting all gradients to zero\n",
        "    optimizer.zero_grad()\n",
        "\n",
        "    # Calculate Output\n",
        "    train_predictions = model(train_features)\n",
        "        \n",
        "    # Calculate Loss\n",
        "    train_loss = loss_fn(train_predictions, train_labels)\n",
        "\n",
        "    # Calculate Gradients\n",
        "    train_loss.backward()\n",
        "\n",
        "    # Perform Gradient Descent Step\n",
        "    optimizer.step()\n",
        "\n",
        "    ######################    \n",
        "    # validate the model #\n",
        "    ######################\n",
        "\n",
        "    # Setting model to evaluation mode, no parameters will change\n",
        "    model.eval()\n",
        "\n",
        "    # Calculate Output\n",
        "    valid_predictions = model(valid_features)\n",
        "\n",
        "    # Calculate Loss\n",
        "    valid_loss = loss_fn(valid_predictions, valid_labels)\n",
        "\n",
        "    # Saving Losses\n",
        "    train_losses.append(train_loss)\n",
        "    valid_losses.append(valid_loss)\n",
        "\n",
        "\n",
        "    print('Epoch: {} \\tTraining Loss: {:.6f} \\tValidation Loss: {:.6f}'.format(epoch, train_loss, valid_loss))"
      ],
      "execution_count": 61,
      "outputs": [
        {
          "output_type": "stream",
          "text": [
            "Epoch: 1 \tTraining Loss: 4980.453125 \tValidation Loss: 2421.373779\n",
            "Epoch: 2 \tTraining Loss: 2418.057617 \tValidation Loss: 1226.493530\n",
            "Epoch: 3 \tTraining Loss: 1211.239502 \tValidation Loss: 665.239075\n",
            "Epoch: 4 \tTraining Loss: 642.855469 \tValidation Loss: 401.926758\n",
            "Epoch: 5 \tTraining Loss: 375.152161 \tValidation Loss: 278.609833\n",
            "Epoch: 6 \tTraining Loss: 249.059174 \tValidation Loss: 221.002777\n",
            "Epoch: 7 \tTraining Loss: 189.660004 \tValidation Loss: 194.189743\n",
            "Epoch: 8 \tTraining Loss: 161.671387 \tValidation Loss: 181.774612\n",
            "Epoch: 9 \tTraining Loss: 148.476166 \tValidation Loss: 176.068222\n",
            "Epoch: 10 \tTraining Loss: 142.248062 \tValidation Loss: 173.472031\n",
            "Epoch: 11 \tTraining Loss: 139.301346 \tValidation Loss: 172.306595\n",
            "Epoch: 12 \tTraining Loss: 137.899963 \tValidation Loss: 171.791733\n",
            "Epoch: 13 \tTraining Loss: 137.226425 \tValidation Loss: 171.567291\n",
            "Epoch: 14 \tTraining Loss: 136.895706 \tValidation Loss: 171.468643\n",
            "Epoch: 15 \tTraining Loss: 136.726410 \tValidation Loss: 171.421661\n",
            "Epoch: 16 \tTraining Loss: 136.633148 \tValidation Loss: 171.393906\n",
            "Epoch: 17 \tTraining Loss: 136.575668 \tValidation Loss: 171.371689\n",
            "Epoch: 18 \tTraining Loss: 136.535095 \tValidation Loss: 171.349594\n",
            "Epoch: 19 \tTraining Loss: 136.502502 \tValidation Loss: 171.325882\n",
            "Epoch: 20 \tTraining Loss: 136.473587 \tValidation Loss: 171.300354\n",
            "Epoch: 21 \tTraining Loss: 136.446518 \tValidation Loss: 171.273087\n",
            "Epoch: 22 \tTraining Loss: 136.420258 \tValidation Loss: 171.244492\n",
            "Epoch: 23 \tTraining Loss: 136.394333 \tValidation Loss: 171.214951\n",
            "Epoch: 24 \tTraining Loss: 136.368668 \tValidation Loss: 171.184662\n",
            "Epoch: 25 \tTraining Loss: 136.343079 \tValidation Loss: 171.153854\n",
            "Epoch: 26 \tTraining Loss: 136.317520 \tValidation Loss: 171.122742\n",
            "Epoch: 27 \tTraining Loss: 136.292007 \tValidation Loss: 171.091354\n",
            "Epoch: 28 \tTraining Loss: 136.266525 \tValidation Loss: 171.059799\n",
            "Epoch: 29 \tTraining Loss: 136.241013 \tValidation Loss: 171.028122\n",
            "Epoch: 30 \tTraining Loss: 136.215500 \tValidation Loss: 170.996384\n",
            "Epoch: 31 \tTraining Loss: 136.190048 \tValidation Loss: 170.964615\n",
            "Epoch: 32 \tTraining Loss: 136.164566 \tValidation Loss: 170.932831\n",
            "Epoch: 33 \tTraining Loss: 136.139130 \tValidation Loss: 170.900955\n",
            "Epoch: 34 \tTraining Loss: 136.113647 \tValidation Loss: 170.869095\n",
            "Epoch: 35 \tTraining Loss: 136.088181 \tValidation Loss: 170.837234\n",
            "Epoch: 36 \tTraining Loss: 136.062759 \tValidation Loss: 170.805389\n",
            "Epoch: 37 \tTraining Loss: 136.037308 \tValidation Loss: 170.773514\n",
            "Epoch: 38 \tTraining Loss: 136.011887 \tValidation Loss: 170.741669\n",
            "Epoch: 39 \tTraining Loss: 135.986450 \tValidation Loss: 170.709808\n",
            "Epoch: 40 \tTraining Loss: 135.961029 \tValidation Loss: 170.677994\n",
            "Epoch: 41 \tTraining Loss: 135.935654 \tValidation Loss: 170.646118\n",
            "Epoch: 42 \tTraining Loss: 135.910187 \tValidation Loss: 170.614304\n",
            "Epoch: 43 \tTraining Loss: 135.884796 \tValidation Loss: 170.582489\n",
            "Epoch: 44 \tTraining Loss: 135.859451 \tValidation Loss: 170.550659\n",
            "Epoch: 45 \tTraining Loss: 135.834015 \tValidation Loss: 170.518875\n",
            "Epoch: 46 \tTraining Loss: 135.808670 \tValidation Loss: 170.487076\n",
            "Epoch: 47 \tTraining Loss: 135.783279 \tValidation Loss: 170.455276\n",
            "Epoch: 48 \tTraining Loss: 135.757904 \tValidation Loss: 170.423477\n",
            "Epoch: 49 \tTraining Loss: 135.732544 \tValidation Loss: 170.391678\n",
            "Epoch: 50 \tTraining Loss: 135.707153 \tValidation Loss: 170.359924\n",
            "Epoch: 51 \tTraining Loss: 135.681808 \tValidation Loss: 170.328156\n",
            "Epoch: 52 \tTraining Loss: 135.656479 \tValidation Loss: 170.296432\n",
            "Epoch: 53 \tTraining Loss: 135.631149 \tValidation Loss: 170.264664\n",
            "Epoch: 54 \tTraining Loss: 135.605820 \tValidation Loss: 170.232895\n",
            "Epoch: 55 \tTraining Loss: 135.580475 \tValidation Loss: 170.201202\n",
            "Epoch: 56 \tTraining Loss: 135.555176 \tValidation Loss: 170.169449\n",
            "Epoch: 57 \tTraining Loss: 135.529846 \tValidation Loss: 170.137756\n",
            "Epoch: 58 \tTraining Loss: 135.504562 \tValidation Loss: 170.106033\n",
            "Epoch: 59 \tTraining Loss: 135.479248 \tValidation Loss: 170.074326\n",
            "Epoch: 60 \tTraining Loss: 135.453934 \tValidation Loss: 170.042664\n",
            "Epoch: 61 \tTraining Loss: 135.428680 \tValidation Loss: 170.010986\n",
            "Epoch: 62 \tTraining Loss: 135.403412 \tValidation Loss: 169.979309\n",
            "Epoch: 63 \tTraining Loss: 135.378128 \tValidation Loss: 169.947632\n",
            "Epoch: 64 \tTraining Loss: 135.352844 \tValidation Loss: 169.915955\n",
            "Epoch: 65 \tTraining Loss: 135.327560 \tValidation Loss: 169.884308\n",
            "Epoch: 66 \tTraining Loss: 135.302322 \tValidation Loss: 169.852646\n",
            "Epoch: 67 \tTraining Loss: 135.277069 \tValidation Loss: 169.821030\n",
            "Epoch: 68 \tTraining Loss: 135.251846 \tValidation Loss: 169.789368\n",
            "Epoch: 69 \tTraining Loss: 135.226593 \tValidation Loss: 169.757736\n",
            "Epoch: 70 \tTraining Loss: 135.201340 \tValidation Loss: 169.726135\n",
            "Epoch: 71 \tTraining Loss: 135.176132 \tValidation Loss: 169.694534\n",
            "Epoch: 72 \tTraining Loss: 135.150925 \tValidation Loss: 169.662918\n",
            "Epoch: 73 \tTraining Loss: 135.125717 \tValidation Loss: 169.631317\n",
            "Epoch: 74 \tTraining Loss: 135.100479 \tValidation Loss: 169.599747\n",
            "Epoch: 75 \tTraining Loss: 135.075287 \tValidation Loss: 169.568161\n",
            "Epoch: 76 \tTraining Loss: 135.050095 \tValidation Loss: 169.536591\n",
            "Epoch: 77 \tTraining Loss: 135.024918 \tValidation Loss: 169.505051\n",
            "Epoch: 78 \tTraining Loss: 134.999725 \tValidation Loss: 169.473511\n",
            "Epoch: 79 \tTraining Loss: 134.974594 \tValidation Loss: 169.441940\n",
            "Epoch: 80 \tTraining Loss: 134.949402 \tValidation Loss: 169.410385\n",
            "Epoch: 81 \tTraining Loss: 134.924271 \tValidation Loss: 169.378845\n",
            "Epoch: 82 \tTraining Loss: 134.899078 \tValidation Loss: 169.347351\n",
            "Epoch: 83 \tTraining Loss: 134.873962 \tValidation Loss: 169.315811\n",
            "Epoch: 84 \tTraining Loss: 134.848785 \tValidation Loss: 169.284302\n",
            "Epoch: 85 \tTraining Loss: 134.823654 \tValidation Loss: 169.252808\n",
            "Epoch: 86 \tTraining Loss: 134.798523 \tValidation Loss: 169.221313\n",
            "Epoch: 87 \tTraining Loss: 134.773407 \tValidation Loss: 169.189835\n",
            "Epoch: 88 \tTraining Loss: 134.748276 \tValidation Loss: 169.158356\n",
            "Epoch: 89 \tTraining Loss: 134.723175 \tValidation Loss: 169.126877\n",
            "Epoch: 90 \tTraining Loss: 134.698059 \tValidation Loss: 169.095428\n",
            "Epoch: 91 \tTraining Loss: 134.672974 \tValidation Loss: 169.063950\n",
            "Epoch: 92 \tTraining Loss: 134.647858 \tValidation Loss: 169.032532\n",
            "Epoch: 93 \tTraining Loss: 134.622803 \tValidation Loss: 169.001068\n",
            "Epoch: 94 \tTraining Loss: 134.597702 \tValidation Loss: 168.969620\n",
            "Epoch: 95 \tTraining Loss: 134.572662 \tValidation Loss: 168.938202\n",
            "Epoch: 96 \tTraining Loss: 134.547562 \tValidation Loss: 168.906784\n",
            "Epoch: 97 \tTraining Loss: 134.522507 \tValidation Loss: 168.875351\n",
            "Epoch: 98 \tTraining Loss: 134.497452 \tValidation Loss: 168.843948\n",
            "Epoch: 99 \tTraining Loss: 134.472397 \tValidation Loss: 168.812576\n",
            "Epoch: 100 \tTraining Loss: 134.447357 \tValidation Loss: 168.781174\n"
          ],
          "name": "stdout"
        }
      ]
    },
    {
      "cell_type": "markdown",
      "metadata": {
        "id": "-xv6IaPv8FcV"
      },
      "source": [
        "We get to ~168 validation mean squared error after training for 100 epochs on the training dataset. Let's check the model's training progress by looking at a plot of the validation loss.\n",
        "\n"
      ]
    },
    {
      "cell_type": "markdown",
      "metadata": {
        "id": "tQSZuns88fhs"
      },
      "source": [
        "Let's visualize it too."
      ]
    },
    {
      "cell_type": "code",
      "metadata": {
        "id": "DuNpvE5C8eOr",
        "colab": {
          "base_uri": "https://localhost:8080/",
          "height": 295
        },
        "outputId": "3edfe3b0-3926-4370-96e7-d0bd6c51c213"
      },
      "source": [
        "#hist.plot.line(x='epoch', y='val_mean_squared_error');\n",
        "plt.plot(valid_losses)\n",
        "plt.xlabel('epoch')\n",
        "plt.ylabel('Mean Squared Error')\n",
        "plt.title('Validation Loss')\n",
        "plt.show()"
      ],
      "execution_count": 62,
      "outputs": [
        {
          "output_type": "display_data",
          "data": {
            "image/png": "[encoded data removed]",
            "text/plain": [
              "<Figure size 432x288 with 1 Axes>"
            ]
          },
          "metadata": {
            "tags": [],
            "needs_background": "light"
          }
        }
      ]
    },
    {
      "cell_type": "markdown",
      "metadata": {
        "id": "NDqDbYQc-b1m"
      },
      "source": [
        "From the plot we can see that our model *converged* just before the 30th epoch. In other words, the most optimal parameters (weights and bias)were found ofter 10 training iterations. "
      ]
    },
    {
      "cell_type": "markdown",
      "metadata": {
        "id": "de62RpCv_ion"
      },
      "source": [
        "## 5. Evaluate the model\n",
        "Now that we trained our model, it's time to evaluate it by using the *test* dataset, which we did not use when training the model. This gives us a sense of how well our model predicts unseen data, which is the case when we use it in the real world. We will use the `evaluate` method to test the model. "
      ]
    },
    {
      "cell_type": "code",
      "metadata": {
        "id": "qn9i35lI_h6L",
        "colab": {
          "base_uri": "https://localhost:8080/"
        },
        "outputId": "1d4d73d8-a711-41f8-8e90-d8dd385f0dec"
      },
      "source": [
        "# Setting model to evaluation mode\n",
        "model.eval()\n",
        "\n",
        "# Getting Predictions\n",
        "test_predictions = model(test_features)\n",
        "\n",
        "# Calculating loss, which is the Mean Squared Error\n",
        "loss = loss_fn(test_predictions, test_labels)\n",
        "\n",
        "print('Test set Mean Absolute Error: ', round(loss.item(), 4))"
      ],
      "execution_count": 63,
      "outputs": [
        {
          "output_type": "stream",
          "text": [
            "Test set Mean Absolute Error:  131.6927\n"
          ],
          "name": "stdout"
        }
      ]
    },
    {
      "cell_type": "markdown",
      "metadata": {
        "id": "-Oex24IXB8Ku"
      },
      "source": [
        "The mean squared error is around ~133 for the testind data. Is this good? We'll leave that decision up to you. Let's also visualize the prediction and real life expectancy values using data in the test set."
      ]
    },
    {
      "cell_type": "code",
      "metadata": {
        "id": "hfYGBlJOCgkf",
        "colab": {
          "base_uri": "https://localhost:8080/",
          "height": 283
        },
        "outputId": "d5400979-01a6-4d27-97a6-af15a283a8c4"
      },
      "source": [
        "# Flattening test predictions\n",
        "test_predictions = test_predictions.flatten().detach().numpy()\n",
        "\n",
        "# Getting higher boundary\n",
        "if max(test_labels) < max(train_labels):\n",
        "    higher_boundary_lim = int(max(train_labels))\n",
        "else:\n",
        "    higher_boundary_lim = int(max(test_labels))\n",
        "\n",
        "ax = plt.axes(aspect='equal')\n",
        "plt.scatter(test_labels, test_predictions)\n",
        "plt.xlabel('True Values [Life Expectancy]')\n",
        "plt.ylabel('Predictions [Life Expectancy]')\n",
        "\n",
        "lims = [0, higher_boundary_lim + 1] # [0, 90]\n",
        "plt.xlim(lims)\n",
        "plt.ylim(lims)\n",
        "_ = plt.plot(lims, lims)"
      ],
      "execution_count": 64,
      "outputs": [
        {
          "output_type": "display_data",
          "data": {
            "image/png": "[encoded data removed]",
            "text/plain": [
              "<Figure size 432x288 with 1 Axes>"
            ]
          },
          "metadata": {
            "tags": [],
            "needs_background": "light"
          }
        }
      ]
    },
    {
      "cell_type": "markdown",
      "metadata": {
        "id": "f5c_PyRzDdL9"
      },
      "source": [
        "It looks like our model predicts reasonably well but it could be better. Let's take a look at the error distribution."
      ]
    },
    {
      "cell_type": "code",
      "metadata": {
        "id": "40XijR03DrET",
        "colab": {
          "base_uri": "https://localhost:8080/",
          "height": 279
        },
        "outputId": "95ded42b-6a18-41bd-e791-ffcfd9d9aacc"
      },
      "source": [
        "error = test_predictions - test_labels.flatten().detach().numpy()\n",
        "plt.hist(error, bins = 10)\n",
        "plt.xlabel(\"Prediction Error [Life Expectancy]\")\n",
        "_ = plt.ylabel(\"Count\")"
      ],
      "execution_count": 65,
      "outputs": [
        {
          "output_type": "display_data",
          "data": {
            "image/png": "[encoded data removed]",
            "text/plain": [
              "<Figure size 432x288 with 1 Axes>"
            ]
          },
          "metadata": {
            "tags": [],
            "needs_background": "light"
          }
        }
      ]
    },
    {
      "cell_type": "markdown",
      "metadata": {
        "id": "Ij1MDhAbEpZ6"
      },
      "source": [
        "The histogram shows that the errors aren't quite *Normally distributed* (also called *gaussian*), but we might expect that because the number of samples is very small."
      ]
    },
    {
      "cell_type": "markdown",
      "metadata": {
        "id": "vd6RuVz5FDZM"
      },
      "source": [
        "## 6. Draw Conclusions\n",
        "We built a single-layer fully-connected neural network model to predict life expectancy given a country's education system. The model converged after about 10 epochs of training, and it achieved a mean squared error of ~168. We expect that a *deeper* model or more data samples or features could lead to better results on unseen data.     "
      ]
    },
    {
      "cell_type": "markdown",
      "metadata": {
        "id": "wTQXVOX3GITZ"
      },
      "source": [
        "# Summary\n",
        "In this lesson we took a deeper dive into regression, translating traditional linear  regression into a single-layer fully-connected neural network. We covered several important techniques to handle regression problems:\n",
        "- Introduced *loss functions* and *optimization algorithms*.\n",
        "- Demonstrated preparing data for a model.\n",
        "- Used PyTorch to build and train a model. \n",
        "- Showed how to evaluate a model."
      ]
    },
    {
      "cell_type": "code",
      "metadata": {
        "id": "UCOUYOD8VExr"
      },
      "source": [
        ""
      ],
      "execution_count": 65,
      "outputs": []
    }
  ]
}