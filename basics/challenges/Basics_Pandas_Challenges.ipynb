{
  "nbformat": 4,
  "nbformat_minor": 0,
  "metadata": {
    "colab": {
      "name": "Basics_Pandas_Challenges.ipynb",
      "provenance": [],
      "authorship_tag": "ABX9TyPY5r8XC9v0r1S6MjUrAO3f",
      "include_colab_link": true
    },
    "kernelspec": {
      "name": "python3",
      "display_name": "Python 3"
    },
    "language_info": {
      "name": "python"
    }
  },
  "cells": [
    {
      "cell_type": "markdown",
      "metadata": {
        "id": "view-in-github",
        "colab_type": "text"
      },
      "source": [
        "<a href=\"https://colab.research.google.com/github/BreakoutMentors/Data-Science-and-Machine-Learning/blob/adam-basic-challenges/basics/challenges/Basics_Pandas_Challenges.ipynb\" target=\"_parent\"><img src=\"https://colab.research.google.com/assets/colab-badge.svg\" alt=\"Open In Colab\"/></a>"
      ]
    },
    {
      "cell_type": "markdown",
      "metadata": {
        "id": "H9sFywNjyVoy"
      },
      "source": [
        "> Note: Always open in Colab for the best learning experience."
      ]
    },
    {
      "cell_type": "markdown",
      "metadata": {
        "id": "iSe6ZDCvgq2P"
      },
      "source": [
        "# Pandas Challenge\n",
        "\n",
        "Here you will apply your knowledge from the lesson to play around with pandas even more!"
      ]
    },
    {
      "cell_type": "code",
      "metadata": {
        "id": "54DNdP9LdpdZ"
      },
      "source": [
        "import numpy as np\n",
        "import pandas as pd\n",
        "\n",
        "import IPython.display as ipd\n",
        "\n",
        "def display_series(series):\n",
        "    ipd.display(series)\n",
        "\n",
        "def display_df(df):\n",
        "    ipd.display(ipd.HTML(df.to_html()))"
      ],
      "execution_count": 1,
      "outputs": []
    },
    {
      "cell_type": "markdown",
      "metadata": {
        "id": "cXyNHJSKfLNv"
      },
      "source": [
        "## Working with Pandas Series"
      ]
    },
    {
      "cell_type": "code",
      "metadata": {
        "colab": {
          "base_uri": "https://localhost:8080/"
        },
        "id": "-L1QCBcPfJAE",
        "outputId": "8af95e92-7339-442c-bea2-da2a9afa0d25"
      },
      "source": [
        "arr = np.random.randint(low=0, high=100, size = 30)\n",
        "print(arr)\n",
        "\n",
        "# TODO: Create a pandas series from the numpy array arr\n",
        "s = #\n",
        "\n",
        "# TODO: Calculate the mean, median, and standard deviation(std) for the series"
      ],
      "execution_count": 8,
      "outputs": [
        {
          "output_type": "stream",
          "text": [
            "[16  9 98  3  8  1 62 94 40 42 47 19 72 92 47 33 72 67 70 49 27  0 72 78\n",
            " 11 59 13 80 18 33]\n"
          ],
          "name": "stdout"
        }
      ]
    },
    {
      "cell_type": "code",
      "metadata": {
        "id": "z1j3QcuUgCTC"
      },
      "source": [
        "# TODO: Slice array arr to get the last 4 values\n",
        "\n",
        "# TODO: Slice the array arr to get the elements greater than its mean"
      ],
      "execution_count": null,
      "outputs": []
    },
    {
      "cell_type": "code",
      "metadata": {
        "id": "NBuLnVm7hU9q"
      },
      "source": [
        "# TODO: Add the number 5 to every number in array arr\n",
        "add5_series = #"
      ],
      "execution_count": null,
      "outputs": []
    },
    {
      "cell_type": "markdown",
      "metadata": {
        "id": "nWEffxoDhiJf"
      },
      "source": [
        "## Working with Dataframe"
      ]
    },
    {
      "cell_type": "code",
      "metadata": {
        "id": "4cvwohtGhkUp"
      },
      "source": [
        "# TODO: Create a dictionary with arr and add5_series for new Dataframe\n",
        "data_dict = {}\n",
        "\n",
        "# TODO: Use data_dict to build dataframe\n",
        "df = "
      ],
      "execution_count": null,
      "outputs": []
    },
    {
      "cell_type": "code",
      "metadata": {
        "id": "-0kdQY5Roe8E"
      },
      "source": [
        "# TODO: View the index of df"
      ],
      "execution_count": null,
      "outputs": []
    },
    {
      "cell_type": "code",
      "metadata": {
        "id": "URJTWiIQo6Oi"
      },
      "source": [
        "# TODO: View columns of df"
      ],
      "execution_count": null,
      "outputs": []
    },
    {
      "cell_type": "code",
      "metadata": {
        "id": "yEdgN8L5o6Jh"
      },
      "source": [
        "# TODO: Create a column called 'times3' where you multiply series 's' by 5"
      ],
      "execution_count": null,
      "outputs": []
    },
    {
      "cell_type": "code",
      "metadata": {
        "id": "e6zCrzRjpkoX"
      },
      "source": [
        "# TODO: Select two columns from df that you choose"
      ],
      "execution_count": null,
      "outputs": []
    },
    {
      "cell_type": "code",
      "metadata": {
        "id": "cUiwCtZrp4JY"
      },
      "source": [
        "# TODO: Select the rows where the numbers in the original s column is less than the mean of the 'times3' column"
      ],
      "execution_count": null,
      "outputs": []
    },
    {
      "cell_type": "code",
      "metadata": {
        "id": "OLNjsHENqgRl"
      },
      "source": [
        "# TODO: Use .head() method to look at the first 5 rows"
      ],
      "execution_count": null,
      "outputs": []
    },
    {
      "cell_type": "code",
      "metadata": {
        "id": "iQnig2ILqrE8"
      },
      "source": [
        "# TODO: Use .shape attribute to look at the number of rows and cols that df has"
      ],
      "execution_count": 9,
      "outputs": []
    },
    {
      "cell_type": "code",
      "metadata": {
        "id": "S7-4jPuVqyw_"
      },
      "source": [
        "# TODO: Use .loc[] to select rows 10-15"
      ],
      "execution_count": null,
      "outputs": []
    },
    {
      "cell_type": "code",
      "metadata": {
        "id": "jamDouYHq-0F"
      },
      "source": [
        "# TODO: Use .loc[] to select a column and then use .nunique() and .value_counts() on that column separately"
      ],
      "execution_count": null,
      "outputs": []
    },
    {
      "cell_type": "code",
      "metadata": {
        "id": "Hat2ktUtsK6h"
      },
      "source": [
        "# TODO: View the distribution of one column using a histogram (.hist())"
      ],
      "execution_count": null,
      "outputs": []
    },
    {
      "cell_type": "code",
      "metadata": {
        "id": "zIyhpaBEvMTg"
      },
      "source": [
        "# TODO: Create a scatterplot of two columns"
      ],
      "execution_count": null,
      "outputs": []
    },
    {
      "cell_type": "code",
      "metadata": {
        "id": "9uDyA6ByvRpt"
      },
      "source": [
        "# TODO: Concatenate the two df's together both column-wise and row-wise separately"
      ],
      "execution_count": null,
      "outputs": []
    },
    {
      "cell_type": "code",
      "metadata": {
        "id": "68xmiCFIvf9i"
      },
      "source": [
        "# TODO: Create a new column that has the number 10 in all elements"
      ],
      "execution_count": null,
      "outputs": []
    },
    {
      "cell_type": "code",
      "metadata": {
        "id": "sTS7tRfnv5NC"
      },
      "source": [
        "# TODO: Perfom an inner join on the last 'combined' dataframe and 'df' on a specific column"
      ],
      "execution_count": null,
      "outputs": []
    }
  ]
}