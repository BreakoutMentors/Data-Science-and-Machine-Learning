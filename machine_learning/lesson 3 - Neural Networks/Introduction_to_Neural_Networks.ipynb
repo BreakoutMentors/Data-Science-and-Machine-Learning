{
  "nbformat": 4,
  "nbformat_minor": 0,
  "metadata": {
    "colab": {
      "name": "Classification-Neural_Networks.ipynb",
      "provenance": [],
      "authorship_tag": "ABX9TyO1JRHNk7/H0/wPiJ0eAfFU",
      "include_colab_link": true
    },
    "kernelspec": {
      "name": "python3",
      "display_name": "Python 3"
    }
  },
  "cells": [
    {
      "cell_type": "markdown",
      "metadata": {
        "id": "view-in-github",
        "colab_type": "text"
      },
      "source": [
        "<a href=\"https://colab.research.google.com/github/BreakoutMentors/Data-Science-and-Machine-Learning/blob/master/machine_learning/lesson%203%20-%20Neural%20Networks/Introduction_to_Neural_Networks.ipynb\" target=\"_parent\"><img src=\"https://colab.research.google.com/assets/colab-badge.svg\" alt=\"Open In Colab\"/></a>"
      ]
    },
    {
      "cell_type": "markdown",
      "metadata": {
        "id": "r0mauKRSBpNE",
        "colab_type": "text"
      },
      "source": [
        "# Classification: Neural Networks\n",
        "\n",
        "In [lesson 1 - linear regression](https://github.com/krmiddlebrook/intro_to_graphing_in_python/tree/master/notebooks/machine_learning/lesson%201%20-%20linear%20regression), we learned about linear regression and how it can be used to construct a model to predict a *numeric \"continuous\" value* (i.e., how powerful a Pokemon is given their x values/attributes). In [lesson 2 - logistic regression](https://github.com/krmiddlebrook/intro_to_graphing_in_python/blob/master/notebooks/machine_learning/lesson%202%20-%20logistic%20regression/Classification_Logistic_Regression.ipynb), we learned about logistic regression and how it can be used to construct a model to predict a *categorical value*. In this lesson, we will learn about the most successful type of model in recent years: neural networks. Since there are a variety of neural network models, this lesson will focus on teaching you how to create two of these networks 1) the Multi-Layer Perceptron (MLP) network, which is at the basis of modern machine learning networks, and 2) the Convolutional Neural Network (CNN). We will build an MLP network to predict house prices in Boston.  \n"
      ]
    },
    {
      "cell_type": "code",
      "metadata": {
        "id": "43wZbuaHBlOT",
        "colab_type": "code",
        "colab": {}
      },
      "source": [
        ""
      ],
      "execution_count": 0,
      "outputs": []
    }
  ]
}