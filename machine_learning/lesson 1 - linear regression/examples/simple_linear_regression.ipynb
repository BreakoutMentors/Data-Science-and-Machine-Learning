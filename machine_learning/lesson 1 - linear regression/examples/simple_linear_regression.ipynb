{
  "nbformat": 4,
  "nbformat_minor": 0,
  "metadata": {
    "colab": {
      "name": "simple_linear_regression.ipynb",
      "provenance": [],
      "include_colab_link": true
    },
    "kernelspec": {
      "display_name": "Python 3",
      "language": "python",
      "name": "python3"
    },
    "language_info": {
      "codemirror_mode": {
        "name": "ipython",
        "version": 3
      },
      "file_extension": ".py",
      "mimetype": "text/x-python",
      "name": "python",
      "nbconvert_exporter": "python",
      "pygments_lexer": "ipython3",
      "version": "3.7.6"
    }
  },
  "cells": [
    {
      "cell_type": "markdown",
      "metadata": {
        "id": "view-in-github",
        "colab_type": "text"
      },
      "source": [
        "<a href=\"https://colab.research.google.com/github/krmiddlebrook/intro_to_deep_learning/blob/master/machine_learning/lesson%201%20-%20linear%20regression/examples/simple_linear_regression.ipynb\" target=\"_parent\"><img src=\"https://colab.research.google.com/assets/colab-badge.svg\" alt=\"Open In Colab\"/></a>"
      ]
    },
    {
      "cell_type": "markdown",
      "metadata": {
        "colab_type": "text",
        "id": "fgtcQi5cPcFU"
      },
      "source": [
        "# Regression\n",
        "<figure>\n",
        "<img src='https://media.makeameme.org/created/brace-yourself-regression-599599.jpg' width='50%' height='50%'></img>\n",
        "</figure>\n",
        "\n",
        "\n",
        "Perhaps the most natural machine learning task to wrap our heads around is *regression*--a set of methods for modeling the relationship between one or more independent variables (i.e., $x$) and a dependent variable (i.e., $y$). Regression problems pop up whenever we want to output a *numeric* value. \n",
        "\n",
        "Most applications of regression fall into one of the following two broad categories:\n",
        "- *inference* - to explain the relationship between the inputs and outputs (most common).\n",
        "- *prediction* - to predict numeric outputs given inputs (most common in machine learning). \n",
        "\n",
        "A few everyday examples of regression include predicting prices (of homes, stocks, etc.), predicting length of stay (for patients in the hospital), and demand forecasting (for retail sales)."
      ]
    },
    {
      "cell_type": "markdown",
      "metadata": {
        "colab_type": "text",
        "id": "UoeVWX-5j7Gt"
      },
      "source": [
        "## Linear Regression\n",
        "*Linear regression* is probably the simplest and most popular regression method. It is called \"linear\" regression because we **assume** that the relationship between the independent variables $x$ (called *features*) and the dependent variable  $y$ (called *labels*) is linear--that is, $y$ can be expressed as a *weighted sum* of the elements in $x$, plus some *noise* in the data. In mathematical terms this can be expressed as: \n",
        "$$\n",
        "y = wx + b\n",
        "$$\n",
        "\n",
        "where $w$ represents the learnable *weights* and $b$ the *bias* (i.e., you may recognize it as the *intercept*). The weights determine the influence of each feature on the prediction and the bias tells us what the predicted value would be if all the features $x$ values were 0. At a high level, the goal of linear regression is to find the weight estimates and the bias term $b$ that *minimize* the error between the predictions ($\\hat{y}$, $\\hat{}$ pronounced \"hat\") and the real labels ($y$).\n",
        "\n",
        "\n",
        "Adam's Addition:\n",
        "\n",
        "**The real labels ($y$) and predicted labels($\\hat{y}$) are continuous, so it can be any real number. Real numbers are any numbers, including those with decimals.**"
      ]
    },
    {
      "cell_type": "markdown",
      "metadata": {
        "colab_type": "text",
        "id": "_lV-loKm6kLV"
      },
      "source": [
        "## Linear Model\n"
      ]
    },
    {
      "cell_type": "markdown",
      "metadata": {
        "colab_type": "text",
        "id": "mM4R7LoM6kJo"
      },
      "source": [
        "To make the above linear regression formula more concrete, let's translate it to an example. We have acquired a dataset on world happiness. Specifically, we have the [World Happiness dataset](https://www.kaggle.com/unsdsn/world-happiness), which contains the statistics and happiness scores of approximately 150 countries around the globe. We want to construct a single-variable linear model to predict happiness scores using the GDP per capita feature column. The linear regression equation for the model can be expressed as:  \n",
        "$$\n",
        "\\hat{\\text{score}} = w_{\\text{area}} x_{\\text{GDP per capita}} + b \n",
        "$$\n",
        "where $w_{\\text{area}}$ is the learnable *weight* and $b$ is the *bias* (or *intercept*) and $x$ is the value of the GDP per capita for an individual sample. \n",
        "\n",
        "The goal is to choose the weight  $w$  and the bias  b  such that on average, the predictions made according to our model *best fit* the true prices observed in the data."
      ]
    },
    {
      "cell_type": "markdown",
      "metadata": {
        "colab_type": "text",
        "id": "OFv_ek5F8b1D"
      },
      "source": [
        "# Linear Regression: What makes us happy?\n",
        "\n",
        "That's the question we'll try to answer in this notebook. But how? The first step is to find a dataset related to our question. The World Happiness (https://www.kaggle.com/unsdsn/world-happiness) dataset happens to be a great option so we'll us it here. The dataset contains information about the state of global happiness with happiness scores and rankings for almost every country on earth. Pretty cool right!\n",
        "\n",
        "We want to find out what makes us happy. We will use sinlge-variable linear regression to answer this question. In general, when you use any data science method (like linear regression) you'll want to do a few things:\n",
        "\n",
        "1. Explore and visualize the dataset\n",
        "2. Prepare the data for the model\n",
        "3. Build the model\n",
        "4. Train the model\n",
        "5. Evaluate the model\n",
        "6. Draw conclusions\n",
        "\n",
        "We'll start our analysis by exploring the World Happiness dataset."
      ]
    },
    {
      "cell_type": "code",
      "metadata": {
        "colab_type": "code",
        "id": "6QeOZ9rN8b1E",
        "colab": {}
      },
      "source": [
        "# import the libraries we be need\n",
        "import pandas as pd\n",
        "import numpy as np\n",
        "import matplotlib\n",
        "import matplotlib.pyplot as plt\n",
        "\n",
        "# Sklearn\n",
        "from sklearn.linear_model import LinearRegression\n",
        "from sklearn import metrics\n",
        "\n",
        "#Adam's Contribution\n",
        "from sklearn.model_selection import train_test_split"
      ],
      "execution_count": null,
      "outputs": []
    },
    {
      "cell_type": "markdown",
      "metadata": {
        "colab_type": "text",
        "id": "AA78zSFaOlje"
      },
      "source": [
        "## 1. Explore the dataset"
      ]
    },
    {
      "cell_type": "code",
      "metadata": {
        "colab_type": "code",
        "id": "Kmr-AHsN8b1J",
        "colab": {
          "base_uri": "https://localhost:8080/",
          "height": 221
        },
        "outputId": "c00c69fa-442b-4062-c67a-b898ae521704"
      },
      "source": [
        "# load the dataset into a dataframe\n",
        "data_url = 'https://raw.githubusercontent.com/krmiddlebrook/intro_to_deep_learning/master/datasets/world-happiness/2019.csv'\n",
        "happy2019 = pd.read_csv(data_url)\n",
        "happy2019.head() # view the first 5 rows of the data"
      ],
      "execution_count": null,
      "outputs": [
        {
          "output_type": "execute_result",
          "data": {
            "text/html": [
              "<div>\n",
              "<style scoped>\n",
              "    .dataframe tbody tr th:only-of-type {\n",
              "        vertical-align: middle;\n",
              "    }\n",
              "\n",
              "    .dataframe tbody tr th {\n",
              "        vertical-align: top;\n",
              "    }\n",
              "\n",
              "    .dataframe thead th {\n",
              "        text-align: right;\n",
              "    }\n",
              "</style>\n",
              "<table border=\"1\" class=\"dataframe\">\n",
              "  <thead>\n",
              "    <tr style=\"text-align: right;\">\n",
              "      <th></th>\n",
              "      <th>Overall rank</th>\n",
              "      <th>Country or region</th>\n",
              "      <th>Score</th>\n",
              "      <th>GDP per capita</th>\n",
              "      <th>Social support</th>\n",
              "      <th>Healthy life expectancy</th>\n",
              "      <th>Freedom to make life choices</th>\n",
              "      <th>Generosity</th>\n",
              "      <th>Perceptions of corruption</th>\n",
              "    </tr>\n",
              "  </thead>\n",
              "  <tbody>\n",
              "    <tr>\n",
              "      <th>0</th>\n",
              "      <td>1</td>\n",
              "      <td>Finland</td>\n",
              "      <td>7.769</td>\n",
              "      <td>1.340</td>\n",
              "      <td>1.587</td>\n",
              "      <td>0.986</td>\n",
              "      <td>0.596</td>\n",
              "      <td>0.153</td>\n",
              "      <td>0.393</td>\n",
              "    </tr>\n",
              "    <tr>\n",
              "      <th>1</th>\n",
              "      <td>2</td>\n",
              "      <td>Denmark</td>\n",
              "      <td>7.600</td>\n",
              "      <td>1.383</td>\n",
              "      <td>1.573</td>\n",
              "      <td>0.996</td>\n",
              "      <td>0.592</td>\n",
              "      <td>0.252</td>\n",
              "      <td>0.410</td>\n",
              "    </tr>\n",
              "    <tr>\n",
              "      <th>2</th>\n",
              "      <td>3</td>\n",
              "      <td>Norway</td>\n",
              "      <td>7.554</td>\n",
              "      <td>1.488</td>\n",
              "      <td>1.582</td>\n",
              "      <td>1.028</td>\n",
              "      <td>0.603</td>\n",
              "      <td>0.271</td>\n",
              "      <td>0.341</td>\n",
              "    </tr>\n",
              "    <tr>\n",
              "      <th>3</th>\n",
              "      <td>4</td>\n",
              "      <td>Iceland</td>\n",
              "      <td>7.494</td>\n",
              "      <td>1.380</td>\n",
              "      <td>1.624</td>\n",
              "      <td>1.026</td>\n",
              "      <td>0.591</td>\n",
              "      <td>0.354</td>\n",
              "      <td>0.118</td>\n",
              "    </tr>\n",
              "    <tr>\n",
              "      <th>4</th>\n",
              "      <td>5</td>\n",
              "      <td>Netherlands</td>\n",
              "      <td>7.488</td>\n",
              "      <td>1.396</td>\n",
              "      <td>1.522</td>\n",
              "      <td>0.999</td>\n",
              "      <td>0.557</td>\n",
              "      <td>0.322</td>\n",
              "      <td>0.298</td>\n",
              "    </tr>\n",
              "  </tbody>\n",
              "</table>\n",
              "</div>"
            ],
            "text/plain": [
              "   Overall rank Country or region  Score  GDP per capita  Social support  \\\n",
              "0             1           Finland  7.769           1.340           1.587   \n",
              "1             2           Denmark  7.600           1.383           1.573   \n",
              "2             3            Norway  7.554           1.488           1.582   \n",
              "3             4           Iceland  7.494           1.380           1.624   \n",
              "4             5       Netherlands  7.488           1.396           1.522   \n",
              "\n",
              "   Healthy life expectancy  Freedom to make life choices  Generosity  \\\n",
              "0                    0.986                         0.596       0.153   \n",
              "1                    0.996                         0.592       0.252   \n",
              "2                    1.028                         0.603       0.271   \n",
              "3                    1.026                         0.591       0.354   \n",
              "4                    0.999                         0.557       0.322   \n",
              "\n",
              "   Perceptions of corruption  \n",
              "0                      0.393  \n",
              "1                      0.410  \n",
              "2                      0.341  \n",
              "3                      0.118  \n",
              "4                      0.298  "
            ]
          },
          "metadata": {
            "tags": []
          },
          "execution_count": 75
        }
      ]
    },
    {
      "cell_type": "code",
      "metadata": {
        "colab_type": "code",
        "id": "Da2arfDeOvX_",
        "colab": {
          "base_uri": "https://localhost:8080/",
          "height": 34
        },
        "outputId": "00ce03fa-06be-42cd-c369-61402b82f5be"
      },
      "source": [
        "# how many rows and columns are in the dataset\n",
        "happy2019.shape # looks like 156 rows (samples) and 9 columns (features)"
      ],
      "execution_count": null,
      "outputs": [
        {
          "output_type": "execute_result",
          "data": {
            "text/plain": [
              "(156, 9)"
            ]
          },
          "metadata": {
            "tags": []
          },
          "execution_count": 76
        }
      ]
    },
    {
      "cell_type": "markdown",
      "metadata": {
        "colab_type": "text",
        "id": "1UHhojql-utF"
      },
      "source": [
        "## 2. Prepare the data for the model\n",
        "To prepare the dataset for a linear model (or any model really), we need to complete several tasks:\n",
        "1. Define the features ($x$) and labels ($y$) variables\n",
        "2. Split the dataset into a *training* set and a *test* set.\n",
        "3. Separate the features and the labels in the training/test sets.\n"
      ]
    },
    {
      "cell_type": "code",
      "metadata": {
        "colab_type": "code",
        "id": "_byEDAtL8b1P",
        "colab": {
          "base_uri": "https://localhost:8080/",
          "height": 187
        },
        "outputId": "5d73b7db-236e-4567-e872-a814ca50897d"
      },
      "source": [
        "# define the x and y variables \n",
        "x_col = 'GDP per capita'\n",
        "y_col = 'Score'\n",
        "\n",
        "# split the dataset into a training set and a test set.\n",
        "# we will use the test set in the final evaluation of our model.\n",
        "train = happy2019.sample(frac=0.8, random_state=0)\n",
        "test = happy2019.drop(train.index)\n",
        "\n",
        "# separate the x (features) and y (labels) in the train/test datasets\n",
        "train_features = train[x_col].values.reshape(-1, 1)\n",
        "test_features = test[x_col].values.reshape(-1, 1)\n",
        "\n",
        "train_labels = train[y_col].values.reshape(-1, 1)\n",
        "test_labels = test[y_col].values.reshape(-1, 1)\n",
        "\n",
        "# Easier Data Separation\n",
        "#features = happy2019[x_col].values.reshape(-1, 1)\n",
        "#labels = happy2019[y_col].values.reshape(-1, 1)\n",
        "#train_features, test_features, train_labels, test_labels = train_test_split(features, labels, train_size=0.8)\n",
        "\n",
        "\n",
        "print('train features shape:', train_features.shape)\n",
        "print('train labels shape:', train_labels.shape)\n",
        "\n",
        "print('test features shape:', test_features.shape)\n",
        "print('test labels shape:', test_labels.shape)\n",
        "\n",
        "print('first 5 test labels:\\n', test_labels[:5])"
      ],
      "execution_count": null,
      "outputs": [
        {
          "output_type": "stream",
          "text": [
            "train features shape: (125, 1)\n",
            "train labels shape: (125, 1)\n",
            "test features shape: (31, 1)\n",
            "test labels shape: (31, 1)\n",
            "first 5 test labels:\n",
            " [[7.246]\n",
            " [6.726]\n",
            " [6.444]\n",
            " [6.354]\n",
            " [6.3  ]]\n"
          ],
          "name": "stdout"
        }
      ]
    },
    {
      "cell_type": "markdown",
      "metadata": {
        "colab_type": "text",
        "id": "gBL9f4RpP0-z"
      },
      "source": [
        "The above code returns a *training* and *test* dataset. The GDP per capita variable represents the features data and the happiness Score represents the labels. The train_features and train_labels arrays represent the features and labels of the training dataset, each containing 125 rows and 1 column. The test_features and test_labels arrays represent the features and labels of the test dataset, each containing 31 rows and 1 column."
      ]
    },
    {
      "cell_type": "code",
      "metadata": {
        "colab_type": "code",
        "id": "JQVuaVxPPyye",
        "colab": {
          "base_uri": "https://localhost:8080/",
          "height": 295
        },
        "outputId": "a8db1fd3-82be-45be-ef7a-57bb80b5f728"
      },
      "source": [
        "plt.scatter(x=train_features, y=train_labels)\n",
        "plt.title('Training Data')\n",
        "plt.xlabel('GDP per capita')\n",
        "plt.ylabel('Happiness Score')\n",
        "plt.show()"
      ],
      "execution_count": null,
      "outputs": [
        {
          "output_type": "display_data",
          "data": {
            "image/png": "[encoded data removed]",
            "text/plain": [
              "<Figure size 432x288 with 1 Axes>"
            ]
          },
          "metadata": {
            "tags": [],
            "needs_background": "light"
          }
        }
      ]
    },
    {
      "cell_type": "markdown",
      "metadata": {
        "colab_type": "text",
        "id": "dRQYq_IrQuUG"
      },
      "source": [
        "Here is our training data. What Linear Regression does is that it will find the best line that goes through the middle of our training data. The best line will also compute the least training loss, which we will explain later."
      ]
    },
    {
      "cell_type": "markdown",
      "metadata": {
        "colab_type": "text",
        "id": "YlaNcYLMJz9n"
      },
      "source": [
        "## 3. Build the model\n",
        "Now that we have prepared the data, it's time to build a model! \n",
        "\n",
        "Coding linear regression from scratch can be tedious, fortunately, the `Sklearn` library comes with a built in package in the `sklearn.linear_model` module under the `LinearRegression` class that makes building linear regression models a breeze. We'll use this class to build our linear regression model to predict the happiness Score ($y$) given the GDP per capita ($x$).    \n"
      ]
    },
    {
      "cell_type": "code",
      "metadata": {
        "colab_type": "code",
        "id": "Q_WdVm8ILYlB",
        "colab": {}
      },
      "source": [
        "# build the LinearRegression model object \n",
        "model = LinearRegression(fit_intercept=True)"
      ],
      "execution_count": null,
      "outputs": []
    },
    {
      "cell_type": "markdown",
      "metadata": {
        "colab_type": "text",
        "id": "4EWIidgVQqDg"
      },
      "source": [
        "## 4. Train the model\n",
        "Now that we have a linear model (that was easy), we need to *train* it using the training dataset. We will use the `fit` method to \"fit\" the model to the data (i.e., train the model).\n",
        "\n",
        "\n"
      ]
    },
    {
      "cell_type": "code",
      "metadata": {
        "colab_type": "code",
        "id": "e8JwzH3MRNCh",
        "colab": {
          "base_uri": "https://localhost:8080/",
          "height": 34
        },
        "outputId": "0ead5515-621c-4875-e578-9b8471e53664"
      },
      "source": [
        "# fit the model with the training set train_features (x) and train_labels (y) data  \n",
        "model.fit(train_features, train_labels)"
      ],
      "execution_count": null,
      "outputs": [
        {
          "output_type": "execute_result",
          "data": {
            "text/plain": [
              "LinearRegression(copy_X=True, fit_intercept=True, n_jobs=None, normalize=False)"
            ]
          },
          "metadata": {
            "tags": []
          },
          "execution_count": 80
        }
      ]
    },
    {
      "cell_type": "markdown",
      "metadata": {
        "colab_type": "text",
        "id": "UpyFJF4_SOZ7"
      },
      "source": [
        "Now that we've trained the model, let's see what it's  *mean absolute error*  is on the training dataset. We use the `predict` method to make predictions given a dataset of features."
      ]
    },
    {
      "cell_type": "code",
      "metadata": {
        "colab_type": "code",
        "id": "AJ5Q7FSwShuC",
        "colab": {
          "base_uri": "https://localhost:8080/",
          "height": 34
        },
        "outputId": "a160f102-3f7e-4754-b853-b5949dbf2854"
      },
      "source": [
        "train_predictions = model.predict(train_features)\n",
        "\n",
        "mae = metrics.mean_absolute_error(train_labels, train_predictions)\n",
        "print('training set mean absolute error: ', round(mae, 4))"
      ],
      "execution_count": null,
      "outputs": [
        {
          "output_type": "stream",
          "text": [
            "training set mean absolute error:  0.5576\n"
          ],
          "name": "stdout"
        }
      ]
    },
    {
      "cell_type": "markdown",
      "metadata": {
        "colab_type": "text",
        "id": "FoPvRWl7TCOA"
      },
      "source": [
        "The mean absolute error on the training set was approximately +/- 0.5576. Is this good? We leave that for you to decide."
      ]
    },
    {
      "cell_type": "markdown",
      "metadata": {
        "colab_type": "text",
        "id": "SiHKhQTSRykB"
      },
      "source": [
        "# 5. Evaluate the model\n",
        "Now that we've trained the model, it's time to evaluate it on unseen data using the test dataset, which we did not use while training the model. The model preformance on the test set will give us a sense of how well we expect it to predict happiness score given new GDP per capita data. "
      ]
    },
    {
      "cell_type": "code",
      "metadata": {
        "colab_type": "code",
        "id": "AXBk7DEPUHY9",
        "colab": {
          "base_uri": "https://localhost:8080/",
          "height": 34
        },
        "outputId": "a4fcf800-187e-401f-8ded-cb4ca223e42f"
      },
      "source": [
        "test_predictions = model.predict(test_features)\n",
        "\n",
        "test_mae = metrics.mean_absolute_error(test_labels, test_predictions)\n",
        "print('test set mean absolute error: ', round(test_mae, 4))"
      ],
      "execution_count": null,
      "outputs": [
        {
          "output_type": "stream",
          "text": [
            "test set mean absolute error:  0.5152\n"
          ],
          "name": "stdout"
        }
      ]
    },
    {
      "cell_type": "markdown",
      "metadata": {
        "colab_type": "text",
        "id": "mlUQWhmOUT29"
      },
      "source": [
        "The average (absolute) error is around +/- 0.5152 units for happiness Score. Is this good? We'll leave that decision up to you. Let's also visualize the prediction and real happiness Score values using the test set samples."
      ]
    },
    {
      "cell_type": "code",
      "metadata": {
        "colab_type": "code",
        "id": "-fos-SELRe8O",
        "colab": {
          "base_uri": "https://localhost:8080/",
          "height": 279
        },
        "outputId": "01de49da-5e03-4035-9fde-e5b71fa5bc3c"
      },
      "source": [
        "ax = plt.axes(aspect='equal')\n",
        "plt.scatter(test_labels, test_predictions)\n",
        "plt.xlabel('True Values [Happiness Score]')\n",
        "plt.ylabel('Predictions [Happiness Score]')\n",
        "lims = [0, max(test_labels) + 1] # [0, 31]\n",
        "plt.xlim(lims)\n",
        "plt.ylim(lims)\n",
        "# plots line y=x\n",
        "# We want most points to be close to the line as possible\n",
        "_ = plt.plot(lims, lims)"
      ],
      "execution_count": null,
      "outputs": [
        {
          "output_type": "display_data",
          "data": {
            "image/png": "[encoded data removed]",
            "text/plain": [
              "<Figure size 432x288 with 1 Axes>"
            ]
          },
          "metadata": {
            "tags": [],
            "needs_background": "light"
          }
        }
      ]
    },
    {
      "cell_type": "markdown",
      "metadata": {
        "colab_type": "text",
        "id": "1R5tUpSHVh_6"
      },
      "source": [
        "It looks like our model predicts reasonably well. Let's take a look at the error distribution."
      ]
    },
    {
      "cell_type": "code",
      "metadata": {
        "colab_type": "code",
        "id": "eb83ctvuVprY",
        "colab": {
          "base_uri": "https://localhost:8080/",
          "height": 279
        },
        "outputId": "368aaaf7-7cd8-4a86-f833-c4c3c62635be"
      },
      "source": [
        "errors = test_predictions.reshape(-1, 1) - test_labels\n",
        "plt.hist(errors, bins = 10)\n",
        "plt.xlabel(\"Prediction Error [Happiness Score]\")\n",
        "_ = plt.ylabel(\"Count\")"
      ],
      "execution_count": null,
      "outputs": [
        {
          "output_type": "display_data",
          "data": {
            "image/png": "[encoded data removed]",
            "text/plain": [
              "<Figure size 432x288 with 1 Axes>"
            ]
          },
          "metadata": {
            "tags": [],
            "needs_background": "light"
          }
        }
      ]
    },
    {
      "cell_type": "markdown",
      "metadata": {
        "colab_type": "text",
        "id": "v_zgghRDVpCH"
      },
      "source": [
        "The histogram shows that the errors aren't quite *Normally* distributed (also called *gaussian*), but we might expect that because the number of samples is very small."
      ]
    },
    {
      "cell_type": "markdown",
      "metadata": {
        "id": "kZcU7GBBqIN7",
        "colab_type": "text"
      },
      "source": [
        "![img](https://cdn.kastatic.org/ka-perseus-graphie/191a8f604b04f7b6e4a80d04db881c12798856f7.svg)"
      ]
    },
    {
      "cell_type": "markdown",
      "metadata": {
        "id": "XU0_QjbSqIN7",
        "colab_type": "text"
      },
      "source": [
        "Let us now see the best fitted line that the model was able to find."
      ]
    },
    {
      "cell_type": "code",
      "metadata": {
        "id": "ADRwx4vxqIN7",
        "colab_type": "code",
        "colab": {},
        "outputId": "e01c0e28-56eb-4dca-ded3-54e7f981be3c"
      },
      "source": [
        "b = float(model.intercept_[0])\n",
        "print('b:', round(b,2))\n",
        "w = float(model.coef_[0][0])\n",
        "print('w:', round(w,2))\n",
        "\n",
        "plt.scatter(x=train_features, y=train_labels)\n",
        "plt.title('Training Data')\n",
        "plt.xlabel('GDP per capita')\n",
        "plt.ylabel('Happiness Score')\n",
        "y = [b] + list((w*train_features + b).reshape(-1))\n",
        "x = [0] + list(train_features.reshape(-1))\n",
        "plt.plot(x, y, color='r')\n",
        "plt.show()"
      ],
      "execution_count": null,
      "outputs": [
        {
          "output_type": "stream",
          "text": [
            "b: 3.43\n",
            "w: 2.22\n"
          ],
          "name": "stdout"
        },
        {
          "output_type": "display_data",
          "data": {
            "image/png": "[encoded data removed]",
            "text/plain": [
              "<Figure size 432x288 with 1 Axes>"
            ]
          },
          "metadata": {
            "tags": [],
            "needs_background": "light"
          }
        }
      ]
    },
    {
      "cell_type": "markdown",
      "metadata": {
        "colab_type": "text",
        "id": "EDJE64uTV2Y8"
      },
      "source": [
        "## 6. Draw conclusions\n",
        "We built a single-variable linear regression model to predict happiness Score given a country's GDP per capita. The model achieved an average (absolute) error of about +/- 0.5152. We expect that a more complex model or more data samples or features could lead to better results."
      ]
    },
    {
      "cell_type": "markdown",
      "metadata": {
        "colab_type": "text",
        "id": "jrhajBZmWPFD"
      },
      "source": [
        "# Summary\n",
        "In this lesson we introduced linear regression from a single variable (one feature) perspective. We covered several important techniques to handle regression problems including:\n",
        "- The model estimation function ($y = wx + b$).\n",
        "- Demonstrated preparing data for a model.\n",
        "- Used Skleanr to build and train a model.\n",
        "- Showed how to evaluate a model."
      ]
    },
    {
      "cell_type": "code",
      "metadata": {
        "colab_type": "code",
        "id": "pQ_JO-2kW2-I",
        "colab": {}
      },
      "source": [
        ""
      ],
      "execution_count": null,
      "outputs": []
    }
  ]
}