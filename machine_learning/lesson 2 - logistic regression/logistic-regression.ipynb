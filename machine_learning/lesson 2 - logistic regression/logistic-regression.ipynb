{
  "nbformat": 4,
  "nbformat_minor": 0,
  "metadata": {
    "colab": {
      "name": "Classification-Logistic_Regression.ipynb",
      "provenance": [],
      "authorship_tag": "ABX9TyP1g4mOIyg0pNxN04n7kv2V",
      "include_colab_link": true
    },
    "kernelspec": {
      "name": "python3",
      "display_name": "Python 3"
    },
    "accelerator": "GPU"
  },
  "cells": [
    {
      "cell_type": "markdown",
      "metadata": {
        "id": "view-in-github",
        "colab_type": "text"
      },
      "source": [
        "<a href=\"https://colab.research.google.com/github/BreakoutMentors/Data-Science-and-Machine-Learning/blob/master/machine_learning/lesson%202%20-%20logistic%20regression/logistic-regression.ipynb\" target=\"_parent\"><img src=\"https://colab.research.google.com/assets/colab-badge.svg\" alt=\"Open In Colab\"/></a>"
      ]
    },
    {
      "cell_type": "markdown",
      "metadata": {
        "id": "gIsgQYlKKVna",
        "colab_type": "text"
      },
      "source": [
        "# Classification: Logistic Regression\n",
        "In [lesson 1 - linear regression](https://github.com/BreakoutMentors/Data-Science-and-Machine-Learning/blob/master/machine_learning/lesson%201%20-%20linear%20regression/examples/linear-regression-deep-dive.ipynb), we learned about linear regression and how it can be used to construct a linear model to predict a numeric value (i.e., how powerful a Pokemon is given their x features). Regression is great when we want to answer *how much?* or *how many?* questions. \n",
        "\n",
        "In practice, we are often more interested in *classification*: asking *which one?* not *how much?*\n",
        "- Is this customer more likely to *sign up* or *not* for a subscription service?\n",
        "- Does this image contain one of the following, a cat or a dog?\n",
        "- Is this song in the genre of hip hop, pop, or funk?\n",
        "\n",
        "When we want to distinguish two classes (called *binary classification*), we can use a classification technique called logistic regression.\n",
        "\n",
        "In this notebook, we will learn the foundations of logistic regression and demonstrate how to solve binary classification problems using an example--building a logistic regression model to predict whether an app on the Google Play Store is free or not. The ideas we introduce here will build on previous material and continue to lay out the fundamental concepts used in deep learning and neural networks, which we will cover in future lessons. Here is the lesson roadmap:\n",
        "1. Introduction to logistic regression\n",
        "2. From linear to logistic regression\n",
        "3. Building a logistic regression classifier: identifying free vs paid apps on the Google Play Store \n",
        "7. Summary\n",
        "\n"
      ]
    },
    {
      "cell_type": "markdown",
      "metadata": {
        "id": "-OYk2h2X2gqE",
        "colab_type": "text"
      },
      "source": [
        "# Representing categorical data\n",
        "<figure>\n",
        "  <img src='https://envato-shoebox-0.imgix.net/2718/a008-795b-4376-972d-ed9cbad8ac4f/2015_227_003_0063_A_2018_07_19.jpg?auto=compress%2Cformat&fit=max&mark=https%3A%2F%2Felements-assets.envato.com%2Fstatic%2Fwatermark2.png&markalign=center%2Cmiddle&markalpha=18&w=700&s=e3fbeb220008b297bee64675504ae70c' width='50%'>\n",
        "  <figcaption>Representing data: a Shina Inu, Retriever, and Lab</figcaption>\n",
        "</figure>\n",
        "\n",
        "\n",
        "\n",
        "Before we dive into logistic regression, let's consider how machine learning problems generally represents categorical data. \n",
        "\n",
        "Categorical features represent types of data which may be divided into groups. Examples of categorical features are dog breed, game genre, and educational level. While the latter feature may also be considered in a numerical manner by using exact values for  highest grade completed, it is often more informative to categorize such variables into a relatively small number of groups.\n",
        "\n",
        "Consider an example where we want to distinguish 3 different dog breeds--(golden) retrievers, labs, and shiba inus, given 3 features about each dog: height, weight, and fur color. The numeric features are height ($x_1$) and weight ($x_2$), while the categorical feature is fur color ($x_3$), which we determined has 3 colors: black, red, yellow (golden/light gold). To make this categorical feature useful, we need to convert it into a numerical representation. \n",
        "\n",
        "There are two general ways to represent categorical data in numeric terms. Perhaps the most natural choice to is to choose $x_3 \\in \\{1, 2, 3\\}$, where the integers represent the fur colors {black, red, yellow} repectively. This is a great way to compress and store info on a computer, but it's not great for machine learning. Fortunately, great minds got together long ago and invented a simple method to represent categorical data called *one-hot encoding*. A one-hot encoding is a vector with as many components as we have categories. The component corresponding to particular sample's category is set to 1 and all other components are set to 0. So in our case, this translates to:\n",
        "\n",
        "$$\n",
        "x_3 \\in \\{ (1, 0, 0), (0, 1, 0), (0, 0, 1) \\},\n",
        "$$\n",
        "\n",
        "where $x_3$ would be a three-dimensional vector representing the fur color feature with $(1, 0, 0)$ corresponding to \"black\", (0, 1, 0) to \"red\", and (0, 0, 1) to \"yellow\" fur."
      ]
    },
    {
      "cell_type": "markdown",
      "metadata": {
        "id": "KyKHFYZBKd64",
        "colab_type": "text"
      },
      "source": [
        "## Challenge: Representing categorical data\n",
        "Now that you know how to represent categorical data, consider the dog breed example above. We one-hot encoded the fur color feature $x_3$ so that all the features $x_1, x_2, x_3$ were represented by numeric values. Thus, the features ($\\mathbf{x}$) were ready to be passed as input to a machine learning model. On the other hand, are the labels $y$ (the dog bread) ready? Are they in the proper format? How should $y$ be *encoded*? Write your answer in the text cell below. \n",
        "\n",
        "Hint: currently, $y \\in \\{\\ \\text{retrievers}, \\text{labs}, \\text{shina inus} \\}$ is a one-dimensional vector with categorical values.   "
      ]
    },
    {
      "cell_type": "markdown",
      "metadata": {
        "id": "trG2Tl_SP-Wl",
        "colab_type": "text"
      },
      "source": [
        ""
      ]
    },
    {
      "cell_type": "markdown",
      "metadata": {
        "id": "vGvK59PbdliB",
        "colab_type": "text"
      },
      "source": [
        "# Intro to logistic regression\n",
        "<figure>\n",
        "  <img src='https://www.elie.net/static/images/images/challenges-faced-while-training-an-ai-to-combat-abuse/dog-vs-cat.jpg' width='70%'>\n",
        "  <figcaption>Classification: Cat vs Dog</figcaption>\n",
        "</figure>\n",
        "\n",
        "With a healthy understanding of categorical encoding, let's dive into the logistic regression method.\n",
        "\n",
        "Logistic regression is perhaps the simplest and most common machine learning algorithm for binary classification tasks. It is a special case of linear regression where the labels variable ($y$) is categorical in nature. It is called \"logistic\" regression because it uses a *logit* function, called the *sigmoid* function, to estimate the probability of a given class.\n",
        "\n",
        "To motivate logistic regression, let's consider a simple image classification problem--distinguish between cat and dog photos. Here, each image consists of a $2 \\times 2$ grayscale image. We can represent each pixel value with a single scalar (number), giving us four features $x_1,x_2,x_3,x_4$. Further, let's assume that each image belongs to one among the categories “cat” and “dog”. However, as we demonstrated in the previous section, we can't use the labels $y$ in its current format (\"cat\" and \"dog\"). We need to convert the labels to discrete numerical values (i.e., 0 and 1). To this end, we map each category to an integer, making $y \\in \\{0,1\\}$, where the integers represent $\\{\\text{cat}, \\text{dog}\\}$ repsectively. Notice that this is not exactly like *one-hot encoding*, where the one-dimensional vector is converted into a multi-dimensional vector with dimensions equivalent to the number of classes in the labels $y$. Instead, we used the simpler (first) method we discussed in the previous section: encoding each category as a numerical value, in this case $\\{0, 1\\}$ corresponding to $\\{\\text{cat}, \\text{dog}\\}$. When we only need to encode two categories (called binary categorization), we don't have to use one-hot encoding. However, we do need to encode the data numerically. Specifically, among the category labels, we need to assign 0 to one category and 1 to the other.\n"
      ]
    },
    {
      "cell_type": "markdown",
      "metadata": {
        "id": "1fwLwZ31JrZa",
        "colab_type": "text"
      },
      "source": [
        "# From linear to logistic regression\n",
        "<figure>\n",
        "  <img src='https://miro.medium.com/max/1400/1*dm6ZaX5fuSmuVvM4Ds-vcg.jpeg' width='70%'>\n",
        "  <figcaption>Linear vs Logistic Regression | Source: Datacamp</figcaption>\n",
        "</figure>\n",
        "\n",
        "Now that we know how labels are properly *encoded*, let's demonstrate the connection between linear and logistic regression.\n",
        "\n",
        "When we are doing linear regression the equation is as follows:\n",
        "\n",
        "$$\n",
        "\\hat{\\mathbf{y}} = \\mathbf{w} \\mathbf{X} + b,\\tag{1}\n",
        "$$\n",
        "\n",
        "where the linear model learns the most *optimal* parameter values for the *weights* ($\\mathbf{w}$) and *bias* term ($b$). The linear regression method is great when we want to predict continuous numerical data, but not so good when we need to distinguish between classes. \n",
        "\n",
        "To make a binary logistic classifier to distinguish between cat and dog photos, we need to convert the predictions ($\\hat{\\mathbf{y}}$) into probabilities ($\\hat{\\mathbf{p}}$). Here, each sample is assigned a corresponding probability $\\hat{p}$ that indicates the model's degree of *certainty* that it belongs to a particular class (in our case, cat or dog). Further, we set a threshold, usually 0.5, that the model will use to determine the final class prediction. For our cat ($y=0$) and dog ($y=1$) problem, a sample with a $\\hat{p}$ value greater than 0.5 would receive the \"dog\" label for example. \n",
        "\n",
        "In order to predict classes, logistic regression maps predictions ($\\hat{\\mathbf{y}}$) to probabilities ($\\hat{\\mathbf{p}}$) via the *sigmoid* logit function:\n",
        "$$\n",
        "\\tag{2}\n",
        "p = \\sigma(y) = \\frac{1}{1 + e^{-y}},\n",
        "$$\n",
        "\n",
        "which leads us to the equation for logistic regression: \n",
        "$$\n",
        "\\tag{3}\n",
        "\\hat{\\mathbf{p}} = \\sigma(\\hat{\\mathbf{y}}) = \\frac{1}{1 + e^{-(\\hat{\\mathbf{w} \\mathbf{X} + b})}}, \n",
        "$$ \n",
        "\n",
        "where the logistic model (binary classifier) learns the most *optimal* parameter values ($\\mathbf{w}$ and $b$) by producing probabilities ($\\hat{\\mathbf{p}}$) that *maximize the likelihood* of predicting the observed data. \n",
        "\n",
        "Generally, the logistic regression equation from $(3)$ is compressed:\n",
        "\n",
        "$$\n",
        "\\tag{4}\n",
        "\\hat{\\mathbf{p}} = \\sigma(\\hat{\\mathbf{y}}) = \\sigma(\\hat{\\mathbf{w} \\mathbf{X} + b}),\n",
        "$$\n",
        "\n",
        "where $\\sigma$ represents the sigmoid function (eq. $2$) in this case. Does this equation look similar to linear regression yet?\n",
        "\n",
        "To summarize logistic regression:\n",
        "- Category labels are converted to discrete integer values (e.g., 0 and 1).\n",
        "- The *sigmoid* logit function maps input features ($\\mathbf{x}$) to probabilities (i.e., a number between 0 and 1).\n",
        "- A category prediction is determined by the threshold value (usually 0.5) and the probability (i.e., in our cat/dog example, a sample with a probability greater than 0.5 is classified as a dog image).   \n",
        "- Logistic regression classifiers try to maximize *certainty*: predict a particular class with high confidence ($\\hat{p}$ closer to 1) and be correct (after thresholding, $\\hat{p} = y$), most of the time.  "
      ]
    },
    {
      "cell_type": "markdown",
      "metadata": {
        "id": "d1yKY66dhryV",
        "colab_type": "text"
      },
      "source": [
        "# Logistic Regression: identifying free apps on the Google Play Store\n",
        "Now that we know about the fundamentals of logistic regression, let's apply this method to a real-world problem--identifying free apps (or not) on the Google Play Store given the features corresponding to each app. In this section, we will demonstrate in an end-to-end fashion the process of creating a logistic regression classifier: from building, to training, and finally evaluating the model to solve the free (or not) Google Play Store app task. This process involves several steps:\n",
        "\n",
        "1. Find a dataset related to our question.\n",
        "2. Explore the dataset and prepare it for the model.\n",
        "3. Build the model.\n",
        "4. Train the model using an algorithm such as stochastic gradient descent.\n",
        "5. Evaluate the quality of our model.\n",
        "Draw conclusions.\n",
        "\n",
        "For step 1, we found the [Google Play Store dataset](https://www.kaggle.com/lava18/google-play-store-apps). The dataset contains approximately 10k rows, each representing an app on the Google Play Store. It provides data about the category, average rating, number of reviews, number of installs, price, and more for each app.   "
      ]
    },
    {
      "cell_type": "code",
      "metadata": {
        "id": "5ZcA1hmu_nSx",
        "colab_type": "code",
        "colab": {}
      },
      "source": [
        "# import the libraries we be need\n",
        "import pandas as pd\n",
        "import numpy as np\n",
        "import matplotlib\n",
        "import matplotlib.pyplot as plt\n",
        "\n",
        "# TensorFlow and tf.keras\n",
        "import tensorflow as tf\n",
        "from tensorflow import keras\n",
        "from tensorflow.keras import layers"
      ],
      "execution_count": 0,
      "outputs": []
    },
    {
      "cell_type": "markdown",
      "metadata": {
        "id": "1-p0Ri_eijre",
        "colab_type": "text"
      },
      "source": [
        "## 2. Explore the dataset and prepare it for our model\n",
        "In this section we will focus on defining the   *features* ($\\mathbf{x}$) and *labels* ($\\mathbf{y}$) that we will use in our logistic regression classifier to indentify free apps. As you will see, this require us to do some data cleaning and preprocessing."
      ]
    },
    {
      "cell_type": "code",
      "metadata": {
        "id": "iuWvMOdXKUuh",
        "colab_type": "code",
        "outputId": "6731c6fd-0b17-4d0b-89bf-aff97acf4b16",
        "colab": {
          "base_uri": "https://localhost:8080/",
          "height": 564
        }
      },
      "source": [
        "data_url = 'https://raw.githubusercontent.com/BreakoutMentors/Data-Science-and-Machine-Learning/master/datasets/googleplaystore.csv'\n",
        "apps_data = pd.read_csv(data_url)\n",
        "apps_data.head()"
      ],
      "execution_count": 15,
      "outputs": [
        {
          "output_type": "execute_result",
          "data": {
            "text/html": [
              "<div>\n",
              "<style scoped>\n",
              "    .dataframe tbody tr th:only-of-type {\n",
              "        vertical-align: middle;\n",
              "    }\n",
              "\n",
              "    .dataframe tbody tr th {\n",
              "        vertical-align: top;\n",
              "    }\n",
              "\n",
              "    .dataframe thead th {\n",
              "        text-align: right;\n",
              "    }\n",
              "</style>\n",
              "<table border=\"1\" class=\"dataframe\">\n",
              "  <thead>\n",
              "    <tr style=\"text-align: right;\">\n",
              "      <th></th>\n",
              "      <th>App</th>\n",
              "      <th>Category</th>\n",
              "      <th>Rating</th>\n",
              "      <th>Reviews</th>\n",
              "      <th>Size</th>\n",
              "      <th>Installs</th>\n",
              "      <th>Type</th>\n",
              "      <th>Price</th>\n",
              "      <th>Content Rating</th>\n",
              "      <th>Genres</th>\n",
              "      <th>Last Updated</th>\n",
              "      <th>Current Ver</th>\n",
              "      <th>Android Ver</th>\n",
              "    </tr>\n",
              "  </thead>\n",
              "  <tbody>\n",
              "    <tr>\n",
              "      <th>0</th>\n",
              "      <td>Photo Editor &amp; Candy Camera &amp; Grid &amp; ScrapBook</td>\n",
              "      <td>ART_AND_DESIGN</td>\n",
              "      <td>4.1</td>\n",
              "      <td>159</td>\n",
              "      <td>19M</td>\n",
              "      <td>10,000+</td>\n",
              "      <td>Free</td>\n",
              "      <td>0</td>\n",
              "      <td>Everyone</td>\n",
              "      <td>Art &amp; Design</td>\n",
              "      <td>January 7, 2018</td>\n",
              "      <td>1.0.0</td>\n",
              "      <td>4.0.3 and up</td>\n",
              "    </tr>\n",
              "    <tr>\n",
              "      <th>1</th>\n",
              "      <td>Coloring book moana</td>\n",
              "      <td>ART_AND_DESIGN</td>\n",
              "      <td>3.9</td>\n",
              "      <td>967</td>\n",
              "      <td>14M</td>\n",
              "      <td>500,000+</td>\n",
              "      <td>Free</td>\n",
              "      <td>0</td>\n",
              "      <td>Everyone</td>\n",
              "      <td>Art &amp; Design;Pretend Play</td>\n",
              "      <td>January 15, 2018</td>\n",
              "      <td>2.0.0</td>\n",
              "      <td>4.0.3 and up</td>\n",
              "    </tr>\n",
              "    <tr>\n",
              "      <th>2</th>\n",
              "      <td>U Launcher Lite – FREE Live Cool Themes, Hide ...</td>\n",
              "      <td>ART_AND_DESIGN</td>\n",
              "      <td>4.7</td>\n",
              "      <td>87510</td>\n",
              "      <td>8.7M</td>\n",
              "      <td>5,000,000+</td>\n",
              "      <td>Free</td>\n",
              "      <td>0</td>\n",
              "      <td>Everyone</td>\n",
              "      <td>Art &amp; Design</td>\n",
              "      <td>August 1, 2018</td>\n",
              "      <td>1.2.4</td>\n",
              "      <td>4.0.3 and up</td>\n",
              "    </tr>\n",
              "    <tr>\n",
              "      <th>3</th>\n",
              "      <td>Sketch - Draw &amp; Paint</td>\n",
              "      <td>ART_AND_DESIGN</td>\n",
              "      <td>4.5</td>\n",
              "      <td>215644</td>\n",
              "      <td>25M</td>\n",
              "      <td>50,000,000+</td>\n",
              "      <td>Free</td>\n",
              "      <td>0</td>\n",
              "      <td>Teen</td>\n",
              "      <td>Art &amp; Design</td>\n",
              "      <td>June 8, 2018</td>\n",
              "      <td>Varies with device</td>\n",
              "      <td>4.2 and up</td>\n",
              "    </tr>\n",
              "    <tr>\n",
              "      <th>4</th>\n",
              "      <td>Pixel Draw - Number Art Coloring Book</td>\n",
              "      <td>ART_AND_DESIGN</td>\n",
              "      <td>4.3</td>\n",
              "      <td>967</td>\n",
              "      <td>2.8M</td>\n",
              "      <td>100,000+</td>\n",
              "      <td>Free</td>\n",
              "      <td>0</td>\n",
              "      <td>Everyone</td>\n",
              "      <td>Art &amp; Design;Creativity</td>\n",
              "      <td>June 20, 2018</td>\n",
              "      <td>1.1</td>\n",
              "      <td>4.4 and up</td>\n",
              "    </tr>\n",
              "  </tbody>\n",
              "</table>\n",
              "</div>"
            ],
            "text/plain": [
              "                                                 App  ...   Android Ver\n",
              "0     Photo Editor & Candy Camera & Grid & ScrapBook  ...  4.0.3 and up\n",
              "1                                Coloring book moana  ...  4.0.3 and up\n",
              "2  U Launcher Lite – FREE Live Cool Themes, Hide ...  ...  4.0.3 and up\n",
              "3                              Sketch - Draw & Paint  ...    4.2 and up\n",
              "4              Pixel Draw - Number Art Coloring Book  ...    4.4 and up\n",
              "\n",
              "[5 rows x 13 columns]"
            ]
          },
          "metadata": {
            "tags": []
          },
          "execution_count": 15
        }
      ]
    },
    {
      "cell_type": "code",
      "metadata": {
        "id": "hWhDZORkja6p",
        "colab_type": "code",
        "outputId": "252216f8-6604-44d6-d44f-fef5454982bd",
        "colab": {
          "base_uri": "https://localhost:8080/",
          "height": 377
        }
      },
      "source": [
        "# check the column types and get basic info\n",
        "apps_data.info()"
      ],
      "execution_count": 16,
      "outputs": [
        {
          "output_type": "stream",
          "text": [
            "<class 'pandas.core.frame.DataFrame'>\n",
            "RangeIndex: 10841 entries, 0 to 10840\n",
            "Data columns (total 13 columns):\n",
            " #   Column          Non-Null Count  Dtype  \n",
            "---  ------          --------------  -----  \n",
            " 0   App             10841 non-null  object \n",
            " 1   Category        10841 non-null  object \n",
            " 2   Rating          9367 non-null   float64\n",
            " 3   Reviews         10841 non-null  object \n",
            " 4   Size            10841 non-null  object \n",
            " 5   Installs        10841 non-null  object \n",
            " 6   Type            10840 non-null  object \n",
            " 7   Price           10841 non-null  object \n",
            " 8   Content Rating  10840 non-null  object \n",
            " 9   Genres          10841 non-null  object \n",
            " 10  Last Updated    10841 non-null  object \n",
            " 11  Current Ver     10833 non-null  object \n",
            " 12  Android Ver     10838 non-null  object \n",
            "dtypes: float64(1), object(12)\n",
            "memory usage: 1.1+ MB\n"
          ],
          "name": "stdout"
        }
      ]
    },
    {
      "cell_type": "markdown",
      "metadata": {
        "id": "AcTd48JdBU13",
        "colab_type": "text"
      },
      "source": [
        "Looks like there are some null values in the data (mainly in the Ratings feature). In addition, most of the numeric features, such as number of \"Reviews\", \"Size\", number of \"Installs\",  are labeled as *object* types instead of numeric types like *int* or *float*. We'll need to cast these features to the correct numeric types. "
      ]
    },
    {
      "cell_type": "code",
      "metadata": {
        "id": "KCJXvoEZiEvb",
        "colab_type": "code",
        "outputId": "c7139ae4-7eda-4602-eb59-0825191025e1",
        "colab": {
          "base_uri": "https://localhost:8080/",
          "height": 564
        }
      },
      "source": [
        "# convert the Size column to an integer type using these provided functions\n",
        "\n",
        "#scaling and cleaning \"Size\" (of app) column\n",
        "def change_size(size):\n",
        "    if 'M' in size:\n",
        "        x = size[:-1]\n",
        "        x = float(x)*1000000\n",
        "        return(x)\n",
        "    elif 'k' == size[-1:]:\n",
        "        x = size[:-1]\n",
        "        x = float(x)*1000\n",
        "        return(x)\n",
        "    else:\n",
        "        return None\n",
        "\n",
        "apps_data[\"Size\"] = apps_data[\"Size\"].map(change_size)\n",
        "\n",
        "#filling Size which had NA\n",
        "apps_data.Size.fillna(method = 'ffill', inplace = True)\n",
        "apps_data.head()"
      ],
      "execution_count": 17,
      "outputs": [
        {
          "output_type": "execute_result",
          "data": {
            "text/html": [
              "<div>\n",
              "<style scoped>\n",
              "    .dataframe tbody tr th:only-of-type {\n",
              "        vertical-align: middle;\n",
              "    }\n",
              "\n",
              "    .dataframe tbody tr th {\n",
              "        vertical-align: top;\n",
              "    }\n",
              "\n",
              "    .dataframe thead th {\n",
              "        text-align: right;\n",
              "    }\n",
              "</style>\n",
              "<table border=\"1\" class=\"dataframe\">\n",
              "  <thead>\n",
              "    <tr style=\"text-align: right;\">\n",
              "      <th></th>\n",
              "      <th>App</th>\n",
              "      <th>Category</th>\n",
              "      <th>Rating</th>\n",
              "      <th>Reviews</th>\n",
              "      <th>Size</th>\n",
              "      <th>Installs</th>\n",
              "      <th>Type</th>\n",
              "      <th>Price</th>\n",
              "      <th>Content Rating</th>\n",
              "      <th>Genres</th>\n",
              "      <th>Last Updated</th>\n",
              "      <th>Current Ver</th>\n",
              "      <th>Android Ver</th>\n",
              "    </tr>\n",
              "  </thead>\n",
              "  <tbody>\n",
              "    <tr>\n",
              "      <th>0</th>\n",
              "      <td>Photo Editor &amp; Candy Camera &amp; Grid &amp; ScrapBook</td>\n",
              "      <td>ART_AND_DESIGN</td>\n",
              "      <td>4.1</td>\n",
              "      <td>159</td>\n",
              "      <td>19000000.0</td>\n",
              "      <td>10,000+</td>\n",
              "      <td>Free</td>\n",
              "      <td>0</td>\n",
              "      <td>Everyone</td>\n",
              "      <td>Art &amp; Design</td>\n",
              "      <td>January 7, 2018</td>\n",
              "      <td>1.0.0</td>\n",
              "      <td>4.0.3 and up</td>\n",
              "    </tr>\n",
              "    <tr>\n",
              "      <th>1</th>\n",
              "      <td>Coloring book moana</td>\n",
              "      <td>ART_AND_DESIGN</td>\n",
              "      <td>3.9</td>\n",
              "      <td>967</td>\n",
              "      <td>14000000.0</td>\n",
              "      <td>500,000+</td>\n",
              "      <td>Free</td>\n",
              "      <td>0</td>\n",
              "      <td>Everyone</td>\n",
              "      <td>Art &amp; Design;Pretend Play</td>\n",
              "      <td>January 15, 2018</td>\n",
              "      <td>2.0.0</td>\n",
              "      <td>4.0.3 and up</td>\n",
              "    </tr>\n",
              "    <tr>\n",
              "      <th>2</th>\n",
              "      <td>U Launcher Lite – FREE Live Cool Themes, Hide ...</td>\n",
              "      <td>ART_AND_DESIGN</td>\n",
              "      <td>4.7</td>\n",
              "      <td>87510</td>\n",
              "      <td>8700000.0</td>\n",
              "      <td>5,000,000+</td>\n",
              "      <td>Free</td>\n",
              "      <td>0</td>\n",
              "      <td>Everyone</td>\n",
              "      <td>Art &amp; Design</td>\n",
              "      <td>August 1, 2018</td>\n",
              "      <td>1.2.4</td>\n",
              "      <td>4.0.3 and up</td>\n",
              "    </tr>\n",
              "    <tr>\n",
              "      <th>3</th>\n",
              "      <td>Sketch - Draw &amp; Paint</td>\n",
              "      <td>ART_AND_DESIGN</td>\n",
              "      <td>4.5</td>\n",
              "      <td>215644</td>\n",
              "      <td>25000000.0</td>\n",
              "      <td>50,000,000+</td>\n",
              "      <td>Free</td>\n",
              "      <td>0</td>\n",
              "      <td>Teen</td>\n",
              "      <td>Art &amp; Design</td>\n",
              "      <td>June 8, 2018</td>\n",
              "      <td>Varies with device</td>\n",
              "      <td>4.2 and up</td>\n",
              "    </tr>\n",
              "    <tr>\n",
              "      <th>4</th>\n",
              "      <td>Pixel Draw - Number Art Coloring Book</td>\n",
              "      <td>ART_AND_DESIGN</td>\n",
              "      <td>4.3</td>\n",
              "      <td>967</td>\n",
              "      <td>2800000.0</td>\n",
              "      <td>100,000+</td>\n",
              "      <td>Free</td>\n",
              "      <td>0</td>\n",
              "      <td>Everyone</td>\n",
              "      <td>Art &amp; Design;Creativity</td>\n",
              "      <td>June 20, 2018</td>\n",
              "      <td>1.1</td>\n",
              "      <td>4.4 and up</td>\n",
              "    </tr>\n",
              "  </tbody>\n",
              "</table>\n",
              "</div>"
            ],
            "text/plain": [
              "                                                 App  ...   Android Ver\n",
              "0     Photo Editor & Candy Camera & Grid & ScrapBook  ...  4.0.3 and up\n",
              "1                                Coloring book moana  ...  4.0.3 and up\n",
              "2  U Launcher Lite – FREE Live Cool Themes, Hide ...  ...  4.0.3 and up\n",
              "3                              Sketch - Draw & Paint  ...    4.2 and up\n",
              "4              Pixel Draw - Number Art Coloring Book  ...    4.4 and up\n",
              "\n",
              "[5 rows x 13 columns]"
            ]
          },
          "metadata": {
            "tags": []
          },
          "execution_count": 17
        }
      ]
    },
    {
      "cell_type": "markdown",
      "metadata": {
        "id": "y6DwJ_fgVv98",
        "colab_type": "text"
      },
      "source": [
        "After analyzing the data, we found that the Installs feature was defined as a object type because most rows contained string characters like \"+\" and \",\". Let's remove those characters and remove any mislabeled data rows (rows that don't contain numbers). "
      ]
    },
    {
      "cell_type": "code",
      "metadata": {
        "id": "HrLlPm9RkAv8",
        "colab_type": "code",
        "outputId": "b8b595ed-d5c8-45bd-953a-f87a78144155",
        "colab": {
          "base_uri": "https://localhost:8080/",
          "height": 564
        }
      },
      "source": [
        "# clean and convert the \"Installs\" column to int\n",
        "apps_data['Installs'] = apps_data['Installs'].str.replace(',', '')\n",
        "apps_data['Installs'] = apps_data['Installs'].str.replace('+', '')\n",
        "\n",
        "# remove mislabeled row\n",
        "apps_data = apps_data.loc[~apps_data['Installs'].str.contains('\\D+'), :].reset_index(drop=True)\n",
        "\n",
        "apps_data['Installs'] = apps_data['Installs'].astype(int)\n",
        "\n",
        "apps_data.head()"
      ],
      "execution_count": 18,
      "outputs": [
        {
          "output_type": "execute_result",
          "data": {
            "text/html": [
              "<div>\n",
              "<style scoped>\n",
              "    .dataframe tbody tr th:only-of-type {\n",
              "        vertical-align: middle;\n",
              "    }\n",
              "\n",
              "    .dataframe tbody tr th {\n",
              "        vertical-align: top;\n",
              "    }\n",
              "\n",
              "    .dataframe thead th {\n",
              "        text-align: right;\n",
              "    }\n",
              "</style>\n",
              "<table border=\"1\" class=\"dataframe\">\n",
              "  <thead>\n",
              "    <tr style=\"text-align: right;\">\n",
              "      <th></th>\n",
              "      <th>App</th>\n",
              "      <th>Category</th>\n",
              "      <th>Rating</th>\n",
              "      <th>Reviews</th>\n",
              "      <th>Size</th>\n",
              "      <th>Installs</th>\n",
              "      <th>Type</th>\n",
              "      <th>Price</th>\n",
              "      <th>Content Rating</th>\n",
              "      <th>Genres</th>\n",
              "      <th>Last Updated</th>\n",
              "      <th>Current Ver</th>\n",
              "      <th>Android Ver</th>\n",
              "    </tr>\n",
              "  </thead>\n",
              "  <tbody>\n",
              "    <tr>\n",
              "      <th>0</th>\n",
              "      <td>Photo Editor &amp; Candy Camera &amp; Grid &amp; ScrapBook</td>\n",
              "      <td>ART_AND_DESIGN</td>\n",
              "      <td>4.1</td>\n",
              "      <td>159</td>\n",
              "      <td>19000000.0</td>\n",
              "      <td>10000</td>\n",
              "      <td>Free</td>\n",
              "      <td>0</td>\n",
              "      <td>Everyone</td>\n",
              "      <td>Art &amp; Design</td>\n",
              "      <td>January 7, 2018</td>\n",
              "      <td>1.0.0</td>\n",
              "      <td>4.0.3 and up</td>\n",
              "    </tr>\n",
              "    <tr>\n",
              "      <th>1</th>\n",
              "      <td>Coloring book moana</td>\n",
              "      <td>ART_AND_DESIGN</td>\n",
              "      <td>3.9</td>\n",
              "      <td>967</td>\n",
              "      <td>14000000.0</td>\n",
              "      <td>500000</td>\n",
              "      <td>Free</td>\n",
              "      <td>0</td>\n",
              "      <td>Everyone</td>\n",
              "      <td>Art &amp; Design;Pretend Play</td>\n",
              "      <td>January 15, 2018</td>\n",
              "      <td>2.0.0</td>\n",
              "      <td>4.0.3 and up</td>\n",
              "    </tr>\n",
              "    <tr>\n",
              "      <th>2</th>\n",
              "      <td>U Launcher Lite – FREE Live Cool Themes, Hide ...</td>\n",
              "      <td>ART_AND_DESIGN</td>\n",
              "      <td>4.7</td>\n",
              "      <td>87510</td>\n",
              "      <td>8700000.0</td>\n",
              "      <td>5000000</td>\n",
              "      <td>Free</td>\n",
              "      <td>0</td>\n",
              "      <td>Everyone</td>\n",
              "      <td>Art &amp; Design</td>\n",
              "      <td>August 1, 2018</td>\n",
              "      <td>1.2.4</td>\n",
              "      <td>4.0.3 and up</td>\n",
              "    </tr>\n",
              "    <tr>\n",
              "      <th>3</th>\n",
              "      <td>Sketch - Draw &amp; Paint</td>\n",
              "      <td>ART_AND_DESIGN</td>\n",
              "      <td>4.5</td>\n",
              "      <td>215644</td>\n",
              "      <td>25000000.0</td>\n",
              "      <td>50000000</td>\n",
              "      <td>Free</td>\n",
              "      <td>0</td>\n",
              "      <td>Teen</td>\n",
              "      <td>Art &amp; Design</td>\n",
              "      <td>June 8, 2018</td>\n",
              "      <td>Varies with device</td>\n",
              "      <td>4.2 and up</td>\n",
              "    </tr>\n",
              "    <tr>\n",
              "      <th>4</th>\n",
              "      <td>Pixel Draw - Number Art Coloring Book</td>\n",
              "      <td>ART_AND_DESIGN</td>\n",
              "      <td>4.3</td>\n",
              "      <td>967</td>\n",
              "      <td>2800000.0</td>\n",
              "      <td>100000</td>\n",
              "      <td>Free</td>\n",
              "      <td>0</td>\n",
              "      <td>Everyone</td>\n",
              "      <td>Art &amp; Design;Creativity</td>\n",
              "      <td>June 20, 2018</td>\n",
              "      <td>1.1</td>\n",
              "      <td>4.4 and up</td>\n",
              "    </tr>\n",
              "  </tbody>\n",
              "</table>\n",
              "</div>"
            ],
            "text/plain": [
              "                                                 App  ...   Android Ver\n",
              "0     Photo Editor & Candy Camera & Grid & ScrapBook  ...  4.0.3 and up\n",
              "1                                Coloring book moana  ...  4.0.3 and up\n",
              "2  U Launcher Lite – FREE Live Cool Themes, Hide ...  ...  4.0.3 and up\n",
              "3                              Sketch - Draw & Paint  ...    4.2 and up\n",
              "4              Pixel Draw - Number Art Coloring Book  ...    4.4 and up\n",
              "\n",
              "[5 rows x 13 columns]"
            ]
          },
          "metadata": {
            "tags": []
          },
          "execution_count": 18
        }
      ]
    },
    {
      "cell_type": "markdown",
      "metadata": {
        "id": "Ua9AKQ3pWeor",
        "colab_type": "text"
      },
      "source": [
        "Now we convert the Reviews feature to an integer type and remove the Price feature, since keeping it would be cheating (the model would learn that 0 means an app is free and any other value means an app is not).  "
      ]
    },
    {
      "cell_type": "code",
      "metadata": {
        "id": "SopAF7qMWc9K",
        "colab_type": "code",
        "colab": {
          "base_uri": "https://localhost:8080/",
          "height": 359
        },
        "outputId": "bb97a949-c30d-4a0f-8ee3-786bfd09556f"
      },
      "source": [
        "# clean and convert the \"Reviews\" column to int\n",
        "# fix mislabeled row in the \"Reviews\" column\n",
        "# apps_data.loc[apps_data.Reviews.str.contains('M'), 'Reviews'] = int(apps_data.loc[apps_data.Reviews.str.contains('M'), 'Reviews'].values.tolist()[0][:-1])*1000000\n",
        "apps_data['Reviews'] = apps_data['Reviews'].astype('int')\n",
        "\n",
        "# remove price column so we don't cheat\n",
        "apps_data = apps_data.drop(columns=['Price'])\n",
        "\n",
        "# remove columns we won't be using in our analysis\n",
        "apps_data.info()\n"
      ],
      "execution_count": 19,
      "outputs": [
        {
          "output_type": "stream",
          "text": [
            "<class 'pandas.core.frame.DataFrame'>\n",
            "RangeIndex: 10840 entries, 0 to 10839\n",
            "Data columns (total 12 columns):\n",
            " #   Column          Non-Null Count  Dtype  \n",
            "---  ------          --------------  -----  \n",
            " 0   App             10840 non-null  object \n",
            " 1   Category        10840 non-null  object \n",
            " 2   Rating          9366 non-null   float64\n",
            " 3   Reviews         10840 non-null  int64  \n",
            " 4   Size            10840 non-null  float64\n",
            " 5   Installs        10840 non-null  int64  \n",
            " 6   Type            10839 non-null  object \n",
            " 7   Content Rating  10840 non-null  object \n",
            " 8   Genres          10840 non-null  object \n",
            " 9   Last Updated    10840 non-null  object \n",
            " 10  Current Ver     10832 non-null  object \n",
            " 11  Android Ver     10838 non-null  object \n",
            "dtypes: float64(2), int64(2), object(8)\n",
            "memory usage: 1016.4+ KB\n"
          ],
          "name": "stdout"
        }
      ]
    },
    {
      "cell_type": "markdown",
      "metadata": {
        "id": "NzFGoa_NXPVJ",
        "colab_type": "text"
      },
      "source": [
        "Looking good. Now we need to *one-hot encode* the categorical features that have more than 2 categories, in this case, Category and Content Rating. We use the `get_dummies` method from Pandas to create multi-dimensional (one-hot encoded) vectors for each feature, and concatenate the vectors to the original dataframe using the `concat` method from Pandas.   "
      ]
    },
    {
      "cell_type": "code",
      "metadata": {
        "id": "s6ixPQT-kUA3",
        "colab_type": "code",
        "outputId": "24de67a8-c448-4854-870b-79ada617a3a7",
        "colab": {
          "base_uri": "https://localhost:8080/",
          "height": 989
        }
      },
      "source": [
        "# converting non-numeric columns to numeric columns using \"one-hot encoding\"\n",
        "catgry = pd.get_dummies(apps_data['Category'],prefix='catg',drop_first=True)\n",
        "cr = pd.get_dummies(apps_data['Content Rating'],prefix='cr',drop_first=True)\n",
        "\n",
        "frames = [apps_data,catgry,cr]\n",
        "apps_data=pd.concat(frames,axis=1)\n",
        "apps_data = apps_data.drop(['Category', 'Content Rating'], axis=1)\n",
        "apps_data.info()"
      ],
      "execution_count": 20,
      "outputs": [
        {
          "output_type": "stream",
          "text": [
            "<class 'pandas.core.frame.DataFrame'>\n",
            "RangeIndex: 10840 entries, 0 to 10839\n",
            "Data columns (total 47 columns):\n",
            " #   Column                    Non-Null Count  Dtype  \n",
            "---  ------                    --------------  -----  \n",
            " 0   App                       10840 non-null  object \n",
            " 1   Rating                    9366 non-null   float64\n",
            " 2   Reviews                   10840 non-null  int64  \n",
            " 3   Size                      10840 non-null  float64\n",
            " 4   Installs                  10840 non-null  int64  \n",
            " 5   Type                      10839 non-null  object \n",
            " 6   Genres                    10840 non-null  object \n",
            " 7   Last Updated              10840 non-null  object \n",
            " 8   Current Ver               10832 non-null  object \n",
            " 9   Android Ver               10838 non-null  object \n",
            " 10  catg_AUTO_AND_VEHICLES    10840 non-null  uint8  \n",
            " 11  catg_BEAUTY               10840 non-null  uint8  \n",
            " 12  catg_BOOKS_AND_REFERENCE  10840 non-null  uint8  \n",
            " 13  catg_BUSINESS             10840 non-null  uint8  \n",
            " 14  catg_COMICS               10840 non-null  uint8  \n",
            " 15  catg_COMMUNICATION        10840 non-null  uint8  \n",
            " 16  catg_DATING               10840 non-null  uint8  \n",
            " 17  catg_EDUCATION            10840 non-null  uint8  \n",
            " 18  catg_ENTERTAINMENT        10840 non-null  uint8  \n",
            " 19  catg_EVENTS               10840 non-null  uint8  \n",
            " 20  catg_FAMILY               10840 non-null  uint8  \n",
            " 21  catg_FINANCE              10840 non-null  uint8  \n",
            " 22  catg_FOOD_AND_DRINK       10840 non-null  uint8  \n",
            " 23  catg_GAME                 10840 non-null  uint8  \n",
            " 24  catg_HEALTH_AND_FITNESS   10840 non-null  uint8  \n",
            " 25  catg_HOUSE_AND_HOME       10840 non-null  uint8  \n",
            " 26  catg_LIBRARIES_AND_DEMO   10840 non-null  uint8  \n",
            " 27  catg_LIFESTYLE            10840 non-null  uint8  \n",
            " 28  catg_MAPS_AND_NAVIGATION  10840 non-null  uint8  \n",
            " 29  catg_MEDICAL              10840 non-null  uint8  \n",
            " 30  catg_NEWS_AND_MAGAZINES   10840 non-null  uint8  \n",
            " 31  catg_PARENTING            10840 non-null  uint8  \n",
            " 32  catg_PERSONALIZATION      10840 non-null  uint8  \n",
            " 33  catg_PHOTOGRAPHY          10840 non-null  uint8  \n",
            " 34  catg_PRODUCTIVITY         10840 non-null  uint8  \n",
            " 35  catg_SHOPPING             10840 non-null  uint8  \n",
            " 36  catg_SOCIAL               10840 non-null  uint8  \n",
            " 37  catg_SPORTS               10840 non-null  uint8  \n",
            " 38  catg_TOOLS                10840 non-null  uint8  \n",
            " 39  catg_TRAVEL_AND_LOCAL     10840 non-null  uint8  \n",
            " 40  catg_VIDEO_PLAYERS        10840 non-null  uint8  \n",
            " 41  catg_WEATHER              10840 non-null  uint8  \n",
            " 42  cr_Everyone               10840 non-null  uint8  \n",
            " 43  cr_Everyone 10+           10840 non-null  uint8  \n",
            " 44  cr_Mature 17+             10840 non-null  uint8  \n",
            " 45  cr_Teen                   10840 non-null  uint8  \n",
            " 46  cr_Unrated                10840 non-null  uint8  \n",
            "dtypes: float64(2), int64(2), object(6), uint8(37)\n",
            "memory usage: 1.2+ MB\n"
          ],
          "name": "stdout"
        }
      ]
    },
    {
      "cell_type": "markdown",
      "metadata": {
        "id": "miC0TZekYaXr",
        "colab_type": "text"
      },
      "source": [
        "Now we are ready to define the features $\\mathbf{x}$ and labels $y$. We define the labels as the Type feature and encode. Additionally, we use every feature except App, Genres, Last Updated, Current Ver, and Android Ver for the input features. Finally, we prepare the training and test datasets for the model. In this step we introduce an semi-new concept *normalization*. Specifically, we will normalize the features (of non-categorical features) using their respective mean and standard deviations.  "
      ]
    },
    {
      "cell_type": "code",
      "metadata": {
        "id": "MCwfUDimoc3_",
        "colab_type": "code",
        "outputId": "650bd324-c1a1-416a-d9e7-452d098fe37f",
        "colab": {
          "base_uri": "https://localhost:8080/",
          "height": 197
        }
      },
      "source": [
        "# select the x and y variables for the model\n",
        "x = apps_data.loc[:, ~apps_data.columns.isin(['App', 'Genres', 'Last Updated', 'Current Ver', 'Android Ver'])].columns\n",
        "y = 'Type' \n",
        "\n",
        "apps_data = apps_data.drop(['App', 'Genres', 'Last Updated', 'Current Ver', 'Android Ver'], axis=1)\n",
        "\n",
        "# drop rows with missing values\n",
        "apps_data = apps_data.dropna()\n",
        "\n",
        "# convert \"Type\" column to int before creating y variable\n",
        "def convert_type_to_int(type):\n",
        "  if type == 'Free':\n",
        "    return 0\n",
        "  else:\n",
        "    return 1\n",
        "\n",
        "apps_data[y] = apps_data[y].map(convert_type_to_int)\n",
        "\n",
        "# normalize the non-categorical (not one-hot encoded) features\n",
        "norm_cols = ['Rating', 'Reviews', 'Size', 'Installs']\n",
        "\n",
        "means = apps_data[norm_cols].mean()\n",
        "std = apps_data[norm_cols].std()\n",
        "\n",
        "apps_data[norm_cols] -= means\n",
        "apps_data[norm_cols] /= std\n",
        "\n",
        "# split the dataset into a training set and a test set.\n",
        "# we will use the test set in the final evaluation of our model.\n",
        "train = apps_data.sample(frac=0.8, random_state=0)\n",
        "test = apps_data.drop(train.index)\n",
        "\n",
        "# separate the x (features) and y (labels) in the train/test datasets\n",
        "train_features = train[x].values\n",
        "test_features = test[x].values\n",
        "\n",
        "train_labels = train[y].values.reshape(-1, 1)\n",
        "test_labels = test[y].values.reshape(-1, 1)\n",
        "\n",
        "\n",
        "print('train features shape:', train_features.shape)\n",
        "print('train labels shape:', train_labels.shape)\n",
        "\n",
        "print('test features shape:', test_features.shape)\n",
        "print('test labels shape:', test_labels.shape)\n",
        "\n",
        "print('first 5 test labels:\\n', test_labels[:5])\n"
      ],
      "execution_count": 21,
      "outputs": [
        {
          "output_type": "stream",
          "text": [
            "train features shape: (7493, 42)\n",
            "train labels shape: (7493, 1)\n",
            "test features shape: (1873, 42)\n",
            "test labels shape: (1873, 1)\n",
            "first 5 test labels:\n",
            " [[0]\n",
            " [0]\n",
            " [0]\n",
            " [0]\n",
            " [0]]\n"
          ],
          "name": "stdout"
        }
      ]
    },
    {
      "cell_type": "markdown",
      "metadata": {
        "id": "0DxpwDL0icOO",
        "colab_type": "text"
      },
      "source": [
        "The above code returns a training and test dataset. For context, the `training_features` array contains about 7.5k rows (samples) and 42 columns (features). \n",
        "\n"
      ]
    },
    {
      "cell_type": "code",
      "metadata": {
        "id": "ZsoZiJj3tr1_",
        "colab_type": "code",
        "colab": {
          "base_uri": "https://localhost:8080/",
          "height": 71
        },
        "outputId": "dccccc89-5bc2-46e6-eec8-a43a0de078e3"
      },
      "source": [
        "counts = np.bincount(train_labels[:, 0])\n",
        "print(\n",
        "    \"Number of positive samples (paid apps) in training data: {} ({:.2f}% of total)\".format(\n",
        "        counts[1], 100 * float(counts[1]) / len(train_labels)\n",
        "    )\n",
        ")\n",
        "\n",
        "weight_for_0 = 1.0 / counts[0]\n",
        "weight_for_1 = 1.0 / counts[1]\n",
        "\n",
        "print('weight for free apps:', weight_for_0)\n",
        "print('weight for paid apps:', weight_for_1)"
      ],
      "execution_count": 31,
      "outputs": [
        {
          "output_type": "stream",
          "text": [
            "Number of positive samples (paid apps) in training data: 532 (7.10% of total)\n",
            "weight for free apps: 0.00014365752047119666\n",
            "weight for paid apps: 0.0018796992481203006\n"
          ],
          "name": "stdout"
        }
      ]
    },
    {
      "cell_type": "markdown",
      "metadata": {
        "id": "YB8P1GFcifvd",
        "colab_type": "text"
      },
      "source": [
        "## 3. Build the model\n",
        "Now that the data is ready, we can build a model. We will use Tensorflow to define a simple logistic regression model (single-layer neural network) to predict the class of each app (free or not). Given a smaple with a corresponding prediction that is above 0.5, the model will assign the \"paid\" (1) category to it, otherwise it is categorized as \"free\". \n",
        "\n",
        "We also define the loss function, optimization algorithm, and metrics and \"glue\" them together with the model using the `compile` method. We will use *binary cross-entropy* loss, *stochastic gradient descent*, and track the *accuracy* metric."
      ]
    },
    {
      "cell_type": "code",
      "metadata": {
        "id": "Ic4-QSbL5u94",
        "colab_type": "code",
        "outputId": "7b2012d4-53c3-4399-e519-9f3059805188",
        "colab": {
          "base_uri": "https://localhost:8080/",
          "height": 233
        }
      },
      "source": [
        "# build the linear model \n",
        "model = keras.Sequential([\n",
        "            layers.Input((train_features.shape[-1],)), # the input layer (corresponds to the features)\n",
        "            layers.Dense(1, activation='sigmoid'), # the output layer with the sigmoid function (this layer contains the weights and a bias term)\n",
        "        ], name='logistic_regression_model')\n",
        "\n",
        "print('model summary')\n",
        "print(model.summary())\n",
        "\n",
        "# define the loss function, optimization algorithm, and metrics for the model\n",
        "# and \"glue\" them all together\n",
        "model.compile(loss=keras.losses.BinaryCrossentropy(),\n",
        "              optimizer=keras.optimizers.SGD(learning_rate=0.01),\n",
        "              metrics=['accuracy'])\n"
      ],
      "execution_count": 49,
      "outputs": [
        {
          "output_type": "stream",
          "text": [
            "model summary\n",
            "Model: \"logistic_regression_model\"\n",
            "_________________________________________________________________\n",
            "Layer (type)                 Output Shape              Param #   \n",
            "=================================================================\n",
            "dense_8 (Dense)              (None, 1)                 43        \n",
            "=================================================================\n",
            "Total params: 43\n",
            "Trainable params: 43\n",
            "Non-trainable params: 0\n",
            "_________________________________________________________________\n",
            "None\n"
          ],
          "name": "stdout"
        }
      ]
    },
    {
      "cell_type": "markdown",
      "metadata": {
        "id": "UraXf-5skCxm",
        "colab_type": "text"
      },
      "source": [
        "## 4. Train the model\n",
        "No it's time to train the model. We will train it for 100 *epochs* (iterations) with a *batch size* of 2048 (the number of training examples to evaluate prior to doing gradient descent), and record the training and validation metrics in the `history` object."
      ]
    },
    {
      "cell_type": "code",
      "metadata": {
        "id": "uKw1OPoRmaXL",
        "colab_type": "code",
        "colab": {}
      },
      "source": [
        "epochs = 100\n",
        "batch_size = 2048\n",
        "\n",
        "\n",
        "history = model.fit(train_features, train_labels,\n",
        "                    epochs=epochs, validation_split=0.1,\n",
        "                    batch_size=batch_size)"
      ],
      "execution_count": 0,
      "outputs": []
    },
    {
      "cell_type": "markdown",
      "metadata": {
        "id": "aQQz-BI1kBXx",
        "colab_type": "text"
      },
      "source": [
        ""
      ]
    },
    {
      "cell_type": "code",
      "metadata": {
        "id": "BLbub2CrohPz",
        "colab_type": "code",
        "colab": {
          "base_uri": "https://localhost:8080/",
          "height": 387
        },
        "outputId": "dd243186-9291-42f7-f018-5262ef2a1b57"
      },
      "source": [
        "# create a dataframe to store the history \n",
        "hist = pd.DataFrame(history.history)\n",
        "hist['epoch'] = history.epoch\n",
        "print(hist.tail())\n",
        "\n",
        "# visualize the mean squared error over the training process\n",
        "hist.plot.line(x='epoch', y='val_accuracy');"
      ],
      "execution_count": 51,
      "outputs": [
        {
          "output_type": "stream",
          "text": [
            "        loss  accuracy  val_loss  val_accuracy  epoch\n",
            "95  0.298385  0.929705  0.311540      0.922667     95\n",
            "96  0.297189  0.929705  0.310386      0.922667     96\n",
            "97  0.296023  0.929705  0.309265      0.922667     97\n",
            "98  0.294891  0.929705  0.308172      0.922667     98\n",
            "99  0.293784  0.929705  0.307085      0.922667     99\n"
          ],
          "name": "stdout"
        },
        {
          "output_type": "display_data",
          "data": {
            "image/png": "[encoded data removed]",
            "text/plain": [
              "<Figure size 432x288 with 1 Axes>"
            ]
          },
          "metadata": {
            "tags": [],
            "needs_background": "light"
          }
        }
      ]
    },
    {
      "cell_type": "markdown",
      "metadata": {
        "id": "CGnpAbVjzhQm",
        "colab_type": "text"
      },
      "source": [
        "As the above plot suggests, our model converges to optimal parameters around the 40th epoch. The validation accuracy peaks around ~92.3%.  "
      ]
    },
    {
      "cell_type": "markdown",
      "metadata": {
        "id": "FWuWW0tcvV7_",
        "colab_type": "text"
      },
      "source": [
        "## 5. Evaluate the model\n",
        "Now that we trained our model, it's time to evaluate it using the test dataset, which we did not use when training the model. This gives us a sense of how well our model predicts unseen data, which is the case when we use it in the real world. We will use the `evaluate` method to test the model."
      ]
    },
    {
      "cell_type": "code",
      "metadata": {
        "id": "1cVnmxZB0h2_",
        "colab_type": "code",
        "colab": {
          "base_uri": "https://localhost:8080/",
          "height": 53
        },
        "outputId": "8c2d4e80-81cd-4ee1-e78c-e79a245a05b7"
      },
      "source": [
        "loss, accuracy = model.evaluate(test_features, test_labels)\n",
        "print('Test set accuracy: {}%'.format(round(accuracy, 4)*100))"
      ],
      "execution_count": 54,
      "outputs": [
        {
          "output_type": "stream",
          "text": [
            "59/59 [==============================] - 0s 2ms/step - loss: 0.2822 - accuracy: 0.9386\n",
            "Test set accuracy: 93.86%\n"
          ],
          "name": "stdout"
        }
      ]
    },
    {
      "cell_type": "markdown",
      "metadata": {
        "id": "92XmHVgW0xLg",
        "colab_type": "text"
      },
      "source": [
        "Wow! Our logistic regression model fit the Google Play Store data pretty well, correctly predicting whether an app was free or not around 93% to 94% of the time. However, the distribution of free apps to non-free apps in our datasets is is not balanced, this is called *class imbalance*. To give our results more context, we should check the *confusion matrix* to make sure the model wasn't just predicting every app as \"free\" since there are a lot more those than there are \"paid\" apps.\n",
        "\n",
        "A confusion matrix indicates the number of correct predictions and incorrect predictions for each class. It is particularly useful whenever the data has an imbalanced representation of the classes. The diagonals of a confusion matrix indicate the correct predictions for each class, while the cross-diagonal indicates misclassified predictions. Below is an example of a binary classification confusion matrix.\n",
        "\n",
        "<figure>\n",
        "  <img src='https://rasbt.github.io/mlxtend/user_guide/evaluate/confusion_matrix_files/confusion_matrix_1.png' width='35%'>\n",
        "  <figcaption>A basic confusion matrix</figcaption>\n",
        "</figure>"
      ]
    },
    {
      "cell_type": "code",
      "metadata": {
        "id": "c_hPEGd12NbY",
        "colab_type": "code",
        "colab": {
          "base_uri": "https://localhost:8080/",
          "height": 367
        },
        "outputId": "daf9fc59-aae0-4e44-e40e-1bd2a12b9c54"
      },
      "source": [
        "from sklearn import metrics\n",
        "\n",
        "test_predictions = (model.predict(test_features) > 0.5).astype('int32')\n",
        "test_predictions\n",
        "\n",
        "# measure the accuracy\n",
        "model_acc = metrics.accuracy_score(test_labels, test_predictions)\n",
        "print(f'logistic regression model accuracy: {round(model_acc*100, 2)}%')\n",
        "\n",
        "# plot confusion matrix\n",
        "labels = ['Free', 'Paid']\n",
        "cm = metrics.confusion_matrix(test_labels, test_predictions)\n",
        "print('confusion matrix:\\n', cm) \n",
        "\n",
        "plt.imshow(cm, cmap=plt.cm.Blues)\n",
        "plt.xlabel(\"Predicted labels\")\n",
        "plt.ylabel(\"True labels\")\n",
        "plt.xticks([0, 1], [0, 1])\n",
        "plt.yticks([0, 1], [0,1])\n",
        "plt.title('Confusion matrix ')\n",
        "plt.colorbar()\n",
        "plt.show()"
      ],
      "execution_count": 71,
      "outputs": [
        {
          "output_type": "stream",
          "text": [
            "logistic regression model accuracy: 93.86%\n",
            "confusion matrix:\n",
            " [[1758    0]\n",
            " [ 115    0]]\n"
          ],
          "name": "stdout"
        },
        {
          "output_type": "display_data",
          "data": {
            "image/png": "[encoded data removed]",
            "text/plain": [
              "<Figure size 432x288 with 2 Axes>"
            ]
          },
          "metadata": {
            "tags": [],
            "needs_background": "light"
          }
        }
      ]
    },
    {
      "cell_type": "markdown",
      "metadata": {
        "id": "ujEVg8_C4Y6J",
        "colab_type": "text"
      },
      "source": [
        "From the confusion matrix, we can deduce that the model isn't all that great. In fact, it resorted to predicting every app as free. There are a variety of ways to improve upon this issue, but we won't be covering them in this lesson. Nonetheless, it's important to be aware of misleading model results.\n",
        "\n",
        "Let's take a look at a more comprehensive set of evaluation metrics: accuracy, precision, and recall. Precision indicates the model's ability to return only relevant instances. While recall indicates the model's ability to identify all relevant instances; and depending on our data we may want a higher precision score or vice versa. If your curious, here is an in-depth discussion about these metrics: [Beyond Accuracy: Precision and Recall](https://towardsdatascience.com/beyond-accuracy-precision-and-recall-3da06bea9f6c). "
      ]
    },
    {
      "cell_type": "code",
      "metadata": {
        "id": "f6JPh9RVB_oX",
        "colab_type": "code",
        "outputId": "328a8c78-7a3d-4f50-baa7-be945f3ac65b",
        "colab": {
          "base_uri": "https://localhost:8080/",
          "height": 71
        }
      },
      "source": [
        "print(\"Accuracy: {}%\".format(round(model_acc*100, 2)))\n",
        "print(\"Precision:\", metrics.precision_score(test_labels, test_predictions, zero_division=True))\n",
        "print(\"Recall:\" ,metrics.recall_score(test_labels, test_predictions, zero_division=True))"
      ],
      "execution_count": 81,
      "outputs": [
        {
          "output_type": "stream",
          "text": [
            "Accuracy: 93.86%\n",
            "Precision: 1.0\n",
            "Recall: 0.0\n"
          ],
          "name": "stdout"
        }
      ]
    },
    {
      "cell_type": "markdown",
      "metadata": {
        "id": "YMvSCZRn6ATD",
        "colab_type": "text"
      },
      "source": [
        "What's the take away from all this...\n",
        "\n",
        "**Always, always contextualize the model's results.**\n"
      ]
    },
    {
      "cell_type": "markdown",
      "metadata": {
        "id": "HDoNhPh367sZ",
        "colab_type": "text"
      },
      "source": [
        "# Summary\n",
        "\n",
        "- We use *one-hot encoding* to represent categorical data.\n",
        "- Logistic regression is popular and foundational algorithm for classification in machine learning and deep learning (neural networks). \n",
        "- The *sigmoid* logit function maps the input features to a probability distribution.\n",
        "- Linear and logistic regression are very similar, they differ in two ways. First, the labels are continous numerical values in linear regression, while they are discrete numerical values (0 and 1) each representing a particular category. Second, logistic regression uses the sigmoid function to transform the input features into a probability space and the model learns the optimal parameters to maximize the probability of confidently predicting the correct class.  "
      ]
    },
    {
      "cell_type": "code",
      "metadata": {
        "id": "_mITAGLVCRsa",
        "colab_type": "code",
        "colab": {}
      },
      "source": [
        ""
      ],
      "execution_count": 0,
      "outputs": []
    }
  ]
}