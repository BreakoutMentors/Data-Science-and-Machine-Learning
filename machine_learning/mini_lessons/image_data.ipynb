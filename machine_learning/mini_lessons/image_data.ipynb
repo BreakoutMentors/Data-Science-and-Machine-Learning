{
  "nbformat": 4,
  "nbformat_minor": 0,
  "metadata": {
    "colab": {
      "name": "preparing image data.ipynb",
      "provenance": [],
      "authorship_tag": "ABX9TyN0tXCSXY37WruX2jWesoCc",
      "include_colab_link": true
    },
    "kernelspec": {
      "name": "python3",
      "display_name": "Python 3"
    }
  },
  "cells": [
    {
      "cell_type": "markdown",
      "metadata": {
        "id": "view-in-github",
        "colab_type": "text"
      },
      "source": [
        "<a href=\"https://colab.research.google.com/github/krmiddlebrook/intro_to_deep_learning/blob/master/machine_learning/mini_lessons/image_data.ipynb\" target=\"_parent\"><img src=\"https://colab.research.google.com/assets/colab-badge.svg\" alt=\"Open In Colab\"/></a>"
      ]
    },
    {
      "cell_type": "markdown",
      "metadata": {
        "id": "pwNWWpWzwuOI",
        "colab_type": "text"
      },
      "source": [
        "# Processing Image Data\n",
        "Computer vision is a field of machine learning that trains computers to interpret and understand the visual world. It is one of the most popular fields in deep learning (neural networks). In computer vision, it is common to use digital images from cameras and videos to train models to accurately identify and classify objects. \n",
        "\n",
        "Before we can solve computer vision tasks, it is important to understand how to handle  image data. To this end, we will demonstrate how to process (prepare) image data for machine learning models. \n",
        "\n",
        "We will use the MNIST digits dataset, which is provided by Kera Datasets--a collection of ready-to-use datasets for machine learning. All datasets are available through the `tf.keras.datasets` API endpoint. \n",
        "\n",
        "Here is the lesson roadmap:\n",
        "- Load the dataset\n",
        "- Visualize the data\n",
        "- Transform the data\n",
        "- Normalize the data"
      ]
    },
    {
      "cell_type": "code",
      "metadata": {
        "id": "EXbAivcw2Csr",
        "colab_type": "code",
        "colab": {}
      },
      "source": [
        "# TensorFlow and tf.keras and TensorFlow datasets\n",
        "import tensorflow as tf\n",
        "from tensorflow import keras\n",
        "\n",
        "# Commonly used modules\n",
        "import numpy as np\n",
        "\n",
        "# Images, plots, display, and visualization\n",
        "import matplotlib.pyplot as plt"
      ],
      "execution_count": null,
      "outputs": []
    },
    {
      "cell_type": "markdown",
      "metadata": {
        "id": "U8tRQe3hz0Xz",
        "colab_type": "text"
      },
      "source": [
        "# Load the dataset\n",
        "When we want to solve a problem with machine learning methods, the first step is almost always to find a good dataset. As we mentioned above, we will retrieve the MNIST dataset using the `tf.keras.datasets` module. \n",
        "\n",
        "The MNIST dataset contains 70k grayscale images of handwritten digits (i.e., numbers between 0 and 9). Let's load the dataset into our notebook."
      ]
    },
    {
      "cell_type": "code",
      "metadata": {
        "id": "lNn7bJffwtK8",
        "colab_type": "code",
        "colab": {
          "base_uri": "https://localhost:8080/",
          "height": 71
        },
        "outputId": "69cea2aa-06f9-4403-df9b-71ad9d20f379"
      },
      "source": [
        "# the data, split between train and test sets\n",
        "(train_features, train_labels), (test_features, test_labels) = keras.datasets.mnist.load_data()\n",
        "\n",
        "print(f\"training set shape: {train_features.shape}\")\n",
        "print(f\"test set shape: {test_features.shape}\")\n",
        "\n",
        "print(f'dtypes of training and test set tensors: {train_features.dtype}, {test_features.dtype}')\n"
      ],
      "execution_count": null,
      "outputs": [
        {
          "output_type": "stream",
          "text": [
            "training set shape: (60000, 28, 28)\n",
            "test set shape: (10000, 28, 28)\n",
            "dtypes of training and test set tensors: uint8, uint8\n"
          ],
          "name": "stdout"
        }
      ]
    },
    {
      "cell_type": "markdown",
      "metadata": {
        "id": "hXDAMmyl2DJn",
        "colab_type": "text"
      },
      "source": [
        "We see that TensorFlow Datasets takes care of most of the processing we need to do. The `training_features` object tells us that there are 60k training images, and the `test_features` indicates there are 10k test images, so 70k total. We also see that the images are tensors of shape ($28 \\times 28$) with integers of type uint8.\n"
      ]
    },
    {
      "cell_type": "markdown",
      "metadata": {
        "id": "C2fMQh96Qq9M",
        "colab_type": "text"
      },
      "source": [
        "## Visualize the dataset\n",
        "Now that we have the dataset, let's visualize some samples.\n",
        "\n",
        "We will use the matplotlib plotting framework to display the images. Here are the first 5 images in the training dataset.\n",
        "\n"
      ]
    },
    {
      "cell_type": "code",
      "metadata": {
        "id": "Nkc-9fzo2nHG",
        "colab_type": "code",
        "colab": {
          "base_uri": "https://localhost:8080/",
          "height": 399
        },
        "outputId": "04c66697-5eba-4798-925a-b9745a7989b4"
      },
      "source": [
        "plt.figure(figsize=(10, 10))\n",
        "for i in range(5):\n",
        "    ax = plt.subplot(3, 3, i + 1)\n",
        "    plt.imshow(train_features[i], cmap=plt.cm.binary)\n",
        "    plt.title(int(train_labels[i]))\n",
        "    plt.axis(\"off\")"
      ],
      "execution_count": null,
      "outputs": [
        {
          "output_type": "display_data",
          "data": {
            "image/png": "[encoded data removed]",
            "text/plain": [
              "<Figure size 720x720 with 5 Axes>"
            ]
          },
          "metadata": {
            "tags": [],
            "needs_background": "light"
          }
        }
      ]
    },
    {
      "cell_type": "markdown",
      "metadata": {
        "id": "YaTo-0HeRgL3",
        "colab_type": "text"
      },
      "source": [
        "The above images give us a sense of the data, including samples belonging to different classes. "
      ]
    },
    {
      "cell_type": "markdown",
      "metadata": {
        "id": "l7yBnog9R3z1",
        "colab_type": "text"
      },
      "source": [
        "# Transforming the data\n",
        "Before we start transforming data, let's discuss *tensors*--a key part of the machine learning (ML) process, particularly for deep learning methods. \n",
        "\n",
        "As we learned in previous lessons, data, whether it be categorical or numerical in nature, is converted to a numerical representation. This process makes the data useful for machine learning models. In deep learning (neural networks), the numerical data is often stored in objects called *tensors*. A tensor is a container that can house data in $N$ dimensions. ML researchers sometimes use the term \"tensor\" and \"matrix\" interchangeably because a matrix is a 2-dimensional tensor. But, tensors are generalizations of matrices to $N$-dimensional space. \n",
        "\n",
        "<figure>\n",
        "  <img src='https://www.kdnuggets.com/wp-content/uploads/scalar-vector-matrix-tensor.jpg' width='75%'>\n",
        "  <figcaption>A scalar, vector ($2 \\times 1$), matrix ($2 \\times 1$), and tensor ($2 \\times 2 \\times 2$) .</figcaption>\n",
        "</figure>"
      ]
    },
    {
      "cell_type": "code",
      "metadata": {
        "id": "B5H-RbwYkRvu",
        "colab_type": "code",
        "colab": {
          "base_uri": "https://localhost:8080/",
          "height": 35
        },
        "outputId": "9e5675d5-591c-48c7-a186-eb0380948e24"
      },
      "source": [
        "# a (2 x 2 x 2) tensor\n",
        "my_tensor = np.array([\n",
        "              [[1, 2], [3, 2]],\n",
        "              [[1, 7],[5, 4]]\n",
        "            ])\n",
        "\n",
        "print('my_tensor shape:', my_tensor.shape)"
      ],
      "execution_count": null,
      "outputs": [
        {
          "output_type": "stream",
          "text": [
            "my_tensor shape: (2, 2, 2)\n"
          ],
          "name": "stdout"
        }
      ]
    },
    {
      "cell_type": "markdown",
      "metadata": {
        "id": "KVDaFLJekQOx",
        "colab_type": "text"
      },
      "source": [
        "Now let's discuss how images are stored in tensors. Computer screens are composed of pixels. Each pixel generates three colors of light (red, green, and blue) and the different colors we see are due to different combinations and intensities of these three primary colors.   \n",
        "\n",
        "<figure>\n",
        "  <img src='https://www.chem.purdue.edu/gchelp/cchem/RGBColors/BlackWhiteGray.gif' width='75%'>\n",
        "  <figcaption>The colors black, white, and gray with a sketch of a pixel from each.</figcaption>\n",
        "</figure>\n",
        "\n",
        "We use tensors to store the pixel intensities for a given image. Colorized pictures have 3 different *channels*. Each channel contains a matrix that represents the intensity values that correspond to the pixels of a particular color (red, green, and blue; RGB for short). For instance, consider a small colorized $28 \\times 28$ pixel image of a dog. Because the dog image is colorize, it has 3 channels, so its tensor shape is ($28 \\times 28 \\times 3$).\n",
        "\n",
        "Let's have a look at the shape of the images in the MNIST dataset."
      ]
    },
    {
      "cell_type": "code",
      "metadata": {
        "id": "KSiz9BYuP5A9",
        "colab_type": "code",
        "colab": {
          "base_uri": "https://localhost:8080/",
          "height": 35
        },
        "outputId": "81c21ee9-cb47-4a9b-9d11-9b89e328bab8"
      },
      "source": [
        "train_features[0, :, :].shape"
      ],
      "execution_count": null,
      "outputs": [
        {
          "output_type": "execute_result",
          "data": {
            "text/plain": [
              "(28, 28)"
            ]
          },
          "metadata": {
            "tags": []
          },
          "execution_count": 12
        }
      ]
    },
    {
      "cell_type": "markdown",
      "metadata": {
        "id": "hJQb1gXjXJVf",
        "colab_type": "text"
      },
      "source": [
        "Using the `train_features.shape` method, we can extract the image shape and see that images are in the tensor shape $28 \\times 28$. The returned shape has no 3rd dimension, this indicates that we are working with grayscale images. By grayscale, we mean the pixels don't have intensities for red, green, and blue channels but rather for one grayscale channel, which describes an image using combinations of various shades of gray. Pixel intensities range between $0$ and $255$, and in our case, they correspond to black $0$ to white $255$.  \n",
        "\n",
        "\n",
        "Now let's reshape the images into $784 \\times 1$ dimensional tensors. We call converting an image into an $n \\times 1$ tensor \"flattening\" the tensor. "
      ]
    },
    {
      "cell_type": "code",
      "metadata": {
        "id": "biPfqtMUUrvM",
        "colab_type": "code",
        "colab": {
          "base_uri": "https://localhost:8080/",
          "height": 35
        },
        "outputId": "8c4c961d-0d5e-430d-9e92-e2cb0fc4b504"
      },
      "source": [
        "# get a subset of 5 images from the dataset\n",
        "original_shape = train_features.shape\n",
        "\n",
        "# Flatten the images.\n",
        "input_shape = (-1, 28*28)\n",
        "train_features = train_features.reshape(input_shape)\n",
        "test_features = test_features.reshape(input_shape) \n",
        "\n",
        "print(f'original shape: {original_shape}, flattened shape: {train_features.shape}')"
      ],
      "execution_count": null,
      "outputs": [
        {
          "output_type": "stream",
          "text": [
            "original shape: (60000, 28, 28), flattened shape: (60000, 784)\n"
          ],
          "name": "stdout"
        }
      ]
    },
    {
      "cell_type": "markdown",
      "metadata": {
        "id": "ifFQTBlODdkw",
        "colab_type": "text"
      },
      "source": [
        "We flattened all the images by using the NumPy `reshape` method. Since one shape dimension can be -1, and we may not always know the number of samples in the dataset we used $(-1,784)$ as the parameters to `reshape`. In our example, this means that each $28 \\times 28$ image gets flattened into a $28 \\cdot 28 = 784$ feature array. Then the images are stacked (because of the -1) to produce a final large tensor with shape $(\\text{num samples}, 784$).\n",
        "\n"
      ]
    },
    {
      "cell_type": "markdown",
      "metadata": {
        "id": "6bApbf2QMNnY",
        "colab_type": "text"
      },
      "source": [
        "# Normalize the data\n",
        "Another important transformation technique is *normalization*.  We normalize data before training the model with it to encourage the model to learn generalizable features, which should lead to better results on unseen data. \n",
        "\n",
        "At a high level, normalization makes the data more, well...normal. There are various ways to normalize data. Perhaps the most common normalization approach for image data is to subtract the mean pixel value and divide by the standard deviation (this method is applied to every pixel).\n",
        "\n",
        " "
      ]
    },
    {
      "cell_type": "markdown",
      "metadata": {
        "id": "8q2jJsyS9D7W",
        "colab_type": "text"
      },
      "source": [
        "Before we can do any normalization, we have to cast the \"uint8\" tensors to the \"float32\" numeric type."
      ]
    },
    {
      "cell_type": "code",
      "metadata": {
        "id": "SzbWgbJu9DCK",
        "colab_type": "code",
        "colab": {}
      },
      "source": [
        "# convert to float32 type \n",
        "train_features = train_features.astype('float32')\n",
        "test_features = test_features.astype('float32')"
      ],
      "execution_count": null,
      "outputs": []
    },
    {
      "cell_type": "markdown",
      "metadata": {
        "id": "OlTSmJZW9Nx1",
        "colab_type": "text"
      },
      "source": [
        "Now we can normalize the data. We should mention that you always use the training set data to calculate normalization statistics like mean, standard deviation, etc.. Consequently, the test set is always normalized with the training set statistics."
      ]
    },
    {
      "cell_type": "code",
      "metadata": {
        "id": "UqypdC9Kd_Xy",
        "colab_type": "code",
        "colab": {
          "base_uri": "https://localhost:8080/",
          "height": 53
        },
        "outputId": "73a73382-403e-4e61-a01e-87bb306db21c"
      },
      "source": [
        "# normalize the reshaped images\n",
        "mean = train_features.mean()\n",
        "std = train_features.std()\n",
        "\n",
        "train_features -= mean\n",
        "train_features /= std\n",
        "\n",
        "test_features -= mean\n",
        "test_features /= std\n",
        "\n",
        "print(f'pre-normalization mean and std: {round(mean, 4)}, {round(std, 4)}')\n",
        "print(f'normalized images mean and std: {round(train_features.mean(), 4)}, {round(train_features.std(), 4)}')"
      ],
      "execution_count": null,
      "outputs": [
        {
          "output_type": "stream",
          "text": [
            "pre-normalization mean and std: 33.31840133666992, 78.56739807128906\n",
            "normalized images mean and std: -0.0, 1.0\n"
          ],
          "name": "stdout"
        }
      ]
    },
    {
      "cell_type": "markdown",
      "metadata": {
        "id": "rQibn2RQL452",
        "colab_type": "text"
      },
      "source": [
        "As the output above indicates, the normalized pixel values are now centered around 0 (i.e., mean = 0) and have a standard deviation of 1."
      ]
    },
    {
      "cell_type": "markdown",
      "metadata": {
        "id": "fQsBVuRfMroF",
        "colab_type": "text"
      },
      "source": [
        "# Summary\n",
        "In this lesson we learned:\n",
        "- Keras offers ready-to-use datasets.\n",
        "- Images are represented by *tensors*\n",
        "- Tensors can be transformed (reshaped) and normalized easily using NumPy (or any other frameworks that enable tensor operations).\n",
        "  "
      ]
    },
    {
      "cell_type": "code",
      "metadata": {
        "id": "TtX-_iFu_FTl",
        "colab_type": "code",
        "colab": {}
      },
      "source": [
        ""
      ],
      "execution_count": null,
      "outputs": []
    }
  ]
}