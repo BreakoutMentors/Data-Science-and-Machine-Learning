{
  "nbformat": 4,
  "nbformat_minor": 0,
  "metadata": {
    "colab": {
      "name": "challenge - softmax regression.ipynb",
      "provenance": [],
      "include_colab_link": true
    },
    "kernelspec": {
      "name": "python3",
      "display_name": "Python 3"
    }
  },
  "cells": [
    {
      "cell_type": "markdown",
      "metadata": {
        "id": "view-in-github",
        "colab_type": "text"
      },
      "source": [
        "<a href=\"https://colab.research.google.com/github/BreakoutMentors/Data-Science-and-Machine-Learning/blob/adam-dataset-updates/machine_learning/lesson%202%20-%20logistic%20regression/challenges/challenge_softmax_regression.ipynb\" target=\"_parent\"><img src=\"https://colab.research.google.com/assets/colab-badge.svg\" alt=\"Open In Colab\"/></a>"
      ]
    },
    {
      "cell_type": "markdown",
      "metadata": {
        "id": "j5tjTDNmgWup"
      },
      "source": [
        "# Softmax regression with Airbnb data\n",
        "The goal in this challenge is to build a softmax regression classifier to predict the room type of New York City Airbnb listings using other features. Use PyTorch to build, train, and evaluate the model.\n",
        "\n",
        "Challenges:\n",
        "1. Load and prepare the Airbnb dataset.\n",
        "2. Build the model.\n",
        "3. Train the model.\n",
        "4. Evaluate the model.\n",
        "5. Draw conclusions. \n"
      ]
    },
    {
      "cell_type": "code",
      "metadata": {
        "id": "foMBp5MTfHNP"
      },
      "source": [
        "# import the libraries we need\n",
        "import pandas as pd\n",
        "import numpy as np\n",
        "import matplotlib.pyplot as plt\n",
        "\n",
        "# PyTorch\n",
        "import torch\n",
        "import torch.nn"
      ],
      "execution_count": null,
      "outputs": []
    },
    {
      "cell_type": "markdown",
      "metadata": {
        "id": "4E-X1Z9dTANK"
      },
      "source": [
        "# 1. Load and prepare the data \n",
        "Load the dataset into a pandas dataframe, and prepare it for the model. \n",
        "\n",
        "Hints: \n",
        "- Define the features ($\\mathbf{x}$) and labels ($y$). You will probably want to use the Pandas `get_dummies` function to convert the `room_type` column to the proper numerical representation, think *one-hot encoding*. The model will predict whether the listing is an entire home/apartment, private room, or shared room\n",
        "- Split the dataset into training and test sets.\n",
        "- Separate the features and labels in training set and test set."
      ]
    },
    {
      "cell_type": "code",
      "metadata": {
        "id": "hAjCB4CrggwB"
      },
      "source": [
        "data_url = 'https://raw.githubusercontent.com/BreakoutMentors/Data-Science-and-Machine-Learning/main/datasets/AB_NYC_2019.csv'\n",
        "# your code here\n"
      ],
      "execution_count": null,
      "outputs": []
    },
    {
      "cell_type": "markdown",
      "metadata": {
        "id": "s5bO4KyxSoy3"
      },
      "source": [
        "# 2. Build your model\n",
        "Build a model to model the relationship between the features $x$ (multiple features) and labels $y$ (Type 1).\n",
        "\n",
        "\n",
        "Hints:\n",
        "- use the `nn.Linear` class to define your linear model layer\n",
        "- define your loss function with the [`nn.CrossEntropyLoss`](https://pytorch.org/docs/stable/generated/torch.nn.CrossEntropyLoss.html) class from PyTorch, which uses `nn.Softmax` activation function built-in so no need to use it in the model.\n",
        "- configure the optimization algorithm with stochastic gradient descent\n",
        "- track the accuracy metric  "
      ]
    },
    {
      "cell_type": "code",
      "metadata": {
        "id": "zgNpVNPylBo0"
      },
      "source": [
        "# your code here\n",
        "class Logistic_Model(nn.Module):\n",
        "    # Constructor\n",
        "    def __init__(self, num_features, num_classes):\n",
        "        # Todo\n",
        "    \n",
        "    # Forward Method\n",
        "    def forward(self, x):\n",
        "        # Todo\n",
        "        return x\n",
        "num_features = #\n",
        "num_classes = #\n",
        "model = Logistic_Model(num_features, num_classes)\n",
        "\n",
        "loss_fn = #\n",
        "optimizer = #"
      ],
      "execution_count": null,
      "outputs": []
    },
    {
      "cell_type": "markdown",
      "metadata": {
        "id": "uxXkdszdaWOx"
      },
      "source": [
        "# 3. Train your model\n",
        "Now that you have a model, it's time to train it. Train your model for 100 epochs (i.e., iterations), and record the training, validation, and accuracy metrics in lists."
      ]
    },
    {
      "cell_type": "code",
      "metadata": {
        "id": "z7ixliHPbBOh"
      },
      "source": [
        "# your code here\n",
        "\n"
      ],
      "execution_count": null,
      "outputs": []
    },
    {
      "cell_type": "markdown",
      "metadata": {
        "id": "6jIPMBcCbQHh"
      },
      "source": [
        "Visualize the accuracy metric or crossentropy over the training process. Hint: create a line chart with the epoch (x) and the accuracy (y).  "
      ]
    },
    {
      "cell_type": "code",
      "metadata": {
        "id": "AnAzMXGIcID_"
      },
      "source": [
        "# your code here\n"
      ],
      "execution_count": null,
      "outputs": []
    },
    {
      "cell_type": "markdown",
      "metadata": {
        "id": "-JYygMTpbJ7y"
      },
      "source": [
        "# 4. Evaluate the model\n",
        "Now that the model is trained, it's time to evaluate it using the test dataset, which you did not use when training the model. This gives you a sense of how well the model predicts unseen data, which is the case when you use it in the real world. Make sure to evaluate the model and visualize it's predictions against the true values. \n",
        "\n",
        "Hints: \n",
        "- Calculate test accuracy."
      ]
    },
    {
      "cell_type": "code",
      "metadata": {
        "id": "Oz5dKGh2d38y"
      },
      "source": [
        "# your code here"
      ],
      "execution_count": null,
      "outputs": []
    },
    {
      "cell_type": "markdown",
      "metadata": {
        "id": "eN1XYgl-d-be"
      },
      "source": [
        "# 5. Draw conclusions\n",
        "Write up your conclusions about the model. Report the goal, the model design, and the results. Make sure to contextualize the model results as best you can."
      ]
    },
    {
      "cell_type": "markdown",
      "metadata": {
        "id": "ocjwpN6aesnH"
      },
      "source": [
        ""
      ]
    }
  ]
}