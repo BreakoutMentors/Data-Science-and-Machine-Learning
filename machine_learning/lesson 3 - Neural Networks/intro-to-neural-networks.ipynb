{
  "nbformat": 4,
  "nbformat_minor": 0,
  "metadata": {
    "colab": {
      "name": "Intro-to-Neural-Networks.ipynb",
      "provenance": [],
      "authorship_tag": "ABX9TyN5J3T04mlsuzsgIEPPTKbi",
      "include_colab_link": true
    },
    "kernelspec": {
      "name": "python3",
      "display_name": "Python 3"
    },
    "accelerator": "GPU"
  },
  "cells": [
    {
      "cell_type": "markdown",
      "metadata": {
        "id": "view-in-github",
        "colab_type": "text"
      },
      "source": [
        "<a href=\"https://colab.research.google.com/github/BreakoutMentors/Data-Science-and-Machine-Learning/blob/master/machine_learning/lesson%203%20-%20Neural%20Networks/intro-to-neural-networks.ipynb\" target=\"_parent\"><img src=\"https://colab.research.google.com/assets/colab-badge.svg\" alt=\"Open In Colab\"/></a>"
      ]
    },
    {
      "cell_type": "markdown",
      "metadata": {
        "id": "r0mauKRSBpNE",
        "colab_type": "text"
      },
      "source": [
        "# Intro to Neural Networks\n",
        "<figure><img src='https://mk0analyticsindf35n9.kinstacdn.com/wp-content/uploads/2018/12/nural-network-banner.gif' width='70%'></img><figcaption>A Feed Forward Neural Network</figcaption>\n",
        "</figure>\n",
        "\n",
        "\n",
        "\n",
        "In the previous lesson, we introduced the softmax regression method to solve multi-class classification tasks ([softmax regression](https://github.com/BreakoutMentors/Data-Science-and-Machine-Learning/blob/master/machine_learning/lesson%202%20-%20logistic%20regression/softmax-regression.ipynb)), implementing a classifer to recognize 10 handwritten digits from the MNIST digits dataset. \n",
        "\n",
        "We've come a long way and covered many concepts throughout this series, with each lesson building on the previous material. We've learned how to clean data, create linear models (via linear regression), coerce model outputs into a valid probability distribution (via logistic and softmax regression), train models using Sklearn and Tensorflow, apply the appropriate loss function, and to minimize it with respect to our model's parameters (via optimization algorithms). Now that we have a healthy understanding of these concepts in the context of simple linear models, we are ready to explore neural networks--one of the most exciting and successful methods in modern machine learning! \n",
        "\n",
        "In this lesson, we describe deep linear neural networks at a high level, focusing on their structure, and demonstrate how to build one using Tensorflow. \n",
        "\n",
        "To make this lesson more approachable, we don't cover every detail about neural networks here, but we aim to provide enough information for you to create your own  neural networks and to inspire you to explore deep learning in more detail.  \n",
        " \n",
        "Lesson roadmap: \n",
        "- High level introduction to *neural networks*.\n",
        "- Building neural networks in Python - recreating the feed forward neural network model in 3Blue1Brown's excellent video [But what is a Neural Network? | Deep learning, chapter 1](https://www.youtube.com/watch?v=aircAruvnKk&t=436s) and training it to classify handwritten digits. As you will see, this simple feed forward neural network achieves impressive results. \n",
        "\n",
        "\n"
      ]
    },
    {
      "cell_type": "markdown",
      "metadata": {
        "id": "L_vNvRWXQPJ-",
        "colab_type": "text"
      },
      "source": [
        "## Neural Networks\n",
        "Although neural networks only recently became popular, they've been around for quite some time. In fact, they first appeared in machine learning research way back in the late 1950s! But they didn't become popular until after 2012, when researchers built a neural network to classify different kinds of labeled images, achieving groundbreaking results (see [ImageNet Classification with Deep Convolutional\n",
        "Neural Networks](http://papers.nips.cc/paper/4824-imagenet-classification-with-deep-convolutional-neural-networks.pdf)). Since then, neural networks have become widely used in machine learning. Neural networks are successful, in part, because they can effectively learn representations of complex data (e.g., images, text, sound, tabular, etc.), especially given enough data and computing power.    \n",
        "\n",
        "At a high level, there are three fundemental types of neural networks: 1) encoders, 2) decoders, or 3) a combination of both. We will focus on *encoders*. \n",
        "\n",
        "Encoder networks take in some input data (i.e., images, texts, sounds, etc.) and output *predictions*, just like the linear models we've been working with. The simplest type of neural networks are called feed forward neural networks (FFNNs), and they consist of many *layers* of *neurons* each *fully-connected* to those in the layer below (from which they receive input) and those above (which they, in turn, influence). \n",
        "\n",
        "FFNNs may sound complex right now, but hang in there. In many ways FFNNs are the superpowered version of the linear models we already know about. Like the linear models we've discussed (linear/logistic/softmax regression), neural networks can be configured to solve different kinds of tasks: either *regression* or *classification*. \n",
        "\n",
        "\n",
        "Here are some quick facts about neural networks:\n",
        "- They are effective models for learning to represent complex data (like images, text, sound, tabular, etc.).\n",
        "- Encoder-based networks, which take input data and output predictions, are probably the most common neural networks - they are useful for classification and regression tasks\n",
        "- Feed forward neural networks (FFNNs) are the simplest type of neural network. They consist of many *layers* of *neurons* each *fully-connected* to those in the layer below (from which they receive input) and those above (which they, in turn, influence). \n",
        "- FFNNs are like linear models on steriods. They have many more parameters than simple linear models, which enables them to learn more complex relationships from the input data. \n",
        "- Even though FFNNs are the simplest kind of neural network, they can be very effective. \n",
        "\n"
      ]
    },
    {
      "cell_type": "markdown",
      "metadata": {
        "id": "Ig4f4QOYdvNM",
        "colab_type": "text"
      },
      "source": [
        "**Challenge:** What are two tasks that you think encoder networks might be at good at solving?"
      ]
    },
    {
      "cell_type": "markdown",
      "metadata": {
        "id": "bd3jWYZoLbjV",
        "colab_type": "text"
      },
      "source": [
        "### Feed Forward Neural Networks\n",
        "<figure><img src='https://thumbs.gfycat.com/WeepyConcreteGemsbok-size_restricted.gif' width='100%'></img><figcaption>A Feed Forward Neural Network | <em>Source: <a href='https://www.youtube.com/watch?v=aircAruvnKk&t=436s'>3Blue1Brown - But what is a Neural Network? Deep Learning Part 1</a></em></figcaption>\n",
        "</figure>\n",
        "\n",
        "Did you watch the [3Blue1Brown video on neural networks](https://www.youtube.com/watch?v=aircAruvnKk&t=436s)? If you haven't yet, I highly recommend checking it out (feel free to rewatch it too, it's a great overview of neural networks). I'll frequently be referencing important concepts that the video talks about. \n",
        "\n",
        "In the following sections, we will summarize the key concepts behind neural networks. First, we describe the motivation and inspiration behind neural networks. Then, we dive into the structure of neural networks, outlining a few critical pieces that make them work. \n",
        "\n",
        "*Note, we describe these concepts from the perspective of a feed forward neural network. That said, the fundemental ideas discussed generalize to almost every type of neural network.*"
      ]
    },
    {
      "cell_type": "markdown",
      "metadata": {
        "id": "pMetO8ANP0Ft",
        "colab_type": "text"
      },
      "source": [
        "#### Neural Networks: Neural Network $=$ Brain?\n",
        "<figure><img src='https://github.com/BreakoutMentors/Data-Science-and-Machine-Learning/blob/master/images/neural-network-brain-pizza-yoda-analogy.png?raw=true' width='75%'></img><figcaption>\"Pizza, I like\" - Yoda</figcaption>\n",
        "</figure>\n",
        "\n",
        "\n",
        "No, neural networks $\\neq$ brains.\n",
        "While neural networks don't actually operate like brains, they were inspired by them. \n",
        "\n",
        "Let's consider an extremely oversimplified version of the brain. The brain is an organ that uses neurons to process information and make decisions. The neurons are what the brain uses to process data (i.e., information about the world). When some piece of data is sent to a neuron it activates (or dpesn't). The magnitude/strength (i.e., positive or negative) of the activation triggers other groups of neurons to activate (or not). Eventually, this process outputs a decision--based on a combination of the prior triggers and activations--as a response to the input data. As an example, let's say there is a pizza in the kitchen and my nose picks up the scent. The smell of freshly baked dough and melted cheese activates my \"I'm hungry neurons\". Eventually, I can't ignore these neurons any longer, so I run to the kitchen and eat some pizza.\n"
      ]
    },
    {
      "cell_type": "markdown",
      "metadata": {
        "id": "qjoDiltUbVTg",
        "colab_type": "text"
      },
      "source": [
        "#### Neural Networks: Neurons\n",
        "<figure><img src='https://github.com/BreakoutMentors/Data-Science-and-Machine-Learning/blob/master/images/neuron-3blue1brown.png?raw=true' width='75%'></img><figcaption>Neural Networks: Neuron | <em>Source: <a href='https://www.youtube.com/watch?v=aircAruvnKk&t=436s'>3Blue1Brown - But what is a Neural Network? Deep Learning Part 1</a></em></figcaption>\n",
        "</figure>\n",
        "\n",
        "**Neurons** are at the core of neural networks (after all, they are practically in the name). At a high level, a neuron holds a corresponding value (i.e., number) called an **activation**. The activation can be represented by a tiny value, a large value, or a value somewhere in between. A neuron is \"lit up\" (i.e., activated) when its corresponding activation is large, and it is \"dim\" (i.e., not very activated) when its activation is small. Connecting this to the pizza example, my \"I'm hungry neurons\" lit up after I smelled the pizza in the kitchen.    \n",
        "\n"
      ]
    },
    {
      "cell_type": "markdown",
      "metadata": {
        "id": "iCxJiSdYOGjl",
        "colab_type": "text"
      },
      "source": [
        "#### Neural Networks: Layers\n",
        "<figure><img src='https://miro.medium.com/max/1280/1*_nTmA2RowzQBCqI9BVtmEQ.gif' width='75%'></img><figcaption>The Neural Network's Secret Sauce: Stacking Layers | <em>Source: <a href='https://www.youtube.com/watch?v=aircAruvnKk&t=436s'>3Blue1Brown - But what is a Neural Network? Deep Learning Part 1</a></em></figcaption>\n",
        "</figure>\n",
        "\n",
        "The secret sauce driving neural networks is the technique of *stacking layers*. At a high level, this method enables the neural network to learn an effective representation of the data. The layers that are in between the input layer and the output layer are called *hidden layers*.\n",
        "\n",
        "A **layer** is composed of a set of **neurons**. We can manually configure the number of neurons we want to have in each layer, except for in the first and last ones. When we add more neurons and layers to the model, we add more parameters (weights and biases) to it. As a result, larger models (models with many parameters) can be computationally expensive, but very effective. This creates a trade-off between computation effeciency and model representation ability (making smaller models as effective as bigger ones is an active area of research). \n",
        "\n",
        "For classification tasks, the number of neurons in the last layer is determined by the number of categories/classes in the dataset. While in regression tasks, there is generally only one neurons in the final layer, since we are predicting a continuous value (e.g., the happiness score for a particular country). "
      ]
    },
    {
      "cell_type": "markdown",
      "metadata": {
        "id": "KlPlPHMIiQMb",
        "colab_type": "text"
      },
      "source": [
        "**Challenge:** In the above figure (from previous cell), how many layers are in the neural network? How many are hidden layers? How many neurons are in the first layer? How many are in the last layer? "
      ]
    },
    {
      "cell_type": "markdown",
      "metadata": {
        "id": "KTaJK53oefzY",
        "colab_type": "text"
      },
      "source": [
        ""
      ]
    },
    {
      "cell_type": "markdown",
      "metadata": {
        "id": "aoGtSuj-h7D9",
        "colab_type": "text"
      },
      "source": [
        "#### Neural Networks: Weights & Activation Functions \n",
        "<figure><img src='https://thumbs.gfycat.com/BabyishGeneralFruitfly-size_restricted.gif' width='65%'></img><figcaption>Calculating a Neuron's Activation: Connections and Weights (1) | <em>Source: <a href='https://www.youtube.com/watch?v=aircAruvnKk&t=436s'>3Blue1Brown - But what is a Neural Network? Deep Learning Part 1</a></em></figcaption>\n",
        "</figure>\n",
        "\n",
        "<figure><img src='https://thumbs.gfycat.com/GlitteringCavernousGoosefish-small.gif' width='65%'></img><figcaption>Calculating a Neuron's Activation: Connections and Weights (2)| <em>Source: <a href='https://www.youtube.com/watch?v=aircAruvnKk&t=436s'>3Blue1Brown - But what is a Neural Network? Deep Learning Part 1</a></em></figcaption>\n",
        "</figure>\n",
        "\n",
        "Neural networks pass information through the network using connections between pairs of neurons in adjacent layers. Each connection has a corresponding **weight** parameter that is learned during the model training phase. As shown in the figure above, the activation of a neuron in a subsequent layer is determined by the *weighted sum* of the weights and activations of the neurons in the previous layer (i.e., connections). A **bias** term is added at the end of the weighted sum to control how large/small a neuron's weighted sum must be to activate. Before the neuron receives a final activation value, the weighted sum is *squeezed* by an **activation function**. \n",
        "\n",
        "Activation functions and parameters (weights and biases)may sound intimidating. Fortunately, you already know a lot about these concepts: 1) the *sigmoid* and *softmax* logit functions are examples of activation functions, 2) linear models (linear/logistic/softmax) use the same *weighted sum* method to activate neurons in subsequent layers, the difference is these networks only have one layer after the input. \n",
        "\n",
        "As you may remember from the logistic and softmax lessons, these logit functions convert the inputs to a valid probability space. An activation function, more generally, can be defined as any function that transforms the neuron output. It is common to choose an activation function that normalizes the input between 0 and 1 or -1 and 1. \n",
        "\n",
        "\n",
        "Activation functions play a critical role in building effective deep neural networks. They can help the network converge quickly (find the right parameters) and improve the model's overall performance. \n",
        "\n",
        "In the diagrams above, the second layer has one neuron. This neuron is connected to every other neuron in the previous layer. Consequently, it has 784 connections plus one bias term. That's a lot of number crunching! For this reason, we generally select activation functions that can be computed effeciently (quickly). \n",
        "\n",
        "<figure><img src='https://github.com/BreakoutMentors/Data-Science-and-Machine-Learning/blob/master/images/sigmoid-activation-3Blue1Brown.png?raw=true' width='65%'></img><figcaption>Calculating a Neuron's Activation: Sigmoid Activation Function (2)| <em>Source: <a href='https://www.youtube.com/watch?v=aircAruvnKk&t=436s'>3Blue1Brown - But what is a Neural Network? Deep Learning Part 1</a></em></figcaption>\n",
        "</figure>\n",
        "\n",
        "So far we've only discussed connections and activations in the context of one neuron in a subsequent layer. But, most layers have many neurons. The good news is, we calculate neuron activations in the same way as before. The bad news is, we have to repeat the calculation process many times over. For example, in the diagrams below we see that all 16 neurons in the 2nd layer are connected to every other neuron in the 1st layer (i.e., 784 neurons). Thus, we need to  perform $784\\times16$ weights $ + 16$ biases calculations to get the activations for the 16 neurons in the 2nd layer. Doing this by hand would be way too difficult, but luckily, we can make computers do most of the heavy lifting. \n",
        "\n",
        "<figure><img src='https://github.com/BreakoutMentors/Data-Science-and-Machine-Learning/blob/master/images/2-layer-weights-biases-connections-3Blue1Brown.png?raw=true' width='65%'></img><figcaption>Calculating a Neuron's Activation: Sigmoid Activation Function (2) | <em>Source: <a href='https://www.youtube.com/watch?v=aircAruvnKk&t=436s'>3Blue1Brown - But what is a Neural Network? Deep Learning Part 1</a></em></figcaption>\n",
        "</figure>\n"
      ]
    },
    {
      "cell_type": "markdown",
      "metadata": {
        "id": "RRgYYTTyiI1_",
        "colab_type": "text"
      },
      "source": [
        "**Challenge:** In the below neural network diagram, how many weights and biases are there between the 2nd layer and the 3rd layer? How many total weights and biases are there in the entire network? Hint: all neurons are connected to every other neuron in the previous layer. \n",
        "\n",
        "<figure><img src='https://thumbs.gfycat.com/DeadlyDeafeningAtlanticblackgoby-poster.jpg' width='65%'></img><figcaption>A Neural Network: Total Weights & Biases | <em>Source: <a href='https://www.youtube.com/watch?v=aircAruvnKk&t=436s'>3Blue1Brown - But what is a Neural Network? Deep Learning Part 1</a></em></figcaption>\n",
        "</figure>"
      ]
    },
    {
      "cell_type": "markdown",
      "metadata": {
        "id": "yt1EV_1rXaj8",
        "colab_type": "text"
      },
      "source": [
        "## Building a Neural Network: Summary\n",
        "Now that we know a little about neural networks, it's time to make our own! In this section, we demonstrate how to build a neural network in Python using Tensorflow. Specifically, we implement the neural network from 3Blue1Brown's video [But what is a Neural Network? Deep Learning Part 1](https://www.youtube.com/watch?v=aircAruvnKk&t=436s) to classify 10 types of handwritten digits from the MNIST dataset. Before we start, let's summarize what we know so far about neural networks:\n",
        "- *Stacking layers* is their secret sauce - enabling the model to learn an effective representations of the data (most of the time).\n",
        "- Layers are comprised of *neurons*. We configure the number of neurons in *hidden layers*. \n",
        "- Neurons hold a corresponding *activation* - large activations \"light up\" neurons.   \n",
        "- The activations of neurons are determined by the weighted sum of their *connections* with the previous layer's neurons - quantified by *weights* and a *bias* term. The resulting output is then squeezed by an *activation function* such as the *sigmoid* function.\n",
        "- For classification tasks, the number of neurons in the last layer corresponds to the number of classes/categories in the dataset.    \n",
        "\n",
        "Now, it's time to make our first neural network!"
      ]
    },
    {
      "cell_type": "markdown",
      "metadata": {
        "id": "eJK_aPDqWWV4",
        "colab_type": "text"
      },
      "source": [
        "### Classification of Handwritten Digits with a Feed Forward Neural Network\n",
        "<figure><img src='https://thumbs.gfycat.com/ViciousUnnaturalAmethystsunbird-max-1mb.gif' width='75%'></img><figcaption>A Neural Network: Total Weights & Biases | <em>Source: <a href='https://www.youtube.com/watch?v=aircAruvnKk&t=436s'>3Blue1Brown - But what is a Neural Network? Deep Learning Part 1</a></em></figcaption>\n",
        "</figure>\n",
        "\n",
        "In this section, we will recreate the feed forward neural network (FFNN) from 3Blue1Brown's video [But what is a Neural Network? Deep Learning Part 1](https://www.youtube.com/watch?v=aircAruvnKk&t=436s) and use it to classify handwritten digits from the MNIST dataset. This process involves several steps: 1) [loading the dataset](#-Step-1:-Loading-the-Dataset), 2) [building the model](#-Step-2:-Building-the-Model), 3) [training the model](#-Step-3:-Training-the-Model), 4) [testing the model](#-Step-4:-Testing-the-Model).\n",
        "\n"
      ]
    },
    {
      "cell_type": "markdown",
      "metadata": {
        "id": "uHnGsX_4X_HN",
        "colab_type": "text"
      },
      "source": [
        "### Prerequisites: Google Colab + building neural networks in python \n",
        "We recommend that you run this this notebook in the cloud on Google Colab, if you're not already doing so. It's the simplest way to get started. Google Colab gives you free access to specialized compute resources called [GPUs](https://en.wikipedia.org/wiki/Graphics_processing_unit) and [TPUs](https://en.wikipedia.org/wiki/Tensor_processing_unit). In modern machine learning these resources are frequently used because they significantly speed up model training compared to using [CPUs](https://en.wikipedia.org/wiki/Central_processing_unit) (your computer is probably using CPUs). At a high level, GPUs and TPUs are special types of computer chips that excel at performing computations on large matrices. They perform mathematical matrix operations like multiplication, addition, subtraction, etc. at a much higher rate (i.e., speed) than CPUs.    \n",
        "\n",
        "Native Python code won't run on GPUs and TPUs because they use specialized operating system *kernels*. We could convert our code to a language that these kernals can understand, but that would be a very tedious and frustrating process. Fortunately, there are several open-source Python libraries exist that do the heavy lifting for us. In particular, the two most popular open-source libraries are [PyTorch](https://pytorch.org/) and [Tensorflow](https://www.tensorflow.org/). These libraries enable us to build custom neural networks in Python that can run on GPUs and TPUs! \n",
        "\n",
        "In this lesson we will use Tensorflow because it is a bit easier to use (while you are learning about neural networks) and it comes preinstalled in Google Colab. It is also possible to [install TensorFlow locally](https://www.tensorflow.org/install/). But, the simple solution is normally best (i.e., use Google Colab).\n",
        " \n",
        "[tf.keras](https://www.tensorflow.org/guide/keras) is the simplest way to build and train neural network models in TensorFlow, so we will use it throughout this lessons.\n",
        "\n",
        "Note that there's [tf.keras](https://www.tensorflow.org/guide/keras) (comes with TensorFlow) and there's [Keras](https://keras.io/) (standalone). You should be using [tf.keras](https://www.tensorflow.org/guide/keras) because 1) it comes with TensorFlow so you don't need to install anything extra and 2) it comes with powerful TensorFlow-specific features.\n",
        "\n",
        "Lastly, to accelerate model training time, you may want to run this notebook on a GPU in Google Colab. To do this, click on the \"Runtime\" tab in the top left corner of the notebook, click \"Change runtime type\", and select the \"GPU\" option under \"Hardware accelerator\". "
      ]
    },
    {
      "cell_type": "code",
      "metadata": {
        "id": "9-ZEitUdbQJo",
        "colab_type": "code",
        "outputId": "a5ae5058-3c70-4c58-bb43-b864d491afbe",
        "colab": {
          "base_uri": "https://localhost:8080/",
          "height": 71
        }
      },
      "source": [
        "# TensorFlow and tf.keras\n",
        "import tensorflow as tf\n",
        "from tensorflow import keras\n",
        "from tensorflow.keras.layers import Input, Flatten, Dense\n",
        "\n",
        "# Commonly used modules\n",
        "import numpy as np\n",
        "import os\n",
        "import sys\n",
        "\n",
        "# Images, plots, display, and visualization\n",
        "import matplotlib.pyplot as plt\n",
        "import pandas as pd\n",
        "import seaborn as sns\n",
        "import cv2\n",
        "import IPython\n",
        "from six.moves import urllib\n",
        "\n",
        "print('Tensorflow version:', tf.__version__)"
      ],
      "execution_count": 1,
      "outputs": [
        {
          "output_type": "stream",
          "text": [
            "/usr/local/lib/python3.6/dist-packages/statsmodels/tools/_testing.py:19: FutureWarning: pandas.util.testing is deprecated. Use the functions in the public API at pandas.testing instead.\n",
            "  import pandas.util.testing as tm\n"
          ],
          "name": "stderr"
        },
        {
          "output_type": "stream",
          "text": [
            "Tensorflow version: 2.2.0\n"
          ],
          "name": "stdout"
        }
      ]
    },
    {
      "cell_type": "markdown",
      "metadata": {
        "id": "cu7E8vdNnetM",
        "colab_type": "text"
      },
      "source": [
        "### Step 1: Loading the Dataset\n",
        "The MNIST dataset contains 70k grayscale images of handwritten digits at a resolution of $28 \\times 28$ pixels. Our goal is to build a classification model to take one of these images as input and predict the most likely digit contained in the image (along with a relative confidence about the prediction):\n",
        "\n",
        "<figure><img src=\"https://i.imgur.com/ITrm9x4.png\" width=\"65%\"><figcaption><em>Source: <a href=\"https://deeplearning.mit.edu/\">MIT Deep Learning</a></em></figcaption></figure>\n",
        "\n",
        "Loading the dataset will return four NumPy arrays:\n",
        "* The `train_images` and `train_labels` arrays are the *training set*—the data the model uses to learn.\n",
        "* The `test_images` and `test_labels` arrays are the *test set*--the data the model is tested on.\n",
        "\n",
        "The images are $28\\times28$ NumPy arrays (i.e., the x variables), with pixel values ranging between 0 and 255. The *labels* (i.e., y variable) are an array of integers, ranging from 0 to 9. We will use *one-hot encoding* (the technique we learned about in the logistic regression lesson) to convert these labels to vectors (i.e., arrays with mostly 0s and a 1 at the index that corresponds to the data sample's digit category). We also need to *normalize* the input images by subtracting the mean and standard deviation of the pixels. Normalizing the data encourages our model to learn more generalizable features and helps it perform better on outside data. The final data processing step is \"flattening\" the $28\\times28$ image pixel matrices into $784 \\times 1$ arrays. We reshape the image matrices into arrays because our model expects the input to be a tensor with $784$ features. \n",
        "\n",
        "Now, let's load the data!"
      ]
    },
    {
      "cell_type": "code",
      "metadata": {
        "id": "BoRQV2SJOUux",
        "colab_type": "code",
        "outputId": "c14928a9-9ae2-47fe-9e30-5b16c2a18a2a",
        "colab": {
          "base_uri": "https://localhost:8080/",
          "height": 89
        }
      },
      "source": [
        "# Model / data parameters\n",
        "num_classes = 10\n",
        "input_shape = (-1, 28*28) # this will be used to reshape the 28x28 image pixel matrices into 784 pixel vectors \n",
        "\n",
        "# the data, split between train and test sets\n",
        "(train_images, train_labels), (test_images, test_labels) = keras.datasets.mnist.load_data()\n",
        "\n",
        "# Normalize train/test images \n",
        "train_images = train_images.astype(\"float32\")\n",
        "test_images = test_images.astype(\"float32\")\n",
        "\n",
        "mean = train_images.mean()\n",
        "std = train_images.std()\n",
        "\n",
        "train_images -= mean\n",
        "train_images /= std\n",
        "\n",
        "test_images -= mean\n",
        "test_images /= std\n",
        "\n",
        "print(f'normalized images mean and std pixel values: {round(train_images.mean(), 4)}, {round(train_images.std(), 4)}')\n",
        "\n",
        "\n",
        "# Flatten the images.\n",
        "train_images = train_images.reshape(input_shape)\n",
        "test_images = test_images.reshape(input_shape)\n",
        "\n",
        "print(\"train_images shape:\", train_images.shape)\n",
        "print(train_images.shape[0], \"train samples\")\n",
        "print(test_images.shape[0], \"test samples\")\n",
        "\n",
        "\n",
        "# convert class vectors to binary class matrices (i.e., \"one-hot encode\" the y labels)\n",
        "train_labels = keras.utils.to_categorical(train_labels, num_classes)\n",
        "test_labels = keras.utils.to_categorical(test_labels, num_classes)"
      ],
      "execution_count": 5,
      "outputs": [
        {
          "output_type": "stream",
          "text": [
            "normalized images mean and std pixel values: -0.0, 1.0\n",
            "train_images shape: (60000, 784)\n",
            "60000 train samples\n",
            "10000 test samples\n"
          ],
          "name": "stdout"
        }
      ]
    },
    {
      "cell_type": "markdown",
      "metadata": {
        "id": "jnGClpLKpbsP",
        "colab_type": "text"
      },
      "source": [
        "Let's display the first 5 images from the *training set* and display the class name below each image."
      ]
    },
    {
      "cell_type": "code",
      "metadata": {
        "id": "Oe6oeXCBpY9U",
        "colab_type": "code",
        "outputId": "d15cabc1-adab-42d9-9cdd-029fecd20ceb",
        "colab": {
          "base_uri": "https://localhost:8080/",
          "height": 141
        }
      },
      "source": [
        "plt.figure(figsize=(10,2))\n",
        "for i in range(5):\n",
        "    plt.subplot(1,5,i+1)\n",
        "    plt.xticks([])\n",
        "    plt.yticks([])\n",
        "    plt.grid(False)\n",
        "    plt.imshow(train_images[i].reshape(28, 28), cmap=plt.cm.binary)\n",
        "    plt.xlabel(np.argmax(train_labels[i]))"
      ],
      "execution_count": 0,
      "outputs": [
        {
          "output_type": "display_data",
          "data": {
            "image/png": "[encoded data removed]",
            "text/plain": [
              "<Figure size 720x144 with 5 Axes>"
            ]
          },
          "metadata": {
            "tags": []
          }
        }
      ]
    },
    {
      "cell_type": "markdown",
      "metadata": {
        "id": "7H65HEL3dnKJ",
        "colab_type": "text"
      },
      "source": [
        "#### Step 2: Building the Model\n",
        "Remember that the secret sauce of neural networks is *stacking layers*? In code, we take advantage of this secret sauce by constructing several layers and combining them to create a neural network model. Building the model is a two step process that involves 1) stacking layers together using `keras.Sequential`, 2) configuring the loss function, optimizer, and metrics to monitor the model using the keras `compile` method. Loss functions, optimizers, and metrics aren't formally discussed in this lesson. Don't worry too much about them for now. They will be described in detail in a future lesson. The goal of this lesson is to introduce the underlying structure of neural networks, and demonstrate how to build/train/test one in Python. Nonetheless, a quick summary about loss functions, optimizers, and metrics can't hurt:\n",
        "\n",
        "* **Loss function** - measures how accurate the model is during training, we want to minimize the value this function returns using an optimization method.\n",
        "* **Optimizer** - defines the optimization method to use to update the model's weights based on the data it sees and its loss function.\n",
        "* **Metrics** - monitors the model using a set of user-defined metrics; metrics are calculated at the end of every train and test cycle.\n",
        "\n",
        "\n"
      ]
    },
    {
      "cell_type": "markdown",
      "metadata": {
        "id": "cNAeKxvdBzPS",
        "colab_type": "text"
      },
      "source": [
        "**Building the Model - Step 1: Stacking Layers with `keras.Sequential`**\n",
        "\n",
        "The [3Blue1Brown video](https://www.youtube.com/watch?v=aircAruvnKk&t=436s) used a feed forward neural network with 2 hidden layers to classify handwritten digits. To recreate this neural network, first we need to build a model that 1) takes 784 image pixel feature vectors as input, 2) has 2 hidden layers with 16 neurons and the sigmoid activation function, and 3) includes a final layer with 10 neurons (i.e., there are 10 digit classes so we need 10 neurons) and the *softmax* activation function. The softmax activation function normalizes the activations for the output neurons such that:\n",
        "- every activation is between 0 and 1\n",
        "- the sum of all activations is 1\n",
        "\n",
        "Notice that the softmax activation is similar to the sigmoid activation--neuron activations are squeezed between 0 and 1. Softmax differs from sigmoid by constraining the sum of all activations to 1. For multi-class classification problems, where multiple categories/classes are present in the y variable, it is common to use the softmax activation (or a varient) in the final layer. This is because the softmax activation enables us to treat the final neuron activations as confidence values (i.e., probabilities). The neuron with the largest activation is selected as the category/class prediction.       \n",
        "\n",
        "Let's see what this looks like in Python code."
      ]
    },
    {
      "cell_type": "code",
      "metadata": {
        "id": "aX0Zmi36_bSI",
        "colab_type": "code",
        "outputId": "418fec94-815b-4e24-bc60-b86dd01513aa",
        "colab": {
          "base_uri": "https://localhost:8080/",
          "height": 287
        }
      },
      "source": [
        "# step 1: stack model layers using keras.Sequential\n",
        "model = keras.Sequential([\n",
        "    Input(shape=input_shape[1]), # each input is a 784 feature pixel vector\n",
        "    Dense(16, activation=\"sigmoid\"), # hidden layer 1\n",
        "    Dense(16, activation='sigmoid'), # hidden layer 2\n",
        "    Dense(num_classes, activation=\"softmax\"), # final output layer \n",
        "])\n",
        "    \n",
        "# print the model summary to see its structure and the number of parameters (i.e., weights and biases)\n",
        "print(model.summary())"
      ],
      "execution_count": 0,
      "outputs": [
        {
          "output_type": "stream",
          "text": [
            "Model: \"sequential_3\"\n",
            "_________________________________________________________________\n",
            "Layer (type)                 Output Shape              Param #   \n",
            "=================================================================\n",
            "dense_9 (Dense)              (None, 16)                12560     \n",
            "_________________________________________________________________\n",
            "dense_10 (Dense)             (None, 16)                272       \n",
            "_________________________________________________________________\n",
            "dense_11 (Dense)             (None, 10)                170       \n",
            "=================================================================\n",
            "Total params: 13,002\n",
            "Trainable params: 13,002\n",
            "Non-trainable params: 0\n",
            "_________________________________________________________________\n",
            "None\n"
          ],
          "name": "stdout"
        }
      ]
    },
    {
      "cell_type": "markdown",
      "metadata": {
        "id": "0SCDKeEKPCgf",
        "colab_type": "text"
      },
      "source": [
        "**Building the Model - Step 2: Configuring the Loss Function, Optimizer, & Metrics with the Keras `compile` Method**\n",
        "\n",
        "The model structure is defined in step 1, so most of the building process is finished. But, we still need to configure the model's loss function, optimizer, and metrics using the keras `compile` method. We will use binary cross entropy (BCE) for the loss function, the Adam optimization method, and monitor accuracy, precision, and recall of the model.\n",
        "\n"
      ]
    },
    {
      "cell_type": "code",
      "metadata": {
        "id": "RFeAtXW9Uth8",
        "colab_type": "code",
        "colab": {}
      },
      "source": [
        "# step 2: configure the loss function, optimizer, and model metrics  \n",
        "\n",
        "model.compile(loss=\"categorical_crossentropy\", # BCE loss \n",
        "              optimizer=\"adam\", # Adam optimization\n",
        "              metrics=[\"accuracy\", keras.metrics.Precision(), keras.metrics.Recall()] # monitor metrics\n",
        "              )"
      ],
      "execution_count": 0,
      "outputs": []
    },
    {
      "cell_type": "markdown",
      "metadata": {
        "id": "fVrlp2oKVRvT",
        "colab_type": "text"
      },
      "source": [
        "Now, we can train the model! "
      ]
    },
    {
      "cell_type": "markdown",
      "metadata": {
        "id": "PiCTup_LfIrt",
        "colab_type": "text"
      },
      "source": [
        "#### Step 3: Training the Model \n",
        "\n",
        "Training the neural network model requires the following steps:\n",
        "\n",
        "1. Feed the training data to the model—in this example, the `train_images` and `train_labels` arrays.\n",
        "2. The model learns to associate images and labels.\n",
        "3. We ask the model to make predictions on a test set—in this example, the `test_images` array. We verify that the predictions match the labels from the `test_labels` array. \n",
        "\n",
        "We call the `model.fit` method to train the model—the model is \"fit\" to the training data:"
      ]
    },
    {
      "cell_type": "code",
      "metadata": {
        "id": "iXy44H7VfHmS",
        "colab_type": "code",
        "outputId": "957c1dfb-1c02-46f3-b42d-8ac54422d830",
        "colab": {
          "base_uri": "https://localhost:8080/",
          "height": 577
        }
      },
      "source": [
        "# fit the model to the data; train for 15 epochs, use batch size 128, and 10% of the training data \n",
        "# for validation to model performance during training, and configure the early stopping callback\n",
        "batch_size = 128\n",
        "epochs = 15\n",
        "\n",
        "history = model.fit(train_images, \n",
        "                    train_labels, \n",
        "                    batch_size=batch_size, \n",
        "                    epochs=epochs, \n",
        "                    validation_split=0.1)"
      ],
      "execution_count": 0,
      "outputs": [
        {
          "output_type": "stream",
          "text": [
            "Epoch 1/15\n",
            "422/422 [==============================] - 3s 6ms/step - loss: 1.7606 - accuracy: 0.5854 - precision: 0.9969 - recall: 0.0119 - val_loss: 1.1825 - val_accuracy: 0.8077 - val_precision: 0.9988 - val_recall: 0.1363\n",
            "Epoch 2/15\n",
            "422/422 [==============================] - 2s 6ms/step - loss: 0.9193 - accuracy: 0.8195 - precision: 0.9678 - recall: 0.4169 - val_loss: 0.6631 - val_accuracy: 0.8790 - val_precision: 0.9645 - val_recall: 0.7028\n",
            "Epoch 3/15\n",
            "422/422 [==============================] - 2s 5ms/step - loss: 0.5980 - accuracy: 0.8674 - precision: 0.9407 - recall: 0.7559 - val_loss: 0.4662 - val_accuracy: 0.9005 - val_precision: 0.9490 - val_recall: 0.8440\n",
            "Epoch 4/15\n",
            "422/422 [==============================] - 2s 5ms/step - loss: 0.4602 - accuracy: 0.8879 - precision: 0.9350 - recall: 0.8354 - val_loss: 0.3771 - val_accuracy: 0.9098 - val_precision: 0.9472 - val_recall: 0.8752\n",
            "Epoch 5/15\n",
            "422/422 [==============================] - 2s 6ms/step - loss: 0.3871 - accuracy: 0.9007 - precision: 0.9368 - recall: 0.8653 - val_loss: 0.3258 - val_accuracy: 0.9140 - val_precision: 0.9450 - val_recall: 0.8908\n",
            "Epoch 6/15\n",
            "422/422 [==============================] - 2s 5ms/step - loss: 0.3426 - accuracy: 0.9086 - precision: 0.9390 - recall: 0.8814 - val_loss: 0.2929 - val_accuracy: 0.9203 - val_precision: 0.9443 - val_recall: 0.8987\n",
            "Epoch 7/15\n",
            "422/422 [==============================] - 2s 5ms/step - loss: 0.3116 - accuracy: 0.9154 - precision: 0.9414 - recall: 0.8924 - val_loss: 0.2689 - val_accuracy: 0.9262 - val_precision: 0.9463 - val_recall: 0.9067\n",
            "Epoch 8/15\n",
            "422/422 [==============================] - 2s 6ms/step - loss: 0.2887 - accuracy: 0.9209 - precision: 0.9445 - recall: 0.9010 - val_loss: 0.2519 - val_accuracy: 0.9300 - val_precision: 0.9495 - val_recall: 0.9143\n",
            "Epoch 9/15\n",
            "422/422 [==============================] - 2s 6ms/step - loss: 0.2701 - accuracy: 0.9254 - precision: 0.9461 - recall: 0.9069 - val_loss: 0.2387 - val_accuracy: 0.9363 - val_precision: 0.9532 - val_recall: 0.9195\n",
            "Epoch 10/15\n",
            "422/422 [==============================] - 2s 6ms/step - loss: 0.2550 - accuracy: 0.9292 - precision: 0.9487 - recall: 0.9129 - val_loss: 0.2277 - val_accuracy: 0.9377 - val_precision: 0.9534 - val_recall: 0.9245\n",
            "Epoch 11/15\n",
            "422/422 [==============================] - 2s 5ms/step - loss: 0.2421 - accuracy: 0.9325 - precision: 0.9505 - recall: 0.9173 - val_loss: 0.2202 - val_accuracy: 0.9388 - val_precision: 0.9519 - val_recall: 0.9262\n",
            "Epoch 12/15\n",
            "422/422 [==============================] - 2s 5ms/step - loss: 0.2313 - accuracy: 0.9354 - precision: 0.9520 - recall: 0.9210 - val_loss: 0.2117 - val_accuracy: 0.9407 - val_precision: 0.9535 - val_recall: 0.9295\n",
            "Epoch 13/15\n",
            "422/422 [==============================] - 2s 5ms/step - loss: 0.2216 - accuracy: 0.9378 - precision: 0.9540 - recall: 0.9247 - val_loss: 0.2058 - val_accuracy: 0.9432 - val_precision: 0.9561 - val_recall: 0.9322\n",
            "Epoch 14/15\n",
            "422/422 [==============================] - 2s 5ms/step - loss: 0.2135 - accuracy: 0.9398 - precision: 0.9552 - recall: 0.9277 - val_loss: 0.2016 - val_accuracy: 0.9448 - val_precision: 0.9571 - val_recall: 0.9343\n",
            "Epoch 15/15\n",
            "422/422 [==============================] - 2s 5ms/step - loss: 0.2065 - accuracy: 0.9421 - precision: 0.9566 - recall: 0.9305 - val_loss: 0.1972 - val_accuracy: 0.9453 - val_precision: 0.9562 - val_recall: 0.9345\n"
          ],
          "name": "stdout"
        }
      ]
    },
    {
      "cell_type": "markdown",
      "metadata": {
        "id": "GAu0kWT4sDFj",
        "colab_type": "text"
      },
      "source": [
        "**Challenge:** As the model is trained, the loss and metrics are displayed. What is the final precision score on the training data?"
      ]
    },
    {
      "cell_type": "markdown",
      "metadata": {
        "id": "6WIkY_j1XtO8",
        "colab_type": "text"
      },
      "source": [
        "Now that we finished training, let's view the results. We'll use the Pandas library to store the training history in a dataframe.  "
      ]
    },
    {
      "cell_type": "code",
      "metadata": {
        "id": "cBElbDoDh9-F",
        "colab_type": "code",
        "outputId": "1d90c412-ad6b-405a-80af-573b3d3cbeda",
        "colab": {
          "base_uri": "https://localhost:8080/",
          "height": 514
        }
      },
      "source": [
        "# store the training history in a dataframe\n",
        "hist = pd.DataFrame(history.history)\n",
        "hist['epoch'] = history.epoch\n",
        "\n",
        "# see what the hist dataframe looks like\n",
        "hist"
      ],
      "execution_count": 0,
      "outputs": [
        {
          "output_type": "execute_result",
          "data": {
            "text/html": [
              "<div>\n",
              "<style scoped>\n",
              "    .dataframe tbody tr th:only-of-type {\n",
              "        vertical-align: middle;\n",
              "    }\n",
              "\n",
              "    .dataframe tbody tr th {\n",
              "        vertical-align: top;\n",
              "    }\n",
              "\n",
              "    .dataframe thead th {\n",
              "        text-align: right;\n",
              "    }\n",
              "</style>\n",
              "<table border=\"1\" class=\"dataframe\">\n",
              "  <thead>\n",
              "    <tr style=\"text-align: right;\">\n",
              "      <th></th>\n",
              "      <th>loss</th>\n",
              "      <th>accuracy</th>\n",
              "      <th>precision</th>\n",
              "      <th>recall</th>\n",
              "      <th>val_loss</th>\n",
              "      <th>val_accuracy</th>\n",
              "      <th>val_precision</th>\n",
              "      <th>val_recall</th>\n",
              "      <th>epoch</th>\n",
              "    </tr>\n",
              "  </thead>\n",
              "  <tbody>\n",
              "    <tr>\n",
              "      <th>0</th>\n",
              "      <td>1.760630</td>\n",
              "      <td>0.585370</td>\n",
              "      <td>0.996899</td>\n",
              "      <td>0.011907</td>\n",
              "      <td>1.182502</td>\n",
              "      <td>0.807667</td>\n",
              "      <td>0.998779</td>\n",
              "      <td>0.136333</td>\n",
              "      <td>0</td>\n",
              "    </tr>\n",
              "    <tr>\n",
              "      <th>1</th>\n",
              "      <td>0.919317</td>\n",
              "      <td>0.819500</td>\n",
              "      <td>0.967759</td>\n",
              "      <td>0.416889</td>\n",
              "      <td>0.663095</td>\n",
              "      <td>0.879000</td>\n",
              "      <td>0.964547</td>\n",
              "      <td>0.702833</td>\n",
              "      <td>1</td>\n",
              "    </tr>\n",
              "    <tr>\n",
              "      <th>2</th>\n",
              "      <td>0.598027</td>\n",
              "      <td>0.867352</td>\n",
              "      <td>0.940728</td>\n",
              "      <td>0.755944</td>\n",
              "      <td>0.466162</td>\n",
              "      <td>0.900500</td>\n",
              "      <td>0.949026</td>\n",
              "      <td>0.844000</td>\n",
              "      <td>2</td>\n",
              "    </tr>\n",
              "    <tr>\n",
              "      <th>3</th>\n",
              "      <td>0.460170</td>\n",
              "      <td>0.887944</td>\n",
              "      <td>0.934964</td>\n",
              "      <td>0.835407</td>\n",
              "      <td>0.377084</td>\n",
              "      <td>0.909833</td>\n",
              "      <td>0.947150</td>\n",
              "      <td>0.875167</td>\n",
              "      <td>3</td>\n",
              "    </tr>\n",
              "    <tr>\n",
              "      <th>4</th>\n",
              "      <td>0.387141</td>\n",
              "      <td>0.900741</td>\n",
              "      <td>0.936788</td>\n",
              "      <td>0.865315</td>\n",
              "      <td>0.325761</td>\n",
              "      <td>0.914000</td>\n",
              "      <td>0.945014</td>\n",
              "      <td>0.890833</td>\n",
              "      <td>4</td>\n",
              "    </tr>\n",
              "    <tr>\n",
              "      <th>5</th>\n",
              "      <td>0.342563</td>\n",
              "      <td>0.908593</td>\n",
              "      <td>0.938962</td>\n",
              "      <td>0.881407</td>\n",
              "      <td>0.292924</td>\n",
              "      <td>0.920333</td>\n",
              "      <td>0.944308</td>\n",
              "      <td>0.898667</td>\n",
              "      <td>5</td>\n",
              "    </tr>\n",
              "    <tr>\n",
              "      <th>6</th>\n",
              "      <td>0.311641</td>\n",
              "      <td>0.915444</td>\n",
              "      <td>0.941415</td>\n",
              "      <td>0.892444</td>\n",
              "      <td>0.268913</td>\n",
              "      <td>0.926167</td>\n",
              "      <td>0.946252</td>\n",
              "      <td>0.906667</td>\n",
              "      <td>6</td>\n",
              "    </tr>\n",
              "    <tr>\n",
              "      <th>7</th>\n",
              "      <td>0.288664</td>\n",
              "      <td>0.920944</td>\n",
              "      <td>0.944536</td>\n",
              "      <td>0.901000</td>\n",
              "      <td>0.251913</td>\n",
              "      <td>0.930000</td>\n",
              "      <td>0.949463</td>\n",
              "      <td>0.914333</td>\n",
              "      <td>7</td>\n",
              "    </tr>\n",
              "    <tr>\n",
              "      <th>8</th>\n",
              "      <td>0.270072</td>\n",
              "      <td>0.925444</td>\n",
              "      <td>0.946061</td>\n",
              "      <td>0.906852</td>\n",
              "      <td>0.238743</td>\n",
              "      <td>0.936333</td>\n",
              "      <td>0.953179</td>\n",
              "      <td>0.919500</td>\n",
              "      <td>8</td>\n",
              "    </tr>\n",
              "    <tr>\n",
              "      <th>9</th>\n",
              "      <td>0.255047</td>\n",
              "      <td>0.929204</td>\n",
              "      <td>0.948673</td>\n",
              "      <td>0.912852</td>\n",
              "      <td>0.227671</td>\n",
              "      <td>0.937667</td>\n",
              "      <td>0.953420</td>\n",
              "      <td>0.924500</td>\n",
              "      <td>9</td>\n",
              "    </tr>\n",
              "    <tr>\n",
              "      <th>10</th>\n",
              "      <td>0.242141</td>\n",
              "      <td>0.932537</td>\n",
              "      <td>0.950457</td>\n",
              "      <td>0.917296</td>\n",
              "      <td>0.220159</td>\n",
              "      <td>0.938833</td>\n",
              "      <td>0.951867</td>\n",
              "      <td>0.926167</td>\n",
              "      <td>10</td>\n",
              "    </tr>\n",
              "    <tr>\n",
              "      <th>11</th>\n",
              "      <td>0.231349</td>\n",
              "      <td>0.935407</td>\n",
              "      <td>0.952009</td>\n",
              "      <td>0.920963</td>\n",
              "      <td>0.211726</td>\n",
              "      <td>0.940667</td>\n",
              "      <td>0.953496</td>\n",
              "      <td>0.929500</td>\n",
              "      <td>11</td>\n",
              "    </tr>\n",
              "    <tr>\n",
              "      <th>12</th>\n",
              "      <td>0.221646</td>\n",
              "      <td>0.937759</td>\n",
              "      <td>0.954011</td>\n",
              "      <td>0.924667</td>\n",
              "      <td>0.205798</td>\n",
              "      <td>0.943167</td>\n",
              "      <td>0.956068</td>\n",
              "      <td>0.932167</td>\n",
              "      <td>12</td>\n",
              "    </tr>\n",
              "    <tr>\n",
              "      <th>13</th>\n",
              "      <td>0.213531</td>\n",
              "      <td>0.939759</td>\n",
              "      <td>0.955192</td>\n",
              "      <td>0.927704</td>\n",
              "      <td>0.201576</td>\n",
              "      <td>0.944833</td>\n",
              "      <td>0.957145</td>\n",
              "      <td>0.934333</td>\n",
              "      <td>13</td>\n",
              "    </tr>\n",
              "    <tr>\n",
              "      <th>14</th>\n",
              "      <td>0.206547</td>\n",
              "      <td>0.942093</td>\n",
              "      <td>0.956576</td>\n",
              "      <td>0.930500</td>\n",
              "      <td>0.197209</td>\n",
              "      <td>0.945333</td>\n",
              "      <td>0.956173</td>\n",
              "      <td>0.934500</td>\n",
              "      <td>14</td>\n",
              "    </tr>\n",
              "  </tbody>\n",
              "</table>\n",
              "</div>"
            ],
            "text/plain": [
              "        loss  accuracy  precision  ...  val_precision  val_recall  epoch\n",
              "0   1.760630  0.585370   0.996899  ...       0.998779    0.136333      0\n",
              "1   0.919317  0.819500   0.967759  ...       0.964547    0.702833      1\n",
              "2   0.598027  0.867352   0.940728  ...       0.949026    0.844000      2\n",
              "3   0.460170  0.887944   0.934964  ...       0.947150    0.875167      3\n",
              "4   0.387141  0.900741   0.936788  ...       0.945014    0.890833      4\n",
              "5   0.342563  0.908593   0.938962  ...       0.944308    0.898667      5\n",
              "6   0.311641  0.915444   0.941415  ...       0.946252    0.906667      6\n",
              "7   0.288664  0.920944   0.944536  ...       0.949463    0.914333      7\n",
              "8   0.270072  0.925444   0.946061  ...       0.953179    0.919500      8\n",
              "9   0.255047  0.929204   0.948673  ...       0.953420    0.924500      9\n",
              "10  0.242141  0.932537   0.950457  ...       0.951867    0.926167     10\n",
              "11  0.231349  0.935407   0.952009  ...       0.953496    0.929500     11\n",
              "12  0.221646  0.937759   0.954011  ...       0.956068    0.932167     12\n",
              "13  0.213531  0.939759   0.955192  ...       0.957145    0.934333     13\n",
              "14  0.206547  0.942093   0.956576  ...       0.956173    0.934500     14\n",
              "\n",
              "[15 rows x 9 columns]"
            ]
          },
          "metadata": {
            "tags": []
          },
          "execution_count": 44
        }
      ]
    },
    {
      "cell_type": "markdown",
      "metadata": {
        "id": "HsVOPpkYjp74",
        "colab_type": "text"
      },
      "source": [
        "Now, let's plot the loss function measure on the training and validation sets. The validation set is used to prevent overfitting ([learn more about it here](https://www.tensorflow.org/tutorials/keras/overfit_and_underfit)). However, because our network is small, the training converges (i.e., reaches an optimal loss value) without noticeably overfitting the data as the plot shows."
      ]
    },
    {
      "cell_type": "code",
      "metadata": {
        "id": "SMR71TCgirCr",
        "colab_type": "code",
        "outputId": "c7f0f33f-38ff-48ad-96cd-95b98f410119",
        "colab": {
          "base_uri": "https://localhost:8080/",
          "height": 279
        }
      },
      "source": [
        "def plot_loss():\n",
        "    plt.figure()\n",
        "    plt.xlabel('Epoch')\n",
        "    plt.ylabel('Loss')\n",
        "    plt.plot(hist['epoch'], hist['loss'], label='Train Error')\n",
        "    plt.plot(hist['epoch'], hist['val_loss'], label = 'Val Error')\n",
        "    plt.legend()\n",
        "    plt.ylim([0,max(hist['loss'].max()+0.2, hist['val_loss'].max()+0.2)])\n",
        "\n",
        "plot_loss()"
      ],
      "execution_count": 0,
      "outputs": [
        {
          "output_type": "display_data",
          "data": {
            "image/png": "[encoded data removed]",
            "text/plain": [
              "<Figure size 432x288 with 1 Axes>"
            ]
          },
          "metadata": {
            "tags": [],
            "needs_background": "light"
          }
        }
      ]
    },
    {
      "cell_type": "markdown",
      "metadata": {
        "id": "KR_91UyCZC3I",
        "colab_type": "text"
      },
      "source": [
        "Now, let's plot accuracy metric on the training and validation set. Similar to the loss metric, we expect the validation accuracy to be a bit lower than the training accuracy. If the validation accuracy is noticeably different than the training one, we might want to do some more analysis. When the validation accuracy is much lower than the training accuracy, the model could be overfitting. When the it is much higher than the training accuracy, the model could be underfitting (this happens less often). However, the plot suggests the model is not overfitting/underfitting the data.         "
      ]
    },
    {
      "cell_type": "code",
      "metadata": {
        "id": "6ltdcaeAa6YM",
        "colab_type": "code",
        "outputId": "60450347-82df-4685-9842-eefa22261c09",
        "colab": {
          "base_uri": "https://localhost:8080/",
          "height": 283
        }
      },
      "source": [
        "def plot_loss():\n",
        "    plt.figure()\n",
        "    plt.xlabel('Epoch')\n",
        "    plt.ylabel('Accuracy')\n",
        "    plt.plot(hist['epoch'], hist['accuracy'], label='Train Accuracy')\n",
        "    plt.plot(hist['epoch'], hist['val_accuracy'], label = 'Val Accuracy')\n",
        "    plt.legend()\n",
        "    plt.ylim([0,1])\n",
        "\n",
        "plot_loss()"
      ],
      "execution_count": 0,
      "outputs": [
        {
          "output_type": "display_data",
          "data": {
            "image/png": "[encoded data removed]",
            "text/plain": [
              "<Figure size 432x288 with 1 Axes>"
            ]
          },
          "metadata": {
            "tags": [],
            "needs_background": "light"
          }
        }
      ]
    },
    {
      "cell_type": "markdown",
      "metadata": {
        "id": "tQYPGdGhkFMt",
        "colab_type": "text"
      },
      "source": [
        "#### Step 4: Testing the Model\n",
        "Our results on the training and validation data look promising, but we want to know whether our model performs well on unknown data. For this, we compare how the model performs on the test dataset:"
      ]
    },
    {
      "cell_type": "code",
      "metadata": {
        "id": "Lznc7jmUwFbD",
        "colab_type": "code",
        "outputId": "3484d372-f047-4f18-d3cc-30d50f738c31",
        "colab": {
          "base_uri": "https://localhost:8080/",
          "height": 71
        }
      },
      "source": [
        "print(test_images.shape)\n",
        "test_loss, test_acc, test_prec, test_rec = model.evaluate(test_images, test_labels)\n",
        "\n",
        "print('Test accuracy:', test_acc)"
      ],
      "execution_count": 0,
      "outputs": [
        {
          "output_type": "stream",
          "text": [
            "(10000, 784)\n",
            "313/313 [==============================] - 1s 4ms/step - loss: 0.2238 - accuracy: 0.9332 - precision: 0.9470 - recall: 0.9217\n",
            "Test accuracy: 0.9332000017166138\n"
          ],
          "name": "stdout"
        }
      ]
    },
    {
      "cell_type": "markdown",
      "metadata": {
        "id": "PUeSBG87wLVo",
        "colab_type": "text"
      },
      "source": [
        "Often times, the accuracy on the test dataset is a little less than the accuracy on the training dataset. Small differences are ok, but we don't want the test results to differ significantly from the training results--this suggests the model is overfitting/underfitting. \n",
        "\n",
        "**Challenge:** Do you think the difference between the training accuracy and the testing accuracy is significant? Is the model overfitting? Is it underfitting?"
      ]
    },
    {
      "cell_type": "markdown",
      "metadata": {
        "id": "nssakhiv2OfI",
        "colab_type": "text"
      },
      "source": [
        "## Recap\n",
        "You made it! We covered a lot of material in this lesson. Don't worry if it doesn't all make sense yet. The concepts will become more intuitive as you practice building, training, and testing your own neural network models. \n",
        "\n",
        "Let's summarize what we learned about neural networks:\n",
        "- Neural Networks are popular and successful machine learning models that can learn effective representations from data (i.e., images, text, sound). They can and *classification* tasks (see [Part 2](#-Part-2:-Classification-of-MNIST-Digits-with-Convolutional-Neural-Networks)), and also to generate images, text, videos, and sound.  \n",
        "- Special libraries like Tensorflow and Pytorch enable us to build neural networks in Python and train them on accelerated hardware like GPUs and TPUs. \n",
        "- Several steps are involved in making an effective neural network: \n",
        "  1. Loading the dataset\n",
        "  2. Building the model--stacking several layers and configuring the loss function, optimizer, and metrics.\n",
        "  3. Training the model--fitting the model on the training data.\n",
        "  4. Evaluating/Testing the model--evaluating the model on the testing data. \n",
        "- Once a model is trained, it can be used to make predictions on outside data (see [Part 2, Step 5](#-Step-5:-Make-predictions-on-outside-data)).  "
      ]
    },
    {
      "cell_type": "markdown",
      "metadata": {
        "id": "F4s3YeuF1NoV",
        "colab_type": "text"
      },
      "source": [
        "#### Acknowlegements\n",
        "- [MIT Deep Learning Basics](https://www.youtube.com/watch?v=O5xeyoRL95U&list=PLrAXtmErZgOeiKm4sgNOknGvNjby9efdf)\n",
        "- [Dive into Deep Learning](https://d2l.ai/index.html)"
      ]
    },
    {
      "cell_type": "code",
      "metadata": {
        "id": "ZXMwHjBZi9gv",
        "colab_type": "code",
        "colab": {}
      },
      "source": [
        ""
      ],
      "execution_count": 0,
      "outputs": []
    }
  ]
}