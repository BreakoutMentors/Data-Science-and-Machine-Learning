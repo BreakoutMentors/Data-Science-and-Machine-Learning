{
  "nbformat": 4,
  "nbformat_minor": 0,
  "metadata": {
    "colab": {
      "name": "Intro to Machine Learning.ipynb",
      "provenance": [],
      "authorship_tag": "ABX9TyO4zw2o9zrZ7w7MMelIhptp",
      "include_colab_link": true
    },
    "kernelspec": {
      "name": "python3",
      "display_name": "Python 3"
    }
  },
  "cells": [
    {
      "cell_type": "markdown",
      "metadata": {
        "id": "view-in-github",
        "colab_type": "text"
      },
      "source": [
        "<a href=\"https://colab.research.google.com/github/krmiddlebrook/intro_to_deep_learning/blob/master/machine_learning/lesson%200%20-%20machine%20learning/Intro_to_Machine_Learning.ipynb\" target=\"_parent\"><img src=\"https://colab.research.google.com/assets/colab-badge.svg\" alt=\"Open In Colab\"/></a>"
      ]
    },
    {
      "cell_type": "markdown",
      "metadata": {
        "id": "zLJaKYJXxtps",
        "colab_type": "text"
      },
      "source": [
        "# Learning by Doing: Top-Down Learning\n",
        "<figure>\n",
        "<img src='https://i.pinimg.com/474x/cb/27/1c/cb271cdb906a2f7c81f155bbe7491662--tops-learning.jpg' width='50%'></img>\n",
        "</figure>\n",
        "\n",
        "Before we begin, let's take a moment to discuss how we will be presenting the material. Throughout this data science and machine learning series, we take a *top-down* approach to learning, demonstrating practical applications of the concepts without necessarily going into great detail about *how* or *why* something works (we will follow up by explaining it later). This enables you with the necessary machine learning tools to solve problems quickly, at the expense of requiring you to trust us with some curation decisions. By the end of the series, you should have a high level understanding of deep neural networks and be able to build/train/evaluate your own models.  "
      ]
    },
    {
      "cell_type": "markdown",
      "metadata": {
        "id": "qaYBzpgznfvB",
        "colab_type": "text"
      },
      "source": [
        "# Introduction to Machine Learning\n",
        "<figure>\n",
        "<img src='https://media.giphy.com/media/zOvBKUUEERdNm/200.gif' width='50%' height='50%'></img><figcaption>The pain of using a hard-coded program.</figcaption>\n",
        "</figure>\n",
        "\n",
        "Until recently, nearly every computer application that we interacted with was programmed to process data and perform actions using a set of hard-coded *rules* (we call these rules the *brains*). This process required engineers to spend countless hours considering every possible way users might want to interact with the apps. Consequently, most apps weren't very smart (their brains were limited). For instance, imagine trying to map out every possible action for the following tasks:\n",
        "- Write a program that predicts tomorrow’s weather given geographic information, satellite images, and a trailing window of past weather.\n",
        "- Write a program that takes in a question via a text message, and answers it correctly.\n",
        "- Write a program that given an image can identify all the people it contains, drawing outlines around each.\n",
        "- Write a program that presents users with products that they are likely to enjoy but unlikely, in the natural course of browsing, to encounter.  \n",
        "\n",
        "Impossible! Not even the best programmers can solve these tasks using traditional rule-based coding. The reasons for this may vary. Sometimes the relationship between the data can change. On the other hand, the relationship (say between image pixels, and abstract categories) may be too complex, requiring thousands or millions of computations that are beyond our conscious understanding to hard-code. *Machine learning* (ML) is the study of powerful techniques that can *learn* to solve such complex tasks using *data*. Different from hard-coded programs, ML algorithms are capable of adapting and improving their performance, especially when given lots of data and computing resources. \n",
        "\n",
        "<figure>\n",
        "<img src='https://thumbs.gfycat.com/BiodegradableMildGraysquirrel-size_restricted.gif' width='50%' height='50%'></img><figcaption>A deep neural network | <em>Source: <a href='https://www.youtube.com/watch?v=aircAruvnKk&t=743s'>But what is a neural network?</a></em>.</figcaption>\n",
        "</figure>\n",
        "\n",
        "Throughout this series, we will teach you the fundamentals of machine learning, and focus in particular on *deep learning* and *neural networks*, a powerful set of techniques driving innovations in areas as diverse as computer vision, natural language processing, healthcare, and genomics! "
      ]
    },
    {
      "cell_type": "markdown",
      "metadata": {
        "id": "lhPOkra-5Ejv",
        "colab_type": "text"
      },
      "source": [
        "# The Key Components: Data, Models, and Algorithms\n",
        "Before we take a deep dive into the different ML problems, we want to briefly mention some core components that will follow us around, no matter what kind of ML problem we take on:\n",
        "- The *data* that we can learn from.\n",
        "- A *model* of how to *transform* the data.\n",
        "- A *loss function* that quantifies the \"goodness\" of our model.\n",
        "- An *algorithm* to adjust the model’s *parameters* to *minimize the loss*."
      ]
    },
    {
      "cell_type": "markdown",
      "metadata": {
        "id": "DiSoge4z7pdA",
        "colab_type": "text"
      },
      "source": [
        "# Data\n",
        "<figure>\n",
        "<img src='https://miro.medium.com/max/1990/1*yEYBLf6pb6c8VnCCTtpRcw.gif' width='70%'></img><figcaption>Data | <em><a href='https://medium.com/design-with-figma/the-ultimate-guide-to-designing-data-tables-7db29713a85a'>Source</a></em></figcaption>\n",
        "</figure>\n",
        "\n",
        "You can't do data science without data (it's literally in the title). So let's take a moment to consider the key properties of data. To work with data effectively, we need to develop an appropriate numerical representation for it. We start by considering that data is a collection of *samples*. Each sample typically consists of a collection of numerical attributes. In *supervised learning* problems, a special attribute is designated as the prediction *label*, (sometimes called the *target* or dependent variable). The given features from which the model must make its predictions can then simply be called the *features*, (or often, the inputs or independent variables).\n",
        "\n",
        "A few common types of data we work with in ML are images, text, sound, and tabular data (see diagram above)."
      ]
    },
    {
      "cell_type": "markdown",
      "metadata": {
        "id": "eRXhdgqIB8qU",
        "colab_type": "text"
      },
      "source": [
        "# Models\n",
        "<figure>\n",
        "<img src='https://miro.medium.com/max/1200/0*4aHRjVXRKsyUhm2b' width='70%'></img><figcaption>Data | <em><a href='https://medium.com/design-with-figma/the-ultimate-guide-to-designing-data-tables-7db29713a85a'>Source: Deep Learning Intro</a></em></figcaption>\n",
        "</figure>\n",
        "\n",
        "\n",
        "Most machine learning involves *transforming* the data in some respect. We might want to build a model that ingests photos and make predicts about happiness rating. Alternatively, we might want to ingest images and predicts whether they contain a cat or dog. \n",
        "\n",
        "We define ML models tools that process inputs and produce outputs/predictions (of a possibly different type: inputs could be texts, outputs could be topics discussed in the texts). In particular, we are interested in models that can learn to effectively represent data to achieve a task. In the past, statistical models were the most common. While these simple models are perfectly capable of addressing simple problems, we want to solve difficult tasks that involve complex data. *Deep neural networks* is a set of powerful techniques to model data. These models consist of many successive transformations of the data called *layers*, which are *connected* together from top to bottom by *weights* and *neurons*, hence the name deep neural networks learning."
      ]
    },
    {
      "cell_type": "markdown",
      "metadata": {
        "id": "kCMqqGZvG3mH",
        "colab_type": "text"
      },
      "source": [
        "# Loss Function\n",
        "Earlier, we introduced machine learning as “learning from data”. By learning, we mean improving at some task over time. To this end, we need to develop our model with a formal measure of how good (or bad) it is. In machine learning, and optimization more generally, we call these measures *objective functions*. By convention, we usually define objective functions so that lower is better. This is merely a convention. You can take any function $f$, for which higher is better, and turn it into a new function  $f′$  that is qualitatively identical but for which lower is better by setting  $f′=−f$. Because lower is better, these functions are sometimes called *loss functions* or *cost functions*."
      ]
    },
    {
      "cell_type": "markdown",
      "metadata": {
        "id": "JVDxaG4HJK0T",
        "colab_type": "text"
      },
      "source": [
        "# Optimization algorithms\n",
        "<figure>\n",
        "<img src='https://i.pinimg.com/originals/63/62/8f/63628f546ad55fd31091e23c623cb9f5.gif' width='60%'></img><figcaption>Data | <em><a href='https://i.pinimg.com/originals/63/62/8f/63628f546ad55fd31091e23c623cb9f5.gif'>Source</a></em></figcaption>\n",
        "</figure>\n",
        "\n",
        "Once we have a data source, a model, and a well-defined objective function, we need an algorithm capable of \"searching\" for the best possible parameters for *minimizing* the loss function. The most popular optimization algorithms for neural networks follow an approach called *gradient descent*. In short, at each step, they check to see, for each parameter, which way the training set loss would move if you changed that parameters just a small amount. They then update the parameter (i.e., weights) in the direction that reduces the loss."
      ]
    },
    {
      "cell_type": "markdown",
      "metadata": {
        "id": "UpL4KKKZMkdQ",
        "colab_type": "text"
      },
      "source": [
        "## Supervised Learning\n",
        "<figure><img src='https://www.livewireindia.com/blog/wp-content/uploads/2019/06/Supervised-ML-1.gif' width='70%'></img><figcaption>Supervised Learning | <em>Source: <a href='https://www.livewireindia.com/blog/machine-learning-training-jayanagar-bangalore/'>Livewire</a></em></figcaption>\n",
        "</figure>\n",
        "\n",
        "There are two types of problems in machine learning 1) *supervised learning* and 2) *unsupervised learning*. Supervised learning problems account for most of the successful applications of machine learning models. We will be using supervised learning throughout this series, so let's describe it here. \n",
        "\n",
        "Supervised learning addresses the task of predicting *targets* given *inputs*. \n",
        "The targets are often called *labels*, and you may recognize them as the *y* variable. The *inputs* are often called the *features*, you might recognize them as the *x* variables. Each (input, target) pair is called a *sample*. We denote any particular sample with a subscript, typically $i$ , for instance $(x_{i},y_{i})$. A dataset is a collection of  $n$  samples  $ \\{x_{i},y_{i}\\}_{i=1}^{n} $. \n",
        "Our goal is to create a model $f_{\\theta}$ that maps a sample $x_{i}$ to a prediction $f_{\\theta}(x_{i})$. Furthermore, we want $f_{\\theta}(x_{i}) = y_{i}$ (i.e., for a given sample, the model's prediction = the sample's label). \n",
        "\n",
        "To make this description more concrete let's imagine that we want to predict whether or not an app was free (or not) using Google Play Store data. Here, the *label* is determined by the $y_{i}$ dependent variable, either *free* or *paid*. The $x_{i}$ features are determined by several other columns such as \"Rating\", \"Size\", etc..  \n",
        "\n",
        "At a high level, solving a supervised learning problem looks something like this: grab a big collection of *labeled* data, split the data into a training dataset and test dataset, feed the training dataset into a model, and test the *trained model*.\n"
      ]
    },
    {
      "cell_type": "markdown",
      "metadata": {
        "id": "_p2af3o5OwVs",
        "colab_type": "text"
      },
      "source": [
        "# Challenges\n",
        "1. Name 3 tasks that you may be able to solve using machine learning.\n",
        "2. What are the 4 components of machine learning?\n",
        "3. What are some common types of data we use in ML?\n",
        "4. Name 3 components of neural networks.\n",
        "5. Why do we call objective functions *loss functions*?\n",
        "6. What kind of problems can be solved using the supervised learning method? "
      ]
    },
    {
      "cell_type": "code",
      "metadata": {
        "id": "VW5662usB7lH",
        "colab_type": "code",
        "colab": {}
      },
      "source": [
        ""
      ],
      "execution_count": null,
      "outputs": []
    }
  ]
}