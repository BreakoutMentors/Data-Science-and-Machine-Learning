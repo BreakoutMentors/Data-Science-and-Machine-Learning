{
  "nbformat": 4,
  "nbformat_minor": 0,
  "metadata": {
    "colab": {
      "name": "challenge - simple linear regression.ipynb",
      "provenance": [],
      "authorship_tag": "ABX9TyPhQ7KFHbAtnAChbpD7JyI9",
      "include_colab_link": true
    },
    "kernelspec": {
      "name": "python3",
      "display_name": "Python 3"
    }
  },
  "cells": [
    {
      "cell_type": "markdown",
      "metadata": {
        "id": "view-in-github",
        "colab_type": "text"
      },
      "source": [
        "<a href=\"https://colab.research.google.com/github/BreakoutMentors/Data-Science-and-Machine-Learning/blob/master/machine_learning/lesson%201%20-%20linear%20regression/challenges/multiple-linear-regression-2.ipynb\" target=\"_parent\"><img src=\"https://colab.research.google.com/assets/colab-badge.svg\" alt=\"Open In Colab\"/></a>"
      ]
    },
    {
      "cell_type": "markdown",
      "metadata": {
        "id": "j5tjTDNmgWup",
        "colab_type": "text"
      },
      "source": [
        "# Multi-variable linear regression with your own dataset\n",
        "The goal in this challenge is to find your own dataset on the web and build a multiple linear regression model to predict the labels given multiple features. Use Tensorflow to build, train, and evaluate the model.\n",
        "\n",
        "Pre-challenge:\n",
        "1. Find a dataset you're interested in. Hint: the dataset should have several\n",
        "numeric columns (at least for your features and labels variables). Here are some places to look for data: [kaggle](https://www.kaggle.com/datasets), [Google Dataset Search](https://datasetsearch.research.google.com/), [awesome-datasets Github](https://github.com/awesomedata/awesome-public-datasets#socialsciences). Note you can use the same dataset you found for previous challenges, but keep in mind the dataset needs to have several numeric columns for the features (x variables) and the labels (y variable).\n",
        "\n",
        "Challenges:\n",
        "1. Load and prepare the Pokemon dataset.\n",
        "2. Build the model.\n",
        "3. Train the model.\n",
        "4. Evaluate the model.\n",
        "5. Draw conclusions. \n"
      ]
    },
    {
      "cell_type": "code",
      "metadata": {
        "id": "foMBp5MTfHNP",
        "colab_type": "code",
        "colab": {}
      },
      "source": [
        "# import the libraries we need\n",
        "import pandas as pd\n",
        "import numpy as np\n",
        "import matplotlib.pyplot as plt\n",
        "\n",
        "# TensorFlow and tf.keras\n",
        "import tensorflow as tf\n",
        "from tensorflow import keras\n",
        "from tensorflow.keras import layers"
      ],
      "execution_count": 0,
      "outputs": []
    },
    {
      "cell_type": "markdown",
      "metadata": {
        "id": "4E-X1Z9dTANK",
        "colab_type": "text"
      },
      "source": [
        "# 1. Load and prepare the data \n",
        "Once you've found and downloaded a dataset, load it into a pandas dataframe and prepare it for the model. \n",
        "\n",
        "Hints: \n",
        "- define the features ($\\mathbf{x}$) and labels ($y$) \n",
        "- split the dataset into training and test sets\n",
        "- separate the features and labels in training set and test set"
      ]
    },
    {
      "cell_type": "code",
      "metadata": {
        "id": "hAjCB4CrggwB",
        "colab_type": "code",
        "colab": {}
      },
      "source": [
        "# your code here\n"
      ],
      "execution_count": 0,
      "outputs": []
    },
    {
      "cell_type": "markdown",
      "metadata": {
        "id": "s5bO4KyxSoy3",
        "colab_type": "text"
      },
      "source": [
        "# 2. Build your model\n",
        "Build a model to model the relationship between the features (multiple x variables) and labels (Total). The model's function looks something like:\n",
        "$$\n",
        "\\text{score} = \\mathbf{w} \\mathbf{X} + b,\n",
        "$$\n",
        "\n",
        "\n",
        "Hints:\n",
        "- use the `Sequential` class to define a container for the layers of your model.\n",
        "- use the `layers.Dense` class to define your linear model layer\n",
        "- define your loss function with mean squared error\n",
        "- configure the optimization algorithm with stochastic gradient descent\n",
        "- track the mean absolute error and mean squared error metrics\n",
        "- glue the model, loss function, optimizer, and metrics together  "
      ]
    },
    {
      "cell_type": "code",
      "metadata": {
        "id": "zgNpVNPylBo0",
        "colab_type": "code",
        "colab": {}
      },
      "source": [
        "# your code here\n",
        "model = keras.Sequential([\n",
        "        \n",
        "        ])"
      ],
      "execution_count": 0,
      "outputs": []
    },
    {
      "cell_type": "markdown",
      "metadata": {
        "id": "uxXkdszdaWOx",
        "colab_type": "text"
      },
      "source": [
        "# 3. Train your model\n",
        "Now that you have a model, it's time to train it. Train your model for 100 epochs (i.e., iterations), and record the training and validation metrics in the history object."
      ]
    },
    {
      "cell_type": "code",
      "metadata": {
        "id": "z7ixliHPbBOh",
        "colab_type": "code",
        "colab": {}
      },
      "source": [
        "# your code here\n",
        "\n"
      ],
      "execution_count": 0,
      "outputs": []
    },
    {
      "cell_type": "markdown",
      "metadata": {
        "id": "6jIPMBcCbQHh",
        "colab_type": "text"
      },
      "source": [
        "Visualize the mean squared error metric over the training process. Hint: create a line chart with the epoch (x) and the mean squared error (y) variables.  "
      ]
    },
    {
      "cell_type": "code",
      "metadata": {
        "id": "AnAzMXGIcID_",
        "colab_type": "code",
        "colab": {}
      },
      "source": [
        "# your code here\n"
      ],
      "execution_count": 0,
      "outputs": []
    },
    {
      "cell_type": "markdown",
      "metadata": {
        "id": "-JYygMTpbJ7y",
        "colab_type": "text"
      },
      "source": [
        "# 4. Evaluate the model\n",
        "Now that the model is trained, it's time to evaluate it using the test dataset, which you did not use when training the model. This gives you a sense of how well the model predicts unseen data, which is the case when you use it in the real world. Make sure to evaluate the model and visualize it's predictions against the true values. \n",
        "\n",
        "Hints: \n",
        "- use the `evaluate` method to test the model\n",
        "- use the `predict` method to make predictions given test features. \n",
        "- visualize the predictions against the real  labels using matplotlib's pyplot API methods like `scatter` and `plot`."
      ]
    },
    {
      "cell_type": "code",
      "metadata": {
        "id": "Oz5dKGh2d38y",
        "colab_type": "code",
        "colab": {}
      },
      "source": [
        "# your code here"
      ],
      "execution_count": 0,
      "outputs": []
    },
    {
      "cell_type": "markdown",
      "metadata": {
        "id": "eN1XYgl-d-be",
        "colab_type": "text"
      },
      "source": [
        "# 5. Draw conclusions\n",
        "Write up your conclusions about the model. Report the goal, the model design, and the results.   "
      ]
    },
    {
      "cell_type": "markdown",
      "metadata": {
        "id": "ocjwpN6aesnH",
        "colab_type": "text"
      },
      "source": [
        ""
      ]
    }
  ]
}