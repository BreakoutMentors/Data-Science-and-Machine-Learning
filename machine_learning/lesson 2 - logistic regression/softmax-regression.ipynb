{
  "nbformat": 4,
  "nbformat_minor": 0,
  "metadata": {
    "colab": {
      "name": "Classification-Logistic_Regression.ipynb",
      "provenance": [],
      "authorship_tag": "ABX9TyMTiLakQHS23G01h9j7hOKO",
      "include_colab_link": true
    },
    "kernelspec": {
      "name": "python3",
      "display_name": "Python 3"
    },
    "accelerator": "GPU"
  },
  "cells": [
    {
      "cell_type": "markdown",
      "metadata": {
        "id": "view-in-github",
        "colab_type": "text"
      },
      "source": [
        "<a href=\"https://colab.research.google.com/github/BreakoutMentors/Data-Science-and-Machine-Learning/blob/master/machine_learning/lesson%202%20-%20logistic%20regression/softmax-regression.ipynb\" target=\"_parent\"><img src=\"https://colab.research.google.com/assets/colab-badge.svg\" alt=\"Open In Colab\"/></a>"
      ]
    },
    {
      "cell_type": "markdown",
      "metadata": {
        "id": "gIsgQYlKKVna",
        "colab_type": "text"
      },
      "source": [
        "# Classification: Softmax Regression\n",
        "In the previos lesson [logistic regression](https://github.com/BreakoutMentors/Data-Science-and-Machine-Learning/blob/master/machine_learning/lesson%202%20-%20logistic%20regression/logistic-regression.ipynb), we learned about logistic regression and how it can be used to construct a logistic regression classifier to distinguish between two categorical values (e.g., whether a photo is of a dog or a cat). Logistic regression is great when we want are working with only two categorical values. \n",
        "\n",
        "In practice, we are often more interested in differentiating between many categorical values (e.g., more than 2 classes):\n",
        "- Is this image of a cat, a dog, or a chicken?\n",
        "- Is this song in the genre of hip hop, pop, funk, rock, etc.?\n",
        "- What brand of clothing does this t-shirt belong to?\n",
        "\n",
        "When we want to distinguish between many classes (called *multi-class classification*), we can use a classification technique called softmax regression.\n",
        "\n",
        "In this notebook, we will learn the foundations of softmax regression and demonstrate how to solve multi-class classification problems using an example--building a softmax regression classifier to distinguish 10 handwritten digit (0-9). The ideas we introduce here will build on previous material and continue to lay out the fundamental concepts used in deep learning and neural networks, which we will cover in future lessons. Here is the lesson roadmap:\n",
        "1. Review: representing categorical data\n",
        "2. Introduction to softmax regression\n",
        "3. Building a softmax regression classifier: recognize 10 handwritten digits from the MNIST dataset \n",
        "4. Summary\n",
        "\n"
      ]
    },
    {
      "cell_type": "markdown",
      "metadata": {
        "id": "-OYk2h2X2gqE",
        "colab_type": "text"
      },
      "source": [
        "# Review: representing categorical data\n",
        "<figure>\n",
        "  <img src='https://envato-shoebox-0.imgix.net/2718/a008-795b-4376-972d-ed9cbad8ac4f/2015_227_003_0063_A_2018_07_19.jpg?auto=compress%2Cformat&fit=max&mark=https%3A%2F%2Felements-assets.envato.com%2Fstatic%2Fwatermark2.png&markalign=center%2Cmiddle&markalpha=18&w=700&s=e3fbeb220008b297bee64675504ae70c' width='50%'>\n",
        "  <figcaption>Representing data: a Shina Inu, Retriever, and Lab</figcaption>\n",
        "</figure>\n",
        "\n",
        "\n",
        "\n",
        "To motivate our understanding of softmax regression, let's consider the example where we want to distinguish 3 different dog breeds--(golden) retrievers, labs, and shiba inus, given $2 \\times 2$ grayscale images. We can represent each pixel value with a single scalar (number), giving us four features  $x_1,x_2,x_3,x_4$. Further, we know that each image belongs to one among the categories \"retriever\", \"lab\", \"shina inu\".\n",
        "\n",
        "To make the categorical labels useful, we need to convert it into a numerical representation.  \n",
        "\n",
        "There are two general ways to represent the categorical data in numeric terms. The first way is to choose choose $y \\in \\{1, 2, 3\\}$, where the integers represent {retriever, lab, shina inu} repectively. But, as you learned previously, the second way is better: *one-hot encoding*. As a refresher, a one-hot encoding is a vector with as many components as we have categories. The component corresponding to particular sample's category is set to 1 and all other components are set to 0. So in our case, this translates to:\n",
        "\n",
        "$$\n",
        "y \\in \\{ (1, 0, 0), (0, 1, 0), (0, 0, 1) \\},\n",
        "$$\n",
        "\n",
        "where $y$ would be a three-dimensional vector representing the dog breeds, with $(1, 0, 0)$ corresponding to \"retriever\", (0, 1, 0) to \"lab\", and (0, 0, 1) to \"shiba inu\"."
      ]
    },
    {
      "cell_type": "markdown",
      "metadata": {
        "id": "vGvK59PbdliB",
        "colab_type": "text"
      },
      "source": [
        "# Intro to softmax regression\n",
        "<figure>\n",
        "  <img src='https://d2l.ai/_images/softmaxreg.svg' width='70%'>\n",
        "  <figcaption>Softmax regression is a single-layer neural network | Source: <a href='https://d2l.ai/_images/softmaxreg.svg'>Dive Into Deep Learning</a></figcaption>\n",
        "</figure>\n",
        "\n",
        "Now that we have a healthy understanding of classification techniques like *one-hot encoding* and logistic regression, let's dive into the softmax regression.\n",
        "\n",
        "Softmax regression is perhaps the most common machine learning algorithm. It is a special case of logistic regression where the labels ($y$) is categorical in nature but there are many categories rather than simply two. It is called \"softmax\" regression because it uses a *logit* function, called the *softmax* function, to estimate the *conditional probability* of a given class among many classes (i.e., more than 2). Unlike linear and logistic regression, softmax regression requires a model with multiple outputs, one per class. \n",
        "\n",
        "To address multi-class classification with softmax regression classifiers, we will need as many linear functions as we have outputs. Each output will correspond to its own linear function. In our case, since we have 4 features and 3 possible output categories, we will need 12 scalars to represent the weights, ( $w$  with subscripts) and 3 scalars to represent the biases ($b$ with subscripts). We compute these three *logits*, $o_1,o_2$, and $o_3$, for each input:\n",
        "\n",
        "\\begin{split}\\begin{aligned}\n",
        "o_1 &= x_1 w_{11} + x_2 w_{12} + x_3 w_{13} + x_4 w_{14} + b_1,\\\\\n",
        "o_2 &= x_1 w_{21} + x_2 w_{22} + x_3 w_{23} + x_4 w_{24} + b_2,\\\\\n",
        "o_3 &= x_1 w_{31} + x_2 w_{32} + x_3 w_{33} + x_4 w_{34} + b_3.\n",
        "\\end{aligned}\\end{split}\n",
        "\n",
        "\n",
        "We can depict this calculation with the neural network diagram shown above. Just as in linear regression, softmax regression is also a *single-layer neural network*. And since the calculation of each output, $o_1,o_2$, and $o_3$, depends on all inputs, $x_1, x_2, x_3$, and $x_4$, the output layer of softmax regression can also be described as *fully-connected* layer.\n",
        "\n",
        "To express the model more compactly, we can use linear algebra notation. In vector form, we arrive at  $\\mathbf{o} = \\mathbf{W} \\mathbf{x} + \\mathbf{b} $, a form better suited both for mathematics, and for writing code. Note that we have gathered all of our weights into a  $3 \\times 4$  matrix and that for a given example $\\mathbf{x}$, our outputs are given by a *matrix-vector product* of our weights by our inputs plus our biases  $b$. From the above describtion, hopefully softmax regression feels suprisingly familiar to you, since it shares many of the techniques used by linear and logistic regression methods.\n"
      ]
    },
    {
      "cell_type": "markdown",
      "metadata": {
        "id": "0g-jZSRRPbT1",
        "colab_type": "text"
      },
      "source": [
        "## The softmax operation\n",
        "\n",
        "<figure>\n",
        "  <img src='https://deepnotes.io/public/images/softmax.png' width='50%'>\n",
        "  <figcaption>Single-layer softmax regression neural network | Source: <a href='https://deepnotes.io/'>deepnotes.io</a></figcaption>\n",
        "</figure>\n",
        "\n",
        "\n",
        "\n",
        "The main approach of softmax regression is to interpret the outputs of our model as probabilities. We will *optimize* our parameters to produce probabilities that *maximize the likelihood* of the observed data, just like logistic regression. Then, we generate predictions using a threshold (which we define), for example, choosing the *argmax* of the predicted probabilities. The *argmax* defines a given sample's predicted class based on the category with the highest probability value.\n",
        "\n",
        "Put formally, we would like outputs  $\\hat{y}_k$  that we can interpret as the probability that a given item belongs to class $k$. Then, we can choose the class with the largest output value as our prediction  $\\text{argmax}_k y_k $. For example, if $\\hat{y}_1 , \\hat{y}_2$, and $\\hat{y}_3$  are  $0.1, 0.8$, and $0.1$, respectively, then we predict category $2$, which (in our example) represents \"lab\".\n",
        "\n",
        "To interpret our outputs as probabilities, we must guarantee two things:\n",
        "1. They will be nonnegative.\n",
        "2. Given an input sample, the total of all the class probabilities sum up to 1.\n",
        "\n",
        "To transform our logits such that they become nonnegative and sum to $1$, while maintaining that the model remains differentiable (for gradient descent), we first exponentiate each logit (ensuring non-negativity) and then divide by their sum (ensuring that they sum to $1$). \n",
        "\n",
        "$$\n",
        "\\hat{\\mathbf{y}} = \\mathrm{softmax}(\\mathbf{o})\\quad \\text{where}\\quad\n",
        "\\hat{y}_i = \\frac{\\exp(o_i)}{\\sum_j \\exp(o_j)}.\n",
        "$$\n",
        "\n",
        "Now we can guarantee $\\hat{y}_1+\\hat{y}_2+\\hat{y}_3 = 1$  with  $0≤\\hat{y}_i≤1$ for all $i$ . Thus, we can interpret $\\hat{y}$ as a proper probability distribution. Note that the softmax operation does not change the ordering among the logits, and thus we can still pick out the most likely class by:\n",
        "\n",
        "$$\n",
        "\\hat{\\imath}(\\mathbf{o}) = \\operatorname*{argmax}_i o_i = \\operatorname*{argmax}_i \\hat y_i.\n",
        "$$\n"
      ]
    },
    {
      "cell_type": "markdown",
      "metadata": {
        "id": "hlHdxlqHWwBF",
        "colab_type": "text"
      },
      "source": [
        "## A note on the loss function\n",
        "The loss function for softmax regression is called categorical *cross-entropy*. A detailed description of cross-entropy is beyond the scope of this lesson. However, it's worth a quick summary. \n",
        "\n",
        "At a high level, cross-entropy is a measure of the difference between two probability distributions. It measures the amount of information (also called *bits*) needed to encode the data given our model. The goal is to predict the correct labels most of the time (via *maximum likelihood estimation*), while minimizing the *suprise* (entropy) required to communicate the labels."
      ]
    },
    {
      "cell_type": "markdown",
      "metadata": {
        "id": "nOgrQdxJVdEK",
        "colab_type": "text"
      },
      "source": [
        "## Summary: Softmax Regression\n",
        "\n",
        "To summarize softmax regression:\n",
        "- Category labels ($y$) are converted to discrete integer values and represented using multi-dimensional vectors (e.g., dimensions $=$ # of classes $k$).\n",
        "- The *softmax* logit function maps input features ($\\mathbf{x}$) to probabilities and guarantees that they are nonnegative and sum up to 1.\n",
        "- A category prediction is determined by the threshold function, such as *argmax*, which selects the class with the highest probability among all $k$ classes.   \n",
        "- Softmax regression classifiers try to *maximize the likelihood* of the observed data, like logistic regression.\n",
        "- Categorical *cross-entorpy* is the loss function for softmax regression.  "
      ]
    },
    {
      "cell_type": "markdown",
      "metadata": {
        "id": "5H1mvTcvaRUp",
        "colab_type": "text"
      },
      "source": [
        "# Softmax Regression: build a classifier to recognize handwritten digits\n",
        "\n",
        "Now that we know about the fundamentals of softmax regression, let's apply this method to a real-world problem--distinguishing between 10 handwritten digits (0-9) given the MNIST dataset--a dataset of grayscale handwritten digits. In this section, we will demonstrate in an end-to-end fashion the process of creating a softmax regression classifier: from building, to training, and finally evaluating the model to solve the handwritten digit classification task. This process involves several steps:\n",
        "\n",
        "1. Find, load, and prepare a dataset for the model.\n",
        "2. Build the model.\n",
        "3. Train the model using an algorithm such as stochastic gradient descent.\n",
        "4. Evaluate the quality of our model.\n",
        "5. Draw conclusions."
      ]
    },
    {
      "cell_type": "code",
      "metadata": {
        "id": "5ZcA1hmu_nSx",
        "colab_type": "code",
        "colab": {
          "base_uri": "https://localhost:8080/",
          "height": 35
        },
        "outputId": "989aeddc-59d0-4979-8349-f202a309a256"
      },
      "source": [
        "# TensorFlow and tf.keras\n",
        "import tensorflow as tf\n",
        "from tensorflow import keras\n",
        "from tensorflow.keras import layers\n",
        "\n",
        "# Commonly used modules\n",
        "import numpy as np\n",
        "import os\n",
        "import sys\n",
        "\n",
        "# Images, plots, display, and visualization\n",
        "import matplotlib.pyplot as plt\n",
        "import pandas as pd\n",
        "import seaborn as sns\n",
        "import cv2\n",
        "import IPython\n",
        "from six.moves import urllib\n",
        "\n",
        "print('Tensorflow version:', tf.__version__)"
      ],
      "execution_count": 9,
      "outputs": [
        {
          "output_type": "stream",
          "text": [
            "Tensorflow version: 2.2.0\n"
          ],
          "name": "stdout"
        }
      ]
    },
    {
      "cell_type": "markdown",
      "metadata": {
        "id": "d1yKY66dhryV",
        "colab_type": "text"
      },
      "source": [
        "## 1. Finding and preparing the dataset\n",
        "For step 1, we found the [MNIST dataset](http://yann.lecun.com/exdb/mnist/). The dataset contains 70k grayscale images of handwritten digits at a resolution of $28 \\times 28$ pixels. Our goal is to build a classification model to take one of these images as input and predict the most likely digit contained in the image (along with a relative confidence about the prediction):\n",
        "\n",
        "<figure><img src=\"https://i.imgur.com/ITrm9x4.png\" width=\"65%\"><figcaption><em>Source: <a href=\"https://deeplearning.mit.edu/\">MIT Deep Learning</a></em></figcaption></figure>\n",
        "\n",
        "\n",
        "Loading the dataset will return four NumPy arrays:\n",
        "* The `train_features` and `train_labels` arrays are the *training set*—the data the model uses to learn.\n",
        "* The `test_features` and `test_labels` arrays are the *test set*--the data the model is tested on.\n",
        "\n",
        "The images are $28\\times28$ NumPy arrays (i.e., the x variables), with pixel values ranging between 0 and 255. The *labels* (i.e., $y$) are an array of integers, ranging from 0 to 9. We will use *one-hot encoding* (the technique we learned about in the logistic regression lesson) to convert these labels to vectors (i.e., arrays with mostly 0s and a 1 at the index that corresponds to the data sample's digit category). We also need to *normalize* the input images between 0 and 1. This is achieved by dividing the features of each image by 255 (i.e., the max pixel value). Normalizing the data encourages our model to learn more generalizable features and helps it perform better on outside data. The final data processing step is \"flattening\" the $28\\times28$ image pixel matrices into 784 image pixel arrays. We reshape the image matrices into arrays because our model expects the input to be a vector/array with 784 features (i.e., values). \n",
        "\n",
        "Now, let's load the data!"
      ]
    },
    {
      "cell_type": "code",
      "metadata": {
        "id": "A3vusptMadti",
        "colab_type": "code",
        "colab": {
          "base_uri": "https://localhost:8080/",
          "height": 89
        },
        "outputId": "2bb436f0-303d-40a4-84a2-d65045faebd0"
      },
      "source": [
        "# Model / data parameters\n",
        "num_classes = 10\n",
        "input_shape = (-1, 28*28) # this will be used to reshape the 28x28 image pixel matrices into 784 pixel vectors \n",
        "\n",
        "# the data, split between train and test sets\n",
        "(train_features, train_labels), (test_features, test_labels) = keras.datasets.mnist.load_data()\n",
        "\n",
        "# Normalize the images to the [0, 1] range\n",
        "train_features = train_features.astype(\"float32\") / 255\n",
        "test_features = test_features.astype(\"float32\") / 255\n",
        "\n",
        "# Flatten the images.\n",
        "train_features = train_features.reshape(input_shape)\n",
        "test_features = test_features.reshape(input_shape)\n",
        "\n",
        "print(\"train_features shape:\", train_features.shape)\n",
        "print(\"test_features shape:\", test_features.shape)\n",
        "\n",
        "print(train_features.shape[0], \"train samples\")\n",
        "print(test_features.shape[0], \"test samples\")\n",
        "\n",
        "\n",
        "# convert class vectors (one-hot encoding)\n",
        "train_labels = keras.utils.to_categorical(train_labels, num_classes)\n",
        "test_labels = keras.utils.to_categorical(test_labels, num_classes)"
      ],
      "execution_count": 6,
      "outputs": [
        {
          "output_type": "stream",
          "text": [
            "train_features shape: (60000, 784)\n",
            "test_features shape: (10000, 784)\n",
            "60000 train samples\n",
            "10000 test samples\n"
          ],
          "name": "stdout"
        }
      ]
    },
    {
      "cell_type": "markdown",
      "metadata": {
        "id": "pWAdKomCblCS",
        "colab_type": "text"
      },
      "source": [
        "Let's display the first 5 images from the *training set* and display the class name below each image."
      ]
    },
    {
      "cell_type": "code",
      "metadata": {
        "id": "hMlEgpzNbjQ8",
        "colab_type": "code",
        "colab": {
          "base_uri": "https://localhost:8080/",
          "height": 141
        },
        "outputId": "f96fa3f2-6ada-4804-d80b-44e2fdb61c59"
      },
      "source": [
        "plt.figure(figsize=(10,2))\n",
        "for i in range(5):\n",
        "    plt.subplot(1,5,i+1)\n",
        "    plt.xticks([])\n",
        "    plt.yticks([])\n",
        "    plt.grid(False)\n",
        "    plt.imshow(train_features[i].reshape(28, 28), cmap=plt.cm.binary)\n",
        "    plt.xlabel(np.argmax(train_labels[i]))"
      ],
      "execution_count": 7,
      "outputs": [
        {
          "output_type": "display_data",
          "data": {
            "image/png": "[encoded data removed]",
            "text/plain": [
              "<Figure size 720x144 with 5 Axes>"
            ]
          },
          "metadata": {
            "tags": []
          }
        }
      ]
    },
    {
      "cell_type": "markdown",
      "metadata": {
        "id": "YB8P1GFcifvd",
        "colab_type": "text"
      },
      "source": [
        "## 3. Build the model\n",
        "Now that the data is ready, we can build the softmax classifier. We will use Tensorflow to define a simple softmax regression model (single-layer fully-connected neural network) to predict the class of each image (a digit between 0 and 9). Given a sample with a corresponding set of class predictions, our model will select the class with the highest prediction value using *argmax*. \n",
        "\n",
        "We also define the loss function, optimization algorithm, and metrics and \"glue\" them together with the model using the `compile` method. We will use *binary cross-entropy* loss, *stochastic gradient descent*, and track the *accuracy* metric.\n",
        "\n",
        "Notice that the `Dense` layer contains 10 *neurons* instead of 1, which is different from the logistic regression lesson (1 neuron). This is because we need to calculate probabilities for 10 classes (digits 0-9)."
      ]
    },
    {
      "cell_type": "code",
      "metadata": {
        "id": "Ic4-QSbL5u94",
        "colab_type": "code",
        "outputId": "34df1b72-5a93-4b20-8862-0beb370974e7",
        "colab": {
          "base_uri": "https://localhost:8080/",
          "height": 233
        }
      },
      "source": [
        "# build the linear model \n",
        "model = keras.Sequential([\n",
        "            layers.Input((train_features.shape[-1],)), # the input layer (corresponds to the features)\n",
        "            layers.Dense(10, activation='softmax'), # the output layer with the softmax function (this layer contains the weights and a bias term)\n",
        "        ], name='softmax_regression_model')\n",
        "\n",
        "print('model summary')\n",
        "print(model.summary())\n",
        "\n",
        "# define the loss function, optimization algorithm, and metrics for the model\n",
        "# and \"glue\" them all together\n",
        "model.compile(loss=keras.losses.CategoricalCrossentropy(),\n",
        "              optimizer=keras.optimizers.SGD(learning_rate=0.01),\n",
        "              metrics=['accuracy'])\n"
      ],
      "execution_count": 10,
      "outputs": [
        {
          "output_type": "stream",
          "text": [
            "model summary\n",
            "Model: \"softmax_regression_model\"\n",
            "_________________________________________________________________\n",
            "Layer (type)                 Output Shape              Param #   \n",
            "=================================================================\n",
            "dense (Dense)                (None, 10)                7850      \n",
            "=================================================================\n",
            "Total params: 7,850\n",
            "Trainable params: 7,850\n",
            "Non-trainable params: 0\n",
            "_________________________________________________________________\n",
            "None\n"
          ],
          "name": "stdout"
        }
      ]
    },
    {
      "cell_type": "markdown",
      "metadata": {
        "id": "UraXf-5skCxm",
        "colab_type": "text"
      },
      "source": [
        "## 4. Train the model\n",
        "No it's time to train the model. We will train it for 100 *epochs* (iterations) with a *batch size* of 2048 (the number of training examples to evaluate prior to doing gradient descent), and record the training and validation metrics in the `history` object."
      ]
    },
    {
      "cell_type": "code",
      "metadata": {
        "id": "uKw1OPoRmaXL",
        "colab_type": "code",
        "colab": {
          "base_uri": "https://localhost:8080/",
          "height": 1000
        },
        "outputId": "62e1ddc4-d416-42da-96ba-b6506db1a841"
      },
      "source": [
        "epochs = 50\n",
        "batch_size = 128\n",
        "\n",
        "\n",
        "history = model.fit(train_features, train_labels,\n",
        "                    epochs=epochs, validation_split=0.1,\n",
        "                    batch_size=batch_size)"
      ],
      "execution_count": 12,
      "outputs": [
        {
          "output_type": "stream",
          "text": [
            "Epoch 1/50\n",
            "422/422 [==============================] - 1s 3ms/step - loss: 0.3702 - accuracy: 0.8983 - val_loss: 0.3048 - val_accuracy: 0.9190\n",
            "Epoch 2/50\n",
            "422/422 [==============================] - 1s 3ms/step - loss: 0.3667 - accuracy: 0.8993 - val_loss: 0.3021 - val_accuracy: 0.9200\n",
            "Epoch 3/50\n",
            "422/422 [==============================] - 1s 3ms/step - loss: 0.3635 - accuracy: 0.8999 - val_loss: 0.2995 - val_accuracy: 0.9205\n",
            "Epoch 4/50\n",
            "422/422 [==============================] - 1s 3ms/step - loss: 0.3605 - accuracy: 0.9008 - val_loss: 0.2976 - val_accuracy: 0.9207\n",
            "Epoch 5/50\n",
            "422/422 [==============================] - 1s 3ms/step - loss: 0.3578 - accuracy: 0.9014 - val_loss: 0.2950 - val_accuracy: 0.9208\n",
            "Epoch 6/50\n",
            "422/422 [==============================] - 1s 3ms/step - loss: 0.3552 - accuracy: 0.9020 - val_loss: 0.2931 - val_accuracy: 0.9212\n",
            "Epoch 7/50\n",
            "422/422 [==============================] - 1s 3ms/step - loss: 0.3528 - accuracy: 0.9026 - val_loss: 0.2910 - val_accuracy: 0.9227\n",
            "Epoch 8/50\n",
            "422/422 [==============================] - 1s 3ms/step - loss: 0.3506 - accuracy: 0.9032 - val_loss: 0.2894 - val_accuracy: 0.9222\n",
            "Epoch 9/50\n",
            "422/422 [==============================] - 1s 3ms/step - loss: 0.3484 - accuracy: 0.9036 - val_loss: 0.2876 - val_accuracy: 0.9228\n",
            "Epoch 10/50\n",
            "422/422 [==============================] - 1s 3ms/step - loss: 0.3464 - accuracy: 0.9038 - val_loss: 0.2862 - val_accuracy: 0.9232\n",
            "Epoch 11/50\n",
            "422/422 [==============================] - 1s 3ms/step - loss: 0.3445 - accuracy: 0.9044 - val_loss: 0.2847 - val_accuracy: 0.9233\n",
            "Epoch 12/50\n",
            "422/422 [==============================] - 1s 3ms/step - loss: 0.3426 - accuracy: 0.9048 - val_loss: 0.2834 - val_accuracy: 0.9235\n",
            "Epoch 13/50\n",
            "422/422 [==============================] - 1s 3ms/step - loss: 0.3409 - accuracy: 0.9052 - val_loss: 0.2820 - val_accuracy: 0.9243\n",
            "Epoch 14/50\n",
            "422/422 [==============================] - 1s 3ms/step - loss: 0.3393 - accuracy: 0.9061 - val_loss: 0.2807 - val_accuracy: 0.9248\n",
            "Epoch 15/50\n",
            "422/422 [==============================] - 1s 3ms/step - loss: 0.3377 - accuracy: 0.9064 - val_loss: 0.2793 - val_accuracy: 0.9248\n",
            "Epoch 16/50\n",
            "422/422 [==============================] - 1s 3ms/step - loss: 0.3362 - accuracy: 0.9069 - val_loss: 0.2782 - val_accuracy: 0.9245\n",
            "Epoch 17/50\n",
            "422/422 [==============================] - 1s 3ms/step - loss: 0.3348 - accuracy: 0.9069 - val_loss: 0.2772 - val_accuracy: 0.9257\n",
            "Epoch 18/50\n",
            "422/422 [==============================] - 1s 3ms/step - loss: 0.3334 - accuracy: 0.9075 - val_loss: 0.2763 - val_accuracy: 0.9248\n",
            "Epoch 19/50\n",
            "422/422 [==============================] - 1s 3ms/step - loss: 0.3321 - accuracy: 0.9080 - val_loss: 0.2752 - val_accuracy: 0.9248\n",
            "Epoch 20/50\n",
            "422/422 [==============================] - 1s 3ms/step - loss: 0.3308 - accuracy: 0.9082 - val_loss: 0.2744 - val_accuracy: 0.9255\n",
            "Epoch 21/50\n",
            "422/422 [==============================] - 1s 3ms/step - loss: 0.3296 - accuracy: 0.9084 - val_loss: 0.2732 - val_accuracy: 0.9257\n",
            "Epoch 22/50\n",
            "422/422 [==============================] - 1s 3ms/step - loss: 0.3284 - accuracy: 0.9089 - val_loss: 0.2725 - val_accuracy: 0.9255\n",
            "Epoch 23/50\n",
            "422/422 [==============================] - 1s 3ms/step - loss: 0.3273 - accuracy: 0.9091 - val_loss: 0.2717 - val_accuracy: 0.9257\n",
            "Epoch 24/50\n",
            "422/422 [==============================] - 1s 3ms/step - loss: 0.3263 - accuracy: 0.9091 - val_loss: 0.2709 - val_accuracy: 0.9252\n",
            "Epoch 25/50\n",
            "422/422 [==============================] - 1s 3ms/step - loss: 0.3251 - accuracy: 0.9091 - val_loss: 0.2701 - val_accuracy: 0.9253\n",
            "Epoch 26/50\n",
            "422/422 [==============================] - 1s 3ms/step - loss: 0.3242 - accuracy: 0.9099 - val_loss: 0.2692 - val_accuracy: 0.9257\n",
            "Epoch 27/50\n",
            "422/422 [==============================] - 1s 3ms/step - loss: 0.3232 - accuracy: 0.9099 - val_loss: 0.2686 - val_accuracy: 0.9258\n",
            "Epoch 28/50\n",
            "422/422 [==============================] - 1s 3ms/step - loss: 0.3223 - accuracy: 0.9101 - val_loss: 0.2678 - val_accuracy: 0.9262\n",
            "Epoch 29/50\n",
            "422/422 [==============================] - 1s 3ms/step - loss: 0.3213 - accuracy: 0.9103 - val_loss: 0.2670 - val_accuracy: 0.9263\n",
            "Epoch 30/50\n",
            "422/422 [==============================] - 1s 3ms/step - loss: 0.3204 - accuracy: 0.9106 - val_loss: 0.2664 - val_accuracy: 0.9268\n",
            "Epoch 31/50\n",
            "422/422 [==============================] - 1s 3ms/step - loss: 0.3196 - accuracy: 0.9110 - val_loss: 0.2660 - val_accuracy: 0.9268\n",
            "Epoch 32/50\n",
            "422/422 [==============================] - 1s 3ms/step - loss: 0.3188 - accuracy: 0.9113 - val_loss: 0.2652 - val_accuracy: 0.9270\n",
            "Epoch 33/50\n",
            "422/422 [==============================] - 1s 3ms/step - loss: 0.3179 - accuracy: 0.9117 - val_loss: 0.2645 - val_accuracy: 0.9268\n",
            "Epoch 34/50\n",
            "422/422 [==============================] - 1s 3ms/step - loss: 0.3172 - accuracy: 0.9118 - val_loss: 0.2642 - val_accuracy: 0.9267\n",
            "Epoch 35/50\n",
            "422/422 [==============================] - 1s 3ms/step - loss: 0.3164 - accuracy: 0.9119 - val_loss: 0.2636 - val_accuracy: 0.9268\n",
            "Epoch 36/50\n",
            "422/422 [==============================] - 1s 3ms/step - loss: 0.3156 - accuracy: 0.9120 - val_loss: 0.2628 - val_accuracy: 0.9270\n",
            "Epoch 37/50\n",
            "422/422 [==============================] - 1s 3ms/step - loss: 0.3149 - accuracy: 0.9121 - val_loss: 0.2625 - val_accuracy: 0.9280\n",
            "Epoch 38/50\n",
            "422/422 [==============================] - 1s 3ms/step - loss: 0.3142 - accuracy: 0.9125 - val_loss: 0.2621 - val_accuracy: 0.9273\n",
            "Epoch 39/50\n",
            "422/422 [==============================] - 1s 3ms/step - loss: 0.3135 - accuracy: 0.9126 - val_loss: 0.2614 - val_accuracy: 0.9287\n",
            "Epoch 40/50\n",
            "422/422 [==============================] - 1s 3ms/step - loss: 0.3129 - accuracy: 0.9128 - val_loss: 0.2609 - val_accuracy: 0.9283\n",
            "Epoch 41/50\n",
            "422/422 [==============================] - 1s 3ms/step - loss: 0.3122 - accuracy: 0.9131 - val_loss: 0.2606 - val_accuracy: 0.9278\n",
            "Epoch 42/50\n",
            "422/422 [==============================] - 1s 3ms/step - loss: 0.3115 - accuracy: 0.9134 - val_loss: 0.2603 - val_accuracy: 0.9285\n",
            "Epoch 43/50\n",
            "422/422 [==============================] - 1s 3ms/step - loss: 0.3110 - accuracy: 0.9135 - val_loss: 0.2596 - val_accuracy: 0.9287\n",
            "Epoch 44/50\n",
            "422/422 [==============================] - 1s 3ms/step - loss: 0.3104 - accuracy: 0.9136 - val_loss: 0.2592 - val_accuracy: 0.9293\n",
            "Epoch 45/50\n",
            "422/422 [==============================] - 1s 3ms/step - loss: 0.3098 - accuracy: 0.9140 - val_loss: 0.2587 - val_accuracy: 0.9297\n",
            "Epoch 46/50\n",
            "422/422 [==============================] - 1s 3ms/step - loss: 0.3092 - accuracy: 0.9142 - val_loss: 0.2583 - val_accuracy: 0.9293\n",
            "Epoch 47/50\n",
            "422/422 [==============================] - 1s 3ms/step - loss: 0.3086 - accuracy: 0.9140 - val_loss: 0.2579 - val_accuracy: 0.9288\n",
            "Epoch 48/50\n",
            "422/422 [==============================] - 1s 3ms/step - loss: 0.3081 - accuracy: 0.9144 - val_loss: 0.2575 - val_accuracy: 0.9295\n",
            "Epoch 49/50\n",
            "422/422 [==============================] - 1s 3ms/step - loss: 0.3075 - accuracy: 0.9147 - val_loss: 0.2571 - val_accuracy: 0.9297\n",
            "Epoch 50/50\n",
            "422/422 [==============================] - 1s 3ms/step - loss: 0.3070 - accuracy: 0.9147 - val_loss: 0.2566 - val_accuracy: 0.9290\n"
          ],
          "name": "stdout"
        }
      ]
    },
    {
      "cell_type": "markdown",
      "metadata": {
        "id": "aQQz-BI1kBXx",
        "colab_type": "text"
      },
      "source": [
        ""
      ]
    },
    {
      "cell_type": "code",
      "metadata": {
        "id": "BLbub2CrohPz",
        "colab_type": "code",
        "outputId": "ad6d96b6-8e44-468b-cd73-12e47dc699f9",
        "colab": {
          "base_uri": "https://localhost:8080/",
          "height": 388
        }
      },
      "source": [
        "# create a dataframe to store the history \n",
        "hist = pd.DataFrame(history.history)\n",
        "hist['epoch'] = history.epoch\n",
        "print(hist.tail())\n",
        "\n",
        "# visualize the mean squared error over the training process\n",
        "hist.plot.line(x='epoch', y='val_accuracy');"
      ],
      "execution_count": 13,
      "outputs": [
        {
          "output_type": "stream",
          "text": [
            "        loss  accuracy  val_loss  val_accuracy  epoch\n",
            "45  0.309180  0.914185  0.258287      0.929333     45\n",
            "46  0.308598  0.914019  0.257859      0.928833     46\n",
            "47  0.308062  0.914370  0.257513      0.929500     47\n",
            "48  0.307546  0.914667  0.257053      0.929667     48\n",
            "49  0.306998  0.914685  0.256569      0.929000     49\n"
          ],
          "name": "stdout"
        },
        {
          "output_type": "display_data",
          "data": {
            "image/png": "[encoded data removed]",
            "text/plain": [
              "<Figure size 432x288 with 1 Axes>"
            ]
          },
          "metadata": {
            "tags": [],
            "needs_background": "light"
          }
        }
      ]
    },
    {
      "cell_type": "markdown",
      "metadata": {
        "id": "CGnpAbVjzhQm",
        "colab_type": "text"
      },
      "source": [
        "As the above plot suggests, our model has not converged to the optimal parameters yet after training for 50 epochs (iterations). This suggests the accuracy may improve with more training (more epochs). Further, the validation accuracy peaks around ~93%.  "
      ]
    },
    {
      "cell_type": "markdown",
      "metadata": {
        "id": "FWuWW0tcvV7_",
        "colab_type": "text"
      },
      "source": [
        "## 5. Evaluate the model\n",
        "Now that we trained our model, it's time to evaluate it using the test dataset, which we did not use when training the model. This gives us a sense of how well our model predicts unseen data, which is the case when we use it in the real world. We will use the `evaluate` method to test the model."
      ]
    },
    {
      "cell_type": "code",
      "metadata": {
        "id": "1cVnmxZB0h2_",
        "colab_type": "code",
        "outputId": "b3911b8e-3a64-4080-f527-32567d017f87",
        "colab": {
          "base_uri": "https://localhost:8080/",
          "height": 53
        }
      },
      "source": [
        "loss, accuracy = model.evaluate(test_features, test_labels)\n",
        "print('Test set accuracy: {}%'.format(round(accuracy, 4)*100))"
      ],
      "execution_count": 14,
      "outputs": [
        {
          "output_type": "stream",
          "text": [
            "313/313 [==============================] - 1s 2ms/step - loss: 0.2929 - accuracy: 0.9181\n",
            "Test set accuracy: 91.81%\n"
          ],
          "name": "stdout"
        }
      ]
    },
    {
      "cell_type": "code",
      "metadata": {
        "id": "hAUOCBHefcEP",
        "colab_type": "code",
        "colab": {
          "base_uri": "https://localhost:8080/",
          "height": 53
        },
        "outputId": "909e342f-4bbf-490a-b915-9fd925d163ca"
      },
      "source": [
        "print('training set distribution of digit classes:', np.sum(train_labels, axis=0))\n",
        "print('test set distribution of digit classes:', np.sum(test_labels, axis=0))\n"
      ],
      "execution_count": 20,
      "outputs": [
        {
          "output_type": "stream",
          "text": [
            "training set distribution of digit classes: [5923. 6742. 5958. 6131. 5842. 5421. 5918. 6265. 5851. 5949.]\n",
            "test set distribution of digit classes: [ 980. 1135. 1032. 1010.  982.  892.  958. 1028.  974. 1009.]\n"
          ],
          "name": "stdout"
        }
      ]
    },
    {
      "cell_type": "markdown",
      "metadata": {
        "id": "92XmHVgW0xLg",
        "colab_type": "text"
      },
      "source": [
        "Wow! Our softmax classifier fit the MNIST digit data pretty well, correctly predicting the unseen handwritten digits around 91% to 92% of the time. Since the dataset is fairly balanced (i.e., the digit classes are close to equally represented), we can be relatively confident that the test set accuracy score provides a good estimate for how the model will perform on similar unseen handwritten digit data."
      ]
    },
    {
      "cell_type": "markdown",
      "metadata": {
        "id": "HDoNhPh367sZ",
        "colab_type": "text"
      },
      "source": [
        "# Summary\n",
        "\n",
        "- We use *one-hot encoding* to represent categorical data.\n",
        "- Softmax regression is probably the popular classification technique and it is a foundational algorithm for classification methods in deep learning (neural networks). \n",
        "- The *softmax* logit function maps the input features to a probability distribution that guarantees the values are nonnegative and sum up to 1.\n",
        "- Softmax regression classifiers try to *maximize the likelihood* of the observed data, like logistic regression.\n",
        "- Categorical *cross-entorpy* is the loss function for softmax regression.  "
      ]
    },
    {
      "cell_type": "code",
      "metadata": {
        "id": "_mITAGLVCRsa",
        "colab_type": "code",
        "colab": {}
      },
      "source": [
        ""
      ],
      "execution_count": 0,
      "outputs": []
    }
  ]
}