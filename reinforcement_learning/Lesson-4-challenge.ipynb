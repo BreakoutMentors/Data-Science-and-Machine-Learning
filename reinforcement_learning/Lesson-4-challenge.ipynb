{
  "cells": [
    {
      "cell_type": "markdown",
      "metadata": {
        "id": "view-in-github",
        "colab_type": "text"
      },
      "source": [
        "<a href=\"https://colab.research.google.com/github/BreakoutMentors/Data-Science-and-Machine-Learning/blob/main/reinforcement_learning/Lesson-4-challenge.ipynb\" target=\"_parent\"><img src=\"https://colab.research.google.com/assets/colab-badge.svg\" alt=\"Open In Colab\"/></a>"
      ]
    },
    {
      "cell_type": "markdown",
      "metadata": {
        "id": "x3ctTp_VXR7V"
      },
      "source": [
        "> # MAKE SURE YOU RUN ON **GPU**!!!: *Select* **Runtime** -> **Change Runtime Type** -> *Select* **GPU** as your hardware acclerator!"
      ]
    },
    {
      "cell_type": "code",
      "execution_count": null,
      "metadata": {
        "id": "52DWFY0fXR7X"
      },
      "outputs": [],
      "source": [
        "## gonna install some stuff\n",
        "!pip install gymnasium[classic-control]==0.28.1\n",
        "!pip install stable-baselines3[extra]==2.0.0"
      ]
    },
    {
      "cell_type": "markdown",
      "metadata": {
        "id": "d6-ovYFSXR7Y"
      },
      "source": [
        "Meow the cat loves riding [Mountain Car](https://gymnasium.farama.org/environments/classic_control/mountain_car/)! Let's train an agent so I can play!\n",
        "\n",
        "---\n",
        "\n",
        "### Look at [THIS](https://gymnasium.farama.org/environments/classic_control/) for reference"
      ]
    },
    {
      "cell_type": "markdown",
      "metadata": {
        "id": "_UEydYlCXR7Y"
      },
      "source": [
        "**Question 4.4** Define the network and agent!"
      ]
    },
    {
      "cell_type": "code",
      "execution_count": null,
      "metadata": {
        "id": "EpUeZOzHXR7Y"
      },
      "outputs": [],
      "source": [
        "import gymnasium as gym\n",
        "import numpy as np\n",
        "import torch\n",
        "import torch.nn as nn\n",
        "import torch.optim as optim\n",
        "\n",
        "# Define Policy Network\n",
        "class SoftmaxPolicy(nn.Module):\n",
        "    def __init__(self, n_inputs, n_outputs):\n",
        "        # TODO  define a network of 3 layers, and 24 neurons in between\n",
        "        pass\n",
        "\n",
        "    def forward(self, x):\n",
        "        # TODO forward propagation with activation\n",
        "        pass\n",
        "\n",
        "\n",
        "# Define Policy Gradient Agent\n",
        "class SoftmaxAgent:\n",
        "    def __init__(self, n_inputs, n_outputs):\n",
        "        self.policy_network = # TODO\n",
        "        self.optimizer = # TODO use Adam Optimizer\n",
        "        self.gamma = 0.99\n",
        "\n",
        "    def get_action(self, state):\n",
        "        # TODO Get action and return a (action, log_prob) tuple\n",
        "        pass\n",
        "\n",
        "    def update_policy(self, rewards, log_probs):\n",
        "        discounted_rewards = []\n",
        "        for t in range(len(rewards)):\n",
        "            Gt = 0\n",
        "            pw = 0\n",
        "            for r in rewards[t:]:\n",
        "                Gt = Gt + self.gamma**pw * r\n",
        "                pw = pw + 1\n",
        "            discounted_rewards.append(Gt)\n",
        "\n",
        "        discounted_rewards = torch.tensor(discounted_rewards)\n",
        "        discounted_rewards = (discounted_rewards - discounted_rewards.mean()) / (discounted_rewards.std() + 1e-9) # normalize discounted rewards\n",
        "\n",
        "        policy_gradient = []\n",
        "        for log_prob, Gt in zip(log_probs, discounted_rewards):\n",
        "            policy_gradient.append(-log_prob * Gt)\n",
        "\n",
        "        self.optimizer.zero_grad()\n",
        "        policy_gradient = torch.stack(policy_gradient).sum()\n",
        "        policy_gradient.backward()\n",
        "        self.optimizer.step()"
      ]
    },
    {
      "cell_type": "markdown",
      "metadata": {
        "id": "bacDlHISXR7Z"
      },
      "source": [
        "**Question 4.5** Train!!!  "
      ]
    },
    {
      "cell_type": "code",
      "execution_count": null,
      "metadata": {
        "id": "loos7uMuXR7Z"
      },
      "outputs": [],
      "source": [
        "# Training the Agent\n",
        "env = # TODO use MountainCar-v0\n",
        "agent = SoftmaxAgent(env.observation_space.shape[0], env.action_space.n)\n",
        "n_episodes = 10\n",
        "\n",
        "for episode in range(n_episodes):\n",
        "    state = env.reset()[0]\n",
        "    log_probs = []\n",
        "    rewards = []\n",
        "    done = False\n",
        "\n",
        "    while not done:\n",
        "        action, log_prob = # TODO get the action\n",
        "        new_state, reward, done, _, _ = # TODO take the action\n",
        "\n",
        "        log_probs.append(log_prob)\n",
        "        rewards.append(reward)\n",
        "        state = new_state\n",
        "        if done:\n",
        "            # TODO update the policy\n",
        "            episode_reward = sum(rewards)\n",
        "            print(\"Episode \" + str(episode) + \": \" + str(episode_reward))"
      ]
    },
    {
      "cell_type": "markdown",
      "metadata": {
        "id": "zBWLX8SiXR7Z"
      },
      "source": [
        "Let's evaluate our agent!"
      ]
    },
    {
      "cell_type": "code",
      "execution_count": null,
      "metadata": {
        "id": "q6QroblxXR7a"
      },
      "outputs": [],
      "source": [
        "from IPython import display\n",
        "import matplotlib\n",
        "import matplotlib.pyplot as plt\n",
        "%matplotlib inline\n",
        "\n",
        "# reset the environment\n",
        "obs = env.reset()\n",
        "\n",
        "img = plt.imshow(env.render()) # only call this once\n",
        "\n",
        "\n",
        "while True:\n",
        "\n",
        "  img.set_data(env.render()) # just update the data\n",
        "  display.display(plt.gcf())\n",
        "  display.clear_output(wait=True)\n",
        "\n",
        "  action, _ = agent.get_action(state) # predict the action and state using the model\n",
        "  new_state, reward, done, _, _ = env.step(action.numpy())\n",
        "  if done :\n",
        "    break\n",
        "\n",
        "env.close()"
      ]
    },
    {
      "cell_type": "markdown",
      "metadata": {
        "id": "VGxQUWrKXR7a"
      },
      "source": [
        "**Question 4.6**  Define the network and agent!"
      ]
    },
    {
      "cell_type": "code",
      "execution_count": null,
      "metadata": {
        "id": "fcRjx6-hXR7a"
      },
      "outputs": [],
      "source": [
        "class GaussianPolicy(nn.Module):\n",
        "    def __init__(self, n_inputs, n_outputs):\n",
        "        # TODO  define a network of 3 layers, and 24 neurons in between\n",
        "        pass\n",
        "\n",
        "    def forward(self, x):\n",
        "        # TODO forward propagation with activation\n",
        "        pass\n",
        "\n",
        "\n",
        "class GaussianAgent:\n",
        "    def __init__(self, n_inputs, n_outputs):\n",
        "        self.policy_network = # TODO\n",
        "        self.optimizer = # TODO use Adam Optimizer\n",
        "        self.gamma = 0.99\n",
        "\n",
        "    def get_action(self, state):\n",
        "        # TODO Get action and return a (action, log_prob) tuple\n",
        "        pass\n",
        "\n",
        "    def update_policy(self, rewards, log_probs):\n",
        "        discounted_rewards = []\n",
        "        for t in range(len(rewards)):\n",
        "            Gt = 0\n",
        "            pw = 0\n",
        "            for r in rewards[t:]:\n",
        "                Gt = Gt + self.gamma**pw * r\n",
        "                pw = pw + 1\n",
        "            discounted_rewards.append(Gt)\n",
        "\n",
        "        discounted_rewards = torch.tensor(discounted_rewards)\n",
        "        discounted_rewards = (discounted_rewards - discounted_rewards.mean()) / (discounted_rewards.std() + 1e-9) # normalize discounted rewards\n",
        "\n",
        "        policy_gradient = []\n",
        "        for log_prob, Gt in zip(log_probs, discounted_rewards):\n",
        "            policy_gradient.append(-log_prob * Gt)\n",
        "\n",
        "        self.optimizer.zero_grad()\n",
        "        policy_gradient = torch.stack(policy_gradient).sum()\n",
        "        policy_gradient.backward()\n",
        "        self.optimizer.step()"
      ]
    },
    {
      "cell_type": "markdown",
      "metadata": {
        "id": "vzy5pUcvXR7b"
      },
      "source": [
        "**Question 4.7** Train!! Again!"
      ]
    },
    {
      "cell_type": "code",
      "execution_count": null,
      "metadata": {
        "id": "hl48ePwiXR7b"
      },
      "outputs": [],
      "source": [
        "# Training the Agent\n",
        "env = # TODO use MountainCarContinuous-v0\n",
        "agent = GaussianAgent(env.observation_space.shape[0], env.action_space.shape[0])\n",
        "n_episodes = 10\n",
        "\n",
        "for episode in range(n_episodes):\n",
        "    state = env.reset()[0]\n",
        "    log_probs = []\n",
        "    rewards = []\n",
        "    done = False\n",
        "    action, log_prob = agent.get_action(state)\n",
        "\n",
        "    while not done:\n",
        "        action, log_prob = # TODO get the action\n",
        "        new_state, reward, done, _, _ = # TODO take the action\n",
        "        log_probs.append(log_prob)\n",
        "        rewards.append(reward)\n",
        "        state = new_state.reshape(-1)\n",
        "\n",
        "        if done:\n",
        "            # TODO update the policy\n",
        "            episode_reward = sum(rewards)\n",
        "            print(\"Episode \" + str(episode) + \": \" + str(episode_reward))"
      ]
    },
    {
      "cell_type": "markdown",
      "metadata": {
        "id": "G0ZvswIFXR7b"
      },
      "source": [
        "Let's evaluate our agent!"
      ]
    },
    {
      "cell_type": "code",
      "execution_count": null,
      "metadata": {
        "id": "Em7TrdbfXR7b"
      },
      "outputs": [],
      "source": [
        "from IPython import display\n",
        "import matplotlib\n",
        "import matplotlib.pyplot as plt\n",
        "%matplotlib inline\n",
        "\n",
        "# reset the environment\n",
        "obs = env.reset()\n",
        "\n",
        "img = plt.imshow(env.render()) # only call this once\n",
        "\n",
        "\n",
        "while True:\n",
        "\n",
        "  img.set_data(env.render()) # just update the data\n",
        "  display.display(plt.gcf())\n",
        "  display.clear_output(wait=True)\n",
        "\n",
        "  action, _ = agent.get_action(state) # predict the action and state using the model\n",
        "  new_state, reward, done, _, _ = env.step(action.numpy())\n",
        "  if done :\n",
        "    break\n",
        "\n",
        "env.close()"
      ]
    }
  ],
  "metadata": {
    "language_info": {
      "name": "python"
    },
    "orig_nbformat": 4,
    "colab": {
      "provenance": [],
      "include_colab_link": true
    }
  },
  "nbformat": 4,
  "nbformat_minor": 0
}