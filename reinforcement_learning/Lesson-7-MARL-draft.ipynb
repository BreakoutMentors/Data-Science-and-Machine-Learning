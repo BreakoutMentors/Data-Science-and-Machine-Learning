{
  "cells": [
    {
      "cell_type": "markdown",
      "metadata": {},
      "source": [
        "> # MAKE SURE YOU RUN ON **GPU**!!!: *Select* **Runtime** -> **Change Runtime Type** -> *Select* **GPU** as your hardware acclerator!"
      ]
    },
    {
      "cell_type": "code",
      "execution_count": 10,
      "metadata": {
        "colab": {
          "base_uri": "https://localhost:8080/"
        },
        "id": "Phjgx5cOVCm8",
        "outputId": "39975c6e-d5b6-4361-8513-3effb6b5a321"
      },
      "outputs": [
        {
          "name": "stderr",
          "output_type": "stream",
          "text": [
            "/usr/local/lib/python3.10/dist-packages/ipykernel/ipkernel.py:283: DeprecationWarning: `should_run_async` will not call `transform_cell` automatically in the future. Please pass the result to `transformed_cell` argument and any exception that happen during thetransform in `preprocessing_exc_tuple` in IPython 7.17 and above.\n",
            "  and should_run_async(code)\n"
          ]
        },
        {
          "name": "stdout",
          "output_type": "stream",
          "text": [
            "Requirement already satisfied: pettingzoo[butterfly]==1.23.1 in /usr/local/lib/python3.10/dist-packages (1.23.1)\n",
            "Requirement already satisfied: numpy>=1.21.0 in /usr/local/lib/python3.10/dist-packages (from pettingzoo[butterfly]==1.23.1) (1.23.5)\n",
            "Requirement already satisfied: gymnasium>=0.28.0 in /usr/local/lib/python3.10/dist-packages (from pettingzoo[butterfly]==1.23.1) (0.28.1)\n",
            "Requirement already satisfied: pygame==2.3.0 in /usr/local/lib/python3.10/dist-packages (from pettingzoo[butterfly]==1.23.1) (2.3.0)\n",
            "Requirement already satisfied: pymunk==6.2.0 in /usr/local/lib/python3.10/dist-packages (from pettingzoo[butterfly]==1.23.1) (6.2.0)\n",
            "Requirement already satisfied: cffi>1.14.0 in /usr/local/lib/python3.10/dist-packages (from pymunk==6.2.0->pettingzoo[butterfly]==1.23.1) (1.15.1)\n",
            "Requirement already satisfied: jax-jumpy>=1.0.0 in /usr/local/lib/python3.10/dist-packages (from gymnasium>=0.28.0->pettingzoo[butterfly]==1.23.1) (1.0.0)\n",
            "Requirement already satisfied: cloudpickle>=1.2.0 in /usr/local/lib/python3.10/dist-packages (from gymnasium>=0.28.0->pettingzoo[butterfly]==1.23.1) (2.2.1)\n",
            "Requirement already satisfied: typing-extensions>=4.3.0 in /usr/local/lib/python3.10/dist-packages (from gymnasium>=0.28.0->pettingzoo[butterfly]==1.23.1) (4.7.1)\n",
            "Requirement already satisfied: farama-notifications>=0.0.1 in /usr/local/lib/python3.10/dist-packages (from gymnasium>=0.28.0->pettingzoo[butterfly]==1.23.1) (0.0.4)\n",
            "Requirement already satisfied: pycparser in /usr/local/lib/python3.10/dist-packages (from cffi>1.14.0->pymunk==6.2.0->pettingzoo[butterfly]==1.23.1) (2.21)\n",
            "Requirement already satisfied: stable_baselines3==2.0.0 in /usr/local/lib/python3.10/dist-packages (2.0.0)\n",
            "Requirement already satisfied: gymnasium==0.28.1 in /usr/local/lib/python3.10/dist-packages (from stable_baselines3==2.0.0) (0.28.1)\n",
            "Requirement already satisfied: numpy>=1.20 in /usr/local/lib/python3.10/dist-packages (from stable_baselines3==2.0.0) (1.23.5)\n",
            "Requirement already satisfied: torch>=1.11 in /usr/local/lib/python3.10/dist-packages (from stable_baselines3==2.0.0) (2.0.1+cu118)\n",
            "Requirement already satisfied: cloudpickle in /usr/local/lib/python3.10/dist-packages (from stable_baselines3==2.0.0) (2.2.1)\n",
            "Requirement already satisfied: pandas in /usr/local/lib/python3.10/dist-packages (from stable_baselines3==2.0.0) (1.5.3)\n",
            "Requirement already satisfied: matplotlib in /usr/local/lib/python3.10/dist-packages (from stable_baselines3==2.0.0) (3.7.1)\n",
            "Requirement already satisfied: jax-jumpy>=1.0.0 in /usr/local/lib/python3.10/dist-packages (from gymnasium==0.28.1->stable_baselines3==2.0.0) (1.0.0)\n",
            "Requirement already satisfied: typing-extensions>=4.3.0 in /usr/local/lib/python3.10/dist-packages (from gymnasium==0.28.1->stable_baselines3==2.0.0) (4.7.1)\n",
            "Requirement already satisfied: farama-notifications>=0.0.1 in /usr/local/lib/python3.10/dist-packages (from gymnasium==0.28.1->stable_baselines3==2.0.0) (0.0.4)\n",
            "Requirement already satisfied: filelock in /usr/local/lib/python3.10/dist-packages (from torch>=1.11->stable_baselines3==2.0.0) (3.12.2)\n",
            "Requirement already satisfied: sympy in /usr/local/lib/python3.10/dist-packages (from torch>=1.11->stable_baselines3==2.0.0) (1.12)\n",
            "Requirement already satisfied: networkx in /usr/local/lib/python3.10/dist-packages (from torch>=1.11->stable_baselines3==2.0.0) (3.1)\n",
            "Requirement already satisfied: jinja2 in /usr/local/lib/python3.10/dist-packages (from torch>=1.11->stable_baselines3==2.0.0) (3.1.2)\n",
            "Requirement already satisfied: triton==2.0.0 in /usr/local/lib/python3.10/dist-packages (from torch>=1.11->stable_baselines3==2.0.0) (2.0.0)\n",
            "Requirement already satisfied: cmake in /usr/local/lib/python3.10/dist-packages (from triton==2.0.0->torch>=1.11->stable_baselines3==2.0.0) (3.27.1)\n",
            "Requirement already satisfied: lit in /usr/local/lib/python3.10/dist-packages (from triton==2.0.0->torch>=1.11->stable_baselines3==2.0.0) (16.0.6)\n",
            "Requirement already satisfied: contourpy>=1.0.1 in /usr/local/lib/python3.10/dist-packages (from matplotlib->stable_baselines3==2.0.0) (1.1.0)\n",
            "Requirement already satisfied: cycler>=0.10 in /usr/local/lib/python3.10/dist-packages (from matplotlib->stable_baselines3==2.0.0) (0.11.0)\n",
            "Requirement already satisfied: fonttools>=4.22.0 in /usr/local/lib/python3.10/dist-packages (from matplotlib->stable_baselines3==2.0.0) (4.42.0)\n",
            "Requirement already satisfied: kiwisolver>=1.0.1 in /usr/local/lib/python3.10/dist-packages (from matplotlib->stable_baselines3==2.0.0) (1.4.4)\n",
            "Requirement already satisfied: packaging>=20.0 in /usr/local/lib/python3.10/dist-packages (from matplotlib->stable_baselines3==2.0.0) (23.1)\n",
            "Requirement already satisfied: pillow>=6.2.0 in /usr/local/lib/python3.10/dist-packages (from matplotlib->stable_baselines3==2.0.0) (9.4.0)\n",
            "Requirement already satisfied: pyparsing>=2.3.1 in /usr/local/lib/python3.10/dist-packages (from matplotlib->stable_baselines3==2.0.0) (3.1.1)\n",
            "Requirement already satisfied: python-dateutil>=2.7 in /usr/local/lib/python3.10/dist-packages (from matplotlib->stable_baselines3==2.0.0) (2.8.2)\n",
            "Requirement already satisfied: pytz>=2020.1 in /usr/local/lib/python3.10/dist-packages (from pandas->stable_baselines3==2.0.0) (2023.3)\n",
            "Requirement already satisfied: six>=1.5 in /usr/local/lib/python3.10/dist-packages (from python-dateutil>=2.7->matplotlib->stable_baselines3==2.0.0) (1.16.0)\n",
            "Requirement already satisfied: MarkupSafe>=2.0 in /usr/local/lib/python3.10/dist-packages (from jinja2->torch>=1.11->stable_baselines3==2.0.0) (2.1.3)\n",
            "Requirement already satisfied: mpmath>=0.19 in /usr/local/lib/python3.10/dist-packages (from sympy->torch>=1.11->stable_baselines3==2.0.0) (1.3.0)\n",
            "Collecting supersuit==3.9.0\n",
            "  Downloading SuperSuit-3.9.0-py3-none-any.whl (49 kB)\n",
            "\u001b[2K     \u001b[90m━━━━━━━━━━━━━━━━━━━━━━━━━━━━━━━━━━━━━━━━\u001b[0m \u001b[32m49.9/49.9 kB\u001b[0m \u001b[31m1.8 MB/s\u001b[0m eta \u001b[36m0:00:00\u001b[0m\n",
            "\u001b[?25hRequirement already satisfied: numpy>=1.19.0 in /usr/local/lib/python3.10/dist-packages (from supersuit==3.9.0) (1.23.5)\n",
            "Requirement already satisfied: gymnasium>=0.28.1 in /usr/local/lib/python3.10/dist-packages (from supersuit==3.9.0) (0.28.1)\n",
            "Collecting tinyscaler>=1.2.6 (from supersuit==3.9.0)\n",
            "  Downloading tinyscaler-1.2.6-cp310-cp310-manylinux_2_17_x86_64.manylinux2014_x86_64.whl (493 kB)\n",
            "\u001b[2K     \u001b[90m━━━━━━━━━━━━━━━━━━━━━━━━━━━━━━━━━━━━━━━\u001b[0m \u001b[32m493.2/493.2 kB\u001b[0m \u001b[31m8.0 MB/s\u001b[0m eta \u001b[36m0:00:00\u001b[0m\n",
            "\u001b[?25hRequirement already satisfied: jax-jumpy>=1.0.0 in /usr/local/lib/python3.10/dist-packages (from gymnasium>=0.28.1->supersuit==3.9.0) (1.0.0)\n",
            "Requirement already satisfied: cloudpickle>=1.2.0 in /usr/local/lib/python3.10/dist-packages (from gymnasium>=0.28.1->supersuit==3.9.0) (2.2.1)\n",
            "Requirement already satisfied: typing-extensions>=4.3.0 in /usr/local/lib/python3.10/dist-packages (from gymnasium>=0.28.1->supersuit==3.9.0) (4.7.1)\n",
            "Requirement already satisfied: farama-notifications>=0.0.1 in /usr/local/lib/python3.10/dist-packages (from gymnasium>=0.28.1->supersuit==3.9.0) (0.0.4)\n",
            "Installing collected packages: tinyscaler, supersuit\n",
            "Successfully installed supersuit-3.9.0 tinyscaler-1.2.6\n"
          ]
        }
      ],
      "source": [
        "!pip install pettingzoo[butterfly]==1.23.1\n",
        "!pip install stable_baselines3==2.0.0\n",
        "!pip install supersuit==3.9.0\n",
        "\n",
        "## Make sure to restart runtime for these packages to work!!"
      ]
    },
    {
      "cell_type": "markdown",
      "metadata": {},
      "source": [
        "In all the lessons before this one, we have been focusing on reinforcement learning on a single agent. Such as playing the Atari game with one player. However, our world is much complicated than this, and often time a task will involved *collaboration* among a group and *competition* among different group(ex: a soccer match). Hence, I will introduced you to **multi-agent reinforcement learning** method (MARL)."
      ]
    },
    {
      "cell_type": "markdown",
      "metadata": {},
      "source": [
        "First, there are different types of multi-agent environment\n",
        "\n",
        "Type    |  Example |  \n",
        ":-------------------------:|:-------------------------:|\n",
        "Cooperative | <img src=\"https://pettingzoo.farama.org/_images/butterfly_pistonball.gif\"  width=\"400\"/>\n",
        "Competitive | <img src=\"https://pettingzoo.farama.org/_images/atari_tennis.gif\"  width=\"200\"/> \n",
        "Both | <img src=\"https://miro.medium.com/v2/resize:fit:828/1*PEAFa3bySIDI1HIbvfAZxQ.gif\"  height=\"200\" width=\"400\"/> \n"
      ]
    },
    {
      "cell_type": "markdown",
      "metadata": {},
      "source": [
        "Next, let's talk about different types of multi-agent system\n",
        "\n",
        "\n",
        "Type    |  Description |  \n",
        ":-------------------------:|:-------------------------:|\n",
        "Decentralized System | 1. In this system, each agent have its **own parameters** to be train on. (own actions and rewards) <br>  2. Can be **problematic** in a cooperative environment: when each agent do not know what the other agent is doing.\n",
        "Centralized System | 1. In this system, all the agents are **sharing the parameters**.  <br> 2. Only a **single policy** is needed among all the agents!\n",
        "\n",
        "\n",
        "\n",
        "**Make sure to run the code block below to supress some Pygame warnings**!"
      ]
    },
    {
      "cell_type": "code",
      "execution_count": 61,
      "metadata": {
        "colab": {
          "base_uri": "https://localhost:8080/"
        },
        "id": "iy8ta3rAs2Wo",
        "outputId": "a8ddce92-1393-4d02-8acc-2822de054f91"
      },
      "outputs": [
        {
          "data": {
            "text/plain": [
              "<Surface(640x480x32 SW)>"
            ]
          },
          "execution_count": 61,
          "metadata": {},
          "output_type": "execute_result"
        }
      ],
      "source": [
        "# Suppress some pygame warnings\n",
        "\n",
        "import os\n",
        "os.environ['SDL_VIDEODRIVER']='dummy'\n",
        "import pygame\n",
        "pygame.display.set_mode((640,480))"
      ]
    },
    {
      "cell_type": "markdown",
      "metadata": {},
      "source": [
        "I am going to introduce you two new libraries.\n",
        "\n",
        "\n",
        "<img src=\"https://pettingzoo.farama.org/_images/pettingzoo-text.png\"  width=\"200\"/> \n",
        "\n",
        "**[Petting Zoo](https://pettingzoo.farama.org/index.html)** \n",
        "\n",
        "> A Multi-Agent version of [Gymnasium](https://gymnasium.farama.org/)\n",
        "\n",
        "<img src=\"https://warehouse-camo.ingress.us-east-2.pypi.io/9ed7d84bc4aee3d7d1f731c9ed6b63c5562c3047/68747470733a2f2f7261772e67697468756275736572636f6e74656e742e636f6d2f466172616d612d466f756e646174696f6e2f5375706572537569742f6d61737465722f7375706572737569742d746578742e706e67\"  width=\"200\"/>\n",
        "\n",
        "**[SuperSuit](https://pypi.org/project/SuperSuit/)**\n",
        "\n",
        "> A preprocessing tool for the RL environment to speed up the training process"
      ]
    },
    {
      "cell_type": "markdown",
      "metadata": {},
      "source": [
        "In this lesson, we are going to train several agents to play [Piston Ball](https://pettingzoo.farama.org/environments/butterfly/pistonball/) together.\n",
        "\n",
        "![Piston Ball](https://pettingzoo.farama.org/_images/butterfly_pistonball.gif)"
      ]
    },
    {
      "cell_type": "code",
      "execution_count": 68,
      "metadata": {
        "id": "mZCHM0uauzYC"
      },
      "outputs": [],
      "source": [
        "from stable_baselines3.ppo import CnnPolicy\n",
        "from stable_baselines3 import PPO\n",
        "from pettingzoo.butterfly import pistonball_v6\n",
        "import supersuit as ss"
      ]
    },
    {
      "cell_type": "markdown",
      "metadata": {},
      "source": [
        "We will first make a parallel environment with 6 pistons. check documentation for the additional parameters' meaning"
      ]
    },
    {
      "cell_type": "code",
      "execution_count": null,
      "metadata": {},
      "outputs": [],
      "source": [
        "env = pistonball_v6.parallel_env(n_pistons=6, time_penalty=-0.1, continuous=True, random_drop=True, random_rotate=True, ball_mass=0.75, ball_friction=0.3, ball_elasticity=1.5, max_cycles=10, render_mode=\"rgb_array\")"
      ]
    },
    {
      "cell_type": "markdown",
      "metadata": {},
      "source": [
        "We then convert the environment to grayscale by only selecting the *Blue* channel. Since the color in this game does not really effect the quality of our agent, and this let the Cnn neural network to handle a smaller input size.\n",
        "\n",
        "![](https://miro.medium.com/v2/resize:fit:828/format:webp/1*i11WadmryulTC9V4Kv2ihQ.png)"
      ]
    },
    {
      "cell_type": "code",
      "execution_count": 93,
      "metadata": {
        "id": "2-c7uZJkzVFw"
      },
      "outputs": [],
      "source": [
        "env = ss.color_reduction_v0(env, mode='B')"
      ]
    },
    {
      "cell_type": "markdown",
      "metadata": {},
      "source": [
        "Next, we resize the image to be smaller\n",
        "\n",
        "![](https://miro.medium.com/v2/resize:fit:828/format:webp/1*kVKbkgUyMXYVc1uVBVDAPg.png)"
      ]
    },
    {
      "cell_type": "code",
      "execution_count": null,
      "metadata": {},
      "outputs": [],
      "source": [
        "env = ss.resize_v1(env, x_size=84, y_size=84)"
      ]
    },
    {
      "cell_type": "markdown",
      "metadata": {},
      "source": [
        "From what we have talk about before in the Atari game, a single frame as input cannot help predict the motion of our agent. Hence, we stacked multiple frame together!"
      ]
    },
    {
      "cell_type": "code",
      "execution_count": null,
      "metadata": {},
      "outputs": [],
      "source": [
        "env = ss.frame_stack_v1(env, 3)"
      ]
    },
    {
      "cell_type": "markdown",
      "metadata": {},
      "source": [
        "Lastly, we convert them to be usable environment for SB3!"
      ]
    },
    {
      "cell_type": "code",
      "execution_count": null,
      "metadata": {},
      "outputs": [],
      "source": [
        "env = ss.pettingzoo_env_to_vec_env_v1(env)\n",
        "env = ss.concat_vec_envs_v1(env, 8, num_cpus=4, base_class=\n",
        "                            'stable_baselines3')"
      ]
    },
    {
      "cell_type": "markdown",
      "metadata": {},
      "source": [
        "Now, let's train our agent for 2000 steps!"
      ]
    },
    {
      "cell_type": "code",
      "execution_count": 94,
      "metadata": {
        "colab": {
          "base_uri": "https://localhost:8080/"
        },
        "id": "KNZ4TRcNwuyA",
        "outputId": "d06af554-5ed2-43c6-8a52-ee10c46206c8"
      },
      "outputs": [
        {
          "name": "stdout",
          "output_type": "stream",
          "text": [
            "Using cuda device\n",
            "Wrapping the env in a VecTransposeImage.\n"
          ]
        },
        {
          "name": "stderr",
          "output_type": "stream",
          "text": [
            "/usr/local/lib/python3.10/dist-packages/stable_baselines3/ppo/ppo.py:148: UserWarning: You have specified a mini-batch size of 256, but because the `RolloutBuffer` is of size `n_steps * n_envs = 960`, after every 3 untruncated mini-batches, there will be a truncated mini-batch of size 192\n",
            "We recommend using a `batch_size` that is a factor of `n_steps * n_envs`.\n",
            "Info: (n_steps=20 and n_envs=48)\n",
            "  warnings.warn(\n"
          ]
        },
        {
          "name": "stdout",
          "output_type": "stream",
          "text": [
            "----------------------------\n",
            "| time/              |     |\n",
            "|    fps             | 317 |\n",
            "|    iterations      | 1   |\n",
            "|    time_elapsed    | 3   |\n",
            "|    total_timesteps | 960 |\n",
            "----------------------------\n",
            "-----------------------------------------\n",
            "| time/                   |             |\n",
            "|    fps                  | 351         |\n",
            "|    iterations           | 2           |\n",
            "|    time_elapsed         | 5           |\n",
            "|    total_timesteps      | 1920        |\n",
            "| train/                  |             |\n",
            "|    approx_kl            | 0.039201617 |\n",
            "|    clip_fraction        | 0.0749      |\n",
            "|    clip_range           | 0.3         |\n",
            "|    entropy_loss         | -1.42       |\n",
            "|    explained_variance   | -0.00485    |\n",
            "|    learning_rate        | 0.000622    |\n",
            "|    loss                 | 19.8        |\n",
            "|    n_updates            | 5           |\n",
            "|    policy_gradient_loss | 0.00172     |\n",
            "|    std                  | 1.01        |\n",
            "|    value_loss           | 569         |\n",
            "-----------------------------------------\n",
            "------------------------------------------\n",
            "| time/                   |              |\n",
            "|    fps                  | 365          |\n",
            "|    iterations           | 3            |\n",
            "|    time_elapsed         | 7            |\n",
            "|    total_timesteps      | 2880         |\n",
            "| train/                  |              |\n",
            "|    approx_kl            | 0.0009880741 |\n",
            "|    clip_fraction        | 0.0395       |\n",
            "|    clip_range           | 0.3          |\n",
            "|    entropy_loss         | -1.43        |\n",
            "|    explained_variance   | -0.09        |\n",
            "|    learning_rate        | 0.000622     |\n",
            "|    loss                 | 8.52         |\n",
            "|    n_updates            | 10           |\n",
            "|    policy_gradient_loss | 0.00187      |\n",
            "|    std                  | 1.02         |\n",
            "|    value_loss           | 267          |\n",
            "------------------------------------------\n"
          ]
        },
        {
          "data": {
            "text/plain": [
              "<stable_baselines3.ppo.ppo.PPO at 0x7933fccac580>"
            ]
          },
          "execution_count": 94,
          "metadata": {},
          "output_type": "execute_result"
        }
      ],
      "source": [
        "model = PPO(CnnPolicy, env, verbose=3, gamma=0.95, n_steps=20, ent_coef=0.0905168, learning_rate=0.00062211, vf_coef=0.042202, max_grad_norm=0.9, gae_lambda=0.99, n_epochs=5, clip_range=0.3, batch_size=256)\n",
        "model.learn(total_timesteps=2000)"
      ]
    },
    {
      "cell_type": "markdown",
      "metadata": {},
      "source": [
        "Let's evaluate our agent! Actually, I means **agents** with a 's'!"
      ]
    },
    {
      "cell_type": "code",
      "execution_count": 95,
      "metadata": {
        "id": "6w8KHLXd3C7R"
      },
      "outputs": [],
      "source": [
        "env = pistonball_v6.env(n_pistons=6, time_penalty=-0.1, continuous=True, random_drop=True, random_rotate=True, ball_mass=0.75, ball_friction=0.3, ball_elasticity=1.5, max_cycles=10, render_mode=\"rgb_array\")\n",
        "env = ss.color_reduction_v0(env, mode='B')\n",
        "env = ss.resize_v1(env, x_size=84, y_size=84)\n",
        "env = ss.frame_stack_v1(env, 3)"
      ]
    },
    {
      "cell_type": "code",
      "execution_count": 99,
      "metadata": {
        "colab": {
          "base_uri": "https://localhost:8080/",
          "height": 435
        },
        "id": "qPZlqMgW3iaB",
        "outputId": "25408fc3-1fef-476c-f0e9-4e0bf8928ff1"
      },
      "outputs": [
        {
          "data": {
            "image/png": "[encoded data removed]",
            "text/plain": [
              "<Figure size 640x480 with 1 Axes>"
            ]
          },
          "metadata": {},
          "output_type": "display_data"
        }
      ],
      "source": [
        "from IPython import display\n",
        "import matplotlib\n",
        "import matplotlib.pyplot as plt\n",
        "%matplotlib inline\n",
        "\n",
        "env.reset()\n",
        "img = plt.imshow(env.render())\n",
        "\n",
        "\n",
        "for i in range(60):\n",
        "   obs, reward, done, info, _ = env.last()\n",
        "   act = model.predict(obs, deterministic=True)[0] if not done else None\n",
        "   env.step(act)\n",
        "   img.set_data(env.render()) # just update the data\n",
        "   display.display(plt.gcf())\n",
        "   display.clear_output(wait=True)\n",
        "\n",
        "   if done:\n",
        "    break\n",
        "\n",
        "env.close()"
      ]
    },
    {
      "cell_type": "markdown",
      "metadata": {},
      "source": [
        "### Reference\n",
        "\n",
        "1. [HuggingFace RL Course Unit 7](https://huggingface.co/learn/deep-rl-course/unit7/introduction)\n",
        "2. [Pettingzoo Tutorial](https://towardsdatascience.com/multi-agent-deep-reinforcement-learning-in-15-lines-of-code-using-pettingzoo-e0b963c0820b)\n"
      ]
    }
  ],
  "metadata": {
    "accelerator": "GPU",
    "colab": {
      "gpuType": "T4",
      "provenance": []
    },
    "kernelspec": {
      "display_name": "Python 3",
      "name": "python3"
    },
    "language_info": {
      "name": "python",
      "version": "3.10.9"
    }
  },
  "nbformat": 4,
  "nbformat_minor": 0
}
