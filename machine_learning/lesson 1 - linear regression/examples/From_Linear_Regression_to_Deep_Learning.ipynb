{
  "nbformat": 4,
  "nbformat_minor": 0,
  "metadata": {
    "colab": {
      "name": "From Linear Regression to Deep Learning.ipynb",
      "provenance": [],
      "collapsed_sections": [],
      "include_colab_link": true
    },
    "kernelspec": {
      "name": "python3",
      "display_name": "Python 3"
    }
  },
  "cells": [
    {
      "cell_type": "markdown",
      "metadata": {
        "id": "view-in-github",
        "colab_type": "text"
      },
      "source": [
        "<a href=\"https://colab.research.google.com/github/BreakoutMentors/Data-Science-and-Machine-Learning/blob/adam-lesson1-typo-fix/machine_learning/lesson%201%20-%20linear%20regression/examples/From_Linear_Regression_to_Deep_Learning.ipynb\" target=\"_parent\"><img src=\"https://colab.research.google.com/assets/colab-badge.svg\" alt=\"Open In Colab\"/></a>"
      ]
    },
    {
      "cell_type": "markdown",
      "metadata": {
        "id": "OsdT6CWpcq64"
      },
      "source": [
        "# Learning Objectives\n",
        "\n",
        "\n",
        "* Understand how regression lines can help us make predictions about data\n",
        "* Understand how the components of slope and y-intercept determine the output of a regression line\n",
        "* Understand how to represent a line as a function.\n",
        "* Introduce Deep Learning\n",
        "\n"
      ]
    },
    {
      "cell_type": "markdown",
      "metadata": {
        "id": "C9Nm1RZOvgE7"
      },
      "source": [
        "### Import Python Libraries"
      ]
    },
    {
      "cell_type": "code",
      "metadata": {
        "id": "7Z65vkmagshv"
      },
      "source": [
        "from pprint import pprint\n",
        "import torch\n",
        "import torch.optim as optim\n",
        "import pandas as pd\n",
        "import numpy as np\n",
        "import plotly\n",
        "\n",
        "\n",
        "def trace(data, mode = 'markers', name=\"data\"):\n",
        "    x_values = list(map(lambda point: point['x'],data))\n",
        "    y_values = list(map(lambda point: point['y'],data))\n",
        "    return {'x': x_values, 'y': y_values, 'mode': mode, 'name': name}\n",
        "\n",
        "\n",
        "def trace_values(x_values, y_values, mode = 'markers', name=\"data\", text_values = []):\n",
        "    return {'x': x_values, 'y': y_values, 'mode': mode, 'name': name, 'text': text_values}\n",
        "\n",
        "\n",
        "def m_b_data(m, b, x_values):\n",
        "    \"\"\"\n",
        "    A function that returns a dict with two keys: \n",
        "        1) x, which points to a list of x_values, and\n",
        "        2) y, which points to a list of y_values,\n",
        "    each y value is the expected output of a regression line for the given\n",
        "    m, b, and x values. \n",
        "\n",
        "    Example. Given m=1.5, b=20, x_values=[0, 50, 100] our function should\n",
        "    return:\n",
        "        {'x': [0, 50, 100], 'y': [20.0, 95.0, 170.0]}\n",
        "    \"\"\"\n",
        "    data = {'x': x_values}\n",
        "    y_values = []\n",
        "    for xi in x_values:\n",
        "        # compute yi, the expected y value given the value of m, b, and xi.\n",
        "        # yi = your code here\n",
        "        yi = xi*m + b\n",
        "        # add yi to the y_values list\n",
        "        y_values.append(yi)\n",
        "    \n",
        "    # add the 'y' key pointing to the y_values list to the data dictionary\n",
        "    data['y'] = y_values\n",
        "\n",
        "    # return the data dictionary with the x and y keys and values.\n",
        "    return data\n",
        "\n",
        "\n",
        "def m_b_trace(m, b, x_values, mode = 'lines', name = 'line function'):\n",
        "    \"\"\"\n",
        "    A function that uses our m_b_data function to return a dictionary that \n",
        "    includes keys of 'name' and 'mode' in addition to 'x' and 'y'. The values \n",
        "    of 'mode' and 'name' are provided as arguments. When the mode argument is \n",
        "    not provided, it has a default value of 'lines' and when name is not \n",
        "    provided, it has a default value of 'line function'.\n",
        "\n",
        "    Example. Given m=1.5, b=20, and x_values=[0,50,100] this function returns:\n",
        "        {'mode': 'line', 'name': 'line function', 'x': [0, 50, 100], 'y': [20.0, 95.0, 170.0]}\n",
        "    \"\"\"\n",
        "    data = m_b_data(m, b, x_values)\n",
        "    return {'mode': mode, 'name': name, 'x': data['x'], 'y': data['y']}\n",
        "\n",
        "\n",
        "def layout(x_range = None, y_range = None, options = {}):\n",
        "    layout = {}\n",
        "    if isinstance(x_range, list): layout.update({'xaxis': {'range': x_range}})\n",
        "    if isinstance(y_range, list): layout.update({'yaxis': {'range': y_range}})\n",
        "    layout.update(options)\n",
        "    return layout\n",
        "\n",
        "\n",
        "def plot(traces = [], layout = {}):\n",
        "    if not isinstance(traces, list): raise TypeError('first argument must be a list.  Instead is', traces)\n",
        "    plotly.offline.iplot({'data': traces, 'layout': layout})"
      ],
      "execution_count": 1,
      "outputs": []
    },
    {
      "cell_type": "markdown",
      "metadata": {
        "id": "R--iB8nfdevv"
      },
      "source": [
        "# Single Variable Regression\n",
        "\n",
        "## Making money: predicting movie revenue from movie budget \n",
        "Imagine we are hired as a consultant for a movie executive. The movie executive receives a budget proposal, and wants to know how much money the movie might make. We can help her by building a model of the relationship between the money spent on a movie and money made.\n",
        "\n"
      ]
    },
    {
      "cell_type": "markdown",
      "metadata": {
        "id": "IkMlqoruff8r"
      },
      "source": [
        "### Representing linear regression graphically\n",
        "To predict movie revenue based on a budget, let's draw a single straight line that represents the relationship between how much a movie costs and how much it makes:"
      ]
    },
    {
      "cell_type": "code",
      "metadata": {
        "colab": {
          "base_uri": "https://localhost:8080/",
          "height": 542
        },
        "id": "7f9hoMeOcasE",
        "outputId": "fc9a17a8-a6c4-4c6a-b460-32b1349db04d"
      },
      "source": [
        "movie_budgets = [0, 25, 50, 75] # x\n",
        "movie_revenues = [0, 50, 100, 150] # y\n",
        "regression_trace = trace_values(movie_budgets, movie_revenues, mode='lines', name='estimated revenue')\n",
        "movie_layout = layout(options={'title': 'Movie Budget and Revenue (in millions)'})\n",
        "plot([regression_trace], movie_layout)"
      ],
      "execution_count": 2,
      "outputs": [
        {
          "output_type": "display_data",
          "data": {
            "text/html": [
              "<html>\n",
              "<head><meta charset=\"utf-8\" /></head>\n",
              "<body>\n",
              "    <div>\n",
              "            <script src=\"https://cdnjs.cloudflare.com/ajax/libs/mathjax/2.7.5/MathJax.js?config=TeX-AMS-MML_SVG\"></script><script type=\"text/javascript\">if (window.MathJax) {MathJax.Hub.Config({SVG: {font: \"STIX-Web\"}});}</script>\n",
              "                <script type=\"text/javascript\">window.PlotlyConfig = {MathJaxConfig: 'local'};</script>\n",
              "        <script src=\"https://cdn.plot.ly/plotly-latest.min.js\"></script>    \n",
              "            <div id=\"b65ebf8c-6ccb-4a90-ae11-96e50c4acdcc\" class=\"plotly-graph-div\" style=\"height:525px; width:100%;\"></div>\n",
              "            <script type=\"text/javascript\">\n",
              "                \n",
              "                    window.PLOTLYENV=window.PLOTLYENV || {};\n",
              "                    \n",
              "                if (document.getElementById(\"b65ebf8c-6ccb-4a90-ae11-96e50c4acdcc\")) {\n",
              "                    Plotly.newPlot(\n",
              "                        'b65ebf8c-6ccb-4a90-ae11-96e50c4acdcc',\n",
              "                        [{\"mode\": \"lines\", \"name\": \"estimated revenue\", \"text\": [], \"type\": \"scatter\", \"x\": [0, 25, 50, 75], \"y\": [0, 50, 100, 150]}],\n",
              "                        {\"template\": {\"data\": {\"bar\": [{\"error_x\": {\"color\": \"#2a3f5f\"}, \"error_y\": {\"color\": \"#2a3f5f\"}, \"marker\": {\"line\": {\"color\": \"#E5ECF6\", \"width\": 0.5}}, \"type\": \"bar\"}], \"barpolar\": [{\"marker\": {\"line\": {\"color\": \"#E5ECF6\", \"width\": 0.5}}, \"type\": \"barpolar\"}], \"carpet\": [{\"aaxis\": {\"endlinecolor\": \"#2a3f5f\", \"gridcolor\": \"white\", \"linecolor\": \"white\", \"minorgridcolor\": \"white\", \"startlinecolor\": \"#2a3f5f\"}, \"baxis\": {\"endlinecolor\": \"#2a3f5f\", \"gridcolor\": \"white\", \"linecolor\": \"white\", \"minorgridcolor\": \"white\", \"startlinecolor\": \"#2a3f5f\"}, \"type\": \"carpet\"}], \"choropleth\": [{\"colorbar\": {\"outlinewidth\": 0, \"ticks\": \"\"}, \"type\": \"choropleth\"}], \"contour\": [{\"colorbar\": {\"outlinewidth\": 0, \"ticks\": \"\"}, \"colorscale\": [[0.0, \"#0d0887\"], [0.1111111111111111, \"#46039f\"], [0.2222222222222222, \"#7201a8\"], [0.3333333333333333, \"#9c179e\"], [0.4444444444444444, \"#bd3786\"], [0.5555555555555556, \"#d8576b\"], [0.6666666666666666, \"#ed7953\"], [0.7777777777777778, \"#fb9f3a\"], [0.8888888888888888, \"#fdca26\"], [1.0, \"#f0f921\"]], \"type\": \"contour\"}], \"contourcarpet\": [{\"colorbar\": {\"outlinewidth\": 0, \"ticks\": \"\"}, \"type\": \"contourcarpet\"}], \"heatmap\": [{\"colorbar\": {\"outlinewidth\": 0, \"ticks\": \"\"}, \"colorscale\": [[0.0, \"#0d0887\"], [0.1111111111111111, \"#46039f\"], [0.2222222222222222, \"#7201a8\"], [0.3333333333333333, \"#9c179e\"], [0.4444444444444444, \"#bd3786\"], [0.5555555555555556, \"#d8576b\"], [0.6666666666666666, \"#ed7953\"], [0.7777777777777778, \"#fb9f3a\"], [0.8888888888888888, \"#fdca26\"], [1.0, \"#f0f921\"]], \"type\": \"heatmap\"}], \"heatmapgl\": [{\"colorbar\": {\"outlinewidth\": 0, \"ticks\": \"\"}, \"colorscale\": [[0.0, \"#0d0887\"], [0.1111111111111111, \"#46039f\"], [0.2222222222222222, \"#7201a8\"], [0.3333333333333333, \"#9c179e\"], [0.4444444444444444, \"#bd3786\"], [0.5555555555555556, \"#d8576b\"], [0.6666666666666666, \"#ed7953\"], [0.7777777777777778, \"#fb9f3a\"], [0.8888888888888888, \"#fdca26\"], [1.0, \"#f0f921\"]], \"type\": \"heatmapgl\"}], \"histogram\": [{\"marker\": {\"colorbar\": {\"outlinewidth\": 0, \"ticks\": \"\"}}, \"type\": \"histogram\"}], \"histogram2d\": [{\"colorbar\": {\"outlinewidth\": 0, \"ticks\": \"\"}, \"colorscale\": [[0.0, \"#0d0887\"], [0.1111111111111111, \"#46039f\"], [0.2222222222222222, \"#7201a8\"], [0.3333333333333333, \"#9c179e\"], [0.4444444444444444, \"#bd3786\"], [0.5555555555555556, \"#d8576b\"], [0.6666666666666666, \"#ed7953\"], [0.7777777777777778, \"#fb9f3a\"], [0.8888888888888888, \"#fdca26\"], [1.0, \"#f0f921\"]], \"type\": \"histogram2d\"}], \"histogram2dcontour\": [{\"colorbar\": {\"outlinewidth\": 0, \"ticks\": \"\"}, \"colorscale\": [[0.0, \"#0d0887\"], [0.1111111111111111, \"#46039f\"], [0.2222222222222222, \"#7201a8\"], [0.3333333333333333, \"#9c179e\"], [0.4444444444444444, \"#bd3786\"], [0.5555555555555556, \"#d8576b\"], [0.6666666666666666, \"#ed7953\"], [0.7777777777777778, \"#fb9f3a\"], [0.8888888888888888, \"#fdca26\"], [1.0, \"#f0f921\"]], \"type\": \"histogram2dcontour\"}], \"mesh3d\": [{\"colorbar\": {\"outlinewidth\": 0, \"ticks\": \"\"}, \"type\": \"mesh3d\"}], \"parcoords\": [{\"line\": {\"colorbar\": {\"outlinewidth\": 0, \"ticks\": \"\"}}, \"type\": \"parcoords\"}], \"pie\": [{\"automargin\": true, \"type\": \"pie\"}], \"scatter\": [{\"marker\": {\"colorbar\": {\"outlinewidth\": 0, \"ticks\": \"\"}}, \"type\": \"scatter\"}], \"scatter3d\": [{\"line\": {\"colorbar\": {\"outlinewidth\": 0, \"ticks\": \"\"}}, \"marker\": {\"colorbar\": {\"outlinewidth\": 0, \"ticks\": \"\"}}, \"type\": \"scatter3d\"}], \"scattercarpet\": [{\"marker\": {\"colorbar\": {\"outlinewidth\": 0, \"ticks\": \"\"}}, \"type\": \"scattercarpet\"}], \"scattergeo\": [{\"marker\": {\"colorbar\": {\"outlinewidth\": 0, \"ticks\": \"\"}}, \"type\": \"scattergeo\"}], \"scattergl\": [{\"marker\": {\"colorbar\": {\"outlinewidth\": 0, \"ticks\": \"\"}}, \"type\": \"scattergl\"}], \"scattermapbox\": [{\"marker\": {\"colorbar\": {\"outlinewidth\": 0, \"ticks\": \"\"}}, \"type\": \"scattermapbox\"}], \"scatterpolar\": [{\"marker\": {\"colorbar\": {\"outlinewidth\": 0, \"ticks\": \"\"}}, \"type\": \"scatterpolar\"}], \"scatterpolargl\": [{\"marker\": {\"colorbar\": {\"outlinewidth\": 0, \"ticks\": \"\"}}, \"type\": \"scatterpolargl\"}], \"scatterternary\": [{\"marker\": {\"colorbar\": {\"outlinewidth\": 0, \"ticks\": \"\"}}, \"type\": \"scatterternary\"}], \"surface\": [{\"colorbar\": {\"outlinewidth\": 0, \"ticks\": \"\"}, \"colorscale\": [[0.0, \"#0d0887\"], [0.1111111111111111, \"#46039f\"], [0.2222222222222222, \"#7201a8\"], [0.3333333333333333, \"#9c179e\"], [0.4444444444444444, \"#bd3786\"], [0.5555555555555556, \"#d8576b\"], [0.6666666666666666, \"#ed7953\"], [0.7777777777777778, \"#fb9f3a\"], [0.8888888888888888, \"#fdca26\"], [1.0, \"#f0f921\"]], \"type\": \"surface\"}], \"table\": [{\"cells\": {\"fill\": {\"color\": \"#EBF0F8\"}, \"line\": {\"color\": \"white\"}}, \"header\": {\"fill\": {\"color\": \"#C8D4E3\"}, \"line\": {\"color\": \"white\"}}, \"type\": \"table\"}]}, \"layout\": {\"annotationdefaults\": {\"arrowcolor\": \"#2a3f5f\", \"arrowhead\": 0, \"arrowwidth\": 1}, \"coloraxis\": {\"colorbar\": {\"outlinewidth\": 0, \"ticks\": \"\"}}, \"colorscale\": {\"diverging\": [[0, \"#8e0152\"], [0.1, \"#c51b7d\"], [0.2, \"#de77ae\"], [0.3, \"#f1b6da\"], [0.4, \"#fde0ef\"], [0.5, \"#f7f7f7\"], [0.6, \"#e6f5d0\"], [0.7, \"#b8e186\"], [0.8, \"#7fbc41\"], [0.9, \"#4d9221\"], [1, \"#276419\"]], \"sequential\": [[0.0, \"#0d0887\"], [0.1111111111111111, \"#46039f\"], [0.2222222222222222, \"#7201a8\"], [0.3333333333333333, \"#9c179e\"], [0.4444444444444444, \"#bd3786\"], [0.5555555555555556, \"#d8576b\"], [0.6666666666666666, \"#ed7953\"], [0.7777777777777778, \"#fb9f3a\"], [0.8888888888888888, \"#fdca26\"], [1.0, \"#f0f921\"]], \"sequentialminus\": [[0.0, \"#0d0887\"], [0.1111111111111111, \"#46039f\"], [0.2222222222222222, \"#7201a8\"], [0.3333333333333333, \"#9c179e\"], [0.4444444444444444, \"#bd3786\"], [0.5555555555555556, \"#d8576b\"], [0.6666666666666666, \"#ed7953\"], [0.7777777777777778, \"#fb9f3a\"], [0.8888888888888888, \"#fdca26\"], [1.0, \"#f0f921\"]]}, \"colorway\": [\"#636efa\", \"#EF553B\", \"#00cc96\", \"#ab63fa\", \"#FFA15A\", \"#19d3f3\", \"#FF6692\", \"#B6E880\", \"#FF97FF\", \"#FECB52\"], \"font\": {\"color\": \"#2a3f5f\"}, \"geo\": {\"bgcolor\": \"white\", \"lakecolor\": \"white\", \"landcolor\": \"#E5ECF6\", \"showlakes\": true, \"showland\": true, \"subunitcolor\": \"white\"}, \"hoverlabel\": {\"align\": \"left\"}, \"hovermode\": \"closest\", \"mapbox\": {\"style\": \"light\"}, \"paper_bgcolor\": \"white\", \"plot_bgcolor\": \"#E5ECF6\", \"polar\": {\"angularaxis\": {\"gridcolor\": \"white\", \"linecolor\": \"white\", \"ticks\": \"\"}, \"bgcolor\": \"#E5ECF6\", \"radialaxis\": {\"gridcolor\": \"white\", \"linecolor\": \"white\", \"ticks\": \"\"}}, \"scene\": {\"xaxis\": {\"backgroundcolor\": \"#E5ECF6\", \"gridcolor\": \"white\", \"gridwidth\": 2, \"linecolor\": \"white\", \"showbackground\": true, \"ticks\": \"\", \"zerolinecolor\": \"white\"}, \"yaxis\": {\"backgroundcolor\": \"#E5ECF6\", \"gridcolor\": \"white\", \"gridwidth\": 2, \"linecolor\": \"white\", \"showbackground\": true, \"ticks\": \"\", \"zerolinecolor\": \"white\"}, \"zaxis\": {\"backgroundcolor\": \"#E5ECF6\", \"gridcolor\": \"white\", \"gridwidth\": 2, \"linecolor\": \"white\", \"showbackground\": true, \"ticks\": \"\", \"zerolinecolor\": \"white\"}}, \"shapedefaults\": {\"line\": {\"color\": \"#2a3f5f\"}}, \"ternary\": {\"aaxis\": {\"gridcolor\": \"white\", \"linecolor\": \"white\", \"ticks\": \"\"}, \"baxis\": {\"gridcolor\": \"white\", \"linecolor\": \"white\", \"ticks\": \"\"}, \"bgcolor\": \"#E5ECF6\", \"caxis\": {\"gridcolor\": \"white\", \"linecolor\": \"white\", \"ticks\": \"\"}}, \"title\": {\"x\": 0.05}, \"xaxis\": {\"automargin\": true, \"gridcolor\": \"white\", \"linecolor\": \"white\", \"ticks\": \"\", \"title\": {\"standoff\": 15}, \"zerolinecolor\": \"white\", \"zerolinewidth\": 2}, \"yaxis\": {\"automargin\": true, \"gridcolor\": \"white\", \"linecolor\": \"white\", \"ticks\": \"\", \"title\": {\"standoff\": 15}, \"zerolinecolor\": \"white\", \"zerolinewidth\": 2}}}, \"title\": {\"text\": \"Movie Budget and Revenue (in millions)\"}},\n",
              "                        {\"responsive\": true}\n",
              "                    ).then(function(){\n",
              "                            \n",
              "var gd = document.getElementById('b65ebf8c-6ccb-4a90-ae11-96e50c4acdcc');\n",
              "var x = new MutationObserver(function (mutations, observer) {{\n",
              "        var display = window.getComputedStyle(gd).display;\n",
              "        if (!display || display === 'none') {{\n",
              "            console.log([gd, 'removed!']);\n",
              "            Plotly.purge(gd);\n",
              "            observer.disconnect();\n",
              "        }}\n",
              "}});\n",
              "\n",
              "// Listen for the removal of the full notebook cells\n",
              "var notebookContainer = gd.closest('#notebook-container');\n",
              "if (notebookContainer) {{\n",
              "    x.observe(notebookContainer, {childList: true});\n",
              "}}\n",
              "\n",
              "// Listen for the clearing of the current output cell\n",
              "var outputEl = gd.closest('.output');\n",
              "if (outputEl) {{\n",
              "    x.observe(outputEl, {childList: true});\n",
              "}}\n",
              "\n",
              "                        })\n",
              "                };\n",
              "                \n",
              "            </script>\n",
              "        </div>\n",
              "</body>\n",
              "</html>"
            ]
          },
          "metadata": {
            "tags": []
          }
        }
      ]
    },
    {
      "cell_type": "markdown",
      "metadata": {
        "id": "lTIm3yk6jVFD"
      },
      "source": [
        "By using a line, we can see how much money is earned for any point on this line. All we need to do is look at a given $x$ value, and find the corresponding $y$ value at that point on the line.\n",
        "\n",
        "*   Spend 20 million, and expect to bring in about 40 million.\n",
        "*   Spend 30 million, and expect to bring in 60 million.\n",
        "\n",
        "This approach of modeling a linear relationship (that is drawing a straight line) between an input and an output is called **linear regression**. We call the input ($x$) our *explanatory variable*, and the output ($y$) the *dependent variable*. So here, we are saying budget explains our dependent variable, revenue.\n",
        "\n",
        "\n"
      ]
    },
    {
      "cell_type": "markdown",
      "metadata": {
        "id": "sH3tp81Hk3bH"
      },
      "source": [
        "## Representing linear regression with functions\n",
        "Instead of only representing this line visually, we also would like to represent this line with a **function**. That way, instead of having to *see* how an $x$ value points to a $y$ value along our line, we simply could *feed* this input into our function to calculate the proper output.\n",
        "\n"
      ]
    },
    {
      "cell_type": "markdown",
      "metadata": {
        "id": "LuEZMnU2lPFP"
      },
      "source": [
        "### First guess\n",
        "Let's take an initial (wrong) guess at turning this line into a function.\n",
        "First, we represent the line as a mathematical formula:\n",
        "\n",
        "$y = x$\n",
        "\n",
        "Then, we turn this formula into a function:"
      ]
    },
    {
      "cell_type": "code",
      "metadata": {
        "colab": {
          "base_uri": "https://localhost:8080/"
        },
        "id": "-AJfvCZ5hk1q",
        "outputId": "9e09eb84-990c-4d78-d075-7f41333d4d04"
      },
      "source": [
        "def f(x):\n",
        "    \"\"\"\n",
        "    A function f(x) = x to compute movie revenue (y) based on movie budget (x).\n",
        "    \"\"\"\n",
        "    return x\n",
        "\n",
        "print(f\"When movie budget is $0, the expected movie revenue is ${f(0)} (in millions).\")\n",
        "print(f\"When movie budget is $25, the expected movie revenue is ${f(25)} (in millions).\")"
      ],
      "execution_count": 3,
      "outputs": [
        {
          "output_type": "stream",
          "text": [
            "When movie budget is $0, the expected movie revenue is $0 (in millions).\n",
            "When movie budget is $25, the expected movie revenue is $25 (in millions).\n"
          ],
          "name": "stdout"
        }
      ]
    },
    {
      "cell_type": "markdown",
      "metadata": {
        "id": "n7UAjFY7m03A"
      },
      "source": [
        "This is pretty nice! We just wrote a function $f(x)$ that automatically calculates the expected revenue ($y$) given a certain movie budget ($x$). This function says that for every value of $x$ that we input to the function, we get back an equal value $y$. So according to the function, if the movie has a budget of 25 million, it will earn 25 million."
      ]
    },
    {
      "cell_type": "markdown",
      "metadata": {
        "id": "4HJIGTuOnM8F"
      },
      "source": [
        "### A better guess: Matching lines to functions\n",
        "Take a look at the line that we drew. Does our line say something different? Yes, it does! It says that spending 25 million brings predicted revenue of 50 million. Therefore, we need to change our function so that it matches our line. In fact, we need a consistent way to turn lines into functions, and vice versa. Let's get to it!\n",
        "\n",
        "**We start** by turning our line into a table below. It shows how our line relates x-values and y-values, or our budgets and revenues in this example.\n",
        "\n",
        "| X (budget) | Y (revenue) |\n",
        "|------------|:-----------:|\n",
        "| 0          |      0      |\n",
        "| 25 million |  50 million |\n",
        "| 50 million | 100 million |\n",
        "| 75 million | 150 million |\n",
        "\n",
        "\n",
        "**Next**, we need an equation that allows us to match this data:\n",
        "\n",
        "* input 0 and get back 0\n",
        "* input 25 million and get back 50 million\n",
        "* and input 50 million and get back 100 million.\n",
        "\n",
        "What equation is that? Well it's $y = 2x$. Take a look to see for yourself.\n",
        "\n",
        "* $0 * 2 = 0$\n",
        "* $25 * 2 = 50$\n",
        "* $50 * 2 = 100$\n",
        "\n",
        "Now, try to see if we can code this function:"
      ]
    },
    {
      "cell_type": "code",
      "metadata": {
        "id": "DguFtG5hndgJ",
        "colab": {
          "base_uri": "https://localhost:8080/"
        },
        "outputId": "dc905e70-0c32-43cd-96db-2e5c64d32ccf"
      },
      "source": [
        "def f(x):\n",
        "    \"\"\"\n",
        "    A function f(x) = 2x to compute movie revenue (y) based on movie budget (x).\n",
        "    \"\"\"\n",
        "    # add your code here\n",
        "    # return x\n",
        "    pass\n",
        "\n",
        "print(f\"When movie budget is $0, the expected movie revenue is ${f(0)} (in millions).\") # Output should be $0\n",
        "print(f\"When movie budget is $25, the expected movie revenue is ${f(25)} (in millions).\") # Output should be $50"
      ],
      "execution_count": 4,
      "outputs": [
        {
          "output_type": "stream",
          "text": [
            "When movie budget is $0, the expected movie revenue is $None (in millions).\n",
            "When movie budget is $25, the expected movie revenue is $None (in millions).\n"
          ],
          "name": "stdout"
        }
      ]
    },
    {
      "cell_type": "markdown",
      "metadata": {
        "id": "P19GtYwNqEB1"
      },
      "source": [
        "Progress! We multiplied each $x$ value by 2 so that the output of our function $f(x)$ corresponds to the $y$ value appearing along our graphed line.\n",
        "\n"
      ]
    },
    {
      "cell_type": "markdown",
      "metadata": {
        "id": "FJfVs-zIqqAn"
      },
      "source": [
        "### The Slope Variable\n",
        "By multiplying $x$ by 2, we just altered the **slope** variable. The slope variable changes the inclination of the line in our graph. Slope generally is represented by $m$ like so:\n",
        "\n",
        "$y = mx$\n",
        "\n",
        "We say that a higher value of $m$ means out line is steeper. In our example, this means we expect more money in revenue per dollar spent on movie budget. \n",
        "\n",
        "Let's make sure we understand what all of our variables stand for. Here they are:\n",
        "\n",
        "* $y$: the output value returned by the function, also called the **response variable**, as it responds to values of $x$\n",
        "* $x$: the input variable, also called the **explanatory variable**, as it explains the value of $y$\n",
        "* $m$: the **slope variable**, determines how vertical or horizontal the line will appear\n",
        "\n",
        "Let's adapt these terms to our movie example. The $y$ value is the revenue earned from the movie, which we say is in response to our budget. The explanatory variable of our budget, $x$, represents our budget, and the $m$ corresponds to our value of 2, which describes how much money is earned for each dollar spent. Therefore, with an $m$ of 2, our line says to expect to earn 2 dollars for each dollar spent making the movie. Likewise, an $m$ of 3 suggests we earn 3 dollars for every dollar we spent.\n",
        "\n"
      ]
    },
    {
      "cell_type": "markdown",
      "metadata": {
        "id": "cor1pJF7vKnh"
      },
      "source": [
        "### The y-intercept\n",
        "There is one more thing that we need to learn in order to describe every straight line in a two-dimensional (2-D) world. That is the **y-intercept**.\n",
        "\n",
        "The y-intercept is the $y$ value of the line where it intersects the y-axis.\n",
        "Or, put another way, the y-intercept is the value of $y$ when $x$ equals zero.\n",
        "\n",
        "Let's redraw our initial line for the movie table but with a higher y-intercept:"
      ]
    },
    {
      "cell_type": "code",
      "metadata": {
        "colab": {
          "base_uri": "https://localhost:8080/",
          "height": 542
        },
        "id": "1Fmr4CHJmvEL",
        "outputId": "b2793d07-5aa7-48f2-bfe8-7441e0a69228"
      },
      "source": [
        "movie_budgets = [0, 25, 50, 75] # our x values\n",
        "movie_revenues = [50, 100, 150, 200] # our y values\n",
        "regression_trace_increased = trace_values(movie_budgets, movie_revenues, mode='lines', name='increased estimated revenue')\n",
        "movie_layout = layout(options={'title': 'Movie Budget and Revenue (in millions)'})\n",
        "plot([regression_trace_increased, regression_trace], movie_layout)"
      ],
      "execution_count": 5,
      "outputs": [
        {
          "output_type": "display_data",
          "data": {
            "text/html": [
              "<html>\n",
              "<head><meta charset=\"utf-8\" /></head>\n",
              "<body>\n",
              "    <div>\n",
              "            <script src=\"https://cdnjs.cloudflare.com/ajax/libs/mathjax/2.7.5/MathJax.js?config=TeX-AMS-MML_SVG\"></script><script type=\"text/javascript\">if (window.MathJax) {MathJax.Hub.Config({SVG: {font: \"STIX-Web\"}});}</script>\n",
              "                <script type=\"text/javascript\">window.PlotlyConfig = {MathJaxConfig: 'local'};</script>\n",
              "        <script src=\"https://cdn.plot.ly/plotly-latest.min.js\"></script>    \n",
              "            <div id=\"20b85281-032a-4306-9791-8224df5cc03e\" class=\"plotly-graph-div\" style=\"height:525px; width:100%;\"></div>\n",
              "            <script type=\"text/javascript\">\n",
              "                \n",
              "                    window.PLOTLYENV=window.PLOTLYENV || {};\n",
              "                    \n",
              "                if (document.getElementById(\"20b85281-032a-4306-9791-8224df5cc03e\")) {\n",
              "                    Plotly.newPlot(\n",
              "                        '20b85281-032a-4306-9791-8224df5cc03e',\n",
              "                        [{\"mode\": \"lines\", \"name\": \"increased estimated revenue\", \"text\": [], \"type\": \"scatter\", \"x\": [0, 25, 50, 75], \"y\": [50, 100, 150, 200]}, {\"mode\": \"lines\", \"name\": \"estimated revenue\", \"text\": [], \"type\": \"scatter\", \"x\": [0, 25, 50, 75], \"y\": [0, 50, 100, 150]}],\n",
              "                        {\"template\": {\"data\": {\"bar\": [{\"error_x\": {\"color\": \"#2a3f5f\"}, \"error_y\": {\"color\": \"#2a3f5f\"}, \"marker\": {\"line\": {\"color\": \"#E5ECF6\", \"width\": 0.5}}, \"type\": \"bar\"}], \"barpolar\": [{\"marker\": {\"line\": {\"color\": \"#E5ECF6\", \"width\": 0.5}}, \"type\": \"barpolar\"}], \"carpet\": [{\"aaxis\": {\"endlinecolor\": \"#2a3f5f\", \"gridcolor\": \"white\", \"linecolor\": \"white\", \"minorgridcolor\": \"white\", \"startlinecolor\": \"#2a3f5f\"}, \"baxis\": {\"endlinecolor\": \"#2a3f5f\", \"gridcolor\": \"white\", \"linecolor\": \"white\", \"minorgridcolor\": \"white\", \"startlinecolor\": \"#2a3f5f\"}, \"type\": \"carpet\"}], \"choropleth\": [{\"colorbar\": {\"outlinewidth\": 0, \"ticks\": \"\"}, \"type\": \"choropleth\"}], \"contour\": [{\"colorbar\": {\"outlinewidth\": 0, \"ticks\": \"\"}, \"colorscale\": [[0.0, \"#0d0887\"], [0.1111111111111111, \"#46039f\"], [0.2222222222222222, \"#7201a8\"], [0.3333333333333333, \"#9c179e\"], [0.4444444444444444, \"#bd3786\"], [0.5555555555555556, \"#d8576b\"], [0.6666666666666666, \"#ed7953\"], [0.7777777777777778, \"#fb9f3a\"], [0.8888888888888888, \"#fdca26\"], [1.0, \"#f0f921\"]], \"type\": \"contour\"}], \"contourcarpet\": [{\"colorbar\": {\"outlinewidth\": 0, \"ticks\": \"\"}, \"type\": \"contourcarpet\"}], \"heatmap\": [{\"colorbar\": {\"outlinewidth\": 0, \"ticks\": \"\"}, \"colorscale\": [[0.0, \"#0d0887\"], [0.1111111111111111, \"#46039f\"], [0.2222222222222222, \"#7201a8\"], [0.3333333333333333, \"#9c179e\"], [0.4444444444444444, \"#bd3786\"], [0.5555555555555556, \"#d8576b\"], [0.6666666666666666, \"#ed7953\"], [0.7777777777777778, \"#fb9f3a\"], [0.8888888888888888, \"#fdca26\"], [1.0, \"#f0f921\"]], \"type\": \"heatmap\"}], \"heatmapgl\": [{\"colorbar\": {\"outlinewidth\": 0, \"ticks\": \"\"}, \"colorscale\": [[0.0, \"#0d0887\"], [0.1111111111111111, \"#46039f\"], [0.2222222222222222, \"#7201a8\"], [0.3333333333333333, \"#9c179e\"], [0.4444444444444444, \"#bd3786\"], [0.5555555555555556, \"#d8576b\"], [0.6666666666666666, \"#ed7953\"], [0.7777777777777778, \"#fb9f3a\"], [0.8888888888888888, \"#fdca26\"], [1.0, \"#f0f921\"]], \"type\": \"heatmapgl\"}], \"histogram\": [{\"marker\": {\"colorbar\": {\"outlinewidth\": 0, \"ticks\": \"\"}}, \"type\": \"histogram\"}], \"histogram2d\": [{\"colorbar\": {\"outlinewidth\": 0, \"ticks\": \"\"}, \"colorscale\": [[0.0, \"#0d0887\"], [0.1111111111111111, \"#46039f\"], [0.2222222222222222, \"#7201a8\"], [0.3333333333333333, \"#9c179e\"], [0.4444444444444444, \"#bd3786\"], [0.5555555555555556, \"#d8576b\"], [0.6666666666666666, \"#ed7953\"], [0.7777777777777778, \"#fb9f3a\"], [0.8888888888888888, \"#fdca26\"], [1.0, \"#f0f921\"]], \"type\": \"histogram2d\"}], \"histogram2dcontour\": [{\"colorbar\": {\"outlinewidth\": 0, \"ticks\": \"\"}, \"colorscale\": [[0.0, \"#0d0887\"], [0.1111111111111111, \"#46039f\"], [0.2222222222222222, \"#7201a8\"], [0.3333333333333333, \"#9c179e\"], [0.4444444444444444, \"#bd3786\"], [0.5555555555555556, \"#d8576b\"], [0.6666666666666666, \"#ed7953\"], [0.7777777777777778, \"#fb9f3a\"], [0.8888888888888888, \"#fdca26\"], [1.0, \"#f0f921\"]], \"type\": \"histogram2dcontour\"}], \"mesh3d\": [{\"colorbar\": {\"outlinewidth\": 0, \"ticks\": \"\"}, \"type\": \"mesh3d\"}], \"parcoords\": [{\"line\": {\"colorbar\": {\"outlinewidth\": 0, \"ticks\": \"\"}}, \"type\": \"parcoords\"}], \"pie\": [{\"automargin\": true, \"type\": \"pie\"}], \"scatter\": [{\"marker\": {\"colorbar\": {\"outlinewidth\": 0, \"ticks\": \"\"}}, \"type\": \"scatter\"}], \"scatter3d\": [{\"line\": {\"colorbar\": {\"outlinewidth\": 0, \"ticks\": \"\"}}, \"marker\": {\"colorbar\": {\"outlinewidth\": 0, \"ticks\": \"\"}}, \"type\": \"scatter3d\"}], \"scattercarpet\": [{\"marker\": {\"colorbar\": {\"outlinewidth\": 0, \"ticks\": \"\"}}, \"type\": \"scattercarpet\"}], \"scattergeo\": [{\"marker\": {\"colorbar\": {\"outlinewidth\": 0, \"ticks\": \"\"}}, \"type\": \"scattergeo\"}], \"scattergl\": [{\"marker\": {\"colorbar\": {\"outlinewidth\": 0, \"ticks\": \"\"}}, \"type\": \"scattergl\"}], \"scattermapbox\": [{\"marker\": {\"colorbar\": {\"outlinewidth\": 0, \"ticks\": \"\"}}, \"type\": \"scattermapbox\"}], \"scatterpolar\": [{\"marker\": {\"colorbar\": {\"outlinewidth\": 0, \"ticks\": \"\"}}, \"type\": \"scatterpolar\"}], \"scatterpolargl\": [{\"marker\": {\"colorbar\": {\"outlinewidth\": 0, \"ticks\": \"\"}}, \"type\": \"scatterpolargl\"}], \"scatterternary\": [{\"marker\": {\"colorbar\": {\"outlinewidth\": 0, \"ticks\": \"\"}}, \"type\": \"scatterternary\"}], \"surface\": [{\"colorbar\": {\"outlinewidth\": 0, \"ticks\": \"\"}, \"colorscale\": [[0.0, \"#0d0887\"], [0.1111111111111111, \"#46039f\"], [0.2222222222222222, \"#7201a8\"], [0.3333333333333333, \"#9c179e\"], [0.4444444444444444, \"#bd3786\"], [0.5555555555555556, \"#d8576b\"], [0.6666666666666666, \"#ed7953\"], [0.7777777777777778, \"#fb9f3a\"], [0.8888888888888888, \"#fdca26\"], [1.0, \"#f0f921\"]], \"type\": \"surface\"}], \"table\": [{\"cells\": {\"fill\": {\"color\": \"#EBF0F8\"}, \"line\": {\"color\": \"white\"}}, \"header\": {\"fill\": {\"color\": \"#C8D4E3\"}, \"line\": {\"color\": \"white\"}}, \"type\": \"table\"}]}, \"layout\": {\"annotationdefaults\": {\"arrowcolor\": \"#2a3f5f\", \"arrowhead\": 0, \"arrowwidth\": 1}, \"coloraxis\": {\"colorbar\": {\"outlinewidth\": 0, \"ticks\": \"\"}}, \"colorscale\": {\"diverging\": [[0, \"#8e0152\"], [0.1, \"#c51b7d\"], [0.2, \"#de77ae\"], [0.3, \"#f1b6da\"], [0.4, \"#fde0ef\"], [0.5, \"#f7f7f7\"], [0.6, \"#e6f5d0\"], [0.7, \"#b8e186\"], [0.8, \"#7fbc41\"], [0.9, \"#4d9221\"], [1, \"#276419\"]], \"sequential\": [[0.0, \"#0d0887\"], [0.1111111111111111, \"#46039f\"], [0.2222222222222222, \"#7201a8\"], [0.3333333333333333, \"#9c179e\"], [0.4444444444444444, \"#bd3786\"], [0.5555555555555556, \"#d8576b\"], [0.6666666666666666, \"#ed7953\"], [0.7777777777777778, \"#fb9f3a\"], [0.8888888888888888, \"#fdca26\"], [1.0, \"#f0f921\"]], \"sequentialminus\": [[0.0, \"#0d0887\"], [0.1111111111111111, \"#46039f\"], [0.2222222222222222, \"#7201a8\"], [0.3333333333333333, \"#9c179e\"], [0.4444444444444444, \"#bd3786\"], [0.5555555555555556, \"#d8576b\"], [0.6666666666666666, \"#ed7953\"], [0.7777777777777778, \"#fb9f3a\"], [0.8888888888888888, \"#fdca26\"], [1.0, \"#f0f921\"]]}, \"colorway\": [\"#636efa\", \"#EF553B\", \"#00cc96\", \"#ab63fa\", \"#FFA15A\", \"#19d3f3\", \"#FF6692\", \"#B6E880\", \"#FF97FF\", \"#FECB52\"], \"font\": {\"color\": \"#2a3f5f\"}, \"geo\": {\"bgcolor\": \"white\", \"lakecolor\": \"white\", \"landcolor\": \"#E5ECF6\", \"showlakes\": true, \"showland\": true, \"subunitcolor\": \"white\"}, \"hoverlabel\": {\"align\": \"left\"}, \"hovermode\": \"closest\", \"mapbox\": {\"style\": \"light\"}, \"paper_bgcolor\": \"white\", \"plot_bgcolor\": \"#E5ECF6\", \"polar\": {\"angularaxis\": {\"gridcolor\": \"white\", \"linecolor\": \"white\", \"ticks\": \"\"}, \"bgcolor\": \"#E5ECF6\", \"radialaxis\": {\"gridcolor\": \"white\", \"linecolor\": \"white\", \"ticks\": \"\"}}, \"scene\": {\"xaxis\": {\"backgroundcolor\": \"#E5ECF6\", \"gridcolor\": \"white\", \"gridwidth\": 2, \"linecolor\": \"white\", \"showbackground\": true, \"ticks\": \"\", \"zerolinecolor\": \"white\"}, \"yaxis\": {\"backgroundcolor\": \"#E5ECF6\", \"gridcolor\": \"white\", \"gridwidth\": 2, \"linecolor\": \"white\", \"showbackground\": true, \"ticks\": \"\", \"zerolinecolor\": \"white\"}, \"zaxis\": {\"backgroundcolor\": \"#E5ECF6\", \"gridcolor\": \"white\", \"gridwidth\": 2, \"linecolor\": \"white\", \"showbackground\": true, \"ticks\": \"\", \"zerolinecolor\": \"white\"}}, \"shapedefaults\": {\"line\": {\"color\": \"#2a3f5f\"}}, \"ternary\": {\"aaxis\": {\"gridcolor\": \"white\", \"linecolor\": \"white\", \"ticks\": \"\"}, \"baxis\": {\"gridcolor\": \"white\", \"linecolor\": \"white\", \"ticks\": \"\"}, \"bgcolor\": \"#E5ECF6\", \"caxis\": {\"gridcolor\": \"white\", \"linecolor\": \"white\", \"ticks\": \"\"}}, \"title\": {\"x\": 0.05}, \"xaxis\": {\"automargin\": true, \"gridcolor\": \"white\", \"linecolor\": \"white\", \"ticks\": \"\", \"title\": {\"standoff\": 15}, \"zerolinecolor\": \"white\", \"zerolinewidth\": 2}, \"yaxis\": {\"automargin\": true, \"gridcolor\": \"white\", \"linecolor\": \"white\", \"ticks\": \"\", \"title\": {\"standoff\": 15}, \"zerolinecolor\": \"white\", \"zerolinewidth\": 2}}}, \"title\": {\"text\": \"Movie Budget and Revenue (in millions)\"}},\n",
              "                        {\"responsive\": true}\n",
              "                    ).then(function(){\n",
              "                            \n",
              "var gd = document.getElementById('20b85281-032a-4306-9791-8224df5cc03e');\n",
              "var x = new MutationObserver(function (mutations, observer) {{\n",
              "        var display = window.getComputedStyle(gd).display;\n",
              "        if (!display || display === 'none') {{\n",
              "            console.log([gd, 'removed!']);\n",
              "            Plotly.purge(gd);\n",
              "            observer.disconnect();\n",
              "        }}\n",
              "}});\n",
              "\n",
              "// Listen for the removal of the full notebook cells\n",
              "var notebookContainer = gd.closest('#notebook-container');\n",
              "if (notebookContainer) {{\n",
              "    x.observe(notebookContainer, {childList: true});\n",
              "}}\n",
              "\n",
              "// Listen for the clearing of the current output cell\n",
              "var outputEl = gd.closest('.output');\n",
              "if (outputEl) {{\n",
              "    x.observe(outputEl, {childList: true});\n",
              "}}\n",
              "\n",
              "                        })\n",
              "                };\n",
              "                \n",
              "            </script>\n",
              "        </div>\n",
              "</body>\n",
              "</html>"
            ]
          },
          "metadata": {
            "tags": []
          }
        }
      ]
    },
    {
      "cell_type": "markdown",
      "metadata": {
        "id": "V4dOeCl1ya0Z"
      },
      "source": [
        "What is the y-intercept of the original estimated revenue line? Well, it's the value of $y$ when that line crosses the y-axis. That value is 0. Our second line is parallel to the first but is shifted higher so that the y-intercept increases up to 50 million. Here, for every value of $x$, the corresponding value of $y$ is higher by 50 million!\n",
        "\n",
        "\n",
        "Now, our formula is not $y = 2x$, instead it is:\n",
        "\n",
        "\n",
        "\n",
        "$$ y = 2x + 50 $$\n",
        "\n",
        "\n",
        "It is common to represent the y-intercept of a line by $b$. Now we have all of the information needed to describe any straight line using the formula below:\n",
        "\n",
        "$$y = mx + b $$\n",
        "\n",
        "Once more, in this formula:\n",
        "\n",
        "* $m$ is our *slope* of the line, and\n",
        "* $b$ is our *y-intercept*, the value of $y$ when $x$ equals zero.\n",
        "\n",
        "So thinking about it visually, increasing $m$ makes the line steeper, and increasing $b$ pushes the line higher.\n",
        "\n",
        "In the context of our movies example, we said that the the line with values of $m$ = 2 and $b$ = 50 million describes our line, giving us:\n",
        "\n",
        "$y = 2x + 50 $, (in millions).\n",
        "\n",
        "Let's see if you can translate this into a function $f(x)$. For any input of $x$ our function returns the value of $y$ along that line:"
      ]
    },
    {
      "cell_type": "code",
      "metadata": {
        "id": "mp4Rk_3sw9nG",
        "colab": {
          "base_uri": "https://localhost:8080/"
        },
        "outputId": "4dce2cf5-f1b8-4bfb-a69d-6bf5c9314e02"
      },
      "source": [
        "def f(x):\n",
        "    \"\"\"\n",
        "    A function f(x) = 2x + 50 million that returns expected movie revenue (y) \n",
        "    based on movie budget (x).\n",
        "    \"\"\"\n",
        "    # add your code here\n",
        "    \n",
        "\n",
        "print(f\"When movie budget is $0, the expected movie revenue is ${f(0)} (in millions).\") # Output should be $50\n",
        "print(f\"When movie budget is $25, the expected movie revenue is ${f(25)} (in millions).\") # Output should be $100"
      ],
      "execution_count": 6,
      "outputs": [
        {
          "output_type": "stream",
          "text": [
            "When movie budget is $0, the expected movie revenue is $None (in millions).\n",
            "When movie budget is $25, the expected movie revenue is $None (in millions).\n"
          ],
          "name": "stdout"
        }
      ]
    },
    {
      "cell_type": "markdown",
      "metadata": {
        "id": "TPLRmc1KTXLE"
      },
      "source": [
        "## How to model a regression line\n",
        "Let's step back for a moment and think about what we've learned so far.\n",
        "\n",
        "First, we saw how to estimate the relationship between an input variable $x$ and an output value $y$. We did so by first drawing a straight line on a graph to represent the relationship between a movie's budget and it's revenue, and manually determined the output for a given input by looking at the y-value of the line at that input point of $x$. \n",
        "\n",
        "We then learned how to represent a line as a mathematical formula, and ultimately a function $f(x)$. We first saw that lines can be described with the formula $y = mx + b $, where $m$ represents the slope of the line, and $b$ represents the value of $y$ when $x$ equals zero. The $b$ variable shifts the line up or down while the $m$ variable tilts the line forwards or backwards. We then translate this formula into a function $f(x)$ that returns an expected value of $y$ for an input value of $x$! \n",
        "\n",
        "So what's missing? Well, we know what the $m$ and $b$ values represent. However, until this point, we've manually computed them, and manually computing numbers in no fun! We prefer to calculate $m$ and $b$ algorithmically (automatically) instead. But how? One way is to use a machine learning algorithm called linear regression to find the \"line of best fit\". It is not the only way to find the best fit line, but its pretty good. "
      ]
    },
    {
      "cell_type": "markdown",
      "metadata": {
        "id": "z115Ub9aRNWy"
      },
      "source": [
        "### The model concept \n",
        "So, how can we mathematically model single linear regression? Well, we know the goal is to find the perfect line (\"line of best fit\"), so we start by defining a **function** (also called a **model**) that describes how predictions will be computed for a line:\n",
        "\n",
        "$$ f(x,m,b)=mx+b $$\n",
        "\n",
        "The line of best fit can then be used to predict (guess) y from x, so in our movies example revenue from budget. "
      ]
    },
    {
      "cell_type": "markdown",
      "metadata": {
        "id": "UQ0BZz4wPio2"
      },
      "source": [
        "The first step we take is to determine what the \"best line\" is exactly. To do so, we define a **loss function** (also called a cost function), which measures how bad a particular choice of m and b are. Values of m and b that seem poor (a line that does not fit the data set) should result in a large value of the loss function, whereas good values of m and b (a line that fits the data set well) should result in small values of the loss function. In other words, the loss function should measure how far the predicted line is from each of the data points, and add this value up for all data points. We can write this as:\n",
        "$$\n",
        "    L(m, b) = \\sum_{i=1}^m (f(x_i, m, b) - y_i)^2 = \\sum_{i=1}^m (mx_i + b-y_i)^2\n",
        "$$\n",
        "\n",
        "where $m$ is the number of examples in our dataset, $x_i$ is the i'th input example, and $y_i$ is the i'th desired output. So, $(f(x_i, m, b) - y_i)^2$ measures how far the i'th prediction is from the i'th desired output. For example, if the prediction $f(x_i)$ is 7, and the correct output $y$ is 10, then we would get $(7 - 10)^2 = 9$. Squaring it is important so that it is always positive. Finally, we just add up all of these individual losses. Since the smallest possible values for the squared terms indicate that the line fits the data as closely as possible, the line of best fit (determined by the choice of $m$ and $b$) occurs exactly at the smallest value of $L(m, b)$. For this reason, the model is also called [least squares regression](https://en.wikipedia.org/wiki/Least_squares)."
      ]
    },
    {
      "cell_type": "markdown",
      "metadata": {
        "id": "gy6j4NJiXpVJ"
      },
      "source": [
        "### Finding the optimal values\n",
        "With our loss function defined as $L(m,b)$, which is smallest exactly when each predicted value $f(x, m, b)$ is as close as possible to the actual data $y$, our goal then is to make the distance between the data points and predicted line as small as possible to produce the \"line of best fit\". We achieve this by finding the \"optimal\" values of $m$ and $b$ that minimize the loss function $L(m,b)$. But what does $L$ actually look like? Well, it's basically a 3D parabola, which looks similar to a rolling hills landscape: \n",
        "\n",
        "\n",
        "![Loss landscape](https://pyimagesearch.com/wp-content/uploads/2019/10/train_val_loss_landscape.png)\n",
        "\n",
        "\n"
      ]
    },
    {
      "cell_type": "markdown",
      "metadata": {
        "id": "_agdzAaTFtBO"
      },
      "source": [
        "The \"we want to get here\" dot marked on the plot of $L$ shows where the desired minimum is. We need an algorithm to find this minimum. The most common algorithm is called **gradient descent**, which uses techniques from calculus to to find the minimum. \n",
        "\n",
        "> For now, we don't worry about the mathematical explanation of how gradient descent works, but later in our machine learning journey we'll get to know it well.\n",
        "\n",
        "The general idea of gradient descent is intuitive: image placing a ball at an arbitrary location on the surface of $L$ (i.e., at our \"start here\" dot), naturally, it will roll downhill towards the flat and hopefully low valley of $L$, and thus find the minimum. \n",
        "\n",
        "> Bonus knowledge: we know the direction of \"downhill\" at any location since we know the derivatives of $L$ (derivatives are an idea from calculus so don't worry to much about them for now). The derivatives tell us the direction of greatest upward slope (this is known as the gradient), so the opposite (negative) derivatives are the most downhill direction. Therefore, if the ball is currently at location (m,b), we can see where it would go by moving it slightly to location (m′,b′). In case you're curious, here is how we express this mathematically:\n",
        "$$\n",
        " m' = m - \\alpha \\frac{\\partial L}{\\partial m} \\\\\\\\\n",
        " b' = b - \\alpha \\frac{\\partial L}{\\partial b} \n",
        "$$\n",
        "where $\\alpha$ is a constant called the **learning rate**, which we will talk about more later. If we repeat this process many times then the ball will continue to roll downhill and hopefully into the minimum.\n",
        "\n",
        "When we run the gradient descent algorithm for long enough, then it will find the optimal location for (m,b). Once we have the optimal values of $m$ and $b$, then that's it. We can then use them to predict our movie revenue based on budget, using our **function** (also called **model**):\n",
        "\n",
        "$$ f(x) = mx + b $$\n"
      ]
    },
    {
      "cell_type": "markdown",
      "metadata": {
        "id": "CwXwObcdLluq"
      },
      "source": [
        "## Coding linear regression\n",
        "Let's quickly review what we did when defining the theory of linear regression:\n",
        "\n",
        "1. Describe the dataset\n",
        "2. Define the function (model)\n",
        "3. Define the loss function\n",
        "4. Run the gradient descent optimization algorithm\n",
        "5. Use the optimal model to make predictions\n",
        "6. Profit!\n",
        "\n",
        "When coding this we will follow the exact same steps!"
      ]
    },
    {
      "cell_type": "markdown",
      "metadata": {
        "id": "HDqCToA3MGB1"
      },
      "source": [
        "### Describing the dataset\n",
        "Remeber that we were hired as a consultant for a movie executive to build a model of to predict the amount of revenue a movie would make given its budget. When we first took the job, our movie revenue and budget dataset was very small. But now it's much bigger. Let's take a look!\n"
      ]
    },
    {
      "cell_type": "code",
      "metadata": {
        "colab": {
          "base_uri": "https://localhost:8080/"
        },
        "id": "KlGM3E9QMEEC",
        "outputId": "4b22c5b8-3e22-4acd-d291-9a26ebf650e5"
      },
      "source": [
        "def generate_synthetic_movie_revenue_dataset(n=50, true_m=1.5, true_b=10, random_noise=1.0):\n",
        "    \"\"\"\n",
        "    Generates a synthetic movie revenue vs budget dataset and returns\n",
        "    a dictionary with three key-value pairs:\n",
        "        * `x`: a list of x values\n",
        "        * `y`: a list of y values\n",
        "        * `true_m`: the true slope of our data\n",
        "        * `true_b`: the true y-intercept of our data\n",
        "    \"\"\"\n",
        "    # Setting seed to get the same random results\n",
        "    np.random.seed(10)\n",
        "    # generate the list of numbers between 0 and n for x values (budget)\n",
        "    x = np.arange(n)\n",
        "\n",
        "    # generate the list of y values (revenue) corresponding to each x value (budget)\n",
        "    y = []\n",
        "    for xi in x:\n",
        "        noise = np.random.uniform(-random_noise, random_noise)\n",
        "        # the \"true\" function of our data\n",
        "        yi = true_m*xi + true_b + noise\n",
        "        y.append(yi)\n",
        "    y = np.array(y)\n",
        "\n",
        "    return {'x': x, 'y': y, 'true_m': true_m, 'true_b': true_b}\n",
        "\n",
        "pprint(generate_synthetic_movie_revenue_dataset(10, 1.5, 10, 0.5))"
      ],
      "execution_count": 7,
      "outputs": [
        {
          "output_type": "stream",
          "text": [
            "{'true_b': 10,\n",
            " 'true_m': 1.5,\n",
            " 'x': array([0, 1, 2, 3, 4, 5, 6, 7, 8, 9]),\n",
            " 'y': array([10.27132064, 11.02075195, 13.13364823, 14.74880388, 15.99850701,\n",
            "       17.22479665, 18.69806286, 20.76053071, 21.66911084, 23.08833981])}\n"
          ],
          "name": "stdout"
        }
      ]
    },
    {
      "cell_type": "markdown",
      "metadata": {
        "id": "Yu3llM1ETx1F"
      },
      "source": [
        "Now let's visualize it!"
      ]
    },
    {
      "cell_type": "code",
      "metadata": {
        "colab": {
          "base_uri": "https://localhost:8080/",
          "height": 542
        },
        "id": "716co3dlT0eg",
        "outputId": "f2960f25-11c9-4328-87f9-84178c690979"
      },
      "source": [
        "# generate a larger dataset with 1500 movie budget and revenue samples and plot it\n",
        "movies_ds = generate_synthetic_movie_revenue_dataset(100, 1.5, 10, 10) \n",
        "regression_trace = trace_values(movies_ds['x'], movies_ds['y'], mode='markers', name=\"synthetic movie revenue vs budget data\")\n",
        "movies_layout = layout(options={'title': \"A scatter plot of our synthetic movie revenue vs budget data (in millions)\"})\n",
        "plot([regression_trace], movies_layout)"
      ],
      "execution_count": 8,
      "outputs": [
        {
          "output_type": "display_data",
          "data": {
            "text/html": [
              "<html>\n",
              "<head><meta charset=\"utf-8\" /></head>\n",
              "<body>\n",
              "    <div>\n",
              "            <script src=\"https://cdnjs.cloudflare.com/ajax/libs/mathjax/2.7.5/MathJax.js?config=TeX-AMS-MML_SVG\"></script><script type=\"text/javascript\">if (window.MathJax) {MathJax.Hub.Config({SVG: {font: \"STIX-Web\"}});}</script>\n",
              "                <script type=\"text/javascript\">window.PlotlyConfig = {MathJaxConfig: 'local'};</script>\n",
              "        <script src=\"https://cdn.plot.ly/plotly-latest.min.js\"></script>    \n",
              "            <div id=\"3e9c718d-c949-41bb-8c7a-8ad44730ea5b\" class=\"plotly-graph-div\" style=\"height:525px; width:100%;\"></div>\n",
              "            <script type=\"text/javascript\">\n",
              "                \n",
              "                    window.PLOTLYENV=window.PLOTLYENV || {};\n",
              "                    \n",
              "                if (document.getElementById(\"3e9c718d-c949-41bb-8c7a-8ad44730ea5b\")) {\n",
              "                    Plotly.newPlot(\n",
              "                        '3e9c718d-c949-41bb-8c7a-8ad44730ea5b',\n",
              "                        [{\"mode\": \"markers\", \"name\": \"synthetic movie revenue vs budget data\", \"text\": [], \"type\": \"scatter\", \"x\": [0, 1, 2, 3, 4, 5, 6, 7, 8, 9, 10, 11, 12, 13, 14, 15, 16, 17, 18, 19, 20, 21, 22, 23, 24, 25, 26, 27, 28, 29, 30, 31, 32, 33, 34, 35, 36, 37, 38, 39, 40, 41, 42, 43, 44, 45, 46, 47, 48, 49, 50, 51, 52, 53, 54, 55, 56, 57, 58, 59, 60, 61, 62, 63, 64, 65, 66, 67, 68, 69, 70, 71, 72, 73, 74, 75, 76, 77, 78, 79, 80, 81, 82, 83, 84, 85, 86, 87, 88, 89, 90, 91, 92, 93, 94, 95, 96, 97, 98, 99], \"y\": [15.42641286533492, 1.91503898718803, 15.672964698525508, 19.476077650772236, 15.970140246051809, 11.995932910616954, 12.96125729519248, 25.710614243979172, 15.38221673125071, 15.266796283480206, 28.707196367355944, 35.567866923898734, 18.07896532655829, 29.743845267715532, 37.252419233042275, 34.75052133658777, 38.43510634863599, 31.337521363412662, 45.35548245025887, 42.79151566795381, 40.85088736022523, 34.343400952030535, 40.466815201029384, 47.98267230132691, 44.83666348845992, 46.18027986666587, 51.355339569386345, 50.762764851087816, 55.00794363862934, 55.52077906809089, 61.10446393665493, 56.93294304787268, 66.17297761617337, 55.884721779770906, 52.80918698541815, 58.51400113272407, 56.27968723727099, 72.07362652615353, 57.937926387785, 71.02574296622785, 70.95172311838488, 77.88573991340138, 66.97895079357625, 81.63700604915466, 73.03305278864175, 82.59295383059714, 74.91923413759358, 88.17872959122373, 78.51023275664498, 76.80031795438298, 82.85058487893174, 78.369207491173, 94.42211315673856, 82.52304039285127, 88.682288973844, 101.38521424477602, 103.75250949803744, 94.62609094189568, 103.52245687685479, 93.52748268414119, 101.94743296461769, 109.55663520663255, 103.6911589760363, 106.30402725970846, 96.78563534450774, 104.64363517269072, 100.59226180311929, 106.60919836685636, 108.61438623964264, 118.97660592421192, 105.79918417379955, 115.08984356863277, 114.29853743685376, 122.2298228613509, 117.92694300160066, 113.36194712409988, 131.59830349035832, 130.76481174287363, 134.56193285449717, 126.85018287678534, 132.11155128787513, 131.76933254816578, 134.95673295925948, 129.744313222639, 132.01742617881413, 128.0079956410021, 135.06125121302068, 135.34151750807055, 143.1515637732529, 144.81014039776335, 144.502644948301, 142.35595952579018, 139.2850212138965, 159.07638291515286, 147.79415687275727, 152.40097261764907, 163.54161451845363, 154.31547649801334, 153.36545610957901, 158.8959397175076]}],\n",
              "                        {\"template\": {\"data\": {\"bar\": [{\"error_x\": {\"color\": \"#2a3f5f\"}, \"error_y\": {\"color\": \"#2a3f5f\"}, \"marker\": {\"line\": {\"color\": \"#E5ECF6\", \"width\": 0.5}}, \"type\": \"bar\"}], \"barpolar\": [{\"marker\": {\"line\": {\"color\": \"#E5ECF6\", \"width\": 0.5}}, \"type\": \"barpolar\"}], \"carpet\": [{\"aaxis\": {\"endlinecolor\": \"#2a3f5f\", \"gridcolor\": \"white\", \"linecolor\": \"white\", \"minorgridcolor\": \"white\", \"startlinecolor\": \"#2a3f5f\"}, \"baxis\": {\"endlinecolor\": \"#2a3f5f\", \"gridcolor\": \"white\", \"linecolor\": \"white\", \"minorgridcolor\": \"white\", \"startlinecolor\": \"#2a3f5f\"}, \"type\": \"carpet\"}], \"choropleth\": [{\"colorbar\": {\"outlinewidth\": 0, \"ticks\": \"\"}, \"type\": \"choropleth\"}], \"contour\": [{\"colorbar\": {\"outlinewidth\": 0, \"ticks\": \"\"}, \"colorscale\": [[0.0, \"#0d0887\"], [0.1111111111111111, \"#46039f\"], [0.2222222222222222, \"#7201a8\"], [0.3333333333333333, \"#9c179e\"], [0.4444444444444444, \"#bd3786\"], [0.5555555555555556, \"#d8576b\"], [0.6666666666666666, \"#ed7953\"], [0.7777777777777778, \"#fb9f3a\"], [0.8888888888888888, \"#fdca26\"], [1.0, \"#f0f921\"]], \"type\": \"contour\"}], \"contourcarpet\": [{\"colorbar\": {\"outlinewidth\": 0, \"ticks\": \"\"}, \"type\": \"contourcarpet\"}], \"heatmap\": [{\"colorbar\": {\"outlinewidth\": 0, \"ticks\": \"\"}, \"colorscale\": [[0.0, \"#0d0887\"], [0.1111111111111111, \"#46039f\"], [0.2222222222222222, \"#7201a8\"], [0.3333333333333333, \"#9c179e\"], [0.4444444444444444, \"#bd3786\"], [0.5555555555555556, \"#d8576b\"], [0.6666666666666666, \"#ed7953\"], [0.7777777777777778, \"#fb9f3a\"], [0.8888888888888888, \"#fdca26\"], [1.0, \"#f0f921\"]], \"type\": \"heatmap\"}], \"heatmapgl\": [{\"colorbar\": {\"outlinewidth\": 0, \"ticks\": \"\"}, \"colorscale\": [[0.0, \"#0d0887\"], [0.1111111111111111, \"#46039f\"], [0.2222222222222222, \"#7201a8\"], [0.3333333333333333, \"#9c179e\"], [0.4444444444444444, \"#bd3786\"], [0.5555555555555556, \"#d8576b\"], [0.6666666666666666, \"#ed7953\"], [0.7777777777777778, \"#fb9f3a\"], [0.8888888888888888, \"#fdca26\"], [1.0, \"#f0f921\"]], \"type\": \"heatmapgl\"}], \"histogram\": [{\"marker\": {\"colorbar\": {\"outlinewidth\": 0, \"ticks\": \"\"}}, \"type\": \"histogram\"}], \"histogram2d\": [{\"colorbar\": {\"outlinewidth\": 0, \"ticks\": \"\"}, \"colorscale\": [[0.0, \"#0d0887\"], [0.1111111111111111, \"#46039f\"], [0.2222222222222222, \"#7201a8\"], [0.3333333333333333, \"#9c179e\"], [0.4444444444444444, \"#bd3786\"], [0.5555555555555556, \"#d8576b\"], [0.6666666666666666, \"#ed7953\"], [0.7777777777777778, \"#fb9f3a\"], [0.8888888888888888, \"#fdca26\"], [1.0, \"#f0f921\"]], \"type\": \"histogram2d\"}], \"histogram2dcontour\": [{\"colorbar\": {\"outlinewidth\": 0, \"ticks\": \"\"}, \"colorscale\": [[0.0, \"#0d0887\"], [0.1111111111111111, \"#46039f\"], [0.2222222222222222, \"#7201a8\"], [0.3333333333333333, \"#9c179e\"], [0.4444444444444444, \"#bd3786\"], [0.5555555555555556, \"#d8576b\"], [0.6666666666666666, \"#ed7953\"], [0.7777777777777778, \"#fb9f3a\"], [0.8888888888888888, \"#fdca26\"], [1.0, \"#f0f921\"]], \"type\": \"histogram2dcontour\"}], \"mesh3d\": [{\"colorbar\": {\"outlinewidth\": 0, \"ticks\": \"\"}, \"type\": \"mesh3d\"}], \"parcoords\": [{\"line\": {\"colorbar\": {\"outlinewidth\": 0, \"ticks\": \"\"}}, \"type\": \"parcoords\"}], \"pie\": [{\"automargin\": true, \"type\": \"pie\"}], \"scatter\": [{\"marker\": {\"colorbar\": {\"outlinewidth\": 0, \"ticks\": \"\"}}, \"type\": \"scatter\"}], \"scatter3d\": [{\"line\": {\"colorbar\": {\"outlinewidth\": 0, \"ticks\": \"\"}}, \"marker\": {\"colorbar\": {\"outlinewidth\": 0, \"ticks\": \"\"}}, \"type\": \"scatter3d\"}], \"scattercarpet\": [{\"marker\": {\"colorbar\": {\"outlinewidth\": 0, \"ticks\": \"\"}}, \"type\": \"scattercarpet\"}], \"scattergeo\": [{\"marker\": {\"colorbar\": {\"outlinewidth\": 0, \"ticks\": \"\"}}, \"type\": \"scattergeo\"}], \"scattergl\": [{\"marker\": {\"colorbar\": {\"outlinewidth\": 0, \"ticks\": \"\"}}, \"type\": \"scattergl\"}], \"scattermapbox\": [{\"marker\": {\"colorbar\": {\"outlinewidth\": 0, \"ticks\": \"\"}}, \"type\": \"scattermapbox\"}], \"scatterpolar\": [{\"marker\": {\"colorbar\": {\"outlinewidth\": 0, \"ticks\": \"\"}}, \"type\": \"scatterpolar\"}], \"scatterpolargl\": [{\"marker\": {\"colorbar\": {\"outlinewidth\": 0, \"ticks\": \"\"}}, \"type\": \"scatterpolargl\"}], \"scatterternary\": [{\"marker\": {\"colorbar\": {\"outlinewidth\": 0, \"ticks\": \"\"}}, \"type\": \"scatterternary\"}], \"surface\": [{\"colorbar\": {\"outlinewidth\": 0, \"ticks\": \"\"}, \"colorscale\": [[0.0, \"#0d0887\"], [0.1111111111111111, \"#46039f\"], [0.2222222222222222, \"#7201a8\"], [0.3333333333333333, \"#9c179e\"], [0.4444444444444444, \"#bd3786\"], [0.5555555555555556, \"#d8576b\"], [0.6666666666666666, \"#ed7953\"], [0.7777777777777778, \"#fb9f3a\"], [0.8888888888888888, \"#fdca26\"], [1.0, \"#f0f921\"]], \"type\": \"surface\"}], \"table\": [{\"cells\": {\"fill\": {\"color\": \"#EBF0F8\"}, \"line\": {\"color\": \"white\"}}, \"header\": {\"fill\": {\"color\": \"#C8D4E3\"}, \"line\": {\"color\": \"white\"}}, \"type\": \"table\"}]}, \"layout\": {\"annotationdefaults\": {\"arrowcolor\": \"#2a3f5f\", \"arrowhead\": 0, \"arrowwidth\": 1}, \"coloraxis\": {\"colorbar\": {\"outlinewidth\": 0, \"ticks\": \"\"}}, \"colorscale\": {\"diverging\": [[0, \"#8e0152\"], [0.1, \"#c51b7d\"], [0.2, \"#de77ae\"], [0.3, \"#f1b6da\"], [0.4, \"#fde0ef\"], [0.5, \"#f7f7f7\"], [0.6, \"#e6f5d0\"], [0.7, \"#b8e186\"], [0.8, \"#7fbc41\"], [0.9, \"#4d9221\"], [1, \"#276419\"]], \"sequential\": [[0.0, \"#0d0887\"], [0.1111111111111111, \"#46039f\"], [0.2222222222222222, \"#7201a8\"], [0.3333333333333333, \"#9c179e\"], [0.4444444444444444, \"#bd3786\"], [0.5555555555555556, \"#d8576b\"], [0.6666666666666666, \"#ed7953\"], [0.7777777777777778, \"#fb9f3a\"], [0.8888888888888888, \"#fdca26\"], [1.0, \"#f0f921\"]], \"sequentialminus\": [[0.0, \"#0d0887\"], [0.1111111111111111, \"#46039f\"], [0.2222222222222222, \"#7201a8\"], [0.3333333333333333, \"#9c179e\"], [0.4444444444444444, \"#bd3786\"], [0.5555555555555556, \"#d8576b\"], [0.6666666666666666, \"#ed7953\"], [0.7777777777777778, \"#fb9f3a\"], [0.8888888888888888, \"#fdca26\"], [1.0, \"#f0f921\"]]}, \"colorway\": [\"#636efa\", \"#EF553B\", \"#00cc96\", \"#ab63fa\", \"#FFA15A\", \"#19d3f3\", \"#FF6692\", \"#B6E880\", \"#FF97FF\", \"#FECB52\"], \"font\": {\"color\": \"#2a3f5f\"}, \"geo\": {\"bgcolor\": \"white\", \"lakecolor\": \"white\", \"landcolor\": \"#E5ECF6\", \"showlakes\": true, \"showland\": true, \"subunitcolor\": \"white\"}, \"hoverlabel\": {\"align\": \"left\"}, \"hovermode\": \"closest\", \"mapbox\": {\"style\": \"light\"}, \"paper_bgcolor\": \"white\", \"plot_bgcolor\": \"#E5ECF6\", \"polar\": {\"angularaxis\": {\"gridcolor\": \"white\", \"linecolor\": \"white\", \"ticks\": \"\"}, \"bgcolor\": \"#E5ECF6\", \"radialaxis\": {\"gridcolor\": \"white\", \"linecolor\": \"white\", \"ticks\": \"\"}}, \"scene\": {\"xaxis\": {\"backgroundcolor\": \"#E5ECF6\", \"gridcolor\": \"white\", \"gridwidth\": 2, \"linecolor\": \"white\", \"showbackground\": true, \"ticks\": \"\", \"zerolinecolor\": \"white\"}, \"yaxis\": {\"backgroundcolor\": \"#E5ECF6\", \"gridcolor\": \"white\", \"gridwidth\": 2, \"linecolor\": \"white\", \"showbackground\": true, \"ticks\": \"\", \"zerolinecolor\": \"white\"}, \"zaxis\": {\"backgroundcolor\": \"#E5ECF6\", \"gridcolor\": \"white\", \"gridwidth\": 2, \"linecolor\": \"white\", \"showbackground\": true, \"ticks\": \"\", \"zerolinecolor\": \"white\"}}, \"shapedefaults\": {\"line\": {\"color\": \"#2a3f5f\"}}, \"ternary\": {\"aaxis\": {\"gridcolor\": \"white\", \"linecolor\": \"white\", \"ticks\": \"\"}, \"baxis\": {\"gridcolor\": \"white\", \"linecolor\": \"white\", \"ticks\": \"\"}, \"bgcolor\": \"#E5ECF6\", \"caxis\": {\"gridcolor\": \"white\", \"linecolor\": \"white\", \"ticks\": \"\"}}, \"title\": {\"x\": 0.05}, \"xaxis\": {\"automargin\": true, \"gridcolor\": \"white\", \"linecolor\": \"white\", \"ticks\": \"\", \"title\": {\"standoff\": 15}, \"zerolinecolor\": \"white\", \"zerolinewidth\": 2}, \"yaxis\": {\"automargin\": true, \"gridcolor\": \"white\", \"linecolor\": \"white\", \"ticks\": \"\", \"title\": {\"standoff\": 15}, \"zerolinecolor\": \"white\", \"zerolinewidth\": 2}}}, \"title\": {\"text\": \"A scatter plot of our synthetic movie revenue vs budget data (in millions)\"}},\n",
              "                        {\"responsive\": true}\n",
              "                    ).then(function(){\n",
              "                            \n",
              "var gd = document.getElementById('3e9c718d-c949-41bb-8c7a-8ad44730ea5b');\n",
              "var x = new MutationObserver(function (mutations, observer) {{\n",
              "        var display = window.getComputedStyle(gd).display;\n",
              "        if (!display || display === 'none') {{\n",
              "            console.log([gd, 'removed!']);\n",
              "            Plotly.purge(gd);\n",
              "            observer.disconnect();\n",
              "        }}\n",
              "}});\n",
              "\n",
              "// Listen for the removal of the full notebook cells\n",
              "var notebookContainer = gd.closest('#notebook-container');\n",
              "if (notebookContainer) {{\n",
              "    x.observe(notebookContainer, {childList: true});\n",
              "}}\n",
              "\n",
              "// Listen for the clearing of the current output cell\n",
              "var outputEl = gd.closest('.output');\n",
              "if (outputEl) {{\n",
              "    x.observe(outputEl, {childList: true});\n",
              "}}\n",
              "\n",
              "                        })\n",
              "                };\n",
              "                \n",
              "            </script>\n",
              "        </div>\n",
              "</body>\n",
              "</html>"
            ]
          },
          "metadata": {
            "tags": []
          }
        }
      ]
    },
    {
      "cell_type": "markdown",
      "metadata": {
        "id": "lP6yMtX-W-FL"
      },
      "source": [
        "### Define the function (model)\n",
        "Now we can define our function to model the movies data and predict revenue from budget. For single variable linear regression we used the model $f(x)=mx+b$. Geometrically, this means that the model can only guess lines. Since the movies data is roughly in the shape of a line, our linear model should work work well for this problem. But, in the real-world there are very few problems that linear, so soon we'll look at more complex models. One other limitation of the current model is it only accepts one input variable. But if our data set had both budget and year, for example, perhaps we could more accurately predict revenue. Later, we will discuss a more complex model that can handle multiple input variables.\n",
        "\n",
        "Here is the code to implement our linear model:"
      ]
    },
    {
      "cell_type": "code",
      "metadata": {
        "id": "K-KjS6DsXYqF"
      },
      "source": [
        "# First we define the trainable parameters m and b \n",
        "m = torch.randn(1, requires_grad=True) # requires_grad means it is trainable\n",
        "b = torch.randn(1, requires_grad=True)\n",
        "\n",
        "# Then we define the prediction model\n",
        "def model(x):\n",
        "    return m * x + b"
      ],
      "execution_count": 9,
      "outputs": []
    },
    {
      "cell_type": "markdown",
      "metadata": {
        "id": "KAlldu10YuvE"
      },
      "source": [
        "### Define the loss function\n",
        "We have the model defined, so now we need to define the loss function. Recall that the loss function is how the model is evaluated (smaller loss values are better), and it is also the function that we need to minimize in terms of $m$ and $b$. Previously we said the loss function was:\n",
        "$$\n",
        "    L(m,b) = \\sum_{i=1}^m (f(x_i,m,b) - y_i)^2 = \\sum_{i=1}^m (mx_i + b-y_i)^2\n",
        "$$\n",
        "\n",
        "However, we normally interpret $f(x)$ and $y$ as vectors (i.e., lists of numbers like \\[0, 3, 6\\] would be vector of 3 numbers. We can rewrite the loss function as:\n",
        "\n",
        "$$\n",
        "    L(m,b) = \\text{sum}((f(x) - y)^2)\n",
        "$$\n",
        "\n",
        "Note that since $f(x)$ and $y$ are vectors, $(f(x) - y)$ is also a vector that just contains every number stored in $f(x)$ minus every corresponding number in $y$. Likewise, $((f(x) - y)^2)$ is also a vector, with every number individually squared.  Then, the $\\mathrm{sum}$ function (which we just made up) adds up every number stored in the vector $((f(x) - y)^2)$. This is the same as the original loss function, but is a vector interpretation of it instead. We can code this directly as a Python function:"
      ]
    },
    {
      "cell_type": "code",
      "metadata": {
        "id": "jZuCmTsWb_mw"
      },
      "source": [
        "def loss(y_predicted, y_target):\n",
        "    return ((y_predicted - y_target)**2).sum()"
      ],
      "execution_count": 10,
      "outputs": []
    },
    {
      "cell_type": "markdown",
      "metadata": {
        "id": "R-4-fJducGud"
      },
      "source": [
        "The `.sum()` function is an operation which adds up all the numbers stored in a vector. With just these two lines of code we have defined our loss function."
      ]
    },
    {
      "cell_type": "markdown",
      "metadata": {
        "id": "Y07mR8sdcLE2"
      },
      "source": [
        "### Minimizing the loss function with gradient descent\n",
        "With our model and loss function defined, we are now ready to use the gradient descent algorithm to minimize the loss function, and thus find the optimal values for $m$ and $b$. Fortunately, a library called `PyTorch` already has an implemented version of the gradient descent algorithm for us, and we just need to use it. The algorithm acts almost like a ball rolling downhill into the minimum of the function, but it does so in discrete time steps. PyTorch does not handle this aspect, we need to be responsible for performing each time step of gradient descent. So, roughly in pseudo-code we want to do this:\n",
        "```python\n",
        "for t in range(10000):\n",
        "    # Tell PyTorch to do 1 time step of gradient descent\n",
        "```\n",
        "\n",
        "We can't do this yet, since we don't yet have a way to tell PyTorch to perform 1 time step of gradient descent. To do so, we create an optimizer with a learning rate $\\alpha$ of $0.2$:\n",
        "\n",
        "```python\n",
        "optimizer = optim.Adam([m, b], lr=0.2)\n",
        "```\n"
      ]
    },
    {
      "cell_type": "markdown",
      "metadata": {
        "id": "ZRSXtJ3LgX25"
      },
      "source": [
        "The `optim.Adam` optimizer knows how to perform the gradient descent algorithm for us (actually a faster version of gradient descent). Note that this *does not yet minimize $L$)*. This code only create an optimizer object which we will use to minimize $L$. Note that we indicate which variables we want the optimizer to optimize (that is, modify). \n",
        "\n",
        "Using our new `optimizer` object we are ready to write the optimization loop pseudo-code that we originally wanted. Let's look at the code first, and then break it down:\n",
        "\n",
        "```python\n",
        "for t in range(10000):\n",
        "    optimizer.zero_grad() # 1.\n",
        "    y_predicted = model(x_dataset) # 2.\n",
        "    current_loss = loss(y_predicted, y_dataset) # 3.\n",
        "    current_loss.backward() # 4.\n",
        "    optimizer.step() # 5.\n",
        "    print(f\"t = {t}, loss = {current_loss}, m = {m}, b = {b}\") # 6.\n",
        "```\n",
        "\n",
        "Let's walk through each of the 6 steps to understand all that is happening here:\n",
        "\n",
        "1. Under the hood, PyTorch keeps track of a gradient for each variable and step of the model and loss computation. The first thing we do is set all of these stored gradients to 0, so that we don't reuse any previous, old gradient computations.\n",
        "2. Using the current values of `m` and `b` we compute the predictions of the model.\n",
        "3. We then compute the value of our loss function for the predictions we just made.\n",
        "4. At this point we have the current value of the loss $L$. What we want to do is compute $\\frac{\\partial L}{\\partial a}$ and $\\frac{\\partial L}{\\partial b}$. We ask PyTorch to do this for us using `.backward()`. The name comes from the fact that in order to find the derivatives, PyTorch works \"backward\", starting with the loss and working back to $m$ and $b$. However, the details of how PyTorch computes it are not that important right now. What matters is that `.backward()` does this desired computation, and stores the results somewhere (you can see the results by doing `a.grad` if you wish).\n",
        "5. Crucially though, `.backward()` does NOT actually update the values of `m` and `b`. Instead, we ask the `optimizer` to update `m` and `b`, based on the currently computed gradients.\n",
        "6. Finally we optionally print out some current info so we can observe the training.\n",
        "\n",
        "What we want to see from the print statements is that the gradient descent algorithm **converged**, which means that the algorithm stopped making significant progress because it found the minimum location of the loss function. When the last few print outputs look like:\n",
        "\n",
        "```\n",
        "t = 9992, loss = 83.83984375, m = 1.57234649658203, b = 9.991298828125\n",
        "t = 9993, loss = 83.8359375, m = 1.572356033325195, b = 9.9916040039062\n",
        "t = 9994, loss = 83.84765625, m = 1.57235984802246, b = 9.9919091796875\n",
        "t = 9995, loss = 83.828125, m = 1.572371292114258, b = 9.9922143554688\n",
        "t = 9996, loss = 83.8359375, m = 1.572380828857422, b = 9.99251953125\n",
        "t = 9997, loss = 83.8359375, m = 1.572382736206055, b = 9.9928247070312\n",
        "t = 9998, loss = 83.84375, m = 1.572397994995117, b = 9.9931298828125\n",
        "t = 9999, loss = 83.82421875, m = 1.572401809692383, b = 9.9934350585938\n",
        "```\n",
        "\n",
        "then we can tell that we have achieved convergence, and therefore found the best values of $m$ and $b$.\n"
      ]
    },
    {
      "cell_type": "markdown",
      "metadata": {
        "id": "zjkEC4wvlKLG"
      },
      "source": [
        "### Putting it all together\n",
        "Now let's write the full optimization loop for our model and dataset:"
      ]
    },
    {
      "cell_type": "code",
      "metadata": {
        "colab": {
          "base_uri": "https://localhost:8080/",
          "height": 1000
        },
        "id": "w0BblHi7fZPB",
        "outputId": "db803213-e313-41c1-b0e6-d51583fd177d"
      },
      "source": [
        "# First we define the trainable parameters m and b \n",
        "m = torch.randn(1, requires_grad=True) # requires_grad means it is trainable\n",
        "b = torch.randn(1, requires_grad=True)\n",
        "\n",
        "# Then we define the prediction model\n",
        "def model(x):\n",
        "    return m * x + b\n",
        "\n",
        "\n",
        "# Then we define the loss function\n",
        "def loss(y_predicted, y_target):\n",
        "    return ((y_predicted - y_target)**2).sum()\n",
        "\n",
        "# Next setup the optimizer object, so it optimizes m and b.\n",
        "optimizer = optim.Adam([m, b], lr=0.2)\n",
        "\n",
        "# Finally convert the dataset to PyTorch Tensors\n",
        "x = torch.tensor(movies_ds['x'], dtype=torch.float)\n",
        "y = torch.tensor(movies_ds['y'], dtype=torch.float)\n",
        "\n",
        "\n",
        "# Main optimization loop\n",
        "losses = []\n",
        "m_values = []\n",
        "b_values = []\n",
        "for e in range(1, 3001):\n",
        "    # Set the gradients to 0.\n",
        "    optimizer.zero_grad()\n",
        "    # Compute the current predicted y's from x_dataset\n",
        "    y_predicted = model(x) # this is our f(x) function\n",
        "    # See how far off the prediction is\n",
        "    current_loss = loss(y_predicted, y)\n",
        "    # Compute the gradient of the loss with respect to a and b.\n",
        "    current_loss.backward()\n",
        "    # Update a and b accordingly.\n",
        "    optimizer.step()\n",
        "    \n",
        "    losses.append(current_loss.item())\n",
        "    m_values.append(m.item())\n",
        "    b_values.append(b.item())\n",
        "    if e % 100 == 0: \n",
        "        # print and plot the model's estimated line of best fit for the data\n",
        "        print(f\"e = {e}, loss = {current_loss.item()}, m = {m.item()}, b = {b.item()}\")\n",
        "\n",
        "est_best_fit_line = m_b_trace(m_values[-1], b_values[-1], movies_ds['x'].tolist())\n",
        "est_best_fit_trace = trace_values(est_best_fit_line['x'], est_best_fit_line['y'], mode='lines', name=\"estimated line of best fit\")\n",
        "plot([regression_trace, est_best_fit_trace], movies_layout)"
      ],
      "execution_count": 11,
      "outputs": [
        {
          "output_type": "stream",
          "text": [
            "e = 100, loss = 3035.21875, m = 1.5015157461166382, b = 9.392014503479004\n",
            "e = 200, loss = 3012.601318359375, m = 1.4879978895187378, b = 10.30183219909668\n",
            "e = 300, loss = 3012.601318359375, m = 1.488058090209961, b = 10.298091888427734\n",
            "e = 400, loss = 3012.600830078125, m = 1.4880578517913818, b = 10.298116683959961\n",
            "e = 500, loss = 3012.600830078125, m = 1.4880579710006714, b = 10.298116683959961\n",
            "e = 600, loss = 3012.600830078125, m = 1.4880577325820923, b = 10.298116683959961\n",
            "e = 700, loss = 3012.600830078125, m = 1.4880577325820923, b = 10.298116683959961\n",
            "e = 800, loss = 3012.6015625, m = 1.4880578517913818, b = 10.298116683959961\n",
            "e = 900, loss = 3012.601806640625, m = 1.4880577325820923, b = 10.298116683959961\n",
            "e = 1000, loss = 3012.601318359375, m = 1.4880576133728027, b = 10.298115730285645\n",
            "e = 1100, loss = 3012.6005859375, m = 1.4880579710006714, b = 10.298115730285645\n",
            "e = 1200, loss = 3012.60107421875, m = 1.4880613088607788, b = 10.298117637634277\n",
            "e = 1300, loss = 3013.20361328125, m = 1.4869693517684937, b = 10.297329902648926\n",
            "e = 1400, loss = 3012.601806640625, m = 1.4880599975585938, b = 10.298117637634277\n",
            "e = 1500, loss = 3012.71435546875, m = 1.4887973070144653, b = 10.298649787902832\n",
            "e = 1600, loss = 3012.6171875, m = 1.4883968830108643, b = 10.298377990722656\n",
            "e = 1700, loss = 3012.60205078125, m = 1.4880603551864624, b = 10.298117637634277\n",
            "e = 1800, loss = 3024.8857421875, m = 1.490155816078186, b = 10.29983901977539\n",
            "e = 1900, loss = 3012.601318359375, m = 1.4880576133728027, b = 10.298115730285645\n",
            "e = 2000, loss = 3012.601318359375, m = 1.4880616664886475, b = 10.298118591308594\n",
            "e = 2100, loss = 3013.20849609375, m = 1.489914059638977, b = 10.299711227416992\n",
            "e = 2200, loss = 3012.60205078125, m = 1.4880496263504028, b = 10.298108100891113\n",
            "e = 2300, loss = 3012.8125, m = 1.4870389699935913, b = 10.2972412109375\n",
            "e = 2400, loss = 3012.64599609375, m = 1.4876922369003296, b = 10.29779052734375\n",
            "e = 2500, loss = 3012.6015625, m = 1.4880597591400146, b = 10.298117637634277\n",
            "e = 2600, loss = 3162.131103515625, m = 1.5073384046554565, b = 10.315674781799316\n",
            "e = 2700, loss = 3012.603271484375, m = 1.488162636756897, b = 10.298211097717285\n",
            "e = 2800, loss = 3012.601318359375, m = 1.4880539178848267, b = 10.298112869262695\n",
            "e = 2900, loss = 3016.236083984375, m = 1.4900119304656982, b = 10.299941062927246\n",
            "e = 3000, loss = 3012.601806640625, m = 1.4880471229553223, b = 10.298107147216797\n"
          ],
          "name": "stdout"
        },
        {
          "output_type": "display_data",
          "data": {
            "text/html": [
              "<html>\n",
              "<head><meta charset=\"utf-8\" /></head>\n",
              "<body>\n",
              "    <div>\n",
              "            <script src=\"https://cdnjs.cloudflare.com/ajax/libs/mathjax/2.7.5/MathJax.js?config=TeX-AMS-MML_SVG\"></script><script type=\"text/javascript\">if (window.MathJax) {MathJax.Hub.Config({SVG: {font: \"STIX-Web\"}});}</script>\n",
              "                <script type=\"text/javascript\">window.PlotlyConfig = {MathJaxConfig: 'local'};</script>\n",
              "        <script src=\"https://cdn.plot.ly/plotly-latest.min.js\"></script>    \n",
              "            <div id=\"9cebaf94-5115-4e71-ad1d-6719d8b5f2f9\" class=\"plotly-graph-div\" style=\"height:525px; width:100%;\"></div>\n",
              "            <script type=\"text/javascript\">\n",
              "                \n",
              "                    window.PLOTLYENV=window.PLOTLYENV || {};\n",
              "                    \n",
              "                if (document.getElementById(\"9cebaf94-5115-4e71-ad1d-6719d8b5f2f9\")) {\n",
              "                    Plotly.newPlot(\n",
              "                        '9cebaf94-5115-4e71-ad1d-6719d8b5f2f9',\n",
              "                        [{\"mode\": \"markers\", \"name\": \"synthetic movie revenue vs budget data\", \"text\": [], \"type\": \"scatter\", \"x\": [0, 1, 2, 3, 4, 5, 6, 7, 8, 9, 10, 11, 12, 13, 14, 15, 16, 17, 18, 19, 20, 21, 22, 23, 24, 25, 26, 27, 28, 29, 30, 31, 32, 33, 34, 35, 36, 37, 38, 39, 40, 41, 42, 43, 44, 45, 46, 47, 48, 49, 50, 51, 52, 53, 54, 55, 56, 57, 58, 59, 60, 61, 62, 63, 64, 65, 66, 67, 68, 69, 70, 71, 72, 73, 74, 75, 76, 77, 78, 79, 80, 81, 82, 83, 84, 85, 86, 87, 88, 89, 90, 91, 92, 93, 94, 95, 96, 97, 98, 99], \"y\": [15.42641286533492, 1.91503898718803, 15.672964698525508, 19.476077650772236, 15.970140246051809, 11.995932910616954, 12.96125729519248, 25.710614243979172, 15.38221673125071, 15.266796283480206, 28.707196367355944, 35.567866923898734, 18.07896532655829, 29.743845267715532, 37.252419233042275, 34.75052133658777, 38.43510634863599, 31.337521363412662, 45.35548245025887, 42.79151566795381, 40.85088736022523, 34.343400952030535, 40.466815201029384, 47.98267230132691, 44.83666348845992, 46.18027986666587, 51.355339569386345, 50.762764851087816, 55.00794363862934, 55.52077906809089, 61.10446393665493, 56.93294304787268, 66.17297761617337, 55.884721779770906, 52.80918698541815, 58.51400113272407, 56.27968723727099, 72.07362652615353, 57.937926387785, 71.02574296622785, 70.95172311838488, 77.88573991340138, 66.97895079357625, 81.63700604915466, 73.03305278864175, 82.59295383059714, 74.91923413759358, 88.17872959122373, 78.51023275664498, 76.80031795438298, 82.85058487893174, 78.369207491173, 94.42211315673856, 82.52304039285127, 88.682288973844, 101.38521424477602, 103.75250949803744, 94.62609094189568, 103.52245687685479, 93.52748268414119, 101.94743296461769, 109.55663520663255, 103.6911589760363, 106.30402725970846, 96.78563534450774, 104.64363517269072, 100.59226180311929, 106.60919836685636, 108.61438623964264, 118.97660592421192, 105.79918417379955, 115.08984356863277, 114.29853743685376, 122.2298228613509, 117.92694300160066, 113.36194712409988, 131.59830349035832, 130.76481174287363, 134.56193285449717, 126.85018287678534, 132.11155128787513, 131.76933254816578, 134.95673295925948, 129.744313222639, 132.01742617881413, 128.0079956410021, 135.06125121302068, 135.34151750807055, 143.1515637732529, 144.81014039776335, 144.502644948301, 142.35595952579018, 139.2850212138965, 159.07638291515286, 147.79415687275727, 152.40097261764907, 163.54161451845363, 154.31547649801334, 153.36545610957901, 158.8959397175076]}, {\"mode\": \"lines\", \"name\": \"estimated line of best fit\", \"text\": [], \"type\": \"scatter\", \"x\": [0, 1, 2, 3, 4, 5, 6, 7, 8, 9, 10, 11, 12, 13, 14, 15, 16, 17, 18, 19, 20, 21, 22, 23, 24, 25, 26, 27, 28, 29, 30, 31, 32, 33, 34, 35, 36, 37, 38, 39, 40, 41, 42, 43, 44, 45, 46, 47, 48, 49, 50, 51, 52, 53, 54, 55, 56, 57, 58, 59, 60, 61, 62, 63, 64, 65, 66, 67, 68, 69, 70, 71, 72, 73, 74, 75, 76, 77, 78, 79, 80, 81, 82, 83, 84, 85, 86, 87, 88, 89, 90, 91, 92, 93, 94, 95, 96, 97, 98, 99], \"y\": [10.298107147216797, 11.78615427017212, 13.274201393127441, 14.762248516082764, 16.250295639038086, 17.738342761993408, 19.22638988494873, 20.714437007904053, 22.202484130859375, 23.690531253814697, 25.17857837677002, 26.666625499725342, 28.154672622680664, 29.642719745635986, 31.13076686859131, 32.61881399154663, 34.10686111450195, 35.594908237457275, 37.0829553604126, 38.57100248336792, 40.05904960632324, 41.547096729278564, 43.03514385223389, 44.52319097518921, 46.01123809814453, 47.49928522109985, 48.987332344055176, 50.4753794670105, 51.96342658996582, 53.45147371292114, 54.939520835876465, 56.42756795883179, 57.91561508178711, 59.40366220474243, 60.891709327697754, 62.379756450653076, 63.8678035736084, 65.35585069656372, 66.84389781951904, 68.33194494247437, 69.81999206542969, 71.30803918838501, 72.79608631134033, 74.28413343429565, 75.77218055725098, 77.2602276802063, 78.74827480316162, 80.23632192611694, 81.72436904907227, 83.21241617202759, 84.70046329498291, 86.18851041793823, 87.67655754089355, 89.16460466384888, 90.6526517868042, 92.14069890975952, 93.62874603271484, 95.11679315567017, 96.60484027862549, 98.09288740158081, 99.58093452453613, 101.06898164749146, 102.55702877044678, 104.0450758934021, 105.53312301635742, 107.02117013931274, 108.50921726226807, 109.99726438522339, 111.48531150817871, 112.97335863113403, 114.46140575408936, 115.94945287704468, 117.4375, 118.92554712295532, 120.41359424591064, 121.90164136886597, 123.38968849182129, 124.87773561477661, 126.36578273773193, 127.85382986068726, 129.34187698364258, 130.8299241065979, 132.31797122955322, 133.80601835250854, 135.29406547546387, 136.7821125984192, 138.2701597213745, 139.75820684432983, 141.24625396728516, 142.73430109024048, 144.2223482131958, 145.71039533615112, 147.19844245910645, 148.68648958206177, 150.1745367050171, 151.6625838279724, 153.15063095092773, 154.63867807388306, 156.12672519683838, 157.6147723197937]}],\n",
              "                        {\"template\": {\"data\": {\"bar\": [{\"error_x\": {\"color\": \"#2a3f5f\"}, \"error_y\": {\"color\": \"#2a3f5f\"}, \"marker\": {\"line\": {\"color\": \"#E5ECF6\", \"width\": 0.5}}, \"type\": \"bar\"}], \"barpolar\": [{\"marker\": {\"line\": {\"color\": \"#E5ECF6\", \"width\": 0.5}}, \"type\": \"barpolar\"}], \"carpet\": [{\"aaxis\": {\"endlinecolor\": \"#2a3f5f\", \"gridcolor\": \"white\", \"linecolor\": \"white\", \"minorgridcolor\": \"white\", \"startlinecolor\": \"#2a3f5f\"}, \"baxis\": {\"endlinecolor\": \"#2a3f5f\", \"gridcolor\": \"white\", \"linecolor\": \"white\", \"minorgridcolor\": \"white\", \"startlinecolor\": \"#2a3f5f\"}, \"type\": \"carpet\"}], \"choropleth\": [{\"colorbar\": {\"outlinewidth\": 0, \"ticks\": \"\"}, \"type\": \"choropleth\"}], \"contour\": [{\"colorbar\": {\"outlinewidth\": 0, \"ticks\": \"\"}, \"colorscale\": [[0.0, \"#0d0887\"], [0.1111111111111111, \"#46039f\"], [0.2222222222222222, \"#7201a8\"], [0.3333333333333333, \"#9c179e\"], [0.4444444444444444, \"#bd3786\"], [0.5555555555555556, \"#d8576b\"], [0.6666666666666666, \"#ed7953\"], [0.7777777777777778, \"#fb9f3a\"], [0.8888888888888888, \"#fdca26\"], [1.0, \"#f0f921\"]], \"type\": \"contour\"}], \"contourcarpet\": [{\"colorbar\": {\"outlinewidth\": 0, \"ticks\": \"\"}, \"type\": \"contourcarpet\"}], \"heatmap\": [{\"colorbar\": {\"outlinewidth\": 0, \"ticks\": \"\"}, \"colorscale\": [[0.0, \"#0d0887\"], [0.1111111111111111, \"#46039f\"], [0.2222222222222222, \"#7201a8\"], [0.3333333333333333, \"#9c179e\"], [0.4444444444444444, \"#bd3786\"], [0.5555555555555556, \"#d8576b\"], [0.6666666666666666, \"#ed7953\"], [0.7777777777777778, \"#fb9f3a\"], [0.8888888888888888, \"#fdca26\"], [1.0, \"#f0f921\"]], \"type\": \"heatmap\"}], \"heatmapgl\": [{\"colorbar\": {\"outlinewidth\": 0, \"ticks\": \"\"}, \"colorscale\": [[0.0, \"#0d0887\"], [0.1111111111111111, \"#46039f\"], [0.2222222222222222, \"#7201a8\"], [0.3333333333333333, \"#9c179e\"], [0.4444444444444444, \"#bd3786\"], [0.5555555555555556, \"#d8576b\"], [0.6666666666666666, \"#ed7953\"], [0.7777777777777778, \"#fb9f3a\"], [0.8888888888888888, \"#fdca26\"], [1.0, \"#f0f921\"]], \"type\": \"heatmapgl\"}], \"histogram\": [{\"marker\": {\"colorbar\": {\"outlinewidth\": 0, \"ticks\": \"\"}}, \"type\": \"histogram\"}], \"histogram2d\": [{\"colorbar\": {\"outlinewidth\": 0, \"ticks\": \"\"}, \"colorscale\": [[0.0, \"#0d0887\"], [0.1111111111111111, \"#46039f\"], [0.2222222222222222, \"#7201a8\"], [0.3333333333333333, \"#9c179e\"], [0.4444444444444444, \"#bd3786\"], [0.5555555555555556, \"#d8576b\"], [0.6666666666666666, \"#ed7953\"], [0.7777777777777778, \"#fb9f3a\"], [0.8888888888888888, \"#fdca26\"], [1.0, \"#f0f921\"]], \"type\": \"histogram2d\"}], \"histogram2dcontour\": [{\"colorbar\": {\"outlinewidth\": 0, \"ticks\": \"\"}, \"colorscale\": [[0.0, \"#0d0887\"], [0.1111111111111111, \"#46039f\"], [0.2222222222222222, \"#7201a8\"], [0.3333333333333333, \"#9c179e\"], [0.4444444444444444, \"#bd3786\"], [0.5555555555555556, \"#d8576b\"], [0.6666666666666666, \"#ed7953\"], [0.7777777777777778, \"#fb9f3a\"], [0.8888888888888888, \"#fdca26\"], [1.0, \"#f0f921\"]], \"type\": \"histogram2dcontour\"}], \"mesh3d\": [{\"colorbar\": {\"outlinewidth\": 0, \"ticks\": \"\"}, \"type\": \"mesh3d\"}], \"parcoords\": [{\"line\": {\"colorbar\": {\"outlinewidth\": 0, \"ticks\": \"\"}}, \"type\": \"parcoords\"}], \"pie\": [{\"automargin\": true, \"type\": \"pie\"}], \"scatter\": [{\"marker\": {\"colorbar\": {\"outlinewidth\": 0, \"ticks\": \"\"}}, \"type\": \"scatter\"}], \"scatter3d\": [{\"line\": {\"colorbar\": {\"outlinewidth\": 0, \"ticks\": \"\"}}, \"marker\": {\"colorbar\": {\"outlinewidth\": 0, \"ticks\": \"\"}}, \"type\": \"scatter3d\"}], \"scattercarpet\": [{\"marker\": {\"colorbar\": {\"outlinewidth\": 0, \"ticks\": \"\"}}, \"type\": \"scattercarpet\"}], \"scattergeo\": [{\"marker\": {\"colorbar\": {\"outlinewidth\": 0, \"ticks\": \"\"}}, \"type\": \"scattergeo\"}], \"scattergl\": [{\"marker\": {\"colorbar\": {\"outlinewidth\": 0, \"ticks\": \"\"}}, \"type\": \"scattergl\"}], \"scattermapbox\": [{\"marker\": {\"colorbar\": {\"outlinewidth\": 0, \"ticks\": \"\"}}, \"type\": \"scattermapbox\"}], \"scatterpolar\": [{\"marker\": {\"colorbar\": {\"outlinewidth\": 0, \"ticks\": \"\"}}, \"type\": \"scatterpolar\"}], \"scatterpolargl\": [{\"marker\": {\"colorbar\": {\"outlinewidth\": 0, \"ticks\": \"\"}}, \"type\": \"scatterpolargl\"}], \"scatterternary\": [{\"marker\": {\"colorbar\": {\"outlinewidth\": 0, \"ticks\": \"\"}}, \"type\": \"scatterternary\"}], \"surface\": [{\"colorbar\": {\"outlinewidth\": 0, \"ticks\": \"\"}, \"colorscale\": [[0.0, \"#0d0887\"], [0.1111111111111111, \"#46039f\"], [0.2222222222222222, \"#7201a8\"], [0.3333333333333333, \"#9c179e\"], [0.4444444444444444, \"#bd3786\"], [0.5555555555555556, \"#d8576b\"], [0.6666666666666666, \"#ed7953\"], [0.7777777777777778, \"#fb9f3a\"], [0.8888888888888888, \"#fdca26\"], [1.0, \"#f0f921\"]], \"type\": \"surface\"}], \"table\": [{\"cells\": {\"fill\": {\"color\": \"#EBF0F8\"}, \"line\": {\"color\": \"white\"}}, \"header\": {\"fill\": {\"color\": \"#C8D4E3\"}, \"line\": {\"color\": \"white\"}}, \"type\": \"table\"}]}, \"layout\": {\"annotationdefaults\": {\"arrowcolor\": \"#2a3f5f\", \"arrowhead\": 0, \"arrowwidth\": 1}, \"coloraxis\": {\"colorbar\": {\"outlinewidth\": 0, \"ticks\": \"\"}}, \"colorscale\": {\"diverging\": [[0, \"#8e0152\"], [0.1, \"#c51b7d\"], [0.2, \"#de77ae\"], [0.3, \"#f1b6da\"], [0.4, \"#fde0ef\"], [0.5, \"#f7f7f7\"], [0.6, \"#e6f5d0\"], [0.7, \"#b8e186\"], [0.8, \"#7fbc41\"], [0.9, \"#4d9221\"], [1, \"#276419\"]], \"sequential\": [[0.0, \"#0d0887\"], [0.1111111111111111, \"#46039f\"], [0.2222222222222222, \"#7201a8\"], [0.3333333333333333, \"#9c179e\"], [0.4444444444444444, \"#bd3786\"], [0.5555555555555556, \"#d8576b\"], [0.6666666666666666, \"#ed7953\"], [0.7777777777777778, \"#fb9f3a\"], [0.8888888888888888, \"#fdca26\"], [1.0, \"#f0f921\"]], \"sequentialminus\": [[0.0, \"#0d0887\"], [0.1111111111111111, \"#46039f\"], [0.2222222222222222, \"#7201a8\"], [0.3333333333333333, \"#9c179e\"], [0.4444444444444444, \"#bd3786\"], [0.5555555555555556, \"#d8576b\"], [0.6666666666666666, \"#ed7953\"], [0.7777777777777778, \"#fb9f3a\"], [0.8888888888888888, \"#fdca26\"], [1.0, \"#f0f921\"]]}, \"colorway\": [\"#636efa\", \"#EF553B\", \"#00cc96\", \"#ab63fa\", \"#FFA15A\", \"#19d3f3\", \"#FF6692\", \"#B6E880\", \"#FF97FF\", \"#FECB52\"], \"font\": {\"color\": \"#2a3f5f\"}, \"geo\": {\"bgcolor\": \"white\", \"lakecolor\": \"white\", \"landcolor\": \"#E5ECF6\", \"showlakes\": true, \"showland\": true, \"subunitcolor\": \"white\"}, \"hoverlabel\": {\"align\": \"left\"}, \"hovermode\": \"closest\", \"mapbox\": {\"style\": \"light\"}, \"paper_bgcolor\": \"white\", \"plot_bgcolor\": \"#E5ECF6\", \"polar\": {\"angularaxis\": {\"gridcolor\": \"white\", \"linecolor\": \"white\", \"ticks\": \"\"}, \"bgcolor\": \"#E5ECF6\", \"radialaxis\": {\"gridcolor\": \"white\", \"linecolor\": \"white\", \"ticks\": \"\"}}, \"scene\": {\"xaxis\": {\"backgroundcolor\": \"#E5ECF6\", \"gridcolor\": \"white\", \"gridwidth\": 2, \"linecolor\": \"white\", \"showbackground\": true, \"ticks\": \"\", \"zerolinecolor\": \"white\"}, \"yaxis\": {\"backgroundcolor\": \"#E5ECF6\", \"gridcolor\": \"white\", \"gridwidth\": 2, \"linecolor\": \"white\", \"showbackground\": true, \"ticks\": \"\", \"zerolinecolor\": \"white\"}, \"zaxis\": {\"backgroundcolor\": \"#E5ECF6\", \"gridcolor\": \"white\", \"gridwidth\": 2, \"linecolor\": \"white\", \"showbackground\": true, \"ticks\": \"\", \"zerolinecolor\": \"white\"}}, \"shapedefaults\": {\"line\": {\"color\": \"#2a3f5f\"}}, \"ternary\": {\"aaxis\": {\"gridcolor\": \"white\", \"linecolor\": \"white\", \"ticks\": \"\"}, \"baxis\": {\"gridcolor\": \"white\", \"linecolor\": \"white\", \"ticks\": \"\"}, \"bgcolor\": \"#E5ECF6\", \"caxis\": {\"gridcolor\": \"white\", \"linecolor\": \"white\", \"ticks\": \"\"}}, \"title\": {\"x\": 0.05}, \"xaxis\": {\"automargin\": true, \"gridcolor\": \"white\", \"linecolor\": \"white\", \"ticks\": \"\", \"title\": {\"standoff\": 15}, \"zerolinecolor\": \"white\", \"zerolinewidth\": 2}, \"yaxis\": {\"automargin\": true, \"gridcolor\": \"white\", \"linecolor\": \"white\", \"ticks\": \"\", \"title\": {\"standoff\": 15}, \"zerolinecolor\": \"white\", \"zerolinewidth\": 2}}}, \"title\": {\"text\": \"A scatter plot of our synthetic movie revenue vs budget data (in millions)\"}},\n",
              "                        {\"responsive\": true}\n",
              "                    ).then(function(){\n",
              "                            \n",
              "var gd = document.getElementById('9cebaf94-5115-4e71-ad1d-6719d8b5f2f9');\n",
              "var x = new MutationObserver(function (mutations, observer) {{\n",
              "        var display = window.getComputedStyle(gd).display;\n",
              "        if (!display || display === 'none') {{\n",
              "            console.log([gd, 'removed!']);\n",
              "            Plotly.purge(gd);\n",
              "            observer.disconnect();\n",
              "        }}\n",
              "}});\n",
              "\n",
              "// Listen for the removal of the full notebook cells\n",
              "var notebookContainer = gd.closest('#notebook-container');\n",
              "if (notebookContainer) {{\n",
              "    x.observe(notebookContainer, {childList: true});\n",
              "}}\n",
              "\n",
              "// Listen for the clearing of the current output cell\n",
              "var outputEl = gd.closest('.output');\n",
              "if (outputEl) {{\n",
              "    x.observe(outputEl, {childList: true});\n",
              "}}\n",
              "\n",
              "                        })\n",
              "                };\n",
              "                \n",
              "            </script>\n",
              "        </div>\n",
              "</body>\n",
              "</html>"
            ]
          },
          "metadata": {
            "tags": []
          }
        }
      ]
    },
    {
      "cell_type": "markdown",
      "metadata": {
        "id": "AiQ2a8BuiiMV"
      },
      "source": [
        "This looks pretty good! Recall that our true $m$ was 1.5 and our true $b$ was about 10, and we see that our model learned the values $m$ equal to about 1.488 and $b$ equal to 10.298. We can also inspect the plot and see that the line of best fit is pretty close to our data, although it could probably decrease the y-intercept $b$ value a little. "
      ]
    },
    {
      "cell_type": "markdown",
      "metadata": {
        "id": "-ZRhVzBfp6Fo"
      },
      "source": [
        "### Time to make predictions\n",
        "Once we've trained our model, we can use it to predict movie revenue based on movie budget. Let's try it out!"
      ]
    },
    {
      "cell_type": "code",
      "metadata": {
        "colab": {
          "base_uri": "https://localhost:8080/"
        },
        "id": "1Su7QKOKqQtp",
        "outputId": "b59baff9-590e-4199-8255-0cce7b824a83"
      },
      "source": [
        "### Using the trained model to make predictions ###\n",
        "print(f\"Predicts revenue when budget is 1 (in millions): ${round(model(torch.FloatTensor([1])).item(), 2)}\")\n",
        "print(f\"Predicts revenue when budget is 60 (in millions): ${round(model(torch.FloatTensor([60])).item(), 2)}\")\n"
      ],
      "execution_count": 12,
      "outputs": [
        {
          "output_type": "stream",
          "text": [
            "Predicts revenue when budget is 1 (in millions): $11.79\n",
            "Predicts revenue when budget is 60 (in millions): $99.58\n"
          ],
          "name": "stdout"
        }
      ]
    },
    {
      "cell_type": "markdown",
      "metadata": {
        "id": "EbCfrBOq2Cxf"
      },
      "source": [
        "## Challenge: Single Variable Regression\n",
        "Time to test our knowledge! \n",
        "\n",
        "Imagine that you are the producer for a comedy show at your school. We need you to use your knowledge of linear regression to make predictions as to the success of the show.\n"
      ]
    },
    {
      "cell_type": "markdown",
      "metadata": {
        "id": "yeqiUt2V2c4B"
      },
      "source": [
        "### Working through a linear regression\n",
        "The comedy show is trying to figure out how much money to spend on advertising in the student newspaper. The newspaper tells the show that:\n",
        "\n",
        "* For every two dollars spent on advertising, three students attend the show.\n",
        "* If no money is spent on advertising, 20 friends still attend the show.\n",
        "\n",
        "As the producer of the show, your goal is to write a linear regression function (model) called `attendance` that models the relationship between advertising and attendance expressed by the newspaper.\n",
        "\n",
        "Here's the function that generates our comdey dataset:\n"
      ]
    },
    {
      "cell_type": "code",
      "metadata": {
        "id": "Pum5O_NvtSfV"
      },
      "source": [
        "def generate_synthetic_comedy_dataset(n=50, true_m=1.5, true_b=10, random_noise=1.0):\n",
        "    \"\"\"\n",
        "    Generates a synthetic movie revenue vs budget dataset and returns\n",
        "    a dictionary with three key-value pairs:\n",
        "        * `x`: a list of x values\n",
        "        * `y`: a list of y values\n",
        "        * `true_m`: the true slope of our data\n",
        "        * `true_b`: the true y-intercept of our data\n",
        "    \"\"\"\n",
        "    # generate the list of numbers between 0 and n for x values (budget)\n",
        "    x = np.arange(n)\n",
        "\n",
        "    # generate the list of y values (revenue) corresponding to each x value (budget)\n",
        "    y = []\n",
        "    for xi in x:\n",
        "        noise = np.random.uniform(-random_noise, random_noise)\n",
        "        # the \"true\" function of our data\n",
        "        yi = true_m*xi + true_b + noise\n",
        "        y.append(yi)\n",
        "    y = np.array(y)\n",
        "\n",
        "    return {'x': x, 'y': y, 'true_m': true_m, 'true_b': true_b}\n",
        "\n",
        "comedy_ds = generate_synthetic_movie_revenue_dataset(100, 1.5, 20, 10)"
      ],
      "execution_count": 13,
      "outputs": []
    },
    {
      "cell_type": "markdown",
      "metadata": {
        "id": "NclxdZuIjKNO"
      },
      "source": [
        "As a first step, let's plot the comedy dataset (`comedy_ds`) to see if the data looks approximately linear. If it does, linear regression is probably approriate. "
      ]
    },
    {
      "cell_type": "code",
      "metadata": {
        "id": "E8LYQF2bj4It",
        "colab": {
          "base_uri": "https://localhost:8080/",
          "height": 542
        },
        "outputId": "e278efca-373f-4292-93f3-1c6a27035c46"
      },
      "source": [
        "# generate a larger dataset with 1500 movie budget and revenue samples and plot it\n",
        "regression_trace = trace_values(comedy_ds['x'], comedy_ds['y'], mode='markers', name=\"school comedy show attendance vs budget\")\n",
        "comedy_layout = layout(options={'title': \"School comedy show attendance vs budget\"})\n",
        "plot([regression_trace], comedy_layout)"
      ],
      "execution_count": 14,
      "outputs": [
        {
          "output_type": "display_data",
          "data": {
            "text/html": [
              "<html>\n",
              "<head><meta charset=\"utf-8\" /></head>\n",
              "<body>\n",
              "    <div>\n",
              "            <script src=\"https://cdnjs.cloudflare.com/ajax/libs/mathjax/2.7.5/MathJax.js?config=TeX-AMS-MML_SVG\"></script><script type=\"text/javascript\">if (window.MathJax) {MathJax.Hub.Config({SVG: {font: \"STIX-Web\"}});}</script>\n",
              "                <script type=\"text/javascript\">window.PlotlyConfig = {MathJaxConfig: 'local'};</script>\n",
              "        <script src=\"https://cdn.plot.ly/plotly-latest.min.js\"></script>    \n",
              "            <div id=\"de089e78-4f21-4dad-a98b-07098046801b\" class=\"plotly-graph-div\" style=\"height:525px; width:100%;\"></div>\n",
              "            <script type=\"text/javascript\">\n",
              "                \n",
              "                    window.PLOTLYENV=window.PLOTLYENV || {};\n",
              "                    \n",
              "                if (document.getElementById(\"de089e78-4f21-4dad-a98b-07098046801b\")) {\n",
              "                    Plotly.newPlot(\n",
              "                        'de089e78-4f21-4dad-a98b-07098046801b',\n",
              "                        [{\"mode\": \"markers\", \"name\": \"school comedy show attendance vs budget\", \"text\": [], \"type\": \"scatter\", \"x\": [0, 1, 2, 3, 4, 5, 6, 7, 8, 9, 10, 11, 12, 13, 14, 15, 16, 17, 18, 19, 20, 21, 22, 23, 24, 25, 26, 27, 28, 29, 30, 31, 32, 33, 34, 35, 36, 37, 38, 39, 40, 41, 42, 43, 44, 45, 46, 47, 48, 49, 50, 51, 52, 53, 54, 55, 56, 57, 58, 59, 60, 61, 62, 63, 64, 65, 66, 67, 68, 69, 70, 71, 72, 73, 74, 75, 76, 77, 78, 79, 80, 81, 82, 83, 84, 85, 86, 87, 88, 89, 90, 91, 92, 93, 94, 95, 96, 97, 98, 99], \"y\": [20.85282573066984, -7.66992202562394, 18.345929397051016, 24.452155301544472, 15.940280492103618, 6.491865821233906, 6.92251459038496, 30.92122848795835, 8.764433462501419, 7.033592566960412, 32.41439273471189, 44.63573384779746, 8.15793065311658, 29.987690535431064, 43.50483846608454, 37.001042673175526, 42.87021269727198, 27.175042726825325, 53.71096490051774, 47.08303133590762, 41.70177472045045, 27.186801904061078, 37.93363040205877, 51.465344602653815, 43.67332697691984, 44.86055973333175, 53.71067913877269, 51.02552970217563, 58.015887277258685, 57.54155813618178, 67.20892787330986, 57.36588609574537, 74.34595523234674, 52.26944355954181, 44.618373970836295, 54.52800226544814, 48.55937447454199, 78.64725305230706, 48.87585277556999, 73.5514859324557, 71.90344623676974, 84.27147982680275, 60.95790158715249, 88.77401209830933, 70.06610557728351, 87.68590766119429, 70.83846827518715, 95.85745918244746, 75.02046551328995, 70.10063590876594, 80.7011697578635, 70.23841498234601, 100.84422631347714, 75.54608078570256, 86.36457794768799, 110.27042848955205, 113.50501899607488, 93.75218188379137, 110.0449137537096, 88.55496536828238, 103.89486592923538, 117.6132704132651, 104.38231795207261, 108.10805451941692, 87.57127068901549, 101.78727034538144, 92.18452360623857, 102.71839673371272, 105.22877247928528, 124.45321184842383, 96.59836834759909, 113.67968713726553, 110.59707487370753, 124.9596457227018, 114.85388600320132, 104.22389424819977, 139.19660698071664, 136.02962348574724, 142.12386570899434, 125.20036575357068, 134.22310257575026, 132.03866509633153, 136.91346591851894, 124.98862644527802, 128.0348523576283, 118.51599128200425, 131.1225024260414, 130.1830350161411, 144.30312754650578, 146.1202807955267, 144.00528989660202, 138.21191905158037, 130.57004242779297, 168.6527658303057, 144.58831374551454, 152.30194523529818, 173.08322903690726, 153.13095299602665, 149.73091221915806, 159.2918794350152]}],\n",
              "                        {\"template\": {\"data\": {\"bar\": [{\"error_x\": {\"color\": \"#2a3f5f\"}, \"error_y\": {\"color\": \"#2a3f5f\"}, \"marker\": {\"line\": {\"color\": \"#E5ECF6\", \"width\": 0.5}}, \"type\": \"bar\"}], \"barpolar\": [{\"marker\": {\"line\": {\"color\": \"#E5ECF6\", \"width\": 0.5}}, \"type\": \"barpolar\"}], \"carpet\": [{\"aaxis\": {\"endlinecolor\": \"#2a3f5f\", \"gridcolor\": \"white\", \"linecolor\": \"white\", \"minorgridcolor\": \"white\", \"startlinecolor\": \"#2a3f5f\"}, \"baxis\": {\"endlinecolor\": \"#2a3f5f\", \"gridcolor\": \"white\", \"linecolor\": \"white\", \"minorgridcolor\": \"white\", \"startlinecolor\": \"#2a3f5f\"}, \"type\": \"carpet\"}], \"choropleth\": [{\"colorbar\": {\"outlinewidth\": 0, \"ticks\": \"\"}, \"type\": \"choropleth\"}], \"contour\": [{\"colorbar\": {\"outlinewidth\": 0, \"ticks\": \"\"}, \"colorscale\": [[0.0, \"#0d0887\"], [0.1111111111111111, \"#46039f\"], [0.2222222222222222, \"#7201a8\"], [0.3333333333333333, \"#9c179e\"], [0.4444444444444444, \"#bd3786\"], [0.5555555555555556, \"#d8576b\"], [0.6666666666666666, \"#ed7953\"], [0.7777777777777778, \"#fb9f3a\"], [0.8888888888888888, \"#fdca26\"], [1.0, \"#f0f921\"]], \"type\": \"contour\"}], \"contourcarpet\": [{\"colorbar\": {\"outlinewidth\": 0, \"ticks\": \"\"}, \"type\": \"contourcarpet\"}], \"heatmap\": [{\"colorbar\": {\"outlinewidth\": 0, \"ticks\": \"\"}, \"colorscale\": [[0.0, \"#0d0887\"], [0.1111111111111111, \"#46039f\"], [0.2222222222222222, \"#7201a8\"], [0.3333333333333333, \"#9c179e\"], [0.4444444444444444, \"#bd3786\"], [0.5555555555555556, \"#d8576b\"], [0.6666666666666666, \"#ed7953\"], [0.7777777777777778, \"#fb9f3a\"], [0.8888888888888888, \"#fdca26\"], [1.0, \"#f0f921\"]], \"type\": \"heatmap\"}], \"heatmapgl\": [{\"colorbar\": {\"outlinewidth\": 0, \"ticks\": \"\"}, \"colorscale\": [[0.0, \"#0d0887\"], [0.1111111111111111, \"#46039f\"], [0.2222222222222222, \"#7201a8\"], [0.3333333333333333, \"#9c179e\"], [0.4444444444444444, \"#bd3786\"], [0.5555555555555556, \"#d8576b\"], [0.6666666666666666, \"#ed7953\"], [0.7777777777777778, \"#fb9f3a\"], [0.8888888888888888, \"#fdca26\"], [1.0, \"#f0f921\"]], \"type\": \"heatmapgl\"}], \"histogram\": [{\"marker\": {\"colorbar\": {\"outlinewidth\": 0, \"ticks\": \"\"}}, \"type\": \"histogram\"}], \"histogram2d\": [{\"colorbar\": {\"outlinewidth\": 0, \"ticks\": \"\"}, \"colorscale\": [[0.0, \"#0d0887\"], [0.1111111111111111, \"#46039f\"], [0.2222222222222222, \"#7201a8\"], [0.3333333333333333, \"#9c179e\"], [0.4444444444444444, \"#bd3786\"], [0.5555555555555556, \"#d8576b\"], [0.6666666666666666, \"#ed7953\"], [0.7777777777777778, \"#fb9f3a\"], [0.8888888888888888, \"#fdca26\"], [1.0, \"#f0f921\"]], \"type\": \"histogram2d\"}], \"histogram2dcontour\": [{\"colorbar\": {\"outlinewidth\": 0, \"ticks\": \"\"}, \"colorscale\": [[0.0, \"#0d0887\"], [0.1111111111111111, \"#46039f\"], [0.2222222222222222, \"#7201a8\"], [0.3333333333333333, \"#9c179e\"], [0.4444444444444444, \"#bd3786\"], [0.5555555555555556, \"#d8576b\"], [0.6666666666666666, \"#ed7953\"], [0.7777777777777778, \"#fb9f3a\"], [0.8888888888888888, \"#fdca26\"], [1.0, \"#f0f921\"]], \"type\": \"histogram2dcontour\"}], \"mesh3d\": [{\"colorbar\": {\"outlinewidth\": 0, \"ticks\": \"\"}, \"type\": \"mesh3d\"}], \"parcoords\": [{\"line\": {\"colorbar\": {\"outlinewidth\": 0, \"ticks\": \"\"}}, \"type\": \"parcoords\"}], \"pie\": [{\"automargin\": true, \"type\": \"pie\"}], \"scatter\": [{\"marker\": {\"colorbar\": {\"outlinewidth\": 0, \"ticks\": \"\"}}, \"type\": \"scatter\"}], \"scatter3d\": [{\"line\": {\"colorbar\": {\"outlinewidth\": 0, \"ticks\": \"\"}}, \"marker\": {\"colorbar\": {\"outlinewidth\": 0, \"ticks\": \"\"}}, \"type\": \"scatter3d\"}], \"scattercarpet\": [{\"marker\": {\"colorbar\": {\"outlinewidth\": 0, \"ticks\": \"\"}}, \"type\": \"scattercarpet\"}], \"scattergeo\": [{\"marker\": {\"colorbar\": {\"outlinewidth\": 0, \"ticks\": \"\"}}, \"type\": \"scattergeo\"}], \"scattergl\": [{\"marker\": {\"colorbar\": {\"outlinewidth\": 0, \"ticks\": \"\"}}, \"type\": \"scattergl\"}], \"scattermapbox\": [{\"marker\": {\"colorbar\": {\"outlinewidth\": 0, \"ticks\": \"\"}}, \"type\": \"scattermapbox\"}], \"scatterpolar\": [{\"marker\": {\"colorbar\": {\"outlinewidth\": 0, \"ticks\": \"\"}}, \"type\": \"scatterpolar\"}], \"scatterpolargl\": [{\"marker\": {\"colorbar\": {\"outlinewidth\": 0, \"ticks\": \"\"}}, \"type\": \"scatterpolargl\"}], \"scatterternary\": [{\"marker\": {\"colorbar\": {\"outlinewidth\": 0, \"ticks\": \"\"}}, \"type\": \"scatterternary\"}], \"surface\": [{\"colorbar\": {\"outlinewidth\": 0, \"ticks\": \"\"}, \"colorscale\": [[0.0, \"#0d0887\"], [0.1111111111111111, \"#46039f\"], [0.2222222222222222, \"#7201a8\"], [0.3333333333333333, \"#9c179e\"], [0.4444444444444444, \"#bd3786\"], [0.5555555555555556, \"#d8576b\"], [0.6666666666666666, \"#ed7953\"], [0.7777777777777778, \"#fb9f3a\"], [0.8888888888888888, \"#fdca26\"], [1.0, \"#f0f921\"]], \"type\": \"surface\"}], \"table\": [{\"cells\": {\"fill\": {\"color\": \"#EBF0F8\"}, \"line\": {\"color\": \"white\"}}, \"header\": {\"fill\": {\"color\": \"#C8D4E3\"}, \"line\": {\"color\": \"white\"}}, \"type\": \"table\"}]}, \"layout\": {\"annotationdefaults\": {\"arrowcolor\": \"#2a3f5f\", \"arrowhead\": 0, \"arrowwidth\": 1}, \"coloraxis\": {\"colorbar\": {\"outlinewidth\": 0, \"ticks\": \"\"}}, \"colorscale\": {\"diverging\": [[0, \"#8e0152\"], [0.1, \"#c51b7d\"], [0.2, \"#de77ae\"], [0.3, \"#f1b6da\"], [0.4, \"#fde0ef\"], [0.5, \"#f7f7f7\"], [0.6, \"#e6f5d0\"], [0.7, \"#b8e186\"], [0.8, \"#7fbc41\"], [0.9, \"#4d9221\"], [1, \"#276419\"]], \"sequential\": [[0.0, \"#0d0887\"], [0.1111111111111111, \"#46039f\"], [0.2222222222222222, \"#7201a8\"], [0.3333333333333333, \"#9c179e\"], [0.4444444444444444, \"#bd3786\"], [0.5555555555555556, \"#d8576b\"], [0.6666666666666666, \"#ed7953\"], [0.7777777777777778, \"#fb9f3a\"], [0.8888888888888888, \"#fdca26\"], [1.0, \"#f0f921\"]], \"sequentialminus\": [[0.0, \"#0d0887\"], [0.1111111111111111, \"#46039f\"], [0.2222222222222222, \"#7201a8\"], [0.3333333333333333, \"#9c179e\"], [0.4444444444444444, \"#bd3786\"], [0.5555555555555556, \"#d8576b\"], [0.6666666666666666, \"#ed7953\"], [0.7777777777777778, \"#fb9f3a\"], [0.8888888888888888, \"#fdca26\"], [1.0, \"#f0f921\"]]}, \"colorway\": [\"#636efa\", \"#EF553B\", \"#00cc96\", \"#ab63fa\", \"#FFA15A\", \"#19d3f3\", \"#FF6692\", \"#B6E880\", \"#FF97FF\", \"#FECB52\"], \"font\": {\"color\": \"#2a3f5f\"}, \"geo\": {\"bgcolor\": \"white\", \"lakecolor\": \"white\", \"landcolor\": \"#E5ECF6\", \"showlakes\": true, \"showland\": true, \"subunitcolor\": \"white\"}, \"hoverlabel\": {\"align\": \"left\"}, \"hovermode\": \"closest\", \"mapbox\": {\"style\": \"light\"}, \"paper_bgcolor\": \"white\", \"plot_bgcolor\": \"#E5ECF6\", \"polar\": {\"angularaxis\": {\"gridcolor\": \"white\", \"linecolor\": \"white\", \"ticks\": \"\"}, \"bgcolor\": \"#E5ECF6\", \"radialaxis\": {\"gridcolor\": \"white\", \"linecolor\": \"white\", \"ticks\": \"\"}}, \"scene\": {\"xaxis\": {\"backgroundcolor\": \"#E5ECF6\", \"gridcolor\": \"white\", \"gridwidth\": 2, \"linecolor\": \"white\", \"showbackground\": true, \"ticks\": \"\", \"zerolinecolor\": \"white\"}, \"yaxis\": {\"backgroundcolor\": \"#E5ECF6\", \"gridcolor\": \"white\", \"gridwidth\": 2, \"linecolor\": \"white\", \"showbackground\": true, \"ticks\": \"\", \"zerolinecolor\": \"white\"}, \"zaxis\": {\"backgroundcolor\": \"#E5ECF6\", \"gridcolor\": \"white\", \"gridwidth\": 2, \"linecolor\": \"white\", \"showbackground\": true, \"ticks\": \"\", \"zerolinecolor\": \"white\"}}, \"shapedefaults\": {\"line\": {\"color\": \"#2a3f5f\"}}, \"ternary\": {\"aaxis\": {\"gridcolor\": \"white\", \"linecolor\": \"white\", \"ticks\": \"\"}, \"baxis\": {\"gridcolor\": \"white\", \"linecolor\": \"white\", \"ticks\": \"\"}, \"bgcolor\": \"#E5ECF6\", \"caxis\": {\"gridcolor\": \"white\", \"linecolor\": \"white\", \"ticks\": \"\"}}, \"title\": {\"x\": 0.05}, \"xaxis\": {\"automargin\": true, \"gridcolor\": \"white\", \"linecolor\": \"white\", \"ticks\": \"\", \"title\": {\"standoff\": 15}, \"zerolinecolor\": \"white\", \"zerolinewidth\": 2}, \"yaxis\": {\"automargin\": true, \"gridcolor\": \"white\", \"linecolor\": \"white\", \"ticks\": \"\", \"title\": {\"standoff\": 15}, \"zerolinecolor\": \"white\", \"zerolinewidth\": 2}}}, \"title\": {\"text\": \"School comedy show attendance vs budget\"}},\n",
              "                        {\"responsive\": true}\n",
              "                    ).then(function(){\n",
              "                            \n",
              "var gd = document.getElementById('de089e78-4f21-4dad-a98b-07098046801b');\n",
              "var x = new MutationObserver(function (mutations, observer) {{\n",
              "        var display = window.getComputedStyle(gd).display;\n",
              "        if (!display || display === 'none') {{\n",
              "            console.log([gd, 'removed!']);\n",
              "            Plotly.purge(gd);\n",
              "            observer.disconnect();\n",
              "        }}\n",
              "}});\n",
              "\n",
              "// Listen for the removal of the full notebook cells\n",
              "var notebookContainer = gd.closest('#notebook-container');\n",
              "if (notebookContainer) {{\n",
              "    x.observe(notebookContainer, {childList: true});\n",
              "}}\n",
              "\n",
              "// Listen for the clearing of the current output cell\n",
              "var outputEl = gd.closest('.output');\n",
              "if (outputEl) {{\n",
              "    x.observe(outputEl, {childList: true});\n",
              "}}\n",
              "\n",
              "                        })\n",
              "                };\n",
              "                \n",
              "            </script>\n",
              "        </div>\n",
              "</body>\n",
              "</html>"
            ]
          },
          "metadata": {
            "tags": []
          }
        }
      ]
    },
    {
      "cell_type": "markdown",
      "metadata": {
        "id": "ykEOxDlEuNWE"
      },
      "source": [
        "It looks like show attendance is a function of budget in our comedy show data! Now, try writing the code to model attendance based on budget!\n",
        "\n",
        "> Hint it's similar to the linear regression code we wrote earlier. A good place to start might be defining your function (model) `attendance`."
      ]
    },
    {
      "cell_type": "code",
      "metadata": {
        "id": "LkDX69Di1zHL"
      },
      "source": [
        "def attendance(x):\n",
        "    \"\"\"\n",
        "    A function (i.e., f(x)) that returns the expected show attendance based on\n",
        "    money spent advertising in the school newspaper.\n",
        "    \"\"\"\n",
        "    # your code here\n",
        "\n"
      ],
      "execution_count": 15,
      "outputs": []
    },
    {
      "cell_type": "markdown",
      "metadata": {
        "id": "DOFM26ufEOnT"
      },
      "source": [
        "# Expanding to Deep Learning\n",
        "Now that we have built several linear regression models, it's probably a good time to show you a few examples of what more complex machine learning models can do. \n",
        "\n",
        "Check these awesome examples out:\n",
        "\n",
        "* [Music Generation](https://openai.com/blog/musenet/)\n",
        "* [Generating images from text](https://openai.com/blog/dall-e/)\n",
        "* [Text Generation and Summarization](https://openai.com/blog/better-language-models/)\n"
      ]
    }
  ]
}