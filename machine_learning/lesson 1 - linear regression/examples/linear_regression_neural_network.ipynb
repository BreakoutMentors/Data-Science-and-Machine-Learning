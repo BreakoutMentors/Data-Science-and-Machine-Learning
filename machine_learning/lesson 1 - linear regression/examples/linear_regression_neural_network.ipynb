{
  "nbformat": 4,
  "nbformat_minor": 0,
  "metadata": {
    "kernelspec": {
      "display_name": "Python 3",
      "language": "python",
      "name": "python3"
    },
    "language_info": {
      "codemirror_mode": {
        "name": "ipython",
        "version": 3
      },
      "file_extension": ".py",
      "mimetype": "text/x-python",
      "name": "python",
      "nbconvert_exporter": "python",
      "pygments_lexer": "ipython3",
      "version": "3.8.0"
    },
    "colab": {
      "name": "linear_regression_neural_network.ipynb",
      "provenance": [],
      "collapsed_sections": [],
      "include_colab_link": true
    }
  },
  "cells": [
    {
      "cell_type": "markdown",
      "metadata": {
        "id": "view-in-github",
        "colab_type": "text"
      },
      "source": [
        "<a href=\"https://colab.research.google.com/github/BreakoutMentors/Data-Science-and-Machine-Learning/blob/main/machine_learning/lesson%201%20-%20linear%20regression/examples/linear_regression_neural_network.ipynb\" target=\"_parent\"><img src=\"https://colab.research.google.com/assets/colab-badge.svg\" alt=\"Open In Colab\"/></a>"
      ]
    },
    {
      "cell_type": "markdown",
      "metadata": {
        "id": "8Oqr9_R8I1nX"
      },
      "source": [
        "> Note: Always open in Colab for the best learning experience."
      ]
    },
    {
      "cell_type": "markdown",
      "metadata": {
        "id": "fgtcQi5cPcFU"
      },
      "source": [
        "# Regression\n",
        "<figure>\n",
        "<img src='https://media.makeameme.org/created/brace-yourself-regression-599599.jpg' width='50%' height='50%'></img>\n",
        "</figure>\n",
        "\n",
        "\n",
        "Perhaps the most natural machine learning task to wrap our heads around is *regression*--a set of methods for modeling the relationship between one or more independent variables (i.e., $x$) and a dependent variable (i.e., $y$). Regression problems pop up whenever we want to output a *numeric* value. \n",
        "\n",
        "Most applications of regression fall into one of the following two broad categories:\n",
        "- *inference* - to explain the relationship between the inputs and outputs (most common).\n",
        "- *prediction* - to predict numeric outputs given inputs (most common in machine learning). \n",
        "\n",
        "A few everyday examples of regression include predicting prices (of homes, stocks, etc.), predicting length of stay (for patients in the hospital), and demand forecasting (for retail sales). "
      ]
    },
    {
      "cell_type": "markdown",
      "metadata": {
        "id": "UoeVWX-5j7Gt"
      },
      "source": [
        "## Linear Regression\n",
        "<figure>\n",
        "<img src='https://learningstatisticswithr.com/book/lsr_files/figure-html/regression1a-1.png' width='60%'></img>\n",
        "</figure>\n",
        "\n",
        "\n",
        "*Linear regression* is probably the simplest and most popular regression method. It is called \"linear\" regression because we **assume** that the relationship between the independent variables $x$ and the dependent variable  $y$ is linear--that is, $y$ can be expressed as a *weighted sum* of the elements in $x$, plus some *noise* in the data. In mathematical terms this can be expressed as: $$y = wx + b$$\n",
        "where $w$ represents the learnable *weights* and $b$ the *bias* (i.e., you may recognize it as the *intercept*). The weights determine the influence of each feature on the prediction and the bias tells us what the predicted value would be if all the features $x$ values were 0. Given features of a training dataset  $X$  and corresponding (known) labels  $y$ , the goal of linear regression is to find the weight vector $w$  and the bias term  $b$  that given features of a new data sample from the dataset  $X$, the sample's label will (in expectation) be predicted with the lowest *error*.\n",
        "\n",
        "To motivate the linear regression approach, suppose that we wish to estimate the prices of houses (in dollars) based on their area (in square feet). To actually fit a model for *predicting* house prices, we need to get our hands on a dataset consisting of sales for which we know the sale price and area for each home. In machine learning terminology, the dataset is called a *training dataset* or *training set*, and each row (the data corresponding to one sale) is called a *sample*. The thing we are trying to predict (price) is called a *label* (or *target*). The independent variables (only one in this case--area), upon which the predictions are based, are called *features*. \n",
        "\n",
        "Generally, we will use  $n$  to denote the total number of samples in our dataset. We index a sample by $i$, denoting each sample as  $x^{(i)}=[x^{(i)}_{1}]^{⊤}$  ($x^{(i)}_{1}$ represents the area) and the corresponding label as $y^{(i)}$.\n"
      ]
    },
    {
      "cell_type": "markdown",
      "metadata": {
        "id": "_lV-loKm6kLV"
      },
      "source": [
        "## Linear Model\n"
      ]
    },
    {
      "cell_type": "markdown",
      "metadata": {
        "id": "mM4R7LoM6kJo"
      },
      "source": [
        "To make the above linear regression formula more concrete, let's translate it to our house prices example: \n",
        "$$\\text{price} = w_{\\text{area}}\\cdot{area} + b $$\n",
        "where $w_{\\text{area}}$ is the learnable *weight* and $b$ is the *bias* (or *intercept*).\n",
        "\n",
        "The goal is to choose the weight  $w$  and the bias  $b$  such that on average, the predictions made according to our model *best fit* the true prices observed in the data. \n",
        "\n",
        "Before we can go about searching for the best *parameters*  $w$  and  $b$, we will need two more things: (i) a way to measure the quality of the model; and (ii) a procedure for updating the model parameters to improve its accuracy."
      ]
    },
    {
      "cell_type": "markdown",
      "metadata": {
        "id": "LTuHWKk3loN6"
      },
      "source": [
        "# Loss Function\n",
        "\n",
        "Before we build our model, we need to determine a measure of fitness. The *loss function* quantifies the distance between the *true* and *predicted* value of the *target*. The loss will usually be a non-negative number where smaller values are better and perfect predictions incur a loss of  0 . The most popular loss function in regression problems is the *sum of squared errors* (SSE). When our prediction for an example  $i$  is  $\\hat{y}^{(i)}$  and the corresponding true label is  $y^{(i)}$ , the squared error is given by:\n",
        "$$\n",
        "l^{(i)}(\\mathbf{w}, b) = \\frac{1}{2} \\left(\\hat{y}^{(i)} - y^{(i)}\\right)^2.\n",
        "$$\n",
        "\n",
        "The constant  1/2  makes no real difference but makes some future math more convenient, cancelling out when we take the *derivative* of the loss (don't worry if you don't know about derivatives yet). To make things more concrete, consider the example above where we plot a regression problem, the blue line corresponds to the prediction vs true value. \n",
        "\n",
        "To measure the quality of a model on the entire dataset, we simply *average* (or equivalently, sum) the losses on the training set.\n",
        "\n",
        "$$\n",
        "L(\\mathbf{w}, b) =\\frac{1}{n}\\sum_{i=1}^n l^{(i)}(\\mathbf{w}, b) =\\frac{1}{n} \\sum_{i=1}^n \\frac{1}{2}\\left(\\mathbf{w}^\\top \\mathbf{x}^{(i)} + b - y^{(i)}\\right)^2.\n",
        "$$\n",
        "\n",
        "When training the model, we want to find parameters ( $w^{∗}$,$b^{∗}$ ) that minimize the total loss across all training examples:\n",
        "\n",
        "$$\n",
        "\\mathbf{w}^*, b^* = \\operatorname*{argmin}_{\\mathbf{w}, b}\\  L(\\mathbf{w}, b).\n",
        "$$\n",
        "\n",
        "But how do actualy find the best parameters to minimize the total loss? We'll use *gradient descent*--a fundemental concept in modern machine learning, particularly *deep learning*.\n"
      ]
    },
    {
      "cell_type": "markdown",
      "metadata": {
        "id": "pHW5a943sDqk"
      },
      "source": [
        "# Gradient Descent\n",
        "\n",
        "<figure>\n",
        "<img src='https://media0.giphy.com/media/O9rcZVmRcEGqI/source.gif' width='100%'></img><figcaption>Gradient descent: finding the best model parameters</figcaption>\n",
        "</figure>\n",
        "\n",
        "The key technique for optimizing nearly any deep learning model, and we can use for linear models too, consists of *iteratively* reducing the error by updating the parameters in the *direction* that incrementally *lowers* the loss function. This algorithm is called *gradient descent*. In general, we can find acceptable parameter values after many interations of reducing the loss.\n",
        "\n",
        "The most naive application of gradient descent consists of taking the derivative of the true loss, which is an average of the losses computed on every single example in the dataset. In practice, this can be extremely slow. We must pass over the entire dataset before making a single update. Thus, we will often settle for sampling a random *batch* of samples every time we need to compute the update, this method is called *stochastic gradient descent*.\n",
        "\n",
        "\n",
        "At a high level, the *stochastic gradient descent* method consists of feeding a random batch of samples to the model, computing the derivative (gradient) of the average loss with respect to the batch samples and the model's current parameter values. Finally, we update the model parameters by multiplying the gradient by a predetermined value called the *learning rate* $ > 0$ and substract the resulting output from the current parameter values.  \n",
        "\n",
        "Let's summarize the steps of *stochastic gradient descent*: \n",
        "1. We initialize the values of the model parameters, typically with random values.\n",
        "2. We iteratively sample random batches from the data (many times), updating the parameters in the direction of the negative gradient.\n",
        "3. After many iterations, we hope that the estimated model parameters ($\\hat{w}, \\hat{b}$, the \"hat\" symbol denotes estimates) can produce acceptable predictions (close enough to the true values).\n",
        "\n",
        "Linear regression can actually be solved using a simpler method than stochastic gradient descent, but the stochastic gradient descent algorithm is so fundemental to deep learning that we will use it for linear regression too. \n"
      ]
    },
    {
      "cell_type": "markdown",
      "metadata": {
        "id": "OFv_ek5F8b1D"
      },
      "source": [
        "# Linear Regression: Can a country's level of education improve life expectancy?\n",
        "Now let's apply the linear regression method to a real-world problem--predicting life expectancy given features corresponding to a country's education system. To fit a model, the process involves several steps: \n",
        "\n",
        "1. Find a dataset related to our question. \n",
        "2. Explore the dataset - clean the data and visualize it (if possible).\n",
        "3. Prepare data for a *model*.\n",
        "4. Build a model. \n",
        "5. Train the model using an algorithm such as stochastic gradient descent.\n",
        "6. Evaluate the quality of our model.\n",
        "7. Draw conclusions. \n",
        "\n",
        "For step 1, we found a dataset detailing [Life Expectancy(WHO)](https://www.kaggle.com/kumarajarshi/life-expectancy-who) in different countries in the world. The dataset contains information like alcohol intake, BMI, GDP, and schooling . Pretty cool right! Next, we explore the dataset and define our $x$ and $y$ variables. Then, we build a linear regression model. Following, we train the model using stochastic gradient descent. Finally we evaluate the model and draw conclusions."
      ]
    },
    {
      "cell_type": "code",
      "metadata": {
        "id": "6QeOZ9rN8b1E"
      },
      "source": [
        "# import the libraries we be need\n",
        "import pandas as pd\n",
        "import numpy as np\n",
        "import matplotlib\n",
        "import matplotlib.pyplot as plt\n",
        "\n",
        "# PyTorch\n",
        "import torch\n",
        "import torch.nn as nn"
      ],
      "execution_count": null,
      "outputs": []
    },
    {
      "cell_type": "markdown",
      "metadata": {
        "id": "AA78zSFaOlje"
      },
      "source": [
        "## 1. Explore + Visualize the dataset"
      ]
    },
    {
      "cell_type": "code",
      "metadata": {
        "id": "Kmr-AHsN8b1J",
        "colab": {
          "base_uri": "https://localhost:8080/",
          "height": 275
        },
        "outputId": "11bcdd1c-5db0-4c20-e878-29bb838a353b"
      },
      "source": [
        "# load the dataset into a dataframe\n",
        "data_url = 'https://raw.githubusercontent.com/BreakoutMentors/Data-Science-and-Machine-Learning/main/datasets/Life%20Expectancy%20Data.csv'\n",
        "df = pd.read_csv(data_url)\n",
        "df.columns = [col_name.strip() for col_name in df.columns] # used to fix weird spaces in the column names\n",
        "df.head() # view the first 5 rows of the data"
      ],
      "execution_count": null,
      "outputs": [
        {
          "output_type": "execute_result",
          "data": {
            "text/html": [
              "<div>\n",
              "<style scoped>\n",
              "    .dataframe tbody tr th:only-of-type {\n",
              "        vertical-align: middle;\n",
              "    }\n",
              "\n",
              "    .dataframe tbody tr th {\n",
              "        vertical-align: top;\n",
              "    }\n",
              "\n",
              "    .dataframe thead th {\n",
              "        text-align: right;\n",
              "    }\n",
              "</style>\n",
              "<table border=\"1\" class=\"dataframe\">\n",
              "  <thead>\n",
              "    <tr style=\"text-align: right;\">\n",
              "      <th></th>\n",
              "      <th>Country</th>\n",
              "      <th>Year</th>\n",
              "      <th>Status</th>\n",
              "      <th>Life expectancy</th>\n",
              "      <th>Adult Mortality</th>\n",
              "      <th>infant deaths</th>\n",
              "      <th>Alcohol</th>\n",
              "      <th>percentage expenditure</th>\n",
              "      <th>Hepatitis B</th>\n",
              "      <th>Measles</th>\n",
              "      <th>BMI</th>\n",
              "      <th>under-five deaths</th>\n",
              "      <th>Polio</th>\n",
              "      <th>Total expenditure</th>\n",
              "      <th>Diphtheria</th>\n",
              "      <th>HIV/AIDS</th>\n",
              "      <th>GDP</th>\n",
              "      <th>Population</th>\n",
              "      <th>thinness  1-19 years</th>\n",
              "      <th>thinness 5-9 years</th>\n",
              "      <th>Income composition of resources</th>\n",
              "      <th>Schooling</th>\n",
              "    </tr>\n",
              "  </thead>\n",
              "  <tbody>\n",
              "    <tr>\n",
              "      <th>0</th>\n",
              "      <td>Afghanistan</td>\n",
              "      <td>2015</td>\n",
              "      <td>Developing</td>\n",
              "      <td>65.0</td>\n",
              "      <td>263.0</td>\n",
              "      <td>62</td>\n",
              "      <td>0.01</td>\n",
              "      <td>71.279624</td>\n",
              "      <td>65.0</td>\n",
              "      <td>1154</td>\n",
              "      <td>19.1</td>\n",
              "      <td>83</td>\n",
              "      <td>6.0</td>\n",
              "      <td>8.16</td>\n",
              "      <td>65.0</td>\n",
              "      <td>0.1</td>\n",
              "      <td>584.259210</td>\n",
              "      <td>33736494.0</td>\n",
              "      <td>17.2</td>\n",
              "      <td>17.3</td>\n",
              "      <td>0.479</td>\n",
              "      <td>10.1</td>\n",
              "    </tr>\n",
              "    <tr>\n",
              "      <th>1</th>\n",
              "      <td>Afghanistan</td>\n",
              "      <td>2014</td>\n",
              "      <td>Developing</td>\n",
              "      <td>59.9</td>\n",
              "      <td>271.0</td>\n",
              "      <td>64</td>\n",
              "      <td>0.01</td>\n",
              "      <td>73.523582</td>\n",
              "      <td>62.0</td>\n",
              "      <td>492</td>\n",
              "      <td>18.6</td>\n",
              "      <td>86</td>\n",
              "      <td>58.0</td>\n",
              "      <td>8.18</td>\n",
              "      <td>62.0</td>\n",
              "      <td>0.1</td>\n",
              "      <td>612.696514</td>\n",
              "      <td>327582.0</td>\n",
              "      <td>17.5</td>\n",
              "      <td>17.5</td>\n",
              "      <td>0.476</td>\n",
              "      <td>10.0</td>\n",
              "    </tr>\n",
              "    <tr>\n",
              "      <th>2</th>\n",
              "      <td>Afghanistan</td>\n",
              "      <td>2013</td>\n",
              "      <td>Developing</td>\n",
              "      <td>59.9</td>\n",
              "      <td>268.0</td>\n",
              "      <td>66</td>\n",
              "      <td>0.01</td>\n",
              "      <td>73.219243</td>\n",
              "      <td>64.0</td>\n",
              "      <td>430</td>\n",
              "      <td>18.1</td>\n",
              "      <td>89</td>\n",
              "      <td>62.0</td>\n",
              "      <td>8.13</td>\n",
              "      <td>64.0</td>\n",
              "      <td>0.1</td>\n",
              "      <td>631.744976</td>\n",
              "      <td>31731688.0</td>\n",
              "      <td>17.7</td>\n",
              "      <td>17.7</td>\n",
              "      <td>0.470</td>\n",
              "      <td>9.9</td>\n",
              "    </tr>\n",
              "    <tr>\n",
              "      <th>3</th>\n",
              "      <td>Afghanistan</td>\n",
              "      <td>2012</td>\n",
              "      <td>Developing</td>\n",
              "      <td>59.5</td>\n",
              "      <td>272.0</td>\n",
              "      <td>69</td>\n",
              "      <td>0.01</td>\n",
              "      <td>78.184215</td>\n",
              "      <td>67.0</td>\n",
              "      <td>2787</td>\n",
              "      <td>17.6</td>\n",
              "      <td>93</td>\n",
              "      <td>67.0</td>\n",
              "      <td>8.52</td>\n",
              "      <td>67.0</td>\n",
              "      <td>0.1</td>\n",
              "      <td>669.959000</td>\n",
              "      <td>3696958.0</td>\n",
              "      <td>17.9</td>\n",
              "      <td>18.0</td>\n",
              "      <td>0.463</td>\n",
              "      <td>9.8</td>\n",
              "    </tr>\n",
              "    <tr>\n",
              "      <th>4</th>\n",
              "      <td>Afghanistan</td>\n",
              "      <td>2011</td>\n",
              "      <td>Developing</td>\n",
              "      <td>59.2</td>\n",
              "      <td>275.0</td>\n",
              "      <td>71</td>\n",
              "      <td>0.01</td>\n",
              "      <td>7.097109</td>\n",
              "      <td>68.0</td>\n",
              "      <td>3013</td>\n",
              "      <td>17.2</td>\n",
              "      <td>97</td>\n",
              "      <td>68.0</td>\n",
              "      <td>7.87</td>\n",
              "      <td>68.0</td>\n",
              "      <td>0.1</td>\n",
              "      <td>63.537231</td>\n",
              "      <td>2978599.0</td>\n",
              "      <td>18.2</td>\n",
              "      <td>18.2</td>\n",
              "      <td>0.454</td>\n",
              "      <td>9.5</td>\n",
              "    </tr>\n",
              "  </tbody>\n",
              "</table>\n",
              "</div>"
            ],
            "text/plain": [
              "       Country  Year  ... Income composition of resources  Schooling\n",
              "0  Afghanistan  2015  ...                           0.479       10.1\n",
              "1  Afghanistan  2014  ...                           0.476       10.0\n",
              "2  Afghanistan  2013  ...                           0.470        9.9\n",
              "3  Afghanistan  2012  ...                           0.463        9.8\n",
              "4  Afghanistan  2011  ...                           0.454        9.5\n",
              "\n",
              "[5 rows x 22 columns]"
            ]
          },
          "metadata": {
            "tags": []
          },
          "execution_count": 2
        }
      ]
    },
    {
      "cell_type": "code",
      "metadata": {
        "id": "Da2arfDeOvX_",
        "colab": {
          "base_uri": "https://localhost:8080/"
        },
        "outputId": "e3c37693-9145-4679-9ad8-0af9136f7c2d"
      },
      "source": [
        "# how many rows and columns are in the dataset\n",
        "df.shape # looks like 2938 rows and 22 columns"
      ],
      "execution_count": null,
      "outputs": [
        {
          "output_type": "execute_result",
          "data": {
            "text/plain": [
              "(2938, 22)"
            ]
          },
          "metadata": {
            "tags": []
          },
          "execution_count": 3
        }
      ]
    },
    {
      "cell_type": "code",
      "metadata": {
        "id": "VQXvyqba3kwQ",
        "colab": {
          "base_uri": "https://localhost:8080/",
          "height": 279
        },
        "outputId": "773e81bb-be40-4357-8934-ba428c9c27ed"
      },
      "source": [
        "# visualize a scatter plot of Schooling and Life expectancy\n",
        "df.plot.scatter(x='Schooling', y='Life expectancy');"
      ],
      "execution_count": null,
      "outputs": [
        {
          "output_type": "display_data",
          "data": {
            "image/png": "[encoded data removed]",
            "text/plain": [
              "<Figure size 432x288 with 1 Axes>"
            ]
          },
          "metadata": {
            "tags": [],
            "needs_background": "light"
          }
        }
      ]
    },
    {
      "cell_type": "markdown",
      "metadata": {
        "id": "qy1530ik8b1T"
      },
      "source": [
        "The relationship between number of years of schooling and life expectancy seems relatively linear. Let's build a linear model to predict life expectancy using the number of years in schooling feature. Before we do, we need to prepare the training and test dataset our model will use. Especially, we see here that there are data points that have 0 years of schooling that are different from others, these data points are called *outliers*.\n",
        "\n",
        "We will look at these outliers then delete it from the dataframe and any rows with missing values to build the linear model. This process of removing values of the dataset is called *cleaning* the data."
      ]
    },
    {
      "cell_type": "code",
      "metadata": {
        "colab": {
          "base_uri": "https://localhost:8080/"
        },
        "id": "yeTo_tqnUX_7",
        "outputId": "f8c19dd0-9bd5-40b7-959c-c89ecce24db0"
      },
      "source": [
        "# Looking at the countries with 0 years of schooling\n",
        "df.loc[df.Schooling == 0.0, 'Country'].value_counts()"
      ],
      "execution_count": null,
      "outputs": [
        {
          "output_type": "execute_result",
          "data": {
            "text/plain": [
              "South Sudan                         11\n",
              "Antigua and Barbuda                  6\n",
              "Montenegro                           4\n",
              "Bosnia and Herzegovina               1\n",
              "Micronesia (Federated States of)     1\n",
              "Marshall Islands                     1\n",
              "Equatorial Guinea                    1\n",
              "Turkmenistan                         1\n",
              "Timor-Leste                          1\n",
              "Tuvalu                               1\n",
              "Name: Country, dtype: int64"
            ]
          },
          "metadata": {
            "tags": []
          },
          "execution_count": 5
        }
      ]
    },
    {
      "cell_type": "code",
      "metadata": {
        "colab": {
          "base_uri": "https://localhost:8080/",
          "height": 279
        },
        "id": "JgJNWIHBVi2a",
        "outputId": "fdbaa761-5050-440b-a09e-6d2766d3ab9a"
      },
      "source": [
        "# Removing those rows above with 0 years of schooling\n",
        "df = df.loc[df.Schooling > 0.0, :]\n",
        "\n",
        "# Removing rows that have missing values for the columns of schooling and life expectancy\n",
        "df = df.loc[~(df.Schooling.isna() | df['Life expectancy'].isna()), :]\n",
        "# Plotting the same plot again\n",
        "df.plot.scatter(x='Schooling', y='Life expectancy');"
      ],
      "execution_count": null,
      "outputs": [
        {
          "output_type": "display_data",
          "data": {
            "image/png": "[encoded data removed]",
            "text/plain": [
              "<Figure size 432x288 with 1 Axes>"
            ]
          },
          "metadata": {
            "tags": [],
            "needs_background": "light"
          }
        }
      ]
    },
    {
      "cell_type": "code",
      "metadata": {
        "colab": {
          "base_uri": "https://localhost:8080/"
        },
        "id": "n23oefstcACx",
        "outputId": "2556b134-969c-4c32-dabe-1b4c769887a3"
      },
      "source": [
        "df.info()"
      ],
      "execution_count": null,
      "outputs": [
        {
          "output_type": "stream",
          "text": [
            "<class 'pandas.core.frame.DataFrame'>\n",
            "Int64Index: 2742 entries, 0 to 2937\n",
            "Data columns (total 22 columns):\n",
            " #   Column                           Non-Null Count  Dtype  \n",
            "---  ------                           --------------  -----  \n",
            " 0   Country                          2742 non-null   object \n",
            " 1   Year                             2742 non-null   int64  \n",
            " 2   Status                           2742 non-null   object \n",
            " 3   Life expectancy                  2742 non-null   float64\n",
            " 4   Adult Mortality                  2742 non-null   float64\n",
            " 5   infant deaths                    2742 non-null   int64  \n",
            " 6   Alcohol                          2569 non-null   float64\n",
            " 7   percentage expenditure           2742 non-null   float64\n",
            " 8   Hepatitis B                      2253 non-null   float64\n",
            " 9   Measles                          2742 non-null   int64  \n",
            " 10  BMI                              2721 non-null   float64\n",
            " 11  under-five deaths                2742 non-null   int64  \n",
            " 12  Polio                            2739 non-null   float64\n",
            " 13  Total expenditure                2567 non-null   float64\n",
            " 14  Diphtheria                       2739 non-null   float64\n",
            " 15  HIV/AIDS                         2742 non-null   float64\n",
            " 16  GDP                              2465 non-null   float64\n",
            " 17  Population                       2265 non-null   float64\n",
            " 18  thinness  1-19 years             2721 non-null   float64\n",
            " 19  thinness 5-9 years               2721 non-null   float64\n",
            " 20  Income composition of resources  2742 non-null   float64\n",
            " 21  Schooling                        2742 non-null   float64\n",
            "dtypes: float64(16), int64(4), object(2)\n",
            "memory usage: 492.7+ KB\n"
          ],
          "name": "stdout"
        }
      ]
    },
    {
      "cell_type": "markdown",
      "metadata": {
        "id": "dEf5NMjYkGCB"
      },
      "source": [
        "## Prepare the Dataset "
      ]
    },
    {
      "cell_type": "code",
      "metadata": {
        "id": "d_zSR0HP9CHq",
        "colab": {
          "base_uri": "https://localhost:8080/"
        },
        "outputId": "10efa2e4-205e-4025-810e-9c867faf9b64"
      },
      "source": [
        "# define the x and y variables \n",
        "x_col = 'Schooling'\n",
        "y_col = 'Life expectancy'\n",
        "\n",
        "# split the dataset into a training set and a test set.\n",
        "# we will use the test set in the final evaluation of our model.\n",
        "train = df.sample(frac=0.8, random_state=0)\n",
        "test = df.drop(train.index)\n",
        "\n",
        "# Splitting training data into validation data\n",
        "valid = train.sample(frac=0.1, random_state=0)\n",
        "train = train.drop(valid.index) # Deleting rows sampled for validation data\n",
        "\n",
        "# separate the x (features) and y (labels) in the train/valid/test datasets\n",
        "train_features = torch.tensor(train[x_col].values.reshape(-1, 1), dtype=torch.float)\n",
        "test_features = torch.tensor(test[x_col].values.reshape(-1, 1), dtype=torch.float)\n",
        "valid_features = torch.tensor(valid[x_col].values.reshape(-1, 1), dtype=torch.float)\n",
        "\n",
        "train_labels = torch.tensor(train[y_col].values.reshape(-1, 1), dtype=torch.float)\n",
        "test_labels = torch.tensor(test[y_col].values.reshape(-1, 1), dtype=torch.float)\n",
        "valid_labels = torch.tensor(valid[y_col].values.reshape(-1, 1), dtype=torch.float)\n",
        "\n",
        "print('train features shape:', train_features.shape)\n",
        "print('train labels shape:', train_labels.shape)\n",
        "\n",
        "print('validation features shape:', valid_features.shape)\n",
        "print('validation labels shape:', valid_labels.shape)\n",
        "\n",
        "print('test features shape:', test_features.shape)\n",
        "print('test labels shape:', test_labels.shape)\n",
        "\n",
        "print('first 5 test labels:\\n', test_labels[:5])"
      ],
      "execution_count": null,
      "outputs": [
        {
          "output_type": "stream",
          "text": [
            "train features shape: torch.Size([1975, 1])\n",
            "train labels shape: torch.Size([1975, 1])\n",
            "validation features shape: torch.Size([219, 1])\n",
            "validation labels shape: torch.Size([219, 1])\n",
            "test features shape: torch.Size([548, 1])\n",
            "test labels shape: torch.Size([548, 1])\n",
            "first 5 test labels:\n",
            " tensor([[65.0000],\n",
            "        [59.5000],\n",
            "        [58.1000],\n",
            "        [76.2000],\n",
            "        [75.9000]])\n"
          ],
          "name": "stdout"
        }
      ]
    },
    {
      "cell_type": "markdown",
      "metadata": {
        "id": "q5fnwk72hSBj"
      },
      "source": [
        "The above code returns a training, validation, and test datasets. The Schooling variable represents the  *features* data and the Life expectancy variable represents the *labels*. There are three datasets--a *training dataset*, a *validation dataset* and a *test dataset*. The `train_features` and `train_labels` arrays represent the features and labels of the training dataset, each containing 1978 rows and 1 column. The `valid_features` and `valid_labels` arrays represent the features and labels of the validation dataset, each containing 220 rows and 1 column.  The `test_features` and `test_labels` arrays represent the features and labels of the test dataset, each containing 549 rows and 1 column.  \n",
        "\n",
        "Now that we have the *features* and *labels* separated, we are ready to build our model!"
      ]
    },
    {
      "cell_type": "markdown",
      "metadata": {
        "id": "_Qod9zI2I4iw"
      },
      "source": [
        "## 2. Building a model\n",
        "\n",
        "Before we model the relationship between Schooling and Life expectancy, let's write what we know about single-variable linear regression. In short, single-variable linear regression tries to find a function that best fits our data (i.e., between an $x$ and $y$ variable). It is defined by the following formula: \n",
        "$$\n",
        "y = wx + b\n",
        "$$\n",
        "\n",
        "We can translate this function to our problem to model the relationship between Schooling ($x$) and Life expectancy ($y$) as follows:\n",
        "\n",
        "$$ \n",
        "\\text{Life Expectancy} = w_{\\text{Schooling}} \\cdot \\text{Schooling} + b\n",
        "$$"
      ]
    },
    {
      "cell_type": "markdown",
      "metadata": {
        "id": "YlaNcYLMJz9n"
      },
      "source": [
        "Coding linear regression from scratch can be tedious: we'd need to manually define the parameters (weights and bias), compute gradients, and update the parameters. Fortunately, there are amazing open source libraries we can use to make this process a bit easier.\n",
        "\n",
        "We'll be using [PyTorch](https://pytorch.org/), a Deep Learning library to build and evaluate our linear regression model in the form of neural network. We will create our own `LR_Model` class to define a container for the *layers* of our model. There are two sections to the class, the constructor and the forward method. The constructor is used define the layers, we use using `nn.Linear` class to define those layers. The `forward` method is used to take your input and then you pass that input through your layers to return an output. We don't really need to use this model structure for linear regression (as you saw last lesson). Nonetheless, nearly every model we build in this series will be similar to this lesson so we will use it from here on out.\n"
      ]
    },
    {
      "cell_type": "code",
      "metadata": {
        "id": "jNFNhNUAtBhi",
        "colab": {
          "base_uri": "https://localhost:8080/"
        },
        "outputId": "7918d143-58a3-4d50-d899-3d4bd23b8abe"
      },
      "source": [
        "# build the linear model \n",
        "class LR_Model(nn.Module):\n",
        "    # Defining Constructor\n",
        "    def __init__(self):\n",
        "        super(LR_Model, self).__init__()\n",
        "\n",
        "        # Defining Layers\n",
        "        self.fc1 = nn.Linear(1, 1)\n",
        "\n",
        "    def forward(self, x):\n",
        "        return self.fc1(x)\n",
        "\n",
        "# Initializing model\n",
        "model = LR_Model()\n",
        "\n",
        "print('Model Summary')\n",
        "print(model)"
      ],
      "execution_count": null,
      "outputs": [
        {
          "output_type": "stream",
          "text": [
            "Model Summary\n",
            "LR_Model(\n",
            "  (fc1): Linear(in_features=1, out_features=1, bias=True)\n",
            ")\n"
          ],
          "name": "stdout"
        }
      ]
    },
    {
      "cell_type": "markdown",
      "metadata": {
        "id": "J4JD6_eLv3IX"
      },
      "source": [
        "<!-- TODO: fix figure to one node -->\n",
        "<figure>\n",
        "<img src='https://d2l.ai/_images/singleneuron.svg' width='50%'></img><figcaption>Linear Regression: a single-layer neural network</figcaption>\n",
        "</figure>\n",
        "\n",
        "The model we defined above is a linear model, we could also call it a single-layer *fully-connected* neural network. We defined it using the [`torch.nn.Linear`](https://pytorch.org/docs/stable/generated/torch.nn.Linear.html#torch.nn.Linear) class. Note that we passed two arguments into the `torch.nn.Linear` class. The first one specifies the input feature dimension, which is 1 (GDP per capita), and the second one is the output feature dimension, which is a single scalar and therefore 1. "
      ]
    },
    {
      "cell_type": "markdown",
      "metadata": {
        "id": "lrLfbaRI5Dbk"
      },
      "source": [
        "### Loss Function\n",
        "\n",
        "After defining the model, we need to configure the *loss function*. We will use the mean squared loss, which returns the averaged loss over samples. Here we use PyTorch built-in Mean Squared Error loss function defined as the class [torch.nn.MSELoss](https://pytorch.org/docs/stable/generated/torch.nn.MSELoss.html#torch.nn.MSELoss)."
      ]
    },
    {
      "cell_type": "code",
      "metadata": {
        "id": "JyPXRk6j1ErK"
      },
      "source": [
        "loss_fn = nn.MSELoss()"
      ],
      "execution_count": null,
      "outputs": []
    },
    {
      "cell_type": "markdown",
      "metadata": {
        "id": "ZrT8n3sg2jMf"
      },
      "source": [
        "### Optimization Algorithm\n",
        "Now that we have a loss function, we need to define an *opimization algorithm*. Specifically, we will use *stochastic gradient descent* to optimize our model. In other words, we use *stochastic gradient descent* to update the model parameters. We also define the *learning rate* as 0.01. We use [`torch.optim.SGD`](https://pytorch.org/docs/stable/optim.html#torch.optim.SGD) class to be used as the optimizer."
      ]
    },
    {
      "cell_type": "code",
      "metadata": {
        "id": "4k1zwXU53RX9"
      },
      "source": [
        "optimizer = torch.optim.SGD(model.parameters(), lr=0.001)"
      ],
      "execution_count": null,
      "outputs": []
    },
    {
      "cell_type": "markdown",
      "metadata": {
        "id": "B9EvNw5L5m66"
      },
      "source": [
        "## 4. Train the model\n",
        "Now that we have a model, it's time to train it. We will train the model for 100 *epochs* (i.e., iterations), and record the training losses and validation losses for every epoch."
      ]
    },
    {
      "cell_type": "code",
      "metadata": {
        "id": "LL64Vo7K6eNS"
      },
      "source": [
        "epochs = 100\n",
        "train_losses = []\n",
        "valid_losses = []\n",
        "for epoch in range(1, epochs+1):\n",
        "\n",
        "    ###################\n",
        "    # train the model #\n",
        "    ###################\n",
        "\n",
        "    # Setting model to train mode\n",
        "    model.train()\n",
        "    \n",
        "    # Setting all gradients to zero\n",
        "    optimizer.zero_grad()\n",
        "\n",
        "    # Calculate Output\n",
        "    train_predictions = model(train_features)\n",
        "        \n",
        "    # Calculate Loss\n",
        "    train_loss = loss_fn(train_predictions, train_labels)\n",
        "\n",
        "    # Calculate Gradients\n",
        "    train_loss.backward()\n",
        "\n",
        "    # Perform Gradient Descent Step\n",
        "    optimizer.step()\n",
        "\n",
        "    ######################    \n",
        "    # validate the model #\n",
        "    ######################\n",
        "\n",
        "    # Setting model to evaluation mode, no parameters will change\n",
        "    model.eval()\n",
        "\n",
        "    # Calculate Output\n",
        "    valid_predictions = model(valid_features)\n",
        "\n",
        "    # Calculate Loss\n",
        "    valid_loss = loss_fn(valid_predictions, valid_labels)\n",
        "\n",
        "    # Saving Losses\n",
        "    train_losses.append(train_loss)\n",
        "    valid_losses.append(valid_loss)\n",
        "\n",
        "\n",
        "    print('Epoch: {} \\tTraining Loss: {:.6f} \\tValidation Loss: {:.6f}'.format(epoch, train_loss, valid_loss))"
      ],
      "execution_count": null,
      "outputs": []
    },
    {
      "cell_type": "markdown",
      "metadata": {
        "id": "-xv6IaPv8FcV"
      },
      "source": [
        "We get to ~170 validation mean squared error after training for 100 epochs on the training dataset. Let's check the model's training progress by looking at a plot of the validation loss.\n",
        "\n"
      ]
    },
    {
      "cell_type": "markdown",
      "metadata": {
        "id": "tQSZuns88fhs"
      },
      "source": [
        "Let's visualize it too."
      ]
    },
    {
      "cell_type": "code",
      "metadata": {
        "id": "DuNpvE5C8eOr",
        "colab": {
          "base_uri": "https://localhost:8080/",
          "height": 295
        },
        "outputId": "51ade313-593b-432c-8f9e-99bd18b39158"
      },
      "source": [
        "plt.plot(valid_losses)\n",
        "plt.xlabel('epoch')\n",
        "plt.ylabel('Mean Squared Error')\n",
        "plt.title('Validation Loss')\n",
        "plt.show()"
      ],
      "execution_count": null,
      "outputs": [
        {
          "output_type": "display_data",
          "data": {
            "image/png": "[encoded data removed]",
            "text/plain": [
              "<Figure size 432x288 with 1 Axes>"
            ]
          },
          "metadata": {
            "tags": [],
            "needs_background": "light"
          }
        }
      ]
    },
    {
      "cell_type": "markdown",
      "metadata": {
        "id": "NDqDbYQc-b1m"
      },
      "source": [
        "From the plot we can see that our model *converged* just before the 10th epoch. In other words, the most optimal parameters (weights and bias)were found after 10 training iterations. "
      ]
    },
    {
      "cell_type": "markdown",
      "metadata": {
        "id": "de62RpCv_ion"
      },
      "source": [
        "## 5. Evaluate the model\n",
        "Now that we trained our model, it's time to evaluate it by using the *test* dataset, which we did not use when training the model. This gives us a sense of how well our model predicts unseen data, which is the case when we use it in the real world. We will use the `evaluate` method to test the model. "
      ]
    },
    {
      "cell_type": "code",
      "metadata": {
        "id": "qn9i35lI_h6L",
        "colab": {
          "base_uri": "https://localhost:8080/"
        },
        "outputId": "3a668465-77dd-4387-a882-51172bb59511"
      },
      "source": [
        "# Setting model to evaluation mode\n",
        "model.eval()\n",
        "\n",
        "# Getting Predictions\n",
        "test_predictions = model(test_features)\n",
        "\n",
        "# Calculating loss, which is the Mean Squared Error\n",
        "loss = loss_fn(test_predictions, test_labels)\n",
        "\n",
        "print('Test set Mean Squared Error: ', round(loss.item(), 4))"
      ],
      "execution_count": null,
      "outputs": [
        {
          "output_type": "stream",
          "text": [
            "Test set Mean Squared Error:  128.0218\n"
          ],
          "name": "stdout"
        }
      ]
    },
    {
      "cell_type": "markdown",
      "metadata": {
        "id": "-Oex24IXB8Ku"
      },
      "source": [
        "The mean squared error is around ~133 for the testind data. Is this good? We'll leave that decision up to you. Let's also visualize the prediction and real life expectancy values using data in the test set."
      ]
    },
    {
      "cell_type": "code",
      "metadata": {
        "id": "hfYGBlJOCgkf",
        "colab": {
          "base_uri": "https://localhost:8080/",
          "height": 283
        },
        "outputId": "43bfdd90-729e-4ac4-df83-0ce9a7502574"
      },
      "source": [
        "# Flattening test predictions\n",
        "test_predictions = test_predictions.flatten().detach().numpy()\n",
        "\n",
        "# Getting higher boundary\n",
        "if max(test_labels) < max(train_labels):\n",
        "    higher_boundary_lim = int(max(train_labels))\n",
        "else:\n",
        "    higher_boundary_lim = int(max(test_labels))\n",
        "\n",
        "ax = plt.axes(aspect='equal')\n",
        "plt.scatter(test_labels, test_predictions)\n",
        "plt.xlabel('True Values [Life Expectancy]')\n",
        "plt.ylabel('Predictions [Life Expectancy]')\n",
        "\n",
        "lims = [0, higher_boundary_lim + 1] # [0, 90]\n",
        "plt.xlim(lims)\n",
        "plt.ylim(lims)\n",
        "_ = plt.plot(lims, lims)"
      ],
      "execution_count": null,
      "outputs": [
        {
          "output_type": "display_data",
          "data": {
            "image/png": "[encoded data removed]",
            "text/plain": [
              "<Figure size 432x288 with 1 Axes>"
            ]
          },
          "metadata": {
            "tags": [],
            "needs_background": "light"
          }
        }
      ]
    },
    {
      "cell_type": "markdown",
      "metadata": {
        "id": "f5c_PyRzDdL9"
      },
      "source": [
        "It looks like our model predicts reasonably well but it could be better. Let's take a look at the error distribution."
      ]
    },
    {
      "cell_type": "code",
      "metadata": {
        "id": "40XijR03DrET",
        "colab": {
          "base_uri": "https://localhost:8080/",
          "height": 279
        },
        "outputId": "7e20d4d0-7126-4987-d6c4-86dc98ce039c"
      },
      "source": [
        "error = test_predictions - test_labels.flatten().detach().numpy()\n",
        "plt.hist(error, bins = 10)\n",
        "plt.xlabel(\"Prediction Error [Life Expectancy]\")\n",
        "_ = plt.ylabel(\"Count\")"
      ],
      "execution_count": null,
      "outputs": [
        {
          "output_type": "display_data",
          "data": {
            "image/png": "[encoded data removed]",
            "text/plain": [
              "<Figure size 432x288 with 1 Axes>"
            ]
          },
          "metadata": {
            "tags": [],
            "needs_background": "light"
          }
        }
      ]
    },
    {
      "cell_type": "markdown",
      "metadata": {
        "id": "Ij1MDhAbEpZ6"
      },
      "source": [
        "The histogram shows that the errors are *Normally distributed* (also called *gaussian*)."
      ]
    },
    {
      "cell_type": "markdown",
      "metadata": {
        "id": "vd6RuVz5FDZM"
      },
      "source": [
        "## 6. Draw Conclusions\n",
        "We built a single-layer fully-connected neural network model to predict life expectancy given a country's education system. The model converged after about 10 epochs of training, and it achieved a test mean squared error of ~130 We expect that a *deeper* model or more data samples or features could lead to better results on unseen data.     "
      ]
    },
    {
      "cell_type": "markdown",
      "metadata": {
        "id": "wTQXVOX3GITZ"
      },
      "source": [
        "# Summary\n",
        "In this lesson we took a deeper dive into regression, translating traditional linear  regression into a single-layer fully-connected neural network. We covered several important techniques to handle regression problems:\n",
        "- Introduced *loss functions* and *optimization algorithms*.\n",
        "- Demonstrated preparing data for a model.\n",
        "- Used PyTorch to build and train a model. \n",
        "- Showed how to evaluate a model."
      ]
    },
    {
      "cell_type": "code",
      "metadata": {
        "id": "UCOUYOD8VExr"
      },
      "source": [
        ""
      ],
      "execution_count": null,
      "outputs": []
    }
  ]
}
