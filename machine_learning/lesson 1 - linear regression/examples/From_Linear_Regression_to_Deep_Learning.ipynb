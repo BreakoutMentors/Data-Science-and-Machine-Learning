{
  "nbformat": 4,
  "nbformat_minor": 0,
  "metadata": {
    "colab": {
      "name": "From Linear Regression to Deep Learning.ipynb",
      "provenance": [],
      "collapsed_sections": [],
      "include_colab_link": true
    },
    "kernelspec": {
      "name": "python3",
      "display_name": "Python 3"
    }
  },
  "cells": [
    {
      "cell_type": "markdown",
      "metadata": {
        "id": "view-in-github",
        "colab_type": "text"
      },
      "source": [
        "<a href=\"https://colab.research.google.com/github/krmiddlebrook/intro_to_deep_learning/blob/master/machine_learning/lesson%201%20-%20linear%20regression/examples/From_Linear_Regression_to_Deep_Learning.ipynb\" target=\"_parent\"><img src=\"https://colab.research.google.com/assets/colab-badge.svg\" alt=\"Open In Colab\"/></a>"
      ]
    },
    {
      "cell_type": "markdown",
      "metadata": {
        "id": "OsdT6CWpcq64"
      },
      "source": [
        "# Learning Objectives\n",
        "\n",
        "\n",
        "* Understand how regression lines can help us make predictions about data\n",
        "* Understand how the components of slope and y-intercept determine the output of a regression line\n",
        "* Understand how to represent a line as a function.\n",
        "* Introduce Deep Learning\n",
        "\n"
      ]
    },
    {
      "cell_type": "markdown",
      "metadata": {
        "id": "C9Nm1RZOvgE7"
      },
      "source": [
        "### Import Python Libraries"
      ]
    },
    {
      "cell_type": "code",
      "metadata": {
        "id": "7Z65vkmagshv"
      },
      "source": [
        "from pprint import pprint\n",
        "import torch\n",
        "import torch.optim as optim\n",
        "import pandas as pd\n",
        "import numpy as np\n",
        "import plotly\n",
        "\n",
        "\n",
        "def trace(data, mode = 'markers', name=\"data\"):\n",
        "    x_values = list(map(lambda point: point['x'],data))\n",
        "    y_values = list(map(lambda point: point['y'],data))\n",
        "    return {'x': x_values, 'y': y_values, 'mode': mode, 'name': name}\n",
        "\n",
        "\n",
        "def trace_values(x_values, y_values, mode = 'markers', name=\"data\", text_values = []):\n",
        "    return {'x': x_values, 'y': y_values, 'mode': mode, 'name': name, 'text': text_values}\n",
        "\n",
        "\n",
        "def m_b_data(m, b, x_values):\n",
        "    \"\"\"\n",
        "    A function that returns a dict with two keys: \n",
        "        1) x, which points to a list of x_values, and\n",
        "        2) y, which points to a list of y_values,\n",
        "    each y value is the expected output of a regression line for the given\n",
        "    m, b, and x values. \n",
        "\n",
        "    Example. Given m=1.5, b=20, x_values=[0, 50, 100] our function should\n",
        "    return:\n",
        "        {'x': [0, 50, 100], 'y': [20.0, 95.0, 170.0]}\n",
        "    \"\"\"\n",
        "    data = {'x': x_values}\n",
        "    y_values = []\n",
        "    for xi in x_values:\n",
        "        # compute yi, the expected y value given the value of m, b, and xi.\n",
        "        # yi = your code here\n",
        "        yi = xi*m + b\n",
        "        # add yi to the y_values list\n",
        "        y_values.append(yi)\n",
        "    \n",
        "    # add the 'y' key pointing to the y_values list to the data dictionary\n",
        "    data['y'] = y_values\n",
        "\n",
        "    # return the data dictionary with the x and y keys and values.\n",
        "    return data\n",
        "\n",
        "\n",
        "def m_b_trace(m, b, x_values, mode = 'lines', name = 'line function'):\n",
        "    \"\"\"\n",
        "    A function that uses our m_b_data function to return a dictionary that \n",
        "    includes keys of 'name' and 'mode' in addition to 'x' and 'y'. The values \n",
        "    of 'mode' and 'name' are provided as arguments. When the mode argument is \n",
        "    not provided, it has a default value of 'lines' and when name is not \n",
        "    provided, it has a default value of 'line function'.\n",
        "\n",
        "    Example. Given m=1.5, b=20, and x_values=[0,50,100] this function returns:\n",
        "        {'mode': 'line', 'name': 'line function', 'x': [0, 50, 100], 'y': [20.0, 95.0, 170.0]}\n",
        "    \"\"\"\n",
        "    data = m_b_data(m, b, x_values)\n",
        "    return {'mode': mode, 'name': name, 'x': data['x'], 'y': data['y']}\n",
        "\n",
        "\n",
        "def layout(x_range = None, y_range = None, options = {}):\n",
        "    layout = {}\n",
        "    if isinstance(x_range, list): layout.update({'xaxis': {'range': x_range}})\n",
        "    if isinstance(y_range, list): layout.update({'yaxis': {'range': y_range}})\n",
        "    layout.update(options)\n",
        "    return layout\n",
        "\n",
        "\n",
        "def plot(traces = [], layout = {}):\n",
        "    if not isinstance(traces, list): raise TypeError('first argument must be a list.  Instead is', traces)\n",
        "    plotly.offline.iplot({'data': traces, 'layout': layout})"
      ],
      "execution_count": 2,
      "outputs": []
    },
    {
      "cell_type": "markdown",
      "metadata": {
        "id": "R--iB8nfdevv"
      },
      "source": [
        "# Single Variable Regression\n",
        "\n",
        "## Making money: predicting movie revenue from movie budget \n",
        "Imagine we are hired as a consultant for a movie executive. The movie executive receives a budget proposal, and wants to know how much money the movie might make. We can help her by building a model of the relationship between the money spent on a movie and money made.\n",
        "\n"
      ]
    },
    {
      "cell_type": "markdown",
      "metadata": {
        "id": "IkMlqoruff8r"
      },
      "source": [
        "### Representing linear regression graphically\n",
        "To predict movie revenue based on a budget, let's draw a single straight line that represents the relationship between how much a movie costs and how much it makes:"
      ]
    },
    {
      "cell_type": "code",
      "metadata": {
        "colab": {
          "base_uri": "https://localhost:8080/",
          "height": 542
        },
        "id": "7f9hoMeOcasE",
        "outputId": "84f0116c-85a8-463a-f053-1b91dadaf546"
      },
      "source": [
        "movie_budgets = [0, 25, 50, 75] # x\n",
        "movie_revenues = [0, 50, 100, 150] # y\n",
        "regression_trace = trace_values(movie_budgets, movie_revenues, mode='lines', name='estimated revenue')\n",
        "movie_layout = layout(options={'title': 'Movie Budget and Revenue (in millions)'})\n",
        "plot([regression_trace], movie_layout)"
      ],
      "execution_count": null,
      "outputs": [
        {
          "output_type": "display_data",
          "data": {
            "text/html": [
              "<html>\n",
              "<head><meta charset=\"utf-8\" /></head>\n",
              "<body>\n",
              "    <div>\n",
              "            <script src=\"https://cdnjs.cloudflare.com/ajax/libs/mathjax/2.7.5/MathJax.js?config=TeX-AMS-MML_SVG\"></script><script type=\"text/javascript\">if (window.MathJax) {MathJax.Hub.Config({SVG: {font: \"STIX-Web\"}});}</script>\n",
              "                <script type=\"text/javascript\">window.PlotlyConfig = {MathJaxConfig: 'local'};</script>\n",
              "        <script src=\"https://cdn.plot.ly/plotly-latest.min.js\"></script>    \n",
              "            <div id=\"ecde32b5-14cb-4ffe-bd43-905bbf8136b6\" class=\"plotly-graph-div\" style=\"height:525px; width:100%;\"></div>\n",
              "            <script type=\"text/javascript\">\n",
              "                \n",
              "                    window.PLOTLYENV=window.PLOTLYENV || {};\n",
              "                    \n",
              "                if (document.getElementById(\"ecde32b5-14cb-4ffe-bd43-905bbf8136b6\")) {\n",
              "                    Plotly.newPlot(\n",
              "                        'ecde32b5-14cb-4ffe-bd43-905bbf8136b6',\n",
              "                        [{\"mode\": \"lines\", \"name\": \"estimated revenue\", \"text\": [], \"type\": \"scatter\", \"x\": [0, 25, 50, 75], \"y\": [0, 50, 100, 150]}],\n",
              "                        {\"template\": {\"data\": {\"bar\": [{\"error_x\": {\"color\": \"#2a3f5f\"}, \"error_y\": {\"color\": \"#2a3f5f\"}, \"marker\": {\"line\": {\"color\": \"#E5ECF6\", \"width\": 0.5}}, \"type\": \"bar\"}], \"barpolar\": [{\"marker\": {\"line\": {\"color\": \"#E5ECF6\", \"width\": 0.5}}, \"type\": \"barpolar\"}], \"carpet\": [{\"aaxis\": {\"endlinecolor\": \"#2a3f5f\", \"gridcolor\": \"white\", \"linecolor\": \"white\", \"minorgridcolor\": \"white\", \"startlinecolor\": \"#2a3f5f\"}, \"baxis\": {\"endlinecolor\": \"#2a3f5f\", \"gridcolor\": \"white\", \"linecolor\": \"white\", \"minorgridcolor\": \"white\", \"startlinecolor\": \"#2a3f5f\"}, \"type\": \"carpet\"}], \"choropleth\": [{\"colorbar\": {\"outlinewidth\": 0, \"ticks\": \"\"}, \"type\": \"choropleth\"}], \"contour\": [{\"colorbar\": {\"outlinewidth\": 0, \"ticks\": \"\"}, \"colorscale\": [[0.0, \"#0d0887\"], [0.1111111111111111, \"#46039f\"], [0.2222222222222222, \"#7201a8\"], [0.3333333333333333, \"#9c179e\"], [0.4444444444444444, \"#bd3786\"], [0.5555555555555556, \"#d8576b\"], [0.6666666666666666, \"#ed7953\"], [0.7777777777777778, \"#fb9f3a\"], [0.8888888888888888, \"#fdca26\"], [1.0, \"#f0f921\"]], \"type\": \"contour\"}], \"contourcarpet\": [{\"colorbar\": {\"outlinewidth\": 0, \"ticks\": \"\"}, \"type\": \"contourcarpet\"}], \"heatmap\": [{\"colorbar\": {\"outlinewidth\": 0, \"ticks\": \"\"}, \"colorscale\": [[0.0, \"#0d0887\"], [0.1111111111111111, \"#46039f\"], [0.2222222222222222, \"#7201a8\"], [0.3333333333333333, \"#9c179e\"], [0.4444444444444444, \"#bd3786\"], [0.5555555555555556, \"#d8576b\"], [0.6666666666666666, \"#ed7953\"], [0.7777777777777778, \"#fb9f3a\"], [0.8888888888888888, \"#fdca26\"], [1.0, \"#f0f921\"]], \"type\": \"heatmap\"}], \"heatmapgl\": [{\"colorbar\": {\"outlinewidth\": 0, \"ticks\": \"\"}, \"colorscale\": [[0.0, \"#0d0887\"], [0.1111111111111111, \"#46039f\"], [0.2222222222222222, \"#7201a8\"], [0.3333333333333333, \"#9c179e\"], [0.4444444444444444, \"#bd3786\"], [0.5555555555555556, \"#d8576b\"], [0.6666666666666666, \"#ed7953\"], [0.7777777777777778, \"#fb9f3a\"], [0.8888888888888888, \"#fdca26\"], [1.0, \"#f0f921\"]], \"type\": \"heatmapgl\"}], \"histogram\": [{\"marker\": {\"colorbar\": {\"outlinewidth\": 0, \"ticks\": \"\"}}, \"type\": \"histogram\"}], \"histogram2d\": [{\"colorbar\": {\"outlinewidth\": 0, \"ticks\": \"\"}, \"colorscale\": [[0.0, \"#0d0887\"], [0.1111111111111111, \"#46039f\"], [0.2222222222222222, \"#7201a8\"], [0.3333333333333333, \"#9c179e\"], [0.4444444444444444, \"#bd3786\"], [0.5555555555555556, \"#d8576b\"], [0.6666666666666666, \"#ed7953\"], [0.7777777777777778, \"#fb9f3a\"], [0.8888888888888888, \"#fdca26\"], [1.0, \"#f0f921\"]], \"type\": \"histogram2d\"}], \"histogram2dcontour\": [{\"colorbar\": {\"outlinewidth\": 0, \"ticks\": \"\"}, \"colorscale\": [[0.0, \"#0d0887\"], [0.1111111111111111, \"#46039f\"], [0.2222222222222222, \"#7201a8\"], [0.3333333333333333, \"#9c179e\"], [0.4444444444444444, \"#bd3786\"], [0.5555555555555556, \"#d8576b\"], [0.6666666666666666, \"#ed7953\"], [0.7777777777777778, \"#fb9f3a\"], [0.8888888888888888, \"#fdca26\"], [1.0, \"#f0f921\"]], \"type\": \"histogram2dcontour\"}], \"mesh3d\": [{\"colorbar\": {\"outlinewidth\": 0, \"ticks\": \"\"}, \"type\": \"mesh3d\"}], \"parcoords\": [{\"line\": {\"colorbar\": {\"outlinewidth\": 0, \"ticks\": \"\"}}, \"type\": \"parcoords\"}], \"pie\": [{\"automargin\": true, \"type\": \"pie\"}], \"scatter\": [{\"marker\": {\"colorbar\": {\"outlinewidth\": 0, \"ticks\": \"\"}}, \"type\": \"scatter\"}], \"scatter3d\": [{\"line\": {\"colorbar\": {\"outlinewidth\": 0, \"ticks\": \"\"}}, \"marker\": {\"colorbar\": {\"outlinewidth\": 0, \"ticks\": \"\"}}, \"type\": \"scatter3d\"}], \"scattercarpet\": [{\"marker\": {\"colorbar\": {\"outlinewidth\": 0, \"ticks\": \"\"}}, \"type\": \"scattercarpet\"}], \"scattergeo\": [{\"marker\": {\"colorbar\": {\"outlinewidth\": 0, \"ticks\": \"\"}}, \"type\": \"scattergeo\"}], \"scattergl\": [{\"marker\": {\"colorbar\": {\"outlinewidth\": 0, \"ticks\": \"\"}}, \"type\": \"scattergl\"}], \"scattermapbox\": [{\"marker\": {\"colorbar\": {\"outlinewidth\": 0, \"ticks\": \"\"}}, \"type\": \"scattermapbox\"}], \"scatterpolar\": [{\"marker\": {\"colorbar\": {\"outlinewidth\": 0, \"ticks\": \"\"}}, \"type\": \"scatterpolar\"}], \"scatterpolargl\": [{\"marker\": {\"colorbar\": {\"outlinewidth\": 0, \"ticks\": \"\"}}, \"type\": \"scatterpolargl\"}], \"scatterternary\": [{\"marker\": {\"colorbar\": {\"outlinewidth\": 0, \"ticks\": \"\"}}, \"type\": \"scatterternary\"}], \"surface\": [{\"colorbar\": {\"outlinewidth\": 0, \"ticks\": \"\"}, \"colorscale\": [[0.0, \"#0d0887\"], [0.1111111111111111, \"#46039f\"], [0.2222222222222222, \"#7201a8\"], [0.3333333333333333, \"#9c179e\"], [0.4444444444444444, \"#bd3786\"], [0.5555555555555556, \"#d8576b\"], [0.6666666666666666, \"#ed7953\"], [0.7777777777777778, \"#fb9f3a\"], [0.8888888888888888, \"#fdca26\"], [1.0, \"#f0f921\"]], \"type\": \"surface\"}], \"table\": [{\"cells\": {\"fill\": {\"color\": \"#EBF0F8\"}, \"line\": {\"color\": \"white\"}}, \"header\": {\"fill\": {\"color\": \"#C8D4E3\"}, \"line\": {\"color\": \"white\"}}, \"type\": \"table\"}]}, \"layout\": {\"annotationdefaults\": {\"arrowcolor\": \"#2a3f5f\", \"arrowhead\": 0, \"arrowwidth\": 1}, \"coloraxis\": {\"colorbar\": {\"outlinewidth\": 0, \"ticks\": \"\"}}, \"colorscale\": {\"diverging\": [[0, \"#8e0152\"], [0.1, \"#c51b7d\"], [0.2, \"#de77ae\"], [0.3, \"#f1b6da\"], [0.4, \"#fde0ef\"], [0.5, \"#f7f7f7\"], [0.6, \"#e6f5d0\"], [0.7, \"#b8e186\"], [0.8, \"#7fbc41\"], [0.9, \"#4d9221\"], [1, \"#276419\"]], \"sequential\": [[0.0, \"#0d0887\"], [0.1111111111111111, \"#46039f\"], [0.2222222222222222, \"#7201a8\"], [0.3333333333333333, \"#9c179e\"], [0.4444444444444444, \"#bd3786\"], [0.5555555555555556, \"#d8576b\"], [0.6666666666666666, \"#ed7953\"], [0.7777777777777778, \"#fb9f3a\"], [0.8888888888888888, \"#fdca26\"], [1.0, \"#f0f921\"]], \"sequentialminus\": [[0.0, \"#0d0887\"], [0.1111111111111111, \"#46039f\"], [0.2222222222222222, \"#7201a8\"], [0.3333333333333333, \"#9c179e\"], [0.4444444444444444, \"#bd3786\"], [0.5555555555555556, \"#d8576b\"], [0.6666666666666666, \"#ed7953\"], [0.7777777777777778, \"#fb9f3a\"], [0.8888888888888888, \"#fdca26\"], [1.0, \"#f0f921\"]]}, \"colorway\": [\"#636efa\", \"#EF553B\", \"#00cc96\", \"#ab63fa\", \"#FFA15A\", \"#19d3f3\", \"#FF6692\", \"#B6E880\", \"#FF97FF\", \"#FECB52\"], \"font\": {\"color\": \"#2a3f5f\"}, \"geo\": {\"bgcolor\": \"white\", \"lakecolor\": \"white\", \"landcolor\": \"#E5ECF6\", \"showlakes\": true, \"showland\": true, \"subunitcolor\": \"white\"}, \"hoverlabel\": {\"align\": \"left\"}, \"hovermode\": \"closest\", \"mapbox\": {\"style\": \"light\"}, \"paper_bgcolor\": \"white\", \"plot_bgcolor\": \"#E5ECF6\", \"polar\": {\"angularaxis\": {\"gridcolor\": \"white\", \"linecolor\": \"white\", \"ticks\": \"\"}, \"bgcolor\": \"#E5ECF6\", \"radialaxis\": {\"gridcolor\": \"white\", \"linecolor\": \"white\", \"ticks\": \"\"}}, \"scene\": {\"xaxis\": {\"backgroundcolor\": \"#E5ECF6\", \"gridcolor\": \"white\", \"gridwidth\": 2, \"linecolor\": \"white\", \"showbackground\": true, \"ticks\": \"\", \"zerolinecolor\": \"white\"}, \"yaxis\": {\"backgroundcolor\": \"#E5ECF6\", \"gridcolor\": \"white\", \"gridwidth\": 2, \"linecolor\": \"white\", \"showbackground\": true, \"ticks\": \"\", \"zerolinecolor\": \"white\"}, \"zaxis\": {\"backgroundcolor\": \"#E5ECF6\", \"gridcolor\": \"white\", \"gridwidth\": 2, \"linecolor\": \"white\", \"showbackground\": true, \"ticks\": \"\", \"zerolinecolor\": \"white\"}}, \"shapedefaults\": {\"line\": {\"color\": \"#2a3f5f\"}}, \"ternary\": {\"aaxis\": {\"gridcolor\": \"white\", \"linecolor\": \"white\", \"ticks\": \"\"}, \"baxis\": {\"gridcolor\": \"white\", \"linecolor\": \"white\", \"ticks\": \"\"}, \"bgcolor\": \"#E5ECF6\", \"caxis\": {\"gridcolor\": \"white\", \"linecolor\": \"white\", \"ticks\": \"\"}}, \"title\": {\"x\": 0.05}, \"xaxis\": {\"automargin\": true, \"gridcolor\": \"white\", \"linecolor\": \"white\", \"ticks\": \"\", \"title\": {\"standoff\": 15}, \"zerolinecolor\": \"white\", \"zerolinewidth\": 2}, \"yaxis\": {\"automargin\": true, \"gridcolor\": \"white\", \"linecolor\": \"white\", \"ticks\": \"\", \"title\": {\"standoff\": 15}, \"zerolinecolor\": \"white\", \"zerolinewidth\": 2}}}, \"title\": {\"text\": \"Movie Budget and Revenue (in millions)\"}},\n",
              "                        {\"responsive\": true}\n",
              "                    ).then(function(){\n",
              "                            \n",
              "var gd = document.getElementById('ecde32b5-14cb-4ffe-bd43-905bbf8136b6');\n",
              "var x = new MutationObserver(function (mutations, observer) {{\n",
              "        var display = window.getComputedStyle(gd).display;\n",
              "        if (!display || display === 'none') {{\n",
              "            console.log([gd, 'removed!']);\n",
              "            Plotly.purge(gd);\n",
              "            observer.disconnect();\n",
              "        }}\n",
              "}});\n",
              "\n",
              "// Listen for the removal of the full notebook cells\n",
              "var notebookContainer = gd.closest('#notebook-container');\n",
              "if (notebookContainer) {{\n",
              "    x.observe(notebookContainer, {childList: true});\n",
              "}}\n",
              "\n",
              "// Listen for the clearing of the current output cell\n",
              "var outputEl = gd.closest('.output');\n",
              "if (outputEl) {{\n",
              "    x.observe(outputEl, {childList: true});\n",
              "}}\n",
              "\n",
              "                        })\n",
              "                };\n",
              "                \n",
              "            </script>\n",
              "        </div>\n",
              "</body>\n",
              "</html>"
            ]
          },
          "metadata": {
            "tags": []
          }
        }
      ]
    },
    {
      "cell_type": "markdown",
      "metadata": {
        "id": "lTIm3yk6jVFD"
      },
      "source": [
        "By using a line, we can see how much money is earned for any point on this line. All we need to do is look at a given $x$ value, and find the corresponding $y$ value at that point on the line.\n",
        "\n",
        "*   Spend 20 million, and expect to bring in about 40 million.\n",
        "*   Spend 30 million, and expect to bring in 60 million.\n",
        "\n",
        "This approach of modeling a linear relationship (that is drawing a straight line) between an input and an output is called **linear regression**. We call the input ($x$) our *explanatory variable*, and the output ($y$) the *dependent variable*. So here, we are saying budget explains our dependent variable, revenue.\n",
        "\n",
        "\n"
      ]
    },
    {
      "cell_type": "markdown",
      "metadata": {
        "id": "sH3tp81Hk3bH"
      },
      "source": [
        "## Representing linear regression with functions\n",
        "Instead of only representing this line visually, we also would like to represent this line with a **function**. That way, instead of having to *see* how an $x$ value points to a $y$ value along our line, we simply could *feed* this input into our function to calculate the proper output.\n",
        "\n"
      ]
    },
    {
      "cell_type": "markdown",
      "metadata": {
        "id": "LuEZMnU2lPFP"
      },
      "source": [
        "### First guess\n",
        "Let's take an initial (wrong) guess at turning this line into a function.\n",
        "First, we represent the line as a mathematical formula:\n",
        "\n",
        "$y = x$\n",
        "\n",
        "Then, we turn this formula into a function:"
      ]
    },
    {
      "cell_type": "code",
      "metadata": {
        "colab": {
          "base_uri": "https://localhost:8080/"
        },
        "id": "-AJfvCZ5hk1q",
        "outputId": "7f910b00-519a-4d59-d40c-6820434105e2"
      },
      "source": [
        "def f(x):\n",
        "    \"\"\"\n",
        "    A function f(x) = x to compute movie revenue (y) based on movie budget (x).\n",
        "    \"\"\"\n",
        "    return x\n",
        "\n",
        "print(f\"When movie budget is $0, the expected movie revenue is ${f(0)} (in millions).\")\n",
        "print(f\"When movie budget is $25, the expected movie revenue is ${f(25)} (in millions).\")"
      ],
      "execution_count": null,
      "outputs": [
        {
          "output_type": "stream",
          "text": [
            "When movie budget is $0, the expected movie revenue is $0 (in millions).\n",
            "When movie budget is $20, the expected movie revenue is $20 (in millions).\n"
          ],
          "name": "stdout"
        }
      ]
    },
    {
      "cell_type": "markdown",
      "metadata": {
        "id": "n7UAjFY7m03A"
      },
      "source": [
        "This is pretty nice! We just wrote a function $f(x)$ that automatically calculates the expected revenue ($y$) given a certain movie budget ($x$). This function says that for every value of $x$ that we input to the function, we get back an equal value $y$. So according to the function, if the movie has a budget of 25 million, it will earn 25 million."
      ]
    },
    {
      "cell_type": "markdown",
      "metadata": {
        "id": "4HJIGTuOnM8F"
      },
      "source": [
        "### A better guess: Matching lines to functions\n",
        "Take a look at the line that we drew. Does our line say something different? Yes, it does! It says that spending 25 million brings predicted revenue of 50 million. Therefore, we need to change our function so that it matches our line. In fact, we need a consistent way to turn lines into functions, and vice versa. Let's get to it!\n",
        "\n",
        "**We start** by turning our line into a table below. It shows how our line relates x-values and y-values, or our budgets and revenues in this example.\n",
        "\n",
        "| X (budget) | Y (revenue) |\n",
        "|------------|:-----------:|\n",
        "| 0          |      0      |\n",
        "| 25 million |  50 million |\n",
        "| 50 million | 100 million |\n",
        "| 75 million | 150 million |\n",
        "\n",
        "\n",
        "**Next**, we need an equation that allows us to match this data:\n",
        "\n",
        "* input 0 and get back 0\n",
        "* input 25 million and get back 50 million\n",
        "* and input 50 million and get back 100 million.\n",
        "\n",
        "What equation is that? Well it's $y = 2x$. Take a look to see for yourself.\n",
        "\n",
        "* $0 * 2 = 0$\n",
        "* $25 * 2 = 50$\n",
        "* $50 * 2 = 100$\n",
        "\n",
        "Now, try to see if we can code this function:"
      ]
    },
    {
      "cell_type": "code",
      "metadata": {
        "id": "DguFtG5hndgJ"
      },
      "source": [
        "def f(x):\n",
        "    \"\"\"\n",
        "    A function f(x) = 2x to compute movie revenue (y) based on movie budget (x).\n",
        "    \"\"\"\n",
        "    # add your code here\n",
        "    # return x\n",
        "    pass\n",
        "\n",
        "print(f\"When movie budget is $0, the expected movie revenue is ${f(0)} (in millions).\") # Output should be $0\n",
        "print(f\"When movie budget is $25, the expected movie revenue is ${f(25)} (in millions).\") # Output should be $50"
      ],
      "execution_count": null,
      "outputs": []
    },
    {
      "cell_type": "markdown",
      "metadata": {
        "id": "P19GtYwNqEB1"
      },
      "source": [
        "Progress! We multiplied each $x$ value by 2 so that the output of our function $f(x)$ corresponds to the $y$ value appearing along our graphed line.\n",
        "\n"
      ]
    },
    {
      "cell_type": "markdown",
      "metadata": {
        "id": "FJfVs-zIqqAn"
      },
      "source": [
        "### The Slope Variable\n",
        "By multiplying $x$ by 2, we just altered the **slope** variable. The slope variable changes the inclination of the line in our graph. Slope generally is represented by $m$ like so:\n",
        "\n",
        "$y = mx$\n",
        "\n",
        "We say that a higher value of $m$ means out line is steeper. In our example, this means we expect more money in revenue per dollar spent on movie budget. \n",
        "\n",
        "Let's make sure we understand what all of our variables stand for. Here they are:\n",
        "\n",
        "* $y$: the output value returned by the function, also called the **response variable**, as it responds to values of $x$\n",
        "* $x$: the input variable, also called the **explanatory variable**, as it explains the value of $y$\n",
        "* $m$: the **slope variable**, determines how vertical or horizontal the line will appear\n",
        "\n",
        "Let's adapt these terms to our movie example. The $y$ value is the revenue earned from the movie, which we say is in response to our budget. The explanatory variable of our budget, $x$, represents our budget, and the $m$ corresponds to our value of 2, which describes how much money is earned for each dollar spent. Therefore, with an $m$ of 2, our line says to expect to earn 2 dollars for each dollar spent making the movie. Likewise, an $m$ of 3 suggests we earn 3 dollars for every dollar we spent.\n",
        "\n"
      ]
    },
    {
      "cell_type": "markdown",
      "metadata": {
        "id": "cor1pJF7vKnh"
      },
      "source": [
        "### The y-intercept\n",
        "There is one more thing that we need to learn in order to describe every straight line in a two-dimensional (2-D) world. That is the **y-intercept**.\n",
        "\n",
        "The y-intercept is the $y$ value of the line where it intersects the y-axis.\n",
        "Or, put another way, the y-intercept is the value of $y$ when $x$ equals zero.\n",
        "\n",
        "Let's redraw our initial line for the movie table but with a higher y-intercept:"
      ]
    },
    {
      "cell_type": "code",
      "metadata": {
        "colab": {
          "base_uri": "https://localhost:8080/",
          "height": 542
        },
        "id": "1Fmr4CHJmvEL",
        "outputId": "f30bdbd7-7ae1-4630-b7b5-6a95d469b76e"
      },
      "source": [
        "movie_budgets = [0, 25, 50, 75] # our x values\n",
        "movie_revenues = [50, 100, 150, 200] # our y values\n",
        "regression_trace_increased = trace_values(movie_budgets, movie_revenues, mode='lines', name='increased estimated revenue')\n",
        "movie_layout = layout(options={'title': 'Movie Budget and Revenue (in millions)'})\n",
        "plot([regression_trace_increased, regression_trace], movie_layout)"
      ],
      "execution_count": null,
      "outputs": [
        {
          "output_type": "display_data",
          "data": {
            "text/html": [
              "<html>\n",
              "<head><meta charset=\"utf-8\" /></head>\n",
              "<body>\n",
              "    <div>\n",
              "            <script src=\"https://cdnjs.cloudflare.com/ajax/libs/mathjax/2.7.5/MathJax.js?config=TeX-AMS-MML_SVG\"></script><script type=\"text/javascript\">if (window.MathJax) {MathJax.Hub.Config({SVG: {font: \"STIX-Web\"}});}</script>\n",
              "                <script type=\"text/javascript\">window.PlotlyConfig = {MathJaxConfig: 'local'};</script>\n",
              "        <script src=\"https://cdn.plot.ly/plotly-latest.min.js\"></script>    \n",
              "            <div id=\"8b28229f-d01c-42a6-ab14-c8c63bd8b4af\" class=\"plotly-graph-div\" style=\"height:525px; width:100%;\"></div>\n",
              "            <script type=\"text/javascript\">\n",
              "                \n",
              "                    window.PLOTLYENV=window.PLOTLYENV || {};\n",
              "                    \n",
              "                if (document.getElementById(\"8b28229f-d01c-42a6-ab14-c8c63bd8b4af\")) {\n",
              "                    Plotly.newPlot(\n",
              "                        '8b28229f-d01c-42a6-ab14-c8c63bd8b4af',\n",
              "                        [{\"mode\": \"lines\", \"name\": \"increased estimated revenue\", \"text\": [], \"type\": \"scatter\", \"x\": [0, 25, 50, 75], \"y\": [50, 100, 150, 200]}, {\"mode\": \"lines\", \"name\": \"estimated revenue\", \"text\": [], \"type\": \"scatter\", \"x\": [0, 25, 50, 75], \"y\": [0, 50, 100, 150]}],\n",
              "                        {\"template\": {\"data\": {\"bar\": [{\"error_x\": {\"color\": \"#2a3f5f\"}, \"error_y\": {\"color\": \"#2a3f5f\"}, \"marker\": {\"line\": {\"color\": \"#E5ECF6\", \"width\": 0.5}}, \"type\": \"bar\"}], \"barpolar\": [{\"marker\": {\"line\": {\"color\": \"#E5ECF6\", \"width\": 0.5}}, \"type\": \"barpolar\"}], \"carpet\": [{\"aaxis\": {\"endlinecolor\": \"#2a3f5f\", \"gridcolor\": \"white\", \"linecolor\": \"white\", \"minorgridcolor\": \"white\", \"startlinecolor\": \"#2a3f5f\"}, \"baxis\": {\"endlinecolor\": \"#2a3f5f\", \"gridcolor\": \"white\", \"linecolor\": \"white\", \"minorgridcolor\": \"white\", \"startlinecolor\": \"#2a3f5f\"}, \"type\": \"carpet\"}], \"choropleth\": [{\"colorbar\": {\"outlinewidth\": 0, \"ticks\": \"\"}, \"type\": \"choropleth\"}], \"contour\": [{\"colorbar\": {\"outlinewidth\": 0, \"ticks\": \"\"}, \"colorscale\": [[0.0, \"#0d0887\"], [0.1111111111111111, \"#46039f\"], [0.2222222222222222, \"#7201a8\"], [0.3333333333333333, \"#9c179e\"], [0.4444444444444444, \"#bd3786\"], [0.5555555555555556, \"#d8576b\"], [0.6666666666666666, \"#ed7953\"], [0.7777777777777778, \"#fb9f3a\"], [0.8888888888888888, \"#fdca26\"], [1.0, \"#f0f921\"]], \"type\": \"contour\"}], \"contourcarpet\": [{\"colorbar\": {\"outlinewidth\": 0, \"ticks\": \"\"}, \"type\": \"contourcarpet\"}], \"heatmap\": [{\"colorbar\": {\"outlinewidth\": 0, \"ticks\": \"\"}, \"colorscale\": [[0.0, \"#0d0887\"], [0.1111111111111111, \"#46039f\"], [0.2222222222222222, \"#7201a8\"], [0.3333333333333333, \"#9c179e\"], [0.4444444444444444, \"#bd3786\"], [0.5555555555555556, \"#d8576b\"], [0.6666666666666666, \"#ed7953\"], [0.7777777777777778, \"#fb9f3a\"], [0.8888888888888888, \"#fdca26\"], [1.0, \"#f0f921\"]], \"type\": \"heatmap\"}], \"heatmapgl\": [{\"colorbar\": {\"outlinewidth\": 0, \"ticks\": \"\"}, \"colorscale\": [[0.0, \"#0d0887\"], [0.1111111111111111, \"#46039f\"], [0.2222222222222222, \"#7201a8\"], [0.3333333333333333, \"#9c179e\"], [0.4444444444444444, \"#bd3786\"], [0.5555555555555556, \"#d8576b\"], [0.6666666666666666, \"#ed7953\"], [0.7777777777777778, \"#fb9f3a\"], [0.8888888888888888, \"#fdca26\"], [1.0, \"#f0f921\"]], \"type\": \"heatmapgl\"}], \"histogram\": [{\"marker\": {\"colorbar\": {\"outlinewidth\": 0, \"ticks\": \"\"}}, \"type\": \"histogram\"}], \"histogram2d\": [{\"colorbar\": {\"outlinewidth\": 0, \"ticks\": \"\"}, \"colorscale\": [[0.0, \"#0d0887\"], [0.1111111111111111, \"#46039f\"], [0.2222222222222222, \"#7201a8\"], [0.3333333333333333, \"#9c179e\"], [0.4444444444444444, \"#bd3786\"], [0.5555555555555556, \"#d8576b\"], [0.6666666666666666, \"#ed7953\"], [0.7777777777777778, \"#fb9f3a\"], [0.8888888888888888, \"#fdca26\"], [1.0, \"#f0f921\"]], \"type\": \"histogram2d\"}], \"histogram2dcontour\": [{\"colorbar\": {\"outlinewidth\": 0, \"ticks\": \"\"}, \"colorscale\": [[0.0, \"#0d0887\"], [0.1111111111111111, \"#46039f\"], [0.2222222222222222, \"#7201a8\"], [0.3333333333333333, \"#9c179e\"], [0.4444444444444444, \"#bd3786\"], [0.5555555555555556, \"#d8576b\"], [0.6666666666666666, \"#ed7953\"], [0.7777777777777778, \"#fb9f3a\"], [0.8888888888888888, \"#fdca26\"], [1.0, \"#f0f921\"]], \"type\": \"histogram2dcontour\"}], \"mesh3d\": [{\"colorbar\": {\"outlinewidth\": 0, \"ticks\": \"\"}, \"type\": \"mesh3d\"}], \"parcoords\": [{\"line\": {\"colorbar\": {\"outlinewidth\": 0, \"ticks\": \"\"}}, \"type\": \"parcoords\"}], \"pie\": [{\"automargin\": true, \"type\": \"pie\"}], \"scatter\": [{\"marker\": {\"colorbar\": {\"outlinewidth\": 0, \"ticks\": \"\"}}, \"type\": \"scatter\"}], \"scatter3d\": [{\"line\": {\"colorbar\": {\"outlinewidth\": 0, \"ticks\": \"\"}}, \"marker\": {\"colorbar\": {\"outlinewidth\": 0, \"ticks\": \"\"}}, \"type\": \"scatter3d\"}], \"scattercarpet\": [{\"marker\": {\"colorbar\": {\"outlinewidth\": 0, \"ticks\": \"\"}}, \"type\": \"scattercarpet\"}], \"scattergeo\": [{\"marker\": {\"colorbar\": {\"outlinewidth\": 0, \"ticks\": \"\"}}, \"type\": \"scattergeo\"}], \"scattergl\": [{\"marker\": {\"colorbar\": {\"outlinewidth\": 0, \"ticks\": \"\"}}, \"type\": \"scattergl\"}], \"scattermapbox\": [{\"marker\": {\"colorbar\": {\"outlinewidth\": 0, \"ticks\": \"\"}}, \"type\": \"scattermapbox\"}], \"scatterpolar\": [{\"marker\": {\"colorbar\": {\"outlinewidth\": 0, \"ticks\": \"\"}}, \"type\": \"scatterpolar\"}], \"scatterpolargl\": [{\"marker\": {\"colorbar\": {\"outlinewidth\": 0, \"ticks\": \"\"}}, \"type\": \"scatterpolargl\"}], \"scatterternary\": [{\"marker\": {\"colorbar\": {\"outlinewidth\": 0, \"ticks\": \"\"}}, \"type\": \"scatterternary\"}], \"surface\": [{\"colorbar\": {\"outlinewidth\": 0, \"ticks\": \"\"}, \"colorscale\": [[0.0, \"#0d0887\"], [0.1111111111111111, \"#46039f\"], [0.2222222222222222, \"#7201a8\"], [0.3333333333333333, \"#9c179e\"], [0.4444444444444444, \"#bd3786\"], [0.5555555555555556, \"#d8576b\"], [0.6666666666666666, \"#ed7953\"], [0.7777777777777778, \"#fb9f3a\"], [0.8888888888888888, \"#fdca26\"], [1.0, \"#f0f921\"]], \"type\": \"surface\"}], \"table\": [{\"cells\": {\"fill\": {\"color\": \"#EBF0F8\"}, \"line\": {\"color\": \"white\"}}, \"header\": {\"fill\": {\"color\": \"#C8D4E3\"}, \"line\": {\"color\": \"white\"}}, \"type\": \"table\"}]}, \"layout\": {\"annotationdefaults\": {\"arrowcolor\": \"#2a3f5f\", \"arrowhead\": 0, \"arrowwidth\": 1}, \"coloraxis\": {\"colorbar\": {\"outlinewidth\": 0, \"ticks\": \"\"}}, \"colorscale\": {\"diverging\": [[0, \"#8e0152\"], [0.1, \"#c51b7d\"], [0.2, \"#de77ae\"], [0.3, \"#f1b6da\"], [0.4, \"#fde0ef\"], [0.5, \"#f7f7f7\"], [0.6, \"#e6f5d0\"], [0.7, \"#b8e186\"], [0.8, \"#7fbc41\"], [0.9, \"#4d9221\"], [1, \"#276419\"]], \"sequential\": [[0.0, \"#0d0887\"], [0.1111111111111111, \"#46039f\"], [0.2222222222222222, \"#7201a8\"], [0.3333333333333333, \"#9c179e\"], [0.4444444444444444, \"#bd3786\"], [0.5555555555555556, \"#d8576b\"], [0.6666666666666666, \"#ed7953\"], [0.7777777777777778, \"#fb9f3a\"], [0.8888888888888888, \"#fdca26\"], [1.0, \"#f0f921\"]], \"sequentialminus\": [[0.0, \"#0d0887\"], [0.1111111111111111, \"#46039f\"], [0.2222222222222222, \"#7201a8\"], [0.3333333333333333, \"#9c179e\"], [0.4444444444444444, \"#bd3786\"], [0.5555555555555556, \"#d8576b\"], [0.6666666666666666, \"#ed7953\"], [0.7777777777777778, \"#fb9f3a\"], [0.8888888888888888, \"#fdca26\"], [1.0, \"#f0f921\"]]}, \"colorway\": [\"#636efa\", \"#EF553B\", \"#00cc96\", \"#ab63fa\", \"#FFA15A\", \"#19d3f3\", \"#FF6692\", \"#B6E880\", \"#FF97FF\", \"#FECB52\"], \"font\": {\"color\": \"#2a3f5f\"}, \"geo\": {\"bgcolor\": \"white\", \"lakecolor\": \"white\", \"landcolor\": \"#E5ECF6\", \"showlakes\": true, \"showland\": true, \"subunitcolor\": \"white\"}, \"hoverlabel\": {\"align\": \"left\"}, \"hovermode\": \"closest\", \"mapbox\": {\"style\": \"light\"}, \"paper_bgcolor\": \"white\", \"plot_bgcolor\": \"#E5ECF6\", \"polar\": {\"angularaxis\": {\"gridcolor\": \"white\", \"linecolor\": \"white\", \"ticks\": \"\"}, \"bgcolor\": \"#E5ECF6\", \"radialaxis\": {\"gridcolor\": \"white\", \"linecolor\": \"white\", \"ticks\": \"\"}}, \"scene\": {\"xaxis\": {\"backgroundcolor\": \"#E5ECF6\", \"gridcolor\": \"white\", \"gridwidth\": 2, \"linecolor\": \"white\", \"showbackground\": true, \"ticks\": \"\", \"zerolinecolor\": \"white\"}, \"yaxis\": {\"backgroundcolor\": \"#E5ECF6\", \"gridcolor\": \"white\", \"gridwidth\": 2, \"linecolor\": \"white\", \"showbackground\": true, \"ticks\": \"\", \"zerolinecolor\": \"white\"}, \"zaxis\": {\"backgroundcolor\": \"#E5ECF6\", \"gridcolor\": \"white\", \"gridwidth\": 2, \"linecolor\": \"white\", \"showbackground\": true, \"ticks\": \"\", \"zerolinecolor\": \"white\"}}, \"shapedefaults\": {\"line\": {\"color\": \"#2a3f5f\"}}, \"ternary\": {\"aaxis\": {\"gridcolor\": \"white\", \"linecolor\": \"white\", \"ticks\": \"\"}, \"baxis\": {\"gridcolor\": \"white\", \"linecolor\": \"white\", \"ticks\": \"\"}, \"bgcolor\": \"#E5ECF6\", \"caxis\": {\"gridcolor\": \"white\", \"linecolor\": \"white\", \"ticks\": \"\"}}, \"title\": {\"x\": 0.05}, \"xaxis\": {\"automargin\": true, \"gridcolor\": \"white\", \"linecolor\": \"white\", \"ticks\": \"\", \"title\": {\"standoff\": 15}, \"zerolinecolor\": \"white\", \"zerolinewidth\": 2}, \"yaxis\": {\"automargin\": true, \"gridcolor\": \"white\", \"linecolor\": \"white\", \"ticks\": \"\", \"title\": {\"standoff\": 15}, \"zerolinecolor\": \"white\", \"zerolinewidth\": 2}}}, \"title\": {\"text\": \"Movie Budget and Revenue (in millions)\"}},\n",
              "                        {\"responsive\": true}\n",
              "                    ).then(function(){\n",
              "                            \n",
              "var gd = document.getElementById('8b28229f-d01c-42a6-ab14-c8c63bd8b4af');\n",
              "var x = new MutationObserver(function (mutations, observer) {{\n",
              "        var display = window.getComputedStyle(gd).display;\n",
              "        if (!display || display === 'none') {{\n",
              "            console.log([gd, 'removed!']);\n",
              "            Plotly.purge(gd);\n",
              "            observer.disconnect();\n",
              "        }}\n",
              "}});\n",
              "\n",
              "// Listen for the removal of the full notebook cells\n",
              "var notebookContainer = gd.closest('#notebook-container');\n",
              "if (notebookContainer) {{\n",
              "    x.observe(notebookContainer, {childList: true});\n",
              "}}\n",
              "\n",
              "// Listen for the clearing of the current output cell\n",
              "var outputEl = gd.closest('.output');\n",
              "if (outputEl) {{\n",
              "    x.observe(outputEl, {childList: true});\n",
              "}}\n",
              "\n",
              "                        })\n",
              "                };\n",
              "                \n",
              "            </script>\n",
              "        </div>\n",
              "</body>\n",
              "</html>"
            ]
          },
          "metadata": {
            "tags": []
          }
        }
      ]
    },
    {
      "cell_type": "markdown",
      "metadata": {
        "id": "V4dOeCl1ya0Z"
      },
      "source": [
        "What is the y-intercept of the original estimated revenue line? Well, it's the value of $y$ when that line crosses the y-axis. That value is 0. Our second line is parallel to the first but is shifted higher so that the y-intercept increases up to 50 million. Here, for every value of $x$, the corresponding value of $y$ is higher by 50 million!\n",
        "\n",
        "\n",
        "Now, our formula is not $y = 2x$, instead it is:\n",
        "\n",
        "\n",
        "\n",
        "$$ y = 2x + 50 $$\n",
        "\n",
        "\n",
        "It is common to represent the y-intercept of a line by $b$. Now we have all of the information needed to describe any straight line using the formula below:\n",
        "\n",
        "$$y = mx + b $$\n",
        "\n",
        "Once more, in this formula:\n",
        "\n",
        "* $m$ is our *slope* of the line, and\n",
        "* $b$ is our *y-intercept*, the value of $y$ when $x$ equals zero.\n",
        "\n",
        "So thinking about it visually, increasing $m$ makes the line steeper, and increasing $b$ pushes the line higher.\n",
        "\n",
        "In the context of our movies example, we said that the the line with values of $m$ = 2 and $b$ = 50 million describes our line, giving us:\n",
        "\n",
        "$y = 2x + 50 $, (in millions).\n",
        "\n",
        "Let's see if you can translate this into a function $f(x)$. For any input of $x$ our function returns the value of $y$ along that line:"
      ]
    },
    {
      "cell_type": "code",
      "metadata": {
        "id": "mp4Rk_3sw9nG"
      },
      "source": [
        "def f(x):\n",
        "    \"\"\"\n",
        "    A function f(x) = 2x + 50 million that returns expected movie revenue (y) \n",
        "    based on movie budget (x).\n",
        "    \"\"\"\n",
        "    # add your code here\n",
        "    \n",
        "\n",
        "print(f\"When movie budget is $0, the expected movie revenue is ${f(0)} (in millions).\") # Output should be $50\n",
        "print(f\"When movie budget is $25, the expected movie revenue is ${f(25)} (in millions).\") # Output should be $100"
      ],
      "execution_count": null,
      "outputs": []
    },
    {
      "cell_type": "markdown",
      "metadata": {
        "id": "TPLRmc1KTXLE"
      },
      "source": [
        "## How to model a regression line\n",
        "Let's step back for a moment and think about what we've learned so far.\n",
        "\n",
        "First, we saw how to estimate the relationship between an input variable $x$ and an output value $y$. We did so by first drawing a straight line on a graph to represent the relationship between a movie's budget and it's revenue, and manually determined the output for a given input by looking at the y-value of the line at that input point of $x$. \n",
        "\n",
        "We then learned how to represent a line as a mathematical formula, and ultimately a function $f(x)$. We first saw that lines can be described with the formula $y = mx + b $, where $m$ represents the slope of the line, and $b$ represents the value of $y$ when $x$ equals zero. The $b$ variable shifts the line up or down while the $m$ variable tilts the line forwards or backwards. We then translate this formula into a function $f(x)$ that returns an expected value of $y$ for an input value of $x$! \n",
        "\n",
        "So what's missing? Well, we know what the $m$ and $b$ values represent. However, until this point, we've manually computed them, and manually computing numbers in no fun! We prefer to calculate $m$ and $b$ algorithmically (automatically) instead. But how? One way is to use a machine learning algorithm called linear regression to find the \"line of best fit\". It is not the only way to find the best fit line, but its pretty good. "
      ]
    },
    {
      "cell_type": "markdown",
      "metadata": {
        "id": "z115Ub9aRNWy"
      },
      "source": [
        "### The model concept \n",
        "So, how can we mathematically model single linear regression? Well, we know the goal is to find the perfect line (\"line of best fit\"), so we start by defining a **function** (also called a **model**) that describes how predictions will be computed for a line:\n",
        "\n",
        "$$ f(x,m,b)=mx+b $$\n",
        "\n",
        "The line of best fit can then be used to predict (guess) y from x, so in our movies example revenue from budget. "
      ]
    },
    {
      "cell_type": "markdown",
      "metadata": {
        "id": "UQ0BZz4wPio2"
      },
      "source": [
        "The first step we take is to determine what the \"best line\" is exactly. To do so, we define a **loss function** (also called a cost function), which measures how bad a particular choice of m and b are. Values of m and b that seem poor (a line that does not fit the data set) should result in a large value of the loss function, whereas good values of m and b (a line that fits the data set well) should result in small values of the loss function. In other words, the loss function should measure how far the predicted line is from each of the data points, and add this value up for all data points. We can write this as:\n",
        "$$\n",
        "    L(m, b) = \\sum_{i=1}^m (f(x_i, m, b) - y_i)^2 = \\sum_{i=1}^m (mx_i + b-y_i)^2\n",
        "$$\n",
        "\n",
        "where $m$ is the number of examples in our dataset, $x_i$ is the i'th input example, and $y_i$ is the i'th desired output. So, $(f(x_i, m, b) - y_i)^2$ measures how far the i'th prediction is from the i'th desired output. For example, if the prediction $f(x_i)$ is 7, and the correct output $y$ is 10, then we would get $(7 - 10)^2 = 9$. Squaring it is important so that it is always positive. Finally, we just add up all of these individual losses. Since the smallest possible values for the squared terms indicate that the line fits the data as closely as possible, the line of best fit (determined by the choice of $m$ and $b$) occurs exactly at the smallest value of $L(m, b)$. For this reason, the model is also called [least squares regression](https://en.wikipedia.org/wiki/Least_squares)."
      ]
    },
    {
      "cell_type": "markdown",
      "metadata": {
        "id": "gy6j4NJiXpVJ"
      },
      "source": [
        "### Finding the optimal values\n",
        "With our loss function defined as $L(m,b)$, which is smallest exactly when each predicted value $f(x, m, b)$ is as close as possible to the actual data $y$, our goal then is to make the distance between the data points and predicted line as small as possible to produce the \"line of best fit\". We achieve this by finding the \"optimal\" values of $m$ and $b$ that minimize the loss function $L(m,b)$. But what does $L$ actually look like? Well, it's basically a 3D parabola, which looks similar to a rolling hills landscape: \n",
        "\n",
        "\n",
        "![Loss landscape](https://pyimagesearch.com/wp-content/uploads/2019/10/train_val_loss_landscape.png)\n",
        "\n",
        "\n"
      ]
    },
    {
      "cell_type": "markdown",
      "metadata": {
        "id": "_agdzAaTFtBO"
      },
      "source": [
        "The \"we want to get here\" dot marked on the plot of $L$ shows where the desired minimum is. We need an algorithm to find this minimum. The most common algorithm is called **gradient descent**, which uses techniques from calculus to to find the minimum. \n",
        "\n",
        "> For now, we don't worry about the mathematical explanation of how gradient descent works, but later in our machine learning journey we'll get to know it well.\n",
        "\n",
        "The general idea of gradient descent is intuitive: image placing a ball at an arbitrary location on the surface of $L$ (i.e., at our \"start here\" dot), naturally, it will roll downhill towards the flat and hopefully low valley of $L$, and thus find the minimum. \n",
        "\n",
        "> Bonus knowledge: we know the direction of \"downhill\" at any location since we know the derivatives of $L$ (derivatives are an idea from calculus so don't worry to much about them for now). The derivatives tell us the direction of greatest upward slope (this is known as the gradient), so the opposite (negative) derivatives are the most downhill direction. Therefore, if the ball is currently at location (m,b), we can see where it would go by moving it slightly to location (m′,b′). In case you're curious, here is how we express this mathematically:\n",
        "$$\n",
        " m' = m - \\alpha \\frac{\\partial L}{\\partial m} \\\\\\\\\n",
        " b' = b - \\alpha \\frac{\\partial L}{\\partial b} \n",
        "$$\n",
        "where $\\alpha$ is a constant called the **learning rate**, which we will talk about more later. If we repeat this process many times then the ball will continue to roll downhill and hopefully into the minimum.\n",
        "\n",
        "When we run the gradient descent algorithm for long enough, then it will find the optimal location for (m,b). Once we have the optimal values of $m$ and $b$, then that's it. We can then use them to predict our movie revenue based on budget, using our **function** (also called **model**):\n",
        "\n",
        "$$ f(x) = mx + b $$\n"
      ]
    },
    {
      "cell_type": "markdown",
      "metadata": {
        "id": "CwXwObcdLluq"
      },
      "source": [
        "## Coding linear regression\n",
        "Let's quickly review what we did when defining the theory of linear regression:\n",
        "\n",
        "1. Describe the dataset\n",
        "2. Define the function (model)\n",
        "3. Define the loss function\n",
        "4. Run the gradient descent optimization algorithm\n",
        "5. Use the optimal model to make predictions\n",
        "6. Profit!\n",
        "\n",
        "When coding this we will follow the exact same steps!"
      ]
    },
    {
      "cell_type": "markdown",
      "metadata": {
        "id": "HDqCToA3MGB1"
      },
      "source": [
        "### Describing the dataset\n",
        "Remeber that we were hired as a consultant for a movie executive to build a model of to predict the amount of revenue a movie would make given its budget. When we first took the job, our movie revenue and budget dataset was very small. But now it's much bigger. Let's take a look!\n"
      ]
    },
    {
      "cell_type": "code",
      "metadata": {
        "colab": {
          "base_uri": "https://localhost:8080/"
        },
        "id": "KlGM3E9QMEEC",
        "outputId": "c26a5eef-cfae-4d67-a400-20cd729cf66e"
      },
      "source": [
        "def generate_synthetic_movie_revenue_dataset(n=50, true_m=1.5, true_b=10, random_noise=1.0):\n",
        "    \"\"\"\n",
        "    Generates a synthetic movie revenue vs budget dataset and returns\n",
        "    a dictionary with three key-value pairs:\n",
        "        * `x`: a list of x values\n",
        "        * `y`: a list of y values\n",
        "        * `true_m`: the true slope of our data\n",
        "        * `true_b`: the true y-intercept of our data\n",
        "    \"\"\"\n",
        "    # generate the list of numbers between 0 and n for x values (budget)\n",
        "    x = np.arange(n)\n",
        "\n",
        "    # generate the list of y values (revenue) corresponding to each x value (budget)\n",
        "    y = []\n",
        "    for xi in x:\n",
        "        noise = np.random.uniform(-random_noise, random_noise)\n",
        "        # the \"true\" function of our data\n",
        "        yi = true_m*xi + true_b + noise\n",
        "        y.append(yi)\n",
        "    y = np.array(y)\n",
        "\n",
        "    return {'x': x, 'y': y, 'true_m': true_m, 'true_b': true_b}\n",
        "\n",
        "pprint(generate_synthetic_movie_revenue_dataset(10, 1.5, 10, 0.5))"
      ],
      "execution_count": 3,
      "outputs": [
        {
          "output_type": "stream",
          "text": [
            "{'true_b': 10,\n",
            " 'true_m': 1.5,\n",
            " 'x': array([0, 1, 2, 3, 4, 5, 6, 7, 8, 9]),\n",
            " 'y': array([ 9.7234531 , 11.26236425, 13.1012332 , 14.37258765, 15.62389125,\n",
            "       17.07916872, 18.70555469, 20.70139347, 22.23586598, 23.62805025])}\n"
          ],
          "name": "stdout"
        }
      ]
    },
    {
      "cell_type": "markdown",
      "metadata": {
        "id": "Yu3llM1ETx1F"
      },
      "source": [
        "Now let's visualize it!"
      ]
    },
    {
      "cell_type": "code",
      "metadata": {
        "colab": {
          "base_uri": "https://localhost:8080/",
          "height": 542
        },
        "id": "716co3dlT0eg",
        "outputId": "e58eba91-8295-4fca-9bba-5561683c1ace"
      },
      "source": [
        "# generate a larger dataset with 1500 movie budget and revenue samples and plot it\n",
        "movies_ds = generate_synthetic_movie_revenue_dataset(100, 1.5, 10, 10) \n",
        "regression_trace = trace_values(movies_ds['x'], movies_ds['y'], mode='markers', name=\"synthetic movie revenue vs budget data\")\n",
        "movies_layout = layout(options={'title': \"A scatter plot of our synthetic movie revenue vs budget data (in millions)\"})\n",
        "plot([regression_trace], movies_layout)"
      ],
      "execution_count": 4,
      "outputs": [
        {
          "output_type": "display_data",
          "data": {
            "text/html": [
              "<html>\n",
              "<head><meta charset=\"utf-8\" /></head>\n",
              "<body>\n",
              "    <div>\n",
              "            <script src=\"https://cdnjs.cloudflare.com/ajax/libs/mathjax/2.7.5/MathJax.js?config=TeX-AMS-MML_SVG\"></script><script type=\"text/javascript\">if (window.MathJax) {MathJax.Hub.Config({SVG: {font: \"STIX-Web\"}});}</script>\n",
              "                <script type=\"text/javascript\">window.PlotlyConfig = {MathJaxConfig: 'local'};</script>\n",
              "        <script src=\"https://cdn.plot.ly/plotly-latest.min.js\"></script>    \n",
              "            <div id=\"c5ef2bdf-2d2e-4f61-a8e3-6c2cb1bccb30\" class=\"plotly-graph-div\" style=\"height:525px; width:100%;\"></div>\n",
              "            <script type=\"text/javascript\">\n",
              "                \n",
              "                    window.PLOTLYENV=window.PLOTLYENV || {};\n",
              "                    \n",
              "                if (document.getElementById(\"c5ef2bdf-2d2e-4f61-a8e3-6c2cb1bccb30\")) {\n",
              "                    Plotly.newPlot(\n",
              "                        'c5ef2bdf-2d2e-4f61-a8e3-6c2cb1bccb30',\n",
              "                        [{\"mode\": \"markers\", \"name\": \"synthetic movie revenue vs budget data\", \"text\": [], \"type\": \"scatter\", \"x\": [0, 1, 2, 3, 4, 5, 6, 7, 8, 9, 10, 11, 12, 13, 14, 15, 16, 17, 18, 19, 20, 21, 22, 23, 24, 25, 26, 27, 28, 29, 30, 31, 32, 33, 34, 35, 36, 37, 38, 39, 40, 41, 42, 43, 44, 45, 46, 47, 48, 49, 50, 51, 52, 53, 54, 55, 56, 57, 58, 59, 60, 61, 62, 63, 64, 65, 66, 67, 68, 69, 70, 71, 72, 73, 74, 75, 76, 77, 78, 79, 80, 81, 82, 83, 84, 85, 86, 87, 88, 89, 90, 91, 92, 93, 94, 95, 96, 97, 98, 99], \"y\": [6.466430530033844, 16.433024066063936, 9.296881166988031, 21.069959413145504, 7.42569273128872, 16.62369942319949, 12.647781469623247, 19.69211958264201, 26.978223528897246, 23.743277396291393, 33.517332691580904, 19.758573037077035, 18.105795142210283, 38.506591984808594, 37.32488504992781, 35.05549060837837, 32.15257383873241, 38.26941264251502, 39.83877516533064, 43.667038207042744, 46.36773322615118, 46.190617544968944, 35.483174880966374, 49.95745255528388, 43.02444398100607, 37.54971350693393, 49.00532946433718, 58.806966923857914, 53.26764163666337, 57.44985180524667, 63.270077681886036, 56.74480460882395, 50.39769624422422, 50.20775600027149, 62.91531810734793, 66.97310302186352, 66.106664120864, 71.27640465691044, 70.14086524984835, 71.09067047053277, 67.2267461640371, 61.917936318944115, 75.29259784843356, 73.15764844942507, 69.69958345298336, 79.23845606496016, 87.00033521931351, 82.25803178330287, 76.04708511368511, 92.64718787232658, 84.68738924034751, 87.5545361416362, 91.14401864922954, 94.78936262456956, 100.41194401772822, 97.80442558206732, 103.50247915764251, 86.1424613463171, 103.78082549704499, 92.91119726278802, 103.25278842139126, 95.87631404106843, 97.47307409513907, 109.56868801186258, 114.37146838573432, 100.60077411748567, 101.75387609506276, 116.70112086373041, 111.13071822145714, 108.08151544818247, 120.4544664116169, 108.88384843848714, 123.22354932092509, 115.58488585352266, 125.34407949037832, 122.55009008779913, 132.70815539969763, 121.22035741961757, 135.55686248620674, 123.9046376704908, 136.4127610751425, 130.06362978917477, 127.22004653572026, 138.9892583484929, 134.27077465992244, 128.93749808664404, 145.4197152477604, 133.489113763583, 140.2781062293142, 150.05097130593884, 142.15744761591478, 150.0688553324392, 141.38300028978537, 149.1459574848263, 145.4677630422334, 162.45437004745162, 148.83339462067565, 158.49114164988018, 155.596589901661, 167.91336585644385]}],\n",
              "                        {\"template\": {\"data\": {\"bar\": [{\"error_x\": {\"color\": \"#2a3f5f\"}, \"error_y\": {\"color\": \"#2a3f5f\"}, \"marker\": {\"line\": {\"color\": \"#E5ECF6\", \"width\": 0.5}}, \"type\": \"bar\"}], \"barpolar\": [{\"marker\": {\"line\": {\"color\": \"#E5ECF6\", \"width\": 0.5}}, \"type\": \"barpolar\"}], \"carpet\": [{\"aaxis\": {\"endlinecolor\": \"#2a3f5f\", \"gridcolor\": \"white\", \"linecolor\": \"white\", \"minorgridcolor\": \"white\", \"startlinecolor\": \"#2a3f5f\"}, \"baxis\": {\"endlinecolor\": \"#2a3f5f\", \"gridcolor\": \"white\", \"linecolor\": \"white\", \"minorgridcolor\": \"white\", \"startlinecolor\": \"#2a3f5f\"}, \"type\": \"carpet\"}], \"choropleth\": [{\"colorbar\": {\"outlinewidth\": 0, \"ticks\": \"\"}, \"type\": \"choropleth\"}], \"contour\": [{\"colorbar\": {\"outlinewidth\": 0, \"ticks\": \"\"}, \"colorscale\": [[0.0, \"#0d0887\"], [0.1111111111111111, \"#46039f\"], [0.2222222222222222, \"#7201a8\"], [0.3333333333333333, \"#9c179e\"], [0.4444444444444444, \"#bd3786\"], [0.5555555555555556, \"#d8576b\"], [0.6666666666666666, \"#ed7953\"], [0.7777777777777778, \"#fb9f3a\"], [0.8888888888888888, \"#fdca26\"], [1.0, \"#f0f921\"]], \"type\": \"contour\"}], \"contourcarpet\": [{\"colorbar\": {\"outlinewidth\": 0, \"ticks\": \"\"}, \"type\": \"contourcarpet\"}], \"heatmap\": [{\"colorbar\": {\"outlinewidth\": 0, \"ticks\": \"\"}, \"colorscale\": [[0.0, \"#0d0887\"], [0.1111111111111111, \"#46039f\"], [0.2222222222222222, \"#7201a8\"], [0.3333333333333333, \"#9c179e\"], [0.4444444444444444, \"#bd3786\"], [0.5555555555555556, \"#d8576b\"], [0.6666666666666666, \"#ed7953\"], [0.7777777777777778, \"#fb9f3a\"], [0.8888888888888888, \"#fdca26\"], [1.0, \"#f0f921\"]], \"type\": \"heatmap\"}], \"heatmapgl\": [{\"colorbar\": {\"outlinewidth\": 0, \"ticks\": \"\"}, \"colorscale\": [[0.0, \"#0d0887\"], [0.1111111111111111, \"#46039f\"], [0.2222222222222222, \"#7201a8\"], [0.3333333333333333, \"#9c179e\"], [0.4444444444444444, \"#bd3786\"], [0.5555555555555556, \"#d8576b\"], [0.6666666666666666, \"#ed7953\"], [0.7777777777777778, \"#fb9f3a\"], [0.8888888888888888, \"#fdca26\"], [1.0, \"#f0f921\"]], \"type\": \"heatmapgl\"}], \"histogram\": [{\"marker\": {\"colorbar\": {\"outlinewidth\": 0, \"ticks\": \"\"}}, \"type\": \"histogram\"}], \"histogram2d\": [{\"colorbar\": {\"outlinewidth\": 0, \"ticks\": \"\"}, \"colorscale\": [[0.0, \"#0d0887\"], [0.1111111111111111, \"#46039f\"], [0.2222222222222222, \"#7201a8\"], [0.3333333333333333, \"#9c179e\"], [0.4444444444444444, \"#bd3786\"], [0.5555555555555556, \"#d8576b\"], [0.6666666666666666, \"#ed7953\"], [0.7777777777777778, \"#fb9f3a\"], [0.8888888888888888, \"#fdca26\"], [1.0, \"#f0f921\"]], \"type\": \"histogram2d\"}], \"histogram2dcontour\": [{\"colorbar\": {\"outlinewidth\": 0, \"ticks\": \"\"}, \"colorscale\": [[0.0, \"#0d0887\"], [0.1111111111111111, \"#46039f\"], [0.2222222222222222, \"#7201a8\"], [0.3333333333333333, \"#9c179e\"], [0.4444444444444444, \"#bd3786\"], [0.5555555555555556, \"#d8576b\"], [0.6666666666666666, \"#ed7953\"], [0.7777777777777778, \"#fb9f3a\"], [0.8888888888888888, \"#fdca26\"], [1.0, \"#f0f921\"]], \"type\": \"histogram2dcontour\"}], \"mesh3d\": [{\"colorbar\": {\"outlinewidth\": 0, \"ticks\": \"\"}, \"type\": \"mesh3d\"}], \"parcoords\": [{\"line\": {\"colorbar\": {\"outlinewidth\": 0, \"ticks\": \"\"}}, \"type\": \"parcoords\"}], \"pie\": [{\"automargin\": true, \"type\": \"pie\"}], \"scatter\": [{\"marker\": {\"colorbar\": {\"outlinewidth\": 0, \"ticks\": \"\"}}, \"type\": \"scatter\"}], \"scatter3d\": [{\"line\": {\"colorbar\": {\"outlinewidth\": 0, \"ticks\": \"\"}}, \"marker\": {\"colorbar\": {\"outlinewidth\": 0, \"ticks\": \"\"}}, \"type\": \"scatter3d\"}], \"scattercarpet\": [{\"marker\": {\"colorbar\": {\"outlinewidth\": 0, \"ticks\": \"\"}}, \"type\": \"scattercarpet\"}], \"scattergeo\": [{\"marker\": {\"colorbar\": {\"outlinewidth\": 0, \"ticks\": \"\"}}, \"type\": \"scattergeo\"}], \"scattergl\": [{\"marker\": {\"colorbar\": {\"outlinewidth\": 0, \"ticks\": \"\"}}, \"type\": \"scattergl\"}], \"scattermapbox\": [{\"marker\": {\"colorbar\": {\"outlinewidth\": 0, \"ticks\": \"\"}}, \"type\": \"scattermapbox\"}], \"scatterpolar\": [{\"marker\": {\"colorbar\": {\"outlinewidth\": 0, \"ticks\": \"\"}}, \"type\": \"scatterpolar\"}], \"scatterpolargl\": [{\"marker\": {\"colorbar\": {\"outlinewidth\": 0, \"ticks\": \"\"}}, \"type\": \"scatterpolargl\"}], \"scatterternary\": [{\"marker\": {\"colorbar\": {\"outlinewidth\": 0, \"ticks\": \"\"}}, \"type\": \"scatterternary\"}], \"surface\": [{\"colorbar\": {\"outlinewidth\": 0, \"ticks\": \"\"}, \"colorscale\": [[0.0, \"#0d0887\"], [0.1111111111111111, \"#46039f\"], [0.2222222222222222, \"#7201a8\"], [0.3333333333333333, \"#9c179e\"], [0.4444444444444444, \"#bd3786\"], [0.5555555555555556, \"#d8576b\"], [0.6666666666666666, \"#ed7953\"], [0.7777777777777778, \"#fb9f3a\"], [0.8888888888888888, \"#fdca26\"], [1.0, \"#f0f921\"]], \"type\": \"surface\"}], \"table\": [{\"cells\": {\"fill\": {\"color\": \"#EBF0F8\"}, \"line\": {\"color\": \"white\"}}, \"header\": {\"fill\": {\"color\": \"#C8D4E3\"}, \"line\": {\"color\": \"white\"}}, \"type\": \"table\"}]}, \"layout\": {\"annotationdefaults\": {\"arrowcolor\": \"#2a3f5f\", \"arrowhead\": 0, \"arrowwidth\": 1}, \"coloraxis\": {\"colorbar\": {\"outlinewidth\": 0, \"ticks\": \"\"}}, \"colorscale\": {\"diverging\": [[0, \"#8e0152\"], [0.1, \"#c51b7d\"], [0.2, \"#de77ae\"], [0.3, \"#f1b6da\"], [0.4, \"#fde0ef\"], [0.5, \"#f7f7f7\"], [0.6, \"#e6f5d0\"], [0.7, \"#b8e186\"], [0.8, \"#7fbc41\"], [0.9, \"#4d9221\"], [1, \"#276419\"]], \"sequential\": [[0.0, \"#0d0887\"], [0.1111111111111111, \"#46039f\"], [0.2222222222222222, \"#7201a8\"], [0.3333333333333333, \"#9c179e\"], [0.4444444444444444, \"#bd3786\"], [0.5555555555555556, \"#d8576b\"], [0.6666666666666666, \"#ed7953\"], [0.7777777777777778, \"#fb9f3a\"], [0.8888888888888888, \"#fdca26\"], [1.0, \"#f0f921\"]], \"sequentialminus\": [[0.0, \"#0d0887\"], [0.1111111111111111, \"#46039f\"], [0.2222222222222222, \"#7201a8\"], [0.3333333333333333, \"#9c179e\"], [0.4444444444444444, \"#bd3786\"], [0.5555555555555556, \"#d8576b\"], [0.6666666666666666, \"#ed7953\"], [0.7777777777777778, \"#fb9f3a\"], [0.8888888888888888, \"#fdca26\"], [1.0, \"#f0f921\"]]}, \"colorway\": [\"#636efa\", \"#EF553B\", \"#00cc96\", \"#ab63fa\", \"#FFA15A\", \"#19d3f3\", \"#FF6692\", \"#B6E880\", \"#FF97FF\", \"#FECB52\"], \"font\": {\"color\": \"#2a3f5f\"}, \"geo\": {\"bgcolor\": \"white\", \"lakecolor\": \"white\", \"landcolor\": \"#E5ECF6\", \"showlakes\": true, \"showland\": true, \"subunitcolor\": \"white\"}, \"hoverlabel\": {\"align\": \"left\"}, \"hovermode\": \"closest\", \"mapbox\": {\"style\": \"light\"}, \"paper_bgcolor\": \"white\", \"plot_bgcolor\": \"#E5ECF6\", \"polar\": {\"angularaxis\": {\"gridcolor\": \"white\", \"linecolor\": \"white\", \"ticks\": \"\"}, \"bgcolor\": \"#E5ECF6\", \"radialaxis\": {\"gridcolor\": \"white\", \"linecolor\": \"white\", \"ticks\": \"\"}}, \"scene\": {\"xaxis\": {\"backgroundcolor\": \"#E5ECF6\", \"gridcolor\": \"white\", \"gridwidth\": 2, \"linecolor\": \"white\", \"showbackground\": true, \"ticks\": \"\", \"zerolinecolor\": \"white\"}, \"yaxis\": {\"backgroundcolor\": \"#E5ECF6\", \"gridcolor\": \"white\", \"gridwidth\": 2, \"linecolor\": \"white\", \"showbackground\": true, \"ticks\": \"\", \"zerolinecolor\": \"white\"}, \"zaxis\": {\"backgroundcolor\": \"#E5ECF6\", \"gridcolor\": \"white\", \"gridwidth\": 2, \"linecolor\": \"white\", \"showbackground\": true, \"ticks\": \"\", \"zerolinecolor\": \"white\"}}, \"shapedefaults\": {\"line\": {\"color\": \"#2a3f5f\"}}, \"ternary\": {\"aaxis\": {\"gridcolor\": \"white\", \"linecolor\": \"white\", \"ticks\": \"\"}, \"baxis\": {\"gridcolor\": \"white\", \"linecolor\": \"white\", \"ticks\": \"\"}, \"bgcolor\": \"#E5ECF6\", \"caxis\": {\"gridcolor\": \"white\", \"linecolor\": \"white\", \"ticks\": \"\"}}, \"title\": {\"x\": 0.05}, \"xaxis\": {\"automargin\": true, \"gridcolor\": \"white\", \"linecolor\": \"white\", \"ticks\": \"\", \"title\": {\"standoff\": 15}, \"zerolinecolor\": \"white\", \"zerolinewidth\": 2}, \"yaxis\": {\"automargin\": true, \"gridcolor\": \"white\", \"linecolor\": \"white\", \"ticks\": \"\", \"title\": {\"standoff\": 15}, \"zerolinecolor\": \"white\", \"zerolinewidth\": 2}}}, \"title\": {\"text\": \"A scatter plot of our synthetic movie revenue vs budget data (in millions)\"}},\n",
              "                        {\"responsive\": true}\n",
              "                    ).then(function(){\n",
              "                            \n",
              "var gd = document.getElementById('c5ef2bdf-2d2e-4f61-a8e3-6c2cb1bccb30');\n",
              "var x = new MutationObserver(function (mutations, observer) {{\n",
              "        var display = window.getComputedStyle(gd).display;\n",
              "        if (!display || display === 'none') {{\n",
              "            console.log([gd, 'removed!']);\n",
              "            Plotly.purge(gd);\n",
              "            observer.disconnect();\n",
              "        }}\n",
              "}});\n",
              "\n",
              "// Listen for the removal of the full notebook cells\n",
              "var notebookContainer = gd.closest('#notebook-container');\n",
              "if (notebookContainer) {{\n",
              "    x.observe(notebookContainer, {childList: true});\n",
              "}}\n",
              "\n",
              "// Listen for the clearing of the current output cell\n",
              "var outputEl = gd.closest('.output');\n",
              "if (outputEl) {{\n",
              "    x.observe(outputEl, {childList: true});\n",
              "}}\n",
              "\n",
              "                        })\n",
              "                };\n",
              "                \n",
              "            </script>\n",
              "        </div>\n",
              "</body>\n",
              "</html>"
            ]
          },
          "metadata": {
            "tags": []
          }
        }
      ]
    },
    {
      "cell_type": "markdown",
      "metadata": {
        "id": "lP6yMtX-W-FL"
      },
      "source": [
        "### Define the function (model)\n",
        "Now we can define our function to model the movies data and predict revenue from budget. For single variable linear regression we used the model $f(x)=mx+b$. Geometrically, this means that the model can only guess lines. Since the movies data is roughly in the shape of a line, our linear model should work work well for this problem. But, in the real-world there are very few problems that linear, so soon we'll look at more complex models. One other limitation of the current model is it only accepts one input variable. But if our data set had both budget and year, for example, perhaps we could more accurately predict revenue. Later, we will discuss a more complex model that can handle multiple input variables.\n",
        "\n",
        "Here is the code to implement our linear model:"
      ]
    },
    {
      "cell_type": "code",
      "metadata": {
        "id": "K-KjS6DsXYqF"
      },
      "source": [
        "# First we define the trainable parameters m and b \n",
        "m = torch.randn(1, requires_grad=True) # requires_grad means it is trainable\n",
        "b = torch.randn(1, requires_grad=True)\n",
        "\n",
        "# Then we define the prediction model\n",
        "def model(x):\n",
        "    return m * x + b"
      ],
      "execution_count": null,
      "outputs": []
    },
    {
      "cell_type": "markdown",
      "metadata": {
        "id": "KAlldu10YuvE"
      },
      "source": [
        "### Define the loss function\n",
        "We have the model defined, so now we need to define the loss function. Recall that the loss function is how the model is evaluated (smaller loss values are better), and it is also the function that we need to minimize in terms of $m$ and $b$. Previously we said the loss function was:\n",
        "$$\n",
        "    L(m,b) = \\sum_{i=1}^m (f(x_i,m,b) - y_i)^2 = \\sum_{i=1}^m (mx_i + b-y_i)^2\n",
        "$$\n",
        "\n",
        "However, we normally interpret $f(x)$ and $y$ as vectors (i.e., lists of numbers like \\[0, 3, 6\\] would be vector of 3 numbers. We can rewrite the loss function as:\n",
        "\n",
        "$$\n",
        "    L(m,b) = \\text{sum}((f(x) - y)^2)\n",
        "$$\n",
        "\n",
        "Note that since $f(x)$ and $y$ are vectors, $(f(x) - y)$ is also a vector that just contains every number stored in $f(x)$ minus every corresponding number in $y$. Likewise, $((f(x) - y)^2)$ is also a vector, with every number individually squared.  Then, the $\\mathrm{sum}$ function (which we just made up) adds up every number stored in the vector $((f(x) - y)^2)$. This is the same as the original loss function, but is a vector interpretation of it instead. We can code this directly as a Python function:"
      ]
    },
    {
      "cell_type": "code",
      "metadata": {
        "id": "jZuCmTsWb_mw"
      },
      "source": [
        "def loss(y_predicted, y_target):\n",
        "    return ((y_predicted - y_target)**2).sum()"
      ],
      "execution_count": null,
      "outputs": []
    },
    {
      "cell_type": "markdown",
      "metadata": {
        "id": "R-4-fJducGud"
      },
      "source": [
        "The `.sum()` function is an operation which adds up all the numbers stored in a vector. With just these two lines of code we have defined our loss function."
      ]
    },
    {
      "cell_type": "markdown",
      "metadata": {
        "id": "Y07mR8sdcLE2"
      },
      "source": [
        "### Minimizing the loss function with gradient descent\n",
        "With our model and loss function defined, we are now ready to use the gradient descent algorithm to minimize the loss function, and thus find the optimal values for $m$ and $b$. Fortunately, a library called `PyTorch` already has an implemented version of the gradient descent algorithm for us, and we just need to use it. The algorithm acts almost like a ball rolling downhill into the minimum of the function, but it does so in discrete time steps. PyTorch does not handle this aspect, we need to be responsible for performing each time step of gradient descent. So, roughly in pseudo-code we want to do this:\n",
        "```python\n",
        "for t in range(10000):\n",
        "    # Tell PyTorch to do 1 time step of gradient descent\n",
        "```\n",
        "\n",
        "We can't do this yet, since we don't yet have a way to tell PyTorch to perform 1 time step of gradient descent. To do so, we create an optimizer with a learning rate $\\alpha$ of $0.2$:\n",
        "\n",
        "```python\n",
        "optimizer = optim.Adam([m, b], lr=0.2)\n",
        "```\n"
      ]
    },
    {
      "cell_type": "markdown",
      "metadata": {
        "id": "ZRSXtJ3LgX25"
      },
      "source": [
        "The `optim.Adam` optimizer knows how to perform the gradient descent algorithm for us (actually a faster version of gradient descent). Note that this *does not yet minimize $L$)*. This code only create an optimizer object which we will use to minimize $L$. Note that we indicate which variables we want the optimizer to optimize (that is, modify). \n",
        "\n",
        "Using our new `optimizer` object we are ready to write the optimization loop pseudo-code that we originally wanted. Let's look at the code first, and then break it down:\n",
        "\n",
        "```python\n",
        "for t in range(10000):\n",
        "    optimizer.zero_grad() # 1.\n",
        "    y_predicted = model(x_dataset) # 2.\n",
        "    current_loss = loss(y_predicted, y_dataset) # 3.\n",
        "    current_loss.backward() # 4.\n",
        "    optimizer.step() # 5.\n",
        "    print(f\"t = {t}, loss = {current_loss}, m = {m}, b = {b}\") # 6.\n",
        "```\n",
        "\n",
        "Let's walk through each of the 6 steps to understand all that is happening here:\n",
        "\n",
        "1. Under the hood, PyTorch keeps track of a gradient for each variable and step of the model and loss computation. The first thing we do is set all of these stored gradients to 0, so that we don't reuse any previous, old gradient computations.\n",
        "2. Using the current values of `m` and `b` we compute the predictions of the model.\n",
        "3. We then compute the value of our loss function for the predictions we just made.\n",
        "4. At this point we have the current value of the loss $L$. What we want to do is compute $\\frac{\\partial L}{\\partial a}$ and $\\frac{\\partial L}{\\partial b}$. We ask PyTorch to do this for us using `.backward()`. The name comes from the fact that in order to find the derivatives, PyTorch works \"backward\", starting with the loss and working back to $m$ and $b$. However, the details of how PyTorch computes it are not that important right now. What matters is that `.backward()` does this desired computation, and stores the results somewhere (you can see the results by doing `a.grad` if you wish).\n",
        "5. Crucially though, `.backward()` does NOT actually update the values of `m` and `b`. Instead, we ask the `optimizer` to update `m` and `b`, based on the currently computed gradients.\n",
        "6. Finally we optionally print out some current info so we can observe the training.\n",
        "\n",
        "What we want to see from the print statements is that the gradient descent algorithm **converged**, which means that the algorithm stopped making significant progress because it found the minimum location of the loss function. When the last few print outputs look like:\n",
        "\n",
        "```\n",
        "t = 9992, loss = 83.83984375, m = 1.57234649658203, b = 9.991298828125\n",
        "t = 9993, loss = 83.8359375, m = 1.572356033325195, b = 9.9916040039062\n",
        "t = 9994, loss = 83.84765625, m = 1.57235984802246, b = 9.9919091796875\n",
        "t = 9995, loss = 83.828125, m = 1.572371292114258, b = 9.9922143554688\n",
        "t = 9996, loss = 83.8359375, m = 1.572380828857422, b = 9.99251953125\n",
        "t = 9997, loss = 83.8359375, m = 1.572382736206055, b = 9.9928247070312\n",
        "t = 9998, loss = 83.84375, m = 1.572397994995117, b = 9.9931298828125\n",
        "t = 9999, loss = 83.82421875, m = 1.572401809692383, b = 9.9934350585938\n",
        "```\n",
        "\n",
        "then we can tell that we have achieved convergence, and therefore found the best values of $m$ and $b$.\n"
      ]
    },
    {
      "cell_type": "markdown",
      "metadata": {
        "id": "zjkEC4wvlKLG"
      },
      "source": [
        "### Putting it all together\n",
        "Now let's write the full optimization loop for our model and dataset:"
      ]
    },
    {
      "cell_type": "code",
      "metadata": {
        "colab": {
          "base_uri": "https://localhost:8080/",
          "height": 1000
        },
        "id": "w0BblHi7fZPB",
        "outputId": "b5c187f8-ce59-4443-fe35-2edf08549a77"
      },
      "source": [
        "# First we define the trainable parameters m and b \n",
        "m = torch.randn(1, requires_grad=True) # requires_grad means it is trainable\n",
        "b = torch.randn(1, requires_grad=True)\n",
        "\n",
        "# Then we define the prediction model\n",
        "def model(x):\n",
        "    return m * x + b\n",
        "\n",
        "\n",
        "# Then we define the loss function\n",
        "def loss(y_predicted, y_target):\n",
        "    return ((y_predicted - y_target)**2).sum()\n",
        "\n",
        "# Next setup the optimizer object, so it optimizes m and b.\n",
        "optimizer = optim.Adam([m, b], lr=0.2)\n",
        "\n",
        "# Finally convert the dataset to PyTorch Tensors\n",
        "x = torch.tensor(movies_ds['x'], dtype=torch.float)\n",
        "y = torch.tensor(movies_ds['y'], dtype=torch.float)\n",
        "\n",
        "\n",
        "# Main optimization loop\n",
        "losses = []\n",
        "m_values = []\n",
        "b_values = []\n",
        "for e in range(1, 3001):\n",
        "    # Set the gradients to 0.\n",
        "    optimizer.zero_grad()\n",
        "    # Compute the current predicted y's from x_dataset\n",
        "    y_predicted = model(x) # this is our f(x) function\n",
        "    # See how far off the prediction is\n",
        "    current_loss = loss(y_predicted, y)\n",
        "    # Compute the gradient of the loss with respect to a and b.\n",
        "    current_loss.backward()\n",
        "    # Update a and b accordingly.\n",
        "    optimizer.step()\n",
        "    \n",
        "    losses.append(current_loss.item())\n",
        "    m_values.append(m.item())\n",
        "    b_values.append(b.item())\n",
        "    if e % 100 == 0: \n",
        "        # print and plot the model's estimated line of best fit for the data\n",
        "        print(f\"e = {e}, loss = {current_loss.item()}, m = {m.item()}, b = {b.item()}\")\n",
        "\n",
        "est_best_fit_line = m_b_trace(m_values[-1], b_values[-1], movies_ds['x'].tolist())\n",
        "est_best_fit_trace = trace_values(est_best_fit_line['x'], est_best_fit_line['y'], mode='lines', name=\"estimated line of best fit\")\n",
        "plot([regression_trace, est_best_fit_trace], movies_layout)"
      ],
      "execution_count": null,
      "outputs": [
        {
          "output_type": "stream",
          "text": [
            "e = 100, loss = 15048.111328125, m = 1.511386752128601, b = 2.3415653705596924\n",
            "e = 200, loss = 9273.4677734375, m = 1.50909423828125, b = 3.942739725112915\n",
            "e = 300, loss = 4995.5634765625, m = 1.5066425800323486, b = 5.5705389976501465\n",
            "e = 400, loss = 2366.7568359375, m = 1.504530668258667, b = 6.977109432220459\n",
            "e = 500, loss = 1013.6258544921875, m = 1.502895474433899, b = 8.066057205200195\n",
            "e = 600, loss = 416.58935546875, m = 1.5017383098602295, b = 8.836870193481445\n",
            "e = 700, loss = 188.2991943359375, m = 1.5009819269180298, b = 9.340523719787598\n",
            "e = 800, loss = 112.3116455078125, m = 1.5005239248275757, b = 9.645742416381836\n",
            "e = 900, loss = 90.25753021240234, m = 1.5002655982971191, b = 9.817665100097656\n",
            "e = 1000, loss = 84.68185424804688, m = 1.5001306533813477, b = 9.907721519470215\n",
            "e = 1100, loss = 83.45729064941406, m = 1.5000646114349365, b = 9.951577186584473\n",
            "e = 1200, loss = 83.2242660522461, m = 1.5000346899032593, b = 9.971392631530762\n",
            "e = 1300, loss = 83.18580627441406, m = 1.5000224113464355, b = 9.97968578338623\n",
            "e = 1400, loss = 83.18094635009766, m = 1.5000174045562744, b = 9.982897758483887\n",
            "e = 1500, loss = 83.17969512939453, m = 1.5000159740447998, b = 9.984040260314941\n",
            "e = 1600, loss = 83.17718505859375, m = 1.500015139579773, b = 9.984411239624023\n",
            "e = 1700, loss = 83.18045806884766, m = 1.500015139579773, b = 9.984527587890625\n",
            "e = 1800, loss = 83.17871856689453, m = 1.5000150203704834, b = 9.984530448913574\n",
            "e = 1900, loss = 83.17903137207031, m = 1.5000152587890625, b = 9.98453426361084\n",
            "e = 2000, loss = 83.17877960205078, m = 1.500015139579773, b = 9.984535217285156\n",
            "e = 2100, loss = 83.17877960205078, m = 1.500015139579773, b = 9.984535217285156\n",
            "e = 2200, loss = 83.17877960205078, m = 1.5000150203704834, b = 9.984535217285156\n",
            "e = 2300, loss = 83.17945098876953, m = 1.5000152587890625, b = 9.984535217285156\n",
            "e = 2400, loss = 83.17794799804688, m = 1.5000150203704834, b = 9.984535217285156\n",
            "e = 2500, loss = 83.333984375, m = 1.5000407695770264, b = 9.984569549560547\n",
            "e = 2600, loss = 118.03192138671875, m = 1.4993125200271606, b = 9.983863830566406\n",
            "e = 2700, loss = 83.19903564453125, m = 1.5000085830688477, b = 9.984557151794434\n",
            "e = 2800, loss = 685.5281372070312, m = 1.4982595443725586, b = 9.982830047607422\n",
            "e = 2900, loss = 102.17659759521484, m = 1.5003437995910645, b = 9.984888076782227\n",
            "e = 3000, loss = 83.18180084228516, m = 1.500016450881958, b = 9.984564781188965\n"
          ],
          "name": "stdout"
        },
        {
          "output_type": "display_data",
          "data": {
            "text/html": [
              "<html>\n",
              "<head><meta charset=\"utf-8\" /></head>\n",
              "<body>\n",
              "    <div>\n",
              "            <script src=\"https://cdnjs.cloudflare.com/ajax/libs/mathjax/2.7.5/MathJax.js?config=TeX-AMS-MML_SVG\"></script><script type=\"text/javascript\">if (window.MathJax) {MathJax.Hub.Config({SVG: {font: \"STIX-Web\"}});}</script>\n",
              "                <script type=\"text/javascript\">window.PlotlyConfig = {MathJaxConfig: 'local'};</script>\n",
              "        <script src=\"https://cdn.plot.ly/plotly-latest.min.js\"></script>    \n",
              "            <div id=\"b1469015-4c86-4709-ac7b-d6d517cdbe9a\" class=\"plotly-graph-div\" style=\"height:525px; width:100%;\"></div>\n",
              "            <script type=\"text/javascript\">\n",
              "                \n",
              "                    window.PLOTLYENV=window.PLOTLYENV || {};\n",
              "                    \n",
              "                if (document.getElementById(\"b1469015-4c86-4709-ac7b-d6d517cdbe9a\")) {\n",
              "                    Plotly.newPlot(\n",
              "                        'b1469015-4c86-4709-ac7b-d6d517cdbe9a',\n",
              "                        [{\"mode\": \"markers\", \"name\": \"synthetic movie revenue vs budget data\", \"text\": [], \"type\": \"scatter\", \"x\": [0, 1, 2, 3, 4, 5, 6, 7, 8, 9, 10, 11, 12, 13, 14, 15, 16, 17, 18, 19, 20, 21, 22, 23, 24, 25, 26, 27, 28, 29, 30, 31, 32, 33, 34, 35, 36, 37, 38, 39, 40, 41, 42, 43, 44, 45, 46, 47, 48, 49, 50, 51, 52, 53, 54, 55, 56, 57, 58, 59, 60, 61, 62, 63, 64, 65, 66, 67, 68, 69, 70, 71, 72, 73, 74, 75, 76, 77, 78, 79, 80, 81, 82, 83, 84, 85, 86, 87, 88, 89, 90, 91, 92, 93, 94, 95, 96, 97, 98, 99], \"y\": [25.57240116760306, 30.709951435700685, 31.284034368747694, 31.63312096897713, 28.778722894516577, 38.631466666496, 35.401204326191355, 52.35980020930039, 9.616826144579989, 51.22908513030886, 48.889482126173725, 54.84161135138289, 36.73745043024037, 49.51589491651993, 58.154030776174565, 54.293390146559645, 56.526277636428546, 54.26142689704574, 68.47962595558677, 63.48452908618238, 57.1167055820267, 47.730836135831176, 60.40593220156077, 70.3112678193925, 64.57981499274383, 57.63411694028095, 55.11653637759464, 71.13936218609383, 56.53973118746855, 70.20676461381746, 62.05239232291991, 92.35969742981547, 73.05849540337536, 83.60378698269739, 71.39494659405162, 85.20022432776722, 80.40759824115239, 98.94396663751455, 82.965117517434, 102.58340871495537, 84.66012180882993, 85.34585103444641, 100.94872009930461, 86.26406837754939, 108.18808099537561, 91.32744423476993, 106.09305432783631, 98.11852773487881, 86.84201203058771, 103.2696835731626, 112.28258409748344, 103.94650408550095, 113.27071736132031, 108.48109748236926, 116.1840233465575, 95.47946024062645, 107.7575691248363, 119.23632762084205, 113.88768978387218, 119.22798345447416, 116.63427518834126, 125.1021118178371, 110.42884704891274, 125.52020636040714, 111.84648679750944, 134.76402214495005, 138.81908134405342, 114.59466684855246, 127.93731120465046, 122.29021856133076, 134.5386687381449, 135.68002866638525, 131.95355057306648, 119.17352000869573, 125.2819886892172, 122.26792207324212, 141.69987405073977, 134.78634519352747, 165.33116021448703, 164.51297211127695, 135.07933753616877, 155.98768859027982, 142.62372356884845, 149.7021520323178, 154.12589625300316, 163.2848384210459, 161.9298533534868, 183.64580597480773, 167.00999836902122, 176.0691401635708, 175.68503846349296, 159.75020429091973, 184.1869465735037, 163.88488157912036, 176.55462017087197, 179.77089717311046, 183.4438895848683, 175.93401099538687, 172.57759781010844, 171.30010805764468]}, {\"mode\": \"lines\", \"name\": \"estimated line of best fit\", \"text\": [], \"type\": \"scatter\", \"x\": [0, 1, 2, 3, 4, 5, 6, 7, 8, 9, 10, 11, 12, 13, 14, 15, 16, 17, 18, 19, 20, 21, 22, 23, 24, 25, 26, 27, 28, 29, 30, 31, 32, 33, 34, 35, 36, 37, 38, 39, 40, 41, 42, 43, 44, 45, 46, 47, 48, 49, 50, 51, 52, 53, 54, 55, 56, 57, 58, 59, 60, 61, 62, 63, 64, 65, 66, 67, 68, 69, 70, 71, 72, 73, 74, 75, 76, 77, 78, 79, 80, 81, 82, 83, 84, 85, 86, 87, 88, 89, 90, 91, 92, 93, 94, 95, 96, 97, 98, 99, 100, 101, 102, 103, 104, 105, 106, 107, 108, 109, 110, 111, 112, 113, 114, 115, 116, 117, 118, 119, 120, 121, 122, 123, 124, 125, 126, 127, 128, 129, 130, 131, 132, 133, 134, 135, 136, 137, 138, 139, 140, 141, 142, 143, 144, 145, 146, 147, 148, 149, 150, 151, 152, 153, 154, 155, 156, 157, 158, 159, 160, 161, 162, 163, 164, 165, 166, 167, 168, 169, 170, 171, 172, 173, 174, 175, 176, 177, 178, 179, 180, 181, 182, 183, 184, 185, 186, 187, 188, 189, 190, 191, 192, 193, 194, 195, 196, 197, 198, 199, 200, 201, 202, 203, 204, 205, 206, 207, 208, 209, 210, 211, 212, 213, 214, 215, 216, 217, 218, 219, 220, 221, 222, 223, 224, 225, 226, 227, 228, 229, 230, 231, 232, 233, 234, 235, 236, 237, 238, 239, 240, 241, 242, 243, 244, 245, 246, 247, 248, 249, 250, 251, 252, 253, 254, 255, 256, 257, 258, 259, 260, 261, 262, 263, 264, 265, 266, 267, 268, 269, 270, 271, 272, 273, 274, 275, 276, 277, 278, 279, 280, 281, 282, 283, 284, 285, 286, 287, 288, 289, 290, 291, 292, 293, 294, 295, 296, 297, 298, 299, 300, 301, 302, 303, 304, 305, 306, 307, 308, 309, 310, 311, 312, 313, 314, 315, 316, 317, 318, 319, 320, 321, 322, 323, 324, 325, 326, 327, 328, 329, 330, 331, 332, 333, 334, 335, 336, 337, 338, 339, 340, 341, 342, 343, 344, 345, 346, 347, 348, 349, 350, 351, 352, 353, 354, 355, 356, 357, 358, 359, 360, 361, 362, 363, 364, 365, 366, 367, 368, 369, 370, 371, 372, 373, 374, 375, 376, 377, 378, 379, 380, 381, 382, 383, 384, 385, 386, 387, 388, 389, 390, 391, 392, 393, 394, 395, 396, 397, 398, 399, 400, 401, 402, 403, 404, 405, 406, 407, 408, 409, 410, 411, 412, 413, 414, 415, 416, 417, 418, 419, 420, 421, 422, 423, 424, 425, 426, 427, 428, 429, 430, 431, 432, 433, 434, 435, 436, 437, 438, 439, 440, 441, 442, 443, 444, 445, 446, 447, 448, 449, 450, 451, 452, 453, 454, 455, 456, 457, 458, 459, 460, 461, 462, 463, 464, 465, 466, 467, 468, 469, 470, 471, 472, 473, 474, 475, 476, 477, 478, 479, 480, 481, 482, 483, 484, 485, 486, 487, 488, 489, 490, 491, 492, 493, 494, 495, 496, 497, 498, 499, 500, 501, 502, 503, 504, 505, 506, 507, 508, 509, 510, 511, 512, 513, 514, 515, 516, 517, 518, 519, 520, 521, 522, 523, 524, 525, 526, 527, 528, 529, 530, 531, 532, 533, 534, 535, 536, 537, 538, 539, 540, 541, 542, 543, 544, 545, 546, 547, 548, 549, 550, 551, 552, 553, 554, 555, 556, 557, 558, 559, 560, 561, 562, 563, 564, 565, 566, 567, 568, 569, 570, 571, 572, 573, 574, 575, 576, 577, 578, 579, 580, 581, 582, 583, 584, 585, 586, 587, 588, 589, 590, 591, 592, 593, 594, 595, 596, 597, 598, 599, 600, 601, 602, 603, 604, 605, 606, 607, 608, 609, 610, 611, 612, 613, 614, 615, 616, 617, 618, 619, 620, 621, 622, 623, 624, 625, 626, 627, 628, 629, 630, 631, 632, 633, 634, 635, 636, 637, 638, 639, 640, 641, 642, 643, 644, 645, 646, 647, 648, 649, 650, 651, 652, 653, 654, 655, 656, 657, 658, 659, 660, 661, 662, 663, 664, 665, 666, 667, 668, 669, 670, 671, 672, 673, 674, 675, 676, 677, 678, 679, 680, 681, 682, 683, 684, 685, 686, 687, 688, 689, 690, 691, 692, 693, 694, 695, 696, 697, 698, 699, 700, 701, 702, 703, 704, 705, 706, 707, 708, 709, 710, 711, 712, 713, 714, 715, 716, 717, 718, 719, 720, 721, 722, 723, 724, 725, 726, 727, 728, 729, 730, 731, 732, 733, 734, 735, 736, 737, 738, 739, 740, 741, 742, 743, 744, 745, 746, 747, 748, 749, 750, 751, 752, 753, 754, 755, 756, 757, 758, 759, 760, 761, 762, 763, 764, 765, 766, 767, 768, 769, 770, 771, 772, 773, 774, 775, 776, 777, 778, 779, 780, 781, 782, 783, 784, 785, 786, 787, 788, 789, 790, 791, 792, 793, 794, 795, 796, 797, 798, 799, 800, 801, 802, 803, 804, 805, 806, 807, 808, 809, 810, 811, 812, 813, 814, 815, 816, 817, 818, 819, 820, 821, 822, 823, 824, 825, 826, 827, 828, 829, 830, 831, 832, 833, 834, 835, 836, 837, 838, 839, 840, 841, 842, 843, 844, 845, 846, 847, 848, 849, 850, 851, 852, 853, 854, 855, 856, 857, 858, 859, 860, 861, 862, 863, 864, 865, 866, 867, 868, 869, 870, 871, 872, 873, 874, 875, 876, 877, 878, 879, 880, 881, 882, 883, 884, 885, 886, 887, 888, 889, 890, 891, 892, 893, 894, 895, 896, 897, 898, 899, 900, 901, 902, 903, 904, 905, 906, 907, 908, 909, 910, 911, 912, 913, 914, 915, 916, 917, 918, 919, 920, 921, 922, 923, 924, 925, 926, 927, 928, 929, 930, 931, 932, 933, 934, 935, 936, 937, 938, 939, 940, 941, 942, 943, 944, 945, 946, 947, 948, 949, 950, 951, 952, 953, 954, 955, 956, 957, 958, 959, 960, 961, 962, 963, 964, 965, 966, 967, 968, 969, 970, 971, 972, 973, 974, 975, 976, 977, 978, 979, 980, 981, 982, 983, 984, 985, 986, 987, 988, 989, 990, 991, 992, 993, 994, 995, 996, 997, 998, 999], \"y\": [9.984564781188965, 11.484581232070923, 12.98459768295288, 14.484614133834839, 15.984630584716797, 17.484647035598755, 18.984663486480713, 20.48467993736267, 21.98469638824463, 23.484712839126587, 24.984729290008545, 26.484745740890503, 27.98476219177246, 29.48477864265442, 30.984795093536377, 32.484811544418335, 33.98482799530029, 35.48484444618225, 36.98486089706421, 38.48487734794617, 39.984893798828125, 41.48491024971008, 42.98492670059204, 44.484943151474, 45.98495960235596, 47.484976053237915, 48.98499250411987, 50.48500895500183, 51.98502540588379, 53.48504185676575, 54.985058307647705, 56.48507475852966, 57.98509120941162, 59.48510766029358, 60.98512411117554, 62.485140562057495, 63.98515701293945, 65.48517346382141, 66.98518991470337, 68.48520636558533, 69.98522281646729, 71.48523926734924, 72.9852557182312, 74.48527216911316, 75.98528861999512, 77.48530507087708, 78.98532152175903, 80.48533797264099, 81.98535442352295, 83.48537087440491, 84.98538732528687, 86.48540377616882, 87.98542022705078, 89.48543667793274, 90.9854531288147, 92.48546957969666, 93.98548603057861, 95.48550248146057, 96.98551893234253, 98.48553538322449, 99.98555183410645, 101.4855682849884, 102.98558473587036, 104.48560118675232, 105.98561763763428, 107.48563408851624, 108.9856505393982, 110.48566699028015, 111.98568344116211, 113.48569989204407, 114.98571634292603, 116.48573279380798, 117.98574924468994, 119.4857656955719, 120.98578214645386, 122.48579859733582, 123.98581504821777, 125.48583149909973, 126.98584794998169, 128.48586440086365, 129.9858808517456, 131.48589730262756, 132.98591375350952, 134.48593020439148, 135.98594665527344, 137.4859631061554, 138.98597955703735, 140.4859960079193, 141.98601245880127, 143.48602890968323, 144.98604536056519, 146.48606181144714, 147.9860782623291, 149.48609471321106, 150.98611116409302, 152.48612761497498, 153.98614406585693, 155.4861605167389, 156.98617696762085, 158.4861934185028, 159.98620986938477, 161.48622632026672, 162.98624277114868, 164.48625922203064, 165.9862756729126, 167.48629212379456, 168.9863085746765, 170.48632502555847, 171.98634147644043, 173.4863579273224, 174.98637437820435, 176.4863908290863, 177.98640727996826, 179.48642373085022, 180.98644018173218, 182.48645663261414, 183.9864730834961, 185.48648953437805, 186.98650598526, 188.48652243614197, 189.98653888702393, 191.48655533790588, 192.98657178878784, 194.4865882396698, 195.98660469055176, 197.48662114143372, 198.98663759231567, 200.48665404319763, 201.9866704940796, 203.48668694496155, 204.9867033958435, 206.48671984672546, 207.98673629760742, 209.48675274848938, 210.98676919937134, 212.4867856502533, 213.98680210113525, 215.4868185520172, 216.98683500289917, 218.48685145378113, 219.9868679046631, 221.48688435554504, 222.986900806427, 224.48691725730896, 225.98693370819092, 227.48695015907288, 228.98696660995483, 230.4869830608368, 231.98699951171875, 233.4870159626007, 234.98703241348267, 236.48704886436462, 237.98706531524658, 239.48708176612854, 240.9870982170105, 242.48711466789246, 243.9871311187744, 245.48714756965637, 246.98716402053833, 248.4871804714203, 249.98719692230225, 251.4872133731842, 252.98722982406616, 254.48724627494812, 255.98726272583008, 257.48727917671204, 258.987295627594, 260.48731207847595, 261.9873285293579, 263.48734498023987, 264.9873614311218, 266.4873778820038, 267.98739433288574, 269.4874107837677, 270.98742723464966, 272.4874436855316, 273.9874601364136, 275.48747658729553, 276.9874930381775, 278.48750948905945, 279.9875259399414, 281.48754239082336, 282.9875588417053, 284.4875752925873, 285.98759174346924, 287.4876081943512, 288.98762464523315, 290.4876410961151, 291.98765754699707, 293.487673997879, 294.987690448761, 296.48770689964294, 297.9877233505249, 299.48773980140686, 300.9877562522888, 302.4877727031708, 303.98778915405273, 305.4878056049347, 306.98782205581665, 308.4878385066986, 309.98785495758057, 311.4878714084625, 312.9878878593445, 314.48790431022644, 315.9879207611084, 317.48793721199036, 318.9879536628723, 320.4879701137543, 321.98798656463623, 323.4880030155182, 324.98801946640015, 326.4880359172821, 327.98805236816406, 329.488068819046, 330.988085269928, 332.48810172080994, 333.9881181716919, 335.48813462257385, 336.9881510734558, 338.48816752433777, 339.9881839752197, 341.4882004261017, 342.98821687698364, 344.4882333278656, 345.98824977874756, 347.4882662296295, 348.9882826805115, 350.48829913139343, 351.9883155822754, 353.48833203315735, 354.9883484840393, 356.48836493492126, 357.9883813858032, 359.4883978366852, 360.98841428756714, 362.4884307384491, 363.98844718933105, 365.488463640213, 366.98848009109497, 368.48849654197693, 369.9885129928589, 371.48852944374084, 372.9885458946228, 374.48856234550476, 375.9885787963867, 377.4885952472687, 378.98861169815063, 380.4886281490326, 381.98864459991455, 383.4886610507965, 384.98867750167847, 386.4886939525604, 387.9887104034424, 389.48872685432434, 390.9887433052063, 392.48875975608826, 393.9887762069702, 395.4887926578522, 396.98880910873413, 398.4888255596161, 399.98884201049805, 401.48885846138, 402.98887491226196, 404.4888913631439, 405.9889078140259, 407.48892426490784, 408.9889407157898, 410.48895716667175, 411.9889736175537, 413.48899006843567, 414.9890065193176, 416.4890229701996, 417.98903942108154, 419.4890558719635, 420.98907232284546, 422.4890887737274, 423.9891052246094, 425.48912167549133, 426.9891381263733, 428.48915457725525, 429.9891710281372, 431.48918747901917, 432.9892039299011, 434.4892203807831, 435.98923683166504, 437.489253282547, 438.98926973342896, 440.4892861843109, 441.98930263519287, 443.48931908607483, 444.9893355369568, 446.48935198783875, 447.9893684387207, 449.48938488960266, 450.9894013404846, 452.4894177913666, 453.98943424224854, 455.4894506931305, 456.98946714401245, 458.4894835948944, 459.98950004577637, 461.4895164966583, 462.9895329475403, 464.48954939842224, 465.9895658493042, 467.48958230018616, 468.9895987510681, 470.4896152019501, 471.98963165283203, 473.489648103714, 474.98966455459595, 476.4896810054779, 477.98969745635986, 479.4897139072418, 480.9897303581238, 482.48974680900574, 483.9897632598877, 485.48977971076965, 486.9897961616516, 488.48981261253357, 489.9898290634155, 491.4898455142975, 492.98986196517944, 494.4898784160614, 495.98989486694336, 497.4899113178253, 498.9899277687073, 500.48994421958923, 501.9899606704712, 503.48997712135315, 504.9899935722351, 506.49001002311707, 507.990026473999, 509.490042924881, 510.99005937576294, 512.4900758266449, 513.9900922775269, 515.4901087284088, 516.9901251792908, 518.4901416301727, 519.9901580810547, 521.4901745319366, 522.9901909828186, 524.4902074337006, 525.9902238845825, 527.4902403354645, 528.9902567863464, 530.4902732372284, 531.9902896881104, 533.4903061389923, 534.9903225898743, 536.4903390407562, 537.9903554916382, 539.4903719425201, 540.9903883934021, 542.4904048442841, 543.990421295166, 545.490437746048, 546.9904541969299, 548.4904706478119, 549.9904870986938, 551.4905035495758, 552.9905200004578, 554.4905364513397, 555.9905529022217, 557.4905693531036, 558.9905858039856, 560.4906022548676, 561.9906187057495, 563.4906351566315, 564.9906516075134, 566.4906680583954, 567.9906845092773, 569.4907009601593, 570.9907174110413, 572.4907338619232, 573.9907503128052, 575.4907667636871, 576.9907832145691, 578.490799665451, 579.990816116333, 581.490832567215, 582.9908490180969, 584.4908654689789, 585.9908819198608, 587.4908983707428, 588.9909148216248, 590.4909312725067, 591.9909477233887, 593.4909641742706, 594.9909806251526, 596.4909970760345, 597.9910135269165, 599.4910299777985, 600.9910464286804, 602.4910628795624, 603.9910793304443, 605.4910957813263, 606.9911122322083, 608.4911286830902, 609.9911451339722, 611.4911615848541, 612.9911780357361, 614.491194486618, 615.9912109375, 617.491227388382, 618.9912438392639, 620.4912602901459, 621.9912767410278, 623.4912931919098, 624.9913096427917, 626.4913260936737, 627.9913425445557, 629.4913589954376, 630.9913754463196, 632.4913918972015, 633.9914083480835, 635.4914247989655, 636.9914412498474, 638.4914577007294, 639.9914741516113, 641.4914906024933, 642.9915070533752, 644.4915235042572, 645.9915399551392, 647.4915564060211, 648.9915728569031, 650.491589307785, 651.991605758667, 653.491622209549, 654.9916386604309, 656.4916551113129, 657.9916715621948, 659.4916880130768, 660.9917044639587, 662.4917209148407, 663.9917373657227, 665.4917538166046, 666.9917702674866, 668.4917867183685, 669.9918031692505, 671.4918196201324, 672.9918360710144, 674.4918525218964, 675.9918689727783, 677.4918854236603, 678.9919018745422, 680.4919183254242, 681.9919347763062, 683.4919512271881, 684.9919676780701, 686.491984128952, 687.992000579834, 689.4920170307159, 690.9920334815979, 692.4920499324799, 693.9920663833618, 695.4920828342438, 696.9920992851257, 698.4921157360077, 699.9921321868896, 701.4921486377716, 702.9921650886536, 704.4921815395355, 705.9921979904175, 707.4922144412994, 708.9922308921814, 710.4922473430634, 711.9922637939453, 713.4922802448273, 714.9922966957092, 716.4923131465912, 717.9923295974731, 719.4923460483551, 720.9923624992371, 722.492378950119, 723.992395401001, 725.4924118518829, 726.9924283027649, 728.4924447536469, 729.9924612045288, 731.4924776554108, 732.9924941062927, 734.4925105571747, 735.9925270080566, 737.4925434589386, 738.9925599098206, 740.4925763607025, 741.9925928115845, 743.4926092624664, 744.9926257133484, 746.4926421642303, 747.9926586151123, 749.4926750659943, 750.9926915168762, 752.4927079677582, 753.9927244186401, 755.4927408695221, 756.992757320404, 758.492773771286, 759.992790222168, 761.4928066730499, 762.9928231239319, 764.4928395748138, 765.9928560256958, 767.4928724765778, 768.9928889274597, 770.4929053783417, 771.9929218292236, 773.4929382801056, 774.9929547309875, 776.4929711818695, 777.9929876327515, 779.4930040836334, 780.9930205345154, 782.4930369853973, 783.9930534362793, 785.4930698871613, 786.9930863380432, 788.4931027889252, 789.9931192398071, 791.4931356906891, 792.993152141571, 794.493168592453, 795.993185043335, 797.4932014942169, 798.9932179450989, 800.4932343959808, 801.9932508468628, 803.4932672977448, 804.9932837486267, 806.4933001995087, 807.9933166503906, 809.4933331012726, 810.9933495521545, 812.4933660030365, 813.9933824539185, 815.4933989048004, 816.9934153556824, 818.4934318065643, 819.9934482574463, 821.4934647083282, 822.9934811592102, 824.4934976100922, 825.9935140609741, 827.4935305118561, 828.993546962738, 830.49356341362, 831.993579864502, 833.4935963153839, 834.9936127662659, 836.4936292171478, 837.9936456680298, 839.4936621189117, 840.9936785697937, 842.4936950206757, 843.9937114715576, 845.4937279224396, 846.9937443733215, 848.4937608242035, 849.9937772750854, 851.4937937259674, 852.9938101768494, 854.4938266277313, 855.9938430786133, 857.4938595294952, 858.9938759803772, 860.4938924312592, 861.9939088821411, 863.4939253330231, 864.993941783905, 866.493958234787, 867.993974685669, 869.4939911365509, 870.9940075874329, 872.4940240383148, 873.9940404891968, 875.4940569400787, 876.9940733909607, 878.4940898418427, 879.9941062927246, 881.4941227436066, 882.9941391944885, 884.4941556453705, 885.9941720962524, 887.4941885471344, 888.9942049980164, 890.4942214488983, 891.9942378997803, 893.4942543506622, 894.9942708015442, 896.4942872524261, 897.9943037033081, 899.4943201541901, 900.994336605072, 902.494353055954, 903.9943695068359, 905.4943859577179, 906.9944024085999, 908.4944188594818, 909.9944353103638, 911.4944517612457, 912.9944682121277, 914.4944846630096, 915.9945011138916, 917.4945175647736, 918.9945340156555, 920.4945504665375, 921.9945669174194, 923.4945833683014, 924.9945998191833, 926.4946162700653, 927.9946327209473, 929.4946491718292, 930.9946656227112, 932.4946820735931, 933.9946985244751, 935.494714975357, 936.994731426239, 938.494747877121, 939.9947643280029, 941.4947807788849, 942.9947972297668, 944.4948136806488, 945.9948301315308, 947.4948465824127, 948.9948630332947, 950.4948794841766, 951.9948959350586, 953.4949123859406, 954.9949288368225, 956.4949452877045, 957.9949617385864, 959.4949781894684, 960.9949946403503, 962.4950110912323, 963.9950275421143, 965.4950439929962, 966.9950604438782, 968.4950768947601, 969.9950933456421, 971.495109796524, 972.995126247406, 974.495142698288, 975.9951591491699, 977.4951756000519, 978.9951920509338, 980.4952085018158, 981.9952249526978, 983.4952414035797, 984.9952578544617, 986.4952743053436, 987.9952907562256, 989.4953072071075, 990.9953236579895, 992.4953401088715, 993.9953565597534, 995.4953730106354, 996.9953894615173, 998.4954059123993, 999.9954223632812, 1001.4954388141632, 1002.9954552650452, 1004.4954717159271, 1005.9954881668091, 1007.495504617691, 1008.995521068573, 1010.495537519455, 1011.9955539703369, 1013.4955704212189, 1014.9955868721008, 1016.4956033229828, 1017.9956197738647, 1019.4956362247467, 1020.9956526756287, 1022.4956691265106, 1023.9956855773926, 1025.4957020282745, 1026.9957184791565, 1028.4957349300385, 1029.9957513809204, 1031.4957678318024, 1032.9957842826843, 1034.4958007335663, 1035.9958171844482, 1037.4958336353302, 1038.9958500862122, 1040.4958665370941, 1041.995882987976, 1043.495899438858, 1044.99591588974, 1046.495932340622, 1047.995948791504, 1049.4959652423859, 1050.9959816932678, 1052.4959981441498, 1053.9960145950317, 1055.4960310459137, 1056.9960474967957, 1058.4960639476776, 1059.9960803985596, 1061.4960968494415, 1062.9961133003235, 1064.4961297512054, 1065.9961462020874, 1067.4961626529694, 1068.9961791038513, 1070.4961955547333, 1071.9962120056152, 1073.4962284564972, 1074.9962449073792, 1076.496261358261, 1077.996277809143, 1079.496294260025, 1080.996310710907, 1082.496327161789, 1083.996343612671, 1085.4963600635529, 1086.9963765144348, 1088.4963929653168, 1089.9964094161987, 1091.4964258670807, 1092.9964423179626, 1094.4964587688446, 1095.9964752197266, 1097.4964916706085, 1098.9965081214905, 1100.4965245723724, 1101.9965410232544, 1103.4965574741364, 1104.9965739250183, 1106.4965903759003, 1107.9966068267822, 1109.4966232776642, 1110.9966397285461, 1112.496656179428, 1113.99667263031, 1115.496689081192, 1116.996705532074, 1118.496721982956, 1119.996738433838, 1121.4967548847198, 1122.9967713356018, 1124.4967877864838, 1125.9968042373657, 1127.4968206882477, 1128.9968371391296, 1130.4968535900116, 1131.9968700408936, 1133.4968864917755, 1134.9969029426575, 1136.4969193935394, 1137.9969358444214, 1139.4969522953033, 1140.9969687461853, 1142.4969851970673, 1143.9970016479492, 1145.4970180988312, 1146.9970345497131, 1148.497051000595, 1149.997067451477, 1151.497083902359, 1152.997100353241, 1154.497116804123, 1155.9971332550049, 1157.4971497058868, 1158.9971661567688, 1160.4971826076508, 1161.9971990585327, 1163.4972155094147, 1164.9972319602966, 1166.4972484111786, 1167.9972648620605, 1169.4972813129425, 1170.9972977638245, 1172.4973142147064, 1173.9973306655884, 1175.4973471164703, 1176.9973635673523, 1178.4973800182343, 1179.9973964691162, 1181.4974129199982, 1182.9974293708801, 1184.497445821762, 1185.997462272644, 1187.497478723526, 1188.997495174408, 1190.49751162529, 1191.9975280761719, 1193.4975445270538, 1194.9975609779358, 1196.4975774288177, 1197.9975938796997, 1199.4976103305817, 1200.9976267814636, 1202.4976432323456, 1203.9976596832275, 1205.4976761341095, 1206.9976925849915, 1208.4977090358734, 1209.9977254867554, 1211.4977419376373, 1212.9977583885193, 1214.4977748394012, 1215.9977912902832, 1217.4978077411652, 1218.9978241920471, 1220.497840642929, 1221.997857093811, 1223.497873544693, 1224.997889995575, 1226.497906446457, 1227.9979228973389, 1229.4979393482208, 1230.9979557991028, 1232.4979722499847, 1233.9979887008667, 1235.4980051517487, 1236.9980216026306, 1238.4980380535126, 1239.9980545043945, 1241.4980709552765, 1242.9980874061584, 1244.4981038570404, 1245.9981203079224, 1247.4981367588043, 1248.9981532096863, 1250.4981696605682, 1251.9981861114502, 1253.4982025623322, 1254.998219013214, 1256.498235464096, 1257.998251914978, 1259.49826836586, 1260.998284816742, 1262.498301267624, 1263.9983177185059, 1265.4983341693878, 1266.9983506202698, 1268.4983670711517, 1269.9983835220337, 1271.4983999729156, 1272.9984164237976, 1274.4984328746796, 1275.9984493255615, 1277.4984657764435, 1278.9984822273254, 1280.4984986782074, 1281.9985151290894, 1283.4985315799713, 1284.9985480308533, 1286.4985644817352, 1287.9985809326172, 1289.4985973834991, 1290.998613834381, 1292.498630285263, 1293.998646736145, 1295.498663187027, 1296.998679637909, 1298.498696088791, 1299.9987125396729, 1301.4987289905548, 1302.9987454414368, 1304.4987618923187, 1305.9987783432007, 1307.4987947940826, 1308.9988112449646, 1310.4988276958466, 1311.9988441467285, 1313.4988605976105, 1314.9988770484924, 1316.4988934993744, 1317.9989099502563, 1319.4989264011383, 1320.9989428520203, 1322.4989593029022, 1323.9989757537842, 1325.4989922046661, 1326.999008655548, 1328.49902510643, 1329.999041557312, 1331.499058008194, 1332.999074459076, 1334.4990909099579, 1335.9991073608398, 1337.4991238117218, 1338.9991402626038, 1340.4991567134857, 1341.9991731643677, 1343.4991896152496, 1344.9992060661316, 1346.4992225170135, 1347.9992389678955, 1349.4992554187775, 1350.9992718696594, 1352.4992883205414, 1353.9993047714233, 1355.4993212223053, 1356.9993376731873, 1358.4993541240692, 1359.9993705749512, 1361.4993870258331, 1362.999403476715, 1364.499419927597, 1365.999436378479, 1367.499452829361, 1368.999469280243, 1370.4994857311249, 1371.9995021820068, 1373.4995186328888, 1374.9995350837708, 1376.4995515346527, 1377.9995679855347, 1379.4995844364166, 1380.9996008872986, 1382.4996173381805, 1383.9996337890625, 1385.4996502399445, 1386.9996666908264, 1388.4996831417084, 1389.9996995925903, 1391.4997160434723, 1392.9997324943542, 1394.4997489452362, 1395.9997653961182, 1397.4997818470001, 1398.999798297882, 1400.499814748764, 1401.999831199646, 1403.499847650528, 1404.99986410141, 1406.4998805522919, 1407.9998970031738, 1409.4999134540558, 1410.9999299049377, 1412.4999463558197, 1413.9999628067017, 1415.4999792575836, 1416.9999957084656, 1418.5000121593475, 1420.0000286102295, 1421.5000450611115, 1423.0000615119934, 1424.5000779628754, 1426.0000944137573, 1427.5001108646393, 1429.0001273155212, 1430.5001437664032, 1432.0001602172852, 1433.5001766681671, 1435.000193119049, 1436.500209569931, 1438.000226020813, 1439.500242471695, 1441.000258922577, 1442.5002753734589, 1444.0002918243408, 1445.5003082752228, 1447.0003247261047, 1448.5003411769867, 1450.0003576278687, 1451.5003740787506, 1453.0003905296326, 1454.5004069805145, 1456.0004234313965, 1457.5004398822784, 1459.0004563331604, 1460.5004727840424, 1462.0004892349243, 1463.5005056858063, 1465.0005221366882, 1466.5005385875702, 1468.0005550384521, 1469.500571489334, 1471.000587940216, 1472.500604391098, 1474.00062084198, 1475.500637292862, 1477.000653743744, 1478.5006701946259, 1480.0006866455078, 1481.5007030963898, 1483.0007195472717, 1484.5007359981537, 1486.0007524490356, 1487.5007688999176, 1489.0007853507996, 1490.5008018016815, 1492.0008182525635, 1493.5008347034454, 1495.0008511543274, 1496.5008676052094, 1498.0008840560913, 1499.5009005069733, 1501.0009169578552, 1502.5009334087372, 1504.0009498596191, 1505.500966310501, 1507.000982761383, 1508.500999212265]}],\n",
              "                        {\"template\": {\"data\": {\"bar\": [{\"error_x\": {\"color\": \"#2a3f5f\"}, \"error_y\": {\"color\": \"#2a3f5f\"}, \"marker\": {\"line\": {\"color\": \"#E5ECF6\", \"width\": 0.5}}, \"type\": \"bar\"}], \"barpolar\": [{\"marker\": {\"line\": {\"color\": \"#E5ECF6\", \"width\": 0.5}}, \"type\": \"barpolar\"}], \"carpet\": [{\"aaxis\": {\"endlinecolor\": \"#2a3f5f\", \"gridcolor\": \"white\", \"linecolor\": \"white\", \"minorgridcolor\": \"white\", \"startlinecolor\": \"#2a3f5f\"}, \"baxis\": {\"endlinecolor\": \"#2a3f5f\", \"gridcolor\": \"white\", \"linecolor\": \"white\", \"minorgridcolor\": \"white\", \"startlinecolor\": \"#2a3f5f\"}, \"type\": \"carpet\"}], \"choropleth\": [{\"colorbar\": {\"outlinewidth\": 0, \"ticks\": \"\"}, \"type\": \"choropleth\"}], \"contour\": [{\"colorbar\": {\"outlinewidth\": 0, \"ticks\": \"\"}, \"colorscale\": [[0.0, \"#0d0887\"], [0.1111111111111111, \"#46039f\"], [0.2222222222222222, \"#7201a8\"], [0.3333333333333333, \"#9c179e\"], [0.4444444444444444, \"#bd3786\"], [0.5555555555555556, \"#d8576b\"], [0.6666666666666666, \"#ed7953\"], [0.7777777777777778, \"#fb9f3a\"], [0.8888888888888888, \"#fdca26\"], [1.0, \"#f0f921\"]], \"type\": \"contour\"}], \"contourcarpet\": [{\"colorbar\": {\"outlinewidth\": 0, \"ticks\": \"\"}, \"type\": \"contourcarpet\"}], \"heatmap\": [{\"colorbar\": {\"outlinewidth\": 0, \"ticks\": \"\"}, \"colorscale\": [[0.0, \"#0d0887\"], [0.1111111111111111, \"#46039f\"], [0.2222222222222222, \"#7201a8\"], [0.3333333333333333, \"#9c179e\"], [0.4444444444444444, \"#bd3786\"], [0.5555555555555556, \"#d8576b\"], [0.6666666666666666, \"#ed7953\"], [0.7777777777777778, \"#fb9f3a\"], [0.8888888888888888, \"#fdca26\"], [1.0, \"#f0f921\"]], \"type\": \"heatmap\"}], \"heatmapgl\": [{\"colorbar\": {\"outlinewidth\": 0, \"ticks\": \"\"}, \"colorscale\": [[0.0, \"#0d0887\"], [0.1111111111111111, \"#46039f\"], [0.2222222222222222, \"#7201a8\"], [0.3333333333333333, \"#9c179e\"], [0.4444444444444444, \"#bd3786\"], [0.5555555555555556, \"#d8576b\"], [0.6666666666666666, \"#ed7953\"], [0.7777777777777778, \"#fb9f3a\"], [0.8888888888888888, \"#fdca26\"], [1.0, \"#f0f921\"]], \"type\": \"heatmapgl\"}], \"histogram\": [{\"marker\": {\"colorbar\": {\"outlinewidth\": 0, \"ticks\": \"\"}}, \"type\": \"histogram\"}], \"histogram2d\": [{\"colorbar\": {\"outlinewidth\": 0, \"ticks\": \"\"}, \"colorscale\": [[0.0, \"#0d0887\"], [0.1111111111111111, \"#46039f\"], [0.2222222222222222, \"#7201a8\"], [0.3333333333333333, \"#9c179e\"], [0.4444444444444444, \"#bd3786\"], [0.5555555555555556, \"#d8576b\"], [0.6666666666666666, \"#ed7953\"], [0.7777777777777778, \"#fb9f3a\"], [0.8888888888888888, \"#fdca26\"], [1.0, \"#f0f921\"]], \"type\": \"histogram2d\"}], \"histogram2dcontour\": [{\"colorbar\": {\"outlinewidth\": 0, \"ticks\": \"\"}, \"colorscale\": [[0.0, \"#0d0887\"], [0.1111111111111111, \"#46039f\"], [0.2222222222222222, \"#7201a8\"], [0.3333333333333333, \"#9c179e\"], [0.4444444444444444, \"#bd3786\"], [0.5555555555555556, \"#d8576b\"], [0.6666666666666666, \"#ed7953\"], [0.7777777777777778, \"#fb9f3a\"], [0.8888888888888888, \"#fdca26\"], [1.0, \"#f0f921\"]], \"type\": \"histogram2dcontour\"}], \"mesh3d\": [{\"colorbar\": {\"outlinewidth\": 0, \"ticks\": \"\"}, \"type\": \"mesh3d\"}], \"parcoords\": [{\"line\": {\"colorbar\": {\"outlinewidth\": 0, \"ticks\": \"\"}}, \"type\": \"parcoords\"}], \"pie\": [{\"automargin\": true, \"type\": \"pie\"}], \"scatter\": [{\"marker\": {\"colorbar\": {\"outlinewidth\": 0, \"ticks\": \"\"}}, \"type\": \"scatter\"}], \"scatter3d\": [{\"line\": {\"colorbar\": {\"outlinewidth\": 0, \"ticks\": \"\"}}, \"marker\": {\"colorbar\": {\"outlinewidth\": 0, \"ticks\": \"\"}}, \"type\": \"scatter3d\"}], \"scattercarpet\": [{\"marker\": {\"colorbar\": {\"outlinewidth\": 0, \"ticks\": \"\"}}, \"type\": \"scattercarpet\"}], \"scattergeo\": [{\"marker\": {\"colorbar\": {\"outlinewidth\": 0, \"ticks\": \"\"}}, \"type\": \"scattergeo\"}], \"scattergl\": [{\"marker\": {\"colorbar\": {\"outlinewidth\": 0, \"ticks\": \"\"}}, \"type\": \"scattergl\"}], \"scattermapbox\": [{\"marker\": {\"colorbar\": {\"outlinewidth\": 0, \"ticks\": \"\"}}, \"type\": \"scattermapbox\"}], \"scatterpolar\": [{\"marker\": {\"colorbar\": {\"outlinewidth\": 0, \"ticks\": \"\"}}, \"type\": \"scatterpolar\"}], \"scatterpolargl\": [{\"marker\": {\"colorbar\": {\"outlinewidth\": 0, \"ticks\": \"\"}}, \"type\": \"scatterpolargl\"}], \"scatterternary\": [{\"marker\": {\"colorbar\": {\"outlinewidth\": 0, \"ticks\": \"\"}}, \"type\": \"scatterternary\"}], \"surface\": [{\"colorbar\": {\"outlinewidth\": 0, \"ticks\": \"\"}, \"colorscale\": [[0.0, \"#0d0887\"], [0.1111111111111111, \"#46039f\"], [0.2222222222222222, \"#7201a8\"], [0.3333333333333333, \"#9c179e\"], [0.4444444444444444, \"#bd3786\"], [0.5555555555555556, \"#d8576b\"], [0.6666666666666666, \"#ed7953\"], [0.7777777777777778, \"#fb9f3a\"], [0.8888888888888888, \"#fdca26\"], [1.0, \"#f0f921\"]], \"type\": \"surface\"}], \"table\": [{\"cells\": {\"fill\": {\"color\": \"#EBF0F8\"}, \"line\": {\"color\": \"white\"}}, \"header\": {\"fill\": {\"color\": \"#C8D4E3\"}, \"line\": {\"color\": \"white\"}}, \"type\": \"table\"}]}, \"layout\": {\"annotationdefaults\": {\"arrowcolor\": \"#2a3f5f\", \"arrowhead\": 0, \"arrowwidth\": 1}, \"coloraxis\": {\"colorbar\": {\"outlinewidth\": 0, \"ticks\": \"\"}}, \"colorscale\": {\"diverging\": [[0, \"#8e0152\"], [0.1, \"#c51b7d\"], [0.2, \"#de77ae\"], [0.3, \"#f1b6da\"], [0.4, \"#fde0ef\"], [0.5, \"#f7f7f7\"], [0.6, \"#e6f5d0\"], [0.7, \"#b8e186\"], [0.8, \"#7fbc41\"], [0.9, \"#4d9221\"], [1, \"#276419\"]], \"sequential\": [[0.0, \"#0d0887\"], [0.1111111111111111, \"#46039f\"], [0.2222222222222222, \"#7201a8\"], [0.3333333333333333, \"#9c179e\"], [0.4444444444444444, \"#bd3786\"], [0.5555555555555556, \"#d8576b\"], [0.6666666666666666, \"#ed7953\"], [0.7777777777777778, \"#fb9f3a\"], [0.8888888888888888, \"#fdca26\"], [1.0, \"#f0f921\"]], \"sequentialminus\": [[0.0, \"#0d0887\"], [0.1111111111111111, \"#46039f\"], [0.2222222222222222, \"#7201a8\"], [0.3333333333333333, \"#9c179e\"], [0.4444444444444444, \"#bd3786\"], [0.5555555555555556, \"#d8576b\"], [0.6666666666666666, \"#ed7953\"], [0.7777777777777778, \"#fb9f3a\"], [0.8888888888888888, \"#fdca26\"], [1.0, \"#f0f921\"]]}, \"colorway\": [\"#636efa\", \"#EF553B\", \"#00cc96\", \"#ab63fa\", \"#FFA15A\", \"#19d3f3\", \"#FF6692\", \"#B6E880\", \"#FF97FF\", \"#FECB52\"], \"font\": {\"color\": \"#2a3f5f\"}, \"geo\": {\"bgcolor\": \"white\", \"lakecolor\": \"white\", \"landcolor\": \"#E5ECF6\", \"showlakes\": true, \"showland\": true, \"subunitcolor\": \"white\"}, \"hoverlabel\": {\"align\": \"left\"}, \"hovermode\": \"closest\", \"mapbox\": {\"style\": \"light\"}, \"paper_bgcolor\": \"white\", \"plot_bgcolor\": \"#E5ECF6\", \"polar\": {\"angularaxis\": {\"gridcolor\": \"white\", \"linecolor\": \"white\", \"ticks\": \"\"}, \"bgcolor\": \"#E5ECF6\", \"radialaxis\": {\"gridcolor\": \"white\", \"linecolor\": \"white\", \"ticks\": \"\"}}, \"scene\": {\"xaxis\": {\"backgroundcolor\": \"#E5ECF6\", \"gridcolor\": \"white\", \"gridwidth\": 2, \"linecolor\": \"white\", \"showbackground\": true, \"ticks\": \"\", \"zerolinecolor\": \"white\"}, \"yaxis\": {\"backgroundcolor\": \"#E5ECF6\", \"gridcolor\": \"white\", \"gridwidth\": 2, \"linecolor\": \"white\", \"showbackground\": true, \"ticks\": \"\", \"zerolinecolor\": \"white\"}, \"zaxis\": {\"backgroundcolor\": \"#E5ECF6\", \"gridcolor\": \"white\", \"gridwidth\": 2, \"linecolor\": \"white\", \"showbackground\": true, \"ticks\": \"\", \"zerolinecolor\": \"white\"}}, \"shapedefaults\": {\"line\": {\"color\": \"#2a3f5f\"}}, \"ternary\": {\"aaxis\": {\"gridcolor\": \"white\", \"linecolor\": \"white\", \"ticks\": \"\"}, \"baxis\": {\"gridcolor\": \"white\", \"linecolor\": \"white\", \"ticks\": \"\"}, \"bgcolor\": \"#E5ECF6\", \"caxis\": {\"gridcolor\": \"white\", \"linecolor\": \"white\", \"ticks\": \"\"}}, \"title\": {\"x\": 0.05}, \"xaxis\": {\"automargin\": true, \"gridcolor\": \"white\", \"linecolor\": \"white\", \"ticks\": \"\", \"title\": {\"standoff\": 15}, \"zerolinecolor\": \"white\", \"zerolinewidth\": 2}, \"yaxis\": {\"automargin\": true, \"gridcolor\": \"white\", \"linecolor\": \"white\", \"ticks\": \"\", \"title\": {\"standoff\": 15}, \"zerolinecolor\": \"white\", \"zerolinewidth\": 2}}}, \"title\": {\"text\": \"A scatter plot of our synthetic movie revenue vs budget data (in millions)\"}},\n",
              "                        {\"responsive\": true}\n",
              "                    ).then(function(){\n",
              "                            \n",
              "var gd = document.getElementById('b1469015-4c86-4709-ac7b-d6d517cdbe9a');\n",
              "var x = new MutationObserver(function (mutations, observer) {{\n",
              "        var display = window.getComputedStyle(gd).display;\n",
              "        if (!display || display === 'none') {{\n",
              "            console.log([gd, 'removed!']);\n",
              "            Plotly.purge(gd);\n",
              "            observer.disconnect();\n",
              "        }}\n",
              "}});\n",
              "\n",
              "// Listen for the removal of the full notebook cells\n",
              "var notebookContainer = gd.closest('#notebook-container');\n",
              "if (notebookContainer) {{\n",
              "    x.observe(notebookContainer, {childList: true});\n",
              "}}\n",
              "\n",
              "// Listen for the clearing of the current output cell\n",
              "var outputEl = gd.closest('.output');\n",
              "if (outputEl) {{\n",
              "    x.observe(outputEl, {childList: true});\n",
              "}}\n",
              "\n",
              "                        })\n",
              "                };\n",
              "                \n",
              "            </script>\n",
              "        </div>\n",
              "</body>\n",
              "</html>"
            ]
          },
          "metadata": {
            "tags": []
          }
        }
      ]
    },
    {
      "cell_type": "markdown",
      "metadata": {
        "id": "AiQ2a8BuiiMV"
      },
      "source": [
        "This looks pretty good! Recall that our true $m$ was 1.5 and our true $b$ was about 10, and we see that our model learned the values $m$ equal to about 1.5003 and $b$ equal to 9.8978. We can also inspect the plot and see that the line of best fit is pretty close to our data, although it could probably increase the y-intercept $b$ value a little. "
      ]
    },
    {
      "cell_type": "markdown",
      "metadata": {
        "id": "-ZRhVzBfp6Fo"
      },
      "source": [
        "### Time to make predictions\n",
        "Once we've trained our model, we can use it to predict movie revenue based on movie budget. Let's try it out!"
      ]
    },
    {
      "cell_type": "code",
      "metadata": {
        "colab": {
          "base_uri": "https://localhost:8080/"
        },
        "id": "1Su7QKOKqQtp",
        "outputId": "ef85b425-0ffe-4c55-af7d-cffe04e94434"
      },
      "source": [
        "### Using the trained model to make predictions ###\n",
        "print(f\"Predicts revenue when budget is 1 (in millions): ${round(model(torch.FloatTensor([1])).item(), 2)}\")\n",
        "print(f\"Predicts revenue when budget is 60 (in millions): ${round(model(torch.FloatTensor([60])).item(), 2)}\")\n"
      ],
      "execution_count": null,
      "outputs": [
        {
          "output_type": "stream",
          "text": [
            "Predicts revenue when budget is 1 (in millions): $11.48\n",
            "Predicts revenue when budget is 60 (in millions): $99.99\n"
          ],
          "name": "stdout"
        }
      ]
    },
    {
      "cell_type": "markdown",
      "metadata": {
        "id": "EbCfrBOq2Cxf"
      },
      "source": [
        "## Challenge: Single Variable Regression\n",
        "Time to test our knowledge! \n",
        "\n",
        "Imagine that you are the producer for a comedy show at your school. We need you to use your knowledge of linear regression to make predictions as to the success of the show.\n"
      ]
    },
    {
      "cell_type": "markdown",
      "metadata": {
        "id": "yeqiUt2V2c4B"
      },
      "source": [
        "### Working through a linear regression\n",
        "The comedy show is trying to figure out how much money to spend on advertising in the student newspaper. The newspaper tells the show that:\n",
        "\n",
        "* For every two dollars spent on advertising, three students attend the show.\n",
        "* If no money is spent on advertising, 20 friends still attend the show.\n",
        "\n",
        "As the producer of the show, your goal is to write a linear regression function (model) called `attendance` that models the relationship between advertising and attendance expressed by the newspaper.\n",
        "\n",
        "Here's the function that generates our comdey dataset:\n"
      ]
    },
    {
      "cell_type": "code",
      "metadata": {
        "id": "Pum5O_NvtSfV"
      },
      "source": [
        "def generate_synthetic_comedy_dataset(n=50, true_m=1.5, true_b=10, random_noise=1.0):\n",
        "    \"\"\"\n",
        "    Generates a synthetic movie revenue vs budget dataset and returns\n",
        "    a dictionary with three key-value pairs:\n",
        "        * `x`: a list of x values\n",
        "        * `y`: a list of y values\n",
        "        * `true_m`: the true slope of our data\n",
        "        * `true_b`: the true y-intercept of our data\n",
        "    \"\"\"\n",
        "    # generate the list of numbers between 0 and n for x values (budget)\n",
        "    x = np.arange(n)\n",
        "\n",
        "    # generate the list of y values (revenue) corresponding to each x value (budget)\n",
        "    y = []\n",
        "    for xi in x:\n",
        "        noise = np.random.uniform(-random_noise, random_noise)\n",
        "        # the \"true\" function of our data\n",
        "        yi = true_m*xi + true_b + noise\n",
        "        y.append(yi)\n",
        "    y = np.array(y)\n",
        "\n",
        "    return {'x': x, 'y': y, 'true_m': true_m, 'true_b': true_b}\n",
        "\n",
        "comedy_ds = generate_synthetic_movie_revenue_dataset(100, 1.5, 10, 20)"
      ],
      "execution_count": 7,
      "outputs": []
    },
    {
      "cell_type": "markdown",
      "metadata": {
        "id": "NclxdZuIjKNO"
      },
      "source": [
        "As a first step, let's plot the comedy dataset (`comedy_ds`) to see if the data looks approximately linear. If it does, linear regression is probably approriate. "
      ]
    },
    {
      "cell_type": "code",
      "metadata": {
        "id": "E8LYQF2bj4It",
        "outputId": "7607070e-ab30-4e17-f00a-25d1b41d89f4",
        "colab": {
          "base_uri": "https://localhost:8080/",
          "height": 542
        }
      },
      "source": [
        "# generate a larger dataset with 1500 movie budget and revenue samples and plot it\n",
        "regression_trace = trace_values(comedy_ds['x'], comedy_ds['y'], mode='markers', name=\"school comedy show attendance vs budget\")\n",
        "comedy_layout = layout(options={'title': \"School comedy show attendance vs budget\"})\n",
        "plot([regression_trace], comedy_layout)"
      ],
      "execution_count": 8,
      "outputs": [
        {
          "output_type": "display_data",
          "data": {
            "text/html": [
              "<html>\n",
              "<head><meta charset=\"utf-8\" /></head>\n",
              "<body>\n",
              "    <div>\n",
              "            <script src=\"https://cdnjs.cloudflare.com/ajax/libs/mathjax/2.7.5/MathJax.js?config=TeX-AMS-MML_SVG\"></script><script type=\"text/javascript\">if (window.MathJax) {MathJax.Hub.Config({SVG: {font: \"STIX-Web\"}});}</script>\n",
              "                <script type=\"text/javascript\">window.PlotlyConfig = {MathJaxConfig: 'local'};</script>\n",
              "        <script src=\"https://cdn.plot.ly/plotly-latest.min.js\"></script>    \n",
              "            <div id=\"f48f783d-9c1e-40b8-b105-056242c0de95\" class=\"plotly-graph-div\" style=\"height:525px; width:100%;\"></div>\n",
              "            <script type=\"text/javascript\">\n",
              "                \n",
              "                    window.PLOTLYENV=window.PLOTLYENV || {};\n",
              "                    \n",
              "                if (document.getElementById(\"f48f783d-9c1e-40b8-b105-056242c0de95\")) {\n",
              "                    Plotly.newPlot(\n",
              "                        'f48f783d-9c1e-40b8-b105-056242c0de95',\n",
              "                        [{\"mode\": \"markers\", \"name\": \"school comedy show attendance vs budget\", \"text\": [], \"type\": \"scatter\", \"x\": [0, 1, 2, 3, 4, 5, 6, 7, 8, 9, 10, 11, 12, 13, 14, 15, 16, 17, 18, 19, 20, 21, 22, 23, 24, 25, 26, 27, 28, 29, 30, 31, 32, 33, 34, 35, 36, 37, 38, 39, 40, 41, 42, 43, 44, 45, 46, 47, 48, 49, 50, 51, 52, 53, 54, 55, 56, 57, 58, 59, 60, 61, 62, 63, 64, 65, 66, 67, 68, 69, 70, 71, 72, 73, 74, 75, 76, 77, 78, 79, 80, 81, 82, 83, 84, 85, 86, 87, 88, 89, 90, 91, 92, 93, 94, 95, 96, 97, 98, 99], \"y\": [18.745457637893857, 2.4694463995803737, 4.372564795335748, 25.953482007584675, 6.384970021824657, 35.77716584354559, 20.988317233489028, 30.80880651376915, 33.70062860427825, 37.48201831728925, 25.575456938450685, 13.844130043151079, 30.823183083048285, 14.941759522141925, 13.40466673024433, 21.919816872795366, 44.78360609974986, 23.456240767735903, 56.23482680752698, 39.13115039034034, 40.07141047053914, 56.44377058274882, 26.7938515178679, 54.17335951137237, 52.24618993108813, 40.54273874140712, 46.36654965699671, 40.620632966663734, 48.83862623016916, 64.99035899092522, 63.044342546973695, 52.2795673931909, 50.20881753680822, 53.66396275932216, 76.4126276713433, 62.21652943304364, 49.13393952874808, 46.630856738071, 67.90351617058222, 56.229636873231684, 65.37005019709304, 90.02986387866936, 56.092915544005024, 70.05765905316409, 85.69304521817816, 89.42574874358674, 70.42220014381056, 74.55455055164, 94.72170350968469, 99.80964133307069, 80.61709641135394, 72.0238173593783, 78.45168164552271, 72.81533464529835, 76.47074819609546, 80.36840622264154, 90.71341774606562, 115.49319417991089, 105.52034589784759, 93.23961216959745, 105.25375978199054, 81.51919045423392, 87.84508636415073, 96.21838001407751, 106.58022848020991, 107.1192237263498, 109.12475714580575, 98.81126290191817, 117.04570252423193, 117.71384747587742, 108.01786840653718, 107.27396060420057, 124.90035683036771, 125.94970120814048, 137.1904879529975, 121.08781348311423, 121.72398792496358, 127.5014845997687, 112.09834738208258, 122.73553710087015, 120.53336541953686, 146.28598578284436, 124.90509517470002, 121.39555999346324, 148.73331213187285, 129.86252425398902, 145.42338302173687, 145.05274392990296, 135.7427520528867, 161.25639675809407, 146.65418148999217, 141.04424400082587, 128.38795250985473, 139.93263466460397, 155.9085664711871, 142.61321943468312, 135.4076969350557, 163.7952740505763, 152.23340362190146, 145.7897739888743]}],\n",
              "                        {\"template\": {\"data\": {\"bar\": [{\"error_x\": {\"color\": \"#2a3f5f\"}, \"error_y\": {\"color\": \"#2a3f5f\"}, \"marker\": {\"line\": {\"color\": \"#E5ECF6\", \"width\": 0.5}}, \"type\": \"bar\"}], \"barpolar\": [{\"marker\": {\"line\": {\"color\": \"#E5ECF6\", \"width\": 0.5}}, \"type\": \"barpolar\"}], \"carpet\": [{\"aaxis\": {\"endlinecolor\": \"#2a3f5f\", \"gridcolor\": \"white\", \"linecolor\": \"white\", \"minorgridcolor\": \"white\", \"startlinecolor\": \"#2a3f5f\"}, \"baxis\": {\"endlinecolor\": \"#2a3f5f\", \"gridcolor\": \"white\", \"linecolor\": \"white\", \"minorgridcolor\": \"white\", \"startlinecolor\": \"#2a3f5f\"}, \"type\": \"carpet\"}], \"choropleth\": [{\"colorbar\": {\"outlinewidth\": 0, \"ticks\": \"\"}, \"type\": \"choropleth\"}], \"contour\": [{\"colorbar\": {\"outlinewidth\": 0, \"ticks\": \"\"}, \"colorscale\": [[0.0, \"#0d0887\"], [0.1111111111111111, \"#46039f\"], [0.2222222222222222, \"#7201a8\"], [0.3333333333333333, \"#9c179e\"], [0.4444444444444444, \"#bd3786\"], [0.5555555555555556, \"#d8576b\"], [0.6666666666666666, \"#ed7953\"], [0.7777777777777778, \"#fb9f3a\"], [0.8888888888888888, \"#fdca26\"], [1.0, \"#f0f921\"]], \"type\": \"contour\"}], \"contourcarpet\": [{\"colorbar\": {\"outlinewidth\": 0, \"ticks\": \"\"}, \"type\": \"contourcarpet\"}], \"heatmap\": [{\"colorbar\": {\"outlinewidth\": 0, \"ticks\": \"\"}, \"colorscale\": [[0.0, \"#0d0887\"], [0.1111111111111111, \"#46039f\"], [0.2222222222222222, \"#7201a8\"], [0.3333333333333333, \"#9c179e\"], [0.4444444444444444, \"#bd3786\"], [0.5555555555555556, \"#d8576b\"], [0.6666666666666666, \"#ed7953\"], [0.7777777777777778, \"#fb9f3a\"], [0.8888888888888888, \"#fdca26\"], [1.0, \"#f0f921\"]], \"type\": \"heatmap\"}], \"heatmapgl\": [{\"colorbar\": {\"outlinewidth\": 0, \"ticks\": \"\"}, \"colorscale\": [[0.0, \"#0d0887\"], [0.1111111111111111, \"#46039f\"], [0.2222222222222222, \"#7201a8\"], [0.3333333333333333, \"#9c179e\"], [0.4444444444444444, \"#bd3786\"], [0.5555555555555556, \"#d8576b\"], [0.6666666666666666, \"#ed7953\"], [0.7777777777777778, \"#fb9f3a\"], [0.8888888888888888, \"#fdca26\"], [1.0, \"#f0f921\"]], \"type\": \"heatmapgl\"}], \"histogram\": [{\"marker\": {\"colorbar\": {\"outlinewidth\": 0, \"ticks\": \"\"}}, \"type\": \"histogram\"}], \"histogram2d\": [{\"colorbar\": {\"outlinewidth\": 0, \"ticks\": \"\"}, \"colorscale\": [[0.0, \"#0d0887\"], [0.1111111111111111, \"#46039f\"], [0.2222222222222222, \"#7201a8\"], [0.3333333333333333, \"#9c179e\"], [0.4444444444444444, \"#bd3786\"], [0.5555555555555556, \"#d8576b\"], [0.6666666666666666, \"#ed7953\"], [0.7777777777777778, \"#fb9f3a\"], [0.8888888888888888, \"#fdca26\"], [1.0, \"#f0f921\"]], \"type\": \"histogram2d\"}], \"histogram2dcontour\": [{\"colorbar\": {\"outlinewidth\": 0, \"ticks\": \"\"}, \"colorscale\": [[0.0, \"#0d0887\"], [0.1111111111111111, \"#46039f\"], [0.2222222222222222, \"#7201a8\"], [0.3333333333333333, \"#9c179e\"], [0.4444444444444444, \"#bd3786\"], [0.5555555555555556, \"#d8576b\"], [0.6666666666666666, \"#ed7953\"], [0.7777777777777778, \"#fb9f3a\"], [0.8888888888888888, \"#fdca26\"], [1.0, \"#f0f921\"]], \"type\": \"histogram2dcontour\"}], \"mesh3d\": [{\"colorbar\": {\"outlinewidth\": 0, \"ticks\": \"\"}, \"type\": \"mesh3d\"}], \"parcoords\": [{\"line\": {\"colorbar\": {\"outlinewidth\": 0, \"ticks\": \"\"}}, \"type\": \"parcoords\"}], \"pie\": [{\"automargin\": true, \"type\": \"pie\"}], \"scatter\": [{\"marker\": {\"colorbar\": {\"outlinewidth\": 0, \"ticks\": \"\"}}, \"type\": \"scatter\"}], \"scatter3d\": [{\"line\": {\"colorbar\": {\"outlinewidth\": 0, \"ticks\": \"\"}}, \"marker\": {\"colorbar\": {\"outlinewidth\": 0, \"ticks\": \"\"}}, \"type\": \"scatter3d\"}], \"scattercarpet\": [{\"marker\": {\"colorbar\": {\"outlinewidth\": 0, \"ticks\": \"\"}}, \"type\": \"scattercarpet\"}], \"scattergeo\": [{\"marker\": {\"colorbar\": {\"outlinewidth\": 0, \"ticks\": \"\"}}, \"type\": \"scattergeo\"}], \"scattergl\": [{\"marker\": {\"colorbar\": {\"outlinewidth\": 0, \"ticks\": \"\"}}, \"type\": \"scattergl\"}], \"scattermapbox\": [{\"marker\": {\"colorbar\": {\"outlinewidth\": 0, \"ticks\": \"\"}}, \"type\": \"scattermapbox\"}], \"scatterpolar\": [{\"marker\": {\"colorbar\": {\"outlinewidth\": 0, \"ticks\": \"\"}}, \"type\": \"scatterpolar\"}], \"scatterpolargl\": [{\"marker\": {\"colorbar\": {\"outlinewidth\": 0, \"ticks\": \"\"}}, \"type\": \"scatterpolargl\"}], \"scatterternary\": [{\"marker\": {\"colorbar\": {\"outlinewidth\": 0, \"ticks\": \"\"}}, \"type\": \"scatterternary\"}], \"surface\": [{\"colorbar\": {\"outlinewidth\": 0, \"ticks\": \"\"}, \"colorscale\": [[0.0, \"#0d0887\"], [0.1111111111111111, \"#46039f\"], [0.2222222222222222, \"#7201a8\"], [0.3333333333333333, \"#9c179e\"], [0.4444444444444444, \"#bd3786\"], [0.5555555555555556, \"#d8576b\"], [0.6666666666666666, \"#ed7953\"], [0.7777777777777778, \"#fb9f3a\"], [0.8888888888888888, \"#fdca26\"], [1.0, \"#f0f921\"]], \"type\": \"surface\"}], \"table\": [{\"cells\": {\"fill\": {\"color\": \"#EBF0F8\"}, \"line\": {\"color\": \"white\"}}, \"header\": {\"fill\": {\"color\": \"#C8D4E3\"}, \"line\": {\"color\": \"white\"}}, \"type\": \"table\"}]}, \"layout\": {\"annotationdefaults\": {\"arrowcolor\": \"#2a3f5f\", \"arrowhead\": 0, \"arrowwidth\": 1}, \"coloraxis\": {\"colorbar\": {\"outlinewidth\": 0, \"ticks\": \"\"}}, \"colorscale\": {\"diverging\": [[0, \"#8e0152\"], [0.1, \"#c51b7d\"], [0.2, \"#de77ae\"], [0.3, \"#f1b6da\"], [0.4, \"#fde0ef\"], [0.5, \"#f7f7f7\"], [0.6, \"#e6f5d0\"], [0.7, \"#b8e186\"], [0.8, \"#7fbc41\"], [0.9, \"#4d9221\"], [1, \"#276419\"]], \"sequential\": [[0.0, \"#0d0887\"], [0.1111111111111111, \"#46039f\"], [0.2222222222222222, \"#7201a8\"], [0.3333333333333333, \"#9c179e\"], [0.4444444444444444, \"#bd3786\"], [0.5555555555555556, \"#d8576b\"], [0.6666666666666666, \"#ed7953\"], [0.7777777777777778, \"#fb9f3a\"], [0.8888888888888888, \"#fdca26\"], [1.0, \"#f0f921\"]], \"sequentialminus\": [[0.0, \"#0d0887\"], [0.1111111111111111, \"#46039f\"], [0.2222222222222222, \"#7201a8\"], [0.3333333333333333, \"#9c179e\"], [0.4444444444444444, \"#bd3786\"], [0.5555555555555556, \"#d8576b\"], [0.6666666666666666, \"#ed7953\"], [0.7777777777777778, \"#fb9f3a\"], [0.8888888888888888, \"#fdca26\"], [1.0, \"#f0f921\"]]}, \"colorway\": [\"#636efa\", \"#EF553B\", \"#00cc96\", \"#ab63fa\", \"#FFA15A\", \"#19d3f3\", \"#FF6692\", \"#B6E880\", \"#FF97FF\", \"#FECB52\"], \"font\": {\"color\": \"#2a3f5f\"}, \"geo\": {\"bgcolor\": \"white\", \"lakecolor\": \"white\", \"landcolor\": \"#E5ECF6\", \"showlakes\": true, \"showland\": true, \"subunitcolor\": \"white\"}, \"hoverlabel\": {\"align\": \"left\"}, \"hovermode\": \"closest\", \"mapbox\": {\"style\": \"light\"}, \"paper_bgcolor\": \"white\", \"plot_bgcolor\": \"#E5ECF6\", \"polar\": {\"angularaxis\": {\"gridcolor\": \"white\", \"linecolor\": \"white\", \"ticks\": \"\"}, \"bgcolor\": \"#E5ECF6\", \"radialaxis\": {\"gridcolor\": \"white\", \"linecolor\": \"white\", \"ticks\": \"\"}}, \"scene\": {\"xaxis\": {\"backgroundcolor\": \"#E5ECF6\", \"gridcolor\": \"white\", \"gridwidth\": 2, \"linecolor\": \"white\", \"showbackground\": true, \"ticks\": \"\", \"zerolinecolor\": \"white\"}, \"yaxis\": {\"backgroundcolor\": \"#E5ECF6\", \"gridcolor\": \"white\", \"gridwidth\": 2, \"linecolor\": \"white\", \"showbackground\": true, \"ticks\": \"\", \"zerolinecolor\": \"white\"}, \"zaxis\": {\"backgroundcolor\": \"#E5ECF6\", \"gridcolor\": \"white\", \"gridwidth\": 2, \"linecolor\": \"white\", \"showbackground\": true, \"ticks\": \"\", \"zerolinecolor\": \"white\"}}, \"shapedefaults\": {\"line\": {\"color\": \"#2a3f5f\"}}, \"ternary\": {\"aaxis\": {\"gridcolor\": \"white\", \"linecolor\": \"white\", \"ticks\": \"\"}, \"baxis\": {\"gridcolor\": \"white\", \"linecolor\": \"white\", \"ticks\": \"\"}, \"bgcolor\": \"#E5ECF6\", \"caxis\": {\"gridcolor\": \"white\", \"linecolor\": \"white\", \"ticks\": \"\"}}, \"title\": {\"x\": 0.05}, \"xaxis\": {\"automargin\": true, \"gridcolor\": \"white\", \"linecolor\": \"white\", \"ticks\": \"\", \"title\": {\"standoff\": 15}, \"zerolinecolor\": \"white\", \"zerolinewidth\": 2}, \"yaxis\": {\"automargin\": true, \"gridcolor\": \"white\", \"linecolor\": \"white\", \"ticks\": \"\", \"title\": {\"standoff\": 15}, \"zerolinecolor\": \"white\", \"zerolinewidth\": 2}}}, \"title\": {\"text\": \"School comedy show attendance vs budget\"}},\n",
              "                        {\"responsive\": true}\n",
              "                    ).then(function(){\n",
              "                            \n",
              "var gd = document.getElementById('f48f783d-9c1e-40b8-b105-056242c0de95');\n",
              "var x = new MutationObserver(function (mutations, observer) {{\n",
              "        var display = window.getComputedStyle(gd).display;\n",
              "        if (!display || display === 'none') {{\n",
              "            console.log([gd, 'removed!']);\n",
              "            Plotly.purge(gd);\n",
              "            observer.disconnect();\n",
              "        }}\n",
              "}});\n",
              "\n",
              "// Listen for the removal of the full notebook cells\n",
              "var notebookContainer = gd.closest('#notebook-container');\n",
              "if (notebookContainer) {{\n",
              "    x.observe(notebookContainer, {childList: true});\n",
              "}}\n",
              "\n",
              "// Listen for the clearing of the current output cell\n",
              "var outputEl = gd.closest('.output');\n",
              "if (outputEl) {{\n",
              "    x.observe(outputEl, {childList: true});\n",
              "}}\n",
              "\n",
              "                        })\n",
              "                };\n",
              "                \n",
              "            </script>\n",
              "        </div>\n",
              "</body>\n",
              "</html>"
            ]
          },
          "metadata": {
            "tags": []
          }
        }
      ]
    },
    {
      "cell_type": "markdown",
      "metadata": {
        "id": "ykEOxDlEuNWE"
      },
      "source": [
        "It looks like show attendance is a function of budget in our comedy show data! Now, try writing the code to model attendance based on budget!\n",
        "\n",
        "> Hint it's similar to the linear regression code we wrote earlier. A good place to start might be defining your function (model) `attendance`."
      ]
    },
    {
      "cell_type": "code",
      "metadata": {
        "id": "LkDX69Di1zHL"
      },
      "source": [
        "def attendance(x):\n",
        "    \"\"\"\n",
        "    A function (i.e., f(x)) that returns the expected show attendance based on\n",
        "    money spent advertising in the school newspaper.\n",
        "    \"\"\"\n",
        "    # your code here\n",
        "\n"
      ],
      "execution_count": null,
      "outputs": []
    },
    {
      "cell_type": "markdown",
      "metadata": {
        "id": "DOFM26ufEOnT"
      },
      "source": [
        "# Expanding to Deep Learning\n",
        "Now that we have built several linear regression models, it's probably a good time to show you a few examples of what more complex machine learning models can do. \n",
        "\n",
        "Check these awesome examples out:\n",
        "\n",
        "* [Music Generation](https://openai.com/blog/musenet/)\n",
        "* [Generating images from text](https://openai.com/blog/dall-e/)\n",
        "* [Text Generation and Summarization](https://openai.com/blog/better-language-models/)\n"
      ]
    }
  ]
}