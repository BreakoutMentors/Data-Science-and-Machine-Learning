{
  "nbformat": 4,
  "nbformat_minor": 0,
  "metadata": {
    "colab": {
      "name": "challenge - simple linear regression.ipynb",
      "provenance": [],
      "authorship_tag": "ABX9TyM5M1/UKZdeFxU1CjdV7MDG",
      "include_colab_link": true
    },
    "kernelspec": {
      "name": "python3",
      "display_name": "Python 3"
    }
  },
  "cells": [
    {
      "cell_type": "markdown",
      "metadata": {
        "id": "view-in-github",
        "colab_type": "text"
      },
      "source": [
        "<a href=\"https://colab.research.google.com/github/BreakoutMentors/Data-Science-and-Machine-Learning/blob/master/machine_learning/lesson%201%20-%20linear%20regression/challenges/simple-linear-regression.ipynb\" target=\"_parent\"><img src=\"https://colab.research.google.com/assets/colab-badge.svg\" alt=\"Open In Colab\"/></a>"
      ]
    },
    {
      "cell_type": "markdown",
      "metadata": {
        "id": "j5tjTDNmgWup",
        "colab_type": "text"
      },
      "source": [
        "# Sinlge Variable Linear Regression\n",
        "In this challenge, the goal is to build a linear regression model using Sklearn and the techniques you learned in [Single-variable linear regression](https://github.com/BreakoutMentors/Data-Science-and-Machine-Learning/blob/master/machine_learning/lesson%201%20-%20linear%20regression/examples/simple-linear-regression.ipynb) to predict the Total value given the Attack value of a Pokemon."
      ]
    },
    {
      "cell_type": "markdown",
      "metadata": {
        "id": "w9fyTfTtgy6u",
        "colab_type": "text"
      },
      "source": [
        "## Challenges\n",
        "1. Load and prepare the Pokemon dataset.\n",
        "2. Build the model.\n",
        "3. Train the model.\n",
        "4. Evaluate the model.\n",
        "5. Draw conclusions. "
      ]
    },
    {
      "cell_type": "code",
      "metadata": {
        "id": "foMBp5MTfHNP",
        "colab_type": "code",
        "colab": {}
      },
      "source": [
        "# import the libraries we be need\n",
        "import pandas as pd\n",
        "import numpy as np\n",
        "import matplotlib\n",
        "import matplotlib.pyplot as plt\n",
        "\n",
        "# Sklearn\n",
        "from sklearn.linear_model import LinearRegression\n",
        "from sklearn import metrics"
      ],
      "execution_count": null,
      "outputs": []
    },
    {
      "cell_type": "markdown",
      "metadata": {
        "id": "K4BeTeGMZtQM",
        "colab_type": "text"
      },
      "source": [
        "# 1. Load and prepare the data \n",
        "Load the dataset into a pandas dataframe, and prepare it for the model. \n",
        "\n",
        "Hints: \n",
        "- define the features ($x$) and labels ($y$) \n",
        "- split the dataset into training and test sets\n",
        "- separate the features and labels in training set and test set"
      ]
    },
    {
      "cell_type": "code",
      "metadata": {
        "id": "hAjCB4CrggwB",
        "colab_type": "code",
        "colab": {}
      },
      "source": [
        "data_url = 'https://raw.githubusercontent.com/BreakoutMentors/Data-Science-and-Machine-Learning/master/datasets/pokemon.csv'\n",
        "# your code here\n"
      ],
      "execution_count": null,
      "outputs": []
    },
    {
      "cell_type": "markdown",
      "metadata": {
        "id": "LRLdd2XPZz18",
        "colab_type": "text"
      },
      "source": [
        "# 2. Build your model\n",
        "Build a model to model the relationship between the features (Attack) and labels (Total). The model's function looks something like:\n",
        "$$\n",
        "\\text{score} = w_{\\text{Attack}} \\cdot \\text{Attack} + b.\n",
        "$$\n",
        "\n",
        "Hint: use the `LinearRegression` class."
      ]
    },
    {
      "cell_type": "markdown",
      "metadata": {
        "id": "XMobYIF3aKWX",
        "colab_type": "text"
      },
      "source": [
        "# 3. Train your model\n",
        "Now that you have a model, it's time to train it. Train (i.e., \"fit\") your model using the training dataset and report the mean absolute error metric. Does it look good? \n",
        "\n",
        "Hint: use the `fit` method."
      ]
    },
    {
      "cell_type": "code",
      "metadata": {
        "id": "VZSQscx9ahBo",
        "colab_type": "code",
        "colab": {}
      },
      "source": [
        "# your code here\n"
      ],
      "execution_count": null,
      "outputs": []
    },
    {
      "cell_type": "markdown",
      "metadata": {
        "id": "y47PPxRSao1q",
        "colab_type": "text"
      },
      "source": [
        "# 4. Evaluate the model\n",
        "Now that the model is trained, it's time to evaluate it using the test dataset, which you did not use when training the model. This gives you a sense of how well the model predicts unseen data, which is the case when you use it in the real world. Make sure to evaluate the model and visualize it's predictions against the true labels (using a scatter plot and a histogram)\n",
        "\n",
        "Hints: \n",
        "- use the `predict` method to make predictions on the test features\n",
        "- use the `mean_absolute_error` method from the `metrics` class to calculate the mean absolute error\n",
        "- measure the  \n",
        "- visualize the predictions against the real labels using matplotlib's pyplot API methods `scatter` and `plot`.\n",
        "- for the histogram ust matplotlib pyplot's `hist` method, make sure to pass in the errors between the predictions and the true labels.\n"
      ]
    },
    {
      "cell_type": "code",
      "metadata": {
        "id": "G3ZeEyT_any7",
        "colab_type": "code",
        "colab": {}
      },
      "source": [
        "# your code here\n"
      ],
      "execution_count": null,
      "outputs": []
    },
    {
      "cell_type": "markdown",
      "metadata": {
        "id": "tGxuVSxpcCMG",
        "colab_type": "text"
      },
      "source": [
        "# 5. Draw conclusions\n",
        "Write up your conclusions about the model. Report the goal, the model design, and the results.    "
      ]
    },
    {
      "cell_type": "markdown",
      "metadata": {
        "id": "5E1m_Z1-cOIR",
        "colab_type": "text"
      },
      "source": [
        ""
      ]
    }
  ]
}