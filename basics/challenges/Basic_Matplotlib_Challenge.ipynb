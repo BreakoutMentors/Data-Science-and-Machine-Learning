{
  "nbformat": 4,
  "nbformat_minor": 0,
  "metadata": {
    "colab": {
      "name": "Basic_Matplotlib_Challenge.ipynb",
      "provenance": [],
      "authorship_tag": "ABX9TyOhRVDxRxD1BYn1YzUr2RdW",
      "include_colab_link": true
    },
    "kernelspec": {
      "name": "python3",
      "display_name": "Python 3"
    },
    "language_info": {
      "name": "python"
    }
  },
  "cells": [
    {
      "cell_type": "markdown",
      "metadata": {
        "id": "view-in-github",
        "colab_type": "text"
      },
      "source": [
        "<a href=\"https://colab.research.google.com/github/BreakoutMentors/Data-Science-and-Machine-Learning/blob/adam-basic-challenges/basics/challenges/Basic_Matplotlib_Challenge.ipynb\" target=\"_parent\"><img src=\"https://colab.research.google.com/assets/colab-badge.svg\" alt=\"Open In Colab\"/></a>"
      ]
    },
    {
      "cell_type": "markdown",
      "metadata": {
        "id": "nh4HhRCrVWj7"
      },
      "source": [
        "> Note: Always open in Colab for the best learning experience."
      ]
    },
    {
      "cell_type": "markdown",
      "metadata": {
        "id": "d0-YD5pkfhMF"
      },
      "source": [
        "# Matplotlib Challenge\n",
        "\n",
        "Here you will complete some tasks that were covered in the lesson, I will include some pictures of the plots you will reproduce through code."
      ]
    },
    {
      "cell_type": "code",
      "metadata": {
        "id": "2NSGFlOxeU2R"
      },
      "source": [
        "import matplotlib.pyplot as plt\n",
        "import numpy as np\n",
        "\n",
        "%matplotlib inline"
      ],
      "execution_count": 1,
      "outputs": []
    },
    {
      "cell_type": "markdown",
      "metadata": {
        "id": "1Cd_r_eUhHIS"
      },
      "source": [
        "## Plotting Lines\n",
        "\n",
        "In the lesson, the first plot is showed that you can give one array or list to plot a line, but we will go ahead and skip that and plot one graph of multiple lines.\n",
        "\n",
        "Here are the equations you will plot:\n",
        "1. $y=\\sqrt{x}$\n",
        " - Hint: $y=\\sqrt{x}=x^\\frac{1}{2}$\n",
        "2. $y=x$\n",
        "2. $y=2x$\n",
        "3. $y=x^\\frac{3}{2}$\n",
        "\n",
        "It should look like this:\n",
        "\n",
        "![figure_1](https://github.com/BreakoutMentors/Data-Science-and-Machine-Learning/blob/main/basics/challenges/Matplotlib%20Figures/figure_1.jpg?raw=true)"
      ]
    },
    {
      "cell_type": "code",
      "metadata": {
        "id": "_t0rebo1lba_"
      },
      "source": [
        "x = np.linspace(0, 5, 100)\n",
        "\n",
        "# Make the plot below\n",
        "plt.plot(x, x**(1/2), label='y=x^(1/2)')\n",
        "plt.plot(x, x, label='y=x')\n",
        "plt.plot(x, 2*x, label='y=2x')\n",
        "plt.plot(x, x**(3/2), label='y=x^(3/2)')\n",
        "\n",
        "plt.title('Different Equations')\n",
        "plt.xlabel('x-axis')\n",
        "plt.ylabel('y-axis')\n",
        "plt.legend()\n",
        "plt.savefig('figure_1.jpg')\n",
        "plt.show()"
      ],
      "execution_count": 7,
      "outputs": []
    },
    {
      "cell_type": "markdown",
      "metadata": {
        "id": "FZ2lTBt8n5aE"
      },
      "source": [
        "## Showing Multiple Plots\n",
        "\n",
        "After doing the one above, you are now going to separate all those lines into a 2x2 grid.\n",
        "\n",
        "It should look like this:\n",
        "\n",
        "![figure_2](https://github.com/BreakoutMentors/Data-Science-and-Machine-Learning/blob/main/basics/challenges/Matplotlib%20Figures/figure_2.jpg?raw=true)"
      ]
    },
    {
      "cell_type": "code",
      "metadata": {
        "id": "ZPh3VEqLnlRM"
      },
      "source": [
        "x = np.linspace(0, 5, 100)\n",
        "\n",
        "# TODO: Make the figure below\n"
      ],
      "execution_count": 11,
      "outputs": []
    },
    {
      "cell_type": "markdown",
      "metadata": {
        "id": "0YFiR7Z5qHD9"
      },
      "source": [
        "## Plotting Histograms\n",
        "\n",
        "You are going to implement the [Chi-Squared Distribution](https://en.wikipedia.org/wiki/Chi-squared_distribution), use histograms to show the distribution. Below is the probability density function.\n",
        "\n",
        "\n",
        "$\n",
        "f(x) = \n",
        "\\begin{cases} \n",
        "      \\frac{x^{k/2-1}e^{-x/2}}{2^{k/2}\\Gamma({k/2})} & x\\geq 0 \\\\\n",
        "      0 & \\text{otherwise}\n",
        "   \\end{cases}\n",
        "\\\\\n",
        "$\n",
        "\n",
        "$\\Gamma \\text{ is a function:}$\n",
        "\n",
        "$\\Gamma(n)=(n-1)!$\n",
        "\n",
        "$\\Gamma(4)=(4-1)!=3!=3\\cdot2\\cdot1=6$\n",
        "\n",
        "$\\text{}$\n",
        "\n",
        "$k \\text{ is a scalar:}$\n",
        "\n",
        "$k=3$\n",
        "\n",
        "This is what it should look like:\n",
        "\n",
        "![figure_3](https://github.com/BreakoutMentors/Data-Science-and-Machine-Learning/blob/main/basics/challenges/Matplotlib%20Figures/figure_3.jpg?raw=true)\n"
      ]
    },
    {
      "cell_type": "code",
      "metadata": {
        "id": "LFJyDeBG7K--"
      },
      "source": [
        "# Defining Gamma Function\n",
        "def gamma(n):\n",
        "    return np.math.gamma(n)\n",
        "\n",
        "# Function that takes x-values to get y_values from PDF to plot the PDF line\n",
        "def chi_squared_distribution(x, k):\n",
        "    numerator = x**((k/2)-1) * np.exp(-x/2)\n",
        "    denomintaor = 2**(k/2) * gamma(k/2)\n",
        "\n",
        "    return numerator/denomintaor"
      ],
      "execution_count": 26,
      "outputs": []
    },
    {
      "cell_type": "code",
      "metadata": {
        "id": "M5vV84ZBLXao"
      },
      "source": [
        "k=3\n",
        "chi_dist = np.random.chisquare(df=k, size=#TODO)\n",
        "\n",
        "# The lower-bound for np.linspace is 0\n",
        "x = np.linspace(#TODO)\n",
        "y = chi_squared_distribution(x, k)\n",
        "\n",
        "# TODO: Plot both the PDF and histogram below"
      ],
      "execution_count": null,
      "outputs": []
    },
    {
      "cell_type": "markdown",
      "metadata": {
        "id": "qULlL1J5Qvmw"
      },
      "source": [
        "## Scatter Plot with Pokemon Data\n",
        "\n",
        "There is a pokemon dataset that gives data of different pokemon with some of their stats, you will create a scatterplot of Sp. Atk vs Total.\n",
        "\n",
        "It should look like this:\n",
        "\n",
        "![figure_4](https://github.com/BreakoutMentors/Data-Science-and-Machine-Learning/blob/main/basics/challenges/Matplotlib%20Figures/figure_4.jpg?raw=true)"
      ]
    },
    {
      "cell_type": "code",
      "metadata": {
        "colab": {
          "base_uri": "https://localhost:8080/",
          "height": 204
        },
        "id": "EZ3T4z-URNPT",
        "outputId": "bfc19f8c-11c3-47e5-f848-7a0a9ce7078f"
      },
      "source": [
        "import pandas as pd\n",
        "pokemon_df = pd.read_csv(\"https://raw.githubusercontent.com/BreakoutMentors/Data-Science-and-Machine-Learning/main/datasets/pokemon.csv\")\n",
        "pokemon_df.head()"
      ],
      "execution_count": 57,
      "outputs": [
        {
          "output_type": "execute_result",
          "data": {
            "text/html": [
              "<div>\n",
              "<style scoped>\n",
              "    .dataframe tbody tr th:only-of-type {\n",
              "        vertical-align: middle;\n",
              "    }\n",
              "\n",
              "    .dataframe tbody tr th {\n",
              "        vertical-align: top;\n",
              "    }\n",
              "\n",
              "    .dataframe thead th {\n",
              "        text-align: right;\n",
              "    }\n",
              "</style>\n",
              "<table border=\"1\" class=\"dataframe\">\n",
              "  <thead>\n",
              "    <tr style=\"text-align: right;\">\n",
              "      <th></th>\n",
              "      <th>#</th>\n",
              "      <th>Name</th>\n",
              "      <th>Type 1</th>\n",
              "      <th>Type 2</th>\n",
              "      <th>Total</th>\n",
              "      <th>HP</th>\n",
              "      <th>Attack</th>\n",
              "      <th>Defense</th>\n",
              "      <th>Sp. Atk</th>\n",
              "      <th>Sp. Def</th>\n",
              "      <th>Speed</th>\n",
              "      <th>Generation</th>\n",
              "      <th>Legendary</th>\n",
              "    </tr>\n",
              "  </thead>\n",
              "  <tbody>\n",
              "    <tr>\n",
              "      <th>0</th>\n",
              "      <td>1</td>\n",
              "      <td>Bulbasaur</td>\n",
              "      <td>Grass</td>\n",
              "      <td>Poison</td>\n",
              "      <td>318</td>\n",
              "      <td>45</td>\n",
              "      <td>49</td>\n",
              "      <td>49</td>\n",
              "      <td>65</td>\n",
              "      <td>65</td>\n",
              "      <td>45</td>\n",
              "      <td>1</td>\n",
              "      <td>False</td>\n",
              "    </tr>\n",
              "    <tr>\n",
              "      <th>1</th>\n",
              "      <td>2</td>\n",
              "      <td>Ivysaur</td>\n",
              "      <td>Grass</td>\n",
              "      <td>Poison</td>\n",
              "      <td>405</td>\n",
              "      <td>60</td>\n",
              "      <td>62</td>\n",
              "      <td>63</td>\n",
              "      <td>80</td>\n",
              "      <td>80</td>\n",
              "      <td>60</td>\n",
              "      <td>1</td>\n",
              "      <td>False</td>\n",
              "    </tr>\n",
              "    <tr>\n",
              "      <th>2</th>\n",
              "      <td>3</td>\n",
              "      <td>Venusaur</td>\n",
              "      <td>Grass</td>\n",
              "      <td>Poison</td>\n",
              "      <td>525</td>\n",
              "      <td>80</td>\n",
              "      <td>82</td>\n",
              "      <td>83</td>\n",
              "      <td>100</td>\n",
              "      <td>100</td>\n",
              "      <td>80</td>\n",
              "      <td>1</td>\n",
              "      <td>False</td>\n",
              "    </tr>\n",
              "    <tr>\n",
              "      <th>3</th>\n",
              "      <td>3</td>\n",
              "      <td>VenusaurMega Venusaur</td>\n",
              "      <td>Grass</td>\n",
              "      <td>Poison</td>\n",
              "      <td>625</td>\n",
              "      <td>80</td>\n",
              "      <td>100</td>\n",
              "      <td>123</td>\n",
              "      <td>122</td>\n",
              "      <td>120</td>\n",
              "      <td>80</td>\n",
              "      <td>1</td>\n",
              "      <td>False</td>\n",
              "    </tr>\n",
              "    <tr>\n",
              "      <th>4</th>\n",
              "      <td>4</td>\n",
              "      <td>Charmander</td>\n",
              "      <td>Fire</td>\n",
              "      <td>NaN</td>\n",
              "      <td>309</td>\n",
              "      <td>39</td>\n",
              "      <td>52</td>\n",
              "      <td>43</td>\n",
              "      <td>60</td>\n",
              "      <td>50</td>\n",
              "      <td>65</td>\n",
              "      <td>1</td>\n",
              "      <td>False</td>\n",
              "    </tr>\n",
              "  </tbody>\n",
              "</table>\n",
              "</div>"
            ],
            "text/plain": [
              "   #                   Name Type 1  ... Speed  Generation  Legendary\n",
              "0  1              Bulbasaur  Grass  ...    45           1      False\n",
              "1  2                Ivysaur  Grass  ...    60           1      False\n",
              "2  3               Venusaur  Grass  ...    80           1      False\n",
              "3  3  VenusaurMega Venusaur  Grass  ...    80           1      False\n",
              "4  4             Charmander   Fire  ...    65           1      False\n",
              "\n",
              "[5 rows x 13 columns]"
            ]
          },
          "metadata": {
            "tags": []
          },
          "execution_count": 57
        }
      ]
    },
    {
      "cell_type": "code",
      "metadata": {
        "id": "YkZ--cMqTVmF"
      },
      "source": [
        "# TODO: Make the scatter plot here"
      ],
      "execution_count": null,
      "outputs": []
    },
    {
      "cell_type": "markdown",
      "metadata": {
        "id": "DxNlHtfqUEpe"
      },
      "source": [
        "Once you got everything done like above, congratulations you finished!"
      ]
    }
  ]
}