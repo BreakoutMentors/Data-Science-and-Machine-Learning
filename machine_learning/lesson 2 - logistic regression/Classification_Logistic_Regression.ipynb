{
  "nbformat": 4,
  "nbformat_minor": 0,
  "metadata": {
    "accelerator": "GPU",
    "colab": {
      "name": "Classification-Logistic_Regression.ipynb",
      "provenance": [],
      "collapsed_sections": [],
      "include_colab_link": true
    },
    "kernelspec": {
      "display_name": "Python 3",
      "name": "python3"
    }
  },
  "cells": [
    {
      "cell_type": "markdown",
      "metadata": {
        "id": "view-in-github",
        "colab_type": "text"
      },
      "source": [
        "<a href=\"https://colab.research.google.com/github/BreakoutMentors/Data-Science-and-Machine-Learning/blob/main/machine_learning/lesson%202%20-%20logistic%20regression/Classification_Logistic_Regression.ipynb\" target=\"_parent\"><img src=\"https://colab.research.google.com/assets/colab-badge.svg\" alt=\"Open In Colab\"/></a>"
      ]
    },
    {
      "cell_type": "markdown",
      "metadata": {
        "id": "pUaQgPnXJxhV"
      },
      "source": [
        "> Note: Always open in Colab for the best learning experience."
      ]
    },
    {
      "cell_type": "markdown",
      "metadata": {
        "id": "gIsgQYlKKVna"
      },
      "source": [
        "# Classification: Logistic Regression\n",
        "In the previous lessons, we learned about linear regression and how we can use it to construct a single layer linear neural network to predict a numeric value (i.e., how powerful a Pokemon is given their x features). Regression is great when we want to answer *how much?* or *how many?* questions. In practice, we are often more interested in *classification*: asking *which one?* not *how much?*\n",
        "- Is this customer more likely to *sign up* or *not* for a subscription service?\n",
        "- Does this image contain one of the following, a cat or a dog?\n",
        "- Is this song in the genre of hip hop, pop, or funk?\n",
        "\n",
        "When we want to distinguish two classes (called *binary classification*), we can use a classification technique called logistic regression.\n",
        "\n",
        "In this notebook, we will learn the foundations of logistic regression and demonstrate how to solve binary classification problems using an example--building a logistic regression model to predict whether it will rain the next-day or not. The ideas we introduce here will build on previous material and continue to lay out the fundamental concepts used in deep learning and neural networks, which we will cover in future lessons. Here is the lesson roadmap:\n",
        "1. Introduction to logistic regression\n",
        "2. From linear to logistic regression\n",
        "3. Building a logistic regression classifier: predicting if it rains tomorrow\n",
        "7. Summary\n",
        "\n"
      ]
    },
    {
      "cell_type": "markdown",
      "metadata": {
        "id": "-OYk2h2X2gqE"
      },
      "source": [
        "# Representing categorical data\n",
        "<figure>\n",
        "  <img src='https://envato-shoebox-0.imgix.net/2718/a008-795b-4376-972d-ed9cbad8ac4f/2015_227_003_0063_A_2018_07_19.jpg?auto=compress%2Cformat&fit=max&mark=https%3A%2F%2Felements-assets.envato.com%2Fstatic%2Fwatermark2.png&markalign=center%2Cmiddle&markalpha=18&w=700&s=e3fbeb220008b297bee64675504ae70c' width='50%'>\n",
        "  <figcaption>Representing data: a Shina Inu, Retriever, and Lab</figcaption>\n",
        "</figure>\n",
        "\n",
        "\n",
        "\n",
        "Before we dive into logistic regression, let's consider how machine learning problems generally represents categorical data. \n",
        "\n",
        "Categorical features represent types of data which may be divided into groups. Examples of categorical features are dog breed, game genre, and educational level. While the latter feature may also be considered in a numerical manner by using exact values for  highest grade completed, it is often more informative to categorize such variables into a relatively small number of groups.\n",
        "\n",
        "Consider an example where we want to distinguish 3 different dog breeds--(golden) retrievers, labs, and shiba inus, given 3 features about each dog: height, weight, and fur color. The numeric features are height ($x_1$) and weight ($x_2$), while the categorical feature is fur color ($x_3$), which we determined has 3 colors: black, red, yellow (golden/light gold). To make this categorical feature useful, we need to convert it into a numerical representation. \n",
        "\n",
        "There are two general ways to represent categorical data in numeric terms. Perhaps the most natural choice to is to choose $x_3 \\in \\{1, 2, 3\\}$, where the integers represent the fur colors {black, red, yellow} repectively. This is a great way to compress and store info on a computer, but it's not great for machine learning. Fortunately, great minds got together long ago and invented a simple method to represent categorical data called *one-hot encoding*. A one-hot encoding is a vector with as many components as we have categories. The component corresponding to particular sample's category is set to 1 and all other components are set to 0. So in our case, this translates to:\n",
        "\n",
        "$$\n",
        "x_3 \\in \\{ (1, 0, 0), (0, 1, 0), (0, 0, 1) \\},\n",
        "$$\n",
        "\n",
        "where $x_3$ would be a three-dimensional vector representing the fur color feature with $(1, 0, 0)$ corresponding to \"black\", (0, 1, 0) to \"red\", and (0, 0, 1) to \"yellow\" fur."
      ]
    },
    {
      "cell_type": "markdown",
      "metadata": {
        "id": "KyKHFYZBKd64"
      },
      "source": [
        "## Challenge: Representing categorical data\n",
        "Now that you know how to represent categorical data, consider the dog breed example above. We one-hot encoded the fur color feature $x_3$ so that all the features $x_1, x_2, x_3$ were represented by numeric values. Thus, the features ($\\mathbf{x}$) were ready to be passed as input to a machine learning model. On the other hand, are the labels $y$ (the dog bread) ready? Are they in the proper format? How should $y$ be *encoded*? Write your answer in the text cell below. \n",
        "\n",
        "Hint: currently, $y \\in \\{\\ \\text{retrievers}, \\text{labs}, \\text{shiba inus} \\}$ is a one-dimensional vector with categorical values.   "
      ]
    },
    {
      "cell_type": "markdown",
      "metadata": {
        "id": "trG2Tl_SP-Wl"
      },
      "source": [
        ""
      ]
    },
    {
      "cell_type": "markdown",
      "metadata": {
        "id": "vGvK59PbdliB"
      },
      "source": [
        "# Intro to logistic regression\n",
        "<figure>\n",
        "  <img src='https://www.elie.net/static/images/images/challenges-faced-while-training-an-ai-to-combat-abuse/dog-vs-cat.jpg' width='70%'>\n",
        "  <figcaption>Classification: Cat vs Dog</figcaption>\n",
        "</figure>\n",
        "\n",
        "With a healthy understanding of categorical encoding, let's dive into the logistic regression method.\n",
        "\n",
        "Logistic regression is perhaps the simplest and most common machine learning algorithm for binary classification tasks. It is a special case of linear regression where the labels variable ($y$) is categorical in nature. It is called \"logistic\" regression because it uses a *logit* function, called the *sigmoid* function, to estimate the probability of a given class.\n",
        "\n",
        "To motivate logistic regression, let's consider a simple image classification problem--distinguish between cat and dog photos. Here, each image consists of a $2 \\times 2$ grayscale image. We can represent each pixel value with a single scalar (number), giving us four features $x_1,x_2,x_3,x_4$. Further, let's assume that each image belongs to one among the categories “cat” and “dog”. However, as we demonstrated in the previous section, we can't use the labels $y$ in its current format (\"cat\" and \"dog\"). We need to convert the labels to discrete numerical values (i.e., 0 and 1). To this end, we map each category to an integer, making $y \\in \\{0,1\\}$, where the integers represent $\\{\\text{cat}, \\text{dog}\\}$ repsectively. Notice that this is not exactly like *one-hot encoding*, where the one-dimensional vector is converted into a multi-dimensional vector with dimensions equivalent to the number of classes in the labels $y$. Instead, we used the simpler (first) method we discussed in the previous section: encoding each category as a numerical value, in this case $\\{0, 1\\}$ corresponding to $\\{\\text{cat}, \\text{dog}\\}$. When we only need to encode two categories (called binary categorization), we don't have to use one-hot encoding. However, we do need to encode the data numerically. Specifically, among the category labels, we need to assign 0 to one category and 1 to the other.\n"
      ]
    },
    {
      "cell_type": "markdown",
      "metadata": {
        "id": "1fwLwZ31JrZa"
      },
      "source": [
        "# From linear to logistic regression\n",
        "<figure>\n",
        "  <img src='https://miro.medium.com/max/1400/1*dm6ZaX5fuSmuVvM4Ds-vcg.jpeg' width='70%'>\n",
        "  <figcaption>Linear vs Logistic Regression | Source: Datacamp</figcaption>\n",
        "</figure>\n",
        "\n",
        "Now that we know how labels are properly *encoded*, let's demonstrate the connection between linear and logistic regression.\n",
        "\n",
        "When we are doing linear regression the equation is as follows:\n",
        "\n",
        "$$\n",
        "\\hat{\\mathbf{y}} = \\mathbf{w} \\mathbf{X} + b,\\tag{1}\n",
        "$$\n",
        "\n",
        "where the linear model learns the most *optimal* parameter values for the *weights* ($\\mathbf{w}$) and *bias* term ($b$). The linear regression method is great when we want to predict continuous numerical data, but not so good when we need to distinguish between classes. \n",
        "\n",
        "To make a binary logistic classifier to distinguish between cat and dog photos, we need to convert the predictions ($\\hat{\\mathbf{y}}$) into probabilities ($\\hat{\\mathbf{p}}$). Here, each sample is assigned a corresponding probability $\\hat{p}$ that indicates the model's degree of *certainty* that it belongs to a particular class (in our case, cat or dog). Further, we set a threshold, usually 0.5, that the model will use to determine the final class prediction. For our cat ($y=0$) and dog ($y=1$) problem, a sample with a $\\hat{p}$ value greater than 0.5 would receive the \"dog\" label for example. \n",
        "\n",
        "In order to predict classes, logistic regression maps predictions ($\\hat{\\mathbf{y}}$) to probabilities ($\\hat{\\mathbf{p}}$) via the *sigmoid* logit function:\n",
        "$$\n",
        "\\tag{2}\n",
        "p = \\sigma(y) = \\frac{1}{1 + e^{-y}},\n",
        "$$\n",
        "\n",
        "which leads us to the equation for logistic regression: \n",
        "$$\n",
        "\\tag{3}\n",
        "\\hat{\\mathbf{p}} = \\sigma(\\hat{\\mathbf{y}}) = \\frac{1}{1 + e^{-(\\hat{\\mathbf{w} \\mathbf{X} + b})}}, \n",
        "$$ \n",
        "\n",
        "where the logistic model (binary classifier) learns the most *optimal* parameter values ($\\mathbf{w}$ and $b$) by producing probabilities ($\\hat{\\mathbf{p}}$) that *maximize the likelihood* of predicting the observed data. \n",
        "\n",
        "Generally, the logistic regression equation from $(3)$ is compressed:\n",
        "\n",
        "$$\n",
        "\\tag{4}\n",
        "\\hat{\\mathbf{p}} = \\sigma(\\hat{\\mathbf{y}}) = \\sigma(\\hat{\\mathbf{w} \\mathbf{X} + b}),\n",
        "$$\n",
        "\n",
        "where $\\sigma$ represents the sigmoid function (eq. $2$) in this case. Does this equation look similar to linear regression yet?\n",
        "\n",
        "To summarize logistic regression:\n",
        "- Category labels are converted to discrete integer values (e.g., 0 and 1).\n",
        "- The *sigmoid* logit function maps input features ($\\mathbf{x}$) to probabilities (i.e., a number between 0 and 1).\n",
        "- A category prediction is determined by the threshold value (usually 0.5) and the probability (i.e., in our cat/dog example, a sample with a probability greater than 0.5 is classified as a dog image).   \n",
        "- Logistic regression classifiers try to maximize *certainty*: predict a particular class with high confidence ($\\hat{p}$ closer to 1) and be correct (after thresholding, $\\hat{p} = y$), most of the time.  "
      ]
    },
    {
      "cell_type": "markdown",
      "metadata": {
        "id": "d1yKY66dhryV"
      },
      "source": [
        "# Logistic Regression: predicting if it rains tomorrow\n",
        "Now that we know about the fundamentals of logistic regression, let's apply this method to a real-world problem--predicting if it rains the next day in Austrailia based on daily data. In this section, we will demonstrate in an end-to-end fashion the process of creating a logistic regression classifier: from building, to training, and finally evaluating the model. This process involves several steps:\n",
        "\n",
        "1. Find a dataset related to our question.\n",
        "2. Explore the dataset and prepare it for the model.\n",
        "3. Build the model.\n",
        "4. Train the model using an algorithm such as stochastic gradient descent.\n",
        "5. Evaluate the quality of our model.\n",
        "Draw conclusions.\n",
        "\n",
        "For step 1, we found the [Rain in Australia](https://www.kaggle.com/jsphyg/weather-dataset-rattle-package). The dataset contains approximately 145,000 samples when uncleaned, each representing daily weather data and whether it rained the next day. It provides data like location, temperature, amount of rainfall, windspeed and so much more!"
      ]
    },
    {
      "cell_type": "code",
      "metadata": {
        "id": "5ZcA1hmu_nSx"
      },
      "source": [
        "# import the libraries we be need\n",
        "import pandas as pd\n",
        "import numpy as np\n",
        "import matplotlib\n",
        "import matplotlib.pyplot as plt\n",
        "\n",
        "# importing PyTorch\n",
        "import torch\n",
        "import torch.nn as nn"
      ],
      "execution_count": 1,
      "outputs": []
    },
    {
      "cell_type": "markdown",
      "metadata": {
        "id": "1-p0Ri_eijre"
      },
      "source": [
        "## 2. Explore the dataset and prepare it for our model\n",
        "In this section we will focus on defining the   *features* ($\\mathbf{x}$) and *labels* ($\\mathbf{y}$) that we will use in our logistic regression classifier to predict next-day rain. As you will see, this require us to do some data cleaning and preprocessing."
      ]
    },
    {
      "cell_type": "code",
      "metadata": {
        "colab": {
          "base_uri": "https://localhost:8080/",
          "height": 309
        },
        "id": "82Z3ksE8AjsI",
        "outputId": "372ae38f-1c7e-4687-efb5-99ce2c267819"
      },
      "source": [
        "data_url = 'https://raw.githubusercontent.com/BreakoutMentors/Data-Science-and-Machine-Learning/main/datasets/weatherAUS.csv'\n",
        "df = pd.read_csv(data_url)\n",
        "df.head()"
      ],
      "execution_count": 2,
      "outputs": [
        {
          "output_type": "execute_result",
          "data": {
            "text/html": [
              "<div>\n",
              "<style scoped>\n",
              "    .dataframe tbody tr th:only-of-type {\n",
              "        vertical-align: middle;\n",
              "    }\n",
              "\n",
              "    .dataframe tbody tr th {\n",
              "        vertical-align: top;\n",
              "    }\n",
              "\n",
              "    .dataframe thead th {\n",
              "        text-align: right;\n",
              "    }\n",
              "</style>\n",
              "<table border=\"1\" class=\"dataframe\">\n",
              "  <thead>\n",
              "    <tr style=\"text-align: right;\">\n",
              "      <th></th>\n",
              "      <th>Date</th>\n",
              "      <th>Location</th>\n",
              "      <th>MinTemp</th>\n",
              "      <th>MaxTemp</th>\n",
              "      <th>Rainfall</th>\n",
              "      <th>Evaporation</th>\n",
              "      <th>Sunshine</th>\n",
              "      <th>WindGustDir</th>\n",
              "      <th>WindGustSpeed</th>\n",
              "      <th>WindDir9am</th>\n",
              "      <th>WindDir3pm</th>\n",
              "      <th>WindSpeed9am</th>\n",
              "      <th>WindSpeed3pm</th>\n",
              "      <th>Humidity9am</th>\n",
              "      <th>Humidity3pm</th>\n",
              "      <th>Pressure9am</th>\n",
              "      <th>Pressure3pm</th>\n",
              "      <th>Cloud9am</th>\n",
              "      <th>Cloud3pm</th>\n",
              "      <th>Temp9am</th>\n",
              "      <th>Temp3pm</th>\n",
              "      <th>RainToday</th>\n",
              "      <th>RainTomorrow</th>\n",
              "    </tr>\n",
              "  </thead>\n",
              "  <tbody>\n",
              "    <tr>\n",
              "      <th>0</th>\n",
              "      <td>2008-12-01</td>\n",
              "      <td>Albury</td>\n",
              "      <td>13.4</td>\n",
              "      <td>22.9</td>\n",
              "      <td>0.6</td>\n",
              "      <td>NaN</td>\n",
              "      <td>NaN</td>\n",
              "      <td>W</td>\n",
              "      <td>44.0</td>\n",
              "      <td>W</td>\n",
              "      <td>WNW</td>\n",
              "      <td>20.0</td>\n",
              "      <td>24.0</td>\n",
              "      <td>71.0</td>\n",
              "      <td>22.0</td>\n",
              "      <td>1007.7</td>\n",
              "      <td>1007.1</td>\n",
              "      <td>8.0</td>\n",
              "      <td>NaN</td>\n",
              "      <td>16.9</td>\n",
              "      <td>21.8</td>\n",
              "      <td>No</td>\n",
              "      <td>No</td>\n",
              "    </tr>\n",
              "    <tr>\n",
              "      <th>1</th>\n",
              "      <td>2008-12-02</td>\n",
              "      <td>Albury</td>\n",
              "      <td>7.4</td>\n",
              "      <td>25.1</td>\n",
              "      <td>0.0</td>\n",
              "      <td>NaN</td>\n",
              "      <td>NaN</td>\n",
              "      <td>WNW</td>\n",
              "      <td>44.0</td>\n",
              "      <td>NNW</td>\n",
              "      <td>WSW</td>\n",
              "      <td>4.0</td>\n",
              "      <td>22.0</td>\n",
              "      <td>44.0</td>\n",
              "      <td>25.0</td>\n",
              "      <td>1010.6</td>\n",
              "      <td>1007.8</td>\n",
              "      <td>NaN</td>\n",
              "      <td>NaN</td>\n",
              "      <td>17.2</td>\n",
              "      <td>24.3</td>\n",
              "      <td>No</td>\n",
              "      <td>No</td>\n",
              "    </tr>\n",
              "    <tr>\n",
              "      <th>2</th>\n",
              "      <td>2008-12-03</td>\n",
              "      <td>Albury</td>\n",
              "      <td>12.9</td>\n",
              "      <td>25.7</td>\n",
              "      <td>0.0</td>\n",
              "      <td>NaN</td>\n",
              "      <td>NaN</td>\n",
              "      <td>WSW</td>\n",
              "      <td>46.0</td>\n",
              "      <td>W</td>\n",
              "      <td>WSW</td>\n",
              "      <td>19.0</td>\n",
              "      <td>26.0</td>\n",
              "      <td>38.0</td>\n",
              "      <td>30.0</td>\n",
              "      <td>1007.6</td>\n",
              "      <td>1008.7</td>\n",
              "      <td>NaN</td>\n",
              "      <td>2.0</td>\n",
              "      <td>21.0</td>\n",
              "      <td>23.2</td>\n",
              "      <td>No</td>\n",
              "      <td>No</td>\n",
              "    </tr>\n",
              "    <tr>\n",
              "      <th>3</th>\n",
              "      <td>2008-12-04</td>\n",
              "      <td>Albury</td>\n",
              "      <td>9.2</td>\n",
              "      <td>28.0</td>\n",
              "      <td>0.0</td>\n",
              "      <td>NaN</td>\n",
              "      <td>NaN</td>\n",
              "      <td>NE</td>\n",
              "      <td>24.0</td>\n",
              "      <td>SE</td>\n",
              "      <td>E</td>\n",
              "      <td>11.0</td>\n",
              "      <td>9.0</td>\n",
              "      <td>45.0</td>\n",
              "      <td>16.0</td>\n",
              "      <td>1017.6</td>\n",
              "      <td>1012.8</td>\n",
              "      <td>NaN</td>\n",
              "      <td>NaN</td>\n",
              "      <td>18.1</td>\n",
              "      <td>26.5</td>\n",
              "      <td>No</td>\n",
              "      <td>No</td>\n",
              "    </tr>\n",
              "    <tr>\n",
              "      <th>4</th>\n",
              "      <td>2008-12-05</td>\n",
              "      <td>Albury</td>\n",
              "      <td>17.5</td>\n",
              "      <td>32.3</td>\n",
              "      <td>1.0</td>\n",
              "      <td>NaN</td>\n",
              "      <td>NaN</td>\n",
              "      <td>W</td>\n",
              "      <td>41.0</td>\n",
              "      <td>ENE</td>\n",
              "      <td>NW</td>\n",
              "      <td>7.0</td>\n",
              "      <td>20.0</td>\n",
              "      <td>82.0</td>\n",
              "      <td>33.0</td>\n",
              "      <td>1010.8</td>\n",
              "      <td>1006.0</td>\n",
              "      <td>7.0</td>\n",
              "      <td>8.0</td>\n",
              "      <td>17.8</td>\n",
              "      <td>29.7</td>\n",
              "      <td>No</td>\n",
              "      <td>No</td>\n",
              "    </tr>\n",
              "  </tbody>\n",
              "</table>\n",
              "</div>"
            ],
            "text/plain": [
              "         Date Location  MinTemp  ...  Temp3pm  RainToday  RainTomorrow\n",
              "0  2008-12-01   Albury     13.4  ...     21.8         No            No\n",
              "1  2008-12-02   Albury      7.4  ...     24.3         No            No\n",
              "2  2008-12-03   Albury     12.9  ...     23.2         No            No\n",
              "3  2008-12-04   Albury      9.2  ...     26.5         No            No\n",
              "4  2008-12-05   Albury     17.5  ...     29.7         No            No\n",
              "\n",
              "[5 rows x 23 columns]"
            ]
          },
          "metadata": {
            "tags": []
          },
          "execution_count": 2
        }
      ]
    },
    {
      "cell_type": "code",
      "metadata": {
        "colab": {
          "base_uri": "https://localhost:8080/"
        },
        "id": "hWhDZORkja6p",
        "outputId": "54676e52-e808-4f77-d8ef-67e1addbb15c"
      },
      "source": [
        "# check the column types and get basic info\n",
        "df.info()"
      ],
      "execution_count": 3,
      "outputs": [
        {
          "output_type": "stream",
          "text": [
            "<class 'pandas.core.frame.DataFrame'>\n",
            "RangeIndex: 145460 entries, 0 to 145459\n",
            "Data columns (total 23 columns):\n",
            " #   Column         Non-Null Count   Dtype  \n",
            "---  ------         --------------   -----  \n",
            " 0   Date           145460 non-null  object \n",
            " 1   Location       145460 non-null  object \n",
            " 2   MinTemp        143975 non-null  float64\n",
            " 3   MaxTemp        144199 non-null  float64\n",
            " 4   Rainfall       142199 non-null  float64\n",
            " 5   Evaporation    82670 non-null   float64\n",
            " 6   Sunshine       75625 non-null   float64\n",
            " 7   WindGustDir    135134 non-null  object \n",
            " 8   WindGustSpeed  135197 non-null  float64\n",
            " 9   WindDir9am     134894 non-null  object \n",
            " 10  WindDir3pm     141232 non-null  object \n",
            " 11  WindSpeed9am   143693 non-null  float64\n",
            " 12  WindSpeed3pm   142398 non-null  float64\n",
            " 13  Humidity9am    142806 non-null  float64\n",
            " 14  Humidity3pm    140953 non-null  float64\n",
            " 15  Pressure9am    130395 non-null  float64\n",
            " 16  Pressure3pm    130432 non-null  float64\n",
            " 17  Cloud9am       89572 non-null   float64\n",
            " 18  Cloud3pm       86102 non-null   float64\n",
            " 19  Temp9am        143693 non-null  float64\n",
            " 20  Temp3pm        141851 non-null  float64\n",
            " 21  RainToday      142199 non-null  object \n",
            " 22  RainTomorrow   142193 non-null  object \n",
            "dtypes: float64(16), object(7)\n",
            "memory usage: 25.5+ MB\n"
          ],
          "name": "stdout"
        }
      ]
    },
    {
      "cell_type": "markdown",
      "metadata": {
        "id": "mGJhIyb3dHo6"
      },
      "source": [
        "### Removing Null Values\n",
        "\n",
        "I will be doing two steps to remove null values\n",
        "1. Remove columns that have more than $\\frac{1}{4}$ of missing data\n",
        "2. Remove rows that have any mission data"
      ]
    },
    {
      "cell_type": "code",
      "metadata": {
        "colab": {
          "base_uri": "https://localhost:8080/"
        },
        "id": "j6z4FBijU-CT",
        "outputId": "18bd3aa6-bbcd-4b8b-9096-4cddf388d2bc"
      },
      "source": [
        "# Printing the columns with more than 1/4 of column has nulls to remove those\n",
        "nan_cols = df.isna().sum() > (0.25 * df.shape[0])\n",
        "nan_cols = nan_cols[nan_cols].index.tolist()\n",
        "print(\"These are columns that have more than 1/4 of the column missing\")\n",
        "print(nan_cols)\n",
        "\n",
        "# Removing those columns\n",
        "df = df.drop(columns=nan_cols)\n",
        "\n",
        "# For easy cleaning, will be removing all rows with missing data\n",
        "df = df.dropna()"
      ],
      "execution_count": 4,
      "outputs": [
        {
          "output_type": "stream",
          "text": [
            "These are columns that have more than 1/4 of the column missing\n",
            "['Evaporation', 'Sunshine', 'Cloud9am', 'Cloud3pm']\n"
          ],
          "name": "stdout"
        }
      ]
    },
    {
      "cell_type": "code",
      "metadata": {
        "colab": {
          "base_uri": "https://localhost:8080/"
        },
        "id": "tY3ohRySWTih",
        "outputId": "00c7470e-78ab-491e-eeab-ca9aaafc1566"
      },
      "source": [
        "print('Number of missing values: ', df.isna().sum().sum())"
      ],
      "execution_count": 5,
      "outputs": [
        {
          "output_type": "stream",
          "text": [
            "Number of missing values:  0\n"
          ],
          "name": "stdout"
        }
      ]
    },
    {
      "cell_type": "markdown",
      "metadata": {
        "id": "scfhQQ_hefw5"
      },
      "source": [
        "### Feature Extraction from Dates\n",
        "\n",
        "The 'Date' column contains the date of when the data was collected. If we are planning to predict if it will rain tomorrow, then you can believe months can have an effect of when it rains. Therefore, a new column named 'month' is created which will be used for the model.\n",
        "\n",
        "The 'Date' column is originally an *object* datatype column, but we will use `pd.to_datatime()` to convert the column data type into *datetime64[ns]* data type so pandas can understand the column as actual dates, not strings. Then using the `dt.month` attribute of `df['Date']`, you can get the month of every entry and save the returned pandas Series and save that Series to a new column in the dataframe.\n",
        "\n",
        "After saving the month, we can remove the 'Date' column since it we cannot input that into our model."
      ]
    },
    {
      "cell_type": "code",
      "metadata": {
        "id": "dpq3dIrQcFDL"
      },
      "source": [
        "# Changing column Date from object data type to datetime64[ns]\n",
        "df['Date'] = pd.to_datetime(df['Date'])\n",
        "\n",
        "# Creating a new column called 'month'\n",
        "df['month'] = df.Date.dt.month\n",
        "\n",
        "# look at the head of 'month'\n",
        "df.loc[:, ['Date', 'month']].head()\n",
        "\n",
        "df = df.drop(columns=['Date'])"
      ],
      "execution_count": 6,
      "outputs": []
    },
    {
      "cell_type": "markdown",
      "metadata": {
        "id": "Mc6S2PtTht1P"
      },
      "source": [
        "### Translating string binary columns to [0, 1]\n",
        "\n",
        "Before translating these columns, we should look at the two distributions. Just to prevent confusion, the 'RainToday' column will be used as a feature variable, and 'RainTomorrow' will be used as the dependent variable which we will be predicting."
      ]
    },
    {
      "cell_type": "code",
      "metadata": {
        "colab": {
          "base_uri": "https://localhost:8080/",
          "height": 281
        },
        "id": "-roQeg3jhH0F",
        "outputId": "d30fbcfa-2b82-43ff-d73d-7c7e433ea1ea"
      },
      "source": [
        "df.RainToday.hist()\n",
        "plt.title('Distribution of RainToday')\n",
        "plt.show()"
      ],
      "execution_count": 7,
      "outputs": [
        {
          "output_type": "display_data",
          "data": {
            "image/png": "[encoded data removed]",
            "text/plain": [
              "<Figure size 432x288 with 1 Axes>"
            ]
          },
          "metadata": {
            "tags": [],
            "needs_background": "light"
          }
        }
      ]
    },
    {
      "cell_type": "code",
      "metadata": {
        "colab": {
          "base_uri": "https://localhost:8080/",
          "height": 281
        },
        "id": "3J81sytnixS_",
        "outputId": "890a5059-e2e8-4431-fd60-52536addd671"
      },
      "source": [
        "df.RainTomorrow.hist()\n",
        "plt.title('Distribution of RainTomorrow')\n",
        "plt.show()"
      ],
      "execution_count": 8,
      "outputs": [
        {
          "output_type": "display_data",
          "data": {
            "image/png": "[encoded data removed]",
            "text/plain": [
              "<Figure size 432x288 with 1 Axes>"
            ]
          },
          "metadata": {
            "tags": [],
            "needs_background": "light"
          }
        }
      ]
    },
    {
      "cell_type": "markdown",
      "metadata": {
        "id": "AcTd48JdBU13"
      },
      "source": [
        "You can see that these two distributions are very similar and that they are very unbalanced. When we separate the data into their training and test sets, we will even the class distribution in column 'Rain Tomorrow'. Now lets convert the 'No' and 'Yes' values to 0's and 1's."
      ]
    },
    {
      "cell_type": "code",
      "metadata": {
        "id": "i8mfRJBqjpcC"
      },
      "source": [
        "def binary_conversion(rain):\n",
        "    # returns 1 if it rains\n",
        "    if rain == 'Yes':\n",
        "        return 1\n",
        "    # returns 0 if it did not rain\n",
        "    else:\n",
        "        return 0\n",
        "\n",
        "# Converting those two columns\n",
        "df['RainToday'] = df['RainToday'].map(binary_conversion)\n",
        "df['RainTomorrow'] = df['RainTomorrow'].map(binary_conversion)\n"
      ],
      "execution_count": 9,
      "outputs": []
    },
    {
      "cell_type": "markdown",
      "metadata": {
        "id": "IOsuPs2cmIkt"
      },
      "source": [
        "### One-Hot encoding all categorical data\n",
        "\n",
        "The way this is done is by one-hot encoding all columns with 'object' data type."
      ]
    },
    {
      "cell_type": "code",
      "metadata": {
        "id": "akwojnlekawn"
      },
      "source": [
        "# Getting columns with the object data type\n",
        "object_cols = df.select_dtypes(include=object).columns.tolist()\n",
        "\n",
        "# Saving one-hot encoded dataframes to concatenate later\n",
        "one_hot_dfs = [df.copy()]\n",
        "for col in object_cols:\n",
        "    one_hot_df = pd.get_dummies(df[col], prefix=col)\n",
        "    one_hot_dfs.append(one_hot_df)\n",
        "\n",
        "# Concatening all dataframes into df again\n",
        "df = pd.concat(one_hot_dfs, axis=1)\n",
        "\n",
        "# Dropping the columns used to one-hot encode\n",
        "df = df.drop(columns=object_cols)"
      ],
      "execution_count": 10,
      "outputs": []
    },
    {
      "cell_type": "markdown",
      "metadata": {
        "id": "5xCHU-zyqsGZ"
      },
      "source": [
        "### Balancing the Dataset\n",
        "\n",
        "The reason why we balance the dataset by variable we try to predict is to prevent overfitting of the class of the highest frequency, for this situation it is 'No' for 'RainTomorrow' column. And in a statistical sense, the model learns the distribution of the training data to make predictions. So if the distribution is highly skewed to one class, it will just predict the class of highest frequency."
      ]
    },
    {
      "cell_type": "code",
      "metadata": {
        "colab": {
          "base_uri": "https://localhost:8080/",
          "height": 253
        },
        "id": "7oNqexiSpNei",
        "outputId": "bfa93470-c577-4714-949a-a824b230b5e4"
      },
      "source": [
        "def balance_dataset(df):\n",
        "    df_copy = df.copy()\n",
        "    df_rain = df_copy.loc[df['RainTomorrow']==1.0, :]\n",
        "    df_dry = df_copy.loc[df['RainTomorrow']==0.0, :].sample(df_rain.RainTomorrow.value_counts()[1])\n",
        "    df_copy = pd.concat([df_rain, df_dry]).sample(frac=1, random_state=0)\n",
        "    return df_copy\n",
        "\n",
        "df = balance_dataset(df)\n",
        "df.head()"
      ],
      "execution_count": 11,
      "outputs": [
        {
          "output_type": "execute_result",
          "data": {
            "text/html": [
              "<div>\n",
              "<style scoped>\n",
              "    .dataframe tbody tr th:only-of-type {\n",
              "        vertical-align: middle;\n",
              "    }\n",
              "\n",
              "    .dataframe tbody tr th {\n",
              "        vertical-align: top;\n",
              "    }\n",
              "\n",
              "    .dataframe thead th {\n",
              "        text-align: right;\n",
              "    }\n",
              "</style>\n",
              "<table border=\"1\" class=\"dataframe\">\n",
              "  <thead>\n",
              "    <tr style=\"text-align: right;\">\n",
              "      <th></th>\n",
              "      <th>MinTemp</th>\n",
              "      <th>MaxTemp</th>\n",
              "      <th>Rainfall</th>\n",
              "      <th>WindGustSpeed</th>\n",
              "      <th>WindSpeed9am</th>\n",
              "      <th>WindSpeed3pm</th>\n",
              "      <th>Humidity9am</th>\n",
              "      <th>Humidity3pm</th>\n",
              "      <th>Pressure9am</th>\n",
              "      <th>Pressure3pm</th>\n",
              "      <th>Temp9am</th>\n",
              "      <th>Temp3pm</th>\n",
              "      <th>RainToday</th>\n",
              "      <th>RainTomorrow</th>\n",
              "      <th>month</th>\n",
              "      <th>Location_Adelaide</th>\n",
              "      <th>Location_Albury</th>\n",
              "      <th>Location_AliceSprings</th>\n",
              "      <th>Location_BadgerysCreek</th>\n",
              "      <th>Location_Ballarat</th>\n",
              "      <th>Location_Bendigo</th>\n",
              "      <th>Location_Brisbane</th>\n",
              "      <th>Location_Cairns</th>\n",
              "      <th>Location_Canberra</th>\n",
              "      <th>Location_Cobar</th>\n",
              "      <th>Location_CoffsHarbour</th>\n",
              "      <th>Location_Dartmoor</th>\n",
              "      <th>Location_Darwin</th>\n",
              "      <th>Location_GoldCoast</th>\n",
              "      <th>Location_Hobart</th>\n",
              "      <th>Location_Katherine</th>\n",
              "      <th>Location_Launceston</th>\n",
              "      <th>Location_Melbourne</th>\n",
              "      <th>Location_MelbourneAirport</th>\n",
              "      <th>Location_Mildura</th>\n",
              "      <th>Location_Moree</th>\n",
              "      <th>Location_MountGambier</th>\n",
              "      <th>Location_Nhil</th>\n",
              "      <th>Location_NorahHead</th>\n",
              "      <th>Location_NorfolkIsland</th>\n",
              "      <th>...</th>\n",
              "      <th>WindGustDir_S</th>\n",
              "      <th>WindGustDir_SE</th>\n",
              "      <th>WindGustDir_SSE</th>\n",
              "      <th>WindGustDir_SSW</th>\n",
              "      <th>WindGustDir_SW</th>\n",
              "      <th>WindGustDir_W</th>\n",
              "      <th>WindGustDir_WNW</th>\n",
              "      <th>WindGustDir_WSW</th>\n",
              "      <th>WindDir9am_E</th>\n",
              "      <th>WindDir9am_ENE</th>\n",
              "      <th>WindDir9am_ESE</th>\n",
              "      <th>WindDir9am_N</th>\n",
              "      <th>WindDir9am_NE</th>\n",
              "      <th>WindDir9am_NNE</th>\n",
              "      <th>WindDir9am_NNW</th>\n",
              "      <th>WindDir9am_NW</th>\n",
              "      <th>WindDir9am_S</th>\n",
              "      <th>WindDir9am_SE</th>\n",
              "      <th>WindDir9am_SSE</th>\n",
              "      <th>WindDir9am_SSW</th>\n",
              "      <th>WindDir9am_SW</th>\n",
              "      <th>WindDir9am_W</th>\n",
              "      <th>WindDir9am_WNW</th>\n",
              "      <th>WindDir9am_WSW</th>\n",
              "      <th>WindDir3pm_E</th>\n",
              "      <th>WindDir3pm_ENE</th>\n",
              "      <th>WindDir3pm_ESE</th>\n",
              "      <th>WindDir3pm_N</th>\n",
              "      <th>WindDir3pm_NE</th>\n",
              "      <th>WindDir3pm_NNE</th>\n",
              "      <th>WindDir3pm_NNW</th>\n",
              "      <th>WindDir3pm_NW</th>\n",
              "      <th>WindDir3pm_S</th>\n",
              "      <th>WindDir3pm_SE</th>\n",
              "      <th>WindDir3pm_SSE</th>\n",
              "      <th>WindDir3pm_SSW</th>\n",
              "      <th>WindDir3pm_SW</th>\n",
              "      <th>WindDir3pm_W</th>\n",
              "      <th>WindDir3pm_WNW</th>\n",
              "      <th>WindDir3pm_WSW</th>\n",
              "    </tr>\n",
              "  </thead>\n",
              "  <tbody>\n",
              "    <tr>\n",
              "      <th>55133</th>\n",
              "      <td>8.3</td>\n",
              "      <td>17.0</td>\n",
              "      <td>0.2</td>\n",
              "      <td>54.0</td>\n",
              "      <td>26.0</td>\n",
              "      <td>30.0</td>\n",
              "      <td>87.0</td>\n",
              "      <td>48.0</td>\n",
              "      <td>1004.7</td>\n",
              "      <td>1006.5</td>\n",
              "      <td>11.6</td>\n",
              "      <td>16.0</td>\n",
              "      <td>0</td>\n",
              "      <td>0</td>\n",
              "      <td>1</td>\n",
              "      <td>0</td>\n",
              "      <td>0</td>\n",
              "      <td>0</td>\n",
              "      <td>0</td>\n",
              "      <td>1</td>\n",
              "      <td>0</td>\n",
              "      <td>0</td>\n",
              "      <td>0</td>\n",
              "      <td>0</td>\n",
              "      <td>0</td>\n",
              "      <td>0</td>\n",
              "      <td>0</td>\n",
              "      <td>0</td>\n",
              "      <td>0</td>\n",
              "      <td>0</td>\n",
              "      <td>0</td>\n",
              "      <td>0</td>\n",
              "      <td>0</td>\n",
              "      <td>0</td>\n",
              "      <td>0</td>\n",
              "      <td>0</td>\n",
              "      <td>0</td>\n",
              "      <td>0</td>\n",
              "      <td>0</td>\n",
              "      <td>0</td>\n",
              "      <td>...</td>\n",
              "      <td>0</td>\n",
              "      <td>0</td>\n",
              "      <td>0</td>\n",
              "      <td>0</td>\n",
              "      <td>1</td>\n",
              "      <td>0</td>\n",
              "      <td>0</td>\n",
              "      <td>0</td>\n",
              "      <td>0</td>\n",
              "      <td>0</td>\n",
              "      <td>0</td>\n",
              "      <td>0</td>\n",
              "      <td>0</td>\n",
              "      <td>0</td>\n",
              "      <td>0</td>\n",
              "      <td>0</td>\n",
              "      <td>0</td>\n",
              "      <td>0</td>\n",
              "      <td>0</td>\n",
              "      <td>0</td>\n",
              "      <td>0</td>\n",
              "      <td>1</td>\n",
              "      <td>0</td>\n",
              "      <td>0</td>\n",
              "      <td>0</td>\n",
              "      <td>0</td>\n",
              "      <td>0</td>\n",
              "      <td>0</td>\n",
              "      <td>0</td>\n",
              "      <td>0</td>\n",
              "      <td>0</td>\n",
              "      <td>0</td>\n",
              "      <td>0</td>\n",
              "      <td>0</td>\n",
              "      <td>0</td>\n",
              "      <td>0</td>\n",
              "      <td>0</td>\n",
              "      <td>0</td>\n",
              "      <td>0</td>\n",
              "      <td>1</td>\n",
              "    </tr>\n",
              "    <tr>\n",
              "      <th>119029</th>\n",
              "      <td>24.3</td>\n",
              "      <td>32.0</td>\n",
              "      <td>0.0</td>\n",
              "      <td>37.0</td>\n",
              "      <td>13.0</td>\n",
              "      <td>19.0</td>\n",
              "      <td>61.0</td>\n",
              "      <td>61.0</td>\n",
              "      <td>1009.1</td>\n",
              "      <td>1009.1</td>\n",
              "      <td>29.3</td>\n",
              "      <td>28.7</td>\n",
              "      <td>0</td>\n",
              "      <td>0</td>\n",
              "      <td>1</td>\n",
              "      <td>0</td>\n",
              "      <td>0</td>\n",
              "      <td>0</td>\n",
              "      <td>0</td>\n",
              "      <td>0</td>\n",
              "      <td>0</td>\n",
              "      <td>0</td>\n",
              "      <td>0</td>\n",
              "      <td>0</td>\n",
              "      <td>0</td>\n",
              "      <td>0</td>\n",
              "      <td>0</td>\n",
              "      <td>0</td>\n",
              "      <td>0</td>\n",
              "      <td>0</td>\n",
              "      <td>0</td>\n",
              "      <td>0</td>\n",
              "      <td>0</td>\n",
              "      <td>0</td>\n",
              "      <td>0</td>\n",
              "      <td>0</td>\n",
              "      <td>0</td>\n",
              "      <td>0</td>\n",
              "      <td>0</td>\n",
              "      <td>0</td>\n",
              "      <td>...</td>\n",
              "      <td>0</td>\n",
              "      <td>0</td>\n",
              "      <td>0</td>\n",
              "      <td>0</td>\n",
              "      <td>0</td>\n",
              "      <td>0</td>\n",
              "      <td>0</td>\n",
              "      <td>0</td>\n",
              "      <td>0</td>\n",
              "      <td>0</td>\n",
              "      <td>0</td>\n",
              "      <td>0</td>\n",
              "      <td>0</td>\n",
              "      <td>0</td>\n",
              "      <td>0</td>\n",
              "      <td>1</td>\n",
              "      <td>0</td>\n",
              "      <td>0</td>\n",
              "      <td>0</td>\n",
              "      <td>0</td>\n",
              "      <td>0</td>\n",
              "      <td>0</td>\n",
              "      <td>0</td>\n",
              "      <td>0</td>\n",
              "      <td>0</td>\n",
              "      <td>0</td>\n",
              "      <td>0</td>\n",
              "      <td>0</td>\n",
              "      <td>0</td>\n",
              "      <td>0</td>\n",
              "      <td>0</td>\n",
              "      <td>0</td>\n",
              "      <td>0</td>\n",
              "      <td>0</td>\n",
              "      <td>0</td>\n",
              "      <td>0</td>\n",
              "      <td>0</td>\n",
              "      <td>0</td>\n",
              "      <td>1</td>\n",
              "      <td>0</td>\n",
              "    </tr>\n",
              "    <tr>\n",
              "      <th>121358</th>\n",
              "      <td>7.7</td>\n",
              "      <td>20.3</td>\n",
              "      <td>0.0</td>\n",
              "      <td>19.0</td>\n",
              "      <td>7.0</td>\n",
              "      <td>7.0</td>\n",
              "      <td>72.0</td>\n",
              "      <td>60.0</td>\n",
              "      <td>1019.8</td>\n",
              "      <td>1017.7</td>\n",
              "      <td>12.9</td>\n",
              "      <td>19.9</td>\n",
              "      <td>0</td>\n",
              "      <td>0</td>\n",
              "      <td>6</td>\n",
              "      <td>0</td>\n",
              "      <td>0</td>\n",
              "      <td>0</td>\n",
              "      <td>0</td>\n",
              "      <td>0</td>\n",
              "      <td>0</td>\n",
              "      <td>0</td>\n",
              "      <td>0</td>\n",
              "      <td>0</td>\n",
              "      <td>0</td>\n",
              "      <td>0</td>\n",
              "      <td>0</td>\n",
              "      <td>0</td>\n",
              "      <td>0</td>\n",
              "      <td>0</td>\n",
              "      <td>0</td>\n",
              "      <td>0</td>\n",
              "      <td>0</td>\n",
              "      <td>0</td>\n",
              "      <td>0</td>\n",
              "      <td>0</td>\n",
              "      <td>0</td>\n",
              "      <td>0</td>\n",
              "      <td>0</td>\n",
              "      <td>0</td>\n",
              "      <td>...</td>\n",
              "      <td>0</td>\n",
              "      <td>0</td>\n",
              "      <td>0</td>\n",
              "      <td>0</td>\n",
              "      <td>0</td>\n",
              "      <td>0</td>\n",
              "      <td>0</td>\n",
              "      <td>0</td>\n",
              "      <td>0</td>\n",
              "      <td>1</td>\n",
              "      <td>0</td>\n",
              "      <td>0</td>\n",
              "      <td>0</td>\n",
              "      <td>0</td>\n",
              "      <td>0</td>\n",
              "      <td>0</td>\n",
              "      <td>0</td>\n",
              "      <td>0</td>\n",
              "      <td>0</td>\n",
              "      <td>0</td>\n",
              "      <td>0</td>\n",
              "      <td>0</td>\n",
              "      <td>0</td>\n",
              "      <td>0</td>\n",
              "      <td>0</td>\n",
              "      <td>0</td>\n",
              "      <td>0</td>\n",
              "      <td>0</td>\n",
              "      <td>0</td>\n",
              "      <td>0</td>\n",
              "      <td>0</td>\n",
              "      <td>0</td>\n",
              "      <td>0</td>\n",
              "      <td>0</td>\n",
              "      <td>0</td>\n",
              "      <td>0</td>\n",
              "      <td>0</td>\n",
              "      <td>0</td>\n",
              "      <td>0</td>\n",
              "      <td>1</td>\n",
              "    </tr>\n",
              "    <tr>\n",
              "      <th>10473</th>\n",
              "      <td>17.0</td>\n",
              "      <td>27.6</td>\n",
              "      <td>0.0</td>\n",
              "      <td>44.0</td>\n",
              "      <td>20.0</td>\n",
              "      <td>30.0</td>\n",
              "      <td>56.0</td>\n",
              "      <td>60.0</td>\n",
              "      <td>1015.5</td>\n",
              "      <td>1013.1</td>\n",
              "      <td>24.8</td>\n",
              "      <td>26.4</td>\n",
              "      <td>0</td>\n",
              "      <td>0</td>\n",
              "      <td>1</td>\n",
              "      <td>0</td>\n",
              "      <td>0</td>\n",
              "      <td>0</td>\n",
              "      <td>0</td>\n",
              "      <td>0</td>\n",
              "      <td>0</td>\n",
              "      <td>0</td>\n",
              "      <td>0</td>\n",
              "      <td>0</td>\n",
              "      <td>0</td>\n",
              "      <td>1</td>\n",
              "      <td>0</td>\n",
              "      <td>0</td>\n",
              "      <td>0</td>\n",
              "      <td>0</td>\n",
              "      <td>0</td>\n",
              "      <td>0</td>\n",
              "      <td>0</td>\n",
              "      <td>0</td>\n",
              "      <td>0</td>\n",
              "      <td>0</td>\n",
              "      <td>0</td>\n",
              "      <td>0</td>\n",
              "      <td>0</td>\n",
              "      <td>0</td>\n",
              "      <td>...</td>\n",
              "      <td>0</td>\n",
              "      <td>0</td>\n",
              "      <td>0</td>\n",
              "      <td>0</td>\n",
              "      <td>0</td>\n",
              "      <td>0</td>\n",
              "      <td>0</td>\n",
              "      <td>0</td>\n",
              "      <td>0</td>\n",
              "      <td>0</td>\n",
              "      <td>0</td>\n",
              "      <td>0</td>\n",
              "      <td>0</td>\n",
              "      <td>0</td>\n",
              "      <td>1</td>\n",
              "      <td>0</td>\n",
              "      <td>0</td>\n",
              "      <td>0</td>\n",
              "      <td>0</td>\n",
              "      <td>0</td>\n",
              "      <td>0</td>\n",
              "      <td>0</td>\n",
              "      <td>0</td>\n",
              "      <td>0</td>\n",
              "      <td>0</td>\n",
              "      <td>0</td>\n",
              "      <td>0</td>\n",
              "      <td>0</td>\n",
              "      <td>1</td>\n",
              "      <td>0</td>\n",
              "      <td>0</td>\n",
              "      <td>0</td>\n",
              "      <td>0</td>\n",
              "      <td>0</td>\n",
              "      <td>0</td>\n",
              "      <td>0</td>\n",
              "      <td>0</td>\n",
              "      <td>0</td>\n",
              "      <td>0</td>\n",
              "      <td>0</td>\n",
              "    </tr>\n",
              "    <tr>\n",
              "      <th>99958</th>\n",
              "      <td>11.9</td>\n",
              "      <td>32.5</td>\n",
              "      <td>0.0</td>\n",
              "      <td>41.0</td>\n",
              "      <td>9.0</td>\n",
              "      <td>22.0</td>\n",
              "      <td>97.0</td>\n",
              "      <td>39.0</td>\n",
              "      <td>1020.6</td>\n",
              "      <td>1016.2</td>\n",
              "      <td>15.2</td>\n",
              "      <td>29.8</td>\n",
              "      <td>0</td>\n",
              "      <td>0</td>\n",
              "      <td>2</td>\n",
              "      <td>0</td>\n",
              "      <td>0</td>\n",
              "      <td>0</td>\n",
              "      <td>0</td>\n",
              "      <td>0</td>\n",
              "      <td>0</td>\n",
              "      <td>0</td>\n",
              "      <td>0</td>\n",
              "      <td>0</td>\n",
              "      <td>0</td>\n",
              "      <td>0</td>\n",
              "      <td>0</td>\n",
              "      <td>0</td>\n",
              "      <td>0</td>\n",
              "      <td>0</td>\n",
              "      <td>0</td>\n",
              "      <td>0</td>\n",
              "      <td>0</td>\n",
              "      <td>0</td>\n",
              "      <td>0</td>\n",
              "      <td>0</td>\n",
              "      <td>1</td>\n",
              "      <td>0</td>\n",
              "      <td>0</td>\n",
              "      <td>0</td>\n",
              "      <td>...</td>\n",
              "      <td>0</td>\n",
              "      <td>0</td>\n",
              "      <td>0</td>\n",
              "      <td>0</td>\n",
              "      <td>0</td>\n",
              "      <td>1</td>\n",
              "      <td>0</td>\n",
              "      <td>0</td>\n",
              "      <td>0</td>\n",
              "      <td>0</td>\n",
              "      <td>0</td>\n",
              "      <td>0</td>\n",
              "      <td>0</td>\n",
              "      <td>0</td>\n",
              "      <td>0</td>\n",
              "      <td>0</td>\n",
              "      <td>0</td>\n",
              "      <td>0</td>\n",
              "      <td>1</td>\n",
              "      <td>0</td>\n",
              "      <td>0</td>\n",
              "      <td>0</td>\n",
              "      <td>0</td>\n",
              "      <td>0</td>\n",
              "      <td>0</td>\n",
              "      <td>0</td>\n",
              "      <td>0</td>\n",
              "      <td>0</td>\n",
              "      <td>0</td>\n",
              "      <td>0</td>\n",
              "      <td>0</td>\n",
              "      <td>0</td>\n",
              "      <td>0</td>\n",
              "      <td>0</td>\n",
              "      <td>0</td>\n",
              "      <td>1</td>\n",
              "      <td>0</td>\n",
              "      <td>0</td>\n",
              "      <td>0</td>\n",
              "      <td>0</td>\n",
              "    </tr>\n",
              "  </tbody>\n",
              "</table>\n",
              "<p>5 rows × 107 columns</p>\n",
              "</div>"
            ],
            "text/plain": [
              "        MinTemp  MaxTemp  ...  WindDir3pm_WNW  WindDir3pm_WSW\n",
              "55133       8.3     17.0  ...               0               1\n",
              "119029     24.3     32.0  ...               1               0\n",
              "121358      7.7     20.3  ...               0               1\n",
              "10473      17.0     27.6  ...               0               0\n",
              "99958      11.9     32.5  ...               0               0\n",
              "\n",
              "[5 rows x 107 columns]"
            ]
          },
          "metadata": {
            "tags": []
          },
          "execution_count": 11
        }
      ]
    },
    {
      "cell_type": "markdown",
      "metadata": {
        "id": "77QspHCTrktY"
      },
      "source": [
        "### Separating data into Training and Test sets "
      ]
    },
    {
      "cell_type": "code",
      "metadata": {
        "colab": {
          "base_uri": "https://localhost:8080/"
        },
        "id": "abw7-FD_riCV",
        "outputId": "b8da1e38-eed8-4a5c-a057-6e1581547026"
      },
      "source": [
        "\n",
        "# define the x (features) and y (labels) variables\n",
        "y_col = 'RainTomorrow'\n",
        "x_cols = df.drop(columns=['RainTomorrow']).columns.tolist()\n",
        "\n",
        "# split the dataset into train/test datasets \n",
        "train = df.sample(frac=0.8, random_state=0)\n",
        "test = df.drop(train.index)\n",
        "\n",
        "# Standardizing data sets\n",
        "train = (train - train.min())/(train.max() - train.min())\n",
        "test = (test - test.min())/(test.max() - test.min())\n",
        "\n",
        "# Splitting training data into validation data\n",
        "valid = train.sample(frac=0.1, random_state=0)\n",
        "train = train.drop(valid.index) # Deleting rows sampled for validation data\n",
        "\n",
        "# separate the x (features) and y (labels) in the train/valid/test datasets and normalizing them\n",
        "train_features = torch.tensor(train[x_cols].values, dtype=torch.float)\n",
        "test_features = torch.tensor(test[x_cols].values, dtype=torch.float)\n",
        "valid_features = torch.tensor(valid[x_cols].values, dtype=torch.float)\n",
        "\n",
        "train_labels = torch.tensor(train[y_col].values.reshape(-1, 1), dtype=torch.float)\n",
        "test_labels = torch.tensor(test[y_col].values.reshape(-1, 1), dtype=torch.float)\n",
        "valid_labels = torch.tensor(valid[y_col].values.reshape(-1, 1), dtype=torch.float)\n",
        "\n",
        "print('train features shape:', train_features.shape)\n",
        "print('train labels shape:', train_labels.shape)\n",
        "\n",
        "print('validation features shape:', valid_features.shape)\n",
        "print('validation labels shape:', valid_labels.shape)\n",
        "\n",
        "print('test features shape:', test_features.shape)\n",
        "print('test labels shape:', test_labels.shape)\n",
        "\n",
        "print('first 5 test labels:\\n', test_labels[:5])"
      ],
      "execution_count": 12,
      "outputs": [
        {
          "output_type": "stream",
          "text": [
            "train features shape: torch.Size([36027, 106])\n",
            "train labels shape: torch.Size([36027, 1])\n",
            "validation features shape: torch.Size([4003, 106])\n",
            "validation labels shape: torch.Size([4003, 1])\n",
            "test features shape: torch.Size([10008, 106])\n",
            "test labels shape: torch.Size([10008, 1])\n",
            "first 5 test labels:\n",
            " tensor([[1.],\n",
            "        [1.],\n",
            "        [0.],\n",
            "        [1.],\n",
            "        [1.]])\n"
          ],
          "name": "stdout"
        }
      ]
    },
    {
      "cell_type": "markdown",
      "metadata": {
        "id": "YB8P1GFcifvd"
      },
      "source": [
        "## 3. Build the model\n",
        "Now that the data is ready, we can build a model. We will use PyTorch to define a simple logistic regression model (single-layer neural network) to predict if it will rain the next day given the weather data of the current day. Given a sample with a corresponding prediction that is above 0.5, the model will assign the \"rain\" (1) category to it, otherwise it is categorized as \"no rain\". \n",
        "\n",
        "We also define the loss function and optimization algorithm. We will use *binary cross-entropy* loss, *stochastic gradient descent*, and track the *accuracy* metric."
      ]
    },
    {
      "cell_type": "code",
      "metadata": {
        "colab": {
          "base_uri": "https://localhost:8080/"
        },
        "id": "N8ykITrvlpZE",
        "outputId": "42577f2e-badb-4082-cc59-9a007b5588c9"
      },
      "source": [
        "# building logistic model\n",
        "class Logistic_Model(nn.Module):\n",
        "    \"\"\"\n",
        "    @params\n",
        "        num_features(int): The number of features to construct the input layer of the NN\n",
        "    \"\"\"\n",
        "    # Defining Constructor\n",
        "    def __init__(self, num_features):\n",
        "        super(Logistic_Model, self).__init__()\n",
        "\n",
        "        # Defining Layers\n",
        "        self.fc1 = nn.Linear(num_features, 1)\n",
        "\n",
        "        # Define Sigmoid activation function\n",
        "        self.sigmoid = nn.Sigmoid()\n",
        "\n",
        "    def forward(self, x):\n",
        "        x = self.fc1(x)\n",
        "        x = self.sigmoid(x)\n",
        "        return x\n",
        "\n",
        "# Initializing model\n",
        "num_features = train_features.shape[1]\n",
        "model = Logistic_Model(num_features)\n",
        "\n",
        "# Moving model to use a GPU if available\n",
        "device = 'cuda' if torch.cuda.is_available() else 'cpu'\n",
        "model.to(device)\n",
        "\n",
        "model"
      ],
      "execution_count": 13,
      "outputs": [
        {
          "output_type": "execute_result",
          "data": {
            "text/plain": [
              "Logistic_Model(\n",
              "  (fc1): Linear(in_features=106, out_features=1, bias=True)\n",
              "  (sigmoid): Sigmoid()\n",
              ")"
            ]
          },
          "metadata": {
            "tags": []
          },
          "execution_count": 13
        }
      ]
    },
    {
      "cell_type": "code",
      "metadata": {
        "id": "ouH0ZFaFoXIz"
      },
      "source": [
        "# Defining Loss Function\n",
        "criterion = nn.BCELoss()\n",
        "\n",
        "# Defining optimizer\n",
        "optimizer = torch.optim.SGD(model.parameters(), lr=0.2)"
      ],
      "execution_count": 14,
      "outputs": []
    },
    {
      "cell_type": "markdown",
      "metadata": {
        "id": "UraXf-5skCxm"
      },
      "source": [
        "## 4. Train the model\n",
        "No it's time to train the model. We will train it for 100 *epochs* (iterations) with a *batch size* of 1024 (the number of training examples to evaluate prior to doing gradient descent). To use batches, we will load the data into PyTorch [`Datasets`](https://pytorch.org/docs/stable/data.html#dataset-types) and [`Dataloaders`](https://pytorch.org/docs/stable/data.html#torch.utils.data.DataLoader). We used [`TensorDataset`](https://pytorch.org/docs/stable/data.html#torch.utils.data.TensorDataset) class that creates a PyTorch dataset using the features and labels we already have."
      ]
    },
    {
      "cell_type": "code",
      "metadata": {
        "id": "keBa4mDOs3ov"
      },
      "source": [
        "batch_size = 1024\n",
        "\n",
        "# Defining datasets\n",
        "train_dataset = torch.utils.data.TensorDataset(train_features, train_labels)\n",
        "test_dataset = torch.utils.data.TensorDataset(test_features, test_labels)\n",
        "valid_dataset = torch.utils.data.TensorDataset(valid_features, valid_labels)\n",
        "\n",
        "# Loading datasets into dataloaders\n",
        "train_dataloader = torch.utils.data.DataLoader(train_dataset, batch_size=batch_size, shuffle=True)\n",
        "test_dataloader = torch.utils.data.DataLoader(test_dataset, batch_size=batch_size, shuffle=False)\n",
        "valid_dataloader = torch.utils.data.DataLoader(valid_dataset, batch_size=batch_size, shuffle=False)"
      ],
      "execution_count": 15,
      "outputs": []
    },
    {
      "cell_type": "code",
      "metadata": {
        "colab": {
          "base_uri": "https://localhost:8080/"
        },
        "id": "i9Mx0-hns9hA",
        "outputId": "8b178665-35bc-42a6-9103-141f0e837eea"
      },
      "source": [
        "# Function that takes output and returns predictions\n",
        "def get_predictions(output, threshold=0.5):\n",
        "    predictions = torch.zeros(output.shape)\n",
        "    for i in range(len(output)):\n",
        "        if output[i] < threshold:\n",
        "            predictions[i] = 0\n",
        "        else:\n",
        "            predictions[i] = 1\n",
        "\n",
        "    return predictions\n",
        "\n",
        "\n",
        "epochs = 100\n",
        "train_losses = []\n",
        "train_accuracies = []\n",
        "valid_losses = []\n",
        "valid_accuracies = []\n",
        "for epoch in range(1, epochs+1):\n",
        "    train_loss = 0.0\n",
        "    valid_loss = 0.0\n",
        "\n",
        "    train_counts = 0\n",
        "    valid_counts = 0\n",
        "\n",
        "    ###################\n",
        "    # train the model #\n",
        "    ###################\n",
        "\n",
        "    # Setting model to train mode\n",
        "    model.train()\n",
        "\n",
        "    for train_features, train_labels in train_dataloader:\n",
        "        # Moving data to GPU if available\n",
        "        train_features, train_labels = train_features.to(device), train_labels.to(device)\n",
        "        \n",
        "        # Setting all gradients to zero\n",
        "        optimizer.zero_grad()\n",
        "\n",
        "        # Calculate Output\n",
        "        output = model(train_features)\n",
        "            \n",
        "        # Calculate Loss\n",
        "        loss = criterion(output, train_labels)\n",
        "\n",
        "        # Calculate Gradients\n",
        "        loss.backward()\n",
        "\n",
        "        # Perform Gradient Descent Step\n",
        "        optimizer.step()\n",
        "\n",
        "        # Saving loss\n",
        "        train_loss += loss.item()\n",
        "\n",
        "        # Get Predictions\n",
        "        train_preds = get_predictions(output)\n",
        "\n",
        "        # Saving number of right predictions for accuracy\n",
        "        train_counts += train_preds.to(device).eq(train_labels).sum().item()\n",
        "\n",
        "\n",
        "\n",
        "    ######################    \n",
        "    # validate the model #\n",
        "    ######################\n",
        "\n",
        "    # Setting model to evaluation mode, no parameters will change\n",
        "    model.eval()\n",
        "    for valid_features, valid_labels in valid_dataloader:\n",
        "        # Moving data to GPU if available\n",
        "        valid_features, valid_labels = valid_features.to(device), valid_labels.to(device)\n",
        "        # Calculate Output\n",
        "        output = model(valid_features)\n",
        "\n",
        "        # Calculate Loss\n",
        "        loss = criterion(output, valid_labels)\n",
        "\n",
        "        # Saving loss\n",
        "        valid_loss += loss.item()\n",
        "\n",
        "        # Get Predictions\n",
        "        valid_preds = get_predictions(output)\n",
        "\n",
        "        # Saving number of right predictions for accuracy\n",
        "        valid_counts += valid_preds.to(device).eq(valid_labels).sum().item()\n",
        "\n",
        "    # Averaging and Saving Losses\n",
        "    train_loss/=len(train_dataset)\n",
        "    valid_loss/=len(valid_dataset)\n",
        "    train_losses.append(train_loss)\n",
        "    valid_losses.append(valid_loss)\n",
        "\n",
        "    # Getting accuracies and saving them\n",
        "    train_acc = train_counts/len(train_dataset)\n",
        "    valid_acc = valid_counts/len(valid_dataset)\n",
        "    train_accuracies.append(train_acc)\n",
        "    valid_accuracies.append(valid_acc)\n",
        "\n",
        "\n",
        "    print('Epoch: {} \\tTraining Loss: {:.6f} \\tTraining Accuracy: {:.2f}% \\tValidation Loss: {:.6f} \\tValidation Accuracy: {:.2f}%'.format(epoch, train_loss, train_acc*100, valid_loss, valid_acc*100))"
      ],
      "execution_count": 16,
      "outputs": [
        {
          "output_type": "stream",
          "text": [
            "Epoch: 1 \tTraining Loss: 0.000660 \tTraining Accuracy: 63.97% \tValidation Loss: 0.000628 \tValidation Accuracy: 70.92%\n",
            "Epoch: 2 \tTraining Loss: 0.000613 \tTraining Accuracy: 71.04% \tValidation Loss: 0.000592 \tValidation Accuracy: 72.40%\n",
            "Epoch: 3 \tTraining Loss: 0.000586 \tTraining Accuracy: 71.98% \tValidation Loss: 0.000570 \tValidation Accuracy: 73.89%\n",
            "Epoch: 4 \tTraining Loss: 0.000569 \tTraining Accuracy: 72.81% \tValidation Loss: 0.000555 \tValidation Accuracy: 74.04%\n",
            "Epoch: 5 \tTraining Loss: 0.000557 \tTraining Accuracy: 73.11% \tValidation Loss: 0.000544 \tValidation Accuracy: 74.44%\n",
            "Epoch: 6 \tTraining Loss: 0.000548 \tTraining Accuracy: 73.43% \tValidation Loss: 0.000534 \tValidation Accuracy: 74.84%\n",
            "Epoch: 7 \tTraining Loss: 0.000540 \tTraining Accuracy: 73.87% \tValidation Loss: 0.000527 \tValidation Accuracy: 75.07%\n",
            "Epoch: 8 \tTraining Loss: 0.000533 \tTraining Accuracy: 74.17% \tValidation Loss: 0.000521 \tValidation Accuracy: 75.27%\n",
            "Epoch: 9 \tTraining Loss: 0.000527 \tTraining Accuracy: 74.47% \tValidation Loss: 0.000515 \tValidation Accuracy: 75.52%\n",
            "Epoch: 10 \tTraining Loss: 0.000522 \tTraining Accuracy: 74.77% \tValidation Loss: 0.000510 \tValidation Accuracy: 75.77%\n",
            "Epoch: 11 \tTraining Loss: 0.000518 \tTraining Accuracy: 75.01% \tValidation Loss: 0.000506 \tValidation Accuracy: 75.77%\n",
            "Epoch: 12 \tTraining Loss: 0.000515 \tTraining Accuracy: 75.19% \tValidation Loss: 0.000502 \tValidation Accuracy: 76.04%\n",
            "Epoch: 13 \tTraining Loss: 0.000510 \tTraining Accuracy: 75.42% \tValidation Loss: 0.000498 \tValidation Accuracy: 76.09%\n",
            "Epoch: 14 \tTraining Loss: 0.000508 \tTraining Accuracy: 75.51% \tValidation Loss: 0.000495 \tValidation Accuracy: 76.17%\n",
            "Epoch: 15 \tTraining Loss: 0.000504 \tTraining Accuracy: 75.67% \tValidation Loss: 0.000493 \tValidation Accuracy: 76.49%\n",
            "Epoch: 16 \tTraining Loss: 0.000501 \tTraining Accuracy: 75.81% \tValidation Loss: 0.000490 \tValidation Accuracy: 76.34%\n",
            "Epoch: 17 \tTraining Loss: 0.000499 \tTraining Accuracy: 75.92% \tValidation Loss: 0.000487 \tValidation Accuracy: 76.42%\n",
            "Epoch: 18 \tTraining Loss: 0.000497 \tTraining Accuracy: 76.11% \tValidation Loss: 0.000485 \tValidation Accuracy: 76.62%\n",
            "Epoch: 19 \tTraining Loss: 0.000495 \tTraining Accuracy: 76.25% \tValidation Loss: 0.000483 \tValidation Accuracy: 76.79%\n",
            "Epoch: 20 \tTraining Loss: 0.000494 \tTraining Accuracy: 76.34% \tValidation Loss: 0.000481 \tValidation Accuracy: 76.97%\n",
            "Epoch: 21 \tTraining Loss: 0.000492 \tTraining Accuracy: 76.48% \tValidation Loss: 0.000479 \tValidation Accuracy: 76.94%\n",
            "Epoch: 22 \tTraining Loss: 0.000489 \tTraining Accuracy: 76.61% \tValidation Loss: 0.000478 \tValidation Accuracy: 77.09%\n",
            "Epoch: 23 \tTraining Loss: 0.000488 \tTraining Accuracy: 76.69% \tValidation Loss: 0.000476 \tValidation Accuracy: 77.19%\n",
            "Epoch: 24 \tTraining Loss: 0.000487 \tTraining Accuracy: 76.78% \tValidation Loss: 0.000474 \tValidation Accuracy: 77.49%\n",
            "Epoch: 25 \tTraining Loss: 0.000486 \tTraining Accuracy: 76.85% \tValidation Loss: 0.000473 \tValidation Accuracy: 77.57%\n",
            "Epoch: 26 \tTraining Loss: 0.000484 \tTraining Accuracy: 76.90% \tValidation Loss: 0.000472 \tValidation Accuracy: 77.49%\n",
            "Epoch: 27 \tTraining Loss: 0.000484 \tTraining Accuracy: 76.98% \tValidation Loss: 0.000471 \tValidation Accuracy: 77.74%\n",
            "Epoch: 28 \tTraining Loss: 0.000482 \tTraining Accuracy: 77.03% \tValidation Loss: 0.000470 \tValidation Accuracy: 77.84%\n",
            "Epoch: 29 \tTraining Loss: 0.000481 \tTraining Accuracy: 77.12% \tValidation Loss: 0.000469 \tValidation Accuracy: 77.89%\n",
            "Epoch: 30 \tTraining Loss: 0.000480 \tTraining Accuracy: 77.18% \tValidation Loss: 0.000467 \tValidation Accuracy: 77.99%\n",
            "Epoch: 31 \tTraining Loss: 0.000478 \tTraining Accuracy: 77.19% \tValidation Loss: 0.000467 \tValidation Accuracy: 78.12%\n",
            "Epoch: 32 \tTraining Loss: 0.000478 \tTraining Accuracy: 77.25% \tValidation Loss: 0.000466 \tValidation Accuracy: 78.17%\n",
            "Epoch: 33 \tTraining Loss: 0.000477 \tTraining Accuracy: 77.29% \tValidation Loss: 0.000465 \tValidation Accuracy: 78.32%\n",
            "Epoch: 34 \tTraining Loss: 0.000476 \tTraining Accuracy: 77.31% \tValidation Loss: 0.000464 \tValidation Accuracy: 78.29%\n",
            "Epoch: 35 \tTraining Loss: 0.000476 \tTraining Accuracy: 77.46% \tValidation Loss: 0.000463 \tValidation Accuracy: 78.49%\n",
            "Epoch: 36 \tTraining Loss: 0.000474 \tTraining Accuracy: 77.43% \tValidation Loss: 0.000462 \tValidation Accuracy: 78.47%\n",
            "Epoch: 37 \tTraining Loss: 0.000473 \tTraining Accuracy: 77.49% \tValidation Loss: 0.000462 \tValidation Accuracy: 78.44%\n",
            "Epoch: 38 \tTraining Loss: 0.000473 \tTraining Accuracy: 77.49% \tValidation Loss: 0.000462 \tValidation Accuracy: 78.32%\n",
            "Epoch: 39 \tTraining Loss: 0.000473 \tTraining Accuracy: 77.49% \tValidation Loss: 0.000460 \tValidation Accuracy: 78.59%\n",
            "Epoch: 40 \tTraining Loss: 0.000472 \tTraining Accuracy: 77.52% \tValidation Loss: 0.000460 \tValidation Accuracy: 78.59%\n",
            "Epoch: 41 \tTraining Loss: 0.000472 \tTraining Accuracy: 77.59% \tValidation Loss: 0.000459 \tValidation Accuracy: 78.42%\n",
            "Epoch: 42 \tTraining Loss: 0.000472 \tTraining Accuracy: 77.65% \tValidation Loss: 0.000459 \tValidation Accuracy: 78.52%\n",
            "Epoch: 43 \tTraining Loss: 0.000471 \tTraining Accuracy: 77.67% \tValidation Loss: 0.000458 \tValidation Accuracy: 78.52%\n",
            "Epoch: 44 \tTraining Loss: 0.000469 \tTraining Accuracy: 77.68% \tValidation Loss: 0.000458 \tValidation Accuracy: 78.59%\n",
            "Epoch: 45 \tTraining Loss: 0.000469 \tTraining Accuracy: 77.68% \tValidation Loss: 0.000457 \tValidation Accuracy: 78.59%\n",
            "Epoch: 46 \tTraining Loss: 0.000469 \tTraining Accuracy: 77.73% \tValidation Loss: 0.000457 \tValidation Accuracy: 78.64%\n",
            "Epoch: 47 \tTraining Loss: 0.000467 \tTraining Accuracy: 77.76% \tValidation Loss: 0.000456 \tValidation Accuracy: 78.67%\n",
            "Epoch: 48 \tTraining Loss: 0.000467 \tTraining Accuracy: 77.72% \tValidation Loss: 0.000456 \tValidation Accuracy: 78.67%\n",
            "Epoch: 49 \tTraining Loss: 0.000468 \tTraining Accuracy: 77.76% \tValidation Loss: 0.000456 \tValidation Accuracy: 78.72%\n",
            "Epoch: 50 \tTraining Loss: 0.000469 \tTraining Accuracy: 77.78% \tValidation Loss: 0.000455 \tValidation Accuracy: 78.72%\n",
            "Epoch: 51 \tTraining Loss: 0.000468 \tTraining Accuracy: 77.80% \tValidation Loss: 0.000454 \tValidation Accuracy: 78.74%\n",
            "Epoch: 52 \tTraining Loss: 0.000467 \tTraining Accuracy: 77.84% \tValidation Loss: 0.000454 \tValidation Accuracy: 78.79%\n",
            "Epoch: 53 \tTraining Loss: 0.000467 \tTraining Accuracy: 77.82% \tValidation Loss: 0.000454 \tValidation Accuracy: 78.69%\n",
            "Epoch: 54 \tTraining Loss: 0.000465 \tTraining Accuracy: 77.87% \tValidation Loss: 0.000453 \tValidation Accuracy: 78.82%\n",
            "Epoch: 55 \tTraining Loss: 0.000466 \tTraining Accuracy: 77.84% \tValidation Loss: 0.000453 \tValidation Accuracy: 78.87%\n",
            "Epoch: 56 \tTraining Loss: 0.000467 \tTraining Accuracy: 77.84% \tValidation Loss: 0.000453 \tValidation Accuracy: 78.87%\n",
            "Epoch: 57 \tTraining Loss: 0.000465 \tTraining Accuracy: 77.85% \tValidation Loss: 0.000453 \tValidation Accuracy: 78.92%\n",
            "Epoch: 58 \tTraining Loss: 0.000465 \tTraining Accuracy: 77.92% \tValidation Loss: 0.000452 \tValidation Accuracy: 78.99%\n",
            "Epoch: 59 \tTraining Loss: 0.000464 \tTraining Accuracy: 77.91% \tValidation Loss: 0.000452 \tValidation Accuracy: 78.92%\n",
            "Epoch: 60 \tTraining Loss: 0.000464 \tTraining Accuracy: 77.94% \tValidation Loss: 0.000451 \tValidation Accuracy: 78.84%\n",
            "Epoch: 61 \tTraining Loss: 0.000463 \tTraining Accuracy: 77.89% \tValidation Loss: 0.000451 \tValidation Accuracy: 78.87%\n",
            "Epoch: 62 \tTraining Loss: 0.000464 \tTraining Accuracy: 77.88% \tValidation Loss: 0.000451 \tValidation Accuracy: 78.94%\n",
            "Epoch: 63 \tTraining Loss: 0.000464 \tTraining Accuracy: 77.92% \tValidation Loss: 0.000451 \tValidation Accuracy: 79.04%\n",
            "Epoch: 64 \tTraining Loss: 0.000463 \tTraining Accuracy: 77.89% \tValidation Loss: 0.000450 \tValidation Accuracy: 79.07%\n",
            "Epoch: 65 \tTraining Loss: 0.000461 \tTraining Accuracy: 77.96% \tValidation Loss: 0.000450 \tValidation Accuracy: 79.07%\n",
            "Epoch: 66 \tTraining Loss: 0.000461 \tTraining Accuracy: 77.94% \tValidation Loss: 0.000450 \tValidation Accuracy: 78.87%\n",
            "Epoch: 67 \tTraining Loss: 0.000461 \tTraining Accuracy: 77.90% \tValidation Loss: 0.000450 \tValidation Accuracy: 79.07%\n",
            "Epoch: 68 \tTraining Loss: 0.000462 \tTraining Accuracy: 77.97% \tValidation Loss: 0.000450 \tValidation Accuracy: 79.04%\n",
            "Epoch: 69 \tTraining Loss: 0.000461 \tTraining Accuracy: 77.89% \tValidation Loss: 0.000449 \tValidation Accuracy: 79.02%\n",
            "Epoch: 70 \tTraining Loss: 0.000461 \tTraining Accuracy: 77.96% \tValidation Loss: 0.000449 \tValidation Accuracy: 79.14%\n",
            "Epoch: 71 \tTraining Loss: 0.000461 \tTraining Accuracy: 77.98% \tValidation Loss: 0.000449 \tValidation Accuracy: 79.12%\n",
            "Epoch: 72 \tTraining Loss: 0.000461 \tTraining Accuracy: 78.00% \tValidation Loss: 0.000448 \tValidation Accuracy: 79.04%\n",
            "Epoch: 73 \tTraining Loss: 0.000461 \tTraining Accuracy: 77.93% \tValidation Loss: 0.000448 \tValidation Accuracy: 79.09%\n",
            "Epoch: 74 \tTraining Loss: 0.000461 \tTraining Accuracy: 77.94% \tValidation Loss: 0.000448 \tValidation Accuracy: 79.12%\n",
            "Epoch: 75 \tTraining Loss: 0.000461 \tTraining Accuracy: 78.01% \tValidation Loss: 0.000448 \tValidation Accuracy: 79.09%\n",
            "Epoch: 76 \tTraining Loss: 0.000461 \tTraining Accuracy: 77.96% \tValidation Loss: 0.000448 \tValidation Accuracy: 79.09%\n",
            "Epoch: 77 \tTraining Loss: 0.000460 \tTraining Accuracy: 77.95% \tValidation Loss: 0.000448 \tValidation Accuracy: 79.14%\n",
            "Epoch: 78 \tTraining Loss: 0.000460 \tTraining Accuracy: 77.97% \tValidation Loss: 0.000447 \tValidation Accuracy: 79.07%\n",
            "Epoch: 79 \tTraining Loss: 0.000460 \tTraining Accuracy: 78.02% \tValidation Loss: 0.000447 \tValidation Accuracy: 79.24%\n",
            "Epoch: 80 \tTraining Loss: 0.000460 \tTraining Accuracy: 78.04% \tValidation Loss: 0.000447 \tValidation Accuracy: 79.14%\n",
            "Epoch: 81 \tTraining Loss: 0.000459 \tTraining Accuracy: 78.04% \tValidation Loss: 0.000447 \tValidation Accuracy: 79.22%\n",
            "Epoch: 82 \tTraining Loss: 0.000459 \tTraining Accuracy: 78.02% \tValidation Loss: 0.000447 \tValidation Accuracy: 79.22%\n",
            "Epoch: 83 \tTraining Loss: 0.000460 \tTraining Accuracy: 78.05% \tValidation Loss: 0.000447 \tValidation Accuracy: 79.19%\n",
            "Epoch: 84 \tTraining Loss: 0.000461 \tTraining Accuracy: 78.10% \tValidation Loss: 0.000446 \tValidation Accuracy: 79.17%\n",
            "Epoch: 85 \tTraining Loss: 0.000460 \tTraining Accuracy: 78.08% \tValidation Loss: 0.000446 \tValidation Accuracy: 79.29%\n",
            "Epoch: 86 \tTraining Loss: 0.000459 \tTraining Accuracy: 78.05% \tValidation Loss: 0.000446 \tValidation Accuracy: 79.17%\n",
            "Epoch: 87 \tTraining Loss: 0.000458 \tTraining Accuracy: 78.05% \tValidation Loss: 0.000446 \tValidation Accuracy: 79.22%\n",
            "Epoch: 88 \tTraining Loss: 0.000458 \tTraining Accuracy: 78.07% \tValidation Loss: 0.000446 \tValidation Accuracy: 79.24%\n",
            "Epoch: 89 \tTraining Loss: 0.000460 \tTraining Accuracy: 78.09% \tValidation Loss: 0.000446 \tValidation Accuracy: 79.29%\n",
            "Epoch: 90 \tTraining Loss: 0.000459 \tTraining Accuracy: 78.09% \tValidation Loss: 0.000445 \tValidation Accuracy: 79.27%\n",
            "Epoch: 91 \tTraining Loss: 0.000458 \tTraining Accuracy: 78.11% \tValidation Loss: 0.000445 \tValidation Accuracy: 79.32%\n",
            "Epoch: 92 \tTraining Loss: 0.000459 \tTraining Accuracy: 78.12% \tValidation Loss: 0.000445 \tValidation Accuracy: 79.27%\n",
            "Epoch: 93 \tTraining Loss: 0.000458 \tTraining Accuracy: 78.12% \tValidation Loss: 0.000445 \tValidation Accuracy: 79.27%\n",
            "Epoch: 94 \tTraining Loss: 0.000459 \tTraining Accuracy: 78.11% \tValidation Loss: 0.000445 \tValidation Accuracy: 79.24%\n",
            "Epoch: 95 \tTraining Loss: 0.000459 \tTraining Accuracy: 78.10% \tValidation Loss: 0.000445 \tValidation Accuracy: 79.34%\n",
            "Epoch: 96 \tTraining Loss: 0.000457 \tTraining Accuracy: 78.13% \tValidation Loss: 0.000445 \tValidation Accuracy: 79.34%\n",
            "Epoch: 97 \tTraining Loss: 0.000459 \tTraining Accuracy: 78.14% \tValidation Loss: 0.000445 \tValidation Accuracy: 79.24%\n",
            "Epoch: 98 \tTraining Loss: 0.000458 \tTraining Accuracy: 78.16% \tValidation Loss: 0.000445 \tValidation Accuracy: 79.22%\n",
            "Epoch: 99 \tTraining Loss: 0.000456 \tTraining Accuracy: 78.14% \tValidation Loss: 0.000444 \tValidation Accuracy: 79.27%\n",
            "Epoch: 100 \tTraining Loss: 0.000456 \tTraining Accuracy: 78.12% \tValidation Loss: 0.000444 \tValidation Accuracy: 79.27%\n"
          ],
          "name": "stdout"
        }
      ]
    },
    {
      "cell_type": "code",
      "metadata": {
        "colab": {
          "base_uri": "https://localhost:8080/",
          "height": 295
        },
        "id": "Aybqwzqa45Cx",
        "outputId": "fc63feba-0e8c-4a0d-fc90-91a86b9836ce"
      },
      "source": [
        "plt.plot(valid_accuracies)\n",
        "plt.xlabel('epoch')\n",
        "plt.ylabel('Accuracy')\n",
        "plt.title('Validation Accuracy')\n",
        "plt.show()"
      ],
      "execution_count": 17,
      "outputs": [
        {
          "output_type": "display_data",
          "data": {
            "image/png": "[encoded data removed]",
            "text/plain": [
              "<Figure size 432x288 with 1 Axes>"
            ]
          },
          "metadata": {
            "tags": [],
            "needs_background": "light"
          }
        }
      ]
    },
    {
      "cell_type": "markdown",
      "metadata": {
        "id": "CGnpAbVjzhQm"
      },
      "source": [
        "As the above plot suggests, our model converges to a validation accuracy close to 78%. "
      ]
    },
    {
      "cell_type": "markdown",
      "metadata": {
        "id": "FWuWW0tcvV7_"
      },
      "source": [
        "## 5. Evaluate the model\n",
        "Now that we trained our model, it's time to evaluate it using the test dataset, which we did not use when training the model. This gives us a sense of how well our model predicts unseen data, which is the case when we use it in the real world."
      ]
    },
    {
      "cell_type": "code",
      "metadata": {
        "colab": {
          "base_uri": "https://localhost:8080/"
        },
        "id": "CkZOiI_p6MlR",
        "outputId": "ebb069ca-3c6c-4056-b598-d845353ed2af"
      },
      "source": [
        "test_loss = 0.0\n",
        "test_counts = 0\n",
        "\n",
        "# Setting model to evaluation mode, no parameters will change\n",
        "model.eval()\n",
        "\n",
        "for test_features, test_labels in test_dataloader:\n",
        "    # Moving data to GPU if available\n",
        "    test_features, test_labels = test_features.to(device), test_labels.to(device)\n",
        "\n",
        "    # Calculate Output\n",
        "    output = model(test_features)\n",
        "\n",
        "    # Calculate Loss\n",
        "    loss = criterion(output, test_labels)\n",
        "\n",
        "    # Saving loss\n",
        "    test_loss += loss.item()\n",
        "\n",
        "    # Get Predictions\n",
        "    test_preds = get_predictions(output)\n",
        "\n",
        "    # Saving number of right predictions for accuracy\n",
        "    test_counts += test_preds.to(device).eq(test_labels).sum().item()\n",
        "\n",
        "# Calculating test accuracy\n",
        "test_acc = test_counts/len(test_dataset)\n",
        "print('Test Loss: {:.6f} \\tTest Accuracy: {:.2f}%'.format(test_loss, test_acc*100))"
      ],
      "execution_count": 18,
      "outputs": [
        {
          "output_type": "stream",
          "text": [
            "Test Loss: 4.569631 \tTest Accuracy: 78.55%\n"
          ],
          "name": "stdout"
        }
      ]
    },
    {
      "cell_type": "markdown",
      "metadata": {
        "id": "92XmHVgW0xLg"
      },
      "source": [
        "Our logistic regression model fitted to the data fairly, correctly predicting the next-day's weather around 77% to 78% of the time. The distribution of rainy days and non-rainy days in our datasets originally was not balanced, but the data was balanced before training. To give our results more context, we should check the *confusion matrix* to see how the model's predictions were distributed.\n",
        "\n",
        "A confusion matrix indicates the number of correct predictions and incorrect predictions for each class. It is particularly useful whenever the data has an imbalanced representation of the classes. The diagonals of a confusion matrix indicate the correct predictions for each class, while the cross-diagonal indicates misclassified predictions. Below is an example of a binary classification confusion matrix.\n",
        "\n",
        "<figure>\n",
        "  <img src='https://rasbt.github.io/mlxtend/user_guide/evaluate/confusion_matrix_files/confusion_matrix_1.png' width='35%'>\n",
        "  <figcaption>A basic confusion matrix</figcaption>\n",
        "</figure>"
      ]
    },
    {
      "cell_type": "code",
      "metadata": {
        "id": "c_hPEGd12NbY",
        "colab": {
          "base_uri": "https://localhost:8080/",
          "height": 363
        },
        "outputId": "3f5b8840-2f7e-44b3-a25b-f38a22a196a9"
      },
      "source": [
        "from sklearn import metrics\n",
        "\n",
        "# Getting test features and labels\n",
        "test_features = test_dataset.tensors[0].to(device)\n",
        "test_labels = test_dataset.tensors[1].to(device)\n",
        "\n",
        "test_predictions = get_predictions(model(test_features)).numpy()\n",
        "\n",
        "# Converting labels and predictions to numpy arrays\n",
        "test_predictions = get_predictions(model(test_features)).numpy()\n",
        "test_labels = test_labels.cpu().numpy()\n",
        "\n",
        "# measure the accuracy\n",
        "model_acc = metrics.accuracy_score(test_labels, test_predictions)\n",
        "print(f'logistic regression model accuracy: {round(model_acc*100, 2)}%')\n",
        "\n",
        "# plot confusion matrix\n",
        "cm = metrics.confusion_matrix(test_labels, test_predictions)\n",
        "print('confusion matrix:\\n', cm) \n",
        "\n",
        "plt.imshow(cm, cmap=plt.cm.Blues)\n",
        "plt.xlabel(\"Predicted labels\")\n",
        "plt.ylabel(\"True labels\")\n",
        "plt.xticks([0, 1], [0, 1])\n",
        "plt.yticks([0, 1], [0,1])\n",
        "plt.title('Confusion matrix ')\n",
        "plt.colorbar()\n",
        "plt.show()"
      ],
      "execution_count": 19,
      "outputs": [
        {
          "output_type": "stream",
          "text": [
            "logistic regression model accuracy: 78.55%\n",
            "confusion matrix:\n",
            " [[3992 1011]\n",
            " [1136 3869]]\n"
          ],
          "name": "stdout"
        },
        {
          "output_type": "display_data",
          "data": {
            "image/png": "[encoded data removed]",
            "text/plain": [
              "<Figure size 432x288 with 2 Axes>"
            ]
          },
          "metadata": {
            "tags": [],
            "needs_background": "light"
          }
        }
      ]
    },
    {
      "cell_type": "markdown",
      "metadata": {
        "id": "ujEVg8_C4Y6J"
      },
      "source": [
        "From the confusion matrix, we can deduce that the model performed relatively well. The number of misclassified samples of both rainy and non-rainy days were close.  Nonetheless, it's important to be aware of misleading model results, therefore the confusion matrix is very important tool to use.\n",
        "\n",
        "Let's take a look at a more comprehensive set of evaluation metrics: accuracy, precision, and recall. Precision indicates the model's ability to return only relevant instances. While recall indicates the model's ability to identify all relevant instances; and depending on our data we may want a higher precision score or vice versa. If your curious, here is an in-depth discussion about these metrics: [Beyond Accuracy: Precision and Recall](https://towardsdatascience.com/beyond-accuracy-precision-and-recall-3da06bea9f6c). "
      ]
    },
    {
      "cell_type": "code",
      "metadata": {
        "id": "f6JPh9RVB_oX",
        "colab": {
          "base_uri": "https://localhost:8080/"
        },
        "outputId": "84a17e40-7bbe-42d4-e575-b6cf3e061141"
      },
      "source": [
        "print(\"Accuracy: {}%\".format(round(model_acc*100, 2)))\n",
        "print(\"Precision:\", metrics.precision_score(test_labels, test_predictions, zero_division=True))\n",
        "print(\"Recall:\" ,metrics.recall_score(test_labels, test_predictions, zero_division=True))"
      ],
      "execution_count": 20,
      "outputs": [
        {
          "output_type": "stream",
          "text": [
            "Accuracy: 78.55%\n",
            "Precision: 0.792827868852459\n",
            "Recall: 0.773026973026973\n"
          ],
          "name": "stdout"
        }
      ]
    },
    {
      "cell_type": "markdown",
      "metadata": {
        "id": "YMvSCZRn6ATD"
      },
      "source": [
        "What's the take away from all this...\n",
        "\n",
        "**Always, always contextualize the model's results.**\n"
      ]
    },
    {
      "cell_type": "markdown",
      "metadata": {
        "id": "HDoNhPh367sZ"
      },
      "source": [
        "# Summary\n",
        "\n",
        "- We use *one-hot encoding* to represent categorical data.\n",
        "- Logistic regression is popular and foundational algorithm for classification in machine learning and deep learning (neural networks). \n",
        "- The *sigmoid* logit function maps the input features to a probability distribution.\n",
        "- Linear and logistic regression are very similar, they differ in two ways. First, the labels are continous numerical values in linear regression, while they are discrete numerical values (0 and 1) each representing a particular category. Second, logistic regression uses the sigmoid function to transform the input features into a probability space and the model learns the optimal parameters to maximize the probability of confidently predicting the correct class.  "
      ]
    },
    {
      "cell_type": "code",
      "metadata": {
        "id": "_mITAGLVCRsa"
      },
      "source": [
        ""
      ],
      "execution_count": 20,
      "outputs": []
    }
  ]
}
