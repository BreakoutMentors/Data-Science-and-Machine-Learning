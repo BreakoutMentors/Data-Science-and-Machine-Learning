{
  "nbformat": 4,
  "nbformat_minor": 0,
  "metadata": {
    "kernelspec": {
      "display_name": "Python 3",
      "language": "python",
      "name": "python3"
    },
    "language_info": {
      "codemirror_mode": {
        "name": "ipython",
        "version": 3
      },
      "file_extension": ".py",
      "mimetype": "text/x-python",
      "name": "python",
      "nbconvert_exporter": "python",
      "pygments_lexer": "ipython3",
      "version": "3.8.0"
    },
    "colab": {
      "name": "linear_regression_neural_network.ipynb",
      "provenance": [],
      "include_colab_link": true
    }
  },
  "cells": [
    {
      "cell_type": "markdown",
      "metadata": {
        "id": "view-in-github",
        "colab_type": "text"
      },
      "source": [
        "<a href=\"https://colab.research.google.com/github/krmiddlebrook/intro_to_deep_learning/blob/master/machine_learning/lesson%201%20-%20linear%20regression/examples/linear-regression-deep-dive.ipynb\" target=\"_parent\"><img src=\"https://colab.research.google.com/assets/colab-badge.svg\" alt=\"Open In Colab\"/></a>"
      ]
    },
    {
      "cell_type": "markdown",
      "metadata": {
        "id": "fgtcQi5cPcFU",
        "colab_type": "text"
      },
      "source": [
        "# Regression\n",
        "<figure>\n",
        "<img src='https://media.makeameme.org/created/brace-yourself-regression-599599.jpg' width='50%' height='50%'></img>\n",
        "</figure>\n",
        "\n",
        "\n",
        "Perhaps the most natural machine learning task to wrap our heads around is *regression*--a set of methods for modeling the relationship between one or more independent variables (i.e., $x$) and a dependent variable (i.e., $y$). Regression problems pop up whenever we want to output a *numeric* value. \n",
        "\n",
        "Most applications of regression fall into one of the following two broad categories:\n",
        "- *inference* - to explain the relationship between the inputs and outputs (most common).\n",
        "- *prediction* - to predict numeric outputs given inputs (most common in machine learning). \n",
        "\n",
        "A few everyday examples of regression include predicting prices (of homes, stocks, etc.), predicting length of stay (for patients in the hospital), and demand forecasting (for retail sales). "
      ]
    },
    {
      "cell_type": "markdown",
      "metadata": {
        "id": "UoeVWX-5j7Gt",
        "colab_type": "text"
      },
      "source": [
        "## Linear Regression\n",
        "<figure>\n",
        "<img src='https://learningstatisticswithr.com/book/lsr_files/figure-html/regression1a-1.png' width='60%'></img>\n",
        "</figure>\n",
        "\n",
        "\n",
        "*Linear regression* is probably the simplest and most popular regression method. It is called \"linear\" regression because we **assume** that the relationship between the independent variables $x$ and the dependent variable  $y$ is linear--that is, $y$ can be expressed as a *weighted sum* of the elements in $x$, plus some *noise* in the data. In mathematical terms this can be expressed as: $$y = wx + b$$\n",
        "where $w$ represents the learnable *weights* and $b$ the *bias* (i.e., you may recognize it as the *intercept*). The weights determine the influence of each feature on the prediction and the bias tells us what the predicted value would be if all the features $x$ values were 0. Given features of a training dataset  $X$  and corresponding (known) labels  $y$ , the goal of linear regression is to find the weight vector $w$  and the bias term  $b$  that given features of a new data sample from the dataset  $X$, the sample's label will (in expectation) be predicted with the lowest *error*.\n",
        "\n",
        "To motivate the linear regression approach, suppose that we wish to estimate the prices of houses (in dollars) based on their area (in square feet). To actually fit a model for *predicting* house prices, we need to get our hands on a dataset consisting of sales for which we know the sale price and area for each home. In machine learning terminology, the dataset is called a *training dataset* or *training set*, and each row (the data corresponding to one sale) is called a *sample*. The thing we are trying to predict (price) is called a *label* (or *target*). The independent variables (only one in this case--area), upon which the predictions are based, are called *features*. \n",
        "\n",
        "Generally, we will use  $n$  to denote the total number of samples in our dataset. We index a sample by $i$, denoting each sample as  $x^{(i)}=[x^{(i)}_{1}]^{⊤}$  ($x^{(i)}_{1}$ represents the area) and the corresponding label as $y^{(i)}$.\n"
      ]
    },
    {
      "cell_type": "markdown",
      "metadata": {
        "id": "_lV-loKm6kLV",
        "colab_type": "text"
      },
      "source": [
        "## Linear Model\n"
      ]
    },
    {
      "cell_type": "markdown",
      "metadata": {
        "id": "mM4R7LoM6kJo",
        "colab_type": "text"
      },
      "source": [
        "To make the above linear regression formula more concrete, let's translate it to our house prices example: \n",
        "$$\\text{price} = w_{\\text{area}}\\cdot{area} + b $$\n",
        "where $w_{\\text{area}}$ is the learnable *weight* and $b$ is the *bias* (or *intercept*).\n",
        "\n",
        "The goal is to choose the weight  $w$  and the bias  $b$  such that on average, the predictions made according to our model *best fit* the true prices observed in the data. \n",
        "\n",
        "Before we can go about searching for the best *parameters*  $w$  and  $b$, we will need two more things: (i) a way to measure the quality of the model; and (ii) a procedure for updating the model parameters to improve its accuracy."
      ]
    },
    {
      "cell_type": "markdown",
      "metadata": {
        "id": "LTuHWKk3loN6",
        "colab_type": "text"
      },
      "source": [
        "# Loss Function\n",
        "<figure>\n",
        "<img src='https://d2l.ai/_images/fit_linreg.svg\n",
        "' width='60%'></img><figcaption>Calculating loss: measuring the distance between the predicion and real value</figcaption>\n",
        "</figure>\n",
        "\n",
        "\n",
        "Before we build our model, we need to determine a measure of fitness. The *loss function* quantifies the distance between the *true* and *predicted* value of the *target*. The loss will usually be a non-negative number where smaller values are better and perfect predictions incur a loss of  0 . The most popular loss function in regression problems is the *sum of squared errors* (SSE). When our prediction for an example  $i$  is  $\\hat{y}^{(i)}$  and the corresponding true label is  $y^{(i)}$ , the squared error is given by:\n",
        "$$\n",
        "l^{(i)}(\\mathbf{w}, b) = \\frac{1}{2} \\left(\\hat{y}^{(i)} - y^{(i)}\\right)^2.\n",
        "$$\n",
        "\n",
        "The constant  1/2  makes no real difference but makes some future math more convenient, cancelling out when we take the *derivative* of the loss (don't worry if you don't know about derivatives yet). To make things more concrete, consider the example above where we plot a regression problem, the blue line corresponds to the prediction vs true value. \n",
        "\n",
        "To measure the quality of a model on the entire dataset, we simply *average* (or equivalently, sum) the losses on the training set.\n",
        "\n",
        "$$\n",
        "L(\\mathbf{w}, b) =\\frac{1}{n}\\sum_{i=1}^n l^{(i)}(\\mathbf{w}, b) =\\frac{1}{n} \\sum_{i=1}^n \\frac{1}{2}\\left(\\mathbf{w}^\\top \\mathbf{x}^{(i)} + b - y^{(i)}\\right)^2.\n",
        "$$\n",
        "\n",
        "When training the model, we want to find parameters ( $w^{∗}$,$b^{∗}$ ) that minimize the total loss across all training examples:\n",
        "\n",
        "$$\n",
        "\\mathbf{w}^*, b^* = \\operatorname*{argmin}_{\\mathbf{w}, b}\\  L(\\mathbf{w}, b).\n",
        "$$\n",
        "\n",
        "But how do actualy find the best parameters to minimize the total loss? We'll use *gradient descent*--a fundemental concept in modern machine learning, particularly *deep learning*.\n"
      ]
    },
    {
      "cell_type": "markdown",
      "metadata": {
        "id": "pHW5a943sDqk",
        "colab_type": "text"
      },
      "source": [
        "# Gradient Descent\n",
        "\n",
        "<figure>\n",
        "<img src='https://media0.giphy.com/media/O9rcZVmRcEGqI/source.gif' width='100%'></img><figcaption>Gradient descent: finding the best model parameters</figcaption>\n",
        "</figure>\n",
        "\n",
        "The key technique for optimizing nearly any deep learning model, and we can use for linear models too, consists of *iteratively* reducing the error by updating the parameters in the *direction* that incrementally *lowers* the loss function. This algorithm is called *gradient descent*. In general, we can find acceptable parameter values after many interations of reducing the loss.\n",
        "\n",
        "The most naive application of gradient descent consists of taking the derivative of the true loss, which is an average of the losses computed on every single example in the dataset. In practice, this can be extremely slow. We must pass over the entire dataset before making a single update. Thus, we will often settle for sampling a random *batch* of samples every time we need to compute the update, this method is called *stochastic gradient descent*.\n",
        "\n",
        "\n",
        "At a high level, the *stochastic gradient descent* method consists of feeding a random batch of samples to the model, computing the derivative (gradient) of the average loss with respect to the batch samples and the model's current parameter values. Finally, we update the model parameters by multiplying the gradient by a predetermined value called the *learning rate* $ > 0$ and substract the resulting output from the current parameter values.  \n",
        "\n",
        "Let's summarize the steps of *stochastic gradient descent*: \n",
        "1. We initialize the values of the model parameters, typically with random values.\n",
        "2. We iteratively sample random batches from the data (many times), updating the parameters in the direction of the negative gradient.\n",
        "3. After many iterations, we hope that the estimated model parameters ($\\hat{w}, \\hat{b}$, the \"hat\" symbol denotes estimates) can produce acceptable predictions (close enough to the true values).\n",
        "\n",
        "Linear regression can actually be solved using a simpler method than stochastic gradient descent, but the stochastic gradient descent algorithm is so fundemental to deep learning that we will use it for linear regression too. \n"
      ]
    },
    {
      "cell_type": "markdown",
      "metadata": {
        "id": "OFv_ek5F8b1D",
        "colab_type": "text"
      },
      "source": [
        "# Linear Regression: What makes us happy?\n",
        "Now let's apply the linear regression method to a real-world problem--predicting happiness given features corresponding to a country's population. To fit a model, the process involves several steps: \n",
        "\n",
        "1. Find a dataset related to our question. \n",
        "2. Explore the dataset - clean the data and visualize it (if possible).\n",
        "3. Prepare data for a *model*.\n",
        "4. Build a model. \n",
        "5. Train the model using an algorithm such as stochastic gradient descent.\n",
        "6. Evaluate the quality of our model.\n",
        "7. Draw conclusions. \n",
        "\n",
        "For step 1, we found the World Happiness (https://www.kaggle.com/unsdsn/world-happiness) dataset. The dataset contains information about the state of global happiness with happiness scores and rankings for nearly every country on earth. Pretty cool right! Next, we explore the dataset and define our $x$ and $y$ variables. Then, we build a linear regression model. Following, we train the model using stochastic gradient descent. Finally we evaluate the model and draw conclusions."
      ]
    },
    {
      "cell_type": "code",
      "metadata": {
        "id": "6QeOZ9rN8b1E",
        "colab_type": "code",
        "colab": {}
      },
      "source": [
        "# import the libraries we be need\n",
        "import pandas as pd\n",
        "import numpy as np\n",
        "import matplotlib\n",
        "import matplotlib.pyplot as plt\n",
        "\n",
        "# TensorFlow and tf.keras\n",
        "import tensorflow as tf\n",
        "from tensorflow import keras\n",
        "from tensorflow.keras import layers"
      ],
      "execution_count": 1,
      "outputs": []
    },
    {
      "cell_type": "markdown",
      "metadata": {
        "id": "AA78zSFaOlje",
        "colab_type": "text"
      },
      "source": [
        "## 1. Explore + Visualize the dataset"
      ]
    },
    {
      "cell_type": "code",
      "metadata": {
        "id": "Kmr-AHsN8b1J",
        "colab_type": "code",
        "colab": {
          "base_uri": "https://localhost:8080/",
          "height": 204
        },
        "outputId": "868abfec-b156-4e5b-dc9d-efb50cbb4e92"
      },
      "source": [
        "# load the dataset into a dataframe\n",
        "data_url = 'https://raw.githubusercontent.com/krmiddlebrook/intro_to_deep_learning/master/datasets/world-happiness/2019.csv'\n",
        "happy2019 = pd.read_csv(data_url)\n",
        "happy2019.head() # view the first 5 rows of the data"
      ],
      "execution_count": 2,
      "outputs": [
        {
          "output_type": "execute_result",
          "data": {
            "text/html": [
              "<div>\n",
              "<style scoped>\n",
              "    .dataframe tbody tr th:only-of-type {\n",
              "        vertical-align: middle;\n",
              "    }\n",
              "\n",
              "    .dataframe tbody tr th {\n",
              "        vertical-align: top;\n",
              "    }\n",
              "\n",
              "    .dataframe thead th {\n",
              "        text-align: right;\n",
              "    }\n",
              "</style>\n",
              "<table border=\"1\" class=\"dataframe\">\n",
              "  <thead>\n",
              "    <tr style=\"text-align: right;\">\n",
              "      <th></th>\n",
              "      <th>Overall rank</th>\n",
              "      <th>Country or region</th>\n",
              "      <th>Score</th>\n",
              "      <th>GDP per capita</th>\n",
              "      <th>Social support</th>\n",
              "      <th>Healthy life expectancy</th>\n",
              "      <th>Freedom to make life choices</th>\n",
              "      <th>Generosity</th>\n",
              "      <th>Perceptions of corruption</th>\n",
              "    </tr>\n",
              "  </thead>\n",
              "  <tbody>\n",
              "    <tr>\n",
              "      <th>0</th>\n",
              "      <td>1</td>\n",
              "      <td>Finland</td>\n",
              "      <td>7.769</td>\n",
              "      <td>1.340</td>\n",
              "      <td>1.587</td>\n",
              "      <td>0.986</td>\n",
              "      <td>0.596</td>\n",
              "      <td>0.153</td>\n",
              "      <td>0.393</td>\n",
              "    </tr>\n",
              "    <tr>\n",
              "      <th>1</th>\n",
              "      <td>2</td>\n",
              "      <td>Denmark</td>\n",
              "      <td>7.600</td>\n",
              "      <td>1.383</td>\n",
              "      <td>1.573</td>\n",
              "      <td>0.996</td>\n",
              "      <td>0.592</td>\n",
              "      <td>0.252</td>\n",
              "      <td>0.410</td>\n",
              "    </tr>\n",
              "    <tr>\n",
              "      <th>2</th>\n",
              "      <td>3</td>\n",
              "      <td>Norway</td>\n",
              "      <td>7.554</td>\n",
              "      <td>1.488</td>\n",
              "      <td>1.582</td>\n",
              "      <td>1.028</td>\n",
              "      <td>0.603</td>\n",
              "      <td>0.271</td>\n",
              "      <td>0.341</td>\n",
              "    </tr>\n",
              "    <tr>\n",
              "      <th>3</th>\n",
              "      <td>4</td>\n",
              "      <td>Iceland</td>\n",
              "      <td>7.494</td>\n",
              "      <td>1.380</td>\n",
              "      <td>1.624</td>\n",
              "      <td>1.026</td>\n",
              "      <td>0.591</td>\n",
              "      <td>0.354</td>\n",
              "      <td>0.118</td>\n",
              "    </tr>\n",
              "    <tr>\n",
              "      <th>4</th>\n",
              "      <td>5</td>\n",
              "      <td>Netherlands</td>\n",
              "      <td>7.488</td>\n",
              "      <td>1.396</td>\n",
              "      <td>1.522</td>\n",
              "      <td>0.999</td>\n",
              "      <td>0.557</td>\n",
              "      <td>0.322</td>\n",
              "      <td>0.298</td>\n",
              "    </tr>\n",
              "  </tbody>\n",
              "</table>\n",
              "</div>"
            ],
            "text/plain": [
              "   Overall rank Country or region  ...  Generosity  Perceptions of corruption\n",
              "0             1           Finland  ...       0.153                      0.393\n",
              "1             2           Denmark  ...       0.252                      0.410\n",
              "2             3            Norway  ...       0.271                      0.341\n",
              "3             4           Iceland  ...       0.354                      0.118\n",
              "4             5       Netherlands  ...       0.322                      0.298\n",
              "\n",
              "[5 rows x 9 columns]"
            ]
          },
          "metadata": {
            "tags": []
          },
          "execution_count": 2
        }
      ]
    },
    {
      "cell_type": "code",
      "metadata": {
        "id": "Da2arfDeOvX_",
        "colab_type": "code",
        "colab": {
          "base_uri": "https://localhost:8080/",
          "height": 34
        },
        "outputId": "5d39bc52-348e-4294-bbcc-046f2966d849"
      },
      "source": [
        "# how many rows and columns are in the dataset\n",
        "happy2019.shape # looks like 156 rows and 9 columns"
      ],
      "execution_count": 3,
      "outputs": [
        {
          "output_type": "execute_result",
          "data": {
            "text/plain": [
              "(156, 9)"
            ]
          },
          "metadata": {
            "tags": []
          },
          "execution_count": 3
        }
      ]
    },
    {
      "cell_type": "code",
      "metadata": {
        "id": "VQXvyqba3kwQ",
        "colab_type": "code",
        "colab": {
          "base_uri": "https://localhost:8080/",
          "height": 283
        },
        "outputId": "92840988-695c-4dc9-ed65-f3beed089914"
      },
      "source": [
        "# visualize a scatter plot of GDP per capita and happiness score \n",
        "happy2019.plot.scatter(x='GDP per capita',\n",
        "                      y='Score');"
      ],
      "execution_count": 4,
      "outputs": [
        {
          "output_type": "display_data",
          "data": {
            "image/png": "[encoded data removed]",
            "text/plain": [
              "<Figure size 432x288 with 1 Axes>"
            ]
          },
          "metadata": {
            "tags": [],
            "needs_background": "light"
          }
        }
      ]
    },
    {
      "cell_type": "markdown",
      "metadata": {
        "id": "qy1530ik8b1T",
        "colab_type": "text"
      },
      "source": [
        "The relationship between GDP per capita and happiness Score seems relatively linear. Let's build a linear model to predict happiness score using the GDP per capita feature. Before we do, we need to prepare the training and test dataset our model will use."
      ]
    },
    {
      "cell_type": "markdown",
      "metadata": {
        "id": "dEf5NMjYkGCB",
        "colab_type": "text"
      },
      "source": [
        "## Prepare the Dataset "
      ]
    },
    {
      "cell_type": "code",
      "metadata": {
        "id": "d_zSR0HP9CHq",
        "colab_type": "code",
        "colab": {
          "base_uri": "https://localhost:8080/",
          "height": 187
        },
        "outputId": "b48e3a6e-beff-43ab-bdf3-52ef41542211"
      },
      "source": [
        "# define the x and y variables \n",
        "x_col = 'GDP per capita'\n",
        "y_col = 'Score'\n",
        "\n",
        "# split the dataset into a training set and a test set.\n",
        "# we will use the test set in the final evaluation of our model.\n",
        "train = happy2019.sample(frac=0.8, random_state=0)\n",
        "test = happy2019.drop(train.index)\n",
        "\n",
        "# separate the x (features) and y (labels) in the train/test datasets\n",
        "train_features = train[x_col].values.reshape(-1, 1)\n",
        "test_features = test[x_col].values.reshape(-1, 1)\n",
        "\n",
        "train_labels = train[y_col].values.reshape(-1, 1)\n",
        "test_labels = test[y_col].values.reshape(-1, 1)\n",
        "\n",
        "\n",
        "print('train features shape:', train_features.shape)\n",
        "print('train labels shape:', train_labels.shape)\n",
        "\n",
        "print('test features shape:', test_features.shape)\n",
        "print('test labels shape:', test_labels.shape)\n",
        "\n",
        "print('first 5 test labels:\\n', test_labels[:5])"
      ],
      "execution_count": 5,
      "outputs": [
        {
          "output_type": "stream",
          "text": [
            "train features shape: (125, 1)\n",
            "train labels shape: (125, 1)\n",
            "test features shape: (31, 1)\n",
            "test labels shape: (31, 1)\n",
            "first 5 test labels:\n",
            " [[7.246]\n",
            " [6.726]\n",
            " [6.444]\n",
            " [6.354]\n",
            " [6.3  ]]\n"
          ],
          "name": "stdout"
        }
      ]
    },
    {
      "cell_type": "markdown",
      "metadata": {
        "id": "q5fnwk72hSBj",
        "colab_type": "text"
      },
      "source": [
        "The above code returns a training and test dataset. The GDP per capita variable represents the  *features* data and the happiness Score represents the *labels*. There aretwo datasets--a *training dataset* and a *test dataset*. The `train_features` and `train_labels` arrays represent the features and labels of the training dataset, each containing 125 rows and 1 column. The `test_features` and `test_labels` arrays represent the features and labels of the test dataset, each containing 31 rows and 1 column.  \n",
        "\n",
        "Now that we have the *features* and *labels* separated, we are ready to build our model!"
      ]
    },
    {
      "cell_type": "markdown",
      "metadata": {
        "id": "_Qod9zI2I4iw",
        "colab_type": "text"
      },
      "source": [
        "## 2. Building a model\n",
        "\n",
        "Before we model the relationship between happiness Score and GDP per capita, let's write what we know about single-variable linear regression. In short, single-variable linear regression tries to find a function that best fits our data (i.e., between an $x$ and $y$ variable). It is defined by the following formula: \n",
        "$$\n",
        "y = wx + b\n",
        "$$\n",
        "\n",
        "We can translate this function to our problem to model the relationship between GDP per capita ($x$) and happiness Score ($y$) as follows:\n",
        "\n",
        "$$ \n",
        "\\text{score} = w_{\\text{GDP per capita}} \\cdot \\text{GDP per capita} + b\n",
        "$$"
      ]
    },
    {
      "cell_type": "markdown",
      "metadata": {
        "id": "YlaNcYLMJz9n",
        "colab_type": "text"
      },
      "source": [
        "Coding linear regression from scratch can be tedious: we'd need to manually define the parameters (weights and bias), compute gradients, and update the parameters. Fortunately, there are amazing open source libraries we can use to make this process a bit easier. Specifically, we'll use [Tensorflow](https://www.tensorflow.org/) to build and evaluate our linear regression model. We will use the `Sequential` class to define a container for the *layers* of our model. Given input data, a `Sequential` object passes it through the first layer, which transforms it, and then passes it to the second layer, and so on. We don't really need to use this model structure for linear regression (as you saw last lesson). Nonetheless, nearly every model we build in this series will depend on the `Sequential` class and Tensorflow, so we will use it from here on out.\n"
      ]
    },
    {
      "cell_type": "code",
      "metadata": {
        "id": "jNFNhNUAtBhi",
        "colab_type": "code",
        "colab": {
          "base_uri": "https://localhost:8080/",
          "height": 221
        },
        "outputId": "d8410a4f-66e1-4eae-a633-411cffadd3bc"
      },
      "source": [
        "# build the linear model \n",
        "model = keras.Sequential([\n",
        "            layers.Input((1,)), # the input layer (corresponds to GDP per capita)\n",
        "            layers.Dense(1) # the weight\n",
        "        ])\n",
        "\n",
        "print('model summary')\n",
        "print(model.summary())"
      ],
      "execution_count": 6,
      "outputs": [
        {
          "output_type": "stream",
          "text": [
            "model summary\n",
            "Model: \"sequential\"\n",
            "_________________________________________________________________\n",
            "Layer (type)                 Output Shape              Param #   \n",
            "=================================================================\n",
            "dense (Dense)                (None, 1)                 2         \n",
            "=================================================================\n",
            "Total params: 2\n",
            "Trainable params: 2\n",
            "Non-trainable params: 0\n",
            "_________________________________________________________________\n",
            "None\n"
          ],
          "name": "stdout"
        }
      ]
    },
    {
      "cell_type": "markdown",
      "metadata": {
        "id": "J4JD6_eLv3IX",
        "colab_type": "text"
      },
      "source": [
        "<!-- TODO: fix figure to one node -->\n",
        "<figure>\n",
        "<img src='https://d2l.ai/_images/singleneuron.svg' width='50%'></img><figcaption>Linear Regression: a single-layer neural network</figcaption>\n",
        "</figure>\n",
        "\n",
        "The model we defined above is a linear model, we could also call it a single-layer *fully-connected* neural network. We defined it using the `Dense` class. Note that we passed two arguments into the `Sequential` class. The first one specifies the input feature dimension, which is 1 (GDP per capita), and the second one is the output feature dimension, which is a single scalar and therefore 1. "
      ]
    },
    {
      "cell_type": "markdown",
      "metadata": {
        "id": "lrLfbaRI5Dbk",
        "colab_type": "text"
      },
      "source": [
        "### Loss Function\n",
        "\n",
        "After defining the model, we need to configure the *loss function*. We will use the mean squared loss, which returns the averaged loss over samples."
      ]
    },
    {
      "cell_type": "code",
      "metadata": {
        "id": "JyPXRk6j1ErK",
        "colab_type": "code",
        "colab": {}
      },
      "source": [
        "loss_fn = keras.losses.MSE #   "
      ],
      "execution_count": 8,
      "outputs": []
    },
    {
      "cell_type": "markdown",
      "metadata": {
        "id": "ZrT8n3sg2jMf",
        "colab_type": "text"
      },
      "source": [
        "### Optimization Algorithm\n",
        "Now that we have a loss function, we need to define an *opimization algorithm*. Specifically, we will use *stochastic gradient descent* to optimize our model. In other words, we use *stochastic gradient descent* to update the model parameters. We also define the *learning rate* as 0.01. "
      ]
    },
    {
      "cell_type": "code",
      "metadata": {
        "id": "4k1zwXU53RX9",
        "colab_type": "code",
        "colab": {}
      },
      "source": [
        "optimizer = keras.optimizers.SGD(learning_rate=0.001)"
      ],
      "execution_count": 9,
      "outputs": []
    },
    {
      "cell_type": "markdown",
      "metadata": {
        "id": "Qwlua-hq3gjz",
        "colab_type": "text"
      },
      "source": [
        "### Metrics\n",
        "Now that we have the loss function and the optimizer, we will define the *metrics* to report about our model. Specifically, we will track the *mean absolute error* and the *mean squared  error* metrics. "
      ]
    },
    {
      "cell_type": "code",
      "metadata": {
        "id": "_bPOmT7q3f7G",
        "colab_type": "code",
        "colab": {}
      },
      "source": [
        "metrics = [keras.metrics.MAE, keras.metrics.MSE] "
      ],
      "execution_count": 11,
      "outputs": []
    },
    {
      "cell_type": "markdown",
      "metadata": {
        "id": "ZsJ_KerI4TEb",
        "colab_type": "text"
      },
      "source": [
        "### Glue Everything Together\n",
        "Now we need to put it all together. We will use Tensorflow's `compile` method to glue the model, loss function, optimizer, and metrics together."
      ]
    },
    {
      "cell_type": "code",
      "metadata": {
        "id": "VRMfKWQ84xDo",
        "colab_type": "code",
        "colab": {}
      },
      "source": [
        "model.compile(loss=loss_fn,\n",
        "              optimizer=optimizer,\n",
        "              metrics=metrics)"
      ],
      "execution_count": 12,
      "outputs": []
    },
    {
      "cell_type": "markdown",
      "metadata": {
        "id": "B9EvNw5L5m66",
        "colab_type": "text"
      },
      "source": [
        "## 4. Train the model\n",
        "Now that we have a model, it's time to train it. We will train the model for 100 *epochs* (i.e., iterations), and record the training and validation metrics in the `history` object. "
      ]
    },
    {
      "cell_type": "code",
      "metadata": {
        "id": "LL64Vo7K6eNS",
        "colab_type": "code",
        "colab": {
          "base_uri": "https://localhost:8080/",
          "height": 1000
        },
        "outputId": "3b6844ed-db71-40a9-d924-6044b8ef9acc"
      },
      "source": [
        "epochs = 100\n",
        "\n",
        "history = model.fit(train_features, train_labels,\n",
        "                    epochs=epochs, validation_split=0.1)"
      ],
      "execution_count": 13,
      "outputs": [
        {
          "output_type": "stream",
          "text": [
            "Epoch 1/100\n",
            "4/4 [==============================] - 0s 46ms/step - loss: 18.6009 - mean_absolute_error: 4.2428 - mean_squared_error: 18.6009 - val_loss: 19.6760 - val_mean_absolute_error: 4.3518 - val_mean_squared_error: 19.6760\n",
            "Epoch 2/100\n",
            "4/4 [==============================] - 0s 10ms/step - loss: 18.0735 - mean_absolute_error: 4.1808 - mean_squared_error: 18.0735 - val_loss: 19.0994 - val_mean_absolute_error: 4.2860 - val_mean_squared_error: 19.0994\n",
            "Epoch 3/100\n",
            "4/4 [==============================] - 0s 10ms/step - loss: 17.5618 - mean_absolute_error: 4.1208 - mean_squared_error: 17.5618 - val_loss: 18.5424 - val_mean_absolute_error: 4.2214 - val_mean_squared_error: 18.5424\n",
            "Epoch 4/100\n",
            "4/4 [==============================] - 0s 13ms/step - loss: 17.0664 - mean_absolute_error: 4.0606 - mean_squared_error: 17.0664 - val_loss: 18.0008 - val_mean_absolute_error: 4.1577 - val_mean_squared_error: 18.0008\n",
            "Epoch 5/100\n",
            "4/4 [==============================] - 0s 11ms/step - loss: 16.5839 - mean_absolute_error: 4.0025 - mean_squared_error: 16.5839 - val_loss: 17.4679 - val_mean_absolute_error: 4.0939 - val_mean_squared_error: 17.4679\n",
            "Epoch 6/100\n",
            "4/4 [==============================] - 0s 11ms/step - loss: 16.1108 - mean_absolute_error: 3.9439 - mean_squared_error: 16.1108 - val_loss: 16.9589 - val_mean_absolute_error: 4.0321 - val_mean_squared_error: 16.9589\n",
            "Epoch 7/100\n",
            "4/4 [==============================] - 0s 11ms/step - loss: 15.6567 - mean_absolute_error: 3.8869 - mean_squared_error: 15.6567 - val_loss: 16.4601 - val_mean_absolute_error: 3.9705 - val_mean_squared_error: 16.4601\n",
            "Epoch 8/100\n",
            "4/4 [==============================] - 0s 12ms/step - loss: 15.2131 - mean_absolute_error: 3.8304 - mean_squared_error: 15.2131 - val_loss: 15.9837 - val_mean_absolute_error: 3.9107 - val_mean_squared_error: 15.9837\n",
            "Epoch 9/100\n",
            "4/4 [==============================] - 0s 10ms/step - loss: 14.7880 - mean_absolute_error: 3.7754 - mean_squared_error: 14.7880 - val_loss: 15.5203 - val_mean_absolute_error: 3.8517 - val_mean_squared_error: 15.5203\n",
            "Epoch 10/100\n",
            "4/4 [==============================] - 0s 10ms/step - loss: 14.3731 - mean_absolute_error: 3.7202 - mean_squared_error: 14.3731 - val_loss: 15.0649 - val_mean_absolute_error: 3.7928 - val_mean_squared_error: 15.0649\n",
            "Epoch 11/100\n",
            "4/4 [==============================] - 0s 13ms/step - loss: 13.9668 - mean_absolute_error: 3.6664 - mean_squared_error: 13.9668 - val_loss: 14.6259 - val_mean_absolute_error: 3.7350 - val_mean_squared_error: 14.6259\n",
            "Epoch 12/100\n",
            "4/4 [==============================] - 0s 11ms/step - loss: 13.5740 - mean_absolute_error: 3.6132 - mean_squared_error: 13.5740 - val_loss: 14.2002 - val_mean_absolute_error: 3.6781 - val_mean_squared_error: 14.2002\n",
            "Epoch 13/100\n",
            "4/4 [==============================] - 0s 13ms/step - loss: 13.1940 - mean_absolute_error: 3.5610 - mean_squared_error: 13.1940 - val_loss: 13.7942 - val_mean_absolute_error: 3.6230 - val_mean_squared_error: 13.7942\n",
            "Epoch 14/100\n",
            "4/4 [==============================] - 0s 9ms/step - loss: 12.8287 - mean_absolute_error: 3.5102 - mean_squared_error: 12.8287 - val_loss: 13.3930 - val_mean_absolute_error: 3.5677 - val_mean_squared_error: 13.3930\n",
            "Epoch 15/100\n",
            "4/4 [==============================] - 0s 11ms/step - loss: 12.4692 - mean_absolute_error: 3.4592 - mean_squared_error: 12.4692 - val_loss: 13.0032 - val_mean_absolute_error: 3.5131 - val_mean_squared_error: 13.0032\n",
            "Epoch 16/100\n",
            "4/4 [==============================] - 0s 10ms/step - loss: 12.1192 - mean_absolute_error: 3.4088 - mean_squared_error: 12.1192 - val_loss: 12.6265 - val_mean_absolute_error: 3.4595 - val_mean_squared_error: 12.6265\n",
            "Epoch 17/100\n",
            "4/4 [==============================] - 0s 10ms/step - loss: 11.7809 - mean_absolute_error: 3.3595 - mean_squared_error: 11.7809 - val_loss: 12.2628 - val_mean_absolute_error: 3.4069 - val_mean_squared_error: 12.2628\n",
            "Epoch 18/100\n",
            "4/4 [==============================] - 0s 9ms/step - loss: 11.4538 - mean_absolute_error: 3.3111 - mean_squared_error: 11.4538 - val_loss: 11.9108 - val_mean_absolute_error: 3.3551 - val_mean_squared_error: 11.9108\n",
            "Epoch 19/100\n",
            "4/4 [==============================] - 0s 10ms/step - loss: 11.1361 - mean_absolute_error: 3.2632 - mean_squared_error: 11.1361 - val_loss: 11.5639 - val_mean_absolute_error: 3.3033 - val_mean_squared_error: 11.5639\n",
            "Epoch 20/100\n",
            "4/4 [==============================] - 0s 10ms/step - loss: 10.8244 - mean_absolute_error: 3.2155 - mean_squared_error: 10.8244 - val_loss: 11.2334 - val_mean_absolute_error: 3.2532 - val_mean_squared_error: 11.2334\n",
            "Epoch 21/100\n",
            "4/4 [==============================] - 0s 16ms/step - loss: 10.5257 - mean_absolute_error: 3.1692 - mean_squared_error: 10.5257 - val_loss: 10.9112 - val_mean_absolute_error: 3.2035 - val_mean_squared_error: 10.9112\n",
            "Epoch 22/100\n",
            "4/4 [==============================] - 0s 10ms/step - loss: 10.2353 - mean_absolute_error: 3.1233 - mean_squared_error: 10.2353 - val_loss: 10.6033 - val_mean_absolute_error: 3.1553 - val_mean_squared_error: 10.6033\n",
            "Epoch 23/100\n",
            "4/4 [==============================] - 0s 11ms/step - loss: 9.9558 - mean_absolute_error: 3.0795 - mean_squared_error: 9.9558 - val_loss: 10.2955 - val_mean_absolute_error: 3.1063 - val_mean_squared_error: 10.2955\n",
            "Epoch 24/100\n",
            "4/4 [==============================] - 0s 9ms/step - loss: 9.6774 - mean_absolute_error: 3.0342 - mean_squared_error: 9.6774 - val_loss: 9.9983 - val_mean_absolute_error: 3.0582 - val_mean_squared_error: 9.9983\n",
            "Epoch 25/100\n",
            "4/4 [==============================] - 0s 10ms/step - loss: 9.4091 - mean_absolute_error: 2.9897 - mean_squared_error: 9.4091 - val_loss: 9.7179 - val_mean_absolute_error: 3.0121 - val_mean_squared_error: 9.7179\n",
            "Epoch 26/100\n",
            "4/4 [==============================] - 0s 10ms/step - loss: 9.1546 - mean_absolute_error: 2.9470 - mean_squared_error: 9.1546 - val_loss: 9.4433 - val_mean_absolute_error: 2.9662 - val_mean_squared_error: 9.4433\n",
            "Epoch 27/100\n",
            "4/4 [==============================] - 0s 10ms/step - loss: 8.9052 - mean_absolute_error: 2.9051 - mean_squared_error: 8.9052 - val_loss: 9.1781 - val_mean_absolute_error: 2.9212 - val_mean_squared_error: 9.1781\n",
            "Epoch 28/100\n",
            "4/4 [==============================] - 0s 13ms/step - loss: 8.6638 - mean_absolute_error: 2.8638 - mean_squared_error: 8.6638 - val_loss: 8.9175 - val_mean_absolute_error: 2.8763 - val_mean_squared_error: 8.9175\n",
            "Epoch 29/100\n",
            "4/4 [==============================] - 0s 11ms/step - loss: 8.4265 - mean_absolute_error: 2.8221 - mean_squared_error: 8.4265 - val_loss: 8.6664 - val_mean_absolute_error: 2.8323 - val_mean_squared_error: 8.6664\n",
            "Epoch 30/100\n",
            "4/4 [==============================] - 0s 12ms/step - loss: 8.1975 - mean_absolute_error: 2.7817 - mean_squared_error: 8.1975 - val_loss: 8.4214 - val_mean_absolute_error: 2.7886 - val_mean_squared_error: 8.4214\n",
            "Epoch 31/100\n",
            "4/4 [==============================] - 0s 11ms/step - loss: 7.9740 - mean_absolute_error: 2.7411 - mean_squared_error: 7.9740 - val_loss: 8.1823 - val_mean_absolute_error: 2.7453 - val_mean_squared_error: 8.1823\n",
            "Epoch 32/100\n",
            "4/4 [==============================] - 0s 10ms/step - loss: 7.7559 - mean_absolute_error: 2.7013 - mean_squared_error: 7.7559 - val_loss: 7.9538 - val_mean_absolute_error: 2.7033 - val_mean_squared_error: 7.9538\n",
            "Epoch 33/100\n",
            "4/4 [==============================] - 0s 11ms/step - loss: 7.5467 - mean_absolute_error: 2.6630 - mean_squared_error: 7.5467 - val_loss: 7.7276 - val_mean_absolute_error: 2.6610 - val_mean_squared_error: 7.7276\n",
            "Epoch 34/100\n",
            "4/4 [==============================] - 0s 10ms/step - loss: 7.3400 - mean_absolute_error: 2.6239 - mean_squared_error: 7.3400 - val_loss: 7.5116 - val_mean_absolute_error: 2.6199 - val_mean_squared_error: 7.5116\n",
            "Epoch 35/100\n",
            "4/4 [==============================] - 0s 12ms/step - loss: 7.1421 - mean_absolute_error: 2.5860 - mean_squared_error: 7.1421 - val_loss: 7.3017 - val_mean_absolute_error: 2.5793 - val_mean_squared_error: 7.3017\n",
            "Epoch 36/100\n",
            "4/4 [==============================] - 0s 11ms/step - loss: 6.9494 - mean_absolute_error: 2.5486 - mean_squared_error: 6.9494 - val_loss: 7.0981 - val_mean_absolute_error: 2.5393 - val_mean_squared_error: 7.0981\n",
            "Epoch 37/100\n",
            "4/4 [==============================] - 0s 11ms/step - loss: 6.7623 - mean_absolute_error: 2.5117 - mean_squared_error: 6.7623 - val_loss: 6.9031 - val_mean_absolute_error: 2.5004 - val_mean_squared_error: 6.9031\n",
            "Epoch 38/100\n",
            "4/4 [==============================] - 0s 11ms/step - loss: 6.5835 - mean_absolute_error: 2.4755 - mean_squared_error: 6.5835 - val_loss: 6.7183 - val_mean_absolute_error: 2.4629 - val_mean_squared_error: 6.7183\n",
            "Epoch 39/100\n",
            "4/4 [==============================] - 0s 10ms/step - loss: 6.4124 - mean_absolute_error: 2.4409 - mean_squared_error: 6.4124 - val_loss: 6.5348 - val_mean_absolute_error: 2.4251 - val_mean_squared_error: 6.5348\n",
            "Epoch 40/100\n",
            "4/4 [==============================] - 0s 12ms/step - loss: 6.2438 - mean_absolute_error: 2.4060 - mean_squared_error: 6.2438 - val_loss: 6.3616 - val_mean_absolute_error: 2.3888 - val_mean_squared_error: 6.3616\n",
            "Epoch 41/100\n",
            "4/4 [==============================] - 0s 11ms/step - loss: 6.0831 - mean_absolute_error: 2.3726 - mean_squared_error: 6.0831 - val_loss: 6.1914 - val_mean_absolute_error: 2.3525 - val_mean_squared_error: 6.1914\n",
            "Epoch 42/100\n",
            "4/4 [==============================] - 0s 9ms/step - loss: 5.9257 - mean_absolute_error: 2.3392 - mean_squared_error: 5.9257 - val_loss: 6.0270 - val_mean_absolute_error: 2.3170 - val_mean_squared_error: 6.0270\n",
            "Epoch 43/100\n",
            "4/4 [==============================] - 0s 11ms/step - loss: 5.7728 - mean_absolute_error: 2.3065 - mean_squared_error: 5.7728 - val_loss: 5.8633 - val_mean_absolute_error: 2.2810 - val_mean_squared_error: 5.8633\n",
            "Epoch 44/100\n",
            "4/4 [==============================] - 0s 9ms/step - loss: 5.6210 - mean_absolute_error: 2.2733 - mean_squared_error: 5.6210 - val_loss: 5.7063 - val_mean_absolute_error: 2.2459 - val_mean_squared_error: 5.7063\n",
            "Epoch 45/100\n",
            "4/4 [==============================] - 0s 10ms/step - loss: 5.4752 - mean_absolute_error: 2.2416 - mean_squared_error: 5.4752 - val_loss: 5.5537 - val_mean_absolute_error: 2.2112 - val_mean_squared_error: 5.5537\n",
            "Epoch 46/100\n",
            "4/4 [==============================] - 0s 10ms/step - loss: 5.3334 - mean_absolute_error: 2.2102 - mean_squared_error: 5.3334 - val_loss: 5.4086 - val_mean_absolute_error: 2.1777 - val_mean_squared_error: 5.4086\n",
            "Epoch 47/100\n",
            "4/4 [==============================] - 0s 11ms/step - loss: 5.1973 - mean_absolute_error: 2.1798 - mean_squared_error: 5.1973 - val_loss: 5.2619 - val_mean_absolute_error: 2.1432 - val_mean_squared_error: 5.2619\n",
            "Epoch 48/100\n",
            "4/4 [==============================] - 0s 11ms/step - loss: 5.0609 - mean_absolute_error: 2.1487 - mean_squared_error: 5.0609 - val_loss: 5.1230 - val_mean_absolute_error: 2.1101 - val_mean_squared_error: 5.1230\n",
            "Epoch 49/100\n",
            "4/4 [==============================] - 0s 14ms/step - loss: 4.9308 - mean_absolute_error: 2.1186 - mean_squared_error: 4.9308 - val_loss: 4.9870 - val_mean_absolute_error: 2.0771 - val_mean_squared_error: 4.9870\n",
            "Epoch 50/100\n",
            "4/4 [==============================] - 0s 10ms/step - loss: 4.8040 - mean_absolute_error: 2.0887 - mean_squared_error: 4.8040 - val_loss: 4.8586 - val_mean_absolute_error: 2.0454 - val_mean_squared_error: 4.8586\n",
            "Epoch 51/100\n",
            "4/4 [==============================] - 0s 12ms/step - loss: 4.6830 - mean_absolute_error: 2.0602 - mean_squared_error: 4.6830 - val_loss: 4.7311 - val_mean_absolute_error: 2.0134 - val_mean_squared_error: 4.7311\n",
            "Epoch 52/100\n",
            "4/4 [==============================] - 0s 10ms/step - loss: 4.5633 - mean_absolute_error: 2.0311 - mean_squared_error: 4.5633 - val_loss: 4.6089 - val_mean_absolute_error: 1.9822 - val_mean_squared_error: 4.6089\n",
            "Epoch 53/100\n",
            "4/4 [==============================] - 0s 10ms/step - loss: 4.4485 - mean_absolute_error: 2.0023 - mean_squared_error: 4.4485 - val_loss: 4.4917 - val_mean_absolute_error: 1.9518 - val_mean_squared_error: 4.4917\n",
            "Epoch 54/100\n",
            "4/4 [==============================] - 0s 10ms/step - loss: 4.3381 - mean_absolute_error: 1.9755 - mean_squared_error: 4.3381 - val_loss: 4.3796 - val_mean_absolute_error: 1.9223 - val_mean_squared_error: 4.3796\n",
            "Epoch 55/100\n",
            "4/4 [==============================] - 0s 11ms/step - loss: 4.2317 - mean_absolute_error: 1.9487 - mean_squared_error: 4.2317 - val_loss: 4.2678 - val_mean_absolute_error: 1.8923 - val_mean_squared_error: 4.2678\n",
            "Epoch 56/100\n",
            "4/4 [==============================] - 0s 11ms/step - loss: 4.1260 - mean_absolute_error: 1.9215 - mean_squared_error: 4.1260 - val_loss: 4.1594 - val_mean_absolute_error: 1.8628 - val_mean_squared_error: 4.1594\n",
            "Epoch 57/100\n",
            "4/4 [==============================] - 0s 12ms/step - loss: 4.0239 - mean_absolute_error: 1.8947 - mean_squared_error: 4.0239 - val_loss: 4.0580 - val_mean_absolute_error: 1.8347 - val_mean_squared_error: 4.0580\n",
            "Epoch 58/100\n",
            "4/4 [==============================] - 0s 10ms/step - loss: 3.9273 - mean_absolute_error: 1.8691 - mean_squared_error: 3.9273 - val_loss: 3.9591 - val_mean_absolute_error: 1.8069 - val_mean_squared_error: 3.9591\n",
            "Epoch 59/100\n",
            "4/4 [==============================] - 0s 12ms/step - loss: 3.8331 - mean_absolute_error: 1.8442 - mean_squared_error: 3.8331 - val_loss: 3.8618 - val_mean_absolute_error: 1.7790 - val_mean_squared_error: 3.8618\n",
            "Epoch 60/100\n",
            "4/4 [==============================] - 0s 10ms/step - loss: 3.7400 - mean_absolute_error: 1.8191 - mean_squared_error: 3.7400 - val_loss: 3.7654 - val_mean_absolute_error: 1.7510 - val_mean_squared_error: 3.7654\n",
            "Epoch 61/100\n",
            "4/4 [==============================] - 0s 10ms/step - loss: 3.6484 - mean_absolute_error: 1.7933 - mean_squared_error: 3.6484 - val_loss: 3.6741 - val_mean_absolute_error: 1.7240 - val_mean_squared_error: 3.6741\n",
            "Epoch 62/100\n",
            "4/4 [==============================] - 0s 10ms/step - loss: 3.5610 - mean_absolute_error: 1.7687 - mean_squared_error: 3.5610 - val_loss: 3.5854 - val_mean_absolute_error: 1.6973 - val_mean_squared_error: 3.5854\n",
            "Epoch 63/100\n",
            "4/4 [==============================] - 0s 10ms/step - loss: 3.4759 - mean_absolute_error: 1.7445 - mean_squared_error: 3.4759 - val_loss: 3.4995 - val_mean_absolute_error: 1.6710 - val_mean_squared_error: 3.4995\n",
            "Epoch 64/100\n",
            "4/4 [==============================] - 0s 11ms/step - loss: 3.3934 - mean_absolute_error: 1.7210 - mean_squared_error: 3.3934 - val_loss: 3.4164 - val_mean_absolute_error: 1.6451 - val_mean_squared_error: 3.4164\n",
            "Epoch 65/100\n",
            "4/4 [==============================] - 0s 16ms/step - loss: 3.3133 - mean_absolute_error: 1.6975 - mean_squared_error: 3.3133 - val_loss: 3.3353 - val_mean_absolute_error: 1.6195 - val_mean_squared_error: 3.3353\n",
            "Epoch 66/100\n",
            "4/4 [==============================] - 0s 12ms/step - loss: 3.2348 - mean_absolute_error: 1.6744 - mean_squared_error: 3.2348 - val_loss: 3.2537 - val_mean_absolute_error: 1.5932 - val_mean_squared_error: 3.2537\n",
            "Epoch 67/100\n",
            "4/4 [==============================] - 0s 10ms/step - loss: 3.1563 - mean_absolute_error: 1.6502 - mean_squared_error: 3.1563 - val_loss: 3.1772 - val_mean_absolute_error: 1.5681 - val_mean_squared_error: 3.1772\n",
            "Epoch 68/100\n",
            "4/4 [==============================] - 0s 10ms/step - loss: 3.0826 - mean_absolute_error: 1.6279 - mean_squared_error: 3.0826 - val_loss: 3.1051 - val_mean_absolute_error: 1.5441 - val_mean_squared_error: 3.1051\n",
            "Epoch 69/100\n",
            "4/4 [==============================] - 0s 13ms/step - loss: 3.0124 - mean_absolute_error: 1.6061 - mean_squared_error: 3.0124 - val_loss: 3.0334 - val_mean_absolute_error: 1.5198 - val_mean_squared_error: 3.0334\n",
            "Epoch 70/100\n",
            "4/4 [==============================] - 0s 10ms/step - loss: 2.9428 - mean_absolute_error: 1.5842 - mean_squared_error: 2.9428 - val_loss: 2.9650 - val_mean_absolute_error: 1.4963 - val_mean_squared_error: 2.9650\n",
            "Epoch 71/100\n",
            "4/4 [==============================] - 0s 14ms/step - loss: 2.8761 - mean_absolute_error: 1.5627 - mean_squared_error: 2.8761 - val_loss: 2.8985 - val_mean_absolute_error: 1.4730 - val_mean_squared_error: 2.8985\n",
            "Epoch 72/100\n",
            "4/4 [==============================] - 0s 12ms/step - loss: 2.8112 - mean_absolute_error: 1.5414 - mean_squared_error: 2.8112 - val_loss: 2.8350 - val_mean_absolute_error: 1.4503 - val_mean_squared_error: 2.8350\n",
            "Epoch 73/100\n",
            "4/4 [==============================] - 0s 10ms/step - loss: 2.7488 - mean_absolute_error: 1.5211 - mean_squared_error: 2.7488 - val_loss: 2.7718 - val_mean_absolute_error: 1.4274 - val_mean_squared_error: 2.7718\n",
            "Epoch 74/100\n",
            "4/4 [==============================] - 0s 10ms/step - loss: 2.6872 - mean_absolute_error: 1.4998 - mean_squared_error: 2.6872 - val_loss: 2.7130 - val_mean_absolute_error: 1.4057 - val_mean_squared_error: 2.7130\n",
            "Epoch 75/100\n",
            "4/4 [==============================] - 0s 13ms/step - loss: 2.6292 - mean_absolute_error: 1.4803 - mean_squared_error: 2.6292 - val_loss: 2.6542 - val_mean_absolute_error: 1.3837 - val_mean_squared_error: 2.6542\n",
            "Epoch 76/100\n",
            "4/4 [==============================] - 0s 11ms/step - loss: 2.5712 - mean_absolute_error: 1.4608 - mean_squared_error: 2.5712 - val_loss: 2.5972 - val_mean_absolute_error: 1.3644 - val_mean_squared_error: 2.5972\n",
            "Epoch 77/100\n",
            "4/4 [==============================] - 0s 9ms/step - loss: 2.5149 - mean_absolute_error: 1.4411 - mean_squared_error: 2.5149 - val_loss: 2.5425 - val_mean_absolute_error: 1.3486 - val_mean_squared_error: 2.5425\n",
            "Epoch 78/100\n",
            "4/4 [==============================] - 0s 14ms/step - loss: 2.4607 - mean_absolute_error: 1.4220 - mean_squared_error: 2.4607 - val_loss: 2.4894 - val_mean_absolute_error: 1.3348 - val_mean_squared_error: 2.4894\n",
            "Epoch 79/100\n",
            "4/4 [==============================] - 0s 10ms/step - loss: 2.4083 - mean_absolute_error: 1.4026 - mean_squared_error: 2.4083 - val_loss: 2.4394 - val_mean_absolute_error: 1.3215 - val_mean_squared_error: 2.4394\n",
            "Epoch 80/100\n",
            "4/4 [==============================] - 0s 10ms/step - loss: 2.3583 - mean_absolute_error: 1.3847 - mean_squared_error: 2.3583 - val_loss: 2.3903 - val_mean_absolute_error: 1.3082 - val_mean_squared_error: 2.3903\n",
            "Epoch 81/100\n",
            "4/4 [==============================] - 0s 9ms/step - loss: 2.3091 - mean_absolute_error: 1.3669 - mean_squared_error: 2.3091 - val_loss: 2.3413 - val_mean_absolute_error: 1.2947 - val_mean_squared_error: 2.3413\n",
            "Epoch 82/100\n",
            "4/4 [==============================] - 0s 10ms/step - loss: 2.2602 - mean_absolute_error: 1.3488 - mean_squared_error: 2.2602 - val_loss: 2.2939 - val_mean_absolute_error: 1.2814 - val_mean_squared_error: 2.2939\n",
            "Epoch 83/100\n",
            "4/4 [==============================] - 0s 11ms/step - loss: 2.2127 - mean_absolute_error: 1.3308 - mean_squared_error: 2.2127 - val_loss: 2.2488 - val_mean_absolute_error: 1.2686 - val_mean_squared_error: 2.2488\n",
            "Epoch 84/100\n",
            "4/4 [==============================] - 0s 10ms/step - loss: 2.1673 - mean_absolute_error: 1.3135 - mean_squared_error: 2.1673 - val_loss: 2.2054 - val_mean_absolute_error: 1.2560 - val_mean_squared_error: 2.2054\n",
            "Epoch 85/100\n",
            "4/4 [==============================] - 0s 13ms/step - loss: 2.1234 - mean_absolute_error: 1.2968 - mean_squared_error: 2.1234 - val_loss: 2.1621 - val_mean_absolute_error: 1.2432 - val_mean_squared_error: 2.1621\n",
            "Epoch 86/100\n",
            "4/4 [==============================] - 0s 10ms/step - loss: 2.0798 - mean_absolute_error: 1.2798 - mean_squared_error: 2.0798 - val_loss: 2.1217 - val_mean_absolute_error: 1.2311 - val_mean_squared_error: 2.1217\n",
            "Epoch 87/100\n",
            "4/4 [==============================] - 0s 10ms/step - loss: 2.0386 - mean_absolute_error: 1.2634 - mean_squared_error: 2.0386 - val_loss: 2.0814 - val_mean_absolute_error: 1.2208 - val_mean_squared_error: 2.0814\n",
            "Epoch 88/100\n",
            "4/4 [==============================] - 0s 12ms/step - loss: 1.9977 - mean_absolute_error: 1.2469 - mean_squared_error: 1.9977 - val_loss: 2.0428 - val_mean_absolute_error: 1.2123 - val_mean_squared_error: 2.0428\n",
            "Epoch 89/100\n",
            "4/4 [==============================] - 0s 12ms/step - loss: 1.9582 - mean_absolute_error: 1.2308 - mean_squared_error: 1.9582 - val_loss: 2.0048 - val_mean_absolute_error: 1.2039 - val_mean_squared_error: 2.0048\n",
            "Epoch 90/100\n",
            "4/4 [==============================] - 0s 11ms/step - loss: 1.9194 - mean_absolute_error: 1.2150 - mean_squared_error: 1.9194 - val_loss: 1.9686 - val_mean_absolute_error: 1.1956 - val_mean_squared_error: 1.9686\n",
            "Epoch 91/100\n",
            "4/4 [==============================] - 0s 11ms/step - loss: 1.8823 - mean_absolute_error: 1.1995 - mean_squared_error: 1.8823 - val_loss: 1.9340 - val_mean_absolute_error: 1.1877 - val_mean_squared_error: 1.9340\n",
            "Epoch 92/100\n",
            "4/4 [==============================] - 0s 11ms/step - loss: 1.8470 - mean_absolute_error: 1.1840 - mean_squared_error: 1.8470 - val_loss: 1.9018 - val_mean_absolute_error: 1.1801 - val_mean_squared_error: 1.9018\n",
            "Epoch 93/100\n",
            "4/4 [==============================] - 0s 11ms/step - loss: 1.8135 - mean_absolute_error: 1.1703 - mean_squared_error: 1.8135 - val_loss: 1.8694 - val_mean_absolute_error: 1.1724 - val_mean_squared_error: 1.8694\n",
            "Epoch 94/100\n",
            "4/4 [==============================] - 0s 9ms/step - loss: 1.7799 - mean_absolute_error: 1.1556 - mean_squared_error: 1.7799 - val_loss: 1.8377 - val_mean_absolute_error: 1.1647 - val_mean_squared_error: 1.8377\n",
            "Epoch 95/100\n",
            "4/4 [==============================] - 0s 10ms/step - loss: 1.7469 - mean_absolute_error: 1.1415 - mean_squared_error: 1.7469 - val_loss: 1.8069 - val_mean_absolute_error: 1.1570 - val_mean_squared_error: 1.8069\n",
            "Epoch 96/100\n",
            "4/4 [==============================] - 0s 9ms/step - loss: 1.7148 - mean_absolute_error: 1.1274 - mean_squared_error: 1.7148 - val_loss: 1.7770 - val_mean_absolute_error: 1.1495 - val_mean_squared_error: 1.7770\n",
            "Epoch 97/100\n",
            "4/4 [==============================] - 0s 10ms/step - loss: 1.6836 - mean_absolute_error: 1.1138 - mean_squared_error: 1.6836 - val_loss: 1.7483 - val_mean_absolute_error: 1.1421 - val_mean_squared_error: 1.7483\n",
            "Epoch 98/100\n",
            "4/4 [==============================] - 0s 12ms/step - loss: 1.6533 - mean_absolute_error: 1.1006 - mean_squared_error: 1.6533 - val_loss: 1.7191 - val_mean_absolute_error: 1.1345 - val_mean_squared_error: 1.7191\n",
            "Epoch 99/100\n",
            "4/4 [==============================] - 0s 10ms/step - loss: 1.6227 - mean_absolute_error: 1.0871 - mean_squared_error: 1.6227 - val_loss: 1.6921 - val_mean_absolute_error: 1.1273 - val_mean_squared_error: 1.6921\n",
            "Epoch 100/100\n",
            "4/4 [==============================] - 0s 12ms/step - loss: 1.5942 - mean_absolute_error: 1.0745 - mean_squared_error: 1.5942 - val_loss: 1.6663 - val_mean_absolute_error: 1.1203 - val_mean_squared_error: 1.6663\n"
          ],
          "name": "stdout"
        }
      ]
    },
    {
      "cell_type": "markdown",
      "metadata": {
        "id": "-xv6IaPv8FcV",
        "colab_type": "text"
      },
      "source": [
        "We get to ~0.6578 validation mean squared error after training for 100 epochs on the training dataset. Let's check the model's training progress using the stats stored in the history object.\n",
        "\n"
      ]
    },
    {
      "cell_type": "code",
      "metadata": {
        "id": "_ioic77M8XrP",
        "colab_type": "code",
        "colab": {
          "base_uri": "https://localhost:8080/",
          "height": 224
        },
        "outputId": "0da0ea53-9779-4bf3-a9d3-03bcb3d3f4b7"
      },
      "source": [
        "hist = pd.DataFrame(history.history)\n",
        "hist['epoch'] = history.epoch\n",
        "hist.tail()"
      ],
      "execution_count": null,
      "outputs": [
        {
          "output_type": "execute_result",
          "data": {
            "text/html": [
              "<div>\n",
              "<style scoped>\n",
              "    .dataframe tbody tr th:only-of-type {\n",
              "        vertical-align: middle;\n",
              "    }\n",
              "\n",
              "    .dataframe tbody tr th {\n",
              "        vertical-align: top;\n",
              "    }\n",
              "\n",
              "    .dataframe thead th {\n",
              "        text-align: right;\n",
              "    }\n",
              "</style>\n",
              "<table border=\"1\" class=\"dataframe\">\n",
              "  <thead>\n",
              "    <tr style=\"text-align: right;\">\n",
              "      <th></th>\n",
              "      <th>loss</th>\n",
              "      <th>mean_absolute_error</th>\n",
              "      <th>mean_squared_error</th>\n",
              "      <th>val_loss</th>\n",
              "      <th>val_mean_absolute_error</th>\n",
              "      <th>val_mean_squared_error</th>\n",
              "      <th>epoch</th>\n",
              "    </tr>\n",
              "  </thead>\n",
              "  <tbody>\n",
              "    <tr>\n",
              "      <th>95</th>\n",
              "      <td>0.511392</td>\n",
              "      <td>0.594100</td>\n",
              "      <td>0.511392</td>\n",
              "      <td>0.788785</td>\n",
              "      <td>0.727546</td>\n",
              "      <td>0.788785</td>\n",
              "      <td>95</td>\n",
              "    </tr>\n",
              "    <tr>\n",
              "      <th>96</th>\n",
              "      <td>0.510397</td>\n",
              "      <td>0.593477</td>\n",
              "      <td>0.510397</td>\n",
              "      <td>0.787663</td>\n",
              "      <td>0.726424</td>\n",
              "      <td>0.787663</td>\n",
              "      <td>96</td>\n",
              "    </tr>\n",
              "    <tr>\n",
              "      <th>97</th>\n",
              "      <td>0.509648</td>\n",
              "      <td>0.593146</td>\n",
              "      <td>0.509648</td>\n",
              "      <td>0.784980</td>\n",
              "      <td>0.725982</td>\n",
              "      <td>0.784980</td>\n",
              "      <td>97</td>\n",
              "    </tr>\n",
              "    <tr>\n",
              "      <th>98</th>\n",
              "      <td>0.508688</td>\n",
              "      <td>0.591959</td>\n",
              "      <td>0.508688</td>\n",
              "      <td>0.783129</td>\n",
              "      <td>0.725446</td>\n",
              "      <td>0.783129</td>\n",
              "      <td>98</td>\n",
              "    </tr>\n",
              "    <tr>\n",
              "      <th>99</th>\n",
              "      <td>0.508433</td>\n",
              "      <td>0.591855</td>\n",
              "      <td>0.508433</td>\n",
              "      <td>0.780717</td>\n",
              "      <td>0.725311</td>\n",
              "      <td>0.780717</td>\n",
              "      <td>99</td>\n",
              "    </tr>\n",
              "  </tbody>\n",
              "</table>\n",
              "</div>"
            ],
            "text/plain": [
              "        loss  mean_absolute_error  ...  val_mean_squared_error  epoch\n",
              "95  0.511392             0.594100  ...                0.788785     95\n",
              "96  0.510397             0.593477  ...                0.787663     96\n",
              "97  0.509648             0.593146  ...                0.784980     97\n",
              "98  0.508688             0.591959  ...                0.783129     98\n",
              "99  0.508433             0.591855  ...                0.780717     99\n",
              "\n",
              "[5 rows x 7 columns]"
            ]
          },
          "metadata": {
            "tags": []
          },
          "execution_count": 13
        }
      ]
    },
    {
      "cell_type": "markdown",
      "metadata": {
        "id": "tQSZuns88fhs",
        "colab_type": "text"
      },
      "source": [
        "Let's visualize it too."
      ]
    },
    {
      "cell_type": "code",
      "metadata": {
        "id": "DuNpvE5C8eOr",
        "colab_type": "code",
        "colab": {
          "base_uri": "https://localhost:8080/",
          "height": 279
        },
        "outputId": "75828c8b-4c79-47ce-a375-80322755ae47"
      },
      "source": [
        "hist.plot.line(x='epoch', y='val_mean_squared_error');"
      ],
      "execution_count": null,
      "outputs": [
        {
          "output_type": "display_data",
          "data": {
            "image/png": "[encoded data removed]",
            "text/plain": [
              "<Figure size 432x288 with 1 Axes>"
            ]
          },
          "metadata": {
            "tags": [],
            "needs_background": "light"
          }
        }
      ]
    },
    {
      "cell_type": "markdown",
      "metadata": {
        "id": "NDqDbYQc-b1m",
        "colab_type": "text"
      },
      "source": [
        "From the plot we can see that our model *converged* around the 20th epoch. In other words, the most optimal parameters (weights and bias)were found ofter 20 training iterations. "
      ]
    },
    {
      "cell_type": "markdown",
      "metadata": {
        "id": "de62RpCv_ion",
        "colab_type": "text"
      },
      "source": [
        "## 5. Evaluate the model\n",
        "Now that we trained our model, it's time to evaluate it by using the *test* dataset, which we did not use when training the model. This gives us a sense of how well our model predicts unseen data, which is the case when we use it in the real world. We will use the `evaluate` method to test the model. "
      ]
    },
    {
      "cell_type": "code",
      "metadata": {
        "id": "qn9i35lI_h6L",
        "colab_type": "code",
        "colab": {
          "base_uri": "https://localhost:8080/",
          "height": 73
        },
        "outputId": "4a5f5827-912e-445e-ed8c-e62c6c97f16e"
      },
      "source": [
        "loss, mae, mse = model.evaluate(test_features, test_labels)\n",
        "print('Test set Mean Absolute Error: ', round(mae, 4))"
      ],
      "execution_count": null,
      "outputs": [
        {
          "output_type": "stream",
          "text": [
            "1/1 [==============================] - 0s 1ms/step - loss: 0.3837 - mean_absolute_error: 0.5160 - mean_squared_error: 0.3837\n",
            "Test set Mean Absolute Error:  0.516\n"
          ],
          "name": "stdout"
        }
      ]
    },
    {
      "cell_type": "markdown",
      "metadata": {
        "id": "-Oex24IXB8Ku",
        "colab_type": "text"
      },
      "source": [
        "The average (absolute) error is around +/- 0.516 units for happiness Score. Is this good? We'll leave that decision up to you. Let's also visualize the prediction and real happiness Score values using data in the test set."
      ]
    },
    {
      "cell_type": "code",
      "metadata": {
        "id": "hfYGBlJOCgkf",
        "colab_type": "code",
        "colab": {
          "base_uri": "https://localhost:8080/",
          "height": 279
        },
        "outputId": "95328791-b9e1-4b4f-9fee-623bd9349e46"
      },
      "source": [
        "test_predictions = model.predict(test_features).flatten()\n",
        "\n",
        "ax = plt.axes(aspect='equal')\n",
        "plt.scatter(test_labels, test_predictions)\n",
        "plt.xlabel('True Values [Happiness Score]')\n",
        "plt.ylabel('Predictions [Happiness Score]')\n",
        "lims = [0, max(test_labels) + 1] # [0, 31]\n",
        "plt.xlim(lims)\n",
        "plt.ylim(lims)\n",
        "_ = plt.plot(lims, lims)"
      ],
      "execution_count": null,
      "outputs": [
        {
          "output_type": "display_data",
          "data": {
            "image/png": "[encoded data removed]",
            "text/plain": [
              "<Figure size 432x288 with 1 Axes>"
            ]
          },
          "metadata": {
            "tags": [],
            "needs_background": "light"
          }
        }
      ]
    },
    {
      "cell_type": "markdown",
      "metadata": {
        "id": "f5c_PyRzDdL9",
        "colab_type": "text"
      },
      "source": [
        "It looks like our model predicts reasonably well. Let's take a look at the error distribution."
      ]
    },
    {
      "cell_type": "code",
      "metadata": {
        "id": "40XijR03DrET",
        "colab_type": "code",
        "colab": {
          "base_uri": "https://localhost:8080/",
          "height": 279
        },
        "outputId": "9a61cfc6-8534-48ca-b294-1a563c35be2b"
      },
      "source": [
        "error = test_predictions.reshape(-1, 1) - test_labels\n",
        "plt.hist(error, bins = 10)\n",
        "plt.xlabel(\"Prediction Error [Happiness Score]\")\n",
        "_ = plt.ylabel(\"Count\")"
      ],
      "execution_count": null,
      "outputs": [
        {
          "output_type": "display_data",
          "data": {
            "image/png": "[encoded data removed]",
            "text/plain": [
              "<Figure size 432x288 with 1 Axes>"
            ]
          },
          "metadata": {
            "tags": [],
            "needs_background": "light"
          }
        }
      ]
    },
    {
      "cell_type": "markdown",
      "metadata": {
        "id": "Ij1MDhAbEpZ6",
        "colab_type": "text"
      },
      "source": [
        "The histogram shows that the errors aren't quite *Normally distributed* (also called *gaussian*), but we might expect that because the number of samples is very small."
      ]
    },
    {
      "cell_type": "markdown",
      "metadata": {
        "id": "vd6RuVz5FDZM",
        "colab_type": "text"
      },
      "source": [
        "## 6. Draw Conclusions\n",
        "We built a single-layer fully-connected neural network model to predict happiness Score given a country's GDP per capita. The model converged after about 20 epochs of training, and it achieved an average (absolute) error of +/- 0.516. We expect that a *deeper* model or more data samples or features could lead to better results on unseen data.     "
      ]
    },
    {
      "cell_type": "markdown",
      "metadata": {
        "id": "wTQXVOX3GITZ",
        "colab_type": "text"
      },
      "source": [
        "# Summary\n",
        "In this lesson we took a deeper dive into regression, translating traditional linear  regression into a single-layer fully-connected neural network. We covered several important techniques to handle regression problems:\n",
        "- Introduced *loss functions* and *optimization algorithms*.\n",
        "- Demonstrated preparing data for a model.\n",
        "- Used Tensorflow to build and train a model. \n",
        "- Showed how to evaluate a model."
      ]
    },
    {
      "cell_type": "code",
      "metadata": {
        "id": "UCOUYOD8VExr",
        "colab_type": "code",
        "colab": {}
      },
      "source": [
        ""
      ],
      "execution_count": null,
      "outputs": []
    }
  ]
}