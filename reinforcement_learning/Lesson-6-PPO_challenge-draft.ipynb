{
  "cells": [
    {
      "cell_type": "code",
      "execution_count": 1,
      "metadata": {
        "colab": {
          "base_uri": "https://localhost:8080/"
        },
        "id": "d6tP_Pj9U8uY",
        "outputId": "be30685b-ebb8-4f2b-ae65-f592c5e87ae5"
      },
      "outputs": [
        {
          "name": "stdout",
          "output_type": "stream",
          "text": [
            "Reading package lists... Done\n",
            "Building dependency tree... Done\n",
            "Reading state information... Done\n",
            "cmake is already the newest version (3.22.1-1ubuntu1.22.04.1).\n",
            "Suggested packages:\n",
            "  swig-doc swig-examples swig4.0-examples swig4.0-doc\n",
            "The following NEW packages will be installed:\n",
            "  swig swig4.0\n",
            "0 upgraded, 2 newly installed, 0 to remove and 16 not upgraded.\n",
            "Need to get 1,116 kB of archives.\n",
            "After this operation, 5,542 kB of additional disk space will be used.\n",
            "Get:1 http://archive.ubuntu.com/ubuntu jammy/universe amd64 swig4.0 amd64 4.0.2-1ubuntu1 [1,110 kB]\n",
            "Get:2 http://archive.ubuntu.com/ubuntu jammy/universe amd64 swig all 4.0.2-1ubuntu1 [5,632 B]\n",
            "Fetched 1,116 kB in 1s (1,369 kB/s)\n",
            "Selecting previously unselected package swig4.0.\n",
            "(Reading database ... 120828 files and directories currently installed.)\n",
            "Preparing to unpack .../swig4.0_4.0.2-1ubuntu1_amd64.deb ...\n",
            "Unpacking swig4.0 (4.0.2-1ubuntu1) ...\n",
            "Selecting previously unselected package swig.\n",
            "Preparing to unpack .../swig_4.0.2-1ubuntu1_all.deb ...\n",
            "Unpacking swig (4.0.2-1ubuntu1) ...\n",
            "Setting up swig4.0 (4.0.2-1ubuntu1) ...\n",
            "Setting up swig (4.0.2-1ubuntu1) ...\n",
            "Processing triggers for man-db (2.10.2-1) ...\n",
            "Collecting gymnasium[atari]\n",
            "  Downloading gymnasium-0.29.0-py3-none-any.whl (953 kB)\n",
            "\u001b[2K     \u001b[90m━━━━━━━━━━━━━━━━━━━━━━━━━━━━━━━━━━━━━━\u001b[0m \u001b[32m953.8/953.8 kB\u001b[0m \u001b[31m10.9 MB/s\u001b[0m eta \u001b[36m0:00:00\u001b[0m\n",
            "\u001b[?25hRequirement already satisfied: numpy>=1.21.0 in /usr/local/lib/python3.10/dist-packages (from gymnasium[atari]) (1.23.5)\n",
            "Requirement already satisfied: cloudpickle>=1.2.0 in /usr/local/lib/python3.10/dist-packages (from gymnasium[atari]) (2.2.1)\n",
            "Requirement already satisfied: typing-extensions>=4.3.0 in /usr/local/lib/python3.10/dist-packages (from gymnasium[atari]) (4.7.1)\n",
            "Collecting farama-notifications>=0.0.1 (from gymnasium[atari])\n",
            "  Downloading Farama_Notifications-0.0.4-py3-none-any.whl (2.5 kB)\n",
            "Collecting shimmy[atari]<1.0,>=0.1.0 (from gymnasium[atari])\n",
            "  Downloading Shimmy-0.2.1-py3-none-any.whl (25 kB)\n",
            "Collecting ale-py~=0.8.1 (from shimmy[atari]<1.0,>=0.1.0->gymnasium[atari])\n",
            "  Downloading ale_py-0.8.1-cp310-cp310-manylinux_2_17_x86_64.manylinux2014_x86_64.whl (1.7 MB)\n",
            "\u001b[2K     \u001b[90m━━━━━━━━━━━━━━━━━━━━━━━━━━━━━━━━━━━━━━━━\u001b[0m \u001b[32m1.7/1.7 MB\u001b[0m \u001b[31m22.9 MB/s\u001b[0m eta \u001b[36m0:00:00\u001b[0m\n",
            "\u001b[?25hRequirement already satisfied: importlib-resources in /usr/local/lib/python3.10/dist-packages (from ale-py~=0.8.1->shimmy[atari]<1.0,>=0.1.0->gymnasium[atari]) (6.0.1)\n",
            "Installing collected packages: farama-notifications, gymnasium, ale-py, shimmy\n",
            "Successfully installed ale-py-0.8.1 farama-notifications-0.0.4 gymnasium-0.29.0 shimmy-0.2.1\n",
            "Requirement already satisfied: gymnasium[accept-rom-license] in /usr/local/lib/python3.10/dist-packages (0.29.0)\n",
            "Requirement already satisfied: numpy>=1.21.0 in /usr/local/lib/python3.10/dist-packages (from gymnasium[accept-rom-license]) (1.23.5)\n",
            "Requirement already satisfied: cloudpickle>=1.2.0 in /usr/local/lib/python3.10/dist-packages (from gymnasium[accept-rom-license]) (2.2.1)\n",
            "Requirement already satisfied: typing-extensions>=4.3.0 in /usr/local/lib/python3.10/dist-packages (from gymnasium[accept-rom-license]) (4.7.1)\n",
            "Requirement already satisfied: farama-notifications>=0.0.1 in /usr/local/lib/python3.10/dist-packages (from gymnasium[accept-rom-license]) (0.0.4)\n",
            "Collecting autorom[accept-rom-license]~=0.4.2 (from gymnasium[accept-rom-license])\n",
            "  Downloading AutoROM-0.4.2-py3-none-any.whl (16 kB)\n",
            "Requirement already satisfied: click in /usr/local/lib/python3.10/dist-packages (from autorom[accept-rom-license]~=0.4.2->gymnasium[accept-rom-license]) (8.1.6)\n",
            "Requirement already satisfied: requests in /usr/local/lib/python3.10/dist-packages (from autorom[accept-rom-license]~=0.4.2->gymnasium[accept-rom-license]) (2.31.0)\n",
            "Requirement already satisfied: tqdm in /usr/local/lib/python3.10/dist-packages (from autorom[accept-rom-license]~=0.4.2->gymnasium[accept-rom-license]) (4.66.0)\n",
            "Collecting AutoROM.accept-rom-license (from autorom[accept-rom-license]~=0.4.2->gymnasium[accept-rom-license])\n",
            "  Downloading AutoROM.accept-rom-license-0.6.1.tar.gz (434 kB)\n",
            "\u001b[2K     \u001b[90m━━━━━━━━━━━━━━━━━━━━━━━━━━━━━━━━━━━━━━━\u001b[0m \u001b[32m434.7/434.7 kB\u001b[0m \u001b[31m7.8 MB/s\u001b[0m eta \u001b[36m0:00:00\u001b[0m\n",
            "\u001b[?25h  Installing build dependencies ... \u001b[?25l\u001b[?25hdone\n",
            "  Getting requirements to build wheel ... \u001b[?25l\u001b[?25hdone\n",
            "  Preparing metadata (pyproject.toml) ... \u001b[?25l\u001b[?25hdone\n",
            "Requirement already satisfied: charset-normalizer<4,>=2 in /usr/local/lib/python3.10/dist-packages (from requests->autorom[accept-rom-license]~=0.4.2->gymnasium[accept-rom-license]) (3.2.0)\n",
            "Requirement already satisfied: idna<4,>=2.5 in /usr/local/lib/python3.10/dist-packages (from requests->autorom[accept-rom-license]~=0.4.2->gymnasium[accept-rom-license]) (3.4)\n",
            "Requirement already satisfied: urllib3<3,>=1.21.1 in /usr/local/lib/python3.10/dist-packages (from requests->autorom[accept-rom-license]~=0.4.2->gymnasium[accept-rom-license]) (2.0.4)\n",
            "Requirement already satisfied: certifi>=2017.4.17 in /usr/local/lib/python3.10/dist-packages (from requests->autorom[accept-rom-license]~=0.4.2->gymnasium[accept-rom-license]) (2023.7.22)\n",
            "Building wheels for collected packages: AutoROM.accept-rom-license\n",
            "  Building wheel for AutoROM.accept-rom-license (pyproject.toml) ... \u001b[?25l\u001b[?25hdone\n",
            "  Created wheel for AutoROM.accept-rom-license: filename=AutoROM.accept_rom_license-0.6.1-py3-none-any.whl size=446660 sha256=222ef1838bfa43e30009219da67765bee259b23e8e0c402b4689750a2ba658d3\n",
            "  Stored in directory: /root/.cache/pip/wheels/6b/1b/ef/a43ff1a2f1736d5711faa1ba4c1f61be1131b8899e6a057811\n",
            "Successfully built AutoROM.accept-rom-license\n",
            "Installing collected packages: AutoROM.accept-rom-license, autorom\n",
            "Successfully installed AutoROM.accept-rom-license-0.6.1 autorom-0.4.2\n",
            "Collecting rl_zoo3\n",
            "  Downloading rl_zoo3-2.0.0-py3-none-any.whl (76 kB)\n",
            "\u001b[2K     \u001b[90m━━━━━━━━━━━━━━━━━━━━━━━━━━━━━━━━━━━━━━━━\u001b[0m \u001b[32m76.3/76.3 kB\u001b[0m \u001b[31m2.5 MB/s\u001b[0m eta \u001b[36m0:00:00\u001b[0m\n",
            "\u001b[?25hCollecting sb3-contrib>=2.0.0 (from rl_zoo3)\n",
            "  Downloading sb3_contrib-2.0.0-py3-none-any.whl (80 kB)\n",
            "\u001b[2K     \u001b[90m━━━━━━━━━━━━━━━━━━━━━━━━━━━━━━━━━━━━━━━━\u001b[0m \u001b[32m80.3/80.3 kB\u001b[0m \u001b[31m5.3 MB/s\u001b[0m eta \u001b[36m0:00:00\u001b[0m\n",
            "\u001b[?25hCollecting gym==0.26.2 (from rl_zoo3)\n",
            "  Downloading gym-0.26.2.tar.gz (721 kB)\n",
            "\u001b[2K     \u001b[90m━━━━━━━━━━━━━━━━━━━━━━━━━━━━━━━━━━━━━━\u001b[0m \u001b[32m721.7/721.7 kB\u001b[0m \u001b[31m12.5 MB/s\u001b[0m eta \u001b[36m0:00:00\u001b[0m\n",
            "\u001b[?25h  Installing build dependencies ... \u001b[?25l\u001b[?25hdone\n",
            "  Getting requirements to build wheel ... \u001b[?25l\u001b[?25hdone\n",
            "  Preparing metadata (pyproject.toml) ... \u001b[?25l\u001b[?25hdone\n",
            "Collecting huggingface-sb3>=2.2.5 (from rl_zoo3)\n",
            "  Downloading huggingface_sb3-2.2.5-py3-none-any.whl (9.5 kB)\n",
            "Requirement already satisfied: tqdm in /usr/local/lib/python3.10/dist-packages (from rl_zoo3) (4.66.0)\n",
            "Requirement already satisfied: rich in /usr/local/lib/python3.10/dist-packages (from rl_zoo3) (13.5.2)\n",
            "Collecting optuna (from rl_zoo3)\n",
            "  Downloading optuna-3.3.0-py3-none-any.whl (404 kB)\n",
            "\u001b[2K     \u001b[90m━━━━━━━━━━━━━━━━━━━━━━━━━━━━━━━━━━━━━━\u001b[0m \u001b[32m404.2/404.2 kB\u001b[0m \u001b[31m15.9 MB/s\u001b[0m eta \u001b[36m0:00:00\u001b[0m\n",
            "\u001b[?25hRequirement already satisfied: pyyaml>=5.1 in /usr/local/lib/python3.10/dist-packages (from rl_zoo3) (6.0.1)\n",
            "Collecting pytablewriter~=0.64 (from rl_zoo3)\n",
            "  Downloading pytablewriter-0.64.2-py3-none-any.whl (106 kB)\n",
            "\u001b[2K     \u001b[90m━━━━━━━━━━━━━━━━━━━━━━━━━━━━━━━━━━━━━━━\u001b[0m \u001b[32m106.6/106.6 kB\u001b[0m \u001b[31m8.7 MB/s\u001b[0m eta \u001b[36m0:00:00\u001b[0m\n",
            "\u001b[?25hRequirement already satisfied: numpy>=1.18.0 in /usr/local/lib/python3.10/dist-packages (from gym==0.26.2->rl_zoo3) (1.23.5)\n",
            "Requirement already satisfied: cloudpickle>=1.2.0 in /usr/local/lib/python3.10/dist-packages (from gym==0.26.2->rl_zoo3) (2.2.1)\n",
            "Requirement already satisfied: gym-notices>=0.0.4 in /usr/local/lib/python3.10/dist-packages (from gym==0.26.2->rl_zoo3) (0.0.8)\n",
            "Collecting huggingface-hub~=0.8 (from huggingface-sb3>=2.2.5->rl_zoo3)\n",
            "  Downloading huggingface_hub-0.16.4-py3-none-any.whl (268 kB)\n",
            "\u001b[2K     \u001b[90m━━━━━━━━━━━━━━━━━━━━━━━━━━━━━━━━━━━━━━\u001b[0m \u001b[32m268.8/268.8 kB\u001b[0m \u001b[31m16.9 MB/s\u001b[0m eta \u001b[36m0:00:00\u001b[0m\n",
            "\u001b[?25hRequirement already satisfied: wasabi in /usr/local/lib/python3.10/dist-packages (from huggingface-sb3>=2.2.5->rl_zoo3) (1.1.2)\n",
            "Requirement already satisfied: setuptools>=38.3.0 in /usr/local/lib/python3.10/dist-packages (from pytablewriter~=0.64->rl_zoo3) (67.7.2)\n",
            "Collecting DataProperty<2,>=0.55.0 (from pytablewriter~=0.64->rl_zoo3)\n",
            "  Downloading DataProperty-1.0.1-py3-none-any.whl (27 kB)\n",
            "Collecting mbstrdecoder<2,>=1.0.0 (from pytablewriter~=0.64->rl_zoo3)\n",
            "  Downloading mbstrdecoder-1.1.3-py3-none-any.whl (7.8 kB)\n",
            "Collecting pathvalidate<3,>=2.3.0 (from pytablewriter~=0.64->rl_zoo3)\n",
            "  Downloading pathvalidate-2.5.2-py3-none-any.whl (20 kB)\n",
            "Collecting tabledata<2,>=1.3.0 (from pytablewriter~=0.64->rl_zoo3)\n",
            "  Downloading tabledata-1.3.1-py3-none-any.whl (11 kB)\n",
            "Collecting tcolorpy<1,>=0.0.5 (from pytablewriter~=0.64->rl_zoo3)\n",
            "  Downloading tcolorpy-0.1.3-py3-none-any.whl (7.9 kB)\n",
            "Collecting typepy[datetime]<2,>=1.2.0 (from pytablewriter~=0.64->rl_zoo3)\n",
            "  Downloading typepy-1.3.1-py3-none-any.whl (31 kB)\n",
            "Collecting stable-baselines3>=2.0.0 (from sb3-contrib>=2.0.0->rl_zoo3)\n",
            "  Downloading stable_baselines3-2.0.0-py3-none-any.whl (178 kB)\n",
            "\u001b[2K     \u001b[90m━━━━━━━━━━━━━━━━━━━━━━━━━━━━━━━━━━━━━━\u001b[0m \u001b[32m178.4/178.4 kB\u001b[0m \u001b[31m14.2 MB/s\u001b[0m eta \u001b[36m0:00:00\u001b[0m\n",
            "\u001b[?25hCollecting alembic>=1.5.0 (from optuna->rl_zoo3)\n",
            "  Downloading alembic-1.11.2-py3-none-any.whl (225 kB)\n",
            "\u001b[2K     \u001b[90m━━━━━━━━━━━━━━━━━━━━━━━━━━━━━━━━━━━━━━\u001b[0m \u001b[32m225.3/225.3 kB\u001b[0m \u001b[31m14.7 MB/s\u001b[0m eta \u001b[36m0:00:00\u001b[0m\n",
            "\u001b[?25hCollecting cmaes>=0.10.0 (from optuna->rl_zoo3)\n",
            "  Downloading cmaes-0.10.0-py3-none-any.whl (29 kB)\n",
            "Collecting colorlog (from optuna->rl_zoo3)\n",
            "  Downloading colorlog-6.7.0-py2.py3-none-any.whl (11 kB)\n",
            "Requirement already satisfied: packaging>=20.0 in /usr/local/lib/python3.10/dist-packages (from optuna->rl_zoo3) (23.1)\n",
            "Requirement already satisfied: sqlalchemy>=1.3.0 in /usr/local/lib/python3.10/dist-packages (from optuna->rl_zoo3) (2.0.19)\n",
            "Requirement already satisfied: markdown-it-py>=2.2.0 in /usr/local/lib/python3.10/dist-packages (from rich->rl_zoo3) (3.0.0)\n",
            "Requirement already satisfied: pygments<3.0.0,>=2.13.0 in /usr/local/lib/python3.10/dist-packages (from rich->rl_zoo3) (2.16.1)\n",
            "Collecting Mako (from alembic>=1.5.0->optuna->rl_zoo3)\n",
            "  Downloading Mako-1.2.4-py3-none-any.whl (78 kB)\n",
            "\u001b[2K     \u001b[90m━━━━━━━━━━━━━━━━━━━━━━━━━━━━━━━━━━━━━━━━\u001b[0m \u001b[32m78.7/78.7 kB\u001b[0m \u001b[31m9.3 MB/s\u001b[0m eta \u001b[36m0:00:00\u001b[0m\n",
            "\u001b[?25hRequirement already satisfied: typing-extensions>=4 in /usr/local/lib/python3.10/dist-packages (from alembic>=1.5.0->optuna->rl_zoo3) (4.7.1)\n",
            "Requirement already satisfied: filelock in /usr/local/lib/python3.10/dist-packages (from huggingface-hub~=0.8->huggingface-sb3>=2.2.5->rl_zoo3) (3.12.2)\n",
            "Requirement already satisfied: fsspec in /usr/local/lib/python3.10/dist-packages (from huggingface-hub~=0.8->huggingface-sb3>=2.2.5->rl_zoo3) (2023.6.0)\n",
            "Requirement already satisfied: requests in /usr/local/lib/python3.10/dist-packages (from huggingface-hub~=0.8->huggingface-sb3>=2.2.5->rl_zoo3) (2.31.0)\n",
            "Requirement already satisfied: mdurl~=0.1 in /usr/local/lib/python3.10/dist-packages (from markdown-it-py>=2.2.0->rich->rl_zoo3) (0.1.2)\n",
            "Requirement already satisfied: chardet<6,>=3.0.4 in /usr/local/lib/python3.10/dist-packages (from mbstrdecoder<2,>=1.0.0->pytablewriter~=0.64->rl_zoo3) (4.0.0)\n",
            "Requirement already satisfied: greenlet!=0.4.17 in /usr/local/lib/python3.10/dist-packages (from sqlalchemy>=1.3.0->optuna->rl_zoo3) (2.0.2)\n",
            "Collecting gymnasium==0.28.1 (from stable-baselines3>=2.0.0->sb3-contrib>=2.0.0->rl_zoo3)\n",
            "  Downloading gymnasium-0.28.1-py3-none-any.whl (925 kB)\n",
            "\u001b[2K     \u001b[90m━━━━━━━━━━━━━━━━━━━━━━━━━━━━━━━━━━━━━━\u001b[0m \u001b[32m925.5/925.5 kB\u001b[0m \u001b[31m23.4 MB/s\u001b[0m eta \u001b[36m0:00:00\u001b[0m\n",
            "\u001b[?25hRequirement already satisfied: torch>=1.11 in /usr/local/lib/python3.10/dist-packages (from stable-baselines3>=2.0.0->sb3-contrib>=2.0.0->rl_zoo3) (2.0.1+cu118)\n",
            "Requirement already satisfied: pandas in /usr/local/lib/python3.10/dist-packages (from stable-baselines3>=2.0.0->sb3-contrib>=2.0.0->rl_zoo3) (1.5.3)\n",
            "Requirement already satisfied: matplotlib in /usr/local/lib/python3.10/dist-packages (from stable-baselines3>=2.0.0->sb3-contrib>=2.0.0->rl_zoo3) (3.7.1)\n",
            "Collecting jax-jumpy>=1.0.0 (from gymnasium==0.28.1->stable-baselines3>=2.0.0->sb3-contrib>=2.0.0->rl_zoo3)\n",
            "  Downloading jax_jumpy-1.0.0-py3-none-any.whl (20 kB)\n",
            "Requirement already satisfied: farama-notifications>=0.0.1 in /usr/local/lib/python3.10/dist-packages (from gymnasium==0.28.1->stable-baselines3>=2.0.0->sb3-contrib>=2.0.0->rl_zoo3) (0.0.4)\n",
            "Requirement already satisfied: python-dateutil<3.0.0,>=2.8.0 in /usr/local/lib/python3.10/dist-packages (from typepy[datetime]<2,>=1.2.0->pytablewriter~=0.64->rl_zoo3) (2.8.2)\n",
            "Requirement already satisfied: pytz>=2018.9 in /usr/local/lib/python3.10/dist-packages (from typepy[datetime]<2,>=1.2.0->pytablewriter~=0.64->rl_zoo3) (2023.3)\n",
            "Requirement already satisfied: six>=1.5 in /usr/local/lib/python3.10/dist-packages (from python-dateutil<3.0.0,>=2.8.0->typepy[datetime]<2,>=1.2.0->pytablewriter~=0.64->rl_zoo3) (1.16.0)\n",
            "Requirement already satisfied: sympy in /usr/local/lib/python3.10/dist-packages (from torch>=1.11->stable-baselines3>=2.0.0->sb3-contrib>=2.0.0->rl_zoo3) (1.12)\n",
            "Requirement already satisfied: networkx in /usr/local/lib/python3.10/dist-packages (from torch>=1.11->stable-baselines3>=2.0.0->sb3-contrib>=2.0.0->rl_zoo3) (3.1)\n",
            "Requirement already satisfied: jinja2 in /usr/local/lib/python3.10/dist-packages (from torch>=1.11->stable-baselines3>=2.0.0->sb3-contrib>=2.0.0->rl_zoo3) (3.1.2)\n",
            "Requirement already satisfied: triton==2.0.0 in /usr/local/lib/python3.10/dist-packages (from torch>=1.11->stable-baselines3>=2.0.0->sb3-contrib>=2.0.0->rl_zoo3) (2.0.0)\n",
            "Requirement already satisfied: cmake in /usr/local/lib/python3.10/dist-packages (from triton==2.0.0->torch>=1.11->stable-baselines3>=2.0.0->sb3-contrib>=2.0.0->rl_zoo3) (3.27.1)\n",
            "Requirement already satisfied: lit in /usr/local/lib/python3.10/dist-packages (from triton==2.0.0->torch>=1.11->stable-baselines3>=2.0.0->sb3-contrib>=2.0.0->rl_zoo3) (16.0.6)\n",
            "Requirement already satisfied: MarkupSafe>=0.9.2 in /usr/local/lib/python3.10/dist-packages (from Mako->alembic>=1.5.0->optuna->rl_zoo3) (2.1.3)\n",
            "Requirement already satisfied: contourpy>=1.0.1 in /usr/local/lib/python3.10/dist-packages (from matplotlib->stable-baselines3>=2.0.0->sb3-contrib>=2.0.0->rl_zoo3) (1.1.0)\n",
            "Requirement already satisfied: cycler>=0.10 in /usr/local/lib/python3.10/dist-packages (from matplotlib->stable-baselines3>=2.0.0->sb3-contrib>=2.0.0->rl_zoo3) (0.11.0)\n",
            "Requirement already satisfied: fonttools>=4.22.0 in /usr/local/lib/python3.10/dist-packages (from matplotlib->stable-baselines3>=2.0.0->sb3-contrib>=2.0.0->rl_zoo3) (4.42.0)\n",
            "Requirement already satisfied: kiwisolver>=1.0.1 in /usr/local/lib/python3.10/dist-packages (from matplotlib->stable-baselines3>=2.0.0->sb3-contrib>=2.0.0->rl_zoo3) (1.4.4)\n",
            "Requirement already satisfied: pillow>=6.2.0 in /usr/local/lib/python3.10/dist-packages (from matplotlib->stable-baselines3>=2.0.0->sb3-contrib>=2.0.0->rl_zoo3) (9.4.0)\n",
            "Requirement already satisfied: pyparsing>=2.3.1 in /usr/local/lib/python3.10/dist-packages (from matplotlib->stable-baselines3>=2.0.0->sb3-contrib>=2.0.0->rl_zoo3) (3.1.1)\n",
            "Requirement already satisfied: charset-normalizer<4,>=2 in /usr/local/lib/python3.10/dist-packages (from requests->huggingface-hub~=0.8->huggingface-sb3>=2.2.5->rl_zoo3) (3.2.0)\n",
            "Requirement already satisfied: idna<4,>=2.5 in /usr/local/lib/python3.10/dist-packages (from requests->huggingface-hub~=0.8->huggingface-sb3>=2.2.5->rl_zoo3) (3.4)\n",
            "Requirement already satisfied: urllib3<3,>=1.21.1 in /usr/local/lib/python3.10/dist-packages (from requests->huggingface-hub~=0.8->huggingface-sb3>=2.2.5->rl_zoo3) (2.0.4)\n",
            "Requirement already satisfied: certifi>=2017.4.17 in /usr/local/lib/python3.10/dist-packages (from requests->huggingface-hub~=0.8->huggingface-sb3>=2.2.5->rl_zoo3) (2023.7.22)\n",
            "Requirement already satisfied: mpmath>=0.19 in /usr/local/lib/python3.10/dist-packages (from sympy->torch>=1.11->stable-baselines3>=2.0.0->sb3-contrib>=2.0.0->rl_zoo3) (1.3.0)\n",
            "Building wheels for collected packages: gym\n",
            "  Building wheel for gym (pyproject.toml) ... \u001b[?25l\u001b[?25hdone\n",
            "  Created wheel for gym: filename=gym-0.26.2-py3-none-any.whl size=827622 sha256=b6d0cc0e6974c827913837c0db3c5dcbb8f612d49da6b6d390b6c1e000404466\n",
            "  Stored in directory: /root/.cache/pip/wheels/b9/22/6d/3e7b32d98451b4cd9d12417052affbeeeea012955d437da1da\n",
            "Successfully built gym\n",
            "Installing collected packages: tcolorpy, pathvalidate, mbstrdecoder, Mako, jax-jumpy, gym, colorlog, cmaes, typepy, huggingface-hub, gymnasium, alembic, optuna, huggingface-sb3, DataProperty, tabledata, pytablewriter, stable-baselines3, sb3-contrib, rl_zoo3\n",
            "  Attempting uninstall: gym\n",
            "    Found existing installation: gym 0.25.2\n",
            "    Uninstalling gym-0.25.2:\n",
            "      Successfully uninstalled gym-0.25.2\n",
            "  Attempting uninstall: gymnasium\n",
            "    Found existing installation: gymnasium 0.29.0\n",
            "    Uninstalling gymnasium-0.29.0:\n",
            "      Successfully uninstalled gymnasium-0.29.0\n",
            "\u001b[31mERROR: pip's dependency resolver does not currently take into account all the packages that are installed. This behaviour is the source of the following dependency conflicts.\n",
            "dopamine-rl 4.0.6 requires gym<=0.25.2, but you have gym 0.26.2 which is incompatible.\u001b[0m\u001b[31m\n",
            "\u001b[0mSuccessfully installed DataProperty-1.0.1 Mako-1.2.4 alembic-1.11.2 cmaes-0.10.0 colorlog-6.7.0 gym-0.26.2 gymnasium-0.28.1 huggingface-hub-0.16.4 huggingface-sb3-2.2.5 jax-jumpy-1.0.0 mbstrdecoder-1.1.3 optuna-3.3.0 pathvalidate-2.5.2 pytablewriter-0.64.2 rl_zoo3-2.0.0 sb3-contrib-2.0.0 stable-baselines3-2.0.0 tabledata-1.3.1 tcolorpy-0.1.3 typepy-1.3.1\n"
          ]
        }
      ],
      "source": [
        "!apt-get install swig cmake\n",
        "!pip install gymnasium[atari] >= 0.28.1\n",
        "!pip install gymnasium[accept-rom-license] >= 0.28.1\n",
        "!pip install rl_zoo3"
      ]
    },
    {
      "cell_type": "markdown",
      "metadata": {
        "id": "D2jg_lidWXBx"
      },
      "source": [
        "In this challenge, you will use PPO to train your RL agent to play [Pong](https://gymnasium.farama.org/environments/atari/pong/) !!"
      ]
    },
    {
      "cell_type": "markdown",
      "metadata": {
        "id": "X7M6QKwcXDSp"
      },
      "source": [
        "![Pong](https://gymnasium.farama.org/_images/pong.gif)"
      ]
    },
    {
      "cell_type": "markdown",
      "metadata": {},
      "source": [
        "**Question 6.1**\n",
        "\n",
        "Use rl zoo3 to train a *Pong-v5* agent using *ppo*.\n",
        "\n",
        "- Train it for 3000 steps"
      ]
    },
    {
      "cell_type": "code",
      "execution_count": null,
      "metadata": {},
      "outputs": [],
      "source": [
        "# TODO"
      ]
    },
    {
      "cell_type": "markdown",
      "metadata": {},
      "source": [
        "**Question 6.2**\n",
        "\n",
        "Use rl zoo3 to record a video of your agent playing the game for *300* iterations"
      ]
    },
    {
      "cell_type": "code",
      "execution_count": null,
      "metadata": {},
      "outputs": [],
      "source": [
        "# TODO"
      ]
    },
    {
      "cell_type": "code",
      "execution_count": 13,
      "metadata": {
        "id": "QayJeu9tvaQ8"
      },
      "outputs": [],
      "source": [
        "# Set up display; otherwise rendering will fail\n",
        "import os\n",
        "os.system(\"Xvfb :1 -screen 0 1024x768x24 &\")\n",
        "os.environ['DISPLAY'] = ':1'"
      ]
    },
    {
      "cell_type": "code",
      "execution_count": 5,
      "metadata": {
        "id": "Chxf0T48vjjL"
      },
      "outputs": [],
      "source": [
        "import base64\n",
        "from pathlib import Path\n",
        "\n",
        "from IPython import display as ipythondisplay\n",
        "\n",
        "\n",
        "def show_videos(video_path=\"\", prefix=\"\"):\n",
        "    \"\"\"\n",
        "    Taken from https://github.com/eleurent/highway-env\n",
        "\n",
        "    :param video_path: (str) Path to the folder containing videos\n",
        "    :param prefix: (str) Filter the video, showing only the only starting with this prefix\n",
        "    \"\"\"\n",
        "    html = []\n",
        "    for mp4 in Path(video_path).glob(\"{}*.mp4\".format(prefix)):\n",
        "        video_b64 = base64.b64encode(mp4.read_bytes())\n",
        "        html.append(\n",
        "            \"\"\"<video alt=\"{}\" autoplay\n",
        "                    loop controls style=\"height: 400px;\">\n",
        "                    <source src=\"data:video/mp4;base64,{}\" type=\"video/mp4\" />\n",
        "                </video>\"\"\".format(\n",
        "                mp4, video_b64.decode(\"ascii\")\n",
        "            )\n",
        "        )\n",
        "    ipythondisplay.display(ipythondisplay.HTML(data=\"<br>\".join(html)))"
      ]
    },
    {
      "cell_type": "code",
      "execution_count": 15,
      "metadata": {
        "colab": {
          "base_uri": "https://localhost:8080/",
          "height": 422
        },
        "id": "RcO-88revkm7",
        "outputId": "e99bcc86-33e7-4418-e93f-67aad793f77e"
      },
      "outputs": [
        {
          "data": {
            "text/html": [
              "<video alt=\"logs/videos/final-model-ppo-ALE-Pong-v5-step-0-to-step-300.mp4\" autoplay\n",
              "                    loop controls style=\"height: 400px;\">\n",
              "                    <source src=\"data:video/mp4;base64,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\" type=\"video/mp4\" />\n",
              "                </video>"
            ],
            "text/plain": [
              "<IPython.core.display.HTML object>"
            ]
          },
          "metadata": {},
          "output_type": "display_data"
        }
      ],
      "source": [
        "# Come watch your agent in actions !\n",
        "show_videos(video_path='logs/videos', prefix='')"
      ]
    },
    {
      "cell_type": "markdown",
      "metadata": {},
      "source": [
        "**Question 6.3**\n",
        "\n",
        "Understand and use the code [here](https://huggingface.co/ThomasSimonini/ppo-PongNoFrameskip-v4) to visualize the pre-trained agent\n",
        "\n",
        "- Hints\n",
        "    - Use the 1st code block from the huggingface website\n",
        "    - Use the visualization code with Matplotlib that we have used before\n",
        "    - Combine the two above together"
      ]
    },
    {
      "cell_type": "code",
      "execution_count": null,
      "metadata": {},
      "outputs": [],
      "source": [
        "# TODO"
      ]
    }
  ],
  "metadata": {
    "accelerator": "GPU",
    "colab": {
      "gpuType": "T4",
      "provenance": []
    },
    "kernelspec": {
      "display_name": "Python 3",
      "name": "python3"
    },
    "language_info": {
      "name": "python"
    }
  },
  "nbformat": 4,
  "nbformat_minor": 0
}
