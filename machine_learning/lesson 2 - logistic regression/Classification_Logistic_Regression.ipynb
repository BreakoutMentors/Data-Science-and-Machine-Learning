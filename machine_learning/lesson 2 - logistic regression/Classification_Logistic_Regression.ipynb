{
  "nbformat": 4,
  "nbformat_minor": 0,
  "metadata": {
    "colab": {
      "name": "Classification-Logistic_Regression.ipynb",
      "provenance": [],
      "authorship_tag": "ABX9TyPnVH4TSjXeJmeyQ9rM+mGQ",
      "include_colab_link": true
    },
    "kernelspec": {
      "name": "python3",
      "display_name": "Python 3"
    }
  },
  "cells": [
    {
      "cell_type": "markdown",
      "metadata": {
        "id": "view-in-github",
        "colab_type": "text"
      },
      "source": [
        "<a href=\"https://colab.research.google.com/github/krmiddlebrook/intro_to_graphing_in_python/blob/master/notebooks/machine_learning/lesson%202%20-%20logistic%20regression/Classification_Logistic_Regression.ipynb\" target=\"_parent\"><img src=\"https://colab.research.google.com/assets/colab-badge.svg\" alt=\"Open In Colab\"/></a>"
      ]
    },
    {
      "cell_type": "markdown",
      "metadata": {
        "id": "gIsgQYlKKVna",
        "colab_type": "text"
      },
      "source": [
        "# Classification: Logistic Regression\n",
        "In [lesson 1 - linear regression](https://github.com/krmiddlebrook/intro_to_graphing_in_python/tree/master/notebooks/machine_learning/lesson%201%20-%20linear%20regression), we learned about linear regression and how it can be used to construct a model to predict a numeric value (i.e., how powerful a Pokemon is given their x values/attributes). In this lesson, we will learn how to solve classification problems using logistic regression. Different from linear regression, logistic regression is a classification algorithm used to assign observations to a discrete set of classes. Some examples of classification problems are email spam or not spam, legendary Pokemon or not, tumor malignant (harmful) or benign (not harmful). We can use logistic regression to transform input data into a probability value to predict the class the data belongs to.\n",
        "\n",
        "![Linear vs. Logistic Regression | Source: Datacamp](https://miro.medium.com/max/1400/1*dm6ZaX5fuSmuVvM4Ds-vcg.jpeg)\n",
        "\n",
        "In this notebook, we will learn logistic regression by build a logistic regression model to predict whether an app on the Google Play Store is free or not. The rest of this notebook is organized as follows:\n",
        "1. Introduction to logistic regression\n",
        "2. Load the [Google Play Store dataset](https://www.kaggle.com/lava18/google-play-store-apps)\n",
        "3. Explore the dataset and prepare data for our model\n",
        "4. Build a logistic regression model\n",
        "5. Measure the quality of the model\n",
        "6. Draw conclusions\n",
        "\n"
      ]
    },
    {
      "cell_type": "markdown",
      "metadata": {
        "id": "vGvK59PbdliB",
        "colab_type": "text"
      },
      "source": [
        "## Introduction to logistic regression\n",
        "\n",
        "Logistic regression is a popular classification algorithm in machine learning. In short, logistic regression uses the *sigmoid activation function* (see figure below) to map the input data to a probability value between 0 and 1. In general, the probability threshold is 0.5. For example, if we were predicting whether a pokemon was legendary or not, and the output of the sigmoid function was 0.7 based on the input values of a specific Pokemon, then we would classify that Pokemon as legendary. However, the probability threshold may be lower or higher than 0.5 depending on the task. Below is the graph of a sigmoid function with the equation of the function on top. \n",
        "\n",
        "![sigmoid activation function](https://miro.medium.com/max/1280/1*OUOB_YF41M-O4GgZH_F2rw.png)\n",
        "\n",
        "When we were doing linear regression, the formula was $y=ax+b$. The formula for logistic regression is very similar: $$\n",
        "y = \\sigma(ax+b)\n",
        "$$ where $\\sigma$ represents the sigmoid activation function. The only difference between the formula for logistic regression is that the sigmoid activation function is wrapped around the $ax+b$ terms. Don't worry to much if this doesn't make too much sense yet, it might help to see logistic regression in action."
      ]
    },
    {
      "cell_type": "markdown",
      "metadata": {
        "id": "d1yKY66dhryV",
        "colab_type": "text"
      },
      "source": [
        "## Load the Google Play Store dataset"
      ]
    },
    {
      "cell_type": "code",
      "metadata": {
        "id": "iuWvMOdXKUuh",
        "colab_type": "code",
        "colab": {
          "base_uri": "https://localhost:8080/",
          "height": 204
        },
        "outputId": "cfa11e03-dded-45d8-ab81-818b98ed977e"
      },
      "source": [
        "import pandas as pd\n",
        "import numpy as np\n",
        "\n",
        "data_url = 'https://raw.githubusercontent.com/krmiddlebrook/intro_to_graphing_in_python/master/datasets/googleplaystore.csv'\n",
        "apps_data = pd.read_csv(data_url)\n",
        "apps_data.head()"
      ],
      "execution_count": 87,
      "outputs": [
        {
          "output_type": "execute_result",
          "data": {
            "text/html": [
              "<div>\n",
              "<style scoped>\n",
              "    .dataframe tbody tr th:only-of-type {\n",
              "        vertical-align: middle;\n",
              "    }\n",
              "\n",
              "    .dataframe tbody tr th {\n",
              "        vertical-align: top;\n",
              "    }\n",
              "\n",
              "    .dataframe thead th {\n",
              "        text-align: right;\n",
              "    }\n",
              "</style>\n",
              "<table border=\"1\" class=\"dataframe\">\n",
              "  <thead>\n",
              "    <tr style=\"text-align: right;\">\n",
              "      <th></th>\n",
              "      <th>App</th>\n",
              "      <th>Category</th>\n",
              "      <th>Rating</th>\n",
              "      <th>Reviews</th>\n",
              "      <th>Size</th>\n",
              "      <th>Installs</th>\n",
              "      <th>Type</th>\n",
              "      <th>Price</th>\n",
              "      <th>Content Rating</th>\n",
              "      <th>Genres</th>\n",
              "      <th>Last Updated</th>\n",
              "      <th>Current Ver</th>\n",
              "      <th>Android Ver</th>\n",
              "    </tr>\n",
              "  </thead>\n",
              "  <tbody>\n",
              "    <tr>\n",
              "      <th>0</th>\n",
              "      <td>Photo Editor &amp; Candy Camera &amp; Grid &amp; ScrapBook</td>\n",
              "      <td>ART_AND_DESIGN</td>\n",
              "      <td>4.1</td>\n",
              "      <td>159</td>\n",
              "      <td>19M</td>\n",
              "      <td>10,000+</td>\n",
              "      <td>Free</td>\n",
              "      <td>0</td>\n",
              "      <td>Everyone</td>\n",
              "      <td>Art &amp; Design</td>\n",
              "      <td>January 7, 2018</td>\n",
              "      <td>1.0.0</td>\n",
              "      <td>4.0.3 and up</td>\n",
              "    </tr>\n",
              "    <tr>\n",
              "      <th>1</th>\n",
              "      <td>Coloring book moana</td>\n",
              "      <td>ART_AND_DESIGN</td>\n",
              "      <td>3.9</td>\n",
              "      <td>967</td>\n",
              "      <td>14M</td>\n",
              "      <td>500,000+</td>\n",
              "      <td>Free</td>\n",
              "      <td>0</td>\n",
              "      <td>Everyone</td>\n",
              "      <td>Art &amp; Design;Pretend Play</td>\n",
              "      <td>January 15, 2018</td>\n",
              "      <td>2.0.0</td>\n",
              "      <td>4.0.3 and up</td>\n",
              "    </tr>\n",
              "    <tr>\n",
              "      <th>2</th>\n",
              "      <td>U Launcher Lite – FREE Live Cool Themes, Hide ...</td>\n",
              "      <td>ART_AND_DESIGN</td>\n",
              "      <td>4.7</td>\n",
              "      <td>87510</td>\n",
              "      <td>8.7M</td>\n",
              "      <td>5,000,000+</td>\n",
              "      <td>Free</td>\n",
              "      <td>0</td>\n",
              "      <td>Everyone</td>\n",
              "      <td>Art &amp; Design</td>\n",
              "      <td>August 1, 2018</td>\n",
              "      <td>1.2.4</td>\n",
              "      <td>4.0.3 and up</td>\n",
              "    </tr>\n",
              "    <tr>\n",
              "      <th>3</th>\n",
              "      <td>Sketch - Draw &amp; Paint</td>\n",
              "      <td>ART_AND_DESIGN</td>\n",
              "      <td>4.5</td>\n",
              "      <td>215644</td>\n",
              "      <td>25M</td>\n",
              "      <td>50,000,000+</td>\n",
              "      <td>Free</td>\n",
              "      <td>0</td>\n",
              "      <td>Teen</td>\n",
              "      <td>Art &amp; Design</td>\n",
              "      <td>June 8, 2018</td>\n",
              "      <td>Varies with device</td>\n",
              "      <td>4.2 and up</td>\n",
              "    </tr>\n",
              "    <tr>\n",
              "      <th>4</th>\n",
              "      <td>Pixel Draw - Number Art Coloring Book</td>\n",
              "      <td>ART_AND_DESIGN</td>\n",
              "      <td>4.3</td>\n",
              "      <td>967</td>\n",
              "      <td>2.8M</td>\n",
              "      <td>100,000+</td>\n",
              "      <td>Free</td>\n",
              "      <td>0</td>\n",
              "      <td>Everyone</td>\n",
              "      <td>Art &amp; Design;Creativity</td>\n",
              "      <td>June 20, 2018</td>\n",
              "      <td>1.1</td>\n",
              "      <td>4.4 and up</td>\n",
              "    </tr>\n",
              "  </tbody>\n",
              "</table>\n",
              "</div>"
            ],
            "text/plain": [
              "                                                 App  ...   Android Ver\n",
              "0     Photo Editor & Candy Camera & Grid & ScrapBook  ...  4.0.3 and up\n",
              "1                                Coloring book moana  ...  4.0.3 and up\n",
              "2  U Launcher Lite – FREE Live Cool Themes, Hide ...  ...  4.0.3 and up\n",
              "3                              Sketch - Draw & Paint  ...    4.2 and up\n",
              "4              Pixel Draw - Number Art Coloring Book  ...    4.4 and up\n",
              "\n",
              "[5 rows x 13 columns]"
            ]
          },
          "metadata": {
            "tags": []
          },
          "execution_count": 87
        }
      ]
    },
    {
      "cell_type": "markdown",
      "metadata": {
        "id": "1-p0Ri_eijre",
        "colab_type": "text"
      },
      "source": [
        "# Explore the dataset and prepare it for our model\n",
        "In this section we will focus on identifying the x variables/features that we will use in our logistic regression model to predict whether the app was free or not (i.e., the \"Type\" column). "
      ]
    },
    {
      "cell_type": "code",
      "metadata": {
        "id": "hWhDZORkja6p",
        "colab_type": "code",
        "colab": {
          "base_uri": "https://localhost:8080/",
          "height": 357
        },
        "outputId": "b4ae212b-f523-47cc-b905-a96dda37efe7"
      },
      "source": [
        "# check the column types and get basic info\n",
        "apps_data.info()"
      ],
      "execution_count": 88,
      "outputs": [
        {
          "output_type": "stream",
          "text": [
            "<class 'pandas.core.frame.DataFrame'>\n",
            "RangeIndex: 10841 entries, 0 to 10840\n",
            "Data columns (total 13 columns):\n",
            " #   Column          Non-Null Count  Dtype  \n",
            "---  ------          --------------  -----  \n",
            " 0   App             10841 non-null  object \n",
            " 1   Category        10841 non-null  object \n",
            " 2   Rating          9367 non-null   float64\n",
            " 3   Reviews         10841 non-null  object \n",
            " 4   Size            10841 non-null  object \n",
            " 5   Installs        10841 non-null  object \n",
            " 6   Type            10840 non-null  object \n",
            " 7   Price           10841 non-null  object \n",
            " 8   Content Rating  10840 non-null  object \n",
            " 9   Genres          10841 non-null  object \n",
            " 10  Last Updated    10841 non-null  object \n",
            " 11  Current Ver     10833 non-null  object \n",
            " 12  Android Ver     10838 non-null  object \n",
            "dtypes: float64(1), object(12)\n",
            "memory usage: 1.1+ MB\n"
          ],
          "name": "stdout"
        }
      ]
    },
    {
      "cell_type": "code",
      "metadata": {
        "id": "KCJXvoEZiEvb",
        "colab_type": "code",
        "colab": {
          "base_uri": "https://localhost:8080/",
          "height": 204
        },
        "outputId": "c051b8e5-6db2-4919-ce8d-de7484a20051"
      },
      "source": [
        "# convert the Size column to an integer type using these provided functions\n",
        "\n",
        "#scaling and cleaning \"Size\" (of app) column\n",
        "def change_size(size):\n",
        "    if 'M' in size:\n",
        "        x = size[:-1]\n",
        "        x = float(x)*1000000\n",
        "        return(x)\n",
        "    elif 'k' == size[-1:]:\n",
        "        x = size[:-1]\n",
        "        x = float(x)*1000\n",
        "        return(x)\n",
        "    else:\n",
        "        return None\n",
        "\n",
        "apps_data[\"Size\"] = apps_data[\"Size\"].map(change_size)\n",
        "\n",
        "#filling Size which had NA\n",
        "apps_data.Size.fillna(method = 'ffill', inplace = True)\n",
        "apps_data.head()"
      ],
      "execution_count": 89,
      "outputs": [
        {
          "output_type": "execute_result",
          "data": {
            "text/html": [
              "<div>\n",
              "<style scoped>\n",
              "    .dataframe tbody tr th:only-of-type {\n",
              "        vertical-align: middle;\n",
              "    }\n",
              "\n",
              "    .dataframe tbody tr th {\n",
              "        vertical-align: top;\n",
              "    }\n",
              "\n",
              "    .dataframe thead th {\n",
              "        text-align: right;\n",
              "    }\n",
              "</style>\n",
              "<table border=\"1\" class=\"dataframe\">\n",
              "  <thead>\n",
              "    <tr style=\"text-align: right;\">\n",
              "      <th></th>\n",
              "      <th>App</th>\n",
              "      <th>Category</th>\n",
              "      <th>Rating</th>\n",
              "      <th>Reviews</th>\n",
              "      <th>Size</th>\n",
              "      <th>Installs</th>\n",
              "      <th>Type</th>\n",
              "      <th>Price</th>\n",
              "      <th>Content Rating</th>\n",
              "      <th>Genres</th>\n",
              "      <th>Last Updated</th>\n",
              "      <th>Current Ver</th>\n",
              "      <th>Android Ver</th>\n",
              "    </tr>\n",
              "  </thead>\n",
              "  <tbody>\n",
              "    <tr>\n",
              "      <th>0</th>\n",
              "      <td>Photo Editor &amp; Candy Camera &amp; Grid &amp; ScrapBook</td>\n",
              "      <td>ART_AND_DESIGN</td>\n",
              "      <td>4.1</td>\n",
              "      <td>159</td>\n",
              "      <td>19000000.0</td>\n",
              "      <td>10,000+</td>\n",
              "      <td>Free</td>\n",
              "      <td>0</td>\n",
              "      <td>Everyone</td>\n",
              "      <td>Art &amp; Design</td>\n",
              "      <td>January 7, 2018</td>\n",
              "      <td>1.0.0</td>\n",
              "      <td>4.0.3 and up</td>\n",
              "    </tr>\n",
              "    <tr>\n",
              "      <th>1</th>\n",
              "      <td>Coloring book moana</td>\n",
              "      <td>ART_AND_DESIGN</td>\n",
              "      <td>3.9</td>\n",
              "      <td>967</td>\n",
              "      <td>14000000.0</td>\n",
              "      <td>500,000+</td>\n",
              "      <td>Free</td>\n",
              "      <td>0</td>\n",
              "      <td>Everyone</td>\n",
              "      <td>Art &amp; Design;Pretend Play</td>\n",
              "      <td>January 15, 2018</td>\n",
              "      <td>2.0.0</td>\n",
              "      <td>4.0.3 and up</td>\n",
              "    </tr>\n",
              "    <tr>\n",
              "      <th>2</th>\n",
              "      <td>U Launcher Lite – FREE Live Cool Themes, Hide ...</td>\n",
              "      <td>ART_AND_DESIGN</td>\n",
              "      <td>4.7</td>\n",
              "      <td>87510</td>\n",
              "      <td>8700000.0</td>\n",
              "      <td>5,000,000+</td>\n",
              "      <td>Free</td>\n",
              "      <td>0</td>\n",
              "      <td>Everyone</td>\n",
              "      <td>Art &amp; Design</td>\n",
              "      <td>August 1, 2018</td>\n",
              "      <td>1.2.4</td>\n",
              "      <td>4.0.3 and up</td>\n",
              "    </tr>\n",
              "    <tr>\n",
              "      <th>3</th>\n",
              "      <td>Sketch - Draw &amp; Paint</td>\n",
              "      <td>ART_AND_DESIGN</td>\n",
              "      <td>4.5</td>\n",
              "      <td>215644</td>\n",
              "      <td>25000000.0</td>\n",
              "      <td>50,000,000+</td>\n",
              "      <td>Free</td>\n",
              "      <td>0</td>\n",
              "      <td>Teen</td>\n",
              "      <td>Art &amp; Design</td>\n",
              "      <td>June 8, 2018</td>\n",
              "      <td>Varies with device</td>\n",
              "      <td>4.2 and up</td>\n",
              "    </tr>\n",
              "    <tr>\n",
              "      <th>4</th>\n",
              "      <td>Pixel Draw - Number Art Coloring Book</td>\n",
              "      <td>ART_AND_DESIGN</td>\n",
              "      <td>4.3</td>\n",
              "      <td>967</td>\n",
              "      <td>2800000.0</td>\n",
              "      <td>100,000+</td>\n",
              "      <td>Free</td>\n",
              "      <td>0</td>\n",
              "      <td>Everyone</td>\n",
              "      <td>Art &amp; Design;Creativity</td>\n",
              "      <td>June 20, 2018</td>\n",
              "      <td>1.1</td>\n",
              "      <td>4.4 and up</td>\n",
              "    </tr>\n",
              "  </tbody>\n",
              "</table>\n",
              "</div>"
            ],
            "text/plain": [
              "                                                 App  ...   Android Ver\n",
              "0     Photo Editor & Candy Camera & Grid & ScrapBook  ...  4.0.3 and up\n",
              "1                                Coloring book moana  ...  4.0.3 and up\n",
              "2  U Launcher Lite – FREE Live Cool Themes, Hide ...  ...  4.0.3 and up\n",
              "3                              Sketch - Draw & Paint  ...    4.2 and up\n",
              "4              Pixel Draw - Number Art Coloring Book  ...    4.4 and up\n",
              "\n",
              "[5 rows x 13 columns]"
            ]
          },
          "metadata": {
            "tags": []
          },
          "execution_count": 89
        }
      ]
    },
    {
      "cell_type": "code",
      "metadata": {
        "id": "HrLlPm9RkAv8",
        "colab_type": "code",
        "colab": {
          "base_uri": "https://localhost:8080/",
          "height": 204
        },
        "outputId": "22046a5f-3293-4569-b969-c85ecaa95713"
      },
      "source": [
        "# clean and convert the \"Installs\" column to int\n",
        "apps_data['Installs'] = apps_data['Installs'].str.replace(',', '')\n",
        "apps_data['Installs'] = apps_data['Installs'].str.replace('+', '')\n",
        "\n",
        "# remove mislabeled row\n",
        "apps_data = apps_data.loc[~apps_data['Installs'].str.contains('\\D+'), :].reset_index(drop=True)\n",
        "\n",
        "apps_data['Installs'] = apps_data['Installs'].astype(int)\n",
        "\n",
        "# clean and convert the \"Reviews\" column to int\n",
        "# fix mislabeled row in the \"Reviews\" column\n",
        "# apps_data.loc[apps_data.Reviews.str.contains('M'), 'Reviews'] = int(apps_data.loc[apps_data.Reviews.str.contains('M'), 'Reviews'].values.tolist()[0][:-1])*1000000\n",
        "apps_data['Reviews'] = apps_data['Reviews'].astype('int')\n",
        "\n",
        "# remove price column so we don't cheat\n",
        "apps_data = apps_data.drop(columns=['Price'])\n",
        "\n",
        "# remove columns we won't be using in our analysis\n",
        "apps_data.head()\n"
      ],
      "execution_count": 90,
      "outputs": [
        {
          "output_type": "execute_result",
          "data": {
            "text/html": [
              "<div>\n",
              "<style scoped>\n",
              "    .dataframe tbody tr th:only-of-type {\n",
              "        vertical-align: middle;\n",
              "    }\n",
              "\n",
              "    .dataframe tbody tr th {\n",
              "        vertical-align: top;\n",
              "    }\n",
              "\n",
              "    .dataframe thead th {\n",
              "        text-align: right;\n",
              "    }\n",
              "</style>\n",
              "<table border=\"1\" class=\"dataframe\">\n",
              "  <thead>\n",
              "    <tr style=\"text-align: right;\">\n",
              "      <th></th>\n",
              "      <th>App</th>\n",
              "      <th>Category</th>\n",
              "      <th>Rating</th>\n",
              "      <th>Reviews</th>\n",
              "      <th>Size</th>\n",
              "      <th>Installs</th>\n",
              "      <th>Type</th>\n",
              "      <th>Content Rating</th>\n",
              "      <th>Genres</th>\n",
              "      <th>Last Updated</th>\n",
              "      <th>Current Ver</th>\n",
              "      <th>Android Ver</th>\n",
              "    </tr>\n",
              "  </thead>\n",
              "  <tbody>\n",
              "    <tr>\n",
              "      <th>0</th>\n",
              "      <td>Photo Editor &amp; Candy Camera &amp; Grid &amp; ScrapBook</td>\n",
              "      <td>ART_AND_DESIGN</td>\n",
              "      <td>4.1</td>\n",
              "      <td>159</td>\n",
              "      <td>19000000.0</td>\n",
              "      <td>10000</td>\n",
              "      <td>Free</td>\n",
              "      <td>Everyone</td>\n",
              "      <td>Art &amp; Design</td>\n",
              "      <td>January 7, 2018</td>\n",
              "      <td>1.0.0</td>\n",
              "      <td>4.0.3 and up</td>\n",
              "    </tr>\n",
              "    <tr>\n",
              "      <th>1</th>\n",
              "      <td>Coloring book moana</td>\n",
              "      <td>ART_AND_DESIGN</td>\n",
              "      <td>3.9</td>\n",
              "      <td>967</td>\n",
              "      <td>14000000.0</td>\n",
              "      <td>500000</td>\n",
              "      <td>Free</td>\n",
              "      <td>Everyone</td>\n",
              "      <td>Art &amp; Design;Pretend Play</td>\n",
              "      <td>January 15, 2018</td>\n",
              "      <td>2.0.0</td>\n",
              "      <td>4.0.3 and up</td>\n",
              "    </tr>\n",
              "    <tr>\n",
              "      <th>2</th>\n",
              "      <td>U Launcher Lite – FREE Live Cool Themes, Hide ...</td>\n",
              "      <td>ART_AND_DESIGN</td>\n",
              "      <td>4.7</td>\n",
              "      <td>87510</td>\n",
              "      <td>8700000.0</td>\n",
              "      <td>5000000</td>\n",
              "      <td>Free</td>\n",
              "      <td>Everyone</td>\n",
              "      <td>Art &amp; Design</td>\n",
              "      <td>August 1, 2018</td>\n",
              "      <td>1.2.4</td>\n",
              "      <td>4.0.3 and up</td>\n",
              "    </tr>\n",
              "    <tr>\n",
              "      <th>3</th>\n",
              "      <td>Sketch - Draw &amp; Paint</td>\n",
              "      <td>ART_AND_DESIGN</td>\n",
              "      <td>4.5</td>\n",
              "      <td>215644</td>\n",
              "      <td>25000000.0</td>\n",
              "      <td>50000000</td>\n",
              "      <td>Free</td>\n",
              "      <td>Teen</td>\n",
              "      <td>Art &amp; Design</td>\n",
              "      <td>June 8, 2018</td>\n",
              "      <td>Varies with device</td>\n",
              "      <td>4.2 and up</td>\n",
              "    </tr>\n",
              "    <tr>\n",
              "      <th>4</th>\n",
              "      <td>Pixel Draw - Number Art Coloring Book</td>\n",
              "      <td>ART_AND_DESIGN</td>\n",
              "      <td>4.3</td>\n",
              "      <td>967</td>\n",
              "      <td>2800000.0</td>\n",
              "      <td>100000</td>\n",
              "      <td>Free</td>\n",
              "      <td>Everyone</td>\n",
              "      <td>Art &amp; Design;Creativity</td>\n",
              "      <td>June 20, 2018</td>\n",
              "      <td>1.1</td>\n",
              "      <td>4.4 and up</td>\n",
              "    </tr>\n",
              "  </tbody>\n",
              "</table>\n",
              "</div>"
            ],
            "text/plain": [
              "                                                 App  ...   Android Ver\n",
              "0     Photo Editor & Candy Camera & Grid & ScrapBook  ...  4.0.3 and up\n",
              "1                                Coloring book moana  ...  4.0.3 and up\n",
              "2  U Launcher Lite – FREE Live Cool Themes, Hide ...  ...  4.0.3 and up\n",
              "3                              Sketch - Draw & Paint  ...    4.2 and up\n",
              "4              Pixel Draw - Number Art Coloring Book  ...    4.4 and up\n",
              "\n",
              "[5 rows x 12 columns]"
            ]
          },
          "metadata": {
            "tags": []
          },
          "execution_count": 90
        }
      ]
    },
    {
      "cell_type": "code",
      "metadata": {
        "id": "EdNDB30dlqlL",
        "colab_type": "code",
        "colab": {
          "base_uri": "https://localhost:8080/",
          "height": 340
        },
        "outputId": "229eada7-47f0-4ef5-b579-6cdcbfa89a81"
      },
      "source": [
        "apps_data.info()"
      ],
      "execution_count": 91,
      "outputs": [
        {
          "output_type": "stream",
          "text": [
            "<class 'pandas.core.frame.DataFrame'>\n",
            "RangeIndex: 10840 entries, 0 to 10839\n",
            "Data columns (total 12 columns):\n",
            " #   Column          Non-Null Count  Dtype  \n",
            "---  ------          --------------  -----  \n",
            " 0   App             10840 non-null  object \n",
            " 1   Category        10840 non-null  object \n",
            " 2   Rating          9366 non-null   float64\n",
            " 3   Reviews         10840 non-null  int64  \n",
            " 4   Size            10840 non-null  float64\n",
            " 5   Installs        10840 non-null  int64  \n",
            " 6   Type            10839 non-null  object \n",
            " 7   Content Rating  10840 non-null  object \n",
            " 8   Genres          10840 non-null  object \n",
            " 9   Last Updated    10840 non-null  object \n",
            " 10  Current Ver     10832 non-null  object \n",
            " 11  Android Ver     10838 non-null  object \n",
            "dtypes: float64(2), int64(2), object(8)\n",
            "memory usage: 1016.4+ KB\n"
          ],
          "name": "stdout"
        }
      ]
    },
    {
      "cell_type": "code",
      "metadata": {
        "id": "s6ixPQT-kUA3",
        "colab_type": "code",
        "colab": {
          "base_uri": "https://localhost:8080/",
          "height": 935
        },
        "outputId": "0edf8f1b-366c-464a-e13b-217aa823c158"
      },
      "source": [
        "# converting non-numeric columns to numeric columns using \"one-hot encoding\"\n",
        "catgry=pd.get_dummies(apps_data['Category'],prefix='catg',drop_first=True)\n",
        "cr=pd.get_dummies(apps_data['Content Rating'],prefix='cr',drop_first=True)\n",
        "frames=[apps_data,catgry,cr]\n",
        "apps_data=pd.concat(frames,axis=1)\n",
        "apps_data = apps_data.drop(['Category', 'Content Rating'], axis=1)\n",
        "apps_data.info()"
      ],
      "execution_count": 92,
      "outputs": [
        {
          "output_type": "stream",
          "text": [
            "<class 'pandas.core.frame.DataFrame'>\n",
            "RangeIndex: 10840 entries, 0 to 10839\n",
            "Data columns (total 47 columns):\n",
            " #   Column                    Non-Null Count  Dtype  \n",
            "---  ------                    --------------  -----  \n",
            " 0   App                       10840 non-null  object \n",
            " 1   Rating                    9366 non-null   float64\n",
            " 2   Reviews                   10840 non-null  int64  \n",
            " 3   Size                      10840 non-null  float64\n",
            " 4   Installs                  10840 non-null  int64  \n",
            " 5   Type                      10839 non-null  object \n",
            " 6   Genres                    10840 non-null  object \n",
            " 7   Last Updated              10840 non-null  object \n",
            " 8   Current Ver               10832 non-null  object \n",
            " 9   Android Ver               10838 non-null  object \n",
            " 10  catg_AUTO_AND_VEHICLES    10840 non-null  uint8  \n",
            " 11  catg_BEAUTY               10840 non-null  uint8  \n",
            " 12  catg_BOOKS_AND_REFERENCE  10840 non-null  uint8  \n",
            " 13  catg_BUSINESS             10840 non-null  uint8  \n",
            " 14  catg_COMICS               10840 non-null  uint8  \n",
            " 15  catg_COMMUNICATION        10840 non-null  uint8  \n",
            " 16  catg_DATING               10840 non-null  uint8  \n",
            " 17  catg_EDUCATION            10840 non-null  uint8  \n",
            " 18  catg_ENTERTAINMENT        10840 non-null  uint8  \n",
            " 19  catg_EVENTS               10840 non-null  uint8  \n",
            " 20  catg_FAMILY               10840 non-null  uint8  \n",
            " 21  catg_FINANCE              10840 non-null  uint8  \n",
            " 22  catg_FOOD_AND_DRINK       10840 non-null  uint8  \n",
            " 23  catg_GAME                 10840 non-null  uint8  \n",
            " 24  catg_HEALTH_AND_FITNESS   10840 non-null  uint8  \n",
            " 25  catg_HOUSE_AND_HOME       10840 non-null  uint8  \n",
            " 26  catg_LIBRARIES_AND_DEMO   10840 non-null  uint8  \n",
            " 27  catg_LIFESTYLE            10840 non-null  uint8  \n",
            " 28  catg_MAPS_AND_NAVIGATION  10840 non-null  uint8  \n",
            " 29  catg_MEDICAL              10840 non-null  uint8  \n",
            " 30  catg_NEWS_AND_MAGAZINES   10840 non-null  uint8  \n",
            " 31  catg_PARENTING            10840 non-null  uint8  \n",
            " 32  catg_PERSONALIZATION      10840 non-null  uint8  \n",
            " 33  catg_PHOTOGRAPHY          10840 non-null  uint8  \n",
            " 34  catg_PRODUCTIVITY         10840 non-null  uint8  \n",
            " 35  catg_SHOPPING             10840 non-null  uint8  \n",
            " 36  catg_SOCIAL               10840 non-null  uint8  \n",
            " 37  catg_SPORTS               10840 non-null  uint8  \n",
            " 38  catg_TOOLS                10840 non-null  uint8  \n",
            " 39  catg_TRAVEL_AND_LOCAL     10840 non-null  uint8  \n",
            " 40  catg_VIDEO_PLAYERS        10840 non-null  uint8  \n",
            " 41  catg_WEATHER              10840 non-null  uint8  \n",
            " 42  cr_Everyone               10840 non-null  uint8  \n",
            " 43  cr_Everyone 10+           10840 non-null  uint8  \n",
            " 44  cr_Mature 17+             10840 non-null  uint8  \n",
            " 45  cr_Teen                   10840 non-null  uint8  \n",
            " 46  cr_Unrated                10840 non-null  uint8  \n",
            "dtypes: float64(2), int64(2), object(6), uint8(37)\n",
            "memory usage: 1.2+ MB\n"
          ],
          "name": "stdout"
        }
      ]
    },
    {
      "cell_type": "code",
      "metadata": {
        "id": "MCwfUDimoc3_",
        "colab_type": "code",
        "colab": {
          "base_uri": "https://localhost:8080/",
          "height": 51
        },
        "outputId": "7be6d2a9-3b5a-4aef-f52d-c12219e63406"
      },
      "source": [
        "# select the x and y variables for the model\n",
        "X = apps_data.drop(['App', 'Genres', 'Last Updated', 'Current Ver', 'Android Ver'], axis=1)\n",
        "\n",
        "# drop rows with missing values\n",
        "X = X.dropna()\n",
        "\n",
        "# convert \"Type\" column to int before creating y variable\n",
        "def convert_type_to_int(type):\n",
        "  if type == 'Free':\n",
        "    return 0\n",
        "  else:\n",
        "    return 1\n",
        "\n",
        "X['Type'] = X['Type'].map(convert_type_to_int)\n",
        "y = X['Type'].values\n",
        "\n",
        "# drop the Type column from the X variables\n",
        "X = X.drop(['Type'], axis=1)\n",
        "print('X shape', X.shape)\n",
        "print('y shape', y.shape)"
      ],
      "execution_count": 93,
      "outputs": [
        {
          "output_type": "stream",
          "text": [
            "X shape (9366, 41)\n",
            "y shape (9366,)\n"
          ],
          "name": "stdout"
        }
      ]
    },
    {
      "cell_type": "code",
      "metadata": {
        "id": "5OUdV3Tzv3lu",
        "colab_type": "code",
        "colab": {
          "base_uri": "https://localhost:8080/",
          "height": 34
        },
        "outputId": "98a364dd-f302-4779-cd1e-9f9f3e398edc"
      },
      "source": [
        "# split the dataset into a train and test set since we want to see how well it\n",
        "# performs on unseen data. Here we use 80% of the data for training\n",
        "from sklearn.model_selection import train_test_split\n",
        "\n",
        "X_train, X_test, y_train, y_test = train_test_split(X, y, test_size = 0.2, random_state=0)\n",
        "print('X_train shape', X_train.shape, 'X_test shape', X_test.shape)"
      ],
      "execution_count": 94,
      "outputs": [
        {
          "output_type": "stream",
          "text": [
            "X_train shape (7492, 41) X_test shape (1874, 41)\n"
          ],
          "name": "stdout"
        }
      ]
    },
    {
      "cell_type": "code",
      "metadata": {
        "id": "Ic4-QSbL5u94",
        "colab_type": "code",
        "colab": {
          "base_uri": "https://localhost:8080/",
          "height": 34
        },
        "outputId": "d19fb908-599a-4cc8-b17e-4e1d63f91498"
      },
      "source": [
        "# if you run into an error, run the train test split again and make sure the training data\n",
        "# has two unique values: 0 and 1 \n",
        "np.unique(y_train)"
      ],
      "execution_count": 95,
      "outputs": [
        {
          "output_type": "execute_result",
          "data": {
            "text/plain": [
              "array([0, 1])"
            ]
          },
          "metadata": {
            "tags": []
          },
          "execution_count": 95
        }
      ]
    },
    {
      "cell_type": "markdown",
      "metadata": {
        "id": "FWuWW0tcvV7_",
        "colab_type": "text"
      },
      "source": [
        "## Build a logistic regression model"
      ]
    },
    {
      "cell_type": "code",
      "metadata": {
        "id": "SfrvTQLxuq2i",
        "colab_type": "code",
        "colab": {
          "base_uri": "https://localhost:8080/",
          "height": 102
        },
        "outputId": "c831671c-a0a5-4311-9bd5-e456f4689ea8"
      },
      "source": [
        "from sklearn.linear_model import LogisticRegression\n",
        "\n",
        "# initialize the model\n",
        "model = LogisticRegression(random_state=0)\n",
        "\n",
        "# train/fit the model using the training data\n",
        "model.fit(X_train, y_train)\n"
      ],
      "execution_count": 96,
      "outputs": [
        {
          "output_type": "execute_result",
          "data": {
            "text/plain": [
              "LogisticRegression(C=1.0, class_weight=None, dual=False, fit_intercept=True,\n",
              "                   intercept_scaling=1, l1_ratio=None, max_iter=100,\n",
              "                   multi_class='auto', n_jobs=None, penalty='l2',\n",
              "                   random_state=0, solver='lbfgs', tol=0.0001, verbose=0,\n",
              "                   warm_start=False)"
            ]
          },
          "metadata": {
            "tags": []
          },
          "execution_count": 96
        }
      ]
    },
    {
      "cell_type": "markdown",
      "metadata": {
        "id": "OLaR0snI4pMN",
        "colab_type": "text"
      },
      "source": [
        "## Measure the quality of the model"
      ]
    },
    {
      "cell_type": "code",
      "metadata": {
        "id": "vvVOTVWK4tzu",
        "colab_type": "code",
        "colab": {
          "base_uri": "https://localhost:8080/",
          "height": 34
        },
        "outputId": "8d811627-8bed-4f4f-ceb2-b46faa20d04a"
      },
      "source": [
        "from sklearn import metrics\n",
        "\n",
        "# make predictions on the test data\n",
        "preds = model.predict(X_test)\n",
        "\n",
        "# measure the accuracy\n",
        "model_acc = metrics.accuracy_score(y_test, preds)\n",
        "print(f'logistic regression model accuracy: {round(model_acc*100, 2)}%')"
      ],
      "execution_count": 113,
      "outputs": [
        {
          "output_type": "stream",
          "text": [
            "logistic regression model accuracy: 93.12%\n"
          ],
          "name": "stdout"
        }
      ]
    },
    {
      "cell_type": "markdown",
      "metadata": {
        "id": "i0nRHqm17ddH",
        "colab_type": "text"
      },
      "source": [
        "Wow! Our logistic regression model fit the Google Play Store data pretty well, correctly predicting whether an app was free or not about 93.12% of the time. However, the distribution of free apps to non-free apps is not balanced, so we should check the confusion matrix to make sure the model wasn't just predicting every app as \"free\" since there are more of them than \"paid\" apps. A confusion matrix indicates the number of correct predictions and incorrect predictions for each class. It is particularly useful whenever the data has an imbalanced representation of the classes. The diagonals of a confusion matrix indicate the correct predictions for each class, while the cross-diagonal indicates misclassified predictions. Below is an example of a binary classification confusion matrix (i.e., there are only two classes)\n",
        "![confusion matrix](https://rasbt.github.io/mlxtend/user_guide/evaluate/confusion_matrix_files/confusion_matrix_1.png) "
      ]
    },
    {
      "cell_type": "code",
      "metadata": {
        "id": "gwkAnogn7b8F",
        "colab_type": "code",
        "colab": {
          "base_uri": "https://localhost:8080/",
          "height": 279
        },
        "outputId": "3abc4666-bf31-4297-8352-2804dd7cd267"
      },
      "source": [
        "import matplotlib.pyplot as plt\n",
        "%matplotlib inline\n",
        "\n",
        "labels = ['Free', 'Paid']\n",
        "metrics.plot_confusion_matrix(model, X_test, y_test, display_labels=labels, normalize=None) \n",
        "plt.show();"
      ],
      "execution_count": 114,
      "outputs": [
        {
          "output_type": "display_data",
          "data": {
            "image/png": "[encoded data removed]",
            "text/plain": [
              "<Figure size 432x288 with 2 Axes>"
            ]
          },
          "metadata": {
            "tags": [],
            "needs_background": "light"
          }
        }
      ]
    },
    {
      "cell_type": "markdown",
      "metadata": {
        "id": "_wyiFngz_4Pw",
        "colab_type": "text"
      },
      "source": [
        "Woah! Despite the high accuracy score of the model, it looks like the model is classifying every unseen app as a \"free\" app (wouldn't that be nice). Let's take a look at a more comprehensive set of evaluation metrics: accuracy, precision, and recall. Precision indicates the model's ability ability to return only relevant instances. While recall indicates the model's ability to identify all relevant instances; and depending on our data we may want a higher precision score or vice versa. But if this sounds confusing right now don't worry, these metrics will become more clear as you work through logistic regression challenges. If your curious, here is an in-depth discussion of these metrics: [Beyond Accuracy: Precision and Recall](https://towardsdatascience.com/beyond-accuracy-precision-and-recall-3da06bea9f6c). "
      ]
    },
    {
      "cell_type": "code",
      "metadata": {
        "id": "f6JPh9RVB_oX",
        "colab_type": "code",
        "colab": {
          "base_uri": "https://localhost:8080/",
          "height": 68
        },
        "outputId": "8c2ba49c-7e63-497d-c5e8-db353619c519"
      },
      "source": [
        "print(\"Accuracy:\", metrics.accuracy_score(y_test, preds))\n",
        "print(\"Precision:\", metrics.precision_score(y_test, preds, zero_division=True))\n",
        "print(\"Recall:\" ,metrics.recall_score(y_test, preds, zero_division=True))"
      ],
      "execution_count": 120,
      "outputs": [
        {
          "output_type": "stream",
          "text": [
            "Accuracy: 0.9311632870864461\n",
            "Precision: 1.0\n",
            "Recall: 0.0\n"
          ],
          "name": "stdout"
        }
      ]
    },
    {
      "cell_type": "markdown",
      "metadata": {
        "id": "HDoNhPh367sZ",
        "colab_type": "text"
      },
      "source": [
        "# Draw conclusions\n",
        "\n",
        "It looks like our logistic regression classification model fit the data pretty well because it correctly predicted whether an app was free or not about 93.12% of the time on the test dataset. However, since our dataset is heavily imbalanced (i.e., skewed), with many more \"free\" apps than \"paid\" apps, we checked the precision and recall scores of the model too. The precision score is a perfect 100%, meaning our model identifies \"free\" apps 100% of the time. On the other hand, the recall score was 0%, meaning our model is not good at identifying \"paid\" apps. "
      ]
    },
    {
      "cell_type": "code",
      "metadata": {
        "id": "_mITAGLVCRsa",
        "colab_type": "code",
        "colab": {}
      },
      "source": [
        ""
      ],
      "execution_count": 0,
      "outputs": []
    }
  ]
}