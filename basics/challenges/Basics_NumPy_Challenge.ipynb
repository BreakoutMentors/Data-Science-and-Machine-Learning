{
  "nbformat": 4,
  "nbformat_minor": 0,
  "metadata": {
    "colab": {
      "name": "Basics_NumPy_Challenge.ipynb",
      "provenance": [],
      "authorship_tag": "ABX9TyNngkEINbhEFOt1YBn95lzv",
      "include_colab_link": true
    },
    "kernelspec": {
      "name": "python3",
      "display_name": "Python 3"
    },
    "language_info": {
      "name": "python"
    }
  },
  "cells": [
    {
      "cell_type": "markdown",
      "metadata": {
        "id": "view-in-github",
        "colab_type": "text"
      },
      "source": [
        "<a href=\"https://colab.research.google.com/github/BreakoutMentors/Data-Science-and-Machine-Learning/blob/main/basics/challenges/Basics_NumPy_Challenge.ipynb\" target=\"_parent\"><img src=\"https://colab.research.google.com/assets/colab-badge.svg\" alt=\"Open In Colab\"/></a>"
      ]
    },
    {
      "cell_type": "markdown",
      "metadata": {
        "id": "sWXSfqS2bVKF"
      },
      "source": [
        "> Note: Always open in Colab for the best learning experience."
      ]
    },
    {
      "cell_type": "markdown",
      "metadata": {
        "id": "3BrF2tRD-3tu"
      },
      "source": [
        "# Numpy Challenge\n",
        "\n",
        "Here you will test the skills learned from the Numpy Basics lesson. Knowing Numpy can really make your ML learning journey a lot easier! It might be important to do this challenge with your mentor."
      ]
    },
    {
      "cell_type": "code",
      "metadata": {
        "id": "9zD80K2A-weJ"
      },
      "source": [
        "import numpy as np"
      ],
      "execution_count": null,
      "outputs": []
    },
    {
      "cell_type": "markdown",
      "metadata": {
        "id": "u1_-G9Ef_IPu"
      },
      "source": [
        "## Converting Lists and Tuples to Numpy Arrays\n",
        "\n",
        "Below, create a list with values [1, 2, 3] and a tuple with values (4, 5, 6).\n",
        "\n",
        "After creating those variables, convert those to arrays."
      ]
    },
    {
      "cell_type": "code",
      "metadata": {
        "id": "9k0dvdE9AC4K"
      },
      "source": [
        "list_a = # TODO\n",
        "tuple_b = # TODO\n",
        "\n",
        "# After initializing both variables above, convert to arrays below"
      ],
      "execution_count": null,
      "outputs": []
    },
    {
      "cell_type": "markdown",
      "metadata": {
        "id": "ys1p4VBZATJz"
      },
      "source": [
        "## View the shape of an array\n",
        "\n",
        "A matrix will be initialized with 2 rows and 3 columns. Print the shape of the matrix."
      ]
    },
    {
      "cell_type": "code",
      "metadata": {
        "id": "a530jVybDImW"
      },
      "source": [
        "matrix_a = np.array([[1, 2, 3],\n",
        "                     [4, 5, 6]])\n",
        "\n",
        "# TODO: print the shape of matrix_a"
      ],
      "execution_count": null,
      "outputs": []
    },
    {
      "cell_type": "markdown",
      "metadata": {
        "id": "3dNNp4_kDWTH"
      },
      "source": [
        "## Indexing Elements from arrays"
      ]
    },
    {
      "cell_type": "code",
      "metadata": {
        "id": "X5tsmA0aDymD"
      },
      "source": [
        "a = np.array([5, 2, 8, 1, 4])\n",
        "\n",
        "matrix_b = np.array([[3, 9, 0, 1, 4],\n",
        "                     [9, 4, 1, 6, 8]])\n",
        "\n",
        "# TODO: select the number 8 by indexing array a\n",
        "\n",
        "# TODO: select the middle three values in array a; [2, 8, 1]\n",
        "\n",
        "# TODO: select the second row in matrix matrix_b\n",
        "\n",
        "# TODO: select the 0 in the first row by indexing matrix_b\n",
        "\n",
        "# TODO: select the last three values in the second row of matrix_b; [1, 6, 8]"
      ],
      "execution_count": null,
      "outputs": []
    },
    {
      "cell_type": "markdown",
      "metadata": {
        "id": "s9GLchdTE8nE"
      },
      "source": [
        "## Element-wise mathematical operations with 1-D arrays and Matrices"
      ]
    },
    {
      "cell_type": "code",
      "metadata": {
        "id": "k4BsPG-fFPi6"
      },
      "source": [
        "a = np.array([5, 3, 9, 0])\n",
        "b = # Create second array\n",
        "\n",
        "# TODO: add a+b element-wise\n",
        "\n",
        "# TODO: subtract a-b element-wise\n",
        "\n",
        "# TODO: multiply a*b element-wise\n",
        "\n",
        "# TODO: divide a/b element-wise"
      ],
      "execution_count": null,
      "outputs": []
    },
    {
      "cell_type": "markdown",
      "metadata": {
        "id": "lFMoA1Mvroy6"
      },
      "source": [
        "## Scalar mathematical operations with arrays and matrices"
      ]
    },
    {
      "cell_type": "code",
      "metadata": {
        "id": "6b4-EE55rsoL"
      },
      "source": [
        "# Define a scaler with the letter a\n",
        "a = # TODO\n",
        "\n",
        "u = np.array([1, 2, 3, 4])\n",
        "\n",
        "# TODO: add a+u\n",
        "\n",
        "# TODO: subtract a-u\n",
        "\n",
        "# TODO: multiply a*u\n",
        "\n",
        "# TODO: divide a/u"
      ],
      "execution_count": null,
      "outputs": []
    },
    {
      "cell_type": "code",
      "metadata": {
        "id": "EQm2XkaUsL90"
      },
      "source": [
        "# Define a scaler with the letter a\n",
        "a = # TODO\n",
        "\n",
        "B = np.array([1, 2, 3, 4],\n",
        "             [5, 6, 7, 8])\n",
        "\n",
        "# TODO: add a+B\n",
        "\n",
        "# TODO: subtract a-B\n",
        "\n",
        "# TODO: multiply a*B\n",
        "\n",
        "# TODO: divide a/B"
      ],
      "execution_count": null,
      "outputs": []
    },
    {
      "cell_type": "markdown",
      "metadata": {
        "id": "YNWXKKwFsUgL"
      },
      "source": [
        "## Dot-Product and Matrix Multiplication"
      ]
    },
    {
      "cell_type": "code",
      "metadata": {
        "id": "TMIg6fDHszPA"
      },
      "source": [
        "a = np.array([1, 2, 3, 4])\n",
        "b = np.array([1, 2, 3, 4])\n",
        "\n",
        "# TODO: Compute the dot product of both arrays above"
      ],
      "execution_count": null,
      "outputs": []
    },
    {
      "cell_type": "code",
      "metadata": {
        "id": "YRqWaNZStPmt"
      },
      "source": [
        "A = np.array([[1, 2, 3, 4],\n",
        "              [5, 6, 7, 8],\n",
        "              [9, 10, 11, 12]])\n",
        "\n",
        "# Create a matrix that can be compatible with A\n",
        "B = # TODO\n",
        "\n",
        "# TODO: Multiply the Matrices A*B"
      ],
      "execution_count": null,
      "outputs": []
    },
    {
      "cell_type": "markdown",
      "metadata": {
        "id": "Vh3abWZLughb"
      },
      "source": [
        "## Copying an array"
      ]
    },
    {
      "cell_type": "code",
      "metadata": {
        "id": "JRewQ6GtzJ7m"
      },
      "source": [
        "a = np.array([1, 2, 3])\n",
        "b = # TODO: Copy array a\n",
        "\n",
        "print(\"This shouls say True:\", np.array_equal(a, b))"
      ],
      "execution_count": null,
      "outputs": []
    },
    {
      "cell_type": "markdown",
      "metadata": {
        "id": "1UI56FLlznlu"
      },
      "source": [
        "## Reshaping arrays"
      ]
    },
    {
      "cell_type": "code",
      "metadata": {
        "id": "4OGoyjcvzrSe"
      },
      "source": [
        "a = np.array([[10, 9, 8, 7],\n",
        "            [6, 5, 4, 3]])\n",
        "\n",
        "# TODO: Flatten a to become a 1-D\n",
        "flat_a = # TODO\n",
        "\n",
        "# TODO: Make a column from flat_a\n",
        "col_a = # TODO\n",
        "\n",
        "# TODO: Reshape col_a to be a row in a 2-D form\n",
        "row_a = TODO"
      ],
      "execution_count": null,
      "outputs": []
    },
    {
      "cell_type": "markdown",
      "metadata": {
        "id": "0TbpX8_M0dAF"
      },
      "source": [
        "Once you have completed everything, you have learned the basics of numpy!"
      ]
    }
  ]
}
