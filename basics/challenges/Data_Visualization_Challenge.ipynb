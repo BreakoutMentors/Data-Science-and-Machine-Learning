{
  "nbformat": 4,
  "nbformat_minor": 0,
  "metadata": {
    "colab": {
      "provenance": [],
      "include_colab_link": true
    },
    "kernelspec": {
      "name": "python3",
      "display_name": "Python 3"
    },
    "language_info": {
      "name": "python"
    }
  },
  "cells": [
    {
      "cell_type": "markdown",
      "metadata": {
        "id": "view-in-github",
        "colab_type": "text"
      },
      "source": [
        "<a href=\"https://colab.research.google.com/github/BreakoutMentors/Data-Science-and-Machine-Learning/blob/main/basics/challenges/Data_Visualization_Challenge.ipynb\" target=\"_parent\"><img src=\"https://colab.research.google.com/assets/colab-badge.svg\" alt=\"Open In Colab\"/></a>"
      ]
    },
    {
      "cell_type": "markdown",
      "source": [
        "# Data Visualization Challenge - Seaborn and Matplotlib\n",
        "In the previous notebook, you learned about various visualization techniques using Seaborn and Matplotlib. You got familiar with line plots, scatter plots, bar plots, histograms, box plots, swarm plots, and heatmaps.\n",
        "\n",
        "Now it's your turn to demonstrate your skills with this challenge! You'll be applying your knowledge of the different plots and trying to derive insights from the datasets provided.\n",
        "\n",
        "Let's get started!"
      ],
      "metadata": {
        "id": "AE3Av8-bt9nR"
      }
    },
    {
      "cell_type": "markdown",
      "source": [
        "# Imports"
      ],
      "metadata": {
        "id": "39YHZpLYpvsW"
      }
    },
    {
      "cell_type": "code",
      "source": [
        "import pandas as pd\n",
        "import matplotlib.pyplot as plt\n",
        "import seaborn as sns"
      ],
      "metadata": {
        "id": "pg9GT4Czpz2e"
      },
      "execution_count": null,
      "outputs": []
    },
    {
      "cell_type": "markdown",
      "source": [
        "# Load the Datasets"
      ],
      "metadata": {
        "id": "r16xfiPAqPFy"
      }
    },
    {
      "cell_type": "code",
      "source": [
        "students_url = 'https://raw.githubusercontent.com/BreakoutMentors/Data-Science-and-Machine-Learning/main/datasets/students.csv'\n",
        "athletes_url = 'https://raw.githubusercontent.com/BreakoutMentors/Data-Science-and-Machine-Learning/main/datasets/student_athletes.csv'\n",
        "academics_url = 'https://raw.githubusercontent.com/BreakoutMentors/Data-Science-and-Machine-Learning/main/datasets/student_academics.csv'\n",
        "\n",
        "students = pd.read_csv(students_url, index_col='id')\n",
        "athletes = pd.read_csv(athletes_url, index_col=0)\n",
        "academics = pd.read_csv(academics_url, index_col=0)"
      ],
      "metadata": {
        "id": "Bmud7azbqUph"
      },
      "execution_count": null,
      "outputs": []
    },
    {
      "cell_type": "code",
      "source": [
        "students"
      ],
      "metadata": {
        "id": "_SBj4WRtQgt4"
      },
      "execution_count": null,
      "outputs": []
    },
    {
      "cell_type": "code",
      "source": [
        "athletes"
      ],
      "metadata": {
        "id": "4z3fzBEiQknx"
      },
      "execution_count": null,
      "outputs": []
    },
    {
      "cell_type": "code",
      "source": [
        "academics"
      ],
      "metadata": {
        "id": "ev00CC9bfUNm"
      },
      "execution_count": null,
      "outputs": []
    },
    {
      "cell_type": "markdown",
      "source": [
        "# Line Plot"
      ],
      "metadata": {
        "id": "L4MIEBiUQFV8"
      }
    },
    {
      "cell_type": "markdown",
      "source": [
        "A line plot visualizes the relationship between two sets of values. By connecting data points with a line, we can see trends over time or other relationships.\n",
        "\n",
        "Now, try to make a line plot showing the relationship between an athletes years of experience and their rank. Don't forget to add a title and labels for the axes!"
      ],
      "metadata": {
        "id": "u9FI8_OLQIWz"
      }
    },
    {
      "cell_type": "code",
      "source": [
        "plt.figure(figsize=(10, 6))\n",
        "\n",
        "# your code here"
      ],
      "metadata": {
        "id": "jJlQjtmkbQG9"
      },
      "execution_count": null,
      "outputs": []
    },
    {
      "cell_type": "markdown",
      "source": [
        "# Scatter Plot"
      ],
      "metadata": {
        "id": "9EXXiNL7bQ1K"
      }
    },
    {
      "cell_type": "markdown",
      "source": [
        "In a scatter plot, we plot individual data points on an X-Y plane. This type of plot is great for spotting correlations between two variables.\n",
        "\n",
        "Create a scatter plot showing the relationship between an athlete's hours training and their ranking. Also, color code the points by `'years experience'` to see if different sports show different patterns."
      ],
      "metadata": {
        "id": "EnHT4iheQLqB"
      }
    },
    {
      "cell_type": "code",
      "source": [
        "plt.figure(figsize=(10, 6))\n",
        "\n",
        "# your code here"
      ],
      "metadata": {
        "id": "gDIgamK7QU6G"
      },
      "execution_count": null,
      "outputs": []
    },
    {
      "cell_type": "markdown",
      "source": [
        "The output might look a bit confusing, but you can see that there are at least 4 distinct groups. These are caused by an underlying relationship with `'years experience'`.\n",
        "\n",
        "What does the relationship between hours training and ranking look like for those with only 1 year of experience?\n",
        "\n",
        "Generally, what relationship does hours training have with ranking?"
      ],
      "metadata": {
        "id": "C9ldIqIQ2Teq"
      }
    },
    {
      "cell_type": "markdown",
      "source": [
        "# Bar Plot"
      ],
      "metadata": {
        "id": "ehqhU-h8QW5u"
      }
    },
    {
      "cell_type": "markdown",
      "source": [
        "Bar plots are used for comparing the quantities of different categories or groups.\n",
        "\n",
        "For this task, create a bar plot showing the average athletic ranking by age."
      ],
      "metadata": {
        "id": "OMflfHcNQYm3"
      }
    },
    {
      "cell_type": "code",
      "source": [
        "avg_scores_by_grade = athletes.groupby('age')['ranking'].mean().sort_values()\n",
        "plt.figure(figsize=(10, 6))\n",
        "\n",
        "# your code here"
      ],
      "metadata": {
        "id": "ftOktxGmQYN9"
      },
      "execution_count": null,
      "outputs": []
    },
    {
      "cell_type": "markdown",
      "source": [
        "Does there appear to be a relationship between age and ranking?\n",
        "\n",
        "Why might the ranking be higher for 14 year olds than 15 year olds?"
      ],
      "metadata": {
        "id": "iVnTYY6T27tv"
      }
    },
    {
      "cell_type": "markdown",
      "source": [
        "# Box Plot"
      ],
      "metadata": {
        "id": "s7GHMSWhcPCg"
      }
    },
    {
      "cell_type": "markdown",
      "source": [
        "Box plots provide a good visual summary of the data points and help to identify outliers.\n",
        "\n",
        "Create a box plot showing the average hours spent training based on age."
      ],
      "metadata": {
        "id": "XozY8RPIcRKf"
      }
    },
    {
      "cell_type": "code",
      "source": [
        "plt.figure(figsize=(14, 8))\n",
        "\n",
        "# your code here"
      ],
      "metadata": {
        "id": "vGNPmokscQop"
      },
      "execution_count": null,
      "outputs": []
    },
    {
      "cell_type": "markdown",
      "source": [
        "Generally, do older athletes train longer?\n",
        "\n",
        "Which age has the largest range of values?"
      ],
      "metadata": {
        "id": "FfQMp9QW3TDk"
      }
    },
    {
      "cell_type": "markdown",
      "source": [
        "# Histogram"
      ],
      "metadata": {
        "id": "kw7MJeP-jEbH"
      }
    },
    {
      "cell_type": "markdown",
      "source": [
        "Histograms are used to visualize the distribution of a set of continuous data.\n",
        "\n",
        "Try making a histogram showing the distribution of hours spent training. Also, plot a Kernel Density Estimate (KDE) on top of the histogram."
      ],
      "metadata": {
        "id": "um1fxbfQjFmy"
      }
    },
    {
      "cell_type": "code",
      "source": [
        "plt.figure(figsize=(10, 6))\n",
        "\n",
        "# your code here"
      ],
      "metadata": {
        "id": "XEZZOztujGjr"
      },
      "execution_count": null,
      "outputs": []
    },
    {
      "cell_type": "markdown",
      "source": [
        "Why might there be fewer students training around 35 hours a week than 10?\n"
      ],
      "metadata": {
        "id": "Lxe9jFrS4iwv"
      }
    },
    {
      "cell_type": "markdown",
      "source": [
        "# Swarm Plot"
      ],
      "metadata": {
        "id": "mGQPSIOQcWgN"
      }
    },
    {
      "cell_type": "markdown",
      "source": [
        "Swarm plots provide a good visual summary of the data points without any overlap.\n",
        "\n",
        "Create a swarm plot displaying the course scores by sport. Sample only 100 examples."
      ],
      "metadata": {
        "id": "_wgfimPkcYEG"
      }
    },
    {
      "cell_type": "code",
      "source": [
        "plt.figure(figsize=(10,6))\n",
        "\n",
        "# your code here"
      ],
      "metadata": {
        "id": "yvfcIGa6cXbQ"
      },
      "execution_count": null,
      "outputs": []
    },
    {
      "cell_type": "markdown",
      "source": [
        "Are there more students with 1 year of experience or 7? Which has more students with a high ranking?"
      ],
      "metadata": {
        "id": "V40EAURv4jce"
      }
    },
    {
      "cell_type": "markdown",
      "source": [
        "# Heatmap"
      ],
      "metadata": {
        "id": "_nOR-LiLcZfh"
      }
    },
    {
      "cell_type": "markdown",
      "source": [
        "Heatmaps are used to depict the correlation between different numeric features in a dataset.\n",
        "\n",
        "For this task, create a heatmap showing the correlations between the different subjects in the academics dataset. This is taken care of for you, just use `academics_pivot`."
      ],
      "metadata": {
        "id": "DhRaYr4mcbOd"
      }
    },
    {
      "cell_type": "code",
      "source": [
        "course_to_subject = {\n",
        "    'Algebra 1': 'Math',\n",
        "    'Algebra 2': 'Math',\n",
        "    'Geometry': 'Math',\n",
        "    'Precalculus': 'Math',\n",
        "    'Calculus': 'Math',\n",
        "    'Biology': 'Science',\n",
        "    'Chemistry': 'Science',\n",
        "    'Physics': 'Science',\n",
        "    'Environmental Science': 'Science',\n",
        "    'Astronomy': 'Science',\n",
        "    'Anatomy': 'Science',\n",
        "    'World Geography': 'History',\n",
        "    'World History': 'History',\n",
        "    'American History': 'History',\n",
        "    'American Government': 'History',\n",
        "    'Economics': 'History',\n",
        "    'English 1': 'English',\n",
        "    'English 2': 'English',\n",
        "    'English 3': 'English',\n",
        "    'English 4': 'English',\n",
        "    'Physical Education': 'Elective',\n",
        "    'Computer Science': 'Elective',\n",
        "    'Cooking': 'Elective',\n",
        "    'Yearbook': 'Elective',\n",
        "    'Studio Art': 'Elective',\n",
        "    'Music': 'Elective'\n",
        "}\n",
        "academics['subject'] = academics['course'].map(course_to_subject)\n",
        "academics_pivot = academics.pivot_table(values='course score', index='id', columns='subject')\n",
        "academics_pivot"
      ],
      "metadata": {
        "id": "r4SbuBBqcaj3"
      },
      "execution_count": null,
      "outputs": []
    },
    {
      "cell_type": "code",
      "source": [
        "plt.figure(figsize=(10, 8))\n",
        "\n",
        "# your code here"
      ],
      "metadata": {
        "id": "yDT2iaetmjf0"
      },
      "execution_count": null,
      "outputs": []
    },
    {
      "cell_type": "markdown",
      "source": [
        "Does there appear to be a correlation between math and science? Math and english?"
      ],
      "metadata": {
        "id": "CRzse-Uk5Jid"
      }
    },
    {
      "cell_type": "code",
      "source": [],
      "metadata": {
        "id": "d_Fbevvi5y5M"
      },
      "execution_count": null,
      "outputs": []
    }
  ]
}