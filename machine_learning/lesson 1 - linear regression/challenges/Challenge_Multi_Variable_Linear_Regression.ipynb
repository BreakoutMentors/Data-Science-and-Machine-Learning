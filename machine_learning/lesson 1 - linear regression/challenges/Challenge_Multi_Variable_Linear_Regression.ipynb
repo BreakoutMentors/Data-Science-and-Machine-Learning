{
  "nbformat": 4,
  "nbformat_minor": 0,
  "metadata": {
    "colab": {
      "name": "Challenge - Multi-Variable Linear Regression.ipynb",
      "provenance": [],
      "authorship_tag": "ABX9TyNYf8E00XPqt+ZhzuEKFQPH",
      "include_colab_link": true
    },
    "kernelspec": {
      "name": "python3",
      "display_name": "Python 3"
    }
  },
  "cells": [
    {
      "cell_type": "markdown",
      "metadata": {
        "id": "view-in-github",
        "colab_type": "text"
      },
      "source": [
        "<a href=\"https://colab.research.google.com/github/krmiddlebrook/intro_to_graphing_in_python/blob/master/notebooks/machine_learning/lesson%201%20-%20linear%20regression/challenges/Challenge_Multi_Variable_Linear_Regression.ipynb\" target=\"_parent\"><img src=\"https://colab.research.google.com/assets/colab-badge.svg\" alt=\"Open In Colab\"/></a>"
      ]
    },
    {
      "cell_type": "markdown",
      "metadata": {
        "id": "-h3f7GBnxFWG",
        "colab_type": "text"
      },
      "source": [
        "Multi-Variable Linear Regression"
      ]
    },
    {
      "cell_type": "markdown",
      "metadata": {
        "id": "c3jVGW1xxMcE",
        "colab_type": "text"
      },
      "source": [
        "## Challenges\n",
        "\n",
        "\n",
        "1. Load the Pokemon dataset into a pandas dataframe.\n",
        "2. Plot a bar chart of the counts of each type in the \"Type 1\" column.\n",
        "3. Make a multi-variable linear regression model between the \"Total\" column and all the numeric columns.\n",
        "4. Create a dataframe containing the model coefficients for each numeric column\n",
        "5. Calculate the R^2 (or the correlation coefficient) between the \"Total\" column (y variable) and the numeric columns (x variables).\n",
        "6. Create a dataframe containing two columns the actual \"Total\" values from the pokemon dataframe and the predicted \"Total\" values from the model.\n",
        "7. Make a multi-bar bar chart to show the difference between the first 25 rows of the actual and the predicted Total values.\n",
        "8. Evaluate the performance of the model by calculating the Mean Absolute Error (MAE), Mean Squared Error (MSE), and Root Mean Squared Error (RMSE) between the actual Total values and the predicted total values. Hint: use Sklearns metrics module to calculate these.  "
      ]
    },
    {
      "cell_type": "code",
      "metadata": {
        "id": "qTH6YTL9w-nL",
        "colab_type": "code",
        "colab": {}
      },
      "source": [
        "%matplotlib inline\n",
        "import matplotlib.pyplot as plt\n",
        "import numpy as np\n",
        "import pandas as pd\n",
        "\n",
        "from sklearn.linear_model import LinearRegression"
      ],
      "execution_count": 0,
      "outputs": []
    },
    {
      "cell_type": "code",
      "metadata": {
        "id": "EfuZHdyg0iVT",
        "colab_type": "code",
        "colab": {}
      },
      "source": [
        "data_url = 'https://raw.githubusercontent.com/krmiddlebrook/intro_to_graphing_in_python/master/datasets/pokemon.csv'\n",
        "\n",
        "# 1. load the data into pandas dataframe\n",
        "\n",
        "\n",
        "# display the first 5 rows of the dataframe"
      ],
      "execution_count": 0,
      "outputs": []
    },
    {
      "cell_type": "code",
      "metadata": {
        "id": "SQZ8mJau03c8",
        "colab_type": "code",
        "colab": {}
      },
      "source": [
        "# 2. plot a bar chart of the counts of each type in the \"Type 1\" column.\n",
        "# Hint select the \"Type 1\" column and use .value_counts() to get the counts of \n",
        "# each Pokemon type. "
      ],
      "execution_count": 0,
      "outputs": []
    },
    {
      "cell_type": "code",
      "metadata": {
        "id": "Df0mWIXZ1Sq7",
        "colab_type": "code",
        "colab": {}
      },
      "source": [
        "# 3. Make a multi-variable linear regression model between the \"Total\" column\n",
        "# and all the numeric columns\n",
        "\n",
        "x_cols = ['HP', 'Attack', 'Defense',\t'Sp. Atk',\t'Sp. Def', 'Speed']\n",
        "y_cols = ['Total']\n",
        "\n",
        "# make your x and y dataframes\n",
        "\n",
        "# initialize the linear regression model\n",
        "model = LinearRegression(fit_intercept=True)\n",
        "\n",
        "# fit the model\n",
        "\n",
        "# show the model intercept and coefficients\n",
        "print('model intercept (i.e., a_0): ', model.intercept_)\n",
        "print('model coefficients (i.e., a_1,...,a_n): ', model.coef_[0])"
      ],
      "execution_count": 0,
      "outputs": []
    },
    {
      "cell_type": "code",
      "metadata": {
        "id": "AtaMz_v42ZbJ",
        "colab_type": "code",
        "colab": {}
      },
      "source": [
        "# 4. Create a dataframe containing the model coefficients for each x variable\n"
      ],
      "execution_count": 0,
      "outputs": []
    },
    {
      "cell_type": "code",
      "metadata": {
        "id": "oLWypRJb2veu",
        "colab_type": "code",
        "colab": {}
      },
      "source": [
        "# 5. Calculate the R^2 (or the correlation coefficient) between the \"Total\" column \n",
        "# (y variable) and the numeric columns (x variables). Hint: use model.score(X, y)\n",
        "# Is the relationship between the Total column and the numeric columns positive, \n",
        "# or negative? "
      ],
      "execution_count": 0,
      "outputs": []
    },
    {
      "cell_type": "code",
      "metadata": {
        "id": "Aq4FoXQE3e2A",
        "colab_type": "code",
        "colab": {}
      },
      "source": [
        "# 6. Create a dataframe containing two columns the actual \"Total\" values from \n",
        "# the pokemon dataframe and the predicted \"Total\" values from the model.\n",
        "\n",
        "#  Make the predictions dataframe. Hint: use model.predict({your X data})\n",
        "\n",
        "# Make the actual values dataframe.\n",
        "\n",
        "# combine the dataframes using pandas concat function. Hint: combine along the \n",
        "# column axis\n"
      ],
      "execution_count": 0,
      "outputs": []
    },
    {
      "cell_type": "code",
      "metadata": {
        "id": "A2bpuNBE40Ea",
        "colab_type": "code",
        "colab": {}
      },
      "source": [
        "# 7. Make a multi-bar bar chart to show the difference between the first 25 rows\n",
        "# of the actual and the predicted Total values.\n",
        "# Hint: use the select the first 25 rows then use .plot(kind='bar',figsize=(10,8))\n"
      ],
      "execution_count": 0,
      "outputs": []
    },
    {
      "cell_type": "code",
      "metadata": {
        "id": "M7ioUhre3nwd",
        "colab_type": "code",
        "colab": {}
      },
      "source": [
        "# Evaluate the performance of the model by calculating the Mean Absolute Error (MAE),\n",
        "# the Mean Squared Error (MSE), and the Root Mean Squared Error (RMSE) between \n",
        "# the actual \"Total\" values and the predicted \"Total\" values. \n",
        "# Hint: use Sklearns metrics module to calculate these."
      ],
      "execution_count": 0,
      "outputs": []
    }
  ]
}