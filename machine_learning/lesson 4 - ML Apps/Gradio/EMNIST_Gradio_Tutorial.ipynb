{
  "nbformat": 4,
  "nbformat_minor": 0,
  "metadata": {
    "colab": {
      "name": "EMNIST Gradio Tutorial.ipynb",
      "provenance": [],
      "collapsed_sections": [],
      "authorship_tag": "ABX9TyPM3eSclN7mdu4RIqgJuvs8",
      "include_colab_link": true
    },
    "kernelspec": {
      "display_name": "Python 3",
      "name": "python3"
    },
    "language_info": {
      "name": "python"
    },
    "widgets": {
      "application/vnd.jupyter.widget-state+json": {
        "6701669ee49d48d989a02a618cba33d0": {
          "model_module": "@jupyter-widgets/controls",
          "model_name": "HBoxModel",
          "state": {
            "_view_name": "HBoxView",
            "_dom_classes": [],
            "_model_name": "HBoxModel",
            "_view_module": "@jupyter-widgets/controls",
            "_model_module_version": "1.5.0",
            "_view_count": null,
            "_view_module_version": "1.5.0",
            "box_style": "",
            "layout": "IPY_MODEL_a3165ee760ad422c8361f7d35d6e4e19",
            "_model_module": "@jupyter-widgets/controls",
            "children": [
              "IPY_MODEL_646a2d3081304f96951f5c8c9b4d565e",
              "IPY_MODEL_2e960b8e25d94b4392f64505a65c210c"
            ]
          }
        },
        "a3165ee760ad422c8361f7d35d6e4e19": {
          "model_module": "@jupyter-widgets/base",
          "model_name": "LayoutModel",
          "state": {
            "_view_name": "LayoutView",
            "grid_template_rows": null,
            "right": null,
            "justify_content": null,
            "_view_module": "@jupyter-widgets/base",
            "overflow": null,
            "_model_module_version": "1.2.0",
            "_view_count": null,
            "flex_flow": null,
            "width": null,
            "min_width": null,
            "border": null,
            "align_items": null,
            "bottom": null,
            "_model_module": "@jupyter-widgets/base",
            "top": null,
            "grid_column": null,
            "overflow_y": null,
            "overflow_x": null,
            "grid_auto_flow": null,
            "grid_area": null,
            "grid_template_columns": null,
            "flex": null,
            "_model_name": "LayoutModel",
            "justify_items": null,
            "grid_row": null,
            "max_height": null,
            "align_content": null,
            "visibility": null,
            "align_self": null,
            "height": null,
            "min_height": null,
            "padding": null,
            "grid_auto_rows": null,
            "grid_gap": null,
            "max_width": null,
            "order": null,
            "_view_module_version": "1.2.0",
            "grid_template_areas": null,
            "object_position": null,
            "object_fit": null,
            "grid_auto_columns": null,
            "margin": null,
            "display": null,
            "left": null
          }
        },
        "646a2d3081304f96951f5c8c9b4d565e": {
          "model_module": "@jupyter-widgets/controls",
          "model_name": "FloatProgressModel",
          "state": {
            "_view_name": "ProgressView",
            "style": "IPY_MODEL_918ef1f13c644c08ad545adeb6ae0fce",
            "_dom_classes": [],
            "description": "",
            "_model_name": "FloatProgressModel",
            "bar_style": "success",
            "max": 561753746,
            "_view_module": "@jupyter-widgets/controls",
            "_model_module_version": "1.5.0",
            "value": 561753746,
            "_view_count": null,
            "_view_module_version": "1.5.0",
            "orientation": "horizontal",
            "min": 0,
            "description_tooltip": null,
            "_model_module": "@jupyter-widgets/controls",
            "layout": "IPY_MODEL_0dc5a81956284a5993e313dfb0083ae1"
          }
        },
        "2e960b8e25d94b4392f64505a65c210c": {
          "model_module": "@jupyter-widgets/controls",
          "model_name": "HTMLModel",
          "state": {
            "_view_name": "HTMLView",
            "style": "IPY_MODEL_efc51bf64d3c4a809c47d5fe8323f341",
            "_dom_classes": [],
            "description": "",
            "_model_name": "HTMLModel",
            "placeholder": "​",
            "_view_module": "@jupyter-widgets/controls",
            "_model_module_version": "1.5.0",
            "value": " 561754112/? [00:58&lt;00:00, 9634260.09it/s]",
            "_view_count": null,
            "_view_module_version": "1.5.0",
            "description_tooltip": null,
            "_model_module": "@jupyter-widgets/controls",
            "layout": "IPY_MODEL_3950f0e83e3d4b6c95be1726933671fb"
          }
        },
        "918ef1f13c644c08ad545adeb6ae0fce": {
          "model_module": "@jupyter-widgets/controls",
          "model_name": "ProgressStyleModel",
          "state": {
            "_view_name": "StyleView",
            "_model_name": "ProgressStyleModel",
            "description_width": "initial",
            "_view_module": "@jupyter-widgets/base",
            "_model_module_version": "1.5.0",
            "_view_count": null,
            "_view_module_version": "1.2.0",
            "bar_color": null,
            "_model_module": "@jupyter-widgets/controls"
          }
        },
        "0dc5a81956284a5993e313dfb0083ae1": {
          "model_module": "@jupyter-widgets/base",
          "model_name": "LayoutModel",
          "state": {
            "_view_name": "LayoutView",
            "grid_template_rows": null,
            "right": null,
            "justify_content": null,
            "_view_module": "@jupyter-widgets/base",
            "overflow": null,
            "_model_module_version": "1.2.0",
            "_view_count": null,
            "flex_flow": null,
            "width": null,
            "min_width": null,
            "border": null,
            "align_items": null,
            "bottom": null,
            "_model_module": "@jupyter-widgets/base",
            "top": null,
            "grid_column": null,
            "overflow_y": null,
            "overflow_x": null,
            "grid_auto_flow": null,
            "grid_area": null,
            "grid_template_columns": null,
            "flex": null,
            "_model_name": "LayoutModel",
            "justify_items": null,
            "grid_row": null,
            "max_height": null,
            "align_content": null,
            "visibility": null,
            "align_self": null,
            "height": null,
            "min_height": null,
            "padding": null,
            "grid_auto_rows": null,
            "grid_gap": null,
            "max_width": null,
            "order": null,
            "_view_module_version": "1.2.0",
            "grid_template_areas": null,
            "object_position": null,
            "object_fit": null,
            "grid_auto_columns": null,
            "margin": null,
            "display": null,
            "left": null
          }
        },
        "efc51bf64d3c4a809c47d5fe8323f341": {
          "model_module": "@jupyter-widgets/controls",
          "model_name": "DescriptionStyleModel",
          "state": {
            "_view_name": "StyleView",
            "_model_name": "DescriptionStyleModel",
            "description_width": "",
            "_view_module": "@jupyter-widgets/base",
            "_model_module_version": "1.5.0",
            "_view_count": null,
            "_view_module_version": "1.2.0",
            "_model_module": "@jupyter-widgets/controls"
          }
        },
        "3950f0e83e3d4b6c95be1726933671fb": {
          "model_module": "@jupyter-widgets/base",
          "model_name": "LayoutModel",
          "state": {
            "_view_name": "LayoutView",
            "grid_template_rows": null,
            "right": null,
            "justify_content": null,
            "_view_module": "@jupyter-widgets/base",
            "overflow": null,
            "_model_module_version": "1.2.0",
            "_view_count": null,
            "flex_flow": null,
            "width": null,
            "min_width": null,
            "border": null,
            "align_items": null,
            "bottom": null,
            "_model_module": "@jupyter-widgets/base",
            "top": null,
            "grid_column": null,
            "overflow_y": null,
            "overflow_x": null,
            "grid_auto_flow": null,
            "grid_area": null,
            "grid_template_columns": null,
            "flex": null,
            "_model_name": "LayoutModel",
            "justify_items": null,
            "grid_row": null,
            "max_height": null,
            "align_content": null,
            "visibility": null,
            "align_self": null,
            "height": null,
            "min_height": null,
            "padding": null,
            "grid_auto_rows": null,
            "grid_gap": null,
            "max_width": null,
            "order": null,
            "_view_module_version": "1.2.0",
            "grid_template_areas": null,
            "object_position": null,
            "object_fit": null,
            "grid_auto_columns": null,
            "margin": null,
            "display": null,
            "left": null
          }
        }
      }
    }
  },
  "cells": [
    {
      "cell_type": "markdown",
      "metadata": {
        "id": "view-in-github",
        "colab_type": "text"
      },
      "source": [
        "<a href=\"https://colab.research.google.com/github/BreakoutMentors/Data-Science-and-Machine-Learning/blob/adam-ML-app-section/machine_learning/lesson%204%20-%20ML%20Apps/Gradio/EMNIST_Gradio_Tutorial.ipynb\" target=\"_parent\"><img src=\"https://colab.research.google.com/assets/colab-badge.svg\" alt=\"Open In Colab\"/></a>"
      ]
    },
    {
      "cell_type": "markdown",
      "metadata": {
        "id": "9gGRIJW4f4Vy"
      },
      "source": [
        "# Making ML Applications with Gradio\n",
        "\n",
        "[Gradio](https://www.gradio.app/) is a python library that provides web interfaces for your models. This library is very high-level with it being the easiest to learn for beginners. Here we use a dataset called [EMNIST](https://pytorch.org/vision/stable/datasets.html#emnist) which is an addition to the MNIST(dataset of images with numbers) datasest, by including images of capital and lowercase letters with a total of 62 classes.\n",
        "\n",
        "Using Gradio, an interface is created at the bottom using the model trained in this notebook to accept our drawings of images or numbers to then predict."
      ]
    },
    {
      "cell_type": "markdown",
      "metadata": {
        "id": "nmuMVgM_iJgV"
      },
      "source": [
        "## Importing libraries and Installing Gradio using PIP\n",
        "\n",
        "Google does not have Gradio automatically installed on their Google Colab machines, so it is necessary to install it to the specific machine you are using right now. If you choose another runtime machine, it is necessary to repeat this step.\n",
        "\n",
        "**Also, please run this code with a GPU**"
      ]
    },
    {
      "cell_type": "code",
      "metadata": {
        "colab": {
          "base_uri": "https://localhost:8080/"
        },
        "id": "5Yg2FM9_zx9G",
        "outputId": "c2f676f1-0042-4337-c873-8f9be2e79bb6"
      },
      "source": [
        "import pandas as pd\n",
        "import numpy as np\n",
        "import matplotlib.pyplot as plt\n",
        "\n",
        "# Importing PyTorch\n",
        "import torch\n",
        "import torch.nn as nn\n",
        "\n",
        "# Importing torchvision for dataset\n",
        "import torchvision\n",
        "import torchvision.transforms as transforms\n",
        "\n",
        "# Installing gradio using PIP\n",
        "!pip install gradio"
      ],
      "execution_count": 1,
      "outputs": [
        {
          "output_type": "stream",
          "text": [
            "Collecting gradio\n",
            "\u001b[?25l  Downloading https://files.pythonhosted.org/packages/e4/c6/19d6941437fb56db775b00c0181af81e539c42369bc79c664001d2272ccb/gradio-2.0.5-py3-none-any.whl (1.6MB)\n",
            "\u001b[K     |████████████████████████████████| 1.6MB 5.2MB/s \n",
            "\u001b[?25hRequirement already satisfied: matplotlib in /usr/local/lib/python3.7/dist-packages (from gradio) (3.2.2)\n",
            "Requirement already satisfied: pandas in /usr/local/lib/python3.7/dist-packages (from gradio) (1.1.5)\n",
            "Collecting analytics-python\n",
            "  Downloading https://files.pythonhosted.org/packages/30/81/2f447982f8d5dec5b56c10ca9ac53e5de2b2e9e2bdf7e091a05731f21379/analytics_python-1.3.1-py2.py3-none-any.whl\n",
            "Requirement already satisfied: scipy in /usr/local/lib/python3.7/dist-packages (from gradio) (1.4.1)\n",
            "Collecting paramiko\n",
            "\u001b[?25l  Downloading https://files.pythonhosted.org/packages/95/19/124e9287b43e6ff3ebb9cdea3e5e8e88475a873c05ccdf8b7e20d2c4201e/paramiko-2.7.2-py2.py3-none-any.whl (206kB)\n",
            "\u001b[K     |████████████████████████████████| 215kB 22.1MB/s \n",
            "\u001b[?25hCollecting pycryptodome\n",
            "\u001b[?25l  Downloading https://files.pythonhosted.org/packages/ad/16/9627ab0493894a11c68e46000dbcc82f578c8ff06bc2980dcd016aea9bd3/pycryptodome-3.10.1-cp35-abi3-manylinux2010_x86_64.whl (1.9MB)\n",
            "\u001b[K     |████████████████████████████████| 1.9MB 22.7MB/s \n",
            "\u001b[?25hCollecting Flask-Cors>=3.0.8\n",
            "  Downloading https://files.pythonhosted.org/packages/db/84/901e700de86604b1c4ef4b57110d4e947c218b9997adf5d38fa7da493bce/Flask_Cors-3.0.10-py2.py3-none-any.whl\n",
            "Collecting flask-cachebuster\n",
            "  Downloading https://files.pythonhosted.org/packages/74/47/f3e1fedfaad965c81c2f17234636d72f71450f1b4522ca26d2b7eb4a0a74/Flask-CacheBuster-1.0.0.tar.gz\n",
            "Requirement already satisfied: Flask>=1.1.1 in /usr/local/lib/python3.7/dist-packages (from gradio) (1.1.4)\n",
            "Collecting markdown2\n",
            "  Downloading https://files.pythonhosted.org/packages/5d/be/3924cc1c0e12030b5225de2b4521f1dc729730773861475de26be64a0d2b/markdown2-2.4.0-py2.py3-none-any.whl\n",
            "Requirement already satisfied: numpy in /usr/local/lib/python3.7/dist-packages (from gradio) (1.19.5)\n",
            "Requirement already satisfied: requests in /usr/local/lib/python3.7/dist-packages (from gradio) (2.23.0)\n",
            "Collecting ffmpy\n",
            "  Downloading https://files.pythonhosted.org/packages/bf/e2/947df4b3d666bfdd2b0c6355d215c45d2d40f929451cb29a8a2995b29788/ffmpy-0.3.0.tar.gz\n",
            "Requirement already satisfied: pillow in /usr/local/lib/python3.7/dist-packages (from gradio) (7.1.2)\n",
            "Collecting Flask-Login\n",
            "  Downloading https://files.pythonhosted.org/packages/2b/83/ac5bf3279f969704fc1e63f050c50e10985e50fd340e6069ec7e09df5442/Flask_Login-0.5.0-py2.py3-none-any.whl\n",
            "Requirement already satisfied: kiwisolver>=1.0.1 in /usr/local/lib/python3.7/dist-packages (from matplotlib->gradio) (1.3.1)\n",
            "Requirement already satisfied: pyparsing!=2.0.4,!=2.1.2,!=2.1.6,>=2.0.1 in /usr/local/lib/python3.7/dist-packages (from matplotlib->gradio) (2.4.7)\n",
            "Requirement already satisfied: cycler>=0.10 in /usr/local/lib/python3.7/dist-packages (from matplotlib->gradio) (0.10.0)\n",
            "Requirement already satisfied: python-dateutil>=2.1 in /usr/local/lib/python3.7/dist-packages (from matplotlib->gradio) (2.8.1)\n",
            "Requirement already satisfied: pytz>=2017.2 in /usr/local/lib/python3.7/dist-packages (from pandas->gradio) (2018.9)\n",
            "Requirement already satisfied: six>=1.5 in /usr/local/lib/python3.7/dist-packages (from analytics-python->gradio) (1.15.0)\n",
            "Collecting backoff==1.10.0\n",
            "  Downloading https://files.pythonhosted.org/packages/f0/32/c5dd4f4b0746e9ec05ace2a5045c1fc375ae67ee94355344ad6c7005fd87/backoff-1.10.0-py2.py3-none-any.whl\n",
            "Collecting monotonic>=1.5\n",
            "  Downloading https://files.pythonhosted.org/packages/9a/67/7e8406a29b6c45be7af7740456f7f37025f0506ae2e05fb9009a53946860/monotonic-1.6-py2.py3-none-any.whl\n",
            "Collecting pynacl>=1.0.1\n",
            "\u001b[?25l  Downloading https://files.pythonhosted.org/packages/9d/57/2f5e6226a674b2bcb6db531e8b383079b678df5b10cdaa610d6cf20d77ba/PyNaCl-1.4.0-cp35-abi3-manylinux1_x86_64.whl (961kB)\n",
            "\u001b[K     |████████████████████████████████| 962kB 28.0MB/s \n",
            "\u001b[?25hCollecting cryptography>=2.5\n",
            "\u001b[?25l  Downloading https://files.pythonhosted.org/packages/b2/26/7af637e6a7e87258b963f1731c5982fb31cd507f0d90d91836e446955d02/cryptography-3.4.7-cp36-abi3-manylinux2014_x86_64.whl (3.2MB)\n",
            "\u001b[K     |████████████████████████████████| 3.2MB 37.5MB/s \n",
            "\u001b[?25hCollecting bcrypt>=3.1.3\n",
            "\u001b[?25l  Downloading https://files.pythonhosted.org/packages/26/70/6d218afbe4c73538053c1016dd631e8f25fffc10cd01f5c272d7acf3c03d/bcrypt-3.2.0-cp36-abi3-manylinux2010_x86_64.whl (63kB)\n",
            "\u001b[K     |████████████████████████████████| 71kB 9.2MB/s \n",
            "\u001b[?25hRequirement already satisfied: Werkzeug<2.0,>=0.15 in /usr/local/lib/python3.7/dist-packages (from Flask>=1.1.1->gradio) (1.0.1)\n",
            "Requirement already satisfied: itsdangerous<2.0,>=0.24 in /usr/local/lib/python3.7/dist-packages (from Flask>=1.1.1->gradio) (1.1.0)\n",
            "Requirement already satisfied: click<8.0,>=5.1 in /usr/local/lib/python3.7/dist-packages (from Flask>=1.1.1->gradio) (7.1.2)\n",
            "Requirement already satisfied: Jinja2<3.0,>=2.10.1 in /usr/local/lib/python3.7/dist-packages (from Flask>=1.1.1->gradio) (2.11.3)\n",
            "Requirement already satisfied: urllib3!=1.25.0,!=1.25.1,<1.26,>=1.21.1 in /usr/local/lib/python3.7/dist-packages (from requests->gradio) (1.24.3)\n",
            "Requirement already satisfied: idna<3,>=2.5 in /usr/local/lib/python3.7/dist-packages (from requests->gradio) (2.10)\n",
            "Requirement already satisfied: certifi>=2017.4.17 in /usr/local/lib/python3.7/dist-packages (from requests->gradio) (2021.5.30)\n",
            "Requirement already satisfied: chardet<4,>=3.0.2 in /usr/local/lib/python3.7/dist-packages (from requests->gradio) (3.0.4)\n",
            "Requirement already satisfied: cffi>=1.4.1 in /usr/local/lib/python3.7/dist-packages (from pynacl>=1.0.1->paramiko->gradio) (1.14.5)\n",
            "Requirement already satisfied: MarkupSafe>=0.23 in /usr/local/lib/python3.7/dist-packages (from Jinja2<3.0,>=2.10.1->Flask>=1.1.1->gradio) (2.0.1)\n",
            "Requirement already satisfied: pycparser in /usr/local/lib/python3.7/dist-packages (from cffi>=1.4.1->pynacl>=1.0.1->paramiko->gradio) (2.20)\n",
            "Building wheels for collected packages: flask-cachebuster, ffmpy\n",
            "  Building wheel for flask-cachebuster (setup.py) ... \u001b[?25l\u001b[?25hdone\n",
            "  Created wheel for flask-cachebuster: filename=Flask_CacheBuster-1.0.0-cp37-none-any.whl size=3372 sha256=2e68e88b4d90e766446a679a8b3c199673be350c949933099f14b55957e7b658\n",
            "  Stored in directory: /root/.cache/pip/wheels/9f/fc/a7/ab5712c3ace9a8f97276465cc2937316ab8063c1fea488ea77\n",
            "  Building wheel for ffmpy (setup.py) ... \u001b[?25l\u001b[?25hdone\n",
            "  Created wheel for ffmpy: filename=ffmpy-0.3.0-cp37-none-any.whl size=4710 sha256=9da4ad5c3f5cf80dbda1d5ddde11d3b0b7388a9fc462dc27b8e4d3eba882ae2c\n",
            "  Stored in directory: /root/.cache/pip/wheels/cc/ac/c4/bef572cb7e52bfca170046f567e64858632daf77e0f34e5a74\n",
            "Successfully built flask-cachebuster ffmpy\n",
            "Installing collected packages: backoff, monotonic, analytics-python, pynacl, cryptography, bcrypt, paramiko, pycryptodome, Flask-Cors, flask-cachebuster, markdown2, ffmpy, Flask-Login, gradio\n",
            "Successfully installed Flask-Cors-3.0.10 Flask-Login-0.5.0 analytics-python-1.3.1 backoff-1.10.0 bcrypt-3.2.0 cryptography-3.4.7 ffmpy-0.3.0 flask-cachebuster-1.0.0 gradio-2.0.5 markdown2-2.4.0 monotonic-1.6 paramiko-2.7.2 pycryptodome-3.10.1 pynacl-1.4.0\n"
          ],
          "name": "stdout"
        }
      ]
    },
    {
      "cell_type": "markdown",
      "metadata": {
        "id": "1ocnxivfi0_P"
      },
      "source": [
        "## Downloading and Preparing EMNIST Dataset\n",
        "\n",
        "**Note:** Even though the images in the EMNIST dataset are 28x28 images just like the regular MNIST dataset, there are necessary transforms needed for EMNIST dataset. If not transformed, the images are rotated 90° counter-clockwise and are flipped vertically. To undo these two issues, we first rotate it 90° counter-clockwise and then flip it horizontally\n",
        "\n",
        "Here is the image before processing:\n",
        "\n",
        "\n",
        "Here is the image after processing:"
      ]
    },
    {
      "cell_type": "code",
      "metadata": {
        "colab": {
          "base_uri": "https://localhost:8080/",
          "height": 448,
          "referenced_widgets": [
            "6701669ee49d48d989a02a618cba33d0",
            "a3165ee760ad422c8361f7d35d6e4e19",
            "646a2d3081304f96951f5c8c9b4d565e",
            "2e960b8e25d94b4392f64505a65c210c",
            "918ef1f13c644c08ad545adeb6ae0fce",
            "0dc5a81956284a5993e313dfb0083ae1",
            "efc51bf64d3c4a809c47d5fe8323f341",
            "3950f0e83e3d4b6c95be1726933671fb"
          ]
        },
        "id": "2ldgalYOcTTy",
        "outputId": "847f9708-e85e-4b1d-e0af-3e31672a60ec"
      },
      "source": [
        "# Getting Dataset\n",
        "!mkdir EMNIST\n",
        "root = '/content/EMNIST'\n",
        "\n",
        "# Creating Transforms\n",
        "transforms = transforms.Compose([\n",
        "                        # Rotating image 90 degrees counter-clockwise\n",
        "                        transforms.RandomRotation((-90,-90)),\n",
        "                        # Flipping images horizontally\n",
        "                        transforms.RandomHorizontalFlip(p=1),\n",
        "                        # Converting images to tensor\n",
        "                        transforms.ToTensor()\n",
        "])\n",
        "\n",
        "# Getting dataset\n",
        "training_dataset = torchvision.datasets.EMNIST(root,\n",
        "                                               split='byclass',\n",
        "                                               train=True,\n",
        "                                               download=True,\n",
        "                                               transform=transforms)\n",
        "\n",
        "test_dataset = torchvision.datasets.EMNIST(root,\n",
        "                                           split='byclass',\n",
        "                                           train=False,\n",
        "                                           download=True,\n",
        "                                           transform=transforms)\n",
        "\n",
        "# Loading Dataset into dataloaders\n",
        "batch_size = 2048\n",
        "training_dataloader = torch.utils.data.DataLoader(training_dataset, batch_size=batch_size, shuffle=True)\n",
        "test_dataloader = torch.utils.data.DataLoader(test_dataset, batch_size=batch_size, shuffle=False)\n",
        "\n",
        "# Getting shapes of dataset\n",
        "print('Shape of the training dataset:', training_dataset.data.shape)\n",
        "print('Shape of the test dataset:', test_dataset.data.shape)\n",
        "\n",
        "# Getting reverted class_to_idx dictionary to get classes by idx\n",
        "idx_to_class = {val:key for key, val in training_dataset.class_to_idx.items()}\n",
        "\n",
        "# Plotting 5 images with classes\n",
        "plt.figure(figsize=(10,2))\n",
        "for i in range(5):\n",
        "    plt.subplot(1,5,i+1)\n",
        "    plt.xticks([])\n",
        "    plt.yticks([])\n",
        "    plt.grid(False)\n",
        "    plt.imshow(training_dataset[i][0].squeeze().numpy(), cmap=plt.cm.binary)\n",
        "    plt.xlabel(idx_to_class[training_dataset[i][1]])"
      ],
      "execution_count": 2,
      "outputs": [
        {
          "output_type": "stream",
          "text": [
            "Downloading and extracting zip archive\n",
            "Downloading https://www.itl.nist.gov/iaui/vip/cs_links/EMNIST/gzip.zip to /content/EMNIST/EMNIST/raw/emnist.zip\n"
          ],
          "name": "stdout"
        },
        {
          "output_type": "display_data",
          "data": {
            "application/vnd.jupyter.widget-view+json": {
              "model_id": "6701669ee49d48d989a02a618cba33d0",
              "version_minor": 0,
              "version_major": 2
            },
            "text/plain": [
              "HBox(children=(FloatProgress(value=0.0, max=561753746.0), HTML(value='')))"
            ]
          },
          "metadata": {
            "tags": []
          }
        },
        {
          "output_type": "stream",
          "text": [
            "\n",
            "Extracting /content/EMNIST/EMNIST/raw/emnist.zip to /content/EMNIST/EMNIST/raw\n",
            "Processing byclass\n"
          ],
          "name": "stdout"
        },
        {
          "output_type": "stream",
          "text": [
            "/usr/local/lib/python3.7/dist-packages/torchvision/datasets/mnist.py:502: UserWarning: The given NumPy array is not writeable, and PyTorch does not support non-writeable tensors. This means you can write to the underlying (supposedly non-writeable) NumPy array using the tensor. You may want to copy the array to protect its data or make it writeable before converting it to a tensor. This type of warning will be suppressed for the rest of this program. (Triggered internally at  /pytorch/torch/csrc/utils/tensor_numpy.cpp:143.)\n",
            "  return torch.from_numpy(parsed.astype(m[2], copy=False)).view(*s)\n"
          ],
          "name": "stderr"
        },
        {
          "output_type": "stream",
          "text": [
            "Processing bymerge\n",
            "Processing balanced\n",
            "Processing letters\n",
            "Processing digits\n",
            "Processing mnist\n",
            "Done!\n",
            "Shape of the training dataset: torch.Size([697932, 28, 28])\n",
            "Shape of the test dataset: torch.Size([116323, 28, 28])\n"
          ],
          "name": "stdout"
        },
        {
          "output_type": "display_data",
          "data": {
            "image/png": "[encoded data removed]",
            "text/plain": [
              "<Figure size 720x144 with 5 Axes>"
            ]
          },
          "metadata": {
            "tags": []
          }
        }
      ]
    },
    {
      "cell_type": "markdown",
      "metadata": {
        "id": "-RwUK82u4zgo"
      },
      "source": [
        "## Building the Model"
      ]
    },
    {
      "cell_type": "code",
      "metadata": {
        "colab": {
          "base_uri": "https://localhost:8080/"
        },
        "id": "Wo40rPMQkj5T",
        "outputId": "958dd79b-fbf6-420a-ae91-7d97ba5c4171"
      },
      "source": [
        "class Neural_Network(nn.Module):\n",
        "    # Constructor\n",
        "    def __init__(self, num_classes):\n",
        "        super(Neural_Network, self).__init__()\n",
        "\n",
        "        # Defining Fully-Connected Layers\n",
        "        self.fc1 = nn.Linear(28*28, 392) # 28*28 since each image is 28*28\n",
        "        self.fc2 = nn.Linear(392, 196)\n",
        "        self.fc3 = nn.Linear(196, 98)\n",
        "        self.fc4 = nn.Linear(98, num_classes)\n",
        "        \n",
        "        # Activation function\n",
        "        self.relu = nn.ReLU()\n",
        "\n",
        "    def forward(self, x):\n",
        "        \n",
        "        # Need to flatten each image in the batch\n",
        "        x = x.flatten(start_dim=1)\n",
        "\n",
        "        # Input it into the Fully connected layers\n",
        "        x = self.relu(self.fc1(x))\n",
        "        x = self.relu(self.fc2(x))\n",
        "        x = self.relu(self.fc3(x))\n",
        "        x = self.fc4(x)\n",
        "\n",
        "        return x\n",
        "\n",
        "# Getting number of classes\n",
        "num_classes = len(idx_to_class)\n",
        "model = Neural_Network(num_classes)\n",
        "print(model)"
      ],
      "execution_count": 3,
      "outputs": [
        {
          "output_type": "stream",
          "text": [
            "Neural_Network(\n",
            "  (fc1): Linear(in_features=784, out_features=392, bias=True)\n",
            "  (fc2): Linear(in_features=392, out_features=196, bias=True)\n",
            "  (fc3): Linear(in_features=196, out_features=98, bias=True)\n",
            "  (fc4): Linear(in_features=98, out_features=62, bias=True)\n",
            "  (relu): ReLU()\n",
            ")\n"
          ],
          "name": "stdout"
        }
      ]
    },
    {
      "cell_type": "markdown",
      "metadata": {
        "id": "zWO0ZTOm46kb"
      },
      "source": [
        "## Defining Loss Function and Optimizer"
      ]
    },
    {
      "cell_type": "code",
      "metadata": {
        "id": "rCA2ZRN4l4Yc"
      },
      "source": [
        "criterion = nn.CrossEntropyLoss()\n",
        "optimizer = torch.optim.Adam(model.parameters(), lr=0.001)"
      ],
      "execution_count": 4,
      "outputs": []
    },
    {
      "cell_type": "markdown",
      "metadata": {
        "id": "3sDJNGwX5NVq"
      },
      "source": [
        "## Moving model to GPU\n",
        "\n",
        "If you have not changed the runtime type to a GPU, please do so now. This helps with the speed of training."
      ]
    },
    {
      "cell_type": "code",
      "metadata": {
        "colab": {
          "base_uri": "https://localhost:8080/"
        },
        "id": "wnYbtm_hmEF6",
        "outputId": "8ca5cefc-6e0b-4252-9b4f-67816810d0a7"
      },
      "source": [
        "# Use GPU if available\n",
        "device = \"cuda\" if torch.cuda.is_available() else \"cpu\"\n",
        "\n",
        "# Moving model to use GPU\n",
        "model.to(device)"
      ],
      "execution_count": 5,
      "outputs": [
        {
          "output_type": "execute_result",
          "data": {
            "text/plain": [
              "Neural_Network(\n",
              "  (fc1): Linear(in_features=784, out_features=392, bias=True)\n",
              "  (fc2): Linear(in_features=392, out_features=196, bias=True)\n",
              "  (fc3): Linear(in_features=196, out_features=98, bias=True)\n",
              "  (fc4): Linear(in_features=98, out_features=62, bias=True)\n",
              "  (relu): ReLU()\n",
              ")"
            ]
          },
          "metadata": {
            "tags": []
          },
          "execution_count": 5
        }
      ]
    },
    {
      "cell_type": "markdown",
      "metadata": {
        "id": "fwvYKh3R5d-D"
      },
      "source": [
        "## Training the Model"
      ]
    },
    {
      "cell_type": "code",
      "metadata": {
        "colab": {
          "base_uri": "https://localhost:8080/"
        },
        "id": "DQ0GFIxXmIm_",
        "outputId": "7913cc84-9341-4610-8acc-4cf3aaca628b"
      },
      "source": [
        "# Function that returns a torch tensor with predictions to compare with labels\n",
        "def get_preds_from_logits(logits):\n",
        "  # Using softmax to get an array that sums to 1, and then getting the index with the highest value\n",
        "  return torch.nn.functional.softmax(logits, dim=1).argmax(dim=1)\n",
        "\n",
        "epochs = 10\n",
        "train_losses = []\n",
        "train_accuracies = []\n",
        "for epoch in range(1, epochs+1):\n",
        "    train_loss = 0.0\n",
        "\n",
        "    train_counts = 0\n",
        "\n",
        "    ###################\n",
        "    # train the model #\n",
        "    ###################\n",
        "\n",
        "    # Setting model to train mode\n",
        "    model.train()\n",
        "\n",
        "    for images, labels in training_dataloader:\n",
        "\n",
        "        # Moving data to GPU if available\n",
        "        images, labels = images.to(device), labels.to(device)\n",
        "        \n",
        "        # Setting all gradients to zero\n",
        "        optimizer.zero_grad()\n",
        "\n",
        "        # Calculate Output\n",
        "        output = model(images)\n",
        "            \n",
        "        # Calculate Loss\n",
        "        loss = criterion(output, labels)\n",
        "\n",
        "        # Calculate Gradients\n",
        "        loss.backward()\n",
        "\n",
        "        # Perform Gradient Descent Step\n",
        "        optimizer.step()\n",
        "\n",
        "        # Saving loss\n",
        "        train_loss += loss.item()\n",
        "\n",
        "        # Get Predictions\n",
        "        train_preds = get_preds_from_logits(output)\n",
        "\n",
        "        # Saving number of right predictions for accuracy\n",
        "        train_counts += train_preds.eq(labels).sum().item()\n",
        "\n",
        "    # Averaging and Saving Losses\n",
        "    train_loss/=len(training_dataset)\n",
        "    train_losses.append(train_loss)\n",
        "\n",
        "    # Getting accuracies and saving them\n",
        "    train_acc = train_counts/len(training_dataset)\n",
        "    train_accuracies.append(train_acc)\n",
        "\n",
        "\n",
        "    print('Epoch: {} \\tTraining Loss: {:.6f} \\tTraining Accuracy: {:.2f}%'.format(epoch, train_loss, train_acc*100))"
      ],
      "execution_count": 6,
      "outputs": [
        {
          "output_type": "stream",
          "text": [
            "Epoch: 1 \tTraining Loss: 0.000590 \tTraining Accuracy: 67.11%\n",
            "Epoch: 2 \tTraining Loss: 0.000302 \tTraining Accuracy: 80.17%\n",
            "Epoch: 3 \tTraining Loss: 0.000259 \tTraining Accuracy: 82.35%\n",
            "Epoch: 4 \tTraining Loss: 0.000238 \tTraining Accuracy: 83.43%\n",
            "Epoch: 5 \tTraining Loss: 0.000225 \tTraining Accuracy: 84.08%\n",
            "Epoch: 6 \tTraining Loss: 0.000216 \tTraining Accuracy: 84.53%\n",
            "Epoch: 7 \tTraining Loss: 0.000209 \tTraining Accuracy: 84.88%\n",
            "Epoch: 8 \tTraining Loss: 0.000203 \tTraining Accuracy: 85.17%\n",
            "Epoch: 9 \tTraining Loss: 0.000198 \tTraining Accuracy: 85.46%\n",
            "Epoch: 10 \tTraining Loss: 0.000194 \tTraining Accuracy: 85.71%\n"
          ],
          "name": "stdout"
        }
      ]
    },
    {
      "cell_type": "code",
      "metadata": {
        "colab": {
          "base_uri": "https://localhost:8080/",
          "height": 295
        },
        "id": "eXGPgzjCoyP1",
        "outputId": "21aba265-2e5c-42a9-9735-d165bea8a03f"
      },
      "source": [
        "plt.plot(train_losses)\n",
        "plt.xlabel('epoch')\n",
        "plt.ylabel('Mean Squared Error')\n",
        "plt.title('Training Loss')\n",
        "plt.show()"
      ],
      "execution_count": 7,
      "outputs": [
        {
          "output_type": "display_data",
          "data": {
            "image/png": "[encoded data removed]",
            "text/plain": [
              "<Figure size 432x288 with 1 Axes>"
            ]
          },
          "metadata": {
            "tags": [],
            "needs_background": "light"
          }
        }
      ]
    },
    {
      "cell_type": "code",
      "metadata": {
        "colab": {
          "base_uri": "https://localhost:8080/",
          "height": 295
        },
        "id": "RQrT5_XoozJj",
        "outputId": "011af013-8da7-4513-ba2d-3a238e8e9f94"
      },
      "source": [
        "plt.plot(train_accuracies)\n",
        "plt.xlabel('epoch')\n",
        "plt.ylabel('Accuracy')\n",
        "plt.title('Training Accuracy')\n",
        "plt.show()"
      ],
      "execution_count": 8,
      "outputs": [
        {
          "output_type": "display_data",
          "data": {
            "image/png": "[encoded data removed]",
            "text/plain": [
              "<Figure size 432x288 with 1 Axes>"
            ]
          },
          "metadata": {
            "tags": [],
            "needs_background": "light"
          }
        }
      ]
    },
    {
      "cell_type": "markdown",
      "metadata": {
        "id": "e6eJBmOK5plv"
      },
      "source": [
        "## Evaluating the model\n",
        "\n",
        "Here we will display the test loss and accuracy and examples of images that were misclassified."
      ]
    },
    {
      "cell_type": "code",
      "metadata": {
        "colab": {
          "base_uri": "https://localhost:8080/"
        },
        "id": "2AJK0UBvo4Eu",
        "outputId": "ecaf1480-4cf1-4a12-89d2-40843b900f01"
      },
      "source": [
        "test_loss = 0.0\n",
        "test_counts = 0\n",
        "\n",
        "# Setting model to evaluation mode, no parameters will change\n",
        "model.eval()\n",
        "\n",
        "for images, labels in test_dataloader:\n",
        "\n",
        "    # Moving to GPU if available\n",
        "    images, labels = images.to(device), labels.to(device)\n",
        "\n",
        "    # Calculate Output\n",
        "    output = model(images)\n",
        "\n",
        "    # Calculate Loss\n",
        "    loss = criterion(output, labels)\n",
        "\n",
        "    # Saving loss\n",
        "    test_loss += loss.item()\n",
        "\n",
        "    # Get Predictions\n",
        "    test_preds = get_preds_from_logits(output)\n",
        "\n",
        "    # Saving number of right predictions for accuracy\n",
        "    test_counts += test_preds.eq(labels).sum().item()\n",
        "\n",
        "# Calculating test accuracy\n",
        "test_acc = test_counts/len(test_dataset)\n",
        "print('Test Loss: {:.6f} \\tTest Accuracy: {:.2f}%'.format(test_loss, test_acc*100))"
      ],
      "execution_count": 9,
      "outputs": [
        {
          "output_type": "stream",
          "text": [
            "Test Loss: 24.000878 \tTest Accuracy: 84.97%\n"
          ],
          "name": "stdout"
        }
      ]
    },
    {
      "cell_type": "code",
      "metadata": {
        "colab": {
          "base_uri": "https://localhost:8080/",
          "height": 141
        },
        "id": "00KEJ1TRo-Lf",
        "outputId": "c1cb39ae-a008-4254-aa6a-88f41286b291"
      },
      "source": [
        "import torchvision.transforms as transforms\n",
        "\n",
        "# Have to another set of transforms to rotate and flip testing data\n",
        "test_transforms = transforms.Compose([\n",
        "                        # Rotating image 90 degrees counter-clockwise\n",
        "                        transforms.RandomRotation((-90,-90)),\n",
        "                        # Flipping images horizontally\n",
        "                        transforms.RandomHorizontalFlip(p=1)\n",
        "])\n",
        "\n",
        "# Transforming the data and normalizing them\n",
        "test_images = test_transforms(test_dataset.data).to(device)/255\n",
        "# Getting Predictions\n",
        "predictions = get_preds_from_logits(model(test_images))\n",
        "# Getting Labels\n",
        "test_labels = test_dataset.targets.to(device)\n",
        "\n",
        "# Getting misclassified booleans\n",
        "correct_bools = test_labels.eq(predictions)\n",
        "misclassified_indices = []\n",
        "for i in range(len(correct_bools)):\n",
        "    if correct_bools[i] == False:\n",
        "        misclassified_indices.append(i)\n",
        "\n",
        "# Plotting 5 misclassified images\n",
        "plt.figure(figsize=(10,2))\n",
        "for i in range(5):\n",
        "    idx = misclassified_indices[i]\n",
        "    plt.subplot(1,5,i+1)\n",
        "    plt.xticks([])\n",
        "    plt.yticks([])\n",
        "    plt.grid(False)\n",
        "    plt.imshow(test_images[idx].squeeze().cpu().numpy(), cmap=plt.cm.binary)\n",
        "    true_label = idx_to_class[test_labels[idx].item()]\n",
        "    pred_label = idx_to_class[predictions[idx].item()]\n",
        "    plt.xlabel(f'True: {true_label}, Pred: {pred_label}')"
      ],
      "execution_count": 10,
      "outputs": [
        {
          "output_type": "display_data",
          "data": {
            "image/png": "[encoded data removed]",
            "text/plain": [
              "<Figure size 720x144 with 5 Axes>"
            ]
          },
          "metadata": {
            "tags": []
          }
        }
      ]
    },
    {
      "cell_type": "markdown",
      "metadata": {
        "id": "2GMo8IT-AMfN"
      },
      "source": [
        "# How to use Gradio\n",
        "\n",
        "There are three parts of using Gradio\n",
        "1. Define a function that takes input and returns your model's output\n",
        "2. Define what type of input the interface will use\n",
        "3. Define what type of output the interface will give\n",
        "\n",
        "The function `recognize_image` takes a 28x28 image that is not yet normalized and returns a dictionary with the keys being the classes and the values being the probabilities for that class.\n",
        "\n",
        "The class [`gradio.inputs.Image`](https://www.gradio.app/docs#i_image) is used as the input that provides a window in the Gradio interface, but there are many customizations you can provide.\n",
        "\n",
        "These are some the parameters:\n",
        "1. shape - (width, height) shape to crop and resize image to; if None, matches input image size.\n",
        "2. image_mode - \"RGB\" if color, or \"L\" if black and white.\n",
        "3. invert_colors - whether to invert the image as a preprocessing step.\n",
        "4. source - Source of image. \"upload\" creates a box where user can drop an image file, \"webcam\" allows user to take snapshot from their webcam, \"canvas\" defaults to a white image that can be edited and drawn upon with tools.\n",
        "\n",
        "The class [gradio.outputs.Label](https://www.gradio.app/docs#o_label) is used as the output, which provides probabilities to the interface for the purpose of displaying them.\n",
        "\n",
        "These are the parameters:\n",
        "1. num_top_classes - number of most confident classes to show.\n",
        "2. type - Type of value to be passed to component. \"value\" expects a single out label, \"confidences\" expects a dictionary mapping labels to confidence scores, \"auto\" detects return type.\n",
        "3. label - component name in interface.\n",
        "\n",
        "The interface class [gradio.Interface](https://www.gradio.app/docs#interface) is responsible of creating the interface that compiles the type of inputs and outputs. There is a `.launch()` method that launches the interface in this notebook after compiling.\n",
        "\n",
        "These are the parameters used in this interface:\n",
        "1. fn - the function to wrap an interface around.\n",
        "2. inputs - a single Gradio input component, or list of Gradio input components. Components can either be passed as instantiated objects, or referred to by their string shortcuts. The number of input components should match the number of parameters in fn.\n",
        "3. outputs - a single Gradio output component, or list of Gradio output components. Components can either be passed as instantiated objects, or referred to by their string shortcuts. The number of output components should match the number of values returned by fn.\n",
        "4. title - a title for the interface; if provided, appears above the input and output components.\n",
        "5. description - a description for the interface; if provided, appears above the input and output components.\n",
        "6. live - whether the interface should automatically reload on change.\n",
        "7. interpretation - function that provides interpretation explaining prediction output. Pass \"default\" to use built-in interpreter.\n",
        "\n",
        "I will enourage you to view the [documentation](https://www.gradio.app/docs) for the interface, inputs and outputs, you can find all the information you need there. It is helpful to refer to the documentation to understand other parameters that are not used in this lesson."
      ]
    },
    {
      "cell_type": "code",
      "metadata": {
        "colab": {
          "base_uri": "https://localhost:8080/",
          "height": 640
        },
        "id": "gUMbkjZ1zkuX",
        "outputId": "81878163-9742-48df-c9c9-d9367144910c"
      },
      "source": [
        "import gradio\n",
        "import gradio as gr\n",
        "\n",
        "# Function that returns a torch tensor with predictions to compare with labels\n",
        "def get_probs_from_logits(logits):\n",
        "  # Using softmax to get probabilities from the logits\n",
        "  return torch.nn.functional.softmax(logits, dim=1)\n",
        "\n",
        "# Function that takes the img drawn in the Gradio interface, then gives probabilities\n",
        "def recognize_image(img):\n",
        "    # Normalizes inputted image and converts it to a tensor for the model\n",
        "    img = torch.tensor(img/255, dtype=torch.float).unsqueeze(dim=0).to(device)\n",
        "\n",
        "    # Getting output\n",
        "    output = model(img)\n",
        "    \n",
        "    # Getting probabilites of the image\n",
        "    probabilities = get_probs_from_logits(output).flatten()\n",
        "\n",
        "    # Returns a dictionary with the key being the class and val being the probability\n",
        "    probabilities_dict = {idx_to_class[i]:probabilities[i].item() for i in range(num_classes)}\n",
        "\n",
        "    return probabilities_dict\n",
        "\n",
        "im = gradio.inputs.Image(shape=(28, 28),\n",
        "                         image_mode='L',\n",
        "                         invert_colors=True,\n",
        "                         source=\"canvas\")\n",
        "\n",
        "title = \"Number and Letter Classifier App\"\n",
        "description = \"\"\"This app is able to guess the number or letter you draw below.\n",
        "                 The ML model was trained on the EMNIST dataset, please use below!\"\"\"\n",
        "\n",
        "iface = gr.Interface(fn=recognize_image,\n",
        "                     inputs=im,\n",
        "                     outputs=gradio.outputs.Label(num_top_classes=5),\n",
        "                     title=title,\n",
        "                     description=description,\n",
        "                     live=True,\n",
        "                     interpretation=\"default\")\n",
        "\n",
        "iface.launch()"
      ],
      "execution_count": 18,
      "outputs": [
        {
          "output_type": "stream",
          "text": [
            "Colab notebook detected. To show errors in colab notebook, set `debug=True` in `launch()`\n",
            "This share link will expire in 24 hours. If you need a permanent link, visit: https://gradio.app/introducing-hosted (NEW!)\n",
            "Running on External URL: https://27407.gradio.app\n",
            "Interface loading below...\n"
          ],
          "name": "stdout"
        },
        {
          "output_type": "display_data",
          "data": {
            "text/html": [
              "\n",
              "        <iframe\n",
              "            width=\"900\"\n",
              "            height=\"500\"\n",
              "            src=\"https://27407.gradio.app\"\n",
              "            frameborder=\"0\"\n",
              "            allowfullscreen\n",
              "        ></iframe>\n",
              "        "
            ],
            "text/plain": [
              "<IPython.lib.display.IFrame at 0x7fadd6b27ad0>"
            ]
          },
          "metadata": {
            "tags": []
          }
        },
        {
          "output_type": "execute_result",
          "data": {
            "text/plain": [
              "(<Flask 'gradio.networking'>,\n",
              " 'http://127.0.0.1:7864/',\n",
              " 'https://27407.gradio.app')"
            ]
          },
          "metadata": {
            "tags": []
          },
          "execution_count": 18
        }
      ]
    },
    {
      "cell_type": "markdown",
      "metadata": {
        "id": "ptCRnEJxNJ3F"
      },
      "source": [
        "# What's next?\n",
        "\n",
        "The next challenge will cover pretrained models, which are models that are already trained for us and gives us the availability of using the model to make predictions automatically. You will create another Gradio app that uses pretrained models to classify images."
      ]
    }
  ]
}