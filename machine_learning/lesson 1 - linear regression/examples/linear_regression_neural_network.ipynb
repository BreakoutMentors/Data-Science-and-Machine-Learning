{
  "nbformat": 4,
  "nbformat_minor": 0,
  "metadata": {
    "kernelspec": {
      "display_name": "Python 3",
      "language": "python",
      "name": "python3"
    },
    "language_info": {
      "codemirror_mode": {
        "name": "ipython",
        "version": 3
      },
      "file_extension": ".py",
      "mimetype": "text/x-python",
      "name": "python",
      "nbconvert_exporter": "python",
      "pygments_lexer": "ipython3",
      "version": "3.8.0"
    },
    "colab": {
      "name": "linear_regression_neural_network.ipynb",
      "provenance": [],
      "collapsed_sections": [],
      "include_colab_link": true
    }
  },
  "cells": [
    {
      "cell_type": "markdown",
      "metadata": {
        "id": "view-in-github",
        "colab_type": "text"
      },
      "source": [
        "<a href=\"https://colab.research.google.com/github/BreakoutMentors/Data-Science-and-Machine-Learning/blob/adam-migration-to-pytorch/machine_learning/lesson%201%20-%20linear%20regression/examples/linear_regression_neural_network.ipynb\" target=\"_parent\"><img src=\"https://colab.research.google.com/assets/colab-badge.svg\" alt=\"Open In Colab\"/></a>"
      ]
    },
    {
      "cell_type": "markdown",
      "metadata": {
        "id": "fgtcQi5cPcFU"
      },
      "source": [
        "# Regression\n",
        "<figure>\n",
        "<img src='https://media.makeameme.org/created/brace-yourself-regression-599599.jpg' width='50%' height='50%'></img>\n",
        "</figure>\n",
        "\n",
        "\n",
        "Perhaps the most natural machine learning task to wrap our heads around is *regression*--a set of methods for modeling the relationship between one or more independent variables (i.e., $x$) and a dependent variable (i.e., $y$). Regression problems pop up whenever we want to output a *numeric* value. \n",
        "\n",
        "Most applications of regression fall into one of the following two broad categories:\n",
        "- *inference* - to explain the relationship between the inputs and outputs (most common).\n",
        "- *prediction* - to predict numeric outputs given inputs (most common in machine learning). \n",
        "\n",
        "A few everyday examples of regression include predicting prices (of homes, stocks, etc.), predicting length of stay (for patients in the hospital), and demand forecasting (for retail sales). "
      ]
    },
    {
      "cell_type": "markdown",
      "metadata": {
        "id": "UoeVWX-5j7Gt"
      },
      "source": [
        "## Linear Regression\n",
        "<figure>\n",
        "<img src='https://learningstatisticswithr.com/book/lsr_files/figure-html/regression1a-1.png' width='60%'></img>\n",
        "</figure>\n",
        "\n",
        "\n",
        "*Linear regression* is probably the simplest and most popular regression method. It is called \"linear\" regression because we **assume** that the relationship between the independent variables $x$ and the dependent variable  $y$ is linear--that is, $y$ can be expressed as a *weighted sum* of the elements in $x$, plus some *noise* in the data. In mathematical terms this can be expressed as: $$y = wx + b$$\n",
        "where $w$ represents the learnable *weights* and $b$ the *bias* (i.e., you may recognize it as the *intercept*). The weights determine the influence of each feature on the prediction and the bias tells us what the predicted value would be if all the features $x$ values were 0. Given features of a training dataset  $X$  and corresponding (known) labels  $y$ , the goal of linear regression is to find the weight vector $w$  and the bias term  $b$  that given features of a new data sample from the dataset  $X$, the sample's label will (in expectation) be predicted with the lowest *error*.\n",
        "\n",
        "To motivate the linear regression approach, suppose that we wish to estimate the prices of houses (in dollars) based on their area (in square feet). To actually fit a model for *predicting* house prices, we need to get our hands on a dataset consisting of sales for which we know the sale price and area for each home. In machine learning terminology, the dataset is called a *training dataset* or *training set*, and each row (the data corresponding to one sale) is called a *sample*. The thing we are trying to predict (price) is called a *label* (or *target*). The independent variables (only one in this case--area), upon which the predictions are based, are called *features*. \n",
        "\n",
        "Generally, we will use  $n$  to denote the total number of samples in our dataset. We index a sample by $i$, denoting each sample as  $x^{(i)}=[x^{(i)}_{1}]^{⊤}$  ($x^{(i)}_{1}$ represents the area) and the corresponding label as $y^{(i)}$.\n"
      ]
    },
    {
      "cell_type": "markdown",
      "metadata": {
        "id": "_lV-loKm6kLV"
      },
      "source": [
        "## Linear Model\n"
      ]
    },
    {
      "cell_type": "markdown",
      "metadata": {
        "id": "mM4R7LoM6kJo"
      },
      "source": [
        "To make the above linear regression formula more concrete, let's translate it to our house prices example: \n",
        "$$\\text{price} = w_{\\text{area}}\\cdot{area} + b $$\n",
        "where $w_{\\text{area}}$ is the learnable *weight* and $b$ is the *bias* (or *intercept*).\n",
        "\n",
        "The goal is to choose the weight  $w$  and the bias  $b$  such that on average, the predictions made according to our model *best fit* the true prices observed in the data. \n",
        "\n",
        "Before we can go about searching for the best *parameters*  $w$  and  $b$, we will need two more things: (i) a way to measure the quality of the model; and (ii) a procedure for updating the model parameters to improve its accuracy."
      ]
    },
    {
      "cell_type": "markdown",
      "metadata": {
        "id": "LTuHWKk3loN6"
      },
      "source": [
        "# Loss Function\n",
        "<figure>\n",
        "<img src='https://d2l.ai/_images/fit_linreg.svg\n",
        "' width='60%'></img><figcaption>Calculating loss: measuring the distance between the predicion and real value</figcaption>\n",
        "</figure>\n",
        "\n",
        "\n",
        "Before we build our model, we need to determine a measure of fitness. The *loss function* quantifies the distance between the *true* and *predicted* value of the *target*. The loss will usually be a non-negative number where smaller values are better and perfect predictions incur a loss of  0 . The most popular loss function in regression problems is the *sum of squared errors* (SSE). When our prediction for an example  $i$  is  $\\hat{y}^{(i)}$  and the corresponding true label is  $y^{(i)}$ , the squared error is given by:\n",
        "$$\n",
        "l^{(i)}(\\mathbf{w}, b) = \\frac{1}{2} \\left(\\hat{y}^{(i)} - y^{(i)}\\right)^2.\n",
        "$$\n",
        "\n",
        "The constant  1/2  makes no real difference but makes some future math more convenient, cancelling out when we take the *derivative* of the loss (don't worry if you don't know about derivatives yet). To make things more concrete, consider the example above where we plot a regression problem, the blue line corresponds to the prediction vs true value. \n",
        "\n",
        "To measure the quality of a model on the entire dataset, we simply *average* (or equivalently, sum) the losses on the training set.\n",
        "\n",
        "$$\n",
        "L(\\mathbf{w}, b) =\\frac{1}{n}\\sum_{i=1}^n l^{(i)}(\\mathbf{w}, b) =\\frac{1}{n} \\sum_{i=1}^n \\frac{1}{2}\\left(\\mathbf{w}^\\top \\mathbf{x}^{(i)} + b - y^{(i)}\\right)^2.\n",
        "$$\n",
        "\n",
        "When training the model, we want to find parameters ( $w^{∗}$,$b^{∗}$ ) that minimize the total loss across all training examples:\n",
        "\n",
        "$$\n",
        "\\mathbf{w}^*, b^* = \\operatorname*{argmin}_{\\mathbf{w}, b}\\  L(\\mathbf{w}, b).\n",
        "$$\n",
        "\n",
        "But how do actualy find the best parameters to minimize the total loss? We'll use *gradient descent*--a fundemental concept in modern machine learning, particularly *deep learning*.\n"
      ]
    },
    {
      "cell_type": "markdown",
      "metadata": {
        "id": "pHW5a943sDqk"
      },
      "source": [
        "# Gradient Descent\n",
        "\n",
        "<figure>\n",
        "<img src='https://media0.giphy.com/media/O9rcZVmRcEGqI/source.gif' width='100%'></img><figcaption>Gradient descent: finding the best model parameters</figcaption>\n",
        "</figure>\n",
        "\n",
        "The key technique for optimizing nearly any deep learning model, and we can use for linear models too, consists of *iteratively* reducing the error by updating the parameters in the *direction* that incrementally *lowers* the loss function. This algorithm is called *gradient descent*. In general, we can find acceptable parameter values after many interations of reducing the loss.\n",
        "\n",
        "The most naive application of gradient descent consists of taking the derivative of the true loss, which is an average of the losses computed on every single example in the dataset. In practice, this can be extremely slow. We must pass over the entire dataset before making a single update. Thus, we will often settle for sampling a random *batch* of samples every time we need to compute the update, this method is called *stochastic gradient descent*.\n",
        "\n",
        "\n",
        "At a high level, the *stochastic gradient descent* method consists of feeding a random batch of samples to the model, computing the derivative (gradient) of the average loss with respect to the batch samples and the model's current parameter values. Finally, we update the model parameters by multiplying the gradient by a predetermined value called the *learning rate* $ > 0$ and substract the resulting output from the current parameter values.  \n",
        "\n",
        "Let's summarize the steps of *stochastic gradient descent*: \n",
        "1. We initialize the values of the model parameters, typically with random values.\n",
        "2. We iteratively sample random batches from the data (many times), updating the parameters in the direction of the negative gradient.\n",
        "3. After many iterations, we hope that the estimated model parameters ($\\hat{w}, \\hat{b}$, the \"hat\" symbol denotes estimates) can produce acceptable predictions (close enough to the true values).\n",
        "\n",
        "Linear regression can actually be solved using a simpler method than stochastic gradient descent, but the stochastic gradient descent algorithm is so fundemental to deep learning that we will use it for linear regression too. \n"
      ]
    },
    {
      "cell_type": "markdown",
      "metadata": {
        "id": "OFv_ek5F8b1D"
      },
      "source": [
        "# Linear Regression: What makes us happy?\n",
        "Now let's apply the linear regression method to a real-world problem--predicting happiness given features corresponding to a country's population. To fit a model, the process involves several steps: \n",
        "\n",
        "1. Find a dataset related to our question. \n",
        "2. Explore the dataset - clean the data and visualize it (if possible).\n",
        "3. Prepare data for a *model*.\n",
        "4. Build a model. \n",
        "5. Train the model using an algorithm such as stochastic gradient descent.\n",
        "6. Evaluate the quality of our model.\n",
        "7. Draw conclusions. \n",
        "\n",
        "For step 1, we found the World Happiness (https://www.kaggle.com/unsdsn/world-happiness) dataset. The dataset contains information about the state of global happiness with happiness scores and rankings for nearly every country on earth. Pretty cool right! Next, we explore the dataset and define our $x$ and $y$ variables. Then, we build a linear regression model. Following, we train the model using stochastic gradient descent. Finally we evaluate the model and draw conclusions."
      ]
    },
    {
      "cell_type": "code",
      "metadata": {
        "id": "6QeOZ9rN8b1E"
      },
      "source": [
        "# import the libraries we be need\n",
        "import pandas as pd\n",
        "import numpy as np\n",
        "import matplotlib\n",
        "import matplotlib.pyplot as plt\n",
        "\n",
        "# PyTorch\n",
        "import torch\n",
        "import torch.nn as nn"
      ],
      "execution_count": 1,
      "outputs": []
    },
    {
      "cell_type": "markdown",
      "metadata": {
        "id": "AA78zSFaOlje"
      },
      "source": [
        "## 1. Explore + Visualize the dataset"
      ]
    },
    {
      "cell_type": "code",
      "metadata": {
        "id": "Kmr-AHsN8b1J",
        "colab": {
          "base_uri": "https://localhost:8080/",
          "height": 221
        },
        "outputId": "a69c2574-b7e9-439f-e475-e631e33e7fb5"
      },
      "source": [
        "# load the dataset into a dataframe\n",
        "data_url = 'https://raw.githubusercontent.com/krmiddlebrook/intro_to_deep_learning/master/datasets/world-happiness/2019.csv'\n",
        "happy2019 = pd.read_csv(data_url)\n",
        "happy2019.head() # view the first 5 rows of the data"
      ],
      "execution_count": 2,
      "outputs": [
        {
          "output_type": "execute_result",
          "data": {
            "text/html": [
              "<div>\n",
              "<style scoped>\n",
              "    .dataframe tbody tr th:only-of-type {\n",
              "        vertical-align: middle;\n",
              "    }\n",
              "\n",
              "    .dataframe tbody tr th {\n",
              "        vertical-align: top;\n",
              "    }\n",
              "\n",
              "    .dataframe thead th {\n",
              "        text-align: right;\n",
              "    }\n",
              "</style>\n",
              "<table border=\"1\" class=\"dataframe\">\n",
              "  <thead>\n",
              "    <tr style=\"text-align: right;\">\n",
              "      <th></th>\n",
              "      <th>Overall rank</th>\n",
              "      <th>Country or region</th>\n",
              "      <th>Score</th>\n",
              "      <th>GDP per capita</th>\n",
              "      <th>Social support</th>\n",
              "      <th>Healthy life expectancy</th>\n",
              "      <th>Freedom to make life choices</th>\n",
              "      <th>Generosity</th>\n",
              "      <th>Perceptions of corruption</th>\n",
              "    </tr>\n",
              "  </thead>\n",
              "  <tbody>\n",
              "    <tr>\n",
              "      <th>0</th>\n",
              "      <td>1</td>\n",
              "      <td>Finland</td>\n",
              "      <td>7.769</td>\n",
              "      <td>1.340</td>\n",
              "      <td>1.587</td>\n",
              "      <td>0.986</td>\n",
              "      <td>0.596</td>\n",
              "      <td>0.153</td>\n",
              "      <td>0.393</td>\n",
              "    </tr>\n",
              "    <tr>\n",
              "      <th>1</th>\n",
              "      <td>2</td>\n",
              "      <td>Denmark</td>\n",
              "      <td>7.600</td>\n",
              "      <td>1.383</td>\n",
              "      <td>1.573</td>\n",
              "      <td>0.996</td>\n",
              "      <td>0.592</td>\n",
              "      <td>0.252</td>\n",
              "      <td>0.410</td>\n",
              "    </tr>\n",
              "    <tr>\n",
              "      <th>2</th>\n",
              "      <td>3</td>\n",
              "      <td>Norway</td>\n",
              "      <td>7.554</td>\n",
              "      <td>1.488</td>\n",
              "      <td>1.582</td>\n",
              "      <td>1.028</td>\n",
              "      <td>0.603</td>\n",
              "      <td>0.271</td>\n",
              "      <td>0.341</td>\n",
              "    </tr>\n",
              "    <tr>\n",
              "      <th>3</th>\n",
              "      <td>4</td>\n",
              "      <td>Iceland</td>\n",
              "      <td>7.494</td>\n",
              "      <td>1.380</td>\n",
              "      <td>1.624</td>\n",
              "      <td>1.026</td>\n",
              "      <td>0.591</td>\n",
              "      <td>0.354</td>\n",
              "      <td>0.118</td>\n",
              "    </tr>\n",
              "    <tr>\n",
              "      <th>4</th>\n",
              "      <td>5</td>\n",
              "      <td>Netherlands</td>\n",
              "      <td>7.488</td>\n",
              "      <td>1.396</td>\n",
              "      <td>1.522</td>\n",
              "      <td>0.999</td>\n",
              "      <td>0.557</td>\n",
              "      <td>0.322</td>\n",
              "      <td>0.298</td>\n",
              "    </tr>\n",
              "  </tbody>\n",
              "</table>\n",
              "</div>"
            ],
            "text/plain": [
              "   Overall rank Country or region  ...  Generosity  Perceptions of corruption\n",
              "0             1           Finland  ...       0.153                      0.393\n",
              "1             2           Denmark  ...       0.252                      0.410\n",
              "2             3            Norway  ...       0.271                      0.341\n",
              "3             4           Iceland  ...       0.354                      0.118\n",
              "4             5       Netherlands  ...       0.322                      0.298\n",
              "\n",
              "[5 rows x 9 columns]"
            ]
          },
          "metadata": {
            "tags": []
          },
          "execution_count": 2
        }
      ]
    },
    {
      "cell_type": "code",
      "metadata": {
        "id": "Da2arfDeOvX_",
        "colab": {
          "base_uri": "https://localhost:8080/"
        },
        "outputId": "f69f0139-f919-4b5e-c35e-aeaefadfb82e"
      },
      "source": [
        "# how many rows and columns are in the dataset\n",
        "happy2019.shape # looks like 156 rows and 9 columns"
      ],
      "execution_count": 3,
      "outputs": [
        {
          "output_type": "execute_result",
          "data": {
            "text/plain": [
              "(156, 9)"
            ]
          },
          "metadata": {
            "tags": []
          },
          "execution_count": 3
        }
      ]
    },
    {
      "cell_type": "code",
      "metadata": {
        "id": "VQXvyqba3kwQ",
        "colab": {
          "base_uri": "https://localhost:8080/",
          "height": 283
        },
        "outputId": "eaf505e3-ac4e-462c-e4bb-52697e64b19b"
      },
      "source": [
        "# visualize a scatter plot of GDP per capita and happiness score \n",
        "happy2019.plot.scatter(x='GDP per capita',\n",
        "                      y='Score');"
      ],
      "execution_count": 4,
      "outputs": [
        {
          "output_type": "display_data",
          "data": {
            "image/png": "[encoded data removed]",
            "text/plain": [
              "<Figure size 432x288 with 1 Axes>"
            ]
          },
          "metadata": {
            "tags": [],
            "needs_background": "light"
          }
        }
      ]
    },
    {
      "cell_type": "markdown",
      "metadata": {
        "id": "qy1530ik8b1T"
      },
      "source": [
        "The relationship between GDP per capita and happiness Score seems relatively linear. Let's build a linear model to predict happiness score using the GDP per capita feature. Before we do, we need to prepare the training and test dataset our model will use."
      ]
    },
    {
      "cell_type": "markdown",
      "metadata": {
        "id": "dEf5NMjYkGCB"
      },
      "source": [
        "## Prepare the Dataset "
      ]
    },
    {
      "cell_type": "code",
      "metadata": {
        "id": "d_zSR0HP9CHq",
        "colab": {
          "base_uri": "https://localhost:8080/"
        },
        "outputId": "7918edd8-e13b-4cfa-814a-28ef1852b54f"
      },
      "source": [
        "# define the x and y variables \n",
        "x_col = 'GDP per capita'\n",
        "y_col = 'Score'\n",
        "\n",
        "# split the dataset into a training set and a test set.\n",
        "# we will use the test set in the final evaluation of our model.\n",
        "train = happy2019.sample(frac=0.8, random_state=0)\n",
        "test = happy2019.drop(train.index)\n",
        "\n",
        "# Splitting training data into validation data\n",
        "valid = train.sample(frac=0.1, random_state=0)\n",
        "train = train.drop(valid.index) # Deleting rows sampled for validation data\n",
        "\n",
        "# separate the x (features) and y (labels) in the train/valid/test datasets\n",
        "train_features = torch.tensor(train[x_col].values.reshape(-1, 1)).float()\n",
        "test_features = torch.tensor(test[x_col].values.reshape(-1, 1)).float()\n",
        "valid_features = torch.tensor(valid[x_col].values.reshape(-1, 1)).float()\n",
        "\n",
        "train_labels = torch.tensor(train[y_col].values.reshape(-1, 1)).float()\n",
        "test_labels = torch.tensor(test[y_col].values.reshape(-1, 1)).float()\n",
        "valid_labels = torch.tensor(valid[y_col].values.reshape(-1, 1)).float()\n",
        "\n",
        "print('train features shape:', train_features.shape)\n",
        "print('train labels shape:', train_labels.shape)\n",
        "\n",
        "print('validation features shape:', valid_features.shape)\n",
        "print('validation labels shape:', valid_labels.shape)\n",
        "\n",
        "print('test features shape:', test_features.shape)\n",
        "print('test labels shape:', test_labels.shape)\n",
        "\n",
        "print('first 5 test labels:\\n', test_labels[:5])"
      ],
      "execution_count": 5,
      "outputs": [
        {
          "output_type": "stream",
          "text": [
            "train features shape: torch.Size([113, 1])\n",
            "train labels shape: torch.Size([113, 1])\n",
            "validation features shape: torch.Size([12, 1])\n",
            "validation labels shape: torch.Size([12, 1])\n",
            "test features shape: torch.Size([31, 1])\n",
            "test labels shape: torch.Size([31, 1])\n",
            "first 5 test labels:\n",
            " tensor([[7.2460],\n",
            "        [6.7260],\n",
            "        [6.4440],\n",
            "        [6.3540],\n",
            "        [6.3000]])\n"
          ],
          "name": "stdout"
        }
      ]
    },
    {
      "cell_type": "markdown",
      "metadata": {
        "id": "q5fnwk72hSBj"
      },
      "source": [
        "The above code returns a training and test dataset. The GDP per capita variable represents the  *features* data and the happiness Score represents the *labels*. There aretwo datasets--a *training dataset* and a *test dataset*. The `train_features` and `train_labels` arrays represent the features and labels of the training dataset, each containing 125 rows and 1 column. The `test_features` and `test_labels` arrays represent the features and labels of the test dataset, each containing 31 rows and 1 column.  \n",
        "\n",
        "Now that we have the *features* and *labels* separated, we are ready to build our model!"
      ]
    },
    {
      "cell_type": "markdown",
      "metadata": {
        "id": "_Qod9zI2I4iw"
      },
      "source": [
        "## 2. Building a model\n",
        "\n",
        "Before we model the relationship between happiness Score and GDP per capita, let's write what we know about single-variable linear regression. In short, single-variable linear regression tries to find a function that best fits our data (i.e., between an $x$ and $y$ variable). It is defined by the following formula: \n",
        "$$\n",
        "y = wx + b\n",
        "$$\n",
        "\n",
        "We can translate this function to our problem to model the relationship between GDP per capita ($x$) and happiness Score ($y$) as follows:\n",
        "\n",
        "$$ \n",
        "\\text{score} = w_{\\text{GDP per capita}} \\cdot \\text{GDP per capita} + b\n",
        "$$"
      ]
    },
    {
      "cell_type": "markdown",
      "metadata": {
        "id": "YlaNcYLMJz9n"
      },
      "source": [
        "Coding linear regression from scratch can be tedious: we'd need to manually define the parameters (weights and bias), compute gradients, and update the parameters. Fortunately, there are amazing open source libraries we can use to make this process a bit easier.\n",
        "\n",
        "We'll be using [PyTorch](https://pytorch.org/), a Deep Learning library to build and evaluate our linear regression model in the form of neural network. We will create our own `LR_Model` class to define a container for the *layers* of our model. There are two sections to the class, the constructor and the forward method. The constructor is used define the layers, we use using `nn.Linear` class to define those layers. The `forward` method is used to take your input and then you pass that input through your layers to return an output. We don't really need to use this model structure for linear regression (as you saw last lesson). Nonetheless, nearly every model we build in this series will be similar to this lesson so we will use it from here on out.\n"
      ]
    },
    {
      "cell_type": "code",
      "metadata": {
        "id": "jNFNhNUAtBhi",
        "colab": {
          "base_uri": "https://localhost:8080/"
        },
        "outputId": "30d7114f-60af-4d30-c840-898195002d6d"
      },
      "source": [
        "# build the linear model \n",
        "class LR_Model(nn.Module):\n",
        "    # Defining Constructor\n",
        "    def __init__(self):\n",
        "        super(LR_Model, self).__init__()\n",
        "\n",
        "        # Defining Layers\n",
        "        self.fc1 = nn.Linear(1, 1)\n",
        "\n",
        "    def forward(self, x):\n",
        "        return self.fc1(x)\n",
        "\n",
        "# Initializing model\n",
        "model = LR_Model()\n",
        "\n",
        "print('Model Summary')\n",
        "print(model)"
      ],
      "execution_count": 6,
      "outputs": [
        {
          "output_type": "stream",
          "text": [
            "Model Summary\n",
            "LR_Model(\n",
            "  (fc1): Linear(in_features=1, out_features=1, bias=True)\n",
            ")\n"
          ],
          "name": "stdout"
        }
      ]
    },
    {
      "cell_type": "markdown",
      "metadata": {
        "id": "J4JD6_eLv3IX"
      },
      "source": [
        "<!-- TODO: fix figure to one node -->\n",
        "<figure>\n",
        "<img src='https://d2l.ai/_images/singleneuron.svg' width='50%'></img><figcaption>Linear Regression: a single-layer neural network</figcaption>\n",
        "</figure>\n",
        "\n",
        "The model we defined above is a linear model, we could also call it a single-layer *fully-connected* neural network. We defined it using the [`torch.nn.Linear`](https://pytorch.org/docs/stable/generated/torch.nn.Linear.html#torch.nn.Linear) class. Note that we passed two arguments into the `torch.nn.Linear` class. The first one specifies the input feature dimension, which is 1 (GDP per capita), and the second one is the output feature dimension, which is a single scalar and therefore 1. "
      ]
    },
    {
      "cell_type": "markdown",
      "metadata": {
        "id": "lrLfbaRI5Dbk"
      },
      "source": [
        "### Loss Function\n",
        "\n",
        "After defining the model, we need to configure the *loss function*. We will use the mean squared loss, which returns the averaged loss over samples. Here we use PyTorch built-in Mean Squared Error loss function defined as the class [torch.nn.MSELoss](https://pytorch.org/docs/stable/generated/torch.nn.MSELoss.html#torch.nn.MSELoss)."
      ]
    },
    {
      "cell_type": "code",
      "metadata": {
        "id": "JyPXRk6j1ErK"
      },
      "source": [
        "loss_fn = nn.MSELoss()"
      ],
      "execution_count": 7,
      "outputs": []
    },
    {
      "cell_type": "markdown",
      "metadata": {
        "id": "ZrT8n3sg2jMf"
      },
      "source": [
        "### Optimization Algorithm\n",
        "Now that we have a loss function, we need to define an *opimization algorithm*. Specifically, we will use *stochastic gradient descent* to optimize our model. In other words, we use *stochastic gradient descent* to update the model parameters. We also define the *learning rate* as 0.01. We use [`torch.optim.SGD`](https://pytorch.org/docs/stable/optim.html#torch.optim.SGD) class to be used as the optimizer."
      ]
    },
    {
      "cell_type": "code",
      "metadata": {
        "id": "4k1zwXU53RX9"
      },
      "source": [
        "optimizer = torch.optim.SGD(model.parameters(), lr=0.01)"
      ],
      "execution_count": 8,
      "outputs": []
    },
    {
      "cell_type": "markdown",
      "metadata": {
        "id": "B9EvNw5L5m66"
      },
      "source": [
        "## 4. Train the model\n",
        "Now that we have a model, it's time to train it. We will train the model for 100 *epochs* (i.e., iterations), and record the training losses for every epoch."
      ]
    },
    {
      "cell_type": "code",
      "metadata": {
        "id": "LL64Vo7K6eNS",
        "colab": {
          "base_uri": "https://localhost:8080/"
        },
        "outputId": "4cc8edfd-38f4-427d-c83d-0476d15f7ead"
      },
      "source": [
        "epochs = 100\n",
        "train_losses = []\n",
        "valid_losses = []\n",
        "for epoch in range(1, epochs+1):\n",
        "    train_loss = 0.0\n",
        "    valid_loss = 0.0\n",
        "\n",
        "    # Setting model to train mode\n",
        "    model.train()\n",
        "    for train_sample, train_label in zip(train_features, train_labels):\n",
        "        # Setting all gradients to zero\n",
        "        optimizer.zero_grad()\n",
        "\n",
        "        # Calculate Output\n",
        "        output = model(train_sample)\n",
        "        \n",
        "        # Calculate Loss\n",
        "        loss = loss_fn(output, train_label)\n",
        "\n",
        "        # Calculate Gradients\n",
        "        loss.backward()\n",
        "\n",
        "        # Perform Gradient Descent Step\n",
        "        optimizer.step()\n",
        "\n",
        "        # Saving Loss\n",
        "        train_loss += loss.item()\n",
        "\n",
        "    # Setting model to evaluation mode, no parameters will change\n",
        "    model.eval()\n",
        "    for valid_sample, valid_label in zip(valid_features, valid_labels):\n",
        "\n",
        "        # Calculate Output\n",
        "        output = model(valid_sample)\n",
        "\n",
        "        # Calculate Loss\n",
        "        loss = loss_fn(output, valid_label)\n",
        "\n",
        "        # Saving Loss\n",
        "        valid_loss += loss.item()\n",
        "\n",
        "    # Averaging losses and saving it\n",
        "    train_loss /= len(train_features)\n",
        "    valid_loss /= len(valid_features)\n",
        "    train_losses.append(train_loss)\n",
        "    valid_losses.append(valid_loss)\n",
        "\n",
        "\n",
        "    print('Epoch: {} \\tTraining Loss: {:.6f} \\tValidation Loss: {:.6f}'.format(epoch, train_loss, valid_loss))"
      ],
      "execution_count": 9,
      "outputs": [
        {
          "output_type": "stream",
          "text": [
            "Epoch: 1 \tTraining Loss: 5.416364 \tValidation Loss: 0.861685\n",
            "Epoch: 2 \tTraining Loss: 0.559854 \tValidation Loss: 0.774692\n",
            "Epoch: 3 \tTraining Loss: 0.533726 \tValidation Loss: 0.721894\n",
            "Epoch: 4 \tTraining Loss: 0.517354 \tValidation Loss: 0.682115\n",
            "Epoch: 5 \tTraining Loss: 0.506323 \tValidation Loss: 0.651801\n",
            "Epoch: 6 \tTraining Loss: 0.498887 \tValidation Loss: 0.628494\n",
            "Epoch: 7 \tTraining Loss: 0.493876 \tValidation Loss: 0.610425\n",
            "Epoch: 8 \tTraining Loss: 0.490500 \tValidation Loss: 0.596307\n",
            "Epoch: 9 \tTraining Loss: 0.488226 \tValidation Loss: 0.585200\n",
            "Epoch: 10 \tTraining Loss: 0.486695 \tValidation Loss: 0.576407\n",
            "Epoch: 11 \tTraining Loss: 0.485665 \tValidation Loss: 0.569406\n",
            "Epoch: 12 \tTraining Loss: 0.484973 \tValidation Loss: 0.563806\n",
            "Epoch: 13 \tTraining Loss: 0.484508 \tValidation Loss: 0.559307\n",
            "Epoch: 14 \tTraining Loss: 0.484196 \tValidation Loss: 0.555680\n",
            "Epoch: 15 \tTraining Loss: 0.483986 \tValidation Loss: 0.552746\n",
            "Epoch: 16 \tTraining Loss: 0.483847 \tValidation Loss: 0.550368\n",
            "Epoch: 17 \tTraining Loss: 0.483753 \tValidation Loss: 0.548435\n",
            "Epoch: 18 \tTraining Loss: 0.483691 \tValidation Loss: 0.546861\n",
            "Epoch: 19 \tTraining Loss: 0.483649 \tValidation Loss: 0.545578\n",
            "Epoch: 20 \tTraining Loss: 0.483622 \tValidation Loss: 0.544531\n",
            "Epoch: 21 \tTraining Loss: 0.483604 \tValidation Loss: 0.543674\n",
            "Epoch: 22 \tTraining Loss: 0.483592 \tValidation Loss: 0.542973\n",
            "Epoch: 23 \tTraining Loss: 0.483585 \tValidation Loss: 0.542400\n",
            "Epoch: 24 \tTraining Loss: 0.483580 \tValidation Loss: 0.541930\n",
            "Epoch: 25 \tTraining Loss: 0.483577 \tValidation Loss: 0.541545\n",
            "Epoch: 26 \tTraining Loss: 0.483575 \tValidation Loss: 0.541229\n",
            "Epoch: 27 \tTraining Loss: 0.483574 \tValidation Loss: 0.540971\n",
            "Epoch: 28 \tTraining Loss: 0.483573 \tValidation Loss: 0.540758\n",
            "Epoch: 29 \tTraining Loss: 0.483572 \tValidation Loss: 0.540584\n",
            "Epoch: 30 \tTraining Loss: 0.483572 \tValidation Loss: 0.540441\n",
            "Epoch: 31 \tTraining Loss: 0.483572 \tValidation Loss: 0.540323\n",
            "Epoch: 32 \tTraining Loss: 0.483572 \tValidation Loss: 0.540227\n",
            "Epoch: 33 \tTraining Loss: 0.483572 \tValidation Loss: 0.540148\n",
            "Epoch: 34 \tTraining Loss: 0.483572 \tValidation Loss: 0.540083\n",
            "Epoch: 35 \tTraining Loss: 0.483572 \tValidation Loss: 0.540029\n",
            "Epoch: 36 \tTraining Loss: 0.483572 \tValidation Loss: 0.539986\n",
            "Epoch: 37 \tTraining Loss: 0.483573 \tValidation Loss: 0.539950\n",
            "Epoch: 38 \tTraining Loss: 0.483573 \tValidation Loss: 0.539920\n",
            "Epoch: 39 \tTraining Loss: 0.483573 \tValidation Loss: 0.539895\n",
            "Epoch: 40 \tTraining Loss: 0.483573 \tValidation Loss: 0.539876\n",
            "Epoch: 41 \tTraining Loss: 0.483573 \tValidation Loss: 0.539859\n",
            "Epoch: 42 \tTraining Loss: 0.483573 \tValidation Loss: 0.539846\n",
            "Epoch: 43 \tTraining Loss: 0.483573 \tValidation Loss: 0.539835\n",
            "Epoch: 44 \tTraining Loss: 0.483573 \tValidation Loss: 0.539825\n",
            "Epoch: 45 \tTraining Loss: 0.483573 \tValidation Loss: 0.539818\n",
            "Epoch: 46 \tTraining Loss: 0.483573 \tValidation Loss: 0.539812\n",
            "Epoch: 47 \tTraining Loss: 0.483573 \tValidation Loss: 0.539807\n",
            "Epoch: 48 \tTraining Loss: 0.483573 \tValidation Loss: 0.539803\n",
            "Epoch: 49 \tTraining Loss: 0.483573 \tValidation Loss: 0.539799\n",
            "Epoch: 50 \tTraining Loss: 0.483573 \tValidation Loss: 0.539796\n",
            "Epoch: 51 \tTraining Loss: 0.483573 \tValidation Loss: 0.539794\n",
            "Epoch: 52 \tTraining Loss: 0.483573 \tValidation Loss: 0.539792\n",
            "Epoch: 53 \tTraining Loss: 0.483573 \tValidation Loss: 0.539790\n",
            "Epoch: 54 \tTraining Loss: 0.483573 \tValidation Loss: 0.539789\n",
            "Epoch: 55 \tTraining Loss: 0.483573 \tValidation Loss: 0.539788\n",
            "Epoch: 56 \tTraining Loss: 0.483573 \tValidation Loss: 0.539788\n",
            "Epoch: 57 \tTraining Loss: 0.483573 \tValidation Loss: 0.539787\n",
            "Epoch: 58 \tTraining Loss: 0.483573 \tValidation Loss: 0.539787\n",
            "Epoch: 59 \tTraining Loss: 0.483573 \tValidation Loss: 0.539786\n",
            "Epoch: 60 \tTraining Loss: 0.483573 \tValidation Loss: 0.539786\n",
            "Epoch: 61 \tTraining Loss: 0.483573 \tValidation Loss: 0.539785\n",
            "Epoch: 62 \tTraining Loss: 0.483573 \tValidation Loss: 0.539785\n",
            "Epoch: 63 \tTraining Loss: 0.483573 \tValidation Loss: 0.539785\n",
            "Epoch: 64 \tTraining Loss: 0.483573 \tValidation Loss: 0.539785\n",
            "Epoch: 65 \tTraining Loss: 0.483573 \tValidation Loss: 0.539785\n",
            "Epoch: 66 \tTraining Loss: 0.483573 \tValidation Loss: 0.539784\n",
            "Epoch: 67 \tTraining Loss: 0.483573 \tValidation Loss: 0.539784\n",
            "Epoch: 68 \tTraining Loss: 0.483573 \tValidation Loss: 0.539784\n",
            "Epoch: 69 \tTraining Loss: 0.483573 \tValidation Loss: 0.539784\n",
            "Epoch: 70 \tTraining Loss: 0.483573 \tValidation Loss: 0.539784\n",
            "Epoch: 71 \tTraining Loss: 0.483573 \tValidation Loss: 0.539784\n",
            "Epoch: 72 \tTraining Loss: 0.483573 \tValidation Loss: 0.539784\n",
            "Epoch: 73 \tTraining Loss: 0.483573 \tValidation Loss: 0.539784\n",
            "Epoch: 74 \tTraining Loss: 0.483573 \tValidation Loss: 0.539784\n",
            "Epoch: 75 \tTraining Loss: 0.483573 \tValidation Loss: 0.539784\n",
            "Epoch: 76 \tTraining Loss: 0.483573 \tValidation Loss: 0.539784\n",
            "Epoch: 77 \tTraining Loss: 0.483573 \tValidation Loss: 0.539784\n",
            "Epoch: 78 \tTraining Loss: 0.483573 \tValidation Loss: 0.539784\n",
            "Epoch: 79 \tTraining Loss: 0.483573 \tValidation Loss: 0.539784\n",
            "Epoch: 80 \tTraining Loss: 0.483573 \tValidation Loss: 0.539784\n",
            "Epoch: 81 \tTraining Loss: 0.483573 \tValidation Loss: 0.539784\n",
            "Epoch: 82 \tTraining Loss: 0.483573 \tValidation Loss: 0.539784\n",
            "Epoch: 83 \tTraining Loss: 0.483573 \tValidation Loss: 0.539784\n",
            "Epoch: 84 \tTraining Loss: 0.483573 \tValidation Loss: 0.539784\n",
            "Epoch: 85 \tTraining Loss: 0.483573 \tValidation Loss: 0.539784\n",
            "Epoch: 86 \tTraining Loss: 0.483573 \tValidation Loss: 0.539784\n",
            "Epoch: 87 \tTraining Loss: 0.483573 \tValidation Loss: 0.539784\n",
            "Epoch: 88 \tTraining Loss: 0.483573 \tValidation Loss: 0.539784\n",
            "Epoch: 89 \tTraining Loss: 0.483573 \tValidation Loss: 0.539784\n",
            "Epoch: 90 \tTraining Loss: 0.483573 \tValidation Loss: 0.539784\n",
            "Epoch: 91 \tTraining Loss: 0.483573 \tValidation Loss: 0.539784\n",
            "Epoch: 92 \tTraining Loss: 0.483573 \tValidation Loss: 0.539784\n",
            "Epoch: 93 \tTraining Loss: 0.483573 \tValidation Loss: 0.539784\n",
            "Epoch: 94 \tTraining Loss: 0.483573 \tValidation Loss: 0.539784\n",
            "Epoch: 95 \tTraining Loss: 0.483573 \tValidation Loss: 0.539784\n",
            "Epoch: 96 \tTraining Loss: 0.483573 \tValidation Loss: 0.539784\n",
            "Epoch: 97 \tTraining Loss: 0.483573 \tValidation Loss: 0.539784\n",
            "Epoch: 98 \tTraining Loss: 0.483573 \tValidation Loss: 0.539784\n",
            "Epoch: 99 \tTraining Loss: 0.483573 \tValidation Loss: 0.539784\n",
            "Epoch: 100 \tTraining Loss: 0.483573 \tValidation Loss: 0.539784\n"
          ],
          "name": "stdout"
        }
      ]
    },
    {
      "cell_type": "markdown",
      "metadata": {
        "id": "-xv6IaPv8FcV"
      },
      "source": [
        "We get to ~0.539784 validation mean squared error after training for 100 epochs on the training dataset. Let's check the model's training progress by looking at a plot of the validation loss.\n",
        "\n"
      ]
    },
    {
      "cell_type": "markdown",
      "metadata": {
        "id": "tQSZuns88fhs"
      },
      "source": [
        "Let's visualize it too."
      ]
    },
    {
      "cell_type": "code",
      "metadata": {
        "id": "DuNpvE5C8eOr",
        "colab": {
          "base_uri": "https://localhost:8080/",
          "height": 295
        },
        "outputId": "a6f9f81f-34d5-4b97-c2ea-6f26e1478ff4"
      },
      "source": [
        "#hist.plot.line(x='epoch', y='val_mean_squared_error');\n",
        "plt.plot(valid_losses)\n",
        "plt.xlabel('epoch')\n",
        "plt.ylabel('Mean Squared Error')\n",
        "plt.title('Validation Loss')\n",
        "plt.show()"
      ],
      "execution_count": 10,
      "outputs": [
        {
          "output_type": "display_data",
          "data": {
            "image/png": "[encoded data removed]",
            "text/plain": [
              "<Figure size 432x288 with 1 Axes>"
            ]
          },
          "metadata": {
            "tags": [],
            "needs_background": "light"
          }
        }
      ]
    },
    {
      "cell_type": "markdown",
      "metadata": {
        "id": "NDqDbYQc-b1m"
      },
      "source": [
        "From the plot we can see that our model *converged* just before the 30th epoch. In other words, the most optimal parameters (weights and bias)were found ofter 30 training iterations. "
      ]
    },
    {
      "cell_type": "markdown",
      "metadata": {
        "id": "de62RpCv_ion"
      },
      "source": [
        "## 5. Evaluate the model\n",
        "Now that we trained our model, it's time to evaluate it by using the *test* dataset, which we did not use when training the model. This gives us a sense of how well our model predicts unseen data, which is the case when we use it in the real world. We will use the `evaluate` method to test the model. "
      ]
    },
    {
      "cell_type": "code",
      "metadata": {
        "id": "qn9i35lI_h6L",
        "colab": {
          "base_uri": "https://localhost:8080/"
        },
        "outputId": "6bb1a18a-62d0-4818-827d-39914e42da55"
      },
      "source": [
        "# Setting model to evaluation mode\n",
        "model.eval()\n",
        "\n",
        "# Getting Predictions\n",
        "predictions = model(test_features)\n",
        "\n",
        "# Calculating loss, which is the Mean Squared Error\n",
        "loss = loss_fn(predictions, test_labels)\n",
        "\n",
        "print('Test set Mean Absolute Error: ', round(loss.item(), 4))"
      ],
      "execution_count": 11,
      "outputs": [
        {
          "output_type": "stream",
          "text": [
            "Test set Mean Absolute Error:  0.3836\n"
          ],
          "name": "stdout"
        }
      ]
    },
    {
      "cell_type": "code",
      "metadata": {
        "colab": {
          "base_uri": "https://localhost:8080/"
        },
        "id": "hKdfF6PeLq1-",
        "outputId": "8abf3eb1-7233-4f59-e2f3-82b0d355e50a"
      },
      "source": [
        "predictions.flatten()"
      ],
      "execution_count": 12,
      "outputs": [
        {
          "output_type": "execute_result",
          "data": {
            "text/plain": [
              "tensor([6.5079, 6.3342, 6.0119, 6.3022, 5.6577, 5.9319, 6.4759, 6.1193, 6.0188,\n",
              "        4.8303, 6.0668, 4.9286, 5.7651, 6.0028, 5.5228, 6.1536, 6.0622, 5.5297,\n",
              "        5.6531, 5.1937, 4.3824, 5.7788, 5.3057, 4.2316, 4.2430, 4.9858, 5.4497,\n",
              "        3.5299, 4.1013, 4.7778, 4.1836], grad_fn=<ViewBackward>)"
            ]
          },
          "metadata": {
            "tags": []
          },
          "execution_count": 12
        }
      ]
    },
    {
      "cell_type": "markdown",
      "metadata": {
        "id": "-Oex24IXB8Ku"
      },
      "source": [
        "The mean squared error is 0.3836 for happiness Score. Is this good? We'll leave that decision up to you. Let's also visualize the prediction and real happiness Score values using data in the test set."
      ]
    },
    {
      "cell_type": "code",
      "metadata": {
        "id": "hfYGBlJOCgkf",
        "colab": {
          "base_uri": "https://localhost:8080/",
          "height": 279
        },
        "outputId": "9dc01e0f-8fee-4010-b99c-126e84e6b522"
      },
      "source": [
        "# Flattening test predictions\n",
        "predictions = predictions.flatten().detach().numpy()\n",
        "\n",
        "ax = plt.axes(aspect='equal')\n",
        "plt.scatter(test_labels, predictions)\n",
        "plt.xlabel('True Values [Happiness Score]')\n",
        "plt.ylabel('Predictions [Happiness Score]')\n",
        "lims = [0, max(test_labels) + 1] # [0, 31]\n",
        "plt.xlim(lims)\n",
        "plt.ylim(lims)\n",
        "_ = plt.plot(lims, lims)"
      ],
      "execution_count": 13,
      "outputs": [
        {
          "output_type": "display_data",
          "data": {
            "image/png": "[encoded data removed]",
            "text/plain": [
              "<Figure size 432x288 with 1 Axes>"
            ]
          },
          "metadata": {
            "tags": [],
            "needs_background": "light"
          }
        }
      ]
    },
    {
      "cell_type": "markdown",
      "metadata": {
        "id": "f5c_PyRzDdL9"
      },
      "source": [
        "It looks like our model predicts reasonably well. Let's take a look at the error distribution."
      ]
    },
    {
      "cell_type": "code",
      "metadata": {
        "id": "40XijR03DrET",
        "colab": {
          "base_uri": "https://localhost:8080/",
          "height": 279
        },
        "outputId": "544c1d34-a6dd-44a6-a798-4586b1b04a7d"
      },
      "source": [
        "error = predictions - test_labels.flatten().detach().numpy()\n",
        "plt.hist(error, bins = 10)\n",
        "plt.xlabel(\"Prediction Error [Happiness Score]\")\n",
        "_ = plt.ylabel(\"Count\")"
      ],
      "execution_count": 14,
      "outputs": [
        {
          "output_type": "display_data",
          "data": {
            "image/png": "[encoded data removed]",
            "text/plain": [
              "<Figure size 432x288 with 1 Axes>"
            ]
          },
          "metadata": {
            "tags": [],
            "needs_background": "light"
          }
        }
      ]
    },
    {
      "cell_type": "markdown",
      "metadata": {
        "id": "Ij1MDhAbEpZ6"
      },
      "source": [
        "The histogram shows that the errors aren't quite *Normally distributed* (also called *gaussian*), but we might expect that because the number of samples is very small."
      ]
    },
    {
      "cell_type": "markdown",
      "metadata": {
        "id": "vd6RuVz5FDZM"
      },
      "source": [
        "## 6. Draw Conclusions\n",
        "We built a single-layer fully-connected neural network model to predict happiness Score given a country's GDP per capita. The model converged after about 30 epochs of training, and it achieved a mean squared error of 0.384. We expect that a *deeper* model or more data samples or features could lead to better results on unseen data.     "
      ]
    },
    {
      "cell_type": "markdown",
      "metadata": {
        "id": "wTQXVOX3GITZ"
      },
      "source": [
        "# Summary\n",
        "In this lesson we took a deeper dive into regression, translating traditional linear  regression into a single-layer fully-connected neural network. We covered several important techniques to handle regression problems:\n",
        "- Introduced *loss functions* and *optimization algorithms*.\n",
        "- Demonstrated preparing data for a model.\n",
        "- Used PyTorch to build and train a model. \n",
        "- Showed how to evaluate a model."
      ]
    },
    {
      "cell_type": "code",
      "metadata": {
        "id": "UCOUYOD8VExr"
      },
      "source": [
        ""
      ],
      "execution_count": 14,
      "outputs": []
    }
  ]
}