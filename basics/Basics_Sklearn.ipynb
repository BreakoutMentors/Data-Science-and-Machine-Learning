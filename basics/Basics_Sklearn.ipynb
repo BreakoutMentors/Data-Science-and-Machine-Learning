{
  "nbformat": 4,
  "nbformat_minor": 0,
  "metadata": {
    "colab": {
      "name": "Basics_Sklearn.ipynb",
      "provenance": [],
      "authorship_tag": "ABX9TyNgqqpLVYZrqsipEJR3Cfsb",
      "include_colab_link": true
    },
    "kernelspec": {
      "name": "python3",
      "display_name": "Python 3"
    }
  },
  "cells": [
    {
      "cell_type": "markdown",
      "metadata": {
        "id": "view-in-github",
        "colab_type": "text"
      },
      "source": [
        "<a href=\"https://colab.research.google.com/github/krmiddlebrook/intro_to_graphing_in_python/blob/master/notebooks/Basics_Sklearn.ipynb\" target=\"_parent\"><img src=\"https://colab.research.google.com/assets/colab-badge.svg\" alt=\"Open In Colab\"/></a>"
      ]
    },
    {
      "cell_type": "markdown",
      "metadata": {
        "id": "YiZqpcEl4VME",
        "colab_type": "text"
      },
      "source": [
        "# Sklearn Basics"
      ]
    },
    {
      "cell_type": "code",
      "metadata": {
        "id": "fEdsZQPH4Rfg",
        "colab_type": "code",
        "colab": {
          "base_uri": "https://localhost:8080/",
          "height": 102
        },
        "outputId": "43a76d2a-cd69-4e50-a9d6-31268481380d"
      },
      "source": [
        "# loading example dataset\n",
        "from sklearn import datasets\n",
        "\n",
        "iris = datasets.load_iris() # for classification\n",
        "diabetes = datasets.load_diabetes() # for regression\n",
        "\n",
        "# access the x variables/features\n",
        "print('x variables:', diabetes.data[:2])\n",
        "\n",
        "# access the y variable\n",
        "print('y variables:', diabetes.target[:2])"
      ],
      "execution_count": 8,
      "outputs": [
        {
          "output_type": "stream",
          "text": [
            "x variables: [[ 0.03807591  0.05068012  0.06169621  0.02187235 -0.0442235  -0.03482076\n",
            "  -0.04340085 -0.00259226  0.01990842 -0.01764613]\n",
            " [-0.00188202 -0.04464164 -0.05147406 -0.02632783 -0.00844872 -0.01916334\n",
            "   0.07441156 -0.03949338 -0.06832974 -0.09220405]]\n",
            "y variables: [151.  75.]\n"
          ],
          "name": "stdout"
        }
      ]
    },
    {
      "cell_type": "code",
      "metadata": {
        "id": "mdpDG2bB5_Mr",
        "colab_type": "code",
        "colab": {
          "base_uri": "https://localhost:8080/",
          "height": 34
        },
        "outputId": "9103b37e-6a40-471c-f972-28b509b2eae2"
      },
      "source": [
        "# building a model\n",
        "from sklearn.linear_model import LinearRegression\n",
        "\n",
        "# initialize model\n",
        "model = LinearRegression(fit_intercept=True)\n",
        "\n",
        "X = diabetes.data[:-5]\n",
        "y = diabetes.target[:-5]\n",
        "# fit the model to the data\n",
        "model.fit(X, y)"
      ],
      "execution_count": 15,
      "outputs": [
        {
          "output_type": "execute_result",
          "data": {
            "text/plain": [
              "LinearRegression(copy_X=True, fit_intercept=True, n_jobs=None, normalize=False)"
            ]
          },
          "metadata": {
            "tags": []
          },
          "execution_count": 15
        }
      ]
    },
    {
      "cell_type": "code",
      "metadata": {
        "id": "2CQBZztF7tFq",
        "colab_type": "code",
        "colab": {
          "base_uri": "https://localhost:8080/",
          "height": 51
        },
        "outputId": "ee341ad0-ac0b-4d15-dd1e-22f31a089165"
      },
      "source": [
        "# make predictions\n",
        "preds = model.predict(diabetes.data[-5:])\n",
        "ground_truths = diabetes.target[-5:]\n",
        "print('predictions:', preds)\n",
        "print('ground truths:', ground_truths)"
      ],
      "execution_count": 16,
      "outputs": [
        {
          "output_type": "stream",
          "text": [
            "predictions: [193.18480457 100.91408578 121.25560507 211.85564659  53.11807403]\n",
            "ground truths: [178. 104. 132. 220.  57.]\n"
          ],
          "name": "stdout"
        }
      ]
    },
    {
      "cell_type": "code",
      "metadata": {
        "id": "b95cxHnK7-zB",
        "colab_type": "code",
        "colab": {}
      },
      "source": [
        ""
      ],
      "execution_count": 0,
      "outputs": []
    }
  ]
}