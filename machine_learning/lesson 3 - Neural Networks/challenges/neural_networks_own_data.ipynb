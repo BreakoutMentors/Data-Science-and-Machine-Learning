{
  "nbformat": 4,
  "nbformat_minor": 0,
  "metadata": {
    "colab": {
      "name": "challenge 2 - neural networks .ipynb",
      "provenance": [],
      "authorship_tag": "ABX9TyMXCTscN75LWtoB2ZO/cz26",
      "include_colab_link": true
    },
    "kernelspec": {
      "name": "python3",
      "display_name": "Python 3"
    }
  },
  "cells": [
    {
      "cell_type": "markdown",
      "metadata": {
        "id": "view-in-github",
        "colab_type": "text"
      },
      "source": [
        "<a href=\"https://colab.research.google.com/github/krmiddlebrook/intro_to_deep_learning/blob/master/machine_learning/lesson%203%20-%20Neural%20Networks/challenges/neural_networks_own_data.ipynb\" target=\"_parent\"><img src=\"https://colab.research.google.com/assets/colab-badge.svg\" alt=\"Open In Colab\"/></a>"
      ]
    },
    {
      "cell_type": "markdown",
      "metadata": {
        "id": "j5tjTDNmgWup",
        "colab_type": "text"
      },
      "source": [
        "# Neural network with your own dataset\n",
        "The goal in this challenge is to find an image classification dataset on the web, import it into this notebook, and to build a feed forward neural network classifier to distinguish between different image classes. Use Tensorflow to build, train, and evaluate the model. We recommend running your code on a GPU/TPU (Click on Runtime => Change runtime type => Hardware Accelerator => GPU).\n",
        "\n",
        "Challenges:\n",
        "1. Load and prepare the dataset.\n",
        "2. Build the model.\n",
        "3. Train the model.\n",
        "4. Evaluate the model.\n",
        "5. Draw conclusions. \n"
      ]
    },
    {
      "cell_type": "code",
      "metadata": {
        "id": "foMBp5MTfHNP",
        "colab_type": "code",
        "colab": {}
      },
      "source": [
        "# import the libraries we need\n",
        "import pandas as pd\n",
        "import numpy as np\n",
        "import matplotlib.pyplot as plt\n",
        "\n",
        "# TensorFlow and tf.keras\n",
        "import tensorflow as tf\n",
        "from tensorflow import keras\n",
        "from tensorflow.keras import layers"
      ],
      "execution_count": null,
      "outputs": []
    },
    {
      "cell_type": "markdown",
      "metadata": {
        "id": "4E-X1Z9dTANK",
        "colab_type": "text"
      },
      "source": [
        "# 1. Load and prepare the data \n",
        "Load the dataset, and prepare it for the model. \n",
        "\n",
        "Hints: \n",
        "- Define the features ($\\mathbf{x}$) and labels ($y$). Make sure to properly encode the labels (think one-hot encoding).    \n",
        "- Split the dataset into training and test sets.\n",
        "- Separate the features and labels in training set and test set."
      ]
    },
    {
      "cell_type": "code",
      "metadata": {
        "id": "hAjCB4CrggwB",
        "colab_type": "code",
        "colab": {}
      },
      "source": [
        "# your code here\n"
      ],
      "execution_count": null,
      "outputs": []
    },
    {
      "cell_type": "markdown",
      "metadata": {
        "id": "s5bO4KyxSoy3",
        "colab_type": "text"
      },
      "source": [
        "# 2. Build your model\n",
        "Build a model to model the relationship between the features $x$ (multiple features) and labels $y$ (Type 1).\n",
        "\n",
        "\n",
        "Hints:\n",
        "- use the `Sequential` class to define a container for the layers of your model.\n",
        "- use the `layers.Dense` class with the softmax activation to define your softmax classifier layer\n",
        "- define your loss function with the appropriate loss, using either `keras.losses.CategoricalCrossEntropy` or `keras.losses.BinaryCrossentropy`.\n",
        "- configure the optimization algorithm with stochastic gradient descent\n",
        "- track the accuracy metric\n",
        "- glue the model, loss function, optimizer, and metrics together  "
      ]
    },
    {
      "cell_type": "code",
      "metadata": {
        "id": "zgNpVNPylBo0",
        "colab_type": "code",
        "colab": {}
      },
      "source": [
        "# your code here\n",
        "model = keras.Sequential([\n",
        "        \n",
        "        ])"
      ],
      "execution_count": null,
      "outputs": []
    },
    {
      "cell_type": "markdown",
      "metadata": {
        "id": "uxXkdszdaWOx",
        "colab_type": "text"
      },
      "source": [
        "# 3. Train your model\n",
        "Now that you have a model, it's time to train it. Train your model for 100 epochs (i.e., iterations), and record the training and validation metrics in the history object."
      ]
    },
    {
      "cell_type": "code",
      "metadata": {
        "id": "z7ixliHPbBOh",
        "colab_type": "code",
        "colab": {}
      },
      "source": [
        "# your code here\n",
        "\n"
      ],
      "execution_count": null,
      "outputs": []
    },
    {
      "cell_type": "markdown",
      "metadata": {
        "id": "6jIPMBcCbQHh",
        "colab_type": "text"
      },
      "source": [
        "Visualize the accuracy metric over the training process. Hint: create a line chart with the epoch (x) and the accuracy (y).  "
      ]
    },
    {
      "cell_type": "code",
      "metadata": {
        "id": "AnAzMXGIcID_",
        "colab_type": "code",
        "colab": {}
      },
      "source": [
        "# your code here\n"
      ],
      "execution_count": null,
      "outputs": []
    },
    {
      "cell_type": "markdown",
      "metadata": {
        "id": "-JYygMTpbJ7y",
        "colab_type": "text"
      },
      "source": [
        "# 4. Evaluate the model\n",
        "Now that the model is trained, it's time to evaluate it using the test dataset, which you did not use when training the model. This gives you a sense of how well the model predicts unseen data, which is the case when you use it in the real world. Make sure to evaluate the model and visualize it's predictions against the true values. \n",
        "\n",
        "Hints: \n",
        "- use the `evaluate` method to test the model\n",
        "- use the `predict` method to make predictions given test features. \n",
        "- visualize the predictions against the real  labels using matplotlib's pyplot API methods like `scatter` and `plot`."
      ]
    },
    {
      "cell_type": "code",
      "metadata": {
        "id": "Oz5dKGh2d38y",
        "colab_type": "code",
        "colab": {}
      },
      "source": [
        "# your code here"
      ],
      "execution_count": null,
      "outputs": []
    },
    {
      "cell_type": "markdown",
      "metadata": {
        "id": "eN1XYgl-d-be",
        "colab_type": "text"
      },
      "source": [
        "# 5. Draw conclusions\n",
        "Write up your conclusions about the model. Report the goal, the model design, and the results. Make sure to contextualize the model results as best you can."
      ]
    },
    {
      "cell_type": "markdown",
      "metadata": {
        "id": "ocjwpN6aesnH",
        "colab_type": "text"
      },
      "source": [
        ""
      ]
    }
  ]
}