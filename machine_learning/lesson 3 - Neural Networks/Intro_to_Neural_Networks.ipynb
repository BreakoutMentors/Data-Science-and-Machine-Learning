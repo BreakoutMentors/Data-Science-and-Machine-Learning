{
  "nbformat": 4,
  "nbformat_minor": 0,
  "metadata": {
    "colab": {
      "name": "Intro-to-Neural-Networks.ipynb",
      "provenance": [],
      "include_colab_link": true
    },
    "kernelspec": {
      "name": "python3",
      "display_name": "Python 3"
    },
    "accelerator": "GPU"
  },
  "cells": [
    {
      "cell_type": "markdown",
      "metadata": {
        "id": "view-in-github",
        "colab_type": "text"
      },
      "source": [
        "<a href=\"https://colab.research.google.com/github/BreakoutMentors/Data-Science-and-Machine-Learning/blob/adam-migration-to-pytorch/Intro_to_Neural_Networks.ipynb\" target=\"_parent\"><img src=\"https://colab.research.google.com/assets/colab-badge.svg\" alt=\"Open In Colab\"/></a>"
      ]
    },
    {
      "cell_type": "markdown",
      "metadata": {
        "id": "r0mauKRSBpNE"
      },
      "source": [
        "# Intro to Neural Networks\n",
        "<figure><img src='https://mk0analyticsindf35n9.kinstacdn.com/wp-content/uploads/2018/12/nural-network-banner.gif' width='70%'></img><figcaption>A Feed Forward Neural Network</figcaption>\n",
        "</figure>\n",
        "\n",
        "\n",
        "\n",
        "In the previous lesson, we introduced the softmax regression method to solve multi-class classification tasks, implementing a classifer to recognize 10 handwritten digits from the MNIST digits dataset. \n",
        "\n",
        "We've come a long way and covered many concepts throughout this series, with each lesson building on the previous material. We've learned how to clean data, create linear models (via linear regression), coerce model outputs into a valid probability distribution (via logistic and softmax regression), train models using Sklearn and PyTorch, apply the appropriate loss function, and to minimize it with respect to our model's parameters (via optimization algorithms). Now that we have a healthy understanding of these concepts in the context of simple linear models, we are ready to explore neural networks--one of the most exciting and successful methods in modern machine learning! \n",
        "\n",
        "In this lesson, we describe deep linear neural networks at a high level, focusing on their structure, and demonstrate how to build one using PyTorch. \n",
        "\n",
        "To make this lesson more approachable, we don't cover every detail about neural networks here, but we aim to provide enough information for you to create your own  neural networks and to inspire you to explore deep learning in more detail.  \n",
        " \n",
        "Lesson roadmap: \n",
        "- High level introduction to *neural networks*.\n",
        "- Building neural networks in Python - recreating the feed forward neural network model in 3Blue1Brown's excellent video [But what is a Neural Network? | Deep learning, chapter 1](https://www.youtube.com/watch?v=aircAruvnKk&t=436s) and training it to classify handwritten digits. As you will see, this simple feed forward neural network achieves impressive results. \n",
        "\n",
        "\n"
      ]
    },
    {
      "cell_type": "markdown",
      "metadata": {
        "id": "L_vNvRWXQPJ-"
      },
      "source": [
        "## Neural Networks\n",
        "Although neural networks only recently became popular, they've been around for quite some time. In fact, they first appeared in machine learning research way back in the late 1950s! But they didn't become popular until after 2012, when researchers built a neural network to classify different kinds of labeled images, achieving groundbreaking results (see [ImageNet Classification with Deep Convolutional\n",
        "Neural Networks](http://papers.nips.cc/paper/4824-imagenet-classification-with-deep-convolutional-neural-networks.pdf)). Since then, neural networks have become widely used in machine learning. Neural networks are successful, in part, because they can effectively learn representations of complex data (e.g., images, text, sound, tabular, etc.), especially given enough data and computing power.    \n",
        "\n",
        "At a high level, there are three fundemental types of neural networks: 1) encoders, 2) decoders, or 3) a combination of both. We will focus on *encoders*. \n",
        "\n",
        "Encoder networks take in some input data (i.e., images, texts, sounds, etc.) and output *predictions*, just like the linear models we've been working with. The simplest type of neural networks are called feed forward neural networks (FFNNs), and they consist of many *layers* of *neurons* each *fully-connected* to those in the layer below (from which they receive input) and those above (which they, in turn, influence). \n",
        "\n",
        "FFNNs may sound complex right now, but hang in there. In many ways FFNNs are the superpowered version of the linear models we already know about. Like the linear models we've discussed (linear/logistic/softmax regression), neural networks can be configured to solve different kinds of tasks: either *regression* or *classification*. \n",
        "\n",
        "\n",
        "Here are some quick facts about neural networks:\n",
        "- They are effective models for learning to represent complex data (like images, text, sound, tabular, etc.).\n",
        "- Encoder-based networks, which take input data and output predictions, are probably the most common neural networks - they are useful for classification and regression tasks\n",
        "- Feed forward neural networks (FFNNs) are the simplest type of neural network. They consist of many *layers* of *neurons* each *fully-connected* to those in the layer below (from which they receive input) and those above (which they, in turn, influence). \n",
        "- FFNNs are like linear models on steriods. They have many more parameters than simple linear models, which enables them to learn more complex relationships from the input data. \n",
        "- Even though FFNNs are the simplest kind of neural network, they can be very effective. \n",
        "\n"
      ]
    },
    {
      "cell_type": "markdown",
      "metadata": {
        "id": "Ig4f4QOYdvNM"
      },
      "source": [
        "**Challenge:** What are two tasks that you think encoder networks might be at good at solving?"
      ]
    },
    {
      "cell_type": "markdown",
      "metadata": {
        "id": "bd3jWYZoLbjV"
      },
      "source": [
        "### Feed Forward Neural Networks\n",
        "<figure><img src='https://thumbs.gfycat.com/WeepyConcreteGemsbok-size_restricted.gif' width='100%'></img><figcaption>A Feed Forward Neural Network | <em>Source: <a href='https://www.youtube.com/watch?v=aircAruvnKk&t=436s'>3Blue1Brown - But what is a Neural Network? Deep Learning Part 1</a></em></figcaption>\n",
        "</figure>\n",
        "\n",
        "Did you watch the [3Blue1Brown video on neural networks](https://www.youtube.com/watch?v=aircAruvnKk&t=436s)? If you haven't yet, I highly recommend checking it out (feel free to rewatch it too, it's a great overview of neural networks). I'll frequently be referencing important concepts that the video talks about. \n",
        "\n",
        "In the following sections, we will summarize the key concepts behind neural networks. First, we describe the motivation and inspiration behind neural networks. Then, we dive into the structure of neural networks, outlining a few critical pieces that make them work. \n",
        "\n",
        "*Note, we describe these concepts from the perspective of a feed forward neural network. That said, the fundemental ideas discussed generalize to almost every type of neural network.*"
      ]
    },
    {
      "cell_type": "markdown",
      "metadata": {
        "id": "pMetO8ANP0Ft"
      },
      "source": [
        "#### Neural Networks: Neural Network $=$ Brain?\n",
        "<figure><img src='https://github.com/BreakoutMentors/Data-Science-and-Machine-Learning/blob/master/images/neural-network-brain-pizza-yoda-analogy.png?raw=true' width='75%'></img><figcaption>\"Pizza, I like\" - Yoda</figcaption>\n",
        "</figure>\n",
        "\n",
        "\n",
        "\n",
        "No, neural networks $\\neq$ brains.\n",
        "While neural networks don't actually operate like brains, they were inspired by them. \n",
        "\n",
        "Let's consider an extremely oversimplified version of the brain. The brain is an organ that uses neurons to process information and make decisions. The neurons are what the brain uses to process data (i.e., information about the world). When some piece of data is sent to a neuron it activates (or dpesn't). The magnitude/strength (i.e., positive or negative) of the activation triggers other groups of neurons to activate (or not). Eventually, this process outputs a decision--based on a combination of the prior triggers and activations--as a response to the input data. As an example, let's say there is a pizza in the kitchen and my nose picks up the scent. The smell of freshly baked dough and melted cheese activates my \"I'm hungry neurons\". Eventually, I can't ignore these neurons any longer, so I run to the kitchen and eat some pizza.\n"
      ]
    },
    {
      "cell_type": "markdown",
      "metadata": {
        "id": "qjoDiltUbVTg"
      },
      "source": [
        "#### Neural Networks: Neurons\n",
        "<figure><img src='https://github.com/BreakoutMentors/Data-Science-and-Machine-Learning/blob/master/images/neuron-3blue1brown.png?raw=true' width='75%'></img><figcaption>Neural Networks: Neuron | <em>Source: <a href='https://www.youtube.com/watch?v=aircAruvnKk&t=436s'>3Blue1Brown - But what is a Neural Network? Deep Learning Part 1</a></em></figcaption>\n",
        "</figure>\n",
        "\n",
        "**Neurons** are at the core of neural networks (after all, they are practically in the name). At a high level, a neuron holds a corresponding value (i.e., number) called an **activation**. The activation can be represented by a tiny value, a large value, or a value somewhere in between. A neuron is \"lit up\" (i.e., activated) when its corresponding activation is large, and it is \"dim\" (i.e., not very activated) when its activation is small. Connecting this to the pizza example, my \"I'm hungry neurons\" lit up after I smelled the pizza in the kitchen.    \n",
        "\n"
      ]
    },
    {
      "cell_type": "markdown",
      "metadata": {
        "id": "iCxJiSdYOGjl"
      },
      "source": [
        "#### Neural Networks: Layers\n",
        "<figure><img src='https://miro.medium.com/max/1280/1*_nTmA2RowzQBCqI9BVtmEQ.gif' width='75%'></img><figcaption>The Neural Network's Secret Sauce: Stacking Layers | <em>Source: <a href='https://www.youtube.com/watch?v=aircAruvnKk&t=436s'>3Blue1Brown - But what is a Neural Network? Deep Learning Part 1</a></em></figcaption>\n",
        "</figure>\n",
        "\n",
        "The secret sauce driving neural networks is the technique of *stacking layers*. At a high level, this method enables the neural network to learn an effective representation of the data. The layers that are in between the input layer and the output layer are called *hidden layers*.\n",
        "\n",
        "A **layer** is composed of a set of **neurons**. We can manually configure the number of neurons we want to have in each layer, except for in the first and last ones. When we add more neurons and layers to the model, we add more parameters (weights and biases) to it. As a result, larger models (models with many parameters) can be computationally expensive, but very effective. This creates a trade-off between computation effeciency and model representation ability (making smaller models as effective as bigger ones is an active area of research). \n",
        "\n",
        "For classification tasks, the number of neurons in the last layer is determined by the number of categories/classes in the dataset. While in regression tasks, there is generally only one neurons in the final layer, since we are predicting a continuous value (e.g., the happiness score for a particular country). "
      ]
    },
    {
      "cell_type": "markdown",
      "metadata": {
        "id": "KlPlPHMIiQMb"
      },
      "source": [
        "**Challenge:** In the above figure (from previous cell), how many layers are in the neural network? How many are hidden layers? How many neurons are in the first layer? How many are in the last layer? "
      ]
    },
    {
      "cell_type": "markdown",
      "metadata": {
        "id": "KTaJK53oefzY"
      },
      "source": [
        ""
      ]
    },
    {
      "cell_type": "markdown",
      "metadata": {
        "id": "aoGtSuj-h7D9"
      },
      "source": [
        "#### Neural Networks: Weights & Activation Functions \n",
        "<figure><img src='https://thumbs.gfycat.com/BabyishGeneralFruitfly-size_restricted.gif' width='65%'></img><figcaption>Calculating a Neuron's Activation: Connections and Weights (1) | <em>Source: <a href='https://www.youtube.com/watch?v=aircAruvnKk&t=436s'>3Blue1Brown - But what is a Neural Network? Deep Learning Part 1</a></em></figcaption>\n",
        "</figure>\n",
        "\n",
        "<figure><img src='https://thumbs.gfycat.com/GlitteringCavernousGoosefish-small.gif' width='65%'></img><figcaption>Calculating a Neuron's Activation: Connections and Weights (2)| <em>Source: <a href='https://www.youtube.com/watch?v=aircAruvnKk&t=436s'>3Blue1Brown - But what is a Neural Network? Deep Learning Part 1</a></em></figcaption>\n",
        "</figure>\n",
        "\n",
        "Neural networks pass information through the network using connections between pairs of neurons in adjacent layers. Each connection has a corresponding **weight** parameter that is learned during the model training phase. As shown in the figure above, the activation of a neuron in a subsequent layer is determined by the *weighted sum* of the weights and activations of the neurons in the previous layer (i.e., connections). A **bias** term is added at the end of the weighted sum to control how large/small a neuron's weighted sum must be to activate. Before the neuron receives a final activation value, the weighted sum is *squeezed* by an **activation function**. \n",
        "\n",
        "Activation functions and parameters (weights and biases)may sound intimidating. Fortunately, you already know a lot about these concepts: 1) the *sigmoid* and *softmax* logit functions are examples of activation functions, 2) linear models (linear/logistic/softmax) use the same *weighted sum* method to activate neurons in subsequent layers, the difference is these networks only have one layer after the input. \n",
        "\n",
        "As you may remember from the logistic and softmax lessons, these logit functions convert the inputs to a valid probability space. An activation function, more generally, can be defined as any function that transforms the neuron output. It is common to choose an activation function that normalizes the input between 0 and 1 or -1 and 1. \n",
        "\n",
        "\n",
        "Activation functions play a critical role in building effective deep neural networks. They can help the network converge quickly (find the right parameters) and improve the model's overall performance. \n",
        "\n",
        "In the diagrams above, the second layer has one neuron. This neuron is connected to every other neuron in the previous layer. Consequently, it has 784 connections plus one bias term. That's a lot of number crunching! For this reason, we generally select activation functions that can be computed effeciently (quickly). \n",
        "\n",
        "<figure><img src='https://github.com/BreakoutMentors/Data-Science-and-Machine-Learning/blob/master/images/sigmoid-activation-3Blue1Brown.png?raw=true' width='65%'></img><figcaption>Calculating a Neuron's Activation: Sigmoid Activation Function (2)| <em>Source: <a href='https://www.youtube.com/watch?v=aircAruvnKk&t=436s'>3Blue1Brown - But what is a Neural Network? Deep Learning Part 1</a></em></figcaption>\n",
        "</figure>\n",
        "\n",
        "So far we've only discussed connections and activations in the context of one neuron in a subsequent layer. But, most layers have many neurons. The good news is, we calculate neuron activations in the same way as before. The bad news is, we have to repeat the calculation process many times over. For example, in the diagrams below we see that all 16 neurons in the 2nd layer are connected to every other neuron in the 1st layer (i.e., 784 neurons). Thus, we need to  perform $784\\times16$ weights $ + 16$ biases calculations to get the activations for the 16 neurons in the 2nd layer. Doing this by hand would be way too difficult, but luckily, we can make computers do most of the heavy lifting. \n",
        "\n",
        "<figure><img src='https://github.com/BreakoutMentors/Data-Science-and-Machine-Learning/blob/master/images/2-layer-weights-biases-connections-3Blue1Brown.png?raw=true' width='65%'></img><figcaption>Calculating a Neuron's Activation: Sigmoid Activation Function (2) | <em>Source: <a href='https://www.youtube.com/watch?v=aircAruvnKk&t=436s'>3Blue1Brown - But what is a Neural Network? Deep Learning Part 1</a></em></figcaption>\n",
        "</figure>\n"
      ]
    },
    {
      "cell_type": "markdown",
      "metadata": {
        "id": "RRgYYTTyiI1_"
      },
      "source": [
        "**Challenge:** In the below neural network diagram, how many weights and biases are there between the 2nd layer and the 3rd layer? How many total weights and biases are there in the entire network? Hint: all neurons are connected to every other neuron in the previous layer. \n",
        "\n",
        "<figure><img src='https://thumbs.gfycat.com/DeadlyDeafeningAtlanticblackgoby-poster.jpg' width='65%'></img><figcaption>A Neural Network: Total Weights & Biases | <em>Source: <a href='https://www.youtube.com/watch?v=aircAruvnKk&t=436s'>3Blue1Brown - But what is a Neural Network? Deep Learning Part 1</a></em></figcaption>\n",
        "</figure>"
      ]
    },
    {
      "cell_type": "markdown",
      "metadata": {
        "id": "yt1EV_1rXaj8"
      },
      "source": [
        "## Building a Neural Network: Summary\n",
        "Now that we know a little about neural networks, it's time to make our own! In this section, we demonstrate how to build a neural network in Python using PyTorch. Specifically, we implement the neural network from 3Blue1Brown's video [But what is a Neural Network? Deep Learning Part 1](https://www.youtube.com/watch?v=aircAruvnKk&t=436s) to classify 10 types of handwritten digits from the MNIST dataset. Before we start, let's summarize what we know so far about neural networks:\n",
        "- *Stacking layers* is their secret sauce - enabling the model to learn an effective representations of the data (most of the time).\n",
        "- Layers are comprised of *neurons*. We configure the number of neurons in *hidden layers*. \n",
        "- Neurons hold a corresponding *activation* - large activations \"light up\" neurons.   \n",
        "- The activations of neurons are determined by the weighted sum of their *connections* with the previous layer's neurons - quantified by *weights* and a *bias* term. The resulting output is then squeezed by an *activation function* such as the *sigmoid* function.\n",
        "- For classification tasks, the number of neurons in the last layer corresponds to the number of classes/categories in the dataset.    \n",
        "\n",
        "Now, it's time to make our first neural network!"
      ]
    },
    {
      "cell_type": "markdown",
      "metadata": {
        "id": "eJK_aPDqWWV4"
      },
      "source": [
        "### Classification of Handwritten Digits with a Feed Forward Neural Network\n",
        "<figure><img src='https://thumbs.gfycat.com/ViciousUnnaturalAmethystsunbird-max-1mb.gif' width='75%'></img><figcaption>A Neural Network: Total Weights & Biases | <em>Source: <a href='https://www.youtube.com/watch?v=aircAruvnKk&t=436s'>3Blue1Brown - But what is a Neural Network? Deep Learning Part 1</a></em></figcaption>\n",
        "</figure>\n",
        "\n",
        "In this section, we will recreate the feed forward neural network (FFNN) from 3Blue1Brown's video [But what is a Neural Network? Deep Learning Part 1](https://www.youtube.com/watch?v=aircAruvnKk&t=436s) and use it to classify handwritten digits from the MNIST dataset. This process involves several steps: 1) [loading the dataset](#-Step-1:-Loading-the-Dataset), 2) [building the model](#-Step-2:-Building-the-Model), 3) [training the model](#-Step-3:-Training-the-Model), 4) [testing the model](#-Step-4:-Testing-the-Model).\n",
        "\n"
      ]
    },
    {
      "cell_type": "markdown",
      "metadata": {
        "id": "uHnGsX_4X_HN"
      },
      "source": [
        "### Prerequisites: Google Colab + building neural networks in python \n",
        "We recommend that you run this this notebook in the cloud on Google Colab, if you're not already doing so. It's the simplest way to get started. Google Colab gives you free access to specialized compute resources called [GPUs](https://en.wikipedia.org/wiki/Graphics_processing_unit) and [TPUs](https://en.wikipedia.org/wiki/Tensor_processing_unit). In modern machine learning these resources are frequently used because they significantly speed up model training compared to using [CPUs](https://en.wikipedia.org/wiki/Central_processing_unit) (your computer is probably using CPUs). At a high level, GPUs and TPUs are special types of computer chips that excel at performing computations on large matrices. They perform mathematical matrix operations like multiplication, addition, subtraction, etc. at a much higher rate (i.e., speed) than CPUs.    \n",
        "\n",
        "Native Python code won't run on GPUs and TPUs because they use specialized operating system *kernels*. We could convert our code to a language that these kernals can understand, but that would be a very tedious and frustrating process. Fortunately, there are several open-source Python libraries exist that do the heavy lifting for us. In particular, the two most popular open-source libraries are [PyTorch](https://pytorch.org/) and [Tensorflow](https://www.tensorflow.org/). These libraries enable us to build custom neural networks in Python that can run on GPUs and TPUs! \n",
        "\n",
        "In this lesson we will use PyTorch because it is a bit easier to use (while you are learning about neural networks) and it comes preinstalled in Google Colab. It is also possible to [install PyTorch locally](https://pytorch.org/get-started/locally/). But, the simple solution is normally best (i.e., use Google Colab).\n",
        "\n",
        "Lastly, to accelerate model training time, you may want to run this notebook on a GPU in Google Colab. To do this, click on the \"Runtime\" tab in the top left corner of the notebook, click \"Change runtime type\", and select the \"GPU\" option under \"Hardware accelerator\". "
      ]
    },
    {
      "cell_type": "code",
      "metadata": {
        "id": "9-ZEitUdbQJo"
      },
      "source": [
        "# Importing PyTorch and torchvision\n",
        "import torch\n",
        "import torch.nn as nn\n",
        "import torchvision\n",
        "\n",
        "# Commonly used modules\n",
        "import numpy as np\n",
        "import os\n",
        "import sys\n",
        "\n",
        "# Images, plots, display, and visualization\n",
        "import matplotlib.pyplot as plt\n",
        "import pandas as pd\n",
        "import seaborn as sns\n",
        "import cv2\n",
        "import IPython\n",
        "from six.moves import urllib"
      ],
      "execution_count": 1,
      "outputs": []
    },
    {
      "cell_type": "markdown",
      "metadata": {
        "id": "cu7E8vdNnetM"
      },
      "source": [
        "## 1. Finding and preparing the dataset\n",
        "For step 1, we found the [MNIST dataset](http://yann.lecun.com/exdb/mnist/). The dataset contains 70k standardized grayscale images of handwritten digits at a resolution of $28 \\times 28$ pixels. Our goal is to build a classification model to take one of these images as input and predict the most likely digit contained in the image (along with a relative confidence about the prediction):\n",
        "\n",
        "<figure><img src=\"https://i.imgur.com/ITrm9x4.png\" width=\"65%\"><figcaption><em>Source: <a href=\"https://deeplearning.mit.edu/\">MIT Deep Learning</a></em></figcaption></figure>\n",
        "\n",
        "\n",
        "Loading the dataset will return two PyTorch Datasets:\n",
        "* The `training_data` dataset contains both matching training images and their labels-—the data the model uses to learn.\n",
        "* The `test_data` dataset contains both matching test images and their labels--the data the model is tested on.\n",
        "\n",
        "The images are $1\\times28\\times28$ PyTorch tensors (i.e., the x variables), with pixel values ranging between 0 and 1(usually 0-255 but the pixels were already standardized). The *labels* (i.e., $y$) are an array of integers, ranging from 0 to 9. Usually we have to use *one-hot encoding* (the technique we learned about in the logistic regression lesson) to convert these labels to vectors (i.e., arrays with mostly 0s and a 1 at the index that corresponds to the data sample's digit category), however PyTorch does this for us with the loss function. The images are *standardized* already by PyTorch. This is achieved by dividing the pixels of each image by 255 (i.e., the max pixel value). Standardizing the data encourages our model to learn more generalizable features and helps it perform better on outside data. The final data processing step is \"flattening\" the $28\\times28$ image pixel matrices into 784 image pixel arrays, and this is done when the image is passed in the model. We reshape the image matrices into arrays because our model expects the input to be a vector/array with 784 features (i.e., values). \n",
        "\n",
        "Now, let's load the data!"
      ]
    },
    {
      "cell_type": "code",
      "metadata": {
        "id": "BoRQV2SJOUux",
        "colab": {
          "base_uri": "https://localhost:8080/"
        },
        "outputId": "ce45ca35-7cf9-464b-c772-57fae94427cb"
      },
      "source": [
        "# Downloading the data\n",
        "root = '/content/MNIST'\n",
        "training_data = torchvision.datasets.MNIST(root, \n",
        "                                           train=True, \n",
        "                                           download=True,\n",
        "                                           transform=torchvision.transforms.ToTensor())\n",
        "test_data = torchvision.datasets.MNIST(root, \n",
        "                                           train=False, \n",
        "                                           download=True,\n",
        "                                           transform=torchvision.transforms.ToTensor())\n",
        "\n",
        "# Loading Data\n",
        "training_dataloader = torch.utils.data.DataLoader(training_data,\n",
        "                                                  batch_size=128,\n",
        "                                                  shuffle=True)\n",
        "\n",
        "test_dataloader = torch.utils.data.DataLoader(test_data,\n",
        "                                                  batch_size=128,\n",
        "                                                  shuffle=False)\n",
        "\n",
        "print('Length of training dataset: {}'.format(len(training_data)))\n",
        "print('Length of test dataset: {}'.format(len(test_data)))\n",
        "images, labels = next(iter(training_dataloader))\n",
        "\n",
        "print('\\nTraining batch feature dimension: {}'.format(images.shape))\n",
        "print('Testing batch feature dimension: {}'.format(labels.shape))\n",
        "print('\\nFirst 5 labels:', labels[:5])"
      ],
      "execution_count": 2,
      "outputs": [
        {
          "output_type": "stream",
          "text": [
            "Length of training dataset: 60000\n",
            "Length of test dataset: 10000\n",
            "\n",
            "Training batch feature dimension: torch.Size([128, 1, 28, 28])\n",
            "Testing batch feature dimension: torch.Size([128])\n",
            "\n",
            "First 5 labels: tensor([2, 0, 2, 5, 3])\n"
          ],
          "name": "stdout"
        }
      ]
    },
    {
      "cell_type": "markdown",
      "metadata": {
        "id": "jnGClpLKpbsP"
      },
      "source": [
        "Let's display the first 5 images from the *training set* and display the class name below each image."
      ]
    },
    {
      "cell_type": "code",
      "metadata": {
        "id": "Oe6oeXCBpY9U",
        "colab": {
          "base_uri": "https://localhost:8080/",
          "height": 141
        },
        "outputId": "fc088df3-cdfc-4eb3-9adb-dda2ff6f484e"
      },
      "source": [
        "plt.figure(figsize=(10,2))\n",
        "for i in range(5):\n",
        "    plt.subplot(1,5,i+1)\n",
        "    plt.xticks([])\n",
        "    plt.yticks([])\n",
        "    plt.grid(False)\n",
        "    plt.imshow(training_data[i][0].numpy().reshape(28, 28), cmap=plt.cm.binary)\n",
        "    plt.xlabel(training_data[i][1])"
      ],
      "execution_count": 3,
      "outputs": [
        {
          "output_type": "display_data",
          "data": {
            "image/png": "[encoded data removed]",
            "text/plain": [
              "<Figure size 720x144 with 5 Axes>"
            ]
          },
          "metadata": {
            "tags": []
          }
        }
      ]
    },
    {
      "cell_type": "markdown",
      "metadata": {
        "id": "7H65HEL3dnKJ"
      },
      "source": [
        "#### Step 2: Building the Model\n",
        "Remember that the secret sauce of neural networks is *stacking layers*? In code, we take advantage of this secret sauce by constructing several layers and combining them to create a neural network model. Building the model is a two step process that involves 1) stacking layers together using `torch.nn.Linear`, 2) Define the loss function and optimizer to have the model converge. \n",
        "\n",
        "* **Loss function** - measures how accurate the model is during training, we want to minimize the value this function returns using an optimization method.\n",
        "* **Optimizer** - defines the optimization method to use to update the model's weights based on the data it sees and its loss function.\n",
        "\n",
        "\n"
      ]
    },
    {
      "cell_type": "markdown",
      "metadata": {
        "id": "cNAeKxvdBzPS"
      },
      "source": [
        "**Building the Model - Step 1: Stacking Layers with `torch.nn.Linear`**\n",
        "\n",
        "The [3Blue1Brown video](https://www.youtube.com/watch?v=aircAruvnKk&t=436s) used a feed forward neural network with 2 hidden layers to classify handwritten digits. To recreate this neural network, first we need to build a model that 1) takes 784 image pixel feature vectors as input, 2) has 2 hidden layers with 16 neurons and the sigmoid activation function, and 3) includes a final layer with 10 neurons (i.e., there are 10 digit classes so we need 10 neurons) and the *softmax* activation function. The softmax activation function normalizes the activations for the output neurons such that:\n",
        "- every activation is between 0 and 1\n",
        "- the sum of all activations is 1\n",
        "\n",
        "Notice that the softmax activation is similar to the sigmoid activation--neuron activations are squeezed between 0 and 1. Softmax differs from sigmoid by constraining the sum of all activations to 1. For multi-class classification problems, where multiple categories/classes are present in the y variable, it is common to use the softmax activation (or a varient) in the final layer. This is because the softmax activation enables us to treat the final neuron activations as confidence values (i.e., probabilities). The neuron with the largest activation is selected as the category/class prediction.       \n",
        "\n",
        "Let's see what this looks like in Python code."
      ]
    },
    {
      "cell_type": "code",
      "metadata": {
        "colab": {
          "base_uri": "https://localhost:8080/"
        },
        "id": "4ty7RVQcnkHM",
        "outputId": "4104819a-f7a3-4348-e46d-2efa65e9cdf9"
      },
      "source": [
        "class Softmax_Model(nn.Module):\n",
        "    # Contructor\n",
        "    def __init__(self, num_classes):\n",
        "        super(Softmax_Model, self).__init__()\n",
        "\n",
        "        # Defining Fully-Connected Layers\n",
        "        self.fc1 = nn.Linear(28*28, 16) # 28*28 since each image is 28*28\n",
        "        self.fc2 = nn.Linear(16, 16)\n",
        "        self.fc3 = nn.Linear(16, num_classes)\n",
        "        \n",
        "        # Activation function\n",
        "        self.relu = nn.ReLU()\n",
        "\n",
        "    def forward(self, x):\n",
        "        \n",
        "        # Need to flatten each image in the batch\n",
        "        x = x.flatten(start_dim=1)\n",
        "\n",
        "        # Input it into the Fully connected layers\n",
        "        x = self.relu(self.fc1(x))\n",
        "        x = self.relu(self.fc2(x))\n",
        "        x = self.fc3(x)\n",
        "\n",
        "        return x\n",
        "\n",
        "num_classes = 10\n",
        "model = Softmax_Model(num_classes)\n",
        "print(model)"
      ],
      "execution_count": 4,
      "outputs": [
        {
          "output_type": "stream",
          "text": [
            "Softmax_Model(\n",
            "  (fc1): Linear(in_features=784, out_features=16, bias=True)\n",
            "  (fc2): Linear(in_features=16, out_features=16, bias=True)\n",
            "  (fc3): Linear(in_features=16, out_features=10, bias=True)\n",
            "  (relu): ReLU()\n",
            ")\n"
          ],
          "name": "stdout"
        }
      ]
    },
    {
      "cell_type": "markdown",
      "metadata": {
        "id": "0SCDKeEKPCgf"
      },
      "source": [
        "**Building the Model - Step 2: Defining the Loss Function and Optimizer\n",
        "\n",
        "The model structure is defined in step 1, so most of the building process is finished. We will use categorical cross entropy for the loss function and an Adam optimizer.\n",
        "\n"
      ]
    },
    {
      "cell_type": "code",
      "metadata": {
        "id": "O9R_3BWjpGPM"
      },
      "source": [
        "# Defining loss function\n",
        "criterion = nn.CrossEntropyLoss()\n",
        "\n",
        "# Defining optimizer\n",
        "optimizer = torch.optim.Adam(model.parameters(), lr=0.001)"
      ],
      "execution_count": 5,
      "outputs": []
    },
    {
      "cell_type": "markdown",
      "metadata": {
        "id": "fVrlp2oKVRvT"
      },
      "source": [
        "Now, we can train the model! "
      ]
    },
    {
      "cell_type": "markdown",
      "metadata": {
        "id": "PiCTup_LfIrt"
      },
      "source": [
        "#### Step 3: Training the Model \n",
        "\n",
        "Training the neural network model requires the following steps:\n",
        "\n",
        "1. Feed the training data to the model—in this example, the `train_images` and `train_labels` batch in `train_dataloader`.\n",
        "2. The model learns to associate images and labels.\n",
        "3. We ask the model to make predictions on a test set—in this example, the `test_dataloader` Dataloader. We verify that the predictions match the labels from the `test_dataloader` Dataloader. "
      ]
    },
    {
      "cell_type": "code",
      "metadata": {
        "colab": {
          "base_uri": "https://localhost:8080/"
        },
        "id": "AXfAcQkOrTXR",
        "outputId": "ad9f6f5b-482b-4b29-eb15-fd1d35664057"
      },
      "source": [
        "# Use GPU if available\n",
        "device = \"cuda\" if torch.cuda.is_available() else \"cpu\"\n",
        "\n",
        "# Moving model to use GPU\n",
        "model.to(device)"
      ],
      "execution_count": 6,
      "outputs": [
        {
          "output_type": "execute_result",
          "data": {
            "text/plain": [
              "Softmax_Model(\n",
              "  (fc1): Linear(in_features=784, out_features=16, bias=True)\n",
              "  (fc2): Linear(in_features=16, out_features=16, bias=True)\n",
              "  (fc3): Linear(in_features=16, out_features=10, bias=True)\n",
              "  (relu): ReLU()\n",
              ")"
            ]
          },
          "metadata": {
            "tags": []
          },
          "execution_count": 6
        }
      ]
    },
    {
      "cell_type": "code",
      "metadata": {
        "colab": {
          "base_uri": "https://localhost:8080/"
        },
        "id": "hXHuzSh7rNUv",
        "outputId": "22f0b677-cce9-4375-c3e6-40c8e0b95a38"
      },
      "source": [
        "def getPredsFromLogits(logits):\n",
        "  # Using softmax to get an array that sums to 1, and then getting the index with the highest value\n",
        "  return torch.nn.functional.softmax(logits, dim=1).argmax(dim=1)\n",
        "\n",
        "epochs = 20\n",
        "train_losses = []\n",
        "train_accuracies = []\n",
        "for epoch in range(1, epochs+1):\n",
        "    train_loss = 0.0\n",
        "\n",
        "    train_counts = 0\n",
        "\n",
        "    ###################\n",
        "    # train the model #\n",
        "    ###################\n",
        "\n",
        "    # Setting model to train mode\n",
        "    model.train()\n",
        "\n",
        "    for images, labels in training_dataloader:\n",
        "\n",
        "        # Moving data to GPU if available\n",
        "        images, labels = images.to(device), labels.to(device)\n",
        "        \n",
        "        # Setting all gradients to zero\n",
        "        optimizer.zero_grad()\n",
        "\n",
        "        # Calculate Output\n",
        "        output = model(images)\n",
        "            \n",
        "        # Calculate Loss\n",
        "        loss = criterion(output, labels)\n",
        "\n",
        "        # Calculate Gradients\n",
        "        loss.backward()\n",
        "\n",
        "        # Perform Gradient Descent Step\n",
        "        optimizer.step()\n",
        "\n",
        "        # Saving loss\n",
        "        train_loss += loss.item()\n",
        "\n",
        "        # Get Predictions\n",
        "        train_preds = getPredsFromLogits(output)\n",
        "\n",
        "        # Saving number of right predictions for accuracy\n",
        "        train_counts += train_preds.eq(labels).sum().item()\n",
        "\n",
        "    # Averaging and Saving Losses\n",
        "    train_loss/=len(training_data)\n",
        "    train_losses.append(train_loss)\n",
        "\n",
        "    # Getting accuracies and saving them\n",
        "    train_acc = train_counts/len(training_data)\n",
        "    train_accuracies.append(train_acc)\n",
        "\n",
        "\n",
        "    print('Epoch: {} \\tTraining Loss: {:.6f} \\tTraining Accuracy: {:.2f}%'.format(epoch, train_loss, train_acc*100))"
      ],
      "execution_count": 7,
      "outputs": [
        {
          "output_type": "stream",
          "text": [
            "Epoch: 1 \tTraining Loss: 0.006153 \tTraining Accuracy: 77.30%\n",
            "Epoch: 2 \tTraining Loss: 0.002450 \tTraining Accuracy: 90.98%\n",
            "Epoch: 3 \tTraining Loss: 0.002080 \tTraining Accuracy: 92.37%\n",
            "Epoch: 4 \tTraining Loss: 0.001881 \tTraining Accuracy: 93.03%\n",
            "Epoch: 5 \tTraining Loss: 0.001726 \tTraining Accuracy: 93.61%\n",
            "Epoch: 6 \tTraining Loss: 0.001633 \tTraining Accuracy: 93.92%\n",
            "Epoch: 7 \tTraining Loss: 0.001540 \tTraining Accuracy: 94.23%\n",
            "Epoch: 8 \tTraining Loss: 0.001466 \tTraining Accuracy: 94.47%\n",
            "Epoch: 9 \tTraining Loss: 0.001397 \tTraining Accuracy: 94.83%\n",
            "Epoch: 10 \tTraining Loss: 0.001336 \tTraining Accuracy: 95.02%\n",
            "Epoch: 11 \tTraining Loss: 0.001288 \tTraining Accuracy: 95.15%\n",
            "Epoch: 12 \tTraining Loss: 0.001226 \tTraining Accuracy: 95.42%\n",
            "Epoch: 13 \tTraining Loss: 0.001175 \tTraining Accuracy: 95.63%\n",
            "Epoch: 14 \tTraining Loss: 0.001130 \tTraining Accuracy: 95.75%\n",
            "Epoch: 15 \tTraining Loss: 0.001089 \tTraining Accuracy: 95.86%\n",
            "Epoch: 16 \tTraining Loss: 0.001056 \tTraining Accuracy: 96.03%\n",
            "Epoch: 17 \tTraining Loss: 0.001030 \tTraining Accuracy: 96.17%\n",
            "Epoch: 18 \tTraining Loss: 0.000997 \tTraining Accuracy: 96.22%\n",
            "Epoch: 19 \tTraining Loss: 0.000975 \tTraining Accuracy: 96.29%\n",
            "Epoch: 20 \tTraining Loss: 0.000951 \tTraining Accuracy: 96.38%\n"
          ],
          "name": "stdout"
        }
      ]
    },
    {
      "cell_type": "markdown",
      "metadata": {
        "id": "GAu0kWT4sDFj"
      },
      "source": [
        "**Challenge:** As the model is trained, the loss and metrics are displayed. What is the final accuracy?"
      ]
    },
    {
      "cell_type": "markdown",
      "metadata": {
        "id": "HsVOPpkYjp74"
      },
      "source": [
        "Let's plot the loss function measure on the training dataset. However, because our network is small, the training converges (i.e., reaches an optimal loss value) without noticeably overfitting the data as the plot shows."
      ]
    },
    {
      "cell_type": "code",
      "metadata": {
        "id": "SMR71TCgirCr",
        "colab": {
          "base_uri": "https://localhost:8080/",
          "height": 295
        },
        "outputId": "48f2ddb0-91d0-4324-c8b5-00d3f9a7b728"
      },
      "source": [
        "plt.plot(train_losses)\n",
        "plt.xlabel('epoch')\n",
        "plt.ylabel('Mean Squared Error')\n",
        "plt.title('Training Loss')\n",
        "plt.show()"
      ],
      "execution_count": 8,
      "outputs": [
        {
          "output_type": "display_data",
          "data": {
            "image/png": "[encoded data removed]",
            "text/plain": [
              "<Figure size 432x288 with 1 Axes>"
            ]
          },
          "metadata": {
            "tags": [],
            "needs_background": "light"
          }
        }
      ]
    },
    {
      "cell_type": "markdown",
      "metadata": {
        "id": "KR_91UyCZC3I"
      },
      "source": [
        "Now, let's plot accuracy metrics on the training data. If the validation accuracy is noticeably different than the training one, we might want to do some more analysis."
      ]
    },
    {
      "cell_type": "code",
      "metadata": {
        "id": "6ltdcaeAa6YM",
        "colab": {
          "base_uri": "https://localhost:8080/",
          "height": 295
        },
        "outputId": "e5225d5a-6019-4c62-fd67-c895ee169bd6"
      },
      "source": [
        "plt.plot(train_accuracies)\n",
        "plt.xlabel('epoch')\n",
        "plt.ylabel('Accuracy')\n",
        "plt.title('Training Accuracy')\n",
        "plt.show()"
      ],
      "execution_count": 9,
      "outputs": [
        {
          "output_type": "display_data",
          "data": {
            "image/png": "[encoded data removed]",
            "text/plain": [
              "<Figure size 432x288 with 1 Axes>"
            ]
          },
          "metadata": {
            "tags": [],
            "needs_background": "light"
          }
        }
      ]
    },
    {
      "cell_type": "markdown",
      "metadata": {
        "id": "tQYPGdGhkFMt"
      },
      "source": [
        "#### Step 4: Testing the Model\n",
        "Our results on the training data looks promising, but we want to know whether our model performs well on unknown data. For this, we compare how the model performs on the test dataset:"
      ]
    },
    {
      "cell_type": "code",
      "metadata": {
        "id": "Lznc7jmUwFbD",
        "colab": {
          "base_uri": "https://localhost:8080/"
        },
        "outputId": "79f1a23a-a24d-4910-b5d9-204fd300fbbb"
      },
      "source": [
        "test_loss = 0.0\n",
        "test_counts = 0\n",
        "\n",
        "# Setting model to evaluation mode, no parameters will change\n",
        "model.eval()\n",
        "\n",
        "for images, labels in test_dataloader:\n",
        "\n",
        "    # Moving to GPU if available\n",
        "    images, labels = images.to(device), labels.to(device)\n",
        "\n",
        "    # Calculate Output\n",
        "    output = model(images)\n",
        "\n",
        "    # Calculate Loss\n",
        "    loss = criterion(output, labels)\n",
        "\n",
        "    # Saving loss\n",
        "    test_loss += loss.item()\n",
        "\n",
        "    # Get Predictions\n",
        "    test_preds = getPredsFromLogits(output)\n",
        "\n",
        "    # Saving number of right predictions for accuracy\n",
        "    test_counts += test_preds.eq(labels).sum().item()\n",
        "\n",
        "# Calculating test accuracy\n",
        "test_acc = test_counts/len(test_data)\n",
        "print('Test Loss: {:.6f} \\tTest Accuracy: {:.2f}%'.format(test_loss, test_acc*100))"
      ],
      "execution_count": 10,
      "outputs": [
        {
          "output_type": "stream",
          "text": [
            "Test Loss: 11.721882 \tTest Accuracy: 95.74%\n"
          ],
          "name": "stdout"
        }
      ]
    },
    {
      "cell_type": "markdown",
      "metadata": {
        "id": "nSVkEYFxQ7RU"
      },
      "source": [
        "Let's take a look at a few sample that the network classified incorrectly."
      ]
    },
    {
      "cell_type": "code",
      "metadata": {
        "id": "19LudcYkQ6ZF",
        "colab": {
          "base_uri": "https://localhost:8080/",
          "height": 141
        },
        "outputId": "a44513b5-40d2-4011-ea43-db38cc954b44"
      },
      "source": [
        "test_images = test_data.data.to(device)/255\n",
        "predictions = getPredsFromLogits(model(test_images))\n",
        "\n",
        "test_labels = test_data.targets.to(device)\n",
        "\n",
        "correct_bools = test_labels.eq(predictions)\n",
        "misclassified_indices = []\n",
        "for i in range(len(correct_bools)):\n",
        "    if correct_bools[i] == False:\n",
        "        misclassified_indices.append(i)\n",
        "\n",
        "def plot_misclassified(imgs, labels, preds, misclassified_indices, n=5):\n",
        "  plt.figure(figsize=(10,3))\n",
        "  for i, idx in enumerate(misclassified_indices[:n]):\n",
        "    plt.subplot(1, n, i+1)\n",
        "    plt.xticks([])\n",
        "    plt.yticks([])\n",
        "    plt.imshow(imgs[idx].reshape(28, 28), cmap=plt.cm.binary)\n",
        "    plt.xlabel(f'True: {labels[idx]}, Pred: {preds[idx]}')\n",
        "\n",
        "plot_misclassified(test_images.cpu().numpy(), test_labels.cpu().numpy(), predictions.cpu().numpy(), misclassified_indices)"
      ],
      "execution_count": 11,
      "outputs": [
        {
          "output_type": "display_data",
          "data": {
            "image/png": "[encoded data removed]",
            "text/plain": [
              "<Figure size 720x216 with 5 Axes>"
            ]
          },
          "metadata": {
            "tags": []
          }
        }
      ]
    },
    {
      "cell_type": "markdown",
      "metadata": {
        "id": "eC5hu4y2ZtXr"
      },
      "source": [
        "We can see that some of these digits are hard to recognize, even for a human!"
      ]
    },
    {
      "cell_type": "markdown",
      "metadata": {
        "id": "PUeSBG87wLVo"
      },
      "source": [
        "Often times, the accuracy on the test dataset is a little less than the accuracy on the training dataset. Small differences are ok, but we don't want the test results to differ significantly from the training results--this suggests the model is overfitting/underfitting. \n",
        "\n",
        "**Challenge:** Do you think the difference between the training accuracy and the testing accuracy is significant? Is the model overfitting? Is it underfitting? Are the misclassify images justifiably misclassified (i.e., does it make sense that the model misclassified them)?"
      ]
    },
    {
      "cell_type": "markdown",
      "metadata": {
        "id": "nssakhiv2OfI"
      },
      "source": [
        "## Recap\n",
        "You made it! We covered a lot of material in this lesson. Don't worry if it doesn't all make sense yet. The concepts will become more intuitive as you practice building, training, and testing your own neural network models. \n",
        "\n",
        "Let's summarize what we learned about neural networks:\n",
        "- Neural Networks are popular and successful machine learning models that can learn effective representations from data (i.e., images, text, sound). They can and *classification* tasks (see [Part 2](#-Part-2:-Classification-of-MNIST-Digits-with-Convolutional-Neural-Networks)), and also to generate images, text, videos, and sound.  \n",
        "- Special libraries like Tensorflow and Pytorch enable us to build neural networks in Python and train them on accelerated hardware like GPUs and TPUs. \n",
        "- Several steps are involved in making an effective neural network: \n",
        "  1. Loading the dataset\n",
        "  2. Building the model--stacking several layers and configuring the loss function and optimizer.\n",
        "  3. Training the model--fitting the model on the training data.\n",
        "  4. Evaluating/Testing the model--evaluating the model on the testing data. \n",
        "- Once a model is trained, it can be used to make predictions on outside data (see [Part 2, Step 5](#-Step-5:-Make-predictions-on-outside-data)).  "
      ]
    },
    {
      "cell_type": "markdown",
      "metadata": {
        "id": "F4s3YeuF1NoV"
      },
      "source": [
        "#### Acknowlegements\n",
        "- [MIT Deep Learning Basics](https://www.youtube.com/watch?v=O5xeyoRL95U&list=PLrAXtmErZgOeiKm4sgNOknGvNjby9efdf)\n",
        "- [Dive into Deep Learning](https://d2l.ai/index.html)"
      ]
    },
    {
      "cell_type": "code",
      "metadata": {
        "id": "ZXMwHjBZi9gv"
      },
      "source": [
        ""
      ],
      "execution_count": 11,
      "outputs": []
    }
  ]
}
