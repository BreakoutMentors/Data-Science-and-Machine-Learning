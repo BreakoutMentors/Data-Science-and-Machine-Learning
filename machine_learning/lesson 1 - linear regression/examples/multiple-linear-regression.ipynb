{
  "nbformat": 4,
  "nbformat_minor": 0,
  "metadata": {
    "colab": {
      "name": "Linear Regression What Makes Us Happy.ipynb",
      "provenance": [],
      "authorship_tag": "ABX9TyP41RoUd3n+Y70WkYRuVYlS",
      "include_colab_link": true
    },
    "kernelspec": {
      "name": "python3",
      "display_name": "Python 3"
    }
  },
  "cells": [
    {
      "cell_type": "markdown",
      "metadata": {
        "id": "view-in-github",
        "colab_type": "text"
      },
      "source": [
        "<a href=\"https://colab.research.google.com/github/krmiddlebrook/intro_to_deep_learning/blob/master/machine_learning/lesson%201%20-%20linear%20regression/examples/multiple-linear-regression.ipynb\" target=\"_parent\"><img src=\"https://colab.research.google.com/assets/colab-badge.svg\" alt=\"Open In Colab\"/></a>"
      ]
    },
    {
      "cell_type": "markdown",
      "metadata": {
        "id": "r5H75AdnZ8KJ",
        "colab_type": "text"
      },
      "source": [
        "# Multiple Linear Regression: What Makes Us Happy?"
      ]
    },
    {
      "cell_type": "markdown",
      "metadata": {
        "id": "zvzapAQFaK3t",
        "colab_type": "text"
      },
      "source": [
        "In our previous lesson, we explored the topic of single-variable linear regression and demonstrated how to build a linear model as a single-layer neural network. In single-variable regression analysis, there is only one independent variable (i.e., x variable) and one dependent variable (i.e., y variable). However, what if we want to build a model to predict a label given multiple x variables (i.e., features)? To achieve this, we use multiple linear regression--a method to model the relationship between a dependent variable (y) and multiple independent variables (x). Intuitively, adding more x (in this case x columns) data to our features tends to help the model improve its overall performance.\n",
        "\n",
        "While adding more variables allows us to model more complex \"real-world\" relationships there are also additional steps we must take to make sure our model is sound and robust.\n",
        "\n",
        "In this lesson, we introduce the multiple linear regression method and demonstrate how to build a multiple linear regression model to predict happiness Scores using the same [World Happiness Report dataset](https://www.kaggle.com/unsdsn/world-happiness) from the previous lesson. \n"
      ]
    },
    {
      "cell_type": "markdown",
      "metadata": {
        "id": "ib1cMSwsmuz1",
        "colab_type": "text"
      },
      "source": [
        "## Multiple Linear Regression\n",
        "Before we discuss multiple linear regression, let's review single-variable linear regression. Recall that single-variable linear regression aims to fit a line to the data using the following formula: \n",
        "$$\n",
        "\\hat{y} = wx + b\n",
        "$$\n",
        "where $w$ is known as the *weight*, and $b$ is   the *bias* term.\n",
        "\n",
        "When the inputs ($x$) consists of $d$ features, we express the above linear function as: \n",
        "$$\n",
        "\\hat{y} = w_1  x_1 + ... + w_d  x_d + b.\n",
        "$$\n",
        "\n",
        "In machine learning, we typically work with *high-dimensional* datasets, meaning $d$ is large so there are many features. When $d$ is large, it's not convenient to write the above linear equation, instead we can express it using vector notation as follows:\n",
        "$$\n",
        "\\hat{y} = \\mathbf{w}^\\top \\mathbf{x} + b.\n",
        "$$\n",
        "\n",
        "where the vector $\\mathbf{x} \\in \\mathbb{R}^d$ and the vector $\\mathbf{w} \\in \\mathbb{R}^d$  contain the *features* and *weights* respectively.\n",
        "\n",
        "In the above equation, $\\mathbf{x}$ corresponds to a single input sample. It is often more convenient to refer to features of our entire dataset of $n$ samples via the *matrix* $\\mathbf{X} \\in \\mathbb{R}^{n \\times d}$, where each sample is represented by a row and each feature by a column. For a collection of features $\\mathbf{X}$ and labels $y \\in \\mathbb{R^n}$, the multiple linear regression function can be expressed as the matrix-vector product:\n",
        "\n",
        "$$\n",
        "{\\hat{\\mathbf{y}}} = \\mathbf{X} \\mathbf{w} + b.\n",
        "$$\n",
        "\n",
        "The goal of multiple linear regression is to find the weight vector  $\\mathbf{w}$  and the bias term  $b$  that results in the lowest prediction error. Notice that the goal is basically the same as single-variable linear regression except multiple weights are learned instead of one.\n",
        "\n",
        "The figure below illustrates a single-layer multiple linear regression neural network. The input layer consists of $d$ *neurons* each corresponding to a feature (from $\\mathbf{x}$) and $d$ *connections* each corresponding to the *weight* between the output neuron an input neuron. \n",
        "\n",
        "<figure>\n",
        "<img src='https://d2l.ai/_images/singleneuron.svg' width='60%'></img><figcaption>Linear Regression: a multiple linear regression neural network</figcaption>\n",
        "</figure>\n",
        "\n",
        "\n"
      ]
    },
    {
      "cell_type": "markdown",
      "metadata": {
        "id": "k8hGH7ke4rFR",
        "colab_type": "text"
      },
      "source": [
        "# Multiple Linear Regression: What makes us happy?\n",
        "Now that we know a bit about the multiple linear regression method, it's time to apply it to a real-world problem--predicting happiness given country statistics. Our goal is to build a *single-layer fully-connected neural network* (i.e., a mutliple linear regression model) to predict a country's happiness Score using the World Happiness (https://www.kaggle.com/unsdsn/world-happiness) dataset.\n",
        "\n",
        "Like single-variable linear regression, we will perform the following steps:\n",
        "\n",
        "1. Explore and prepare the dataset.\n",
        "2. Build the model.\n",
        "3. Train the model.\n",
        "4. Evaluate the model.\n",
        "5. Draw conclusions.\n"
      ]
    },
    {
      "cell_type": "code",
      "metadata": {
        "id": "lehhNxE1fLxn",
        "colab_type": "code",
        "colab": {}
      },
      "source": [
        "# import the libraries we be need\n",
        "import pandas as pd\n",
        "import numpy as np\n",
        "import matplotlib.pyplot as plt\n",
        "\n",
        "# TensorFlow and tf.keras\n",
        "import tensorflow as tf\n",
        "from tensorflow import keras\n",
        "from tensorflow.keras import layers\n"
      ],
      "execution_count": null,
      "outputs": []
    },
    {
      "cell_type": "markdown",
      "metadata": {
        "id": "DReavXyx7CoZ",
        "colab_type": "text"
      },
      "source": [
        "## 1. Explore and prepare the dataset\n"
      ]
    },
    {
      "cell_type": "code",
      "metadata": {
        "id": "gHqEvmn1ZYa2",
        "colab_type": "code",
        "colab": {
          "base_uri": "https://localhost:8080/",
          "height": 238
        },
        "outputId": "6c0b5eb9-6d7a-4c7d-962e-ca6193a6eff8"
      },
      "source": [
        "# load the dataset into a dataframe\n",
        "data_url = 'https://raw.githubusercontent.com/krmiddlebrook/intro_to_deep_learning/master/datasets/world-happiness/2019.csv'\n",
        "happy2019 = pd.read_csv(data_url)\n",
        "happy2019.head()"
      ],
      "execution_count": null,
      "outputs": [
        {
          "output_type": "execute_result",
          "data": {
            "text/html": [
              "<div>\n",
              "<style scoped>\n",
              "    .dataframe tbody tr th:only-of-type {\n",
              "        vertical-align: middle;\n",
              "    }\n",
              "\n",
              "    .dataframe tbody tr th {\n",
              "        vertical-align: top;\n",
              "    }\n",
              "\n",
              "    .dataframe thead th {\n",
              "        text-align: right;\n",
              "    }\n",
              "</style>\n",
              "<table border=\"1\" class=\"dataframe\">\n",
              "  <thead>\n",
              "    <tr style=\"text-align: right;\">\n",
              "      <th></th>\n",
              "      <th>Overall rank</th>\n",
              "      <th>Country or region</th>\n",
              "      <th>Score</th>\n",
              "      <th>GDP per capita</th>\n",
              "      <th>Social support</th>\n",
              "      <th>Healthy life expectancy</th>\n",
              "      <th>Freedom to make life choices</th>\n",
              "      <th>Generosity</th>\n",
              "      <th>Perceptions of corruption</th>\n",
              "    </tr>\n",
              "  </thead>\n",
              "  <tbody>\n",
              "    <tr>\n",
              "      <th>0</th>\n",
              "      <td>1</td>\n",
              "      <td>Finland</td>\n",
              "      <td>7.769</td>\n",
              "      <td>1.340</td>\n",
              "      <td>1.587</td>\n",
              "      <td>0.986</td>\n",
              "      <td>0.596</td>\n",
              "      <td>0.153</td>\n",
              "      <td>0.393</td>\n",
              "    </tr>\n",
              "    <tr>\n",
              "      <th>1</th>\n",
              "      <td>2</td>\n",
              "      <td>Denmark</td>\n",
              "      <td>7.600</td>\n",
              "      <td>1.383</td>\n",
              "      <td>1.573</td>\n",
              "      <td>0.996</td>\n",
              "      <td>0.592</td>\n",
              "      <td>0.252</td>\n",
              "      <td>0.410</td>\n",
              "    </tr>\n",
              "    <tr>\n",
              "      <th>2</th>\n",
              "      <td>3</td>\n",
              "      <td>Norway</td>\n",
              "      <td>7.554</td>\n",
              "      <td>1.488</td>\n",
              "      <td>1.582</td>\n",
              "      <td>1.028</td>\n",
              "      <td>0.603</td>\n",
              "      <td>0.271</td>\n",
              "      <td>0.341</td>\n",
              "    </tr>\n",
              "    <tr>\n",
              "      <th>3</th>\n",
              "      <td>4</td>\n",
              "      <td>Iceland</td>\n",
              "      <td>7.494</td>\n",
              "      <td>1.380</td>\n",
              "      <td>1.624</td>\n",
              "      <td>1.026</td>\n",
              "      <td>0.591</td>\n",
              "      <td>0.354</td>\n",
              "      <td>0.118</td>\n",
              "    </tr>\n",
              "    <tr>\n",
              "      <th>4</th>\n",
              "      <td>5</td>\n",
              "      <td>Netherlands</td>\n",
              "      <td>7.488</td>\n",
              "      <td>1.396</td>\n",
              "      <td>1.522</td>\n",
              "      <td>0.999</td>\n",
              "      <td>0.557</td>\n",
              "      <td>0.322</td>\n",
              "      <td>0.298</td>\n",
              "    </tr>\n",
              "  </tbody>\n",
              "</table>\n",
              "</div>"
            ],
            "text/plain": [
              "   Overall rank Country or region  ...  Generosity  Perceptions of corruption\n",
              "0             1           Finland  ...       0.153                      0.393\n",
              "1             2           Denmark  ...       0.252                      0.410\n",
              "2             3            Norway  ...       0.271                      0.341\n",
              "3             4           Iceland  ...       0.354                      0.118\n",
              "4             5       Netherlands  ...       0.322                      0.298\n",
              "\n",
              "[5 rows x 9 columns]"
            ]
          },
          "metadata": {
            "tags": []
          },
          "execution_count": 5
        }
      ]
    },
    {
      "cell_type": "markdown",
      "metadata": {
        "id": "K8P_pZ917oTt",
        "colab_type": "text"
      },
      "source": [
        "There are two variables we don't want to use in our model: Overall rank and Country or region. In the below cell, we will remove those variables and prepare the dataset for the model. Remember this process involves defining the features ($\\mathbf{x}$) and the labels ($y$), splitting the dataset into a training and test set, and separating the features and the labels in both sets. "
      ]
    },
    {
      "cell_type": "code",
      "metadata": {
        "id": "ILgFdnBbl6zr",
        "colab_type": "code",
        "colab": {
          "base_uri": "https://localhost:8080/",
          "height": 253
        },
        "outputId": "7664f9c2-e80c-4a3e-8df8-32816e7b66b6"
      },
      "source": [
        "# define the x (features) and y (labels) variables\n",
        "x_cols = happy2019.columns[3:].tolist() \n",
        "y_col = 'Score'\n",
        "print('x features: ', x_cols)\n",
        "print('y labels: ', y_col)\n",
        "\n",
        "# split the dataset into train/test datasets \n",
        "train = happy2019.sample(frac=0.8, random_state=0)\n",
        "test = happy2019.drop(train.index)\n",
        "\n",
        "# separate the x (features) and y (labels) in the train/test datasets\n",
        "train_features = train[x_cols].values\n",
        "test_features = test[x_cols].values\n",
        "\n",
        "train_labels = train[y_col].values.reshape(-1, 1)\n",
        "test_labels = test[y_col].values.reshape(-1, 1)\n",
        "\n",
        "\n",
        "print('train features shape:', train_features.shape)\n",
        "print('train labels shape:', train_labels.shape)\n",
        "\n",
        "print('test features shape:', test_features.shape)\n",
        "print('test labels shape:', test_labels.shape)\n",
        "\n",
        "print('first 5 test labels:\\n', test_labels[:5])"
      ],
      "execution_count": null,
      "outputs": [
        {
          "output_type": "stream",
          "text": [
            "x features:  ['GDP per capita', 'Social support', 'Healthy life expectancy', 'Freedom to make life choices', 'Generosity', 'Perceptions of corruption']\n",
            "y labels:  Score\n",
            "train features shape: (125, 6)\n",
            "train labels shape: (125, 1)\n",
            "test features shape: (31, 6)\n",
            "test labels shape: (31, 1)\n",
            "first 5 test labels:\n",
            " [[7.246]\n",
            " [6.726]\n",
            " [6.444]\n",
            " [6.354]\n",
            " [6.3  ]]\n"
          ],
          "name": "stdout"
        }
      ]
    },
    {
      "cell_type": "markdown",
      "metadata": {
        "id": "PmGj7bGL-UqH",
        "colab_type": "text"
      },
      "source": [
        "The above code returns a training and test dataset. The *features* correspond to GDP per capita, Social support, Healthy life expectancy, Freedom to make life choices, Generosity, and  Perceptions of corruption columns and the happiness Score corresponds to the *labels*. There are two datasets--a *training dataset* and a *test dataset*. The `train_features` and `train_labels` arrays represent the features and labels of the training dataset. The `test_features` and `test_labels` arrays represent the features and labels of the test dataset.  "
      ]
    },
    {
      "cell_type": "markdown",
      "metadata": {
        "id": "vTOstVUn_JR3",
        "colab_type": "text"
      },
      "source": [
        "## 2. Build the model\n",
        "Now that the data is ready, we can build the model! \n",
        "\n",
        "Before we define the model in Python code, let's write out its function given one input sample:\n",
        "$$\n",
        "\\hat{\\text{score}} = w_1 x_1 + w_2 x_2 + w_3 x_3 + w_4 x_4 + w_5 x_5 + w_6 x_6 + b,\n",
        "$$\n",
        "where 1-6 corresponds to one of the feature column we defined earlier (i.e., GDP per capita, Social support, etc.). The function can be compressed using vector notation as:\n",
        "$$ \n",
        "\\hat{\\text{score}} = \\mathbf{w}^\\top \\mathbf{x} + b.\n",
        "$$\n",
        "\n",
        "Given the entire training set, we write the matrix-vector equation for our linear model as:\n",
        "$$\n",
        "{\\hat{\\textbf{score}}} = \\mathbf{X} \\mathbf{w} + b.\n",
        "$$\n",
        "\n",
        "The model we build and then train will try to find the optimal *weights* ($\\mathbf{w}$) to minimize the difference between the real labels ($\\textbf{score}$) and the predictions ($\\hat{\\textbf{score}})$.\n",
        "\n",
        "Now that we know the function we want to estimate, let's use [Tensorflow](https://www.tensorflow.org/) to build a linear regression model, just like we did in the last lesson.\n"
      ]
    },
    {
      "cell_type": "code",
      "metadata": {
        "id": "Wc_gJ4RllO5q",
        "colab_type": "code",
        "colab": {
          "base_uri": "https://localhost:8080/",
          "height": 233
        },
        "outputId": "4dc3de86-23e9-45fb-fa17-5d2baede22f0"
      },
      "source": [
        "# build the linear model \n",
        "model = keras.Sequential([\n",
        "            layers.Input((6,)), # the input layer (corresponds to the features)\n",
        "            layers.Dense(1), # out layer (contains the 6 weights and a bias term)\n",
        "        ], name='multiple_linear_regression_model')\n",
        "\n",
        "print('model summary')\n",
        "print(model.summary())"
      ],
      "execution_count": null,
      "outputs": [
        {
          "output_type": "stream",
          "text": [
            "model summary\n",
            "Model: \"multiple_linear_regression_model\"\n",
            "_________________________________________________________________\n",
            "Layer (type)                 Output Shape              Param #   \n",
            "=================================================================\n",
            "dense_6 (Dense)              (None, 1)                 7         \n",
            "=================================================================\n",
            "Total params: 7\n",
            "Trainable params: 7\n",
            "Non-trainable params: 0\n",
            "_________________________________________________________________\n",
            "None\n"
          ],
          "name": "stdout"
        }
      ]
    },
    {
      "cell_type": "markdown",
      "metadata": {
        "id": "4EafDyr3FSoK",
        "colab_type": "text"
      },
      "source": [
        "The model we defined above is a multiple linear model that could also be called a *single-layer fully-connected neural network*. We defined it using the `Dense` class. Note that we passed two arguments into the `Sequential` class. The first one specifies the input feature dimension, which is 6 (corresponding to the number of x features), and the second one is the output feature dimension, which is a single scalar and therefore 1. Each input *feature* has a corresponding *weight* and there is one bias term. The *weights* and *bias*, or *parameters*, are connected to the single output *neuron*.  "
      ]
    },
    {
      "cell_type": "markdown",
      "metadata": {
        "id": "b9f-65plLUGO",
        "colab_type": "text"
      },
      "source": [
        "### Define the loss function, optimization algorithm, and metrics \n",
        "\n",
        "After defining the model, we need to configure the *loss function*, *optimization algorithm*, and *metrics* for the model. We will use mean squared error for the loss function, stochastic gradient descent for the optimization algorithm, and mean absolute error and mean squared error for the metrics. We glue these configurations to our model using the `compile` method."
      ]
    },
    {
      "cell_type": "code",
      "metadata": {
        "id": "gRlVR35NLWWn",
        "colab_type": "code",
        "colab": {}
      },
      "source": [
        "\n",
        "model.compile(loss=keras.losses.MSE,\n",
        "              optimizer=keras.optimizers.SGD(learning_rate=0.01),\n",
        "              metrics=[keras.metrics.MAE, keras.metrics.MSE])"
      ],
      "execution_count": null,
      "outputs": []
    },
    {
      "cell_type": "markdown",
      "metadata": {
        "id": "DD4l2J8zLGWN",
        "colab_type": "text"
      },
      "source": [
        "## 3. Train the model\n",
        "Now that we have a model, it's time to train it. We will train the model for 100 *epochs* (i.e., iterations), and record the training and validation metrics in the `history` object. "
      ]
    },
    {
      "cell_type": "code",
      "metadata": {
        "id": "rtKfpJA4OpPz",
        "colab_type": "code",
        "colab": {
          "base_uri": "https://localhost:8080/",
          "height": 1000
        },
        "outputId": "ec006837-2cc7-4b9d-b578-f38011ffa88a"
      },
      "source": [
        "epochs = 100\n",
        "\n",
        "history = model.fit(train_features, train_labels,\n",
        "                    epochs=epochs, validation_split=0.1)"
      ],
      "execution_count": null,
      "outputs": [
        {
          "output_type": "stream",
          "text": [
            "Epoch 1/100\n",
            "4/4 [==============================] - 0s 26ms/step - loss: 33.3436 - mean_absolute_error: 5.6296 - mean_squared_error: 33.3436 - val_loss: 22.8826 - val_mean_absolute_error: 4.6577 - val_mean_squared_error: 22.8826\n",
            "Epoch 2/100\n",
            "4/4 [==============================] - 0s 9ms/step - loss: 16.7526 - mean_absolute_error: 3.9947 - mean_squared_error: 16.7526 - val_loss: 11.4207 - val_mean_absolute_error: 3.2561 - val_mean_squared_error: 11.4207\n",
            "Epoch 3/100\n",
            "4/4 [==============================] - 0s 10ms/step - loss: 8.4914 - mean_absolute_error: 2.8171 - mean_squared_error: 8.4914 - val_loss: 5.9405 - val_mean_absolute_error: 2.2980 - val_mean_squared_error: 5.9405\n",
            "Epoch 4/100\n",
            "4/4 [==============================] - 0s 9ms/step - loss: 4.4807 - mean_absolute_error: 2.0120 - mean_squared_error: 4.4807 - val_loss: 3.1645 - val_mean_absolute_error: 1.6041 - val_mean_squared_error: 3.1645\n",
            "Epoch 5/100\n",
            "4/4 [==============================] - 0s 9ms/step - loss: 2.4357 - mean_absolute_error: 1.4428 - mean_squared_error: 2.4357 - val_loss: 1.8051 - val_mean_absolute_error: 1.1306 - val_mean_squared_error: 1.8051\n",
            "Epoch 6/100\n",
            "4/4 [==============================] - 0s 9ms/step - loss: 1.4226 - mean_absolute_error: 1.0488 - mean_squared_error: 1.4226 - val_loss: 1.1566 - val_mean_absolute_error: 0.8942 - val_mean_squared_error: 1.1566\n",
            "Epoch 7/100\n",
            "4/4 [==============================] - 0s 9ms/step - loss: 0.9280 - mean_absolute_error: 0.7984 - mean_squared_error: 0.9280 - val_loss: 0.8443 - val_mean_absolute_error: 0.7438 - val_mean_squared_error: 0.8443\n",
            "Epoch 8/100\n",
            "4/4 [==============================] - 0s 10ms/step - loss: 0.6832 - mean_absolute_error: 0.6542 - mean_squared_error: 0.6832 - val_loss: 0.7039 - val_mean_absolute_error: 0.6964 - val_mean_squared_error: 0.7039\n",
            "Epoch 9/100\n",
            "4/4 [==============================] - 0s 9ms/step - loss: 0.5668 - mean_absolute_error: 0.5918 - mean_squared_error: 0.5668 - val_loss: 0.6352 - val_mean_absolute_error: 0.6761 - val_mean_squared_error: 0.6352\n",
            "Epoch 10/100\n",
            "4/4 [==============================] - 0s 9ms/step - loss: 0.5056 - mean_absolute_error: 0.5575 - mean_squared_error: 0.5056 - val_loss: 0.5959 - val_mean_absolute_error: 0.6583 - val_mean_squared_error: 0.5959\n",
            "Epoch 11/100\n",
            "4/4 [==============================] - 0s 9ms/step - loss: 0.4690 - mean_absolute_error: 0.5362 - mean_squared_error: 0.4690 - val_loss: 0.5810 - val_mean_absolute_error: 0.6475 - val_mean_squared_error: 0.5810\n",
            "Epoch 12/100\n",
            "4/4 [==============================] - 0s 11ms/step - loss: 0.4526 - mean_absolute_error: 0.5275 - mean_squared_error: 0.4526 - val_loss: 0.5732 - val_mean_absolute_error: 0.6383 - val_mean_squared_error: 0.5732\n",
            "Epoch 13/100\n",
            "4/4 [==============================] - 0s 9ms/step - loss: 0.4435 - mean_absolute_error: 0.5246 - mean_squared_error: 0.4435 - val_loss: 0.5699 - val_mean_absolute_error: 0.6312 - val_mean_squared_error: 0.5699\n",
            "Epoch 14/100\n",
            "4/4 [==============================] - 0s 9ms/step - loss: 0.4367 - mean_absolute_error: 0.5212 - mean_squared_error: 0.4367 - val_loss: 0.5682 - val_mean_absolute_error: 0.6275 - val_mean_squared_error: 0.5682\n",
            "Epoch 15/100\n",
            "4/4 [==============================] - 0s 9ms/step - loss: 0.4344 - mean_absolute_error: 0.5210 - mean_squared_error: 0.4344 - val_loss: 0.5671 - val_mean_absolute_error: 0.6235 - val_mean_squared_error: 0.5671\n",
            "Epoch 16/100\n",
            "4/4 [==============================] - 0s 9ms/step - loss: 0.4316 - mean_absolute_error: 0.5204 - mean_squared_error: 0.4316 - val_loss: 0.5665 - val_mean_absolute_error: 0.6219 - val_mean_squared_error: 0.5665\n",
            "Epoch 17/100\n",
            "4/4 [==============================] - 0s 9ms/step - loss: 0.4302 - mean_absolute_error: 0.5200 - mean_squared_error: 0.4302 - val_loss: 0.5661 - val_mean_absolute_error: 0.6211 - val_mean_squared_error: 0.5661\n",
            "Epoch 18/100\n",
            "4/4 [==============================] - 0s 9ms/step - loss: 0.4282 - mean_absolute_error: 0.5212 - mean_squared_error: 0.4282 - val_loss: 0.5660 - val_mean_absolute_error: 0.6216 - val_mean_squared_error: 0.5660\n",
            "Epoch 19/100\n",
            "4/4 [==============================] - 0s 10ms/step - loss: 0.4264 - mean_absolute_error: 0.5215 - mean_squared_error: 0.4264 - val_loss: 0.5639 - val_mean_absolute_error: 0.6197 - val_mean_squared_error: 0.5639\n",
            "Epoch 20/100\n",
            "4/4 [==============================] - 0s 9ms/step - loss: 0.4249 - mean_absolute_error: 0.5201 - mean_squared_error: 0.4249 - val_loss: 0.5624 - val_mean_absolute_error: 0.6186 - val_mean_squared_error: 0.5624\n",
            "Epoch 21/100\n",
            "4/4 [==============================] - 0s 10ms/step - loss: 0.4231 - mean_absolute_error: 0.5189 - mean_squared_error: 0.4231 - val_loss: 0.5606 - val_mean_absolute_error: 0.6171 - val_mean_squared_error: 0.5606\n",
            "Epoch 22/100\n",
            "4/4 [==============================] - 0s 11ms/step - loss: 0.4219 - mean_absolute_error: 0.5182 - mean_squared_error: 0.4219 - val_loss: 0.5589 - val_mean_absolute_error: 0.6156 - val_mean_squared_error: 0.5589\n",
            "Epoch 23/100\n",
            "4/4 [==============================] - 0s 9ms/step - loss: 0.4213 - mean_absolute_error: 0.5180 - mean_squared_error: 0.4213 - val_loss: 0.5589 - val_mean_absolute_error: 0.6160 - val_mean_squared_error: 0.5589\n",
            "Epoch 24/100\n",
            "4/4 [==============================] - 0s 9ms/step - loss: 0.4206 - mean_absolute_error: 0.5186 - mean_squared_error: 0.4206 - val_loss: 0.5577 - val_mean_absolute_error: 0.6151 - val_mean_squared_error: 0.5577\n",
            "Epoch 25/100\n",
            "4/4 [==============================] - 0s 9ms/step - loss: 0.4183 - mean_absolute_error: 0.5174 - mean_squared_error: 0.4183 - val_loss: 0.5552 - val_mean_absolute_error: 0.6128 - val_mean_squared_error: 0.5552\n",
            "Epoch 26/100\n",
            "4/4 [==============================] - 0s 10ms/step - loss: 0.4176 - mean_absolute_error: 0.5164 - mean_squared_error: 0.4176 - val_loss: 0.5546 - val_mean_absolute_error: 0.6125 - val_mean_squared_error: 0.5546\n",
            "Epoch 27/100\n",
            "4/4 [==============================] - 0s 9ms/step - loss: 0.4161 - mean_absolute_error: 0.5164 - mean_squared_error: 0.4161 - val_loss: 0.5522 - val_mean_absolute_error: 0.6102 - val_mean_squared_error: 0.5522\n",
            "Epoch 28/100\n",
            "4/4 [==============================] - 0s 9ms/step - loss: 0.4151 - mean_absolute_error: 0.5152 - mean_squared_error: 0.4151 - val_loss: 0.5506 - val_mean_absolute_error: 0.6086 - val_mean_squared_error: 0.5506\n",
            "Epoch 29/100\n",
            "4/4 [==============================] - 0s 9ms/step - loss: 0.4140 - mean_absolute_error: 0.5147 - mean_squared_error: 0.4140 - val_loss: 0.5487 - val_mean_absolute_error: 0.6068 - val_mean_squared_error: 0.5487\n",
            "Epoch 30/100\n",
            "4/4 [==============================] - 0s 9ms/step - loss: 0.4142 - mean_absolute_error: 0.5146 - mean_squared_error: 0.4142 - val_loss: 0.5491 - val_mean_absolute_error: 0.6079 - val_mean_squared_error: 0.5491\n",
            "Epoch 31/100\n",
            "4/4 [==============================] - 0s 9ms/step - loss: 0.4121 - mean_absolute_error: 0.5138 - mean_squared_error: 0.4121 - val_loss: 0.5477 - val_mean_absolute_error: 0.6066 - val_mean_squared_error: 0.5477\n",
            "Epoch 32/100\n",
            "4/4 [==============================] - 0s 12ms/step - loss: 0.4104 - mean_absolute_error: 0.5127 - mean_squared_error: 0.4104 - val_loss: 0.5469 - val_mean_absolute_error: 0.6062 - val_mean_squared_error: 0.5469\n",
            "Epoch 33/100\n",
            "4/4 [==============================] - 0s 9ms/step - loss: 0.4090 - mean_absolute_error: 0.5123 - mean_squared_error: 0.4090 - val_loss: 0.5452 - val_mean_absolute_error: 0.6046 - val_mean_squared_error: 0.5452\n",
            "Epoch 34/100\n",
            "4/4 [==============================] - 0s 9ms/step - loss: 0.4079 - mean_absolute_error: 0.5119 - mean_squared_error: 0.4079 - val_loss: 0.5443 - val_mean_absolute_error: 0.6038 - val_mean_squared_error: 0.5443\n",
            "Epoch 35/100\n",
            "4/4 [==============================] - 0s 9ms/step - loss: 0.4072 - mean_absolute_error: 0.5122 - mean_squared_error: 0.4072 - val_loss: 0.5431 - val_mean_absolute_error: 0.6028 - val_mean_squared_error: 0.5431\n",
            "Epoch 36/100\n",
            "4/4 [==============================] - 0s 9ms/step - loss: 0.4063 - mean_absolute_error: 0.5113 - mean_squared_error: 0.4063 - val_loss: 0.5414 - val_mean_absolute_error: 0.6012 - val_mean_squared_error: 0.5414\n",
            "Epoch 37/100\n",
            "4/4 [==============================] - 0s 9ms/step - loss: 0.4047 - mean_absolute_error: 0.5103 - mean_squared_error: 0.4047 - val_loss: 0.5406 - val_mean_absolute_error: 0.6006 - val_mean_squared_error: 0.5406\n",
            "Epoch 38/100\n",
            "4/4 [==============================] - 0s 9ms/step - loss: 0.4037 - mean_absolute_error: 0.5103 - mean_squared_error: 0.4037 - val_loss: 0.5384 - val_mean_absolute_error: 0.5983 - val_mean_squared_error: 0.5384\n",
            "Epoch 39/100\n",
            "4/4 [==============================] - 0s 9ms/step - loss: 0.4025 - mean_absolute_error: 0.5092 - mean_squared_error: 0.4025 - val_loss: 0.5377 - val_mean_absolute_error: 0.5980 - val_mean_squared_error: 0.5377\n",
            "Epoch 40/100\n",
            "4/4 [==============================] - 0s 11ms/step - loss: 0.4010 - mean_absolute_error: 0.5087 - mean_squared_error: 0.4010 - val_loss: 0.5354 - val_mean_absolute_error: 0.5957 - val_mean_squared_error: 0.5354\n",
            "Epoch 41/100\n",
            "4/4 [==============================] - 0s 11ms/step - loss: 0.3997 - mean_absolute_error: 0.5077 - mean_squared_error: 0.3997 - val_loss: 0.5340 - val_mean_absolute_error: 0.5952 - val_mean_squared_error: 0.5340\n",
            "Epoch 42/100\n",
            "4/4 [==============================] - 0s 9ms/step - loss: 0.3993 - mean_absolute_error: 0.5075 - mean_squared_error: 0.3993 - val_loss: 0.5330 - val_mean_absolute_error: 0.5943 - val_mean_squared_error: 0.5330\n",
            "Epoch 43/100\n",
            "4/4 [==============================] - 0s 9ms/step - loss: 0.3979 - mean_absolute_error: 0.5067 - mean_squared_error: 0.3979 - val_loss: 0.5319 - val_mean_absolute_error: 0.5936 - val_mean_squared_error: 0.5319\n",
            "Epoch 44/100\n",
            "4/4 [==============================] - 0s 9ms/step - loss: 0.3976 - mean_absolute_error: 0.5066 - mean_squared_error: 0.3976 - val_loss: 0.5313 - val_mean_absolute_error: 0.5924 - val_mean_squared_error: 0.5313\n",
            "Epoch 45/100\n",
            "4/4 [==============================] - 0s 10ms/step - loss: 0.3961 - mean_absolute_error: 0.5063 - mean_squared_error: 0.3961 - val_loss: 0.5302 - val_mean_absolute_error: 0.5919 - val_mean_squared_error: 0.5302\n",
            "Epoch 46/100\n",
            "4/4 [==============================] - 0s 10ms/step - loss: 0.3953 - mean_absolute_error: 0.5058 - mean_squared_error: 0.3953 - val_loss: 0.5283 - val_mean_absolute_error: 0.5916 - val_mean_squared_error: 0.5283\n",
            "Epoch 47/100\n",
            "4/4 [==============================] - 0s 9ms/step - loss: 0.3957 - mean_absolute_error: 0.5061 - mean_squared_error: 0.3957 - val_loss: 0.5267 - val_mean_absolute_error: 0.5916 - val_mean_squared_error: 0.5267\n",
            "Epoch 48/100\n",
            "4/4 [==============================] - 0s 9ms/step - loss: 0.3945 - mean_absolute_error: 0.5046 - mean_squared_error: 0.3945 - val_loss: 0.5260 - val_mean_absolute_error: 0.5906 - val_mean_squared_error: 0.5260\n",
            "Epoch 49/100\n",
            "4/4 [==============================] - 0s 9ms/step - loss: 0.3932 - mean_absolute_error: 0.5040 - mean_squared_error: 0.3932 - val_loss: 0.5254 - val_mean_absolute_error: 0.5895 - val_mean_squared_error: 0.5254\n",
            "Epoch 50/100\n",
            "4/4 [==============================] - 0s 9ms/step - loss: 0.3917 - mean_absolute_error: 0.5034 - mean_squared_error: 0.3917 - val_loss: 0.5248 - val_mean_absolute_error: 0.5883 - val_mean_squared_error: 0.5248\n",
            "Epoch 51/100\n",
            "4/4 [==============================] - 0s 11ms/step - loss: 0.3905 - mean_absolute_error: 0.5033 - mean_squared_error: 0.3905 - val_loss: 0.5244 - val_mean_absolute_error: 0.5873 - val_mean_squared_error: 0.5244\n",
            "Epoch 52/100\n",
            "4/4 [==============================] - 0s 9ms/step - loss: 0.3895 - mean_absolute_error: 0.5031 - mean_squared_error: 0.3895 - val_loss: 0.5230 - val_mean_absolute_error: 0.5867 - val_mean_squared_error: 0.5230\n",
            "Epoch 53/100\n",
            "4/4 [==============================] - 0s 9ms/step - loss: 0.3910 - mean_absolute_error: 0.5036 - mean_squared_error: 0.3910 - val_loss: 0.5215 - val_mean_absolute_error: 0.5865 - val_mean_squared_error: 0.5215\n",
            "Epoch 54/100\n",
            "4/4 [==============================] - 0s 9ms/step - loss: 0.3880 - mean_absolute_error: 0.5018 - mean_squared_error: 0.3880 - val_loss: 0.5209 - val_mean_absolute_error: 0.5855 - val_mean_squared_error: 0.5209\n",
            "Epoch 55/100\n",
            "4/4 [==============================] - 0s 10ms/step - loss: 0.3872 - mean_absolute_error: 0.5017 - mean_squared_error: 0.3872 - val_loss: 0.5203 - val_mean_absolute_error: 0.5856 - val_mean_squared_error: 0.5203\n",
            "Epoch 56/100\n",
            "4/4 [==============================] - 0s 9ms/step - loss: 0.3860 - mean_absolute_error: 0.5014 - mean_squared_error: 0.3860 - val_loss: 0.5186 - val_mean_absolute_error: 0.5850 - val_mean_squared_error: 0.5186\n",
            "Epoch 57/100\n",
            "4/4 [==============================] - 0s 9ms/step - loss: 0.3864 - mean_absolute_error: 0.5024 - mean_squared_error: 0.3864 - val_loss: 0.5172 - val_mean_absolute_error: 0.5844 - val_mean_squared_error: 0.5172\n",
            "Epoch 58/100\n",
            "4/4 [==============================] - 0s 9ms/step - loss: 0.3841 - mean_absolute_error: 0.4999 - mean_squared_error: 0.3841 - val_loss: 0.5162 - val_mean_absolute_error: 0.5841 - val_mean_squared_error: 0.5162\n",
            "Epoch 59/100\n",
            "4/4 [==============================] - 0s 9ms/step - loss: 0.3845 - mean_absolute_error: 0.4997 - mean_squared_error: 0.3845 - val_loss: 0.5157 - val_mean_absolute_error: 0.5843 - val_mean_squared_error: 0.5157\n",
            "Epoch 60/100\n",
            "4/4 [==============================] - 0s 11ms/step - loss: 0.3827 - mean_absolute_error: 0.4995 - mean_squared_error: 0.3827 - val_loss: 0.5147 - val_mean_absolute_error: 0.5839 - val_mean_squared_error: 0.5147\n",
            "Epoch 61/100\n",
            "4/4 [==============================] - 0s 9ms/step - loss: 0.3830 - mean_absolute_error: 0.4999 - mean_squared_error: 0.3830 - val_loss: 0.5135 - val_mean_absolute_error: 0.5830 - val_mean_squared_error: 0.5135\n",
            "Epoch 62/100\n",
            "4/4 [==============================] - 0s 10ms/step - loss: 0.3821 - mean_absolute_error: 0.4977 - mean_squared_error: 0.3821 - val_loss: 0.5128 - val_mean_absolute_error: 0.5833 - val_mean_squared_error: 0.5128\n",
            "Epoch 63/100\n",
            "4/4 [==============================] - 0s 10ms/step - loss: 0.3806 - mean_absolute_error: 0.4978 - mean_squared_error: 0.3806 - val_loss: 0.5120 - val_mean_absolute_error: 0.5831 - val_mean_squared_error: 0.5120\n",
            "Epoch 64/100\n",
            "4/4 [==============================] - 0s 10ms/step - loss: 0.3804 - mean_absolute_error: 0.4978 - mean_squared_error: 0.3804 - val_loss: 0.5110 - val_mean_absolute_error: 0.5828 - val_mean_squared_error: 0.5110\n",
            "Epoch 65/100\n",
            "4/4 [==============================] - 0s 10ms/step - loss: 0.3787 - mean_absolute_error: 0.4969 - mean_squared_error: 0.3787 - val_loss: 0.5103 - val_mean_absolute_error: 0.5828 - val_mean_squared_error: 0.5103\n",
            "Epoch 66/100\n",
            "4/4 [==============================] - 0s 10ms/step - loss: 0.3782 - mean_absolute_error: 0.4970 - mean_squared_error: 0.3782 - val_loss: 0.5100 - val_mean_absolute_error: 0.5830 - val_mean_squared_error: 0.5100\n",
            "Epoch 67/100\n",
            "4/4 [==============================] - 0s 10ms/step - loss: 0.3779 - mean_absolute_error: 0.4973 - mean_squared_error: 0.3779 - val_loss: 0.5092 - val_mean_absolute_error: 0.5829 - val_mean_squared_error: 0.5092\n",
            "Epoch 68/100\n",
            "4/4 [==============================] - 0s 9ms/step - loss: 0.3766 - mean_absolute_error: 0.4967 - mean_squared_error: 0.3766 - val_loss: 0.5083 - val_mean_absolute_error: 0.5827 - val_mean_squared_error: 0.5083\n",
            "Epoch 69/100\n",
            "4/4 [==============================] - 0s 10ms/step - loss: 0.3767 - mean_absolute_error: 0.4961 - mean_squared_error: 0.3767 - val_loss: 0.5076 - val_mean_absolute_error: 0.5825 - val_mean_squared_error: 0.5076\n",
            "Epoch 70/100\n",
            "4/4 [==============================] - 0s 12ms/step - loss: 0.3751 - mean_absolute_error: 0.4957 - mean_squared_error: 0.3751 - val_loss: 0.5072 - val_mean_absolute_error: 0.5826 - val_mean_squared_error: 0.5072\n",
            "Epoch 71/100\n",
            "4/4 [==============================] - 0s 10ms/step - loss: 0.3746 - mean_absolute_error: 0.4959 - mean_squared_error: 0.3746 - val_loss: 0.5064 - val_mean_absolute_error: 0.5824 - val_mean_squared_error: 0.5064\n",
            "Epoch 72/100\n",
            "4/4 [==============================] - 0s 9ms/step - loss: 0.3744 - mean_absolute_error: 0.4954 - mean_squared_error: 0.3744 - val_loss: 0.5054 - val_mean_absolute_error: 0.5821 - val_mean_squared_error: 0.5054\n",
            "Epoch 73/100\n",
            "4/4 [==============================] - 0s 10ms/step - loss: 0.3731 - mean_absolute_error: 0.4946 - mean_squared_error: 0.3731 - val_loss: 0.5045 - val_mean_absolute_error: 0.5817 - val_mean_squared_error: 0.5045\n",
            "Epoch 74/100\n",
            "4/4 [==============================] - 0s 10ms/step - loss: 0.3721 - mean_absolute_error: 0.4943 - mean_squared_error: 0.3721 - val_loss: 0.5037 - val_mean_absolute_error: 0.5814 - val_mean_squared_error: 0.5037\n",
            "Epoch 75/100\n",
            "4/4 [==============================] - 0s 9ms/step - loss: 0.3720 - mean_absolute_error: 0.4936 - mean_squared_error: 0.3720 - val_loss: 0.5031 - val_mean_absolute_error: 0.5814 - val_mean_squared_error: 0.5031\n",
            "Epoch 76/100\n",
            "4/4 [==============================] - 0s 9ms/step - loss: 0.3712 - mean_absolute_error: 0.4939 - mean_squared_error: 0.3712 - val_loss: 0.5028 - val_mean_absolute_error: 0.5814 - val_mean_squared_error: 0.5028\n",
            "Epoch 77/100\n",
            "4/4 [==============================] - 0s 9ms/step - loss: 0.3704 - mean_absolute_error: 0.4936 - mean_squared_error: 0.3704 - val_loss: 0.5019 - val_mean_absolute_error: 0.5812 - val_mean_squared_error: 0.5019\n",
            "Epoch 78/100\n",
            "4/4 [==============================] - 0s 11ms/step - loss: 0.3700 - mean_absolute_error: 0.4935 - mean_squared_error: 0.3700 - val_loss: 0.5006 - val_mean_absolute_error: 0.5805 - val_mean_squared_error: 0.5006\n",
            "Epoch 79/100\n",
            "4/4 [==============================] - 0s 9ms/step - loss: 0.3693 - mean_absolute_error: 0.4925 - mean_squared_error: 0.3693 - val_loss: 0.4997 - val_mean_absolute_error: 0.5798 - val_mean_squared_error: 0.4997\n",
            "Epoch 80/100\n",
            "4/4 [==============================] - 0s 11ms/step - loss: 0.3691 - mean_absolute_error: 0.4927 - mean_squared_error: 0.3691 - val_loss: 0.4991 - val_mean_absolute_error: 0.5800 - val_mean_squared_error: 0.4991\n",
            "Epoch 81/100\n",
            "4/4 [==============================] - 0s 10ms/step - loss: 0.3676 - mean_absolute_error: 0.4917 - mean_squared_error: 0.3676 - val_loss: 0.4984 - val_mean_absolute_error: 0.5797 - val_mean_squared_error: 0.4984\n",
            "Epoch 82/100\n",
            "4/4 [==============================] - 0s 9ms/step - loss: 0.3672 - mean_absolute_error: 0.4916 - mean_squared_error: 0.3672 - val_loss: 0.4979 - val_mean_absolute_error: 0.5798 - val_mean_squared_error: 0.4979\n",
            "Epoch 83/100\n",
            "4/4 [==============================] - 0s 9ms/step - loss: 0.3665 - mean_absolute_error: 0.4912 - mean_squared_error: 0.3665 - val_loss: 0.4972 - val_mean_absolute_error: 0.5793 - val_mean_squared_error: 0.4972\n",
            "Epoch 84/100\n",
            "4/4 [==============================] - 0s 10ms/step - loss: 0.3662 - mean_absolute_error: 0.4909 - mean_squared_error: 0.3662 - val_loss: 0.4967 - val_mean_absolute_error: 0.5792 - val_mean_squared_error: 0.4967\n",
            "Epoch 85/100\n",
            "4/4 [==============================] - 0s 11ms/step - loss: 0.3651 - mean_absolute_error: 0.4901 - mean_squared_error: 0.3651 - val_loss: 0.4962 - val_mean_absolute_error: 0.5792 - val_mean_squared_error: 0.4962\n",
            "Epoch 86/100\n",
            "4/4 [==============================] - 0s 11ms/step - loss: 0.3649 - mean_absolute_error: 0.4899 - mean_squared_error: 0.3649 - val_loss: 0.4955 - val_mean_absolute_error: 0.5789 - val_mean_squared_error: 0.4955\n",
            "Epoch 87/100\n",
            "4/4 [==============================] - 0s 10ms/step - loss: 0.3639 - mean_absolute_error: 0.4896 - mean_squared_error: 0.3639 - val_loss: 0.4949 - val_mean_absolute_error: 0.5790 - val_mean_squared_error: 0.4949\n",
            "Epoch 88/100\n",
            "4/4 [==============================] - 0s 9ms/step - loss: 0.3634 - mean_absolute_error: 0.4896 - mean_squared_error: 0.3634 - val_loss: 0.4944 - val_mean_absolute_error: 0.5788 - val_mean_squared_error: 0.4944\n",
            "Epoch 89/100\n",
            "4/4 [==============================] - 0s 12ms/step - loss: 0.3631 - mean_absolute_error: 0.4893 - mean_squared_error: 0.3631 - val_loss: 0.4940 - val_mean_absolute_error: 0.5791 - val_mean_squared_error: 0.4940\n",
            "Epoch 90/100\n",
            "4/4 [==============================] - 0s 9ms/step - loss: 0.3624 - mean_absolute_error: 0.4895 - mean_squared_error: 0.3624 - val_loss: 0.4932 - val_mean_absolute_error: 0.5785 - val_mean_squared_error: 0.4932\n",
            "Epoch 91/100\n",
            "4/4 [==============================] - 0s 9ms/step - loss: 0.3629 - mean_absolute_error: 0.4895 - mean_squared_error: 0.3629 - val_loss: 0.4926 - val_mean_absolute_error: 0.5784 - val_mean_squared_error: 0.4926\n",
            "Epoch 92/100\n",
            "4/4 [==============================] - 0s 9ms/step - loss: 0.3615 - mean_absolute_error: 0.4891 - mean_squared_error: 0.3615 - val_loss: 0.4920 - val_mean_absolute_error: 0.5781 - val_mean_squared_error: 0.4920\n",
            "Epoch 93/100\n",
            "4/4 [==============================] - 0s 9ms/step - loss: 0.3607 - mean_absolute_error: 0.4882 - mean_squared_error: 0.3607 - val_loss: 0.4916 - val_mean_absolute_error: 0.5783 - val_mean_squared_error: 0.4916\n",
            "Epoch 94/100\n",
            "4/4 [==============================] - 0s 9ms/step - loss: 0.3622 - mean_absolute_error: 0.4900 - mean_squared_error: 0.3622 - val_loss: 0.4910 - val_mean_absolute_error: 0.5776 - val_mean_squared_error: 0.4910\n",
            "Epoch 95/100\n",
            "4/4 [==============================] - 0s 9ms/step - loss: 0.3596 - mean_absolute_error: 0.4875 - mean_squared_error: 0.3596 - val_loss: 0.4905 - val_mean_absolute_error: 0.5777 - val_mean_squared_error: 0.4905\n",
            "Epoch 96/100\n",
            "4/4 [==============================] - 0s 10ms/step - loss: 0.3595 - mean_absolute_error: 0.4881 - mean_squared_error: 0.3595 - val_loss: 0.4900 - val_mean_absolute_error: 0.5773 - val_mean_squared_error: 0.4900\n",
            "Epoch 97/100\n",
            "4/4 [==============================] - 0s 10ms/step - loss: 0.3588 - mean_absolute_error: 0.4878 - mean_squared_error: 0.3588 - val_loss: 0.4896 - val_mean_absolute_error: 0.5770 - val_mean_squared_error: 0.4896\n",
            "Epoch 98/100\n",
            "4/4 [==============================] - 0s 9ms/step - loss: 0.3587 - mean_absolute_error: 0.4873 - mean_squared_error: 0.3587 - val_loss: 0.4890 - val_mean_absolute_error: 0.5770 - val_mean_squared_error: 0.4890\n",
            "Epoch 99/100\n",
            "4/4 [==============================] - 0s 13ms/step - loss: 0.3582 - mean_absolute_error: 0.4874 - mean_squared_error: 0.3582 - val_loss: 0.4887 - val_mean_absolute_error: 0.5776 - val_mean_squared_error: 0.4887\n",
            "Epoch 100/100\n",
            "4/4 [==============================] - 0s 10ms/step - loss: 0.3582 - mean_absolute_error: 0.4879 - mean_squared_error: 0.3582 - val_loss: 0.4882 - val_mean_absolute_error: 0.5776 - val_mean_squared_error: 0.4882\n"
          ],
          "name": "stdout"
        }
      ]
    },
    {
      "cell_type": "markdown",
      "metadata": {
        "id": "fa_D6YswOvo1",
        "colab_type": "text"
      },
      "source": [
        "We get to ~0.3542 validation mean squared error after training for 100 epochs on the training dataset. For reference, the same metric was ~0.7807 in the single-variable linear regression model (from the previous lesson).  Let's visualize the model's training progress using the stats stored in the history object.\n",
        "\n"
      ]
    },
    {
      "cell_type": "code",
      "metadata": {
        "id": "5QGfBDMVPPYv",
        "colab_type": "code",
        "colab": {
          "base_uri": "https://localhost:8080/",
          "height": 423
        },
        "outputId": "0af9e2f0-0dd3-4ce6-a352-f80dd216a324"
      },
      "source": [
        "# create a dataframe to store the history \n",
        "hist = pd.DataFrame(history.history)\n",
        "hist['epoch'] = history.epoch\n",
        "print(hist.tail())\n",
        "\n",
        "# visualize the mean squared error over the training process\n",
        "hist.plot.line(x='epoch', y='val_mse');"
      ],
      "execution_count": null,
      "outputs": [
        {
          "output_type": "stream",
          "text": [
            "        loss  mean_absolute_error  ...  val_mean_squared_error  epoch\n",
            "95  0.359492             0.488087  ...                0.489979     95\n",
            "96  0.358822             0.487758  ...                0.489611     96\n",
            "97  0.358735             0.487253  ...                0.489042     97\n",
            "98  0.358198             0.487372  ...                0.488747     98\n",
            "99  0.358247             0.487920  ...                0.488234     99\n",
            "\n",
            "[5 rows x 7 columns]\n"
          ],
          "name": "stdout"
        },
        {
          "output_type": "display_data",
          "data": {
            "image/png": "[encoded data removed]",
            "text/plain": [
              "<Figure size 432x288 with 1 Axes>"
            ]
          },
          "metadata": {
            "tags": [],
            "needs_background": "light"
          }
        }
      ]
    },
    {
      "cell_type": "markdown",
      "metadata": {
        "id": "NgV4Jk8TV_zJ",
        "colab_type": "text"
      },
      "source": [
        "From the plot we can see that our model *converges* around the 10th epoch. In other words, the most optimal parameters (weights and bias) are found after about the 10 training iteration. "
      ]
    },
    {
      "cell_type": "markdown",
      "metadata": {
        "id": "P3-3e5HYT0N9",
        "colab_type": "text"
      },
      "source": [
        "## 4. Evaluate the model\n",
        "Now that we trained our model, it's time to evaluate it using the *test* dataset, which we did not use when training the model. This gives us a sense of how well our model predicts unseen data, which is the case when we use it in the real world. We will use the `evaluate` method to test the model. "
      ]
    },
    {
      "cell_type": "code",
      "metadata": {
        "id": "fwP7HvCkSLAw",
        "colab_type": "code",
        "colab": {
          "base_uri": "https://localhost:8080/",
          "height": 73
        },
        "outputId": "600fe704-8303-4524-cfab-9b7574873d93"
      },
      "source": [
        "loss, mae, mse = model.evaluate(test_features, test_labels)\n",
        "print('Test set Mean Absolute Error: ', round(mae, 4))"
      ],
      "execution_count": null,
      "outputs": [
        {
          "output_type": "stream",
          "text": [
            "1/1 [==============================] - 0s 1ms/step - loss: 0.2282 - mean_absolute_error: 0.4185 - mean_squared_error: 0.2282\n",
            "Test set Mean Absolute Error:  0.4185\n"
          ],
          "name": "stdout"
        }
      ]
    },
    {
      "cell_type": "markdown",
      "metadata": {
        "id": "_Wk8eZggWk_F",
        "colab_type": "text"
      },
      "source": [
        "The average (absolute) error is around +/- 0.4185 units for happiness Score, which is better than the single-variable linear model (+/- 0.516). Is this good? We'll leave that decision up to you. Let's also visualize the prediction and real happiness Score values using data in the test set."
      ]
    },
    {
      "cell_type": "code",
      "metadata": {
        "id": "v6-UEhdrW9mo",
        "colab_type": "code",
        "colab": {
          "base_uri": "https://localhost:8080/",
          "height": 279
        },
        "outputId": "062129bf-8048-4f94-9c73-130e71f8b21d"
      },
      "source": [
        "test_predictions = model.predict(test_features).flatten()\n",
        "\n",
        "ax = plt.axes(aspect='equal')\n",
        "plt.scatter(test_labels, test_predictions)\n",
        "plt.xlabel('True Values [Happiness Score]')\n",
        "plt.ylabel('Predictions [Happiness Score]')\n",
        "lims = [0, max(test_labels) + 1] # [0, 31]\n",
        "plt.xlim(lims)\n",
        "plt.ylim(lims)\n",
        "_ = plt.plot(lims, lims)"
      ],
      "execution_count": null,
      "outputs": [
        {
          "output_type": "display_data",
          "data": {
            "image/png": "[encoded data removed]",
            "text/plain": [
              "<Figure size 432x288 with 1 Axes>"
            ]
          },
          "metadata": {
            "tags": [],
            "needs_background": "light"
          }
        }
      ]
    },
    {
      "cell_type": "markdown",
      "metadata": {
        "id": "kebG1ga8XDJj",
        "colab_type": "text"
      },
      "source": [
        "It looks like our model predicts reasonably well. Let's take a look at the error distribution."
      ]
    },
    {
      "cell_type": "code",
      "metadata": {
        "id": "gt5h3qJqXLnX",
        "colab_type": "code",
        "colab": {
          "base_uri": "https://localhost:8080/",
          "height": 279
        },
        "outputId": "00cb2712-ebc7-441b-9361-8c994a290838"
      },
      "source": [
        "error = test_predictions.reshape(-1, 1) - test_labels\n",
        "plt.hist(error, bins = 10)\n",
        "plt.xlabel(\"Prediction Error [Happiness Score]\")\n",
        "_ = plt.ylabel(\"Count\")"
      ],
      "execution_count": null,
      "outputs": [
        {
          "output_type": "display_data",
          "data": {
            "image/png": "[encoded data removed]",
            "text/plain": [
              "<Figure size 432x288 with 1 Axes>"
            ]
          },
          "metadata": {
            "tags": [],
            "needs_background": "light"
          }
        }
      ]
    },
    {
      "cell_type": "markdown",
      "metadata": {
        "id": "Hlo6-qXpXKvc",
        "colab_type": "text"
      },
      "source": [
        "The histogram shows that the errors aren't quite *Normally distributed* (also called *gaussian*), but we might expect that because the number of samples is very small."
      ]
    },
    {
      "cell_type": "markdown",
      "metadata": {
        "id": "gnE63-EUXTTq",
        "colab_type": "text"
      },
      "source": [
        "## 5. Draw Conclusions\n",
        "We built a single-layer fully-connected neural network model (multiple linear regression model) to predict happiness Score given a country's features. The model converged after about 10 epochs of training, and it achieved an average (absolute) error of +/- 0.4185. Including more features in the model outperformed the single-variable linear regression model, confirming the hypothesis we made last lesson that more features could improve performance. That said, we expect that a *deeper* model (more layers and neurons) and more data samples will improve performance.     "
      ]
    },
    {
      "cell_type": "markdown",
      "metadata": {
        "id": "jL_wTrZZYK65",
        "colab_type": "text"
      },
      "source": [
        "# Summary\n",
        "In this lesson we took a deeper dive into multiple regression, from the perspective of neural networks. We built a single-layer fully-connected neural network and demonstrated how to train and evaluate it. We covered several important techniques, most importantly: using multiple features to train a linear model."
      ]
    },
    {
      "cell_type": "code",
      "metadata": {
        "id": "9kzCoSgtYtnK",
        "colab_type": "code",
        "colab": {}
      },
      "source": [
        ""
      ],
      "execution_count": null,
      "outputs": []
    }
  ]
}