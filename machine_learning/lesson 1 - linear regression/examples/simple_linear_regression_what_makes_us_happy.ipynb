{
  "nbformat": 4,
  "nbformat_minor": 0,
  "metadata": {
    "kernelspec": {
      "display_name": "Python 3",
      "language": "python",
      "name": "python3"
    },
    "language_info": {
      "codemirror_mode": {
        "name": "ipython",
        "version": 3
      },
      "file_extension": ".py",
      "mimetype": "text/x-python",
      "name": "python",
      "nbconvert_exporter": "python",
      "pygments_lexer": "ipython3",
      "version": "3.8.0"
    },
    "colab": {
      "name": "linear_regression_what_makes_us_happy.ipynb",
      "provenance": [],
      "include_colab_link": true
    }
  },
  "cells": [
    {
      "cell_type": "markdown",
      "metadata": {
        "id": "view-in-github",
        "colab_type": "text"
      },
      "source": [
        "<a href=\"https://colab.research.google.com/github/BreakoutMentors/Data-Science-and-Machine-Learning/blob/master/machine_learning/lesson%201%20-%20linear%20regression/examples/simple_linear_regression_what_makes_us_happy.ipynb\" target=\"_parent\"><img src=\"https://colab.research.google.com/assets/colab-badge.svg\" alt=\"Open In Colab\"/></a>"
      ]
    },
    {
      "cell_type": "markdown",
      "metadata": {
        "id": "eew5bzXQmSAV",
        "colab_type": "text"
      },
      "source": [
        "# D"
      ]
    },
    {
      "cell_type": "markdown",
      "metadata": {
        "id": "fgtcQi5cPcFU",
        "colab_type": "text"
      },
      "source": [
        "# Regression\n",
        "<figure>\n",
        "<img src='https://media.makeameme.org/created/brace-yourself-regression-599599.jpg' width='50%' height='50%'></img>\n",
        "</figure>\n",
        "\n",
        "\n",
        "Perhaps the most natural machine learning task to wrap our heads around is *regression*--a set of methods for modeling the relationship between one or more independent variables (i.e., $x$) and a dependent variable (i.e., $y$). Regression problems pop up whenever we want to output a *numeric* value. \n",
        "\n",
        "Most applications of regression fall into one of the following two broad categories:\n",
        "- *inference* - to explain the relationship between the inputs and outputs (most common).\n",
        "- *prediction* - to predict numeric outputs given inputs (most common in machine learning). \n",
        "\n",
        "A few everyday examples of regression include predicting prices (of homes, stocks, etc.), predicting length of stay (for patients in the hospital), and demand forecasting (for retail sales). "
      ]
    },
    {
      "cell_type": "markdown",
      "metadata": {
        "id": "UoeVWX-5j7Gt",
        "colab_type": "text"
      },
      "source": [
        "## Linear Regression\n",
        "*Linear regression* is probably the simplest and most popular regression method. It is called \"linear\" regression because we **assume** that the relationship between the independent variables $x$ and the dependent variable  $y$ is linear--that is, $y$ can be expressed as a *weighted sum* of the elements in $x$, plus some *noise* in the data. In mathematical terms this can be expressed as: $$y = wx + b$$\n",
        "where $w$ represents the learnable *weights* and $b$ the *bias* (i.e., you may recognize it as the *intercept*). The weights determine the influence of each feature on the prediction and the bias tells us what the predicted value would be if all the features $x$ values were 0. Given features of a training dataset  X  and corresponding (known) labels  y , the goal of linear regression is to find the weight vector  w  and the bias term  b  that given features of a new data instance sampled from the same distribution as  X , the new data instance’s label will (in expectation) be predicted with the lowest error.\n",
        "\n",
        "To motivate the linear regression approach, suppose that we wish to estimate the prices of houses (in dollars) based on their area (in square feet). To actually fit a model for *predicting* house prices, we need to get our hands on a dataset consisting of sales for which we know the sale price and area for each home. In machine learning terminology, the dataset is called a *training dataset* or *training set*, and each row (the data corresponding to one sale) is called a *sample*. The thing we are trying to predict (price) is called a *label* (or *target*). The independent variables (only one in this case--area), upon which the predictions are based, are called *features*. \n",
        "\n",
        "Generally, we will use  $n$  to denote the total number of samples in our dataset. We index a sample by $i$, denoting each sample as  $x^{(i)}=[x^{(i)}_{1}]^{⊤}$  ($x^{(i)}_{1}$ representing the area) and the corresponding label as $y^{(i)}$.\n"
      ]
    },
    {
      "cell_type": "markdown",
      "metadata": {
        "id": "_lV-loKm6kLV",
        "colab_type": "text"
      },
      "source": [
        "## Linear Model\n"
      ]
    },
    {
      "cell_type": "markdown",
      "metadata": {
        "id": "mM4R7LoM6kJo",
        "colab_type": "text"
      },
      "source": [
        "To make the above linear regression formula more concrete, let's translate it to our house prices example: \n",
        "$$\\text{price} = w_{\\text{area}}\\cdot{area} + b $$\n",
        "where $w_{\\text{area}}$ is the learnable *weight* and $b$ is the *bias* (or *intercept*).\n",
        "\n",
        "The goal is to choose the weight  $w$  and the bias  b  such that on average, the predictions made according to our model *best fit* the true prices observed in the data."
      ]
    },
    {
      "cell_type": "code",
      "metadata": {
        "id": "Sf2XJL5g6jgs",
        "colab_type": "code",
        "colab": {}
      },
      "source": [
        ""
      ],
      "execution_count": 0,
      "outputs": []
    },
    {
      "cell_type": "markdown",
      "metadata": {
        "id": "OFv_ek5F8b1D",
        "colab_type": "text"
      },
      "source": [
        "# What makes us happy?\n",
        "\n",
        "That's the question we'll try to answer in this notebook. But how? The first step is to find a dataset related to our question. The World Happiness (https://www.kaggle.com/unsdsn/world-happiness) dataset happens to be a great option so we'll us it here. The dataset contains information about the state of global happiness with happiness scores and rankings for almost every country on earth. Pretty cool right!\n",
        "\n",
        "We want to find out what makes us happy. We will use sinlge-variable linear regression to answer this question. In general, when you use any data science method (like linear regression) you'll want to do a few things:\n",
        "\n",
        "1. Explore the dataset\n",
        "2. Visualize the variables and relationships between them (i.e., correlation) to find interesting variables to explore\n",
        "3. Build a model\n",
        "4. Fit the data to the model\n",
        "5. Measure the quality of our model (i.e., how well it fits the data).\n",
        "6. Draw conclusions\n",
        "\n",
        "We'll start our analysis by exploring the World Happiness dataset."
      ]
    },
    {
      "cell_type": "code",
      "metadata": {
        "id": "6QeOZ9rN8b1E",
        "colab_type": "code",
        "colab": {}
      },
      "source": [
        "# import the libraries we be need\n",
        "import pandas as pd\n",
        "import numpy as np\n",
        "import matplotlib\n",
        "import matplotlib.pyplot as plt"
      ],
      "execution_count": 0,
      "outputs": []
    },
    {
      "cell_type": "markdown",
      "metadata": {
        "id": "AA78zSFaOlje",
        "colab_type": "text"
      },
      "source": [
        "## 1. Explore the dataset"
      ]
    },
    {
      "cell_type": "code",
      "metadata": {
        "id": "Kmr-AHsN8b1J",
        "colab_type": "code",
        "outputId": "b612e7a4-d2d8-4a4c-b0d4-b6870b0cb08a",
        "colab": {
          "base_uri": "https://localhost:8080/",
          "height": 204
        }
      },
      "source": [
        "# load the dataset into a dataframe\n",
        "data_url = 'https://raw.githubusercontent.com/krmiddlebrook/intro_to_graphing_in_python/master/datasets/world-happiness/2019.csv'\n",
        "happy2019 = pd.read_csv(data_url)\n",
        "happy2019.head() # view the first 5 rows of the data"
      ],
      "execution_count": 0,
      "outputs": [
        {
          "output_type": "execute_result",
          "data": {
            "text/html": [
              "<div>\n",
              "<style scoped>\n",
              "    .dataframe tbody tr th:only-of-type {\n",
              "        vertical-align: middle;\n",
              "    }\n",
              "\n",
              "    .dataframe tbody tr th {\n",
              "        vertical-align: top;\n",
              "    }\n",
              "\n",
              "    .dataframe thead th {\n",
              "        text-align: right;\n",
              "    }\n",
              "</style>\n",
              "<table border=\"1\" class=\"dataframe\">\n",
              "  <thead>\n",
              "    <tr style=\"text-align: right;\">\n",
              "      <th></th>\n",
              "      <th>Overall rank</th>\n",
              "      <th>Country or region</th>\n",
              "      <th>Score</th>\n",
              "      <th>GDP per capita</th>\n",
              "      <th>Social support</th>\n",
              "      <th>Healthy life expectancy</th>\n",
              "      <th>Freedom to make life choices</th>\n",
              "      <th>Generosity</th>\n",
              "      <th>Perceptions of corruption</th>\n",
              "    </tr>\n",
              "  </thead>\n",
              "  <tbody>\n",
              "    <tr>\n",
              "      <th>0</th>\n",
              "      <td>1</td>\n",
              "      <td>Finland</td>\n",
              "      <td>7.769</td>\n",
              "      <td>1.340</td>\n",
              "      <td>1.587</td>\n",
              "      <td>0.986</td>\n",
              "      <td>0.596</td>\n",
              "      <td>0.153</td>\n",
              "      <td>0.393</td>\n",
              "    </tr>\n",
              "    <tr>\n",
              "      <th>1</th>\n",
              "      <td>2</td>\n",
              "      <td>Denmark</td>\n",
              "      <td>7.600</td>\n",
              "      <td>1.383</td>\n",
              "      <td>1.573</td>\n",
              "      <td>0.996</td>\n",
              "      <td>0.592</td>\n",
              "      <td>0.252</td>\n",
              "      <td>0.410</td>\n",
              "    </tr>\n",
              "    <tr>\n",
              "      <th>2</th>\n",
              "      <td>3</td>\n",
              "      <td>Norway</td>\n",
              "      <td>7.554</td>\n",
              "      <td>1.488</td>\n",
              "      <td>1.582</td>\n",
              "      <td>1.028</td>\n",
              "      <td>0.603</td>\n",
              "      <td>0.271</td>\n",
              "      <td>0.341</td>\n",
              "    </tr>\n",
              "    <tr>\n",
              "      <th>3</th>\n",
              "      <td>4</td>\n",
              "      <td>Iceland</td>\n",
              "      <td>7.494</td>\n",
              "      <td>1.380</td>\n",
              "      <td>1.624</td>\n",
              "      <td>1.026</td>\n",
              "      <td>0.591</td>\n",
              "      <td>0.354</td>\n",
              "      <td>0.118</td>\n",
              "    </tr>\n",
              "    <tr>\n",
              "      <th>4</th>\n",
              "      <td>5</td>\n",
              "      <td>Netherlands</td>\n",
              "      <td>7.488</td>\n",
              "      <td>1.396</td>\n",
              "      <td>1.522</td>\n",
              "      <td>0.999</td>\n",
              "      <td>0.557</td>\n",
              "      <td>0.322</td>\n",
              "      <td>0.298</td>\n",
              "    </tr>\n",
              "  </tbody>\n",
              "</table>\n",
              "</div>"
            ],
            "text/plain": [
              "   Overall rank Country or region  ...  Generosity  Perceptions of corruption\n",
              "0             1           Finland  ...       0.153                      0.393\n",
              "1             2           Denmark  ...       0.252                      0.410\n",
              "2             3            Norway  ...       0.271                      0.341\n",
              "3             4           Iceland  ...       0.354                      0.118\n",
              "4             5       Netherlands  ...       0.322                      0.298\n",
              "\n",
              "[5 rows x 9 columns]"
            ]
          },
          "metadata": {
            "tags": []
          },
          "execution_count": 8
        }
      ]
    },
    {
      "cell_type": "code",
      "metadata": {
        "id": "Da2arfDeOvX_",
        "colab_type": "code",
        "outputId": "6bd667b7-e1e1-4c3c-d04a-87d020ece6bf",
        "colab": {
          "base_uri": "https://localhost:8080/",
          "height": 34
        }
      },
      "source": [
        "# how many rows and columns are in the dataset\n",
        "happy2019.shape # looks like 156 rows and 9 columns"
      ],
      "execution_count": 0,
      "outputs": [
        {
          "output_type": "execute_result",
          "data": {
            "text/plain": [
              "(156, 9)"
            ]
          },
          "metadata": {
            "tags": []
          },
          "execution_count": 9
        }
      ]
    },
    {
      "cell_type": "markdown",
      "metadata": {
        "id": "1UHhojql-utF",
        "colab_type": "text"
      },
      "source": [
        "## 2. Visualize the variables (i.e., columns) and the relationships between them (i.e., using correlation) "
      ]
    },
    {
      "cell_type": "code",
      "metadata": {
        "id": "_byEDAtL8b1P",
        "colab_type": "code",
        "outputId": "47a14623-9a16-40d1-8209-cd587accbc9d",
        "colab": {
          "base_uri": "https://localhost:8080/",
          "height": 266
        }
      },
      "source": [
        "# get the x columns we are interested in\n",
        "corr_cols = ['Score', 'GDP per capita', 'Social support', 'Healthy life expectancy', 'Freedom to make life choices', 'Generosity', 'Perceptions of corruption']\n",
        "\n",
        "# calculate correlation (i.e., relationships) between each column\n",
        "cormatrix = happy2019.loc[:, corr_cols].corr(method='spearman')\n",
        "cormatrix"
      ],
      "execution_count": 0,
      "outputs": [
        {
          "output_type": "execute_result",
          "data": {
            "text/html": [
              "<div>\n",
              "<style scoped>\n",
              "    .dataframe tbody tr th:only-of-type {\n",
              "        vertical-align: middle;\n",
              "    }\n",
              "\n",
              "    .dataframe tbody tr th {\n",
              "        vertical-align: top;\n",
              "    }\n",
              "\n",
              "    .dataframe thead th {\n",
              "        text-align: right;\n",
              "    }\n",
              "</style>\n",
              "<table border=\"1\" class=\"dataframe\">\n",
              "  <thead>\n",
              "    <tr style=\"text-align: right;\">\n",
              "      <th></th>\n",
              "      <th>Score</th>\n",
              "      <th>GDP per capita</th>\n",
              "      <th>Social support</th>\n",
              "      <th>Healthy life expectancy</th>\n",
              "      <th>Freedom to make life choices</th>\n",
              "      <th>Generosity</th>\n",
              "      <th>Perceptions of corruption</th>\n",
              "    </tr>\n",
              "  </thead>\n",
              "  <tbody>\n",
              "    <tr>\n",
              "      <th>Score</th>\n",
              "      <td>1.000000</td>\n",
              "      <td>0.814483</td>\n",
              "      <td>0.816181</td>\n",
              "      <td>0.807275</td>\n",
              "      <td>0.551974</td>\n",
              "      <td>0.070483</td>\n",
              "      <td>0.217348</td>\n",
              "    </tr>\n",
              "    <tr>\n",
              "      <th>GDP per capita</th>\n",
              "      <td>0.814483</td>\n",
              "      <td>1.000000</td>\n",
              "      <td>0.768539</td>\n",
              "      <td>0.851513</td>\n",
              "      <td>0.393426</td>\n",
              "      <td>-0.041304</td>\n",
              "      <td>0.223203</td>\n",
              "    </tr>\n",
              "    <tr>\n",
              "      <th>Social support</th>\n",
              "      <td>0.816181</td>\n",
              "      <td>0.768539</td>\n",
              "      <td>1.000000</td>\n",
              "      <td>0.725997</td>\n",
              "      <td>0.449491</td>\n",
              "      <td>0.007695</td>\n",
              "      <td>0.114017</td>\n",
              "    </tr>\n",
              "    <tr>\n",
              "      <th>Healthy life expectancy</th>\n",
              "      <td>0.807275</td>\n",
              "      <td>0.851513</td>\n",
              "      <td>0.725997</td>\n",
              "      <td>1.000000</td>\n",
              "      <td>0.412906</td>\n",
              "      <td>-0.006773</td>\n",
              "      <td>0.165309</td>\n",
              "    </tr>\n",
              "    <tr>\n",
              "      <th>Freedom to make life choices</th>\n",
              "      <td>0.551974</td>\n",
              "      <td>0.393426</td>\n",
              "      <td>0.449491</td>\n",
              "      <td>0.412906</td>\n",
              "      <td>1.000000</td>\n",
              "      <td>0.324146</td>\n",
              "      <td>0.403586</td>\n",
              "    </tr>\n",
              "    <tr>\n",
              "      <th>Generosity</th>\n",
              "      <td>0.070483</td>\n",
              "      <td>-0.041304</td>\n",
              "      <td>0.007695</td>\n",
              "      <td>-0.006773</td>\n",
              "      <td>0.324146</td>\n",
              "      <td>1.000000</td>\n",
              "      <td>0.286171</td>\n",
              "    </tr>\n",
              "    <tr>\n",
              "      <th>Perceptions of corruption</th>\n",
              "      <td>0.217348</td>\n",
              "      <td>0.223203</td>\n",
              "      <td>0.114017</td>\n",
              "      <td>0.165309</td>\n",
              "      <td>0.403586</td>\n",
              "      <td>0.286171</td>\n",
              "      <td>1.000000</td>\n",
              "    </tr>\n",
              "  </tbody>\n",
              "</table>\n",
              "</div>"
            ],
            "text/plain": [
              "                                 Score  ...  Perceptions of corruption\n",
              "Score                         1.000000  ...                   0.217348\n",
              "GDP per capita                0.814483  ...                   0.223203\n",
              "Social support                0.816181  ...                   0.114017\n",
              "Healthy life expectancy       0.807275  ...                   0.165309\n",
              "Freedom to make life choices  0.551974  ...                   0.403586\n",
              "Generosity                    0.070483  ...                   0.286171\n",
              "Perceptions of corruption     0.217348  ...                   1.000000\n",
              "\n",
              "[7 rows x 7 columns]"
            ]
          },
          "metadata": {
            "tags": []
          },
          "execution_count": 10
        }
      ]
    },
    {
      "cell_type": "markdown",
      "metadata": {
        "id": "qy1530ik8b1T",
        "colab_type": "text"
      },
      "source": [
        "What we just calculated is called a correlation matrix. Let's visualize these correlations to see which columns are most related to each other. "
      ]
    },
    {
      "cell_type": "markdown",
      "metadata": {
        "id": "_PEk9joxAxyn",
        "colab_type": "text"
      },
      "source": [
        "### Making a correlation heatmap with matplotlib using the provided function. "
      ]
    },
    {
      "cell_type": "code",
      "metadata": {
        "id": "iyniS51XCl9k",
        "colab_type": "code",
        "colab": {}
      },
      "source": [
        "# a provided function to draw a heatmap using matplotlib\n",
        "# you don't need to understand how it works, just skim\n",
        "def heatmap(data, row_labels, col_labels, ax=None,\n",
        "            cbar_kw={}, cbarlabel=\"\", **kwargs):\n",
        "    \"\"\"Create a heatmap from a numpy array and two lists of labels.\n",
        "\n",
        "    Parameters\n",
        "    ----------\n",
        "    data\n",
        "        A 2D numpy array of shape (N, M).\n",
        "    row_labels\n",
        "        A list or array of length N with the labels for the rows.\n",
        "    col_labels\n",
        "        A list or array of length M with the labels for the columns.\n",
        "    ax\n",
        "        A `matplotlib.axes.Axes` instance to which the heatmap is plotted.  If\n",
        "        not provided, use current axes or create a new one.  Optional.\n",
        "    cbar_kw\n",
        "        A dictionary with arguments to `matplotlib.Figure.colorbar`.  Optional.\n",
        "    cbarlabel\n",
        "        The label for the colorbar.  Optional.\n",
        "    **kwargs\n",
        "        All other arguments are forwarded to `imshow`.\n",
        "    \"\"\"\n",
        "\n",
        "    if not ax:\n",
        "        ax = plt.gca()\n",
        "\n",
        "    # Plot the heatmap\n",
        "    im = ax.imshow(data, **kwargs)\n",
        "\n",
        "    # Create colorbar\n",
        "    cbar = ax.figure.colorbar(im, ax=ax, **cbar_kw)\n",
        "    cbar.ax.set_ylabel(cbarlabel, rotation=-90, va=\"bottom\")\n",
        "\n",
        "    # We want to show all ticks...\n",
        "    ax.set_xticks(np.arange(data.shape[1]))\n",
        "    ax.set_yticks(np.arange(data.shape[0]))\n",
        "    # ... and label them with the respective list entries.\n",
        "    ax.set_xticklabels(col_labels)\n",
        "    ax.set_yticklabels(row_labels)\n",
        "\n",
        "    # Let the horizontal axes labeling appear on top.\n",
        "    ax.tick_params(top=True, bottom=False,\n",
        "                   labeltop=True, labelbottom=False)\n",
        "\n",
        "    # Rotate the tick labels and set their alignment.\n",
        "    plt.setp(ax.get_xticklabels(), rotation=-30, ha=\"right\",\n",
        "             rotation_mode=\"anchor\")\n",
        "\n",
        "    # Turn spines off and create white grid.\n",
        "    for edge, spine in ax.spines.items():\n",
        "        spine.set_visible(False)\n",
        "\n",
        "    ax.set_xticks(np.arange(data.shape[1]+1)-.5, minor=True)\n",
        "    ax.set_yticks(np.arange(data.shape[0]+1)-.5, minor=True)\n",
        "    ax.grid(which=\"minor\", color=\"w\", linestyle='-', linewidth=3)\n",
        "    ax.tick_params(which=\"minor\", bottom=False, left=False)\n",
        "\n",
        "    return im, cbar"
      ],
      "execution_count": 0,
      "outputs": []
    },
    {
      "cell_type": "code",
      "metadata": {
        "id": "MfYk0B4KDZh3",
        "colab_type": "code",
        "outputId": "aeba9691-3826-47ef-f092-c2fe490469c1",
        "colab": {
          "base_uri": "https://localhost:8080/",
          "height": 68
        }
      },
      "source": [
        "cormatrix.columns.values"
      ],
      "execution_count": 0,
      "outputs": [
        {
          "output_type": "execute_result",
          "data": {
            "text/plain": [
              "array(['Score', 'GDP per capita', 'Social support',\n",
              "       'Healthy life expectancy', 'Freedom to make life choices',\n",
              "       'Generosity', 'Perceptions of corruption'], dtype=object)"
            ]
          },
          "metadata": {
            "tags": []
          },
          "execution_count": 12
        }
      ]
    },
    {
      "cell_type": "code",
      "metadata": {
        "id": "-P09rQ4f8b1U",
        "colab_type": "code",
        "outputId": "79ca1693-bffe-4bc7-93b4-a4fed5bec5b8",
        "colab": {
          "base_uri": "https://localhost:8080/",
          "height": 337
        }
      },
      "source": [
        "# set figure and axis \n",
        "fig, ax = plt.subplots()\n",
        "\n",
        "column_names = cormatrix.columns.values\n",
        "im, cbar = heatmap(cormatrix.values, column_names, cormatrix.columns.values, \n",
        "                   ax=ax, cmap=\"YlGn\", cbarlabel=\"correlation coeff.\")"
      ],
      "execution_count": 0,
      "outputs": [
        {
          "output_type": "display_data",
          "data": {
            "image/png": "[encoded data removed]",
            "text/plain": [
              "<Figure size 432x288 with 2 Axes>"
            ]
          },
          "metadata": {
            "tags": [],
            "needs_background": "light"
          }
        }
      ]
    },
    {
      "cell_type": "markdown",
      "metadata": {
        "id": "zStoL4meEfwV",
        "colab_type": "text"
      },
      "source": [
        "Awesome, but what if we want to see the exact values in each square? Let's annotate the heatmap using the provided heatmap annotation function."
      ]
    },
    {
      "cell_type": "code",
      "metadata": {
        "id": "X1H_dG4vEadj",
        "colab_type": "code",
        "colab": {}
      },
      "source": [
        "# a provided function to add annotations to a heatmap using matplotlib\n",
        "# you don't need to understand how it works, just skim\n",
        "def annotate_heatmap(im, data=None, valfmt=\"{x:.2f}\",\n",
        "                     textcolors=[\"black\", \"white\"],\n",
        "                     threshold=None, **textkw):\n",
        "    \"\"\"A function to annotate a heatmap.\n",
        "\n",
        "    Parameters\n",
        "    ----------\n",
        "    im\n",
        "        The AxesImage to be labeled.\n",
        "    data\n",
        "        Data used to annotate.  If None, the image's data is used.  Optional.\n",
        "    valfmt\n",
        "        The format of the annotations inside the heatmap.  This should either\n",
        "        use the string format method, e.g. \"$ {x:.2f}\", or be a\n",
        "        `matplotlib.ticker.Formatter`.  Optional.\n",
        "    textcolors\n",
        "        A list or array of two color specifications.  The first is used for\n",
        "        values below a threshold, the second for those above.  Optional.\n",
        "    threshold\n",
        "        Value in data units according to which the colors from textcolors are\n",
        "        applied.  If None (the default) uses the middle of the colormap as\n",
        "        separation.  Optional.\n",
        "    **kwargs\n",
        "        All other arguments are forwarded to each call to `text` used to create\n",
        "        the text labels.\n",
        "    \"\"\"\n",
        "\n",
        "    if not isinstance(data, (list, np.ndarray)):\n",
        "        data = im.get_array()\n",
        "\n",
        "    # Normalize the threshold to the images color range.\n",
        "    if threshold is not None:\n",
        "        threshold = im.norm(threshold)\n",
        "    else:\n",
        "        threshold = im.norm(data.max())/2.\n",
        "\n",
        "    # Set default alignment to center, but allow it to be\n",
        "    # overwritten by textkw.\n",
        "    kw = dict(horizontalalignment=\"center\",\n",
        "              verticalalignment=\"center\")\n",
        "    kw.update(textkw)\n",
        "\n",
        "    # Get the formatter in case a string is supplied\n",
        "    if isinstance(valfmt, str):\n",
        "        valfmt = matplotlib.ticker.StrMethodFormatter(valfmt)\n",
        "\n",
        "    # Loop over the data and create a `Text` for each \"pixel\".\n",
        "    # Change the text's color depending on the data.\n",
        "    texts = []\n",
        "    for i in range(data.shape[0]):\n",
        "        for j in range(data.shape[1]):\n",
        "            kw.update(color=textcolors[int(im.norm(data[i, j]) > threshold)])\n",
        "            text = im.axes.text(j, i, valfmt(data[i, j], None), **kw)\n",
        "            texts.append(text)\n",
        "\n",
        "    return texts\n"
      ],
      "execution_count": 0,
      "outputs": []
    },
    {
      "cell_type": "code",
      "metadata": {
        "id": "ng2cmHq0E14Y",
        "colab_type": "code",
        "outputId": "354fadf9-0c73-4963-cb85-c73a406f0a53",
        "colab": {
          "base_uri": "https://localhost:8080/",
          "height": 575
        }
      },
      "source": [
        "# set the figure size and axis \n",
        "fig, ax = plt.subplots(figsize=(10,8))\n",
        "\n",
        "# draw heatmap\n",
        "im, cbar = heatmap(cormatrix.values, column_names, cormatrix.columns.values, \n",
        "                   ax=ax, cmap=\"YlGn\", cbarlabel=\"correlation coeff.\")\n",
        "# add annotations to heatmap\n",
        "texts = annotate_heatmap(im, valfmt=\"{x:.1f}\")\n",
        "\n",
        "fig.tight_layout()\n",
        "plt.show()"
      ],
      "execution_count": 0,
      "outputs": [
        {
          "output_type": "display_data",
          "data": {
            "image/png": "[encoded data removed]",
            "text/plain": [
              "<Figure size 720x576 with 2 Axes>"
            ]
          },
          "metadata": {
            "tags": [],
            "needs_background": "light"
          }
        }
      ]
    },
    {
      "cell_type": "markdown",
      "metadata": {
        "id": "Z0FWkV6NGbm4",
        "colab_type": "text"
      },
      "source": [
        "Correlation coefficient values are shown in each square. These values can range between -1 and 1 (but in this case they only range between 0 and 1). Values closer to -1 show a strong negative relationship with the \"Happiness Score\", while values closer to 1 show a strong positive relationship with the \"Happiness Score\". You can learn more about correlation coefficients [here](https://www.khanacademy.org/math/ap-statistics/bivariate-data-ap/correlation-coefficient-r/v/calculating-correlation-coefficient-r).\n",
        "\n",
        "Since we are doing linear regression, we are most interested in variables that have a strong relationship in either the positive or negative direction. We can see that \"GDP per capita\", \"Social support\", and \"Healthy life expectancy\" show a strong positive relationship with \"Happiness Score\". We are doing single-variable linear regression, so we will only consider the relationship between \"Happiness Score\" and one strong positive variables rather than multiple variables. Therefore, let's explore the relationship between \"Happiness Score\" and \"GDP per capita\". We will build a simple linear regression model (i.e., a single-varable linear regression model) to better understand how \"Happiness Score\" is related to \"GDP per capita\". "
      ]
    },
    {
      "cell_type": "markdown",
      "metadata": {
        "id": "_Qod9zI2I4iw",
        "colab_type": "text"
      },
      "source": [
        "## Simple Linear Regression\n",
        "\n",
        "Before we model the relationship between \"Happiness Score\" and \"GDP per capita\", let's write what we know about single-variable linear regression. In short, single-variable linear regression tries to find a line that best fits our data (i.e., between an x and y variable). It is defined by the following formula: \n",
        "$$\n",
        "y = wx + b\n",
        "$$"
      ]
    },
    {
      "cell_type": "markdown",
      "metadata": {
        "id": "YlaNcYLMJz9n",
        "colab_type": "text"
      },
      "source": [
        "Coding linear regression from scratch can be tedious, fortunately, the `Sklearn` library comes with a built in package for linear regression in the `sklearn.linear_model` package under the `LinearRegression` module. We'll use this module to build a linear regression model to understand the relationship between the \"Happiness Score\" (i.e., the y variable) and the \"GDP per capita\" (i.e., the x variable).   \n",
        "\n",
        "We'll use the following steps to build our model:\n",
        "1. Define the x and y variables\n",
        "2. Get the x and y data from our happiness dataframe\n",
        "3. Create a linear regression model \n",
        "4. Fit the model to the x and y data\n",
        "5. Create the line-of-best-fit for our data (i.e., the line defined by y = ax + b)\n",
        "6. Create a scatter plot to showing the x and y data values and our model's line-of-best-fit. \n",
        "7. Measure how well our model explains the relationship between the x and y variables by calculating R^2 (also known as R-squared).\n"
      ]
    },
    {
      "cell_type": "code",
      "metadata": {
        "id": "Q_WdVm8ILYlB",
        "colab_type": "code",
        "outputId": "5b9f9eca-3772-4d7f-fc02-39aa0636a5e3",
        "colab": {
          "base_uri": "https://localhost:8080/",
          "height": 500
        }
      },
      "source": [
        "from sklearn.linear_model import LinearRegression\n",
        "\n",
        "# 1. define the x and y variables \n",
        "x_col = 'GDP per capita'\n",
        "y_col = 'Score'\n",
        "\n",
        "# 2. get the x and y data from our dataframe\n",
        "x = happy2019.loc[:, x_col].values\n",
        "y = happy2019.loc[:, y_col].values\n",
        "\n",
        "# 3. create the LinearRegression model object \n",
        "model = LinearRegression(fit_intercept=True)\n",
        "\n",
        "# 4. fit the model with the x and y values  \n",
        "model.fit(x[:, np.newaxis], y)\n",
        "\n",
        "# 5. create the line-of-best-fit  \n",
        "xfit = np.linspace(0, x.max(), 1000)\n",
        "yfit = model.predict(xfit[:, np.newaxis])\n",
        "\n",
        "# create a scatter plot of the x and y values and include the line-of-best-fit \n",
        "fig, ax = plt.subplots(figsize=(10,8))\n",
        "\n",
        "# scatter plot of the x and y values\n",
        "plt.scatter(x, y)\n",
        "ax.set_ylabel('Happiness Score')\n",
        "ax.set_xlabel('GDP per capita')\n",
        "\n",
        "# add the line-of-best-fit\n",
        "plt.plot(xfit, yfit);"
      ],
      "execution_count": 0,
      "outputs": [
        {
          "output_type": "display_data",
          "data": {
            "image/png": "[encoded data removed]",
            "text/plain": [
              "<Figure size 720x576 with 1 Axes>"
            ]
          },
          "metadata": {
            "tags": [],
            "needs_background": "light"
          }
        }
      ]
    },
    {
      "cell_type": "markdown",
      "metadata": {
        "id": "VJyNQzlidvOV",
        "colab_type": "text"
      },
      "source": [
        "After fitting a linear regression model, we need to determine how well the model fits our data. Does it do a good job of explaining changes in the dependent variable (i.e., the y variable)? To do this we will use the R^2, pronounced \"R-squared\" metric, which indicates  the percentage of the dependent variable variation that a linear model explains. The R-squared value can range between 0 and 1, where a value closer to one suggests that our model explains the relationship between x and y well, while the opposite is true when a value is closer to 0. There are limitations to R-squared, but that is beyond this lesson,\n",
        "to learn more about R-squared see [here](https://blog.minitab.com/blog/adventures-in-statistics-2/regression-analysis-how-do-i-interpret-r-squared-and-assess-the-goodness-of-fit)."
      ]
    },
    {
      "cell_type": "code",
      "metadata": {
        "id": "kGszsRoabsew",
        "colab_type": "code",
        "outputId": "531e4e0a-55e1-4e90-fc31-f8768c62b820",
        "colab": {
          "base_uri": "https://localhost:8080/",
          "height": 34
        }
      },
      "source": [
        "# 7. measure how well our model explains the relationship between the x and y variables\n",
        "# using R-squared\n",
        "# R-squared ranges between 0 and 1, a value closer 1 suggests our mod\n",
        "# After fitting a linear regression model, you need to determine how well the model fits the data. Does it do a good job of explaining changes in the dependent variable?\n",
        "model.score(x[:, np.newaxis], y)"
      ],
      "execution_count": 0,
      "outputs": [
        {
          "output_type": "execute_result",
          "data": {
            "text/plain": [
              "0.6302500079104005"
            ]
          },
          "metadata": {
            "tags": []
          },
          "execution_count": 20
        }
      ]
    },
    {
      "cell_type": "markdown",
      "metadata": {
        "id": "KVLPXaXYNxQU",
        "colab_type": "text"
      },
      "source": [
        "The R-squared value is greater than 0.5, which suggests our model explains the relationship between \"Happiness Score\" and \"GDP per capita\" pretty well. As a result, we could use this model to predict Happiness scores for values between the GDP per capita range (i.e., 0 to 1.75) and be fairly confident in the predictions."
      ]
    },
    {
      "cell_type": "code",
      "metadata": {
        "id": "lzD1mUmPMkbg",
        "colab_type": "code",
        "colab": {}
      },
      "source": [
        ""
      ],
      "execution_count": 0,
      "outputs": []
    }
  ]
}