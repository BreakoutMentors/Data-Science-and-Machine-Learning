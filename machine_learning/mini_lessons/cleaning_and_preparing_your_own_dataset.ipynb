{
  "nbformat": 4,
  "nbformat_minor": 0,
  "metadata": {
    "colab": {
      "name": "cleaning-and-preparing-your-own-dataset.ipynb",
      "provenance": [],
      "authorship_tag": "ABX9TyOEB4af7caX57ZvEuyFiNBn",
      "include_colab_link": true
    },
    "kernelspec": {
      "name": "python3",
      "display_name": "Python 3"
    }
  },
  "cells": [
    {
      "cell_type": "markdown",
      "metadata": {
        "id": "view-in-github",
        "colab_type": "text"
      },
      "source": [
        "<a href=\"https://colab.research.google.com/github/krmiddlebrook/intro_to_deep_learning/blob/master/machine_learning/mini_lessons/cleaning_and_preparing_your_own_dataset.ipynb\" target=\"_parent\"><img src=\"https://colab.research.google.com/assets/colab-badge.svg\" alt=\"Open In Colab\"/></a>"
      ]
    },
    {
      "cell_type": "markdown",
      "metadata": {
        "id": "rMEHNcVny1tB",
        "colab_type": "text"
      },
      "source": [
        "# Challenge: clean and prepare your own dataset\n",
        "1. Find a dataset on [Kaggle](https://www.kaggle.com/datasets). Try to find a dataset that has mostly numerical data. \n",
        "2. Explore the dataset.\n",
        "3. Clean the dataset.\n",
        "4. Save the cleaned dataframe to a csv file on your local computer.   \n",
        "\n",
        "*Hint: see the lesson on [Cleaning Data](https://github.com/BreakoutMentors/Data-Science-and-Machine-Learning/blob/master/machine_learning/mini_lessons/Cleaning_Data.ipynb) if you get stuck.*"
      ]
    },
    {
      "cell_type": "code",
      "metadata": {
        "id": "OQ_qyST6yoFa",
        "colab_type": "code",
        "colab": {}
      },
      "source": [
        ""
      ],
      "execution_count": null,
      "outputs": []
    }
  ]
}