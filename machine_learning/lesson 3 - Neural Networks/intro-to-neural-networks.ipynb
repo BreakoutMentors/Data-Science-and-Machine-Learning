{
  "nbformat": 4,
  "nbformat_minor": 0,
  "metadata": {
    "colab": {
      "name": "Intro-to-Neural-Networks.ipynb",
      "provenance": [],
      "authorship_tag": "ABX9TyMp4v4XW6JIDxr6AsBqzuTX",
      "include_colab_link": true
    },
    "kernelspec": {
      "name": "python3",
      "display_name": "Python 3"
    },
    "accelerator": "GPU"
  },
  "cells": [
    {
      "cell_type": "markdown",
      "metadata": {
        "id": "view-in-github",
        "colab_type": "text"
      },
      "source": [
        "<a href=\"https://colab.research.google.com/github/krmiddlebrook/intro_to_deep_learning/blob/master/machine_learning/lesson%203%20-%20Neural%20Networks/intro-to-neural-networks.ipynb\" target=\"_parent\"><img src=\"https://colab.research.google.com/assets/colab-badge.svg\" alt=\"Open In Colab\"/></a>"
      ]
    },
    {
      "cell_type": "markdown",
      "metadata": {
        "id": "r0mauKRSBpNE",
        "colab_type": "text"
      },
      "source": [
        "# Intro to Neural Networks\n",
        "<figure><img src='https://mk0analyticsindf35n9.kinstacdn.com/wp-content/uploads/2018/12/nural-network-banner.gif' width='70%'></img><figcaption>A Feed Forward Neural Network</figcaption>\n",
        "</figure>\n",
        "\n",
        "\n",
        "\n",
        "In the previous lesson, we introduced the softmax regression method to solve multi-class classification tasks, implementing a classifer to recognize 10 handwritten digits from the MNIST digits dataset. \n",
        "\n",
        "We've come a long way and covered many concepts throughout this series, with each lesson building on the previous material. We've learned how to clean data, create linear models (via linear regression), coerce model outputs into a valid probability distribution (via logistic and softmax regression), train models using Sklearn and Tensorflow, apply the appropriate loss function, and to minimize it with respect to our model's parameters (via optimization algorithms). Now that we have a healthy understanding of these concepts in the context of simple linear models, we are ready to explore neural networks--one of the most exciting and successful methods in modern machine learning! \n",
        "\n",
        "In this lesson, we describe deep linear neural networks at a high level, focusing on their structure, and demonstrate how to build one using Tensorflow. \n",
        "\n",
        "To make this lesson more approachable, we don't cover every detail about neural networks here, but we aim to provide enough information for you to create your own  neural networks and to inspire you to explore deep learning in more detail.  \n",
        " \n",
        "Lesson roadmap: \n",
        "- High level introduction to *neural networks*.\n",
        "- Building neural networks in Python - recreating the feed forward neural network model in 3Blue1Brown's excellent video [But what is a Neural Network? | Deep learning, chapter 1](https://www.youtube.com/watch?v=aircAruvnKk&t=436s) and training it to classify handwritten digits. As you will see, this simple feed forward neural network achieves impressive results. \n",
        "\n",
        "\n"
      ]
    },
    {
      "cell_type": "markdown",
      "metadata": {
        "id": "L_vNvRWXQPJ-",
        "colab_type": "text"
      },
      "source": [
        "## Neural Networks\n",
        "Although neural networks only recently became popular, they've been around for quite some time. In fact, they first appeared in machine learning research way back in the late 1950s! But they didn't become popular until after 2012, when researchers built a neural network to classify different kinds of labeled images, achieving groundbreaking results (see [ImageNet Classification with Deep Convolutional\n",
        "Neural Networks](http://papers.nips.cc/paper/4824-imagenet-classification-with-deep-convolutional-neural-networks.pdf)). Since then, neural networks have become widely used in machine learning. Neural networks are successful, in part, because they can effectively learn representations of complex data (e.g., images, text, sound, tabular, etc.), especially given enough data and computing power.    \n",
        "\n",
        "At a high level, there are three fundemental types of neural networks: 1) encoders, 2) decoders, or 3) a combination of both. We will focus on *encoders*. \n",
        "\n",
        "Encoder networks take in some input data (i.e., images, texts, sounds, etc.) and output *predictions*, just like the linear models we've been working with. The simplest type of neural networks are called feed forward neural networks (FFNNs), and they consist of many *layers* of *neurons* each *fully-connected* to those in the layer below (from which they receive input) and those above (which they, in turn, influence). \n",
        "\n",
        "FFNNs may sound complex right now, but hang in there. In many ways FFNNs are the superpowered version of the linear models we already know about. Like the linear models we've discussed (linear/logistic/softmax regression), neural networks can be configured to solve different kinds of tasks: either *regression* or *classification*. \n",
        "\n",
        "\n",
        "Here are some quick facts about neural networks:\n",
        "- They are effective models for learning to represent complex data (like images, text, sound, tabular, etc.).\n",
        "- Encoder-based networks, which take input data and output predictions, are probably the most common neural networks - they are useful for classification and regression tasks\n",
        "- Feed forward neural networks (FFNNs) are the simplest type of neural network. They consist of many *layers* of *neurons* each *fully-connected* to those in the layer below (from which they receive input) and those above (which they, in turn, influence). \n",
        "- FFNNs are like linear models on steriods. They have many more parameters than simple linear models, which enables them to learn more complex relationships from the input data. \n",
        "- Even though FFNNs are the simplest kind of neural network, they can be very effective. \n",
        "\n"
      ]
    },
    {
      "cell_type": "markdown",
      "metadata": {
        "id": "Ig4f4QOYdvNM",
        "colab_type": "text"
      },
      "source": [
        "**Challenge:** What are two tasks that you think encoder networks might be at good at solving?"
      ]
    },
    {
      "cell_type": "markdown",
      "metadata": {
        "id": "bd3jWYZoLbjV",
        "colab_type": "text"
      },
      "source": [
        "### Feed Forward Neural Networks\n",
        "<figure><img src='https://thumbs.gfycat.com/WeepyConcreteGemsbok-size_restricted.gif' width='100%'></img><figcaption>A Feed Forward Neural Network | <em>Source: <a href='https://www.youtube.com/watch?v=aircAruvnKk&t=436s'>3Blue1Brown - But what is a Neural Network? Deep Learning Part 1</a></em></figcaption>\n",
        "</figure>\n",
        "\n",
        "Did you watch the [3Blue1Brown video on neural networks](https://www.youtube.com/watch?v=aircAruvnKk&t=436s)? If you haven't yet, I highly recommend checking it out (feel free to rewatch it too, it's a great overview of neural networks). I'll frequently be referencing important concepts that the video talks about. \n",
        "\n",
        "In the following sections, we will summarize the key concepts behind neural networks. First, we describe the motivation and inspiration behind neural networks. Then, we dive into the structure of neural networks, outlining a few critical pieces that make them work. \n",
        "\n",
        "*Note, we describe these concepts from the perspective of a feed forward neural network. That said, the fundemental ideas discussed generalize to almost every type of neural network.*"
      ]
    },
    {
      "cell_type": "markdown",
      "metadata": {
        "id": "pMetO8ANP0Ft",
        "colab_type": "text"
      },
      "source": [
        "#### Neural Networks: Neural Network $=$ Brain?\n",
        "<figure><img src='https://github.com/BreakoutMentors/Data-Science-and-Machine-Learning/blob/master/images/neural-network-brain-pizza-yoda-analogy.png?raw=true' width='75%'></img><figcaption>\"Pizza, I like\" - Yoda</figcaption>\n",
        "</figure>\n",
        "\n",
        "\n",
        "No, neural networks $\\neq$ brains.\n",
        "While neural networks don't actually operate like brains, they were inspired by them. \n",
        "\n",
        "Let's consider an extremely oversimplified version of the brain. The brain is an organ that uses neurons to process information and make decisions. The neurons are what the brain uses to process data (i.e., information about the world). When some piece of data is sent to a neuron it activates (or dpesn't). The magnitude/strength (i.e., positive or negative) of the activation triggers other groups of neurons to activate (or not). Eventually, this process outputs a decision--based on a combination of the prior triggers and activations--as a response to the input data. As an example, let's say there is a pizza in the kitchen and my nose picks up the scent. The smell of freshly baked dough and melted cheese activates my \"I'm hungry neurons\". Eventually, I can't ignore these neurons any longer, so I run to the kitchen and eat some pizza.\n"
      ]
    },
    {
      "cell_type": "markdown",
      "metadata": {
        "id": "qjoDiltUbVTg",
        "colab_type": "text"
      },
      "source": [
        "#### Neural Networks: Neurons\n",
        "<figure><img src='https://github.com/BreakoutMentors/Data-Science-and-Machine-Learning/blob/master/images/neuron-3blue1brown.png?raw=true' width='75%'></img><figcaption>Neural Networks: Neuron | <em>Source: <a href='https://www.youtube.com/watch?v=aircAruvnKk&t=436s'>3Blue1Brown - But what is a Neural Network? Deep Learning Part 1</a></em></figcaption>\n",
        "</figure>\n",
        "\n",
        "**Neurons** are at the core of neural networks (after all, they are practically in the name). At a high level, a neuron holds a corresponding value (i.e., number) called an **activation**. The activation can be represented by a tiny value, a large value, or a value somewhere in between. A neuron is \"lit up\" (i.e., activated) when its corresponding activation is large, and it is \"dim\" (i.e., not very activated) when its activation is small. Connecting this to the pizza example, my \"I'm hungry neurons\" lit up after I smelled the pizza in the kitchen.    \n",
        "\n"
      ]
    },
    {
      "cell_type": "markdown",
      "metadata": {
        "id": "iCxJiSdYOGjl",
        "colab_type": "text"
      },
      "source": [
        "#### Neural Networks: Layers\n",
        "<figure><img src='https://miro.medium.com/max/1280/1*_nTmA2RowzQBCqI9BVtmEQ.gif' width='75%'></img><figcaption>The Neural Network's Secret Sauce: Stacking Layers | <em>Source: <a href='https://www.youtube.com/watch?v=aircAruvnKk&t=436s'>3Blue1Brown - But what is a Neural Network? Deep Learning Part 1</a></em></figcaption>\n",
        "</figure>\n",
        "\n",
        "The secret sauce driving neural networks is the technique of *stacking layers*. At a high level, this method enables the neural network to learn an effective representation of the data. The layers that are in between the input layer and the output layer are called *hidden layers*.\n",
        "\n",
        "A **layer** is composed of a set of **neurons**. We can manually configure the number of neurons we want to have in each layer, except for in the first and last ones. When we add more neurons and layers to the model, we add more parameters (weights and biases) to it. As a result, larger models (models with many parameters) can be computationally expensive, but very effective. This creates a trade-off between computation effeciency and model representation ability (making smaller models as effective as bigger ones is an active area of research). \n",
        "\n",
        "For classification tasks, the number of neurons in the last layer is determined by the number of categories/classes in the dataset. While in regression tasks, there is generally only one neurons in the final layer, since we are predicting a continuous value (e.g., the happiness score for a particular country). "
      ]
    },
    {
      "cell_type": "markdown",
      "metadata": {
        "id": "KlPlPHMIiQMb",
        "colab_type": "text"
      },
      "source": [
        "**Challenge:** In the above figure (from previous cell), how many layers are in the neural network? How many are hidden layers? How many neurons are in the first layer? How many are in the last layer? "
      ]
    },
    {
      "cell_type": "markdown",
      "metadata": {
        "id": "KTaJK53oefzY",
        "colab_type": "text"
      },
      "source": [
        ""
      ]
    },
    {
      "cell_type": "markdown",
      "metadata": {
        "id": "aoGtSuj-h7D9",
        "colab_type": "text"
      },
      "source": [
        "#### Neural Networks: Weights & Activation Functions \n",
        "<figure><img src='https://thumbs.gfycat.com/BabyishGeneralFruitfly-size_restricted.gif' width='65%'></img><figcaption>Calculating a Neuron's Activation: Connections and Weights (1) | <em>Source: <a href='https://www.youtube.com/watch?v=aircAruvnKk&t=436s'>3Blue1Brown - But what is a Neural Network? Deep Learning Part 1</a></em></figcaption>\n",
        "</figure>\n",
        "\n",
        "<figure><img src='https://thumbs.gfycat.com/GlitteringCavernousGoosefish-small.gif' width='65%'></img><figcaption>Calculating a Neuron's Activation: Connections and Weights (2)| <em>Source: <a href='https://www.youtube.com/watch?v=aircAruvnKk&t=436s'>3Blue1Brown - But what is a Neural Network? Deep Learning Part 1</a></em></figcaption>\n",
        "</figure>\n",
        "\n",
        "Neural networks pass information through the network using connections between pairs of neurons in adjacent layers. Each connection has a corresponding **weight** parameter that is learned during the model training phase. As shown in the figure above, the activation of a neuron in a subsequent layer is determined by the *weighted sum* of the weights and activations of the neurons in the previous layer (i.e., connections). A **bias** term is added at the end of the weighted sum to control how large/small a neuron's weighted sum must be to activate. Before the neuron receives a final activation value, the weighted sum is *squeezed* by an **activation function**. \n",
        "\n",
        "Activation functions and parameters (weights and biases)may sound intimidating. Fortunately, you already know a lot about these concepts: 1) the *sigmoid* and *softmax* logit functions are examples of activation functions, 2) linear models (linear/logistic/softmax) use the same *weighted sum* method to activate neurons in subsequent layers, the difference is these networks only have one layer after the input. \n",
        "\n",
        "As you may remember from the logistic and softmax lessons, these logit functions convert the inputs to a valid probability space. An activation function, more generally, can be defined as any function that transforms the neuron output. It is common to choose an activation function that normalizes the input between 0 and 1 or -1 and 1. \n",
        "\n",
        "\n",
        "Activation functions play a critical role in building effective deep neural networks. They can help the network converge quickly (find the right parameters) and improve the model's overall performance. \n",
        "\n",
        "In the diagrams above, the second layer has one neuron. This neuron is connected to every other neuron in the previous layer. Consequently, it has 784 connections plus one bias term. That's a lot of number crunching! For this reason, we generally select activation functions that can be computed effeciently (quickly). \n",
        "\n",
        "<figure><img src='https://github.com/BreakoutMentors/Data-Science-and-Machine-Learning/blob/master/images/sigmoid-activation-3Blue1Brown.png?raw=true' width='65%'></img><figcaption>Calculating a Neuron's Activation: Sigmoid Activation Function (2)| <em>Source: <a href='https://www.youtube.com/watch?v=aircAruvnKk&t=436s'>3Blue1Brown - But what is a Neural Network? Deep Learning Part 1</a></em></figcaption>\n",
        "</figure>\n",
        "\n",
        "So far we've only discussed connections and activations in the context of one neuron in a subsequent layer. But, most layers have many neurons. The good news is, we calculate neuron activations in the same way as before. The bad news is, we have to repeat the calculation process many times over. For example, in the diagrams below we see that all 16 neurons in the 2nd layer are connected to every other neuron in the 1st layer (i.e., 784 neurons). Thus, we need to  perform $784\\times16$ weights $ + 16$ biases calculations to get the activations for the 16 neurons in the 2nd layer. Doing this by hand would be way too difficult, but luckily, we can make computers do most of the heavy lifting. \n",
        "\n",
        "<figure><img src='https://github.com/BreakoutMentors/Data-Science-and-Machine-Learning/blob/master/images/2-layer-weights-biases-connections-3Blue1Brown.png?raw=true' width='65%'></img><figcaption>Calculating a Neuron's Activation: Sigmoid Activation Function (2) | <em>Source: <a href='https://www.youtube.com/watch?v=aircAruvnKk&t=436s'>3Blue1Brown - But what is a Neural Network? Deep Learning Part 1</a></em></figcaption>\n",
        "</figure>\n"
      ]
    },
    {
      "cell_type": "markdown",
      "metadata": {
        "id": "RRgYYTTyiI1_",
        "colab_type": "text"
      },
      "source": [
        "**Challenge:** In the below neural network diagram, how many weights and biases are there between the 2nd layer and the 3rd layer? How many total weights and biases are there in the entire network? Hint: all neurons are connected to every other neuron in the previous layer. \n",
        "\n",
        "<figure><img src='https://thumbs.gfycat.com/DeadlyDeafeningAtlanticblackgoby-poster.jpg' width='65%'></img><figcaption>A Neural Network: Total Weights & Biases | <em>Source: <a href='https://www.youtube.com/watch?v=aircAruvnKk&t=436s'>3Blue1Brown - But what is a Neural Network? Deep Learning Part 1</a></em></figcaption>\n",
        "</figure>"
      ]
    },
    {
      "cell_type": "markdown",
      "metadata": {
        "id": "yt1EV_1rXaj8",
        "colab_type": "text"
      },
      "source": [
        "## Building a Neural Network: Summary\n",
        "Now that we know a little about neural networks, it's time to make our own! In this section, we demonstrate how to build a neural network in Python using Tensorflow. Specifically, we implement the neural network from 3Blue1Brown's video [But what is a Neural Network? Deep Learning Part 1](https://www.youtube.com/watch?v=aircAruvnKk&t=436s) to classify 10 types of handwritten digits from the MNIST dataset. Before we start, let's summarize what we know so far about neural networks:\n",
        "- *Stacking layers* is their secret sauce - enabling the model to learn an effective representations of the data (most of the time).\n",
        "- Layers are comprised of *neurons*. We configure the number of neurons in *hidden layers*. \n",
        "- Neurons hold a corresponding *activation* - large activations \"light up\" neurons.   \n",
        "- The activations of neurons are determined by the weighted sum of their *connections* with the previous layer's neurons - quantified by *weights* and a *bias* term. The resulting output is then squeezed by an *activation function* such as the *sigmoid* function.\n",
        "- For classification tasks, the number of neurons in the last layer corresponds to the number of classes/categories in the dataset.    \n",
        "\n",
        "Now, it's time to make our first neural network!"
      ]
    },
    {
      "cell_type": "markdown",
      "metadata": {
        "id": "eJK_aPDqWWV4",
        "colab_type": "text"
      },
      "source": [
        "### Classification of Handwritten Digits with a Feed Forward Neural Network\n",
        "<figure><img src='https://thumbs.gfycat.com/ViciousUnnaturalAmethystsunbird-max-1mb.gif' width='75%'></img><figcaption>A Neural Network: Total Weights & Biases | <em>Source: <a href='https://www.youtube.com/watch?v=aircAruvnKk&t=436s'>3Blue1Brown - But what is a Neural Network? Deep Learning Part 1</a></em></figcaption>\n",
        "</figure>\n",
        "\n",
        "In this section, we will recreate the feed forward neural network (FFNN) from 3Blue1Brown's video [But what is a Neural Network? Deep Learning Part 1](https://www.youtube.com/watch?v=aircAruvnKk&t=436s) and use it to classify handwritten digits from the MNIST dataset. This process involves several steps: 1) [loading the dataset](#-Step-1:-Loading-the-Dataset), 2) [building the model](#-Step-2:-Building-the-Model), 3) [training the model](#-Step-3:-Training-the-Model), 4) [testing the model](#-Step-4:-Testing-the-Model).\n",
        "\n"
      ]
    },
    {
      "cell_type": "markdown",
      "metadata": {
        "id": "uHnGsX_4X_HN",
        "colab_type": "text"
      },
      "source": [
        "### Prerequisites: Google Colab + building neural networks in python \n",
        "We recommend that you run this this notebook in the cloud on Google Colab, if you're not already doing so. It's the simplest way to get started. Google Colab gives you free access to specialized compute resources called [GPUs](https://en.wikipedia.org/wiki/Graphics_processing_unit) and [TPUs](https://en.wikipedia.org/wiki/Tensor_processing_unit). In modern machine learning these resources are frequently used because they significantly speed up model training compared to using [CPUs](https://en.wikipedia.org/wiki/Central_processing_unit) (your computer is probably using CPUs). At a high level, GPUs and TPUs are special types of computer chips that excel at performing computations on large matrices. They perform mathematical matrix operations like multiplication, addition, subtraction, etc. at a much higher rate (i.e., speed) than CPUs.    \n",
        "\n",
        "Native Python code won't run on GPUs and TPUs because they use specialized operating system *kernels*. We could convert our code to a language that these kernals can understand, but that would be a very tedious and frustrating process. Fortunately, there are several open-source Python libraries exist that do the heavy lifting for us. In particular, the two most popular open-source libraries are [PyTorch](https://pytorch.org/) and [Tensorflow](https://www.tensorflow.org/). These libraries enable us to build custom neural networks in Python that can run on GPUs and TPUs! \n",
        "\n",
        "In this lesson we will use Tensorflow because it is a bit easier to use (while you are learning about neural networks) and it comes preinstalled in Google Colab. It is also possible to [install TensorFlow locally](https://www.tensorflow.org/install/). But, the simple solution is normally best (i.e., use Google Colab).\n",
        " \n",
        "[tf.keras](https://www.tensorflow.org/guide/keras) is the simplest way to build and train neural network models in TensorFlow, so we will use it throughout this lessons.\n",
        "\n",
        "Note that there's [tf.keras](https://www.tensorflow.org/guide/keras) (comes with TensorFlow) and there's [Keras](https://keras.io/) (standalone). You should be using [tf.keras](https://www.tensorflow.org/guide/keras) because 1) it comes with TensorFlow so you don't need to install anything extra and 2) it comes with powerful TensorFlow-specific features.\n",
        "\n",
        "Lastly, to accelerate model training time, you may want to run this notebook on a GPU in Google Colab. To do this, click on the \"Runtime\" tab in the top left corner of the notebook, click \"Change runtime type\", and select the \"GPU\" option under \"Hardware accelerator\". "
      ]
    },
    {
      "cell_type": "code",
      "metadata": {
        "id": "9-ZEitUdbQJo",
        "colab_type": "code",
        "colab": {
          "base_uri": "https://localhost:8080/",
          "height": 68
        },
        "outputId": "fa788ecf-bb1c-479e-e5e1-ed957ee95342"
      },
      "source": [
        "# TensorFlow and tf.keras\n",
        "import tensorflow as tf\n",
        "from tensorflow import keras\n",
        "from tensorflow.keras.layers import Input, Flatten, Dense\n",
        "\n",
        "# Commonly used modules\n",
        "import numpy as np\n",
        "import os\n",
        "import sys\n",
        "\n",
        "# Images, plots, display, and visualization\n",
        "import matplotlib.pyplot as plt\n",
        "import pandas as pd\n",
        "import seaborn as sns\n",
        "import cv2\n",
        "import IPython\n",
        "from six.moves import urllib\n",
        "\n",
        "print('Tensorflow version:', tf.__version__)"
      ],
      "execution_count": 1,
      "outputs": [
        {
          "output_type": "stream",
          "text": [
            "/usr/local/lib/python3.6/dist-packages/statsmodels/tools/_testing.py:19: FutureWarning: pandas.util.testing is deprecated. Use the functions in the public API at pandas.testing instead.\n",
            "  import pandas.util.testing as tm\n"
          ],
          "name": "stderr"
        },
        {
          "output_type": "stream",
          "text": [
            "Tensorflow version: 2.3.0\n"
          ],
          "name": "stdout"
        }
      ]
    },
    {
      "cell_type": "markdown",
      "metadata": {
        "id": "cu7E8vdNnetM",
        "colab_type": "text"
      },
      "source": [
        "### Step 1: Loading the Dataset\n",
        "The MNIST dataset contains 70k grayscale images of handwritten digits at a resolution of $28 \\times 28$ pixels. Our goal is to build a classification model to take one of these images as input and predict the most likely digit contained in the image (along with a relative confidence about the prediction):\n",
        "\n",
        "<figure><img src=\"https://i.imgur.com/ITrm9x4.png\" width=\"65%\"><figcaption><em>Source: <a href=\"https://deeplearning.mit.edu/\">MIT Deep Learning</a></em></figcaption></figure>\n",
        "\n",
        "Loading the dataset will return four NumPy arrays:\n",
        "* The `train_images` and `train_labels` arrays are the *training set*—the data the model uses to learn.\n",
        "* The `test_images` and `test_labels` arrays are the *test set*--the data the model is tested on.\n",
        "\n",
        "The images are $28\\times28$ NumPy arrays (i.e., the x variables), with pixel values ranging between 0 and 255. The *labels* (i.e., y variable) are an array of integers, ranging from 0 to 9. We will use *one-hot encoding* (the technique we learned about in the logistic regression lesson) to convert these labels to vectors (i.e., arrays with mostly 0s and a 1 at the index that corresponds to the data sample's digit category). We also need to *normalize* the input images by subtracting the mean and standard deviation of the pixels. Normalizing the data encourages our model to learn more generalizable features and helps it perform better on outside data. The final data processing step is \"flattening\" the $28\\times28$ image pixel matrices into $784 \\times 1$ arrays. We reshape the image matrices into arrays because our model expects the input to be a tensor with $784$ features. \n",
        "\n",
        "Now, let's load the data!"
      ]
    },
    {
      "cell_type": "code",
      "metadata": {
        "id": "BoRQV2SJOUux",
        "colab_type": "code",
        "colab": {
          "base_uri": "https://localhost:8080/",
          "height": 85
        },
        "outputId": "59390387-0882-4d04-92c0-038c831846ae"
      },
      "source": [
        "# Model / data parameters\n",
        "num_classes = 10\n",
        "input_shape = (-1, 28*28) # this will be used to reshape the 28x28 image pixel matrices into 784 pixel vectors \n",
        "\n",
        "# the data, split between train and test sets\n",
        "(train_images, train_labels), (test_images, test_labels) = keras.datasets.mnist.load_data()\n",
        "\n",
        "# Normalize train/test images \n",
        "train_images = train_images.astype(\"float32\")\n",
        "test_images = test_images.astype(\"float32\")\n",
        "\n",
        "mean = train_images.mean()\n",
        "std = train_images.std()\n",
        "\n",
        "train_images -= mean\n",
        "train_images /= std\n",
        "\n",
        "test_images -= mean\n",
        "test_images /= std\n",
        "\n",
        "print(f'normalized images mean and std pixel values: {round(train_images.mean(), 4)}, {round(train_images.std(), 4)}')\n",
        "\n",
        "\n",
        "# Flatten the images.\n",
        "train_images = train_images.reshape(input_shape)\n",
        "test_images = test_images.reshape(input_shape)\n",
        "\n",
        "print(\"train_images shape:\", train_images.shape)\n",
        "print(train_images.shape[0], \"train samples\")\n",
        "print(test_images.shape[0], \"test samples\")\n",
        "\n",
        "\n",
        "# convert class vectors to binary class matrices (i.e., \"one-hot encode\" the y labels)\n",
        "train_labels = keras.utils.to_categorical(train_labels, num_classes)\n",
        "test_labels = keras.utils.to_categorical(test_labels, num_classes)"
      ],
      "execution_count": 6,
      "outputs": [
        {
          "output_type": "stream",
          "text": [
            "normalized images mean and std pixel values: -0.0, 1.0\n",
            "train_images shape: (60000, 784)\n",
            "60000 train samples\n",
            "10000 test samples\n"
          ],
          "name": "stdout"
        }
      ]
    },
    {
      "cell_type": "markdown",
      "metadata": {
        "id": "jnGClpLKpbsP",
        "colab_type": "text"
      },
      "source": [
        "Let's display the first 5 images from the *training set* and display the class name below each image."
      ]
    },
    {
      "cell_type": "code",
      "metadata": {
        "id": "Oe6oeXCBpY9U",
        "colab_type": "code",
        "colab": {
          "base_uri": "https://localhost:8080/",
          "height": 141
        },
        "outputId": "35f89fd9-6407-43d1-8e19-c47664a69f92"
      },
      "source": [
        "plt.figure(figsize=(10,2))\n",
        "for i in range(5):\n",
        "    plt.subplot(1,5,i+1)\n",
        "    plt.xticks([])\n",
        "    plt.yticks([])\n",
        "    plt.grid(False)\n",
        "    plt.imshow(train_images[i].reshape(28, 28), cmap=plt.cm.binary)\n",
        "    plt.xlabel(np.argmax(train_labels[i]))"
      ],
      "execution_count": 3,
      "outputs": [
        {
          "output_type": "display_data",
          "data": {
            "image/png": "[encoded data removed]",
            "text/plain": [
              "<Figure size 720x144 with 5 Axes>"
            ]
          },
          "metadata": {
            "tags": []
          }
        }
      ]
    },
    {
      "cell_type": "markdown",
      "metadata": {
        "id": "7H65HEL3dnKJ",
        "colab_type": "text"
      },
      "source": [
        "#### Step 2: Building the Model\n",
        "Remember that the secret sauce of neural networks is *stacking layers*? In code, we take advantage of this secret sauce by constructing several layers and combining them to create a neural network model. Building the model is a two step process that involves 1) stacking layers together using `keras.Sequential`, 2) configuring the loss function, optimizer, and metrics to monitor the model using the keras `compile` method. Loss functions, optimizers, and metrics aren't formally discussed in this lesson. Don't worry too much about them for now. They will be described in detail in a future lesson. The goal of this lesson is to introduce the underlying structure of neural networks, and demonstrate how to build/train/test one in Python. Nonetheless, a quick summary about loss functions, optimizers, and metrics can't hurt:\n",
        "\n",
        "* **Loss function** - measures how accurate the model is during training, we want to minimize the value this function returns using an optimization method.\n",
        "* **Optimizer** - defines the optimization method to use to update the model's weights based on the data it sees and its loss function.\n",
        "* **Metrics** - monitors the model using a set of user-defined metrics; metrics are calculated at the end of every train and test cycle.\n",
        "\n",
        "\n"
      ]
    },
    {
      "cell_type": "markdown",
      "metadata": {
        "id": "cNAeKxvdBzPS",
        "colab_type": "text"
      },
      "source": [
        "**Building the Model - Step 1: Stacking Layers with `keras.Sequential`**\n",
        "\n",
        "The [3Blue1Brown video](https://www.youtube.com/watch?v=aircAruvnKk&t=436s) used a feed forward neural network with 2 hidden layers to classify handwritten digits. To recreate this neural network, first we need to build a model that 1) takes 784 image pixel feature vectors as input, 2) has 2 hidden layers with 16 neurons and the sigmoid activation function, and 3) includes a final layer with 10 neurons (i.e., there are 10 digit classes so we need 10 neurons) and the *softmax* activation function. The softmax activation function normalizes the activations for the output neurons such that:\n",
        "- every activation is between 0 and 1\n",
        "- the sum of all activations is 1\n",
        "\n",
        "Notice that the softmax activation is similar to the sigmoid activation--neuron activations are squeezed between 0 and 1. Softmax differs from sigmoid by constraining the sum of all activations to 1. For multi-class classification problems, where multiple categories/classes are present in the y variable, it is common to use the softmax activation (or a varient) in the final layer. This is because the softmax activation enables us to treat the final neuron activations as confidence values (i.e., probabilities). The neuron with the largest activation is selected as the category/class prediction.       \n",
        "\n",
        "Let's see what this looks like in Python code."
      ]
    },
    {
      "cell_type": "code",
      "metadata": {
        "id": "aX0Zmi36_bSI",
        "colab_type": "code",
        "colab": {
          "base_uri": "https://localhost:8080/",
          "height": 272
        },
        "outputId": "536306af-aa4b-4036-fed5-059932b2c066"
      },
      "source": [
        "# step 1: stack model layers using keras.Sequential\n",
        "model = keras.Sequential([\n",
        "    Input(shape=input_shape[1]), # each input is a 784 feature pixel vector\n",
        "    Dense(16, activation=\"relu\"), # hidden layer 1\n",
        "    Dense(16, activation='relu'), # hidden layer 2\n",
        "    Dense(num_classes, activation=\"softmax\"), # final output layer \n",
        "])\n",
        "    \n",
        "# print the model summary to see its structure and the number of parameters (i.e., weights and biases)\n",
        "print(model.summary())"
      ],
      "execution_count": 26,
      "outputs": [
        {
          "output_type": "stream",
          "text": [
            "Model: \"sequential_2\"\n",
            "_________________________________________________________________\n",
            "Layer (type)                 Output Shape              Param #   \n",
            "=================================================================\n",
            "dense_6 (Dense)              (None, 16)                12560     \n",
            "_________________________________________________________________\n",
            "dense_7 (Dense)              (None, 16)                272       \n",
            "_________________________________________________________________\n",
            "dense_8 (Dense)              (None, 10)                170       \n",
            "=================================================================\n",
            "Total params: 13,002\n",
            "Trainable params: 13,002\n",
            "Non-trainable params: 0\n",
            "_________________________________________________________________\n",
            "None\n"
          ],
          "name": "stdout"
        }
      ]
    },
    {
      "cell_type": "markdown",
      "metadata": {
        "id": "0SCDKeEKPCgf",
        "colab_type": "text"
      },
      "source": [
        "**Building the Model - Step 2: Configuring the Loss Function, Optimizer, & Metrics with the Keras `compile` Method**\n",
        "\n",
        "The model structure is defined in step 1, so most of the building process is finished. But, we still need to configure the model's loss function, optimizer, and metrics using the keras `compile` method. We will use binary cross entropy (BCE) for the loss function, the Adam optimization method, and monitor accuracy, precision, and recall of the model.\n",
        "\n"
      ]
    },
    {
      "cell_type": "code",
      "metadata": {
        "id": "RFeAtXW9Uth8",
        "colab_type": "code",
        "colab": {}
      },
      "source": [
        "# step 2: configure the loss function, optimizer, and model metrics  \n",
        "model.compile(loss=\"categorical_crossentropy\", # BCE loss \n",
        "              optimizer=\"adam\", # Adam optimization\n",
        "              metrics=[\"accuracy\", keras.metrics.Precision(), keras.metrics.Recall()] # monitor metrics\n",
        "              )"
      ],
      "execution_count": 27,
      "outputs": []
    },
    {
      "cell_type": "markdown",
      "metadata": {
        "id": "fVrlp2oKVRvT",
        "colab_type": "text"
      },
      "source": [
        "Now, we can train the model! "
      ]
    },
    {
      "cell_type": "markdown",
      "metadata": {
        "id": "PiCTup_LfIrt",
        "colab_type": "text"
      },
      "source": [
        "#### Step 3: Training the Model \n",
        "\n",
        "Training the neural network model requires the following steps:\n",
        "\n",
        "1. Feed the training data to the model—in this example, the `train_images` and `train_labels` arrays.\n",
        "2. The model learns to associate images and labels.\n",
        "3. We ask the model to make predictions on a test set—in this example, the `test_images` array. We verify that the predictions match the labels from the `test_labels` array. \n",
        "\n",
        "We call the `model.fit` method to train the model—the model is \"fit\" to the training data:"
      ]
    },
    {
      "cell_type": "code",
      "metadata": {
        "id": "iXy44H7VfHmS",
        "colab_type": "code",
        "colab": {
          "base_uri": "https://localhost:8080/",
          "height": 717
        },
        "outputId": "518d9507-499b-464e-b1f5-d559eac025b5"
      },
      "source": [
        "# fit the model to the data; train for 20 epochs, use batch size 128, and 10% of the training data \n",
        "# for validation to model performance during training, and configure the early stopping callback\n",
        "batch_size = 128\n",
        "epochs = 20\n",
        "\n",
        "history = model.fit(train_images, \n",
        "                    train_labels, \n",
        "                    batch_size=batch_size, \n",
        "                    epochs=epochs, \n",
        "                    validation_split=0.1)"
      ],
      "execution_count": 28,
      "outputs": [
        {
          "output_type": "stream",
          "text": [
            "Epoch 1/20\n",
            "422/422 [==============================] - 3s 6ms/step - loss: 0.6800 - accuracy: 0.7844 - precision_2: 0.9133 - recall_2: 0.7094 - val_loss: 0.2499 - val_accuracy: 0.9312 - val_precision_2: 0.9477 - val_recall_2: 0.9182\n",
            "Epoch 2/20\n",
            "422/422 [==============================] - 2s 5ms/step - loss: 0.2614 - accuracy: 0.9234 - precision_2: 0.9395 - recall_2: 0.9092 - val_loss: 0.1937 - val_accuracy: 0.9468 - val_precision_2: 0.9584 - val_recall_2: 0.9358\n",
            "Epoch 3/20\n",
            "422/422 [==============================] - 2s 5ms/step - loss: 0.2171 - accuracy: 0.9365 - precision_2: 0.9489 - recall_2: 0.9259 - val_loss: 0.1697 - val_accuracy: 0.9523 - val_precision_2: 0.9613 - val_recall_2: 0.9447\n",
            "Epoch 4/20\n",
            "422/422 [==============================] - 2s 5ms/step - loss: 0.1930 - accuracy: 0.9426 - precision_2: 0.9530 - recall_2: 0.9341 - val_loss: 0.1611 - val_accuracy: 0.9567 - val_precision_2: 0.9632 - val_recall_2: 0.9517\n",
            "Epoch 5/20\n",
            "422/422 [==============================] - 2s 5ms/step - loss: 0.1755 - accuracy: 0.9479 - precision_2: 0.9567 - recall_2: 0.9397 - val_loss: 0.1571 - val_accuracy: 0.9557 - val_precision_2: 0.9640 - val_recall_2: 0.9495\n",
            "Epoch 6/20\n",
            "422/422 [==============================] - 2s 5ms/step - loss: 0.1649 - accuracy: 0.9501 - precision_2: 0.9588 - recall_2: 0.9430 - val_loss: 0.1504 - val_accuracy: 0.9593 - val_precision_2: 0.9659 - val_recall_2: 0.9538\n",
            "Epoch 7/20\n",
            "422/422 [==============================] - 2s 5ms/step - loss: 0.1558 - accuracy: 0.9527 - precision_2: 0.9602 - recall_2: 0.9466 - val_loss: 0.1511 - val_accuracy: 0.9585 - val_precision_2: 0.9638 - val_recall_2: 0.9542\n",
            "Epoch 8/20\n",
            "422/422 [==============================] - 2s 5ms/step - loss: 0.1504 - accuracy: 0.9545 - precision_2: 0.9618 - recall_2: 0.9488 - val_loss: 0.1532 - val_accuracy: 0.9610 - val_precision_2: 0.9652 - val_recall_2: 0.9568\n",
            "Epoch 9/20\n",
            "422/422 [==============================] - 2s 5ms/step - loss: 0.1448 - accuracy: 0.9561 - precision_2: 0.9628 - recall_2: 0.9501 - val_loss: 0.1482 - val_accuracy: 0.9608 - val_precision_2: 0.9655 - val_recall_2: 0.9567\n",
            "Epoch 10/20\n",
            "422/422 [==============================] - 2s 6ms/step - loss: 0.1378 - accuracy: 0.9589 - precision_2: 0.9653 - recall_2: 0.9533 - val_loss: 0.1446 - val_accuracy: 0.9610 - val_precision_2: 0.9662 - val_recall_2: 0.9570\n",
            "Epoch 11/20\n",
            "422/422 [==============================] - 2s 5ms/step - loss: 0.1353 - accuracy: 0.9594 - precision_2: 0.9654 - recall_2: 0.9546 - val_loss: 0.1577 - val_accuracy: 0.9575 - val_precision_2: 0.9628 - val_recall_2: 0.9528\n",
            "Epoch 12/20\n",
            "422/422 [==============================] - 2s 5ms/step - loss: 0.1315 - accuracy: 0.9604 - precision_2: 0.9657 - recall_2: 0.9553 - val_loss: 0.1512 - val_accuracy: 0.9595 - val_precision_2: 0.9659 - val_recall_2: 0.9548\n",
            "Epoch 13/20\n",
            "422/422 [==============================] - 2s 5ms/step - loss: 0.1278 - accuracy: 0.9611 - precision_2: 0.9669 - recall_2: 0.9567 - val_loss: 0.1616 - val_accuracy: 0.9588 - val_precision_2: 0.9633 - val_recall_2: 0.9533\n",
            "Epoch 14/20\n",
            "422/422 [==============================] - 2s 5ms/step - loss: 0.1241 - accuracy: 0.9620 - precision_2: 0.9672 - recall_2: 0.9580 - val_loss: 0.1578 - val_accuracy: 0.9562 - val_precision_2: 0.9600 - val_recall_2: 0.9518\n",
            "Epoch 15/20\n",
            "422/422 [==============================] - 2s 5ms/step - loss: 0.1208 - accuracy: 0.9631 - precision_2: 0.9684 - recall_2: 0.9584 - val_loss: 0.1538 - val_accuracy: 0.9598 - val_precision_2: 0.9634 - val_recall_2: 0.9560\n",
            "Epoch 16/20\n",
            "422/422 [==============================] - 2s 5ms/step - loss: 0.1196 - accuracy: 0.9638 - precision_2: 0.9694 - recall_2: 0.9596 - val_loss: 0.1488 - val_accuracy: 0.9590 - val_precision_2: 0.9640 - val_recall_2: 0.9547\n",
            "Epoch 17/20\n",
            "422/422 [==============================] - 2s 5ms/step - loss: 0.1176 - accuracy: 0.9644 - precision_2: 0.9695 - recall_2: 0.9601 - val_loss: 0.1631 - val_accuracy: 0.9560 - val_precision_2: 0.9608 - val_recall_2: 0.9530\n",
            "Epoch 18/20\n",
            "422/422 [==============================] - 2s 5ms/step - loss: 0.1149 - accuracy: 0.9641 - precision_2: 0.9689 - recall_2: 0.9601 - val_loss: 0.1526 - val_accuracy: 0.9582 - val_precision_2: 0.9634 - val_recall_2: 0.9552\n",
            "Epoch 19/20\n",
            "422/422 [==============================] - 2s 5ms/step - loss: 0.1113 - accuracy: 0.9661 - precision_2: 0.9713 - recall_2: 0.9621 - val_loss: 0.1538 - val_accuracy: 0.9600 - val_precision_2: 0.9655 - val_recall_2: 0.9560\n",
            "Epoch 20/20\n",
            "422/422 [==============================] - 2s 5ms/step - loss: 0.1102 - accuracy: 0.9673 - precision_2: 0.9719 - recall_2: 0.9629 - val_loss: 0.1508 - val_accuracy: 0.9587 - val_precision_2: 0.9640 - val_recall_2: 0.9563\n"
          ],
          "name": "stdout"
        }
      ]
    },
    {
      "cell_type": "markdown",
      "metadata": {
        "id": "GAu0kWT4sDFj",
        "colab_type": "text"
      },
      "source": [
        "**Challenge:** As the model is trained, the loss and metrics are displayed. What is the final precision score on the training data?"
      ]
    },
    {
      "cell_type": "markdown",
      "metadata": {
        "id": "6WIkY_j1XtO8",
        "colab_type": "text"
      },
      "source": [
        "Now that we finished training, let's view the results. We'll use the Pandas library to store the training history in a dataframe.  "
      ]
    },
    {
      "cell_type": "code",
      "metadata": {
        "id": "cBElbDoDh9-F",
        "colab_type": "code",
        "colab": {
          "base_uri": "https://localhost:8080/",
          "height": 669
        },
        "outputId": "2c8b6a3c-2cd1-471a-b910-fd7775f88961"
      },
      "source": [
        "# store the training history in a dataframe\n",
        "hist = pd.DataFrame(history.history)\n",
        "hist['epoch'] = history.epoch\n",
        "\n",
        "# see what the hist dataframe looks like\n",
        "hist"
      ],
      "execution_count": 30,
      "outputs": [
        {
          "output_type": "execute_result",
          "data": {
            "text/html": [
              "<div>\n",
              "<style scoped>\n",
              "    .dataframe tbody tr th:only-of-type {\n",
              "        vertical-align: middle;\n",
              "    }\n",
              "\n",
              "    .dataframe tbody tr th {\n",
              "        vertical-align: top;\n",
              "    }\n",
              "\n",
              "    .dataframe thead th {\n",
              "        text-align: right;\n",
              "    }\n",
              "</style>\n",
              "<table border=\"1\" class=\"dataframe\">\n",
              "  <thead>\n",
              "    <tr style=\"text-align: right;\">\n",
              "      <th></th>\n",
              "      <th>loss</th>\n",
              "      <th>accuracy</th>\n",
              "      <th>precision_2</th>\n",
              "      <th>recall_2</th>\n",
              "      <th>val_loss</th>\n",
              "      <th>val_accuracy</th>\n",
              "      <th>val_precision_2</th>\n",
              "      <th>val_recall_2</th>\n",
              "      <th>epoch</th>\n",
              "    </tr>\n",
              "  </thead>\n",
              "  <tbody>\n",
              "    <tr>\n",
              "      <th>0</th>\n",
              "      <td>0.679976</td>\n",
              "      <td>0.784389</td>\n",
              "      <td>0.913339</td>\n",
              "      <td>0.709444</td>\n",
              "      <td>0.249939</td>\n",
              "      <td>0.931167</td>\n",
              "      <td>0.947703</td>\n",
              "      <td>0.918167</td>\n",
              "      <td>0</td>\n",
              "    </tr>\n",
              "    <tr>\n",
              "      <th>1</th>\n",
              "      <td>0.261373</td>\n",
              "      <td>0.923407</td>\n",
              "      <td>0.939494</td>\n",
              "      <td>0.909204</td>\n",
              "      <td>0.193705</td>\n",
              "      <td>0.946833</td>\n",
              "      <td>0.958355</td>\n",
              "      <td>0.935833</td>\n",
              "      <td>1</td>\n",
              "    </tr>\n",
              "    <tr>\n",
              "      <th>2</th>\n",
              "      <td>0.217145</td>\n",
              "      <td>0.936500</td>\n",
              "      <td>0.948908</td>\n",
              "      <td>0.925870</td>\n",
              "      <td>0.169727</td>\n",
              "      <td>0.952333</td>\n",
              "      <td>0.961330</td>\n",
              "      <td>0.944667</td>\n",
              "      <td>2</td>\n",
              "    </tr>\n",
              "    <tr>\n",
              "      <th>3</th>\n",
              "      <td>0.192977</td>\n",
              "      <td>0.942593</td>\n",
              "      <td>0.953010</td>\n",
              "      <td>0.934056</td>\n",
              "      <td>0.161091</td>\n",
              "      <td>0.956667</td>\n",
              "      <td>0.963225</td>\n",
              "      <td>0.951667</td>\n",
              "      <td>3</td>\n",
              "    </tr>\n",
              "    <tr>\n",
              "      <th>4</th>\n",
              "      <td>0.175471</td>\n",
              "      <td>0.947870</td>\n",
              "      <td>0.956694</td>\n",
              "      <td>0.939704</td>\n",
              "      <td>0.157114</td>\n",
              "      <td>0.955667</td>\n",
              "      <td>0.963959</td>\n",
              "      <td>0.949500</td>\n",
              "      <td>4</td>\n",
              "    </tr>\n",
              "    <tr>\n",
              "      <th>5</th>\n",
              "      <td>0.164933</td>\n",
              "      <td>0.950130</td>\n",
              "      <td>0.958783</td>\n",
              "      <td>0.942963</td>\n",
              "      <td>0.150403</td>\n",
              "      <td>0.959333</td>\n",
              "      <td>0.965907</td>\n",
              "      <td>0.953833</td>\n",
              "      <td>5</td>\n",
              "    </tr>\n",
              "    <tr>\n",
              "      <th>6</th>\n",
              "      <td>0.155793</td>\n",
              "      <td>0.952722</td>\n",
              "      <td>0.960233</td>\n",
              "      <td>0.946630</td>\n",
              "      <td>0.151075</td>\n",
              "      <td>0.958500</td>\n",
              "      <td>0.963805</td>\n",
              "      <td>0.954167</td>\n",
              "      <td>6</td>\n",
              "    </tr>\n",
              "    <tr>\n",
              "      <th>7</th>\n",
              "      <td>0.150378</td>\n",
              "      <td>0.954500</td>\n",
              "      <td>0.961834</td>\n",
              "      <td>0.948796</td>\n",
              "      <td>0.153189</td>\n",
              "      <td>0.961000</td>\n",
              "      <td>0.965198</td>\n",
              "      <td>0.956833</td>\n",
              "      <td>7</td>\n",
              "    </tr>\n",
              "    <tr>\n",
              "      <th>8</th>\n",
              "      <td>0.144766</td>\n",
              "      <td>0.956093</td>\n",
              "      <td>0.962805</td>\n",
              "      <td>0.950093</td>\n",
              "      <td>0.148160</td>\n",
              "      <td>0.960833</td>\n",
              "      <td>0.965517</td>\n",
              "      <td>0.956667</td>\n",
              "      <td>8</td>\n",
              "    </tr>\n",
              "    <tr>\n",
              "      <th>9</th>\n",
              "      <td>0.137778</td>\n",
              "      <td>0.958926</td>\n",
              "      <td>0.965326</td>\n",
              "      <td>0.953259</td>\n",
              "      <td>0.144593</td>\n",
              "      <td>0.961000</td>\n",
              "      <td>0.966179</td>\n",
              "      <td>0.957000</td>\n",
              "      <td>9</td>\n",
              "    </tr>\n",
              "    <tr>\n",
              "      <th>10</th>\n",
              "      <td>0.135254</td>\n",
              "      <td>0.959389</td>\n",
              "      <td>0.965373</td>\n",
              "      <td>0.954611</td>\n",
              "      <td>0.157665</td>\n",
              "      <td>0.957500</td>\n",
              "      <td>0.962782</td>\n",
              "      <td>0.952833</td>\n",
              "      <td>10</td>\n",
              "    </tr>\n",
              "    <tr>\n",
              "      <th>11</th>\n",
              "      <td>0.131474</td>\n",
              "      <td>0.960352</td>\n",
              "      <td>0.965721</td>\n",
              "      <td>0.955259</td>\n",
              "      <td>0.151247</td>\n",
              "      <td>0.959500</td>\n",
              "      <td>0.965942</td>\n",
              "      <td>0.954833</td>\n",
              "      <td>11</td>\n",
              "    </tr>\n",
              "    <tr>\n",
              "      <th>12</th>\n",
              "      <td>0.127759</td>\n",
              "      <td>0.961074</td>\n",
              "      <td>0.966909</td>\n",
              "      <td>0.956685</td>\n",
              "      <td>0.161633</td>\n",
              "      <td>0.958833</td>\n",
              "      <td>0.963287</td>\n",
              "      <td>0.953333</td>\n",
              "      <td>12</td>\n",
              "    </tr>\n",
              "    <tr>\n",
              "      <th>13</th>\n",
              "      <td>0.124088</td>\n",
              "      <td>0.962037</td>\n",
              "      <td>0.967223</td>\n",
              "      <td>0.957963</td>\n",
              "      <td>0.157752</td>\n",
              "      <td>0.956167</td>\n",
              "      <td>0.959993</td>\n",
              "      <td>0.951833</td>\n",
              "      <td>13</td>\n",
              "    </tr>\n",
              "    <tr>\n",
              "      <th>14</th>\n",
              "      <td>0.120810</td>\n",
              "      <td>0.963056</td>\n",
              "      <td>0.968394</td>\n",
              "      <td>0.958352</td>\n",
              "      <td>0.153760</td>\n",
              "      <td>0.959833</td>\n",
              "      <td>0.963386</td>\n",
              "      <td>0.956000</td>\n",
              "      <td>14</td>\n",
              "    </tr>\n",
              "    <tr>\n",
              "      <th>15</th>\n",
              "      <td>0.119624</td>\n",
              "      <td>0.963796</td>\n",
              "      <td>0.969431</td>\n",
              "      <td>0.959593</td>\n",
              "      <td>0.148772</td>\n",
              "      <td>0.959000</td>\n",
              "      <td>0.963985</td>\n",
              "      <td>0.954667</td>\n",
              "      <td>15</td>\n",
              "    </tr>\n",
              "    <tr>\n",
              "      <th>16</th>\n",
              "      <td>0.117561</td>\n",
              "      <td>0.964370</td>\n",
              "      <td>0.969501</td>\n",
              "      <td>0.960111</td>\n",
              "      <td>0.163128</td>\n",
              "      <td>0.956000</td>\n",
              "      <td>0.960847</td>\n",
              "      <td>0.953000</td>\n",
              "      <td>16</td>\n",
              "    </tr>\n",
              "    <tr>\n",
              "      <th>17</th>\n",
              "      <td>0.114860</td>\n",
              "      <td>0.964093</td>\n",
              "      <td>0.968939</td>\n",
              "      <td>0.960093</td>\n",
              "      <td>0.152636</td>\n",
              "      <td>0.958167</td>\n",
              "      <td>0.963355</td>\n",
              "      <td>0.955167</td>\n",
              "      <td>17</td>\n",
              "    </tr>\n",
              "    <tr>\n",
              "      <th>18</th>\n",
              "      <td>0.111262</td>\n",
              "      <td>0.966074</td>\n",
              "      <td>0.971266</td>\n",
              "      <td>0.962111</td>\n",
              "      <td>0.153762</td>\n",
              "      <td>0.960000</td>\n",
              "      <td>0.965494</td>\n",
              "      <td>0.956000</td>\n",
              "      <td>18</td>\n",
              "    </tr>\n",
              "    <tr>\n",
              "      <th>19</th>\n",
              "      <td>0.110229</td>\n",
              "      <td>0.967259</td>\n",
              "      <td>0.971943</td>\n",
              "      <td>0.962926</td>\n",
              "      <td>0.150769</td>\n",
              "      <td>0.958667</td>\n",
              "      <td>0.964046</td>\n",
              "      <td>0.956333</td>\n",
              "      <td>19</td>\n",
              "    </tr>\n",
              "  </tbody>\n",
              "</table>\n",
              "</div>"
            ],
            "text/plain": [
              "        loss  accuracy  precision_2  ...  val_precision_2  val_recall_2  epoch\n",
              "0   0.679976  0.784389     0.913339  ...         0.947703      0.918167      0\n",
              "1   0.261373  0.923407     0.939494  ...         0.958355      0.935833      1\n",
              "2   0.217145  0.936500     0.948908  ...         0.961330      0.944667      2\n",
              "3   0.192977  0.942593     0.953010  ...         0.963225      0.951667      3\n",
              "4   0.175471  0.947870     0.956694  ...         0.963959      0.949500      4\n",
              "5   0.164933  0.950130     0.958783  ...         0.965907      0.953833      5\n",
              "6   0.155793  0.952722     0.960233  ...         0.963805      0.954167      6\n",
              "7   0.150378  0.954500     0.961834  ...         0.965198      0.956833      7\n",
              "8   0.144766  0.956093     0.962805  ...         0.965517      0.956667      8\n",
              "9   0.137778  0.958926     0.965326  ...         0.966179      0.957000      9\n",
              "10  0.135254  0.959389     0.965373  ...         0.962782      0.952833     10\n",
              "11  0.131474  0.960352     0.965721  ...         0.965942      0.954833     11\n",
              "12  0.127759  0.961074     0.966909  ...         0.963287      0.953333     12\n",
              "13  0.124088  0.962037     0.967223  ...         0.959993      0.951833     13\n",
              "14  0.120810  0.963056     0.968394  ...         0.963386      0.956000     14\n",
              "15  0.119624  0.963796     0.969431  ...         0.963985      0.954667     15\n",
              "16  0.117561  0.964370     0.969501  ...         0.960847      0.953000     16\n",
              "17  0.114860  0.964093     0.968939  ...         0.963355      0.955167     17\n",
              "18  0.111262  0.966074     0.971266  ...         0.965494      0.956000     18\n",
              "19  0.110229  0.967259     0.971943  ...         0.964046      0.956333     19\n",
              "\n",
              "[20 rows x 9 columns]"
            ]
          },
          "metadata": {
            "tags": []
          },
          "execution_count": 30
        }
      ]
    },
    {
      "cell_type": "markdown",
      "metadata": {
        "id": "HsVOPpkYjp74",
        "colab_type": "text"
      },
      "source": [
        "Now, let's plot the loss function measure on the training and validation sets. The validation set is used to prevent overfitting ([learn more about it here](https://www.tensorflow.org/tutorials/keras/overfit_and_underfit)). However, because our network is small, the training converges (i.e., reaches an optimal loss value) without noticeably overfitting the data as the plot shows."
      ]
    },
    {
      "cell_type": "code",
      "metadata": {
        "id": "SMR71TCgirCr",
        "colab_type": "code",
        "colab": {
          "base_uri": "https://localhost:8080/",
          "height": 279
        },
        "outputId": "fbc67560-d2b3-4307-842a-7435b7c62f73"
      },
      "source": [
        "def plot_loss():\n",
        "    plt.figure()\n",
        "    plt.xlabel('Epoch')\n",
        "    plt.ylabel('Loss')\n",
        "    plt.plot(hist['epoch'], hist['loss'], label='Train Error')\n",
        "    plt.plot(hist['epoch'], hist['val_loss'], label = 'Val Error')\n",
        "    plt.legend()\n",
        "    plt.ylim([0,max(hist['loss'].max()+0.2, hist['val_loss'].max()+0.2)])\n",
        "\n",
        "plot_loss()"
      ],
      "execution_count": 31,
      "outputs": [
        {
          "output_type": "display_data",
          "data": {
            "image/png": "[encoded data removed]",
            "text/plain": [
              "<Figure size 432x288 with 1 Axes>"
            ]
          },
          "metadata": {
            "tags": [],
            "needs_background": "light"
          }
        }
      ]
    },
    {
      "cell_type": "markdown",
      "metadata": {
        "id": "KR_91UyCZC3I",
        "colab_type": "text"
      },
      "source": [
        "Now, let's plot accuracy metric on the training and validation set. Similar to the loss metric, we expect the validation accuracy to be a bit lower than the training accuracy. If the validation accuracy is noticeably different than the training one, we might want to do some more analysis. When the validation accuracy is much lower than the training accuracy, the model could be overfitting. When the it is much higher than the training accuracy, the model could be underfitting (this happens less often). However, the plot suggests the model is not overfitting/underfitting the data.         "
      ]
    },
    {
      "cell_type": "code",
      "metadata": {
        "id": "6ltdcaeAa6YM",
        "colab_type": "code",
        "colab": {
          "base_uri": "https://localhost:8080/",
          "height": 283
        },
        "outputId": "0c6919c3-f4d1-4b71-c381-41304681e511"
      },
      "source": [
        "def plot_accuracy():\n",
        "    plt.figure()\n",
        "    plt.xlabel('Epoch')\n",
        "    plt.ylabel('Accuracy')\n",
        "    plt.plot(hist['epoch'], hist['accuracy'], label='Train Accuracy')\n",
        "    plt.plot(hist['epoch'], hist['val_accuracy'], label = 'Val Accuracy')\n",
        "    plt.legend()\n",
        "    plt.ylim([0,1])\n",
        "\n",
        "plot_accuracy()"
      ],
      "execution_count": 32,
      "outputs": [
        {
          "output_type": "display_data",
          "data": {
            "image/png": "[encoded data removed]",
            "text/plain": [
              "<Figure size 432x288 with 1 Axes>"
            ]
          },
          "metadata": {
            "tags": [],
            "needs_background": "light"
          }
        }
      ]
    },
    {
      "cell_type": "markdown",
      "metadata": {
        "id": "tQYPGdGhkFMt",
        "colab_type": "text"
      },
      "source": [
        "#### Step 4: Testing the Model\n",
        "Our results on the training and validation data look promising, but we want to know whether our model performs well on unknown data. For this, we compare how the model performs on the test dataset:"
      ]
    },
    {
      "cell_type": "code",
      "metadata": {
        "id": "Lznc7jmUwFbD",
        "colab_type": "code",
        "colab": {
          "base_uri": "https://localhost:8080/",
          "height": 68
        },
        "outputId": "7d23d0a9-d122-426b-9bdb-27ef896eb767"
      },
      "source": [
        "print(test_images.shape)\n",
        "test_loss, test_acc, test_prec, test_rec = model.evaluate(test_images, test_labels)\n",
        "\n",
        "print('Test accuracy:', test_acc)"
      ],
      "execution_count": 33,
      "outputs": [
        {
          "output_type": "stream",
          "text": [
            "(10000, 784)\n",
            "313/313 [==============================] - 1s 4ms/step - loss: 0.1632 - accuracy: 0.9549 - precision_2: 0.9594 - recall_2: 0.9521\n",
            "Test accuracy: 0.9549000263214111\n"
          ],
          "name": "stdout"
        }
      ]
    },
    {
      "cell_type": "markdown",
      "metadata": {
        "id": "nSVkEYFxQ7RU",
        "colab_type": "text"
      },
      "source": [
        "Let's take a look at a few sample that the network classified incorrectly."
      ]
    },
    {
      "cell_type": "code",
      "metadata": {
        "id": "19LudcYkQ6ZF",
        "colab_type": "code",
        "colab": {
          "base_uri": "https://localhost:8080/",
          "height": 141
        },
        "outputId": "741f0979-c57f-4525-f313-2118a08800bc"
      },
      "source": [
        "predictions = np.argmax(model.predict(test_images, batch_size=32), axis=-1)\n",
        "is_correct = predictions == np.argmax(test_labels, axis=-1)\n",
        "\n",
        "misclassified_indices = np.argwhere(is_correct == False)\n",
        "\n",
        "def plot_misclassified(imgs, labels, preds, misclassified_indices, n=5):\n",
        "  plt.figure(figsize=(10,3))\n",
        "  for i, idx in enumerate(misclassified_indices[:n]):\n",
        "    plt.subplot(1, n, i+1)\n",
        "    plt.xticks([])\n",
        "    plt.yticks([])\n",
        "    plt.imshow(imgs[idx].reshape(28, 28), cmap=plt.cm.binary)\n",
        "    plt.xlabel(f'True: {np.argmax(labels[idx])}, Pred: {preds[idx][0]}')\n",
        "\n",
        "plot_misclassified(test_images, test_labels, predictions, misclassified_indices)"
      ],
      "execution_count": 34,
      "outputs": [
        {
          "output_type": "display_data",
          "data": {
            "image/png": "[encoded data removed]",
            "text/plain": [
              "<Figure size 720x216 with 5 Axes>"
            ]
          },
          "metadata": {
            "tags": []
          }
        }
      ]
    },
    {
      "cell_type": "markdown",
      "metadata": {
        "id": "eC5hu4y2ZtXr",
        "colab_type": "text"
      },
      "source": [
        "We can see that some of these digits are hard to recognize, even for a human!"
      ]
    },
    {
      "cell_type": "markdown",
      "metadata": {
        "id": "PUeSBG87wLVo",
        "colab_type": "text"
      },
      "source": [
        "Often times, the accuracy on the test dataset is a little less than the accuracy on the training dataset. Small differences are ok, but we don't want the test results to differ significantly from the training results--this suggests the model is overfitting/underfitting. \n",
        "\n",
        "**Challenge:** Do you think the difference between the training accuracy and the testing accuracy is significant? Is the model overfitting? Is it underfitting? Are the misclassify images justifiably misclassified (i.e., does it make sense that the model misclassified them)?"
      ]
    },
    {
      "cell_type": "markdown",
      "metadata": {
        "id": "nssakhiv2OfI",
        "colab_type": "text"
      },
      "source": [
        "## Recap\n",
        "You made it! We covered a lot of material in this lesson. Don't worry if it doesn't all make sense yet. The concepts will become more intuitive as you practice building, training, and testing your own neural network models. \n",
        "\n",
        "Let's summarize what we learned about neural networks:\n",
        "- Neural Networks are popular and successful machine learning models that can learn effective representations from data (i.e., images, text, sound). They can and *classification* tasks (see [Part 2](#-Part-2:-Classification-of-MNIST-Digits-with-Convolutional-Neural-Networks)), and also to generate images, text, videos, and sound.  \n",
        "- Special libraries like Tensorflow and Pytorch enable us to build neural networks in Python and train them on accelerated hardware like GPUs and TPUs. \n",
        "- Several steps are involved in making an effective neural network: \n",
        "  1. Loading the dataset\n",
        "  2. Building the model--stacking several layers and configuring the loss function, optimizer, and metrics.\n",
        "  3. Training the model--fitting the model on the training data.\n",
        "  4. Evaluating/Testing the model--evaluating the model on the testing data. \n",
        "- Once a model is trained, it can be used to make predictions on outside data (see [Part 2, Step 5](#-Step-5:-Make-predictions-on-outside-data)).  "
      ]
    },
    {
      "cell_type": "markdown",
      "metadata": {
        "id": "F4s3YeuF1NoV",
        "colab_type": "text"
      },
      "source": [
        "#### Acknowlegements\n",
        "- [MIT Deep Learning Basics](https://www.youtube.com/watch?v=O5xeyoRL95U&list=PLrAXtmErZgOeiKm4sgNOknGvNjby9efdf)\n",
        "- [Dive into Deep Learning](https://d2l.ai/index.html)"
      ]
    },
    {
      "cell_type": "code",
      "metadata": {
        "id": "ZXMwHjBZi9gv",
        "colab_type": "code",
        "colab": {}
      },
      "source": [
        ""
      ],
      "execution_count": null,
      "outputs": []
    }
  ]
}