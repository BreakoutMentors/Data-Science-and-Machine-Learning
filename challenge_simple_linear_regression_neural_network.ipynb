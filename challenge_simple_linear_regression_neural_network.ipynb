{
  "nbformat": 4,
  "nbformat_minor": 0,
  "metadata": {
    "colab": {
      "name": "challenge - simple linear regression neural network.ipynb",
      "provenance": [],
      "include_colab_link": true
    },
    "kernelspec": {
      "name": "python3",
      "display_name": "Python 3"
    }
  },
  "cells": [
    {
      "cell_type": "markdown",
      "metadata": {
        "id": "view-in-github",
        "colab_type": "text"
      },
      "source": [
        "<a href=\"https://colab.research.google.com/github/BreakoutMentors/Data-Science-and-Machine-Learning/blob/main/challenge_simple_linear_regression_neural_network.ipynb\" target=\"_parent\"><img src=\"https://colab.research.google.com/assets/colab-badge.svg\" alt=\"Open In Colab\"/></a>"
      ]
    },
    {
      "cell_type": "markdown",
      "metadata": {
        "id": "j5tjTDNmgWup"
      },
      "source": [
        "# Sinlge Variable Linear Regression Revisited\n",
        "In this challenge, the goal is to reimplement the linear regression model you built in the [simple linear regression](https://github.com/BreakoutMentors/Data-Science-and-Machine-Learning/blob/main/machine_learning/lesson%201%20-%20linear%20regression/examples/From_Linear_Regression_to_Deep_Learning.ipynb) challenge using PyTorch and the techniques you learned in [Single-variable Linear Regression as Neural Networks, a Deep Learning Perspective](https://github.com/BreakoutMentors/Data-Science-and-Machine-Learning/blob/main/machine_learning/lesson%201%20-%20linear%20regression/examples/linear_regression_neural_network.ipynb) to predict life expectancy given a country's level of education."
      ]
    },
    {
      "cell_type": "markdown",
      "metadata": {
        "id": "w9fyTfTtgy6u"
      },
      "source": [
        "## Challenges\n",
        "1. Load and prepare the Airbnb dataset.\n",
        "2. Build the model.\n",
        "3. Train the model.\n",
        "4. Evaluate the model.\n",
        "5. Draw conclusions. \n"
      ]
    },
    {
      "cell_type": "code",
      "metadata": {
        "id": "foMBp5MTfHNP"
      },
      "source": [
        "# import the libraries we need\n",
        "import pandas as pd\n",
        "import numpy as np\n",
        "import matplotlib.pyplot as plt\n",
        "\n",
        "# TensorFlow and tf.keras\n",
        "import torch\n",
        "import torch.nn as nn"
      ],
      "execution_count": 13,
      "outputs": []
    },
    {
      "cell_type": "markdown",
      "metadata": {
        "id": "4E-X1Z9dTANK"
      },
      "source": [
        "# 1. Load and prepare the data \n",
        "Load the dataset into a pandas dataframe, and prepare it for the model. \n",
        "\n",
        "Hints: \n",
        "- Clean the dataset\n",
        "- define the features ($x$) and labels ($y$); I would consider using price as your ($y$)\n",
        "- split the dataset into training and test sets\n",
        "- separate the features and labels in training set and test set"
      ]
    },
    {
      "cell_type": "code",
      "metadata": {
        "id": "hAjCB4CrggwB"
      },
      "source": [
        "data_url = 'https://raw.githubusercontent.com/BreakoutMentors/Data-Science-and-Machine-Learning/main/datasets/AB_NYC_2019.csv'\n",
        "# your code here"
      ],
      "execution_count": 14,
      "outputs": []
    },
    {
      "cell_type": "markdown",
      "metadata": {
        "id": "s5bO4KyxSoy3"
      },
      "source": [
        "# 2. Build your model\n",
        "Build a model to model the relationship between the features (availability_365) and labels (price). The model's function looks something like:\n",
        "$$\n",
        "\\text{price} = w_{\\text{Availability}} \\cdot \\text{Availability} + b.\n",
        "$$\n",
        "\n",
        "Hints:\n",
        "- use the `Sequential` class to define a container for the layers of your model.\n",
        "- use the `nn.Linear` class to define your linear model layer\n",
        "- define your loss function with mean squared error\n",
        "- configure the optimization algorithm with stochastic gradient descent\n",
        "- track the mean squared error for every epoch trained"
      ]
    },
    {
      "cell_type": "code",
      "metadata": {
        "id": "zgNpVNPylBo0"
      },
      "source": [
        "# your code here\n",
        "class Linear_Model(nn.Module):\n",
        "    # Constructor\n",
        "    def __init__(self, num_features):\n",
        "        # Todo\n",
        "    \n",
        "    # Forward Method\n",
        "    def forward(self, x):\n",
        "        # Todo\n",
        "        return x\n",
        "\n",
        "model = Linear_Model\n",
        "\n",
        "loss_fn = #\n",
        "optimizer = #"
      ],
      "execution_count": null,
      "outputs": []
    },
    {
      "cell_type": "markdown",
      "metadata": {
        "id": "uxXkdszdaWOx"
      },
      "source": [
        "# 3. Train your model\n",
        "Now that you have a model, it's time to train it. Train your model for 100 epochs (i.e., iterations), and record the training and validation metrics in the history object."
      ]
    },
    {
      "cell_type": "code",
      "metadata": {
        "id": "z7ixliHPbBOh"
      },
      "source": [
        "# your code here\n",
        "\n"
      ],
      "execution_count": null,
      "outputs": []
    },
    {
      "cell_type": "markdown",
      "metadata": {
        "id": "6jIPMBcCbQHh"
      },
      "source": [
        "Visualize the mean squared error metric over the training process. Hint: create a line chart with the epoch (x) and the mean squared error (y) variables.  "
      ]
    },
    {
      "cell_type": "code",
      "metadata": {
        "id": "AnAzMXGIcID_"
      },
      "source": [
        "# your code here\n"
      ],
      "execution_count": null,
      "outputs": []
    },
    {
      "cell_type": "markdown",
      "metadata": {
        "id": "-JYygMTpbJ7y"
      },
      "source": [
        "# 4. Evaluate the model\n",
        "Now that the model is trained, it's time to evaluate it using the test dataset, which you did not use when training the model. This gives you a sense of how well the model predicts unseen data, which is the case when you use it in the real world. Make sure to evaluate the model and visualize it's predictions against the true values. \n",
        "\n",
        "Hints: \n",
        "- visualize the predictions against the real labels using matplotlib's pyplot API methods like `scatter` and `plot`."
      ]
    },
    {
      "cell_type": "code",
      "metadata": {
        "id": "Oz5dKGh2d38y"
      },
      "source": [
        "# your code here"
      ],
      "execution_count": null,
      "outputs": []
    },
    {
      "cell_type": "markdown",
      "metadata": {
        "id": "eN1XYgl-d-be"
      },
      "source": [
        "# 5. Draw conclusions\n",
        "Write up your conclusions about the model. Report the goal, the model design, and the results.   "
      ]
    },
    {
      "cell_type": "markdown",
      "metadata": {
        "id": "ocjwpN6aesnH"
      },
      "source": [
        ""
      ]
    }
  ]
}
