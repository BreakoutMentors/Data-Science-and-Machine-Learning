{
  "nbformat": 4,
  "nbformat_minor": 0,
  "metadata": {
    "kernelspec": {
      "display_name": "Python 3",
      "language": "python",
      "name": "python3"
    },
    "language_info": {
      "codemirror_mode": {
        "name": "ipython",
        "version": 3
      },
      "file_extension": ".py",
      "mimetype": "text/x-python",
      "name": "python",
      "nbconvert_exporter": "python",
      "pygments_lexer": "ipython3",
      "version": "3.8.0"
    },
    "colab": {
      "name": "linear_regression_what_makes_us_happy.ipynb",
      "provenance": [],
      "include_colab_link": true
    }
  },
  "cells": [
    {
      "cell_type": "markdown",
      "metadata": {
        "id": "view-in-github",
        "colab_type": "text"
      },
      "source": [
        "<a href=\"https://colab.research.google.com/github/BreakoutMentors/Data-Science-and-Machine-Learning/blob/master/machine_learning/lesson%201%20-%20linear%20regression/examples/linear-regression-deep-dive.ipynb\" target=\"_parent\"><img src=\"https://colab.research.google.com/assets/colab-badge.svg\" alt=\"Open In Colab\"/></a>"
      ]
    },
    {
      "cell_type": "markdown",
      "metadata": {
        "id": "fgtcQi5cPcFU",
        "colab_type": "text"
      },
      "source": [
        "# Regression\n",
        "<figure>\n",
        "<img src='https://media.makeameme.org/created/brace-yourself-regression-599599.jpg' width='50%' height='50%'></img>\n",
        "</figure>\n",
        "\n",
        "\n",
        "Perhaps the most natural machine learning task to wrap our heads around is *regression*--a set of methods for modeling the relationship between one or more independent variables (i.e., $x$) and a dependent variable (i.e., $y$). Regression problems pop up whenever we want to output a *numeric* value. \n",
        "\n",
        "Most applications of regression fall into one of the following two broad categories:\n",
        "- *inference* - to explain the relationship between the inputs and outputs (most common).\n",
        "- *prediction* - to predict numeric outputs given inputs (most common in machine learning). \n",
        "\n",
        "A few everyday examples of regression include predicting prices (of homes, stocks, etc.), predicting length of stay (for patients in the hospital), and demand forecasting (for retail sales). "
      ]
    },
    {
      "cell_type": "markdown",
      "metadata": {
        "id": "UoeVWX-5j7Gt",
        "colab_type": "text"
      },
      "source": [
        "## Linear Regression\n",
        "<figure>\n",
        "<img src='https://learningstatisticswithr.com/book/lsr_files/figure-html/regression1a-1.png' width='60%'></img>\n",
        "</figure>\n",
        "\n",
        "\n",
        "*Linear regression* is probably the simplest and most popular regression method. It is called \"linear\" regression because we **assume** that the relationship between the independent variables $x$ and the dependent variable  $y$ is linear--that is, $y$ can be expressed as a *weighted sum* of the elements in $x$, plus some *noise* in the data. In mathematical terms this can be expressed as: $$y = wx + b$$\n",
        "where $w$ represents the learnable *weights* and $b$ the *bias* (i.e., you may recognize it as the *intercept*). The weights determine the influence of each feature on the prediction and the bias tells us what the predicted value would be if all the features $x$ values were 0. Given features of a training dataset  $X$  and corresponding (known) labels  $y$ , the goal of linear regression is to find the weight vector $w$  and the bias term  $b$  that given features of a new data sample from the dataset  $X$, the sample's label will (in expectation) be predicted with the lowest *error*.\n",
        "\n",
        "To motivate the linear regression approach, suppose that we wish to estimate the prices of houses (in dollars) based on their area (in square feet). To actually fit a model for *predicting* house prices, we need to get our hands on a dataset consisting of sales for which we know the sale price and area for each home. In machine learning terminology, the dataset is called a *training dataset* or *training set*, and each row (the data corresponding to one sale) is called a *sample*. The thing we are trying to predict (price) is called a *label* (or *target*). The independent variables (only one in this case--area), upon which the predictions are based, are called *features*. \n",
        "\n",
        "Generally, we will use  $n$  to denote the total number of samples in our dataset. We index a sample by $i$, denoting each sample as  $x^{(i)}=[x^{(i)}_{1}]^{⊤}$  ($x^{(i)}_{1}$ represents the area) and the corresponding label as $y^{(i)}$.\n"
      ]
    },
    {
      "cell_type": "markdown",
      "metadata": {
        "id": "_lV-loKm6kLV",
        "colab_type": "text"
      },
      "source": [
        "## Linear Model\n"
      ]
    },
    {
      "cell_type": "markdown",
      "metadata": {
        "id": "mM4R7LoM6kJo",
        "colab_type": "text"
      },
      "source": [
        "To make the above linear regression formula more concrete, let's translate it to our house prices example: \n",
        "$$\\text{price} = w_{\\text{area}}\\cdot{area} + b $$\n",
        "where $w_{\\text{area}}$ is the learnable *weight* and $b$ is the *bias* (or *intercept*).\n",
        "\n",
        "The goal is to choose the weight  $w$  and the bias  $b$  such that on average, the predictions made according to our model *best fit* the true prices observed in the data. \n",
        "\n",
        "Before we can go about searching for the best *parameters*  $w$  and  $b$, we will need two more things: (i) a way to measure the quality of the model; and (ii) a procedure for updating the model parameters to improve its accuracy."
      ]
    },
    {
      "cell_type": "markdown",
      "metadata": {
        "id": "LTuHWKk3loN6",
        "colab_type": "text"
      },
      "source": [
        "# Loss Function\n",
        "<figure>\n",
        "<img src='https://d2l.ai/_images/fit_linreg.svg\n",
        "' width='60%'></img><figcaption>Calculating loss: measuring the distance between the predicion and real value</figcaption>\n",
        "</figure>\n",
        "\n",
        "\n",
        "Before we build our model, we need to determine a measure of fitness. The *loss function* quantifies the distance between the *true* and *predicted* value of the *target*. The loss will usually be a non-negative number where smaller values are better and perfect predictions incur a loss of  0 . The most popular loss function in regression problems is the *sum of squared errors* (SSE). When our prediction for an example  $i$  is  $\\hat{y}^{(i)}$  and the corresponding true label is  $y^{(i)}$ , the squared error is given by:\n",
        "$$\n",
        "l^{(i)}(\\mathbf{w}, b) = \\frac{1}{2} \\left(\\hat{y}^{(i)} - y^{(i)}\\right)^2.\n",
        "$$\n",
        "\n",
        "The constant  1/2  makes no real difference but makes some future math more convenient, cancelling out when we take the *derivative* of the loss (don't worry if you don't know about derivatives yet). To make things more concrete, consider the example above where we plot a regression problem, the blue line corresponds to the prediction vs true value. \n",
        "\n",
        "To measure the quality of a model on the entire dataset, we simply *average* (or equivalently, sum) the losses on the training set.\n",
        "\n",
        "$$\n",
        "L(\\mathbf{w}, b) =\\frac{1}{n}\\sum_{i=1}^n l^{(i)}(\\mathbf{w}, b) =\\frac{1}{n} \\sum_{i=1}^n \\frac{1}{2}\\left(\\mathbf{w}^\\top \\mathbf{x}^{(i)} + b - y^{(i)}\\right)^2.\n",
        "$$\n",
        "\n",
        "When training the model, we want to find parameters ( $w^{∗}$,$b^{∗}$ ) that minimize the total loss across all training examples:\n",
        "\n",
        "$$\n",
        "\\mathbf{w}^*, b^* = \\operatorname*{argmin}_{\\mathbf{w}, b}\\  L(\\mathbf{w}, b).\n",
        "$$\n",
        "\n",
        "But how do actualy find the best parameters to minimize the total loss? We'll use *gradient descent*--a fundemental concept in modern machine learning, particularly *deep learning*.\n"
      ]
    },
    {
      "cell_type": "markdown",
      "metadata": {
        "id": "pHW5a943sDqk",
        "colab_type": "text"
      },
      "source": [
        "# Gradient Descent\n",
        "\n",
        "<figure>\n",
        "<img src='https://media0.giphy.com/media/O9rcZVmRcEGqI/source.gif' width='100%'></img><figcaption>Gradient descent: finding the best model parameters</figcaption>\n",
        "</figure>\n",
        "\n",
        "The key technique for optimizing nearly any deep learning model, and we can use for linear models too, consists of *iteratively* reducing the error by updating the parameters in the *direction* that incrementally *lowers* the loss function. This algorithm is called *gradient descent*. In general, we can find acceptable parameter values after many interations of reducing the loss.\n",
        "\n",
        "The most naive application of gradient descent consists of taking the derivative of the true loss, which is an average of the losses computed on every single example in the dataset. In practice, this can be extremely slow. We must pass over the entire dataset before making a single update. Thus, we will often settle for sampling a random *batch* of samples every time we need to compute the update, this method is called *stochastic gradient descent*.\n",
        "\n",
        "\n",
        "At a high level, the *stochastic gradient descent* method consists of feeding a random batch of samples to the model, computing the derivative (gradient) of the average loss with respect to the batch samples and the model's current parameter values. Finally, we update the model parameters by multiplying the gradient by a predetermined value called the *learning rate* $ > 0$ and substract the resulting output from the current parameter values.  \n",
        "\n",
        "Let's summarize the steps of *stochastic gradient descent*: \n",
        "1. We initialize the values of the model parameters, typically with random values.\n",
        "2. We iteratively sample random batches from the data (many times), updating the parameters in the direction of the negative gradient.\n",
        "3. After many iterations, we hope that the estimated model parameters ($\\hat{w}, \\hat{b}$, the \"hat\" symbol denotes estimates) can produce acceptable predictions (close enough to the true values).\n",
        "\n",
        "Linear regression can actually be solved using a simpler method than stochastic gradient descent, but the stochastic gradient descent algorithm is so fundemental to deep learning that we will use it for linear regression too. \n"
      ]
    },
    {
      "cell_type": "markdown",
      "metadata": {
        "id": "OFv_ek5F8b1D",
        "colab_type": "text"
      },
      "source": [
        "# Linear Regression: What makes us happy?\n",
        "Now let's apply the linear regression method to a real-world problem--predicting happiness given features corresponding to a country's population. To fit a model, the process involves several steps: \n",
        "\n",
        "1. Find a dataset related to our question. \n",
        "2. Explore the dataset - clean the data and visualize it (if possible).\n",
        "3. Prepare data for a *model*.\n",
        "4. Build a model. \n",
        "5. Train the model using an algorithm such as stochastic gradient descent.\n",
        "6. Evaluate the quality of our model.\n",
        "7. Draw conclusions. \n",
        "\n",
        "For step 1, we found the World Happiness (https://www.kaggle.com/unsdsn/world-happiness) dataset. The dataset contains information about the state of global happiness with happiness scores and rankings for nearly every country on earth. Pretty cool right! Next, we explore the dataset and define our $x$ and $y$ variables. Then, we build a linear regression model. Following, we train the model using stochastic gradient descent. Finally we evaluate the model and draw conclusions."
      ]
    },
    {
      "cell_type": "code",
      "metadata": {
        "id": "6QeOZ9rN8b1E",
        "colab_type": "code",
        "colab": {}
      },
      "source": [
        "# import the libraries we be need\n",
        "import pandas as pd\n",
        "import numpy as np\n",
        "import matplotlib\n",
        "import matplotlib.pyplot as plt\n",
        "\n",
        "# TensorFlow and tf.keras\n",
        "import tensorflow as tf\n",
        "from tensorflow import keras\n",
        "from tensorflow.keras import layers"
      ],
      "execution_count": null,
      "outputs": []
    },
    {
      "cell_type": "markdown",
      "metadata": {
        "id": "AA78zSFaOlje",
        "colab_type": "text"
      },
      "source": [
        "## 1. Explore + Visualize the dataset"
      ]
    },
    {
      "cell_type": "code",
      "metadata": {
        "id": "Kmr-AHsN8b1J",
        "colab_type": "code",
        "colab": {
          "base_uri": "https://localhost:8080/",
          "height": 275
        },
        "outputId": "9d43b2b2-1345-4483-c52f-91767968abb3"
      },
      "source": [
        "# load the dataset into a dataframe\n",
        "data_url = 'https://raw.githubusercontent.com/BreakoutMentors/Data-Science-and-Machine-Learning/master/datasets/world-happiness/2019.csv'\n",
        "happy2019 = pd.read_csv(data_url)\n",
        "happy2019.head() # view the first 5 rows of the data"
      ],
      "execution_count": null,
      "outputs": [
        {
          "output_type": "execute_result",
          "data": {
            "text/html": [
              "<div>\n",
              "<style scoped>\n",
              "    .dataframe tbody tr th:only-of-type {\n",
              "        vertical-align: middle;\n",
              "    }\n",
              "\n",
              "    .dataframe tbody tr th {\n",
              "        vertical-align: top;\n",
              "    }\n",
              "\n",
              "    .dataframe thead th {\n",
              "        text-align: right;\n",
              "    }\n",
              "</style>\n",
              "<table border=\"1\" class=\"dataframe\">\n",
              "  <thead>\n",
              "    <tr style=\"text-align: right;\">\n",
              "      <th></th>\n",
              "      <th>Overall rank</th>\n",
              "      <th>Country or region</th>\n",
              "      <th>Score</th>\n",
              "      <th>GDP per capita</th>\n",
              "      <th>Social support</th>\n",
              "      <th>Healthy life expectancy</th>\n",
              "      <th>Freedom to make life choices</th>\n",
              "      <th>Generosity</th>\n",
              "      <th>Perceptions of corruption</th>\n",
              "    </tr>\n",
              "  </thead>\n",
              "  <tbody>\n",
              "    <tr>\n",
              "      <th>0</th>\n",
              "      <td>1</td>\n",
              "      <td>Finland</td>\n",
              "      <td>7.769</td>\n",
              "      <td>1.340</td>\n",
              "      <td>1.587</td>\n",
              "      <td>0.986</td>\n",
              "      <td>0.596</td>\n",
              "      <td>0.153</td>\n",
              "      <td>0.393</td>\n",
              "    </tr>\n",
              "    <tr>\n",
              "      <th>1</th>\n",
              "      <td>2</td>\n",
              "      <td>Denmark</td>\n",
              "      <td>7.600</td>\n",
              "      <td>1.383</td>\n",
              "      <td>1.573</td>\n",
              "      <td>0.996</td>\n",
              "      <td>0.592</td>\n",
              "      <td>0.252</td>\n",
              "      <td>0.410</td>\n",
              "    </tr>\n",
              "    <tr>\n",
              "      <th>2</th>\n",
              "      <td>3</td>\n",
              "      <td>Norway</td>\n",
              "      <td>7.554</td>\n",
              "      <td>1.488</td>\n",
              "      <td>1.582</td>\n",
              "      <td>1.028</td>\n",
              "      <td>0.603</td>\n",
              "      <td>0.271</td>\n",
              "      <td>0.341</td>\n",
              "    </tr>\n",
              "    <tr>\n",
              "      <th>3</th>\n",
              "      <td>4</td>\n",
              "      <td>Iceland</td>\n",
              "      <td>7.494</td>\n",
              "      <td>1.380</td>\n",
              "      <td>1.624</td>\n",
              "      <td>1.026</td>\n",
              "      <td>0.591</td>\n",
              "      <td>0.354</td>\n",
              "      <td>0.118</td>\n",
              "    </tr>\n",
              "    <tr>\n",
              "      <th>4</th>\n",
              "      <td>5</td>\n",
              "      <td>Netherlands</td>\n",
              "      <td>7.488</td>\n",
              "      <td>1.396</td>\n",
              "      <td>1.522</td>\n",
              "      <td>0.999</td>\n",
              "      <td>0.557</td>\n",
              "      <td>0.322</td>\n",
              "      <td>0.298</td>\n",
              "    </tr>\n",
              "  </tbody>\n",
              "</table>\n",
              "</div>"
            ],
            "text/plain": [
              "   Overall rank Country or region  ...  Generosity  Perceptions of corruption\n",
              "0             1           Finland  ...       0.153                      0.393\n",
              "1             2           Denmark  ...       0.252                      0.410\n",
              "2             3            Norway  ...       0.271                      0.341\n",
              "3             4           Iceland  ...       0.354                      0.118\n",
              "4             5       Netherlands  ...       0.322                      0.298\n",
              "\n",
              "[5 rows x 9 columns]"
            ]
          },
          "metadata": {
            "tags": []
          },
          "execution_count": 3
        }
      ]
    },
    {
      "cell_type": "code",
      "metadata": {
        "id": "Da2arfDeOvX_",
        "colab_type": "code",
        "colab": {
          "base_uri": "https://localhost:8080/",
          "height": 35
        },
        "outputId": "2a70c443-e137-4f32-a85d-20b2605e23f5"
      },
      "source": [
        "# how many rows and columns are in the dataset\n",
        "happy2019.shape # looks like 156 rows and 9 columns"
      ],
      "execution_count": null,
      "outputs": [
        {
          "output_type": "execute_result",
          "data": {
            "text/plain": [
              "(156, 9)"
            ]
          },
          "metadata": {
            "tags": []
          },
          "execution_count": 4
        }
      ]
    },
    {
      "cell_type": "code",
      "metadata": {
        "id": "VQXvyqba3kwQ",
        "colab_type": "code",
        "colab": {
          "base_uri": "https://localhost:8080/",
          "height": 283
        },
        "outputId": "9774d6dd-141b-4d4b-987e-f7e6dad16c3e"
      },
      "source": [
        "# visualize a scatter plot of GDP per capita and happiness score \n",
        "happy2019.plot.scatter(x='GDP per capita',\n",
        "                      y='Score');"
      ],
      "execution_count": null,
      "outputs": [
        {
          "output_type": "display_data",
          "data": {
            "image/png": "[encoded data removed]",
            "text/plain": [
              "<Figure size 432x288 with 1 Axes>"
            ]
          },
          "metadata": {
            "tags": [],
            "needs_background": "light"
          }
        }
      ]
    },
    {
      "cell_type": "markdown",
      "metadata": {
        "id": "qy1530ik8b1T",
        "colab_type": "text"
      },
      "source": [
        "The relationship between GDP per capita and happiness Score seems relatively linear. Let's build a linear model to predict happiness score using the GDP per capita feature. Before we do, we need to prepare the training and test dataset our model will use."
      ]
    },
    {
      "cell_type": "markdown",
      "metadata": {
        "id": "dEf5NMjYkGCB",
        "colab_type": "text"
      },
      "source": [
        "## Prepare the Dataset "
      ]
    },
    {
      "cell_type": "code",
      "metadata": {
        "id": "d_zSR0HP9CHq",
        "colab_type": "code",
        "colab": {
          "base_uri": "https://localhost:8080/",
          "height": 197
        },
        "outputId": "ea6d050a-b502-493f-dd54-74c8aed791c9"
      },
      "source": [
        "# define the x and y variables \n",
        "x_col = 'GDP per capita'\n",
        "y_col = 'Score'\n",
        "\n",
        "# split the dataset into a training set and a test set.\n",
        "# we will use the test set in the final evaluation of our model.\n",
        "train = happy2019.sample(frac=0.8, random_state=0)\n",
        "test = happy2019.drop(train.index)\n",
        "\n",
        "# separate the x (features) and y (labels) in the train/test datasets\n",
        "train_features = train[x_col].values.reshape(-1, 1)\n",
        "test_features = test[x_col].values.reshape(-1, 1)\n",
        "\n",
        "train_labels = train[y_col].values.reshape(-1, 1)\n",
        "test_labels = test[y_col].values.reshape(-1, 1)\n",
        "\n",
        "\n",
        "print('train features shape:', train_features.shape)\n",
        "print('train labels shape:', train_labels.shape)\n",
        "\n",
        "print('test features shape:', test_features.shape)\n",
        "print('test labels shape:', test_labels.shape)\n",
        "\n",
        "print('first 5 test labels:\\n', test_labels[:5])"
      ],
      "execution_count": null,
      "outputs": [
        {
          "output_type": "stream",
          "text": [
            "train features shape: (125, 1)\n",
            "train labels shape: (125, 1)\n",
            "test features shape: (31, 1)\n",
            "test labels shape: (31, 1)\n",
            "first 5 test labels:\n",
            " [[7.246]\n",
            " [6.726]\n",
            " [6.444]\n",
            " [6.354]\n",
            " [6.3  ]]\n"
          ],
          "name": "stdout"
        }
      ]
    },
    {
      "cell_type": "markdown",
      "metadata": {
        "id": "q5fnwk72hSBj",
        "colab_type": "text"
      },
      "source": [
        "The above code returns a training and test dataset. The GDP per capita variable represents the  *features* data and the happiness Score represents the *labels*. There aretwo datasets--a *training dataset* and a *test dataset*. The `train_features` and `train_labels` arrays represent the features and labels of the training dataset, each containing 125 rows and 1 column. The `test_features` and `test_labels` arrays represent the features and labels of the test dataset, each containing 31 rows and 1 column.  \n",
        "\n",
        "Now that we have the *features* and *labels* separated, we are ready to build our model!"
      ]
    },
    {
      "cell_type": "markdown",
      "metadata": {
        "id": "_Qod9zI2I4iw",
        "colab_type": "text"
      },
      "source": [
        "## 2. Building a model\n",
        "\n",
        "Before we model the relationship between happiness Score and GDP per capita, let's write what we know about single-variable linear regression. In short, single-variable linear regression tries to find a function that best fits our data (i.e., between an $x$ and $y$ variable). It is defined by the following formula: \n",
        "$$\n",
        "y = wx + b\n",
        "$$\n",
        "\n",
        "We can translate this function to our problem to model the relationship between GDP per capita ($x$) and happiness Score ($y$) as follows:\n",
        "\n",
        "$$ \n",
        "\\text{score} = w_{\\text{GDP per capita}} \\cdot \\text{GDP per capita} + b\n",
        "$$"
      ]
    },
    {
      "cell_type": "markdown",
      "metadata": {
        "id": "YlaNcYLMJz9n",
        "colab_type": "text"
      },
      "source": [
        "Coding linear regression from scratch can be tedious: we'd need to manually define the parameters (weights and bias), compute gradients, and update the parameters. Fortunately, there are amazing open source libraries we can use to make this process a bit easier. Specifically, we'll use [Tensorflow](https://www.tensorflow.org/) to build and evaluate our linear regression model. We will use the `Sequential` class to define a container for the *layers* of our model. Given input data, a `Sequential` object passes it through the first layer, which transforms it, and then passes it to the second layer, and so on. We don't really need to use this model structure for linear regression (as you saw last lesson). Nonetheless, nearly every model we build in this series will depend on the `Sequential` class and Tensorflow, so we will use it from here on out.\n"
      ]
    },
    {
      "cell_type": "code",
      "metadata": {
        "id": "jNFNhNUAtBhi",
        "colab_type": "code",
        "colab": {
          "base_uri": "https://localhost:8080/",
          "height": 233
        },
        "outputId": "6434b131-a26d-48e8-8b05-b70d89577231"
      },
      "source": [
        "# build the linear model \n",
        "model = keras.Sequential([\n",
        "            layers.Input((1,)), # the input layer (corresponds to GDP per capita)\n",
        "            layers.Dense(1) # the weight\n",
        "        ])\n",
        "\n",
        "print('model summary')\n",
        "print(model.summary())"
      ],
      "execution_count": null,
      "outputs": [
        {
          "output_type": "stream",
          "text": [
            "model summary\n",
            "Model: \"sequential\"\n",
            "_________________________________________________________________\n",
            "Layer (type)                 Output Shape              Param #   \n",
            "=================================================================\n",
            "dense (Dense)                (None, 1)                 2         \n",
            "=================================================================\n",
            "Total params: 2\n",
            "Trainable params: 2\n",
            "Non-trainable params: 0\n",
            "_________________________________________________________________\n",
            "None\n"
          ],
          "name": "stdout"
        }
      ]
    },
    {
      "cell_type": "markdown",
      "metadata": {
        "id": "J4JD6_eLv3IX",
        "colab_type": "text"
      },
      "source": [
        "<!-- TODO: fix figure to one node -->\n",
        "<figure>\n",
        "<img src='https://d2l.ai/_images/singleneuron.svg' width='50%'></img><figcaption>Linear Regression: a single-layer neural network</figcaption>\n",
        "</figure>\n",
        "\n",
        "The model we defined above is a linear model, we could also call it a single-layer *fully-connected* neural network. We defined it using the `Dense` class. Note that we passed two arguments into the `Sequential` class. The first one specifies the input feature dimension, which is 1 (GDP per capita), and the second one is the output feature dimension, which is a single scalar and therefore 1. "
      ]
    },
    {
      "cell_type": "markdown",
      "metadata": {
        "id": "lrLfbaRI5Dbk",
        "colab_type": "text"
      },
      "source": [
        "### Loss Function\n",
        "\n",
        "After defining the model, we need to configure the *loss function*. We will use the mean squared loss, which returns the averaged loss over samples."
      ]
    },
    {
      "cell_type": "code",
      "metadata": {
        "id": "JyPXRk6j1ErK",
        "colab_type": "code",
        "colab": {}
      },
      "source": [
        "loss_fn = keras.losses.MeanSquaredError() #   "
      ],
      "execution_count": null,
      "outputs": []
    },
    {
      "cell_type": "markdown",
      "metadata": {
        "id": "ZrT8n3sg2jMf",
        "colab_type": "text"
      },
      "source": [
        "### Optimization Algorithm\n",
        "Now that we have a loss function, we need to define an *opimization algorithm*. Specifically, we will use *stochastic gradient descent* to optimize our model. In other words, we use *stochastic gradient descent* to update the model parameters. We also define the *learning rate* as 0.01. "
      ]
    },
    {
      "cell_type": "code",
      "metadata": {
        "id": "4k1zwXU53RX9",
        "colab_type": "code",
        "colab": {}
      },
      "source": [
        "optimizer = keras.optimizers.SGD(learning_rate=0.01)"
      ],
      "execution_count": null,
      "outputs": []
    },
    {
      "cell_type": "markdown",
      "metadata": {
        "id": "Qwlua-hq3gjz",
        "colab_type": "text"
      },
      "source": [
        "### Metrics\n",
        "Now that we have the loss function and the optimizer, we will define the *metrics* to report about our model. Specifically, we will track the *mean absolute error* and the *mean squared  error* metrics. "
      ]
    },
    {
      "cell_type": "code",
      "metadata": {
        "id": "_bPOmT7q3f7G",
        "colab_type": "code",
        "colab": {}
      },
      "source": [
        "metrics = [keras.metrics.MeanAbsoluteError(), keras.metrics.MeanSquaredError()] "
      ],
      "execution_count": null,
      "outputs": []
    },
    {
      "cell_type": "markdown",
      "metadata": {
        "id": "ZsJ_KerI4TEb",
        "colab_type": "text"
      },
      "source": [
        "### Glue Everything Together\n",
        "Now we need to put it all together. We will use Tensorflow's `compile` method to glue the model, loss function, optimizer, and metrics together."
      ]
    },
    {
      "cell_type": "code",
      "metadata": {
        "id": "VRMfKWQ84xDo",
        "colab_type": "code",
        "colab": {}
      },
      "source": [
        "model.compile(loss=loss_fn,\n",
        "              optimizer=optimizer,\n",
        "              metrics=metrics)"
      ],
      "execution_count": null,
      "outputs": []
    },
    {
      "cell_type": "markdown",
      "metadata": {
        "id": "B9EvNw5L5m66",
        "colab_type": "text"
      },
      "source": [
        "## 4. Train the model\n",
        "Now that we have a model, it's time to train it. We will train the model for 100 *epochs* (i.e., iterations), and record the training and validation metrics in the `history` object. "
      ]
    },
    {
      "cell_type": "code",
      "metadata": {
        "id": "LL64Vo7K6eNS",
        "colab_type": "code",
        "colab": {
          "base_uri": "https://localhost:8080/",
          "height": 1000
        },
        "outputId": "389b0656-6ceb-4fcf-c7d9-6a8de69f08ce"
      },
      "source": [
        "epochs = 100\n",
        "\n",
        "history = model.fit(train_features, train_labels,\n",
        "                    epochs=epochs, validation_split=0.1)"
      ],
      "execution_count": null,
      "outputs": [
        {
          "output_type": "stream",
          "text": [
            "Epoch 1/100\n",
            "4/4 [==============================] - 0s 47ms/step - loss: 18.0072 - mean_absolute_error: 4.1718 - mean_squared_error: 18.0072 - val_loss: 15.7463 - val_mean_absolute_error: 3.8792 - val_mean_squared_error: 15.7463\n",
            "Epoch 2/100\n",
            "4/4 [==============================] - 0s 11ms/step - loss: 13.3876 - mean_absolute_error: 3.5771 - mean_squared_error: 13.3876 - val_loss: 11.7084 - val_mean_absolute_error: 3.3242 - val_mean_squared_error: 11.7084\n",
            "Epoch 3/100\n",
            "4/4 [==============================] - 0s 10ms/step - loss: 10.0635 - mean_absolute_error: 3.0954 - mean_squared_error: 10.0635 - val_loss: 8.7165 - val_mean_absolute_error: 2.8411 - val_mean_squared_error: 8.7165\n",
            "Epoch 4/100\n",
            "4/4 [==============================] - 0s 17ms/step - loss: 7.5847 - mean_absolute_error: 2.6676 - mean_squared_error: 7.5847 - val_loss: 6.5600 - val_mean_absolute_error: 2.4311 - val_mean_squared_error: 6.5600\n",
            "Epoch 5/100\n",
            "4/4 [==============================] - 0s 11ms/step - loss: 5.7716 - mean_absolute_error: 2.3053 - mean_squared_error: 5.7716 - val_loss: 4.9589 - val_mean_absolute_error: 2.0720 - val_mean_squared_error: 4.9589\n",
            "Epoch 6/100\n",
            "4/4 [==============================] - 0s 11ms/step - loss: 4.4157 - mean_absolute_error: 1.9917 - mean_squared_error: 4.4157 - val_loss: 3.8266 - val_mean_absolute_error: 1.7717 - val_mean_squared_error: 3.8266\n",
            "Epoch 7/100\n",
            "4/4 [==============================] - 0s 10ms/step - loss: 3.4358 - mean_absolute_error: 1.7321 - mean_squared_error: 3.4358 - val_loss: 2.9920 - val_mean_absolute_error: 1.5098 - val_mean_squared_error: 2.9920\n",
            "Epoch 8/100\n",
            "4/4 [==============================] - 0s 12ms/step - loss: 2.7026 - mean_absolute_error: 1.5036 - mean_squared_error: 2.7026 - val_loss: 2.3973 - val_mean_absolute_error: 1.3105 - val_mean_squared_error: 2.3973\n",
            "Epoch 9/100\n",
            "4/4 [==============================] - 0s 10ms/step - loss: 2.1668 - mean_absolute_error: 1.3153 - mean_squared_error: 2.1668 - val_loss: 1.9597 - val_mean_absolute_error: 1.1892 - val_mean_squared_error: 1.9597\n",
            "Epoch 10/100\n",
            "4/4 [==============================] - 0s 10ms/step - loss: 1.7622 - mean_absolute_error: 1.1513 - mean_squared_error: 1.7622 - val_loss: 1.6452 - val_mean_absolute_error: 1.1112 - val_mean_squared_error: 1.6452\n",
            "Epoch 11/100\n",
            "4/4 [==============================] - 0s 10ms/step - loss: 1.4630 - mean_absolute_error: 1.0175 - mean_squared_error: 1.4630 - val_loss: 1.4204 - val_mean_absolute_error: 1.0438 - val_mean_squared_error: 1.4204\n",
            "Epoch 12/100\n",
            "4/4 [==============================] - 0s 10ms/step - loss: 1.2418 - mean_absolute_error: 0.9145 - mean_squared_error: 1.2418 - val_loss: 1.2632 - val_mean_absolute_error: 0.9864 - val_mean_squared_error: 1.2632\n",
            "Epoch 13/100\n",
            "4/4 [==============================] - 0s 10ms/step - loss: 1.0801 - mean_absolute_error: 0.8418 - mean_squared_error: 1.0801 - val_loss: 1.1536 - val_mean_absolute_error: 0.9476 - val_mean_squared_error: 1.1536\n",
            "Epoch 14/100\n",
            "4/4 [==============================] - 0s 10ms/step - loss: 0.9615 - mean_absolute_error: 0.7895 - mean_squared_error: 0.9615 - val_loss: 1.0778 - val_mean_absolute_error: 0.9208 - val_mean_squared_error: 1.0778\n",
            "Epoch 15/100\n",
            "4/4 [==============================] - 0s 10ms/step - loss: 0.8757 - mean_absolute_error: 0.7469 - mean_squared_error: 0.8757 - val_loss: 1.0277 - val_mean_absolute_error: 0.8989 - val_mean_squared_error: 1.0277\n",
            "Epoch 16/100\n",
            "4/4 [==============================] - 0s 10ms/step - loss: 0.8119 - mean_absolute_error: 0.7149 - mean_squared_error: 0.8119 - val_loss: 0.9889 - val_mean_absolute_error: 0.8775 - val_mean_squared_error: 0.9889\n",
            "Epoch 17/100\n",
            "4/4 [==============================] - 0s 10ms/step - loss: 0.7599 - mean_absolute_error: 0.6911 - mean_squared_error: 0.7599 - val_loss: 0.9637 - val_mean_absolute_error: 0.8642 - val_mean_squared_error: 0.9637\n",
            "Epoch 18/100\n",
            "4/4 [==============================] - 0s 12ms/step - loss: 0.7217 - mean_absolute_error: 0.6754 - mean_squared_error: 0.7217 - val_loss: 0.9474 - val_mean_absolute_error: 0.8570 - val_mean_squared_error: 0.9474\n",
            "Epoch 19/100\n",
            "4/4 [==============================] - 0s 10ms/step - loss: 0.6945 - mean_absolute_error: 0.6644 - mean_squared_error: 0.6945 - val_loss: 0.9370 - val_mean_absolute_error: 0.8505 - val_mean_squared_error: 0.9370\n",
            "Epoch 20/100\n",
            "4/4 [==============================] - 0s 11ms/step - loss: 0.6732 - mean_absolute_error: 0.6580 - mean_squared_error: 0.6732 - val_loss: 0.9307 - val_mean_absolute_error: 0.8448 - val_mean_squared_error: 0.9307\n",
            "Epoch 21/100\n",
            "4/4 [==============================] - 0s 11ms/step - loss: 0.6567 - mean_absolute_error: 0.6533 - mean_squared_error: 0.6567 - val_loss: 0.9267 - val_mean_absolute_error: 0.8391 - val_mean_squared_error: 0.9267\n",
            "Epoch 22/100\n",
            "4/4 [==============================] - 0s 10ms/step - loss: 0.6430 - mean_absolute_error: 0.6505 - mean_squared_error: 0.6430 - val_loss: 0.9242 - val_mean_absolute_error: 0.8347 - val_mean_squared_error: 0.9242\n",
            "Epoch 23/100\n",
            "4/4 [==============================] - 0s 10ms/step - loss: 0.6347 - mean_absolute_error: 0.6496 - mean_squared_error: 0.6347 - val_loss: 0.9227 - val_mean_absolute_error: 0.8309 - val_mean_squared_error: 0.9227\n",
            "Epoch 24/100\n",
            "4/4 [==============================] - 0s 10ms/step - loss: 0.6279 - mean_absolute_error: 0.6474 - mean_squared_error: 0.6279 - val_loss: 0.9214 - val_mean_absolute_error: 0.8276 - val_mean_squared_error: 0.9214\n",
            "Epoch 25/100\n",
            "4/4 [==============================] - 0s 10ms/step - loss: 0.6217 - mean_absolute_error: 0.6458 - mean_squared_error: 0.6217 - val_loss: 0.9214 - val_mean_absolute_error: 0.8258 - val_mean_squared_error: 0.9214\n",
            "Epoch 26/100\n",
            "4/4 [==============================] - 0s 12ms/step - loss: 0.6168 - mean_absolute_error: 0.6448 - mean_squared_error: 0.6168 - val_loss: 0.9203 - val_mean_absolute_error: 0.8246 - val_mean_squared_error: 0.9203\n",
            "Epoch 27/100\n",
            "4/4 [==============================] - 0s 10ms/step - loss: 0.6131 - mean_absolute_error: 0.6437 - mean_squared_error: 0.6131 - val_loss: 0.9202 - val_mean_absolute_error: 0.8236 - val_mean_squared_error: 0.9202\n",
            "Epoch 28/100\n",
            "4/4 [==============================] - 0s 12ms/step - loss: 0.6084 - mean_absolute_error: 0.6429 - mean_squared_error: 0.6084 - val_loss: 0.9195 - val_mean_absolute_error: 0.8224 - val_mean_squared_error: 0.9195\n",
            "Epoch 29/100\n",
            "4/4 [==============================] - 0s 10ms/step - loss: 0.6053 - mean_absolute_error: 0.6417 - mean_squared_error: 0.6053 - val_loss: 0.9183 - val_mean_absolute_error: 0.8211 - val_mean_squared_error: 0.9183\n",
            "Epoch 30/100\n",
            "4/4 [==============================] - 0s 10ms/step - loss: 0.6027 - mean_absolute_error: 0.6408 - mean_squared_error: 0.6027 - val_loss: 0.9173 - val_mean_absolute_error: 0.8198 - val_mean_squared_error: 0.9173\n",
            "Epoch 31/100\n",
            "4/4 [==============================] - 0s 10ms/step - loss: 0.6002 - mean_absolute_error: 0.6397 - mean_squared_error: 0.6002 - val_loss: 0.9171 - val_mean_absolute_error: 0.8186 - val_mean_squared_error: 0.9171\n",
            "Epoch 32/100\n",
            "4/4 [==============================] - 0s 11ms/step - loss: 0.5973 - mean_absolute_error: 0.6389 - mean_squared_error: 0.5973 - val_loss: 0.9168 - val_mean_absolute_error: 0.8175 - val_mean_squared_error: 0.9168\n",
            "Epoch 33/100\n",
            "4/4 [==============================] - 0s 10ms/step - loss: 0.5951 - mean_absolute_error: 0.6383 - mean_squared_error: 0.5951 - val_loss: 0.9136 - val_mean_absolute_error: 0.8157 - val_mean_squared_error: 0.9136\n",
            "Epoch 34/100\n",
            "4/4 [==============================] - 0s 10ms/step - loss: 0.5930 - mean_absolute_error: 0.6372 - mean_squared_error: 0.5930 - val_loss: 0.9126 - val_mean_absolute_error: 0.8145 - val_mean_squared_error: 0.9126\n",
            "Epoch 35/100\n",
            "4/4 [==============================] - 0s 10ms/step - loss: 0.5913 - mean_absolute_error: 0.6369 - mean_squared_error: 0.5913 - val_loss: 0.9093 - val_mean_absolute_error: 0.8127 - val_mean_squared_error: 0.9093\n",
            "Epoch 36/100\n",
            "4/4 [==============================] - 0s 10ms/step - loss: 0.5893 - mean_absolute_error: 0.6356 - mean_squared_error: 0.5893 - val_loss: 0.9075 - val_mean_absolute_error: 0.8112 - val_mean_squared_error: 0.9075\n",
            "Epoch 37/100\n",
            "4/4 [==============================] - 0s 13ms/step - loss: 0.5873 - mean_absolute_error: 0.6347 - mean_squared_error: 0.5873 - val_loss: 0.9066 - val_mean_absolute_error: 0.8099 - val_mean_squared_error: 0.9066\n",
            "Epoch 38/100\n",
            "4/4 [==============================] - 0s 10ms/step - loss: 0.5853 - mean_absolute_error: 0.6340 - mean_squared_error: 0.5853 - val_loss: 0.9041 - val_mean_absolute_error: 0.8082 - val_mean_squared_error: 0.9041\n",
            "Epoch 39/100\n",
            "4/4 [==============================] - 0s 10ms/step - loss: 0.5837 - mean_absolute_error: 0.6335 - mean_squared_error: 0.5837 - val_loss: 0.9021 - val_mean_absolute_error: 0.8066 - val_mean_squared_error: 0.9021\n",
            "Epoch 40/100\n",
            "4/4 [==============================] - 0s 11ms/step - loss: 0.5819 - mean_absolute_error: 0.6326 - mean_squared_error: 0.5819 - val_loss: 0.9002 - val_mean_absolute_error: 0.8052 - val_mean_squared_error: 0.9002\n",
            "Epoch 41/100\n",
            "4/4 [==============================] - 0s 11ms/step - loss: 0.5799 - mean_absolute_error: 0.6317 - mean_squared_error: 0.5799 - val_loss: 0.8975 - val_mean_absolute_error: 0.8036 - val_mean_squared_error: 0.8975\n",
            "Epoch 42/100\n",
            "4/4 [==============================] - 0s 12ms/step - loss: 0.5786 - mean_absolute_error: 0.6311 - mean_squared_error: 0.5786 - val_loss: 0.8975 - val_mean_absolute_error: 0.8023 - val_mean_squared_error: 0.8975\n",
            "Epoch 43/100\n",
            "4/4 [==============================] - 0s 10ms/step - loss: 0.5764 - mean_absolute_error: 0.6307 - mean_squared_error: 0.5764 - val_loss: 0.8960 - val_mean_absolute_error: 0.8009 - val_mean_squared_error: 0.8960\n",
            "Epoch 44/100\n",
            "4/4 [==============================] - 0s 11ms/step - loss: 0.5747 - mean_absolute_error: 0.6298 - mean_squared_error: 0.5747 - val_loss: 0.8937 - val_mean_absolute_error: 0.7992 - val_mean_squared_error: 0.8937\n",
            "Epoch 45/100\n",
            "4/4 [==============================] - 0s 10ms/step - loss: 0.5726 - mean_absolute_error: 0.6290 - mean_squared_error: 0.5726 - val_loss: 0.8900 - val_mean_absolute_error: 0.7972 - val_mean_squared_error: 0.8900\n",
            "Epoch 46/100\n",
            "4/4 [==============================] - 0s 11ms/step - loss: 0.5708 - mean_absolute_error: 0.6280 - mean_squared_error: 0.5708 - val_loss: 0.8877 - val_mean_absolute_error: 0.7956 - val_mean_squared_error: 0.8877\n",
            "Epoch 47/100\n",
            "4/4 [==============================] - 0s 12ms/step - loss: 0.5697 - mean_absolute_error: 0.6277 - mean_squared_error: 0.5697 - val_loss: 0.8851 - val_mean_absolute_error: 0.7941 - val_mean_squared_error: 0.8851\n",
            "Epoch 48/100\n",
            "4/4 [==============================] - 0s 12ms/step - loss: 0.5687 - mean_absolute_error: 0.6272 - mean_squared_error: 0.5687 - val_loss: 0.8845 - val_mean_absolute_error: 0.7927 - val_mean_squared_error: 0.8845\n",
            "Epoch 49/100\n",
            "4/4 [==============================] - 0s 10ms/step - loss: 0.5660 - mean_absolute_error: 0.6259 - mean_squared_error: 0.5660 - val_loss: 0.8831 - val_mean_absolute_error: 0.7913 - val_mean_squared_error: 0.8831\n",
            "Epoch 50/100\n",
            "4/4 [==============================] - 0s 10ms/step - loss: 0.5650 - mean_absolute_error: 0.6257 - mean_squared_error: 0.5650 - val_loss: 0.8822 - val_mean_absolute_error: 0.7901 - val_mean_squared_error: 0.8822\n",
            "Epoch 51/100\n",
            "4/4 [==============================] - 0s 10ms/step - loss: 0.5631 - mean_absolute_error: 0.6247 - mean_squared_error: 0.5631 - val_loss: 0.8780 - val_mean_absolute_error: 0.7882 - val_mean_squared_error: 0.8780\n",
            "Epoch 52/100\n",
            "4/4 [==============================] - 0s 10ms/step - loss: 0.5616 - mean_absolute_error: 0.6238 - mean_squared_error: 0.5616 - val_loss: 0.8762 - val_mean_absolute_error: 0.7867 - val_mean_squared_error: 0.8762\n",
            "Epoch 53/100\n",
            "4/4 [==============================] - 0s 10ms/step - loss: 0.5601 - mean_absolute_error: 0.6232 - mean_squared_error: 0.5601 - val_loss: 0.8729 - val_mean_absolute_error: 0.7851 - val_mean_squared_error: 0.8729\n",
            "Epoch 54/100\n",
            "4/4 [==============================] - 0s 10ms/step - loss: 0.5583 - mean_absolute_error: 0.6221 - mean_squared_error: 0.5583 - val_loss: 0.8702 - val_mean_absolute_error: 0.7834 - val_mean_squared_error: 0.8702\n",
            "Epoch 55/100\n",
            "4/4 [==============================] - 0s 11ms/step - loss: 0.5572 - mean_absolute_error: 0.6213 - mean_squared_error: 0.5572 - val_loss: 0.8678 - val_mean_absolute_error: 0.7818 - val_mean_squared_error: 0.8678\n",
            "Epoch 56/100\n",
            "4/4 [==============================] - 0s 10ms/step - loss: 0.5558 - mean_absolute_error: 0.6209 - mean_squared_error: 0.5558 - val_loss: 0.8650 - val_mean_absolute_error: 0.7801 - val_mean_squared_error: 0.8650\n",
            "Epoch 57/100\n",
            "4/4 [==============================] - 0s 12ms/step - loss: 0.5543 - mean_absolute_error: 0.6198 - mean_squared_error: 0.5543 - val_loss: 0.8622 - val_mean_absolute_error: 0.7786 - val_mean_squared_error: 0.8622\n",
            "Epoch 58/100\n",
            "4/4 [==============================] - 0s 10ms/step - loss: 0.5537 - mean_absolute_error: 0.6193 - mean_squared_error: 0.5537 - val_loss: 0.8590 - val_mean_absolute_error: 0.7770 - val_mean_squared_error: 0.8590\n",
            "Epoch 59/100\n",
            "4/4 [==============================] - 0s 11ms/step - loss: 0.5510 - mean_absolute_error: 0.6180 - mean_squared_error: 0.5510 - val_loss: 0.8568 - val_mean_absolute_error: 0.7755 - val_mean_squared_error: 0.8568\n",
            "Epoch 60/100\n",
            "4/4 [==============================] - 0s 12ms/step - loss: 0.5502 - mean_absolute_error: 0.6170 - mean_squared_error: 0.5502 - val_loss: 0.8556 - val_mean_absolute_error: 0.7742 - val_mean_squared_error: 0.8556\n",
            "Epoch 61/100\n",
            "4/4 [==============================] - 0s 13ms/step - loss: 0.5493 - mean_absolute_error: 0.6174 - mean_squared_error: 0.5493 - val_loss: 0.8528 - val_mean_absolute_error: 0.7728 - val_mean_squared_error: 0.8528\n",
            "Epoch 62/100\n",
            "4/4 [==============================] - 0s 10ms/step - loss: 0.5480 - mean_absolute_error: 0.6164 - mean_squared_error: 0.5480 - val_loss: 0.8500 - val_mean_absolute_error: 0.7712 - val_mean_squared_error: 0.8500\n",
            "Epoch 63/100\n",
            "4/4 [==============================] - 0s 10ms/step - loss: 0.5464 - mean_absolute_error: 0.6156 - mean_squared_error: 0.5464 - val_loss: 0.8486 - val_mean_absolute_error: 0.7698 - val_mean_squared_error: 0.8486\n",
            "Epoch 64/100\n",
            "4/4 [==============================] - 0s 10ms/step - loss: 0.5446 - mean_absolute_error: 0.6147 - mean_squared_error: 0.5446 - val_loss: 0.8478 - val_mean_absolute_error: 0.7684 - val_mean_squared_error: 0.8478\n",
            "Epoch 65/100\n",
            "4/4 [==============================] - 0s 11ms/step - loss: 0.5431 - mean_absolute_error: 0.6140 - mean_squared_error: 0.5431 - val_loss: 0.8439 - val_mean_absolute_error: 0.7666 - val_mean_squared_error: 0.8439\n",
            "Epoch 66/100\n",
            "4/4 [==============================] - 0s 12ms/step - loss: 0.5422 - mean_absolute_error: 0.6134 - mean_squared_error: 0.5422 - val_loss: 0.8440 - val_mean_absolute_error: 0.7658 - val_mean_squared_error: 0.8440\n",
            "Epoch 67/100\n",
            "4/4 [==============================] - 0s 11ms/step - loss: 0.5412 - mean_absolute_error: 0.6126 - mean_squared_error: 0.5412 - val_loss: 0.8433 - val_mean_absolute_error: 0.7644 - val_mean_squared_error: 0.8433\n",
            "Epoch 68/100\n",
            "4/4 [==============================] - 0s 10ms/step - loss: 0.5397 - mean_absolute_error: 0.6123 - mean_squared_error: 0.5397 - val_loss: 0.8411 - val_mean_absolute_error: 0.7631 - val_mean_squared_error: 0.8411\n",
            "Epoch 69/100\n",
            "4/4 [==============================] - 0s 10ms/step - loss: 0.5384 - mean_absolute_error: 0.6115 - mean_squared_error: 0.5384 - val_loss: 0.8393 - val_mean_absolute_error: 0.7619 - val_mean_squared_error: 0.8393\n",
            "Epoch 70/100\n",
            "4/4 [==============================] - 0s 12ms/step - loss: 0.5376 - mean_absolute_error: 0.6112 - mean_squared_error: 0.5376 - val_loss: 0.8364 - val_mean_absolute_error: 0.7603 - val_mean_squared_error: 0.8364\n",
            "Epoch 71/100\n",
            "4/4 [==============================] - 0s 12ms/step - loss: 0.5368 - mean_absolute_error: 0.6106 - mean_squared_error: 0.5368 - val_loss: 0.8327 - val_mean_absolute_error: 0.7587 - val_mean_squared_error: 0.8327\n",
            "Epoch 72/100\n",
            "4/4 [==============================] - 0s 9ms/step - loss: 0.5350 - mean_absolute_error: 0.6091 - mean_squared_error: 0.5350 - val_loss: 0.8307 - val_mean_absolute_error: 0.7572 - val_mean_squared_error: 0.8307\n",
            "Epoch 73/100\n",
            "4/4 [==============================] - 0s 10ms/step - loss: 0.5340 - mean_absolute_error: 0.6088 - mean_squared_error: 0.5340 - val_loss: 0.8278 - val_mean_absolute_error: 0.7556 - val_mean_squared_error: 0.8278\n",
            "Epoch 74/100\n",
            "4/4 [==============================] - 0s 11ms/step - loss: 0.5325 - mean_absolute_error: 0.6077 - mean_squared_error: 0.5325 - val_loss: 0.8268 - val_mean_absolute_error: 0.7545 - val_mean_squared_error: 0.8268\n",
            "Epoch 75/100\n",
            "4/4 [==============================] - 0s 10ms/step - loss: 0.5312 - mean_absolute_error: 0.6070 - mean_squared_error: 0.5312 - val_loss: 0.8245 - val_mean_absolute_error: 0.7530 - val_mean_squared_error: 0.8245\n",
            "Epoch 76/100\n",
            "4/4 [==============================] - 0s 12ms/step - loss: 0.5301 - mean_absolute_error: 0.6064 - mean_squared_error: 0.5301 - val_loss: 0.8224 - val_mean_absolute_error: 0.7514 - val_mean_squared_error: 0.8224\n",
            "Epoch 77/100\n",
            "4/4 [==============================] - 0s 10ms/step - loss: 0.5294 - mean_absolute_error: 0.6059 - mean_squared_error: 0.5294 - val_loss: 0.8204 - val_mean_absolute_error: 0.7500 - val_mean_squared_error: 0.8204\n",
            "Epoch 78/100\n",
            "4/4 [==============================] - 0s 10ms/step - loss: 0.5276 - mean_absolute_error: 0.6048 - mean_squared_error: 0.5276 - val_loss: 0.8186 - val_mean_absolute_error: 0.7486 - val_mean_squared_error: 0.8186\n",
            "Epoch 79/100\n",
            "4/4 [==============================] - 0s 12ms/step - loss: 0.5265 - mean_absolute_error: 0.6041 - mean_squared_error: 0.5265 - val_loss: 0.8167 - val_mean_absolute_error: 0.7473 - val_mean_squared_error: 0.8167\n",
            "Epoch 80/100\n",
            "4/4 [==============================] - 0s 10ms/step - loss: 0.5261 - mean_absolute_error: 0.6041 - mean_squared_error: 0.5261 - val_loss: 0.8150 - val_mean_absolute_error: 0.7461 - val_mean_squared_error: 0.8150\n",
            "Epoch 81/100\n",
            "4/4 [==============================] - 0s 10ms/step - loss: 0.5249 - mean_absolute_error: 0.6032 - mean_squared_error: 0.5249 - val_loss: 0.8136 - val_mean_absolute_error: 0.7449 - val_mean_squared_error: 0.8136\n",
            "Epoch 82/100\n",
            "4/4 [==============================] - 0s 11ms/step - loss: 0.5238 - mean_absolute_error: 0.6024 - mean_squared_error: 0.5238 - val_loss: 0.8117 - val_mean_absolute_error: 0.7435 - val_mean_squared_error: 0.8117\n",
            "Epoch 83/100\n",
            "4/4 [==============================] - 0s 11ms/step - loss: 0.5226 - mean_absolute_error: 0.6017 - mean_squared_error: 0.5226 - val_loss: 0.8107 - val_mean_absolute_error: 0.7425 - val_mean_squared_error: 0.8107\n",
            "Epoch 84/100\n",
            "4/4 [==============================] - 0s 10ms/step - loss: 0.5218 - mean_absolute_error: 0.6012 - mean_squared_error: 0.5218 - val_loss: 0.8096 - val_mean_absolute_error: 0.7415 - val_mean_squared_error: 0.8096\n",
            "Epoch 85/100\n",
            "4/4 [==============================] - 0s 10ms/step - loss: 0.5213 - mean_absolute_error: 0.6004 - mean_squared_error: 0.5213 - val_loss: 0.8085 - val_mean_absolute_error: 0.7405 - val_mean_squared_error: 0.8085\n",
            "Epoch 86/100\n",
            "4/4 [==============================] - 0s 11ms/step - loss: 0.5202 - mean_absolute_error: 0.6002 - mean_squared_error: 0.5202 - val_loss: 0.8063 - val_mean_absolute_error: 0.7390 - val_mean_squared_error: 0.8063\n",
            "Epoch 87/100\n",
            "4/4 [==============================] - 0s 10ms/step - loss: 0.5193 - mean_absolute_error: 0.5997 - mean_squared_error: 0.5193 - val_loss: 0.8026 - val_mean_absolute_error: 0.7373 - val_mean_squared_error: 0.8026\n",
            "Epoch 88/100\n",
            "4/4 [==============================] - 0s 10ms/step - loss: 0.5187 - mean_absolute_error: 0.5992 - mean_squared_error: 0.5187 - val_loss: 0.8002 - val_mean_absolute_error: 0.7360 - val_mean_squared_error: 0.8002\n",
            "Epoch 89/100\n",
            "4/4 [==============================] - 0s 10ms/step - loss: 0.5176 - mean_absolute_error: 0.5979 - mean_squared_error: 0.5176 - val_loss: 0.8000 - val_mean_absolute_error: 0.7351 - val_mean_squared_error: 0.8000\n",
            "Epoch 90/100\n",
            "4/4 [==============================] - 0s 9ms/step - loss: 0.5166 - mean_absolute_error: 0.5975 - mean_squared_error: 0.5166 - val_loss: 0.7980 - val_mean_absolute_error: 0.7338 - val_mean_squared_error: 0.7980\n",
            "Epoch 91/100\n",
            "4/4 [==============================] - 0s 10ms/step - loss: 0.5155 - mean_absolute_error: 0.5968 - mean_squared_error: 0.5155 - val_loss: 0.7977 - val_mean_absolute_error: 0.7328 - val_mean_squared_error: 0.7977\n",
            "Epoch 92/100\n",
            "4/4 [==============================] - 0s 10ms/step - loss: 0.5157 - mean_absolute_error: 0.5971 - mean_squared_error: 0.5157 - val_loss: 0.7946 - val_mean_absolute_error: 0.7315 - val_mean_squared_error: 0.7946\n",
            "Epoch 93/100\n",
            "4/4 [==============================] - 0s 9ms/step - loss: 0.5134 - mean_absolute_error: 0.5954 - mean_squared_error: 0.5134 - val_loss: 0.7929 - val_mean_absolute_error: 0.7305 - val_mean_squared_error: 0.7929\n",
            "Epoch 94/100\n",
            "4/4 [==============================] - 0s 10ms/step - loss: 0.5129 - mean_absolute_error: 0.5950 - mean_squared_error: 0.5129 - val_loss: 0.7919 - val_mean_absolute_error: 0.7295 - val_mean_squared_error: 0.7919\n",
            "Epoch 95/100\n",
            "4/4 [==============================] - 0s 12ms/step - loss: 0.5118 - mean_absolute_error: 0.5945 - mean_squared_error: 0.5118 - val_loss: 0.7905 - val_mean_absolute_error: 0.7287 - val_mean_squared_error: 0.7905\n",
            "Epoch 96/100\n",
            "4/4 [==============================] - 0s 10ms/step - loss: 0.5114 - mean_absolute_error: 0.5941 - mean_squared_error: 0.5114 - val_loss: 0.7888 - val_mean_absolute_error: 0.7275 - val_mean_squared_error: 0.7888\n",
            "Epoch 97/100\n",
            "4/4 [==============================] - 0s 10ms/step - loss: 0.5104 - mean_absolute_error: 0.5935 - mean_squared_error: 0.5104 - val_loss: 0.7877 - val_mean_absolute_error: 0.7264 - val_mean_squared_error: 0.7877\n",
            "Epoch 98/100\n",
            "4/4 [==============================] - 0s 10ms/step - loss: 0.5096 - mean_absolute_error: 0.5931 - mean_squared_error: 0.5096 - val_loss: 0.7850 - val_mean_absolute_error: 0.7260 - val_mean_squared_error: 0.7850\n",
            "Epoch 99/100\n",
            "4/4 [==============================] - 0s 10ms/step - loss: 0.5087 - mean_absolute_error: 0.5920 - mean_squared_error: 0.5087 - val_loss: 0.7831 - val_mean_absolute_error: 0.7254 - val_mean_squared_error: 0.7831\n",
            "Epoch 100/100\n",
            "4/4 [==============================] - 0s 10ms/step - loss: 0.5084 - mean_absolute_error: 0.5919 - mean_squared_error: 0.5084 - val_loss: 0.7807 - val_mean_absolute_error: 0.7253 - val_mean_squared_error: 0.7807\n"
          ],
          "name": "stdout"
        }
      ]
    },
    {
      "cell_type": "markdown",
      "metadata": {
        "id": "-xv6IaPv8FcV",
        "colab_type": "text"
      },
      "source": [
        "We get to ~0.6578 validation mean squared error after training for 100 epochs on the training dataset. Let's check the model's training progress using the stats stored in the history object.\n",
        "\n"
      ]
    },
    {
      "cell_type": "code",
      "metadata": {
        "id": "_ioic77M8XrP",
        "colab_type": "code",
        "colab": {
          "base_uri": "https://localhost:8080/",
          "height": 224
        },
        "outputId": "0da0ea53-9779-4bf3-a9d3-03bcb3d3f4b7"
      },
      "source": [
        "hist = pd.DataFrame(history.history)\n",
        "hist['epoch'] = history.epoch\n",
        "hist.tail()"
      ],
      "execution_count": null,
      "outputs": [
        {
          "output_type": "execute_result",
          "data": {
            "text/html": [
              "<div>\n",
              "<style scoped>\n",
              "    .dataframe tbody tr th:only-of-type {\n",
              "        vertical-align: middle;\n",
              "    }\n",
              "\n",
              "    .dataframe tbody tr th {\n",
              "        vertical-align: top;\n",
              "    }\n",
              "\n",
              "    .dataframe thead th {\n",
              "        text-align: right;\n",
              "    }\n",
              "</style>\n",
              "<table border=\"1\" class=\"dataframe\">\n",
              "  <thead>\n",
              "    <tr style=\"text-align: right;\">\n",
              "      <th></th>\n",
              "      <th>loss</th>\n",
              "      <th>mean_absolute_error</th>\n",
              "      <th>mean_squared_error</th>\n",
              "      <th>val_loss</th>\n",
              "      <th>val_mean_absolute_error</th>\n",
              "      <th>val_mean_squared_error</th>\n",
              "      <th>epoch</th>\n",
              "    </tr>\n",
              "  </thead>\n",
              "  <tbody>\n",
              "    <tr>\n",
              "      <th>95</th>\n",
              "      <td>0.511392</td>\n",
              "      <td>0.594100</td>\n",
              "      <td>0.511392</td>\n",
              "      <td>0.788785</td>\n",
              "      <td>0.727546</td>\n",
              "      <td>0.788785</td>\n",
              "      <td>95</td>\n",
              "    </tr>\n",
              "    <tr>\n",
              "      <th>96</th>\n",
              "      <td>0.510397</td>\n",
              "      <td>0.593477</td>\n",
              "      <td>0.510397</td>\n",
              "      <td>0.787663</td>\n",
              "      <td>0.726424</td>\n",
              "      <td>0.787663</td>\n",
              "      <td>96</td>\n",
              "    </tr>\n",
              "    <tr>\n",
              "      <th>97</th>\n",
              "      <td>0.509648</td>\n",
              "      <td>0.593146</td>\n",
              "      <td>0.509648</td>\n",
              "      <td>0.784980</td>\n",
              "      <td>0.725982</td>\n",
              "      <td>0.784980</td>\n",
              "      <td>97</td>\n",
              "    </tr>\n",
              "    <tr>\n",
              "      <th>98</th>\n",
              "      <td>0.508688</td>\n",
              "      <td>0.591959</td>\n",
              "      <td>0.508688</td>\n",
              "      <td>0.783129</td>\n",
              "      <td>0.725446</td>\n",
              "      <td>0.783129</td>\n",
              "      <td>98</td>\n",
              "    </tr>\n",
              "    <tr>\n",
              "      <th>99</th>\n",
              "      <td>0.508433</td>\n",
              "      <td>0.591855</td>\n",
              "      <td>0.508433</td>\n",
              "      <td>0.780717</td>\n",
              "      <td>0.725311</td>\n",
              "      <td>0.780717</td>\n",
              "      <td>99</td>\n",
              "    </tr>\n",
              "  </tbody>\n",
              "</table>\n",
              "</div>"
            ],
            "text/plain": [
              "        loss  mean_absolute_error  ...  val_mean_squared_error  epoch\n",
              "95  0.511392             0.594100  ...                0.788785     95\n",
              "96  0.510397             0.593477  ...                0.787663     96\n",
              "97  0.509648             0.593146  ...                0.784980     97\n",
              "98  0.508688             0.591959  ...                0.783129     98\n",
              "99  0.508433             0.591855  ...                0.780717     99\n",
              "\n",
              "[5 rows x 7 columns]"
            ]
          },
          "metadata": {
            "tags": []
          },
          "execution_count": 13
        }
      ]
    },
    {
      "cell_type": "markdown",
      "metadata": {
        "id": "tQSZuns88fhs",
        "colab_type": "text"
      },
      "source": [
        "Let's visualize it too."
      ]
    },
    {
      "cell_type": "code",
      "metadata": {
        "id": "DuNpvE5C8eOr",
        "colab_type": "code",
        "colab": {
          "base_uri": "https://localhost:8080/",
          "height": 279
        },
        "outputId": "75828c8b-4c79-47ce-a375-80322755ae47"
      },
      "source": [
        "hist.plot.line(x='epoch', y='val_mean_squared_error');"
      ],
      "execution_count": null,
      "outputs": [
        {
          "output_type": "display_data",
          "data": {
            "image/png": "[encoded data removed]",
            "text/plain": [
              "<Figure size 432x288 with 1 Axes>"
            ]
          },
          "metadata": {
            "tags": [],
            "needs_background": "light"
          }
        }
      ]
    },
    {
      "cell_type": "markdown",
      "metadata": {
        "id": "NDqDbYQc-b1m",
        "colab_type": "text"
      },
      "source": [
        "From the plot we can see that our model *converged* around the 20th epoch. In other words, the most optimal parameters (weights and bias)were found ofter 20 training iterations. "
      ]
    },
    {
      "cell_type": "markdown",
      "metadata": {
        "id": "de62RpCv_ion",
        "colab_type": "text"
      },
      "source": [
        "## 5. Evaluate the model\n",
        "Now that we trained our model, it's time to evaluate it by using the *test* dataset, which we did not use when training the model. This gives us a sense of how well our model predicts unseen data, which is the case when we use it in the real world. We will use the `evaluate` method to test the model. "
      ]
    },
    {
      "cell_type": "code",
      "metadata": {
        "id": "qn9i35lI_h6L",
        "colab_type": "code",
        "colab": {
          "base_uri": "https://localhost:8080/",
          "height": 73
        },
        "outputId": "4a5f5827-912e-445e-ed8c-e62c6c97f16e"
      },
      "source": [
        "loss, mae, mse = model.evaluate(test_features, test_labels)\n",
        "print('Test set Mean Absolute Error: ', round(mae, 4))"
      ],
      "execution_count": null,
      "outputs": [
        {
          "output_type": "stream",
          "text": [
            "1/1 [==============================] - 0s 1ms/step - loss: 0.3837 - mean_absolute_error: 0.5160 - mean_squared_error: 0.3837\n",
            "Test set Mean Absolute Error:  0.516\n"
          ],
          "name": "stdout"
        }
      ]
    },
    {
      "cell_type": "markdown",
      "metadata": {
        "id": "-Oex24IXB8Ku",
        "colab_type": "text"
      },
      "source": [
        "The average (absolute) error is around +/- 0.516 units for happiness Score. Is this good? We'll leave that decision up to you. Let's also visualize the prediction and real happiness Score values using data in the test set."
      ]
    },
    {
      "cell_type": "code",
      "metadata": {
        "id": "hfYGBlJOCgkf",
        "colab_type": "code",
        "colab": {
          "base_uri": "https://localhost:8080/",
          "height": 279
        },
        "outputId": "95328791-b9e1-4b4f-9fee-623bd9349e46"
      },
      "source": [
        "test_predictions = model.predict(test_features).flatten()\n",
        "\n",
        "ax = plt.axes(aspect='equal')\n",
        "plt.scatter(test_labels, test_predictions)\n",
        "plt.xlabel('True Values [Happiness Score]')\n",
        "plt.ylabel('Predictions [Happiness Score]')\n",
        "lims = [0, max(test_labels) + 1] # [0, 31]\n",
        "plt.xlim(lims)\n",
        "plt.ylim(lims)\n",
        "_ = plt.plot(lims, lims)"
      ],
      "execution_count": null,
      "outputs": [
        {
          "output_type": "display_data",
          "data": {
            "image/png": "[encoded data removed]",
            "text/plain": [
              "<Figure size 432x288 with 1 Axes>"
            ]
          },
          "metadata": {
            "tags": [],
            "needs_background": "light"
          }
        }
      ]
    },
    {
      "cell_type": "markdown",
      "metadata": {
        "id": "f5c_PyRzDdL9",
        "colab_type": "text"
      },
      "source": [
        "It looks like our model predicts reasonably well. Let's take a look at the error distribution."
      ]
    },
    {
      "cell_type": "code",
      "metadata": {
        "id": "40XijR03DrET",
        "colab_type": "code",
        "colab": {
          "base_uri": "https://localhost:8080/",
          "height": 279
        },
        "outputId": "9a61cfc6-8534-48ca-b294-1a563c35be2b"
      },
      "source": [
        "error = test_predictions.reshape(-1, 1) - test_labels\n",
        "plt.hist(error, bins = 10)\n",
        "plt.xlabel(\"Prediction Error [Happiness Score]\")\n",
        "_ = plt.ylabel(\"Count\")"
      ],
      "execution_count": null,
      "outputs": [
        {
          "output_type": "display_data",
          "data": {
            "image/png": "[encoded data removed]",
            "text/plain": [
              "<Figure size 432x288 with 1 Axes>"
            ]
          },
          "metadata": {
            "tags": [],
            "needs_background": "light"
          }
        }
      ]
    },
    {
      "cell_type": "markdown",
      "metadata": {
        "id": "Ij1MDhAbEpZ6",
        "colab_type": "text"
      },
      "source": [
        "The histogram shows that the errors aren't quite *Normally distributed* (also called *gaussian*), but we might expect that because the number of samples is very small."
      ]
    },
    {
      "cell_type": "markdown",
      "metadata": {
        "id": "vd6RuVz5FDZM",
        "colab_type": "text"
      },
      "source": [
        "## 6. Draw Conclusions\n",
        "We built a single-layer fully-connected neural network model to predict happiness Score given a country's GDP per capita. The model converged after about 20 epochs of training, and it achieved an average (absolute) error of +/- 0.516. We expect that a *deeper* model or more data samples or features could lead to better results on unseen data.     "
      ]
    },
    {
      "cell_type": "markdown",
      "metadata": {
        "id": "wTQXVOX3GITZ",
        "colab_type": "text"
      },
      "source": [
        "# Summary\n",
        "In this lesson we took a deeper dive into regression, translating traditional linear  regression into a single-layer fully-connected neural network. We covered several important techniques to handle regression problems:\n",
        "- Introduced *loss functions* and *optimization algorithms*.\n",
        "- Demonstrated preparing data for a model.\n",
        "- Used Tensorflow to build and train a model. \n",
        "- Showed how to evaluate a model."
      ]
    },
    {
      "cell_type": "code",
      "metadata": {
        "id": "UCOUYOD8VExr",
        "colab_type": "code",
        "colab": {}
      },
      "source": [
        ""
      ],
      "execution_count": null,
      "outputs": []
    }
  ]
}