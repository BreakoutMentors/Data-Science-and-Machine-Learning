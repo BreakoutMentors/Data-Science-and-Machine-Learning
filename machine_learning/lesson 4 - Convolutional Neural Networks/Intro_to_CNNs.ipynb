{
  "nbformat": 4,
  "nbformat_minor": 0,
  "metadata": {
    "colab": {
      "name": "Intro-to-CNNs.ipynb",
      "provenance": [],
      "collapsed_sections": [],
      "toc_visible": true,
      "authorship_tag": "ABX9TyOW8LWD9nxFN/LvltFQsGAU",
      "include_colab_link": true
    },
    "kernelspec": {
      "name": "python3",
      "display_name": "Python 3"
    },
    "language_info": {
      "name": "python"
    },
    "accelerator": "GPU"
  },
  "cells": [
    {
      "cell_type": "markdown",
      "metadata": {
        "id": "view-in-github",
        "colab_type": "text"
      },
      "source": [
        "<a href=\"https://colab.research.google.com/github/BreakoutMentors/Data-Science-and-Machine-Learning/blob/adam-medical-cnn/machine_learning/lesson%204%20-%20Convolutional%20Neural%20Networks/Intro_to_CNNs.ipynb\" target=\"_parent\"><img src=\"https://colab.research.google.com/assets/colab-badge.svg\" alt=\"Open In Colab\"/></a>"
      ]
    },
    {
      "cell_type": "markdown",
      "metadata": {
        "id": "JOquPv8N7VkH"
      },
      "source": [
        "# Introduction to Convolutional Neural Networks\n",
        "![CNN](https://miro.medium.com/max/2510/1*vkQ0hXDaQv57sALXAJquxA.jpeg)\n",
        "\n",
        "\n",
        "## What are Convolutional Neural Networks(CNNs)?\n",
        "A Convolutional Neural Network is a type of nerual network and Deep Learning algorithm that has been very popular in the last 10 years for its great involvement in improving Computer Vision (CV). They are excellent at classifying objects in an images that are being implemented in many areas, especially Medicine!\n",
        "\n",
        "## How are CNNs contributing to Medicine?\n",
        "Convolutional Neural Networks have been being studied as tools to help doctors give treatments to patients by providing higher classification accuracies than a team of specialists at times. Having computers diagnosing medical conditions such as cancer and diseases give doctors a chance to provide immediate treatment that can cut a lot of time, which can be life saving at times. CNNs are being studied and improved at the best medical universities around the world, for the hope of having CNNs being applied for the diagnosis process especially in areas where medical specialists are rare.\n",
        "\n",
        "## What is different between a CNN and a normal Neural Network?\n",
        "The main difference between them two is the *Feature Learning* section from the CNN image above. In that section, we see that an image is being inserted at the input and it goes through a process where information is being picked from the image then summerized through **Convolutional Layers**. The information that is being picked are features in the image, such as the lights, tire, and shape of the car in the image. The reason it is called *Feature Learning* is because the way it looks for features in the images is automized as well, therefore the weights used in the convolutional layers are being trained and improved overtime.\n",
        "\n",
        "You can also see that it gets smaller overtime, which is good since we are wanting to gather the most important features while decreasing the memory. This action of decreasing memory while keeping data is called *encoding*, so we are encoding the data in the images to then use for classification purposes.\n",
        "\n",
        "The *Classification* section of the CNN is just a normal Neural Network where the encoded features are learned to then give predictions at the end. The encoded features are flattened because the flattened features will be the input of the input layer. So you can see that a CNN is just a special type of Neural Network where it learns to get the most important information from the images."
      ]
    },
    {
      "cell_type": "code",
      "metadata": {
        "id": "m7e4fSwavrak",
        "colab": {
          "resources": {
            "http://localhost:8080/nbextensions/google.colab/files.js": {
              "data": "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",
              "ok": true,
              "headers": [
                [
                  "content-type",
                  "application/javascript"
                ]
              ],
              "status": 200,
              "status_text": ""
            }
          },
          "base_uri": "https://localhost:8080/",
          "height": 123
        },
        "outputId": "eee152e5-8f1e-4a77-fb3e-5268f0005530"
      },
      "source": [
        "from google.colab import files\n",
        "from IPython.utils import io\n",
        "import os\n",
        "files.upload()\n",
        "os.system(\"mkdir -p ~/.kaggle\")\n",
        "os.system(\"cp kaggle.json ~/.kaggle/\")\n",
        "os.system(\"chmod 600 ~/.kaggle/kaggle.json\")\n",
        "!kaggle datasets download -d preetviradiya/covid19-radiography-dataset\n",
        "with io.capture_output() as captured:\n",
        "  !unzip covid19-radiography-dataset.zip && rm covid19-radiography-dataset.zip"
      ],
      "execution_count": 1,
      "outputs": [
        {
          "output_type": "display_data",
          "data": {
            "text/html": [
              "\n",
              "     <input type=\"file\" id=\"files-3ff378ce-7a7e-460a-8246-8fe22e3322b8\" name=\"files[]\" multiple disabled\n",
              "        style=\"border:none\" />\n",
              "     <output id=\"result-3ff378ce-7a7e-460a-8246-8fe22e3322b8\">\n",
              "      Upload widget is only available when the cell has been executed in the\n",
              "      current browser session. Please rerun this cell to enable.\n",
              "      </output>\n",
              "      <script src=\"/nbextensions/google.colab/files.js\"></script> "
            ],
            "text/plain": [
              "<IPython.core.display.HTML object>"
            ]
          },
          "metadata": {
            "tags": []
          }
        },
        {
          "output_type": "stream",
          "text": [
            "Saving kaggle.json to kaggle.json\n",
            "Downloading covid19-radiography-dataset.zip to /content\n",
            " 99% 737M/747M [00:13<00:00, 60.2MB/s]\n",
            "100% 747M/747M [00:13<00:00, 56.5MB/s]\n"
          ],
          "name": "stdout"
        }
      ]
    },
    {
      "cell_type": "code",
      "metadata": {
        "id": "AhyttnS5we01",
        "colab": {
          "base_uri": "https://localhost:8080/",
          "height": 336
        },
        "outputId": "5a4d9e2a-680b-49ca-c72b-1e486e7c0956"
      },
      "source": [
        "import pandas as pd\n",
        "import numpy as np\n",
        "import matplotlib.pyplot as plt\n",
        "import PIL\n",
        "\n",
        "dataframe = pd.read_csv(\"/content/metadata.csv\")\n",
        "dataframe['label'].value_counts().plot.bar(color=['b', 'r', 'orange', 'g'])\n",
        "plt.xticks(rotation=45)\n",
        "plt.title('Class Distribution')\n",
        "plt.show()"
      ],
      "execution_count": 2,
      "outputs": [
        {
          "output_type": "display_data",
          "data": {
            "image/png": "[encoded data removed]",
            "text/plain": [
              "<Figure size 432x288 with 1 Axes>"
            ]
          },
          "metadata": {
            "tags": [],
            "needs_background": "light"
          }
        }
      ]
    },
    {
      "cell_type": "code",
      "metadata": {
        "id": "Td3ISkXx2zzN",
        "colab": {
          "base_uri": "https://localhost:8080/"
        },
        "outputId": "bdf5f68a-f0d0-4d93-a332-ef68535d6d80"
      },
      "source": [
        "import torch\n",
        "from torchvision.datasets import ImageFolder\n",
        "import torchvision.transforms as transforms\n",
        "\n",
        "root = \"/content/COVID-19_Radiography_Dataset/COVID-19_Radiography_Dataset\"\n",
        "\n",
        "means = (0.485, 0.456, 0.406)\n",
        "stds = (0.229, 0.224, 0.225)\n",
        "\n",
        "# Add more transforms tomorrow\n",
        "transforms = transforms.Compose([\n",
        "    transforms.Resize(224),\n",
        "    transforms.ToTensor(),\n",
        "    transforms.Normalize(means, stds), # Means and STDs of ImageNet\n",
        "])\n",
        "\n",
        "# Using ImageFolder to read in the images with their labeled folders\n",
        "dataset = ImageFolder(root, transform=transforms)\n",
        "\n",
        "# Calculating the amount of images to split the dataset\n",
        "trainToTestRatio = 0.8\n",
        "trainSize = int(trainToTestRatio * len(dataset))\n",
        "testSize = len(dataset) - trainSize\n",
        "\n",
        "# Calculating the amount to split the training set into validation set\n",
        "valSize = int(trainSize * 0.1) # Taking 10% of training data\n",
        "trainSize = trainSize - valSize # Updating the amount of training data\n",
        "\n",
        "# Splitting Data\n",
        "training_data, val_data, testing_data = torch.utils.data.random_split(dataset, lengths=[trainSize, valSize, testSize])\n",
        "\n",
        "# Loading Data\n",
        "batch_size = 16\n",
        "\n",
        "train_dataloader = torch.utils.data.DataLoader(training_data, batch_size=batch_size, shuffle=True)\n",
        "test_dataloader = torch.utils.data.DataLoader(testing_data, batch_size=batch_size)\n",
        "val_dataloader = torch.utils.data.DataLoader(val_data, batch_size=batch_size)\n",
        "\n",
        "# Using dictionaries to easily access all the dataloaders and datasets\n",
        "loaders = {'train':train_dataloader, 'valid':val_dataloader, 'test':test_dataloader}\n",
        "datasets = {'train':training_data, 'valid':val_data, 'test':testing_data}\n",
        "\n",
        "print(\"These are the classes:\", dataset.class_to_idx)"
      ],
      "execution_count": 3,
      "outputs": [
        {
          "output_type": "stream",
          "text": [
            "These are the classes: {'COVID': 0, 'Lung_Opacity': 1, 'Normal': 2, 'Viral Pneumonia': 3}\n"
          ],
          "name": "stdout"
        }
      ]
    },
    {
      "cell_type": "code",
      "metadata": {
        "id": "7SfHawJh3nnn",
        "colab": {
          "base_uri": "https://localhost:8080/",
          "height": 176
        },
        "outputId": "40820c2c-3216-4396-edaa-8cc347a06647"
      },
      "source": [
        "import torchvision.transforms.functional as F\n",
        "\n",
        "# Function to reverse normalization of the images\n",
        "def unNormalizeTensor(tensor, means, stds):\n",
        "  for channel, mean, std in zip(tensor, means, stds):\n",
        "    channel.mul_(std).add_(mean)\n",
        "  return tensor\n",
        "\n",
        "# Printing the dimensions of each batch\n",
        "images, labels = next(iter(train_dataloader))\n",
        "print(\"Batch Image Dimensions:\", images.size())\n",
        "print(\"Batch Label Dimensions:\", labels.size())\n",
        "\n",
        "# Printing images and their labels\n",
        "idx_to_class = {value:key for key,value in dataset.class_to_idx.items()}\n",
        "plt.figure(figsize=(10, 9))\n",
        "for i in range(5):\n",
        "  plt.subplot(1, 5, i+1)\n",
        "  plt.xticks([])\n",
        "  plt.yticks([])\n",
        "  plt.grid(False)\n",
        "  image = F.to_pil_image(unNormalizeTensor(images[i], means, stds))\n",
        "  plt.imshow(image)\n",
        "  plt.xlabel(idx_to_class[labels[i].item()])"
      ],
      "execution_count": 4,
      "outputs": [
        {
          "output_type": "stream",
          "text": [
            "Batch Image Dimensions: torch.Size([16, 3, 224, 224])\n",
            "Batch Label Dimensions: torch.Size([16])\n"
          ],
          "name": "stdout"
        },
        {
          "output_type": "display_data",
          "data": {
            "image/png": "[encoded data removed]",
            "text/plain": [
              "<Figure size 720x648 with 5 Axes>"
            ]
          },
          "metadata": {
            "tags": []
          }
        }
      ]
    },
    {
      "cell_type": "code",
      "metadata": {
        "id": "mhKHiV2XO5ED"
      },
      "source": [
        "import torch.nn as nn\n",
        "\n",
        "class CNN_Model(nn.Module):\n",
        "  \n",
        "  # Constructing model\n",
        "  def __init__(self):\n",
        "    super(CNN_Model, self).__init__()\n",
        "\n",
        "    # Defining Batch Normalization\n",
        "    self.norm = nn.BatchNorm2d(num_features=3)\n",
        "\n",
        "    # Defining Convolutional Layers\n",
        "    self.conv1 = nn.Conv2d(in_channels=3, out_channels=12, kernel_size=3, padding=1, stride=1) # Output Dimensions = (12, 224, 224)\n",
        "    self.conv2 = nn.Conv2d(in_channels=12, out_channels=16, kernel_size=3, padding=1, stride=1)\n",
        "    self.conv3 = nn.Conv2d(in_channels=16, out_channels=20, kernel_size=3, padding=1, stride=1)\n",
        "    \n",
        "    # Defining MaxPool Layer\n",
        "    self.maxpool = nn.MaxPool2d(kernel_size=2, stride=2)\n",
        "\n",
        "    # Defining Fully Connected Layers\n",
        "    self.fc1 = nn.Linear(self.conv3.out_channels * 28 * 28, 3920) # Input Dimensions before Flattening = (20, 28, 28)\n",
        "    self.fc2 = nn.Linear(3920, 980)\n",
        "    self.fc3 = nn.Linear(980, 245)\n",
        "    self.fc4 = nn.Linear(245, 62)\n",
        "    self.fc5 = nn.Linear(62, 4) # Output Layer with 4 ending nodes for the four classes\n",
        "\n",
        "    # Activation Function to use throughout\n",
        "    self.relu = nn.ReLU()\n",
        "\n",
        "    # Dropout to prevent overfitting\n",
        "    self.dropout = nn.Dropout(p=0.5)\n",
        "  \n",
        "  def forward(self, input):\n",
        "    \n",
        "    # Batch Normalization for faster training\n",
        "    x = self.norm(input)\n",
        "\n",
        "    # First Convolutional Layer \n",
        "    x = self.relu(self.conv1(x)) # Output Shape = (12, 224, 224)\n",
        "    x = self.maxpool(x) # Output Shape = (12, 112, 112)\n",
        "\n",
        "    # Second Convolutional Layer\n",
        "    x = self.relu(self.conv2(x)) # Output Shape = (16, 112, 112)\n",
        "    x = self.maxpool(x) # Output Shape = (16, 56, 56)\n",
        "\n",
        "    # Third Convolutional Lay\n",
        "    x = self.relu(self.conv3(x)) # Output Shape = (20, 56, 56)\n",
        "    x = self.maxpool(x) # Output Shape = (20, 28, 28)\n",
        "\n",
        "    # Flattening Tensor\n",
        "    x = x.view(-1, 20*28*28)\n",
        "\n",
        "    # Fully Connected Layers\n",
        "    x = self.relu(self.fc1(x))\n",
        "    x = self.dropout(x)\n",
        "    x = self.relu(self.fc2(x))\n",
        "    x = self.dropout(x)\n",
        "    x = self.relu(self.fc3(x))\n",
        "    x = self.dropout(x)\n",
        "    x = self.relu(self.fc4(x))\n",
        "    x = self.fc5(x)\n",
        "\n",
        "    return x"
      ],
      "execution_count": 5,
      "outputs": []
    },
    {
      "cell_type": "code",
      "metadata": {
        "id": "-JlbZ_H2GJVE"
      },
      "source": [
        "device = \"cuda\" if torch.cuda.is_available() else \"cpu\"\n",
        "\n",
        "# Intializing model and having it use a GPU if available\n",
        "model = CNN_Model()\n",
        "model.to(device)\n",
        "\n",
        "# Defining Optimizer\n",
        "optimizer = torch.optim.SGD(model.parameters(), lr=0.01)\n",
        "\n",
        "# Defining Loss Function; CE Loss because we have multiple categories\n",
        "criterion = nn.CrossEntropyLoss()"
      ],
      "execution_count": 8,
      "outputs": []
    },
    {
      "cell_type": "code",
      "metadata": {
        "colab": {
          "base_uri": "https://localhost:8080/"
        },
        "id": "Nn1WLqSdM_OA",
        "outputId": "8aa91dac-4dae-4abe-fdcb-1c0bb1f6d1a8"
      },
      "source": [
        "def train(n_epochs, loaders, datasets, model, optimizer, criterion, device, save_path):\n",
        "    \"\"\"returns trained model\"\"\"\n",
        "    # Initialize tracker for minimum validation loss\n",
        "    valid_loss_min = np.Inf \n",
        "    losses = []\n",
        "    valid_losses = []\n",
        "    for epoch in range(1, n_epochs+1):\n",
        "      # Initialize variables to monitor training and validation loss\n",
        "      train_loss = 0.0\n",
        "      valid_loss = 0.0\n",
        "        \n",
        "      ###################\n",
        "      # train the model #\n",
        "      ###################\n",
        "      model.train()\n",
        "      for images, labels in loaders['train']:\n",
        "        # Move to GPU if available\n",
        "        images, labels = images.to(device), labels.to(device)\n",
        "            \n",
        "        # Zero the parameter gradients\n",
        "        optimizer.zero_grad()\n",
        "            \n",
        "        # Calculating the output\n",
        "        output = model(images)\n",
        "            \n",
        "        # Caluculating the Loss\n",
        "        loss = criterion(output, labels)\n",
        "            \n",
        "        # Calculating the gradients\n",
        "        loss.backward()\n",
        "            \n",
        "        # Performing Gradient Descent Step\n",
        "        optimizer.step()\n",
        "            \n",
        "        # Saving the training loss\n",
        "        train_loss += loss.data\n",
        "            \n",
        "            \n",
        "      ######################    \n",
        "      # validate the model #\n",
        "      ######################\n",
        "      model.eval()\n",
        "      \n",
        "      for images, labels in loaders['valid']:\n",
        "        # Move to GPU if available\n",
        "        images, labels = images.to(device), labels.to(device)\n",
        "            \n",
        "        # Getting the output\n",
        "        output = model(images)\n",
        "            \n",
        "        # Calculating the Loss\n",
        "        loss = criterion(output, labels)\n",
        "            \n",
        "        # Saving the validation loss\n",
        "        valid_loss += loss.data\n",
        "\n",
        "      # Averaging the losses\n",
        "      train_loss /= len(datasets['train'])\n",
        "      valid_loss /= len(datasets['valid'])\n",
        "\n",
        "      # Appending the losses to plot afterwards\n",
        "      losses.append(train_loss.item())\n",
        "      valid_losses.append(valid_loss.item())\n",
        "            \n",
        "      # Print training/validation statistics \n",
        "      print('Epoch: {} \\tTraining Loss: {:.6f} \\tValidation Loss: {:.6f}'.format(\n",
        "            epoch, \n",
        "            train_loss,\n",
        "            valid_loss\n",
        "            ))\n",
        "        \n",
        "      # Save the model if validation loss has decreased\n",
        "      if valid_loss < valid_loss_min:\n",
        "        print('Saving Model')\n",
        "        torch.save(model.state_dict(), save_path)\n",
        "        valid_loss_min = valid_loss\n",
        "            \n",
        "  # return trained model, and saved losses\n",
        "  return model, np.array(losses), np.array(valid_losses)\n",
        "\n",
        "num_epochs=10\n",
        "\n",
        "model, losses, valid_losses = train(10, loaders, datasets, model, optimizer, criterion, device, 'saved_model.pt')"
      ],
      "execution_count": 9,
      "outputs": [
        {
          "output_type": "stream",
          "text": [
            "Epoch: 1 \tTraining Loss: 0.076627 \tValidation Loss: 0.071867\n",
            "Saving Model\n",
            "Epoch: 2 \tTraining Loss: 0.065120 \tValidation Loss: 0.054962\n",
            "Saving Model\n",
            "Epoch: 3 \tTraining Loss: 0.052224 \tValidation Loss: 0.044573\n",
            "Saving Model\n",
            "Epoch: 4 \tTraining Loss: 0.047655 \tValidation Loss: 0.044604\n",
            "Epoch: 5 \tTraining Loss: 0.044380 \tValidation Loss: 0.037244\n",
            "Saving Model\n",
            "Epoch: 6 \tTraining Loss: 0.041591 \tValidation Loss: 0.035071\n",
            "Saving Model\n",
            "Epoch: 7 \tTraining Loss: 0.039322 \tValidation Loss: 0.034474\n",
            "Saving Model\n",
            "Epoch: 8 \tTraining Loss: 0.036870 \tValidation Loss: 0.033573\n",
            "Saving Model\n",
            "Epoch: 9 \tTraining Loss: 0.034666 \tValidation Loss: 0.029685\n",
            "Saving Model\n",
            "Epoch: 10 \tTraining Loss: 0.032096 \tValidation Loss: 0.028514\n",
            "Saving Model\n"
          ],
          "name": "stdout"
        }
      ]
    },
    {
      "cell_type": "code",
      "metadata": {
        "id": "nVFWdOCI21em",
        "colab": {
          "base_uri": "https://localhost:8080/",
          "height": 573
        },
        "outputId": "e4a8bef9-c03c-4da3-8a00-ddf0575635d6"
      },
      "source": [
        "def plot_losses(losses, title):\n",
        "  plt.plot(losses)\n",
        "  plt.xlabel(\"Epochs\")\n",
        "  plt.ylabel(\"Cross Entropy Loss\")\n",
        "  plt.title(title)\n",
        "  plt.show()\n",
        "\n",
        "plot_losses(losses, title='Training Loss')\n",
        "plot_losses(valid_losses, title='Validation Loss')"
      ],
      "execution_count": 10,
      "outputs": [
        {
          "output_type": "display_data",
          "data": {
            "image/png": "[encoded data removed]",
            "text/plain": [
              "<Figure size 432x288 with 1 Axes>"
            ]
          },
          "metadata": {
            "tags": [],
            "needs_background": "light"
          }
        },
        {
          "output_type": "display_data",
          "data": {
            "image/png": "[encoded data removed]",
            "text/plain": [
              "<Figure size 432x288 with 1 Axes>"
            ]
          },
          "metadata": {
            "tags": [],
            "needs_background": "light"
          }
        }
      ]
    },
    {
      "cell_type": "code",
      "metadata": {
        "colab": {
          "base_uri": "https://localhost:8080/"
        },
        "id": "G7ky0btzovR5",
        "outputId": "85ce447b-390c-4f93-9528-98e52a17b27a"
      },
      "source": [
        "def getPredsFromLogits(logits):\n",
        "  # Using softmax to get an array that sums to 1, and then getting the index with the highest value\n",
        "  return torch.nn.functional.softmax(logits, dim=1).argmax(dim=1)\n",
        "\n",
        "def test(loaders, model, criterion, device):\n",
        "\n",
        "  # monitor test loss and accuracy\n",
        "  test_loss = 0.0\n",
        "  correct = 0\n",
        "  total = 0\n",
        "\n",
        "  model.eval()\n",
        "  for images, labels in loaders['test']:\n",
        "    # move to GPU if available\n",
        "    images, labels = images.to(device), labels.to(device)\n",
        "    # forward pass: compute predicted outputs by passing inputs to the model\n",
        "    output = model(images)\n",
        "    # calculate the loss\n",
        "    loss = criterion(output, labels)\n",
        "    # update average test loss \n",
        "    test_loss += loss.data\n",
        "    # convert output probabilities to predicted class\n",
        "    pred = getPredsFromLogits(output)\n",
        "    # compare predictions to true label\n",
        "    correct += pred.eq(labels).sum().item()\n",
        "    total += pred.shape[0]\n",
        "  \n",
        "  test_loss /= total\n",
        "            \n",
        "  print('Test Loss: {:.6f}\\n'.format(test_loss))\n",
        "\n",
        "  print('\\nTest Accuracy: %2d%% (%2d/%2d)' % (100. * correct / total, correct, total))\n",
        "\n",
        "test(loaders, model, criterion, device)"
      ],
      "execution_count": 11,
      "outputs": [
        {
          "output_type": "stream",
          "text": [
            "Test Loss: 0.032569\n",
            "\n",
            "\n",
            "Test Accuracy: 79% (3363/4233)\n"
          ],
          "name": "stdout"
        }
      ]
    },
    {
      "cell_type": "markdown",
      "metadata": {
        "id": "g4p3unN93-Qx"
      },
      "source": [
        "## How to load a saved model\n",
        "\n",
        "It is useful to save the model then reuse it later to prevent having to retrain your model which can take a very long time. This is really important when you want to work on your own projects!"
      ]
    },
    {
      "cell_type": "code",
      "metadata": {
        "id": "hzveqgMbtp2q",
        "colab": {
          "base_uri": "https://localhost:8080/",
          "height": 17
        },
        "outputId": "2bc3ea9b-0b5c-413d-acf9-6c2c943246eb"
      },
      "source": [
        "# First create a new instance of the model class\n",
        "saved_model = CNN_Model()\n",
        "\n",
        "# Second, load state dict in the file that was saved then it should work as normal!\n",
        "saved_model.load_state_dict(torch.load('saved_model.pt'))\n",
        "\n",
        "# It will be downloaded to your computer as an example for you to save yours later\n",
        "files.download('saved_model.pt')"
      ],
      "execution_count": 14,
      "outputs": [
        {
          "output_type": "display_data",
          "data": {
            "application/javascript": [
              "\n",
              "    async function download(id, filename, size) {\n",
              "      if (!google.colab.kernel.accessAllowed) {\n",
              "        return;\n",
              "      }\n",
              "      const div = document.createElement('div');\n",
              "      const label = document.createElement('label');\n",
              "      label.textContent = `Downloading \"${filename}\": `;\n",
              "      div.appendChild(label);\n",
              "      const progress = document.createElement('progress');\n",
              "      progress.max = size;\n",
              "      div.appendChild(progress);\n",
              "      document.body.appendChild(div);\n",
              "\n",
              "      const buffers = [];\n",
              "      let downloaded = 0;\n",
              "\n",
              "      const channel = await google.colab.kernel.comms.open(id);\n",
              "      // Send a message to notify the kernel that we're ready.\n",
              "      channel.send({})\n",
              "\n",
              "      for await (const message of channel.messages) {\n",
              "        // Send a message to notify the kernel that we're ready.\n",
              "        channel.send({})\n",
              "        if (message.buffers) {\n",
              "          for (const buffer of message.buffers) {\n",
              "            buffers.push(buffer);\n",
              "            downloaded += buffer.byteLength;\n",
              "            progress.value = downloaded;\n",
              "          }\n",
              "        }\n",
              "      }\n",
              "      const blob = new Blob(buffers, {type: 'application/binary'});\n",
              "      const a = document.createElement('a');\n",
              "      a.href = window.URL.createObjectURL(blob);\n",
              "      a.download = filename;\n",
              "      div.appendChild(a);\n",
              "      a.click();\n",
              "      div.remove();\n",
              "    }\n",
              "  "
            ],
            "text/plain": [
              "<IPython.core.display.Javascript object>"
            ]
          },
          "metadata": {
            "tags": []
          }
        },
        {
          "output_type": "display_data",
          "data": {
            "application/javascript": [
              "download(\"download_108c16a9-2aaf-4691-b88d-0215c79ebf60\", \"saved_model.pt\", 262298476)"
            ],
            "text/plain": [
              "<IPython.core.display.Javascript object>"
            ]
          },
          "metadata": {
            "tags": []
          }
        }
      ]
    }
  ]
}