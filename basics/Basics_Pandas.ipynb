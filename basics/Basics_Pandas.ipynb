{
  "nbformat": 4,
  "nbformat_minor": 0,
  "metadata": {
    "colab": {
      "name": "Basics_Pandas.ipynb",
      "provenance": [],
      "include_colab_link": true
    },
    "kernelspec": {
      "name": "python3",
      "display_name": "Python 3"
    }
  },
  "cells": [
    {
      "cell_type": "markdown",
      "metadata": {
        "id": "view-in-github",
        "colab_type": "text"
      },
      "source": [
        "<a href=\"https://colab.research.google.com/github/BreakoutMentors/Data-Science-and-Machine-Learning/blob/main/basics/Basics_Pandas.ipynb\" target=\"_parent\"><img src=\"https://colab.research.google.com/assets/colab-badge.svg\" alt=\"Open In Colab\"/></a>"
      ]
    },
    {
      "cell_type": "markdown",
      "metadata": {
        "id": "dTuwOn3sornC"
      },
      "source": [
        "## Notebook helper code\n",
        "Useful python packages and functions for this tutorial.  Don't bother understanding the code in this section, as it is not the point of this tutorial. Just run the code by pressing the play button. Doing so will set our environment up with some useful packages and functions."
      ]
    },
    {
      "cell_type": "code",
      "metadata": {
        "id": "u1GGYi2sovXd"
      },
      "source": [
        "import IPython.display as ipd\n",
        "\n",
        "def display_series(series):\n",
        "    ipd.display(series)\n",
        "\n",
        "def display_df(df):\n",
        "    ipd.display(ipd.HTML(df.to_html()))"
      ],
      "execution_count": 46,
      "outputs": []
    },
    {
      "cell_type": "markdown",
      "metadata": {
        "id": "SOAUC_q2hM5P"
      },
      "source": [
        "# Pandas Tutorial: Data management in Python\n",
        "Pandas (pronounced like the bear) is a popular Python package for data science, and with good reason: it offers powerful, expressive and flexible data structures that make data manipulation and analysis easy, among many other things. \n",
        "\n",
        "This tutorial covers the most common data structures in Pandas, the `Series` and `DataFrame`, from basic manipulations to advanced operations, by showing practical examples. The goal of this notebook is to introduce you to the Pandas package and enable you to use it in your projects.\n",
        "\n",
        "To get started, we import NumPy and Pandas into our environment:"
      ]
    },
    {
      "cell_type": "code",
      "metadata": {
        "id": "9Rwi7jaAlOmL"
      },
      "source": [
        "import numpy as np\n",
        "import pandas as pd"
      ],
      "execution_count": 47,
      "outputs": []
    },
    {
      "cell_type": "markdown",
      "metadata": {
        "id": "OtfK0jnolEB4"
      },
      "source": [
        "## Data Structures\n",
        "The core data structures in Pandas are the:\n",
        "\n",
        "| Data Structure \t| Description                                                                                                                                                                                                               \t|\n",
        "|----------------\t|---------------------------------------------------------------------------------------------------------------------------------------------------------------------------------------------------------------------------\t|\n",
        "| `Series`       \t| 1-dimensional labeled array (list) capable of holding any data type (integers, strings, floating point numbers, Python objects, etc.). The axis labels are collectively referred to as the index.                         \t|\n",
        "| `DataFrame`    \t| 2-dimensional labeled data structure with columns of potentially different types. You can think of it like a spreadsheet or SQL table, or a dict of Series objects. It is generally the most commonly used Pandas object. \t|\n",
        "\n"
      ]
    },
    {
      "cell_type": "markdown",
      "metadata": {
        "id": "GZ0l8ioiqsZl"
      },
      "source": [
        "### Series\n",
        "The basic method to create a Series is to call:"
      ]
    },
    {
      "cell_type": "code",
      "metadata": {
        "id": "uf0iiXS-n0IA",
        "colab": {
          "base_uri": "https://localhost:8080/",
          "height": 153
        },
        "outputId": "322ddf43-9ccd-44d1-ebfa-efe111f411f7"
      },
      "source": [
        "data = [0, 1, 2, 3, 4, 4, 12]\n",
        "s = pd.Series(data)\n",
        "display_series(s)"
      ],
      "execution_count": 48,
      "outputs": [
        {
          "output_type": "display_data",
          "data": {
            "text/plain": [
              "0     0\n",
              "1     1\n",
              "2     2\n",
              "3     3\n",
              "4     4\n",
              "5     4\n",
              "6    12\n",
              "dtype: int64"
            ]
          },
          "metadata": {
            "tags": []
          }
        }
      ]
    },
    {
      "cell_type": "markdown",
      "metadata": {
        "id": "HJmYfRRkrlm5"
      },
      "source": [
        "In this example, `data` is a regular list. But, the `Series` data structure can handle many different input data structures. The valid input structures for `data` include:\n",
        "- a Python dict\n",
        "- an ndarray (a NumPy array)\n",
        "- a scalar value (like 5).\n",
        "\n",
        "Looking at the output of `display_series(s)`, you might be wondering why there seem to be two columns in our 1-dimension series. Here's the explanation: \n",
        "- The left column represents the index for the series. Most of the time this will be a numerical value. \n",
        "- The right column represents the data stored at each index.   \n",
        "\n",
        "Indexes make it easier to process and retrieve data efficiently.\n",
        "\n",
        "You also might be wondering what `dtype: int64` means. Like a NumPy array, a Pandas Series has a `dtype` which explains the type of data stored in the series (e.g., integers, floats, strings, objects, etc.).\n",
        "\n",
        "\n",
        "One of the big advantages of Series objects is how efficient and easy it is to perform operations on them. For example, here is how to find the mean of our series:"
      ]
    },
    {
      "cell_type": "code",
      "metadata": {
        "id": "64m2zSpWuFeA",
        "colab": {
          "base_uri": "https://localhost:8080/"
        },
        "outputId": "8feb01a2-b55f-4e16-8f0a-3baa8225d145"
      },
      "source": [
        "# Mean of our series \n",
        "mean_series = s.mean()\n",
        "print(f\"The mean of our series is {mean_series:.2f}.\")"
      ],
      "execution_count": 49,
      "outputs": [
        {
          "output_type": "stream",
          "text": [
            "The mean of our series is 3.71.\n"
          ],
          "name": "stdout"
        }
      ]
    },
    {
      "cell_type": "markdown",
      "metadata": {
        "id": "BfydpQ9nusEh"
      },
      "source": [
        "We can also slice our series using the index, like so: "
      ]
    },
    {
      "cell_type": "code",
      "metadata": {
        "id": "tLIETL9pu0u8",
        "colab": {
          "base_uri": "https://localhost:8080/",
          "height": 68
        },
        "outputId": "87cc1bd0-8c3c-45aa-cd0f-0bb280d9bb6a"
      },
      "source": [
        "# Get only the first 2 values in our series\n",
        "sliced_series = s[:2]\n",
        "display_series(sliced_series)"
      ],
      "execution_count": 50,
      "outputs": [
        {
          "output_type": "display_data",
          "data": {
            "text/plain": [
              "0    0\n",
              "1    1\n",
              "dtype: int64"
            ]
          },
          "metadata": {
            "tags": []
          }
        }
      ]
    },
    {
      "cell_type": "markdown",
      "metadata": {
        "id": "AwiuTfsMvJRW"
      },
      "source": [
        "> *Note:* When the index is a numeric value, like in this example, slicing is the same as slicing a regular Python list. \n",
        "\n",
        "Different from normal list slicing, it's very easy to slice by a condition. For example, here is how to return the data points in our series that have a value greater than the median value of the series: "
      ]
    },
    {
      "cell_type": "code",
      "metadata": {
        "id": "z8tVdk2jvIb6",
        "colab": {
          "base_uri": "https://localhost:8080/",
          "height": 102
        },
        "outputId": "fdf76e63-81c0-49a1-c08b-fa3475b8e8c3"
      },
      "source": [
        "print(f\"The median of our series is {s.median():.2f}.\")\n",
        "\n",
        "# Get only the values greater than the median in our series\n",
        "sliced_series = s[ s > s.median() ]\n",
        "display_series(sliced_series)"
      ],
      "execution_count": 51,
      "outputs": [
        {
          "output_type": "stream",
          "text": [
            "The median of our series is 3.00.\n"
          ],
          "name": "stdout"
        },
        {
          "output_type": "display_data",
          "data": {
            "text/plain": [
              "4     4\n",
              "5     4\n",
              "6    12\n",
              "dtype: int64"
            ]
          },
          "metadata": {
            "tags": []
          }
        }
      ]
    },
    {
      "cell_type": "markdown",
      "metadata": {
        "id": "MWXY-JkoyIC4"
      },
      "source": [
        "If slicing and efficient operations weren't enough to sell you on the Pandas `Series` data structure, it's also possible to set values, just like you would with normal Python lists. However, there are a number of cool value setting tricks that a Pandas Series can do that can be done by a Python list. For example, we can increase every value in the series by 2 like this: "
      ]
    },
    {
      "cell_type": "code",
      "metadata": {
        "id": "ljx-ULp4zAya",
        "colab": {
          "base_uri": "https://localhost:8080/",
          "height": 340
        },
        "outputId": "b681e585-884a-4531-f945-36c2a691d38f"
      },
      "source": [
        "print('Original series: ')\n",
        "display_series(s)\n",
        "print('\\nAdd 2 to every value in our series: ')\n",
        "add2_series = s + 2\n",
        "display_series(add2_series)"
      ],
      "execution_count": 52,
      "outputs": [
        {
          "output_type": "stream",
          "text": [
            "Original series: \n"
          ],
          "name": "stdout"
        },
        {
          "output_type": "display_data",
          "data": {
            "text/plain": [
              "0     0\n",
              "1     1\n",
              "2     2\n",
              "3     3\n",
              "4     4\n",
              "5     4\n",
              "6    12\n",
              "dtype: int64"
            ]
          },
          "metadata": {
            "tags": []
          }
        },
        {
          "output_type": "stream",
          "text": [
            "\n",
            "Add 2 to every value in our series: \n"
          ],
          "name": "stdout"
        },
        {
          "output_type": "display_data",
          "data": {
            "text/plain": [
              "0     2\n",
              "1     3\n",
              "2     4\n",
              "3     5\n",
              "4     6\n",
              "5     6\n",
              "6    14\n",
              "dtype: int64"
            ]
          },
          "metadata": {
            "tags": []
          }
        }
      ]
    },
    {
      "cell_type": "markdown",
      "metadata": {
        "id": "7mmcV6anzlPh"
      },
      "source": [
        "For comparison, here is the code needed to do the same operation on a normal Python list:   "
      ]
    },
    {
      "cell_type": "code",
      "metadata": {
        "id": "LHtVjincz1m6",
        "colab": {
          "base_uri": "https://localhost:8080/"
        },
        "outputId": "72de1000-24b7-4539-a4b6-8f813f5e1e02"
      },
      "source": [
        "print(f'Original list: {data}')\n",
        "\n",
        "add2_list = []\n",
        "for num in data:\n",
        "    add2_list.append( num + 2 )\n",
        "print(f'\\nAdd 2 to every value in our list: {add2_list}')"
      ],
      "execution_count": 53,
      "outputs": [
        {
          "output_type": "stream",
          "text": [
            "Original list: [0, 1, 2, 3, 4, 4, 12]\n",
            "\n",
            "Add 2 to every value in our list: [2, 3, 4, 5, 6, 6, 14]\n"
          ],
          "name": "stdout"
        }
      ]
    },
    {
      "cell_type": "markdown",
      "metadata": {
        "id": "k0XHuVxIikll"
      },
      "source": [
        "### DataFrame?\n",
        "A `DataFrame` is a 2-dimensional labeled data structure with columns of potentially different types. You can think of it like a spreadsheet (e.g., Google Sheets or Microsoft Excel) or SQL table, or a dict of Series objects. It is generally the most commonly used Pandas object. Like Series, DataFrame accepts many different kinds of input:\n",
        "- Dict of 1D ndarrays, lists, dicts, or Series\n",
        "- 2-D numpy.ndarray\n",
        "- Structured or record ndarray\n",
        "- A Series\n",
        "- Another DataFrame.\n",
        "\n",
        "Let's assume we want to make a DataFrame containing our two series objects, `s` (the original) and `add2_series` (added 2 to every value in the original). The basic method to create a DataFrame would be to call: "
      ]
    },
    {
      "cell_type": "code",
      "metadata": {
        "id": "ECYo39e3ihqb",
        "colab": {
          "base_uri": "https://localhost:8080/",
          "height": 266
        },
        "outputId": "d010c34e-18e3-47cb-8b4b-59302bfacc8a"
      },
      "source": [
        "data_dict = {\n",
        "    \"original\": s,\n",
        "    \"add2\": add2_series,\n",
        "}\n",
        "df = pd.DataFrame(data_dict)\n",
        "display_df(df)"
      ],
      "execution_count": 54,
      "outputs": [
        {
          "output_type": "display_data",
          "data": {
            "text/html": [
              "<table border=\"1\" class=\"dataframe\">\n",
              "  <thead>\n",
              "    <tr style=\"text-align: right;\">\n",
              "      <th></th>\n",
              "      <th>original</th>\n",
              "      <th>add2</th>\n",
              "    </tr>\n",
              "  </thead>\n",
              "  <tbody>\n",
              "    <tr>\n",
              "      <th>0</th>\n",
              "      <td>0</td>\n",
              "      <td>2</td>\n",
              "    </tr>\n",
              "    <tr>\n",
              "      <th>1</th>\n",
              "      <td>1</td>\n",
              "      <td>3</td>\n",
              "    </tr>\n",
              "    <tr>\n",
              "      <th>2</th>\n",
              "      <td>2</td>\n",
              "      <td>4</td>\n",
              "    </tr>\n",
              "    <tr>\n",
              "      <th>3</th>\n",
              "      <td>3</td>\n",
              "      <td>5</td>\n",
              "    </tr>\n",
              "    <tr>\n",
              "      <th>4</th>\n",
              "      <td>4</td>\n",
              "      <td>6</td>\n",
              "    </tr>\n",
              "    <tr>\n",
              "      <th>5</th>\n",
              "      <td>4</td>\n",
              "      <td>6</td>\n",
              "    </tr>\n",
              "    <tr>\n",
              "      <th>6</th>\n",
              "      <td>12</td>\n",
              "      <td>14</td>\n",
              "    </tr>\n",
              "  </tbody>\n",
              "</table>"
            ],
            "text/plain": [
              "<IPython.core.display.HTML object>"
            ]
          },
          "metadata": {
            "tags": []
          }
        }
      ]
    },
    {
      "cell_type": "markdown",
      "metadata": {
        "id": "PjEkStQj2KZI"
      },
      "source": [
        "As you might have suspected, the DataFrame data structure comes with all the awesome tricks of the Series, but adds even more great things on top. It's the most convenient data structure to handle manipulating tabular data (i.e., data you'd see in a spreadsheet). I'd go so far to say that the Pandas DataFrame is one of the main reasons Python is the preferred coding language for industry data scientists.  \n",
        "\n",
        "Back to our example, we can see that we have an index (left-most column) and two named columns (\"original\" and \"add2\"). We can access the index and columns by calling:"
      ]
    },
    {
      "cell_type": "code",
      "metadata": {
        "id": "po-B99Ic35NO",
        "colab": {
          "base_uri": "https://localhost:8080/"
        },
        "outputId": "6b062387-0c49-4dda-d2a0-4ac4d0bdd7a2"
      },
      "source": [
        "# Access the index\n",
        "df.index"
      ],
      "execution_count": 55,
      "outputs": [
        {
          "output_type": "execute_result",
          "data": {
            "text/plain": [
              "RangeIndex(start=0, stop=7, step=1)"
            ]
          },
          "metadata": {
            "tags": []
          },
          "execution_count": 55
        }
      ]
    },
    {
      "cell_type": "code",
      "metadata": {
        "id": "EEBzSYX135EU",
        "colab": {
          "base_uri": "https://localhost:8080/"
        },
        "outputId": "209de1eb-473d-4e63-f255-4f34d923a468"
      },
      "source": [
        "# Access the columns\n",
        "df.columns"
      ],
      "execution_count": 56,
      "outputs": [
        {
          "output_type": "execute_result",
          "data": {
            "text/plain": [
              "Index(['original', 'add2'], dtype='object')"
            ]
          },
          "metadata": {
            "tags": []
          },
          "execution_count": 56
        }
      ]
    },
    {
      "cell_type": "markdown",
      "metadata": {
        "id": "WwPJDFK35H_Q"
      },
      "source": [
        "It's also possible to add a column after creating the DataFrame. Let's add a column called \"times2\" with the original data (`s`) multiplied by 2:"
      ]
    },
    {
      "cell_type": "code",
      "metadata": {
        "id": "tSblfymY5cFy",
        "colab": {
          "base_uri": "https://localhost:8080/",
          "height": 266
        },
        "outputId": "555ac9fb-90cd-4ad6-fdec-5b7407124a78"
      },
      "source": [
        "df['times2'] = s * 2\n",
        "display_df(df)"
      ],
      "execution_count": 57,
      "outputs": [
        {
          "output_type": "display_data",
          "data": {
            "text/html": [
              "<table border=\"1\" class=\"dataframe\">\n",
              "  <thead>\n",
              "    <tr style=\"text-align: right;\">\n",
              "      <th></th>\n",
              "      <th>original</th>\n",
              "      <th>add2</th>\n",
              "      <th>times2</th>\n",
              "    </tr>\n",
              "  </thead>\n",
              "  <tbody>\n",
              "    <tr>\n",
              "      <th>0</th>\n",
              "      <td>0</td>\n",
              "      <td>2</td>\n",
              "      <td>0</td>\n",
              "    </tr>\n",
              "    <tr>\n",
              "      <th>1</th>\n",
              "      <td>1</td>\n",
              "      <td>3</td>\n",
              "      <td>2</td>\n",
              "    </tr>\n",
              "    <tr>\n",
              "      <th>2</th>\n",
              "      <td>2</td>\n",
              "      <td>4</td>\n",
              "      <td>4</td>\n",
              "    </tr>\n",
              "    <tr>\n",
              "      <th>3</th>\n",
              "      <td>3</td>\n",
              "      <td>5</td>\n",
              "      <td>6</td>\n",
              "    </tr>\n",
              "    <tr>\n",
              "      <th>4</th>\n",
              "      <td>4</td>\n",
              "      <td>6</td>\n",
              "      <td>8</td>\n",
              "    </tr>\n",
              "    <tr>\n",
              "      <th>5</th>\n",
              "      <td>4</td>\n",
              "      <td>6</td>\n",
              "      <td>8</td>\n",
              "    </tr>\n",
              "    <tr>\n",
              "      <th>6</th>\n",
              "      <td>12</td>\n",
              "      <td>14</td>\n",
              "      <td>24</td>\n",
              "    </tr>\n",
              "  </tbody>\n",
              "</table>"
            ],
            "text/plain": [
              "<IPython.core.display.HTML object>"
            ]
          },
          "metadata": {
            "tags": []
          }
        }
      ]
    },
    {
      "cell_type": "markdown",
      "metadata": {
        "id": "FztuibRq47gz"
      },
      "source": [
        "As we can see, the times2 column contains the original data multiplied by 2. \n",
        "\n",
        "You can treat a DataFrame like a dict of like-indexed Series objects. Getting, setting, and deleting columns works with the same syntax as the analogous dict operations:\n",
        "\n",
        "Here's a basic example of getting / selecting data from specific columns:"
      ]
    },
    {
      "cell_type": "code",
      "metadata": {
        "id": "YTf2CQWx6FfM",
        "colab": {
          "base_uri": "https://localhost:8080/",
          "height": 266
        },
        "outputId": "c61f6d47-9ee9-4f14-96d8-08d250a3e2c8"
      },
      "source": [
        "df[['original', 'times2']]"
      ],
      "execution_count": 58,
      "outputs": [
        {
          "output_type": "execute_result",
          "data": {
            "text/html": [
              "<div>\n",
              "<style scoped>\n",
              "    .dataframe tbody tr th:only-of-type {\n",
              "        vertical-align: middle;\n",
              "    }\n",
              "\n",
              "    .dataframe tbody tr th {\n",
              "        vertical-align: top;\n",
              "    }\n",
              "\n",
              "    .dataframe thead th {\n",
              "        text-align: right;\n",
              "    }\n",
              "</style>\n",
              "<table border=\"1\" class=\"dataframe\">\n",
              "  <thead>\n",
              "    <tr style=\"text-align: right;\">\n",
              "      <th></th>\n",
              "      <th>original</th>\n",
              "      <th>times2</th>\n",
              "    </tr>\n",
              "  </thead>\n",
              "  <tbody>\n",
              "    <tr>\n",
              "      <th>0</th>\n",
              "      <td>0</td>\n",
              "      <td>0</td>\n",
              "    </tr>\n",
              "    <tr>\n",
              "      <th>1</th>\n",
              "      <td>1</td>\n",
              "      <td>2</td>\n",
              "    </tr>\n",
              "    <tr>\n",
              "      <th>2</th>\n",
              "      <td>2</td>\n",
              "      <td>4</td>\n",
              "    </tr>\n",
              "    <tr>\n",
              "      <th>3</th>\n",
              "      <td>3</td>\n",
              "      <td>6</td>\n",
              "    </tr>\n",
              "    <tr>\n",
              "      <th>4</th>\n",
              "      <td>4</td>\n",
              "      <td>8</td>\n",
              "    </tr>\n",
              "    <tr>\n",
              "      <th>5</th>\n",
              "      <td>4</td>\n",
              "      <td>8</td>\n",
              "    </tr>\n",
              "    <tr>\n",
              "      <th>6</th>\n",
              "      <td>12</td>\n",
              "      <td>24</td>\n",
              "    </tr>\n",
              "  </tbody>\n",
              "</table>\n",
              "</div>"
            ],
            "text/plain": [
              "   original  times2\n",
              "0         0       0\n",
              "1         1       2\n",
              "2         2       4\n",
              "3         3       6\n",
              "4         4       8\n",
              "5         4       8\n",
              "6        12      24"
            ]
          },
          "metadata": {
            "tags": []
          },
          "execution_count": 58
        }
      ]
    },
    {
      "cell_type": "markdown",
      "metadata": {
        "id": "IZEoUjj-6ywI"
      },
      "source": [
        "Or accessing specific values: "
      ]
    },
    {
      "cell_type": "code",
      "metadata": {
        "id": "xOxWtYBr6ycV",
        "colab": {
          "base_uri": "https://localhost:8080/",
          "height": 204
        },
        "outputId": "b63ec609-d20d-4b0a-d755-5e2aa5c81e27"
      },
      "source": [
        "df.loc[df['add2'] > df['original'].median(), :]"
      ],
      "execution_count": 59,
      "outputs": [
        {
          "output_type": "execute_result",
          "data": {
            "text/html": [
              "<div>\n",
              "<style scoped>\n",
              "    .dataframe tbody tr th:only-of-type {\n",
              "        vertical-align: middle;\n",
              "    }\n",
              "\n",
              "    .dataframe tbody tr th {\n",
              "        vertical-align: top;\n",
              "    }\n",
              "\n",
              "    .dataframe thead th {\n",
              "        text-align: right;\n",
              "    }\n",
              "</style>\n",
              "<table border=\"1\" class=\"dataframe\">\n",
              "  <thead>\n",
              "    <tr style=\"text-align: right;\">\n",
              "      <th></th>\n",
              "      <th>original</th>\n",
              "      <th>add2</th>\n",
              "      <th>times2</th>\n",
              "    </tr>\n",
              "  </thead>\n",
              "  <tbody>\n",
              "    <tr>\n",
              "      <th>2</th>\n",
              "      <td>2</td>\n",
              "      <td>4</td>\n",
              "      <td>4</td>\n",
              "    </tr>\n",
              "    <tr>\n",
              "      <th>3</th>\n",
              "      <td>3</td>\n",
              "      <td>5</td>\n",
              "      <td>6</td>\n",
              "    </tr>\n",
              "    <tr>\n",
              "      <th>4</th>\n",
              "      <td>4</td>\n",
              "      <td>6</td>\n",
              "      <td>8</td>\n",
              "    </tr>\n",
              "    <tr>\n",
              "      <th>5</th>\n",
              "      <td>4</td>\n",
              "      <td>6</td>\n",
              "      <td>8</td>\n",
              "    </tr>\n",
              "    <tr>\n",
              "      <th>6</th>\n",
              "      <td>12</td>\n",
              "      <td>14</td>\n",
              "      <td>24</td>\n",
              "    </tr>\n",
              "  </tbody>\n",
              "</table>\n",
              "</div>"
            ],
            "text/plain": [
              "   original  add2  times2\n",
              "2         2     4       4\n",
              "3         3     5       6\n",
              "4         4     6       8\n",
              "5         4     6       8\n",
              "6        12    14      24"
            ]
          },
          "metadata": {
            "tags": []
          },
          "execution_count": 59
        }
      ]
    },
    {
      "cell_type": "markdown",
      "metadata": {
        "id": "YMqaniaz8GOj"
      },
      "source": [
        "Here we selected the rows that have an \"add2\" value greater than the median of the \"original\" column. \n",
        "\n",
        "In summary the basics of getting / indexing a DataFrame are as follow:\n",
        "\n",
        "| Operation                                          \t| Syntax                         \t| Returns   \t|\n",
        "|----------------------------------------------------\t|--------------------------------\t|-----------\t|\n",
        "| Select column                                      \t| df[col]                        \t| Series    \t|\n",
        "| Select row by label                                \t| df.loc[label]                  \t| Series    \t|\n",
        "| Select row by integer location                     \t| df.iloc[loc]                   \t| Series    \t|\n",
        "| Select rows by a condition and a subset of columns \t| df.loc[ condition, [columns] ] \t| DataFrame \t|\n",
        "| Slice rows                                         \t| df[5:10]                       \t| DataFrame \t|\n",
        "| Select rows by boolean vector                      \t| df[bool_vec]                   \t| DataFrame \t|"
      ]
    },
    {
      "cell_type": "markdown",
      "metadata": {
        "id": "H3AadGh5SZ7p"
      },
      "source": [
        "### Other useful DataFrame operations\n",
        "\n",
        "In addition to the above, we've included several common operations for the Pandas DataFrame data structure. They include loading external datasets into a Pandas DataFrame, different ways to view our data, and convenient DataFrame operations to know about (including plotting). "
      ]
    },
    {
      "cell_type": "code",
      "metadata": {
        "id": "doGkJiHeSfNG",
        "colab": {
          "base_uri": "https://localhost:8080/",
          "height": 204
        },
        "outputId": "f3bb8c3d-20a4-4e3c-910e-c7282f2a078d"
      },
      "source": [
        "# Loading an external dataset into a DataFrame\n",
        "data_url = 'https://raw.githubusercontent.com/krmiddlebrook/intro_to_deep_learning/master/datasets/world-happiness/2019.csv'\n",
        "df = pd.read_csv(data_url)\n",
        "\n",
        "# Use .head() to get the first 5 rows\n",
        "df.head(n=5)"
      ],
      "execution_count": 60,
      "outputs": [
        {
          "output_type": "execute_result",
          "data": {
            "text/html": [
              "<div>\n",
              "<style scoped>\n",
              "    .dataframe tbody tr th:only-of-type {\n",
              "        vertical-align: middle;\n",
              "    }\n",
              "\n",
              "    .dataframe tbody tr th {\n",
              "        vertical-align: top;\n",
              "    }\n",
              "\n",
              "    .dataframe thead th {\n",
              "        text-align: right;\n",
              "    }\n",
              "</style>\n",
              "<table border=\"1\" class=\"dataframe\">\n",
              "  <thead>\n",
              "    <tr style=\"text-align: right;\">\n",
              "      <th></th>\n",
              "      <th>Overall rank</th>\n",
              "      <th>Country or region</th>\n",
              "      <th>Score</th>\n",
              "      <th>GDP per capita</th>\n",
              "      <th>Social support</th>\n",
              "      <th>Healthy life expectancy</th>\n",
              "      <th>Freedom to make life choices</th>\n",
              "      <th>Generosity</th>\n",
              "      <th>Perceptions of corruption</th>\n",
              "    </tr>\n",
              "  </thead>\n",
              "  <tbody>\n",
              "    <tr>\n",
              "      <th>0</th>\n",
              "      <td>1</td>\n",
              "      <td>Finland</td>\n",
              "      <td>7.769</td>\n",
              "      <td>1.340</td>\n",
              "      <td>1.587</td>\n",
              "      <td>0.986</td>\n",
              "      <td>0.596</td>\n",
              "      <td>0.153</td>\n",
              "      <td>0.393</td>\n",
              "    </tr>\n",
              "    <tr>\n",
              "      <th>1</th>\n",
              "      <td>2</td>\n",
              "      <td>Denmark</td>\n",
              "      <td>7.600</td>\n",
              "      <td>1.383</td>\n",
              "      <td>1.573</td>\n",
              "      <td>0.996</td>\n",
              "      <td>0.592</td>\n",
              "      <td>0.252</td>\n",
              "      <td>0.410</td>\n",
              "    </tr>\n",
              "    <tr>\n",
              "      <th>2</th>\n",
              "      <td>3</td>\n",
              "      <td>Norway</td>\n",
              "      <td>7.554</td>\n",
              "      <td>1.488</td>\n",
              "      <td>1.582</td>\n",
              "      <td>1.028</td>\n",
              "      <td>0.603</td>\n",
              "      <td>0.271</td>\n",
              "      <td>0.341</td>\n",
              "    </tr>\n",
              "    <tr>\n",
              "      <th>3</th>\n",
              "      <td>4</td>\n",
              "      <td>Iceland</td>\n",
              "      <td>7.494</td>\n",
              "      <td>1.380</td>\n",
              "      <td>1.624</td>\n",
              "      <td>1.026</td>\n",
              "      <td>0.591</td>\n",
              "      <td>0.354</td>\n",
              "      <td>0.118</td>\n",
              "    </tr>\n",
              "    <tr>\n",
              "      <th>4</th>\n",
              "      <td>5</td>\n",
              "      <td>Netherlands</td>\n",
              "      <td>7.488</td>\n",
              "      <td>1.396</td>\n",
              "      <td>1.522</td>\n",
              "      <td>0.999</td>\n",
              "      <td>0.557</td>\n",
              "      <td>0.322</td>\n",
              "      <td>0.298</td>\n",
              "    </tr>\n",
              "  </tbody>\n",
              "</table>\n",
              "</div>"
            ],
            "text/plain": [
              "   Overall rank Country or region  ...  Generosity  Perceptions of corruption\n",
              "0             1           Finland  ...       0.153                      0.393\n",
              "1             2           Denmark  ...       0.252                      0.410\n",
              "2             3            Norway  ...       0.271                      0.341\n",
              "3             4           Iceland  ...       0.354                      0.118\n",
              "4             5       Netherlands  ...       0.322                      0.298\n",
              "\n",
              "[5 rows x 9 columns]"
            ]
          },
          "metadata": {
            "tags": []
          },
          "execution_count": 60
        }
      ]
    },
    {
      "cell_type": "code",
      "metadata": {
        "id": "pDv_B634TVQD",
        "colab": {
          "base_uri": "https://localhost:8080/"
        },
        "outputId": "0ab16ec1-44fb-4e6e-be3c-d460ffd68348"
      },
      "source": [
        "# View the shape of a DataFrame\n",
        "df.shape"
      ],
      "execution_count": 61,
      "outputs": [
        {
          "output_type": "execute_result",
          "data": {
            "text/plain": [
              "(156, 9)"
            ]
          },
          "metadata": {
            "tags": []
          },
          "execution_count": 61
        }
      ]
    },
    {
      "cell_type": "code",
      "metadata": {
        "id": "MbBzOOk5S5Rn",
        "colab": {
          "base_uri": "https://localhost:8080/",
          "height": 235
        },
        "outputId": "db9c6ebd-270a-429a-b3c5-276c973bbbfd"
      },
      "source": [
        "# Selecting specific rows\n",
        "df.loc[0:5, :]"
      ],
      "execution_count": 62,
      "outputs": [
        {
          "output_type": "execute_result",
          "data": {
            "text/html": [
              "<div>\n",
              "<style scoped>\n",
              "    .dataframe tbody tr th:only-of-type {\n",
              "        vertical-align: middle;\n",
              "    }\n",
              "\n",
              "    .dataframe tbody tr th {\n",
              "        vertical-align: top;\n",
              "    }\n",
              "\n",
              "    .dataframe thead th {\n",
              "        text-align: right;\n",
              "    }\n",
              "</style>\n",
              "<table border=\"1\" class=\"dataframe\">\n",
              "  <thead>\n",
              "    <tr style=\"text-align: right;\">\n",
              "      <th></th>\n",
              "      <th>Overall rank</th>\n",
              "      <th>Country or region</th>\n",
              "      <th>Score</th>\n",
              "      <th>GDP per capita</th>\n",
              "      <th>Social support</th>\n",
              "      <th>Healthy life expectancy</th>\n",
              "      <th>Freedom to make life choices</th>\n",
              "      <th>Generosity</th>\n",
              "      <th>Perceptions of corruption</th>\n",
              "    </tr>\n",
              "  </thead>\n",
              "  <tbody>\n",
              "    <tr>\n",
              "      <th>0</th>\n",
              "      <td>1</td>\n",
              "      <td>Finland</td>\n",
              "      <td>7.769</td>\n",
              "      <td>1.340</td>\n",
              "      <td>1.587</td>\n",
              "      <td>0.986</td>\n",
              "      <td>0.596</td>\n",
              "      <td>0.153</td>\n",
              "      <td>0.393</td>\n",
              "    </tr>\n",
              "    <tr>\n",
              "      <th>1</th>\n",
              "      <td>2</td>\n",
              "      <td>Denmark</td>\n",
              "      <td>7.600</td>\n",
              "      <td>1.383</td>\n",
              "      <td>1.573</td>\n",
              "      <td>0.996</td>\n",
              "      <td>0.592</td>\n",
              "      <td>0.252</td>\n",
              "      <td>0.410</td>\n",
              "    </tr>\n",
              "    <tr>\n",
              "      <th>2</th>\n",
              "      <td>3</td>\n",
              "      <td>Norway</td>\n",
              "      <td>7.554</td>\n",
              "      <td>1.488</td>\n",
              "      <td>1.582</td>\n",
              "      <td>1.028</td>\n",
              "      <td>0.603</td>\n",
              "      <td>0.271</td>\n",
              "      <td>0.341</td>\n",
              "    </tr>\n",
              "    <tr>\n",
              "      <th>3</th>\n",
              "      <td>4</td>\n",
              "      <td>Iceland</td>\n",
              "      <td>7.494</td>\n",
              "      <td>1.380</td>\n",
              "      <td>1.624</td>\n",
              "      <td>1.026</td>\n",
              "      <td>0.591</td>\n",
              "      <td>0.354</td>\n",
              "      <td>0.118</td>\n",
              "    </tr>\n",
              "    <tr>\n",
              "      <th>4</th>\n",
              "      <td>5</td>\n",
              "      <td>Netherlands</td>\n",
              "      <td>7.488</td>\n",
              "      <td>1.396</td>\n",
              "      <td>1.522</td>\n",
              "      <td>0.999</td>\n",
              "      <td>0.557</td>\n",
              "      <td>0.322</td>\n",
              "      <td>0.298</td>\n",
              "    </tr>\n",
              "    <tr>\n",
              "      <th>5</th>\n",
              "      <td>6</td>\n",
              "      <td>Switzerland</td>\n",
              "      <td>7.480</td>\n",
              "      <td>1.452</td>\n",
              "      <td>1.526</td>\n",
              "      <td>1.052</td>\n",
              "      <td>0.572</td>\n",
              "      <td>0.263</td>\n",
              "      <td>0.343</td>\n",
              "    </tr>\n",
              "  </tbody>\n",
              "</table>\n",
              "</div>"
            ],
            "text/plain": [
              "   Overall rank Country or region  ...  Generosity  Perceptions of corruption\n",
              "0             1           Finland  ...       0.153                      0.393\n",
              "1             2           Denmark  ...       0.252                      0.410\n",
              "2             3            Norway  ...       0.271                      0.341\n",
              "3             4           Iceland  ...       0.354                      0.118\n",
              "4             5       Netherlands  ...       0.322                      0.298\n",
              "5             6       Switzerland  ...       0.263                      0.343\n",
              "\n",
              "[6 rows x 9 columns]"
            ]
          },
          "metadata": {
            "tags": []
          },
          "execution_count": 62
        }
      ]
    },
    {
      "cell_type": "code",
      "metadata": {
        "id": "e3YNd4iMTCqX",
        "colab": {
          "base_uri": "https://localhost:8080/"
        },
        "outputId": "2409a81d-e4af-4695-98b5-65c327e2dd0e"
      },
      "source": [
        "# Count the number of unique values in a row\n",
        "df.loc[:, 'Country or region'].nunique()"
      ],
      "execution_count": 63,
      "outputs": [
        {
          "output_type": "execute_result",
          "data": {
            "text/plain": [
              "156"
            ]
          },
          "metadata": {
            "tags": []
          },
          "execution_count": 63
        }
      ]
    },
    {
      "cell_type": "code",
      "metadata": {
        "id": "6jCZVQVjTSSt",
        "colab": {
          "base_uri": "https://localhost:8080/"
        },
        "outputId": "e172d9f9-b3dc-48cd-a6c4-a23de0a72814"
      },
      "source": [
        "# counting the number of rows corresponding to each unique value in a column\n",
        "df.loc[:, 'Score'].value_counts()"
      ],
      "execution_count": 64,
      "outputs": [
        {
          "output_type": "execute_result",
          "data": {
            "text/plain": [
              "5.208    2\n",
              "5.467    1\n",
              "7.139    1\n",
              "4.944    1\n",
              "4.350    1\n",
              "        ..\n",
              "6.028    1\n",
              "5.274    1\n",
              "6.825    1\n",
              "6.300    1\n",
              "6.375    1\n",
              "Name: Score, Length: 155, dtype: int64"
            ]
          },
          "metadata": {
            "tags": []
          },
          "execution_count": 64
        }
      ]
    },
    {
      "cell_type": "code",
      "metadata": {
        "id": "RcMEvlumTjB0",
        "colab": {
          "base_uri": "https://localhost:8080/",
          "height": 282
        },
        "outputId": "7ef5f630-74e5-470d-8281-686130537b55"
      },
      "source": [
        "# ploting the distribution of values in a column\n",
        "df.loc[:, 'Freedom to make life choices'].plot(kind='hist', bins=30)"
      ],
      "execution_count": 65,
      "outputs": [
        {
          "output_type": "execute_result",
          "data": {
            "text/plain": [
              "<matplotlib.axes._subplots.AxesSubplot at 0x7f1fe9debb90>"
            ]
          },
          "metadata": {
            "tags": []
          },
          "execution_count": 65
        },
        {
          "output_type": "display_data",
          "data": {
            "image/png": "[encoded data removed]",
            "text/plain": [
              "<Figure size 432x288 with 1 Axes>"
            ]
          },
          "metadata": {
            "tags": [],
            "needs_background": "light"
          }
        }
      ]
    },
    {
      "cell_type": "code",
      "metadata": {
        "id": "YxJpXapdT2th",
        "colab": {
          "base_uri": "https://localhost:8080/",
          "height": 300
        },
        "outputId": "3e907406-3cd0-4f0b-c05b-55af94e068a2"
      },
      "source": [
        "# ploting the distribution of values in a two columns\n",
        "df.loc[:, ['Score', 'Freedom to make life choices']].plot(kind='scatter', x='Freedom to make life choices', y='Score')"
      ],
      "execution_count": 66,
      "outputs": [
        {
          "output_type": "execute_result",
          "data": {
            "text/plain": [
              "<matplotlib.axes._subplots.AxesSubplot at 0x7f1feaa7b810>"
            ]
          },
          "metadata": {
            "tags": []
          },
          "execution_count": 66
        },
        {
          "output_type": "display_data",
          "data": {
            "image/png": "[encoded data removed]",
            "text/plain": [
              "<Figure size 432x288 with 1 Axes>"
            ]
          },
          "metadata": {
            "tags": [],
            "needs_background": "light"
          }
        }
      ]
    },
    {
      "cell_type": "code",
      "metadata": {
        "id": "6O0JrKSDVIDu",
        "colab": {
          "base_uri": "https://localhost:8080/"
        },
        "outputId": "9980ae67-fe6c-43df-c542-33dabaa2ffd0"
      },
      "source": [
        "# combining two DataFrames\n",
        "combined = pd.concat((df, df), axis=1) # column-wise concatenation\n",
        "print('column-wise concatenation', combined.shape)\n",
        "\n",
        "combined = pd.concat((df, df), axis=0) # row-wise cocatenation\n",
        "print('row-wise concatenation', combined.shape)"
      ],
      "execution_count": 67,
      "outputs": [
        {
          "output_type": "stream",
          "text": [
            "column-wise concatenation (156, 18)\n",
            "row-wise concatenation (312, 9)\n"
          ],
          "name": "stdout"
        }
      ]
    },
    {
      "cell_type": "code",
      "metadata": {
        "id": "POmvNfIoVfTD",
        "colab": {
          "base_uri": "https://localhost:8080/",
          "height": 204
        },
        "outputId": "0fdb8e71-d970-43c3-abb1-15aae626c495"
      },
      "source": [
        "# Create a new DataFrame column with a default value of \"I'm new\"\n",
        "df['new_col'] = \"I'm new\"\n",
        "df.head()"
      ],
      "execution_count": 68,
      "outputs": [
        {
          "output_type": "execute_result",
          "data": {
            "text/html": [
              "<div>\n",
              "<style scoped>\n",
              "    .dataframe tbody tr th:only-of-type {\n",
              "        vertical-align: middle;\n",
              "    }\n",
              "\n",
              "    .dataframe tbody tr th {\n",
              "        vertical-align: top;\n",
              "    }\n",
              "\n",
              "    .dataframe thead th {\n",
              "        text-align: right;\n",
              "    }\n",
              "</style>\n",
              "<table border=\"1\" class=\"dataframe\">\n",
              "  <thead>\n",
              "    <tr style=\"text-align: right;\">\n",
              "      <th></th>\n",
              "      <th>Overall rank</th>\n",
              "      <th>Country or region</th>\n",
              "      <th>Score</th>\n",
              "      <th>GDP per capita</th>\n",
              "      <th>Social support</th>\n",
              "      <th>Healthy life expectancy</th>\n",
              "      <th>Freedom to make life choices</th>\n",
              "      <th>Generosity</th>\n",
              "      <th>Perceptions of corruption</th>\n",
              "      <th>new_col</th>\n",
              "      <th>new_col2</th>\n",
              "    </tr>\n",
              "  </thead>\n",
              "  <tbody>\n",
              "    <tr>\n",
              "      <th>0</th>\n",
              "      <td>1</td>\n",
              "      <td>Finland</td>\n",
              "      <td>7.769</td>\n",
              "      <td>1.340</td>\n",
              "      <td>1.587</td>\n",
              "      <td>0.986</td>\n",
              "      <td>0.596</td>\n",
              "      <td>0.153</td>\n",
              "      <td>0.393</td>\n",
              "      <td>I'm new</td>\n",
              "      <td>10</td>\n",
              "    </tr>\n",
              "    <tr>\n",
              "      <th>1</th>\n",
              "      <td>2</td>\n",
              "      <td>Denmark</td>\n",
              "      <td>7.600</td>\n",
              "      <td>1.383</td>\n",
              "      <td>1.573</td>\n",
              "      <td>0.996</td>\n",
              "      <td>0.592</td>\n",
              "      <td>0.252</td>\n",
              "      <td>0.410</td>\n",
              "      <td>I'm new</td>\n",
              "      <td>10</td>\n",
              "    </tr>\n",
              "    <tr>\n",
              "      <th>2</th>\n",
              "      <td>3</td>\n",
              "      <td>Norway</td>\n",
              "      <td>7.554</td>\n",
              "      <td>1.488</td>\n",
              "      <td>1.582</td>\n",
              "      <td>1.028</td>\n",
              "      <td>0.603</td>\n",
              "      <td>0.271</td>\n",
              "      <td>0.341</td>\n",
              "      <td>I'm new</td>\n",
              "      <td>10</td>\n",
              "    </tr>\n",
              "    <tr>\n",
              "      <th>3</th>\n",
              "      <td>4</td>\n",
              "      <td>Iceland</td>\n",
              "      <td>7.494</td>\n",
              "      <td>1.380</td>\n",
              "      <td>1.624</td>\n",
              "      <td>1.026</td>\n",
              "      <td>0.591</td>\n",
              "      <td>0.354</td>\n",
              "      <td>0.118</td>\n",
              "      <td>I'm new</td>\n",
              "      <td>10</td>\n",
              "    </tr>\n",
              "    <tr>\n",
              "      <th>4</th>\n",
              "      <td>5</td>\n",
              "      <td>Netherlands</td>\n",
              "      <td>7.488</td>\n",
              "      <td>1.396</td>\n",
              "      <td>1.522</td>\n",
              "      <td>0.999</td>\n",
              "      <td>0.557</td>\n",
              "      <td>0.322</td>\n",
              "      <td>0.298</td>\n",
              "      <td>I'm new</td>\n",
              "      <td>10</td>\n",
              "    </tr>\n",
              "  </tbody>\n",
              "</table>\n",
              "</div>"
            ],
            "text/plain": [
              "   Overall rank Country or region  ...  new_col  new_col2\n",
              "0             1           Finland  ...  I'm new        10\n",
              "1             2           Denmark  ...  I'm new        10\n",
              "2             3            Norway  ...  I'm new        10\n",
              "3             4           Iceland  ...  I'm new        10\n",
              "4             5       Netherlands  ...  I'm new        10\n",
              "\n",
              "[5 rows x 11 columns]"
            ]
          },
          "metadata": {
            "tags": []
          },
          "execution_count": 68
        }
      ]
    },
    {
      "cell_type": "code",
      "metadata": {
        "id": "fvU0JyzqV99D",
        "colab": {
          "base_uri": "https://localhost:8080/",
          "height": 255
        },
        "outputId": "b017a77e-4cfa-4f23-f94b-65d939b44568"
      },
      "source": [
        "# Joining / merging two DataFrames\n",
        "joined = df.merge(combined, how='inner', on='Country or region')\n",
        "print(joined.shape)\n",
        "joined.head()"
      ],
      "execution_count": 69,
      "outputs": [
        {
          "output_type": "stream",
          "text": [
            "(312, 19)\n"
          ],
          "name": "stdout"
        },
        {
          "output_type": "execute_result",
          "data": {
            "text/html": [
              "<div>\n",
              "<style scoped>\n",
              "    .dataframe tbody tr th:only-of-type {\n",
              "        vertical-align: middle;\n",
              "    }\n",
              "\n",
              "    .dataframe tbody tr th {\n",
              "        vertical-align: top;\n",
              "    }\n",
              "\n",
              "    .dataframe thead th {\n",
              "        text-align: right;\n",
              "    }\n",
              "</style>\n",
              "<table border=\"1\" class=\"dataframe\">\n",
              "  <thead>\n",
              "    <tr style=\"text-align: right;\">\n",
              "      <th></th>\n",
              "      <th>Overall rank_x</th>\n",
              "      <th>Country or region</th>\n",
              "      <th>Score_x</th>\n",
              "      <th>GDP per capita_x</th>\n",
              "      <th>Social support_x</th>\n",
              "      <th>Healthy life expectancy_x</th>\n",
              "      <th>Freedom to make life choices_x</th>\n",
              "      <th>Generosity_x</th>\n",
              "      <th>Perceptions of corruption_x</th>\n",
              "      <th>new_col</th>\n",
              "      <th>new_col2</th>\n",
              "      <th>Overall rank_y</th>\n",
              "      <th>Score_y</th>\n",
              "      <th>GDP per capita_y</th>\n",
              "      <th>Social support_y</th>\n",
              "      <th>Healthy life expectancy_y</th>\n",
              "      <th>Freedom to make life choices_y</th>\n",
              "      <th>Generosity_y</th>\n",
              "      <th>Perceptions of corruption_y</th>\n",
              "    </tr>\n",
              "  </thead>\n",
              "  <tbody>\n",
              "    <tr>\n",
              "      <th>0</th>\n",
              "      <td>1</td>\n",
              "      <td>Finland</td>\n",
              "      <td>7.769</td>\n",
              "      <td>1.340</td>\n",
              "      <td>1.587</td>\n",
              "      <td>0.986</td>\n",
              "      <td>0.596</td>\n",
              "      <td>0.153</td>\n",
              "      <td>0.393</td>\n",
              "      <td>I'm new</td>\n",
              "      <td>10</td>\n",
              "      <td>1</td>\n",
              "      <td>7.769</td>\n",
              "      <td>1.340</td>\n",
              "      <td>1.587</td>\n",
              "      <td>0.986</td>\n",
              "      <td>0.596</td>\n",
              "      <td>0.153</td>\n",
              "      <td>0.393</td>\n",
              "    </tr>\n",
              "    <tr>\n",
              "      <th>1</th>\n",
              "      <td>1</td>\n",
              "      <td>Finland</td>\n",
              "      <td>7.769</td>\n",
              "      <td>1.340</td>\n",
              "      <td>1.587</td>\n",
              "      <td>0.986</td>\n",
              "      <td>0.596</td>\n",
              "      <td>0.153</td>\n",
              "      <td>0.393</td>\n",
              "      <td>I'm new</td>\n",
              "      <td>10</td>\n",
              "      <td>1</td>\n",
              "      <td>7.769</td>\n",
              "      <td>1.340</td>\n",
              "      <td>1.587</td>\n",
              "      <td>0.986</td>\n",
              "      <td>0.596</td>\n",
              "      <td>0.153</td>\n",
              "      <td>0.393</td>\n",
              "    </tr>\n",
              "    <tr>\n",
              "      <th>2</th>\n",
              "      <td>2</td>\n",
              "      <td>Denmark</td>\n",
              "      <td>7.600</td>\n",
              "      <td>1.383</td>\n",
              "      <td>1.573</td>\n",
              "      <td>0.996</td>\n",
              "      <td>0.592</td>\n",
              "      <td>0.252</td>\n",
              "      <td>0.410</td>\n",
              "      <td>I'm new</td>\n",
              "      <td>10</td>\n",
              "      <td>2</td>\n",
              "      <td>7.600</td>\n",
              "      <td>1.383</td>\n",
              "      <td>1.573</td>\n",
              "      <td>0.996</td>\n",
              "      <td>0.592</td>\n",
              "      <td>0.252</td>\n",
              "      <td>0.410</td>\n",
              "    </tr>\n",
              "    <tr>\n",
              "      <th>3</th>\n",
              "      <td>2</td>\n",
              "      <td>Denmark</td>\n",
              "      <td>7.600</td>\n",
              "      <td>1.383</td>\n",
              "      <td>1.573</td>\n",
              "      <td>0.996</td>\n",
              "      <td>0.592</td>\n",
              "      <td>0.252</td>\n",
              "      <td>0.410</td>\n",
              "      <td>I'm new</td>\n",
              "      <td>10</td>\n",
              "      <td>2</td>\n",
              "      <td>7.600</td>\n",
              "      <td>1.383</td>\n",
              "      <td>1.573</td>\n",
              "      <td>0.996</td>\n",
              "      <td>0.592</td>\n",
              "      <td>0.252</td>\n",
              "      <td>0.410</td>\n",
              "    </tr>\n",
              "    <tr>\n",
              "      <th>4</th>\n",
              "      <td>3</td>\n",
              "      <td>Norway</td>\n",
              "      <td>7.554</td>\n",
              "      <td>1.488</td>\n",
              "      <td>1.582</td>\n",
              "      <td>1.028</td>\n",
              "      <td>0.603</td>\n",
              "      <td>0.271</td>\n",
              "      <td>0.341</td>\n",
              "      <td>I'm new</td>\n",
              "      <td>10</td>\n",
              "      <td>3</td>\n",
              "      <td>7.554</td>\n",
              "      <td>1.488</td>\n",
              "      <td>1.582</td>\n",
              "      <td>1.028</td>\n",
              "      <td>0.603</td>\n",
              "      <td>0.271</td>\n",
              "      <td>0.341</td>\n",
              "    </tr>\n",
              "  </tbody>\n",
              "</table>\n",
              "</div>"
            ],
            "text/plain": [
              "   Overall rank_x Country or region  ...  Generosity_y  Perceptions of corruption_y\n",
              "0               1           Finland  ...         0.153                        0.393\n",
              "1               1           Finland  ...         0.153                        0.393\n",
              "2               2           Denmark  ...         0.252                        0.410\n",
              "3               2           Denmark  ...         0.252                        0.410\n",
              "4               3            Norway  ...         0.271                        0.341\n",
              "\n",
              "[5 rows x 19 columns]"
            ]
          },
          "metadata": {
            "tags": []
          },
          "execution_count": 69
        }
      ]
    },
    {
      "cell_type": "markdown",
      "metadata": {
        "id": "YRYwHS6z_hLd"
      },
      "source": [
        "As you probably gathered, Pandas is a very popular library for data processing in Python. It's popular `Series` and `DataFrame` data structures enable us to process millions of rows of data efficiently and without causing a headache. \n",
        "\n",
        "To learn more about Pandas checkout their [docs](https://pandas.pydata.org/pandas-docs/stable/getting_started/index.html) and [user guide](https://pandas.pydata.org/pandas-docs/stable/user_guide/dsintro.html#vectorized-operations-and-label-alignment-with-series)!"
      ]
    },
    {
      "cell_type": "code",
      "metadata": {
        "id": "3uz43yCiAfJ-"
      },
      "source": [
        ""
      ],
      "execution_count": 69,
      "outputs": []
    }
  ]
}
